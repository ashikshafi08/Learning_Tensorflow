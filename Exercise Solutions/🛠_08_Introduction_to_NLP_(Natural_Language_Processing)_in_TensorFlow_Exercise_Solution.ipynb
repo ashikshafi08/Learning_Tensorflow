{
  "nbformat": 4,
  "nbformat_minor": 0,
  "metadata": {
    "colab": {
      "name": "🛠 08. Introduction to NLP (Natural Language Processing) in TensorFlow Exercise Solution.ipynb",
      "provenance": [],
      "collapsed_sections": [],
      "include_colab_link": true
    },
    "kernelspec": {
      "name": "python3",
      "display_name": "Python 3"
    },
    "language_info": {
      "name": "python"
    }
  },
  "cells": [
    {
      "cell_type": "markdown",
      "metadata": {
        "id": "view-in-github",
        "colab_type": "text"
      },
      "source": [
        "<a href=\"https://colab.research.google.com/github/ashikshafi08/Learning_Tensorflow/blob/main/Exercise%20Solutions/%F0%9F%9B%A0_08_Introduction_to_NLP_(Natural_Language_Processing)_in_TensorFlow_Exercise_Solution.ipynb\" target=\"_parent\"><img src=\"https://colab.research.google.com/assets/colab-badge.svg\" alt=\"Open In Colab\"/></a>"
      ]
    },
    {
      "cell_type": "markdown",
      "metadata": {
        "id": "nHwk8Cgs6vnj"
      },
      "source": [
        "# 🛠 08. Introduction to NLP (Natural Language Processing) in TensorFlow Exercises\n",
        "\n",
        "1. Rebuild, compile and train `model_1`, `model_2` and `model_5` using the Keras Sequential API instead of the Functional API.\n",
        "2. Retrain the baseline model with 10% of the training data. How does perform compared to the Universal Sentence Encoder model with 10% of the training data?\n",
        "\n",
        "3. Try fine-tuning the TF Hub Universal Sentence Encoder model by setting training=True when instantiating it as a Keras layer\n",
        "\n",
        "```\n",
        "# We can use this encoding layer in place of our text_vectorizer and embedding layer\n",
        "sentence_encoder_layer = hub.KerasLayer(\"https://tfhub.dev/google/universal-sentence-encoder/4\",\n",
        "                                        input_shape=[],\n",
        "                                        dtype=tf.string,\n",
        "                                        trainable=True) # turn training on to fine-tune the TensorFlow Hub model\n",
        "\n",
        "```\n",
        "\n",
        "4. Retrain the best model you've got so far on the whole training set (no validation split). Then use this trained model to make predictions on the test dataset and format the predictions into the same format as the `sample_submission.csv` file from Kaggle (see the Files tab in Colab for what the `sample_submission.csv` file looks like). Once you've done this, [make a submission to the Kaggle competition](https://www.kaggle.com/c/nlp-getting-started/data), how did your model perform?\n",
        "\n",
        "5. Combine the ensemble predictions using the majority vote (mode), how does this perform compare to averaging the prediction probabilities of each model?\n",
        "\n",
        "6. Make a confusion matrix with the best performing model's predictions on the validation set and the validation ground truth labels."
      ]
    },
    {
      "cell_type": "markdown",
      "metadata": {
        "id": "7GRfIvxC610_"
      },
      "source": [
        "## Getting the data "
      ]
    },
    {
      "cell_type": "code",
      "metadata": {
        "id": "zvTvHV8LBroJ"
      },
      "source": [
        "# Importing the needed packages \n",
        "import tensorflow as tf\n",
        "import pandas as pd \n",
        "import matplotlib.pyplot as plt "
      ],
      "execution_count": 1,
      "outputs": []
    },
    {
      "cell_type": "code",
      "metadata": {
        "colab": {
          "base_uri": "https://localhost:8080/"
        },
        "id": "QcOZFdVgBbBW",
        "outputId": "04abfd85-e00b-4b99-d488-1839601ce293"
      },
      "source": [
        "# Downloading the helper function file \n",
        "!wget https://raw.githubusercontent.com/mrdbourke/tensorflow-deep-learning/main/extras/helper_functions.py\n",
        "\n",
        "# Importing series of function for our use \n",
        "from helper_functions import unzip_data, plot_loss_curves, compare_historys\n",
        "\n",
        "# Download data (same as from Kaggle)\n",
        "!wget \"https://storage.googleapis.com/ztm_tf_course/nlp_getting_started.zip\"\n",
        "\n",
        "# Unzip data\n",
        "unzip_data(\"nlp_getting_started.zip\")\n"
      ],
      "execution_count": 2,
      "outputs": [
        {
          "output_type": "stream",
          "text": [
            "--2021-07-16 09:59:03--  https://raw.githubusercontent.com/mrdbourke/tensorflow-deep-learning/main/extras/helper_functions.py\n",
            "Resolving raw.githubusercontent.com (raw.githubusercontent.com)... 185.199.110.133, 185.199.111.133, 185.199.109.133, ...\n",
            "Connecting to raw.githubusercontent.com (raw.githubusercontent.com)|185.199.110.133|:443... connected.\n",
            "HTTP request sent, awaiting response... 200 OK\n",
            "Length: 10246 (10K) [text/plain]\n",
            "Saving to: ‘helper_functions.py’\n",
            "\n",
            "\rhelper_functions.py   0%[                    ]       0  --.-KB/s               \rhelper_functions.py 100%[===================>]  10.01K  --.-KB/s    in 0s      \n",
            "\n",
            "2021-07-16 09:59:03 (108 MB/s) - ‘helper_functions.py’ saved [10246/10246]\n",
            "\n",
            "--2021-07-16 09:59:04--  https://storage.googleapis.com/ztm_tf_course/nlp_getting_started.zip\n",
            "Resolving storage.googleapis.com (storage.googleapis.com)... 172.217.218.128, 142.250.153.128, 173.194.69.128, ...\n",
            "Connecting to storage.googleapis.com (storage.googleapis.com)|172.217.218.128|:443... connected.\n",
            "HTTP request sent, awaiting response... 200 OK\n",
            "Length: 607343 (593K) [application/zip]\n",
            "Saving to: ‘nlp_getting_started.zip’\n",
            "\n",
            "nlp_getting_started 100%[===================>] 593.11K  --.-KB/s    in 0.007s  \n",
            "\n",
            "2021-07-16 09:59:04 (86.5 MB/s) - ‘nlp_getting_started.zip’ saved [607343/607343]\n",
            "\n"
          ],
          "name": "stdout"
        }
      ]
    },
    {
      "cell_type": "code",
      "metadata": {
        "colab": {
          "base_uri": "https://localhost:8080/"
        },
        "id": "hmnaZX2XBy8e",
        "outputId": "3795c103-48e8-4a44-ddad-cdabf150f9da"
      },
      "source": [
        "# Loading in the data \n",
        "train_df = pd.read_csv('train.csv')\n",
        "test_df = pd.read_csv('test.csv')\n",
        "\n",
        "# Shuffling the training dataframe \n",
        "train_df_shuffled = train_df.sample(frac =1 , random_state= 42)\n",
        "\n",
        "# Split our data into training and test sets \n",
        "from sklearn.model_selection import  train_test_split\n",
        "train_sentences , val_sentences , train_labels , val_labels = train_test_split(train_df_shuffled['text'].to_numpy() , \n",
        "                                                                               train_df_shuffled['target'].to_numpy(), \n",
        "                                                                               test_size = 0.1 , \n",
        "                                                                               random_state = 42)\n",
        "\n",
        "# Checking the shapes \n",
        "train_sentences.shape , val_sentences.shape , train_labels.shape , val_labels.shape"
      ],
      "execution_count": 3,
      "outputs": [
        {
          "output_type": "execute_result",
          "data": {
            "text/plain": [
              "((6851,), (762,), (6851,), (762,))"
            ]
          },
          "metadata": {
            "tags": []
          },
          "execution_count": 3
        }
      ]
    },
    {
      "cell_type": "markdown",
      "metadata": {
        "id": "d-J5Z-1JCdHp"
      },
      "source": [
        "Let's convert our text into numbers by\"\n",
        "- Text Vectorization --> Turns our text into tokens\n",
        "- Embedding --> Turns out tokens into a vector "
      ]
    },
    {
      "cell_type": "code",
      "metadata": {
        "id": "0MvOoeVrD_Jq"
      },
      "source": [
        "# Setting up text vectorization \n",
        "from tensorflow.keras.layers.experimental.preprocessing import TextVectorization\n",
        "max_vocab_length = 10000 \n",
        "max_length = 15 \n",
        "\n",
        "text_vectorizer = TextVectorization(max_tokens = max_vocab_length , \n",
        "                                    output_mode = 'int', \n",
        "                                    output_sequence_length = max_length)\n",
        "\n",
        "# Fit the text vectorizer to the training text\n",
        "text_vectorizer.adapt(train_sentences)\n",
        "\n",
        "# Creating a embedding layer \n",
        "from tensorflow.keras import layers \n",
        "\n",
        "embedding = layers.Embedding(input_dim= max_vocab_length , \n",
        "                             output_dim = 128 , \n",
        "                             embeddings_initializer = 'uniform', \n",
        "                             input_length = max_vocab_length)\n"
      ],
      "execution_count": 4,
      "outputs": []
    },
    {
      "cell_type": "markdown",
      "metadata": {
        "id": "LLiaRVuqEkBX"
      },
      "source": [
        "Alright now it's time to jump into exercises! "
      ]
    },
    {
      "cell_type": "markdown",
      "metadata": {
        "id": "cqcNtOX8FHmk"
      },
      "source": [
        "### 1. Rebuild, compile and train `model_1`, `model_2` and `model_5` using the Keras Sequential API instead of the Functional API."
      ]
    },
    {
      "cell_type": "markdown",
      "metadata": {
        "id": "W432ozz2mgLn"
      },
      "source": [
        "**Model_1**"
      ]
    },
    {
      "cell_type": "code",
      "metadata": {
        "colab": {
          "base_uri": "https://localhost:8080/"
        },
        "id": "VQxywED3FJX0",
        "outputId": "5c34a5a7-ef89-42fe-ff74-0685902e782e"
      },
      "source": [
        "# Building the model 1 (A simple Dense model)\n",
        "model_1 = tf.keras.Sequential([\n",
        "    layers.Input(shape = (1, ) , dtype = 'string'), \n",
        "    text_vectorizer , \n",
        "    embedding , \n",
        "    layers.GlobalAveragePooling1D() , \n",
        "    layers.Dense(1, activation = 'sigmoid')\n",
        "    ])\n",
        "    \n",
        "# Compiling the model \n",
        "model_1.compile(loss = tf.keras.losses.BinaryCrossentropy() , \n",
        "                optimizer = tf.keras.optimizers.Adam() , \n",
        "                metrics = ['accuracy'])\n",
        "\n",
        "# Fitting the model \n",
        "model_1_history =  model_1.fit(train_sentences, \n",
        "                              train_labels,\n",
        "                              epochs=5,\n",
        "                              validation_data=(val_sentences, val_labels))"
      ],
      "execution_count": 5,
      "outputs": [
        {
          "output_type": "stream",
          "text": [
            "WARNING:tensorflow:Please add `keras.layers.InputLayer` instead of `keras.Input` to Sequential model. `keras.Input` is intended to be used by Functional model.\n",
            "Epoch 1/5\n",
            "215/215 [==============================] - 3s 9ms/step - loss: 0.6129 - accuracy: 0.6888 - val_loss: 0.5380 - val_accuracy: 0.7585\n",
            "Epoch 2/5\n",
            "215/215 [==============================] - 2s 9ms/step - loss: 0.4431 - accuracy: 0.8178 - val_loss: 0.4697 - val_accuracy: 0.7874\n",
            "Epoch 3/5\n",
            "215/215 [==============================] - 2s 9ms/step - loss: 0.3475 - accuracy: 0.8596 - val_loss: 0.4590 - val_accuracy: 0.7861\n",
            "Epoch 4/5\n",
            "215/215 [==============================] - 2s 9ms/step - loss: 0.2847 - accuracy: 0.8880 - val_loss: 0.4709 - val_accuracy: 0.7927\n",
            "Epoch 5/5\n",
            "215/215 [==============================] - 2s 9ms/step - loss: 0.2383 - accuracy: 0.9101 - val_loss: 0.4783 - val_accuracy: 0.7795\n"
          ],
          "name": "stdout"
        }
      ]
    },
    {
      "cell_type": "markdown",
      "metadata": {
        "id": "zkMPmldXkqIf"
      },
      "source": [
        "**Model_2**"
      ]
    },
    {
      "cell_type": "code",
      "metadata": {
        "colab": {
          "base_uri": "https://localhost:8080/"
        },
        "id": "Qeko8mC4l7ZY",
        "outputId": "45bf1c33-87e0-4534-d8ed-f1cf4ae1e6bc"
      },
      "source": [
        "# Building the model 2 (An LSTM model)\n",
        "model_2 = tf.keras.Sequential([\n",
        "    layers.Input(shape = (1, ) , dtype = 'string'), \n",
        "    text_vectorizer , \n",
        "    embedding , \n",
        "    layers.LSTM(64), \n",
        "    #layers.GlobalAveragePooling1D() , \n",
        "    layers.Dense(1, activation = 'sigmoid')\n",
        "    ])\n",
        "    \n",
        "# Compiling the model \n",
        "model_2.compile(loss = tf.keras.losses.BinaryCrossentropy() , \n",
        "                optimizer = tf.keras.optimizers.Adam() , \n",
        "                metrics = ['accuracy'])\n",
        "\n",
        "# Fitting the model \n",
        "model_2_history =  model_1.fit(train_sentences, \n",
        "                              train_labels,\n",
        "                              epochs=5,\n",
        "                              validation_data=(val_sentences, val_labels))"
      ],
      "execution_count": 6,
      "outputs": [
        {
          "output_type": "stream",
          "text": [
            "WARNING:tensorflow:Please add `keras.layers.InputLayer` instead of `keras.Input` to Sequential model. `keras.Input` is intended to be used by Functional model.\n",
            "Epoch 1/5\n",
            "215/215 [==============================] - 2s 9ms/step - loss: 0.2016 - accuracy: 0.9294 - val_loss: 0.5041 - val_accuracy: 0.7861\n",
            "Epoch 2/5\n",
            "215/215 [==============================] - 2s 9ms/step - loss: 0.1736 - accuracy: 0.9402 - val_loss: 0.5268 - val_accuracy: 0.7861\n",
            "Epoch 3/5\n",
            "215/215 [==============================] - 2s 9ms/step - loss: 0.1495 - accuracy: 0.9480 - val_loss: 0.5566 - val_accuracy: 0.7795\n",
            "Epoch 4/5\n",
            "215/215 [==============================] - 2s 9ms/step - loss: 0.1315 - accuracy: 0.9550 - val_loss: 0.5868 - val_accuracy: 0.7756\n",
            "Epoch 5/5\n",
            "215/215 [==============================] - 2s 9ms/step - loss: 0.1171 - accuracy: 0.9618 - val_loss: 0.6140 - val_accuracy: 0.7743\n"
          ],
          "name": "stdout"
        }
      ]
    },
    {
      "cell_type": "markdown",
      "metadata": {
        "id": "uc6m3A05m4XP"
      },
      "source": [
        "**Model_5** "
      ]
    },
    {
      "cell_type": "code",
      "metadata": {
        "colab": {
          "base_uri": "https://localhost:8080/"
        },
        "id": "DdYJMmm8nFIG",
        "outputId": "83daf8ea-171b-4aee-98d8-f58c3dfc15a5"
      },
      "source": [
        "# Building the model 5 (Conv1D Model)\n",
        "# Building the model 1 (A simple Dense model)\n",
        "model_5 = tf.keras.Sequential([\n",
        "    layers.Input(shape = (1, ) , dtype = 'string'), \n",
        "    text_vectorizer , \n",
        "    embedding , \n",
        "    layers.Conv1D(32 , 5 , activation= 'relu'),\n",
        "    layers.GlobalMaxPool1D() , \n",
        "    layers.Dense(1, activation = 'sigmoid')\n",
        "    ])\n",
        "    \n",
        "# Compiling the model \n",
        "model_5.compile(loss = tf.keras.losses.BinaryCrossentropy() , \n",
        "                optimizer = tf.keras.optimizers.Adam() , \n",
        "                metrics = ['accuracy'])\n",
        "\n",
        "# Fitting the model \n",
        "model_5_history =  model_1.fit(train_sentences, \n",
        "                              train_labels,\n",
        "                              epochs=5,\n",
        "                              validation_data=(val_sentences, val_labels))"
      ],
      "execution_count": 7,
      "outputs": [
        {
          "output_type": "stream",
          "text": [
            "WARNING:tensorflow:Please add `keras.layers.InputLayer` instead of `keras.Input` to Sequential model. `keras.Input` is intended to be used by Functional model.\n",
            "Epoch 1/5\n",
            "215/215 [==============================] - 2s 8ms/step - loss: 0.1049 - accuracy: 0.9644 - val_loss: 0.6500 - val_accuracy: 0.7717\n",
            "Epoch 2/5\n",
            "215/215 [==============================] - 2s 9ms/step - loss: 0.0956 - accuracy: 0.9689 - val_loss: 0.6794 - val_accuracy: 0.7703\n",
            "Epoch 3/5\n",
            "215/215 [==============================] - 2s 8ms/step - loss: 0.0867 - accuracy: 0.9710 - val_loss: 0.7105 - val_accuracy: 0.7690\n",
            "Epoch 4/5\n",
            "215/215 [==============================] - 2s 8ms/step - loss: 0.0805 - accuracy: 0.9726 - val_loss: 0.7373 - val_accuracy: 0.7664\n",
            "Epoch 5/5\n",
            "215/215 [==============================] - 2s 9ms/step - loss: 0.0741 - accuracy: 0.9753 - val_loss: 0.7741 - val_accuracy: 0.7664\n"
          ],
          "name": "stdout"
        }
      ]
    },
    {
      "cell_type": "markdown",
      "metadata": {
        "id": "Y9213rMcna1E"
      },
      "source": [
        "### 2. Retrain the baseline model with 10% of the training data. How does perform compared to the Universal Sentence Encoder model with 10% of the training data?"
      ]
    },
    {
      "cell_type": "code",
      "metadata": {
        "colab": {
          "base_uri": "https://localhost:8080/"
        },
        "id": "DKDgH5wfoLmz",
        "outputId": "c84a8abe-7805-423e-8055-456d89c9f053"
      },
      "source": [
        "# Making a better dataset split (no data leakage)\n",
        "train_10_percent_split = int(0.1 * len(train_sentences)) # Directly taking 10% from our train data\n",
        "print(train_10_percent_split)\n",
        "\n",
        "# Splitting our train data with the actual train_data (no double dipping this time)\n",
        "train_sentences_10_percent = train_sentences[:train_10_percent_split]\n",
        "\n",
        "# Doing the same but with the train labels \n",
        "train_labels_10_percent = train_labels[:train_10_percent_split]\n",
        "len(train_labels_10_percent) , train_labels_10_percent[:5]"
      ],
      "execution_count": 8,
      "outputs": [
        {
          "output_type": "stream",
          "text": [
            "685\n"
          ],
          "name": "stdout"
        },
        {
          "output_type": "execute_result",
          "data": {
            "text/plain": [
              "(685, array([0, 0, 1, 0, 0]))"
            ]
          },
          "metadata": {
            "tags": []
          },
          "execution_count": 8
        }
      ]
    },
    {
      "cell_type": "code",
      "metadata": {
        "colab": {
          "base_uri": "https://localhost:8080/"
        },
        "id": "eB2Jbhkfoa33",
        "outputId": "c8ad7b66-8450-439e-85fe-08636a6af992"
      },
      "source": [
        "# Building a base line model \n",
        "from sklearn.feature_extraction.text import TfidfVectorizer # (turn text into numbers)\n",
        "from sklearn.naive_bayes import MultinomialNB\n",
        "from sklearn.pipeline import Pipeline \n",
        "\n",
        "# Create tokenization and modelling pipeline\n",
        "baseline_model = Pipeline([\n",
        "                  ('tfidf' , TfidfVectorizer()) , # Convert words to numbers using tfidf\n",
        "                  ('clf' , MultinomialNB()), # Model the text \n",
        "                ])\n",
        "\n",
        "# Fit the pipeline to the training data \n",
        "baseline_model.fit(train_sentences_10_percent , train_labels_10_percent)\n",
        "\n",
        "# Evaluating our baseline model \n",
        "baseline_score = baseline_model.score(val_sentences , val_labels)\n",
        "baseline_score"
      ],
      "execution_count": 9,
      "outputs": [
        {
          "output_type": "execute_result",
          "data": {
            "text/plain": [
              "0.7020997375328084"
            ]
          },
          "metadata": {
            "tags": []
          },
          "execution_count": 9
        }
      ]
    },
    {
      "cell_type": "markdown",
      "metadata": {
        "id": "90u-fUWso-E3"
      },
      "source": [
        "Our **Universal Sentence Encoder** model outperformed our **baseline model** with just 10% of the training data. "
      ]
    },
    {
      "cell_type": "markdown",
      "metadata": {
        "id": "ClyFKWq-pXt2"
      },
      "source": [
        "### 3. Try fine-tuning the TF Hub Universal Sentence Encoder model by setting training=True when instantiating it as a Keras layer"
      ]
    },
    {
      "cell_type": "code",
      "metadata": {
        "id": "pkXu2e35DKBd"
      },
      "source": [
        "# Turn training on to fine-tune the TensorFlow Hub model\n",
        "import tensorflow_hub as hub\n",
        "sentence_encoder_layer = hub.KerasLayer(\"https://tfhub.dev/google/universal-sentence-encoder/4\",\n",
        "                                        input_shape=[],\n",
        "                                        dtype=tf.string,\n",
        "                                        trainable=True) "
      ],
      "execution_count": 10,
      "outputs": []
    },
    {
      "cell_type": "code",
      "metadata": {
        "colab": {
          "base_uri": "https://localhost:8080/"
        },
        "id": "Kk3qw0v_D8UI",
        "outputId": "e504971e-03df-4514-87a5-018b8a1ef341"
      },
      "source": [
        "# Create model using the Sequential API\n",
        "use_model = tf.keras.Sequential([\n",
        "  sentence_encoder_layer, \n",
        "  layers.Dense(1, activation=\"sigmoid\")\n",
        "])\n",
        "\n",
        "# Compile model\n",
        "use_model.compile(loss=\"binary_crossentropy\",\n",
        "                optimizer=tf.keras.optimizers.Adam(),\n",
        "                metrics=[\"accuracy\"])\n",
        "\n",
        "# Train a classifier on top of pretrained embeddings\n",
        "use_model_history = use_model.fit(train_sentences_10_percent,\n",
        "                              train_labels_10_percent,\n",
        "                              epochs=5,\n",
        "                              validation_data=(val_sentences, val_labels))"
      ],
      "execution_count": 11,
      "outputs": [
        {
          "output_type": "stream",
          "text": [
            "Epoch 1/5\n",
            "22/22 [==============================] - 33s 1s/step - loss: 0.6195 - accuracy: 0.6599 - val_loss: 0.5592 - val_accuracy: 0.7717\n",
            "Epoch 2/5\n",
            "22/22 [==============================] - 27s 1s/step - loss: 0.4614 - accuracy: 0.8277 - val_loss: 0.4988 - val_accuracy: 0.7861\n",
            "Epoch 3/5\n",
            "22/22 [==============================] - 27s 1s/step - loss: 0.3211 - accuracy: 0.8964 - val_loss: 0.4728 - val_accuracy: 0.7979\n",
            "Epoch 4/5\n",
            "22/22 [==============================] - 27s 1s/step - loss: 0.1868 - accuracy: 0.9620 - val_loss: 0.5172 - val_accuracy: 0.7743\n",
            "Epoch 5/5\n",
            "22/22 [==============================] - 27s 1s/step - loss: 0.1163 - accuracy: 0.9854 - val_loss: 0.5333 - val_accuracy: 0.7822\n"
          ],
          "name": "stdout"
        }
      ]
    },
    {
      "cell_type": "markdown",
      "metadata": {
        "id": "XAdWe94gFV-6"
      },
      "source": [
        "### 4. Retrain the best model you've got so far on the whole training set (no validation split). \n",
        "\n",
        "Then use this trained model to make predictions on the test dataset and format the predictions into the same format as the sample_submission.csv file from Kaggle (see the Files tab in Colab for what the sample_submission.csv file looks like). Once you've done this, make a submission to the Kaggle competition, how did your model perform?"
      ]
    },
    {
      "cell_type": "code",
      "metadata": {
        "colab": {
          "base_uri": "https://localhost:8080/"
        },
        "id": "E_9KU0nxEf8Z",
        "outputId": "6bb00ad9-2ade-432e-9567-ad2e02fcae10"
      },
      "source": [
        "whole_train_sentences = train_df_shuffled['text'].to_numpy()\n",
        "whole_train_labels =  train_df_shuffled['target'].to_numpy() \n",
        "\n",
        "len(whole_train_sentences) , len(whole_train_labels)"
      ],
      "execution_count": 12,
      "outputs": [
        {
          "output_type": "execute_result",
          "data": {
            "text/plain": [
              "(7613, 7613)"
            ]
          },
          "metadata": {
            "tags": []
          },
          "execution_count": 12
        }
      ]
    },
    {
      "cell_type": "code",
      "metadata": {
        "colab": {
          "base_uri": "https://localhost:8080/"
        },
        "id": "IkQU4qohFqZZ",
        "outputId": "010407db-7807-4380-a1dc-3cc279840dbc"
      },
      "source": [
        "# Create model using the Sequential API\n",
        "model = tf.keras.Sequential([\n",
        "  sentence_encoder_layer, \n",
        "  layers.Dense(64 , activation ='relu'),\n",
        "  layers.Dense(1, activation=\"sigmoid\")\n",
        "])\n",
        "\n",
        "# Compile model\n",
        "model.compile(loss=\"binary_crossentropy\",\n",
        "                optimizer=tf.keras.optimizers.Adam(),\n",
        "                metrics=[\"accuracy\"])\n",
        "\n",
        "# Train a classifier on top of pretrained embeddings\n",
        "model_history =model.fit(whole_train_sentences,\n",
        "                              whole_train_labels,\n",
        "                              epochs=5,\n",
        "                              validation_data=(val_sentences, val_labels))"
      ],
      "execution_count": 13,
      "outputs": [
        {
          "output_type": "stream",
          "text": [
            "Epoch 1/5\n",
            "238/238 [==============================] - 296s 1s/step - loss: 0.4133 - accuracy: 0.8235 - val_loss: 0.2616 - val_accuracy: 0.9016\n",
            "Epoch 2/5\n",
            "238/238 [==============================] - 302s 1s/step - loss: 0.1956 - accuracy: 0.9274 - val_loss: 0.0638 - val_accuracy: 0.9843\n",
            "Epoch 3/5\n",
            "238/238 [==============================] - 299s 1s/step - loss: 0.0675 - accuracy: 0.9777 - val_loss: 0.0275 - val_accuracy: 0.9895\n",
            "Epoch 4/5\n",
            "238/238 [==============================] - 305s 1s/step - loss: 0.0373 - accuracy: 0.9883 - val_loss: 0.0305 - val_accuracy: 0.9882\n",
            "Epoch 5/5\n",
            "238/238 [==============================] - 298s 1s/step - loss: 0.0279 - accuracy: 0.9895 - val_loss: 0.0305 - val_accuracy: 0.9895\n"
          ],
          "name": "stdout"
        }
      ]
    },
    {
      "cell_type": "code",
      "metadata": {
        "id": "J5Z1KPr_PUuR"
      },
      "source": [
        "# Make predictions with the model\n",
        "pred_probs = model.predict(test_df['text'].to_numpy())\n",
        "\n",
        "# Convert prediction probs to labels\n",
        "preds = tf.squeeze(tf.round(pred_probs))\n",
        "preds = tf.cast(preds , dtype = tf.int32)"
      ],
      "execution_count": 14,
      "outputs": []
    },
    {
      "cell_type": "code",
      "metadata": {
        "colab": {
          "base_uri": "https://localhost:8080/",
          "height": 419
        },
        "id": "XQ4zqP_KThLu",
        "outputId": "30e4da05-6225-41c1-94d8-19eb8df4e8aa"
      },
      "source": [
        "test_df"
      ],
      "execution_count": 15,
      "outputs": [
        {
          "output_type": "execute_result",
          "data": {
            "text/html": [
              "<div>\n",
              "<style scoped>\n",
              "    .dataframe tbody tr th:only-of-type {\n",
              "        vertical-align: middle;\n",
              "    }\n",
              "\n",
              "    .dataframe tbody tr th {\n",
              "        vertical-align: top;\n",
              "    }\n",
              "\n",
              "    .dataframe thead th {\n",
              "        text-align: right;\n",
              "    }\n",
              "</style>\n",
              "<table border=\"1\" class=\"dataframe\">\n",
              "  <thead>\n",
              "    <tr style=\"text-align: right;\">\n",
              "      <th></th>\n",
              "      <th>id</th>\n",
              "      <th>keyword</th>\n",
              "      <th>location</th>\n",
              "      <th>text</th>\n",
              "    </tr>\n",
              "  </thead>\n",
              "  <tbody>\n",
              "    <tr>\n",
              "      <th>0</th>\n",
              "      <td>0</td>\n",
              "      <td>NaN</td>\n",
              "      <td>NaN</td>\n",
              "      <td>Just happened a terrible car crash</td>\n",
              "    </tr>\n",
              "    <tr>\n",
              "      <th>1</th>\n",
              "      <td>2</td>\n",
              "      <td>NaN</td>\n",
              "      <td>NaN</td>\n",
              "      <td>Heard about #earthquake is different cities, s...</td>\n",
              "    </tr>\n",
              "    <tr>\n",
              "      <th>2</th>\n",
              "      <td>3</td>\n",
              "      <td>NaN</td>\n",
              "      <td>NaN</td>\n",
              "      <td>there is a forest fire at spot pond, geese are...</td>\n",
              "    </tr>\n",
              "    <tr>\n",
              "      <th>3</th>\n",
              "      <td>9</td>\n",
              "      <td>NaN</td>\n",
              "      <td>NaN</td>\n",
              "      <td>Apocalypse lighting. #Spokane #wildfires</td>\n",
              "    </tr>\n",
              "    <tr>\n",
              "      <th>4</th>\n",
              "      <td>11</td>\n",
              "      <td>NaN</td>\n",
              "      <td>NaN</td>\n",
              "      <td>Typhoon Soudelor kills 28 in China and Taiwan</td>\n",
              "    </tr>\n",
              "    <tr>\n",
              "      <th>...</th>\n",
              "      <td>...</td>\n",
              "      <td>...</td>\n",
              "      <td>...</td>\n",
              "      <td>...</td>\n",
              "    </tr>\n",
              "    <tr>\n",
              "      <th>3258</th>\n",
              "      <td>10861</td>\n",
              "      <td>NaN</td>\n",
              "      <td>NaN</td>\n",
              "      <td>EARTHQUAKE SAFETY LOS ANGELES ÛÒ SAFETY FASTE...</td>\n",
              "    </tr>\n",
              "    <tr>\n",
              "      <th>3259</th>\n",
              "      <td>10865</td>\n",
              "      <td>NaN</td>\n",
              "      <td>NaN</td>\n",
              "      <td>Storm in RI worse than last hurricane. My city...</td>\n",
              "    </tr>\n",
              "    <tr>\n",
              "      <th>3260</th>\n",
              "      <td>10868</td>\n",
              "      <td>NaN</td>\n",
              "      <td>NaN</td>\n",
              "      <td>Green Line derailment in Chicago http://t.co/U...</td>\n",
              "    </tr>\n",
              "    <tr>\n",
              "      <th>3261</th>\n",
              "      <td>10874</td>\n",
              "      <td>NaN</td>\n",
              "      <td>NaN</td>\n",
              "      <td>MEG issues Hazardous Weather Outlook (HWO) htt...</td>\n",
              "    </tr>\n",
              "    <tr>\n",
              "      <th>3262</th>\n",
              "      <td>10875</td>\n",
              "      <td>NaN</td>\n",
              "      <td>NaN</td>\n",
              "      <td>#CityofCalgary has activated its Municipal Eme...</td>\n",
              "    </tr>\n",
              "  </tbody>\n",
              "</table>\n",
              "<p>3263 rows × 4 columns</p>\n",
              "</div>"
            ],
            "text/plain": [
              "         id keyword location                                               text\n",
              "0         0     NaN      NaN                 Just happened a terrible car crash\n",
              "1         2     NaN      NaN  Heard about #earthquake is different cities, s...\n",
              "2         3     NaN      NaN  there is a forest fire at spot pond, geese are...\n",
              "3         9     NaN      NaN           Apocalypse lighting. #Spokane #wildfires\n",
              "4        11     NaN      NaN      Typhoon Soudelor kills 28 in China and Taiwan\n",
              "...     ...     ...      ...                                                ...\n",
              "3258  10861     NaN      NaN  EARTHQUAKE SAFETY LOS ANGELES ÛÒ SAFETY FASTE...\n",
              "3259  10865     NaN      NaN  Storm in RI worse than last hurricane. My city...\n",
              "3260  10868     NaN      NaN  Green Line derailment in Chicago http://t.co/U...\n",
              "3261  10874     NaN      NaN  MEG issues Hazardous Weather Outlook (HWO) htt...\n",
              "3262  10875     NaN      NaN  #CityofCalgary has activated its Municipal Eme...\n",
              "\n",
              "[3263 rows x 4 columns]"
            ]
          },
          "metadata": {
            "tags": []
          },
          "execution_count": 15
        }
      ]
    },
    {
      "cell_type": "code",
      "metadata": {
        "colab": {
          "base_uri": "https://localhost:8080/",
          "height": 419
        },
        "id": "1I6SFmqnUKwT",
        "outputId": "daebb67b-3859-4954-bd5d-0819a08967a2"
      },
      "source": [
        "submission = pd.DataFrame({'id': test_df['id'].values , \n",
        "                           'target': (preds.numpy())})\n",
        "submission"
      ],
      "execution_count": 16,
      "outputs": [
        {
          "output_type": "execute_result",
          "data": {
            "text/html": [
              "<div>\n",
              "<style scoped>\n",
              "    .dataframe tbody tr th:only-of-type {\n",
              "        vertical-align: middle;\n",
              "    }\n",
              "\n",
              "    .dataframe tbody tr th {\n",
              "        vertical-align: top;\n",
              "    }\n",
              "\n",
              "    .dataframe thead th {\n",
              "        text-align: right;\n",
              "    }\n",
              "</style>\n",
              "<table border=\"1\" class=\"dataframe\">\n",
              "  <thead>\n",
              "    <tr style=\"text-align: right;\">\n",
              "      <th></th>\n",
              "      <th>id</th>\n",
              "      <th>target</th>\n",
              "    </tr>\n",
              "  </thead>\n",
              "  <tbody>\n",
              "    <tr>\n",
              "      <th>0</th>\n",
              "      <td>0</td>\n",
              "      <td>1</td>\n",
              "    </tr>\n",
              "    <tr>\n",
              "      <th>1</th>\n",
              "      <td>2</td>\n",
              "      <td>1</td>\n",
              "    </tr>\n",
              "    <tr>\n",
              "      <th>2</th>\n",
              "      <td>3</td>\n",
              "      <td>1</td>\n",
              "    </tr>\n",
              "    <tr>\n",
              "      <th>3</th>\n",
              "      <td>9</td>\n",
              "      <td>1</td>\n",
              "    </tr>\n",
              "    <tr>\n",
              "      <th>4</th>\n",
              "      <td>11</td>\n",
              "      <td>1</td>\n",
              "    </tr>\n",
              "    <tr>\n",
              "      <th>...</th>\n",
              "      <td>...</td>\n",
              "      <td>...</td>\n",
              "    </tr>\n",
              "    <tr>\n",
              "      <th>3258</th>\n",
              "      <td>10861</td>\n",
              "      <td>1</td>\n",
              "    </tr>\n",
              "    <tr>\n",
              "      <th>3259</th>\n",
              "      <td>10865</td>\n",
              "      <td>1</td>\n",
              "    </tr>\n",
              "    <tr>\n",
              "      <th>3260</th>\n",
              "      <td>10868</td>\n",
              "      <td>1</td>\n",
              "    </tr>\n",
              "    <tr>\n",
              "      <th>3261</th>\n",
              "      <td>10874</td>\n",
              "      <td>1</td>\n",
              "    </tr>\n",
              "    <tr>\n",
              "      <th>3262</th>\n",
              "      <td>10875</td>\n",
              "      <td>1</td>\n",
              "    </tr>\n",
              "  </tbody>\n",
              "</table>\n",
              "<p>3263 rows × 2 columns</p>\n",
              "</div>"
            ],
            "text/plain": [
              "         id  target\n",
              "0         0       1\n",
              "1         2       1\n",
              "2         3       1\n",
              "3         9       1\n",
              "4        11       1\n",
              "...     ...     ...\n",
              "3258  10861       1\n",
              "3259  10865       1\n",
              "3260  10868       1\n",
              "3261  10874       1\n",
              "3262  10875       1\n",
              "\n",
              "[3263 rows x 2 columns]"
            ]
          },
          "metadata": {
            "tags": []
          },
          "execution_count": 16
        }
      ]
    },
    {
      "cell_type": "code",
      "metadata": {
        "colab": {
          "base_uri": "https://localhost:8080/"
        },
        "id": "7C6q3BNEURSw",
        "outputId": "ecb0e137-b678-44ad-9217-56735f376779"
      },
      "source": [
        "preds[:20]"
      ],
      "execution_count": 17,
      "outputs": [
        {
          "output_type": "execute_result",
          "data": {
            "text/plain": [
              "<tf.Tensor: shape=(20,), dtype=int32, numpy=\n",
              "array([1, 1, 1, 1, 1, 1, 0, 0, 0, 0, 0, 0, 0, 0, 0, 1, 0, 0, 0, 0],\n",
              "      dtype=int32)>"
            ]
          },
          "metadata": {
            "tags": []
          },
          "execution_count": 17
        }
      ]
    },
    {
      "cell_type": "code",
      "metadata": {
        "id": "sDUlP6xZUocr"
      },
      "source": [
        "submission.to_csv('submission.csv' , index = False)"
      ],
      "execution_count": 18,
      "outputs": []
    },
    {
      "cell_type": "markdown",
      "metadata": {
        "id": "jtE8eZhoVMF8"
      },
      "source": [
        "Alright we have made a submission! \n",
        "\n",
        "![Screenshot 2021-07-09 at 1.59.07 PM.png](data:image/png;base64,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)"
      ]
    },
    {
      "cell_type": "markdown",
      "metadata": {
        "id": "UUfFI1TnYzPS"
      },
      "source": [
        "### 5. Combine the ensemble predictions using the majority vote (mode), how does this perform compare to averaging the prediction probabilities of each model?"
      ]
    },
    {
      "cell_type": "markdown",
      "metadata": {
        "id": "xScdKAKgzL5I"
      },
      "source": [
        "- `model_5` -> Conv1D Model \n",
        "- `model_2` --> LSTM Model \n",
        "- `model` --> TFHub Model\n",
        "\n",
        "Now let's get the predictions for each model and perform majority model "
      ]
    },
    {
      "cell_type": "code",
      "metadata": {
        "colab": {
          "base_uri": "https://localhost:8080/"
        },
        "id": "9R9NnDWRz8Qv",
        "outputId": "d7b90df4-8e31-4b66-c97b-f6937ffab741"
      },
      "source": [
        "test_sentences = test_df['text'].to_numpy()\n",
        "\n",
        "# Checking the shapes \n",
        "test_sentences.shape "
      ],
      "execution_count": 21,
      "outputs": [
        {
          "output_type": "execute_result",
          "data": {
            "text/plain": [
              "(3263,)"
            ]
          },
          "metadata": {
            "tags": []
          },
          "execution_count": 21
        }
      ]
    },
    {
      "cell_type": "code",
      "metadata": {
        "id": "uYHIPEqoY5gj"
      },
      "source": [
        "# Getting the model predictions \n",
        "\n",
        "def give_preds(model, test_sentences):\n",
        "  '''\n",
        "  This model takes a model and the test sentences as input. \n",
        "  Returns the prediction array of [0,1.....]\n",
        "  '''\n",
        "  pred_probs = model.predict(test_sentences)\n",
        "  preds = tf.squeeze(tf.round(pred_probs))\n",
        "  preds = tf.cast(preds , dtype = tf.int32)\n",
        "\n",
        "  return preds"
      ],
      "execution_count": 22,
      "outputs": []
    },
    {
      "cell_type": "markdown",
      "metadata": {
        "id": "EGnZNNVD06Lc"
      },
      "source": [
        "f1 , f2 and f3 are models \n"
      ]
    },
    {
      "cell_type": "code",
      "metadata": {
        "colab": {
          "base_uri": "https://localhost:8080/"
        },
        "id": "APSj-Iow3S4i",
        "outputId": "8d3159f6-c57c-4b46-daad-5e19e31796f5"
      },
      "source": [
        "# Getting the predictions for our 3 models \n",
        "model_preds = give_preds(model , test_sentences)\n",
        "model_2_preds = give_preds(model_2 ,test_sentences)\n",
        "model_5_preds = give_preds(model_5 , test_sentences)\n",
        "\n",
        "# Checking the shapes of our prediction \n",
        "model_preds.shape , model_2_preds.shape , model_5_preds.shape"
      ],
      "execution_count": 26,
      "outputs": [
        {
          "output_type": "execute_result",
          "data": {
            "text/plain": [
              "(TensorShape([3263]), TensorShape([3263]), TensorShape([3263]))"
            ]
          },
          "metadata": {
            "tags": []
          },
          "execution_count": 26
        }
      ]
    },
    {
      "cell_type": "code",
      "metadata": {
        "colab": {
          "base_uri": "https://localhost:8080/"
        },
        "id": "uO-8t4R83nHG",
        "outputId": "f8ccb711-5f86-4e06-f037-3496c9defba4"
      },
      "source": [
        "model_preds[:5] , model_2_preds[:5] , model_5_preds[:5]"
      ],
      "execution_count": 27,
      "outputs": [
        {
          "output_type": "execute_result",
          "data": {
            "text/plain": [
              "(<tf.Tensor: shape=(5,), dtype=int32, numpy=array([1, 1, 1, 1, 1], dtype=int32)>,\n",
              " <tf.Tensor: shape=(5,), dtype=int32, numpy=array([0, 0, 1, 0, 0], dtype=int32)>,\n",
              " <tf.Tensor: shape=(5,), dtype=int32, numpy=array([0, 0, 0, 0, 0], dtype=int32)>)"
            ]
          },
          "metadata": {
            "tags": []
          },
          "execution_count": 27
        }
      ]
    },
    {
      "cell_type": "code",
      "metadata": {
        "colab": {
          "base_uri": "https://localhost:8080/",
          "height": 204
        },
        "id": "3vtL7zx98FUx",
        "outputId": "fe5d82e1-0924-43ef-e785-2ebd2afd893b"
      },
      "source": [
        "# Creating a dataframe of our predictions \n",
        "\n",
        "preds_df = pd.DataFrame({'USE_model': model_preds , \n",
        "              'LSTM_model': model_2_preds , \n",
        "              'Conv1D_model': model_5_preds})\n",
        "preds_df.head()"
      ],
      "execution_count": 42,
      "outputs": [
        {
          "output_type": "execute_result",
          "data": {
            "text/html": [
              "<div>\n",
              "<style scoped>\n",
              "    .dataframe tbody tr th:only-of-type {\n",
              "        vertical-align: middle;\n",
              "    }\n",
              "\n",
              "    .dataframe tbody tr th {\n",
              "        vertical-align: top;\n",
              "    }\n",
              "\n",
              "    .dataframe thead th {\n",
              "        text-align: right;\n",
              "    }\n",
              "</style>\n",
              "<table border=\"1\" class=\"dataframe\">\n",
              "  <thead>\n",
              "    <tr style=\"text-align: right;\">\n",
              "      <th></th>\n",
              "      <th>USE_model</th>\n",
              "      <th>LSTM_model</th>\n",
              "      <th>Conv1D_model</th>\n",
              "    </tr>\n",
              "  </thead>\n",
              "  <tbody>\n",
              "    <tr>\n",
              "      <th>0</th>\n",
              "      <td>1</td>\n",
              "      <td>0</td>\n",
              "      <td>0</td>\n",
              "    </tr>\n",
              "    <tr>\n",
              "      <th>1</th>\n",
              "      <td>1</td>\n",
              "      <td>0</td>\n",
              "      <td>0</td>\n",
              "    </tr>\n",
              "    <tr>\n",
              "      <th>2</th>\n",
              "      <td>1</td>\n",
              "      <td>1</td>\n",
              "      <td>0</td>\n",
              "    </tr>\n",
              "    <tr>\n",
              "      <th>3</th>\n",
              "      <td>1</td>\n",
              "      <td>0</td>\n",
              "      <td>0</td>\n",
              "    </tr>\n",
              "    <tr>\n",
              "      <th>4</th>\n",
              "      <td>1</td>\n",
              "      <td>0</td>\n",
              "      <td>0</td>\n",
              "    </tr>\n",
              "  </tbody>\n",
              "</table>\n",
              "</div>"
            ],
            "text/plain": [
              "   USE_model  LSTM_model  Conv1D_model\n",
              "0          1           0             0\n",
              "1          1           0             0\n",
              "2          1           1             0\n",
              "3          1           0             0\n",
              "4          1           0             0"
            ]
          },
          "metadata": {
            "tags": []
          },
          "execution_count": 42
        }
      ]
    },
    {
      "cell_type": "code",
      "metadata": {
        "colab": {
          "base_uri": "https://localhost:8080/",
          "height": 204
        },
        "id": "0k5sfhbT-Hf1",
        "outputId": "2b75c334-8ba6-46e2-92ca-9d4b5647b692"
      },
      "source": [
        "# Majority voted predictions of our model\n",
        "preds_df['majority_vote_preds'] = preds_df.mode(axis = 1)\n",
        "preds_df.head()"
      ],
      "execution_count": 48,
      "outputs": [
        {
          "output_type": "execute_result",
          "data": {
            "text/html": [
              "<div>\n",
              "<style scoped>\n",
              "    .dataframe tbody tr th:only-of-type {\n",
              "        vertical-align: middle;\n",
              "    }\n",
              "\n",
              "    .dataframe tbody tr th {\n",
              "        vertical-align: top;\n",
              "    }\n",
              "\n",
              "    .dataframe thead th {\n",
              "        text-align: right;\n",
              "    }\n",
              "</style>\n",
              "<table border=\"1\" class=\"dataframe\">\n",
              "  <thead>\n",
              "    <tr style=\"text-align: right;\">\n",
              "      <th></th>\n",
              "      <th>USE_model</th>\n",
              "      <th>LSTM_model</th>\n",
              "      <th>Conv1D_model</th>\n",
              "      <th>majority_vote_preds</th>\n",
              "    </tr>\n",
              "  </thead>\n",
              "  <tbody>\n",
              "    <tr>\n",
              "      <th>0</th>\n",
              "      <td>1</td>\n",
              "      <td>0</td>\n",
              "      <td>0</td>\n",
              "      <td>0</td>\n",
              "    </tr>\n",
              "    <tr>\n",
              "      <th>1</th>\n",
              "      <td>1</td>\n",
              "      <td>0</td>\n",
              "      <td>0</td>\n",
              "      <td>0</td>\n",
              "    </tr>\n",
              "    <tr>\n",
              "      <th>2</th>\n",
              "      <td>1</td>\n",
              "      <td>1</td>\n",
              "      <td>0</td>\n",
              "      <td>1</td>\n",
              "    </tr>\n",
              "    <tr>\n",
              "      <th>3</th>\n",
              "      <td>1</td>\n",
              "      <td>0</td>\n",
              "      <td>0</td>\n",
              "      <td>0</td>\n",
              "    </tr>\n",
              "    <tr>\n",
              "      <th>4</th>\n",
              "      <td>1</td>\n",
              "      <td>0</td>\n",
              "      <td>0</td>\n",
              "      <td>0</td>\n",
              "    </tr>\n",
              "  </tbody>\n",
              "</table>\n",
              "</div>"
            ],
            "text/plain": [
              "   USE_model  LSTM_model  Conv1D_model  majority_vote_preds\n",
              "0          1           0             0                    0\n",
              "1          1           0             0                    0\n",
              "2          1           1             0                    1\n",
              "3          1           0             0                    0\n",
              "4          1           0             0                    0"
            ]
          },
          "metadata": {
            "tags": []
          },
          "execution_count": 48
        }
      ]
    },
    {
      "cell_type": "code",
      "metadata": {
        "colab": {
          "base_uri": "https://localhost:8080/"
        },
        "id": "fIXuv97W-YGw",
        "outputId": "697bc0ab-d269-4ecd-e751-220863f6fd67"
      },
      "source": [
        "# Converting the column into a numpy array \n",
        "mode_preds_array = preds_df['majority_vote_preds'].to_numpy()\n",
        "mode_preds_array"
      ],
      "execution_count": 49,
      "outputs": [
        {
          "output_type": "execute_result",
          "data": {
            "text/plain": [
              "array([0, 0, 1, ..., 0, 0, 0], dtype=int32)"
            ]
          },
          "metadata": {
            "tags": []
          },
          "execution_count": 49
        }
      ]
    },
    {
      "cell_type": "markdown",
      "metadata": {
        "id": "EYpN3m4J_3oO"
      },
      "source": [
        "### 6. Make a confusion matrix with the best performing model's predictions on the validation set and the validation ground truth labels.\n",
        "\n",
        "Our best performing model is the `model` from the tensorflow hub. "
      ]
    },
    {
      "cell_type": "code",
      "metadata": {
        "id": "pBs0bEVMAeZf"
      },
      "source": [
        "# Funtion taken from the course \n",
        "# Note: The following confusion matrix code is a remix of Scikit-Learn's \n",
        "# plot_confusion_matrix function - https://scikit-learn.org/stable/modules/generated/sklearn.metrics.plot_confusion_matrix.html\n",
        "import itertools\n",
        "import matplotlib.pyplot as plt\n",
        "import numpy as np\n",
        "from sklearn.metrics import confusion_matrix\n",
        "\n",
        "# Our function needs a different name to sklearn's plot_confusion_matrix\n",
        "def make_confusion_matrix(y_true, y_pred, classes=None, figsize=(10, 10), text_size=15, norm=False, savefig=False): \n",
        "  \"\"\"Makes a labelled confusion matrix comparing predictions and ground truth labels.\n",
        "\n",
        "  If classes is passed, confusion matrix will be labelled, if not, integer class values\n",
        "  will be used.\n",
        "\n",
        "  Args:\n",
        "    y_true: Array of truth labels (must be same shape as y_pred).\n",
        "    y_pred: Array of predicted labels (must be same shape as y_true).\n",
        "    classes: Array of class labels (e.g. string form). If `None`, integer labels are used.\n",
        "    figsize: Size of output figure (default=(10, 10)).\n",
        "    text_size: Size of output figure text (default=15).\n",
        "    norm: normalize values or not (default=False).\n",
        "    savefig: save confusion matrix to file (default=False).\n",
        "  \n",
        "  Returns:\n",
        "    A labelled confusion matrix plot comparing y_true and y_pred.\n",
        "\n",
        "  Example usage:\n",
        "    make_confusion_matrix(y_true=test_labels, # ground truth test labels\n",
        "                          y_pred=y_preds, # predicted labels\n",
        "                          classes=class_names, # array of class label names\n",
        "                          figsize=(15, 15),\n",
        "                          text_size=10)\n",
        "  \"\"\"  \n",
        "  # Create the confustion matrix\n",
        "  cm = confusion_matrix(y_true, y_pred)\n",
        "  cm_norm = cm.astype(\"float\") / cm.sum(axis=1)[:, np.newaxis] # normalize it\n",
        "  n_classes = cm.shape[0] # find the number of classes we're dealing with\n",
        "\n",
        "  # Plot the figure and make it pretty\n",
        "  fig, ax = plt.subplots(figsize=figsize)\n",
        "  cax = ax.matshow(cm, cmap=plt.cm.Blues) # colors will represent how 'correct' a class is, darker == better\n",
        "  fig.colorbar(cax)\n",
        "\n",
        "  # Are there a list of classes?\n",
        "  if classes:\n",
        "    labels = classes\n",
        "  else:\n",
        "    labels = np.arange(cm.shape[0])\n",
        "  \n",
        "  # Label the axes\n",
        "  ax.set(title=\"Confusion Matrix\",\n",
        "         xlabel=\"Predicted label\",\n",
        "         ylabel=\"True label\",\n",
        "         xticks=np.arange(n_classes), # create enough axis slots for each class\n",
        "         yticks=np.arange(n_classes), \n",
        "         xticklabels=labels, # axes will labeled with class names (if they exist) or ints\n",
        "         yticklabels=labels)\n",
        "  \n",
        "  # Make x-axis labels appear on bottom\n",
        "  ax.xaxis.set_label_position(\"bottom\")\n",
        "  ax.xaxis.tick_bottom()\n",
        "\n",
        "  ### Added: Rotate xticks for readability & increase font size (required due to such a large confusion matrix)\n",
        "  plt.xticks(rotation=70, fontsize=text_size)\n",
        "  plt.yticks(fontsize=text_size)\n",
        "\n",
        "  # Set the threshold for different colors\n",
        "  threshold = (cm.max() + cm.min()) / 2.\n",
        "\n",
        "  # Plot the text on each cell\n",
        "  for i, j in itertools.product(range(cm.shape[0]), range(cm.shape[1])):\n",
        "    if norm:\n",
        "      plt.text(j, i, f\"{cm[i, j]} ({cm_norm[i, j]*100:.1f}%)\",\n",
        "              horizontalalignment=\"center\",\n",
        "              color=\"white\" if cm[i, j] > threshold else \"black\",\n",
        "              size=text_size)\n",
        "    else:\n",
        "      plt.text(j, i, f\"{cm[i, j]}\",\n",
        "              horizontalalignment=\"center\",\n",
        "              color=\"white\" if cm[i, j] > threshold else \"black\",\n",
        "              size=text_size)\n",
        "\n",
        "  # Save the figure to the current working directory\n",
        "  if savefig:\n",
        "    fig.savefig(\"confusion_matrix.png\")"
      ],
      "execution_count": 50,
      "outputs": []
    },
    {
      "cell_type": "code",
      "metadata": {
        "colab": {
          "base_uri": "https://localhost:8080/"
        },
        "id": "LQNUJ8AaBGlx",
        "outputId": "553b1ca1-6aac-4551-b469-3df8412411a3"
      },
      "source": [
        "# Predictions on the validation sentences \n",
        "val_preds = give_preds(model , val_sentences)\n",
        "\n",
        "# Creating a array of our class names \n",
        "class_names = ['not_a_disaster' , 'disaster']\n",
        "\n",
        "# Checking the preds and true labels shape\n",
        "val_preds.shape , val_labels.shape"
      ],
      "execution_count": 57,
      "outputs": [
        {
          "output_type": "execute_result",
          "data": {
            "text/plain": [
              "(TensorShape([762]), (762,))"
            ]
          },
          "metadata": {
            "tags": []
          },
          "execution_count": 57
        }
      ]
    },
    {
      "cell_type": "code",
      "metadata": {
        "colab": {
          "base_uri": "https://localhost:8080/",
          "height": 576
        },
        "id": "OhQr5Xf0BV9o",
        "outputId": "80e7d825-9342-4371-f04c-b1e7be2f2c5c"
      },
      "source": [
        "# Plotting the confusion matrix \n",
        "make_confusion_matrix(y_true= val_labels , \n",
        "                      y_pred = val_preds , \n",
        "                      classes = class_names , \n",
        "                      figsize= (15 , 7), \n",
        "                      norm = False , \n",
        "                      savefig = True , \n",
        "                      text_size = 15)"
      ],
      "execution_count": 61,
      "outputs": [
        {
          "output_type": "display_data",
          "data": {
            "image/png": "[encoded data removed]",
            "text/plain": [
              "<Figure size 1080x504 with 2 Axes>"
            ]
          },
          "metadata": {
            "tags": [],
            "needs_background": "light"
          }
        }
      ]
    },
    {
      "cell_type": "code",
      "metadata": {
        "id": "YKLMrLcfBt50"
      },
      "source": [
        ""
      ],
      "execution_count": null,
      "outputs": []
    }
  ]
}
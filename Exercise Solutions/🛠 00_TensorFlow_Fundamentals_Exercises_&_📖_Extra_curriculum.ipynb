{
  "nbformat": 4,
  "nbformat_minor": 0,
  "metadata": {
    "colab": {
      "name": "00_TensorFlow_Fundamentals-🛠 Exercises & 📖 Extra-curriculum.ipynb",
      "provenance": [],
      "collapsed_sections": [],
      "authorship_tag": "ABX9TyNkRyaf5y20xRRlTUxJfeiT",
      "include_colab_link": true
    },
    "kernelspec": {
      "name": "python3",
      "display_name": "Python 3"
    },
    "accelerator": "GPU"
  },
  "cells": [
    {
      "cell_type": "markdown",
      "metadata": {
        "id": "view-in-github",
        "colab_type": "text"
      },
      "source": [
        "<a href=\"https://colab.research.google.com/github/ashikshafi08/Learning_Tensorflow/blob/main/Exercise%20Solutions/%F0%9F%9B%A0%2000_TensorFlow_Fundamentals_Exercises_%26_%F0%9F%93%96_Extra_curriculum.ipynb\" target=\"_parent\"><img src=\"https://colab.research.google.com/assets/colab-badge.svg\" alt=\"Open In Colab\"/></a>"
      ]
    },
    {
      "cell_type": "code",
      "metadata": {
        "colab": {
          "base_uri": "https://localhost:8080/"
        },
        "id": "JnkvYYRn6TN7",
        "outputId": "92fb4b4e-2452-4954-dcde-4653ff2d15f4"
      },
      "source": [
        "# Import TensorFlow\n",
        "import tensorflow as tf\n",
        "print(tf.__version__)"
      ],
      "execution_count": null,
      "outputs": [
        {
          "output_type": "stream",
          "text": [
            "2.4.1\n"
          ],
          "name": "stdout"
        }
      ]
    },
    {
      "cell_type": "markdown",
      "metadata": {
        "id": "Iw4TzuJI6j18"
      },
      "source": [
        "# Exercise \n",
        "\n",
        "## 🛠 00 TensorFlow Fundamentals Exercises\n",
        "\n",
        "1. Create a vector, scalar, matrix and tensor with values of your choosing using `tf.constant()`.\n",
        "2. Find the **shape**, **rank** and **size** of the tensors you created in 1.\n",
        "3. Create two tensors containing random values between 0 and 1 with shape `[5, 300]`.\n",
        "4. Multiply the two tensors you created in 3 using **matrix multiplication**.\n",
        "5. Multiply the two tensors you created in 3 using **dot product**.\n",
        "6. Create a tensor with **random values** between 0 and 1 with shape `[224, 224, 3]`.\n",
        "7. Find the **min** and **max values** of the tensor you created in 6.\n",
        "8. Created a tensor with random values of shape `[1, 224, 224, 3]` then **squeeze** it to change the shape to `[224, 224, 3]`.\n",
        "9. Create a tensor with shape `[10]` using your own choice of values, then find the **index** which has the **maximum value**.\n",
        "10. **One-hot** encode the tensor you created in 9."
      ]
    },
    {
      "cell_type": "markdown",
      "metadata": {
        "id": "FIOGM_327m0m"
      },
      "source": [
        "### 1. Create a vector, scalar, matrix and tensor with values of your choosing using `tf.constant()`.\n"
      ]
    },
    {
      "cell_type": "code",
      "metadata": {
        "colab": {
          "base_uri": "https://localhost:8080/"
        },
        "id": "JodClH_78XGZ",
        "outputId": "959f1dcc-6328-46e7-8762-985de4b95bec"
      },
      "source": [
        "# Creating a scalar \n",
        "scalar = tf.constant([8])\n",
        "\n",
        "# Creating a vector \n",
        "vector = tf.constant([1 , 2 , 3])\n",
        "\n",
        "# Creating a matrix \n",
        "matrix = tf.constant([[1 ,2] , \n",
        "                      [3, 4]])\n",
        "\n",
        "# Creating a tensor \n",
        "tensor = tf.constant([[10 , 9 , 8] , \n",
        "                      [1 ,2 , 4], \n",
        "                      [8 , 4 , 2]])\n",
        "\n",
        "scalar , vector , matrix , tensor "
      ],
      "execution_count": null,
      "outputs": [
        {
          "output_type": "execute_result",
          "data": {
            "text/plain": [
              "(<tf.Tensor: shape=(1,), dtype=int32, numpy=array([8], dtype=int32)>,\n",
              " <tf.Tensor: shape=(3,), dtype=int32, numpy=array([1, 2, 3], dtype=int32)>,\n",
              " <tf.Tensor: shape=(2, 2), dtype=int32, numpy=\n",
              " array([[1, 2],\n",
              "        [3, 4]], dtype=int32)>,\n",
              " <tf.Tensor: shape=(3, 3), dtype=int32, numpy=\n",
              " array([[10,  9,  8],\n",
              "        [ 1,  2,  4],\n",
              "        [ 8,  4,  2]], dtype=int32)>)"
            ]
          },
          "metadata": {
            "tags": []
          },
          "execution_count": 2
        }
      ]
    },
    {
      "cell_type": "markdown",
      "metadata": {
        "id": "r78HsqqN7w2L"
      },
      "source": [
        "### 2. Find the **shape**, **rank** and **size** of the tensors you created in 1."
      ]
    },
    {
      "cell_type": "code",
      "metadata": {
        "colab": {
          "base_uri": "https://localhost:8080/"
        },
        "id": "47R_l10p8b0E",
        "outputId": "9ab30bcb-012a-4bcd-979c-aca45423d03b"
      },
      "source": [
        "# Finding the shape, rank and size\n",
        "print(f'The shape of the tensor: {tensor.shape}')\n",
        "print(f'The rank of the tensor: {tf.size(tensor)}')\n",
        "print(f'The rank of the tensor: {tf.rank(tensor)}')"
      ],
      "execution_count": null,
      "outputs": [
        {
          "output_type": "stream",
          "text": [
            "The shape of the tensor: (3, 3)\n",
            "The rank of the tensor: 9\n",
            "The rank of the tensor: 2\n"
          ],
          "name": "stdout"
        }
      ]
    },
    {
      "cell_type": "markdown",
      "metadata": {
        "id": "8IhsQmQg74Ct"
      },
      "source": [
        "### 3. Create two tensors containing random values between 0 and 1 with shape `[5, 300]`.\n"
      ]
    },
    {
      "cell_type": "code",
      "metadata": {
        "colab": {
          "base_uri": "https://localhost:8080/"
        },
        "id": "qtmV-5f18eEH",
        "outputId": "471bc139-abff-4c77-e0c6-460cb9711b74"
      },
      "source": [
        "tensor_1 = tf.random.Generator.from_seed(20)\n",
        "tensor_2 = tf.random.Generator.from_seed(20)\n",
        "\n",
        "# Setting up the shape \n",
        "tensor_1 = tensor_1.normal(shape =(5 , 100))\n",
        "tensor_2 = tensor_2.normal(shape = (5 , 100))\n",
        "\n",
        "tensor_1.shape , tensor_2.shape"
      ],
      "execution_count": null,
      "outputs": [
        {
          "output_type": "execute_result",
          "data": {
            "text/plain": [
              "(TensorShape([5, 100]), TensorShape([5, 100]))"
            ]
          },
          "metadata": {
            "tags": []
          },
          "execution_count": 4
        }
      ]
    },
    {
      "cell_type": "markdown",
      "metadata": {
        "id": "YVkN1Zyh7_Qk"
      },
      "source": [
        "### 4. Multiply the two tensors you created in 3 using **matrix multiplication**.\n"
      ]
    },
    {
      "cell_type": "code",
      "metadata": {
        "colab": {
          "base_uri": "https://localhost:8080/"
        },
        "id": "zAjGjzbu8gq-",
        "outputId": "7c57a944-6ff1-4deb-f976-42824a7b6859"
      },
      "source": [
        "# Multiplying\n",
        "\n",
        "print('Shape before the matrix multiplication')\n",
        "print(tensor_1.shape , '\\n')\n",
        "print(tensor_2.shape , '\\n')\n",
        "\n",
        "resultant_vector = tf.linalg.matmul(tensor_1 , tf.transpose(tensor_2))\n",
        "print(f'After multiplying the resultant vector is: {resultant_vector} \\n')\n",
        "\n",
        "print(f'The resultant vector shape: {resultant_vector.shape}')"
      ],
      "execution_count": null,
      "outputs": [
        {
          "output_type": "stream",
          "text": [
            "Shape before the matrix multiplication\n",
            "(5, 100) \n",
            "\n",
            "(5, 100) \n",
            "\n",
            "After multiplying the resultant vector is: [[ 1.1152011e+02 -2.0163528e+01  7.6871336e-02  5.8260102e+00\n",
            "   1.3360726e+01]\n",
            " [-2.0163528e+01  1.0469975e+02 -8.7291698e+00  8.0652893e-01\n",
            "  -6.5397663e+00]\n",
            " [ 7.6871336e-02 -8.7291698e+00  8.7304695e+01  4.6838622e+00\n",
            "  -1.9468361e+01]\n",
            " [ 5.8260102e+00  8.0652893e-01  4.6838622e+00  8.9833633e+01\n",
            "  -8.1998968e+00]\n",
            " [ 1.3360726e+01 -6.5397663e+00 -1.9468361e+01 -8.1998968e+00\n",
            "   1.0752870e+02]] \n",
            "\n",
            "The resultant vector shape: (5, 5)\n"
          ],
          "name": "stdout"
        }
      ]
    },
    {
      "cell_type": "markdown",
      "metadata": {
        "id": "RlMKgEu58Cd9"
      },
      "source": [
        "### 5. Multiply the two tensors you created in 3 using **dot product**.\n"
      ]
    },
    {
      "cell_type": "code",
      "metadata": {
        "colab": {
          "base_uri": "https://localhost:8080/"
        },
        "id": "y4rJ_P9u8j-w",
        "outputId": "d44be3e3-625e-4018-bd17-f3ddd314f10f"
      },
      "source": [
        "# Using tensordot\n",
        "\n",
        "tf.tensordot(tensor_1 , tf.transpose(tensor_2) , axes=1)"
      ],
      "execution_count": null,
      "outputs": [
        {
          "output_type": "execute_result",
          "data": {
            "text/plain": [
              "<tf.Tensor: shape=(5, 5), dtype=float32, numpy=\n",
              "array([[ 1.1152011e+02, -2.0163528e+01,  7.6871336e-02,  5.8260102e+00,\n",
              "         1.3360726e+01],\n",
              "       [-2.0163528e+01,  1.0469975e+02, -8.7291698e+00,  8.0652893e-01,\n",
              "        -6.5397663e+00],\n",
              "       [ 7.6871336e-02, -8.7291698e+00,  8.7304695e+01,  4.6838622e+00,\n",
              "        -1.9468361e+01],\n",
              "       [ 5.8260102e+00,  8.0652893e-01,  4.6838622e+00,  8.9833633e+01,\n",
              "        -8.1998968e+00],\n",
              "       [ 1.3360726e+01, -6.5397663e+00, -1.9468361e+01, -8.1998968e+00,\n",
              "         1.0752870e+02]], dtype=float32)>"
            ]
          },
          "metadata": {
            "tags": []
          },
          "execution_count": 6
        }
      ]
    },
    {
      "cell_type": "markdown",
      "metadata": {
        "id": "pguA2uQB8FKB"
      },
      "source": [
        "### 6. Create a tensor with **random values** between 0 and 1 with shape `[224, 224, 3]`.\n"
      ]
    },
    {
      "cell_type": "code",
      "metadata": {
        "colab": {
          "base_uri": "https://localhost:8080/"
        },
        "id": "lY_xmH7n8nc7",
        "outputId": "431a231d-591c-40c3-a17a-afcee134429c"
      },
      "source": [
        "# Tensor with shape [224 , 224 , 3]\n",
        "big_tensor = tf.random.uniform(shape = [224 , 224 , 3], minval = 0 , maxval = 1)\n",
        "\n",
        "big_tensor"
      ],
      "execution_count": 7,
      "outputs": [
        {
          "output_type": "execute_result",
          "data": {
            "text/plain": [
              "<tf.Tensor: shape=(224, 224, 3), dtype=float32, numpy=\n",
              "array([[[0.16492105, 0.2753117 , 0.9938582 ],\n",
              "        [0.28192294, 0.15807188, 0.8429942 ],\n",
              "        [0.84264314, 0.32728314, 0.15411282],\n",
              "        ...,\n",
              "        [0.5070746 , 0.30085158, 0.95198715],\n",
              "        [0.97285366, 0.5184705 , 0.37301648],\n",
              "        [0.6792079 , 0.58873427, 0.29493403]],\n",
              "\n",
              "       [[0.49952328, 0.43266344, 0.9816874 ],\n",
              "        [0.27082694, 0.6951047 , 0.9915391 ],\n",
              "        [0.2062366 , 0.6174034 , 0.12117112],\n",
              "        ...,\n",
              "        [0.49763942, 0.38546133, 0.60577035],\n",
              "        [0.03882432, 0.45464218, 0.34204078],\n",
              "        [0.99874127, 0.3193239 , 0.9990982 ]],\n",
              "\n",
              "       [[0.82930887, 0.6980667 , 0.38108087],\n",
              "        [0.92087865, 0.40597975, 0.26164782],\n",
              "        [0.56127524, 0.3887844 , 0.7102684 ],\n",
              "        ...,\n",
              "        [0.45595026, 0.11628592, 0.44341063],\n",
              "        [0.9181205 , 0.6624149 , 0.6607721 ],\n",
              "        [0.9167942 , 0.6085763 , 0.84494877]],\n",
              "\n",
              "       ...,\n",
              "\n",
              "       [[0.91161656, 0.38026464, 0.26940346],\n",
              "        [0.4571271 , 0.7935983 , 0.22050333],\n",
              "        [0.89113414, 0.2757759 , 0.6626035 ],\n",
              "        ...,\n",
              "        [0.08282459, 0.79587185, 0.67425895],\n",
              "        [0.45867884, 0.6164255 , 0.04149151],\n",
              "        [0.08657742, 0.00539613, 0.48482764]],\n",
              "\n",
              "       [[0.22250462, 0.19303179, 0.7879729 ],\n",
              "        [0.86091006, 0.8179649 , 0.32188344],\n",
              "        [0.5310638 , 0.13784003, 0.12361348],\n",
              "        ...,\n",
              "        [0.9796878 , 0.65151954, 0.5527904 ],\n",
              "        [0.41798055, 0.01082277, 0.18286026],\n",
              "        [0.14830899, 0.7897551 , 0.08140087]],\n",
              "\n",
              "       [[0.36684346, 0.17934072, 0.8374914 ],\n",
              "        [0.838565  , 0.587137  , 0.6682106 ],\n",
              "        [0.7015928 , 0.2122364 , 0.73771894],\n",
              "        ...,\n",
              "        [0.9143194 , 0.13282752, 0.11529422],\n",
              "        [0.5908854 , 0.11730528, 0.73905075],\n",
              "        [0.1296947 , 0.82645476, 0.12327802]]], dtype=float32)>"
            ]
          },
          "metadata": {
            "tags": []
          },
          "execution_count": 7
        }
      ]
    },
    {
      "cell_type": "code",
      "metadata": {
        "id": "m41XLPFgXqsu",
        "outputId": "182266a9-a53c-479a-8c0b-46201fe40743",
        "colab": {
          "base_uri": "https://localhost:8080/"
        }
      },
      "source": [
        "# Checking the min and max value of our tensor \n",
        "print(f'Maximum value: {tf.reduce_max(a)}')\n",
        "print(f'Minimum value: {tf.reduce_min(a)}')\n"
      ],
      "execution_count": 8,
      "outputs": [
        {
          "output_type": "stream",
          "text": [
            "Maximum value: 0.9999923706054688\n",
            "Minimum value: 2.1576881408691406e-05\n"
          ],
          "name": "stdout"
        }
      ]
    },
    {
      "cell_type": "markdown",
      "metadata": {
        "id": "0chI1fy78IGx"
      },
      "source": [
        "### 7. Find the **min** and **max values** of the tensor you created in 6.\n"
      ]
    },
    {
      "cell_type": "code",
      "metadata": {
        "colab": {
          "base_uri": "https://localhost:8080/"
        },
        "id": "pKa8cpjZ8qTO",
        "outputId": "721ec375-fcbf-4c57-fcce-0d4684eedce0"
      },
      "source": [
        "# Finding the minimum \n",
        "\n",
        "minimum = tf.math.reduce_min(big_tensor)\n",
        "print(f'The minimum value is: {minimum}')"
      ],
      "execution_count": null,
      "outputs": [
        {
          "output_type": "stream",
          "text": [
            "The minimum value is: -4.848316192626953\n"
          ],
          "name": "stdout"
        }
      ]
    },
    {
      "cell_type": "code",
      "metadata": {
        "colab": {
          "base_uri": "https://localhost:8080/"
        },
        "id": "L_VLjA8v8rNT",
        "outputId": "50ce2d59-f1f8-46f7-8a89-094ff18ab7e3"
      },
      "source": [
        "# Finding the maximum \n",
        "maximum = tf.math.reduce_max(big_tensor)\n",
        "print(f'The maximum value is: {maximum}')"
      ],
      "execution_count": null,
      "outputs": [
        {
          "output_type": "stream",
          "text": [
            "The maximum value is: 4.403286457061768\n"
          ],
          "name": "stdout"
        }
      ]
    },
    {
      "cell_type": "markdown",
      "metadata": {
        "id": "ImNsRvtD8KdT"
      },
      "source": [
        "### 8. Created a tensor with random values of shape `[1, 224, 224, 3]` then **squeeze** it to change the shape to `[224, 224, 3]`.\n"
      ]
    },
    {
      "cell_type": "code",
      "metadata": {
        "colab": {
          "base_uri": "https://localhost:8080/"
        },
        "id": "RoTvHZn08vBD",
        "outputId": "581a7def-ee4f-466c-c0ae-a2fe44b4ed0e"
      },
      "source": [
        "# Tensor with shape [224 , 224 , 3]\n",
        "unsqueezed_tensor = tf.random.Generator.from_seed(42)\n",
        "unsqueezed_tensor = unsqueezed_tensor.normal(shape = (1 , 224 , 224 , 3))\n",
        "\n",
        "print(f'The shape before squeezing: {unsqueezed_tensor.shape}')"
      ],
      "execution_count": null,
      "outputs": [
        {
          "output_type": "stream",
          "text": [
            "The shape before squeezing: (1, 224, 224, 3)\n"
          ],
          "name": "stdout"
        }
      ]
    },
    {
      "cell_type": "code",
      "metadata": {
        "colab": {
          "base_uri": "https://localhost:8080/"
        },
        "id": "sVozBuAP8xKf",
        "outputId": "65df364c-95a5-4c4a-9ff9-d2f368df9235"
      },
      "source": [
        "# And we are squeezing it \n",
        "squeezed_tensor = tf.squeeze(unsqueezed_tensor)\n",
        "print(f'The shape after squeezing: {squeezed_tensor.shape}')"
      ],
      "execution_count": null,
      "outputs": [
        {
          "output_type": "stream",
          "text": [
            "The shape after squeezing: (224, 224, 3)\n"
          ],
          "name": "stdout"
        }
      ]
    },
    {
      "cell_type": "markdown",
      "metadata": {
        "id": "F6wEXVTH8NaJ"
      },
      "source": [
        "### 9. Create a tensor with shape `[10]` using your own choice of values, then find the **index** which has the **maximum value**.\n"
      ]
    },
    {
      "cell_type": "code",
      "metadata": {
        "colab": {
          "base_uri": "https://localhost:8080/"
        },
        "id": "pJMg2JWm8zb3",
        "outputId": "d580e734-8c6a-4e44-a4ea-027abe28eee1"
      },
      "source": [
        "ten_tensor = tf.constant([0 ,1 ,2 ,3, 4, 9, 10, 0.1 , -000.1 , 6])\n",
        "\n",
        "# Finding the index where value is maximum \n",
        "max_value = tf.math.argmax(ten_tensor)\n",
        "\n",
        "print(f'The indices where the value is maximum: {max_value}')\n",
        "print(f'The maximum value was: {ten_tensor[max_value]}')"
      ],
      "execution_count": null,
      "outputs": [
        {
          "output_type": "stream",
          "text": [
            "The indices where the value is maximum: 6\n",
            "The maximum value was: 10.0\n"
          ],
          "name": "stdout"
        }
      ]
    },
    {
      "cell_type": "markdown",
      "metadata": {
        "id": "y2_OW2lv8Pmx"
      },
      "source": [
        "### 10. **One-hot** encode the tensor you created in 9."
      ]
    },
    {
      "cell_type": "code",
      "metadata": {
        "colab": {
          "base_uri": "https://localhost:8080/"
        },
        "id": "b3v3w8qA8RBw",
        "outputId": "dcec21e7-1880-4ef3-d42d-f3d85d16d9a5"
      },
      "source": [
        "# Throw's an error since I had floating numbers in my tensor, casting to int solved! \n",
        "tf.cast(ten_tensor , dtype=tf.int32)"
      ],
      "execution_count": null,
      "outputs": [
        {
          "output_type": "execute_result",
          "data": {
            "text/plain": [
              "<tf.Tensor: shape=(10,), dtype=int32, numpy=array([ 0,  1,  2,  3,  4,  9, 10,  0,  0,  6], dtype=int32)>"
            ]
          },
          "metadata": {
            "tags": []
          },
          "execution_count": 13
        }
      ]
    },
    {
      "cell_type": "code",
      "metadata": {
        "colab": {
          "base_uri": "https://localhost:8080/"
        },
        "id": "3CWNoe51812a",
        "outputId": "3fb0124d-5bc0-44e3-fb80-949777087f34"
      },
      "source": [
        "# One hot encoding the tensor of shape 10 \n",
        "tf.one_hot(tf.cast(ten_tensor , dtype=tf.int32) , depth = 10)"
      ],
      "execution_count": null,
      "outputs": [
        {
          "output_type": "execute_result",
          "data": {
            "text/plain": [
              "<tf.Tensor: shape=(10, 10), dtype=float32, numpy=\n",
              "array([[1., 0., 0., 0., 0., 0., 0., 0., 0., 0.],\n",
              "       [0., 1., 0., 0., 0., 0., 0., 0., 0., 0.],\n",
              "       [0., 0., 1., 0., 0., 0., 0., 0., 0., 0.],\n",
              "       [0., 0., 0., 1., 0., 0., 0., 0., 0., 0.],\n",
              "       [0., 0., 0., 0., 1., 0., 0., 0., 0., 0.],\n",
              "       [0., 0., 0., 0., 0., 0., 0., 0., 0., 1.],\n",
              "       [0., 0., 0., 0., 0., 0., 0., 0., 0., 0.],\n",
              "       [1., 0., 0., 0., 0., 0., 0., 0., 0., 0.],\n",
              "       [1., 0., 0., 0., 0., 0., 0., 0., 0., 0.],\n",
              "       [0., 0., 0., 0., 0., 0., 1., 0., 0., 0.]], dtype=float32)>"
            ]
          },
          "metadata": {
            "tags": []
          },
          "execution_count": 14
        }
      ]
    },
    {
      "cell_type": "markdown",
      "metadata": {
        "id": "-LfnTPOU83Ze"
      },
      "source": [
        "## Extra Curriculum \n",
        "\n",
        "- Try to create a series of tensor functions to calculate your most recent grocery bill (it's okay if you don't use the names of the items, just the price in numerical form).\n",
        "    - How would you calculate your grocery bill for the month and for the year using tensors?"
      ]
    },
    {
      "cell_type": "code",
      "metadata": {
        "id": "ihyBfMz29Htr"
      },
      "source": [
        ""
      ],
      "execution_count": null,
      "outputs": []
    }
  ]
}
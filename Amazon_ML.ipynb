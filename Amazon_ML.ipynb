{
  "nbformat": 4,
  "nbformat_minor": 0,
  "metadata": {
    "colab": {
      "name": "Amazon_ML.ipynb",
      "provenance": [],
      "collapsed_sections": [],
      "include_colab_link": true
    },
    "kernelspec": {
      "display_name": "Python 3",
      "name": "python3"
    },
    "language_info": {
      "name": "python"
    }
  },
  "cells": [
    {
      "cell_type": "markdown",
      "metadata": {
        "id": "view-in-github",
        "colab_type": "text"
      },
      "source": [
        "<a href=\"https://colab.research.google.com/github/ashikshafi08/Learning_Tensorflow/blob/main/Amazon_ML.ipynb\" target=\"_parent\"><img src=\"https://colab.research.google.com/assets/colab-badge.svg\" alt=\"Open In Colab\"/></a>"
      ]
    },
    {
      "cell_type": "code",
      "metadata": {
        "colab": {
          "base_uri": "https://localhost:8080/"
        },
        "id": "F5DcYq6OKl5s",
        "outputId": "8df335fe-da27-4c91-d6ad-f4b8720d2a47"
      },
      "source": [
        "!wget https://s3-ap-southeast-1.amazonaws.com/he-public-data/dataset52a7b21.zip"
      ],
      "execution_count": null,
      "outputs": [
        {
          "output_type": "stream",
          "text": [
            "--2021-07-30 06:48:12--  https://s3-ap-southeast-1.amazonaws.com/he-public-data/dataset52a7b21.zip\n",
            "Resolving s3-ap-southeast-1.amazonaws.com (s3-ap-southeast-1.amazonaws.com)... 52.219.36.86\n",
            "Connecting to s3-ap-southeast-1.amazonaws.com (s3-ap-southeast-1.amazonaws.com)|52.219.36.86|:443... connected.\n",
            "HTTP request sent, awaiting response... 200 OK\n",
            "Length: 1061576029 (1012M) [binary/octet-stream]\n",
            "Saving to: ‘dataset52a7b21.zip’\n",
            "\n",
            "dataset52a7b21.zip  100%[===================>]   1012M  13.9MB/s    in 76s     \n",
            "\n",
            "2021-07-30 06:49:29 (13.3 MB/s) - ‘dataset52a7b21.zip’ saved [1061576029/1061576029]\n",
            "\n"
          ],
          "name": "stdout"
        }
      ]
    },
    {
      "cell_type": "code",
      "metadata": {
        "colab": {
          "base_uri": "https://localhost:8080/"
        },
        "id": "uK23eox6Ldvv",
        "outputId": "bb842c61-69f3-4b7f-ea8f-9002ed251d85"
      },
      "source": [
        "!unzip /content/dataset52a7b21.zip"
      ],
      "execution_count": null,
      "outputs": [
        {
          "output_type": "stream",
          "text": [
            "Archive:  /content/dataset52a7b21.zip\n",
            "   creating: dataset/\n",
            "  inflating: dataset/train.csv       \n",
            "  inflating: dataset/sample_submission.csv  \n",
            "  inflating: dataset/test.csv        \n",
            "  inflating: dataset/.~lock.train.csv#  \n"
          ],
          "name": "stdout"
        }
      ]
    },
    {
      "cell_type": "code",
      "metadata": {
        "id": "vpu8EvGUL4SW"
      },
      "source": [
        "!mv /content/dataset/ /content/drive/MyDrive/"
      ],
      "execution_count": null,
      "outputs": []
    },
    {
      "cell_type": "code",
      "metadata": {
        "colab": {
          "base_uri": "https://localhost:8080/"
        },
        "id": "pK1UQZ6SvsXA",
        "outputId": "f23e4d4f-2122-4081-a4d8-6ff50e98766a"
      },
      "source": [
        " from google.colab import drive\n",
        "drive.mount('/content/drive/')"
      ],
      "execution_count": 1,
      "outputs": [
        {
          "output_type": "stream",
          "text": [
            "Mounted at /content/drive/\n"
          ],
          "name": "stdout"
        }
      ]
    },
    {
      "cell_type": "code",
      "metadata": {
        "id": "7BUJynKzvyZt"
      },
      "source": [
        "train_path = '/content/drive/MyDrive/dataset/train.csv'\n",
        "test_path = '/content/drive/MyDrive/dataset/test.csv'\n",
        "sample_sub_path = '/content/drive/MyDrive/dataset/sample_submission.csv'"
      ],
      "execution_count": 1,
      "outputs": []
    },
    {
      "cell_type": "code",
      "metadata": {
        "id": "mpZQM5IEwS4t"
      },
      "source": [
        "import pandas as pd \n",
        "import numpy as np \n",
        "import matplotlib.pyplot as plt\n",
        "import csv\n"
      ],
      "execution_count": 2,
      "outputs": []
    },
    {
      "cell_type": "code",
      "metadata": {
        "id": "9KO3umLixP5I"
      },
      "source": [
        "# Loading in the data \n",
        "train_data = pd.read_csv(train_path , escapechar = \"\\\\\" , quoting = csv.QUOTE_NONE)\n",
        "\n",
        "# Loading the test dataset \n",
        "# test_data = pd.read_csv(test_path , escapechar = \"\\\\\" , quoting = csv.QUOTE_NONE)\n",
        "# # Sample submission \n",
        "# sample_sub = pd.read_csv(sample_sub_path , escapechar = \"\\\\\" , quoting = csv.QUOTE_NONE)\n",
        "\n"
      ],
      "execution_count": 3,
      "outputs": []
    },
    {
      "cell_type": "markdown",
      "metadata": {
        "id": "NGCmZ4SS0eAL"
      },
      "source": [
        "## Working with a subset "
      ]
    },
    {
      "cell_type": "markdown",
      "metadata": {
        "id": "akVU_BMo_5Fk"
      },
      "source": [
        "#### Multi-Input Model "
      ]
    },
    {
      "cell_type": "code",
      "metadata": {
        "id": "AUK3EvjLxVIk"
      },
      "source": [
        "# Getting the subset of the sample \n",
        "train_sample = train_data.sample(frac= 1 , random_state= 42)\n",
        "#val_sample = train_data.sample(frac = 0.1 , random_state= 3)"
      ],
      "execution_count": 4,
      "outputs": []
    },
    {
      "cell_type": "code",
      "metadata": {
        "colab": {
          "base_uri": "https://localhost:8080/"
        },
        "id": "s6UOfWp_ZiX9",
        "outputId": "48358df7-8a13-4f0f-cdf8-3dc63d016592"
      },
      "source": [
        "X = train_sample.drop('BROWSE_NODE_ID' , axis = 1)\n",
        "y = train_sample['BROWSE_NODE_ID']\n",
        "\n",
        "X.shape , y.shape"
      ],
      "execution_count": null,
      "outputs": [
        {
          "output_type": "execute_result",
          "data": {
            "text/plain": [
              "((2903024, 4), (2903024,))"
            ]
          },
          "metadata": {
            "tags": []
          },
          "execution_count": 6
        }
      ]
    },
    {
      "cell_type": "code",
      "metadata": {
        "id": "bnwXJqxTZDMu"
      },
      "source": [
        "# from sklearn.model_selection import StratifiedShuffleSplit\n",
        "# strat_split = StratifiedShuffleSplit(n_splits = 1 , test_size = 0.3 , train_size= 0.7  , random_state = 42)"
      ],
      "execution_count": null,
      "outputs": []
    },
    {
      "cell_type": "code",
      "metadata": {
        "colab": {
          "base_uri": "https://localhost:8080/",
          "height": 304
        },
        "id": "1PRM0F9xPz8L",
        "outputId": "b592200b-8f4d-40eb-884a-903a1d280eba"
      },
      "source": [
        "train_sample.head().T"
      ],
      "execution_count": null,
      "outputs": [
        {
          "output_type": "execute_result",
          "data": {
            "text/html": [
              "<div>\n",
              "<style scoped>\n",
              "    .dataframe tbody tr th:only-of-type {\n",
              "        vertical-align: middle;\n",
              "    }\n",
              "\n",
              "    .dataframe tbody tr th {\n",
              "        vertical-align: top;\n",
              "    }\n",
              "\n",
              "    .dataframe thead th {\n",
              "        text-align: right;\n",
              "    }\n",
              "</style>\n",
              "<table border=\"1\" class=\"dataframe\">\n",
              "  <thead>\n",
              "    <tr style=\"text-align: right;\">\n",
              "      <th></th>\n",
              "      <th>2297143</th>\n",
              "      <th>2078681</th>\n",
              "      <th>1125035</th>\n",
              "      <th>1928801</th>\n",
              "      <th>864509</th>\n",
              "    </tr>\n",
              "  </thead>\n",
              "  <tbody>\n",
              "    <tr>\n",
              "      <th>TITLE</th>\n",
              "      <td>Amsik®Blind Spot Round Mirror Black, (Real Gla...</td>\n",
              "      <td>Nivea Face Sun Block Whitening Cream SPF 50 Pa...</td>\n",
              "      <td>ROZVEH Women's Shift Brown Dress</td>\n",
              "      <td>Narayan Creation Pashmina Palazzo Suit Dupatta...</td>\n",
              "      <td>Q-rious Women's Silicon Strap Spagettis/Camiso...</td>\n",
              "    </tr>\n",
              "    <tr>\n",
              "      <th>DESCRIPTION</th>\n",
              "      <td>The mirrors easily mount to the vehicle's left...</td>\n",
              "      <td>Nivea Sun Fac Sun Block Whitening Cream Spf 50...</td>\n",
              "      <td>&lt;p&gt;Super Fine Rayon,&amp;nbsp;Brown Floral Print d...</td>\n",
              "      <td>Narayan creatins pashmina unstitched palazzo s...</td>\n",
              "      <td>Trendy Q-rious Spagetti with sequin detachable...</td>\n",
              "    </tr>\n",
              "    <tr>\n",
              "      <th>BULLET_POINTS</th>\n",
              "      <td>[It is small, but it is smart mirror, and work...</td>\n",
              "      <td>NIVEA face SUN Block Whitening Cream SPF 50 PA ++</td>\n",
              "      <td>[Material: Super Fine Rayon, Brown Floral Prin...</td>\n",
              "      <td>NaN</td>\n",
              "      <td>[Silicon and Elastic strap option,Detachable S...</td>\n",
              "    </tr>\n",
              "    <tr>\n",
              "      <th>BRAND</th>\n",
              "      <td>AMSIK</td>\n",
              "      <td>Nivea</td>\n",
              "      <td>ROZVEH</td>\n",
              "      <td>Generic</td>\n",
              "      <td>Q-rious</td>\n",
              "    </tr>\n",
              "    <tr>\n",
              "      <th>BROWSE_NODE_ID</th>\n",
              "      <td>32296</td>\n",
              "      <td>35</td>\n",
              "      <td>1724</td>\n",
              "      <td>465</td>\n",
              "      <td>2003</td>\n",
              "    </tr>\n",
              "  </tbody>\n",
              "</table>\n",
              "</div>"
            ],
            "text/plain": [
              "                                                          2297143  ...                                            864509 \n",
              "TITLE           Amsik®Blind Spot Round Mirror Black, (Real Gla...  ...  Q-rious Women's Silicon Strap Spagettis/Camiso...\n",
              "DESCRIPTION     The mirrors easily mount to the vehicle's left...  ...  Trendy Q-rious Spagetti with sequin detachable...\n",
              "BULLET_POINTS   [It is small, but it is smart mirror, and work...  ...  [Silicon and Elastic strap option,Detachable S...\n",
              "BRAND                                                       AMSIK  ...                                            Q-rious\n",
              "BROWSE_NODE_ID                                              32296  ...                                               2003\n",
              "\n",
              "[5 rows x 5 columns]"
            ]
          },
          "metadata": {
            "tags": []
          },
          "execution_count": 9
        }
      ]
    },
    {
      "cell_type": "code",
      "metadata": {
        "colab": {
          "base_uri": "https://localhost:8080/"
        },
        "id": "ldpKDxjneiGb",
        "outputId": "31a72768-6782-4b9f-fb80-d03507c50845"
      },
      "source": [
        "y"
      ],
      "execution_count": null,
      "outputs": [
        {
          "output_type": "execute_result",
          "data": {
            "text/plain": [
              "2297143    32296\n",
              "2078681       35\n",
              "1125035     1724\n",
              "1928801      465\n",
              "864509      2003\n",
              "           ...  \n",
              "1692743     1217\n",
              "2356330    21895\n",
              "2229084     1251\n",
              "2768307     1084\n",
              "2219110    45027\n",
              "Name: BROWSE_NODE_ID, Length: 2903024, dtype: int64"
            ]
          },
          "metadata": {
            "tags": []
          },
          "execution_count": 10
        }
      ]
    },
    {
      "cell_type": "code",
      "metadata": {
        "id": "5C-Aw9-EDS0x"
      },
      "source": [
        ""
      ],
      "execution_count": null,
      "outputs": []
    },
    {
      "cell_type": "code",
      "metadata": {
        "colab": {
          "base_uri": "https://localhost:8080/",
          "height": 195
        },
        "id": "Gb1ui0iMZDVW",
        "outputId": "ac65c421-916b-41cb-9f28-15c5a129721c"
      },
      "source": [
        "for train_index , test_index in strat_split.split(X, y):\n",
        "  X_train , X_test = X[train_index] , X[test_index]\n",
        "  y_train , y_test = y[train_index] , y[test_index]"
      ],
      "execution_count": null,
      "outputs": [
        {
          "output_type": "error",
          "ename": "NameError",
          "evalue": "ignored",
          "traceback": [
            "\u001b[0;31m---------------------------------------------------------------------------\u001b[0m",
            "\u001b[0;31mNameError\u001b[0m                                 Traceback (most recent call last)",
            "\u001b[0;32m<ipython-input-11-000031836b79>\u001b[0m in \u001b[0;36m<module>\u001b[0;34m()\u001b[0m\n\u001b[0;32m----> 1\u001b[0;31m \u001b[0;32mfor\u001b[0m \u001b[0mtrain_index\u001b[0m \u001b[0;34m,\u001b[0m \u001b[0mtest_index\u001b[0m \u001b[0;32min\u001b[0m \u001b[0mstrat_split\u001b[0m\u001b[0;34m.\u001b[0m\u001b[0msplit\u001b[0m\u001b[0;34m(\u001b[0m\u001b[0mX\u001b[0m\u001b[0;34m,\u001b[0m \u001b[0my\u001b[0m\u001b[0;34m)\u001b[0m\u001b[0;34m:\u001b[0m\u001b[0;34m\u001b[0m\u001b[0;34m\u001b[0m\u001b[0m\n\u001b[0m\u001b[1;32m      2\u001b[0m   \u001b[0mX_train\u001b[0m \u001b[0;34m,\u001b[0m \u001b[0mX_test\u001b[0m \u001b[0;34m=\u001b[0m \u001b[0mX\u001b[0m\u001b[0;34m[\u001b[0m\u001b[0mtrain_index\u001b[0m\u001b[0;34m]\u001b[0m \u001b[0;34m,\u001b[0m \u001b[0mX\u001b[0m\u001b[0;34m[\u001b[0m\u001b[0mtest_index\u001b[0m\u001b[0;34m]\u001b[0m\u001b[0;34m\u001b[0m\u001b[0;34m\u001b[0m\u001b[0m\n\u001b[1;32m      3\u001b[0m   \u001b[0my_train\u001b[0m \u001b[0;34m,\u001b[0m \u001b[0my_test\u001b[0m \u001b[0;34m=\u001b[0m \u001b[0my\u001b[0m\u001b[0;34m[\u001b[0m\u001b[0mtrain_index\u001b[0m\u001b[0;34m]\u001b[0m \u001b[0;34m,\u001b[0m \u001b[0my\u001b[0m\u001b[0;34m[\u001b[0m\u001b[0mtest_index\u001b[0m\u001b[0;34m]\u001b[0m\u001b[0;34m\u001b[0m\u001b[0;34m\u001b[0m\u001b[0m\n",
            "\u001b[0;31mNameError\u001b[0m: name 'strat_split' is not defined"
          ]
        }
      ]
    },
    {
      "cell_type": "code",
      "metadata": {
        "colab": {
          "base_uri": "https://localhost:8080/"
        },
        "id": "4GxqP2AHXINp",
        "outputId": "9a9b6d77-c2d2-4327-9f00-df9d25a23395"
      },
      "source": [
        "train_sample.BROWSE_NODE_ID.value_counts()"
      ],
      "execution_count": 14,
      "outputs": [
        {
          "output_type": "execute_result",
          "data": {
            "text/plain": [
              "1045       107637\n",
              "5           35441\n",
              "1251        25913\n",
              "1052        22955\n",
              "4           17107\n",
              "            ...  \n",
              "1264876         1\n",
              "643270          1\n",
              "1993035         1\n",
              "1655214         1\n",
              "1533196         1\n",
              "Name: BROWSE_NODE_ID, Length: 9568, dtype: int64"
            ]
          },
          "metadata": {
            "tags": []
          },
          "execution_count": 14
        }
      ]
    },
    {
      "cell_type": "code",
      "metadata": {
        "colab": {
          "base_uri": "https://localhost:8080/",
          "height": 162
        },
        "id": "4QrJR5gpyCdb",
        "outputId": "62937338-cc8c-4e02-8db5-5694f68fab61"
      },
      "source": [
        "train_sample.shape , val_sample.shape"
      ],
      "execution_count": null,
      "outputs": [
        {
          "output_type": "error",
          "ename": "NameError",
          "evalue": "ignored",
          "traceback": [
            "\u001b[0;31m---------------------------------------------------------------------------\u001b[0m",
            "\u001b[0;31mNameError\u001b[0m                                 Traceback (most recent call last)",
            "\u001b[0;32m<ipython-input-13-d039809f4da8>\u001b[0m in \u001b[0;36m<module>\u001b[0;34m()\u001b[0m\n\u001b[0;32m----> 1\u001b[0;31m \u001b[0mtrain_sample\u001b[0m\u001b[0;34m.\u001b[0m\u001b[0mshape\u001b[0m \u001b[0;34m,\u001b[0m \u001b[0mval_sample\u001b[0m\u001b[0;34m.\u001b[0m\u001b[0mshape\u001b[0m\u001b[0;34m\u001b[0m\u001b[0;34m\u001b[0m\u001b[0m\n\u001b[0m",
            "\u001b[0;31mNameError\u001b[0m: name 'val_sample' is not defined"
          ]
        }
      ]
    },
    {
      "cell_type": "code",
      "metadata": {
        "colab": {
          "base_uri": "https://localhost:8080/",
          "height": 287
        },
        "id": "RzXPPQlxzmX7",
        "outputId": "5c0522ad-2efc-4f57-cd11-03df4c2d42e5"
      },
      "source": [
        "train_sample.head()"
      ],
      "execution_count": null,
      "outputs": [
        {
          "output_type": "execute_result",
          "data": {
            "text/html": [
              "<div>\n",
              "<style scoped>\n",
              "    .dataframe tbody tr th:only-of-type {\n",
              "        vertical-align: middle;\n",
              "    }\n",
              "\n",
              "    .dataframe tbody tr th {\n",
              "        vertical-align: top;\n",
              "    }\n",
              "\n",
              "    .dataframe thead th {\n",
              "        text-align: right;\n",
              "    }\n",
              "</style>\n",
              "<table border=\"1\" class=\"dataframe\">\n",
              "  <thead>\n",
              "    <tr style=\"text-align: right;\">\n",
              "      <th></th>\n",
              "      <th>TITLE</th>\n",
              "      <th>DESCRIPTION</th>\n",
              "      <th>BULLET_POINTS</th>\n",
              "      <th>BRAND</th>\n",
              "      <th>BROWSE_NODE_ID</th>\n",
              "    </tr>\n",
              "  </thead>\n",
              "  <tbody>\n",
              "    <tr>\n",
              "      <th>2297143</th>\n",
              "      <td>Amsik®Blind Spot Round Mirror Black, (Real Gla...</td>\n",
              "      <td>The mirrors easily mount to the vehicle's left...</td>\n",
              "      <td>[It is small, but it is smart mirror, and work...</td>\n",
              "      <td>AMSIK</td>\n",
              "      <td>32296</td>\n",
              "    </tr>\n",
              "    <tr>\n",
              "      <th>2078681</th>\n",
              "      <td>Nivea Face Sun Block Whitening Cream SPF 50 Pa...</td>\n",
              "      <td>Nivea Sun Fac Sun Block Whitening Cream Spf 50...</td>\n",
              "      <td>NIVEA face SUN Block Whitening Cream SPF 50 PA ++</td>\n",
              "      <td>Nivea</td>\n",
              "      <td>35</td>\n",
              "    </tr>\n",
              "    <tr>\n",
              "      <th>1125035</th>\n",
              "      <td>ROZVEH Women's Shift Brown Dress</td>\n",
              "      <td>&lt;p&gt;Super Fine Rayon,&amp;nbsp;Brown Floral Print d...</td>\n",
              "      <td>[Material: Super Fine Rayon, Brown Floral Prin...</td>\n",
              "      <td>ROZVEH</td>\n",
              "      <td>1724</td>\n",
              "    </tr>\n",
              "    <tr>\n",
              "      <th>1928801</th>\n",
              "      <td>Narayan Creation Pashmina Palazzo Suit Dupatta...</td>\n",
              "      <td>Narayan creatins pashmina unstitched palazzo s...</td>\n",
              "      <td>NaN</td>\n",
              "      <td>Generic</td>\n",
              "      <td>465</td>\n",
              "    </tr>\n",
              "    <tr>\n",
              "      <th>864509</th>\n",
              "      <td>Q-rious Women's Silicon Strap Spagettis/Camiso...</td>\n",
              "      <td>Trendy Q-rious Spagetti with sequin detachable...</td>\n",
              "      <td>[Silicon and Elastic strap option,Detachable S...</td>\n",
              "      <td>Q-rious</td>\n",
              "      <td>2003</td>\n",
              "    </tr>\n",
              "  </tbody>\n",
              "</table>\n",
              "</div>"
            ],
            "text/plain": [
              "                                                     TITLE  ... BROWSE_NODE_ID\n",
              "2297143  Amsik®Blind Spot Round Mirror Black, (Real Gla...  ...          32296\n",
              "2078681  Nivea Face Sun Block Whitening Cream SPF 50 Pa...  ...             35\n",
              "1125035                   ROZVEH Women's Shift Brown Dress  ...           1724\n",
              "1928801  Narayan Creation Pashmina Palazzo Suit Dupatta...  ...            465\n",
              "864509   Q-rious Women's Silicon Strap Spagettis/Camiso...  ...           2003\n",
              "\n",
              "[5 rows x 5 columns]"
            ]
          },
          "metadata": {
            "tags": []
          },
          "execution_count": 14
        }
      ]
    },
    {
      "cell_type": "code",
      "metadata": {
        "colab": {
          "base_uri": "https://localhost:8080/",
          "height": 508
        },
        "id": "RxUvsyQvznim",
        "outputId": "51fd7de9-77e9-4601-df5a-a8c8c20fb0e4"
      },
      "source": [
        "test_data.head(10)"
      ],
      "execution_count": null,
      "outputs": [
        {
          "output_type": "execute_result",
          "data": {
            "text/html": [
              "<div>\n",
              "<style scoped>\n",
              "    .dataframe tbody tr th:only-of-type {\n",
              "        vertical-align: middle;\n",
              "    }\n",
              "\n",
              "    .dataframe tbody tr th {\n",
              "        vertical-align: top;\n",
              "    }\n",
              "\n",
              "    .dataframe thead th {\n",
              "        text-align: right;\n",
              "    }\n",
              "</style>\n",
              "<table border=\"1\" class=\"dataframe\">\n",
              "  <thead>\n",
              "    <tr style=\"text-align: right;\">\n",
              "      <th></th>\n",
              "      <th>PRODUCT_ID</th>\n",
              "      <th>TITLE</th>\n",
              "      <th>DESCRIPTION</th>\n",
              "      <th>BULLET_POINTS</th>\n",
              "      <th>BRAND</th>\n",
              "    </tr>\n",
              "  </thead>\n",
              "  <tbody>\n",
              "    <tr>\n",
              "      <th>0</th>\n",
              "      <td>1</td>\n",
              "      <td>Command 3M Small Kitchen Hooks, White, Decorat...</td>\n",
              "      <td>Sale Unit: PACK</td>\n",
              "      <td>[INCLUDES - 9 hooks and 12 small indoor strips...</td>\n",
              "      <td>Command</td>\n",
              "    </tr>\n",
              "    <tr>\n",
              "      <th>1</th>\n",
              "      <td>2</td>\n",
              "      <td>O'Neal Jump Hardware JAG Unisex-Adult Glove (B...</td>\n",
              "      <td>Synthetic leather palm with double-layer thumb...</td>\n",
              "      <td>[Silicone printing for a better grip. Long las...</td>\n",
              "      <td>O'Neal</td>\n",
              "    </tr>\n",
              "    <tr>\n",
              "      <th>2</th>\n",
              "      <td>3</td>\n",
              "      <td>NFL Detroit Lions Portable Party Fridge, 15.8 ...</td>\n",
              "      <td>Boelter Brands lets you celebrate your favorit...</td>\n",
              "      <td>[Runs on 12 Volt DC Power or 110 Volt AC Power...</td>\n",
              "      <td>Boelter Brands</td>\n",
              "    </tr>\n",
              "    <tr>\n",
              "      <th>3</th>\n",
              "      <td>4</td>\n",
              "      <td>Panasonic Single Line KX-TS880MX Corded Phone ...</td>\n",
              "      <td>Features: 50 Station Phonebook Corded Phone Al...</td>\n",
              "      <td>Panasonic Landline Phones doesn't come with a ...</td>\n",
              "      <td>Panasonic</td>\n",
              "    </tr>\n",
              "    <tr>\n",
              "      <th>4</th>\n",
              "      <td>5</td>\n",
              "      <td>Zero Baby Girl's 100% Cotton Innerwear Bloomer...</td>\n",
              "      <td>Zero Baby Girl Panties Set. 100% Cotton, Breat...</td>\n",
              "      <td>[Zero Baby Girl Panties, Pack of 6, 100% Cotto...</td>\n",
              "      <td>Zero</td>\n",
              "    </tr>\n",
              "    <tr>\n",
              "      <th>5</th>\n",
              "      <td>6</td>\n",
              "      <td>NiZHi TT-028 MP3 Mini Digital Portable Music P...</td>\n",
              "      <td>Features: - Hi-Fi &amp; clear loud sound output. -...</td>\n",
              "      <td>[Supports micro SD/TF card, USB flash disk, FM...</td>\n",
              "      <td>Nizhi</td>\n",
              "    </tr>\n",
              "    <tr>\n",
              "      <th>6</th>\n",
              "      <td>7</td>\n",
              "      <td>IXS Men's RS-200 Gloves (Black/Hi-Viz Yellow, ...</td>\n",
              "      <td>Sport glove made of goatskin leather . Light t...</td>\n",
              "      <td>NaN</td>\n",
              "      <td>IXS</td>\n",
              "    </tr>\n",
              "    <tr>\n",
              "      <th>7</th>\n",
              "      <td>8</td>\n",
              "      <td>C00093227 500ml Fridge Care</td>\n",
              "      <td>NaN</td>\n",
              "      <td>NaN</td>\n",
              "      <td>NaN</td>\n",
              "    </tr>\n",
              "    <tr>\n",
              "      <th>8</th>\n",
              "      <td>9</td>\n",
              "      <td>NBA Los Angeles Clippers Dorm Room Fridge, 1.7...</td>\n",
              "      <td>Dorm room, game room, TV room, fan cave or any...</td>\n",
              "      <td>[Features 7 Cooling Settings for Refrigeration...</td>\n",
              "      <td>Boelter Brands</td>\n",
              "    </tr>\n",
              "    <tr>\n",
              "      <th>9</th>\n",
              "      <td>10</td>\n",
              "      <td>One Industries Zero Zerope Gloves (Cyan/Red, M...</td>\n",
              "      <td>Manufacturers Part Number: 52083-334-009</td>\n",
              "      <td>Manufacturers Part Number: 52083-334-009</td>\n",
              "      <td>One Industries</td>\n",
              "    </tr>\n",
              "  </tbody>\n",
              "</table>\n",
              "</div>"
            ],
            "text/plain": [
              "   PRODUCT_ID  ...           BRAND\n",
              "0           1  ...         Command\n",
              "1           2  ...          O'Neal\n",
              "2           3  ...  Boelter Brands\n",
              "3           4  ...       Panasonic\n",
              "4           5  ...            Zero\n",
              "5           6  ...           Nizhi\n",
              "6           7  ...             IXS\n",
              "7           8  ...             NaN\n",
              "8           9  ...  Boelter Brands\n",
              "9          10  ...  One Industries\n",
              "\n",
              "[10 rows x 5 columns]"
            ]
          },
          "metadata": {
            "tags": []
          },
          "execution_count": 15
        }
      ]
    },
    {
      "cell_type": "code",
      "metadata": {
        "colab": {
          "base_uri": "https://localhost:8080/"
        },
        "id": "nw8Ql7Gm1GeR",
        "outputId": "14ea73a7-8ccd-48ba-8b4a-dc6d68a67f3b"
      },
      "source": [
        "train_data.isna().sum()"
      ],
      "execution_count": null,
      "outputs": [
        {
          "output_type": "execute_result",
          "data": {
            "text/plain": [
              "TITLE                 71\n",
              "DESCRIPTION       723664\n",
              "BULLET_POINTS     166263\n",
              "BRAND              56737\n",
              "BROWSE_NODE_ID         0\n",
              "dtype: int64"
            ]
          },
          "metadata": {
            "tags": []
          },
          "execution_count": 16
        }
      ]
    },
    {
      "cell_type": "code",
      "metadata": {
        "id": "SKt5IYZDv4Ms"
      },
      "source": [
        "train_sample.fillna(method= )"
      ],
      "execution_count": null,
      "outputs": []
    },
    {
      "cell_type": "code",
      "metadata": {
        "id": "LO3DS0Cp3FxL"
      },
      "source": [
        "train_sample['Info'] = train_sample.DESCRIPTION.astype(str) + '  '+  train_sample.BULLET_POINTS.astype(str)\n",
        "train_sample['title'] = train_sample.TITLE.astype(str)"
      ],
      "execution_count": 5,
      "outputs": []
    },
    {
      "cell_type": "code",
      "metadata": {
        "colab": {
          "base_uri": "https://localhost:8080/",
          "height": 835
        },
        "id": "uhh9e2r_68t-",
        "outputId": "a1899079-edcc-4628-a436-b83ca75eb2a4"
      },
      "source": [
        "train_sample.head(10)"
      ],
      "execution_count": 7,
      "outputs": [
        {
          "output_type": "execute_result",
          "data": {
            "text/html": [
              "<div>\n",
              "<style scoped>\n",
              "    .dataframe tbody tr th:only-of-type {\n",
              "        vertical-align: middle;\n",
              "    }\n",
              "\n",
              "    .dataframe tbody tr th {\n",
              "        vertical-align: top;\n",
              "    }\n",
              "\n",
              "    .dataframe thead th {\n",
              "        text-align: right;\n",
              "    }\n",
              "</style>\n",
              "<table border=\"1\" class=\"dataframe\">\n",
              "  <thead>\n",
              "    <tr style=\"text-align: right;\">\n",
              "      <th></th>\n",
              "      <th>TITLE</th>\n",
              "      <th>DESCRIPTION</th>\n",
              "      <th>BULLET_POINTS</th>\n",
              "      <th>BRAND</th>\n",
              "      <th>BROWSE_NODE_ID</th>\n",
              "      <th>Info</th>\n",
              "      <th>title</th>\n",
              "    </tr>\n",
              "  </thead>\n",
              "  <tbody>\n",
              "    <tr>\n",
              "      <th>2297143</th>\n",
              "      <td>Amsik®Blind Spot Round Mirror Black, (Real Gla...</td>\n",
              "      <td>The mirrors easily mount to the vehicle's left...</td>\n",
              "      <td>[It is small, but it is smart mirror, and work...</td>\n",
              "      <td>AMSIK</td>\n",
              "      <td>32296</td>\n",
              "      <td>The mirrors easily mount to the vehicle's left...</td>\n",
              "      <td>Amsik®Blind Spot Round Mirror Black, (Real Gla...</td>\n",
              "    </tr>\n",
              "    <tr>\n",
              "      <th>2078681</th>\n",
              "      <td>Nivea Face Sun Block Whitening Cream SPF 50 Pa...</td>\n",
              "      <td>Nivea Sun Fac Sun Block Whitening Cream Spf 50...</td>\n",
              "      <td>NIVEA face SUN Block Whitening Cream SPF 50 PA ++</td>\n",
              "      <td>Nivea</td>\n",
              "      <td>35</td>\n",
              "      <td>Nivea Sun Fac Sun Block Whitening Cream Spf 50...</td>\n",
              "      <td>Nivea Face Sun Block Whitening Cream SPF 50 Pa...</td>\n",
              "    </tr>\n",
              "    <tr>\n",
              "      <th>1125035</th>\n",
              "      <td>ROZVEH Women's Shift Brown Dress</td>\n",
              "      <td>&lt;p&gt;Super Fine Rayon,&amp;nbsp;Brown Floral Print d...</td>\n",
              "      <td>[Material: Super Fine Rayon, Brown Floral Prin...</td>\n",
              "      <td>ROZVEH</td>\n",
              "      <td>1724</td>\n",
              "      <td>&lt;p&gt;Super Fine Rayon,&amp;nbsp;Brown Floral Print d...</td>\n",
              "      <td>ROZVEH Women's Shift Brown Dress</td>\n",
              "    </tr>\n",
              "    <tr>\n",
              "      <th>1928801</th>\n",
              "      <td>Narayan Creation Pashmina Palazzo Suit Dupatta...</td>\n",
              "      <td>Narayan creatins pashmina unstitched palazzo s...</td>\n",
              "      <td>NaN</td>\n",
              "      <td>Generic</td>\n",
              "      <td>465</td>\n",
              "      <td>Narayan creatins pashmina unstitched palazzo s...</td>\n",
              "      <td>Narayan Creation Pashmina Palazzo Suit Dupatta...</td>\n",
              "    </tr>\n",
              "    <tr>\n",
              "      <th>864509</th>\n",
              "      <td>Q-rious Women's Silicon Strap Spagettis/Camiso...</td>\n",
              "      <td>Trendy Q-rious Spagetti with sequin detachable...</td>\n",
              "      <td>[Silicon and Elastic strap option,Detachable S...</td>\n",
              "      <td>Q-rious</td>\n",
              "      <td>2003</td>\n",
              "      <td>Trendy Q-rious Spagetti with sequin detachable...</td>\n",
              "      <td>Q-rious Women's Silicon Strap Spagettis/Camiso...</td>\n",
              "    </tr>\n",
              "    <tr>\n",
              "      <th>1613202</th>\n",
              "      <td>Hanes Men's Pullover EcoSmart Fleece Hooded Sw...</td>\n",
              "      <td>NaN</td>\n",
              "      <td>[Made with a portion of recycled polyester,Pat...</td>\n",
              "      <td>Hanes</td>\n",
              "      <td>3355</td>\n",
              "      <td>nan  [Made with a portion of recycled polyeste...</td>\n",
              "      <td>Hanes Men's Pullover EcoSmart Fleece Hooded Sw...</td>\n",
              "    </tr>\n",
              "    <tr>\n",
              "      <th>1794644</th>\n",
              "      <td>Lixada Aluminum Alloy Stem Bike Bicycle Cyclin...</td>\n",
              "      <td>Aluminum alloy construction makes it a lightwe...</td>\n",
              "      <td>[For 31.8mm handlebar.,For 28.6mm front fork s...</td>\n",
              "      <td>Lixada</td>\n",
              "      <td>61384</td>\n",
              "      <td>Aluminum alloy construction makes it a lightwe...</td>\n",
              "      <td>Lixada Aluminum Alloy Stem Bike Bicycle Cyclin...</td>\n",
              "    </tr>\n",
              "    <tr>\n",
              "      <th>1306751</th>\n",
              "      <td>Verca Cotton;Fabric Krishna Bal Gopal Poshak (...</td>\n",
              "      <td>Explore wide range of home décor products from...</td>\n",
              "      <td>[Quality Guaranteed,Easy Return and Exchange,L...</td>\n",
              "      <td>Verca</td>\n",
              "      <td>1287</td>\n",
              "      <td>Explore wide range of home décor products from...</td>\n",
              "      <td>Verca Cotton;Fabric Krishna Bal Gopal Poshak (...</td>\n",
              "    </tr>\n",
              "    <tr>\n",
              "      <th>2031708</th>\n",
              "      <td>EVERWILLOW Girl's Satin Silk Lehenga Choli (Pu...</td>\n",
              "      <td>Pure Satin Silk Lehenga Blouse Set. Featuring ...</td>\n",
              "      <td>[Wash Care : Dry Clean and Hend Wash.,In the P...</td>\n",
              "      <td>EVERWILLOW</td>\n",
              "      <td>5173</td>\n",
              "      <td>Pure Satin Silk Lehenga Blouse Set. Featuring ...</td>\n",
              "      <td>EVERWILLOW Girl's Satin Silk Lehenga Choli (Pu...</td>\n",
              "    </tr>\n",
              "    <tr>\n",
              "      <th>1093990</th>\n",
              "      <td>Vimes All Side Protection Sleek Rubberised Mat...</td>\n",
              "      <td>&lt;p&gt;\"&lt;/p&gt; &lt;p&gt;&lt;strong&gt;Vimes back cover case for ...</td>\n",
              "      <td>[Camera Protection Technology - Introducing Ou...</td>\n",
              "      <td>VIMES</td>\n",
              "      <td>2040</td>\n",
              "      <td>&lt;p&gt;\"&lt;/p&gt; &lt;p&gt;&lt;strong&gt;Vimes back cover case for ...</td>\n",
              "      <td>Vimes All Side Protection Sleek Rubberised Mat...</td>\n",
              "    </tr>\n",
              "  </tbody>\n",
              "</table>\n",
              "</div>"
            ],
            "text/plain": [
              "                                                     TITLE  ...                                              title\n",
              "2297143  Amsik®Blind Spot Round Mirror Black, (Real Gla...  ...  Amsik®Blind Spot Round Mirror Black, (Real Gla...\n",
              "2078681  Nivea Face Sun Block Whitening Cream SPF 50 Pa...  ...  Nivea Face Sun Block Whitening Cream SPF 50 Pa...\n",
              "1125035                   ROZVEH Women's Shift Brown Dress  ...                   ROZVEH Women's Shift Brown Dress\n",
              "1928801  Narayan Creation Pashmina Palazzo Suit Dupatta...  ...  Narayan Creation Pashmina Palazzo Suit Dupatta...\n",
              "864509   Q-rious Women's Silicon Strap Spagettis/Camiso...  ...  Q-rious Women's Silicon Strap Spagettis/Camiso...\n",
              "1613202  Hanes Men's Pullover EcoSmart Fleece Hooded Sw...  ...  Hanes Men's Pullover EcoSmart Fleece Hooded Sw...\n",
              "1794644  Lixada Aluminum Alloy Stem Bike Bicycle Cyclin...  ...  Lixada Aluminum Alloy Stem Bike Bicycle Cyclin...\n",
              "1306751  Verca Cotton;Fabric Krishna Bal Gopal Poshak (...  ...  Verca Cotton;Fabric Krishna Bal Gopal Poshak (...\n",
              "2031708  EVERWILLOW Girl's Satin Silk Lehenga Choli (Pu...  ...  EVERWILLOW Girl's Satin Silk Lehenga Choli (Pu...\n",
              "1093990  Vimes All Side Protection Sleek Rubberised Mat...  ...  Vimes All Side Protection Sleek Rubberised Mat...\n",
              "\n",
              "[10 rows x 7 columns]"
            ]
          },
          "metadata": {
            "tags": []
          },
          "execution_count": 7
        }
      ]
    },
    {
      "cell_type": "code",
      "metadata": {
        "colab": {
          "base_uri": "https://localhost:8080/"
        },
        "id": "NFk9iUQI7HuD",
        "outputId": "207c5d2b-d066-445f-92c1-87716bc445be"
      },
      "source": [
        "train_sample.isna().sum()"
      ],
      "execution_count": 9,
      "outputs": [
        {
          "output_type": "execute_result",
          "data": {
            "text/plain": [
              "TITLE                 32\n",
              "DESCRIPTION       362127\n",
              "BULLET_POINTS      83196\n",
              "BRAND              28235\n",
              "BROWSE_NODE_ID         0\n",
              "Info                   0\n",
              "title                  0\n",
              "dtype: int64"
            ]
          },
          "metadata": {
            "tags": []
          },
          "execution_count": 9
        }
      ]
    },
    {
      "cell_type": "code",
      "metadata": {
        "colab": {
          "base_uri": "https://localhost:8080/"
        },
        "id": "IZjrCrsp9FiO",
        "outputId": "893a00bb-b304-4094-cf0b-f9d0b9684c4f"
      },
      "source": [
        "train_sample['BROWSE_NODE_ID']"
      ],
      "execution_count": null,
      "outputs": [
        {
          "output_type": "execute_result",
          "data": {
            "text/plain": [
              "2297143    32296\n",
              "2078681       35\n",
              "1125035     1724\n",
              "1928801      465\n",
              "864509      2003\n",
              "           ...  \n",
              "1692743     1217\n",
              "2356330    21895\n",
              "2229084     1251\n",
              "2768307     1084\n",
              "2219110    45027\n",
              "Name: BROWSE_NODE_ID, Length: 2903024, dtype: int64"
            ]
          },
          "metadata": {
            "tags": []
          },
          "execution_count": 20
        }
      ]
    },
    {
      "cell_type": "code",
      "metadata": {
        "colab": {
          "base_uri": "https://localhost:8080/"
        },
        "id": "FhgAb2Y99LPc",
        "outputId": "cc78c858-69e0-4e1e-ca6e-877e42d6e0b0"
      },
      "source": [
        "train_sample[['TITLE' , 'Info']].values"
      ],
      "execution_count": null,
      "outputs": [
        {
          "output_type": "execute_result",
          "data": {
            "text/plain": [
              "array([['Amsik®Blind Spot Round Mirror Black, (Real Glass Made, 2 Pcs/Set) for Toyota Fortuner',\n",
              "        'The mirrors easily mount to the vehicle\\'s left and right side mirrors with pre in sided foam tape and successfully achieved the goal of adding vehicle by enhancing the visibility for the driver Which helping the driver to make safe lane change other drivers in the \"blind spot\" and helping reduce accidents. Includes one pair of mirrors. 2\" size with universal size. Does not spoil the mirror look even if removed later. it is best round blind spot mirror from crest.  [It is small, but it is smart mirror, and works together with the side mirror so great,The blind spots mirrors can be 360° rotatable + 30° sway adjustable with the angle regulator type .,Upgraded real glass mirror body, equips with strong 3M adhesive tape for fast installation.,2 Pcs/set with double tape packaged in all English instruction.]'],\n",
              "       ['Nivea Face Sun Block Whitening Cream SPF 50 Pa ++ Made in Thailand',\n",
              "        \"Nivea Sun Fac Sun Block Whitening Cream Spf 50 Very High Protection For Sun Sensitive And Fair Skin Active Uv Cell Protection Effective Protection Of The Deeper Layers Of The Skin Cells Against Skin Darkenting And Uv Damage With An Innovative Uva+Uvb Filter System And Vitamin E Active Whitening Care - Give The Skin A Fair And Radiant Look With The Lightening Ingredient Licorice Extract The Non-Sticky Formula Leaves The Skin Smooth And Supple This Item Is Popular For Whitening It Is In The Top-Pick From Shelf At World Class Department Stores In Bangkok Thailand You May Not Find Some Of This Item At Your Local Store A Friend Of Mine From Other Countries Have Bought Huge Lots Back To Their Home It'S Rare Do Not Miss It! Manufactured: Beiersdorf ( Thailand ) Co,Ltd  NIVEA face SUN Block Whitening Cream SPF 50 PA ++\"],\n",
              "       [\"ROZVEH Women's Shift Brown Dress\",\n",
              "        '<p>Super Fine Rayon,&nbsp;Brown Floral Print dress with Deep V-neck, and wide, kimono sleeves. Figure-skimming sheath skirt (with elastic back) falls below a cutout back with top button, hook clasp closure</p> <p><strong>Material &amp; Care<br /></strong>Fabric: Rayon, Gentle machine wash, Cold hand wash</p> <p><strong>Complete The Look&nbsp;<br /></strong>This dress from ROZVEH is both durable and stylish, making it a must-have item. Dress to the nines for your party this weekend by styling this floral print brown piece with cute clutch.</p>  [Material: Super Fine Rayon, Brown Floral Print Dress, Has a V-Neck And Wide, Kimoono Sleeves,Fitting Type: Slim,Occasion: Casual, Party and Office wear,Color: Brown,Wash Care: Cold Hand wash, Gentle machine wash]'],\n",
              "       ...,\n",
              "       [\"SOCH Women's Cotton Straight Kurta NC KT 4402-BLACK-CREAM_Black_Small\",\n",
              "        'nan  [Color Name: Black,100% Cotton,Knee length,Dry clean only]'],\n",
              "       ['Kuber Industries 100 Percent Cotton 144 TC Single Bed Sheet with 1 Pillow Covers (Light Green), CTKTC13535',\n",
              "        'nan  [Color: Light Green, Size Name: Standard,Material: Cotton, Thread Count: 144,Package Contents: 1 Piece Single Bed sheet with 1 Pillow Covers,Size: 152X228X1 CM,This bed sheet will add elegance to your bedroom and will make a timeless addition to both modern and traditional homes,This is soft and attractive bed sheet and smooth and soft to touch,This bed sheet gives the graceful look to your bed room, enjoy a cool and comfortable night’s sleep with the kuber industries cotton bad sheet]'],\n",
              "       ['MEDHA D.J. PLUS Professional SSA-250 Karoke PA Amplifier 6 Mic Input, 2 Aux, FM/USB Player with Bluetooth (250W RMS)',\n",
              "        'SSA-250 is a PA mixer amplifier of rated output 300 watts, fitted with a MP3 Digital Player. The Digital Player features outstanding wide spectrum sound quality, combined with highly useful features like LCD display, remote control, and facilities for REPEAT, PAUSE, VOLUME UP / DOWN etc. It can read USB drives, SD & MMC cards.SSA-250DP has all the other features of the popular SSA-250M model, like 6 Mic inputs, 2 Aux inputs, cut / boost type bass & treble controls, resettable circuit protector, and provision for connecting 24V battery. Facility is given for mixing MP3 playback signal with both Aux and most mic inputs.  [MEDHA D.J. PLUS -250 is PA Amplifier with inbuilt MP3 Digital Player and Bluetooth Receiver. Built with a aesthetically designed metal front panel, it is an elegant, state-of-the-art product.Bluetooth Connectivity enables the user to connect their smart phone with this amplifier. The Digital Player plays back clear, high-class Mp3 music from a USB drive. Remote control is provided for easily operating the Digital Player from a distance,Line Input for connecting the output from any external mixer or permitting SSA-250DP to be used as a Booster Power Amplifier .Resettable circuit breaker for protection against overload and short circuit.Instant transfer to DC power (2Ã— 12C Car Battery) if AC power fails.Box Speaker/Driver Unit selector switch. Bass boost defeated at Driver Unit position for safer operation of driver units.,Suitable for Office, Factory, Schools, Satsang Bhawan, Mosque, Temple, Gurudwara, Church, Coaching Centre,his is a rugged and highly reliable product, ideally suited for a wide variety of music and public address applications.6 Mic & 2 Aux Inputs.,Built-in MP3 player with LCD display, remote control, for USB, SD/MMC cards.Preamplifier and Line Output for connecting to a Booster Amplifier and for recording the programme.]']],\n",
              "      dtype=object)"
            ]
          },
          "metadata": {
            "tags": []
          },
          "execution_count": 21
        }
      ]
    },
    {
      "cell_type": "code",
      "metadata": {
        "colab": {
          "base_uri": "https://localhost:8080/",
          "height": 408
        },
        "id": "ZptXdOTg9PBQ",
        "outputId": "b726af40-d75d-4dbc-8258-b7ab49f5d8b7"
      },
      "source": [
        "new_train_sample = train_sample.copy()\n",
        "new_train_sample.head()"
      ],
      "execution_count": 6,
      "outputs": [
        {
          "output_type": "execute_result",
          "data": {
            "text/html": [
              "<div>\n",
              "<style scoped>\n",
              "    .dataframe tbody tr th:only-of-type {\n",
              "        vertical-align: middle;\n",
              "    }\n",
              "\n",
              "    .dataframe tbody tr th {\n",
              "        vertical-align: top;\n",
              "    }\n",
              "\n",
              "    .dataframe thead th {\n",
              "        text-align: right;\n",
              "    }\n",
              "</style>\n",
              "<table border=\"1\" class=\"dataframe\">\n",
              "  <thead>\n",
              "    <tr style=\"text-align: right;\">\n",
              "      <th></th>\n",
              "      <th>TITLE</th>\n",
              "      <th>DESCRIPTION</th>\n",
              "      <th>BULLET_POINTS</th>\n",
              "      <th>BRAND</th>\n",
              "      <th>BROWSE_NODE_ID</th>\n",
              "      <th>Info</th>\n",
              "      <th>title</th>\n",
              "    </tr>\n",
              "  </thead>\n",
              "  <tbody>\n",
              "    <tr>\n",
              "      <th>2297143</th>\n",
              "      <td>Amsik®Blind Spot Round Mirror Black, (Real Gla...</td>\n",
              "      <td>The mirrors easily mount to the vehicle's left...</td>\n",
              "      <td>[It is small, but it is smart mirror, and work...</td>\n",
              "      <td>AMSIK</td>\n",
              "      <td>32296</td>\n",
              "      <td>The mirrors easily mount to the vehicle's left...</td>\n",
              "      <td>Amsik®Blind Spot Round Mirror Black, (Real Gla...</td>\n",
              "    </tr>\n",
              "    <tr>\n",
              "      <th>2078681</th>\n",
              "      <td>Nivea Face Sun Block Whitening Cream SPF 50 Pa...</td>\n",
              "      <td>Nivea Sun Fac Sun Block Whitening Cream Spf 50...</td>\n",
              "      <td>NIVEA face SUN Block Whitening Cream SPF 50 PA ++</td>\n",
              "      <td>Nivea</td>\n",
              "      <td>35</td>\n",
              "      <td>Nivea Sun Fac Sun Block Whitening Cream Spf 50...</td>\n",
              "      <td>Nivea Face Sun Block Whitening Cream SPF 50 Pa...</td>\n",
              "    </tr>\n",
              "    <tr>\n",
              "      <th>1125035</th>\n",
              "      <td>ROZVEH Women's Shift Brown Dress</td>\n",
              "      <td>&lt;p&gt;Super Fine Rayon,&amp;nbsp;Brown Floral Print d...</td>\n",
              "      <td>[Material: Super Fine Rayon, Brown Floral Prin...</td>\n",
              "      <td>ROZVEH</td>\n",
              "      <td>1724</td>\n",
              "      <td>&lt;p&gt;Super Fine Rayon,&amp;nbsp;Brown Floral Print d...</td>\n",
              "      <td>ROZVEH Women's Shift Brown Dress</td>\n",
              "    </tr>\n",
              "    <tr>\n",
              "      <th>1928801</th>\n",
              "      <td>Narayan Creation Pashmina Palazzo Suit Dupatta...</td>\n",
              "      <td>Narayan creatins pashmina unstitched palazzo s...</td>\n",
              "      <td>NaN</td>\n",
              "      <td>Generic</td>\n",
              "      <td>465</td>\n",
              "      <td>Narayan creatins pashmina unstitched palazzo s...</td>\n",
              "      <td>Narayan Creation Pashmina Palazzo Suit Dupatta...</td>\n",
              "    </tr>\n",
              "    <tr>\n",
              "      <th>864509</th>\n",
              "      <td>Q-rious Women's Silicon Strap Spagettis/Camiso...</td>\n",
              "      <td>Trendy Q-rious Spagetti with sequin detachable...</td>\n",
              "      <td>[Silicon and Elastic strap option,Detachable S...</td>\n",
              "      <td>Q-rious</td>\n",
              "      <td>2003</td>\n",
              "      <td>Trendy Q-rious Spagetti with sequin detachable...</td>\n",
              "      <td>Q-rious Women's Silicon Strap Spagettis/Camiso...</td>\n",
              "    </tr>\n",
              "  </tbody>\n",
              "</table>\n",
              "</div>"
            ],
            "text/plain": [
              "                                                     TITLE  ...                                              title\n",
              "2297143  Amsik®Blind Spot Round Mirror Black, (Real Gla...  ...  Amsik®Blind Spot Round Mirror Black, (Real Gla...\n",
              "2078681  Nivea Face Sun Block Whitening Cream SPF 50 Pa...  ...  Nivea Face Sun Block Whitening Cream SPF 50 Pa...\n",
              "1125035                   ROZVEH Women's Shift Brown Dress  ...                   ROZVEH Women's Shift Brown Dress\n",
              "1928801  Narayan Creation Pashmina Palazzo Suit Dupatta...  ...  Narayan Creation Pashmina Palazzo Suit Dupatta...\n",
              "864509   Q-rious Women's Silicon Strap Spagettis/Camiso...  ...  Q-rious Women's Silicon Strap Spagettis/Camiso...\n",
              "\n",
              "[5 rows x 7 columns]"
            ]
          },
          "metadata": {
            "tags": []
          },
          "execution_count": 6
        }
      ]
    },
    {
      "cell_type": "code",
      "metadata": {
        "id": "hGlXBdsz_FE9"
      },
      "source": [
        "new_train_sample = new_train_sample.drop(columns = ['DESCRIPTION' , 'BULLET_POINTS'] , axis = 1)"
      ],
      "execution_count": null,
      "outputs": []
    },
    {
      "cell_type": "code",
      "metadata": {
        "colab": {
          "base_uri": "https://localhost:8080/",
          "height": 417
        },
        "id": "9lTJuxCo_cfB",
        "outputId": "e877a3dd-4c7b-4a7a-b279-8c5c27dc15ee"
      },
      "source": [
        "new_train_sample"
      ],
      "execution_count": null,
      "outputs": [
        {
          "output_type": "execute_result",
          "data": {
            "text/html": [
              "<div>\n",
              "<style scoped>\n",
              "    .dataframe tbody tr th:only-of-type {\n",
              "        vertical-align: middle;\n",
              "    }\n",
              "\n",
              "    .dataframe tbody tr th {\n",
              "        vertical-align: top;\n",
              "    }\n",
              "\n",
              "    .dataframe thead th {\n",
              "        text-align: right;\n",
              "    }\n",
              "</style>\n",
              "<table border=\"1\" class=\"dataframe\">\n",
              "  <thead>\n",
              "    <tr style=\"text-align: right;\">\n",
              "      <th></th>\n",
              "      <th>TITLE</th>\n",
              "      <th>BRAND</th>\n",
              "      <th>BROWSE_NODE_ID</th>\n",
              "      <th>Info</th>\n",
              "    </tr>\n",
              "  </thead>\n",
              "  <tbody>\n",
              "    <tr>\n",
              "      <th>2297143</th>\n",
              "      <td>Amsik®Blind Spot Round Mirror Black, (Real Gla...</td>\n",
              "      <td>AMSIK</td>\n",
              "      <td>32296</td>\n",
              "      <td>The mirrors easily mount to the vehicle's left...</td>\n",
              "    </tr>\n",
              "    <tr>\n",
              "      <th>2078681</th>\n",
              "      <td>Nivea Face Sun Block Whitening Cream SPF 50 Pa...</td>\n",
              "      <td>Nivea</td>\n",
              "      <td>35</td>\n",
              "      <td>Nivea Sun Fac Sun Block Whitening Cream Spf 50...</td>\n",
              "    </tr>\n",
              "    <tr>\n",
              "      <th>1125035</th>\n",
              "      <td>ROZVEH Women's Shift Brown Dress</td>\n",
              "      <td>ROZVEH</td>\n",
              "      <td>1724</td>\n",
              "      <td>&lt;p&gt;Super Fine Rayon,&amp;nbsp;Brown Floral Print d...</td>\n",
              "    </tr>\n",
              "    <tr>\n",
              "      <th>1928801</th>\n",
              "      <td>Narayan Creation Pashmina Palazzo Suit Dupatta...</td>\n",
              "      <td>Generic</td>\n",
              "      <td>465</td>\n",
              "      <td>Narayan creatins pashmina unstitched palazzo s...</td>\n",
              "    </tr>\n",
              "    <tr>\n",
              "      <th>864509</th>\n",
              "      <td>Q-rious Women's Silicon Strap Spagettis/Camiso...</td>\n",
              "      <td>Q-rious</td>\n",
              "      <td>2003</td>\n",
              "      <td>Trendy Q-rious Spagetti with sequin detachable...</td>\n",
              "    </tr>\n",
              "    <tr>\n",
              "      <th>...</th>\n",
              "      <td>...</td>\n",
              "      <td>...</td>\n",
              "      <td>...</td>\n",
              "      <td>...</td>\n",
              "    </tr>\n",
              "    <tr>\n",
              "      <th>1692743</th>\n",
              "      <td>Zemic Baby Waterproof Double Sided Mat (6 X 5 ...</td>\n",
              "      <td>Zemic</td>\n",
              "      <td>1217</td>\n",
              "      <td>&lt;p&gt;SOFT FOAM PLAYMAT: Extra-cushioned, soft PE...</td>\n",
              "    </tr>\n",
              "    <tr>\n",
              "      <th>2356330</th>\n",
              "      <td>The Design Cart Stainless Steel Style A Needle...</td>\n",
              "      <td>The Design Cart</td>\n",
              "      <td>21895</td>\n",
              "      <td>Use these aari needles for thread work on silk...</td>\n",
              "    </tr>\n",
              "    <tr>\n",
              "      <th>2229084</th>\n",
              "      <td>SOCH Women's Cotton Straight Kurta NC KT 4402-...</td>\n",
              "      <td>Soch</td>\n",
              "      <td>1251</td>\n",
              "      <td>nan  [Color Name: Black,100% Cotton,Knee lengt...</td>\n",
              "    </tr>\n",
              "    <tr>\n",
              "      <th>2768307</th>\n",
              "      <td>Kuber Industries 100 Percent Cotton 144 TC Sin...</td>\n",
              "      <td>Kuber Industries</td>\n",
              "      <td>1084</td>\n",
              "      <td>nan  [Color: Light Green, Size Name: Standard,...</td>\n",
              "    </tr>\n",
              "    <tr>\n",
              "      <th>2219110</th>\n",
              "      <td>MEDHA D.J. PLUS Professional SSA-250 Karoke PA...</td>\n",
              "      <td>MEDHA D.J. PLUS</td>\n",
              "      <td>45027</td>\n",
              "      <td>SSA-250 is a PA mixer amplifier of rated outpu...</td>\n",
              "    </tr>\n",
              "  </tbody>\n",
              "</table>\n",
              "<p>2903024 rows × 4 columns</p>\n",
              "</div>"
            ],
            "text/plain": [
              "                                                     TITLE  ...                                               Info\n",
              "2297143  Amsik®Blind Spot Round Mirror Black, (Real Gla...  ...  The mirrors easily mount to the vehicle's left...\n",
              "2078681  Nivea Face Sun Block Whitening Cream SPF 50 Pa...  ...  Nivea Sun Fac Sun Block Whitening Cream Spf 50...\n",
              "1125035                   ROZVEH Women's Shift Brown Dress  ...  <p>Super Fine Rayon,&nbsp;Brown Floral Print d...\n",
              "1928801  Narayan Creation Pashmina Palazzo Suit Dupatta...  ...  Narayan creatins pashmina unstitched palazzo s...\n",
              "864509   Q-rious Women's Silicon Strap Spagettis/Camiso...  ...  Trendy Q-rious Spagetti with sequin detachable...\n",
              "...                                                    ...  ...                                                ...\n",
              "1692743  Zemic Baby Waterproof Double Sided Mat (6 X 5 ...  ...  <p>SOFT FOAM PLAYMAT: Extra-cushioned, soft PE...\n",
              "2356330  The Design Cart Stainless Steel Style A Needle...  ...  Use these aari needles for thread work on silk...\n",
              "2229084  SOCH Women's Cotton Straight Kurta NC KT 4402-...  ...  nan  [Color Name: Black,100% Cotton,Knee lengt...\n",
              "2768307  Kuber Industries 100 Percent Cotton 144 TC Sin...  ...  nan  [Color: Light Green, Size Name: Standard,...\n",
              "2219110  MEDHA D.J. PLUS Professional SSA-250 Karoke PA...  ...  SSA-250 is a PA mixer amplifier of rated outpu...\n",
              "\n",
              "[2903024 rows x 4 columns]"
            ]
          },
          "metadata": {
            "tags": []
          },
          "execution_count": 24
        }
      ]
    },
    {
      "cell_type": "code",
      "metadata": {
        "colab": {
          "base_uri": "https://localhost:8080/"
        },
        "id": "ejyDKjPVTHMc",
        "outputId": "aefb0e19-74a4-4f0b-801c-0fa0f705dd51"
      },
      "source": [
        "# Are there 9919 classes \n",
        "train_sample.BROWSE_NODE_ID.value_counts()"
      ],
      "execution_count": 18,
      "outputs": [
        {
          "output_type": "execute_result",
          "data": {
            "text/plain": [
              "1045       215698\n",
              "5           70318\n",
              "1251        51929\n",
              "1052        45553\n",
              "4           34177\n",
              "            ...  \n",
              "279112          1\n",
              "822060          1\n",
              "1337233         1\n",
              "2136811         1\n",
              "248936          1\n",
              "Name: BROWSE_NODE_ID, Length: 9919, dtype: int64"
            ]
          },
          "metadata": {
            "tags": []
          },
          "execution_count": 18
        }
      ]
    },
    {
      "cell_type": "markdown",
      "metadata": {
        "id": "5yjmkId4_gZe"
      },
      "source": [
        "Creating a token level embedding "
      ]
    },
    {
      "cell_type": "code",
      "metadata": {
        "colab": {
          "base_uri": "https://localhost:8080/"
        },
        "id": "Lp84lqn5EzKz",
        "outputId": "1e9c6fad-1592-4d07-c282-68326ebdb201"
      },
      "source": [
        "# Picking up the train text data \n",
        "info_train_sentences = new_train_sample['Info'].to_list()\n",
        "title_train_sentences = new_train_sample['TITLE'].astype(str).to_list()\n",
        "\n",
        "# Now our val dataset \n",
        "\n",
        "\n",
        "len(info_train_sentences) , len(title_train_sentences)"
      ],
      "execution_count": null,
      "outputs": [
        {
          "output_type": "execute_result",
          "data": {
            "text/plain": [
              "(2903024, 2903024)"
            ]
          },
          "metadata": {
            "tags": []
          },
          "execution_count": 26
        }
      ]
    },
    {
      "cell_type": "code",
      "metadata": {
        "id": "J7XI4keHFh10"
      },
      "source": [
        ""
      ],
      "execution_count": null,
      "outputs": []
    },
    {
      "cell_type": "code",
      "metadata": {
        "colab": {
          "base_uri": "https://localhost:8080/"
        },
        "id": "nt7naeStJ0-1",
        "outputId": "68941bbe-9f43-42ef-b392-0c8d4c9cd900"
      },
      "source": [
        "title_train_sentences[:10]"
      ],
      "execution_count": null,
      "outputs": [
        {
          "output_type": "execute_result",
          "data": {
            "text/plain": [
              "['Amsik®Blind Spot Round Mirror Black, (Real Glass Made, 2 Pcs/Set) for Toyota Fortuner',\n",
              " 'Nivea Face Sun Block Whitening Cream SPF 50 Pa ++ Made in Thailand',\n",
              " \"ROZVEH Women's Shift Brown Dress\",\n",
              " 'Narayan Creation Pashmina Palazzo Suit Dupatta Material (Un-Stitched) Pink',\n",
              " \"Q-rious Women's Silicon Strap Spagettis/Camisole Magenta\",\n",
              " \"Hanes Men's Pullover EcoSmart Fleece Hooded Sweatshirt, Charcoal Heather, L\",\n",
              " 'Lixada Aluminum Alloy Stem Bike Bicycle Cycling Clamp Stem 31.8Mm ±17° MTB Road Bike Stem 70Mm 80Mm 90Mm 110Mm',\n",
              " 'Verca Cotton;Fabric Krishna Bal Gopal Poshak (Blue)',\n",
              " \"EVERWILLOW Girl's Satin Silk Lehenga Choli (Purple)\",\n",
              " 'Vimes All Side Protection Sleek Rubberised Matte Soft Silicon Back Case For Redmi Note 5 (Black Mi Note 5 - 2018) (It is not compatibe with Redmi 5 And Note 5 Pro)']"
            ]
          },
          "metadata": {
            "tags": []
          },
          "execution_count": 27
        }
      ]
    },
    {
      "cell_type": "code",
      "metadata": {
        "colab": {
          "base_uri": "https://localhost:8080/"
        },
        "id": "cbKc1ySxE3aN",
        "outputId": "b7ba31d2-7e7d-4706-c030-011df07304b9"
      },
      "source": [
        "# Average sequence length \n",
        "info_sent_lens = [len(sentence.split()) for sentence in info_train_sentences]\n",
        "title_sent_lens = [len(title.split()) for title in title_train_sentences]\n",
        "\n",
        "avg_sent_len_info = np.mean(info_sent_lens)\n",
        "avg_sent_len_title = np.mean(title_sent_lens)\n",
        "\n",
        "avg_sent_len_info , avg_sent_len_title"
      ],
      "execution_count": null,
      "outputs": [
        {
          "output_type": "execute_result",
          "data": {
            "text/plain": [
              "(124.08260627538732, 13.541006550410883)"
            ]
          },
          "metadata": {
            "tags": []
          },
          "execution_count": 28
        }
      ]
    },
    {
      "cell_type": "code",
      "metadata": {
        "colab": {
          "base_uri": "https://localhost:8080/"
        },
        "id": "CVF4CUF6F1yA",
        "outputId": "a37563b8-8ad0-4c6d-f05a-3bed6a02a2ef"
      },
      "source": [
        "round(avg_sent_len_info) , round(avg_sent_len_title)"
      ],
      "execution_count": null,
      "outputs": [
        {
          "output_type": "execute_result",
          "data": {
            "text/plain": [
              "(124, 14)"
            ]
          },
          "metadata": {
            "tags": []
          },
          "execution_count": 29
        }
      ]
    },
    {
      "cell_type": "code",
      "metadata": {
        "colab": {
          "base_uri": "https://localhost:8080/",
          "height": 276
        },
        "id": "S30sq2svI9pQ",
        "outputId": "bf3f982e-e43e-47cc-93f9-f355cdc87d44"
      },
      "source": [
        "# Distribution of the tokens \n",
        "plt.hist(info_sent_lens , bins = 7);"
      ],
      "execution_count": null,
      "outputs": [
        {
          "output_type": "display_data",
          "data": {
            "image/png": "[encoded data removed]",
            "text/plain": [
              "<Figure size 432x288 with 1 Axes>"
            ]
          },
          "metadata": {
            "tags": [],
            "needs_background": "light"
          }
        }
      ]
    },
    {
      "cell_type": "code",
      "metadata": {
        "colab": {
          "base_uri": "https://localhost:8080/",
          "height": 276
        },
        "id": "WIKdzrftKRl4",
        "outputId": "973d5c9a-11cc-4ab0-c634-83340fa6010a"
      },
      "source": [
        "plt.hist(title_sent_lens , bins = 7);"
      ],
      "execution_count": null,
      "outputs": [
        {
          "output_type": "display_data",
          "data": {
            "image/png": "[encoded data removed]",
            "text/plain": [
              "<Figure size 432x288 with 1 Axes>"
            ]
          },
          "metadata": {
            "tags": [],
            "needs_background": "light"
          }
        }
      ]
    },
    {
      "cell_type": "code",
      "metadata": {
        "colab": {
          "base_uri": "https://localhost:8080/"
        },
        "id": "RRtizKLjLSWc",
        "outputId": "ef1cc739-1e7e-4c82-d90d-06ec7657f6ff"
      },
      "source": [
        "# How long of a sentence covers 95% of a length \n",
        "info_output_seq_len = int(np.percentile(info_sent_lens , 95))\n",
        "title_output_seq_len = int(np.percentile(title_sent_lens , 95))\n",
        "\n",
        "info_output_seq_len , title_output_seq_len"
      ],
      "execution_count": null,
      "outputs": [
        {
          "output_type": "execute_result",
          "data": {
            "text/plain": [
              "(358, 27)"
            ]
          },
          "metadata": {
            "tags": []
          },
          "execution_count": 32
        }
      ]
    },
    {
      "cell_type": "code",
      "metadata": {
        "colab": {
          "base_uri": "https://localhost:8080/"
        },
        "id": "-4fz7wcFLrXn",
        "outputId": "e8867a4f-312e-4165-a6b2-0b98f5bc4aae"
      },
      "source": [
        "# Maximum sentence in the training sentence of both info and title \n",
        "max(info_sent_lens) , max(title_sent_lens)"
      ],
      "execution_count": null,
      "outputs": [
        {
          "output_type": "execute_result",
          "data": {
            "text/plain": [
              "(1270, 113)"
            ]
          },
          "metadata": {
            "tags": []
          },
          "execution_count": 33
        }
      ]
    },
    {
      "cell_type": "code",
      "metadata": {
        "colab": {
          "base_uri": "https://localhost:8080/"
        },
        "id": "oqVLhwr9G2-E",
        "outputId": "722d34cc-3fd1-4a6b-b53c-cd6f6775e535"
      },
      "source": [
        "round(len(info_train_sentences) / 6)"
      ],
      "execution_count": null,
      "outputs": [
        {
          "output_type": "execute_result",
          "data": {
            "text/plain": [
              "483837"
            ]
          },
          "metadata": {
            "tags": []
          },
          "execution_count": 34
        }
      ]
    },
    {
      "cell_type": "code",
      "metadata": {
        "colab": {
          "base_uri": "https://localhost:8080/"
        },
        "id": "vAY3cjjfHMUU",
        "outputId": "1aa72f1c-8a70-4a1b-c4af-53bbdbd5d5e4"
      },
      "source": [
        "from random import sample \n",
        "little_info_train_sentences = sample(info_train_sentences ,683837)\n",
        "len(little_info_train_sentences)"
      ],
      "execution_count": null,
      "outputs": [
        {
          "output_type": "execute_result",
          "data": {
            "text/plain": [
              "683837"
            ]
          },
          "metadata": {
            "tags": []
          },
          "execution_count": 35
        }
      ]
    },
    {
      "cell_type": "code",
      "metadata": {
        "id": "AijToPEtL83r"
      },
      "source": [
        "# Creating a text vectorizer layer for info (token level embedding)\n",
        "from tensorflow.keras.layers.experimental.preprocessing import TextVectorization\n",
        "\n",
        "info_text_vect_token_layer = TextVectorization(max_tokens= 5000 , \n",
        "                                               output_sequence_length = info_output_seq_len)\n",
        "\n",
        "# Adapting the layer on the train data \n",
        "info_text_vect_token_layer.adapt(little_info_train_sentences)"
      ],
      "execution_count": null,
      "outputs": []
    },
    {
      "cell_type": "code",
      "metadata": {
        "colab": {
          "base_uri": "https://localhost:8080/"
        },
        "id": "4l0TdqVSM_Ia",
        "outputId": "1f0e11cd-b42c-4614-fc17-6ef408704b3a"
      },
      "source": [
        "# Test out text vectorizer\n",
        "import random\n",
        "target_sentence = random.choice(info_train_sentences)\n",
        "print(f\"Text:\\n{target_sentence}\")\n",
        "print(f\"\\nLength of text: {len(target_sentence.split())}\")\n",
        "print(f\"\\nVectorized text:\\n{info_text_vect_token_layer([target_sentence])}\")"
      ],
      "execution_count": null,
      "outputs": [
        {
          "output_type": "stream",
          "text": [
            "Text:\n",
            "May Your Birthday Be Warm. Teddy Bear Newborn Baby Birthday Train Figurine. Made from bisque porcelain. Approximately 3 inches tall (8cm). Includes original manufacturers box and packaging. Made by Precious Moments. Welcome a new baby to the world with the Precious Moments Birthday Train caboose. A sweet little teddy bear offers his favorite blankie to make sure baby is warm and cozy on their wild ride called childhood.  [This cozy engine of the Precious Moments Birthday Train welcomes a new baby into the world. Attaches by pull rope to any of the Birthday Train figurines from the baby through age 16,As part of a series, it is a gift that begins a tradition, one that will be looked forward to and then cherished for years to come,A thoughtful birthday gift for any baby!,Bisque porcelain, meticulously hand painted,Approximately 3 inches high]\n",
            "\n",
            "Length of text: 140\n",
            "\n",
            "Vectorized text:\n",
            "[[ 109    9  339   21  400 2684 2136 3182  215  339 3457    1   26   15\n",
            "     1    1 2223  101  160 2308    1  279  282 2375  228    2  759   26\n",
            "    42 1369 3244 2426    8  100  215    4    3  623    7    3 1369 3244\n",
            "   339 3457    1    8 1621  302 2684 2136  315 1311  751    1    4   73\n",
            "   323  215   10  400    2 1751   18  230 3912 2327 1900    1   13 1751\n",
            "  2160    6    3 1369 3244  339 3457    1    8  100  215  189    3  623\n",
            "  4213   42 1317 1849    4   38    6    3  339 3457    1   15    3  215\n",
            "   347  893    1  519    6    8  721   14   10    8   77   24    1    8\n",
            "  3477   82   24   28   21    1 2428    4    2  387    1    5  305    4\n",
            "     1 4035  339   77    5   38    1    1 4753  120    1  101  160   36\n",
            "     0    0    0    0    0    0    0    0    0    0    0    0    0    0\n",
            "     0    0    0    0    0    0    0    0    0    0    0    0    0    0\n",
            "     0    0    0    0    0    0    0    0    0    0    0    0    0    0\n",
            "     0    0    0    0    0    0    0    0    0    0    0    0    0    0\n",
            "     0    0    0    0    0    0    0    0    0    0    0    0    0    0\n",
            "     0    0    0    0    0    0    0    0    0    0    0    0    0    0\n",
            "     0    0    0    0    0    0    0    0    0    0    0    0    0    0\n",
            "     0    0    0    0    0    0    0    0    0    0    0    0    0    0\n",
            "     0    0    0    0    0    0    0    0    0    0    0    0    0    0\n",
            "     0    0    0    0    0    0    0    0    0    0    0    0    0    0\n",
            "     0    0    0    0    0    0    0    0    0    0    0    0    0    0\n",
            "     0    0    0    0    0    0    0    0    0    0    0    0    0    0\n",
            "     0    0    0    0    0    0    0    0    0    0    0    0    0    0\n",
            "     0    0    0    0    0    0    0    0    0    0    0    0    0    0\n",
            "     0    0    0    0    0    0    0    0    0    0    0    0    0    0\n",
            "     0    0    0    0    0    0    0    0]]\n"
          ],
          "name": "stdout"
        }
      ]
    },
    {
      "cell_type": "code",
      "metadata": {
        "id": "pBCXx-R1REc8"
      },
      "source": [
        "# Creating a text vectorizer layer for title (token level embedding)\n",
        "from tensorflow.keras.layers.experimental.preprocessing import TextVectorization\n",
        "\n",
        "title_text_vect_token_layer = TextVectorization(max_tokens= 3000 , \n",
        "                                               output_sequence_length = title_output_seq_len)\n",
        "\n",
        "# Adapting the layer on the train data \n",
        "title_text_vect_token_layer.adapt(title_train_sentences)"
      ],
      "execution_count": null,
      "outputs": []
    },
    {
      "cell_type": "code",
      "metadata": {
        "colab": {
          "base_uri": "https://localhost:8080/"
        },
        "id": "mBJ2Vra4SR7f",
        "outputId": "3fe0eec2-00dc-4f95-aa6e-4f1e67257bbb"
      },
      "source": [
        "# Test out text vectorizer (title)\n",
        "import random\n",
        "target_sentence = random.choice(title_train_sentences)\n",
        "print(f\"Text:\\n{target_sentence}\")\n",
        "print(f\"\\nLength of text: {len(target_sentence.split())}\")\n",
        "print(f\"\\nVectorized text:\\n{title_text_vect_token_layer([target_sentence])}\")"
      ],
      "execution_count": null,
      "outputs": [
        {
          "output_type": "stream",
          "text": [
            "Text:\n",
            "Nena Fashion Cotton Saree With Blouse Piece(Rama Small Chex Lining_Rama_Free Size)\n",
            "\n",
            "Length of text: 11\n",
            "\n",
            "Vectorized text:\n",
            "[[  1  82  11  90   3 122   1 132   1   1  23   0   0   0   0   0   0   0\n",
            "    0   0   0   0   0   0   0   0   0]]\n"
          ],
          "name": "stdout"
        }
      ]
    },
    {
      "cell_type": "code",
      "metadata": {
        "id": "09Z4xTojSd7d",
        "colab": {
          "base_uri": "https://localhost:8080/",
          "height": 195
        },
        "outputId": "f2d80995-bb96-428b-c599-87b859be374b"
      },
      "source": [
        "# Now one hot encoding the labels \n",
        "from sklearn.preprocessing import OneHotEncoder\n",
        "one_hot_encoder = OneHotEncoder(sparse = False)\n",
        "sample_train_labels_one_hot = one_hot_encoder.fit_transform()"
      ],
      "execution_count": null,
      "outputs": [
        {
          "output_type": "error",
          "ename": "TypeError",
          "evalue": "ignored",
          "traceback": [
            "\u001b[0;31m---------------------------------------------------------------------------\u001b[0m",
            "\u001b[0;31mTypeError\u001b[0m                                 Traceback (most recent call last)",
            "\u001b[0;32m<ipython-input-50-6ca77b973764>\u001b[0m in \u001b[0;36m<module>\u001b[0;34m()\u001b[0m\n\u001b[1;32m      2\u001b[0m \u001b[0;32mfrom\u001b[0m \u001b[0msklearn\u001b[0m\u001b[0;34m.\u001b[0m\u001b[0mpreprocessing\u001b[0m \u001b[0;32mimport\u001b[0m \u001b[0mOneHotEncoder\u001b[0m\u001b[0;34m\u001b[0m\u001b[0;34m\u001b[0m\u001b[0m\n\u001b[1;32m      3\u001b[0m \u001b[0mone_hot_encoder\u001b[0m \u001b[0;34m=\u001b[0m \u001b[0mOneHotEncoder\u001b[0m\u001b[0;34m(\u001b[0m\u001b[0msparse\u001b[0m \u001b[0;34m=\u001b[0m \u001b[0;32mFalse\u001b[0m\u001b[0;34m)\u001b[0m\u001b[0;34m\u001b[0m\u001b[0;34m\u001b[0m\u001b[0m\n\u001b[0;32m----> 4\u001b[0;31m \u001b[0msample_train_labels_one_hot\u001b[0m \u001b[0;34m=\u001b[0m \u001b[0mone_hot_encoder\u001b[0m\u001b[0;34m.\u001b[0m\u001b[0mfit_transform\u001b[0m\u001b[0;34m(\u001b[0m\u001b[0;34m)\u001b[0m\u001b[0;34m\u001b[0m\u001b[0;34m\u001b[0m\u001b[0m\n\u001b[0m",
            "\u001b[0;31mTypeError\u001b[0m: fit_transform() missing 1 required positional argument: 'X'"
          ]
        }
      ]
    },
    {
      "cell_type": "code",
      "metadata": {
        "colab": {
          "base_uri": "https://localhost:8080/",
          "height": 181
        },
        "id": "9phUuzsP6Bdf",
        "outputId": "21d27277-ff18-44a3-b06f-f9c2e3e716b3"
      },
      "source": [
        "gpu_options = tf.GPUOptions(allow_growth=True)\n",
        "session = tf.InteractiveSession(config=tf.ConfigProto(gpu_options=gpu_options))"
      ],
      "execution_count": 10,
      "outputs": [
        {
          "output_type": "error",
          "ename": "AttributeError",
          "evalue": "ignored",
          "traceback": [
            "\u001b[0;31m---------------------------------------------------------------------------\u001b[0m",
            "\u001b[0;31mAttributeError\u001b[0m                            Traceback (most recent call last)",
            "\u001b[0;32m<ipython-input-10-a02c923b5836>\u001b[0m in \u001b[0;36m<module>\u001b[0;34m()\u001b[0m\n\u001b[0;32m----> 1\u001b[0;31m \u001b[0mgpu_options\u001b[0m \u001b[0;34m=\u001b[0m \u001b[0mtf\u001b[0m\u001b[0;34m.\u001b[0m\u001b[0mGPUOptions\u001b[0m\u001b[0;34m(\u001b[0m\u001b[0mallow_growth\u001b[0m\u001b[0;34m=\u001b[0m\u001b[0;32mTrue\u001b[0m\u001b[0;34m)\u001b[0m\u001b[0;34m\u001b[0m\u001b[0;34m\u001b[0m\u001b[0m\n\u001b[0m\u001b[1;32m      2\u001b[0m \u001b[0msession\u001b[0m \u001b[0;34m=\u001b[0m \u001b[0mtf\u001b[0m\u001b[0;34m.\u001b[0m\u001b[0mInteractiveSession\u001b[0m\u001b[0;34m(\u001b[0m\u001b[0mconfig\u001b[0m\u001b[0;34m=\u001b[0m\u001b[0mtf\u001b[0m\u001b[0;34m.\u001b[0m\u001b[0mConfigProto\u001b[0m\u001b[0;34m(\u001b[0m\u001b[0mgpu_options\u001b[0m\u001b[0;34m=\u001b[0m\u001b[0mgpu_options\u001b[0m\u001b[0;34m)\u001b[0m\u001b[0;34m)\u001b[0m\u001b[0;34m\u001b[0m\u001b[0;34m\u001b[0m\u001b[0m\n",
            "\u001b[0;31mAttributeError\u001b[0m: module 'tensorflow' has no attribute 'GPUOptions'"
          ]
        }
      ]
    },
    {
      "cell_type": "code",
      "metadata": {
        "colab": {
          "base_uri": "https://localhost:8080/"
        },
        "id": "2_c5CIh65hLX",
        "outputId": "f5c024e0-c84b-47eb-d517-b0a117caea01"
      },
      "source": [
        "label = new_train_sample['BROWSE_NODE_ID'].to_numpy()\n",
        "label.shape"
      ],
      "execution_count": 8,
      "outputs": [
        {
          "output_type": "execute_result",
          "data": {
            "text/plain": [
              "(2903024,)"
            ]
          },
          "metadata": {
            "tags": []
          },
          "execution_count": 8
        }
      ]
    },
    {
      "cell_type": "code",
      "metadata": {
        "colab": {
          "base_uri": "https://localhost:8080/"
        },
        "id": "1SY52ZLq7ALC",
        "outputId": "b26d1a3d-072d-486b-c41a-5693ce99dac4"
      },
      "source": [
        ""
      ],
      "execution_count": 11,
      "outputs": [
        {
          "output_type": "stream",
          "text": [
            "kill: (2794): No such process\n"
          ],
          "name": "stdout"
        }
      ]
    },
    {
      "cell_type": "code",
      "metadata": {
        "colab": {
          "base_uri": "https://localhost:8080/",
          "height": 239
        },
        "id": "jpooxW6M5aVP",
        "outputId": "cf35c5d3-4307-4c99-9282-e8e38ee88720"
      },
      "source": [
        "train_labels = tf.one_hot(label , depth= 9919)"
      ],
      "execution_count": 12,
      "outputs": [
        {
          "output_type": "error",
          "ename": "ResourceExhaustedError",
          "evalue": "ignored",
          "traceback": [
            "\u001b[0;31m---------------------------------------------------------------------------\u001b[0m",
            "\u001b[0;31mResourceExhaustedError\u001b[0m                    Traceback (most recent call last)",
            "\u001b[0;32m<ipython-input-12-8ab792ea0e22>\u001b[0m in \u001b[0;36m<module>\u001b[0;34m()\u001b[0m\n\u001b[0;32m----> 1\u001b[0;31m \u001b[0mtrain_labels\u001b[0m \u001b[0;34m=\u001b[0m \u001b[0mtf\u001b[0m\u001b[0;34m.\u001b[0m\u001b[0mone_hot\u001b[0m\u001b[0;34m(\u001b[0m\u001b[0mlabel\u001b[0m \u001b[0;34m,\u001b[0m \u001b[0mdepth\u001b[0m\u001b[0;34m=\u001b[0m \u001b[0;36m9919\u001b[0m\u001b[0;34m)\u001b[0m\u001b[0;34m\u001b[0m\u001b[0;34m\u001b[0m\u001b[0m\n\u001b[0m",
            "\u001b[0;32m/usr/local/lib/python3.7/dist-packages/tensorflow/python/util/dispatch.py\u001b[0m in \u001b[0;36mwrapper\u001b[0;34m(*args, **kwargs)\u001b[0m\n\u001b[1;32m    204\u001b[0m     \u001b[0;34m\"\"\"Call target, and fall back on dispatchers if there is a TypeError.\"\"\"\u001b[0m\u001b[0;34m\u001b[0m\u001b[0;34m\u001b[0m\u001b[0m\n\u001b[1;32m    205\u001b[0m     \u001b[0;32mtry\u001b[0m\u001b[0;34m:\u001b[0m\u001b[0;34m\u001b[0m\u001b[0;34m\u001b[0m\u001b[0m\n\u001b[0;32m--> 206\u001b[0;31m       \u001b[0;32mreturn\u001b[0m \u001b[0mtarget\u001b[0m\u001b[0;34m(\u001b[0m\u001b[0;34m*\u001b[0m\u001b[0margs\u001b[0m\u001b[0;34m,\u001b[0m \u001b[0;34m**\u001b[0m\u001b[0mkwargs\u001b[0m\u001b[0;34m)\u001b[0m\u001b[0;34m\u001b[0m\u001b[0;34m\u001b[0m\u001b[0m\n\u001b[0m\u001b[1;32m    207\u001b[0m     \u001b[0;32mexcept\u001b[0m \u001b[0;34m(\u001b[0m\u001b[0mTypeError\u001b[0m\u001b[0;34m,\u001b[0m \u001b[0mValueError\u001b[0m\u001b[0;34m)\u001b[0m\u001b[0;34m:\u001b[0m\u001b[0;34m\u001b[0m\u001b[0;34m\u001b[0m\u001b[0m\n\u001b[1;32m    208\u001b[0m       \u001b[0;31m# Note: convert_to_eager_tensor currently raises a ValueError, not a\u001b[0m\u001b[0;34m\u001b[0m\u001b[0;34m\u001b[0m\u001b[0;34m\u001b[0m\u001b[0m\n",
            "\u001b[0;32m/usr/local/lib/python3.7/dist-packages/tensorflow/python/ops/array_ops.py\u001b[0m in \u001b[0;36mone_hot\u001b[0;34m(indices, depth, on_value, off_value, axis, dtype, name)\u001b[0m\n\u001b[1;32m   4334\u001b[0m \u001b[0;34m\u001b[0m\u001b[0m\n\u001b[1;32m   4335\u001b[0m     return gen_array_ops.one_hot(indices, depth, on_value, off_value, axis,\n\u001b[0;32m-> 4336\u001b[0;31m                                  name)\n\u001b[0m\u001b[1;32m   4337\u001b[0m \u001b[0;34m\u001b[0m\u001b[0m\n\u001b[1;32m   4338\u001b[0m \u001b[0;34m\u001b[0m\u001b[0m\n",
            "\u001b[0;32m/usr/local/lib/python3.7/dist-packages/tensorflow/python/ops/gen_array_ops.py\u001b[0m in \u001b[0;36mone_hot\u001b[0;34m(indices, depth, on_value, off_value, axis, name)\u001b[0m\n\u001b[1;32m   6254\u001b[0m       \u001b[0;32mreturn\u001b[0m \u001b[0m_result\u001b[0m\u001b[0;34m\u001b[0m\u001b[0;34m\u001b[0m\u001b[0m\n\u001b[1;32m   6255\u001b[0m     \u001b[0;32mexcept\u001b[0m \u001b[0m_core\u001b[0m\u001b[0;34m.\u001b[0m\u001b[0m_NotOkStatusException\u001b[0m \u001b[0;32mas\u001b[0m \u001b[0me\u001b[0m\u001b[0;34m:\u001b[0m\u001b[0;34m\u001b[0m\u001b[0;34m\u001b[0m\u001b[0m\n\u001b[0;32m-> 6256\u001b[0;31m       \u001b[0m_ops\u001b[0m\u001b[0;34m.\u001b[0m\u001b[0mraise_from_not_ok_status\u001b[0m\u001b[0;34m(\u001b[0m\u001b[0me\u001b[0m\u001b[0;34m,\u001b[0m \u001b[0mname\u001b[0m\u001b[0;34m)\u001b[0m\u001b[0;34m\u001b[0m\u001b[0;34m\u001b[0m\u001b[0m\n\u001b[0m\u001b[1;32m   6257\u001b[0m     \u001b[0;32mexcept\u001b[0m \u001b[0m_core\u001b[0m\u001b[0;34m.\u001b[0m\u001b[0m_FallbackException\u001b[0m\u001b[0;34m:\u001b[0m\u001b[0;34m\u001b[0m\u001b[0;34m\u001b[0m\u001b[0m\n\u001b[1;32m   6258\u001b[0m       \u001b[0;32mpass\u001b[0m\u001b[0;34m\u001b[0m\u001b[0;34m\u001b[0m\u001b[0m\n",
            "\u001b[0;32m/usr/local/lib/python3.7/dist-packages/tensorflow/python/framework/ops.py\u001b[0m in \u001b[0;36mraise_from_not_ok_status\u001b[0;34m(e, name)\u001b[0m\n\u001b[1;32m   6895\u001b[0m   \u001b[0mmessage\u001b[0m \u001b[0;34m=\u001b[0m \u001b[0me\u001b[0m\u001b[0;34m.\u001b[0m\u001b[0mmessage\u001b[0m \u001b[0;34m+\u001b[0m \u001b[0;34m(\u001b[0m\u001b[0;34m\" name: \"\u001b[0m \u001b[0;34m+\u001b[0m \u001b[0mname\u001b[0m \u001b[0;32mif\u001b[0m \u001b[0mname\u001b[0m \u001b[0;32mis\u001b[0m \u001b[0;32mnot\u001b[0m \u001b[0;32mNone\u001b[0m \u001b[0;32melse\u001b[0m \u001b[0;34m\"\"\u001b[0m\u001b[0;34m)\u001b[0m\u001b[0;34m\u001b[0m\u001b[0;34m\u001b[0m\u001b[0m\n\u001b[1;32m   6896\u001b[0m   \u001b[0;31m# pylint: disable=protected-access\u001b[0m\u001b[0;34m\u001b[0m\u001b[0;34m\u001b[0m\u001b[0;34m\u001b[0m\u001b[0m\n\u001b[0;32m-> 6897\u001b[0;31m   \u001b[0msix\u001b[0m\u001b[0;34m.\u001b[0m\u001b[0mraise_from\u001b[0m\u001b[0;34m(\u001b[0m\u001b[0mcore\u001b[0m\u001b[0;34m.\u001b[0m\u001b[0m_status_to_exception\u001b[0m\u001b[0;34m(\u001b[0m\u001b[0me\u001b[0m\u001b[0;34m.\u001b[0m\u001b[0mcode\u001b[0m\u001b[0;34m,\u001b[0m \u001b[0mmessage\u001b[0m\u001b[0;34m)\u001b[0m\u001b[0;34m,\u001b[0m \u001b[0;32mNone\u001b[0m\u001b[0;34m)\u001b[0m\u001b[0;34m\u001b[0m\u001b[0;34m\u001b[0m\u001b[0m\n\u001b[0m\u001b[1;32m   6898\u001b[0m   \u001b[0;31m# pylint: enable=protected-access\u001b[0m\u001b[0;34m\u001b[0m\u001b[0;34m\u001b[0m\u001b[0;34m\u001b[0m\u001b[0m\n\u001b[1;32m   6899\u001b[0m \u001b[0;34m\u001b[0m\u001b[0m\n",
            "\u001b[0;32m/usr/local/lib/python3.7/dist-packages/six.py\u001b[0m in \u001b[0;36mraise_from\u001b[0;34m(value, from_value)\u001b[0m\n",
            "\u001b[0;31mResourceExhaustedError\u001b[0m: OOM when allocating tensor with shape[2903024,9919] and type float on /job:localhost/replica:0/task:0/device:GPU:0 by allocator GPU_0_bfc [Op:OneHot]"
          ]
        }
      ]
    },
    {
      "cell_type": "markdown",
      "metadata": {
        "id": "cxHNBd9rRKhY"
      },
      "source": [
        "# trying to make model with universal scentence encoder \n"
      ]
    },
    {
      "cell_type": "code",
      "metadata": {
        "id": "CkxACaimRRG6"
      },
      "source": [
        "import tensorflow_hub as hub\n",
        "import tensorflow as tf"
      ],
      "execution_count": 7,
      "outputs": []
    },
    {
      "cell_type": "code",
      "metadata": {
        "id": "BMSZgYIDfV3x"
      },
      "source": [
        ""
      ],
      "execution_count": null,
      "outputs": []
    },
    {
      "cell_type": "code",
      "metadata": {
        "id": "LTDiaOOxTBwd"
      },
      "source": [
        "base_layer = hub.KerasLayer('https://tfhub.dev/google/universal-sentence-encoder/4',trainable = False)\n"
      ],
      "execution_count": 31,
      "outputs": []
    },
    {
      "cell_type": "code",
      "metadata": {
        "id": "KbvrlSr_RfRf"
      },
      "source": [
        "inputs = tf.keras.layers.Input(shape = [], dtype = tf.string)\n",
        "x = base_layer(inputs)\n",
        "#x = tf.keras.layers.Dense(264, activation = 'relu')(x)\n",
        "x = tf.keras.layers.Dense(64, activation= 'relu')(x)\n",
        "x  = tf.keras.layers.Dropout(0.3)(x)\n",
        "outputs = tf.keras.layers.Dense(9919, activation ='softmax')(x)\n",
        "model = tf.keras.Model(inputs, outputs)"
      ],
      "execution_count": 49,
      "outputs": []
    },
    {
      "cell_type": "code",
      "metadata": {
        "colab": {
          "base_uri": "https://localhost:8080/"
        },
        "id": "wvAuC5nOWjKe",
        "outputId": "d8f5e4d0-ad3b-4cd4-e34f-f429a98d8eca"
      },
      "source": [
        "model.summary()"
      ],
      "execution_count": 50,
      "outputs": [
        {
          "output_type": "stream",
          "text": [
            "Model: \"model_4\"\n",
            "_________________________________________________________________\n",
            "Layer (type)                 Output Shape              Param #   \n",
            "=================================================================\n",
            "input_6 (InputLayer)         [(None,)]                 0         \n",
            "_________________________________________________________________\n",
            "keras_layer (KerasLayer)     (None, 512)               256797824 \n",
            "_________________________________________________________________\n",
            "dense_10 (Dense)             (None, 64)                32832     \n",
            "_________________________________________________________________\n",
            "dropout_2 (Dropout)          (None, 64)                0         \n",
            "_________________________________________________________________\n",
            "dense_11 (Dense)             (None, 9919)              644735    \n",
            "=================================================================\n",
            "Total params: 257,475,391\n",
            "Trainable params: 677,567\n",
            "Non-trainable params: 256,797,824\n",
            "_________________________________________________________________\n"
          ],
          "name": "stdout"
        }
      ]
    },
    {
      "cell_type": "code",
      "metadata": {
        "id": "7H_v5jUVWog_"
      },
      "source": [
        "model.compile(loss =tf.keras.losses.SparseCategoricalCrossentropy(from_logits= True), \n",
        "              optimizer = tf.keras.optimizers.Adam(), \n",
        "              metrics = 'accuracy')"
      ],
      "execution_count": 51,
      "outputs": []
    },
    {
      "cell_type": "code",
      "metadata": {
        "id": "1NLn6wmOfvfF"
      },
      "source": [
        "train_dataset= tf.data.Dataset.from_tensor_slices((new_train_sample['title'].values, new_train_sample['BROWSE_NODE_ID'].to_numpy()))\n"
      ],
      "execution_count": 29,
      "outputs": []
    },
    {
      "cell_type": "code",
      "metadata": {
        "colab": {
          "base_uri": "https://localhost:8080/"
        },
        "id": "KlRagHIy05t-",
        "outputId": "e6773be6-b15f-4a16-e93d-2545ff75ee55"
      },
      "source": [
        "train_dataset = train_dataset.shuffle(buffer_size= 1000).batch(batch_size = 32).prefetch(tf.data.AUTOTUNE)\n",
        "train_dataset"
      ],
      "execution_count": 42,
      "outputs": [
        {
          "output_type": "execute_result",
          "data": {
            "text/plain": [
              "<PrefetchDataset shapes: ((None,), (None,)), types: (tf.string, tf.int64)>"
            ]
          },
          "metadata": {
            "tags": []
          },
          "execution_count": 42
        }
      ]
    },
    {
      "cell_type": "code",
      "metadata": {
        "id": "O6qQ09Kig9Tf",
        "colab": {
          "base_uri": "https://localhost:8080/"
        },
        "outputId": "189c6215-4346-4077-8d3e-024c36e6dcfe"
      },
      "source": [
        "for text , lab in train_dataset.take(1):\n",
        "  print(text)\n",
        "  print(lab)"
      ],
      "execution_count": 43,
      "outputs": [
        {
          "output_type": "stream",
          "text": [
            "tf.Tensor(\n",
            "[b'Lilyette by Bali Tailored Strapless Minimizer Bra_Black_38DD'\n",
            " b'Kiran Enterprises | Kiran 12MF4L-B Motorcycle Battery | 12V Battery'\n",
            " b'THE BROOKLYN CREAMERY Bubbleyum, 120 ml'\n",
            " b'ELECTROPRIME a15090400ux0752 240# Abrasives Round Rod Sharpening Grinding Oil Stone Whetstone 3Pcs,'\n",
            " b'CopperKraft Ganga Seamless Pure Copper Bottle Glossy & Mirror Finish 1000 ml'\n",
            " b'Fastside Retractable Badge Reel with Claw Clasp and Clip for Id Card Holders (Black)'\n",
            " b'ARIHANT GEMS & JEWELS Pearl 9.25 Ratti Natural and IIGS Certified South Sea Pearl Moti Non-Precious Metal Astrological Gemstone for Men and Women'\n",
            " b'OZANGO Bike Customized Handlebar Chrome Silver Dual Curved Handle Bar Rod Thick Pipe for Royal Enfield Classic Desert Storm'\n",
            " b'Athah Designs Pok\\xc3\\xa9mon Raikou Entei Suicune Legendary Pok\\xc3\\xa9mon Wall Poster 13*19 inches Matte Finish'\n",
            " b'RGSVCases Name II Initial II Letter Floral Pattern Alphabet M Hard Printed Designer Case for Motorola Moto E4 Plus XT1770, XT1773 Back Cover RSV1595'\n",
            " b'Generic A : Coolchange High Quality Bike Front Head Light LED IPX6 Waterproof Handlebar Flashlight Bike Accessories 1200Lumens Bicycle Light'\n",
            " b'Casotec Geometric Strom Design 3D Printed Hard Back Case Cover for Samsung Galaxy M31'\n",
            " b'Hot Wheels Auto Milestones Ferrari F40'\n",
            " b'Jiada Set of 6 Double Sided Magnetic Pencil Box with Led Light'\n",
            " b'CREAMIX Softy PREMIX Vanilla Charcoal 800G'\n",
            " b'Trendevr Exposed London Deep V Plunge Dress'\n",
            " b\"Hanu Textile Women's Kurta (Brown, XX-Large)\"\n",
            " b'ELECTROPRIME Decorations Decoration Vase Flowers (Age Without Flower)'\n",
            " b'Gemorio Yellow Sapphire Pukhraj 3cts or 3.25ratti Stone Panchdhatu Adjustable Ring for Women'\n",
            " b\"SHAUN 69GAL Women's Cotton T-Shirt (Pack of 2)\"\n",
            " b'Proton 2 in 1 Ceramic Hair Straightener Comb Brush Straightening with LCD Screen, Temperature Control Display for Women'\n",
            " b'Ebros Ancient Egyptian Scarab Oracle Amulet 4\" Long Symbol of Rebirth Green Scarab Figurine'\n",
            " b\"United Colors of Benetton Men's Printed Regular fit T-Shirt (19P3AOPJ3031I_901_Multicolor 2XL)\"\n",
            " b'SHRIDHI Stainless Steel 3 Burner Gas Stove, Silver'\n",
            " b'Avzax Luxury Magnetic Lock Diary Wallet Style Flip Cover Case for Iball Andi 5L Rider - Blue'\n",
            " b'Meerkat Womens Hosiery Cotton Full Sleeves Front Open Shirt and Pajama Night Suit - Fawn'\n",
            " b'FCS\\xc2\\xae Designer Back Cover for Gionee M2 (Pattern-01)'\n",
            " b'mbamarsal Virtual Reality Glasses 3D VR Box Headsets with Bluetooth Remote Controller for Xiaomi Redmi Note 5 Pro'\n",
            " b'Generic Rahul Gandhi Printed Designer Polycarbonate Matte Finish Hard Back Cover for Xiaomi Redmi Note 4'\n",
            " b'CAPE9\\xe2\\x84\\xa2 Classic Round Neck Casual Triple Color Tone Design 100% Soft Cotton Full Sleeves Plain Tshirt for Men Boys (Dark Blue, Large)'\n",
            " b'Chetan Plastic Dustbin (27 cm x 27 cm x 29 cm, Violet)'\n",
            " b'Onice Metal Ultrathin Anti-Knock Phone Bumper Cases for Samsung Galaxy S8 Plus - Black'], shape=(32,), dtype=string)\n",
            "tf.Tensor(\n",
            "[    773    5931  264177     705     993     899    1296    5100     413\n",
            "    1045     283    1295     241     361 1316787    1724    1251    1711\n",
            "      22    1049     340     916       5    2614    5868     924    1045\n",
            "   17931    1045       5    1670    1045], shape=(32,), dtype=int64)\n"
          ],
          "name": "stdout"
        }
      ]
    },
    {
      "cell_type": "code",
      "metadata": {
        "id": "c5PivVj6W6wF",
        "colab": {
          "base_uri": "https://localhost:8080/",
          "height": 429
        },
        "outputId": "a0053544-b163-49bb-e4d3-bbd0e343d32a"
      },
      "source": [
        "first_model = model.fit(train_dataset,\n",
        "                        epochs = 5 )"
      ],
      "execution_count": 52,
      "outputs": [
        {
          "output_type": "stream",
          "text": [
            "Epoch 1/5\n"
          ],
          "name": "stdout"
        },
        {
          "output_type": "stream",
          "text": [
            "/usr/local/lib/python3.7/dist-packages/tensorflow/python/keras/backend.py:4930: UserWarning: \"`sparse_categorical_crossentropy` received `from_logits=True`, but the `output` argument was produced by a sigmoid or softmax activation and thus does not represent logits. Was this intended?\"\n",
            "  '\"`sparse_categorical_crossentropy` received `from_logits=True`, but '\n"
          ],
          "name": "stderr"
        },
        {
          "output_type": "stream",
          "text": [
            "23464/90720 [======>.......................] - ETA: 12:56 - loss: nan - accuracy: 0.0010"
          ],
          "name": "stdout"
        },
        {
          "output_type": "error",
          "ename": "KeyboardInterrupt",
          "evalue": "ignored",
          "traceback": [
            "\u001b[0;31m---------------------------------------------------------------------------\u001b[0m",
            "\u001b[0;31mKeyboardInterrupt\u001b[0m                         Traceback (most recent call last)",
            "\u001b[0;32m<ipython-input-52-024e966599e1>\u001b[0m in \u001b[0;36m<module>\u001b[0;34m()\u001b[0m\n\u001b[1;32m      1\u001b[0m first_model = model.fit(train_dataset,\n\u001b[0;32m----> 2\u001b[0;31m                         epochs = 5 )\n\u001b[0m",
            "\u001b[0;32m/usr/local/lib/python3.7/dist-packages/tensorflow/python/keras/engine/training.py\u001b[0m in \u001b[0;36mfit\u001b[0;34m(self, x, y, batch_size, epochs, verbose, callbacks, validation_split, validation_data, shuffle, class_weight, sample_weight, initial_epoch, steps_per_epoch, validation_steps, validation_batch_size, validation_freq, max_queue_size, workers, use_multiprocessing)\u001b[0m\n\u001b[1;32m   1181\u001b[0m                 _r=1):\n\u001b[1;32m   1182\u001b[0m               \u001b[0mcallbacks\u001b[0m\u001b[0;34m.\u001b[0m\u001b[0mon_train_batch_begin\u001b[0m\u001b[0;34m(\u001b[0m\u001b[0mstep\u001b[0m\u001b[0;34m)\u001b[0m\u001b[0;34m\u001b[0m\u001b[0;34m\u001b[0m\u001b[0m\n\u001b[0;32m-> 1183\u001b[0;31m               \u001b[0mtmp_logs\u001b[0m \u001b[0;34m=\u001b[0m \u001b[0mself\u001b[0m\u001b[0;34m.\u001b[0m\u001b[0mtrain_function\u001b[0m\u001b[0;34m(\u001b[0m\u001b[0miterator\u001b[0m\u001b[0;34m)\u001b[0m\u001b[0;34m\u001b[0m\u001b[0;34m\u001b[0m\u001b[0m\n\u001b[0m\u001b[1;32m   1184\u001b[0m               \u001b[0;32mif\u001b[0m \u001b[0mdata_handler\u001b[0m\u001b[0;34m.\u001b[0m\u001b[0mshould_sync\u001b[0m\u001b[0;34m:\u001b[0m\u001b[0;34m\u001b[0m\u001b[0;34m\u001b[0m\u001b[0m\n\u001b[1;32m   1185\u001b[0m                 \u001b[0mcontext\u001b[0m\u001b[0;34m.\u001b[0m\u001b[0masync_wait\u001b[0m\u001b[0;34m(\u001b[0m\u001b[0;34m)\u001b[0m\u001b[0;34m\u001b[0m\u001b[0;34m\u001b[0m\u001b[0m\n",
            "\u001b[0;32m/usr/local/lib/python3.7/dist-packages/tensorflow/python/eager/def_function.py\u001b[0m in \u001b[0;36m__call__\u001b[0;34m(self, *args, **kwds)\u001b[0m\n\u001b[1;32m    887\u001b[0m \u001b[0;34m\u001b[0m\u001b[0m\n\u001b[1;32m    888\u001b[0m       \u001b[0;32mwith\u001b[0m \u001b[0mOptionalXlaContext\u001b[0m\u001b[0;34m(\u001b[0m\u001b[0mself\u001b[0m\u001b[0;34m.\u001b[0m\u001b[0m_jit_compile\u001b[0m\u001b[0;34m)\u001b[0m\u001b[0;34m:\u001b[0m\u001b[0;34m\u001b[0m\u001b[0;34m\u001b[0m\u001b[0m\n\u001b[0;32m--> 889\u001b[0;31m         \u001b[0mresult\u001b[0m \u001b[0;34m=\u001b[0m \u001b[0mself\u001b[0m\u001b[0;34m.\u001b[0m\u001b[0m_call\u001b[0m\u001b[0;34m(\u001b[0m\u001b[0;34m*\u001b[0m\u001b[0margs\u001b[0m\u001b[0;34m,\u001b[0m \u001b[0;34m**\u001b[0m\u001b[0mkwds\u001b[0m\u001b[0;34m)\u001b[0m\u001b[0;34m\u001b[0m\u001b[0;34m\u001b[0m\u001b[0m\n\u001b[0m\u001b[1;32m    890\u001b[0m \u001b[0;34m\u001b[0m\u001b[0m\n\u001b[1;32m    891\u001b[0m       \u001b[0mnew_tracing_count\u001b[0m \u001b[0;34m=\u001b[0m \u001b[0mself\u001b[0m\u001b[0;34m.\u001b[0m\u001b[0mexperimental_get_tracing_count\u001b[0m\u001b[0;34m(\u001b[0m\u001b[0;34m)\u001b[0m\u001b[0;34m\u001b[0m\u001b[0;34m\u001b[0m\u001b[0m\n",
            "\u001b[0;32m/usr/local/lib/python3.7/dist-packages/tensorflow/python/eager/def_function.py\u001b[0m in \u001b[0;36m_call\u001b[0;34m(self, *args, **kwds)\u001b[0m\n\u001b[1;32m    915\u001b[0m       \u001b[0;31m# In this case we have created variables on the first call, so we run the\u001b[0m\u001b[0;34m\u001b[0m\u001b[0;34m\u001b[0m\u001b[0;34m\u001b[0m\u001b[0m\n\u001b[1;32m    916\u001b[0m       \u001b[0;31m# defunned version which is guaranteed to never create variables.\u001b[0m\u001b[0;34m\u001b[0m\u001b[0;34m\u001b[0m\u001b[0;34m\u001b[0m\u001b[0m\n\u001b[0;32m--> 917\u001b[0;31m       \u001b[0;32mreturn\u001b[0m \u001b[0mself\u001b[0m\u001b[0;34m.\u001b[0m\u001b[0m_stateless_fn\u001b[0m\u001b[0;34m(\u001b[0m\u001b[0;34m*\u001b[0m\u001b[0margs\u001b[0m\u001b[0;34m,\u001b[0m \u001b[0;34m**\u001b[0m\u001b[0mkwds\u001b[0m\u001b[0;34m)\u001b[0m  \u001b[0;31m# pylint: disable=not-callable\u001b[0m\u001b[0;34m\u001b[0m\u001b[0;34m\u001b[0m\u001b[0m\n\u001b[0m\u001b[1;32m    918\u001b[0m     \u001b[0;32melif\u001b[0m \u001b[0mself\u001b[0m\u001b[0;34m.\u001b[0m\u001b[0m_stateful_fn\u001b[0m \u001b[0;32mis\u001b[0m \u001b[0;32mnot\u001b[0m \u001b[0;32mNone\u001b[0m\u001b[0;34m:\u001b[0m\u001b[0;34m\u001b[0m\u001b[0;34m\u001b[0m\u001b[0m\n\u001b[1;32m    919\u001b[0m       \u001b[0;31m# Release the lock early so that multiple threads can perform the call\u001b[0m\u001b[0;34m\u001b[0m\u001b[0;34m\u001b[0m\u001b[0;34m\u001b[0m\u001b[0m\n",
            "\u001b[0;32m/usr/local/lib/python3.7/dist-packages/tensorflow/python/eager/function.py\u001b[0m in \u001b[0;36m__call__\u001b[0;34m(self, *args, **kwargs)\u001b[0m\n\u001b[1;32m   3022\u001b[0m        filtered_flat_args) = self._maybe_define_function(args, kwargs)\n\u001b[1;32m   3023\u001b[0m     return graph_function._call_flat(\n\u001b[0;32m-> 3024\u001b[0;31m         filtered_flat_args, captured_inputs=graph_function.captured_inputs)  # pylint: disable=protected-access\n\u001b[0m\u001b[1;32m   3025\u001b[0m \u001b[0;34m\u001b[0m\u001b[0m\n\u001b[1;32m   3026\u001b[0m   \u001b[0;34m@\u001b[0m\u001b[0mproperty\u001b[0m\u001b[0;34m\u001b[0m\u001b[0;34m\u001b[0m\u001b[0m\n",
            "\u001b[0;32m/usr/local/lib/python3.7/dist-packages/tensorflow/python/eager/function.py\u001b[0m in \u001b[0;36m_call_flat\u001b[0;34m(self, args, captured_inputs, cancellation_manager)\u001b[0m\n\u001b[1;32m   1959\u001b[0m       \u001b[0;31m# No tape is watching; skip to running the function.\u001b[0m\u001b[0;34m\u001b[0m\u001b[0;34m\u001b[0m\u001b[0;34m\u001b[0m\u001b[0m\n\u001b[1;32m   1960\u001b[0m       return self._build_call_outputs(self._inference_function.call(\n\u001b[0;32m-> 1961\u001b[0;31m           ctx, args, cancellation_manager=cancellation_manager))\n\u001b[0m\u001b[1;32m   1962\u001b[0m     forward_backward = self._select_forward_and_backward_functions(\n\u001b[1;32m   1963\u001b[0m         \u001b[0margs\u001b[0m\u001b[0;34m,\u001b[0m\u001b[0;34m\u001b[0m\u001b[0;34m\u001b[0m\u001b[0m\n",
            "\u001b[0;32m/usr/local/lib/python3.7/dist-packages/tensorflow/python/eager/function.py\u001b[0m in \u001b[0;36mcall\u001b[0;34m(self, ctx, args, cancellation_manager)\u001b[0m\n\u001b[1;32m    594\u001b[0m               \u001b[0minputs\u001b[0m\u001b[0;34m=\u001b[0m\u001b[0margs\u001b[0m\u001b[0;34m,\u001b[0m\u001b[0;34m\u001b[0m\u001b[0;34m\u001b[0m\u001b[0m\n\u001b[1;32m    595\u001b[0m               \u001b[0mattrs\u001b[0m\u001b[0;34m=\u001b[0m\u001b[0mattrs\u001b[0m\u001b[0;34m,\u001b[0m\u001b[0;34m\u001b[0m\u001b[0;34m\u001b[0m\u001b[0m\n\u001b[0;32m--> 596\u001b[0;31m               ctx=ctx)\n\u001b[0m\u001b[1;32m    597\u001b[0m         \u001b[0;32melse\u001b[0m\u001b[0;34m:\u001b[0m\u001b[0;34m\u001b[0m\u001b[0;34m\u001b[0m\u001b[0m\n\u001b[1;32m    598\u001b[0m           outputs = execute.execute_with_cancellation(\n",
            "\u001b[0;32m/usr/local/lib/python3.7/dist-packages/tensorflow/python/eager/execute.py\u001b[0m in \u001b[0;36mquick_execute\u001b[0;34m(op_name, num_outputs, inputs, attrs, ctx, name)\u001b[0m\n\u001b[1;32m     58\u001b[0m     \u001b[0mctx\u001b[0m\u001b[0;34m.\u001b[0m\u001b[0mensure_initialized\u001b[0m\u001b[0;34m(\u001b[0m\u001b[0;34m)\u001b[0m\u001b[0;34m\u001b[0m\u001b[0;34m\u001b[0m\u001b[0m\n\u001b[1;32m     59\u001b[0m     tensors = pywrap_tfe.TFE_Py_Execute(ctx._handle, device_name, op_name,\n\u001b[0;32m---> 60\u001b[0;31m                                         inputs, attrs, num_outputs)\n\u001b[0m\u001b[1;32m     61\u001b[0m   \u001b[0;32mexcept\u001b[0m \u001b[0mcore\u001b[0m\u001b[0;34m.\u001b[0m\u001b[0m_NotOkStatusException\u001b[0m \u001b[0;32mas\u001b[0m \u001b[0me\u001b[0m\u001b[0;34m:\u001b[0m\u001b[0;34m\u001b[0m\u001b[0;34m\u001b[0m\u001b[0m\n\u001b[1;32m     62\u001b[0m     \u001b[0;32mif\u001b[0m \u001b[0mname\u001b[0m \u001b[0;32mis\u001b[0m \u001b[0;32mnot\u001b[0m \u001b[0;32mNone\u001b[0m\u001b[0;34m:\u001b[0m\u001b[0;34m\u001b[0m\u001b[0;34m\u001b[0m\u001b[0m\n",
            "\u001b[0;31mKeyboardInterrupt\u001b[0m: "
          ]
        }
      ]
    },
    {
      "cell_type": "code",
      "metadata": {
        "id": "yJi8wn3PXM-L"
      },
      "source": [
        "# Now one hot encoding the labels \n",
        "from sklearn.preprocessing import OneHotEncoder\n",
        "one_hot_encoder = OneHotEncoder(sparse = False)\n",
        "train_labels = one_hot_encoder.fit_transform(new_train_sample['BROWSE_NODE_ID'].to_numpy().reshape(-1 , 1))"
      ],
      "execution_count": null,
      "outputs": []
    },
    {
      "cell_type": "code",
      "metadata": {
        "colab": {
          "base_uri": "https://localhost:8080/"
        },
        "id": "_n8o0vHV4Nq9",
        "outputId": "87bfe16d-152c-475b-c223-25e16b631df3"
      },
      "source": [
        "train_labels"
      ],
      "execution_count": 54,
      "outputs": [
        {
          "output_type": "execute_result",
          "data": {
            "text/plain": [
              "array([[32296],\n",
              "       [   35],\n",
              "       [ 1724],\n",
              "       ...,\n",
              "       [ 1251],\n",
              "       [ 1084],\n",
              "       [45027]])"
            ]
          },
          "metadata": {
            "tags": []
          },
          "execution_count": 54
        }
      ]
    },
    {
      "cell_type": "code",
      "metadata": {
        "id": "6HYj63ws4dvq"
      },
      "source": [
        ""
      ],
      "execution_count": null,
      "outputs": []
    }
  ]
}
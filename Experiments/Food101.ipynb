{
  "nbformat": 4,
  "nbformat_minor": 0,
  "metadata": {
    "accelerator": "GPU",
    "colab": {
      "name": "Refreshing_TensorFlow.ipynb",
      "provenance": [],
      "collapsed_sections": [],
      "include_colab_link": true
    },
    "kernelspec": {
      "display_name": "Python 3",
      "name": "python3"
    },
    "language_info": {
      "name": "python"
    },
    "widgets": {
      "application/vnd.jupyter.widget-state+json": {
        "43a69db5ae1b4748a06be7cda8153bd3": {
          "model_module": "@jupyter-widgets/controls",
          "model_name": "HBoxModel",
          "state": {
            "_view_name": "HBoxView",
            "_dom_classes": [],
            "_model_name": "HBoxModel",
            "_view_module": "@jupyter-widgets/controls",
            "_model_module_version": "1.5.0",
            "_view_count": null,
            "_view_module_version": "1.5.0",
            "box_style": "",
            "layout": "IPY_MODEL_862a5c0b5cc248ffb4fd3d453cfd0ad0",
            "_model_module": "@jupyter-widgets/controls",
            "children": [
              "IPY_MODEL_096b16886b8e48e1844c72d5f51ed30a",
              "IPY_MODEL_066d7151b4114f79a292b1c59bdcddde"
            ]
          }
        },
        "862a5c0b5cc248ffb4fd3d453cfd0ad0": {
          "model_module": "@jupyter-widgets/base",
          "model_name": "LayoutModel",
          "state": {
            "_view_name": "LayoutView",
            "grid_template_rows": null,
            "right": null,
            "justify_content": null,
            "_view_module": "@jupyter-widgets/base",
            "overflow": null,
            "_model_module_version": "1.2.0",
            "_view_count": null,
            "flex_flow": null,
            "width": null,
            "min_width": null,
            "border": null,
            "align_items": null,
            "bottom": null,
            "_model_module": "@jupyter-widgets/base",
            "top": null,
            "grid_column": null,
            "overflow_y": null,
            "overflow_x": null,
            "grid_auto_flow": null,
            "grid_area": null,
            "grid_template_columns": null,
            "flex": null,
            "_model_name": "LayoutModel",
            "justify_items": null,
            "grid_row": null,
            "max_height": null,
            "align_content": null,
            "visibility": null,
            "align_self": null,
            "height": null,
            "min_height": null,
            "padding": null,
            "grid_auto_rows": null,
            "grid_gap": null,
            "max_width": null,
            "order": null,
            "_view_module_version": "1.2.0",
            "grid_template_areas": null,
            "object_position": null,
            "object_fit": null,
            "grid_auto_columns": null,
            "margin": null,
            "display": null,
            "left": null
          }
        },
        "096b16886b8e48e1844c72d5f51ed30a": {
          "model_module": "@jupyter-widgets/controls",
          "model_name": "FloatProgressModel",
          "state": {
            "_view_name": "ProgressView",
            "style": "IPY_MODEL_73c2176d44e145f5996832e8a7c54f93",
            "_dom_classes": [],
            "description": "Dl Completed...: 100%",
            "_model_name": "FloatProgressModel",
            "bar_style": "success",
            "max": 1,
            "_view_module": "@jupyter-widgets/controls",
            "_model_module_version": "1.5.0",
            "value": 1,
            "_view_count": null,
            "_view_module_version": "1.5.0",
            "orientation": "horizontal",
            "min": 0,
            "description_tooltip": null,
            "_model_module": "@jupyter-widgets/controls",
            "layout": "IPY_MODEL_5d90b5640307420dbf65bd006b9d4396"
          }
        },
        "066d7151b4114f79a292b1c59bdcddde": {
          "model_module": "@jupyter-widgets/controls",
          "model_name": "HTMLModel",
          "state": {
            "_view_name": "HTMLView",
            "style": "IPY_MODEL_3782c61db2fb44f6a8ce5abb76e554ea",
            "_dom_classes": [],
            "description": "",
            "_model_name": "HTMLModel",
            "placeholder": "​",
            "_view_module": "@jupyter-widgets/controls",
            "_model_module_version": "1.5.0",
            "value": " 1/1 [04:26&lt;00:00, 266.56s/ url]",
            "_view_count": null,
            "_view_module_version": "1.5.0",
            "description_tooltip": null,
            "_model_module": "@jupyter-widgets/controls",
            "layout": "IPY_MODEL_f419a5b6f72049edb3ce02280c32b9bd"
          }
        },
        "73c2176d44e145f5996832e8a7c54f93": {
          "model_module": "@jupyter-widgets/controls",
          "model_name": "ProgressStyleModel",
          "state": {
            "_view_name": "StyleView",
            "_model_name": "ProgressStyleModel",
            "description_width": "initial",
            "_view_module": "@jupyter-widgets/base",
            "_model_module_version": "1.5.0",
            "_view_count": null,
            "_view_module_version": "1.2.0",
            "bar_color": null,
            "_model_module": "@jupyter-widgets/controls"
          }
        },
        "5d90b5640307420dbf65bd006b9d4396": {
          "model_module": "@jupyter-widgets/base",
          "model_name": "LayoutModel",
          "state": {
            "_view_name": "LayoutView",
            "grid_template_rows": null,
            "right": null,
            "justify_content": null,
            "_view_module": "@jupyter-widgets/base",
            "overflow": null,
            "_model_module_version": "1.2.0",
            "_view_count": null,
            "flex_flow": null,
            "width": null,
            "min_width": null,
            "border": null,
            "align_items": null,
            "bottom": null,
            "_model_module": "@jupyter-widgets/base",
            "top": null,
            "grid_column": null,
            "overflow_y": null,
            "overflow_x": null,
            "grid_auto_flow": null,
            "grid_area": null,
            "grid_template_columns": null,
            "flex": null,
            "_model_name": "LayoutModel",
            "justify_items": null,
            "grid_row": null,
            "max_height": null,
            "align_content": null,
            "visibility": null,
            "align_self": null,
            "height": null,
            "min_height": null,
            "padding": null,
            "grid_auto_rows": null,
            "grid_gap": null,
            "max_width": null,
            "order": null,
            "_view_module_version": "1.2.0",
            "grid_template_areas": null,
            "object_position": null,
            "object_fit": null,
            "grid_auto_columns": null,
            "margin": null,
            "display": null,
            "left": null
          }
        },
        "3782c61db2fb44f6a8ce5abb76e554ea": {
          "model_module": "@jupyter-widgets/controls",
          "model_name": "DescriptionStyleModel",
          "state": {
            "_view_name": "StyleView",
            "_model_name": "DescriptionStyleModel",
            "description_width": "",
            "_view_module": "@jupyter-widgets/base",
            "_model_module_version": "1.5.0",
            "_view_count": null,
            "_view_module_version": "1.2.0",
            "_model_module": "@jupyter-widgets/controls"
          }
        },
        "f419a5b6f72049edb3ce02280c32b9bd": {
          "model_module": "@jupyter-widgets/base",
          "model_name": "LayoutModel",
          "state": {
            "_view_name": "LayoutView",
            "grid_template_rows": null,
            "right": null,
            "justify_content": null,
            "_view_module": "@jupyter-widgets/base",
            "overflow": null,
            "_model_module_version": "1.2.0",
            "_view_count": null,
            "flex_flow": null,
            "width": null,
            "min_width": null,
            "border": null,
            "align_items": null,
            "bottom": null,
            "_model_module": "@jupyter-widgets/base",
            "top": null,
            "grid_column": null,
            "overflow_y": null,
            "overflow_x": null,
            "grid_auto_flow": null,
            "grid_area": null,
            "grid_template_columns": null,
            "flex": null,
            "_model_name": "LayoutModel",
            "justify_items": null,
            "grid_row": null,
            "max_height": null,
            "align_content": null,
            "visibility": null,
            "align_self": null,
            "height": null,
            "min_height": null,
            "padding": null,
            "grid_auto_rows": null,
            "grid_gap": null,
            "max_width": null,
            "order": null,
            "_view_module_version": "1.2.0",
            "grid_template_areas": null,
            "object_position": null,
            "object_fit": null,
            "grid_auto_columns": null,
            "margin": null,
            "display": null,
            "left": null
          }
        },
        "9d40fca4494b4894a560d5246082157d": {
          "model_module": "@jupyter-widgets/controls",
          "model_name": "HBoxModel",
          "state": {
            "_view_name": "HBoxView",
            "_dom_classes": [],
            "_model_name": "HBoxModel",
            "_view_module": "@jupyter-widgets/controls",
            "_model_module_version": "1.5.0",
            "_view_count": null,
            "_view_module_version": "1.5.0",
            "box_style": "",
            "layout": "IPY_MODEL_c2bf8966b0f04baabc77ccc69cd58624",
            "_model_module": "@jupyter-widgets/controls",
            "children": [
              "IPY_MODEL_1fdbfe17f21b4c9d9b92472d4c511411",
              "IPY_MODEL_75f26396a1cc469f8d2cdf9aa264c409"
            ]
          }
        },
        "c2bf8966b0f04baabc77ccc69cd58624": {
          "model_module": "@jupyter-widgets/base",
          "model_name": "LayoutModel",
          "state": {
            "_view_name": "LayoutView",
            "grid_template_rows": null,
            "right": null,
            "justify_content": null,
            "_view_module": "@jupyter-widgets/base",
            "overflow": null,
            "_model_module_version": "1.2.0",
            "_view_count": null,
            "flex_flow": null,
            "width": null,
            "min_width": null,
            "border": null,
            "align_items": null,
            "bottom": null,
            "_model_module": "@jupyter-widgets/base",
            "top": null,
            "grid_column": null,
            "overflow_y": null,
            "overflow_x": null,
            "grid_auto_flow": null,
            "grid_area": null,
            "grid_template_columns": null,
            "flex": null,
            "_model_name": "LayoutModel",
            "justify_items": null,
            "grid_row": null,
            "max_height": null,
            "align_content": null,
            "visibility": null,
            "align_self": null,
            "height": null,
            "min_height": null,
            "padding": null,
            "grid_auto_rows": null,
            "grid_gap": null,
            "max_width": null,
            "order": null,
            "_view_module_version": "1.2.0",
            "grid_template_areas": null,
            "object_position": null,
            "object_fit": null,
            "grid_auto_columns": null,
            "margin": null,
            "display": null,
            "left": null
          }
        },
        "1fdbfe17f21b4c9d9b92472d4c511411": {
          "model_module": "@jupyter-widgets/controls",
          "model_name": "FloatProgressModel",
          "state": {
            "_view_name": "ProgressView",
            "style": "IPY_MODEL_99b8f01419cc4107a0349e41200b5972",
            "_dom_classes": [],
            "description": "Dl Size...: 100%",
            "_model_name": "FloatProgressModel",
            "bar_style": "success",
            "max": 1,
            "_view_module": "@jupyter-widgets/controls",
            "_model_module_version": "1.5.0",
            "value": 1,
            "_view_count": null,
            "_view_module_version": "1.5.0",
            "orientation": "horizontal",
            "min": 0,
            "description_tooltip": null,
            "_model_module": "@jupyter-widgets/controls",
            "layout": "IPY_MODEL_96f281fdba39442ba4000b502340f78d"
          }
        },
        "75f26396a1cc469f8d2cdf9aa264c409": {
          "model_module": "@jupyter-widgets/controls",
          "model_name": "HTMLModel",
          "state": {
            "_view_name": "HTMLView",
            "style": "IPY_MODEL_91206f59d7774a72a6708f872982246c",
            "_dom_classes": [],
            "description": "",
            "_model_name": "HTMLModel",
            "placeholder": "​",
            "_view_module": "@jupyter-widgets/controls",
            "_model_module_version": "1.5.0",
            "value": " 4764/4764 [04:26&lt;00:00, 17.87 MiB/s]",
            "_view_count": null,
            "_view_module_version": "1.5.0",
            "description_tooltip": null,
            "_model_module": "@jupyter-widgets/controls",
            "layout": "IPY_MODEL_f0494587b5fc416b8b60fb5fad5e663a"
          }
        },
        "99b8f01419cc4107a0349e41200b5972": {
          "model_module": "@jupyter-widgets/controls",
          "model_name": "ProgressStyleModel",
          "state": {
            "_view_name": "StyleView",
            "_model_name": "ProgressStyleModel",
            "description_width": "initial",
            "_view_module": "@jupyter-widgets/base",
            "_model_module_version": "1.5.0",
            "_view_count": null,
            "_view_module_version": "1.2.0",
            "bar_color": null,
            "_model_module": "@jupyter-widgets/controls"
          }
        },
        "96f281fdba39442ba4000b502340f78d": {
          "model_module": "@jupyter-widgets/base",
          "model_name": "LayoutModel",
          "state": {
            "_view_name": "LayoutView",
            "grid_template_rows": null,
            "right": null,
            "justify_content": null,
            "_view_module": "@jupyter-widgets/base",
            "overflow": null,
            "_model_module_version": "1.2.0",
            "_view_count": null,
            "flex_flow": null,
            "width": null,
            "min_width": null,
            "border": null,
            "align_items": null,
            "bottom": null,
            "_model_module": "@jupyter-widgets/base",
            "top": null,
            "grid_column": null,
            "overflow_y": null,
            "overflow_x": null,
            "grid_auto_flow": null,
            "grid_area": null,
            "grid_template_columns": null,
            "flex": null,
            "_model_name": "LayoutModel",
            "justify_items": null,
            "grid_row": null,
            "max_height": null,
            "align_content": null,
            "visibility": null,
            "align_self": null,
            "height": null,
            "min_height": null,
            "padding": null,
            "grid_auto_rows": null,
            "grid_gap": null,
            "max_width": null,
            "order": null,
            "_view_module_version": "1.2.0",
            "grid_template_areas": null,
            "object_position": null,
            "object_fit": null,
            "grid_auto_columns": null,
            "margin": null,
            "display": null,
            "left": null
          }
        },
        "91206f59d7774a72a6708f872982246c": {
          "model_module": "@jupyter-widgets/controls",
          "model_name": "DescriptionStyleModel",
          "state": {
            "_view_name": "StyleView",
            "_model_name": "DescriptionStyleModel",
            "description_width": "",
            "_view_module": "@jupyter-widgets/base",
            "_model_module_version": "1.5.0",
            "_view_count": null,
            "_view_module_version": "1.2.0",
            "_model_module": "@jupyter-widgets/controls"
          }
        },
        "f0494587b5fc416b8b60fb5fad5e663a": {
          "model_module": "@jupyter-widgets/base",
          "model_name": "LayoutModel",
          "state": {
            "_view_name": "LayoutView",
            "grid_template_rows": null,
            "right": null,
            "justify_content": null,
            "_view_module": "@jupyter-widgets/base",
            "overflow": null,
            "_model_module_version": "1.2.0",
            "_view_count": null,
            "flex_flow": null,
            "width": null,
            "min_width": null,
            "border": null,
            "align_items": null,
            "bottom": null,
            "_model_module": "@jupyter-widgets/base",
            "top": null,
            "grid_column": null,
            "overflow_y": null,
            "overflow_x": null,
            "grid_auto_flow": null,
            "grid_area": null,
            "grid_template_columns": null,
            "flex": null,
            "_model_name": "LayoutModel",
            "justify_items": null,
            "grid_row": null,
            "max_height": null,
            "align_content": null,
            "visibility": null,
            "align_self": null,
            "height": null,
            "min_height": null,
            "padding": null,
            "grid_auto_rows": null,
            "grid_gap": null,
            "max_width": null,
            "order": null,
            "_view_module_version": "1.2.0",
            "grid_template_areas": null,
            "object_position": null,
            "object_fit": null,
            "grid_auto_columns": null,
            "margin": null,
            "display": null,
            "left": null
          }
        },
        "15ef6fa0bd0e4dc88709912bb725b4d2": {
          "model_module": "@jupyter-widgets/controls",
          "model_name": "HBoxModel",
          "state": {
            "_view_name": "HBoxView",
            "_dom_classes": [],
            "_model_name": "HBoxModel",
            "_view_module": "@jupyter-widgets/controls",
            "_model_module_version": "1.5.0",
            "_view_count": null,
            "_view_module_version": "1.5.0",
            "box_style": "",
            "layout": "IPY_MODEL_87d42e03eb5b4278bb5c2962a3bc4184",
            "_model_module": "@jupyter-widgets/controls",
            "children": [
              "IPY_MODEL_1e28d2fc253c4b628f7f31603ef1291e",
              "IPY_MODEL_05c760d6d357489baed924bb4c4417c3"
            ]
          }
        },
        "87d42e03eb5b4278bb5c2962a3bc4184": {
          "model_module": "@jupyter-widgets/base",
          "model_name": "LayoutModel",
          "state": {
            "_view_name": "LayoutView",
            "grid_template_rows": null,
            "right": null,
            "justify_content": null,
            "_view_module": "@jupyter-widgets/base",
            "overflow": null,
            "_model_module_version": "1.2.0",
            "_view_count": null,
            "flex_flow": null,
            "width": null,
            "min_width": null,
            "border": null,
            "align_items": null,
            "bottom": null,
            "_model_module": "@jupyter-widgets/base",
            "top": null,
            "grid_column": null,
            "overflow_y": null,
            "overflow_x": null,
            "grid_auto_flow": null,
            "grid_area": null,
            "grid_template_columns": null,
            "flex": null,
            "_model_name": "LayoutModel",
            "justify_items": null,
            "grid_row": null,
            "max_height": null,
            "align_content": null,
            "visibility": null,
            "align_self": null,
            "height": null,
            "min_height": null,
            "padding": null,
            "grid_auto_rows": null,
            "grid_gap": null,
            "max_width": null,
            "order": null,
            "_view_module_version": "1.2.0",
            "grid_template_areas": null,
            "object_position": null,
            "object_fit": null,
            "grid_auto_columns": null,
            "margin": null,
            "display": null,
            "left": null
          }
        },
        "1e28d2fc253c4b628f7f31603ef1291e": {
          "model_module": "@jupyter-widgets/controls",
          "model_name": "FloatProgressModel",
          "state": {
            "_view_name": "ProgressView",
            "style": "IPY_MODEL_a0fc781adfb9462e851e2359897a0cf5",
            "_dom_classes": [],
            "description": "Extraction completed...: 100%",
            "_model_name": "FloatProgressModel",
            "bar_style": "success",
            "max": 1,
            "_view_module": "@jupyter-widgets/controls",
            "_model_module_version": "1.5.0",
            "value": 1,
            "_view_count": null,
            "_view_module_version": "1.5.0",
            "orientation": "horizontal",
            "min": 0,
            "description_tooltip": null,
            "_model_module": "@jupyter-widgets/controls",
            "layout": "IPY_MODEL_0b932e02980b49d6812545496b84274a"
          }
        },
        "05c760d6d357489baed924bb4c4417c3": {
          "model_module": "@jupyter-widgets/controls",
          "model_name": "HTMLModel",
          "state": {
            "_view_name": "HTMLView",
            "style": "IPY_MODEL_7774981876c04d63b029f6411887095d",
            "_dom_classes": [],
            "description": "",
            "_model_name": "HTMLModel",
            "placeholder": "​",
            "_view_module": "@jupyter-widgets/controls",
            "_model_module_version": "1.5.0",
            "value": " 1/1 [04:26&lt;00:00, 266.47s/ file]",
            "_view_count": null,
            "_view_module_version": "1.5.0",
            "description_tooltip": null,
            "_model_module": "@jupyter-widgets/controls",
            "layout": "IPY_MODEL_f1babfb2769b4bef879ebccdf15d56a4"
          }
        },
        "a0fc781adfb9462e851e2359897a0cf5": {
          "model_module": "@jupyter-widgets/controls",
          "model_name": "ProgressStyleModel",
          "state": {
            "_view_name": "StyleView",
            "_model_name": "ProgressStyleModel",
            "description_width": "initial",
            "_view_module": "@jupyter-widgets/base",
            "_model_module_version": "1.5.0",
            "_view_count": null,
            "_view_module_version": "1.2.0",
            "bar_color": null,
            "_model_module": "@jupyter-widgets/controls"
          }
        },
        "0b932e02980b49d6812545496b84274a": {
          "model_module": "@jupyter-widgets/base",
          "model_name": "LayoutModel",
          "state": {
            "_view_name": "LayoutView",
            "grid_template_rows": null,
            "right": null,
            "justify_content": null,
            "_view_module": "@jupyter-widgets/base",
            "overflow": null,
            "_model_module_version": "1.2.0",
            "_view_count": null,
            "flex_flow": null,
            "width": null,
            "min_width": null,
            "border": null,
            "align_items": null,
            "bottom": null,
            "_model_module": "@jupyter-widgets/base",
            "top": null,
            "grid_column": null,
            "overflow_y": null,
            "overflow_x": null,
            "grid_auto_flow": null,
            "grid_area": null,
            "grid_template_columns": null,
            "flex": null,
            "_model_name": "LayoutModel",
            "justify_items": null,
            "grid_row": null,
            "max_height": null,
            "align_content": null,
            "visibility": null,
            "align_self": null,
            "height": null,
            "min_height": null,
            "padding": null,
            "grid_auto_rows": null,
            "grid_gap": null,
            "max_width": null,
            "order": null,
            "_view_module_version": "1.2.0",
            "grid_template_areas": null,
            "object_position": null,
            "object_fit": null,
            "grid_auto_columns": null,
            "margin": null,
            "display": null,
            "left": null
          }
        },
        "7774981876c04d63b029f6411887095d": {
          "model_module": "@jupyter-widgets/controls",
          "model_name": "DescriptionStyleModel",
          "state": {
            "_view_name": "StyleView",
            "_model_name": "DescriptionStyleModel",
            "description_width": "",
            "_view_module": "@jupyter-widgets/base",
            "_model_module_version": "1.5.0",
            "_view_count": null,
            "_view_module_version": "1.2.0",
            "_model_module": "@jupyter-widgets/controls"
          }
        },
        "f1babfb2769b4bef879ebccdf15d56a4": {
          "model_module": "@jupyter-widgets/base",
          "model_name": "LayoutModel",
          "state": {
            "_view_name": "LayoutView",
            "grid_template_rows": null,
            "right": null,
            "justify_content": null,
            "_view_module": "@jupyter-widgets/base",
            "overflow": null,
            "_model_module_version": "1.2.0",
            "_view_count": null,
            "flex_flow": null,
            "width": null,
            "min_width": null,
            "border": null,
            "align_items": null,
            "bottom": null,
            "_model_module": "@jupyter-widgets/base",
            "top": null,
            "grid_column": null,
            "overflow_y": null,
            "overflow_x": null,
            "grid_auto_flow": null,
            "grid_area": null,
            "grid_template_columns": null,
            "flex": null,
            "_model_name": "LayoutModel",
            "justify_items": null,
            "grid_row": null,
            "max_height": null,
            "align_content": null,
            "visibility": null,
            "align_self": null,
            "height": null,
            "min_height": null,
            "padding": null,
            "grid_auto_rows": null,
            "grid_gap": null,
            "max_width": null,
            "order": null,
            "_view_module_version": "1.2.0",
            "grid_template_areas": null,
            "object_position": null,
            "object_fit": null,
            "grid_auto_columns": null,
            "margin": null,
            "display": null,
            "left": null
          }
        },
        "e31192463df8435e9eebe1bd98c576b0": {
          "model_module": "@jupyter-widgets/controls",
          "model_name": "HBoxModel",
          "state": {
            "_view_name": "HBoxView",
            "_dom_classes": [],
            "_model_name": "HBoxModel",
            "_view_module": "@jupyter-widgets/controls",
            "_model_module_version": "1.5.0",
            "_view_count": null,
            "_view_module_version": "1.5.0",
            "box_style": "",
            "layout": "IPY_MODEL_bd5a78967e4d49ceb0adab67891a7038",
            "_model_module": "@jupyter-widgets/controls",
            "children": [
              "IPY_MODEL_7ad8aa7400eb4b67a44505584cbbd11b",
              "IPY_MODEL_3c00336a4e7d4afeb3b7298db0893f2c"
            ]
          }
        },
        "bd5a78967e4d49ceb0adab67891a7038": {
          "model_module": "@jupyter-widgets/base",
          "model_name": "LayoutModel",
          "state": {
            "_view_name": "LayoutView",
            "grid_template_rows": null,
            "right": null,
            "justify_content": null,
            "_view_module": "@jupyter-widgets/base",
            "overflow": null,
            "_model_module_version": "1.2.0",
            "_view_count": null,
            "flex_flow": null,
            "width": null,
            "min_width": null,
            "border": null,
            "align_items": null,
            "bottom": null,
            "_model_module": "@jupyter-widgets/base",
            "top": null,
            "grid_column": null,
            "overflow_y": null,
            "overflow_x": null,
            "grid_auto_flow": null,
            "grid_area": null,
            "grid_template_columns": null,
            "flex": null,
            "_model_name": "LayoutModel",
            "justify_items": null,
            "grid_row": null,
            "max_height": null,
            "align_content": null,
            "visibility": null,
            "align_self": null,
            "height": null,
            "min_height": null,
            "padding": null,
            "grid_auto_rows": null,
            "grid_gap": null,
            "max_width": null,
            "order": null,
            "_view_module_version": "1.2.0",
            "grid_template_areas": null,
            "object_position": null,
            "object_fit": null,
            "grid_auto_columns": null,
            "margin": null,
            "display": null,
            "left": null
          }
        },
        "7ad8aa7400eb4b67a44505584cbbd11b": {
          "model_module": "@jupyter-widgets/controls",
          "model_name": "FloatProgressModel",
          "state": {
            "_view_name": "ProgressView",
            "style": "IPY_MODEL_7a439606de674402beb326db2fe4fad7",
            "_dom_classes": [],
            "description": "",
            "_model_name": "FloatProgressModel",
            "bar_style": "info",
            "max": 1,
            "_view_module": "@jupyter-widgets/controls",
            "_model_module_version": "1.5.0",
            "value": 1,
            "_view_count": null,
            "_view_module_version": "1.5.0",
            "orientation": "horizontal",
            "min": 0,
            "description_tooltip": null,
            "_model_module": "@jupyter-widgets/controls",
            "layout": "IPY_MODEL_93624c86b3744238bd3612b2d18daf3e"
          }
        },
        "3c00336a4e7d4afeb3b7298db0893f2c": {
          "model_module": "@jupyter-widgets/controls",
          "model_name": "HTMLModel",
          "state": {
            "_view_name": "HTMLView",
            "style": "IPY_MODEL_7d7ff1b72c5c44bd9748b62b4ee306ec",
            "_dom_classes": [],
            "description": "",
            "_model_name": "HTMLModel",
            "placeholder": "​",
            "_view_module": "@jupyter-widgets/controls",
            "_model_module_version": "1.5.0",
            "value": " 75750/0 [01:50&lt;00:00, 619.11 examples/s]",
            "_view_count": null,
            "_view_module_version": "1.5.0",
            "description_tooltip": null,
            "_model_module": "@jupyter-widgets/controls",
            "layout": "IPY_MODEL_2e530ee22efe45de908ff244ab5ec432"
          }
        },
        "7a439606de674402beb326db2fe4fad7": {
          "model_module": "@jupyter-widgets/controls",
          "model_name": "ProgressStyleModel",
          "state": {
            "_view_name": "StyleView",
            "_model_name": "ProgressStyleModel",
            "description_width": "initial",
            "_view_module": "@jupyter-widgets/base",
            "_model_module_version": "1.5.0",
            "_view_count": null,
            "_view_module_version": "1.2.0",
            "bar_color": null,
            "_model_module": "@jupyter-widgets/controls"
          }
        },
        "93624c86b3744238bd3612b2d18daf3e": {
          "model_module": "@jupyter-widgets/base",
          "model_name": "LayoutModel",
          "state": {
            "_view_name": "LayoutView",
            "grid_template_rows": null,
            "right": null,
            "justify_content": null,
            "_view_module": "@jupyter-widgets/base",
            "overflow": null,
            "_model_module_version": "1.2.0",
            "_view_count": null,
            "flex_flow": null,
            "width": null,
            "min_width": null,
            "border": null,
            "align_items": null,
            "bottom": null,
            "_model_module": "@jupyter-widgets/base",
            "top": null,
            "grid_column": null,
            "overflow_y": null,
            "overflow_x": null,
            "grid_auto_flow": null,
            "grid_area": null,
            "grid_template_columns": null,
            "flex": null,
            "_model_name": "LayoutModel",
            "justify_items": null,
            "grid_row": null,
            "max_height": null,
            "align_content": null,
            "visibility": null,
            "align_self": null,
            "height": null,
            "min_height": null,
            "padding": null,
            "grid_auto_rows": null,
            "grid_gap": null,
            "max_width": null,
            "order": null,
            "_view_module_version": "1.2.0",
            "grid_template_areas": null,
            "object_position": null,
            "object_fit": null,
            "grid_auto_columns": null,
            "margin": null,
            "display": null,
            "left": null
          }
        },
        "7d7ff1b72c5c44bd9748b62b4ee306ec": {
          "model_module": "@jupyter-widgets/controls",
          "model_name": "DescriptionStyleModel",
          "state": {
            "_view_name": "StyleView",
            "_model_name": "DescriptionStyleModel",
            "description_width": "",
            "_view_module": "@jupyter-widgets/base",
            "_model_module_version": "1.5.0",
            "_view_count": null,
            "_view_module_version": "1.2.0",
            "_model_module": "@jupyter-widgets/controls"
          }
        },
        "2e530ee22efe45de908ff244ab5ec432": {
          "model_module": "@jupyter-widgets/base",
          "model_name": "LayoutModel",
          "state": {
            "_view_name": "LayoutView",
            "grid_template_rows": null,
            "right": null,
            "justify_content": null,
            "_view_module": "@jupyter-widgets/base",
            "overflow": null,
            "_model_module_version": "1.2.0",
            "_view_count": null,
            "flex_flow": null,
            "width": null,
            "min_width": null,
            "border": null,
            "align_items": null,
            "bottom": null,
            "_model_module": "@jupyter-widgets/base",
            "top": null,
            "grid_column": null,
            "overflow_y": null,
            "overflow_x": null,
            "grid_auto_flow": null,
            "grid_area": null,
            "grid_template_columns": null,
            "flex": null,
            "_model_name": "LayoutModel",
            "justify_items": null,
            "grid_row": null,
            "max_height": null,
            "align_content": null,
            "visibility": null,
            "align_self": null,
            "height": null,
            "min_height": null,
            "padding": null,
            "grid_auto_rows": null,
            "grid_gap": null,
            "max_width": null,
            "order": null,
            "_view_module_version": "1.2.0",
            "grid_template_areas": null,
            "object_position": null,
            "object_fit": null,
            "grid_auto_columns": null,
            "margin": null,
            "display": null,
            "left": null
          }
        },
        "9a61da3c2ce84fb7aa451e304db353ee": {
          "model_module": "@jupyter-widgets/controls",
          "model_name": "HBoxModel",
          "state": {
            "_view_name": "HBoxView",
            "_dom_classes": [],
            "_model_name": "HBoxModel",
            "_view_module": "@jupyter-widgets/controls",
            "_model_module_version": "1.5.0",
            "_view_count": null,
            "_view_module_version": "1.5.0",
            "box_style": "",
            "layout": "IPY_MODEL_57bb6bd0bf0044028d480bab1b3d02b1",
            "_model_module": "@jupyter-widgets/controls",
            "children": [
              "IPY_MODEL_372f4eec4c3e41939fdbc1b8a78d8eaa",
              "IPY_MODEL_fcc6b726909144b7bf81553b7c924c32"
            ]
          }
        },
        "57bb6bd0bf0044028d480bab1b3d02b1": {
          "model_module": "@jupyter-widgets/base",
          "model_name": "LayoutModel",
          "state": {
            "_view_name": "LayoutView",
            "grid_template_rows": null,
            "right": null,
            "justify_content": null,
            "_view_module": "@jupyter-widgets/base",
            "overflow": null,
            "_model_module_version": "1.2.0",
            "_view_count": null,
            "flex_flow": null,
            "width": null,
            "min_width": null,
            "border": null,
            "align_items": null,
            "bottom": null,
            "_model_module": "@jupyter-widgets/base",
            "top": null,
            "grid_column": null,
            "overflow_y": null,
            "overflow_x": null,
            "grid_auto_flow": null,
            "grid_area": null,
            "grid_template_columns": null,
            "flex": null,
            "_model_name": "LayoutModel",
            "justify_items": null,
            "grid_row": null,
            "max_height": null,
            "align_content": null,
            "visibility": null,
            "align_self": null,
            "height": null,
            "min_height": null,
            "padding": null,
            "grid_auto_rows": null,
            "grid_gap": null,
            "max_width": null,
            "order": null,
            "_view_module_version": "1.2.0",
            "grid_template_areas": null,
            "object_position": null,
            "object_fit": null,
            "grid_auto_columns": null,
            "margin": null,
            "display": null,
            "left": null
          }
        },
        "372f4eec4c3e41939fdbc1b8a78d8eaa": {
          "model_module": "@jupyter-widgets/controls",
          "model_name": "FloatProgressModel",
          "state": {
            "_view_name": "ProgressView",
            "style": "IPY_MODEL_e5f32ac248b841ee9a94498d5218c3a4",
            "_dom_classes": [],
            "description": "100%",
            "_model_name": "FloatProgressModel",
            "bar_style": "danger",
            "max": 75750,
            "_view_module": "@jupyter-widgets/controls",
            "_model_module_version": "1.5.0",
            "value": 75679,
            "_view_count": null,
            "_view_module_version": "1.5.0",
            "orientation": "horizontal",
            "min": 0,
            "description_tooltip": null,
            "_model_module": "@jupyter-widgets/controls",
            "layout": "IPY_MODEL_7817ae7de6044a37997f3ad51c11e1e0"
          }
        },
        "fcc6b726909144b7bf81553b7c924c32": {
          "model_module": "@jupyter-widgets/controls",
          "model_name": "HTMLModel",
          "state": {
            "_view_name": "HTMLView",
            "style": "IPY_MODEL_47a34642cd7d4de4bc1134882d90cf14",
            "_dom_classes": [],
            "description": "",
            "_model_name": "HTMLModel",
            "placeholder": "​",
            "_view_module": "@jupyter-widgets/controls",
            "_model_module_version": "1.5.0",
            "value": " 75679/75750 [01:40&lt;00:00, 947.62 examples/s]",
            "_view_count": null,
            "_view_module_version": "1.5.0",
            "description_tooltip": null,
            "_model_module": "@jupyter-widgets/controls",
            "layout": "IPY_MODEL_b97c35fd06874e979e1076a801776d7c"
          }
        },
        "e5f32ac248b841ee9a94498d5218c3a4": {
          "model_module": "@jupyter-widgets/controls",
          "model_name": "ProgressStyleModel",
          "state": {
            "_view_name": "StyleView",
            "_model_name": "ProgressStyleModel",
            "description_width": "initial",
            "_view_module": "@jupyter-widgets/base",
            "_model_module_version": "1.5.0",
            "_view_count": null,
            "_view_module_version": "1.2.0",
            "bar_color": null,
            "_model_module": "@jupyter-widgets/controls"
          }
        },
        "7817ae7de6044a37997f3ad51c11e1e0": {
          "model_module": "@jupyter-widgets/base",
          "model_name": "LayoutModel",
          "state": {
            "_view_name": "LayoutView",
            "grid_template_rows": null,
            "right": null,
            "justify_content": null,
            "_view_module": "@jupyter-widgets/base",
            "overflow": null,
            "_model_module_version": "1.2.0",
            "_view_count": null,
            "flex_flow": null,
            "width": null,
            "min_width": null,
            "border": null,
            "align_items": null,
            "bottom": null,
            "_model_module": "@jupyter-widgets/base",
            "top": null,
            "grid_column": null,
            "overflow_y": null,
            "overflow_x": null,
            "grid_auto_flow": null,
            "grid_area": null,
            "grid_template_columns": null,
            "flex": null,
            "_model_name": "LayoutModel",
            "justify_items": null,
            "grid_row": null,
            "max_height": null,
            "align_content": null,
            "visibility": null,
            "align_self": null,
            "height": null,
            "min_height": null,
            "padding": null,
            "grid_auto_rows": null,
            "grid_gap": null,
            "max_width": null,
            "order": null,
            "_view_module_version": "1.2.0",
            "grid_template_areas": null,
            "object_position": null,
            "object_fit": null,
            "grid_auto_columns": null,
            "margin": null,
            "display": null,
            "left": null
          }
        },
        "47a34642cd7d4de4bc1134882d90cf14": {
          "model_module": "@jupyter-widgets/controls",
          "model_name": "DescriptionStyleModel",
          "state": {
            "_view_name": "StyleView",
            "_model_name": "DescriptionStyleModel",
            "description_width": "",
            "_view_module": "@jupyter-widgets/base",
            "_model_module_version": "1.5.0",
            "_view_count": null,
            "_view_module_version": "1.2.0",
            "_model_module": "@jupyter-widgets/controls"
          }
        },
        "b97c35fd06874e979e1076a801776d7c": {
          "model_module": "@jupyter-widgets/base",
          "model_name": "LayoutModel",
          "state": {
            "_view_name": "LayoutView",
            "grid_template_rows": null,
            "right": null,
            "justify_content": null,
            "_view_module": "@jupyter-widgets/base",
            "overflow": null,
            "_model_module_version": "1.2.0",
            "_view_count": null,
            "flex_flow": null,
            "width": null,
            "min_width": null,
            "border": null,
            "align_items": null,
            "bottom": null,
            "_model_module": "@jupyter-widgets/base",
            "top": null,
            "grid_column": null,
            "overflow_y": null,
            "overflow_x": null,
            "grid_auto_flow": null,
            "grid_area": null,
            "grid_template_columns": null,
            "flex": null,
            "_model_name": "LayoutModel",
            "justify_items": null,
            "grid_row": null,
            "max_height": null,
            "align_content": null,
            "visibility": null,
            "align_self": null,
            "height": null,
            "min_height": null,
            "padding": null,
            "grid_auto_rows": null,
            "grid_gap": null,
            "max_width": null,
            "order": null,
            "_view_module_version": "1.2.0",
            "grid_template_areas": null,
            "object_position": null,
            "object_fit": null,
            "grid_auto_columns": null,
            "margin": null,
            "display": null,
            "left": null
          }
        },
        "c20fbeba6dfd4b2b972ab9f7668bc1d8": {
          "model_module": "@jupyter-widgets/controls",
          "model_name": "HBoxModel",
          "state": {
            "_view_name": "HBoxView",
            "_dom_classes": [],
            "_model_name": "HBoxModel",
            "_view_module": "@jupyter-widgets/controls",
            "_model_module_version": "1.5.0",
            "_view_count": null,
            "_view_module_version": "1.5.0",
            "box_style": "",
            "layout": "IPY_MODEL_af49c08adfa349d99740eaa3b6e0e475",
            "_model_module": "@jupyter-widgets/controls",
            "children": [
              "IPY_MODEL_a6dc1ac1059444f883526f96937ac2ee",
              "IPY_MODEL_3df359d590864d04b71c2d5b95378792"
            ]
          }
        },
        "af49c08adfa349d99740eaa3b6e0e475": {
          "model_module": "@jupyter-widgets/base",
          "model_name": "LayoutModel",
          "state": {
            "_view_name": "LayoutView",
            "grid_template_rows": null,
            "right": null,
            "justify_content": null,
            "_view_module": "@jupyter-widgets/base",
            "overflow": null,
            "_model_module_version": "1.2.0",
            "_view_count": null,
            "flex_flow": null,
            "width": null,
            "min_width": null,
            "border": null,
            "align_items": null,
            "bottom": null,
            "_model_module": "@jupyter-widgets/base",
            "top": null,
            "grid_column": null,
            "overflow_y": null,
            "overflow_x": null,
            "grid_auto_flow": null,
            "grid_area": null,
            "grid_template_columns": null,
            "flex": null,
            "_model_name": "LayoutModel",
            "justify_items": null,
            "grid_row": null,
            "max_height": null,
            "align_content": null,
            "visibility": null,
            "align_self": null,
            "height": null,
            "min_height": null,
            "padding": null,
            "grid_auto_rows": null,
            "grid_gap": null,
            "max_width": null,
            "order": null,
            "_view_module_version": "1.2.0",
            "grid_template_areas": null,
            "object_position": null,
            "object_fit": null,
            "grid_auto_columns": null,
            "margin": null,
            "display": null,
            "left": null
          }
        },
        "a6dc1ac1059444f883526f96937ac2ee": {
          "model_module": "@jupyter-widgets/controls",
          "model_name": "FloatProgressModel",
          "state": {
            "_view_name": "ProgressView",
            "style": "IPY_MODEL_d6fb95ea149047bd8fc10e07e2a39756",
            "_dom_classes": [],
            "description": "",
            "_model_name": "FloatProgressModel",
            "bar_style": "info",
            "max": 1,
            "_view_module": "@jupyter-widgets/controls",
            "_model_module_version": "1.5.0",
            "value": 1,
            "_view_count": null,
            "_view_module_version": "1.5.0",
            "orientation": "horizontal",
            "min": 0,
            "description_tooltip": null,
            "_model_module": "@jupyter-widgets/controls",
            "layout": "IPY_MODEL_7194b9830f4b404aa12b2a7bad0b55c2"
          }
        },
        "3df359d590864d04b71c2d5b95378792": {
          "model_module": "@jupyter-widgets/controls",
          "model_name": "HTMLModel",
          "state": {
            "_view_name": "HTMLView",
            "style": "IPY_MODEL_a0e7658d08594ac0b2577a702a143d9b",
            "_dom_classes": [],
            "description": "",
            "_model_name": "HTMLModel",
            "placeholder": "​",
            "_view_module": "@jupyter-widgets/controls",
            "_model_module_version": "1.5.0",
            "value": " 25250/0 [00:50&lt;00:00, 539.76 examples/s]",
            "_view_count": null,
            "_view_module_version": "1.5.0",
            "description_tooltip": null,
            "_model_module": "@jupyter-widgets/controls",
            "layout": "IPY_MODEL_3fe66cead70e45ba8e12de62a8df73e7"
          }
        },
        "d6fb95ea149047bd8fc10e07e2a39756": {
          "model_module": "@jupyter-widgets/controls",
          "model_name": "ProgressStyleModel",
          "state": {
            "_view_name": "StyleView",
            "_model_name": "ProgressStyleModel",
            "description_width": "initial",
            "_view_module": "@jupyter-widgets/base",
            "_model_module_version": "1.5.0",
            "_view_count": null,
            "_view_module_version": "1.2.0",
            "bar_color": null,
            "_model_module": "@jupyter-widgets/controls"
          }
        },
        "7194b9830f4b404aa12b2a7bad0b55c2": {
          "model_module": "@jupyter-widgets/base",
          "model_name": "LayoutModel",
          "state": {
            "_view_name": "LayoutView",
            "grid_template_rows": null,
            "right": null,
            "justify_content": null,
            "_view_module": "@jupyter-widgets/base",
            "overflow": null,
            "_model_module_version": "1.2.0",
            "_view_count": null,
            "flex_flow": null,
            "width": null,
            "min_width": null,
            "border": null,
            "align_items": null,
            "bottom": null,
            "_model_module": "@jupyter-widgets/base",
            "top": null,
            "grid_column": null,
            "overflow_y": null,
            "overflow_x": null,
            "grid_auto_flow": null,
            "grid_area": null,
            "grid_template_columns": null,
            "flex": null,
            "_model_name": "LayoutModel",
            "justify_items": null,
            "grid_row": null,
            "max_height": null,
            "align_content": null,
            "visibility": null,
            "align_self": null,
            "height": null,
            "min_height": null,
            "padding": null,
            "grid_auto_rows": null,
            "grid_gap": null,
            "max_width": null,
            "order": null,
            "_view_module_version": "1.2.0",
            "grid_template_areas": null,
            "object_position": null,
            "object_fit": null,
            "grid_auto_columns": null,
            "margin": null,
            "display": null,
            "left": null
          }
        },
        "a0e7658d08594ac0b2577a702a143d9b": {
          "model_module": "@jupyter-widgets/controls",
          "model_name": "DescriptionStyleModel",
          "state": {
            "_view_name": "StyleView",
            "_model_name": "DescriptionStyleModel",
            "description_width": "",
            "_view_module": "@jupyter-widgets/base",
            "_model_module_version": "1.5.0",
            "_view_count": null,
            "_view_module_version": "1.2.0",
            "_model_module": "@jupyter-widgets/controls"
          }
        },
        "3fe66cead70e45ba8e12de62a8df73e7": {
          "model_module": "@jupyter-widgets/base",
          "model_name": "LayoutModel",
          "state": {
            "_view_name": "LayoutView",
            "grid_template_rows": null,
            "right": null,
            "justify_content": null,
            "_view_module": "@jupyter-widgets/base",
            "overflow": null,
            "_model_module_version": "1.2.0",
            "_view_count": null,
            "flex_flow": null,
            "width": null,
            "min_width": null,
            "border": null,
            "align_items": null,
            "bottom": null,
            "_model_module": "@jupyter-widgets/base",
            "top": null,
            "grid_column": null,
            "overflow_y": null,
            "overflow_x": null,
            "grid_auto_flow": null,
            "grid_area": null,
            "grid_template_columns": null,
            "flex": null,
            "_model_name": "LayoutModel",
            "justify_items": null,
            "grid_row": null,
            "max_height": null,
            "align_content": null,
            "visibility": null,
            "align_self": null,
            "height": null,
            "min_height": null,
            "padding": null,
            "grid_auto_rows": null,
            "grid_gap": null,
            "max_width": null,
            "order": null,
            "_view_module_version": "1.2.0",
            "grid_template_areas": null,
            "object_position": null,
            "object_fit": null,
            "grid_auto_columns": null,
            "margin": null,
            "display": null,
            "left": null
          }
        },
        "376cc71708314f65aa3beac99c81d723": {
          "model_module": "@jupyter-widgets/controls",
          "model_name": "HBoxModel",
          "state": {
            "_view_name": "HBoxView",
            "_dom_classes": [],
            "_model_name": "HBoxModel",
            "_view_module": "@jupyter-widgets/controls",
            "_model_module_version": "1.5.0",
            "_view_count": null,
            "_view_module_version": "1.5.0",
            "box_style": "",
            "layout": "IPY_MODEL_3d159e446c1e461c9718eea12192bc48",
            "_model_module": "@jupyter-widgets/controls",
            "children": [
              "IPY_MODEL_32142c93832b4f91ae73516fe70907d4",
              "IPY_MODEL_fd4a07b2735b4a0dbfe04f0d669c2fdf"
            ]
          }
        },
        "3d159e446c1e461c9718eea12192bc48": {
          "model_module": "@jupyter-widgets/base",
          "model_name": "LayoutModel",
          "state": {
            "_view_name": "LayoutView",
            "grid_template_rows": null,
            "right": null,
            "justify_content": null,
            "_view_module": "@jupyter-widgets/base",
            "overflow": null,
            "_model_module_version": "1.2.0",
            "_view_count": null,
            "flex_flow": null,
            "width": null,
            "min_width": null,
            "border": null,
            "align_items": null,
            "bottom": null,
            "_model_module": "@jupyter-widgets/base",
            "top": null,
            "grid_column": null,
            "overflow_y": null,
            "overflow_x": null,
            "grid_auto_flow": null,
            "grid_area": null,
            "grid_template_columns": null,
            "flex": null,
            "_model_name": "LayoutModel",
            "justify_items": null,
            "grid_row": null,
            "max_height": null,
            "align_content": null,
            "visibility": null,
            "align_self": null,
            "height": null,
            "min_height": null,
            "padding": null,
            "grid_auto_rows": null,
            "grid_gap": null,
            "max_width": null,
            "order": null,
            "_view_module_version": "1.2.0",
            "grid_template_areas": null,
            "object_position": null,
            "object_fit": null,
            "grid_auto_columns": null,
            "margin": null,
            "display": null,
            "left": null
          }
        },
        "32142c93832b4f91ae73516fe70907d4": {
          "model_module": "@jupyter-widgets/controls",
          "model_name": "FloatProgressModel",
          "state": {
            "_view_name": "ProgressView",
            "style": "IPY_MODEL_e4d44afe77f64b31a06c32ba6506bed1",
            "_dom_classes": [],
            "description": " 96%",
            "_model_name": "FloatProgressModel",
            "bar_style": "danger",
            "max": 25250,
            "_view_module": "@jupyter-widgets/controls",
            "_model_module_version": "1.5.0",
            "value": 24275,
            "_view_count": null,
            "_view_module_version": "1.5.0",
            "orientation": "horizontal",
            "min": 0,
            "description_tooltip": null,
            "_model_module": "@jupyter-widgets/controls",
            "layout": "IPY_MODEL_61bb2a6d4b1b40e4be670ce0faa81a82"
          }
        },
        "fd4a07b2735b4a0dbfe04f0d669c2fdf": {
          "model_module": "@jupyter-widgets/controls",
          "model_name": "HTMLModel",
          "state": {
            "_view_name": "HTMLView",
            "style": "IPY_MODEL_63fb4e1afed4429db3b9ed1679a01a32",
            "_dom_classes": [],
            "description": "",
            "_model_name": "HTMLModel",
            "placeholder": "​",
            "_view_module": "@jupyter-widgets/controls",
            "_model_module_version": "1.5.0",
            "value": " 24275/25250 [00:39&lt;00:04, 199.43 examples/s]",
            "_view_count": null,
            "_view_module_version": "1.5.0",
            "description_tooltip": null,
            "_model_module": "@jupyter-widgets/controls",
            "layout": "IPY_MODEL_ce75693fbf4948509d4c9c5ca934bd72"
          }
        },
        "e4d44afe77f64b31a06c32ba6506bed1": {
          "model_module": "@jupyter-widgets/controls",
          "model_name": "ProgressStyleModel",
          "state": {
            "_view_name": "StyleView",
            "_model_name": "ProgressStyleModel",
            "description_width": "initial",
            "_view_module": "@jupyter-widgets/base",
            "_model_module_version": "1.5.0",
            "_view_count": null,
            "_view_module_version": "1.2.0",
            "bar_color": null,
            "_model_module": "@jupyter-widgets/controls"
          }
        },
        "61bb2a6d4b1b40e4be670ce0faa81a82": {
          "model_module": "@jupyter-widgets/base",
          "model_name": "LayoutModel",
          "state": {
            "_view_name": "LayoutView",
            "grid_template_rows": null,
            "right": null,
            "justify_content": null,
            "_view_module": "@jupyter-widgets/base",
            "overflow": null,
            "_model_module_version": "1.2.0",
            "_view_count": null,
            "flex_flow": null,
            "width": null,
            "min_width": null,
            "border": null,
            "align_items": null,
            "bottom": null,
            "_model_module": "@jupyter-widgets/base",
            "top": null,
            "grid_column": null,
            "overflow_y": null,
            "overflow_x": null,
            "grid_auto_flow": null,
            "grid_area": null,
            "grid_template_columns": null,
            "flex": null,
            "_model_name": "LayoutModel",
            "justify_items": null,
            "grid_row": null,
            "max_height": null,
            "align_content": null,
            "visibility": null,
            "align_self": null,
            "height": null,
            "min_height": null,
            "padding": null,
            "grid_auto_rows": null,
            "grid_gap": null,
            "max_width": null,
            "order": null,
            "_view_module_version": "1.2.0",
            "grid_template_areas": null,
            "object_position": null,
            "object_fit": null,
            "grid_auto_columns": null,
            "margin": null,
            "display": null,
            "left": null
          }
        },
        "63fb4e1afed4429db3b9ed1679a01a32": {
          "model_module": "@jupyter-widgets/controls",
          "model_name": "DescriptionStyleModel",
          "state": {
            "_view_name": "StyleView",
            "_model_name": "DescriptionStyleModel",
            "description_width": "",
            "_view_module": "@jupyter-widgets/base",
            "_model_module_version": "1.5.0",
            "_view_count": null,
            "_view_module_version": "1.2.0",
            "_model_module": "@jupyter-widgets/controls"
          }
        },
        "ce75693fbf4948509d4c9c5ca934bd72": {
          "model_module": "@jupyter-widgets/base",
          "model_name": "LayoutModel",
          "state": {
            "_view_name": "LayoutView",
            "grid_template_rows": null,
            "right": null,
            "justify_content": null,
            "_view_module": "@jupyter-widgets/base",
            "overflow": null,
            "_model_module_version": "1.2.0",
            "_view_count": null,
            "flex_flow": null,
            "width": null,
            "min_width": null,
            "border": null,
            "align_items": null,
            "bottom": null,
            "_model_module": "@jupyter-widgets/base",
            "top": null,
            "grid_column": null,
            "overflow_y": null,
            "overflow_x": null,
            "grid_auto_flow": null,
            "grid_area": null,
            "grid_template_columns": null,
            "flex": null,
            "_model_name": "LayoutModel",
            "justify_items": null,
            "grid_row": null,
            "max_height": null,
            "align_content": null,
            "visibility": null,
            "align_self": null,
            "height": null,
            "min_height": null,
            "padding": null,
            "grid_auto_rows": null,
            "grid_gap": null,
            "max_width": null,
            "order": null,
            "_view_module_version": "1.2.0",
            "grid_template_areas": null,
            "object_position": null,
            "object_fit": null,
            "grid_auto_columns": null,
            "margin": null,
            "display": null,
            "left": null
          }
        }
      }
    }
  },
  "cells": [
    {
      "cell_type": "markdown",
      "metadata": {
        "id": "view-in-github",
        "colab_type": "text"
      },
      "source": [
        "<a href=\"https://colab.research.google.com/github/ashikshafi08/Learning_Tensorflow/blob/main/Experiments/Food101.ipynb\" target=\"_parent\"><img src=\"https://colab.research.google.com/assets/colab-badge.svg\" alt=\"Open In Colab\"/></a>"
      ]
    },
    {
      "cell_type": "code",
      "metadata": {
        "colab": {
          "base_uri": "https://localhost:8080/"
        },
        "id": "9FRR4-dUfrt5",
        "outputId": "7ea493f3-405a-4915-9045-2e112d543963"
      },
      "source": [
        "!nvidia-smi"
      ],
      "execution_count": 1,
      "outputs": [
        {
          "output_type": "stream",
          "text": [
            "Wed Apr 21 00:01:30 2021       \n",
            "+-----------------------------------------------------------------------------+\n",
            "| NVIDIA-SMI 460.67       Driver Version: 460.32.03    CUDA Version: 11.2     |\n",
            "|-------------------------------+----------------------+----------------------+\n",
            "| GPU  Name        Persistence-M| Bus-Id        Disp.A | Volatile Uncorr. ECC |\n",
            "| Fan  Temp  Perf  Pwr:Usage/Cap|         Memory-Usage | GPU-Util  Compute M. |\n",
            "|                               |                      |               MIG M. |\n",
            "|===============================+======================+======================|\n",
            "|   0  Tesla T4            Off  | 00000000:00:04.0 Off |                    0 |\n",
            "| N/A   63C    P8    10W /  70W |      0MiB / 15109MiB |      0%      Default |\n",
            "|                               |                      |                  N/A |\n",
            "+-------------------------------+----------------------+----------------------+\n",
            "                                                                               \n",
            "+-----------------------------------------------------------------------------+\n",
            "| Processes:                                                                  |\n",
            "|  GPU   GI   CI        PID   Type   Process name                  GPU Memory |\n",
            "|        ID   ID                                                   Usage      |\n",
            "|=============================================================================|\n",
            "|  No running processes found                                                 |\n",
            "+-----------------------------------------------------------------------------+\n"
          ],
          "name": "stdout"
        }
      ]
    },
    {
      "cell_type": "code",
      "metadata": {
        "id": "OP1TqU9egwMO"
      },
      "source": [
        "import tensorflow as tf\n",
        "import numpy as np \n",
        "import matplotlib.pyplot as plt"
      ],
      "execution_count": 3,
      "outputs": []
    },
    {
      "cell_type": "markdown",
      "metadata": {
        "id": "dEv30JqMf-e2"
      },
      "source": [
        "# Working Food101 Dataset"
      ]
    },
    {
      "cell_type": "code",
      "metadata": {
        "colab": {
          "base_uri": "https://localhost:8080/"
        },
        "id": "1oEJUEDcgrV1",
        "outputId": "8afb3a12-31ab-4429-8533-f933a3d52371"
      },
      "source": [
        "# Get helper functions file\n",
        "!wget https://raw.githubusercontent.com/mrdbourke/tensorflow-deep-learning/main/extras/helper_functions.py\n",
        "\n",
        "# Import series of helper functions for the notebook (we've created/used these in previous notebooks)\n",
        "from helper_functions import create_tensorboard_callback, plot_loss_curves, compare_historys"
      ],
      "execution_count": 4,
      "outputs": [
        {
          "output_type": "stream",
          "text": [
            "--2021-04-21 00:01:36--  https://raw.githubusercontent.com/mrdbourke/tensorflow-deep-learning/main/extras/helper_functions.py\n",
            "Resolving raw.githubusercontent.com (raw.githubusercontent.com)... 185.199.108.133, 185.199.109.133, 185.199.110.133, ...\n",
            "Connecting to raw.githubusercontent.com (raw.githubusercontent.com)|185.199.108.133|:443... connected.\n",
            "HTTP request sent, awaiting response... 200 OK\n",
            "Length: 10246 (10K) [text/plain]\n",
            "Saving to: ‘helper_functions.py’\n",
            "\n",
            "\rhelper_functions.py   0%[                    ]       0  --.-KB/s               \rhelper_functions.py 100%[===================>]  10.01K  --.-KB/s    in 0s      \n",
            "\n",
            "2021-04-21 00:01:37 (79.1 MB/s) - ‘helper_functions.py’ saved [10246/10246]\n",
            "\n"
          ],
          "name": "stdout"
        }
      ]
    },
    {
      "cell_type": "code",
      "metadata": {
        "colab": {
          "base_uri": "https://localhost:8080/"
        },
        "id": "zSMrYlBGgtX4",
        "outputId": "7000d4a4-7061-441e-bb83-ab89e6ca2ede"
      },
      "source": [
        "# Get TensorFlow Datasets\n",
        "import tensorflow_datasets as tfds\n",
        "\n",
        "# List all the available datasets in tensorflow datasets\n",
        "datasets_list = tfds.list_builders()\n",
        "\n",
        "# Is our food101 dataset available? \n",
        "print('food101' in datasets_list)"
      ],
      "execution_count": 5,
      "outputs": [
        {
          "output_type": "stream",
          "text": [
            "True\n"
          ],
          "name": "stdout"
        }
      ]
    },
    {
      "cell_type": "code",
      "metadata": {
        "colab": {
          "base_uri": "https://localhost:8080/",
          "height": 347,
          "referenced_widgets": [
            "43a69db5ae1b4748a06be7cda8153bd3",
            "862a5c0b5cc248ffb4fd3d453cfd0ad0",
            "096b16886b8e48e1844c72d5f51ed30a",
            "066d7151b4114f79a292b1c59bdcddde",
            "73c2176d44e145f5996832e8a7c54f93",
            "5d90b5640307420dbf65bd006b9d4396",
            "3782c61db2fb44f6a8ce5abb76e554ea",
            "f419a5b6f72049edb3ce02280c32b9bd",
            "9d40fca4494b4894a560d5246082157d",
            "c2bf8966b0f04baabc77ccc69cd58624",
            "1fdbfe17f21b4c9d9b92472d4c511411",
            "75f26396a1cc469f8d2cdf9aa264c409",
            "99b8f01419cc4107a0349e41200b5972",
            "96f281fdba39442ba4000b502340f78d",
            "91206f59d7774a72a6708f872982246c",
            "f0494587b5fc416b8b60fb5fad5e663a",
            "15ef6fa0bd0e4dc88709912bb725b4d2",
            "87d42e03eb5b4278bb5c2962a3bc4184",
            "1e28d2fc253c4b628f7f31603ef1291e",
            "05c760d6d357489baed924bb4c4417c3",
            "a0fc781adfb9462e851e2359897a0cf5",
            "0b932e02980b49d6812545496b84274a",
            "7774981876c04d63b029f6411887095d",
            "f1babfb2769b4bef879ebccdf15d56a4",
            "e31192463df8435e9eebe1bd98c576b0",
            "bd5a78967e4d49ceb0adab67891a7038",
            "7ad8aa7400eb4b67a44505584cbbd11b",
            "3c00336a4e7d4afeb3b7298db0893f2c",
            "7a439606de674402beb326db2fe4fad7",
            "93624c86b3744238bd3612b2d18daf3e",
            "7d7ff1b72c5c44bd9748b62b4ee306ec",
            "2e530ee22efe45de908ff244ab5ec432",
            "9a61da3c2ce84fb7aa451e304db353ee",
            "57bb6bd0bf0044028d480bab1b3d02b1",
            "372f4eec4c3e41939fdbc1b8a78d8eaa",
            "fcc6b726909144b7bf81553b7c924c32",
            "e5f32ac248b841ee9a94498d5218c3a4",
            "7817ae7de6044a37997f3ad51c11e1e0",
            "47a34642cd7d4de4bc1134882d90cf14",
            "b97c35fd06874e979e1076a801776d7c",
            "c20fbeba6dfd4b2b972ab9f7668bc1d8",
            "af49c08adfa349d99740eaa3b6e0e475",
            "a6dc1ac1059444f883526f96937ac2ee",
            "3df359d590864d04b71c2d5b95378792",
            "d6fb95ea149047bd8fc10e07e2a39756",
            "7194b9830f4b404aa12b2a7bad0b55c2",
            "a0e7658d08594ac0b2577a702a143d9b",
            "3fe66cead70e45ba8e12de62a8df73e7",
            "376cc71708314f65aa3beac99c81d723",
            "3d159e446c1e461c9718eea12192bc48",
            "32142c93832b4f91ae73516fe70907d4",
            "fd4a07b2735b4a0dbfe04f0d669c2fdf",
            "e4d44afe77f64b31a06c32ba6506bed1",
            "61bb2a6d4b1b40e4be670ce0faa81a82",
            "63fb4e1afed4429db3b9ed1679a01a32",
            "ce75693fbf4948509d4c9c5ca934bd72"
          ]
        },
        "id": "vOW35f41g6pi",
        "outputId": "cacd3658-44e8-4e96-f4ff-be2b006d1463"
      },
      "source": [
        "# Loading the food101 data for our use \n",
        "(train_data , test_data) , ds_info = tfds.load(name = 'food101' , \n",
        "                                               split = ['train' , 'validation'] , \n",
        "                                               shuffle_files = True , \n",
        "                                               as_supervised = True, # data in tuple format (image , label)\n",
        "                                                with_info = True) "
      ],
      "execution_count": 6,
      "outputs": [
        {
          "output_type": "stream",
          "text": [
            "\u001b[1mDownloading and preparing dataset food101/2.0.0 (download: 4.65 GiB, generated: Unknown size, total: 4.65 GiB) to /root/tensorflow_datasets/food101/2.0.0...\u001b[0m\n"
          ],
          "name": "stdout"
        },
        {
          "output_type": "display_data",
          "data": {
            "application/vnd.jupyter.widget-view+json": {
              "model_id": "43a69db5ae1b4748a06be7cda8153bd3",
              "version_minor": 0,
              "version_major": 2
            },
            "text/plain": [
              "HBox(children=(FloatProgress(value=1.0, bar_style='info', description='Dl Completed...', max=1.0, style=Progre…"
            ]
          },
          "metadata": {
            "tags": []
          }
        },
        {
          "output_type": "display_data",
          "data": {
            "application/vnd.jupyter.widget-view+json": {
              "model_id": "9d40fca4494b4894a560d5246082157d",
              "version_minor": 0,
              "version_major": 2
            },
            "text/plain": [
              "HBox(children=(FloatProgress(value=1.0, bar_style='info', description='Dl Size...', max=1.0, style=ProgressSty…"
            ]
          },
          "metadata": {
            "tags": []
          }
        },
        {
          "output_type": "display_data",
          "data": {
            "application/vnd.jupyter.widget-view+json": {
              "model_id": "15ef6fa0bd0e4dc88709912bb725b4d2",
              "version_minor": 0,
              "version_major": 2
            },
            "text/plain": [
              "HBox(children=(FloatProgress(value=1.0, bar_style='info', description='Extraction completed...', max=1.0, styl…"
            ]
          },
          "metadata": {
            "tags": []
          }
        },
        {
          "output_type": "stream",
          "text": [
            "\n",
            "\n",
            "\n",
            "\n",
            "\n",
            "\n"
          ],
          "name": "stdout"
        },
        {
          "output_type": "display_data",
          "data": {
            "application/vnd.jupyter.widget-view+json": {
              "model_id": "e31192463df8435e9eebe1bd98c576b0",
              "version_minor": 0,
              "version_major": 2
            },
            "text/plain": [
              "HBox(children=(FloatProgress(value=1.0, bar_style='info', max=1.0), HTML(value='')))"
            ]
          },
          "metadata": {
            "tags": []
          }
        },
        {
          "output_type": "stream",
          "text": [
            "\rShuffling and writing examples to /root/tensorflow_datasets/food101/2.0.0.incomplete2JZZ1R/food101-train.tfrecord\n"
          ],
          "name": "stdout"
        },
        {
          "output_type": "display_data",
          "data": {
            "application/vnd.jupyter.widget-view+json": {
              "model_id": "9a61da3c2ce84fb7aa451e304db353ee",
              "version_minor": 0,
              "version_major": 2
            },
            "text/plain": [
              "HBox(children=(FloatProgress(value=0.0, max=75750.0), HTML(value='')))"
            ]
          },
          "metadata": {
            "tags": []
          }
        },
        {
          "output_type": "display_data",
          "data": {
            "application/vnd.jupyter.widget-view+json": {
              "model_id": "c20fbeba6dfd4b2b972ab9f7668bc1d8",
              "version_minor": 0,
              "version_major": 2
            },
            "text/plain": [
              "HBox(children=(FloatProgress(value=1.0, bar_style='info', max=1.0), HTML(value='')))"
            ]
          },
          "metadata": {
            "tags": []
          }
        },
        {
          "output_type": "stream",
          "text": [
            "Shuffling and writing examples to /root/tensorflow_datasets/food101/2.0.0.incomplete2JZZ1R/food101-validation.tfrecord\n"
          ],
          "name": "stdout"
        },
        {
          "output_type": "display_data",
          "data": {
            "application/vnd.jupyter.widget-view+json": {
              "model_id": "376cc71708314f65aa3beac99c81d723",
              "version_minor": 0,
              "version_major": 2
            },
            "text/plain": [
              "HBox(children=(FloatProgress(value=0.0, max=25250.0), HTML(value='')))"
            ]
          },
          "metadata": {
            "tags": []
          }
        },
        {
          "output_type": "stream",
          "text": [
            "\u001b[1mDataset food101 downloaded and prepared to /root/tensorflow_datasets/food101/2.0.0. Subsequent calls will reuse this data.\u001b[0m\n"
          ],
          "name": "stdout"
        }
      ]
    },
    {
      "cell_type": "code",
      "metadata": {
        "colab": {
          "base_uri": "https://localhost:8080/"
        },
        "id": "3N54mpnhg8w5",
        "outputId": "2d1cef69-7277-4c4c-b551-84b262aaddf0"
      },
      "source": [
        "# Features of Food101 TFDS\n",
        "ds_info.features"
      ],
      "execution_count": 7,
      "outputs": [
        {
          "output_type": "execute_result",
          "data": {
            "text/plain": [
              "FeaturesDict({\n",
              "    'image': Image(shape=(None, None, 3), dtype=tf.uint8),\n",
              "    'label': ClassLabel(shape=(), dtype=tf.int64, num_classes=101),\n",
              "})"
            ]
          },
          "metadata": {
            "tags": []
          },
          "execution_count": 7
        }
      ]
    },
    {
      "cell_type": "code",
      "metadata": {
        "colab": {
          "base_uri": "https://localhost:8080/"
        },
        "id": "glDXiD6Wg_r4",
        "outputId": "d87a4d01-eaa5-4ebb-e787-677de01313e8"
      },
      "source": [
        "# Getting the class names \n",
        "class_names = ds_info.features['label'].names\n",
        "print(class_names[:10]) # First 10 "
      ],
      "execution_count": 8,
      "outputs": [
        {
          "output_type": "stream",
          "text": [
            "['apple_pie', 'baby_back_ribs', 'baklava', 'beef_carpaccio', 'beef_tartare', 'beet_salad', 'beignets', 'bibimbap', 'bread_pudding', 'breakfast_burrito']\n"
          ],
          "name": "stdout"
        }
      ]
    },
    {
      "cell_type": "code",
      "metadata": {
        "colab": {
          "base_uri": "https://localhost:8080/"
        },
        "id": "WFcUAyOtg_v_",
        "outputId": "2ee7e6a2-4fa7-4c5a-fc32-a5277e42f769"
      },
      "source": [
        "# How many class names are there? \n",
        "len(class_names)"
      ],
      "execution_count": 9,
      "outputs": [
        {
          "output_type": "execute_result",
          "data": {
            "text/plain": [
              "101"
            ]
          },
          "metadata": {
            "tags": []
          },
          "execution_count": 9
        }
      ]
    },
    {
      "cell_type": "code",
      "metadata": {
        "id": "tXzifL9mg_12"
      },
      "source": [
        "# Take one sample from our train_data \n",
        "train_one_sample = train_data.take(1) # (image tensor , label)"
      ],
      "execution_count": 10,
      "outputs": []
    },
    {
      "cell_type": "code",
      "metadata": {
        "colab": {
          "base_uri": "https://localhost:8080/"
        },
        "id": "hszowKNUg_75",
        "outputId": "086c46c9-2385-436a-fae8-fb8a9225c22a"
      },
      "source": [
        "# What does one sample of our training data look like?\n",
        "train_one_sample"
      ],
      "execution_count": 11,
      "outputs": [
        {
          "output_type": "execute_result",
          "data": {
            "text/plain": [
              "<TakeDataset shapes: ((None, None, 3), ()), types: (tf.uint8, tf.int64)>"
            ]
          },
          "metadata": {
            "tags": []
          },
          "execution_count": 11
        }
      ]
    },
    {
      "cell_type": "code",
      "metadata": {
        "colab": {
          "base_uri": "https://localhost:8080/"
        },
        "id": "xOhTIYnEhHjB",
        "outputId": "b579a35f-82f8-454e-e9c0-43297013f779"
      },
      "source": [
        "# Output info about our training sample\n",
        "for image, label in train_one_sample:\n",
        "  print(f\"\"\"\n",
        "  Image shape: {image.shape}\n",
        "  Image dtype: {image.dtype}\n",
        "  Target class from Food101 (tensor form): {label}\n",
        "  Class name (str form): {class_names[label.numpy()]}\n",
        "        \"\"\")"
      ],
      "execution_count": 12,
      "outputs": [
        {
          "output_type": "stream",
          "text": [
            "\n",
            "  Image shape: (512, 512, 3)\n",
            "  Image dtype: <dtype: 'uint8'>\n",
            "  Target class from Food101 (tensor form): 25\n",
            "  Class name (str form): club_sandwich\n",
            "        \n"
          ],
          "name": "stdout"
        }
      ]
    },
    {
      "cell_type": "code",
      "metadata": {
        "colab": {
          "base_uri": "https://localhost:8080/"
        },
        "id": "2kQlw_CphHmS",
        "outputId": "3fdfa881-01c6-49a3-a749-a7cca8ffafb8"
      },
      "source": [
        "# What does an image tensor from TFDS's Food101 look like?\n",
        "image"
      ],
      "execution_count": 13,
      "outputs": [
        {
          "output_type": "execute_result",
          "data": {
            "text/plain": [
              "<tf.Tensor: shape=(512, 512, 3), dtype=uint8, numpy=\n",
              "array([[[135, 156, 175],\n",
              "        [125, 148, 166],\n",
              "        [114, 136, 159],\n",
              "        ...,\n",
              "        [ 26,   5,  12],\n",
              "        [ 26,   3,  11],\n",
              "        [ 27,   4,  12]],\n",
              "\n",
              "       [[128, 150, 171],\n",
              "        [115, 140, 160],\n",
              "        [102, 127, 149],\n",
              "        ...,\n",
              "        [ 28,   7,  14],\n",
              "        [ 29,   6,  14],\n",
              "        [ 30,   7,  15]],\n",
              "\n",
              "       [[112, 139, 160],\n",
              "        [ 99, 127, 148],\n",
              "        [ 87, 115, 137],\n",
              "        ...,\n",
              "        [ 29,   6,  16],\n",
              "        [ 31,   5,  16],\n",
              "        [ 32,   6,  17]],\n",
              "\n",
              "       ...,\n",
              "\n",
              "       [[ 48,  47,  53],\n",
              "        [ 53,  52,  58],\n",
              "        [ 52,  51,  59],\n",
              "        ...,\n",
              "        [111,  99,  99],\n",
              "        [108,  98,  97],\n",
              "        [106,  96,  97]],\n",
              "\n",
              "       [[ 44,  45,  47],\n",
              "        [ 48,  49,  51],\n",
              "        [ 46,  47,  51],\n",
              "        ...,\n",
              "        [108,  96,  98],\n",
              "        [105,  94,  98],\n",
              "        [102,  93,  96]],\n",
              "\n",
              "       [[ 40,  42,  41],\n",
              "        [ 45,  47,  46],\n",
              "        [ 44,  45,  49],\n",
              "        ...,\n",
              "        [105,  95,  96],\n",
              "        [104,  93,  99],\n",
              "        [100,  91,  96]]], dtype=uint8)>"
            ]
          },
          "metadata": {
            "tags": []
          },
          "execution_count": 13
        }
      ]
    },
    {
      "cell_type": "code",
      "metadata": {
        "colab": {
          "base_uri": "https://localhost:8080/"
        },
        "id": "5uDcu9rQhHqJ",
        "outputId": "12107916-ffb7-493a-cb08-127ae5d1ad95"
      },
      "source": [
        "# What are the min and max values?\n",
        "tf.reduce_min(image), tf.reduce_max(image)"
      ],
      "execution_count": 14,
      "outputs": [
        {
          "output_type": "execute_result",
          "data": {
            "text/plain": [
              "(<tf.Tensor: shape=(), dtype=uint8, numpy=0>,\n",
              " <tf.Tensor: shape=(), dtype=uint8, numpy=255>)"
            ]
          },
          "metadata": {
            "tags": []
          },
          "execution_count": 14
        }
      ]
    },
    {
      "cell_type": "code",
      "metadata": {
        "colab": {
          "base_uri": "https://localhost:8080/",
          "height": 281
        },
        "id": "GVbz9qadhHwY",
        "outputId": "ddafe39c-7dbd-4121-b3b6-47df999c48c5"
      },
      "source": [
        "# Plotting an image tensor \n",
        "import matplotlib.pyplot as plt \n",
        "plt.imshow(image)\n",
        "plt.title(f'The class is: {class_names[label.numpy()]}')\n",
        "plt.axis(False)"
      ],
      "execution_count": 15,
      "outputs": [
        {
          "output_type": "execute_result",
          "data": {
            "text/plain": [
              "(-0.5, 511.5, 511.5, -0.5)"
            ]
          },
          "metadata": {
            "tags": []
          },
          "execution_count": 15
        },
        {
          "output_type": "display_data",
          "data": {
            "image/png": "[encoded data removed]",
            "text/plain": [
              "<Figure size 432x288 with 1 Axes>"
            ]
          },
          "metadata": {
            "tags": [],
            "needs_background": "light"
          }
        }
      ]
    },
    {
      "cell_type": "code",
      "metadata": {
        "colab": {
          "base_uri": "https://localhost:8080/"
        },
        "id": "jUe7jMxEhH0E",
        "outputId": "afae183e-4ae4-4dd2-960d-88615bb67213"
      },
      "source": [
        "# Data type our tensor from tfds \n",
        "image.dtype"
      ],
      "execution_count": 16,
      "outputs": [
        {
          "output_type": "execute_result",
          "data": {
            "text/plain": [
              "tf.uint8"
            ]
          },
          "metadata": {
            "tags": []
          },
          "execution_count": 16
        }
      ]
    },
    {
      "cell_type": "code",
      "metadata": {
        "id": "SiHbIw84hH4b"
      },
      "source": [
        "# Making a preprocess function \n",
        "def preprocess_img(image , label , img_shape = 224):\n",
        "  '''\n",
        "  Converts image datatypes from 'uint8' to 'float32' \n",
        "  Reshapes image to (img_shape , img_shape , color_channels)\n",
        "  '''\n",
        "  image = tf.image.resize(image , size = [img_shape , img_shape]) # reshapes to [224 , 224]\n",
        "  return tf.cast(image , tf.float32) , label"
      ],
      "execution_count": 17,
      "outputs": []
    },
    {
      "cell_type": "code",
      "metadata": {
        "colab": {
          "base_uri": "https://localhost:8080/"
        },
        "id": "eTO2GJf-hH9N",
        "outputId": "3e154d81-8169-4783-cf99-1a113f03f729"
      },
      "source": [
        "# Checking the output of the preprocessed image and normal image\n",
        "preprocessed_img = preprocess_img(image, label)[0]\n",
        "print(f\"Image before preprocessing:\\n {image[:2]}...,\\nShape: {image.shape},\\nDatatype: {image.dtype}\\n\")\n",
        "print(f\"Image after preprocessing:\\n {preprocessed_img[:2]}...,\\nShape: {preprocessed_img.shape},\\nDatatype: {preprocessed_img.dtype}\")"
      ],
      "execution_count": 18,
      "outputs": [
        {
          "output_type": "stream",
          "text": [
            "Image before preprocessing:\n",
            " [[[135 156 175]\n",
            "  [125 148 166]\n",
            "  [114 136 159]\n",
            "  ...\n",
            "  [ 26   5  12]\n",
            "  [ 26   3  11]\n",
            "  [ 27   4  12]]\n",
            "\n",
            " [[128 150 171]\n",
            "  [115 140 160]\n",
            "  [102 127 149]\n",
            "  ...\n",
            "  [ 28   7  14]\n",
            "  [ 29   6  14]\n",
            "  [ 30   7  15]]]...,\n",
            "Shape: (512, 512, 3),\n",
            "Datatype: <dtype: 'uint8'>\n",
            "\n",
            "Image after preprocessing:\n",
            " [[[122.83163   146.17346   165.81633  ]\n",
            "  [ 95.07653   122.122444  144.47958  ]\n",
            "  [ 72.5051    106.994896  134.34694  ]\n",
            "  ...\n",
            "  [ 20.714308    2.3570995   3.9285717]\n",
            "  [ 27.285715    6.285714   13.285714 ]\n",
            "  [ 28.28575     5.2857494  13.285749 ]]\n",
            "\n",
            " [[ 88.65305   119.41326   140.41327  ]\n",
            "  [ 74.59694   108.30102   133.02042  ]\n",
            "  [ 75.2551    112.57143   141.91325  ]\n",
            "  ...\n",
            "  [ 26.857143    6.285671   11.040798 ]\n",
            "  [ 30.061235    6.86222    16.795908 ]\n",
            "  [ 31.688843    5.688843   16.688843 ]]]...,\n",
            "Shape: (224, 224, 3),\n",
            "Datatype: <dtype: 'float32'>\n"
          ],
          "name": "stdout"
        }
      ]
    },
    {
      "cell_type": "code",
      "metadata": {
        "colab": {
          "base_uri": "https://localhost:8080/",
          "height": 264
        },
        "id": "sb3CV-U7hVQL",
        "outputId": "371db0c3-0cc9-4f9f-8872-da929252aec0"
      },
      "source": [
        "# We can still plot our preprocessed image as long as we \n",
        "# divide by 255 (for matplotlib capatibility)\n",
        "plt.imshow(preprocessed_img/255.)\n",
        "plt.title(class_names[label])\n",
        "plt.axis(False);"
      ],
      "execution_count": 19,
      "outputs": [
        {
          "output_type": "display_data",
          "data": {
            "image/png": "[encoded data removed]",
            "text/plain": [
              "<Figure size 432x288 with 1 Axes>"
            ]
          },
          "metadata": {
            "tags": [],
            "needs_background": "light"
          }
        }
      ]
    },
    {
      "cell_type": "code",
      "metadata": {
        "id": "zDzw5EBPhVTw"
      },
      "source": [
        "# Map the preprocessing function to our training data (paralellize)\n",
        "train_data = train_data.map(map_func= preprocess_img , num_parallel_calls= tf.data.AUTOTUNE)\n",
        "\n",
        "# Shuffle train data and turn into batches and prefetch it (load the data faster)\n",
        "train_data = train_data.shuffle(buffer_size = 1000).batch(batch_size = 32).prefetch(buffer_size = tf.data.AUTOTUNE)\n",
        "\n",
        "# Mapping the preprocessing function on the test data \n",
        "test_data = test_data.map(map_func = preprocess_img , num_parallel_calls= tf.data.AUTOTUNE)\n",
        "\n",
        "# Creating batches of our test data and enabling prefetch \n",
        "test_data = test_data.batch(batch_size= 32).prefetch(tf.data.AUTOTUNE) # Use the max processor for us"
      ],
      "execution_count": 20,
      "outputs": []
    },
    {
      "cell_type": "code",
      "metadata": {
        "colab": {
          "base_uri": "https://localhost:8080/"
        },
        "id": "6_gJO4nHhVbg",
        "outputId": "32155fbd-a9c7-43b1-8ec3-9f8ea2410985"
      },
      "source": [
        "# How does the data looks like? \n",
        "train_data , test_data"
      ],
      "execution_count": 21,
      "outputs": [
        {
          "output_type": "execute_result",
          "data": {
            "text/plain": [
              "(<PrefetchDataset shapes: ((None, 224, 224, 3), (None,)), types: (tf.float32, tf.int64)>,\n",
              " <PrefetchDataset shapes: ((None, 224, 224, 3), (None,)), types: (tf.float32, tf.int64)>)"
            ]
          },
          "metadata": {
            "tags": []
          },
          "execution_count": 21
        }
      ]
    },
    {
      "cell_type": "code",
      "metadata": {
        "id": "fgmBIw7rhVfi"
      },
      "source": [
        "# Gonna create two modelcheckpoint callback \n",
        "\n",
        "# Defining the filepaths \n",
        "checkpoint_path_1 = 'model_checkpoint_1/cp.ckpt'\n",
        "checkpoint_path_2 = 'model_checkpoint_2/cp.ckpt'\n",
        "\n",
        "# Creating our callbacks \n",
        "model_checkpoint_1 = tf.keras.callbacks.ModelCheckpoint(checkpoint_path_1 , \n",
        "                                                        monitor = 'val_accuracy' , \n",
        "                                                        save_best_only = True , \n",
        "                                                        save_weights_only = True)\n",
        "\n",
        "model_checkpoint_2 = tf.keras.callbacks.ModelCheckpoint(checkpoint_path_2 , \n",
        "                                                        monitor = 'val_accuracy' , \n",
        "                                                        save_best_only = True , \n",
        "                                                        save_weights_only = True)"
      ],
      "execution_count": 22,
      "outputs": []
    },
    {
      "cell_type": "code",
      "metadata": {
        "id": "0z3kR3-qhViu"
      },
      "source": [
        "# Creating EarlyStopping callback \n",
        "\n",
        "early_stopping = tf.keras.callbacks.EarlyStopping(monitor = 'val_accuracy' , \n",
        "                                                  min_delta = 0.5 , \n",
        "                                                  patience = 2 , \n",
        "                                                  restore_best_weights = True , \n",
        "                                                  verbose = 1)"
      ],
      "execution_count": 23,
      "outputs": []
    },
    {
      "cell_type": "code",
      "metadata": {
        "id": "wjh6lHcZyiO2"
      },
      "source": [
        "preprocessing.RandomCrop??"
      ],
      "execution_count": 31,
      "outputs": []
    },
    {
      "cell_type": "code",
      "metadata": {
        "id": "EDMB9qHgp2KU"
      },
      "source": [
        "# Creating a augmentation layer \n",
        "from tensorflow.keras import layers \n",
        "from tensorflow.keras.models import Sequential\n",
        "from tensorflow.keras.layers.experimental import preprocessing\n",
        "\n",
        "data_augmentation = Sequential([\n",
        "  preprocessing.RandomRotation(0.3), \n",
        "  #preprocessing.RandomCrop(height= 0.1 , width= 0.2),\n",
        "  #preprocessing.RandomFlip('horizontal'), # randomly flip images on horizontal edge\n",
        "  #preprocessing.RandomHeight(0.3), # randomly adjust the height of an image by a specific amount\n",
        "  #preprocessing.RandomWidth(0.3), # randomly adjust the width of an image by a specific amount\n",
        "  preprocessing.RandomZoom(0.3)\n",
        "] , name = 'augmentation_layer')"
      ],
      "execution_count": 80,
      "outputs": []
    },
    {
      "cell_type": "code",
      "metadata": {
        "id": "6w2iThkQqvl_"
      },
      "source": [
        "# Turn on mixed precision \n",
        "from tensorflow.keras import mixed_precision \n",
        "mixed_precision.set_global_policy(policy = 'mixed_float16')"
      ],
      "execution_count": 81,
      "outputs": []
    },
    {
      "cell_type": "code",
      "metadata": {
        "id": "Ih5v3RKwqaGF"
      },
      "source": [
        "# Creating a function which would return us a model \n",
        "def create_model(num_classes , input_shape = (224 , 224, 3)):\n",
        "\n",
        "  # Create the input layer \n",
        "  input_shape = input_shape\n",
        "  inputs = layers.Input(shape = input_shape , name = 'Input_layer')  \n",
        "\n",
        "  # Creating a base model of EfficientNetBo \n",
        "  base_model = tf.keras.applications.EfficientNetB2(include_top= False)\n",
        "  # Freeze base model layer (all layers)\n",
        "  base_model.trainable = False\n",
        "\n",
        "\n",
        "  # Starting to construct a functional model \n",
        "  x = data_augmentation(inputs)\n",
        "  x = base_model(x , training = False)  \n",
        "\n",
        "  # Pooling layer\n",
        "  x = layers.GlobalAveragePooling2D(name = 'pooling_2d_layer')(x)\n",
        "\n",
        "  #x = BatchNormalization()(x)\n",
        "\n",
        "  # Our output number of classes \n",
        "  x = layers.Dense(num_classes)(x)\n",
        "\n",
        "  # Adding a Dropout layer\n",
        "  x = layers.Dropout(0.3)(x)\n",
        "\n",
        "  # Separate activation layer (since we're using mixed precision)\n",
        "  outputs = layers.Activation('softmax' , dtype = tf.float32 , name = 'output_layer')(x)\n",
        "\n",
        "  # Packing into a model \n",
        "  model = tf.keras.Model(inputs , outputs)\n",
        "\n",
        "  return model "
      ],
      "execution_count": 100,
      "outputs": []
    },
    {
      "cell_type": "code",
      "metadata": {
        "id": "mxs6PQN30qaC"
      },
      "source": [
        "# Creating a ReduceLRonPlateua\n",
        "\n",
        "reduce_lr_plat = tf.keras.callbacks.ReduceLROnPlateau(monitor= 'val_accuracy' , \n",
        "                                                      patience = 1 , \n",
        "                                                      mode = 'max' , \n",
        "                                                      min_delta = 0.8 , \n",
        "                                                      min_lr = 0.001 , \n",
        "                                                      factor = 0.01)"
      ],
      "execution_count": 101,
      "outputs": []
    },
    {
      "cell_type": "code",
      "metadata": {
        "id": "Mok-p0xLs-Ab",
        "outputId": "a77f51c6-bb54-487c-e623-70efa333b447",
        "colab": {
          "base_uri": "https://localhost:8080/"
        }
      },
      "source": [
        "# Using our function and creating a model \n",
        "model = create_model(num_classes= len(class_names))\n",
        "\n",
        "# Compile the model \n",
        "model.compile(loss = tf.keras.losses.SparseCategoricalCrossentropy() , \n",
        "              optimizer = tf.keras.optimizers.Adam() , \n",
        "              metrics = ['accuracy'])"
      ],
      "execution_count": 85,
      "outputs": [
        {
          "output_type": "stream",
          "text": [
            "Downloading data from https://storage.googleapis.com/keras-applications/efficientnetb0_notop.h5\n",
            "16711680/16705208 [==============================] - 0s 0us/step\n"
          ],
          "name": "stdout"
        }
      ]
    },
    {
      "cell_type": "code",
      "metadata": {
        "colab": {
          "base_uri": "https://localhost:8080/"
        },
        "id": "ACLfSnR_tNDU",
        "outputId": "e8136368-1ea0-4e01-b6c8-dd840d44739a"
      },
      "source": [
        "# Getting the summary of the model \n",
        "model.summary()"
      ],
      "execution_count": 86,
      "outputs": [
        {
          "output_type": "stream",
          "text": [
            "Model: \"model_3\"\n",
            "_________________________________________________________________\n",
            "Layer (type)                 Output Shape              Param #   \n",
            "=================================================================\n",
            "Input_layer (InputLayer)     [(None, 224, 224, 3)]     0         \n",
            "_________________________________________________________________\n",
            "augmentation_layer (Sequenti (None, 224, 224, 3)       0         \n",
            "_________________________________________________________________\n",
            "efficientnetb0 (Functional)  (None, None, None, 1280)  4049571   \n",
            "_________________________________________________________________\n",
            "pooling_2d_layer (GlobalAver (None, 1280)              0         \n",
            "_________________________________________________________________\n",
            "dense_3 (Dense)              (None, 101)               129381    \n",
            "_________________________________________________________________\n",
            "dropout_2 (Dropout)          (None, 101)               0         \n",
            "_________________________________________________________________\n",
            "output_layer (Activation)    (None, 101)               0         \n",
            "=================================================================\n",
            "Total params: 4,178,952\n",
            "Trainable params: 129,381\n",
            "Non-trainable params: 4,049,571\n",
            "_________________________________________________________________\n"
          ],
          "name": "stdout"
        }
      ]
    },
    {
      "cell_type": "code",
      "metadata": {
        "id": "O1T89P7LtQNS"
      },
      "source": [
        "def feature_extractor_trainer(train_data , \n",
        "                              model,\n",
        "                              test_data , test_pct = 0.15 , initial_epochs = 3, \n",
        "                              callbacks = [] ):\n",
        "  history = model.fit(train_data , \n",
        "                      epochs = initial_epochs , \n",
        "                      validation_data = test_data , \n",
        "                      validation_steps = int(test_pct * len(test_data)) , \n",
        "                      callbacks = callbacks)\n",
        "  return history"
      ],
      "execution_count": 88,
      "outputs": []
    },
    {
      "cell_type": "code",
      "metadata": {
        "colab": {
          "base_uri": "https://localhost:8080/"
        },
        "id": "XfyfNs70t38f",
        "outputId": "f23ee88a-868b-45bd-db7e-8c7e873ebb7d"
      },
      "source": [
        "# Using our function to train our feature extractor model \n",
        "history_feature_model_1 = feature_extractor_trainer(train_data= train_data , \n",
        "                                                    test_data = test_data  , \n",
        "                                                    model = model)"
      ],
      "execution_count": 90,
      "outputs": [
        {
          "output_type": "stream",
          "text": [
            "Epoch 1/3\n",
            "2368/2368 [==============================] - 179s 72ms/step - loss: 3.8207 - accuracy: 0.1954 - val_loss: 2.0287 - val_accuracy: 0.5948\n",
            "Epoch 2/3\n",
            "2368/2368 [==============================] - 169s 71ms/step - loss: 3.3156 - accuracy: 0.2917 - val_loss: 1.8507 - val_accuracy: 0.6202\n",
            "Epoch 3/3\n",
            "2368/2368 [==============================] - 171s 71ms/step - loss: 3.2510 - accuracy: 0.3064 - val_loss: 1.7709 - val_accuracy: 0.6279\n"
          ],
          "name": "stdout"
        }
      ]
    },
    {
      "cell_type": "code",
      "metadata": {
        "colab": {
          "base_uri": "https://localhost:8080/"
        },
        "id": "5CBjbOmxuJoM",
        "outputId": "42024e2c-0a5c-49b6-d277-5501df11e1ad"
      },
      "source": [
        "# Evaluating on the whole test data \n",
        "feature_extractor_model_1 = model.evaluate(test_data)"
      ],
      "execution_count": 91,
      "outputs": [
        {
          "output_type": "stream",
          "text": [
            "790/790 [==============================] - 56s 70ms/step - loss: 1.7875 - accuracy: 0.6276\n"
          ],
          "name": "stdout"
        }
      ]
    },
    {
      "cell_type": "code",
      "metadata": {
        "colab": {
          "base_uri": "https://localhost:8080/",
          "height": 573
        },
        "id": "KFnB0ejJ4CmS",
        "outputId": "9ccbc35d-6b72-4ee4-966d-e96b96bca9a7"
      },
      "source": [
        "# Plotting the loss curves \n",
        "plot_loss_curves(history_feature_model_1)"
      ],
      "execution_count": 92,
      "outputs": [
        {
          "output_type": "display_data",
          "data": {
            "image/png": "[encoded data removed]",
            "text/plain": [
              "<Figure size 432x288 with 1 Axes>"
            ]
          },
          "metadata": {
            "tags": [],
            "needs_background": "light"
          }
        },
        {
          "output_type": "display_data",
          "data": {
            "image/png": "[encoded data removed]",
            "text/plain": [
              "<Figure size 432x288 with 1 Axes>"
            ]
          },
          "metadata": {
            "tags": [],
            "needs_background": "light"
          }
        }
      ]
    },
    {
      "cell_type": "code",
      "metadata": {
        "id": "80-l8RMV4-4z"
      },
      "source": [
        "# Let's create a fine tune model \n",
        "def fine_tune_trainer(train_data , \n",
        "                      test_data ,feature_extract_model  , feature_extract_history, callbacks,\n",
        "                      num_fine_tune_epochs = 5 , initial_epochs = 3 ):\n",
        "  \n",
        "  fine_tune_epochs = initial_epochs + num_fine_tune_epochs\n",
        "  history = feature_extract_model.fit(train_data , \n",
        "                                      epochs = fine_tune_epochs , \n",
        "                                      validation_data = test_data , \n",
        "                                      validation_steps = int(0.15 * len(test_data)) , \n",
        "                                      initial_epoch = feature_extract_history.epoch[-1] , \n",
        "                                      callbacks = callbacks)\n",
        "\n",
        "  return history"
      ],
      "execution_count": 93,
      "outputs": []
    },
    {
      "cell_type": "code",
      "metadata": {
        "id": "pRzqGaACAlTn"
      },
      "source": [
        "# Unfreeze all the layers in the base model \n",
        "model.layers[2].trainable = True \n",
        "\n",
        "# Refreeze every layers except for the last 5 \n",
        "for layer in model.layers[2].layers[:-5]:\n",
        "  layer.trainable = False"
      ],
      "execution_count": 94,
      "outputs": []
    },
    {
      "cell_type": "code",
      "metadata": {
        "colab": {
          "base_uri": "https://localhost:8080/"
        },
        "id": "ZfknT9t6B5qf",
        "outputId": "1e5e3104-e6ed-480c-891a-7d161d0df24d"
      },
      "source": [
        "# Check which layers are trainable (last 5 layers should be True)\n",
        "for layer_num , layer in enumerate(model.layers[2].layers):\n",
        "  print(layer_num , layer.name , layer.dtype_policy ,  layer.trainable)"
      ],
      "execution_count": 95,
      "outputs": [
        {
          "output_type": "stream",
          "text": [
            "0 input_8 <Policy \"float32\"> False\n",
            "1 rescaling_7 <Policy \"mixed_float16\"> False\n",
            "2 normalization_7 <Policy \"float32\"> False\n",
            "3 stem_conv_pad <Policy \"mixed_float16\"> False\n",
            "4 stem_conv <Policy \"mixed_float16\"> False\n",
            "5 stem_bn <Policy \"mixed_float16\"> False\n",
            "6 stem_activation <Policy \"mixed_float16\"> False\n",
            "7 block1a_dwconv <Policy \"mixed_float16\"> False\n",
            "8 block1a_bn <Policy \"mixed_float16\"> False\n",
            "9 block1a_activation <Policy \"mixed_float16\"> False\n",
            "10 block1a_se_squeeze <Policy \"mixed_float16\"> False\n",
            "11 block1a_se_reshape <Policy \"mixed_float16\"> False\n",
            "12 block1a_se_reduce <Policy \"mixed_float16\"> False\n",
            "13 block1a_se_expand <Policy \"mixed_float16\"> False\n",
            "14 block1a_se_excite <Policy \"mixed_float16\"> False\n",
            "15 block1a_project_conv <Policy \"mixed_float16\"> False\n",
            "16 block1a_project_bn <Policy \"mixed_float16\"> False\n",
            "17 block2a_expand_conv <Policy \"mixed_float16\"> False\n",
            "18 block2a_expand_bn <Policy \"mixed_float16\"> False\n",
            "19 block2a_expand_activation <Policy \"mixed_float16\"> False\n",
            "20 block2a_dwconv_pad <Policy \"mixed_float16\"> False\n",
            "21 block2a_dwconv <Policy \"mixed_float16\"> False\n",
            "22 block2a_bn <Policy \"mixed_float16\"> False\n",
            "23 block2a_activation <Policy \"mixed_float16\"> False\n",
            "24 block2a_se_squeeze <Policy \"mixed_float16\"> False\n",
            "25 block2a_se_reshape <Policy \"mixed_float16\"> False\n",
            "26 block2a_se_reduce <Policy \"mixed_float16\"> False\n",
            "27 block2a_se_expand <Policy \"mixed_float16\"> False\n",
            "28 block2a_se_excite <Policy \"mixed_float16\"> False\n",
            "29 block2a_project_conv <Policy \"mixed_float16\"> False\n",
            "30 block2a_project_bn <Policy \"mixed_float16\"> False\n",
            "31 block2b_expand_conv <Policy \"mixed_float16\"> False\n",
            "32 block2b_expand_bn <Policy \"mixed_float16\"> False\n",
            "33 block2b_expand_activation <Policy \"mixed_float16\"> False\n",
            "34 block2b_dwconv <Policy \"mixed_float16\"> False\n",
            "35 block2b_bn <Policy \"mixed_float16\"> False\n",
            "36 block2b_activation <Policy \"mixed_float16\"> False\n",
            "37 block2b_se_squeeze <Policy \"mixed_float16\"> False\n",
            "38 block2b_se_reshape <Policy \"mixed_float16\"> False\n",
            "39 block2b_se_reduce <Policy \"mixed_float16\"> False\n",
            "40 block2b_se_expand <Policy \"mixed_float16\"> False\n",
            "41 block2b_se_excite <Policy \"mixed_float16\"> False\n",
            "42 block2b_project_conv <Policy \"mixed_float16\"> False\n",
            "43 block2b_project_bn <Policy \"mixed_float16\"> False\n",
            "44 block2b_drop <Policy \"mixed_float16\"> False\n",
            "45 block2b_add <Policy \"mixed_float16\"> False\n",
            "46 block3a_expand_conv <Policy \"mixed_float16\"> False\n",
            "47 block3a_expand_bn <Policy \"mixed_float16\"> False\n",
            "48 block3a_expand_activation <Policy \"mixed_float16\"> False\n",
            "49 block3a_dwconv_pad <Policy \"mixed_float16\"> False\n",
            "50 block3a_dwconv <Policy \"mixed_float16\"> False\n",
            "51 block3a_bn <Policy \"mixed_float16\"> False\n",
            "52 block3a_activation <Policy \"mixed_float16\"> False\n",
            "53 block3a_se_squeeze <Policy \"mixed_float16\"> False\n",
            "54 block3a_se_reshape <Policy \"mixed_float16\"> False\n",
            "55 block3a_se_reduce <Policy \"mixed_float16\"> False\n",
            "56 block3a_se_expand <Policy \"mixed_float16\"> False\n",
            "57 block3a_se_excite <Policy \"mixed_float16\"> False\n",
            "58 block3a_project_conv <Policy \"mixed_float16\"> False\n",
            "59 block3a_project_bn <Policy \"mixed_float16\"> False\n",
            "60 block3b_expand_conv <Policy \"mixed_float16\"> False\n",
            "61 block3b_expand_bn <Policy \"mixed_float16\"> False\n",
            "62 block3b_expand_activation <Policy \"mixed_float16\"> False\n",
            "63 block3b_dwconv <Policy \"mixed_float16\"> False\n",
            "64 block3b_bn <Policy \"mixed_float16\"> False\n",
            "65 block3b_activation <Policy \"mixed_float16\"> False\n",
            "66 block3b_se_squeeze <Policy \"mixed_float16\"> False\n",
            "67 block3b_se_reshape <Policy \"mixed_float16\"> False\n",
            "68 block3b_se_reduce <Policy \"mixed_float16\"> False\n",
            "69 block3b_se_expand <Policy \"mixed_float16\"> False\n",
            "70 block3b_se_excite <Policy \"mixed_float16\"> False\n",
            "71 block3b_project_conv <Policy \"mixed_float16\"> False\n",
            "72 block3b_project_bn <Policy \"mixed_float16\"> False\n",
            "73 block3b_drop <Policy \"mixed_float16\"> False\n",
            "74 block3b_add <Policy \"mixed_float16\"> False\n",
            "75 block4a_expand_conv <Policy \"mixed_float16\"> False\n",
            "76 block4a_expand_bn <Policy \"mixed_float16\"> False\n",
            "77 block4a_expand_activation <Policy \"mixed_float16\"> False\n",
            "78 block4a_dwconv_pad <Policy \"mixed_float16\"> False\n",
            "79 block4a_dwconv <Policy \"mixed_float16\"> False\n",
            "80 block4a_bn <Policy \"mixed_float16\"> False\n",
            "81 block4a_activation <Policy \"mixed_float16\"> False\n",
            "82 block4a_se_squeeze <Policy \"mixed_float16\"> False\n",
            "83 block4a_se_reshape <Policy \"mixed_float16\"> False\n",
            "84 block4a_se_reduce <Policy \"mixed_float16\"> False\n",
            "85 block4a_se_expand <Policy \"mixed_float16\"> False\n",
            "86 block4a_se_excite <Policy \"mixed_float16\"> False\n",
            "87 block4a_project_conv <Policy \"mixed_float16\"> False\n",
            "88 block4a_project_bn <Policy \"mixed_float16\"> False\n",
            "89 block4b_expand_conv <Policy \"mixed_float16\"> False\n",
            "90 block4b_expand_bn <Policy \"mixed_float16\"> False\n",
            "91 block4b_expand_activation <Policy \"mixed_float16\"> False\n",
            "92 block4b_dwconv <Policy \"mixed_float16\"> False\n",
            "93 block4b_bn <Policy \"mixed_float16\"> False\n",
            "94 block4b_activation <Policy \"mixed_float16\"> False\n",
            "95 block4b_se_squeeze <Policy \"mixed_float16\"> False\n",
            "96 block4b_se_reshape <Policy \"mixed_float16\"> False\n",
            "97 block4b_se_reduce <Policy \"mixed_float16\"> False\n",
            "98 block4b_se_expand <Policy \"mixed_float16\"> False\n",
            "99 block4b_se_excite <Policy \"mixed_float16\"> False\n",
            "100 block4b_project_conv <Policy \"mixed_float16\"> False\n",
            "101 block4b_project_bn <Policy \"mixed_float16\"> False\n",
            "102 block4b_drop <Policy \"mixed_float16\"> False\n",
            "103 block4b_add <Policy \"mixed_float16\"> False\n",
            "104 block4c_expand_conv <Policy \"mixed_float16\"> False\n",
            "105 block4c_expand_bn <Policy \"mixed_float16\"> False\n",
            "106 block4c_expand_activation <Policy \"mixed_float16\"> False\n",
            "107 block4c_dwconv <Policy \"mixed_float16\"> False\n",
            "108 block4c_bn <Policy \"mixed_float16\"> False\n",
            "109 block4c_activation <Policy \"mixed_float16\"> False\n",
            "110 block4c_se_squeeze <Policy \"mixed_float16\"> False\n",
            "111 block4c_se_reshape <Policy \"mixed_float16\"> False\n",
            "112 block4c_se_reduce <Policy \"mixed_float16\"> False\n",
            "113 block4c_se_expand <Policy \"mixed_float16\"> False\n",
            "114 block4c_se_excite <Policy \"mixed_float16\"> False\n",
            "115 block4c_project_conv <Policy \"mixed_float16\"> False\n",
            "116 block4c_project_bn <Policy \"mixed_float16\"> False\n",
            "117 block4c_drop <Policy \"mixed_float16\"> False\n",
            "118 block4c_add <Policy \"mixed_float16\"> False\n",
            "119 block5a_expand_conv <Policy \"mixed_float16\"> False\n",
            "120 block5a_expand_bn <Policy \"mixed_float16\"> False\n",
            "121 block5a_expand_activation <Policy \"mixed_float16\"> False\n",
            "122 block5a_dwconv <Policy \"mixed_float16\"> False\n",
            "123 block5a_bn <Policy \"mixed_float16\"> False\n",
            "124 block5a_activation <Policy \"mixed_float16\"> False\n",
            "125 block5a_se_squeeze <Policy \"mixed_float16\"> False\n",
            "126 block5a_se_reshape <Policy \"mixed_float16\"> False\n",
            "127 block5a_se_reduce <Policy \"mixed_float16\"> False\n",
            "128 block5a_se_expand <Policy \"mixed_float16\"> False\n",
            "129 block5a_se_excite <Policy \"mixed_float16\"> False\n",
            "130 block5a_project_conv <Policy \"mixed_float16\"> False\n",
            "131 block5a_project_bn <Policy \"mixed_float16\"> False\n",
            "132 block5b_expand_conv <Policy \"mixed_float16\"> False\n",
            "133 block5b_expand_bn <Policy \"mixed_float16\"> False\n",
            "134 block5b_expand_activation <Policy \"mixed_float16\"> False\n",
            "135 block5b_dwconv <Policy \"mixed_float16\"> False\n",
            "136 block5b_bn <Policy \"mixed_float16\"> False\n",
            "137 block5b_activation <Policy \"mixed_float16\"> False\n",
            "138 block5b_se_squeeze <Policy \"mixed_float16\"> False\n",
            "139 block5b_se_reshape <Policy \"mixed_float16\"> False\n",
            "140 block5b_se_reduce <Policy \"mixed_float16\"> False\n",
            "141 block5b_se_expand <Policy \"mixed_float16\"> False\n",
            "142 block5b_se_excite <Policy \"mixed_float16\"> False\n",
            "143 block5b_project_conv <Policy \"mixed_float16\"> False\n",
            "144 block5b_project_bn <Policy \"mixed_float16\"> False\n",
            "145 block5b_drop <Policy \"mixed_float16\"> False\n",
            "146 block5b_add <Policy \"mixed_float16\"> False\n",
            "147 block5c_expand_conv <Policy \"mixed_float16\"> False\n",
            "148 block5c_expand_bn <Policy \"mixed_float16\"> False\n",
            "149 block5c_expand_activation <Policy \"mixed_float16\"> False\n",
            "150 block5c_dwconv <Policy \"mixed_float16\"> False\n",
            "151 block5c_bn <Policy \"mixed_float16\"> False\n",
            "152 block5c_activation <Policy \"mixed_float16\"> False\n",
            "153 block5c_se_squeeze <Policy \"mixed_float16\"> False\n",
            "154 block5c_se_reshape <Policy \"mixed_float16\"> False\n",
            "155 block5c_se_reduce <Policy \"mixed_float16\"> False\n",
            "156 block5c_se_expand <Policy \"mixed_float16\"> False\n",
            "157 block5c_se_excite <Policy \"mixed_float16\"> False\n",
            "158 block5c_project_conv <Policy \"mixed_float16\"> False\n",
            "159 block5c_project_bn <Policy \"mixed_float16\"> False\n",
            "160 block5c_drop <Policy \"mixed_float16\"> False\n",
            "161 block5c_add <Policy \"mixed_float16\"> False\n",
            "162 block6a_expand_conv <Policy \"mixed_float16\"> False\n",
            "163 block6a_expand_bn <Policy \"mixed_float16\"> False\n",
            "164 block6a_expand_activation <Policy \"mixed_float16\"> False\n",
            "165 block6a_dwconv_pad <Policy \"mixed_float16\"> False\n",
            "166 block6a_dwconv <Policy \"mixed_float16\"> False\n",
            "167 block6a_bn <Policy \"mixed_float16\"> False\n",
            "168 block6a_activation <Policy \"mixed_float16\"> False\n",
            "169 block6a_se_squeeze <Policy \"mixed_float16\"> False\n",
            "170 block6a_se_reshape <Policy \"mixed_float16\"> False\n",
            "171 block6a_se_reduce <Policy \"mixed_float16\"> False\n",
            "172 block6a_se_expand <Policy \"mixed_float16\"> False\n",
            "173 block6a_se_excite <Policy \"mixed_float16\"> False\n",
            "174 block6a_project_conv <Policy \"mixed_float16\"> False\n",
            "175 block6a_project_bn <Policy \"mixed_float16\"> False\n",
            "176 block6b_expand_conv <Policy \"mixed_float16\"> False\n",
            "177 block6b_expand_bn <Policy \"mixed_float16\"> False\n",
            "178 block6b_expand_activation <Policy \"mixed_float16\"> False\n",
            "179 block6b_dwconv <Policy \"mixed_float16\"> False\n",
            "180 block6b_bn <Policy \"mixed_float16\"> False\n",
            "181 block6b_activation <Policy \"mixed_float16\"> False\n",
            "182 block6b_se_squeeze <Policy \"mixed_float16\"> False\n",
            "183 block6b_se_reshape <Policy \"mixed_float16\"> False\n",
            "184 block6b_se_reduce <Policy \"mixed_float16\"> False\n",
            "185 block6b_se_expand <Policy \"mixed_float16\"> False\n",
            "186 block6b_se_excite <Policy \"mixed_float16\"> False\n",
            "187 block6b_project_conv <Policy \"mixed_float16\"> False\n",
            "188 block6b_project_bn <Policy \"mixed_float16\"> False\n",
            "189 block6b_drop <Policy \"mixed_float16\"> False\n",
            "190 block6b_add <Policy \"mixed_float16\"> False\n",
            "191 block6c_expand_conv <Policy \"mixed_float16\"> False\n",
            "192 block6c_expand_bn <Policy \"mixed_float16\"> False\n",
            "193 block6c_expand_activation <Policy \"mixed_float16\"> False\n",
            "194 block6c_dwconv <Policy \"mixed_float16\"> False\n",
            "195 block6c_bn <Policy \"mixed_float16\"> False\n",
            "196 block6c_activation <Policy \"mixed_float16\"> False\n",
            "197 block6c_se_squeeze <Policy \"mixed_float16\"> False\n",
            "198 block6c_se_reshape <Policy \"mixed_float16\"> False\n",
            "199 block6c_se_reduce <Policy \"mixed_float16\"> False\n",
            "200 block6c_se_expand <Policy \"mixed_float16\"> False\n",
            "201 block6c_se_excite <Policy \"mixed_float16\"> False\n",
            "202 block6c_project_conv <Policy \"mixed_float16\"> False\n",
            "203 block6c_project_bn <Policy \"mixed_float16\"> False\n",
            "204 block6c_drop <Policy \"mixed_float16\"> False\n",
            "205 block6c_add <Policy \"mixed_float16\"> False\n",
            "206 block6d_expand_conv <Policy \"mixed_float16\"> False\n",
            "207 block6d_expand_bn <Policy \"mixed_float16\"> False\n",
            "208 block6d_expand_activation <Policy \"mixed_float16\"> False\n",
            "209 block6d_dwconv <Policy \"mixed_float16\"> False\n",
            "210 block6d_bn <Policy \"mixed_float16\"> False\n",
            "211 block6d_activation <Policy \"mixed_float16\"> False\n",
            "212 block6d_se_squeeze <Policy \"mixed_float16\"> False\n",
            "213 block6d_se_reshape <Policy \"mixed_float16\"> False\n",
            "214 block6d_se_reduce <Policy \"mixed_float16\"> False\n",
            "215 block6d_se_expand <Policy \"mixed_float16\"> False\n",
            "216 block6d_se_excite <Policy \"mixed_float16\"> False\n",
            "217 block6d_project_conv <Policy \"mixed_float16\"> False\n",
            "218 block6d_project_bn <Policy \"mixed_float16\"> False\n",
            "219 block6d_drop <Policy \"mixed_float16\"> False\n",
            "220 block6d_add <Policy \"mixed_float16\"> False\n",
            "221 block7a_expand_conv <Policy \"mixed_float16\"> False\n",
            "222 block7a_expand_bn <Policy \"mixed_float16\"> False\n",
            "223 block7a_expand_activation <Policy \"mixed_float16\"> False\n",
            "224 block7a_dwconv <Policy \"mixed_float16\"> False\n",
            "225 block7a_bn <Policy \"mixed_float16\"> False\n",
            "226 block7a_activation <Policy \"mixed_float16\"> False\n",
            "227 block7a_se_squeeze <Policy \"mixed_float16\"> False\n",
            "228 block7a_se_reshape <Policy \"mixed_float16\"> False\n",
            "229 block7a_se_reduce <Policy \"mixed_float16\"> False\n",
            "230 block7a_se_expand <Policy \"mixed_float16\"> False\n",
            "231 block7a_se_excite <Policy \"mixed_float16\"> False\n",
            "232 block7a_project_conv <Policy \"mixed_float16\"> True\n",
            "233 block7a_project_bn <Policy \"mixed_float16\"> True\n",
            "234 top_conv <Policy \"mixed_float16\"> True\n",
            "235 top_bn <Policy \"mixed_float16\"> True\n",
            "236 top_activation <Policy \"mixed_float16\"> True\n"
          ],
          "name": "stdout"
        }
      ]
    },
    {
      "cell_type": "code",
      "metadata": {
        "id": "umjLb0I2DpSB"
      },
      "source": [
        "# Compiling the model \n",
        "model.compile(loss = tf.keras.losses.SparseCategoricalCrossentropy() , \n",
        "              optimizer = tf.keras.optimizers.Adam(learning_rate= 0.0001) , \n",
        "              metrics = ['accuracy'])"
      ],
      "execution_count": 96,
      "outputs": []
    },
    {
      "cell_type": "code",
      "metadata": {
        "colab": {
          "base_uri": "https://localhost:8080/"
        },
        "id": "IPqb-Tz2C_DY",
        "outputId": "b36f4dac-b7a5-4671-9324-389cf94d7156"
      },
      "source": [
        "# Fine tuning our model \n",
        "history_fine_tune_model_1 = fine_tune_trainer(train_data , \n",
        "                                              test_data , \n",
        "                                              model , \n",
        "                                              history_feature_model_1 , \n",
        "                                              num_fine_tune_epochs = 25 , \n",
        "                                              callbacks = [reduce_lr_plat])"
      ],
      "execution_count": 97,
      "outputs": [
        {
          "output_type": "stream",
          "text": [
            "Epoch 3/28\n",
            "2368/2368 [==============================] - 188s 76ms/step - loss: 3.1384 - accuracy: 0.3271 - val_loss: 1.6197 - val_accuracy: 0.6838\n",
            "Epoch 4/28\n",
            "2368/2368 [==============================] - 171s 72ms/step - loss: 3.0397 - accuracy: 0.3443 - val_loss: 1.5743 - val_accuracy: 0.6872\n",
            "Epoch 5/28\n",
            "2368/2368 [==============================] - 168s 70ms/step - loss: 2.9980 - accuracy: 0.3498 - val_loss: 1.5421 - val_accuracy: 0.6954\n",
            "Epoch 6/28\n",
            "2368/2368 [==============================] - 167s 70ms/step - loss: 2.9584 - accuracy: 0.3582 - val_loss: 1.5129 - val_accuracy: 0.6973\n",
            "Epoch 7/28\n",
            "2368/2368 [==============================] - 167s 70ms/step - loss: 2.9280 - accuracy: 0.3641 - val_loss: 1.5035 - val_accuracy: 0.7026\n",
            "Epoch 8/28\n",
            "2368/2368 [==============================] - 169s 71ms/step - loss: 2.8910 - accuracy: 0.3709 - val_loss: 1.4646 - val_accuracy: 0.7087\n",
            "Epoch 9/28\n",
            "2368/2368 [==============================] - 169s 71ms/step - loss: 2.8720 - accuracy: 0.3736 - val_loss: 1.4306 - val_accuracy: 0.7156\n",
            "Epoch 10/28\n",
            "2368/2368 [==============================] - 169s 71ms/step - loss: 2.8649 - accuracy: 0.3736 - val_loss: 1.4311 - val_accuracy: 0.7214\n",
            "Epoch 11/28\n",
            "2368/2368 [==============================] - 170s 71ms/step - loss: 2.8442 - accuracy: 0.3771 - val_loss: 1.4224 - val_accuracy: 0.7153\n",
            "Epoch 12/28\n",
            "2368/2368 [==============================] - 170s 71ms/step - loss: 2.7980 - accuracy: 0.3881 - val_loss: 1.3803 - val_accuracy: 0.7198\n",
            "Epoch 13/28\n",
            "2368/2368 [==============================] - 170s 71ms/step - loss: 2.8098 - accuracy: 0.3829 - val_loss: 1.3680 - val_accuracy: 0.7219\n",
            "Epoch 14/28\n",
            "2368/2368 [==============================] - 170s 71ms/step - loss: 2.7855 - accuracy: 0.3902 - val_loss: 1.3541 - val_accuracy: 0.7240\n",
            "Epoch 15/28\n",
            "2368/2368 [==============================] - 169s 71ms/step - loss: 2.7793 - accuracy: 0.3906 - val_loss: 1.3487 - val_accuracy: 0.7288\n",
            "Epoch 16/28\n",
            "2368/2368 [==============================] - 170s 71ms/step - loss: 2.7734 - accuracy: 0.3903 - val_loss: 1.3276 - val_accuracy: 0.7235\n",
            "Epoch 17/28\n",
            "2368/2368 [==============================] - 169s 71ms/step - loss: 2.7388 - accuracy: 0.3972 - val_loss: 1.3342 - val_accuracy: 0.7264\n",
            "Epoch 18/28\n",
            "2368/2368 [==============================] - 171s 72ms/step - loss: 2.7546 - accuracy: 0.3942 - val_loss: 1.3254 - val_accuracy: 0.7264\n",
            "Epoch 19/28\n",
            "2368/2368 [==============================] - 166s 69ms/step - loss: 2.7297 - accuracy: 0.3980 - val_loss: 1.2936 - val_accuracy: 0.7275\n",
            "Epoch 20/28\n",
            "2368/2368 [==============================] - 164s 69ms/step - loss: 2.7085 - accuracy: 0.4026 - val_loss: 1.3042 - val_accuracy: 0.7360\n",
            "Epoch 21/28\n",
            "2368/2368 [==============================] - 166s 70ms/step - loss: 2.7028 - accuracy: 0.4055 - val_loss: 1.2809 - val_accuracy: 0.7354\n",
            "Epoch 22/28\n",
            "2368/2368 [==============================] - 166s 70ms/step - loss: 2.6900 - accuracy: 0.4065 - val_loss: 1.2533 - val_accuracy: 0.7354\n",
            "Epoch 23/28\n",
            "2368/2368 [==============================] - 170s 71ms/step - loss: 2.7064 - accuracy: 0.4023 - val_loss: 1.2690 - val_accuracy: 0.7275\n",
            "Epoch 24/28\n",
            "2368/2368 [==============================] - 170s 71ms/step - loss: 2.6781 - accuracy: 0.4072 - val_loss: 1.2544 - val_accuracy: 0.7323\n",
            "Epoch 25/28\n",
            "2368/2368 [==============================] - 170s 71ms/step - loss: 2.6714 - accuracy: 0.4087 - val_loss: 1.2611 - val_accuracy: 0.7323\n",
            "Epoch 26/28\n",
            "2368/2368 [==============================] - 170s 71ms/step - loss: 2.6600 - accuracy: 0.4110 - val_loss: 1.2563 - val_accuracy: 0.7328\n",
            "Epoch 27/28\n",
            "2368/2368 [==============================] - 170s 71ms/step - loss: 2.6574 - accuracy: 0.4106 - val_loss: 1.2307 - val_accuracy: 0.7370\n",
            "Epoch 28/28\n",
            "2368/2368 [==============================] - 170s 71ms/step - loss: 2.6423 - accuracy: 0.4140 - val_loss: 1.2558 - val_accuracy: 0.7341\n"
          ],
          "name": "stdout"
        }
      ]
    },
    {
      "cell_type": "code",
      "metadata": {
        "colab": {
          "base_uri": "https://localhost:8080/"
        },
        "id": "QyqtHva1NxTl",
        "outputId": "92480889-8933-4db6-a76b-2e6e10f791cf"
      },
      "source": [
        "# Evaluating on the full dataset \n",
        "full_result_model_1 = model.evaluate(test_data)"
      ],
      "execution_count": 98,
      "outputs": [
        {
          "output_type": "stream",
          "text": [
            "790/790 [==============================] - 55s 70ms/step - loss: 1.2678 - accuracy: 0.7262\n"
          ],
          "name": "stdout"
        }
      ]
    },
    {
      "cell_type": "code",
      "metadata": {
        "colab": {
          "base_uri": "https://localhost:8080/",
          "height": 573
        },
        "id": "B_seUAFOD9ic",
        "outputId": "f5b0b419-6d2d-4cb2-a56e-fd97ed1ac251"
      },
      "source": [
        "# Plotting the loss curves \n",
        "plot_loss_curves(history_fine_tune_model_1)"
      ],
      "execution_count": 99,
      "outputs": [
        {
          "output_type": "display_data",
          "data": {
            "image/png": "[encoded data removed]",
            "text/plain": [
              "<Figure size 432x288 with 1 Axes>"
            ]
          },
          "metadata": {
            "tags": [],
            "needs_background": "light"
          }
        },
        {
          "output_type": "display_data",
          "data": {
            "image/png": "[encoded data removed]",
            "text/plain": [
              "<Figure size 432x288 with 1 Axes>"
            ]
          },
          "metadata": {
            "tags": [],
            "needs_background": "light"
          }
        }
      ]
    },
    {
      "cell_type": "markdown",
      "metadata": {
        "id": "-1zNk2uhipK0"
      },
      "source": [
        "Holaa! The model was doing fine but the `factor` wasn't good enough to lower the learning rate. And we used EfficientNetB0 here. \n",
        "\n",
        "Next will try to upgrade our model and add one layer of data augmentation (not sure) and decrease the factor a bit. "
      ]
    },
    {
      "cell_type": "code",
      "metadata": {
        "id": "eGnsXsQTBUeq"
      },
      "source": [
        "tf.keras.callbacks.ReduceLROnPlateau??"
      ],
      "execution_count": null,
      "outputs": []
    },
    {
      "cell_type": "code",
      "metadata": {
        "id": "TQzqWxXYIgWW"
      },
      "source": [
        "# Creating a learning rate scheduler \n",
        "lr_scheduler = tf.keras.callbacks.LearningRateScheduler(lambda epoch: 1e-4 * (0.75** np.floor(epoch / 2)))\n",
        "lr_scheduler_1 = tf.keras.callbacks.LearningRateScheduler(lambda epoch: 1e-4 * 10**(epoch/20))"
      ],
      "execution_count": null,
      "outputs": []
    },
    {
      "cell_type": "code",
      "metadata": {
        "id": "m3nuHa1kMKS5"
      },
      "source": [
        "def create_modelcheckpoint_callback(folder_name):\n",
        "  checkpoint_path = f'{folder_name}/cp.ckpt'\n",
        "\n",
        "  # Creating our callbacks \n",
        "  model_checkpoint = tf.keras.callbacks.ModelCheckpoint(checkpoint_path_1 , \n",
        "                                                        monitor = 'val_accuracy' , \n",
        "                                                        save_best_only = True , \n",
        "                                                        save_weights_only = True)"
      ],
      "execution_count": null,
      "outputs": []
    },
    {
      "cell_type": "code",
      "metadata": {
        "id": "rTXes960B-VC"
      },
      "source": [
        ""
      ],
      "execution_count": null,
      "outputs": []
    },
    {
      "cell_type": "markdown",
      "metadata": {
        "id": "BX7-YyiyMoYn"
      },
      "source": [
        "Using a EfficientNetB2 now and With fewer Augmentation layers"
      ]
    },
    {
      "cell_type": "code",
      "metadata": {
        "colab": {
          "base_uri": "https://localhost:8080/"
        },
        "id": "TKFhiDI_OXoU",
        "outputId": "bfa60b83-5a44-4cec-f8e1-1e56865c61cf"
      },
      "source": [
        "# Creating a model \n",
        "model_2 = create_model(num_classes= len(class_names))\n",
        "\n",
        "model_2.compile(loss = tf.keras.losses.SparseCategoricalCrossentropy() , \n",
        "                optimizer = tf.keras.optimizers.Adam() , \n",
        "                metrics = ['accuracy'])\n",
        "\n",
        "# Getting the summary of our model \n",
        "model_2.summary()"
      ],
      "execution_count": 103,
      "outputs": [
        {
          "output_type": "stream",
          "text": [
            "Model: \"model_5\"\n",
            "_________________________________________________________________\n",
            "Layer (type)                 Output Shape              Param #   \n",
            "=================================================================\n",
            "Input_layer (InputLayer)     [(None, 224, 224, 3)]     0         \n",
            "_________________________________________________________________\n",
            "augmentation_layer (Sequenti (None, 224, 224, 3)       0         \n",
            "_________________________________________________________________\n",
            "efficientnetb2 (Functional)  (None, None, None, 1408)  7768569   \n",
            "_________________________________________________________________\n",
            "pooling_2d_layer (GlobalAver (None, 1408)              0         \n",
            "_________________________________________________________________\n",
            "dense_5 (Dense)              (None, 101)               142309    \n",
            "_________________________________________________________________\n",
            "dropout_4 (Dropout)          (None, 101)               0         \n",
            "_________________________________________________________________\n",
            "output_layer (Activation)    (None, 101)               0         \n",
            "=================================================================\n",
            "Total params: 7,910,878\n",
            "Trainable params: 142,309\n",
            "Non-trainable params: 7,768,569\n",
            "_________________________________________________________________\n"
          ],
          "name": "stdout"
        }
      ]
    },
    {
      "cell_type": "code",
      "metadata": {
        "colab": {
          "base_uri": "https://localhost:8080/"
        },
        "id": "RWJSZbmxO_I5",
        "outputId": "7ac5939f-96c8-40a4-edd1-0a8adbe9ae38"
      },
      "source": [
        "for layer in model_2.layers:\n",
        "  print(layer , layer.trainable)"
      ],
      "execution_count": 104,
      "outputs": [
        {
          "output_type": "stream",
          "text": [
            "<tensorflow.python.keras.engine.input_layer.InputLayer object at 0x7f1577b12090> True\n",
            "<tensorflow.python.keras.engine.sequential.Sequential object at 0x7f15ea2f9e90> True\n",
            "<tensorflow.python.keras.engine.functional.Functional object at 0x7f1598c48a10> False\n",
            "<tensorflow.python.keras.layers.pooling.GlobalAveragePooling2D object at 0x7f157705e490> True\n",
            "<tensorflow.python.keras.layers.core.Dense object at 0x7f15774eaa90> True\n",
            "<tensorflow.python.keras.layers.core.Dropout object at 0x7f1577062190> True\n",
            "<tensorflow.python.keras.layers.core.Activation object at 0x7f1577494810> True\n"
          ],
          "name": "stdout"
        }
      ]
    },
    {
      "cell_type": "code",
      "metadata": {
        "id": "nzZCYOhei_s-"
      },
      "source": [
        "\n",
        "tf.config.run_functions_eagerly(True)"
      ],
      "execution_count": null,
      "outputs": []
    },
    {
      "cell_type": "code",
      "metadata": {
        "colab": {
          "base_uri": "https://localhost:8080/"
        },
        "id": "go2VOdHcPYMe",
        "outputId": "b0001528-2d31-4641-d287-d8980b8fc601"
      },
      "source": [
        "# Fitting our feature extractor model \n",
        "history_feature_model_2 = feature_extractor_trainer(train_data , \n",
        "                                                    model_2, \n",
        "                                                    test_data , \n",
        "                                                    initial_epochs = 4)"
      ],
      "execution_count": 106,
      "outputs": [
        {
          "output_type": "stream",
          "text": [
            "Epoch 1/4\n",
            "2368/2368 [==============================] - 191s 76ms/step - loss: 3.3721 - accuracy: 0.2712 - val_loss: 1.6922 - val_accuracy: 0.6155\n",
            "Epoch 2/4\n",
            "2368/2368 [==============================] - 181s 75ms/step - loss: 2.7280 - accuracy: 0.3951 - val_loss: 1.5318 - val_accuracy: 0.6382\n",
            "Epoch 3/4\n",
            "2368/2368 [==============================] - 176s 74ms/step - loss: 2.6372 - accuracy: 0.4115 - val_loss: 1.4794 - val_accuracy: 0.6528\n",
            "Epoch 4/4\n",
            "2368/2368 [==============================] - 181s 76ms/step - loss: 2.5852 - accuracy: 0.4234 - val_loss: 1.4309 - val_accuracy: 0.6592\n"
          ],
          "name": "stdout"
        }
      ]
    },
    {
      "cell_type": "code",
      "metadata": {
        "id": "aSUxJVgDP6Ks",
        "colab": {
          "base_uri": "https://localhost:8080/"
        },
        "outputId": "43fea8d7-91e2-48c3-b350-be49a4637e9e"
      },
      "source": [
        "# Evaluating on the whole test data \n",
        "feature_results_model_2 = model_2.evaluate(test_data)"
      ],
      "execution_count": 107,
      "outputs": [
        {
          "output_type": "stream",
          "text": [
            "790/790 [==============================] - 57s 72ms/step - loss: 1.4399 - accuracy: 0.6559\n"
          ],
          "name": "stdout"
        }
      ]
    },
    {
      "cell_type": "code",
      "metadata": {
        "colab": {
          "base_uri": "https://localhost:8080/"
        },
        "id": "hB5Ii-svifrV",
        "outputId": "08fc3bfe-9da4-43b6-d51a-94b34cc73122"
      },
      "source": [
        "for layer in model_2.layers:\n",
        "  print(layer.name , layer.trainable)"
      ],
      "execution_count": 108,
      "outputs": [
        {
          "output_type": "stream",
          "text": [
            "Input_layer True\n",
            "augmentation_layer True\n",
            "efficientnetb2 False\n",
            "pooling_2d_layer True\n",
            "dense_5 True\n",
            "dropout_4 True\n",
            "output_layer True\n"
          ],
          "name": "stdout"
        }
      ]
    },
    {
      "cell_type": "code",
      "metadata": {
        "id": "jwXBQTOYiOUL"
      },
      "source": [
        "# Unfreeze all the layers in the base model \n",
        "model_2.layers[2].trainable = True "
      ],
      "execution_count": 109,
      "outputs": []
    },
    {
      "cell_type": "code",
      "metadata": {
        "id": "9hTwMNGrm9Dx"
      },
      "source": [
        "\n",
        "# Refreeze every layers except for the last 5 \n",
        "for layer in model_2.layers[2].layers[:-6]:\n",
        "  layer.trainable = False"
      ],
      "execution_count": 110,
      "outputs": []
    },
    {
      "cell_type": "code",
      "metadata": {
        "colab": {
          "base_uri": "https://localhost:8080/"
        },
        "id": "mwAj5YG8nCOS",
        "outputId": "3624ceb2-4706-436c-c941-5024d6664cc1"
      },
      "source": [
        "for layer in model_2.layers[2].layers:\n",
        "  print(layer.name , layer.trainable , layer.dtype_policy)"
      ],
      "execution_count": 111,
      "outputs": [
        {
          "output_type": "stream",
          "text": [
            "input_10 False <Policy \"float32\">\n",
            "rescaling_9 False <Policy \"mixed_float16\">\n",
            "normalization_9 False <Policy \"float32\">\n",
            "stem_conv_pad False <Policy \"mixed_float16\">\n",
            "stem_conv False <Policy \"mixed_float16\">\n",
            "stem_bn False <Policy \"mixed_float16\">\n",
            "stem_activation False <Policy \"mixed_float16\">\n",
            "block1a_dwconv False <Policy \"mixed_float16\">\n",
            "block1a_bn False <Policy \"mixed_float16\">\n",
            "block1a_activation False <Policy \"mixed_float16\">\n",
            "block1a_se_squeeze False <Policy \"mixed_float16\">\n",
            "block1a_se_reshape False <Policy \"mixed_float16\">\n",
            "block1a_se_reduce False <Policy \"mixed_float16\">\n",
            "block1a_se_expand False <Policy \"mixed_float16\">\n",
            "block1a_se_excite False <Policy \"mixed_float16\">\n",
            "block1a_project_conv False <Policy \"mixed_float16\">\n",
            "block1a_project_bn False <Policy \"mixed_float16\">\n",
            "block1b_dwconv False <Policy \"mixed_float16\">\n",
            "block1b_bn False <Policy \"mixed_float16\">\n",
            "block1b_activation False <Policy \"mixed_float16\">\n",
            "block1b_se_squeeze False <Policy \"mixed_float16\">\n",
            "block1b_se_reshape False <Policy \"mixed_float16\">\n",
            "block1b_se_reduce False <Policy \"mixed_float16\">\n",
            "block1b_se_expand False <Policy \"mixed_float16\">\n",
            "block1b_se_excite False <Policy \"mixed_float16\">\n",
            "block1b_project_conv False <Policy \"mixed_float16\">\n",
            "block1b_project_bn False <Policy \"mixed_float16\">\n",
            "block1b_drop False <Policy \"mixed_float16\">\n",
            "block1b_add False <Policy \"mixed_float16\">\n",
            "block2a_expand_conv False <Policy \"mixed_float16\">\n",
            "block2a_expand_bn False <Policy \"mixed_float16\">\n",
            "block2a_expand_activation False <Policy \"mixed_float16\">\n",
            "block2a_dwconv_pad False <Policy \"mixed_float16\">\n",
            "block2a_dwconv False <Policy \"mixed_float16\">\n",
            "block2a_bn False <Policy \"mixed_float16\">\n",
            "block2a_activation False <Policy \"mixed_float16\">\n",
            "block2a_se_squeeze False <Policy \"mixed_float16\">\n",
            "block2a_se_reshape False <Policy \"mixed_float16\">\n",
            "block2a_se_reduce False <Policy \"mixed_float16\">\n",
            "block2a_se_expand False <Policy \"mixed_float16\">\n",
            "block2a_se_excite False <Policy \"mixed_float16\">\n",
            "block2a_project_conv False <Policy \"mixed_float16\">\n",
            "block2a_project_bn False <Policy \"mixed_float16\">\n",
            "block2b_expand_conv False <Policy \"mixed_float16\">\n",
            "block2b_expand_bn False <Policy \"mixed_float16\">\n",
            "block2b_expand_activation False <Policy \"mixed_float16\">\n",
            "block2b_dwconv False <Policy \"mixed_float16\">\n",
            "block2b_bn False <Policy \"mixed_float16\">\n",
            "block2b_activation False <Policy \"mixed_float16\">\n",
            "block2b_se_squeeze False <Policy \"mixed_float16\">\n",
            "block2b_se_reshape False <Policy \"mixed_float16\">\n",
            "block2b_se_reduce False <Policy \"mixed_float16\">\n",
            "block2b_se_expand False <Policy \"mixed_float16\">\n",
            "block2b_se_excite False <Policy \"mixed_float16\">\n",
            "block2b_project_conv False <Policy \"mixed_float16\">\n",
            "block2b_project_bn False <Policy \"mixed_float16\">\n",
            "block2b_drop False <Policy \"mixed_float16\">\n",
            "block2b_add False <Policy \"mixed_float16\">\n",
            "block2c_expand_conv False <Policy \"mixed_float16\">\n",
            "block2c_expand_bn False <Policy \"mixed_float16\">\n",
            "block2c_expand_activation False <Policy \"mixed_float16\">\n",
            "block2c_dwconv False <Policy \"mixed_float16\">\n",
            "block2c_bn False <Policy \"mixed_float16\">\n",
            "block2c_activation False <Policy \"mixed_float16\">\n",
            "block2c_se_squeeze False <Policy \"mixed_float16\">\n",
            "block2c_se_reshape False <Policy \"mixed_float16\">\n",
            "block2c_se_reduce False <Policy \"mixed_float16\">\n",
            "block2c_se_expand False <Policy \"mixed_float16\">\n",
            "block2c_se_excite False <Policy \"mixed_float16\">\n",
            "block2c_project_conv False <Policy \"mixed_float16\">\n",
            "block2c_project_bn False <Policy \"mixed_float16\">\n",
            "block2c_drop False <Policy \"mixed_float16\">\n",
            "block2c_add False <Policy \"mixed_float16\">\n",
            "block3a_expand_conv False <Policy \"mixed_float16\">\n",
            "block3a_expand_bn False <Policy \"mixed_float16\">\n",
            "block3a_expand_activation False <Policy \"mixed_float16\">\n",
            "block3a_dwconv_pad False <Policy \"mixed_float16\">\n",
            "block3a_dwconv False <Policy \"mixed_float16\">\n",
            "block3a_bn False <Policy \"mixed_float16\">\n",
            "block3a_activation False <Policy \"mixed_float16\">\n",
            "block3a_se_squeeze False <Policy \"mixed_float16\">\n",
            "block3a_se_reshape False <Policy \"mixed_float16\">\n",
            "block3a_se_reduce False <Policy \"mixed_float16\">\n",
            "block3a_se_expand False <Policy \"mixed_float16\">\n",
            "block3a_se_excite False <Policy \"mixed_float16\">\n",
            "block3a_project_conv False <Policy \"mixed_float16\">\n",
            "block3a_project_bn False <Policy \"mixed_float16\">\n",
            "block3b_expand_conv False <Policy \"mixed_float16\">\n",
            "block3b_expand_bn False <Policy \"mixed_float16\">\n",
            "block3b_expand_activation False <Policy \"mixed_float16\">\n",
            "block3b_dwconv False <Policy \"mixed_float16\">\n",
            "block3b_bn False <Policy \"mixed_float16\">\n",
            "block3b_activation False <Policy \"mixed_float16\">\n",
            "block3b_se_squeeze False <Policy \"mixed_float16\">\n",
            "block3b_se_reshape False <Policy \"mixed_float16\">\n",
            "block3b_se_reduce False <Policy \"mixed_float16\">\n",
            "block3b_se_expand False <Policy \"mixed_float16\">\n",
            "block3b_se_excite False <Policy \"mixed_float16\">\n",
            "block3b_project_conv False <Policy \"mixed_float16\">\n",
            "block3b_project_bn False <Policy \"mixed_float16\">\n",
            "block3b_drop False <Policy \"mixed_float16\">\n",
            "block3b_add False <Policy \"mixed_float16\">\n",
            "block3c_expand_conv False <Policy \"mixed_float16\">\n",
            "block3c_expand_bn False <Policy \"mixed_float16\">\n",
            "block3c_expand_activation False <Policy \"mixed_float16\">\n",
            "block3c_dwconv False <Policy \"mixed_float16\">\n",
            "block3c_bn False <Policy \"mixed_float16\">\n",
            "block3c_activation False <Policy \"mixed_float16\">\n",
            "block3c_se_squeeze False <Policy \"mixed_float16\">\n",
            "block3c_se_reshape False <Policy \"mixed_float16\">\n",
            "block3c_se_reduce False <Policy \"mixed_float16\">\n",
            "block3c_se_expand False <Policy \"mixed_float16\">\n",
            "block3c_se_excite False <Policy \"mixed_float16\">\n",
            "block3c_project_conv False <Policy \"mixed_float16\">\n",
            "block3c_project_bn False <Policy \"mixed_float16\">\n",
            "block3c_drop False <Policy \"mixed_float16\">\n",
            "block3c_add False <Policy \"mixed_float16\">\n",
            "block4a_expand_conv False <Policy \"mixed_float16\">\n",
            "block4a_expand_bn False <Policy \"mixed_float16\">\n",
            "block4a_expand_activation False <Policy \"mixed_float16\">\n",
            "block4a_dwconv_pad False <Policy \"mixed_float16\">\n",
            "block4a_dwconv False <Policy \"mixed_float16\">\n",
            "block4a_bn False <Policy \"mixed_float16\">\n",
            "block4a_activation False <Policy \"mixed_float16\">\n",
            "block4a_se_squeeze False <Policy \"mixed_float16\">\n",
            "block4a_se_reshape False <Policy \"mixed_float16\">\n",
            "block4a_se_reduce False <Policy \"mixed_float16\">\n",
            "block4a_se_expand False <Policy \"mixed_float16\">\n",
            "block4a_se_excite False <Policy \"mixed_float16\">\n",
            "block4a_project_conv False <Policy \"mixed_float16\">\n",
            "block4a_project_bn False <Policy \"mixed_float16\">\n",
            "block4b_expand_conv False <Policy \"mixed_float16\">\n",
            "block4b_expand_bn False <Policy \"mixed_float16\">\n",
            "block4b_expand_activation False <Policy \"mixed_float16\">\n",
            "block4b_dwconv False <Policy \"mixed_float16\">\n",
            "block4b_bn False <Policy \"mixed_float16\">\n",
            "block4b_activation False <Policy \"mixed_float16\">\n",
            "block4b_se_squeeze False <Policy \"mixed_float16\">\n",
            "block4b_se_reshape False <Policy \"mixed_float16\">\n",
            "block4b_se_reduce False <Policy \"mixed_float16\">\n",
            "block4b_se_expand False <Policy \"mixed_float16\">\n",
            "block4b_se_excite False <Policy \"mixed_float16\">\n",
            "block4b_project_conv False <Policy \"mixed_float16\">\n",
            "block4b_project_bn False <Policy \"mixed_float16\">\n",
            "block4b_drop False <Policy \"mixed_float16\">\n",
            "block4b_add False <Policy \"mixed_float16\">\n",
            "block4c_expand_conv False <Policy \"mixed_float16\">\n",
            "block4c_expand_bn False <Policy \"mixed_float16\">\n",
            "block4c_expand_activation False <Policy \"mixed_float16\">\n",
            "block4c_dwconv False <Policy \"mixed_float16\">\n",
            "block4c_bn False <Policy \"mixed_float16\">\n",
            "block4c_activation False <Policy \"mixed_float16\">\n",
            "block4c_se_squeeze False <Policy \"mixed_float16\">\n",
            "block4c_se_reshape False <Policy \"mixed_float16\">\n",
            "block4c_se_reduce False <Policy \"mixed_float16\">\n",
            "block4c_se_expand False <Policy \"mixed_float16\">\n",
            "block4c_se_excite False <Policy \"mixed_float16\">\n",
            "block4c_project_conv False <Policy \"mixed_float16\">\n",
            "block4c_project_bn False <Policy \"mixed_float16\">\n",
            "block4c_drop False <Policy \"mixed_float16\">\n",
            "block4c_add False <Policy \"mixed_float16\">\n",
            "block4d_expand_conv False <Policy \"mixed_float16\">\n",
            "block4d_expand_bn False <Policy \"mixed_float16\">\n",
            "block4d_expand_activation False <Policy \"mixed_float16\">\n",
            "block4d_dwconv False <Policy \"mixed_float16\">\n",
            "block4d_bn False <Policy \"mixed_float16\">\n",
            "block4d_activation False <Policy \"mixed_float16\">\n",
            "block4d_se_squeeze False <Policy \"mixed_float16\">\n",
            "block4d_se_reshape False <Policy \"mixed_float16\">\n",
            "block4d_se_reduce False <Policy \"mixed_float16\">\n",
            "block4d_se_expand False <Policy \"mixed_float16\">\n",
            "block4d_se_excite False <Policy \"mixed_float16\">\n",
            "block4d_project_conv False <Policy \"mixed_float16\">\n",
            "block4d_project_bn False <Policy \"mixed_float16\">\n",
            "block4d_drop False <Policy \"mixed_float16\">\n",
            "block4d_add False <Policy \"mixed_float16\">\n",
            "block5a_expand_conv False <Policy \"mixed_float16\">\n",
            "block5a_expand_bn False <Policy \"mixed_float16\">\n",
            "block5a_expand_activation False <Policy \"mixed_float16\">\n",
            "block5a_dwconv False <Policy \"mixed_float16\">\n",
            "block5a_bn False <Policy \"mixed_float16\">\n",
            "block5a_activation False <Policy \"mixed_float16\">\n",
            "block5a_se_squeeze False <Policy \"mixed_float16\">\n",
            "block5a_se_reshape False <Policy \"mixed_float16\">\n",
            "block5a_se_reduce False <Policy \"mixed_float16\">\n",
            "block5a_se_expand False <Policy \"mixed_float16\">\n",
            "block5a_se_excite False <Policy \"mixed_float16\">\n",
            "block5a_project_conv False <Policy \"mixed_float16\">\n",
            "block5a_project_bn False <Policy \"mixed_float16\">\n",
            "block5b_expand_conv False <Policy \"mixed_float16\">\n",
            "block5b_expand_bn False <Policy \"mixed_float16\">\n",
            "block5b_expand_activation False <Policy \"mixed_float16\">\n",
            "block5b_dwconv False <Policy \"mixed_float16\">\n",
            "block5b_bn False <Policy \"mixed_float16\">\n",
            "block5b_activation False <Policy \"mixed_float16\">\n",
            "block5b_se_squeeze False <Policy \"mixed_float16\">\n",
            "block5b_se_reshape False <Policy \"mixed_float16\">\n",
            "block5b_se_reduce False <Policy \"mixed_float16\">\n",
            "block5b_se_expand False <Policy \"mixed_float16\">\n",
            "block5b_se_excite False <Policy \"mixed_float16\">\n",
            "block5b_project_conv False <Policy \"mixed_float16\">\n",
            "block5b_project_bn False <Policy \"mixed_float16\">\n",
            "block5b_drop False <Policy \"mixed_float16\">\n",
            "block5b_add False <Policy \"mixed_float16\">\n",
            "block5c_expand_conv False <Policy \"mixed_float16\">\n",
            "block5c_expand_bn False <Policy \"mixed_float16\">\n",
            "block5c_expand_activation False <Policy \"mixed_float16\">\n",
            "block5c_dwconv False <Policy \"mixed_float16\">\n",
            "block5c_bn False <Policy \"mixed_float16\">\n",
            "block5c_activation False <Policy \"mixed_float16\">\n",
            "block5c_se_squeeze False <Policy \"mixed_float16\">\n",
            "block5c_se_reshape False <Policy \"mixed_float16\">\n",
            "block5c_se_reduce False <Policy \"mixed_float16\">\n",
            "block5c_se_expand False <Policy \"mixed_float16\">\n",
            "block5c_se_excite False <Policy \"mixed_float16\">\n",
            "block5c_project_conv False <Policy \"mixed_float16\">\n",
            "block5c_project_bn False <Policy \"mixed_float16\">\n",
            "block5c_drop False <Policy \"mixed_float16\">\n",
            "block5c_add False <Policy \"mixed_float16\">\n",
            "block5d_expand_conv False <Policy \"mixed_float16\">\n",
            "block5d_expand_bn False <Policy \"mixed_float16\">\n",
            "block5d_expand_activation False <Policy \"mixed_float16\">\n",
            "block5d_dwconv False <Policy \"mixed_float16\">\n",
            "block5d_bn False <Policy \"mixed_float16\">\n",
            "block5d_activation False <Policy \"mixed_float16\">\n",
            "block5d_se_squeeze False <Policy \"mixed_float16\">\n",
            "block5d_se_reshape False <Policy \"mixed_float16\">\n",
            "block5d_se_reduce False <Policy \"mixed_float16\">\n",
            "block5d_se_expand False <Policy \"mixed_float16\">\n",
            "block5d_se_excite False <Policy \"mixed_float16\">\n",
            "block5d_project_conv False <Policy \"mixed_float16\">\n",
            "block5d_project_bn False <Policy \"mixed_float16\">\n",
            "block5d_drop False <Policy \"mixed_float16\">\n",
            "block5d_add False <Policy \"mixed_float16\">\n",
            "block6a_expand_conv False <Policy \"mixed_float16\">\n",
            "block6a_expand_bn False <Policy \"mixed_float16\">\n",
            "block6a_expand_activation False <Policy \"mixed_float16\">\n",
            "block6a_dwconv_pad False <Policy \"mixed_float16\">\n",
            "block6a_dwconv False <Policy \"mixed_float16\">\n",
            "block6a_bn False <Policy \"mixed_float16\">\n",
            "block6a_activation False <Policy \"mixed_float16\">\n",
            "block6a_se_squeeze False <Policy \"mixed_float16\">\n",
            "block6a_se_reshape False <Policy \"mixed_float16\">\n",
            "block6a_se_reduce False <Policy \"mixed_float16\">\n",
            "block6a_se_expand False <Policy \"mixed_float16\">\n",
            "block6a_se_excite False <Policy \"mixed_float16\">\n",
            "block6a_project_conv False <Policy \"mixed_float16\">\n",
            "block6a_project_bn False <Policy \"mixed_float16\">\n",
            "block6b_expand_conv False <Policy \"mixed_float16\">\n",
            "block6b_expand_bn False <Policy \"mixed_float16\">\n",
            "block6b_expand_activation False <Policy \"mixed_float16\">\n",
            "block6b_dwconv False <Policy \"mixed_float16\">\n",
            "block6b_bn False <Policy \"mixed_float16\">\n",
            "block6b_activation False <Policy \"mixed_float16\">\n",
            "block6b_se_squeeze False <Policy \"mixed_float16\">\n",
            "block6b_se_reshape False <Policy \"mixed_float16\">\n",
            "block6b_se_reduce False <Policy \"mixed_float16\">\n",
            "block6b_se_expand False <Policy \"mixed_float16\">\n",
            "block6b_se_excite False <Policy \"mixed_float16\">\n",
            "block6b_project_conv False <Policy \"mixed_float16\">\n",
            "block6b_project_bn False <Policy \"mixed_float16\">\n",
            "block6b_drop False <Policy \"mixed_float16\">\n",
            "block6b_add False <Policy \"mixed_float16\">\n",
            "block6c_expand_conv False <Policy \"mixed_float16\">\n",
            "block6c_expand_bn False <Policy \"mixed_float16\">\n",
            "block6c_expand_activation False <Policy \"mixed_float16\">\n",
            "block6c_dwconv False <Policy \"mixed_float16\">\n",
            "block6c_bn False <Policy \"mixed_float16\">\n",
            "block6c_activation False <Policy \"mixed_float16\">\n",
            "block6c_se_squeeze False <Policy \"mixed_float16\">\n",
            "block6c_se_reshape False <Policy \"mixed_float16\">\n",
            "block6c_se_reduce False <Policy \"mixed_float16\">\n",
            "block6c_se_expand False <Policy \"mixed_float16\">\n",
            "block6c_se_excite False <Policy \"mixed_float16\">\n",
            "block6c_project_conv False <Policy \"mixed_float16\">\n",
            "block6c_project_bn False <Policy \"mixed_float16\">\n",
            "block6c_drop False <Policy \"mixed_float16\">\n",
            "block6c_add False <Policy \"mixed_float16\">\n",
            "block6d_expand_conv False <Policy \"mixed_float16\">\n",
            "block6d_expand_bn False <Policy \"mixed_float16\">\n",
            "block6d_expand_activation False <Policy \"mixed_float16\">\n",
            "block6d_dwconv False <Policy \"mixed_float16\">\n",
            "block6d_bn False <Policy \"mixed_float16\">\n",
            "block6d_activation False <Policy \"mixed_float16\">\n",
            "block6d_se_squeeze False <Policy \"mixed_float16\">\n",
            "block6d_se_reshape False <Policy \"mixed_float16\">\n",
            "block6d_se_reduce False <Policy \"mixed_float16\">\n",
            "block6d_se_expand False <Policy \"mixed_float16\">\n",
            "block6d_se_excite False <Policy \"mixed_float16\">\n",
            "block6d_project_conv False <Policy \"mixed_float16\">\n",
            "block6d_project_bn False <Policy \"mixed_float16\">\n",
            "block6d_drop False <Policy \"mixed_float16\">\n",
            "block6d_add False <Policy \"mixed_float16\">\n",
            "block6e_expand_conv False <Policy \"mixed_float16\">\n",
            "block6e_expand_bn False <Policy \"mixed_float16\">\n",
            "block6e_expand_activation False <Policy \"mixed_float16\">\n",
            "block6e_dwconv False <Policy \"mixed_float16\">\n",
            "block6e_bn False <Policy \"mixed_float16\">\n",
            "block6e_activation False <Policy \"mixed_float16\">\n",
            "block6e_se_squeeze False <Policy \"mixed_float16\">\n",
            "block6e_se_reshape False <Policy \"mixed_float16\">\n",
            "block6e_se_reduce False <Policy \"mixed_float16\">\n",
            "block6e_se_expand False <Policy \"mixed_float16\">\n",
            "block6e_se_excite False <Policy \"mixed_float16\">\n",
            "block6e_project_conv False <Policy \"mixed_float16\">\n",
            "block6e_project_bn False <Policy \"mixed_float16\">\n",
            "block6e_drop False <Policy \"mixed_float16\">\n",
            "block6e_add False <Policy \"mixed_float16\">\n",
            "block7a_expand_conv False <Policy \"mixed_float16\">\n",
            "block7a_expand_bn False <Policy \"mixed_float16\">\n",
            "block7a_expand_activation False <Policy \"mixed_float16\">\n",
            "block7a_dwconv False <Policy \"mixed_float16\">\n",
            "block7a_bn False <Policy \"mixed_float16\">\n",
            "block7a_activation False <Policy \"mixed_float16\">\n",
            "block7a_se_squeeze False <Policy \"mixed_float16\">\n",
            "block7a_se_reshape False <Policy \"mixed_float16\">\n",
            "block7a_se_reduce False <Policy \"mixed_float16\">\n",
            "block7a_se_expand False <Policy \"mixed_float16\">\n",
            "block7a_se_excite False <Policy \"mixed_float16\">\n",
            "block7a_project_conv False <Policy \"mixed_float16\">\n",
            "block7a_project_bn False <Policy \"mixed_float16\">\n",
            "block7b_expand_conv False <Policy \"mixed_float16\">\n",
            "block7b_expand_bn False <Policy \"mixed_float16\">\n",
            "block7b_expand_activation False <Policy \"mixed_float16\">\n",
            "block7b_dwconv False <Policy \"mixed_float16\">\n",
            "block7b_bn False <Policy \"mixed_float16\">\n",
            "block7b_activation False <Policy \"mixed_float16\">\n",
            "block7b_se_squeeze False <Policy \"mixed_float16\">\n",
            "block7b_se_reshape False <Policy \"mixed_float16\">\n",
            "block7b_se_reduce False <Policy \"mixed_float16\">\n",
            "block7b_se_expand False <Policy \"mixed_float16\">\n",
            "block7b_se_excite False <Policy \"mixed_float16\">\n",
            "block7b_project_conv False <Policy \"mixed_float16\">\n",
            "block7b_project_bn True <Policy \"mixed_float16\">\n",
            "block7b_drop True <Policy \"mixed_float16\">\n",
            "block7b_add True <Policy \"mixed_float16\">\n",
            "top_conv True <Policy \"mixed_float16\">\n",
            "top_bn True <Policy \"mixed_float16\">\n",
            "top_activation True <Policy \"mixed_float16\">\n"
          ],
          "name": "stdout"
        }
      ]
    },
    {
      "cell_type": "code",
      "metadata": {
        "colab": {
          "base_uri": "https://localhost:8080/"
        },
        "id": "xSN5OFHunL0R",
        "outputId": "1862a820-c17e-417b-bd73-722043ad86da"
      },
      "source": [
        "history_fine_tune_model_2 = fine_tune_trainer(train_data , \n",
        "                                              test_data , \n",
        "                                              model_2 , \n",
        "                                              history_feature_model_2 , \n",
        "                                              num_fine_tune_epochs = 25 , \n",
        "                                              callbacks = [reduce_lr_plat])"
      ],
      "execution_count": null,
      "outputs": [
        {
          "output_type": "stream",
          "text": [
            "Epoch 4/28\n",
            "2368/2368 [==============================] - 182s 76ms/step - loss: 2.5624 - accuracy: 0.4298 - val_loss: 1.4117 - val_accuracy: 0.6613\n",
            "Epoch 5/28\n",
            "2368/2368 [==============================] - 179s 75ms/step - loss: 2.5290 - accuracy: 0.4337 - val_loss: 1.3842 - val_accuracy: 0.6597\n",
            "Epoch 6/28\n",
            "2368/2368 [==============================] - 180s 75ms/step - loss: 2.5130 - accuracy: 0.4391 - val_loss: 1.3753 - val_accuracy: 0.6660\n",
            "Epoch 7/28\n",
            "2368/2368 [==============================] - 178s 75ms/step - loss: 2.4920 - accuracy: 0.4408 - val_loss: 1.3476 - val_accuracy: 0.6690\n",
            "Epoch 8/28\n",
            "2368/2368 [==============================] - 178s 74ms/step - loss: 2.4976 - accuracy: 0.4414 - val_loss: 1.3541 - val_accuracy: 0.6692\n",
            "Epoch 9/28\n",
            "2368/2368 [==============================] - 178s 75ms/step - loss: 2.4825 - accuracy: 0.4446 - val_loss: 1.3428 - val_accuracy: 0.6713\n",
            "Epoch 10/28\n",
            "2368/2368 [==============================] - 179s 75ms/step - loss: 2.4649 - accuracy: 0.4484 - val_loss: 1.3304 - val_accuracy: 0.6692\n",
            "Epoch 11/28\n",
            "2368/2368 [==============================] - 177s 74ms/step - loss: 2.4638 - accuracy: 0.4468 - val_loss: 1.3391 - val_accuracy: 0.6706\n",
            "Epoch 12/28\n",
            "2368/2368 [==============================] - 176s 74ms/step - loss: 2.4599 - accuracy: 0.4486 - val_loss: 1.3234 - val_accuracy: 0.6729\n",
            "Epoch 13/28\n",
            "2368/2368 [==============================] - 176s 74ms/step - loss: 2.4499 - accuracy: 0.4515 - val_loss: 1.3227 - val_accuracy: 0.6737\n",
            "Epoch 14/28\n",
            "2368/2368 [==============================] - 176s 73ms/step - loss: 2.4406 - accuracy: 0.4506 - val_loss: 1.3078 - val_accuracy: 0.6753\n",
            "Epoch 15/28\n",
            "2368/2368 [==============================] - 176s 74ms/step - loss: 2.4417 - accuracy: 0.4513 - val_loss: 1.3136 - val_accuracy: 0.6740\n",
            "Epoch 16/28\n",
            "2368/2368 [==============================] - 174s 73ms/step - loss: 2.4290 - accuracy: 0.4546 - val_loss: 1.3290 - val_accuracy: 0.6637\n",
            "Epoch 17/28\n",
            "2368/2368 [==============================] - 174s 73ms/step - loss: 2.4338 - accuracy: 0.4529 - val_loss: 1.3258 - val_accuracy: 0.6668\n",
            "Epoch 18/28\n",
            "2368/2368 [==============================] - 173s 72ms/step - loss: 2.4109 - accuracy: 0.4585 - val_loss: 1.3019 - val_accuracy: 0.6772\n",
            "Epoch 19/28\n",
            "2368/2368 [==============================] - 174s 73ms/step - loss: 2.4259 - accuracy: 0.4566 - val_loss: 1.3147 - val_accuracy: 0.6586\n",
            "Epoch 20/28\n",
            "2368/2368 [==============================] - 174s 73ms/step - loss: 2.4271 - accuracy: 0.4548 - val_loss: 1.3217 - val_accuracy: 0.6623\n",
            "Epoch 22/28\n",
            "2368/2368 [==============================] - 177s 74ms/step - loss: 2.4355 - accuracy: 0.4536 - val_loss: 1.3211 - val_accuracy: 0.6698\n",
            "Epoch 23/28\n",
            "2368/2368 [==============================] - 174s 73ms/step - loss: 2.4199 - accuracy: 0.4566 - val_loss: 1.3236 - val_accuracy: 0.6650\n",
            "Epoch 24/28\n",
            "1787/2368 [=====================>........] - ETA: 40s - loss: 2.4141 - accuracy: 0.4559"
          ],
          "name": "stdout"
        }
      ]
    },
    {
      "cell_type": "code",
      "metadata": {
        "colab": {
          "base_uri": "https://localhost:8080/"
        },
        "id": "n7DxEs1Hn-op",
        "outputId": "aced49ef-61ba-48aa-f36d-dcad566b63cd"
      },
      "source": [
        "# Evaluate on the full test data \n",
        "results_fine_tuned_model_2 = model_2.evaluate(test_data)"
      ],
      "execution_count": null,
      "outputs": [
        {
          "output_type": "stream",
          "text": [
            "790/790 [==============================] - 45s 57ms/step - loss: 1.2959 - accuracy: 0.6548\n"
          ],
          "name": "stdout"
        }
      ]
    },
    {
      "cell_type": "code",
      "metadata": {
        "id": "Hl4uRQ4MubEC"
      },
      "source": [
        ""
      ],
      "execution_count": null,
      "outputs": []
    }
  ]
}
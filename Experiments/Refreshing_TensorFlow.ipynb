{
  "nbformat": 4,
  "nbformat_minor": 0,
  "metadata": {
    "accelerator": "GPU",
    "colab": {
      "name": "Refreshing_TensorFlow.ipynb",
      "provenance": [],
      "collapsed_sections": [],
      "include_colab_link": true
    },
    "kernelspec": {
      "display_name": "Python 3",
      "name": "python3"
    },
    "language_info": {
      "name": "python"
    },
    "widgets": {
      "application/vnd.jupyter.widget-state+json": {
        "cf7dc545dbf54139add39678d1dd18f9": {
          "model_module": "@jupyter-widgets/controls",
          "model_name": "HBoxModel",
          "state": {
            "_view_name": "HBoxView",
            "_dom_classes": [],
            "_model_name": "HBoxModel",
            "_view_module": "@jupyter-widgets/controls",
            "_model_module_version": "1.5.0",
            "_view_count": null,
            "_view_module_version": "1.5.0",
            "box_style": "",
            "layout": "IPY_MODEL_fdefad2c9c764f71b36db97467bdc5e3",
            "_model_module": "@jupyter-widgets/controls",
            "children": [
              "IPY_MODEL_665162f228f247f18efc7b0f6e2d7b1b",
              "IPY_MODEL_85545c7a097143c7b742a4ef9017f7fc"
            ]
          }
        },
        "fdefad2c9c764f71b36db97467bdc5e3": {
          "model_module": "@jupyter-widgets/base",
          "model_name": "LayoutModel",
          "state": {
            "_view_name": "LayoutView",
            "grid_template_rows": null,
            "right": null,
            "justify_content": null,
            "_view_module": "@jupyter-widgets/base",
            "overflow": null,
            "_model_module_version": "1.2.0",
            "_view_count": null,
            "flex_flow": null,
            "width": null,
            "min_width": null,
            "border": null,
            "align_items": null,
            "bottom": null,
            "_model_module": "@jupyter-widgets/base",
            "top": null,
            "grid_column": null,
            "overflow_y": null,
            "overflow_x": null,
            "grid_auto_flow": null,
            "grid_area": null,
            "grid_template_columns": null,
            "flex": null,
            "_model_name": "LayoutModel",
            "justify_items": null,
            "grid_row": null,
            "max_height": null,
            "align_content": null,
            "visibility": null,
            "align_self": null,
            "height": null,
            "min_height": null,
            "padding": null,
            "grid_auto_rows": null,
            "grid_gap": null,
            "max_width": null,
            "order": null,
            "_view_module_version": "1.2.0",
            "grid_template_areas": null,
            "object_position": null,
            "object_fit": null,
            "grid_auto_columns": null,
            "margin": null,
            "display": null,
            "left": null
          }
        },
        "665162f228f247f18efc7b0f6e2d7b1b": {
          "model_module": "@jupyter-widgets/controls",
          "model_name": "FloatProgressModel",
          "state": {
            "_view_name": "ProgressView",
            "style": "IPY_MODEL_355f41e2df5244e68e2544308341a7a1",
            "_dom_classes": [],
            "description": "Dl Completed...: 100%",
            "_model_name": "FloatProgressModel",
            "bar_style": "success",
            "max": 1,
            "_view_module": "@jupyter-widgets/controls",
            "_model_module_version": "1.5.0",
            "value": 1,
            "_view_count": null,
            "_view_module_version": "1.5.0",
            "orientation": "horizontal",
            "min": 0,
            "description_tooltip": null,
            "_model_module": "@jupyter-widgets/controls",
            "layout": "IPY_MODEL_32b4e2aa68404f3f9cc6e6321b1a5344"
          }
        },
        "85545c7a097143c7b742a4ef9017f7fc": {
          "model_module": "@jupyter-widgets/controls",
          "model_name": "HTMLModel",
          "state": {
            "_view_name": "HTMLView",
            "style": "IPY_MODEL_293612ed7b37477e81cf237486543825",
            "_dom_classes": [],
            "description": "",
            "_model_name": "HTMLModel",
            "placeholder": "​",
            "_view_module": "@jupyter-widgets/controls",
            "_model_module_version": "1.5.0",
            "value": " 1/1 [04:27&lt;00:00, 267.46s/ url]",
            "_view_count": null,
            "_view_module_version": "1.5.0",
            "description_tooltip": null,
            "_model_module": "@jupyter-widgets/controls",
            "layout": "IPY_MODEL_a254116a8f8e460f94fcc58d477ff5b2"
          }
        },
        "355f41e2df5244e68e2544308341a7a1": {
          "model_module": "@jupyter-widgets/controls",
          "model_name": "ProgressStyleModel",
          "state": {
            "_view_name": "StyleView",
            "_model_name": "ProgressStyleModel",
            "description_width": "initial",
            "_view_module": "@jupyter-widgets/base",
            "_model_module_version": "1.5.0",
            "_view_count": null,
            "_view_module_version": "1.2.0",
            "bar_color": null,
            "_model_module": "@jupyter-widgets/controls"
          }
        },
        "32b4e2aa68404f3f9cc6e6321b1a5344": {
          "model_module": "@jupyter-widgets/base",
          "model_name": "LayoutModel",
          "state": {
            "_view_name": "LayoutView",
            "grid_template_rows": null,
            "right": null,
            "justify_content": null,
            "_view_module": "@jupyter-widgets/base",
            "overflow": null,
            "_model_module_version": "1.2.0",
            "_view_count": null,
            "flex_flow": null,
            "width": null,
            "min_width": null,
            "border": null,
            "align_items": null,
            "bottom": null,
            "_model_module": "@jupyter-widgets/base",
            "top": null,
            "grid_column": null,
            "overflow_y": null,
            "overflow_x": null,
            "grid_auto_flow": null,
            "grid_area": null,
            "grid_template_columns": null,
            "flex": null,
            "_model_name": "LayoutModel",
            "justify_items": null,
            "grid_row": null,
            "max_height": null,
            "align_content": null,
            "visibility": null,
            "align_self": null,
            "height": null,
            "min_height": null,
            "padding": null,
            "grid_auto_rows": null,
            "grid_gap": null,
            "max_width": null,
            "order": null,
            "_view_module_version": "1.2.0",
            "grid_template_areas": null,
            "object_position": null,
            "object_fit": null,
            "grid_auto_columns": null,
            "margin": null,
            "display": null,
            "left": null
          }
        },
        "293612ed7b37477e81cf237486543825": {
          "model_module": "@jupyter-widgets/controls",
          "model_name": "DescriptionStyleModel",
          "state": {
            "_view_name": "StyleView",
            "_model_name": "DescriptionStyleModel",
            "description_width": "",
            "_view_module": "@jupyter-widgets/base",
            "_model_module_version": "1.5.0",
            "_view_count": null,
            "_view_module_version": "1.2.0",
            "_model_module": "@jupyter-widgets/controls"
          }
        },
        "a254116a8f8e460f94fcc58d477ff5b2": {
          "model_module": "@jupyter-widgets/base",
          "model_name": "LayoutModel",
          "state": {
            "_view_name": "LayoutView",
            "grid_template_rows": null,
            "right": null,
            "justify_content": null,
            "_view_module": "@jupyter-widgets/base",
            "overflow": null,
            "_model_module_version": "1.2.0",
            "_view_count": null,
            "flex_flow": null,
            "width": null,
            "min_width": null,
            "border": null,
            "align_items": null,
            "bottom": null,
            "_model_module": "@jupyter-widgets/base",
            "top": null,
            "grid_column": null,
            "overflow_y": null,
            "overflow_x": null,
            "grid_auto_flow": null,
            "grid_area": null,
            "grid_template_columns": null,
            "flex": null,
            "_model_name": "LayoutModel",
            "justify_items": null,
            "grid_row": null,
            "max_height": null,
            "align_content": null,
            "visibility": null,
            "align_self": null,
            "height": null,
            "min_height": null,
            "padding": null,
            "grid_auto_rows": null,
            "grid_gap": null,
            "max_width": null,
            "order": null,
            "_view_module_version": "1.2.0",
            "grid_template_areas": null,
            "object_position": null,
            "object_fit": null,
            "grid_auto_columns": null,
            "margin": null,
            "display": null,
            "left": null
          }
        },
        "8a17ea6f6911499f9f3745167b53cb28": {
          "model_module": "@jupyter-widgets/controls",
          "model_name": "HBoxModel",
          "state": {
            "_view_name": "HBoxView",
            "_dom_classes": [],
            "_model_name": "HBoxModel",
            "_view_module": "@jupyter-widgets/controls",
            "_model_module_version": "1.5.0",
            "_view_count": null,
            "_view_module_version": "1.5.0",
            "box_style": "",
            "layout": "IPY_MODEL_d5b82ecb938c47199e4ce92de9f2e6a0",
            "_model_module": "@jupyter-widgets/controls",
            "children": [
              "IPY_MODEL_53a379367cff4badb2ac5c27a5167b06",
              "IPY_MODEL_817bf17c161e4d45a715d00f4171f80e"
            ]
          }
        },
        "d5b82ecb938c47199e4ce92de9f2e6a0": {
          "model_module": "@jupyter-widgets/base",
          "model_name": "LayoutModel",
          "state": {
            "_view_name": "LayoutView",
            "grid_template_rows": null,
            "right": null,
            "justify_content": null,
            "_view_module": "@jupyter-widgets/base",
            "overflow": null,
            "_model_module_version": "1.2.0",
            "_view_count": null,
            "flex_flow": null,
            "width": null,
            "min_width": null,
            "border": null,
            "align_items": null,
            "bottom": null,
            "_model_module": "@jupyter-widgets/base",
            "top": null,
            "grid_column": null,
            "overflow_y": null,
            "overflow_x": null,
            "grid_auto_flow": null,
            "grid_area": null,
            "grid_template_columns": null,
            "flex": null,
            "_model_name": "LayoutModel",
            "justify_items": null,
            "grid_row": null,
            "max_height": null,
            "align_content": null,
            "visibility": null,
            "align_self": null,
            "height": null,
            "min_height": null,
            "padding": null,
            "grid_auto_rows": null,
            "grid_gap": null,
            "max_width": null,
            "order": null,
            "_view_module_version": "1.2.0",
            "grid_template_areas": null,
            "object_position": null,
            "object_fit": null,
            "grid_auto_columns": null,
            "margin": null,
            "display": null,
            "left": null
          }
        },
        "53a379367cff4badb2ac5c27a5167b06": {
          "model_module": "@jupyter-widgets/controls",
          "model_name": "FloatProgressModel",
          "state": {
            "_view_name": "ProgressView",
            "style": "IPY_MODEL_60e52213669b43d4a438d3e8591b178f",
            "_dom_classes": [],
            "description": "Dl Size...: 100%",
            "_model_name": "FloatProgressModel",
            "bar_style": "success",
            "max": 1,
            "_view_module": "@jupyter-widgets/controls",
            "_model_module_version": "1.5.0",
            "value": 1,
            "_view_count": null,
            "_view_module_version": "1.5.0",
            "orientation": "horizontal",
            "min": 0,
            "description_tooltip": null,
            "_model_module": "@jupyter-widgets/controls",
            "layout": "IPY_MODEL_960ae8de3b694d429384b49afbcb699a"
          }
        },
        "817bf17c161e4d45a715d00f4171f80e": {
          "model_module": "@jupyter-widgets/controls",
          "model_name": "HTMLModel",
          "state": {
            "_view_name": "HTMLView",
            "style": "IPY_MODEL_91a209a01a2b449e8ff5e15bd9a6bf1b",
            "_dom_classes": [],
            "description": "",
            "_model_name": "HTMLModel",
            "placeholder": "​",
            "_view_module": "@jupyter-widgets/controls",
            "_model_module_version": "1.5.0",
            "value": " 4764/4764 [04:27&lt;00:00, 17.81 MiB/s]",
            "_view_count": null,
            "_view_module_version": "1.5.0",
            "description_tooltip": null,
            "_model_module": "@jupyter-widgets/controls",
            "layout": "IPY_MODEL_7da7cdb342e742fab75d4c01f6ec29f4"
          }
        },
        "60e52213669b43d4a438d3e8591b178f": {
          "model_module": "@jupyter-widgets/controls",
          "model_name": "ProgressStyleModel",
          "state": {
            "_view_name": "StyleView",
            "_model_name": "ProgressStyleModel",
            "description_width": "initial",
            "_view_module": "@jupyter-widgets/base",
            "_model_module_version": "1.5.0",
            "_view_count": null,
            "_view_module_version": "1.2.0",
            "bar_color": null,
            "_model_module": "@jupyter-widgets/controls"
          }
        },
        "960ae8de3b694d429384b49afbcb699a": {
          "model_module": "@jupyter-widgets/base",
          "model_name": "LayoutModel",
          "state": {
            "_view_name": "LayoutView",
            "grid_template_rows": null,
            "right": null,
            "justify_content": null,
            "_view_module": "@jupyter-widgets/base",
            "overflow": null,
            "_model_module_version": "1.2.0",
            "_view_count": null,
            "flex_flow": null,
            "width": null,
            "min_width": null,
            "border": null,
            "align_items": null,
            "bottom": null,
            "_model_module": "@jupyter-widgets/base",
            "top": null,
            "grid_column": null,
            "overflow_y": null,
            "overflow_x": null,
            "grid_auto_flow": null,
            "grid_area": null,
            "grid_template_columns": null,
            "flex": null,
            "_model_name": "LayoutModel",
            "justify_items": null,
            "grid_row": null,
            "max_height": null,
            "align_content": null,
            "visibility": null,
            "align_self": null,
            "height": null,
            "min_height": null,
            "padding": null,
            "grid_auto_rows": null,
            "grid_gap": null,
            "max_width": null,
            "order": null,
            "_view_module_version": "1.2.0",
            "grid_template_areas": null,
            "object_position": null,
            "object_fit": null,
            "grid_auto_columns": null,
            "margin": null,
            "display": null,
            "left": null
          }
        },
        "91a209a01a2b449e8ff5e15bd9a6bf1b": {
          "model_module": "@jupyter-widgets/controls",
          "model_name": "DescriptionStyleModel",
          "state": {
            "_view_name": "StyleView",
            "_model_name": "DescriptionStyleModel",
            "description_width": "",
            "_view_module": "@jupyter-widgets/base",
            "_model_module_version": "1.5.0",
            "_view_count": null,
            "_view_module_version": "1.2.0",
            "_model_module": "@jupyter-widgets/controls"
          }
        },
        "7da7cdb342e742fab75d4c01f6ec29f4": {
          "model_module": "@jupyter-widgets/base",
          "model_name": "LayoutModel",
          "state": {
            "_view_name": "LayoutView",
            "grid_template_rows": null,
            "right": null,
            "justify_content": null,
            "_view_module": "@jupyter-widgets/base",
            "overflow": null,
            "_model_module_version": "1.2.0",
            "_view_count": null,
            "flex_flow": null,
            "width": null,
            "min_width": null,
            "border": null,
            "align_items": null,
            "bottom": null,
            "_model_module": "@jupyter-widgets/base",
            "top": null,
            "grid_column": null,
            "overflow_y": null,
            "overflow_x": null,
            "grid_auto_flow": null,
            "grid_area": null,
            "grid_template_columns": null,
            "flex": null,
            "_model_name": "LayoutModel",
            "justify_items": null,
            "grid_row": null,
            "max_height": null,
            "align_content": null,
            "visibility": null,
            "align_self": null,
            "height": null,
            "min_height": null,
            "padding": null,
            "grid_auto_rows": null,
            "grid_gap": null,
            "max_width": null,
            "order": null,
            "_view_module_version": "1.2.0",
            "grid_template_areas": null,
            "object_position": null,
            "object_fit": null,
            "grid_auto_columns": null,
            "margin": null,
            "display": null,
            "left": null
          }
        },
        "868644826e2543398d86605f81209506": {
          "model_module": "@jupyter-widgets/controls",
          "model_name": "HBoxModel",
          "state": {
            "_view_name": "HBoxView",
            "_dom_classes": [],
            "_model_name": "HBoxModel",
            "_view_module": "@jupyter-widgets/controls",
            "_model_module_version": "1.5.0",
            "_view_count": null,
            "_view_module_version": "1.5.0",
            "box_style": "",
            "layout": "IPY_MODEL_d0eb6350074a4161adb7cffe8533af43",
            "_model_module": "@jupyter-widgets/controls",
            "children": [
              "IPY_MODEL_4e38270b6f6d45719c17188a19dddea7",
              "IPY_MODEL_47a12b8dddf4400aa43ca6b506495974"
            ]
          }
        },
        "d0eb6350074a4161adb7cffe8533af43": {
          "model_module": "@jupyter-widgets/base",
          "model_name": "LayoutModel",
          "state": {
            "_view_name": "LayoutView",
            "grid_template_rows": null,
            "right": null,
            "justify_content": null,
            "_view_module": "@jupyter-widgets/base",
            "overflow": null,
            "_model_module_version": "1.2.0",
            "_view_count": null,
            "flex_flow": null,
            "width": null,
            "min_width": null,
            "border": null,
            "align_items": null,
            "bottom": null,
            "_model_module": "@jupyter-widgets/base",
            "top": null,
            "grid_column": null,
            "overflow_y": null,
            "overflow_x": null,
            "grid_auto_flow": null,
            "grid_area": null,
            "grid_template_columns": null,
            "flex": null,
            "_model_name": "LayoutModel",
            "justify_items": null,
            "grid_row": null,
            "max_height": null,
            "align_content": null,
            "visibility": null,
            "align_self": null,
            "height": null,
            "min_height": null,
            "padding": null,
            "grid_auto_rows": null,
            "grid_gap": null,
            "max_width": null,
            "order": null,
            "_view_module_version": "1.2.0",
            "grid_template_areas": null,
            "object_position": null,
            "object_fit": null,
            "grid_auto_columns": null,
            "margin": null,
            "display": null,
            "left": null
          }
        },
        "4e38270b6f6d45719c17188a19dddea7": {
          "model_module": "@jupyter-widgets/controls",
          "model_name": "FloatProgressModel",
          "state": {
            "_view_name": "ProgressView",
            "style": "IPY_MODEL_396f013b4cc14c90a4325dbe7fcd93e0",
            "_dom_classes": [],
            "description": "Extraction completed...: 100%",
            "_model_name": "FloatProgressModel",
            "bar_style": "success",
            "max": 1,
            "_view_module": "@jupyter-widgets/controls",
            "_model_module_version": "1.5.0",
            "value": 1,
            "_view_count": null,
            "_view_module_version": "1.5.0",
            "orientation": "horizontal",
            "min": 0,
            "description_tooltip": null,
            "_model_module": "@jupyter-widgets/controls",
            "layout": "IPY_MODEL_9c7cfecd4096458eb0bd7c1167d60731"
          }
        },
        "47a12b8dddf4400aa43ca6b506495974": {
          "model_module": "@jupyter-widgets/controls",
          "model_name": "HTMLModel",
          "state": {
            "_view_name": "HTMLView",
            "style": "IPY_MODEL_14b6613bb0724ccd86ce07969c2744ec",
            "_dom_classes": [],
            "description": "",
            "_model_name": "HTMLModel",
            "placeholder": "​",
            "_view_module": "@jupyter-widgets/controls",
            "_model_module_version": "1.5.0",
            "value": " 1/1 [04:27&lt;00:00, 267.37s/ file]",
            "_view_count": null,
            "_view_module_version": "1.5.0",
            "description_tooltip": null,
            "_model_module": "@jupyter-widgets/controls",
            "layout": "IPY_MODEL_a5b6468176524a63aaad1db393304215"
          }
        },
        "396f013b4cc14c90a4325dbe7fcd93e0": {
          "model_module": "@jupyter-widgets/controls",
          "model_name": "ProgressStyleModel",
          "state": {
            "_view_name": "StyleView",
            "_model_name": "ProgressStyleModel",
            "description_width": "initial",
            "_view_module": "@jupyter-widgets/base",
            "_model_module_version": "1.5.0",
            "_view_count": null,
            "_view_module_version": "1.2.0",
            "bar_color": null,
            "_model_module": "@jupyter-widgets/controls"
          }
        },
        "9c7cfecd4096458eb0bd7c1167d60731": {
          "model_module": "@jupyter-widgets/base",
          "model_name": "LayoutModel",
          "state": {
            "_view_name": "LayoutView",
            "grid_template_rows": null,
            "right": null,
            "justify_content": null,
            "_view_module": "@jupyter-widgets/base",
            "overflow": null,
            "_model_module_version": "1.2.0",
            "_view_count": null,
            "flex_flow": null,
            "width": null,
            "min_width": null,
            "border": null,
            "align_items": null,
            "bottom": null,
            "_model_module": "@jupyter-widgets/base",
            "top": null,
            "grid_column": null,
            "overflow_y": null,
            "overflow_x": null,
            "grid_auto_flow": null,
            "grid_area": null,
            "grid_template_columns": null,
            "flex": null,
            "_model_name": "LayoutModel",
            "justify_items": null,
            "grid_row": null,
            "max_height": null,
            "align_content": null,
            "visibility": null,
            "align_self": null,
            "height": null,
            "min_height": null,
            "padding": null,
            "grid_auto_rows": null,
            "grid_gap": null,
            "max_width": null,
            "order": null,
            "_view_module_version": "1.2.0",
            "grid_template_areas": null,
            "object_position": null,
            "object_fit": null,
            "grid_auto_columns": null,
            "margin": null,
            "display": null,
            "left": null
          }
        },
        "14b6613bb0724ccd86ce07969c2744ec": {
          "model_module": "@jupyter-widgets/controls",
          "model_name": "DescriptionStyleModel",
          "state": {
            "_view_name": "StyleView",
            "_model_name": "DescriptionStyleModel",
            "description_width": "",
            "_view_module": "@jupyter-widgets/base",
            "_model_module_version": "1.5.0",
            "_view_count": null,
            "_view_module_version": "1.2.0",
            "_model_module": "@jupyter-widgets/controls"
          }
        },
        "a5b6468176524a63aaad1db393304215": {
          "model_module": "@jupyter-widgets/base",
          "model_name": "LayoutModel",
          "state": {
            "_view_name": "LayoutView",
            "grid_template_rows": null,
            "right": null,
            "justify_content": null,
            "_view_module": "@jupyter-widgets/base",
            "overflow": null,
            "_model_module_version": "1.2.0",
            "_view_count": null,
            "flex_flow": null,
            "width": null,
            "min_width": null,
            "border": null,
            "align_items": null,
            "bottom": null,
            "_model_module": "@jupyter-widgets/base",
            "top": null,
            "grid_column": null,
            "overflow_y": null,
            "overflow_x": null,
            "grid_auto_flow": null,
            "grid_area": null,
            "grid_template_columns": null,
            "flex": null,
            "_model_name": "LayoutModel",
            "justify_items": null,
            "grid_row": null,
            "max_height": null,
            "align_content": null,
            "visibility": null,
            "align_self": null,
            "height": null,
            "min_height": null,
            "padding": null,
            "grid_auto_rows": null,
            "grid_gap": null,
            "max_width": null,
            "order": null,
            "_view_module_version": "1.2.0",
            "grid_template_areas": null,
            "object_position": null,
            "object_fit": null,
            "grid_auto_columns": null,
            "margin": null,
            "display": null,
            "left": null
          }
        },
        "e46ef11e03b7429c94289d9fa1bab509": {
          "model_module": "@jupyter-widgets/controls",
          "model_name": "HBoxModel",
          "state": {
            "_view_name": "HBoxView",
            "_dom_classes": [],
            "_model_name": "HBoxModel",
            "_view_module": "@jupyter-widgets/controls",
            "_model_module_version": "1.5.0",
            "_view_count": null,
            "_view_module_version": "1.5.0",
            "box_style": "",
            "layout": "IPY_MODEL_170da865a39c46adab63fafef051b14c",
            "_model_module": "@jupyter-widgets/controls",
            "children": [
              "IPY_MODEL_8f733cde74464c6e9a6ad0525d255ab0",
              "IPY_MODEL_e7a348d49d964cda9b6cc3077a4d7a32"
            ]
          }
        },
        "170da865a39c46adab63fafef051b14c": {
          "model_module": "@jupyter-widgets/base",
          "model_name": "LayoutModel",
          "state": {
            "_view_name": "LayoutView",
            "grid_template_rows": null,
            "right": null,
            "justify_content": null,
            "_view_module": "@jupyter-widgets/base",
            "overflow": null,
            "_model_module_version": "1.2.0",
            "_view_count": null,
            "flex_flow": null,
            "width": null,
            "min_width": null,
            "border": null,
            "align_items": null,
            "bottom": null,
            "_model_module": "@jupyter-widgets/base",
            "top": null,
            "grid_column": null,
            "overflow_y": null,
            "overflow_x": null,
            "grid_auto_flow": null,
            "grid_area": null,
            "grid_template_columns": null,
            "flex": null,
            "_model_name": "LayoutModel",
            "justify_items": null,
            "grid_row": null,
            "max_height": null,
            "align_content": null,
            "visibility": null,
            "align_self": null,
            "height": null,
            "min_height": null,
            "padding": null,
            "grid_auto_rows": null,
            "grid_gap": null,
            "max_width": null,
            "order": null,
            "_view_module_version": "1.2.0",
            "grid_template_areas": null,
            "object_position": null,
            "object_fit": null,
            "grid_auto_columns": null,
            "margin": null,
            "display": null,
            "left": null
          }
        },
        "8f733cde74464c6e9a6ad0525d255ab0": {
          "model_module": "@jupyter-widgets/controls",
          "model_name": "FloatProgressModel",
          "state": {
            "_view_name": "ProgressView",
            "style": "IPY_MODEL_47bd63a305254a7786fc5ad569cb2ab4",
            "_dom_classes": [],
            "description": "",
            "_model_name": "FloatProgressModel",
            "bar_style": "info",
            "max": 1,
            "_view_module": "@jupyter-widgets/controls",
            "_model_module_version": "1.5.0",
            "value": 1,
            "_view_count": null,
            "_view_module_version": "1.5.0",
            "orientation": "horizontal",
            "min": 0,
            "description_tooltip": null,
            "_model_module": "@jupyter-widgets/controls",
            "layout": "IPY_MODEL_15e77c071b8e407ab4d92ca5c41b82a1"
          }
        },
        "e7a348d49d964cda9b6cc3077a4d7a32": {
          "model_module": "@jupyter-widgets/controls",
          "model_name": "HTMLModel",
          "state": {
            "_view_name": "HTMLView",
            "style": "IPY_MODEL_0b8a5ca9d3234dd6a5381cdde3b219a9",
            "_dom_classes": [],
            "description": "",
            "_model_name": "HTMLModel",
            "placeholder": "​",
            "_view_module": "@jupyter-widgets/controls",
            "_model_module_version": "1.5.0",
            "value": " 75750/0 [01:52&lt;00:00, 628.21 examples/s]",
            "_view_count": null,
            "_view_module_version": "1.5.0",
            "description_tooltip": null,
            "_model_module": "@jupyter-widgets/controls",
            "layout": "IPY_MODEL_3aeb6297951a42b684bcccd2fcf41147"
          }
        },
        "47bd63a305254a7786fc5ad569cb2ab4": {
          "model_module": "@jupyter-widgets/controls",
          "model_name": "ProgressStyleModel",
          "state": {
            "_view_name": "StyleView",
            "_model_name": "ProgressStyleModel",
            "description_width": "initial",
            "_view_module": "@jupyter-widgets/base",
            "_model_module_version": "1.5.0",
            "_view_count": null,
            "_view_module_version": "1.2.0",
            "bar_color": null,
            "_model_module": "@jupyter-widgets/controls"
          }
        },
        "15e77c071b8e407ab4d92ca5c41b82a1": {
          "model_module": "@jupyter-widgets/base",
          "model_name": "LayoutModel",
          "state": {
            "_view_name": "LayoutView",
            "grid_template_rows": null,
            "right": null,
            "justify_content": null,
            "_view_module": "@jupyter-widgets/base",
            "overflow": null,
            "_model_module_version": "1.2.0",
            "_view_count": null,
            "flex_flow": null,
            "width": null,
            "min_width": null,
            "border": null,
            "align_items": null,
            "bottom": null,
            "_model_module": "@jupyter-widgets/base",
            "top": null,
            "grid_column": null,
            "overflow_y": null,
            "overflow_x": null,
            "grid_auto_flow": null,
            "grid_area": null,
            "grid_template_columns": null,
            "flex": null,
            "_model_name": "LayoutModel",
            "justify_items": null,
            "grid_row": null,
            "max_height": null,
            "align_content": null,
            "visibility": null,
            "align_self": null,
            "height": null,
            "min_height": null,
            "padding": null,
            "grid_auto_rows": null,
            "grid_gap": null,
            "max_width": null,
            "order": null,
            "_view_module_version": "1.2.0",
            "grid_template_areas": null,
            "object_position": null,
            "object_fit": null,
            "grid_auto_columns": null,
            "margin": null,
            "display": null,
            "left": null
          }
        },
        "0b8a5ca9d3234dd6a5381cdde3b219a9": {
          "model_module": "@jupyter-widgets/controls",
          "model_name": "DescriptionStyleModel",
          "state": {
            "_view_name": "StyleView",
            "_model_name": "DescriptionStyleModel",
            "description_width": "",
            "_view_module": "@jupyter-widgets/base",
            "_model_module_version": "1.5.0",
            "_view_count": null,
            "_view_module_version": "1.2.0",
            "_model_module": "@jupyter-widgets/controls"
          }
        },
        "3aeb6297951a42b684bcccd2fcf41147": {
          "model_module": "@jupyter-widgets/base",
          "model_name": "LayoutModel",
          "state": {
            "_view_name": "LayoutView",
            "grid_template_rows": null,
            "right": null,
            "justify_content": null,
            "_view_module": "@jupyter-widgets/base",
            "overflow": null,
            "_model_module_version": "1.2.0",
            "_view_count": null,
            "flex_flow": null,
            "width": null,
            "min_width": null,
            "border": null,
            "align_items": null,
            "bottom": null,
            "_model_module": "@jupyter-widgets/base",
            "top": null,
            "grid_column": null,
            "overflow_y": null,
            "overflow_x": null,
            "grid_auto_flow": null,
            "grid_area": null,
            "grid_template_columns": null,
            "flex": null,
            "_model_name": "LayoutModel",
            "justify_items": null,
            "grid_row": null,
            "max_height": null,
            "align_content": null,
            "visibility": null,
            "align_self": null,
            "height": null,
            "min_height": null,
            "padding": null,
            "grid_auto_rows": null,
            "grid_gap": null,
            "max_width": null,
            "order": null,
            "_view_module_version": "1.2.0",
            "grid_template_areas": null,
            "object_position": null,
            "object_fit": null,
            "grid_auto_columns": null,
            "margin": null,
            "display": null,
            "left": null
          }
        },
        "e7bf77eaa3d84848be3e535e74d4193f": {
          "model_module": "@jupyter-widgets/controls",
          "model_name": "HBoxModel",
          "state": {
            "_view_name": "HBoxView",
            "_dom_classes": [],
            "_model_name": "HBoxModel",
            "_view_module": "@jupyter-widgets/controls",
            "_model_module_version": "1.5.0",
            "_view_count": null,
            "_view_module_version": "1.5.0",
            "box_style": "",
            "layout": "IPY_MODEL_be05caf0a3ed4b7091d2c9ad93539db5",
            "_model_module": "@jupyter-widgets/controls",
            "children": [
              "IPY_MODEL_3f6ff85c4c3345f390bbff44447be17b",
              "IPY_MODEL_7d7f2276c2934341a1a9b25495351781"
            ]
          }
        },
        "be05caf0a3ed4b7091d2c9ad93539db5": {
          "model_module": "@jupyter-widgets/base",
          "model_name": "LayoutModel",
          "state": {
            "_view_name": "LayoutView",
            "grid_template_rows": null,
            "right": null,
            "justify_content": null,
            "_view_module": "@jupyter-widgets/base",
            "overflow": null,
            "_model_module_version": "1.2.0",
            "_view_count": null,
            "flex_flow": null,
            "width": null,
            "min_width": null,
            "border": null,
            "align_items": null,
            "bottom": null,
            "_model_module": "@jupyter-widgets/base",
            "top": null,
            "grid_column": null,
            "overflow_y": null,
            "overflow_x": null,
            "grid_auto_flow": null,
            "grid_area": null,
            "grid_template_columns": null,
            "flex": null,
            "_model_name": "LayoutModel",
            "justify_items": null,
            "grid_row": null,
            "max_height": null,
            "align_content": null,
            "visibility": null,
            "align_self": null,
            "height": null,
            "min_height": null,
            "padding": null,
            "grid_auto_rows": null,
            "grid_gap": null,
            "max_width": null,
            "order": null,
            "_view_module_version": "1.2.0",
            "grid_template_areas": null,
            "object_position": null,
            "object_fit": null,
            "grid_auto_columns": null,
            "margin": null,
            "display": null,
            "left": null
          }
        },
        "3f6ff85c4c3345f390bbff44447be17b": {
          "model_module": "@jupyter-widgets/controls",
          "model_name": "FloatProgressModel",
          "state": {
            "_view_name": "ProgressView",
            "style": "IPY_MODEL_712f25e6c43d42c7a3886d60694094fe",
            "_dom_classes": [],
            "description": "100%",
            "_model_name": "FloatProgressModel",
            "bar_style": "danger",
            "max": 75750,
            "_view_module": "@jupyter-widgets/controls",
            "_model_module_version": "1.5.0",
            "value": 75660,
            "_view_count": null,
            "_view_module_version": "1.5.0",
            "orientation": "horizontal",
            "min": 0,
            "description_tooltip": null,
            "_model_module": "@jupyter-widgets/controls",
            "layout": "IPY_MODEL_8b269f12a51c421faef1b6dbc1536966"
          }
        },
        "7d7f2276c2934341a1a9b25495351781": {
          "model_module": "@jupyter-widgets/controls",
          "model_name": "HTMLModel",
          "state": {
            "_view_name": "HTMLView",
            "style": "IPY_MODEL_1c2d354feeb34795ab4d87d4d53d20e5",
            "_dom_classes": [],
            "description": "",
            "_model_name": "HTMLModel",
            "placeholder": "​",
            "_view_module": "@jupyter-widgets/controls",
            "_model_module_version": "1.5.0",
            "value": " 75660/75750 [01:40&lt;00:00, 837.66 examples/s]",
            "_view_count": null,
            "_view_module_version": "1.5.0",
            "description_tooltip": null,
            "_model_module": "@jupyter-widgets/controls",
            "layout": "IPY_MODEL_0d04167d37614843a79507c4d570d6af"
          }
        },
        "712f25e6c43d42c7a3886d60694094fe": {
          "model_module": "@jupyter-widgets/controls",
          "model_name": "ProgressStyleModel",
          "state": {
            "_view_name": "StyleView",
            "_model_name": "ProgressStyleModel",
            "description_width": "initial",
            "_view_module": "@jupyter-widgets/base",
            "_model_module_version": "1.5.0",
            "_view_count": null,
            "_view_module_version": "1.2.0",
            "bar_color": null,
            "_model_module": "@jupyter-widgets/controls"
          }
        },
        "8b269f12a51c421faef1b6dbc1536966": {
          "model_module": "@jupyter-widgets/base",
          "model_name": "LayoutModel",
          "state": {
            "_view_name": "LayoutView",
            "grid_template_rows": null,
            "right": null,
            "justify_content": null,
            "_view_module": "@jupyter-widgets/base",
            "overflow": null,
            "_model_module_version": "1.2.0",
            "_view_count": null,
            "flex_flow": null,
            "width": null,
            "min_width": null,
            "border": null,
            "align_items": null,
            "bottom": null,
            "_model_module": "@jupyter-widgets/base",
            "top": null,
            "grid_column": null,
            "overflow_y": null,
            "overflow_x": null,
            "grid_auto_flow": null,
            "grid_area": null,
            "grid_template_columns": null,
            "flex": null,
            "_model_name": "LayoutModel",
            "justify_items": null,
            "grid_row": null,
            "max_height": null,
            "align_content": null,
            "visibility": null,
            "align_self": null,
            "height": null,
            "min_height": null,
            "padding": null,
            "grid_auto_rows": null,
            "grid_gap": null,
            "max_width": null,
            "order": null,
            "_view_module_version": "1.2.0",
            "grid_template_areas": null,
            "object_position": null,
            "object_fit": null,
            "grid_auto_columns": null,
            "margin": null,
            "display": null,
            "left": null
          }
        },
        "1c2d354feeb34795ab4d87d4d53d20e5": {
          "model_module": "@jupyter-widgets/controls",
          "model_name": "DescriptionStyleModel",
          "state": {
            "_view_name": "StyleView",
            "_model_name": "DescriptionStyleModel",
            "description_width": "",
            "_view_module": "@jupyter-widgets/base",
            "_model_module_version": "1.5.0",
            "_view_count": null,
            "_view_module_version": "1.2.0",
            "_model_module": "@jupyter-widgets/controls"
          }
        },
        "0d04167d37614843a79507c4d570d6af": {
          "model_module": "@jupyter-widgets/base",
          "model_name": "LayoutModel",
          "state": {
            "_view_name": "LayoutView",
            "grid_template_rows": null,
            "right": null,
            "justify_content": null,
            "_view_module": "@jupyter-widgets/base",
            "overflow": null,
            "_model_module_version": "1.2.0",
            "_view_count": null,
            "flex_flow": null,
            "width": null,
            "min_width": null,
            "border": null,
            "align_items": null,
            "bottom": null,
            "_model_module": "@jupyter-widgets/base",
            "top": null,
            "grid_column": null,
            "overflow_y": null,
            "overflow_x": null,
            "grid_auto_flow": null,
            "grid_area": null,
            "grid_template_columns": null,
            "flex": null,
            "_model_name": "LayoutModel",
            "justify_items": null,
            "grid_row": null,
            "max_height": null,
            "align_content": null,
            "visibility": null,
            "align_self": null,
            "height": null,
            "min_height": null,
            "padding": null,
            "grid_auto_rows": null,
            "grid_gap": null,
            "max_width": null,
            "order": null,
            "_view_module_version": "1.2.0",
            "grid_template_areas": null,
            "object_position": null,
            "object_fit": null,
            "grid_auto_columns": null,
            "margin": null,
            "display": null,
            "left": null
          }
        },
        "1ebfc9ebfc4440a98156ce430f116b89": {
          "model_module": "@jupyter-widgets/controls",
          "model_name": "HBoxModel",
          "state": {
            "_view_name": "HBoxView",
            "_dom_classes": [],
            "_model_name": "HBoxModel",
            "_view_module": "@jupyter-widgets/controls",
            "_model_module_version": "1.5.0",
            "_view_count": null,
            "_view_module_version": "1.5.0",
            "box_style": "",
            "layout": "IPY_MODEL_38a7708401b649618bb4f0ba03b69ea8",
            "_model_module": "@jupyter-widgets/controls",
            "children": [
              "IPY_MODEL_eacd8f8f8a6b473486269358e8ba1bb2",
              "IPY_MODEL_9aaf50f5d93a433f938dd1a568eb6491"
            ]
          }
        },
        "38a7708401b649618bb4f0ba03b69ea8": {
          "model_module": "@jupyter-widgets/base",
          "model_name": "LayoutModel",
          "state": {
            "_view_name": "LayoutView",
            "grid_template_rows": null,
            "right": null,
            "justify_content": null,
            "_view_module": "@jupyter-widgets/base",
            "overflow": null,
            "_model_module_version": "1.2.0",
            "_view_count": null,
            "flex_flow": null,
            "width": null,
            "min_width": null,
            "border": null,
            "align_items": null,
            "bottom": null,
            "_model_module": "@jupyter-widgets/base",
            "top": null,
            "grid_column": null,
            "overflow_y": null,
            "overflow_x": null,
            "grid_auto_flow": null,
            "grid_area": null,
            "grid_template_columns": null,
            "flex": null,
            "_model_name": "LayoutModel",
            "justify_items": null,
            "grid_row": null,
            "max_height": null,
            "align_content": null,
            "visibility": null,
            "align_self": null,
            "height": null,
            "min_height": null,
            "padding": null,
            "grid_auto_rows": null,
            "grid_gap": null,
            "max_width": null,
            "order": null,
            "_view_module_version": "1.2.0",
            "grid_template_areas": null,
            "object_position": null,
            "object_fit": null,
            "grid_auto_columns": null,
            "margin": null,
            "display": null,
            "left": null
          }
        },
        "eacd8f8f8a6b473486269358e8ba1bb2": {
          "model_module": "@jupyter-widgets/controls",
          "model_name": "FloatProgressModel",
          "state": {
            "_view_name": "ProgressView",
            "style": "IPY_MODEL_21ec6a45a3544bd3b33b5b1ac84816dc",
            "_dom_classes": [],
            "description": "",
            "_model_name": "FloatProgressModel",
            "bar_style": "info",
            "max": 1,
            "_view_module": "@jupyter-widgets/controls",
            "_model_module_version": "1.5.0",
            "value": 1,
            "_view_count": null,
            "_view_module_version": "1.5.0",
            "orientation": "horizontal",
            "min": 0,
            "description_tooltip": null,
            "_model_module": "@jupyter-widgets/controls",
            "layout": "IPY_MODEL_99034f625a504d5ba9d16062a39195a8"
          }
        },
        "9aaf50f5d93a433f938dd1a568eb6491": {
          "model_module": "@jupyter-widgets/controls",
          "model_name": "HTMLModel",
          "state": {
            "_view_name": "HTMLView",
            "style": "IPY_MODEL_d38fab18a6c0448d885de0b7a9be9552",
            "_dom_classes": [],
            "description": "",
            "_model_name": "HTMLModel",
            "placeholder": "​",
            "_view_module": "@jupyter-widgets/controls",
            "_model_module_version": "1.5.0",
            "value": " 25250/0 [00:52&lt;00:00, 509.11 examples/s]",
            "_view_count": null,
            "_view_module_version": "1.5.0",
            "description_tooltip": null,
            "_model_module": "@jupyter-widgets/controls",
            "layout": "IPY_MODEL_57759d04876849bf9133db693cb3f68e"
          }
        },
        "21ec6a45a3544bd3b33b5b1ac84816dc": {
          "model_module": "@jupyter-widgets/controls",
          "model_name": "ProgressStyleModel",
          "state": {
            "_view_name": "StyleView",
            "_model_name": "ProgressStyleModel",
            "description_width": "initial",
            "_view_module": "@jupyter-widgets/base",
            "_model_module_version": "1.5.0",
            "_view_count": null,
            "_view_module_version": "1.2.0",
            "bar_color": null,
            "_model_module": "@jupyter-widgets/controls"
          }
        },
        "99034f625a504d5ba9d16062a39195a8": {
          "model_module": "@jupyter-widgets/base",
          "model_name": "LayoutModel",
          "state": {
            "_view_name": "LayoutView",
            "grid_template_rows": null,
            "right": null,
            "justify_content": null,
            "_view_module": "@jupyter-widgets/base",
            "overflow": null,
            "_model_module_version": "1.2.0",
            "_view_count": null,
            "flex_flow": null,
            "width": null,
            "min_width": null,
            "border": null,
            "align_items": null,
            "bottom": null,
            "_model_module": "@jupyter-widgets/base",
            "top": null,
            "grid_column": null,
            "overflow_y": null,
            "overflow_x": null,
            "grid_auto_flow": null,
            "grid_area": null,
            "grid_template_columns": null,
            "flex": null,
            "_model_name": "LayoutModel",
            "justify_items": null,
            "grid_row": null,
            "max_height": null,
            "align_content": null,
            "visibility": null,
            "align_self": null,
            "height": null,
            "min_height": null,
            "padding": null,
            "grid_auto_rows": null,
            "grid_gap": null,
            "max_width": null,
            "order": null,
            "_view_module_version": "1.2.0",
            "grid_template_areas": null,
            "object_position": null,
            "object_fit": null,
            "grid_auto_columns": null,
            "margin": null,
            "display": null,
            "left": null
          }
        },
        "d38fab18a6c0448d885de0b7a9be9552": {
          "model_module": "@jupyter-widgets/controls",
          "model_name": "DescriptionStyleModel",
          "state": {
            "_view_name": "StyleView",
            "_model_name": "DescriptionStyleModel",
            "description_width": "",
            "_view_module": "@jupyter-widgets/base",
            "_model_module_version": "1.5.0",
            "_view_count": null,
            "_view_module_version": "1.2.0",
            "_model_module": "@jupyter-widgets/controls"
          }
        },
        "57759d04876849bf9133db693cb3f68e": {
          "model_module": "@jupyter-widgets/base",
          "model_name": "LayoutModel",
          "state": {
            "_view_name": "LayoutView",
            "grid_template_rows": null,
            "right": null,
            "justify_content": null,
            "_view_module": "@jupyter-widgets/base",
            "overflow": null,
            "_model_module_version": "1.2.0",
            "_view_count": null,
            "flex_flow": null,
            "width": null,
            "min_width": null,
            "border": null,
            "align_items": null,
            "bottom": null,
            "_model_module": "@jupyter-widgets/base",
            "top": null,
            "grid_column": null,
            "overflow_y": null,
            "overflow_x": null,
            "grid_auto_flow": null,
            "grid_area": null,
            "grid_template_columns": null,
            "flex": null,
            "_model_name": "LayoutModel",
            "justify_items": null,
            "grid_row": null,
            "max_height": null,
            "align_content": null,
            "visibility": null,
            "align_self": null,
            "height": null,
            "min_height": null,
            "padding": null,
            "grid_auto_rows": null,
            "grid_gap": null,
            "max_width": null,
            "order": null,
            "_view_module_version": "1.2.0",
            "grid_template_areas": null,
            "object_position": null,
            "object_fit": null,
            "grid_auto_columns": null,
            "margin": null,
            "display": null,
            "left": null
          }
        },
        "d5247a936a254d258aab44cc9a33aeb3": {
          "model_module": "@jupyter-widgets/controls",
          "model_name": "HBoxModel",
          "state": {
            "_view_name": "HBoxView",
            "_dom_classes": [],
            "_model_name": "HBoxModel",
            "_view_module": "@jupyter-widgets/controls",
            "_model_module_version": "1.5.0",
            "_view_count": null,
            "_view_module_version": "1.5.0",
            "box_style": "",
            "layout": "IPY_MODEL_257bcafdca8246fda421d4accb912752",
            "_model_module": "@jupyter-widgets/controls",
            "children": [
              "IPY_MODEL_eeb18fe8d34044788119d61d04f71ec7",
              "IPY_MODEL_86b2664d7839460ebb11d30bda2f62d1"
            ]
          }
        },
        "257bcafdca8246fda421d4accb912752": {
          "model_module": "@jupyter-widgets/base",
          "model_name": "LayoutModel",
          "state": {
            "_view_name": "LayoutView",
            "grid_template_rows": null,
            "right": null,
            "justify_content": null,
            "_view_module": "@jupyter-widgets/base",
            "overflow": null,
            "_model_module_version": "1.2.0",
            "_view_count": null,
            "flex_flow": null,
            "width": null,
            "min_width": null,
            "border": null,
            "align_items": null,
            "bottom": null,
            "_model_module": "@jupyter-widgets/base",
            "top": null,
            "grid_column": null,
            "overflow_y": null,
            "overflow_x": null,
            "grid_auto_flow": null,
            "grid_area": null,
            "grid_template_columns": null,
            "flex": null,
            "_model_name": "LayoutModel",
            "justify_items": null,
            "grid_row": null,
            "max_height": null,
            "align_content": null,
            "visibility": null,
            "align_self": null,
            "height": null,
            "min_height": null,
            "padding": null,
            "grid_auto_rows": null,
            "grid_gap": null,
            "max_width": null,
            "order": null,
            "_view_module_version": "1.2.0",
            "grid_template_areas": null,
            "object_position": null,
            "object_fit": null,
            "grid_auto_columns": null,
            "margin": null,
            "display": null,
            "left": null
          }
        },
        "eeb18fe8d34044788119d61d04f71ec7": {
          "model_module": "@jupyter-widgets/controls",
          "model_name": "FloatProgressModel",
          "state": {
            "_view_name": "ProgressView",
            "style": "IPY_MODEL_600e016912ea4b1cbb607e0253d715ea",
            "_dom_classes": [],
            "description": " 98%",
            "_model_name": "FloatProgressModel",
            "bar_style": "danger",
            "max": 25250,
            "_view_module": "@jupyter-widgets/controls",
            "_model_module_version": "1.5.0",
            "value": 24661,
            "_view_count": null,
            "_view_module_version": "1.5.0",
            "orientation": "horizontal",
            "min": 0,
            "description_tooltip": null,
            "_model_module": "@jupyter-widgets/controls",
            "layout": "IPY_MODEL_c7401a8765244b4191248058d5c28a68"
          }
        },
        "86b2664d7839460ebb11d30bda2f62d1": {
          "model_module": "@jupyter-widgets/controls",
          "model_name": "HTMLModel",
          "state": {
            "_view_name": "HTMLView",
            "style": "IPY_MODEL_e99d5226fa8443a2a60fbccd48ea1173",
            "_dom_classes": [],
            "description": "",
            "_model_name": "HTMLModel",
            "placeholder": "​",
            "_view_module": "@jupyter-widgets/controls",
            "_model_module_version": "1.5.0",
            "value": " 24661/25250 [00:40&lt;00:02, 212.64 examples/s]",
            "_view_count": null,
            "_view_module_version": "1.5.0",
            "description_tooltip": null,
            "_model_module": "@jupyter-widgets/controls",
            "layout": "IPY_MODEL_1ce03a4d935c4d96a9fa74585263e998"
          }
        },
        "600e016912ea4b1cbb607e0253d715ea": {
          "model_module": "@jupyter-widgets/controls",
          "model_name": "ProgressStyleModel",
          "state": {
            "_view_name": "StyleView",
            "_model_name": "ProgressStyleModel",
            "description_width": "initial",
            "_view_module": "@jupyter-widgets/base",
            "_model_module_version": "1.5.0",
            "_view_count": null,
            "_view_module_version": "1.2.0",
            "bar_color": null,
            "_model_module": "@jupyter-widgets/controls"
          }
        },
        "c7401a8765244b4191248058d5c28a68": {
          "model_module": "@jupyter-widgets/base",
          "model_name": "LayoutModel",
          "state": {
            "_view_name": "LayoutView",
            "grid_template_rows": null,
            "right": null,
            "justify_content": null,
            "_view_module": "@jupyter-widgets/base",
            "overflow": null,
            "_model_module_version": "1.2.0",
            "_view_count": null,
            "flex_flow": null,
            "width": null,
            "min_width": null,
            "border": null,
            "align_items": null,
            "bottom": null,
            "_model_module": "@jupyter-widgets/base",
            "top": null,
            "grid_column": null,
            "overflow_y": null,
            "overflow_x": null,
            "grid_auto_flow": null,
            "grid_area": null,
            "grid_template_columns": null,
            "flex": null,
            "_model_name": "LayoutModel",
            "justify_items": null,
            "grid_row": null,
            "max_height": null,
            "align_content": null,
            "visibility": null,
            "align_self": null,
            "height": null,
            "min_height": null,
            "padding": null,
            "grid_auto_rows": null,
            "grid_gap": null,
            "max_width": null,
            "order": null,
            "_view_module_version": "1.2.0",
            "grid_template_areas": null,
            "object_position": null,
            "object_fit": null,
            "grid_auto_columns": null,
            "margin": null,
            "display": null,
            "left": null
          }
        },
        "e99d5226fa8443a2a60fbccd48ea1173": {
          "model_module": "@jupyter-widgets/controls",
          "model_name": "DescriptionStyleModel",
          "state": {
            "_view_name": "StyleView",
            "_model_name": "DescriptionStyleModel",
            "description_width": "",
            "_view_module": "@jupyter-widgets/base",
            "_model_module_version": "1.5.0",
            "_view_count": null,
            "_view_module_version": "1.2.0",
            "_model_module": "@jupyter-widgets/controls"
          }
        },
        "1ce03a4d935c4d96a9fa74585263e998": {
          "model_module": "@jupyter-widgets/base",
          "model_name": "LayoutModel",
          "state": {
            "_view_name": "LayoutView",
            "grid_template_rows": null,
            "right": null,
            "justify_content": null,
            "_view_module": "@jupyter-widgets/base",
            "overflow": null,
            "_model_module_version": "1.2.0",
            "_view_count": null,
            "flex_flow": null,
            "width": null,
            "min_width": null,
            "border": null,
            "align_items": null,
            "bottom": null,
            "_model_module": "@jupyter-widgets/base",
            "top": null,
            "grid_column": null,
            "overflow_y": null,
            "overflow_x": null,
            "grid_auto_flow": null,
            "grid_area": null,
            "grid_template_columns": null,
            "flex": null,
            "_model_name": "LayoutModel",
            "justify_items": null,
            "grid_row": null,
            "max_height": null,
            "align_content": null,
            "visibility": null,
            "align_self": null,
            "height": null,
            "min_height": null,
            "padding": null,
            "grid_auto_rows": null,
            "grid_gap": null,
            "max_width": null,
            "order": null,
            "_view_module_version": "1.2.0",
            "grid_template_areas": null,
            "object_position": null,
            "object_fit": null,
            "grid_auto_columns": null,
            "margin": null,
            "display": null,
            "left": null
          }
        }
      }
    }
  },
  "cells": [
    {
      "cell_type": "markdown",
      "metadata": {
        "id": "view-in-github",
        "colab_type": "text"
      },
      "source": [
        "<a href=\"https://colab.research.google.com/github/ashikshafi08/Learning_Tensorflow/blob/main/Experiments/Refreshing_TensorFlow.ipynb\" target=\"_parent\"><img src=\"https://colab.research.google.com/assets/colab-badge.svg\" alt=\"Open In Colab\"/></a>"
      ]
    },
    {
      "cell_type": "code",
      "metadata": {
        "colab": {
          "base_uri": "https://localhost:8080/"
        },
        "id": "9FRR4-dUfrt5",
        "outputId": "db427320-e580-4ffd-b9d3-89405449fb2f"
      },
      "source": [
        "!nvidia-smi"
      ],
      "execution_count": 1,
      "outputs": [
        {
          "output_type": "stream",
          "text": [
            "Mon Apr 19 22:57:32 2021       \n",
            "+-----------------------------------------------------------------------------+\n",
            "| NVIDIA-SMI 460.67       Driver Version: 460.32.03    CUDA Version: 11.2     |\n",
            "|-------------------------------+----------------------+----------------------+\n",
            "| GPU  Name        Persistence-M| Bus-Id        Disp.A | Volatile Uncorr. ECC |\n",
            "| Fan  Temp  Perf  Pwr:Usage/Cap|         Memory-Usage | GPU-Util  Compute M. |\n",
            "|                               |                      |               MIG M. |\n",
            "|===============================+======================+======================|\n",
            "|   0  Tesla T4            Off  | 00000000:00:04.0 Off |                    0 |\n",
            "| N/A   37C    P8     9W /  70W |      0MiB / 15109MiB |      0%      Default |\n",
            "|                               |                      |                  N/A |\n",
            "+-------------------------------+----------------------+----------------------+\n",
            "                                                                               \n",
            "+-----------------------------------------------------------------------------+\n",
            "| Processes:                                                                  |\n",
            "|  GPU   GI   CI        PID   Type   Process name                  GPU Memory |\n",
            "|        ID   ID                                                   Usage      |\n",
            "|=============================================================================|\n",
            "|  No running processes found                                                 |\n",
            "+-----------------------------------------------------------------------------+\n"
          ],
          "name": "stdout"
        }
      ]
    },
    {
      "cell_type": "code",
      "metadata": {
        "id": "OP1TqU9egwMO"
      },
      "source": [
        "import tensorflow as tf\n",
        "import numpy as np \n",
        "import matplotlib.pyplot as plt"
      ],
      "execution_count": 2,
      "outputs": []
    },
    {
      "cell_type": "markdown",
      "metadata": {
        "id": "dEv30JqMf-e2"
      },
      "source": [
        "# Working Food101 Dataset"
      ]
    },
    {
      "cell_type": "code",
      "metadata": {
        "colab": {
          "base_uri": "https://localhost:8080/"
        },
        "id": "1oEJUEDcgrV1",
        "outputId": "af231ff0-af8e-490e-f161-e088ab695185"
      },
      "source": [
        "# Get helper functions file\n",
        "!wget https://raw.githubusercontent.com/mrdbourke/tensorflow-deep-learning/main/extras/helper_functions.py\n",
        "\n",
        "# Import series of helper functions for the notebook (we've created/used these in previous notebooks)\n",
        "from helper_functions import create_tensorboard_callback, plot_loss_curves, compare_historys"
      ],
      "execution_count": 3,
      "outputs": [
        {
          "output_type": "stream",
          "text": [
            "--2021-04-19 22:57:38--  https://raw.githubusercontent.com/mrdbourke/tensorflow-deep-learning/main/extras/helper_functions.py\n",
            "Resolving raw.githubusercontent.com (raw.githubusercontent.com)... 185.199.108.133, 185.199.110.133, 185.199.109.133, ...\n",
            "Connecting to raw.githubusercontent.com (raw.githubusercontent.com)|185.199.108.133|:443... connected.\n",
            "HTTP request sent, awaiting response... 200 OK\n",
            "Length: 10246 (10K) [text/plain]\n",
            "Saving to: ‘helper_functions.py’\n",
            "\n",
            "\rhelper_functions.py   0%[                    ]       0  --.-KB/s               \rhelper_functions.py 100%[===================>]  10.01K  --.-KB/s    in 0s      \n",
            "\n",
            "2021-04-19 22:57:38 (108 MB/s) - ‘helper_functions.py’ saved [10246/10246]\n",
            "\n"
          ],
          "name": "stdout"
        }
      ]
    },
    {
      "cell_type": "code",
      "metadata": {
        "colab": {
          "base_uri": "https://localhost:8080/"
        },
        "id": "zSMrYlBGgtX4",
        "outputId": "5fe25fb0-8a99-4789-e8e6-063c480bd236"
      },
      "source": [
        "# Get TensorFlow Datasets\n",
        "import tensorflow_datasets as tfds\n",
        "\n",
        "# List all the available datasets in tensorflow datasets\n",
        "datasets_list = tfds.list_builders()\n",
        "\n",
        "# Is our food101 dataset available? \n",
        "print('food101' in datasets_list)"
      ],
      "execution_count": 4,
      "outputs": [
        {
          "output_type": "stream",
          "text": [
            "True\n"
          ],
          "name": "stdout"
        }
      ]
    },
    {
      "cell_type": "code",
      "metadata": {
        "colab": {
          "base_uri": "https://localhost:8080/",
          "height": 347,
          "referenced_widgets": [
            "cf7dc545dbf54139add39678d1dd18f9",
            "fdefad2c9c764f71b36db97467bdc5e3",
            "665162f228f247f18efc7b0f6e2d7b1b",
            "85545c7a097143c7b742a4ef9017f7fc",
            "355f41e2df5244e68e2544308341a7a1",
            "32b4e2aa68404f3f9cc6e6321b1a5344",
            "293612ed7b37477e81cf237486543825",
            "a254116a8f8e460f94fcc58d477ff5b2",
            "8a17ea6f6911499f9f3745167b53cb28",
            "d5b82ecb938c47199e4ce92de9f2e6a0",
            "53a379367cff4badb2ac5c27a5167b06",
            "817bf17c161e4d45a715d00f4171f80e",
            "60e52213669b43d4a438d3e8591b178f",
            "960ae8de3b694d429384b49afbcb699a",
            "91a209a01a2b449e8ff5e15bd9a6bf1b",
            "7da7cdb342e742fab75d4c01f6ec29f4",
            "868644826e2543398d86605f81209506",
            "d0eb6350074a4161adb7cffe8533af43",
            "4e38270b6f6d45719c17188a19dddea7",
            "47a12b8dddf4400aa43ca6b506495974",
            "396f013b4cc14c90a4325dbe7fcd93e0",
            "9c7cfecd4096458eb0bd7c1167d60731",
            "14b6613bb0724ccd86ce07969c2744ec",
            "a5b6468176524a63aaad1db393304215",
            "e46ef11e03b7429c94289d9fa1bab509",
            "170da865a39c46adab63fafef051b14c",
            "8f733cde74464c6e9a6ad0525d255ab0",
            "e7a348d49d964cda9b6cc3077a4d7a32",
            "47bd63a305254a7786fc5ad569cb2ab4",
            "15e77c071b8e407ab4d92ca5c41b82a1",
            "0b8a5ca9d3234dd6a5381cdde3b219a9",
            "3aeb6297951a42b684bcccd2fcf41147",
            "e7bf77eaa3d84848be3e535e74d4193f",
            "be05caf0a3ed4b7091d2c9ad93539db5",
            "3f6ff85c4c3345f390bbff44447be17b",
            "7d7f2276c2934341a1a9b25495351781",
            "712f25e6c43d42c7a3886d60694094fe",
            "8b269f12a51c421faef1b6dbc1536966",
            "1c2d354feeb34795ab4d87d4d53d20e5",
            "0d04167d37614843a79507c4d570d6af",
            "1ebfc9ebfc4440a98156ce430f116b89",
            "38a7708401b649618bb4f0ba03b69ea8",
            "eacd8f8f8a6b473486269358e8ba1bb2",
            "9aaf50f5d93a433f938dd1a568eb6491",
            "21ec6a45a3544bd3b33b5b1ac84816dc",
            "99034f625a504d5ba9d16062a39195a8",
            "d38fab18a6c0448d885de0b7a9be9552",
            "57759d04876849bf9133db693cb3f68e",
            "d5247a936a254d258aab44cc9a33aeb3",
            "257bcafdca8246fda421d4accb912752",
            "eeb18fe8d34044788119d61d04f71ec7",
            "86b2664d7839460ebb11d30bda2f62d1",
            "600e016912ea4b1cbb607e0253d715ea",
            "c7401a8765244b4191248058d5c28a68",
            "e99d5226fa8443a2a60fbccd48ea1173",
            "1ce03a4d935c4d96a9fa74585263e998"
          ]
        },
        "id": "vOW35f41g6pi",
        "outputId": "30df5d20-a6bc-46b1-fc67-66f9ecc064f0"
      },
      "source": [
        "# Loading the food101 data for our use \n",
        "(train_data , test_data) , ds_info = tfds.load(name = 'food101' , \n",
        "                                               split = ['train' , 'validation'] , \n",
        "                                               shuffle_files = True , \n",
        "                                               as_supervised = True, # data in tuple format (image , label)\n",
        "                                                with_info = True) "
      ],
      "execution_count": 5,
      "outputs": [
        {
          "output_type": "stream",
          "text": [
            "\u001b[1mDownloading and preparing dataset food101/2.0.0 (download: 4.65 GiB, generated: Unknown size, total: 4.65 GiB) to /root/tensorflow_datasets/food101/2.0.0...\u001b[0m\n"
          ],
          "name": "stdout"
        },
        {
          "output_type": "display_data",
          "data": {
            "application/vnd.jupyter.widget-view+json": {
              "model_id": "cf7dc545dbf54139add39678d1dd18f9",
              "version_minor": 0,
              "version_major": 2
            },
            "text/plain": [
              "HBox(children=(FloatProgress(value=1.0, bar_style='info', description='Dl Completed...', max=1.0, style=Progre…"
            ]
          },
          "metadata": {
            "tags": []
          }
        },
        {
          "output_type": "display_data",
          "data": {
            "application/vnd.jupyter.widget-view+json": {
              "model_id": "8a17ea6f6911499f9f3745167b53cb28",
              "version_minor": 0,
              "version_major": 2
            },
            "text/plain": [
              "HBox(children=(FloatProgress(value=1.0, bar_style='info', description='Dl Size...', max=1.0, style=ProgressSty…"
            ]
          },
          "metadata": {
            "tags": []
          }
        },
        {
          "output_type": "display_data",
          "data": {
            "application/vnd.jupyter.widget-view+json": {
              "model_id": "868644826e2543398d86605f81209506",
              "version_minor": 0,
              "version_major": 2
            },
            "text/plain": [
              "HBox(children=(FloatProgress(value=1.0, bar_style='info', description='Extraction completed...', max=1.0, styl…"
            ]
          },
          "metadata": {
            "tags": []
          }
        },
        {
          "output_type": "stream",
          "text": [
            "\n",
            "\n",
            "\n",
            "\n",
            "\n",
            "\n"
          ],
          "name": "stdout"
        },
        {
          "output_type": "display_data",
          "data": {
            "application/vnd.jupyter.widget-view+json": {
              "model_id": "e46ef11e03b7429c94289d9fa1bab509",
              "version_minor": 0,
              "version_major": 2
            },
            "text/plain": [
              "HBox(children=(FloatProgress(value=1.0, bar_style='info', max=1.0), HTML(value='')))"
            ]
          },
          "metadata": {
            "tags": []
          }
        },
        {
          "output_type": "stream",
          "text": [
            "\rShuffling and writing examples to /root/tensorflow_datasets/food101/2.0.0.incompleteJJBUCR/food101-train.tfrecord\n"
          ],
          "name": "stdout"
        },
        {
          "output_type": "display_data",
          "data": {
            "application/vnd.jupyter.widget-view+json": {
              "model_id": "e7bf77eaa3d84848be3e535e74d4193f",
              "version_minor": 0,
              "version_major": 2
            },
            "text/plain": [
              "HBox(children=(FloatProgress(value=0.0, max=75750.0), HTML(value='')))"
            ]
          },
          "metadata": {
            "tags": []
          }
        },
        {
          "output_type": "display_data",
          "data": {
            "application/vnd.jupyter.widget-view+json": {
              "model_id": "1ebfc9ebfc4440a98156ce430f116b89",
              "version_minor": 0,
              "version_major": 2
            },
            "text/plain": [
              "HBox(children=(FloatProgress(value=1.0, bar_style='info', max=1.0), HTML(value='')))"
            ]
          },
          "metadata": {
            "tags": []
          }
        },
        {
          "output_type": "stream",
          "text": [
            "Shuffling and writing examples to /root/tensorflow_datasets/food101/2.0.0.incompleteJJBUCR/food101-validation.tfrecord\n"
          ],
          "name": "stdout"
        },
        {
          "output_type": "display_data",
          "data": {
            "application/vnd.jupyter.widget-view+json": {
              "model_id": "d5247a936a254d258aab44cc9a33aeb3",
              "version_minor": 0,
              "version_major": 2
            },
            "text/plain": [
              "HBox(children=(FloatProgress(value=0.0, max=25250.0), HTML(value='')))"
            ]
          },
          "metadata": {
            "tags": []
          }
        },
        {
          "output_type": "stream",
          "text": [
            "\u001b[1mDataset food101 downloaded and prepared to /root/tensorflow_datasets/food101/2.0.0. Subsequent calls will reuse this data.\u001b[0m\n"
          ],
          "name": "stdout"
        }
      ]
    },
    {
      "cell_type": "code",
      "metadata": {
        "colab": {
          "base_uri": "https://localhost:8080/"
        },
        "id": "3N54mpnhg8w5",
        "outputId": "20e0cce2-646c-4387-fe4a-4fca6107f99c"
      },
      "source": [
        "# Features of Food101 TFDS\n",
        "ds_info.features"
      ],
      "execution_count": 6,
      "outputs": [
        {
          "output_type": "execute_result",
          "data": {
            "text/plain": [
              "FeaturesDict({\n",
              "    'image': Image(shape=(None, None, 3), dtype=tf.uint8),\n",
              "    'label': ClassLabel(shape=(), dtype=tf.int64, num_classes=101),\n",
              "})"
            ]
          },
          "metadata": {
            "tags": []
          },
          "execution_count": 6
        }
      ]
    },
    {
      "cell_type": "code",
      "metadata": {
        "colab": {
          "base_uri": "https://localhost:8080/"
        },
        "id": "glDXiD6Wg_r4",
        "outputId": "d67ca83b-4fb3-4cc7-a5f0-b1c5c381cb72"
      },
      "source": [
        "# Getting the class names \n",
        "class_names = ds_info.features['label'].names\n",
        "print(class_names[:10]) # First 10 "
      ],
      "execution_count": 9,
      "outputs": [
        {
          "output_type": "stream",
          "text": [
            "['apple_pie', 'baby_back_ribs', 'baklava', 'beef_carpaccio', 'beef_tartare', 'beet_salad', 'beignets', 'bibimbap', 'bread_pudding', 'breakfast_burrito']\n"
          ],
          "name": "stdout"
        }
      ]
    },
    {
      "cell_type": "code",
      "metadata": {
        "colab": {
          "base_uri": "https://localhost:8080/"
        },
        "id": "WFcUAyOtg_v_",
        "outputId": "a243c935-0d7e-4ff8-e6c8-2bcbef122d62"
      },
      "source": [
        "# How many class names are there? \n",
        "len(class_names)"
      ],
      "execution_count": 10,
      "outputs": [
        {
          "output_type": "execute_result",
          "data": {
            "text/plain": [
              "101"
            ]
          },
          "metadata": {
            "tags": []
          },
          "execution_count": 10
        }
      ]
    },
    {
      "cell_type": "code",
      "metadata": {
        "id": "tXzifL9mg_12"
      },
      "source": [
        "# Take one sample from our train_data \n",
        "train_one_sample = train_data.take(1) # (image tensor , label)"
      ],
      "execution_count": 11,
      "outputs": []
    },
    {
      "cell_type": "code",
      "metadata": {
        "colab": {
          "base_uri": "https://localhost:8080/"
        },
        "id": "hszowKNUg_75",
        "outputId": "532f811e-0d31-4734-a12b-8e16e2549f8c"
      },
      "source": [
        "# What does one sample of our training data look like?\n",
        "train_one_sample"
      ],
      "execution_count": 12,
      "outputs": [
        {
          "output_type": "execute_result",
          "data": {
            "text/plain": [
              "<TakeDataset shapes: ((None, None, 3), ()), types: (tf.uint8, tf.int64)>"
            ]
          },
          "metadata": {
            "tags": []
          },
          "execution_count": 12
        }
      ]
    },
    {
      "cell_type": "code",
      "metadata": {
        "colab": {
          "base_uri": "https://localhost:8080/"
        },
        "id": "xOhTIYnEhHjB",
        "outputId": "a3e2ad54-5067-4a5f-bd8c-96f050a34418"
      },
      "source": [
        "# Output info about our training sample\n",
        "for image, label in train_one_sample:\n",
        "  print(f\"\"\"\n",
        "  Image shape: {image.shape}\n",
        "  Image dtype: {image.dtype}\n",
        "  Target class from Food101 (tensor form): {label}\n",
        "  Class name (str form): {class_names[label.numpy()]}\n",
        "        \"\"\")"
      ],
      "execution_count": 13,
      "outputs": [
        {
          "output_type": "stream",
          "text": [
            "\n",
            "  Image shape: (512, 512, 3)\n",
            "  Image dtype: <dtype: 'uint8'>\n",
            "  Target class from Food101 (tensor form): 16\n",
            "  Class name (str form): cheesecake\n",
            "        \n"
          ],
          "name": "stdout"
        }
      ]
    },
    {
      "cell_type": "code",
      "metadata": {
        "colab": {
          "base_uri": "https://localhost:8080/"
        },
        "id": "2kQlw_CphHmS",
        "outputId": "12f7d537-ca35-49e3-a955-daf39db28b25"
      },
      "source": [
        "# What does an image tensor from TFDS's Food101 look like?\n",
        "image"
      ],
      "execution_count": 14,
      "outputs": [
        {
          "output_type": "execute_result",
          "data": {
            "text/plain": [
              "<tf.Tensor: shape=(512, 512, 3), dtype=uint8, numpy=\n",
              "array([[[ 85,  84,  92],\n",
              "        [ 86,  85,  93],\n",
              "        [ 93,  92, 100],\n",
              "        ...,\n",
              "        [120, 196, 245],\n",
              "        [120, 198, 246],\n",
              "        [121, 199, 247]],\n",
              "\n",
              "       [[ 88,  88,  96],\n",
              "        [ 82,  82,  90],\n",
              "        [ 88,  88,  96],\n",
              "        ...,\n",
              "        [116, 192, 244],\n",
              "        [118, 195, 249],\n",
              "        [119, 196, 248]],\n",
              "\n",
              "       [[ 77,  80,  89],\n",
              "        [ 75,  78,  87],\n",
              "        [ 82,  86,  95],\n",
              "        ...,\n",
              "        [115, 189, 252],\n",
              "        [117, 192, 255],\n",
              "        [118, 194, 255]],\n",
              "\n",
              "       ...,\n",
              "\n",
              "       [[159, 166, 194],\n",
              "        [154, 161, 187],\n",
              "        [171, 178, 204],\n",
              "        ...,\n",
              "        [219, 216, 235],\n",
              "        [223, 220, 239],\n",
              "        [227, 226, 244]],\n",
              "\n",
              "       [[170, 179, 208],\n",
              "        [169, 179, 206],\n",
              "        [173, 183, 210],\n",
              "        ...,\n",
              "        [218, 217, 235],\n",
              "        [223, 222, 240],\n",
              "        [226, 227, 245]],\n",
              "\n",
              "       [[168, 177, 206],\n",
              "        [170, 179, 208],\n",
              "        [152, 162, 189],\n",
              "        ...,\n",
              "        [224, 223, 241],\n",
              "        [228, 229, 247],\n",
              "        [231, 232, 250]]], dtype=uint8)>"
            ]
          },
          "metadata": {
            "tags": []
          },
          "execution_count": 14
        }
      ]
    },
    {
      "cell_type": "code",
      "metadata": {
        "colab": {
          "base_uri": "https://localhost:8080/"
        },
        "id": "5uDcu9rQhHqJ",
        "outputId": "c25416d6-9977-4092-d7f3-cedad6257db4"
      },
      "source": [
        "# What are the min and max values?\n",
        "tf.reduce_min(image), tf.reduce_max(image)"
      ],
      "execution_count": 15,
      "outputs": [
        {
          "output_type": "execute_result",
          "data": {
            "text/plain": [
              "(<tf.Tensor: shape=(), dtype=uint8, numpy=0>,\n",
              " <tf.Tensor: shape=(), dtype=uint8, numpy=255>)"
            ]
          },
          "metadata": {
            "tags": []
          },
          "execution_count": 15
        }
      ]
    },
    {
      "cell_type": "code",
      "metadata": {
        "colab": {
          "base_uri": "https://localhost:8080/",
          "height": 281
        },
        "id": "GVbz9qadhHwY",
        "outputId": "316f0d1e-181f-4169-b6ca-f248d9b73324"
      },
      "source": [
        "# Plotting an image tensor \n",
        "import matplotlib.pyplot as plt \n",
        "plt.imshow(image)\n",
        "plt.title(f'The class is: {class_names[label.numpy()]}')\n",
        "plt.axis(False)"
      ],
      "execution_count": 16,
      "outputs": [
        {
          "output_type": "execute_result",
          "data": {
            "text/plain": [
              "(-0.5, 511.5, 511.5, -0.5)"
            ]
          },
          "metadata": {
            "tags": []
          },
          "execution_count": 16
        },
        {
          "output_type": "display_data",
          "data": {
            "image/png": "[encoded data removed]",
            "text/plain": [
              "<Figure size 432x288 with 1 Axes>"
            ]
          },
          "metadata": {
            "tags": [],
            "needs_background": "light"
          }
        }
      ]
    },
    {
      "cell_type": "code",
      "metadata": {
        "colab": {
          "base_uri": "https://localhost:8080/"
        },
        "id": "jUe7jMxEhH0E",
        "outputId": "a5b4dab1-c211-4772-fd9c-1b4e68b0b572"
      },
      "source": [
        "# Data type our tensor from tfds \n",
        "image.dtype"
      ],
      "execution_count": 17,
      "outputs": [
        {
          "output_type": "execute_result",
          "data": {
            "text/plain": [
              "tf.uint8"
            ]
          },
          "metadata": {
            "tags": []
          },
          "execution_count": 17
        }
      ]
    },
    {
      "cell_type": "code",
      "metadata": {
        "id": "SiHbIw84hH4b"
      },
      "source": [
        "# Making a preprocess function \n",
        "def preprocess_img(image , label , img_shape = 224):\n",
        "  '''\n",
        "  Converts image datatypes from 'uint8' to 'float32' \n",
        "  Reshapes image to (img_shape , img_shape , color_channels)\n",
        "  '''\n",
        "  image = tf.image.resize(image , size = [img_shape , img_shape]) # reshapes to [224 , 224]\n",
        "  return tf.cast(image , tf.float32) , label"
      ],
      "execution_count": 18,
      "outputs": []
    },
    {
      "cell_type": "code",
      "metadata": {
        "colab": {
          "base_uri": "https://localhost:8080/"
        },
        "id": "eTO2GJf-hH9N",
        "outputId": "789aacc6-5e8a-408d-e12b-3feb733aa81c"
      },
      "source": [
        "# Checking the output of the preprocessed image and normal image\n",
        "preprocessed_img = preprocess_img(image, label)[0]\n",
        "print(f\"Image before preprocessing:\\n {image[:2]}...,\\nShape: {image.shape},\\nDatatype: {image.dtype}\\n\")\n",
        "print(f\"Image after preprocessing:\\n {preprocessed_img[:2]}...,\\nShape: {preprocessed_img.shape},\\nDatatype: {preprocessed_img.dtype}\")"
      ],
      "execution_count": 19,
      "outputs": [
        {
          "output_type": "stream",
          "text": [
            "Image before preprocessing:\n",
            " [[[ 85  84  92]\n",
            "  [ 86  85  93]\n",
            "  [ 93  92 100]\n",
            "  ...\n",
            "  [120 196 245]\n",
            "  [120 198 246]\n",
            "  [121 199 247]]\n",
            "\n",
            " [[ 88  88  96]\n",
            "  [ 82  82  90]\n",
            "  [ 88  88  96]\n",
            "  ...\n",
            "  [116 192 244]\n",
            "  [118 195 249]\n",
            "  [119 196 248]]]...,\n",
            "Shape: (512, 512, 3),\n",
            "Datatype: <dtype: 'uint8'>\n",
            "\n",
            "Image after preprocessing:\n",
            " [[[ 84.67857   84.321434  92.321434]\n",
            "  [ 87.19898   86.841835  94.841835]\n",
            "  [ 84.72959   84.581635  94.72449 ]\n",
            "  ...\n",
            "  [119.50503  194.93877  245.85202 ]\n",
            "  [114.974525 190.97452  241.90309 ]\n",
            "  [119.071465 196.4286   247.82652 ]]\n",
            "\n",
            " [[ 75.647964  84.21939   93.21939 ]\n",
            "  [ 71.45407   80.959175  89.959175]\n",
            "  [ 78.03061   87.20408   97.47449 ]\n",
            "  ...\n",
            "  [113.31632  182.62755  249.35715 ]\n",
            "  [106.57655  176.86227  245.4337  ]\n",
            "  [108.601944 179.9796   248.16833 ]]]...,\n",
            "Shape: (224, 224, 3),\n",
            "Datatype: <dtype: 'float32'>\n"
          ],
          "name": "stdout"
        }
      ]
    },
    {
      "cell_type": "code",
      "metadata": {
        "colab": {
          "base_uri": "https://localhost:8080/",
          "height": 264
        },
        "id": "sb3CV-U7hVQL",
        "outputId": "190ac9f5-3b4f-46e7-a88d-baf93a4f819b"
      },
      "source": [
        "# We can still plot our preprocessed image as long as we \n",
        "# divide by 255 (for matplotlib capatibility)\n",
        "plt.imshow(preprocessed_img/255.)\n",
        "plt.title(class_names[label])\n",
        "plt.axis(False);"
      ],
      "execution_count": 20,
      "outputs": [
        {
          "output_type": "display_data",
          "data": {
            "image/png": "[encoded data removed]",
            "text/plain": [
              "<Figure size 432x288 with 1 Axes>"
            ]
          },
          "metadata": {
            "tags": [],
            "needs_background": "light"
          }
        }
      ]
    },
    {
      "cell_type": "code",
      "metadata": {
        "id": "zDzw5EBPhVTw"
      },
      "source": [
        "# Map the preprocessing function to our training data (paralellize)\n",
        "train_data = train_data.map(map_func= preprocess_img , num_parallel_calls= tf.data.AUTOTUNE)\n",
        "\n",
        "# Shuffle train data and turn into batches and prefetch it (load the data faster)\n",
        "train_data = train_data.shuffle(buffer_size = 1000).batch(batch_size = 32).prefetch(buffer_size = tf.data.AUTOTUNE)\n",
        "\n",
        "# Mapping the preprocessing function on the test data \n",
        "test_data = test_data.map(map_func = preprocess_img , num_parallel_calls= tf.data.AUTOTUNE)\n",
        "\n",
        "# Creating batches of our test data and enabling prefetch \n",
        "test_data = test_data.batch(batch_size= 32).prefetch(tf.data.AUTOTUNE) # Use the max processor for us"
      ],
      "execution_count": 21,
      "outputs": []
    },
    {
      "cell_type": "code",
      "metadata": {
        "colab": {
          "base_uri": "https://localhost:8080/"
        },
        "id": "6_gJO4nHhVbg",
        "outputId": "71baec94-49ac-4e61-edcd-44bfa89465f0"
      },
      "source": [
        "# How does the data looks like? \n",
        "train_data , test_data"
      ],
      "execution_count": 22,
      "outputs": [
        {
          "output_type": "execute_result",
          "data": {
            "text/plain": [
              "(<PrefetchDataset shapes: ((None, 224, 224, 3), (None,)), types: (tf.float32, tf.int64)>,\n",
              " <PrefetchDataset shapes: ((None, 224, 224, 3), (None,)), types: (tf.float32, tf.int64)>)"
            ]
          },
          "metadata": {
            "tags": []
          },
          "execution_count": 22
        }
      ]
    },
    {
      "cell_type": "code",
      "metadata": {
        "id": "fgmBIw7rhVfi"
      },
      "source": [
        "# Gonna create two modelcheckpoint callback \n",
        "\n",
        "# Defining the filepaths \n",
        "checkpoint_path_1 = 'model_checkpoint_1/cp.ckpt'\n",
        "checkpoint_path_2 = 'model_checkpoint_2/cp.ckpt'\n",
        "\n",
        "# Creating our callbacks \n",
        "model_checkpoint_1 = tf.keras.callbacks.ModelCheckpoint(checkpoint_path_1 , \n",
        "                                                        monitor = 'val_accuracy' , \n",
        "                                                        save_best_only = True , \n",
        "                                                        save_weights_only = True)\n",
        "\n",
        "model_checkpoint_2 = tf.keras.callbacks.ModelCheckpoint(checkpoint_path_2 , \n",
        "                                                        monitor = 'val_accuracy' , \n",
        "                                                        save_best_only = True , \n",
        "                                                        save_weights_only = True)"
      ],
      "execution_count": 23,
      "outputs": []
    },
    {
      "cell_type": "code",
      "metadata": {
        "id": "0z3kR3-qhViu"
      },
      "source": [
        "# Creating EarlyStopping callback \n",
        "\n",
        "early_stopping = tf.keras.callbacks.EarlyStopping(monitor = 'val_accuracy' , \n",
        "                                                  min_delta = 0.5 , \n",
        "                                                  patience = 2 , \n",
        "                                                  restore_best_weights = True , \n",
        "                                                  verbose = 1)"
      ],
      "execution_count": 24,
      "outputs": []
    },
    {
      "cell_type": "code",
      "metadata": {
        "id": "EDMB9qHgp2KU"
      },
      "source": [
        "# Creating a augmentation layer \n",
        "from tensorflow.keras import layers \n",
        "from tensorflow.keras.models import Sequential\n",
        "from tensorflow.keras.layers.experimental import preprocessing\n",
        "\n",
        "data_augmentation = Sequential([\n",
        "  preprocessing.RandomFlip(), # randomly flip images on horizontal edge\n",
        "  preprocessing.RandomHeight(0.1), # randomly adjust the height of an image by a specific amount\n",
        "  preprocessing.RandomWidth(0.1), # randomly adjust the width of an image by a specific amount\n",
        "  preprocessing.RandomZoom(0.1)\n",
        "] , name = 'augmentation_layer')"
      ],
      "execution_count": 48,
      "outputs": []
    },
    {
      "cell_type": "code",
      "metadata": {
        "id": "6w2iThkQqvl_",
        "colab": {
          "base_uri": "https://localhost:8080/"
        },
        "outputId": "4f290048-fe82-47d9-a129-257424311500"
      },
      "source": [
        "# Turn on mixed precision \n",
        "from tensorflow.keras import mixed_precision \n",
        "mixed_precision.set_global_policy(policy = 'mixed_float16')"
      ],
      "execution_count": 26,
      "outputs": [
        {
          "output_type": "stream",
          "text": [
            "INFO:tensorflow:Mixed precision compatibility check (mixed_float16): OK\n",
            "Your GPU will likely run quickly with dtype policy mixed_float16 as it has compute capability of at least 7.0. Your GPU: Tesla T4, compute capability 7.5\n"
          ],
          "name": "stdout"
        },
        {
          "output_type": "stream",
          "text": [
            "INFO:tensorflow:Mixed precision compatibility check (mixed_float16): OK\n",
            "Your GPU will likely run quickly with dtype policy mixed_float16 as it has compute capability of at least 7.0. Your GPU: Tesla T4, compute capability 7.5\n"
          ],
          "name": "stderr"
        }
      ]
    },
    {
      "cell_type": "code",
      "metadata": {
        "id": "Ih5v3RKwqaGF"
      },
      "source": [
        "# Creating a function which would return us a model \n",
        "def create_model(num_classes , input_shape = (224 , 224, 3)):\n",
        "\n",
        "  # Create the input layer \n",
        "  input_shape = input_shape\n",
        "  inputs = layers.Input(shape = input_shape , name = 'Input_layer')  \n",
        "\n",
        "  # Creating a base model of EfficientNetBo \n",
        "  base_model = tf.keras.applications.EfficientNetB4(include_top= False)\n",
        "  # Freeze base model layer (all layers)\n",
        "  base_model.trainable = False\n",
        "\n",
        "  # Starting to construct a functional model \n",
        "  x = data_augmentation(inputs)\n",
        "  x = base_model(x , training = False)\n",
        "\n",
        "  # Adding a dropout layer \n",
        "  x = layers.Dropout(0.4)(x)\n",
        "\n",
        "  # Pooling layer\n",
        "  x = layers.GlobalAveragePooling2D(name = 'pooling_2d_layer')(x)\n",
        "\n",
        "  # Our output number of classes \n",
        "  x = layers.Dense(num_classes)(x)\n",
        "\n",
        "  # Separate activation layer (since we're using mixed precision)\n",
        "  outputs = layers.Activation('softmax' , dtype = tf.float32 , name = 'output_layer')(x)\n",
        "\n",
        "  # Packing into a model \n",
        "  model = tf.keras.Model(inputs , outputs)\n",
        "\n",
        "  return model "
      ],
      "execution_count": 67,
      "outputs": []
    },
    {
      "cell_type": "code",
      "metadata": {
        "id": "Mok-p0xLs-Ab"
      },
      "source": [
        "# Using our function and creating a model \n",
        "model = create_model(num_classes= len(class_names))\n",
        "\n",
        "# Compile the model \n",
        "model.compile(loss = tf.keras.losses.SparseCategoricalCrossentropy() , \n",
        "              optimizer = tf.keras.optimizers.Adam() , \n",
        "              metrics = ['accuracy'])"
      ],
      "execution_count": 52,
      "outputs": []
    },
    {
      "cell_type": "code",
      "metadata": {
        "colab": {
          "base_uri": "https://localhost:8080/"
        },
        "id": "ACLfSnR_tNDU",
        "outputId": "b4975e79-7257-4a4f-cb5f-b65ab1648ad8"
      },
      "source": [
        "# Getting the summary of the model \n",
        "model.summary()"
      ],
      "execution_count": 53,
      "outputs": [
        {
          "output_type": "stream",
          "text": [
            "Model: \"model_3\"\n",
            "_________________________________________________________________\n",
            "Layer (type)                 Output Shape              Param #   \n",
            "=================================================================\n",
            "Input_layer (InputLayer)     [(None, 224, 224, 3)]     0         \n",
            "_________________________________________________________________\n",
            "augmentation_layer (Sequenti (None, None, None, 3)     0         \n",
            "_________________________________________________________________\n",
            "efficientnetb0 (Functional)  (None, None, None, 1280)  4049571   \n",
            "_________________________________________________________________\n",
            "dropout_1 (Dropout)          (None, None, None, 1280)  0         \n",
            "_________________________________________________________________\n",
            "pooling_2d_layer (GlobalAver (None, 1280)              0         \n",
            "_________________________________________________________________\n",
            "dense_3 (Dense)              (None, 101)               129381    \n",
            "_________________________________________________________________\n",
            "output_layer (Activation)    (None, 101)               0         \n",
            "=================================================================\n",
            "Total params: 4,178,952\n",
            "Trainable params: 129,381\n",
            "Non-trainable params: 4,049,571\n",
            "_________________________________________________________________\n"
          ],
          "name": "stdout"
        }
      ]
    },
    {
      "cell_type": "code",
      "metadata": {
        "id": "O1T89P7LtQNS"
      },
      "source": [
        "def feature_extractor_trainer(train_data , \n",
        "                              model,\n",
        "                              test_data , test_pct = 0.15 , initial_epochs = 3 , \n",
        "                              callbacks = [model_checkpoint_1] ):\n",
        "  history = model.fit(train_data , \n",
        "                      epochs = initial_epochs , \n",
        "                      validation_data = test_data , \n",
        "                      validation_steps = int(test_pct * len(test_data)) , \n",
        "                      callbacks = callbacks)\n",
        "  return history"
      ],
      "execution_count": 54,
      "outputs": []
    },
    {
      "cell_type": "code",
      "metadata": {
        "colab": {
          "base_uri": "https://localhost:8080/"
        },
        "id": "XfyfNs70t38f",
        "outputId": "fcf6f13d-df07-474f-8763-49c52bb98dd8"
      },
      "source": [
        "# Using our function to train our feature extractor model \n",
        "history_feature_model_1 = feature_extractor_trainer(train_data= train_data , \n",
        "                                                    test_data = test_data  , \n",
        "                                                    model = model)"
      ],
      "execution_count": 55,
      "outputs": [
        {
          "output_type": "stream",
          "text": [
            "Epoch 1/3\n",
            "2368/2368 [==============================] - 168s 68ms/step - loss: 2.6386 - accuracy: 0.3934 - val_loss: 1.3482 - val_accuracy: 0.6488\n",
            "Epoch 2/3\n",
            "2368/2368 [==============================] - 162s 68ms/step - loss: 1.6756 - accuracy: 0.5746 - val_loss: 1.2447 - val_accuracy: 0.6674\n",
            "Epoch 3/3\n",
            "2368/2368 [==============================] - 162s 68ms/step - loss: 1.5381 - accuracy: 0.6027 - val_loss: 1.1992 - val_accuracy: 0.6777\n"
          ],
          "name": "stdout"
        }
      ]
    },
    {
      "cell_type": "code",
      "metadata": {
        "colab": {
          "base_uri": "https://localhost:8080/"
        },
        "id": "5CBjbOmxuJoM",
        "outputId": "3a38b4ab-3080-4931-9510-abc1361d51c3"
      },
      "source": [
        "# Evaluating on the whole test data \n",
        "feature_extractor_model_1 = model.evaluate(test_data)"
      ],
      "execution_count": 56,
      "outputs": [
        {
          "output_type": "stream",
          "text": [
            "790/790 [==============================] - 46s 58ms/step - loss: 1.2145 - accuracy: 0.6751\n"
          ],
          "name": "stdout"
        }
      ]
    },
    {
      "cell_type": "code",
      "metadata": {
        "colab": {
          "base_uri": "https://localhost:8080/",
          "height": 573
        },
        "id": "KFnB0ejJ4CmS",
        "outputId": "28bed271-c231-4fc1-a2db-9a63ccd930b8"
      },
      "source": [
        "# Plotting the loss curves \n",
        "plot_loss_curves(history_feature_model_1)"
      ],
      "execution_count": 57,
      "outputs": [
        {
          "output_type": "display_data",
          "data": {
            "image/png": "[encoded data removed]",
            "text/plain": [
              "<Figure size 432x288 with 1 Axes>"
            ]
          },
          "metadata": {
            "tags": [],
            "needs_background": "light"
          }
        },
        {
          "output_type": "display_data",
          "data": {
            "image/png": "[encoded data removed]",
            "text/plain": [
              "<Figure size 432x288 with 1 Axes>"
            ]
          },
          "metadata": {
            "tags": [],
            "needs_background": "light"
          }
        }
      ]
    },
    {
      "cell_type": "code",
      "metadata": {
        "id": "80-l8RMV4-4z"
      },
      "source": [
        "# Let's create a fine tune model \n",
        "def fine_tune_trainer(train_data , \n",
        "                      test_data ,feature_extract_model  , feature_extract_history, callbacks,\n",
        "                      num_fine_tune_epochs = 5 , initial_epochs = 3 ):\n",
        "  \n",
        "  fine_tune_epochs = initial_epochs + num_fine_tune_epochs\n",
        "  history = feature_extract_model.fit(train_data , \n",
        "                                      epochs = fine_tune_epochs , \n",
        "                                      validation_data = test_data , \n",
        "                                      validation_steps = int(0.15 * len(test_data)) , \n",
        "                                      initial_epoch = feature_extract_history.epoch[-1] , \n",
        "                                      callbacks = callbacks)\n",
        "\n",
        "  return history"
      ],
      "execution_count": 58,
      "outputs": []
    },
    {
      "cell_type": "code",
      "metadata": {
        "id": "pRzqGaACAlTn"
      },
      "source": [
        "# Unfreeze all the layers in the base model \n",
        "model.layers[2].trainable = True \n",
        "\n",
        "# Refreeze every layers except for the last 5 \n",
        "for layer in model.layers[2].layers[:-6]:\n",
        "  layer.trainable = False"
      ],
      "execution_count": 59,
      "outputs": []
    },
    {
      "cell_type": "code",
      "metadata": {
        "colab": {
          "base_uri": "https://localhost:8080/"
        },
        "id": "ZfknT9t6B5qf",
        "outputId": "b0d55483-7e58-4ef2-a162-2040c0cd0e7c"
      },
      "source": [
        "# Check which layers are trainable (last 5 layers should be True)\n",
        "for layer_num , layer in enumerate(model.layers[2].layers):\n",
        "  print(layer_num , layer.name , layer.dtype_policy ,  layer.trainable)"
      ],
      "execution_count": 60,
      "outputs": [
        {
          "output_type": "stream",
          "text": [
            "0 input_4 <Policy \"float32\"> False\n",
            "1 rescaling_3 <Policy \"mixed_float16\"> False\n",
            "2 normalization_3 <Policy \"float32\"> False\n",
            "3 stem_conv_pad <Policy \"mixed_float16\"> False\n",
            "4 stem_conv <Policy \"mixed_float16\"> False\n",
            "5 stem_bn <Policy \"mixed_float16\"> False\n",
            "6 stem_activation <Policy \"mixed_float16\"> False\n",
            "7 block1a_dwconv <Policy \"mixed_float16\"> False\n",
            "8 block1a_bn <Policy \"mixed_float16\"> False\n",
            "9 block1a_activation <Policy \"mixed_float16\"> False\n",
            "10 block1a_se_squeeze <Policy \"mixed_float16\"> False\n",
            "11 block1a_se_reshape <Policy \"mixed_float16\"> False\n",
            "12 block1a_se_reduce <Policy \"mixed_float16\"> False\n",
            "13 block1a_se_expand <Policy \"mixed_float16\"> False\n",
            "14 block1a_se_excite <Policy \"mixed_float16\"> False\n",
            "15 block1a_project_conv <Policy \"mixed_float16\"> False\n",
            "16 block1a_project_bn <Policy \"mixed_float16\"> False\n",
            "17 block2a_expand_conv <Policy \"mixed_float16\"> False\n",
            "18 block2a_expand_bn <Policy \"mixed_float16\"> False\n",
            "19 block2a_expand_activation <Policy \"mixed_float16\"> False\n",
            "20 block2a_dwconv_pad <Policy \"mixed_float16\"> False\n",
            "21 block2a_dwconv <Policy \"mixed_float16\"> False\n",
            "22 block2a_bn <Policy \"mixed_float16\"> False\n",
            "23 block2a_activation <Policy \"mixed_float16\"> False\n",
            "24 block2a_se_squeeze <Policy \"mixed_float16\"> False\n",
            "25 block2a_se_reshape <Policy \"mixed_float16\"> False\n",
            "26 block2a_se_reduce <Policy \"mixed_float16\"> False\n",
            "27 block2a_se_expand <Policy \"mixed_float16\"> False\n",
            "28 block2a_se_excite <Policy \"mixed_float16\"> False\n",
            "29 block2a_project_conv <Policy \"mixed_float16\"> False\n",
            "30 block2a_project_bn <Policy \"mixed_float16\"> False\n",
            "31 block2b_expand_conv <Policy \"mixed_float16\"> False\n",
            "32 block2b_expand_bn <Policy \"mixed_float16\"> False\n",
            "33 block2b_expand_activation <Policy \"mixed_float16\"> False\n",
            "34 block2b_dwconv <Policy \"mixed_float16\"> False\n",
            "35 block2b_bn <Policy \"mixed_float16\"> False\n",
            "36 block2b_activation <Policy \"mixed_float16\"> False\n",
            "37 block2b_se_squeeze <Policy \"mixed_float16\"> False\n",
            "38 block2b_se_reshape <Policy \"mixed_float16\"> False\n",
            "39 block2b_se_reduce <Policy \"mixed_float16\"> False\n",
            "40 block2b_se_expand <Policy \"mixed_float16\"> False\n",
            "41 block2b_se_excite <Policy \"mixed_float16\"> False\n",
            "42 block2b_project_conv <Policy \"mixed_float16\"> False\n",
            "43 block2b_project_bn <Policy \"mixed_float16\"> False\n",
            "44 block2b_drop <Policy \"mixed_float16\"> False\n",
            "45 block2b_add <Policy \"mixed_float16\"> False\n",
            "46 block3a_expand_conv <Policy \"mixed_float16\"> False\n",
            "47 block3a_expand_bn <Policy \"mixed_float16\"> False\n",
            "48 block3a_expand_activation <Policy \"mixed_float16\"> False\n",
            "49 block3a_dwconv_pad <Policy \"mixed_float16\"> False\n",
            "50 block3a_dwconv <Policy \"mixed_float16\"> False\n",
            "51 block3a_bn <Policy \"mixed_float16\"> False\n",
            "52 block3a_activation <Policy \"mixed_float16\"> False\n",
            "53 block3a_se_squeeze <Policy \"mixed_float16\"> False\n",
            "54 block3a_se_reshape <Policy \"mixed_float16\"> False\n",
            "55 block3a_se_reduce <Policy \"mixed_float16\"> False\n",
            "56 block3a_se_expand <Policy \"mixed_float16\"> False\n",
            "57 block3a_se_excite <Policy \"mixed_float16\"> False\n",
            "58 block3a_project_conv <Policy \"mixed_float16\"> False\n",
            "59 block3a_project_bn <Policy \"mixed_float16\"> False\n",
            "60 block3b_expand_conv <Policy \"mixed_float16\"> False\n",
            "61 block3b_expand_bn <Policy \"mixed_float16\"> False\n",
            "62 block3b_expand_activation <Policy \"mixed_float16\"> False\n",
            "63 block3b_dwconv <Policy \"mixed_float16\"> False\n",
            "64 block3b_bn <Policy \"mixed_float16\"> False\n",
            "65 block3b_activation <Policy \"mixed_float16\"> False\n",
            "66 block3b_se_squeeze <Policy \"mixed_float16\"> False\n",
            "67 block3b_se_reshape <Policy \"mixed_float16\"> False\n",
            "68 block3b_se_reduce <Policy \"mixed_float16\"> False\n",
            "69 block3b_se_expand <Policy \"mixed_float16\"> False\n",
            "70 block3b_se_excite <Policy \"mixed_float16\"> False\n",
            "71 block3b_project_conv <Policy \"mixed_float16\"> False\n",
            "72 block3b_project_bn <Policy \"mixed_float16\"> False\n",
            "73 block3b_drop <Policy \"mixed_float16\"> False\n",
            "74 block3b_add <Policy \"mixed_float16\"> False\n",
            "75 block4a_expand_conv <Policy \"mixed_float16\"> False\n",
            "76 block4a_expand_bn <Policy \"mixed_float16\"> False\n",
            "77 block4a_expand_activation <Policy \"mixed_float16\"> False\n",
            "78 block4a_dwconv_pad <Policy \"mixed_float16\"> False\n",
            "79 block4a_dwconv <Policy \"mixed_float16\"> False\n",
            "80 block4a_bn <Policy \"mixed_float16\"> False\n",
            "81 block4a_activation <Policy \"mixed_float16\"> False\n",
            "82 block4a_se_squeeze <Policy \"mixed_float16\"> False\n",
            "83 block4a_se_reshape <Policy \"mixed_float16\"> False\n",
            "84 block4a_se_reduce <Policy \"mixed_float16\"> False\n",
            "85 block4a_se_expand <Policy \"mixed_float16\"> False\n",
            "86 block4a_se_excite <Policy \"mixed_float16\"> False\n",
            "87 block4a_project_conv <Policy \"mixed_float16\"> False\n",
            "88 block4a_project_bn <Policy \"mixed_float16\"> False\n",
            "89 block4b_expand_conv <Policy \"mixed_float16\"> False\n",
            "90 block4b_expand_bn <Policy \"mixed_float16\"> False\n",
            "91 block4b_expand_activation <Policy \"mixed_float16\"> False\n",
            "92 block4b_dwconv <Policy \"mixed_float16\"> False\n",
            "93 block4b_bn <Policy \"mixed_float16\"> False\n",
            "94 block4b_activation <Policy \"mixed_float16\"> False\n",
            "95 block4b_se_squeeze <Policy \"mixed_float16\"> False\n",
            "96 block4b_se_reshape <Policy \"mixed_float16\"> False\n",
            "97 block4b_se_reduce <Policy \"mixed_float16\"> False\n",
            "98 block4b_se_expand <Policy \"mixed_float16\"> False\n",
            "99 block4b_se_excite <Policy \"mixed_float16\"> False\n",
            "100 block4b_project_conv <Policy \"mixed_float16\"> False\n",
            "101 block4b_project_bn <Policy \"mixed_float16\"> False\n",
            "102 block4b_drop <Policy \"mixed_float16\"> False\n",
            "103 block4b_add <Policy \"mixed_float16\"> False\n",
            "104 block4c_expand_conv <Policy \"mixed_float16\"> False\n",
            "105 block4c_expand_bn <Policy \"mixed_float16\"> False\n",
            "106 block4c_expand_activation <Policy \"mixed_float16\"> False\n",
            "107 block4c_dwconv <Policy \"mixed_float16\"> False\n",
            "108 block4c_bn <Policy \"mixed_float16\"> False\n",
            "109 block4c_activation <Policy \"mixed_float16\"> False\n",
            "110 block4c_se_squeeze <Policy \"mixed_float16\"> False\n",
            "111 block4c_se_reshape <Policy \"mixed_float16\"> False\n",
            "112 block4c_se_reduce <Policy \"mixed_float16\"> False\n",
            "113 block4c_se_expand <Policy \"mixed_float16\"> False\n",
            "114 block4c_se_excite <Policy \"mixed_float16\"> False\n",
            "115 block4c_project_conv <Policy \"mixed_float16\"> False\n",
            "116 block4c_project_bn <Policy \"mixed_float16\"> False\n",
            "117 block4c_drop <Policy \"mixed_float16\"> False\n",
            "118 block4c_add <Policy \"mixed_float16\"> False\n",
            "119 block5a_expand_conv <Policy \"mixed_float16\"> False\n",
            "120 block5a_expand_bn <Policy \"mixed_float16\"> False\n",
            "121 block5a_expand_activation <Policy \"mixed_float16\"> False\n",
            "122 block5a_dwconv <Policy \"mixed_float16\"> False\n",
            "123 block5a_bn <Policy \"mixed_float16\"> False\n",
            "124 block5a_activation <Policy \"mixed_float16\"> False\n",
            "125 block5a_se_squeeze <Policy \"mixed_float16\"> False\n",
            "126 block5a_se_reshape <Policy \"mixed_float16\"> False\n",
            "127 block5a_se_reduce <Policy \"mixed_float16\"> False\n",
            "128 block5a_se_expand <Policy \"mixed_float16\"> False\n",
            "129 block5a_se_excite <Policy \"mixed_float16\"> False\n",
            "130 block5a_project_conv <Policy \"mixed_float16\"> False\n",
            "131 block5a_project_bn <Policy \"mixed_float16\"> False\n",
            "132 block5b_expand_conv <Policy \"mixed_float16\"> False\n",
            "133 block5b_expand_bn <Policy \"mixed_float16\"> False\n",
            "134 block5b_expand_activation <Policy \"mixed_float16\"> False\n",
            "135 block5b_dwconv <Policy \"mixed_float16\"> False\n",
            "136 block5b_bn <Policy \"mixed_float16\"> False\n",
            "137 block5b_activation <Policy \"mixed_float16\"> False\n",
            "138 block5b_se_squeeze <Policy \"mixed_float16\"> False\n",
            "139 block5b_se_reshape <Policy \"mixed_float16\"> False\n",
            "140 block5b_se_reduce <Policy \"mixed_float16\"> False\n",
            "141 block5b_se_expand <Policy \"mixed_float16\"> False\n",
            "142 block5b_se_excite <Policy \"mixed_float16\"> False\n",
            "143 block5b_project_conv <Policy \"mixed_float16\"> False\n",
            "144 block5b_project_bn <Policy \"mixed_float16\"> False\n",
            "145 block5b_drop <Policy \"mixed_float16\"> False\n",
            "146 block5b_add <Policy \"mixed_float16\"> False\n",
            "147 block5c_expand_conv <Policy \"mixed_float16\"> False\n",
            "148 block5c_expand_bn <Policy \"mixed_float16\"> False\n",
            "149 block5c_expand_activation <Policy \"mixed_float16\"> False\n",
            "150 block5c_dwconv <Policy \"mixed_float16\"> False\n",
            "151 block5c_bn <Policy \"mixed_float16\"> False\n",
            "152 block5c_activation <Policy \"mixed_float16\"> False\n",
            "153 block5c_se_squeeze <Policy \"mixed_float16\"> False\n",
            "154 block5c_se_reshape <Policy \"mixed_float16\"> False\n",
            "155 block5c_se_reduce <Policy \"mixed_float16\"> False\n",
            "156 block5c_se_expand <Policy \"mixed_float16\"> False\n",
            "157 block5c_se_excite <Policy \"mixed_float16\"> False\n",
            "158 block5c_project_conv <Policy \"mixed_float16\"> False\n",
            "159 block5c_project_bn <Policy \"mixed_float16\"> False\n",
            "160 block5c_drop <Policy \"mixed_float16\"> False\n",
            "161 block5c_add <Policy \"mixed_float16\"> False\n",
            "162 block6a_expand_conv <Policy \"mixed_float16\"> False\n",
            "163 block6a_expand_bn <Policy \"mixed_float16\"> False\n",
            "164 block6a_expand_activation <Policy \"mixed_float16\"> False\n",
            "165 block6a_dwconv_pad <Policy \"mixed_float16\"> False\n",
            "166 block6a_dwconv <Policy \"mixed_float16\"> False\n",
            "167 block6a_bn <Policy \"mixed_float16\"> False\n",
            "168 block6a_activation <Policy \"mixed_float16\"> False\n",
            "169 block6a_se_squeeze <Policy \"mixed_float16\"> False\n",
            "170 block6a_se_reshape <Policy \"mixed_float16\"> False\n",
            "171 block6a_se_reduce <Policy \"mixed_float16\"> False\n",
            "172 block6a_se_expand <Policy \"mixed_float16\"> False\n",
            "173 block6a_se_excite <Policy \"mixed_float16\"> False\n",
            "174 block6a_project_conv <Policy \"mixed_float16\"> False\n",
            "175 block6a_project_bn <Policy \"mixed_float16\"> False\n",
            "176 block6b_expand_conv <Policy \"mixed_float16\"> False\n",
            "177 block6b_expand_bn <Policy \"mixed_float16\"> False\n",
            "178 block6b_expand_activation <Policy \"mixed_float16\"> False\n",
            "179 block6b_dwconv <Policy \"mixed_float16\"> False\n",
            "180 block6b_bn <Policy \"mixed_float16\"> False\n",
            "181 block6b_activation <Policy \"mixed_float16\"> False\n",
            "182 block6b_se_squeeze <Policy \"mixed_float16\"> False\n",
            "183 block6b_se_reshape <Policy \"mixed_float16\"> False\n",
            "184 block6b_se_reduce <Policy \"mixed_float16\"> False\n",
            "185 block6b_se_expand <Policy \"mixed_float16\"> False\n",
            "186 block6b_se_excite <Policy \"mixed_float16\"> False\n",
            "187 block6b_project_conv <Policy \"mixed_float16\"> False\n",
            "188 block6b_project_bn <Policy \"mixed_float16\"> False\n",
            "189 block6b_drop <Policy \"mixed_float16\"> False\n",
            "190 block6b_add <Policy \"mixed_float16\"> False\n",
            "191 block6c_expand_conv <Policy \"mixed_float16\"> False\n",
            "192 block6c_expand_bn <Policy \"mixed_float16\"> False\n",
            "193 block6c_expand_activation <Policy \"mixed_float16\"> False\n",
            "194 block6c_dwconv <Policy \"mixed_float16\"> False\n",
            "195 block6c_bn <Policy \"mixed_float16\"> False\n",
            "196 block6c_activation <Policy \"mixed_float16\"> False\n",
            "197 block6c_se_squeeze <Policy \"mixed_float16\"> False\n",
            "198 block6c_se_reshape <Policy \"mixed_float16\"> False\n",
            "199 block6c_se_reduce <Policy \"mixed_float16\"> False\n",
            "200 block6c_se_expand <Policy \"mixed_float16\"> False\n",
            "201 block6c_se_excite <Policy \"mixed_float16\"> False\n",
            "202 block6c_project_conv <Policy \"mixed_float16\"> False\n",
            "203 block6c_project_bn <Policy \"mixed_float16\"> False\n",
            "204 block6c_drop <Policy \"mixed_float16\"> False\n",
            "205 block6c_add <Policy \"mixed_float16\"> False\n",
            "206 block6d_expand_conv <Policy \"mixed_float16\"> False\n",
            "207 block6d_expand_bn <Policy \"mixed_float16\"> False\n",
            "208 block6d_expand_activation <Policy \"mixed_float16\"> False\n",
            "209 block6d_dwconv <Policy \"mixed_float16\"> False\n",
            "210 block6d_bn <Policy \"mixed_float16\"> False\n",
            "211 block6d_activation <Policy \"mixed_float16\"> False\n",
            "212 block6d_se_squeeze <Policy \"mixed_float16\"> False\n",
            "213 block6d_se_reshape <Policy \"mixed_float16\"> False\n",
            "214 block6d_se_reduce <Policy \"mixed_float16\"> False\n",
            "215 block6d_se_expand <Policy \"mixed_float16\"> False\n",
            "216 block6d_se_excite <Policy \"mixed_float16\"> False\n",
            "217 block6d_project_conv <Policy \"mixed_float16\"> False\n",
            "218 block6d_project_bn <Policy \"mixed_float16\"> False\n",
            "219 block6d_drop <Policy \"mixed_float16\"> False\n",
            "220 block6d_add <Policy \"mixed_float16\"> False\n",
            "221 block7a_expand_conv <Policy \"mixed_float16\"> False\n",
            "222 block7a_expand_bn <Policy \"mixed_float16\"> False\n",
            "223 block7a_expand_activation <Policy \"mixed_float16\"> False\n",
            "224 block7a_dwconv <Policy \"mixed_float16\"> False\n",
            "225 block7a_bn <Policy \"mixed_float16\"> False\n",
            "226 block7a_activation <Policy \"mixed_float16\"> False\n",
            "227 block7a_se_squeeze <Policy \"mixed_float16\"> False\n",
            "228 block7a_se_reshape <Policy \"mixed_float16\"> False\n",
            "229 block7a_se_reduce <Policy \"mixed_float16\"> False\n",
            "230 block7a_se_expand <Policy \"mixed_float16\"> False\n",
            "231 block7a_se_excite <Policy \"mixed_float16\"> True\n",
            "232 block7a_project_conv <Policy \"mixed_float16\"> True\n",
            "233 block7a_project_bn <Policy \"mixed_float16\"> True\n",
            "234 top_conv <Policy \"mixed_float16\"> True\n",
            "235 top_bn <Policy \"mixed_float16\"> True\n",
            "236 top_activation <Policy \"mixed_float16\"> True\n"
          ],
          "name": "stdout"
        }
      ]
    },
    {
      "cell_type": "code",
      "metadata": {
        "id": "umjLb0I2DpSB"
      },
      "source": [
        "# Compiling the model \n",
        "model.compile(loss = tf.keras.losses.SparseCategoricalCrossentropy() , \n",
        "              optimizer = tf.keras.optimizers.Adam(learning_rate= 1e-2/10) , \n",
        "              metrics = ['accuracy'])"
      ],
      "execution_count": 61,
      "outputs": []
    },
    {
      "cell_type": "code",
      "metadata": {
        "colab": {
          "base_uri": "https://localhost:8080/"
        },
        "id": "IPqb-Tz2C_DY",
        "outputId": "f010852b-50dc-4375-814a-b6577598a718"
      },
      "source": [
        "# Fine tuning our model \n",
        "history_fine_tune_model_1 = fine_tune_trainer(train_data , \n",
        "                                              test_data , \n",
        "                                              model , \n",
        "                                              history_feature_model_1 , \n",
        "                                              num_fine_tune_epochs = 15 , \n",
        "                                              callbacks = [lr_scheduler_1])"
      ],
      "execution_count": 63,
      "outputs": [
        {
          "output_type": "stream",
          "text": [
            "Epoch 3/18\n",
            "2368/2368 [==============================] - 170s 69ms/step - loss: 1.3860 - accuracy: 0.6382 - val_loss: 1.0817 - val_accuracy: 0.7119\n",
            "Epoch 4/18\n",
            "2368/2368 [==============================] - 165s 69ms/step - loss: 1.2545 - accuracy: 0.6682 - val_loss: 1.0439 - val_accuracy: 0.7119\n",
            "Epoch 5/18\n",
            "2368/2368 [==============================] - 163s 68ms/step - loss: 1.1575 - accuracy: 0.6930 - val_loss: 1.0322 - val_accuracy: 0.7209\n",
            "Epoch 6/18\n",
            "2368/2368 [==============================] - 164s 69ms/step - loss: 1.0799 - accuracy: 0.7118 - val_loss: 1.0017 - val_accuracy: 0.7293\n",
            "Epoch 7/18\n",
            "2368/2368 [==============================] - 164s 68ms/step - loss: 1.0251 - accuracy: 0.7240 - val_loss: 1.0132 - val_accuracy: 0.7222\n",
            "Epoch 8/18\n",
            "2368/2368 [==============================] - 164s 68ms/step - loss: 0.9602 - accuracy: 0.7353 - val_loss: 1.0061 - val_accuracy: 0.7275\n",
            "Epoch 9/18\n",
            "2368/2368 [==============================] - 163s 68ms/step - loss: 0.9145 - accuracy: 0.7445 - val_loss: 1.0138 - val_accuracy: 0.7225\n",
            "Epoch 10/18\n",
            "2368/2368 [==============================] - 162s 68ms/step - loss: 0.8688 - accuracy: 0.7583 - val_loss: 1.0108 - val_accuracy: 0.7248\n",
            "Epoch 11/18\n",
            "2368/2368 [==============================] - 162s 68ms/step - loss: 0.8241 - accuracy: 0.7672 - val_loss: 1.0279 - val_accuracy: 0.7156\n",
            "Epoch 12/18\n",
            "2368/2368 [==============================] - 165s 69ms/step - loss: 0.7969 - accuracy: 0.7747 - val_loss: 1.0651 - val_accuracy: 0.7140\n",
            "Epoch 13/18\n",
            "2368/2368 [==============================] - 164s 69ms/step - loss: 0.7693 - accuracy: 0.7788 - val_loss: 1.0865 - val_accuracy: 0.7044\n",
            "Epoch 14/18\n",
            "2368/2368 [==============================] - 165s 69ms/step - loss: 0.7495 - accuracy: 0.7839 - val_loss: 1.0656 - val_accuracy: 0.7169\n",
            "Epoch 15/18\n",
            "2368/2368 [==============================] - 165s 69ms/step - loss: 0.7304 - accuracy: 0.7869 - val_loss: 1.0932 - val_accuracy: 0.7084\n",
            "Epoch 16/18\n",
            "2368/2368 [==============================] - 166s 69ms/step - loss: 0.7336 - accuracy: 0.7837 - val_loss: 1.1437 - val_accuracy: 0.6986\n",
            "Epoch 17/18\n",
            "2368/2368 [==============================] - 167s 70ms/step - loss: 0.7192 - accuracy: 0.7884 - val_loss: 1.1985 - val_accuracy: 0.6854\n",
            "Epoch 18/18\n",
            "2368/2368 [==============================] - 165s 69ms/step - loss: 0.7262 - accuracy: 0.7855 - val_loss: 1.2331 - val_accuracy: 0.6851\n"
          ],
          "name": "stdout"
        }
      ]
    },
    {
      "cell_type": "code",
      "metadata": {
        "colab": {
          "base_uri": "https://localhost:8080/"
        },
        "id": "QyqtHva1NxTl",
        "outputId": "d2e6d135-9bd9-4f8b-a04e-65e22cd5c8c3"
      },
      "source": [
        "# Evaluating on the full dataset \n",
        "full_result_model_1 = model.evaluate(test_data)"
      ],
      "execution_count": 64,
      "outputs": [
        {
          "output_type": "stream",
          "text": [
            "790/790 [==============================] - 46s 58ms/step - loss: 1.2176 - accuracy: 0.6869\n"
          ],
          "name": "stdout"
        }
      ]
    },
    {
      "cell_type": "markdown",
      "metadata": {
        "id": "Pc9ipGSt_KIm"
      },
      "source": [
        "Well our model is overfitting, we can do better fixing this. "
      ]
    },
    {
      "cell_type": "code",
      "metadata": {
        "colab": {
          "base_uri": "https://localhost:8080/",
          "height": 573
        },
        "id": "B_seUAFOD9ic",
        "outputId": "c46b7eb6-40ae-495c-d1fa-29a129398878"
      },
      "source": [
        "# Plotting the loss curves \n",
        "plot_loss_curves(history_fine_tune_model_1)"
      ],
      "execution_count": 65,
      "outputs": [
        {
          "output_type": "display_data",
          "data": {
            "image/png": "[encoded data removed]",
            "text/plain": [
              "<Figure size 432x288 with 1 Axes>"
            ]
          },
          "metadata": {
            "tags": [],
            "needs_background": "light"
          }
        },
        {
          "output_type": "display_data",
          "data": {
            "image/png": "[encoded data removed]",
            "text/plain": [
              "<Figure size 432x288 with 1 Axes>"
            ]
          },
          "metadata": {
            "tags": [],
            "needs_background": "light"
          }
        }
      ]
    },
    {
      "cell_type": "code",
      "metadata": {
        "id": "eGnsXsQTBUeq"
      },
      "source": [
        "tf.keras.callbacks.ReduceLROnPlateau??"
      ],
      "execution_count": 66,
      "outputs": []
    },
    {
      "cell_type": "code",
      "metadata": {
        "id": "iX2AdL20AS80"
      },
      "source": [
        "# Let's try ReduceLRPlateau\n",
        "\n",
        "reduce_lr = tf.keras.callbacks.ReduceLROnPlateau(monitor = 'val_accuracy' , \n",
        "                                                 patience = 2 , \n",
        "                                                 )"
      ],
      "execution_count": null,
      "outputs": []
    },
    {
      "cell_type": "markdown",
      "metadata": {
        "id": "QOSN0KQFIMND"
      },
      "source": [
        "Hmm.. it's not overfitting but I guess training for longer will eventually overfit the model. Let's use a learning rate scheduler to tackle this learning rate issues. "
      ]
    },
    {
      "cell_type": "code",
      "metadata": {
        "id": "vUMisHorRbQM"
      },
      "source": [
        "def scheduler_function(epoch):\n"
      ],
      "execution_count": null,
      "outputs": []
    },
    {
      "cell_type": "code",
      "metadata": {
        "id": "TQzqWxXYIgWW"
      },
      "source": [
        "# Creating a learning rate scheduler \n",
        "lr_scheduler = tf.keras.callbacks.LearningRateScheduler(lambda epoch: 1e-4 * (0.75** np.floor(epoch / 2)))\n",
        "lr_scheduler_1 = tf.keras.callbacks.LearningRateScheduler(lambda epoch: 1e-4 * 10**(epoch/20))"
      ],
      "execution_count": 31,
      "outputs": []
    },
    {
      "cell_type": "code",
      "metadata": {
        "id": "m3nuHa1kMKS5"
      },
      "source": [
        "def create_modelcheckpoint_callback(folder_name):\n",
        "  checkpoint_path = f'{folder_name}/cp.ckpt'\n",
        "\n",
        "  # Creating our callbacks \n",
        "  model_checkpoint = tf.keras.callbacks.ModelCheckpoint(checkpoint_path_1 , \n",
        "                                                        monitor = 'val_accuracy' , \n",
        "                                                        save_best_only = True , \n",
        "                                                        save_weights_only = True)"
      ],
      "execution_count": null,
      "outputs": []
    },
    {
      "cell_type": "code",
      "metadata": {
        "id": "rTXes960B-VC"
      },
      "source": [
        ""
      ],
      "execution_count": null,
      "outputs": []
    },
    {
      "cell_type": "markdown",
      "metadata": {
        "id": "BX7-YyiyMoYn"
      },
      "source": [
        "Using a EfficientNetB4 now"
      ]
    },
    {
      "cell_type": "code",
      "metadata": {
        "colab": {
          "base_uri": "https://localhost:8080/"
        },
        "id": "TKFhiDI_OXoU",
        "outputId": "73d17723-e17b-433d-9fc2-3ae780837763"
      },
      "source": [
        "# Creating a model \n",
        "model_2 = create_model(num_classes= len(class_names))\n",
        "\n",
        "model_2.compile(loss = tf.keras.losses.SparseCategoricalCrossentropy() , \n",
        "                optimizer = tf.keras.optimizers.Adam() , \n",
        "                metrics = ['accuracy'])\n",
        "\n",
        "# Getting the summary of our model \n",
        "model_2.summary()"
      ],
      "execution_count": 74,
      "outputs": [
        {
          "output_type": "stream",
          "text": [
            "Model: \"model_6\"\n",
            "_________________________________________________________________\n",
            "Layer (type)                 Output Shape              Param #   \n",
            "=================================================================\n",
            "Input_layer (InputLayer)     [(None, 224, 224, 3)]     0         \n",
            "_________________________________________________________________\n",
            "augmentation_layer (Sequenti (None, None, None, 3)     0         \n",
            "_________________________________________________________________\n",
            "efficientnetb4 (Functional)  (None, None, None, 1792)  17673823  \n",
            "_________________________________________________________________\n",
            "dropout_4 (Dropout)          (None, None, None, 1792)  0         \n",
            "_________________________________________________________________\n",
            "pooling_2d_layer (GlobalAver (None, 1792)              0         \n",
            "_________________________________________________________________\n",
            "dense_6 (Dense)              (None, 101)               181093    \n",
            "_________________________________________________________________\n",
            "output_layer (Activation)    (None, 101)               0         \n",
            "=================================================================\n",
            "Total params: 17,854,916\n",
            "Trainable params: 181,093\n",
            "Non-trainable params: 17,673,823\n",
            "_________________________________________________________________\n"
          ],
          "name": "stdout"
        }
      ]
    },
    {
      "cell_type": "code",
      "metadata": {
        "colab": {
          "base_uri": "https://localhost:8080/"
        },
        "id": "RWJSZbmxO_I5",
        "outputId": "45cd3863-d195-4e50-ae2e-176f745ea231"
      },
      "source": [
        "for layer in model_2.layers:\n",
        "  print(layer , layer.trainable)"
      ],
      "execution_count": 75,
      "outputs": [
        {
          "output_type": "stream",
          "text": [
            "<tensorflow.python.keras.engine.input_layer.InputLayer object at 0x7f18701f7210> True\n",
            "<tensorflow.python.keras.engine.sequential.Sequential object at 0x7f191a289710> True\n",
            "<tensorflow.python.keras.engine.functional.Functional object at 0x7f1810527710> False\n",
            "<tensorflow.python.keras.layers.core.Dropout object at 0x7f18104b1dd0> True\n",
            "<tensorflow.python.keras.layers.pooling.GlobalAveragePooling2D object at 0x7f181041ff10> True\n",
            "<tensorflow.python.keras.layers.core.Dense object at 0x7f18105329d0> True\n",
            "<tensorflow.python.keras.layers.core.Activation object at 0x7f1806683f90> True\n"
          ],
          "name": "stdout"
        }
      ]
    },
    {
      "cell_type": "code",
      "metadata": {
        "id": "nzZCYOhei_s-"
      },
      "source": [
        "\n",
        "tf.config.run_functions_eagerly(True)"
      ],
      "execution_count": 76,
      "outputs": []
    },
    {
      "cell_type": "code",
      "metadata": {
        "colab": {
          "base_uri": "https://localhost:8080/"
        },
        "id": "go2VOdHcPYMe",
        "outputId": "981e2f9d-a62c-4c1c-8ff0-e5fd0c927070"
      },
      "source": [
        "# Fitting our feature extractor model \n",
        "history_feature_model_2 = feature_extractor_trainer(train_data , \n",
        "                                                    model_2, \n",
        "                                                    test_data , \n",
        "                                                    initial_epochs = 3 , \n",
        "                                                    callbacks = [lr_scheduler_1])"
      ],
      "execution_count": 77,
      "outputs": [
        {
          "output_type": "stream",
          "text": [
            "Epoch 1/3\n",
            "2368/2368 [==============================] - 1409s 594ms/step - loss: 3.8080 - accuracy: 0.2111 - val_loss: 2.2497 - val_accuracy: 0.5077\n",
            "Epoch 2/3\n",
            "2368/2368 [==============================] - 1234s 520ms/step - loss: 2.4344 - accuracy: 0.4450 - val_loss: 1.8160 - val_accuracy: 0.5670\n",
            "Epoch 3/3\n",
            "2368/2368 [==============================] - 1224s 516ms/step - loss: 2.1245 - accuracy: 0.4872 - val_loss: 1.6509 - val_accuracy: 0.5932\n"
          ],
          "name": "stdout"
        }
      ]
    },
    {
      "cell_type": "code",
      "metadata": {
        "id": "aSUxJVgDP6Ks",
        "colab": {
          "base_uri": "https://localhost:8080/"
        },
        "outputId": "8ac5d471-6613-4a7a-cfa5-eb7f4ac5c1cb"
      },
      "source": [
        "# Evaluating on the whole test data \n",
        "feature_results_model_2 = model_2.evaluate(test_data)"
      ],
      "execution_count": 36,
      "outputs": [
        {
          "output_type": "stream",
          "text": [
            "790/790 [==============================] - 55s 70ms/step - loss: 1.6910 - accuracy: 0.5809\n"
          ],
          "name": "stdout"
        }
      ]
    },
    {
      "cell_type": "code",
      "metadata": {
        "colab": {
          "base_uri": "https://localhost:8080/"
        },
        "id": "hB5Ii-svifrV",
        "outputId": "f4f342f5-69aa-492c-c977-51b9e3239e15"
      },
      "source": [
        "for layer in model_2.layers:\n",
        "  print(layer.name , layer.trainable)"
      ],
      "execution_count": 78,
      "outputs": [
        {
          "output_type": "stream",
          "text": [
            "Input_layer True\n",
            "augmentation_layer True\n",
            "efficientnetb4 False\n",
            "dropout_4 True\n",
            "pooling_2d_layer True\n",
            "dense_6 True\n",
            "output_layer True\n"
          ],
          "name": "stdout"
        }
      ]
    },
    {
      "cell_type": "code",
      "metadata": {
        "id": "jwXBQTOYiOUL"
      },
      "source": [
        "# Unfreeze all the layers in the base model \n",
        "model_2.layers[2].trainable = True "
      ],
      "execution_count": 79,
      "outputs": []
    },
    {
      "cell_type": "code",
      "metadata": {
        "id": "9hTwMNGrm9Dx"
      },
      "source": [
        "\n",
        "# Refreeze every layers except for the last 5 \n",
        "for layer in model_2.layers[2].layers[:-5]:\n",
        "  layer.trainable = False"
      ],
      "execution_count": 80,
      "outputs": []
    },
    {
      "cell_type": "code",
      "metadata": {
        "colab": {
          "base_uri": "https://localhost:8080/"
        },
        "id": "mwAj5YG8nCOS",
        "outputId": "397464e9-64ad-4ffa-e346-e0276e84e5a3"
      },
      "source": [
        "for layer in model_2.layers[2].layers:\n",
        "  print(layer.name , layer.trainable , layer.dtype_policy)"
      ],
      "execution_count": 81,
      "outputs": [
        {
          "output_type": "stream",
          "text": [
            "input_7 False <Policy \"float32\">\n",
            "rescaling_6 False <Policy \"mixed_float16\">\n",
            "normalization_6 False <Policy \"float32\">\n",
            "stem_conv_pad False <Policy \"mixed_float16\">\n",
            "stem_conv False <Policy \"mixed_float16\">\n",
            "stem_bn False <Policy \"mixed_float16\">\n",
            "stem_activation False <Policy \"mixed_float16\">\n",
            "block1a_dwconv False <Policy \"mixed_float16\">\n",
            "block1a_bn False <Policy \"mixed_float16\">\n",
            "block1a_activation False <Policy \"mixed_float16\">\n",
            "block1a_se_squeeze False <Policy \"mixed_float16\">\n",
            "block1a_se_reshape False <Policy \"mixed_float16\">\n",
            "block1a_se_reduce False <Policy \"mixed_float16\">\n",
            "block1a_se_expand False <Policy \"mixed_float16\">\n",
            "block1a_se_excite False <Policy \"mixed_float16\">\n",
            "block1a_project_conv False <Policy \"mixed_float16\">\n",
            "block1a_project_bn False <Policy \"mixed_float16\">\n",
            "block1b_dwconv False <Policy \"mixed_float16\">\n",
            "block1b_bn False <Policy \"mixed_float16\">\n",
            "block1b_activation False <Policy \"mixed_float16\">\n",
            "block1b_se_squeeze False <Policy \"mixed_float16\">\n",
            "block1b_se_reshape False <Policy \"mixed_float16\">\n",
            "block1b_se_reduce False <Policy \"mixed_float16\">\n",
            "block1b_se_expand False <Policy \"mixed_float16\">\n",
            "block1b_se_excite False <Policy \"mixed_float16\">\n",
            "block1b_project_conv False <Policy \"mixed_float16\">\n",
            "block1b_project_bn False <Policy \"mixed_float16\">\n",
            "block1b_drop False <Policy \"mixed_float16\">\n",
            "block1b_add False <Policy \"mixed_float16\">\n",
            "block2a_expand_conv False <Policy \"mixed_float16\">\n",
            "block2a_expand_bn False <Policy \"mixed_float16\">\n",
            "block2a_expand_activation False <Policy \"mixed_float16\">\n",
            "block2a_dwconv_pad False <Policy \"mixed_float16\">\n",
            "block2a_dwconv False <Policy \"mixed_float16\">\n",
            "block2a_bn False <Policy \"mixed_float16\">\n",
            "block2a_activation False <Policy \"mixed_float16\">\n",
            "block2a_se_squeeze False <Policy \"mixed_float16\">\n",
            "block2a_se_reshape False <Policy \"mixed_float16\">\n",
            "block2a_se_reduce False <Policy \"mixed_float16\">\n",
            "block2a_se_expand False <Policy \"mixed_float16\">\n",
            "block2a_se_excite False <Policy \"mixed_float16\">\n",
            "block2a_project_conv False <Policy \"mixed_float16\">\n",
            "block2a_project_bn False <Policy \"mixed_float16\">\n",
            "block2b_expand_conv False <Policy \"mixed_float16\">\n",
            "block2b_expand_bn False <Policy \"mixed_float16\">\n",
            "block2b_expand_activation False <Policy \"mixed_float16\">\n",
            "block2b_dwconv False <Policy \"mixed_float16\">\n",
            "block2b_bn False <Policy \"mixed_float16\">\n",
            "block2b_activation False <Policy \"mixed_float16\">\n",
            "block2b_se_squeeze False <Policy \"mixed_float16\">\n",
            "block2b_se_reshape False <Policy \"mixed_float16\">\n",
            "block2b_se_reduce False <Policy \"mixed_float16\">\n",
            "block2b_se_expand False <Policy \"mixed_float16\">\n",
            "block2b_se_excite False <Policy \"mixed_float16\">\n",
            "block2b_project_conv False <Policy \"mixed_float16\">\n",
            "block2b_project_bn False <Policy \"mixed_float16\">\n",
            "block2b_drop False <Policy \"mixed_float16\">\n",
            "block2b_add False <Policy \"mixed_float16\">\n",
            "block2c_expand_conv False <Policy \"mixed_float16\">\n",
            "block2c_expand_bn False <Policy \"mixed_float16\">\n",
            "block2c_expand_activation False <Policy \"mixed_float16\">\n",
            "block2c_dwconv False <Policy \"mixed_float16\">\n",
            "block2c_bn False <Policy \"mixed_float16\">\n",
            "block2c_activation False <Policy \"mixed_float16\">\n",
            "block2c_se_squeeze False <Policy \"mixed_float16\">\n",
            "block2c_se_reshape False <Policy \"mixed_float16\">\n",
            "block2c_se_reduce False <Policy \"mixed_float16\">\n",
            "block2c_se_expand False <Policy \"mixed_float16\">\n",
            "block2c_se_excite False <Policy \"mixed_float16\">\n",
            "block2c_project_conv False <Policy \"mixed_float16\">\n",
            "block2c_project_bn False <Policy \"mixed_float16\">\n",
            "block2c_drop False <Policy \"mixed_float16\">\n",
            "block2c_add False <Policy \"mixed_float16\">\n",
            "block2d_expand_conv False <Policy \"mixed_float16\">\n",
            "block2d_expand_bn False <Policy \"mixed_float16\">\n",
            "block2d_expand_activation False <Policy \"mixed_float16\">\n",
            "block2d_dwconv False <Policy \"mixed_float16\">\n",
            "block2d_bn False <Policy \"mixed_float16\">\n",
            "block2d_activation False <Policy \"mixed_float16\">\n",
            "block2d_se_squeeze False <Policy \"mixed_float16\">\n",
            "block2d_se_reshape False <Policy \"mixed_float16\">\n",
            "block2d_se_reduce False <Policy \"mixed_float16\">\n",
            "block2d_se_expand False <Policy \"mixed_float16\">\n",
            "block2d_se_excite False <Policy \"mixed_float16\">\n",
            "block2d_project_conv False <Policy \"mixed_float16\">\n",
            "block2d_project_bn False <Policy \"mixed_float16\">\n",
            "block2d_drop False <Policy \"mixed_float16\">\n",
            "block2d_add False <Policy \"mixed_float16\">\n",
            "block3a_expand_conv False <Policy \"mixed_float16\">\n",
            "block3a_expand_bn False <Policy \"mixed_float16\">\n",
            "block3a_expand_activation False <Policy \"mixed_float16\">\n",
            "block3a_dwconv_pad False <Policy \"mixed_float16\">\n",
            "block3a_dwconv False <Policy \"mixed_float16\">\n",
            "block3a_bn False <Policy \"mixed_float16\">\n",
            "block3a_activation False <Policy \"mixed_float16\">\n",
            "block3a_se_squeeze False <Policy \"mixed_float16\">\n",
            "block3a_se_reshape False <Policy \"mixed_float16\">\n",
            "block3a_se_reduce False <Policy \"mixed_float16\">\n",
            "block3a_se_expand False <Policy \"mixed_float16\">\n",
            "block3a_se_excite False <Policy \"mixed_float16\">\n",
            "block3a_project_conv False <Policy \"mixed_float16\">\n",
            "block3a_project_bn False <Policy \"mixed_float16\">\n",
            "block3b_expand_conv False <Policy \"mixed_float16\">\n",
            "block3b_expand_bn False <Policy \"mixed_float16\">\n",
            "block3b_expand_activation False <Policy \"mixed_float16\">\n",
            "block3b_dwconv False <Policy \"mixed_float16\">\n",
            "block3b_bn False <Policy \"mixed_float16\">\n",
            "block3b_activation False <Policy \"mixed_float16\">\n",
            "block3b_se_squeeze False <Policy \"mixed_float16\">\n",
            "block3b_se_reshape False <Policy \"mixed_float16\">\n",
            "block3b_se_reduce False <Policy \"mixed_float16\">\n",
            "block3b_se_expand False <Policy \"mixed_float16\">\n",
            "block3b_se_excite False <Policy \"mixed_float16\">\n",
            "block3b_project_conv False <Policy \"mixed_float16\">\n",
            "block3b_project_bn False <Policy \"mixed_float16\">\n",
            "block3b_drop False <Policy \"mixed_float16\">\n",
            "block3b_add False <Policy \"mixed_float16\">\n",
            "block3c_expand_conv False <Policy \"mixed_float16\">\n",
            "block3c_expand_bn False <Policy \"mixed_float16\">\n",
            "block3c_expand_activation False <Policy \"mixed_float16\">\n",
            "block3c_dwconv False <Policy \"mixed_float16\">\n",
            "block3c_bn False <Policy \"mixed_float16\">\n",
            "block3c_activation False <Policy \"mixed_float16\">\n",
            "block3c_se_squeeze False <Policy \"mixed_float16\">\n",
            "block3c_se_reshape False <Policy \"mixed_float16\">\n",
            "block3c_se_reduce False <Policy \"mixed_float16\">\n",
            "block3c_se_expand False <Policy \"mixed_float16\">\n",
            "block3c_se_excite False <Policy \"mixed_float16\">\n",
            "block3c_project_conv False <Policy \"mixed_float16\">\n",
            "block3c_project_bn False <Policy \"mixed_float16\">\n",
            "block3c_drop False <Policy \"mixed_float16\">\n",
            "block3c_add False <Policy \"mixed_float16\">\n",
            "block3d_expand_conv False <Policy \"mixed_float16\">\n",
            "block3d_expand_bn False <Policy \"mixed_float16\">\n",
            "block3d_expand_activation False <Policy \"mixed_float16\">\n",
            "block3d_dwconv False <Policy \"mixed_float16\">\n",
            "block3d_bn False <Policy \"mixed_float16\">\n",
            "block3d_activation False <Policy \"mixed_float16\">\n",
            "block3d_se_squeeze False <Policy \"mixed_float16\">\n",
            "block3d_se_reshape False <Policy \"mixed_float16\">\n",
            "block3d_se_reduce False <Policy \"mixed_float16\">\n",
            "block3d_se_expand False <Policy \"mixed_float16\">\n",
            "block3d_se_excite False <Policy \"mixed_float16\">\n",
            "block3d_project_conv False <Policy \"mixed_float16\">\n",
            "block3d_project_bn False <Policy \"mixed_float16\">\n",
            "block3d_drop False <Policy \"mixed_float16\">\n",
            "block3d_add False <Policy \"mixed_float16\">\n",
            "block4a_expand_conv False <Policy \"mixed_float16\">\n",
            "block4a_expand_bn False <Policy \"mixed_float16\">\n",
            "block4a_expand_activation False <Policy \"mixed_float16\">\n",
            "block4a_dwconv_pad False <Policy \"mixed_float16\">\n",
            "block4a_dwconv False <Policy \"mixed_float16\">\n",
            "block4a_bn False <Policy \"mixed_float16\">\n",
            "block4a_activation False <Policy \"mixed_float16\">\n",
            "block4a_se_squeeze False <Policy \"mixed_float16\">\n",
            "block4a_se_reshape False <Policy \"mixed_float16\">\n",
            "block4a_se_reduce False <Policy \"mixed_float16\">\n",
            "block4a_se_expand False <Policy \"mixed_float16\">\n",
            "block4a_se_excite False <Policy \"mixed_float16\">\n",
            "block4a_project_conv False <Policy \"mixed_float16\">\n",
            "block4a_project_bn False <Policy \"mixed_float16\">\n",
            "block4b_expand_conv False <Policy \"mixed_float16\">\n",
            "block4b_expand_bn False <Policy \"mixed_float16\">\n",
            "block4b_expand_activation False <Policy \"mixed_float16\">\n",
            "block4b_dwconv False <Policy \"mixed_float16\">\n",
            "block4b_bn False <Policy \"mixed_float16\">\n",
            "block4b_activation False <Policy \"mixed_float16\">\n",
            "block4b_se_squeeze False <Policy \"mixed_float16\">\n",
            "block4b_se_reshape False <Policy \"mixed_float16\">\n",
            "block4b_se_reduce False <Policy \"mixed_float16\">\n",
            "block4b_se_expand False <Policy \"mixed_float16\">\n",
            "block4b_se_excite False <Policy \"mixed_float16\">\n",
            "block4b_project_conv False <Policy \"mixed_float16\">\n",
            "block4b_project_bn False <Policy \"mixed_float16\">\n",
            "block4b_drop False <Policy \"mixed_float16\">\n",
            "block4b_add False <Policy \"mixed_float16\">\n",
            "block4c_expand_conv False <Policy \"mixed_float16\">\n",
            "block4c_expand_bn False <Policy \"mixed_float16\">\n",
            "block4c_expand_activation False <Policy \"mixed_float16\">\n",
            "block4c_dwconv False <Policy \"mixed_float16\">\n",
            "block4c_bn False <Policy \"mixed_float16\">\n",
            "block4c_activation False <Policy \"mixed_float16\">\n",
            "block4c_se_squeeze False <Policy \"mixed_float16\">\n",
            "block4c_se_reshape False <Policy \"mixed_float16\">\n",
            "block4c_se_reduce False <Policy \"mixed_float16\">\n",
            "block4c_se_expand False <Policy \"mixed_float16\">\n",
            "block4c_se_excite False <Policy \"mixed_float16\">\n",
            "block4c_project_conv False <Policy \"mixed_float16\">\n",
            "block4c_project_bn False <Policy \"mixed_float16\">\n",
            "block4c_drop False <Policy \"mixed_float16\">\n",
            "block4c_add False <Policy \"mixed_float16\">\n",
            "block4d_expand_conv False <Policy \"mixed_float16\">\n",
            "block4d_expand_bn False <Policy \"mixed_float16\">\n",
            "block4d_expand_activation False <Policy \"mixed_float16\">\n",
            "block4d_dwconv False <Policy \"mixed_float16\">\n",
            "block4d_bn False <Policy \"mixed_float16\">\n",
            "block4d_activation False <Policy \"mixed_float16\">\n",
            "block4d_se_squeeze False <Policy \"mixed_float16\">\n",
            "block4d_se_reshape False <Policy \"mixed_float16\">\n",
            "block4d_se_reduce False <Policy \"mixed_float16\">\n",
            "block4d_se_expand False <Policy \"mixed_float16\">\n",
            "block4d_se_excite False <Policy \"mixed_float16\">\n",
            "block4d_project_conv False <Policy \"mixed_float16\">\n",
            "block4d_project_bn False <Policy \"mixed_float16\">\n",
            "block4d_drop False <Policy \"mixed_float16\">\n",
            "block4d_add False <Policy \"mixed_float16\">\n",
            "block4e_expand_conv False <Policy \"mixed_float16\">\n",
            "block4e_expand_bn False <Policy \"mixed_float16\">\n",
            "block4e_expand_activation False <Policy \"mixed_float16\">\n",
            "block4e_dwconv False <Policy \"mixed_float16\">\n",
            "block4e_bn False <Policy \"mixed_float16\">\n",
            "block4e_activation False <Policy \"mixed_float16\">\n",
            "block4e_se_squeeze False <Policy \"mixed_float16\">\n",
            "block4e_se_reshape False <Policy \"mixed_float16\">\n",
            "block4e_se_reduce False <Policy \"mixed_float16\">\n",
            "block4e_se_expand False <Policy \"mixed_float16\">\n",
            "block4e_se_excite False <Policy \"mixed_float16\">\n",
            "block4e_project_conv False <Policy \"mixed_float16\">\n",
            "block4e_project_bn False <Policy \"mixed_float16\">\n",
            "block4e_drop False <Policy \"mixed_float16\">\n",
            "block4e_add False <Policy \"mixed_float16\">\n",
            "block4f_expand_conv False <Policy \"mixed_float16\">\n",
            "block4f_expand_bn False <Policy \"mixed_float16\">\n",
            "block4f_expand_activation False <Policy \"mixed_float16\">\n",
            "block4f_dwconv False <Policy \"mixed_float16\">\n",
            "block4f_bn False <Policy \"mixed_float16\">\n",
            "block4f_activation False <Policy \"mixed_float16\">\n",
            "block4f_se_squeeze False <Policy \"mixed_float16\">\n",
            "block4f_se_reshape False <Policy \"mixed_float16\">\n",
            "block4f_se_reduce False <Policy \"mixed_float16\">\n",
            "block4f_se_expand False <Policy \"mixed_float16\">\n",
            "block4f_se_excite False <Policy \"mixed_float16\">\n",
            "block4f_project_conv False <Policy \"mixed_float16\">\n",
            "block4f_project_bn False <Policy \"mixed_float16\">\n",
            "block4f_drop False <Policy \"mixed_float16\">\n",
            "block4f_add False <Policy \"mixed_float16\">\n",
            "block5a_expand_conv False <Policy \"mixed_float16\">\n",
            "block5a_expand_bn False <Policy \"mixed_float16\">\n",
            "block5a_expand_activation False <Policy \"mixed_float16\">\n",
            "block5a_dwconv False <Policy \"mixed_float16\">\n",
            "block5a_bn False <Policy \"mixed_float16\">\n",
            "block5a_activation False <Policy \"mixed_float16\">\n",
            "block5a_se_squeeze False <Policy \"mixed_float16\">\n",
            "block5a_se_reshape False <Policy \"mixed_float16\">\n",
            "block5a_se_reduce False <Policy \"mixed_float16\">\n",
            "block5a_se_expand False <Policy \"mixed_float16\">\n",
            "block5a_se_excite False <Policy \"mixed_float16\">\n",
            "block5a_project_conv False <Policy \"mixed_float16\">\n",
            "block5a_project_bn False <Policy \"mixed_float16\">\n",
            "block5b_expand_conv False <Policy \"mixed_float16\">\n",
            "block5b_expand_bn False <Policy \"mixed_float16\">\n",
            "block5b_expand_activation False <Policy \"mixed_float16\">\n",
            "block5b_dwconv False <Policy \"mixed_float16\">\n",
            "block5b_bn False <Policy \"mixed_float16\">\n",
            "block5b_activation False <Policy \"mixed_float16\">\n",
            "block5b_se_squeeze False <Policy \"mixed_float16\">\n",
            "block5b_se_reshape False <Policy \"mixed_float16\">\n",
            "block5b_se_reduce False <Policy \"mixed_float16\">\n",
            "block5b_se_expand False <Policy \"mixed_float16\">\n",
            "block5b_se_excite False <Policy \"mixed_float16\">\n",
            "block5b_project_conv False <Policy \"mixed_float16\">\n",
            "block5b_project_bn False <Policy \"mixed_float16\">\n",
            "block5b_drop False <Policy \"mixed_float16\">\n",
            "block5b_add False <Policy \"mixed_float16\">\n",
            "block5c_expand_conv False <Policy \"mixed_float16\">\n",
            "block5c_expand_bn False <Policy \"mixed_float16\">\n",
            "block5c_expand_activation False <Policy \"mixed_float16\">\n",
            "block5c_dwconv False <Policy \"mixed_float16\">\n",
            "block5c_bn False <Policy \"mixed_float16\">\n",
            "block5c_activation False <Policy \"mixed_float16\">\n",
            "block5c_se_squeeze False <Policy \"mixed_float16\">\n",
            "block5c_se_reshape False <Policy \"mixed_float16\">\n",
            "block5c_se_reduce False <Policy \"mixed_float16\">\n",
            "block5c_se_expand False <Policy \"mixed_float16\">\n",
            "block5c_se_excite False <Policy \"mixed_float16\">\n",
            "block5c_project_conv False <Policy \"mixed_float16\">\n",
            "block5c_project_bn False <Policy \"mixed_float16\">\n",
            "block5c_drop False <Policy \"mixed_float16\">\n",
            "block5c_add False <Policy \"mixed_float16\">\n",
            "block5d_expand_conv False <Policy \"mixed_float16\">\n",
            "block5d_expand_bn False <Policy \"mixed_float16\">\n",
            "block5d_expand_activation False <Policy \"mixed_float16\">\n",
            "block5d_dwconv False <Policy \"mixed_float16\">\n",
            "block5d_bn False <Policy \"mixed_float16\">\n",
            "block5d_activation False <Policy \"mixed_float16\">\n",
            "block5d_se_squeeze False <Policy \"mixed_float16\">\n",
            "block5d_se_reshape False <Policy \"mixed_float16\">\n",
            "block5d_se_reduce False <Policy \"mixed_float16\">\n",
            "block5d_se_expand False <Policy \"mixed_float16\">\n",
            "block5d_se_excite False <Policy \"mixed_float16\">\n",
            "block5d_project_conv False <Policy \"mixed_float16\">\n",
            "block5d_project_bn False <Policy \"mixed_float16\">\n",
            "block5d_drop False <Policy \"mixed_float16\">\n",
            "block5d_add False <Policy \"mixed_float16\">\n",
            "block5e_expand_conv False <Policy \"mixed_float16\">\n",
            "block5e_expand_bn False <Policy \"mixed_float16\">\n",
            "block5e_expand_activation False <Policy \"mixed_float16\">\n",
            "block5e_dwconv False <Policy \"mixed_float16\">\n",
            "block5e_bn False <Policy \"mixed_float16\">\n",
            "block5e_activation False <Policy \"mixed_float16\">\n",
            "block5e_se_squeeze False <Policy \"mixed_float16\">\n",
            "block5e_se_reshape False <Policy \"mixed_float16\">\n",
            "block5e_se_reduce False <Policy \"mixed_float16\">\n",
            "block5e_se_expand False <Policy \"mixed_float16\">\n",
            "block5e_se_excite False <Policy \"mixed_float16\">\n",
            "block5e_project_conv False <Policy \"mixed_float16\">\n",
            "block5e_project_bn False <Policy \"mixed_float16\">\n",
            "block5e_drop False <Policy \"mixed_float16\">\n",
            "block5e_add False <Policy \"mixed_float16\">\n",
            "block5f_expand_conv False <Policy \"mixed_float16\">\n",
            "block5f_expand_bn False <Policy \"mixed_float16\">\n",
            "block5f_expand_activation False <Policy \"mixed_float16\">\n",
            "block5f_dwconv False <Policy \"mixed_float16\">\n",
            "block5f_bn False <Policy \"mixed_float16\">\n",
            "block5f_activation False <Policy \"mixed_float16\">\n",
            "block5f_se_squeeze False <Policy \"mixed_float16\">\n",
            "block5f_se_reshape False <Policy \"mixed_float16\">\n",
            "block5f_se_reduce False <Policy \"mixed_float16\">\n",
            "block5f_se_expand False <Policy \"mixed_float16\">\n",
            "block5f_se_excite False <Policy \"mixed_float16\">\n",
            "block5f_project_conv False <Policy \"mixed_float16\">\n",
            "block5f_project_bn False <Policy \"mixed_float16\">\n",
            "block5f_drop False <Policy \"mixed_float16\">\n",
            "block5f_add False <Policy \"mixed_float16\">\n",
            "block6a_expand_conv False <Policy \"mixed_float16\">\n",
            "block6a_expand_bn False <Policy \"mixed_float16\">\n",
            "block6a_expand_activation False <Policy \"mixed_float16\">\n",
            "block6a_dwconv_pad False <Policy \"mixed_float16\">\n",
            "block6a_dwconv False <Policy \"mixed_float16\">\n",
            "block6a_bn False <Policy \"mixed_float16\">\n",
            "block6a_activation False <Policy \"mixed_float16\">\n",
            "block6a_se_squeeze False <Policy \"mixed_float16\">\n",
            "block6a_se_reshape False <Policy \"mixed_float16\">\n",
            "block6a_se_reduce False <Policy \"mixed_float16\">\n",
            "block6a_se_expand False <Policy \"mixed_float16\">\n",
            "block6a_se_excite False <Policy \"mixed_float16\">\n",
            "block6a_project_conv False <Policy \"mixed_float16\">\n",
            "block6a_project_bn False <Policy \"mixed_float16\">\n",
            "block6b_expand_conv False <Policy \"mixed_float16\">\n",
            "block6b_expand_bn False <Policy \"mixed_float16\">\n",
            "block6b_expand_activation False <Policy \"mixed_float16\">\n",
            "block6b_dwconv False <Policy \"mixed_float16\">\n",
            "block6b_bn False <Policy \"mixed_float16\">\n",
            "block6b_activation False <Policy \"mixed_float16\">\n",
            "block6b_se_squeeze False <Policy \"mixed_float16\">\n",
            "block6b_se_reshape False <Policy \"mixed_float16\">\n",
            "block6b_se_reduce False <Policy \"mixed_float16\">\n",
            "block6b_se_expand False <Policy \"mixed_float16\">\n",
            "block6b_se_excite False <Policy \"mixed_float16\">\n",
            "block6b_project_conv False <Policy \"mixed_float16\">\n",
            "block6b_project_bn False <Policy \"mixed_float16\">\n",
            "block6b_drop False <Policy \"mixed_float16\">\n",
            "block6b_add False <Policy \"mixed_float16\">\n",
            "block6c_expand_conv False <Policy \"mixed_float16\">\n",
            "block6c_expand_bn False <Policy \"mixed_float16\">\n",
            "block6c_expand_activation False <Policy \"mixed_float16\">\n",
            "block6c_dwconv False <Policy \"mixed_float16\">\n",
            "block6c_bn False <Policy \"mixed_float16\">\n",
            "block6c_activation False <Policy \"mixed_float16\">\n",
            "block6c_se_squeeze False <Policy \"mixed_float16\">\n",
            "block6c_se_reshape False <Policy \"mixed_float16\">\n",
            "block6c_se_reduce False <Policy \"mixed_float16\">\n",
            "block6c_se_expand False <Policy \"mixed_float16\">\n",
            "block6c_se_excite False <Policy \"mixed_float16\">\n",
            "block6c_project_conv False <Policy \"mixed_float16\">\n",
            "block6c_project_bn False <Policy \"mixed_float16\">\n",
            "block6c_drop False <Policy \"mixed_float16\">\n",
            "block6c_add False <Policy \"mixed_float16\">\n",
            "block6d_expand_conv False <Policy \"mixed_float16\">\n",
            "block6d_expand_bn False <Policy \"mixed_float16\">\n",
            "block6d_expand_activation False <Policy \"mixed_float16\">\n",
            "block6d_dwconv False <Policy \"mixed_float16\">\n",
            "block6d_bn False <Policy \"mixed_float16\">\n",
            "block6d_activation False <Policy \"mixed_float16\">\n",
            "block6d_se_squeeze False <Policy \"mixed_float16\">\n",
            "block6d_se_reshape False <Policy \"mixed_float16\">\n",
            "block6d_se_reduce False <Policy \"mixed_float16\">\n",
            "block6d_se_expand False <Policy \"mixed_float16\">\n",
            "block6d_se_excite False <Policy \"mixed_float16\">\n",
            "block6d_project_conv False <Policy \"mixed_float16\">\n",
            "block6d_project_bn False <Policy \"mixed_float16\">\n",
            "block6d_drop False <Policy \"mixed_float16\">\n",
            "block6d_add False <Policy \"mixed_float16\">\n",
            "block6e_expand_conv False <Policy \"mixed_float16\">\n",
            "block6e_expand_bn False <Policy \"mixed_float16\">\n",
            "block6e_expand_activation False <Policy \"mixed_float16\">\n",
            "block6e_dwconv False <Policy \"mixed_float16\">\n",
            "block6e_bn False <Policy \"mixed_float16\">\n",
            "block6e_activation False <Policy \"mixed_float16\">\n",
            "block6e_se_squeeze False <Policy \"mixed_float16\">\n",
            "block6e_se_reshape False <Policy \"mixed_float16\">\n",
            "block6e_se_reduce False <Policy \"mixed_float16\">\n",
            "block6e_se_expand False <Policy \"mixed_float16\">\n",
            "block6e_se_excite False <Policy \"mixed_float16\">\n",
            "block6e_project_conv False <Policy \"mixed_float16\">\n",
            "block6e_project_bn False <Policy \"mixed_float16\">\n",
            "block6e_drop False <Policy \"mixed_float16\">\n",
            "block6e_add False <Policy \"mixed_float16\">\n",
            "block6f_expand_conv False <Policy \"mixed_float16\">\n",
            "block6f_expand_bn False <Policy \"mixed_float16\">\n",
            "block6f_expand_activation False <Policy \"mixed_float16\">\n",
            "block6f_dwconv False <Policy \"mixed_float16\">\n",
            "block6f_bn False <Policy \"mixed_float16\">\n",
            "block6f_activation False <Policy \"mixed_float16\">\n",
            "block6f_se_squeeze False <Policy \"mixed_float16\">\n",
            "block6f_se_reshape False <Policy \"mixed_float16\">\n",
            "block6f_se_reduce False <Policy \"mixed_float16\">\n",
            "block6f_se_expand False <Policy \"mixed_float16\">\n",
            "block6f_se_excite False <Policy \"mixed_float16\">\n",
            "block6f_project_conv False <Policy \"mixed_float16\">\n",
            "block6f_project_bn False <Policy \"mixed_float16\">\n",
            "block6f_drop False <Policy \"mixed_float16\">\n",
            "block6f_add False <Policy \"mixed_float16\">\n",
            "block6g_expand_conv False <Policy \"mixed_float16\">\n",
            "block6g_expand_bn False <Policy \"mixed_float16\">\n",
            "block6g_expand_activation False <Policy \"mixed_float16\">\n",
            "block6g_dwconv False <Policy \"mixed_float16\">\n",
            "block6g_bn False <Policy \"mixed_float16\">\n",
            "block6g_activation False <Policy \"mixed_float16\">\n",
            "block6g_se_squeeze False <Policy \"mixed_float16\">\n",
            "block6g_se_reshape False <Policy \"mixed_float16\">\n",
            "block6g_se_reduce False <Policy \"mixed_float16\">\n",
            "block6g_se_expand False <Policy \"mixed_float16\">\n",
            "block6g_se_excite False <Policy \"mixed_float16\">\n",
            "block6g_project_conv False <Policy \"mixed_float16\">\n",
            "block6g_project_bn False <Policy \"mixed_float16\">\n",
            "block6g_drop False <Policy \"mixed_float16\">\n",
            "block6g_add False <Policy \"mixed_float16\">\n",
            "block6h_expand_conv False <Policy \"mixed_float16\">\n",
            "block6h_expand_bn False <Policy \"mixed_float16\">\n",
            "block6h_expand_activation False <Policy \"mixed_float16\">\n",
            "block6h_dwconv False <Policy \"mixed_float16\">\n",
            "block6h_bn False <Policy \"mixed_float16\">\n",
            "block6h_activation False <Policy \"mixed_float16\">\n",
            "block6h_se_squeeze False <Policy \"mixed_float16\">\n",
            "block6h_se_reshape False <Policy \"mixed_float16\">\n",
            "block6h_se_reduce False <Policy \"mixed_float16\">\n",
            "block6h_se_expand False <Policy \"mixed_float16\">\n",
            "block6h_se_excite False <Policy \"mixed_float16\">\n",
            "block6h_project_conv False <Policy \"mixed_float16\">\n",
            "block6h_project_bn False <Policy \"mixed_float16\">\n",
            "block6h_drop False <Policy \"mixed_float16\">\n",
            "block6h_add False <Policy \"mixed_float16\">\n",
            "block7a_expand_conv False <Policy \"mixed_float16\">\n",
            "block7a_expand_bn False <Policy \"mixed_float16\">\n",
            "block7a_expand_activation False <Policy \"mixed_float16\">\n",
            "block7a_dwconv False <Policy \"mixed_float16\">\n",
            "block7a_bn False <Policy \"mixed_float16\">\n",
            "block7a_activation False <Policy \"mixed_float16\">\n",
            "block7a_se_squeeze False <Policy \"mixed_float16\">\n",
            "block7a_se_reshape False <Policy \"mixed_float16\">\n",
            "block7a_se_reduce False <Policy \"mixed_float16\">\n",
            "block7a_se_expand False <Policy \"mixed_float16\">\n",
            "block7a_se_excite False <Policy \"mixed_float16\">\n",
            "block7a_project_conv False <Policy \"mixed_float16\">\n",
            "block7a_project_bn False <Policy \"mixed_float16\">\n",
            "block7b_expand_conv False <Policy \"mixed_float16\">\n",
            "block7b_expand_bn False <Policy \"mixed_float16\">\n",
            "block7b_expand_activation False <Policy \"mixed_float16\">\n",
            "block7b_dwconv False <Policy \"mixed_float16\">\n",
            "block7b_bn False <Policy \"mixed_float16\">\n",
            "block7b_activation False <Policy \"mixed_float16\">\n",
            "block7b_se_squeeze False <Policy \"mixed_float16\">\n",
            "block7b_se_reshape False <Policy \"mixed_float16\">\n",
            "block7b_se_reduce False <Policy \"mixed_float16\">\n",
            "block7b_se_expand False <Policy \"mixed_float16\">\n",
            "block7b_se_excite False <Policy \"mixed_float16\">\n",
            "block7b_project_conv False <Policy \"mixed_float16\">\n",
            "block7b_project_bn False <Policy \"mixed_float16\">\n",
            "block7b_drop True <Policy \"mixed_float16\">\n",
            "block7b_add True <Policy \"mixed_float16\">\n",
            "top_conv True <Policy \"mixed_float16\">\n",
            "top_bn True <Policy \"mixed_float16\">\n",
            "top_activation True <Policy \"mixed_float16\">\n"
          ],
          "name": "stdout"
        }
      ]
    },
    {
      "cell_type": "code",
      "metadata": {
        "colab": {
          "base_uri": "https://localhost:8080/"
        },
        "id": "xSN5OFHunL0R",
        "outputId": "1012badd-7396-4959-bfb4-e3dd4729fd1d"
      },
      "source": [
        "history_fine_tune_model_2 = fine_tune_trainer(train_data , \n",
        "                                              test_data , \n",
        "                                              model_2 , \n",
        "                                              history_feature_model_2 , \n",
        "                                              num_fine_tune_epochs = 10 , \n",
        "                                              callbacks = [lr_scheduler_1])"
      ],
      "execution_count": null,
      "outputs": [
        {
          "output_type": "stream",
          "text": [
            "Epoch 3/13\n",
            "2368/2368 [==============================] - 1249s 527ms/step - loss: 1.9454 - accuracy: 0.5214 - val_loss: 1.5521 - val_accuracy: 0.6160\n",
            "Epoch 4/13\n",
            "2368/2368 [==============================] - 1247s 526ms/step - loss: 1.8600 - accuracy: 0.5374 - val_loss: 1.4915 - val_accuracy: 0.6311\n",
            "Epoch 5/13\n",
            "2368/2368 [==============================] - 1246s 525ms/step - loss: 1.7936 - accuracy: 0.5516 - val_loss: 1.4405 - val_accuracy: 0.6414\n",
            "Epoch 6/13\n",
            "2368/2368 [==============================] - 1243s 524ms/step - loss: 1.7390 - accuracy: 0.5634 - val_loss: 1.4007 - val_accuracy: 0.6422\n",
            "Epoch 7/13\n",
            "2368/2368 [==============================] - 1239s 523ms/step - loss: 1.6947 - accuracy: 0.5726 - val_loss: 1.3739 - val_accuracy: 0.6507\n",
            "Epoch 8/13\n",
            "2368/2368 [==============================] - 1248s 526ms/step - loss: 1.6502 - accuracy: 0.5837 - val_loss: 1.3328 - val_accuracy: 0.6623\n",
            "Epoch 9/13\n",
            "2368/2368 [==============================] - 1246s 525ms/step - loss: 1.6121 - accuracy: 0.5903 - val_loss: 1.3060 - val_accuracy: 0.6645\n",
            "Epoch 10/13\n",
            "2368/2368 [==============================] - 1235s 521ms/step - loss: 1.5808 - accuracy: 0.5986 - val_loss: 1.2983 - val_accuracy: 0.6668\n",
            "Epoch 11/13\n",
            "2368/2368 [==============================] - 1246s 526ms/step - loss: 1.5529 - accuracy: 0.6030 - val_loss: 1.2823 - val_accuracy: 0.6695\n",
            "Epoch 12/13\n",
            "1646/2368 [===================>..........] - ETA: 6:09 - loss: 1.5247 - accuracy: 0.6091"
          ],
          "name": "stdout"
        }
      ]
    },
    {
      "cell_type": "code",
      "metadata": {
        "colab": {
          "base_uri": "https://localhost:8080/"
        },
        "id": "n7DxEs1Hn-op",
        "outputId": "aced49ef-61ba-48aa-f36d-dcad566b63cd"
      },
      "source": [
        "# Evaluate on the full test data \n",
        "results_fine_tuned_model_2 = model_2.evaluate(test_data)"
      ],
      "execution_count": 47,
      "outputs": [
        {
          "output_type": "stream",
          "text": [
            "790/790 [==============================] - 45s 57ms/step - loss: 1.2959 - accuracy: 0.6548\n"
          ],
          "name": "stdout"
        }
      ]
    },
    {
      "cell_type": "code",
      "metadata": {
        "id": "Hl4uRQ4MubEC"
      },
      "source": [
        ""
      ],
      "execution_count": null,
      "outputs": []
    }
  ]
}
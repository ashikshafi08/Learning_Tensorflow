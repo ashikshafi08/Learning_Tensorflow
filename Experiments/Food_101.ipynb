{
  "nbformat": 4,
  "nbformat_minor": 0,
  "metadata": {
    "colab": {
      "name": "Food_101.ipynb",
      "provenance": [],
      "collapsed_sections": [],
      "authorship_tag": "ABX9TyPkaISM38/orxqtyFdacuAS",
      "include_colab_link": true
    },
    "kernelspec": {
      "name": "python3",
      "display_name": "Python 3"
    },
    "language_info": {
      "name": "python"
    },
    "accelerator": "GPU",
    "widgets": {
      "application/vnd.jupyter.widget-state+json": {
        "8af1eb425d8446508457ff421e1108b8": {
          "model_module": "@jupyter-widgets/controls",
          "model_name": "HBoxModel",
          "state": {
            "_view_name": "HBoxView",
            "_dom_classes": [],
            "_model_name": "HBoxModel",
            "_view_module": "@jupyter-widgets/controls",
            "_model_module_version": "1.5.0",
            "_view_count": null,
            "_view_module_version": "1.5.0",
            "box_style": "",
            "layout": "IPY_MODEL_d78ffd1774ea43c882a45f714d40ed9d",
            "_model_module": "@jupyter-widgets/controls",
            "children": [
              "IPY_MODEL_cca6e002176749b5a5afac2c383cb699",
              "IPY_MODEL_c18c6d8d94d042a1a1e707a03e7db964"
            ]
          }
        },
        "d78ffd1774ea43c882a45f714d40ed9d": {
          "model_module": "@jupyter-widgets/base",
          "model_name": "LayoutModel",
          "state": {
            "_view_name": "LayoutView",
            "grid_template_rows": null,
            "right": null,
            "justify_content": null,
            "_view_module": "@jupyter-widgets/base",
            "overflow": null,
            "_model_module_version": "1.2.0",
            "_view_count": null,
            "flex_flow": null,
            "width": null,
            "min_width": null,
            "border": null,
            "align_items": null,
            "bottom": null,
            "_model_module": "@jupyter-widgets/base",
            "top": null,
            "grid_column": null,
            "overflow_y": null,
            "overflow_x": null,
            "grid_auto_flow": null,
            "grid_area": null,
            "grid_template_columns": null,
            "flex": null,
            "_model_name": "LayoutModel",
            "justify_items": null,
            "grid_row": null,
            "max_height": null,
            "align_content": null,
            "visibility": null,
            "align_self": null,
            "height": null,
            "min_height": null,
            "padding": null,
            "grid_auto_rows": null,
            "grid_gap": null,
            "max_width": null,
            "order": null,
            "_view_module_version": "1.2.0",
            "grid_template_areas": null,
            "object_position": null,
            "object_fit": null,
            "grid_auto_columns": null,
            "margin": null,
            "display": null,
            "left": null
          }
        },
        "cca6e002176749b5a5afac2c383cb699": {
          "model_module": "@jupyter-widgets/controls",
          "model_name": "FloatProgressModel",
          "state": {
            "_view_name": "ProgressView",
            "style": "IPY_MODEL_66d8c69ba39b4f4c85395bcaf14ee16e",
            "_dom_classes": [],
            "description": "Dl Completed...: 100%",
            "_model_name": "FloatProgressModel",
            "bar_style": "success",
            "max": 1,
            "_view_module": "@jupyter-widgets/controls",
            "_model_module_version": "1.5.0",
            "value": 1,
            "_view_count": null,
            "_view_module_version": "1.5.0",
            "orientation": "horizontal",
            "min": 0,
            "description_tooltip": null,
            "_model_module": "@jupyter-widgets/controls",
            "layout": "IPY_MODEL_f17e17ea86d649e1992239a40f4d7d3d"
          }
        },
        "c18c6d8d94d042a1a1e707a03e7db964": {
          "model_module": "@jupyter-widgets/controls",
          "model_name": "HTMLModel",
          "state": {
            "_view_name": "HTMLView",
            "style": "IPY_MODEL_81458d7bf75443c79a8d66261afda6b6",
            "_dom_classes": [],
            "description": "",
            "_model_name": "HTMLModel",
            "placeholder": "​",
            "_view_module": "@jupyter-widgets/controls",
            "_model_module_version": "1.5.0",
            "value": " 1/1 [06:26&lt;00:00, 386.54s/ url]",
            "_view_count": null,
            "_view_module_version": "1.5.0",
            "description_tooltip": null,
            "_model_module": "@jupyter-widgets/controls",
            "layout": "IPY_MODEL_151a9398f7154a4781bcca4054b4aebb"
          }
        },
        "66d8c69ba39b4f4c85395bcaf14ee16e": {
          "model_module": "@jupyter-widgets/controls",
          "model_name": "ProgressStyleModel",
          "state": {
            "_view_name": "StyleView",
            "_model_name": "ProgressStyleModel",
            "description_width": "initial",
            "_view_module": "@jupyter-widgets/base",
            "_model_module_version": "1.5.0",
            "_view_count": null,
            "_view_module_version": "1.2.0",
            "bar_color": null,
            "_model_module": "@jupyter-widgets/controls"
          }
        },
        "f17e17ea86d649e1992239a40f4d7d3d": {
          "model_module": "@jupyter-widgets/base",
          "model_name": "LayoutModel",
          "state": {
            "_view_name": "LayoutView",
            "grid_template_rows": null,
            "right": null,
            "justify_content": null,
            "_view_module": "@jupyter-widgets/base",
            "overflow": null,
            "_model_module_version": "1.2.0",
            "_view_count": null,
            "flex_flow": null,
            "width": null,
            "min_width": null,
            "border": null,
            "align_items": null,
            "bottom": null,
            "_model_module": "@jupyter-widgets/base",
            "top": null,
            "grid_column": null,
            "overflow_y": null,
            "overflow_x": null,
            "grid_auto_flow": null,
            "grid_area": null,
            "grid_template_columns": null,
            "flex": null,
            "_model_name": "LayoutModel",
            "justify_items": null,
            "grid_row": null,
            "max_height": null,
            "align_content": null,
            "visibility": null,
            "align_self": null,
            "height": null,
            "min_height": null,
            "padding": null,
            "grid_auto_rows": null,
            "grid_gap": null,
            "max_width": null,
            "order": null,
            "_view_module_version": "1.2.0",
            "grid_template_areas": null,
            "object_position": null,
            "object_fit": null,
            "grid_auto_columns": null,
            "margin": null,
            "display": null,
            "left": null
          }
        },
        "81458d7bf75443c79a8d66261afda6b6": {
          "model_module": "@jupyter-widgets/controls",
          "model_name": "DescriptionStyleModel",
          "state": {
            "_view_name": "StyleView",
            "_model_name": "DescriptionStyleModel",
            "description_width": "",
            "_view_module": "@jupyter-widgets/base",
            "_model_module_version": "1.5.0",
            "_view_count": null,
            "_view_module_version": "1.2.0",
            "_model_module": "@jupyter-widgets/controls"
          }
        },
        "151a9398f7154a4781bcca4054b4aebb": {
          "model_module": "@jupyter-widgets/base",
          "model_name": "LayoutModel",
          "state": {
            "_view_name": "LayoutView",
            "grid_template_rows": null,
            "right": null,
            "justify_content": null,
            "_view_module": "@jupyter-widgets/base",
            "overflow": null,
            "_model_module_version": "1.2.0",
            "_view_count": null,
            "flex_flow": null,
            "width": null,
            "min_width": null,
            "border": null,
            "align_items": null,
            "bottom": null,
            "_model_module": "@jupyter-widgets/base",
            "top": null,
            "grid_column": null,
            "overflow_y": null,
            "overflow_x": null,
            "grid_auto_flow": null,
            "grid_area": null,
            "grid_template_columns": null,
            "flex": null,
            "_model_name": "LayoutModel",
            "justify_items": null,
            "grid_row": null,
            "max_height": null,
            "align_content": null,
            "visibility": null,
            "align_self": null,
            "height": null,
            "min_height": null,
            "padding": null,
            "grid_auto_rows": null,
            "grid_gap": null,
            "max_width": null,
            "order": null,
            "_view_module_version": "1.2.0",
            "grid_template_areas": null,
            "object_position": null,
            "object_fit": null,
            "grid_auto_columns": null,
            "margin": null,
            "display": null,
            "left": null
          }
        },
        "5ef9729a94e34bb09d29f3e0f0af21a1": {
          "model_module": "@jupyter-widgets/controls",
          "model_name": "HBoxModel",
          "state": {
            "_view_name": "HBoxView",
            "_dom_classes": [],
            "_model_name": "HBoxModel",
            "_view_module": "@jupyter-widgets/controls",
            "_model_module_version": "1.5.0",
            "_view_count": null,
            "_view_module_version": "1.5.0",
            "box_style": "",
            "layout": "IPY_MODEL_0633552462c44d1585c26b655e8c5719",
            "_model_module": "@jupyter-widgets/controls",
            "children": [
              "IPY_MODEL_fd1630dcf6544ac186f74847aecea29a",
              "IPY_MODEL_605d3ae2206541999d826a84c90fdf93"
            ]
          }
        },
        "0633552462c44d1585c26b655e8c5719": {
          "model_module": "@jupyter-widgets/base",
          "model_name": "LayoutModel",
          "state": {
            "_view_name": "LayoutView",
            "grid_template_rows": null,
            "right": null,
            "justify_content": null,
            "_view_module": "@jupyter-widgets/base",
            "overflow": null,
            "_model_module_version": "1.2.0",
            "_view_count": null,
            "flex_flow": null,
            "width": null,
            "min_width": null,
            "border": null,
            "align_items": null,
            "bottom": null,
            "_model_module": "@jupyter-widgets/base",
            "top": null,
            "grid_column": null,
            "overflow_y": null,
            "overflow_x": null,
            "grid_auto_flow": null,
            "grid_area": null,
            "grid_template_columns": null,
            "flex": null,
            "_model_name": "LayoutModel",
            "justify_items": null,
            "grid_row": null,
            "max_height": null,
            "align_content": null,
            "visibility": null,
            "align_self": null,
            "height": null,
            "min_height": null,
            "padding": null,
            "grid_auto_rows": null,
            "grid_gap": null,
            "max_width": null,
            "order": null,
            "_view_module_version": "1.2.0",
            "grid_template_areas": null,
            "object_position": null,
            "object_fit": null,
            "grid_auto_columns": null,
            "margin": null,
            "display": null,
            "left": null
          }
        },
        "fd1630dcf6544ac186f74847aecea29a": {
          "model_module": "@jupyter-widgets/controls",
          "model_name": "FloatProgressModel",
          "state": {
            "_view_name": "ProgressView",
            "style": "IPY_MODEL_78b55212362b410c9f2e08e11c0d21a6",
            "_dom_classes": [],
            "description": "Dl Size...: 100%",
            "_model_name": "FloatProgressModel",
            "bar_style": "success",
            "max": 1,
            "_view_module": "@jupyter-widgets/controls",
            "_model_module_version": "1.5.0",
            "value": 1,
            "_view_count": null,
            "_view_module_version": "1.5.0",
            "orientation": "horizontal",
            "min": 0,
            "description_tooltip": null,
            "_model_module": "@jupyter-widgets/controls",
            "layout": "IPY_MODEL_f0e637a2c4ea4e45b00e5086276f7626"
          }
        },
        "605d3ae2206541999d826a84c90fdf93": {
          "model_module": "@jupyter-widgets/controls",
          "model_name": "HTMLModel",
          "state": {
            "_view_name": "HTMLView",
            "style": "IPY_MODEL_ba0fc4edaa894d778fc4ec12c0dc683b",
            "_dom_classes": [],
            "description": "",
            "_model_name": "HTMLModel",
            "placeholder": "​",
            "_view_module": "@jupyter-widgets/controls",
            "_model_module_version": "1.5.0",
            "value": " 4764/4764 [06:26&lt;00:00, 12.33 MiB/s]",
            "_view_count": null,
            "_view_module_version": "1.5.0",
            "description_tooltip": null,
            "_model_module": "@jupyter-widgets/controls",
            "layout": "IPY_MODEL_bbb6fc0215db46e791f336090bea38c9"
          }
        },
        "78b55212362b410c9f2e08e11c0d21a6": {
          "model_module": "@jupyter-widgets/controls",
          "model_name": "ProgressStyleModel",
          "state": {
            "_view_name": "StyleView",
            "_model_name": "ProgressStyleModel",
            "description_width": "initial",
            "_view_module": "@jupyter-widgets/base",
            "_model_module_version": "1.5.0",
            "_view_count": null,
            "_view_module_version": "1.2.0",
            "bar_color": null,
            "_model_module": "@jupyter-widgets/controls"
          }
        },
        "f0e637a2c4ea4e45b00e5086276f7626": {
          "model_module": "@jupyter-widgets/base",
          "model_name": "LayoutModel",
          "state": {
            "_view_name": "LayoutView",
            "grid_template_rows": null,
            "right": null,
            "justify_content": null,
            "_view_module": "@jupyter-widgets/base",
            "overflow": null,
            "_model_module_version": "1.2.0",
            "_view_count": null,
            "flex_flow": null,
            "width": null,
            "min_width": null,
            "border": null,
            "align_items": null,
            "bottom": null,
            "_model_module": "@jupyter-widgets/base",
            "top": null,
            "grid_column": null,
            "overflow_y": null,
            "overflow_x": null,
            "grid_auto_flow": null,
            "grid_area": null,
            "grid_template_columns": null,
            "flex": null,
            "_model_name": "LayoutModel",
            "justify_items": null,
            "grid_row": null,
            "max_height": null,
            "align_content": null,
            "visibility": null,
            "align_self": null,
            "height": null,
            "min_height": null,
            "padding": null,
            "grid_auto_rows": null,
            "grid_gap": null,
            "max_width": null,
            "order": null,
            "_view_module_version": "1.2.0",
            "grid_template_areas": null,
            "object_position": null,
            "object_fit": null,
            "grid_auto_columns": null,
            "margin": null,
            "display": null,
            "left": null
          }
        },
        "ba0fc4edaa894d778fc4ec12c0dc683b": {
          "model_module": "@jupyter-widgets/controls",
          "model_name": "DescriptionStyleModel",
          "state": {
            "_view_name": "StyleView",
            "_model_name": "DescriptionStyleModel",
            "description_width": "",
            "_view_module": "@jupyter-widgets/base",
            "_model_module_version": "1.5.0",
            "_view_count": null,
            "_view_module_version": "1.2.0",
            "_model_module": "@jupyter-widgets/controls"
          }
        },
        "bbb6fc0215db46e791f336090bea38c9": {
          "model_module": "@jupyter-widgets/base",
          "model_name": "LayoutModel",
          "state": {
            "_view_name": "LayoutView",
            "grid_template_rows": null,
            "right": null,
            "justify_content": null,
            "_view_module": "@jupyter-widgets/base",
            "overflow": null,
            "_model_module_version": "1.2.0",
            "_view_count": null,
            "flex_flow": null,
            "width": null,
            "min_width": null,
            "border": null,
            "align_items": null,
            "bottom": null,
            "_model_module": "@jupyter-widgets/base",
            "top": null,
            "grid_column": null,
            "overflow_y": null,
            "overflow_x": null,
            "grid_auto_flow": null,
            "grid_area": null,
            "grid_template_columns": null,
            "flex": null,
            "_model_name": "LayoutModel",
            "justify_items": null,
            "grid_row": null,
            "max_height": null,
            "align_content": null,
            "visibility": null,
            "align_self": null,
            "height": null,
            "min_height": null,
            "padding": null,
            "grid_auto_rows": null,
            "grid_gap": null,
            "max_width": null,
            "order": null,
            "_view_module_version": "1.2.0",
            "grid_template_areas": null,
            "object_position": null,
            "object_fit": null,
            "grid_auto_columns": null,
            "margin": null,
            "display": null,
            "left": null
          }
        },
        "0f426a36f2af47e68735ead29bcaec41": {
          "model_module": "@jupyter-widgets/controls",
          "model_name": "HBoxModel",
          "state": {
            "_view_name": "HBoxView",
            "_dom_classes": [],
            "_model_name": "HBoxModel",
            "_view_module": "@jupyter-widgets/controls",
            "_model_module_version": "1.5.0",
            "_view_count": null,
            "_view_module_version": "1.5.0",
            "box_style": "",
            "layout": "IPY_MODEL_c84b61de624e4cceb1526dad60187e53",
            "_model_module": "@jupyter-widgets/controls",
            "children": [
              "IPY_MODEL_1cf720f198b24580a172f5771d3fcd75",
              "IPY_MODEL_e2d04fd92ae54e16abe1d941fa90c953"
            ]
          }
        },
        "c84b61de624e4cceb1526dad60187e53": {
          "model_module": "@jupyter-widgets/base",
          "model_name": "LayoutModel",
          "state": {
            "_view_name": "LayoutView",
            "grid_template_rows": null,
            "right": null,
            "justify_content": null,
            "_view_module": "@jupyter-widgets/base",
            "overflow": null,
            "_model_module_version": "1.2.0",
            "_view_count": null,
            "flex_flow": null,
            "width": null,
            "min_width": null,
            "border": null,
            "align_items": null,
            "bottom": null,
            "_model_module": "@jupyter-widgets/base",
            "top": null,
            "grid_column": null,
            "overflow_y": null,
            "overflow_x": null,
            "grid_auto_flow": null,
            "grid_area": null,
            "grid_template_columns": null,
            "flex": null,
            "_model_name": "LayoutModel",
            "justify_items": null,
            "grid_row": null,
            "max_height": null,
            "align_content": null,
            "visibility": null,
            "align_self": null,
            "height": null,
            "min_height": null,
            "padding": null,
            "grid_auto_rows": null,
            "grid_gap": null,
            "max_width": null,
            "order": null,
            "_view_module_version": "1.2.0",
            "grid_template_areas": null,
            "object_position": null,
            "object_fit": null,
            "grid_auto_columns": null,
            "margin": null,
            "display": null,
            "left": null
          }
        },
        "1cf720f198b24580a172f5771d3fcd75": {
          "model_module": "@jupyter-widgets/controls",
          "model_name": "FloatProgressModel",
          "state": {
            "_view_name": "ProgressView",
            "style": "IPY_MODEL_b9118136109a42d181699867284bc795",
            "_dom_classes": [],
            "description": "Extraction completed...: 100%",
            "_model_name": "FloatProgressModel",
            "bar_style": "success",
            "max": 1,
            "_view_module": "@jupyter-widgets/controls",
            "_model_module_version": "1.5.0",
            "value": 1,
            "_view_count": null,
            "_view_module_version": "1.5.0",
            "orientation": "horizontal",
            "min": 0,
            "description_tooltip": null,
            "_model_module": "@jupyter-widgets/controls",
            "layout": "IPY_MODEL_25b8102b0ba34e36817b5ef8e0cf815b"
          }
        },
        "e2d04fd92ae54e16abe1d941fa90c953": {
          "model_module": "@jupyter-widgets/controls",
          "model_name": "HTMLModel",
          "state": {
            "_view_name": "HTMLView",
            "style": "IPY_MODEL_2d18d32713424b05ae9acbedc1c9cb7a",
            "_dom_classes": [],
            "description": "",
            "_model_name": "HTMLModel",
            "placeholder": "​",
            "_view_module": "@jupyter-widgets/controls",
            "_model_module_version": "1.5.0",
            "value": " 1/1 [06:26&lt;00:00, 386.46s/ file]",
            "_view_count": null,
            "_view_module_version": "1.5.0",
            "description_tooltip": null,
            "_model_module": "@jupyter-widgets/controls",
            "layout": "IPY_MODEL_05e917f781634f86a997bbc647bb5af8"
          }
        },
        "b9118136109a42d181699867284bc795": {
          "model_module": "@jupyter-widgets/controls",
          "model_name": "ProgressStyleModel",
          "state": {
            "_view_name": "StyleView",
            "_model_name": "ProgressStyleModel",
            "description_width": "initial",
            "_view_module": "@jupyter-widgets/base",
            "_model_module_version": "1.5.0",
            "_view_count": null,
            "_view_module_version": "1.2.0",
            "bar_color": null,
            "_model_module": "@jupyter-widgets/controls"
          }
        },
        "25b8102b0ba34e36817b5ef8e0cf815b": {
          "model_module": "@jupyter-widgets/base",
          "model_name": "LayoutModel",
          "state": {
            "_view_name": "LayoutView",
            "grid_template_rows": null,
            "right": null,
            "justify_content": null,
            "_view_module": "@jupyter-widgets/base",
            "overflow": null,
            "_model_module_version": "1.2.0",
            "_view_count": null,
            "flex_flow": null,
            "width": null,
            "min_width": null,
            "border": null,
            "align_items": null,
            "bottom": null,
            "_model_module": "@jupyter-widgets/base",
            "top": null,
            "grid_column": null,
            "overflow_y": null,
            "overflow_x": null,
            "grid_auto_flow": null,
            "grid_area": null,
            "grid_template_columns": null,
            "flex": null,
            "_model_name": "LayoutModel",
            "justify_items": null,
            "grid_row": null,
            "max_height": null,
            "align_content": null,
            "visibility": null,
            "align_self": null,
            "height": null,
            "min_height": null,
            "padding": null,
            "grid_auto_rows": null,
            "grid_gap": null,
            "max_width": null,
            "order": null,
            "_view_module_version": "1.2.0",
            "grid_template_areas": null,
            "object_position": null,
            "object_fit": null,
            "grid_auto_columns": null,
            "margin": null,
            "display": null,
            "left": null
          }
        },
        "2d18d32713424b05ae9acbedc1c9cb7a": {
          "model_module": "@jupyter-widgets/controls",
          "model_name": "DescriptionStyleModel",
          "state": {
            "_view_name": "StyleView",
            "_model_name": "DescriptionStyleModel",
            "description_width": "",
            "_view_module": "@jupyter-widgets/base",
            "_model_module_version": "1.5.0",
            "_view_count": null,
            "_view_module_version": "1.2.0",
            "_model_module": "@jupyter-widgets/controls"
          }
        },
        "05e917f781634f86a997bbc647bb5af8": {
          "model_module": "@jupyter-widgets/base",
          "model_name": "LayoutModel",
          "state": {
            "_view_name": "LayoutView",
            "grid_template_rows": null,
            "right": null,
            "justify_content": null,
            "_view_module": "@jupyter-widgets/base",
            "overflow": null,
            "_model_module_version": "1.2.0",
            "_view_count": null,
            "flex_flow": null,
            "width": null,
            "min_width": null,
            "border": null,
            "align_items": null,
            "bottom": null,
            "_model_module": "@jupyter-widgets/base",
            "top": null,
            "grid_column": null,
            "overflow_y": null,
            "overflow_x": null,
            "grid_auto_flow": null,
            "grid_area": null,
            "grid_template_columns": null,
            "flex": null,
            "_model_name": "LayoutModel",
            "justify_items": null,
            "grid_row": null,
            "max_height": null,
            "align_content": null,
            "visibility": null,
            "align_self": null,
            "height": null,
            "min_height": null,
            "padding": null,
            "grid_auto_rows": null,
            "grid_gap": null,
            "max_width": null,
            "order": null,
            "_view_module_version": "1.2.0",
            "grid_template_areas": null,
            "object_position": null,
            "object_fit": null,
            "grid_auto_columns": null,
            "margin": null,
            "display": null,
            "left": null
          }
        },
        "1ae2d305f4764de7b3f111c38351d5e5": {
          "model_module": "@jupyter-widgets/controls",
          "model_name": "HBoxModel",
          "state": {
            "_view_name": "HBoxView",
            "_dom_classes": [],
            "_model_name": "HBoxModel",
            "_view_module": "@jupyter-widgets/controls",
            "_model_module_version": "1.5.0",
            "_view_count": null,
            "_view_module_version": "1.5.0",
            "box_style": "",
            "layout": "IPY_MODEL_5ed5cb5a96d444369334fa210b71ac9e",
            "_model_module": "@jupyter-widgets/controls",
            "children": [
              "IPY_MODEL_d2967b1b3ef846daa9304f5bd283bb16",
              "IPY_MODEL_f6ca24b3724c4cea81eb078c2b76d1cf"
            ]
          }
        },
        "5ed5cb5a96d444369334fa210b71ac9e": {
          "model_module": "@jupyter-widgets/base",
          "model_name": "LayoutModel",
          "state": {
            "_view_name": "LayoutView",
            "grid_template_rows": null,
            "right": null,
            "justify_content": null,
            "_view_module": "@jupyter-widgets/base",
            "overflow": null,
            "_model_module_version": "1.2.0",
            "_view_count": null,
            "flex_flow": null,
            "width": null,
            "min_width": null,
            "border": null,
            "align_items": null,
            "bottom": null,
            "_model_module": "@jupyter-widgets/base",
            "top": null,
            "grid_column": null,
            "overflow_y": null,
            "overflow_x": null,
            "grid_auto_flow": null,
            "grid_area": null,
            "grid_template_columns": null,
            "flex": null,
            "_model_name": "LayoutModel",
            "justify_items": null,
            "grid_row": null,
            "max_height": null,
            "align_content": null,
            "visibility": null,
            "align_self": null,
            "height": null,
            "min_height": null,
            "padding": null,
            "grid_auto_rows": null,
            "grid_gap": null,
            "max_width": null,
            "order": null,
            "_view_module_version": "1.2.0",
            "grid_template_areas": null,
            "object_position": null,
            "object_fit": null,
            "grid_auto_columns": null,
            "margin": null,
            "display": null,
            "left": null
          }
        },
        "d2967b1b3ef846daa9304f5bd283bb16": {
          "model_module": "@jupyter-widgets/controls",
          "model_name": "FloatProgressModel",
          "state": {
            "_view_name": "ProgressView",
            "style": "IPY_MODEL_c39a1cd73edd4f64b6abe9a74bd0895c",
            "_dom_classes": [],
            "description": "",
            "_model_name": "FloatProgressModel",
            "bar_style": "info",
            "max": 1,
            "_view_module": "@jupyter-widgets/controls",
            "_model_module_version": "1.5.0",
            "value": 1,
            "_view_count": null,
            "_view_module_version": "1.5.0",
            "orientation": "horizontal",
            "min": 0,
            "description_tooltip": null,
            "_model_module": "@jupyter-widgets/controls",
            "layout": "IPY_MODEL_3667d3374c4e49fdb91cd9c2598bd997"
          }
        },
        "f6ca24b3724c4cea81eb078c2b76d1cf": {
          "model_module": "@jupyter-widgets/controls",
          "model_name": "HTMLModel",
          "state": {
            "_view_name": "HTMLView",
            "style": "IPY_MODEL_fb56885fd9a444909fc7825f79a773de",
            "_dom_classes": [],
            "description": "",
            "_model_name": "HTMLModel",
            "placeholder": "​",
            "_view_module": "@jupyter-widgets/controls",
            "_model_module_version": "1.5.0",
            "value": " 75750/0 [01:50&lt;00:00, 625.18 examples/s]",
            "_view_count": null,
            "_view_module_version": "1.5.0",
            "description_tooltip": null,
            "_model_module": "@jupyter-widgets/controls",
            "layout": "IPY_MODEL_926d1f0f8bff4a2e991a8472d9627df5"
          }
        },
        "c39a1cd73edd4f64b6abe9a74bd0895c": {
          "model_module": "@jupyter-widgets/controls",
          "model_name": "ProgressStyleModel",
          "state": {
            "_view_name": "StyleView",
            "_model_name": "ProgressStyleModel",
            "description_width": "initial",
            "_view_module": "@jupyter-widgets/base",
            "_model_module_version": "1.5.0",
            "_view_count": null,
            "_view_module_version": "1.2.0",
            "bar_color": null,
            "_model_module": "@jupyter-widgets/controls"
          }
        },
        "3667d3374c4e49fdb91cd9c2598bd997": {
          "model_module": "@jupyter-widgets/base",
          "model_name": "LayoutModel",
          "state": {
            "_view_name": "LayoutView",
            "grid_template_rows": null,
            "right": null,
            "justify_content": null,
            "_view_module": "@jupyter-widgets/base",
            "overflow": null,
            "_model_module_version": "1.2.0",
            "_view_count": null,
            "flex_flow": null,
            "width": null,
            "min_width": null,
            "border": null,
            "align_items": null,
            "bottom": null,
            "_model_module": "@jupyter-widgets/base",
            "top": null,
            "grid_column": null,
            "overflow_y": null,
            "overflow_x": null,
            "grid_auto_flow": null,
            "grid_area": null,
            "grid_template_columns": null,
            "flex": null,
            "_model_name": "LayoutModel",
            "justify_items": null,
            "grid_row": null,
            "max_height": null,
            "align_content": null,
            "visibility": null,
            "align_self": null,
            "height": null,
            "min_height": null,
            "padding": null,
            "grid_auto_rows": null,
            "grid_gap": null,
            "max_width": null,
            "order": null,
            "_view_module_version": "1.2.0",
            "grid_template_areas": null,
            "object_position": null,
            "object_fit": null,
            "grid_auto_columns": null,
            "margin": null,
            "display": null,
            "left": null
          }
        },
        "fb56885fd9a444909fc7825f79a773de": {
          "model_module": "@jupyter-widgets/controls",
          "model_name": "DescriptionStyleModel",
          "state": {
            "_view_name": "StyleView",
            "_model_name": "DescriptionStyleModel",
            "description_width": "",
            "_view_module": "@jupyter-widgets/base",
            "_model_module_version": "1.5.0",
            "_view_count": null,
            "_view_module_version": "1.2.0",
            "_model_module": "@jupyter-widgets/controls"
          }
        },
        "926d1f0f8bff4a2e991a8472d9627df5": {
          "model_module": "@jupyter-widgets/base",
          "model_name": "LayoutModel",
          "state": {
            "_view_name": "LayoutView",
            "grid_template_rows": null,
            "right": null,
            "justify_content": null,
            "_view_module": "@jupyter-widgets/base",
            "overflow": null,
            "_model_module_version": "1.2.0",
            "_view_count": null,
            "flex_flow": null,
            "width": null,
            "min_width": null,
            "border": null,
            "align_items": null,
            "bottom": null,
            "_model_module": "@jupyter-widgets/base",
            "top": null,
            "grid_column": null,
            "overflow_y": null,
            "overflow_x": null,
            "grid_auto_flow": null,
            "grid_area": null,
            "grid_template_columns": null,
            "flex": null,
            "_model_name": "LayoutModel",
            "justify_items": null,
            "grid_row": null,
            "max_height": null,
            "align_content": null,
            "visibility": null,
            "align_self": null,
            "height": null,
            "min_height": null,
            "padding": null,
            "grid_auto_rows": null,
            "grid_gap": null,
            "max_width": null,
            "order": null,
            "_view_module_version": "1.2.0",
            "grid_template_areas": null,
            "object_position": null,
            "object_fit": null,
            "grid_auto_columns": null,
            "margin": null,
            "display": null,
            "left": null
          }
        },
        "c1a29a97333f451c8504e895d904b83c": {
          "model_module": "@jupyter-widgets/controls",
          "model_name": "HBoxModel",
          "state": {
            "_view_name": "HBoxView",
            "_dom_classes": [],
            "_model_name": "HBoxModel",
            "_view_module": "@jupyter-widgets/controls",
            "_model_module_version": "1.5.0",
            "_view_count": null,
            "_view_module_version": "1.5.0",
            "box_style": "",
            "layout": "IPY_MODEL_639c3f3c95974b6680d3991a6fe6b92a",
            "_model_module": "@jupyter-widgets/controls",
            "children": [
              "IPY_MODEL_2eb03ae03e964fc480fc75d4282736ee",
              "IPY_MODEL_cbcec72467c34c30921d9f9339124f9b"
            ]
          }
        },
        "639c3f3c95974b6680d3991a6fe6b92a": {
          "model_module": "@jupyter-widgets/base",
          "model_name": "LayoutModel",
          "state": {
            "_view_name": "LayoutView",
            "grid_template_rows": null,
            "right": null,
            "justify_content": null,
            "_view_module": "@jupyter-widgets/base",
            "overflow": null,
            "_model_module_version": "1.2.0",
            "_view_count": null,
            "flex_flow": null,
            "width": null,
            "min_width": null,
            "border": null,
            "align_items": null,
            "bottom": null,
            "_model_module": "@jupyter-widgets/base",
            "top": null,
            "grid_column": null,
            "overflow_y": null,
            "overflow_x": null,
            "grid_auto_flow": null,
            "grid_area": null,
            "grid_template_columns": null,
            "flex": null,
            "_model_name": "LayoutModel",
            "justify_items": null,
            "grid_row": null,
            "max_height": null,
            "align_content": null,
            "visibility": null,
            "align_self": null,
            "height": null,
            "min_height": null,
            "padding": null,
            "grid_auto_rows": null,
            "grid_gap": null,
            "max_width": null,
            "order": null,
            "_view_module_version": "1.2.0",
            "grid_template_areas": null,
            "object_position": null,
            "object_fit": null,
            "grid_auto_columns": null,
            "margin": null,
            "display": null,
            "left": null
          }
        },
        "2eb03ae03e964fc480fc75d4282736ee": {
          "model_module": "@jupyter-widgets/controls",
          "model_name": "FloatProgressModel",
          "state": {
            "_view_name": "ProgressView",
            "style": "IPY_MODEL_ead2cb63e1ae42669ce3ff4dddba52f2",
            "_dom_classes": [],
            "description": "100%",
            "_model_name": "FloatProgressModel",
            "bar_style": "danger",
            "max": 75750,
            "_view_module": "@jupyter-widgets/controls",
            "_model_module_version": "1.5.0",
            "value": 75705,
            "_view_count": null,
            "_view_module_version": "1.5.0",
            "orientation": "horizontal",
            "min": 0,
            "description_tooltip": null,
            "_model_module": "@jupyter-widgets/controls",
            "layout": "IPY_MODEL_56be9326875741d283ff92429438da12"
          }
        },
        "cbcec72467c34c30921d9f9339124f9b": {
          "model_module": "@jupyter-widgets/controls",
          "model_name": "HTMLModel",
          "state": {
            "_view_name": "HTMLView",
            "style": "IPY_MODEL_52cd96371a794b34aa87b8ecde2c7bf8",
            "_dom_classes": [],
            "description": "",
            "_model_name": "HTMLModel",
            "placeholder": "​",
            "_view_module": "@jupyter-widgets/controls",
            "_model_module_version": "1.5.0",
            "value": " 75705/75750 [01:40&lt;00:00, 876.47 examples/s]",
            "_view_count": null,
            "_view_module_version": "1.5.0",
            "description_tooltip": null,
            "_model_module": "@jupyter-widgets/controls",
            "layout": "IPY_MODEL_c5b817a0f245428fb323e18691df4297"
          }
        },
        "ead2cb63e1ae42669ce3ff4dddba52f2": {
          "model_module": "@jupyter-widgets/controls",
          "model_name": "ProgressStyleModel",
          "state": {
            "_view_name": "StyleView",
            "_model_name": "ProgressStyleModel",
            "description_width": "initial",
            "_view_module": "@jupyter-widgets/base",
            "_model_module_version": "1.5.0",
            "_view_count": null,
            "_view_module_version": "1.2.0",
            "bar_color": null,
            "_model_module": "@jupyter-widgets/controls"
          }
        },
        "56be9326875741d283ff92429438da12": {
          "model_module": "@jupyter-widgets/base",
          "model_name": "LayoutModel",
          "state": {
            "_view_name": "LayoutView",
            "grid_template_rows": null,
            "right": null,
            "justify_content": null,
            "_view_module": "@jupyter-widgets/base",
            "overflow": null,
            "_model_module_version": "1.2.0",
            "_view_count": null,
            "flex_flow": null,
            "width": null,
            "min_width": null,
            "border": null,
            "align_items": null,
            "bottom": null,
            "_model_module": "@jupyter-widgets/base",
            "top": null,
            "grid_column": null,
            "overflow_y": null,
            "overflow_x": null,
            "grid_auto_flow": null,
            "grid_area": null,
            "grid_template_columns": null,
            "flex": null,
            "_model_name": "LayoutModel",
            "justify_items": null,
            "grid_row": null,
            "max_height": null,
            "align_content": null,
            "visibility": null,
            "align_self": null,
            "height": null,
            "min_height": null,
            "padding": null,
            "grid_auto_rows": null,
            "grid_gap": null,
            "max_width": null,
            "order": null,
            "_view_module_version": "1.2.0",
            "grid_template_areas": null,
            "object_position": null,
            "object_fit": null,
            "grid_auto_columns": null,
            "margin": null,
            "display": null,
            "left": null
          }
        },
        "52cd96371a794b34aa87b8ecde2c7bf8": {
          "model_module": "@jupyter-widgets/controls",
          "model_name": "DescriptionStyleModel",
          "state": {
            "_view_name": "StyleView",
            "_model_name": "DescriptionStyleModel",
            "description_width": "",
            "_view_module": "@jupyter-widgets/base",
            "_model_module_version": "1.5.0",
            "_view_count": null,
            "_view_module_version": "1.2.0",
            "_model_module": "@jupyter-widgets/controls"
          }
        },
        "c5b817a0f245428fb323e18691df4297": {
          "model_module": "@jupyter-widgets/base",
          "model_name": "LayoutModel",
          "state": {
            "_view_name": "LayoutView",
            "grid_template_rows": null,
            "right": null,
            "justify_content": null,
            "_view_module": "@jupyter-widgets/base",
            "overflow": null,
            "_model_module_version": "1.2.0",
            "_view_count": null,
            "flex_flow": null,
            "width": null,
            "min_width": null,
            "border": null,
            "align_items": null,
            "bottom": null,
            "_model_module": "@jupyter-widgets/base",
            "top": null,
            "grid_column": null,
            "overflow_y": null,
            "overflow_x": null,
            "grid_auto_flow": null,
            "grid_area": null,
            "grid_template_columns": null,
            "flex": null,
            "_model_name": "LayoutModel",
            "justify_items": null,
            "grid_row": null,
            "max_height": null,
            "align_content": null,
            "visibility": null,
            "align_self": null,
            "height": null,
            "min_height": null,
            "padding": null,
            "grid_auto_rows": null,
            "grid_gap": null,
            "max_width": null,
            "order": null,
            "_view_module_version": "1.2.0",
            "grid_template_areas": null,
            "object_position": null,
            "object_fit": null,
            "grid_auto_columns": null,
            "margin": null,
            "display": null,
            "left": null
          }
        },
        "401d117778a448678c5cf25d1554ff4a": {
          "model_module": "@jupyter-widgets/controls",
          "model_name": "HBoxModel",
          "state": {
            "_view_name": "HBoxView",
            "_dom_classes": [],
            "_model_name": "HBoxModel",
            "_view_module": "@jupyter-widgets/controls",
            "_model_module_version": "1.5.0",
            "_view_count": null,
            "_view_module_version": "1.5.0",
            "box_style": "",
            "layout": "IPY_MODEL_db217a3fb530455ea360af349f7df687",
            "_model_module": "@jupyter-widgets/controls",
            "children": [
              "IPY_MODEL_f8bbb0d6c2db45c3a5bd5b44d34f22f4",
              "IPY_MODEL_4f187f7d9f794721b5b1ad169d1623e0"
            ]
          }
        },
        "db217a3fb530455ea360af349f7df687": {
          "model_module": "@jupyter-widgets/base",
          "model_name": "LayoutModel",
          "state": {
            "_view_name": "LayoutView",
            "grid_template_rows": null,
            "right": null,
            "justify_content": null,
            "_view_module": "@jupyter-widgets/base",
            "overflow": null,
            "_model_module_version": "1.2.0",
            "_view_count": null,
            "flex_flow": null,
            "width": null,
            "min_width": null,
            "border": null,
            "align_items": null,
            "bottom": null,
            "_model_module": "@jupyter-widgets/base",
            "top": null,
            "grid_column": null,
            "overflow_y": null,
            "overflow_x": null,
            "grid_auto_flow": null,
            "grid_area": null,
            "grid_template_columns": null,
            "flex": null,
            "_model_name": "LayoutModel",
            "justify_items": null,
            "grid_row": null,
            "max_height": null,
            "align_content": null,
            "visibility": null,
            "align_self": null,
            "height": null,
            "min_height": null,
            "padding": null,
            "grid_auto_rows": null,
            "grid_gap": null,
            "max_width": null,
            "order": null,
            "_view_module_version": "1.2.0",
            "grid_template_areas": null,
            "object_position": null,
            "object_fit": null,
            "grid_auto_columns": null,
            "margin": null,
            "display": null,
            "left": null
          }
        },
        "f8bbb0d6c2db45c3a5bd5b44d34f22f4": {
          "model_module": "@jupyter-widgets/controls",
          "model_name": "FloatProgressModel",
          "state": {
            "_view_name": "ProgressView",
            "style": "IPY_MODEL_7fe5d9ae7ff4456dbf941e3878761886",
            "_dom_classes": [],
            "description": "",
            "_model_name": "FloatProgressModel",
            "bar_style": "info",
            "max": 1,
            "_view_module": "@jupyter-widgets/controls",
            "_model_module_version": "1.5.0",
            "value": 1,
            "_view_count": null,
            "_view_module_version": "1.5.0",
            "orientation": "horizontal",
            "min": 0,
            "description_tooltip": null,
            "_model_module": "@jupyter-widgets/controls",
            "layout": "IPY_MODEL_acd2d9da6dc94c0ca76e8c0a1cda4998"
          }
        },
        "4f187f7d9f794721b5b1ad169d1623e0": {
          "model_module": "@jupyter-widgets/controls",
          "model_name": "HTMLModel",
          "state": {
            "_view_name": "HTMLView",
            "style": "IPY_MODEL_b2619bbd5a9a4412b491da13a70438d5",
            "_dom_classes": [],
            "description": "",
            "_model_name": "HTMLModel",
            "placeholder": "​",
            "_view_module": "@jupyter-widgets/controls",
            "_model_module_version": "1.5.0",
            "value": " 25250/0 [00:50&lt;00:00, 532.41 examples/s]",
            "_view_count": null,
            "_view_module_version": "1.5.0",
            "description_tooltip": null,
            "_model_module": "@jupyter-widgets/controls",
            "layout": "IPY_MODEL_826e867a0b054e17a0e0b31bedd97176"
          }
        },
        "7fe5d9ae7ff4456dbf941e3878761886": {
          "model_module": "@jupyter-widgets/controls",
          "model_name": "ProgressStyleModel",
          "state": {
            "_view_name": "StyleView",
            "_model_name": "ProgressStyleModel",
            "description_width": "initial",
            "_view_module": "@jupyter-widgets/base",
            "_model_module_version": "1.5.0",
            "_view_count": null,
            "_view_module_version": "1.2.0",
            "bar_color": null,
            "_model_module": "@jupyter-widgets/controls"
          }
        },
        "acd2d9da6dc94c0ca76e8c0a1cda4998": {
          "model_module": "@jupyter-widgets/base",
          "model_name": "LayoutModel",
          "state": {
            "_view_name": "LayoutView",
            "grid_template_rows": null,
            "right": null,
            "justify_content": null,
            "_view_module": "@jupyter-widgets/base",
            "overflow": null,
            "_model_module_version": "1.2.0",
            "_view_count": null,
            "flex_flow": null,
            "width": null,
            "min_width": null,
            "border": null,
            "align_items": null,
            "bottom": null,
            "_model_module": "@jupyter-widgets/base",
            "top": null,
            "grid_column": null,
            "overflow_y": null,
            "overflow_x": null,
            "grid_auto_flow": null,
            "grid_area": null,
            "grid_template_columns": null,
            "flex": null,
            "_model_name": "LayoutModel",
            "justify_items": null,
            "grid_row": null,
            "max_height": null,
            "align_content": null,
            "visibility": null,
            "align_self": null,
            "height": null,
            "min_height": null,
            "padding": null,
            "grid_auto_rows": null,
            "grid_gap": null,
            "max_width": null,
            "order": null,
            "_view_module_version": "1.2.0",
            "grid_template_areas": null,
            "object_position": null,
            "object_fit": null,
            "grid_auto_columns": null,
            "margin": null,
            "display": null,
            "left": null
          }
        },
        "b2619bbd5a9a4412b491da13a70438d5": {
          "model_module": "@jupyter-widgets/controls",
          "model_name": "DescriptionStyleModel",
          "state": {
            "_view_name": "StyleView",
            "_model_name": "DescriptionStyleModel",
            "description_width": "",
            "_view_module": "@jupyter-widgets/base",
            "_model_module_version": "1.5.0",
            "_view_count": null,
            "_view_module_version": "1.2.0",
            "_model_module": "@jupyter-widgets/controls"
          }
        },
        "826e867a0b054e17a0e0b31bedd97176": {
          "model_module": "@jupyter-widgets/base",
          "model_name": "LayoutModel",
          "state": {
            "_view_name": "LayoutView",
            "grid_template_rows": null,
            "right": null,
            "justify_content": null,
            "_view_module": "@jupyter-widgets/base",
            "overflow": null,
            "_model_module_version": "1.2.0",
            "_view_count": null,
            "flex_flow": null,
            "width": null,
            "min_width": null,
            "border": null,
            "align_items": null,
            "bottom": null,
            "_model_module": "@jupyter-widgets/base",
            "top": null,
            "grid_column": null,
            "overflow_y": null,
            "overflow_x": null,
            "grid_auto_flow": null,
            "grid_area": null,
            "grid_template_columns": null,
            "flex": null,
            "_model_name": "LayoutModel",
            "justify_items": null,
            "grid_row": null,
            "max_height": null,
            "align_content": null,
            "visibility": null,
            "align_self": null,
            "height": null,
            "min_height": null,
            "padding": null,
            "grid_auto_rows": null,
            "grid_gap": null,
            "max_width": null,
            "order": null,
            "_view_module_version": "1.2.0",
            "grid_template_areas": null,
            "object_position": null,
            "object_fit": null,
            "grid_auto_columns": null,
            "margin": null,
            "display": null,
            "left": null
          }
        },
        "3284cbe006ed4562908590e4735264c0": {
          "model_module": "@jupyter-widgets/controls",
          "model_name": "HBoxModel",
          "state": {
            "_view_name": "HBoxView",
            "_dom_classes": [],
            "_model_name": "HBoxModel",
            "_view_module": "@jupyter-widgets/controls",
            "_model_module_version": "1.5.0",
            "_view_count": null,
            "_view_module_version": "1.5.0",
            "box_style": "",
            "layout": "IPY_MODEL_b9700a6914294a0ea2c252be2e95f523",
            "_model_module": "@jupyter-widgets/controls",
            "children": [
              "IPY_MODEL_0540c646942442ac96dfaa57c5d879f0",
              "IPY_MODEL_f649042cb0354c3ab6a419ffd7fdfd8b"
            ]
          }
        },
        "b9700a6914294a0ea2c252be2e95f523": {
          "model_module": "@jupyter-widgets/base",
          "model_name": "LayoutModel",
          "state": {
            "_view_name": "LayoutView",
            "grid_template_rows": null,
            "right": null,
            "justify_content": null,
            "_view_module": "@jupyter-widgets/base",
            "overflow": null,
            "_model_module_version": "1.2.0",
            "_view_count": null,
            "flex_flow": null,
            "width": null,
            "min_width": null,
            "border": null,
            "align_items": null,
            "bottom": null,
            "_model_module": "@jupyter-widgets/base",
            "top": null,
            "grid_column": null,
            "overflow_y": null,
            "overflow_x": null,
            "grid_auto_flow": null,
            "grid_area": null,
            "grid_template_columns": null,
            "flex": null,
            "_model_name": "LayoutModel",
            "justify_items": null,
            "grid_row": null,
            "max_height": null,
            "align_content": null,
            "visibility": null,
            "align_self": null,
            "height": null,
            "min_height": null,
            "padding": null,
            "grid_auto_rows": null,
            "grid_gap": null,
            "max_width": null,
            "order": null,
            "_view_module_version": "1.2.0",
            "grid_template_areas": null,
            "object_position": null,
            "object_fit": null,
            "grid_auto_columns": null,
            "margin": null,
            "display": null,
            "left": null
          }
        },
        "0540c646942442ac96dfaa57c5d879f0": {
          "model_module": "@jupyter-widgets/controls",
          "model_name": "FloatProgressModel",
          "state": {
            "_view_name": "ProgressView",
            "style": "IPY_MODEL_864713d84e8145a6bffcd4b12e947db3",
            "_dom_classes": [],
            "description": " 97%",
            "_model_name": "FloatProgressModel",
            "bar_style": "danger",
            "max": 25250,
            "_view_module": "@jupyter-widgets/controls",
            "_model_module_version": "1.5.0",
            "value": 24443,
            "_view_count": null,
            "_view_module_version": "1.5.0",
            "orientation": "horizontal",
            "min": 0,
            "description_tooltip": null,
            "_model_module": "@jupyter-widgets/controls",
            "layout": "IPY_MODEL_da4692bfbb3e4a678f32d40e2b82b48d"
          }
        },
        "f649042cb0354c3ab6a419ffd7fdfd8b": {
          "model_module": "@jupyter-widgets/controls",
          "model_name": "HTMLModel",
          "state": {
            "_view_name": "HTMLView",
            "style": "IPY_MODEL_ae0b67aebe994509a5fc9125e9a54931",
            "_dom_classes": [],
            "description": "",
            "_model_name": "HTMLModel",
            "placeholder": "​",
            "_view_module": "@jupyter-widgets/controls",
            "_model_module_version": "1.5.0",
            "value": " 24443/25250 [00:40&lt;00:06, 118.31 examples/s]",
            "_view_count": null,
            "_view_module_version": "1.5.0",
            "description_tooltip": null,
            "_model_module": "@jupyter-widgets/controls",
            "layout": "IPY_MODEL_5d198dec0c6a4b6f84a008b653f40161"
          }
        },
        "864713d84e8145a6bffcd4b12e947db3": {
          "model_module": "@jupyter-widgets/controls",
          "model_name": "ProgressStyleModel",
          "state": {
            "_view_name": "StyleView",
            "_model_name": "ProgressStyleModel",
            "description_width": "initial",
            "_view_module": "@jupyter-widgets/base",
            "_model_module_version": "1.5.0",
            "_view_count": null,
            "_view_module_version": "1.2.0",
            "bar_color": null,
            "_model_module": "@jupyter-widgets/controls"
          }
        },
        "da4692bfbb3e4a678f32d40e2b82b48d": {
          "model_module": "@jupyter-widgets/base",
          "model_name": "LayoutModel",
          "state": {
            "_view_name": "LayoutView",
            "grid_template_rows": null,
            "right": null,
            "justify_content": null,
            "_view_module": "@jupyter-widgets/base",
            "overflow": null,
            "_model_module_version": "1.2.0",
            "_view_count": null,
            "flex_flow": null,
            "width": null,
            "min_width": null,
            "border": null,
            "align_items": null,
            "bottom": null,
            "_model_module": "@jupyter-widgets/base",
            "top": null,
            "grid_column": null,
            "overflow_y": null,
            "overflow_x": null,
            "grid_auto_flow": null,
            "grid_area": null,
            "grid_template_columns": null,
            "flex": null,
            "_model_name": "LayoutModel",
            "justify_items": null,
            "grid_row": null,
            "max_height": null,
            "align_content": null,
            "visibility": null,
            "align_self": null,
            "height": null,
            "min_height": null,
            "padding": null,
            "grid_auto_rows": null,
            "grid_gap": null,
            "max_width": null,
            "order": null,
            "_view_module_version": "1.2.0",
            "grid_template_areas": null,
            "object_position": null,
            "object_fit": null,
            "grid_auto_columns": null,
            "margin": null,
            "display": null,
            "left": null
          }
        },
        "ae0b67aebe994509a5fc9125e9a54931": {
          "model_module": "@jupyter-widgets/controls",
          "model_name": "DescriptionStyleModel",
          "state": {
            "_view_name": "StyleView",
            "_model_name": "DescriptionStyleModel",
            "description_width": "",
            "_view_module": "@jupyter-widgets/base",
            "_model_module_version": "1.5.0",
            "_view_count": null,
            "_view_module_version": "1.2.0",
            "_model_module": "@jupyter-widgets/controls"
          }
        },
        "5d198dec0c6a4b6f84a008b653f40161": {
          "model_module": "@jupyter-widgets/base",
          "model_name": "LayoutModel",
          "state": {
            "_view_name": "LayoutView",
            "grid_template_rows": null,
            "right": null,
            "justify_content": null,
            "_view_module": "@jupyter-widgets/base",
            "overflow": null,
            "_model_module_version": "1.2.0",
            "_view_count": null,
            "flex_flow": null,
            "width": null,
            "min_width": null,
            "border": null,
            "align_items": null,
            "bottom": null,
            "_model_module": "@jupyter-widgets/base",
            "top": null,
            "grid_column": null,
            "overflow_y": null,
            "overflow_x": null,
            "grid_auto_flow": null,
            "grid_area": null,
            "grid_template_columns": null,
            "flex": null,
            "_model_name": "LayoutModel",
            "justify_items": null,
            "grid_row": null,
            "max_height": null,
            "align_content": null,
            "visibility": null,
            "align_self": null,
            "height": null,
            "min_height": null,
            "padding": null,
            "grid_auto_rows": null,
            "grid_gap": null,
            "max_width": null,
            "order": null,
            "_view_module_version": "1.2.0",
            "grid_template_areas": null,
            "object_position": null,
            "object_fit": null,
            "grid_auto_columns": null,
            "margin": null,
            "display": null,
            "left": null
          }
        }
      }
    }
  },
  "cells": [
    {
      "cell_type": "markdown",
      "metadata": {
        "id": "view-in-github",
        "colab_type": "text"
      },
      "source": [
        "<a href=\"https://colab.research.google.com/github/ashikshafi08/Learning_Tensorflow/blob/main/Experiments/Food_101.ipynb\" target=\"_parent\"><img src=\"https://colab.research.google.com/assets/colab-badge.svg\" alt=\"Open In Colab\"/></a>"
      ]
    },
    {
      "cell_type": "markdown",
      "metadata": {
        "id": "vByi7O09lI1W"
      },
      "source": [
        "# Food 101 \n",
        "\n",
        "The datasets contains 101 food categories with train and test sets. \n",
        "The goal of this project is to leverage the notebook done by Daniel. Try to induce some changes and try out new methods. The sole purpose of the project is to learn and get most out of this project, also tryna beat Daniel's accuracy. \n",
        "\n",
        "Things I gotta do: \n",
        "\n",
        "-  Build a simple VGG model\n",
        "-  Use Transfer learning\n",
        "    -   EfficientNetB0\n",
        "    -  EfficientNetB1\n",
        "    -   Resnetv2_50\n",
        "- Use a ModelCheckpoint Callback (feature extraction)\n",
        "- Play with LearningRateScheduler, get to know more about it.\n",
        "-  Look into ReduceLrPlateau and see how it can benefit my model.\n",
        "- Also play with EarlyStoppingCallback.\n",
        "- Build some pre-trained models\n",
        "    - EfficientNetB0\n",
        "    - EfficientNetB1\n",
        "    - EfficientNetB2 and so on depends on the result derived\n",
        "    -  ResNet50\n",
        "    -  ResNet101\n",
        "- Idk about the albumentations library (for data augmentation), gotta learn how to use it.\n",
        "-  Use imgaug library which RandomAugment in it. See if it really helps in improving the performance.\n",
        "- And yeah, label smoothing. "
      ]
    },
    {
      "cell_type": "code",
      "metadata": {
        "colab": {
          "base_uri": "https://localhost:8080/"
        },
        "id": "NvDO0Seskwx_",
        "outputId": "0169600e-df56-428f-df27-8d51c660a741"
      },
      "source": [
        "!nvidia-smi"
      ],
      "execution_count": 2,
      "outputs": [
        {
          "output_type": "stream",
          "text": [
            "Tue Apr 27 23:09:04 2021       \n",
            "+-----------------------------------------------------------------------------+\n",
            "| NVIDIA-SMI 465.19.01    Driver Version: 460.32.03    CUDA Version: 11.2     |\n",
            "|-------------------------------+----------------------+----------------------+\n",
            "| GPU  Name        Persistence-M| Bus-Id        Disp.A | Volatile Uncorr. ECC |\n",
            "| Fan  Temp  Perf  Pwr:Usage/Cap|         Memory-Usage | GPU-Util  Compute M. |\n",
            "|                               |                      |               MIG M. |\n",
            "|===============================+======================+======================|\n",
            "|   0  Tesla T4            Off  | 00000000:00:04.0 Off |                    0 |\n",
            "| N/A   39C    P8     9W /  70W |      0MiB / 15109MiB |      0%      Default |\n",
            "|                               |                      |                  N/A |\n",
            "+-------------------------------+----------------------+----------------------+\n",
            "                                                                               \n",
            "+-----------------------------------------------------------------------------+\n",
            "| Processes:                                                                  |\n",
            "|  GPU   GI   CI        PID   Type   Process name                  GPU Memory |\n",
            "|        ID   ID                                                   Usage      |\n",
            "|=============================================================================|\n",
            "|  No running processes found                                                 |\n",
            "+-----------------------------------------------------------------------------+\n"
          ],
          "name": "stdout"
        }
      ]
    },
    {
      "cell_type": "markdown",
      "metadata": {
        "id": "jrObPnV-k73C"
      },
      "source": [
        "Great we got the Tesla T4 so we can use mixed precision in our experiments to make the training a bit faster"
      ]
    },
    {
      "cell_type": "markdown",
      "metadata": {
        "id": "wN5KUG8Ymi3f"
      },
      "source": [
        "## Importing the needed packages \n",
        "\n",
        "Here we will import the initial packages we will be needing to get started. "
      ]
    },
    {
      "cell_type": "code",
      "metadata": {
        "id": "KW7dsgufmuEi"
      },
      "source": [
        "# The packages we need \n",
        "import tensorflow as tf \n",
        "import tensorflow_datasets as tfds \n",
        "import numpy as np \n",
        "import matplotlib.pyplot as plt\n"
      ],
      "execution_count": 3,
      "outputs": []
    },
    {
      "cell_type": "code",
      "metadata": {
        "colab": {
          "base_uri": "https://localhost:8080/"
        },
        "id": "VN4UAJ26muHx",
        "outputId": "4caea5db-da26-489f-fce5-da8651be58cd"
      },
      "source": [
        "# Getting our helper functions which could save our time \n",
        "!wget https://raw.githubusercontent.com/mrdbourke/tensorflow-deep-learning/main/extras/helper_functions.py\n",
        "\n",
        "# Import series of helper functions for the notebook (we've created/used these in previous notebooks)\n",
        "from helper_functions import create_tensorboard_callback, plot_loss_curves, compare_historys"
      ],
      "execution_count": 37,
      "outputs": [
        {
          "output_type": "stream",
          "text": [
            "--2021-04-28 00:22:56--  https://raw.githubusercontent.com/mrdbourke/tensorflow-deep-learning/main/extras/helper_functions.py\n",
            "Resolving raw.githubusercontent.com (raw.githubusercontent.com)... 185.199.108.133, 185.199.111.133, 185.199.110.133, ...\n",
            "Connecting to raw.githubusercontent.com (raw.githubusercontent.com)|185.199.108.133|:443... connected.\n",
            "HTTP request sent, awaiting response... 200 OK\n",
            "Length: 10246 (10K) [text/plain]\n",
            "Saving to: ‘helper_functions.py.1’\n",
            "\n",
            "helper_functions.py 100%[===================>]  10.01K  --.-KB/s    in 0s      \n",
            "\n",
            "2021-04-28 00:22:57 (86.9 MB/s) - ‘helper_functions.py.1’ saved [10246/10246]\n",
            "\n"
          ],
          "name": "stdout"
        }
      ]
    },
    {
      "cell_type": "code",
      "metadata": {
        "colab": {
          "base_uri": "https://localhost:8080/"
        },
        "id": "De9AkgSMmuNd",
        "outputId": "53851a3b-ece3-437a-e1ab-eac9340a6c59"
      },
      "source": [
        "# List all the available datasets in tensorflow datasets \n",
        "datasets_list = tfds.list_builders()\n",
        "\n",
        "# Is our food101 dataset available? \n",
        "print('food101' in datasets_list)"
      ],
      "execution_count": 5,
      "outputs": [
        {
          "output_type": "stream",
          "text": [
            "True\n"
          ],
          "name": "stdout"
        }
      ]
    },
    {
      "cell_type": "markdown",
      "metadata": {
        "id": "dFtrXGlAlGNL"
      },
      "source": [
        "## Load in the data and preprocess for our modelling\n",
        "\n",
        "We are getting our data sources from the TensorFlow datasets, and certain preprocessing has to be done in order to use our data in the modelling. "
      ]
    },
    {
      "cell_type": "code",
      "metadata": {
        "colab": {
          "base_uri": "https://localhost:8080/",
          "height": 367,
          "referenced_widgets": [
            "8af1eb425d8446508457ff421e1108b8",
            "d78ffd1774ea43c882a45f714d40ed9d",
            "cca6e002176749b5a5afac2c383cb699",
            "c18c6d8d94d042a1a1e707a03e7db964",
            "66d8c69ba39b4f4c85395bcaf14ee16e",
            "f17e17ea86d649e1992239a40f4d7d3d",
            "81458d7bf75443c79a8d66261afda6b6",
            "151a9398f7154a4781bcca4054b4aebb",
            "5ef9729a94e34bb09d29f3e0f0af21a1",
            "0633552462c44d1585c26b655e8c5719",
            "fd1630dcf6544ac186f74847aecea29a",
            "605d3ae2206541999d826a84c90fdf93",
            "78b55212362b410c9f2e08e11c0d21a6",
            "f0e637a2c4ea4e45b00e5086276f7626",
            "ba0fc4edaa894d778fc4ec12c0dc683b",
            "bbb6fc0215db46e791f336090bea38c9",
            "0f426a36f2af47e68735ead29bcaec41",
            "c84b61de624e4cceb1526dad60187e53",
            "1cf720f198b24580a172f5771d3fcd75",
            "e2d04fd92ae54e16abe1d941fa90c953",
            "b9118136109a42d181699867284bc795",
            "25b8102b0ba34e36817b5ef8e0cf815b",
            "2d18d32713424b05ae9acbedc1c9cb7a",
            "05e917f781634f86a997bbc647bb5af8",
            "1ae2d305f4764de7b3f111c38351d5e5",
            "5ed5cb5a96d444369334fa210b71ac9e",
            "d2967b1b3ef846daa9304f5bd283bb16",
            "f6ca24b3724c4cea81eb078c2b76d1cf",
            "c39a1cd73edd4f64b6abe9a74bd0895c",
            "3667d3374c4e49fdb91cd9c2598bd997",
            "fb56885fd9a444909fc7825f79a773de",
            "926d1f0f8bff4a2e991a8472d9627df5",
            "c1a29a97333f451c8504e895d904b83c",
            "639c3f3c95974b6680d3991a6fe6b92a",
            "2eb03ae03e964fc480fc75d4282736ee",
            "cbcec72467c34c30921d9f9339124f9b",
            "ead2cb63e1ae42669ce3ff4dddba52f2",
            "56be9326875741d283ff92429438da12",
            "52cd96371a794b34aa87b8ecde2c7bf8",
            "c5b817a0f245428fb323e18691df4297",
            "401d117778a448678c5cf25d1554ff4a",
            "db217a3fb530455ea360af349f7df687",
            "f8bbb0d6c2db45c3a5bd5b44d34f22f4",
            "4f187f7d9f794721b5b1ad169d1623e0",
            "7fe5d9ae7ff4456dbf941e3878761886",
            "acd2d9da6dc94c0ca76e8c0a1cda4998",
            "b2619bbd5a9a4412b491da13a70438d5",
            "826e867a0b054e17a0e0b31bedd97176",
            "3284cbe006ed4562908590e4735264c0",
            "b9700a6914294a0ea2c252be2e95f523",
            "0540c646942442ac96dfaa57c5d879f0",
            "f649042cb0354c3ab6a419ffd7fdfd8b",
            "864713d84e8145a6bffcd4b12e947db3",
            "da4692bfbb3e4a678f32d40e2b82b48d",
            "ae0b67aebe994509a5fc9125e9a54931",
            "5d198dec0c6a4b6f84a008b653f40161"
          ]
        },
        "id": "LqZIit33mgkf",
        "outputId": "79019a20-f1d3-4726-cf85-7c9257cbeb2d"
      },
      "source": [
        "# Loading the food 101 data for our use \n",
        "(train_data , test_data) , ds_info = tfds.load(name = 'food101' , \n",
        "                                               split = ['train' , 'validation'] , \n",
        "                                               shuffle_files = True , \n",
        "                                               as_supervised = True  , # data in tuple format\n",
        "                                               with_info = True )"
      ],
      "execution_count": 6,
      "outputs": [
        {
          "output_type": "stream",
          "text": [
            "\u001b[1mDownloading and preparing dataset food101/2.0.0 (download: 4.65 GiB, generated: Unknown size, total: 4.65 GiB) to /root/tensorflow_datasets/food101/2.0.0...\u001b[0m\n"
          ],
          "name": "stdout"
        },
        {
          "output_type": "display_data",
          "data": {
            "application/vnd.jupyter.widget-view+json": {
              "model_id": "8af1eb425d8446508457ff421e1108b8",
              "version_minor": 0,
              "version_major": 2
            },
            "text/plain": [
              "HBox(children=(FloatProgress(value=1.0, bar_style='info', description='Dl Completed...', max=1.0, style=Progre…"
            ]
          },
          "metadata": {
            "tags": []
          }
        },
        {
          "output_type": "display_data",
          "data": {
            "application/vnd.jupyter.widget-view+json": {
              "model_id": "5ef9729a94e34bb09d29f3e0f0af21a1",
              "version_minor": 0,
              "version_major": 2
            },
            "text/plain": [
              "HBox(children=(FloatProgress(value=1.0, bar_style='info', description='Dl Size...', max=1.0, style=ProgressSty…"
            ]
          },
          "metadata": {
            "tags": []
          }
        },
        {
          "output_type": "display_data",
          "data": {
            "application/vnd.jupyter.widget-view+json": {
              "model_id": "0f426a36f2af47e68735ead29bcaec41",
              "version_minor": 0,
              "version_major": 2
            },
            "text/plain": [
              "HBox(children=(FloatProgress(value=1.0, bar_style='info', description='Extraction completed...', max=1.0, styl…"
            ]
          },
          "metadata": {
            "tags": []
          }
        },
        {
          "output_type": "stream",
          "text": [
            "\n",
            "\n",
            "\n",
            "\n",
            "\n",
            "\n"
          ],
          "name": "stdout"
        },
        {
          "output_type": "display_data",
          "data": {
            "application/vnd.jupyter.widget-view+json": {
              "model_id": "1ae2d305f4764de7b3f111c38351d5e5",
              "version_minor": 0,
              "version_major": 2
            },
            "text/plain": [
              "HBox(children=(FloatProgress(value=1.0, bar_style='info', max=1.0), HTML(value='')))"
            ]
          },
          "metadata": {
            "tags": []
          }
        },
        {
          "output_type": "stream",
          "text": [
            "\rShuffling and writing examples to /root/tensorflow_datasets/food101/2.0.0.incomplete2GJ6QX/food101-train.tfrecord\n"
          ],
          "name": "stdout"
        },
        {
          "output_type": "display_data",
          "data": {
            "application/vnd.jupyter.widget-view+json": {
              "model_id": "c1a29a97333f451c8504e895d904b83c",
              "version_minor": 0,
              "version_major": 2
            },
            "text/plain": [
              "HBox(children=(FloatProgress(value=0.0, max=75750.0), HTML(value='')))"
            ]
          },
          "metadata": {
            "tags": []
          }
        },
        {
          "output_type": "display_data",
          "data": {
            "application/vnd.jupyter.widget-view+json": {
              "model_id": "401d117778a448678c5cf25d1554ff4a",
              "version_minor": 0,
              "version_major": 2
            },
            "text/plain": [
              "HBox(children=(FloatProgress(value=1.0, bar_style='info', max=1.0), HTML(value='')))"
            ]
          },
          "metadata": {
            "tags": []
          }
        },
        {
          "output_type": "stream",
          "text": [
            "Shuffling and writing examples to /root/tensorflow_datasets/food101/2.0.0.incomplete2GJ6QX/food101-validation.tfrecord\n"
          ],
          "name": "stdout"
        },
        {
          "output_type": "display_data",
          "data": {
            "application/vnd.jupyter.widget-view+json": {
              "model_id": "3284cbe006ed4562908590e4735264c0",
              "version_minor": 0,
              "version_major": 2
            },
            "text/plain": [
              "HBox(children=(FloatProgress(value=0.0, max=25250.0), HTML(value='')))"
            ]
          },
          "metadata": {
            "tags": []
          }
        },
        {
          "output_type": "stream",
          "text": [
            "\u001b[1mDataset food101 downloaded and prepared to /root/tensorflow_datasets/food101/2.0.0. Subsequent calls will reuse this data.\u001b[0m\n"
          ],
          "name": "stdout"
        }
      ]
    },
    {
      "cell_type": "code",
      "metadata": {
        "colab": {
          "base_uri": "https://localhost:8080/"
        },
        "id": "zcSDSd2w-w4S",
        "outputId": "34b57839-5676-4d7c-9b2a-8000af7b4208"
      },
      "source": [
        "train_data , test_data"
      ],
      "execution_count": 7,
      "outputs": [
        {
          "output_type": "execute_result",
          "data": {
            "text/plain": [
              "(<_OptionsDataset shapes: ((None, None, 3), ()), types: (tf.uint8, tf.int64)>,\n",
              " <_OptionsDataset shapes: ((None, None, 3), ()), types: (tf.uint8, tf.int64)>)"
            ]
          },
          "metadata": {
            "tags": []
          },
          "execution_count": 7
        }
      ]
    },
    {
      "cell_type": "code",
      "metadata": {
        "colab": {
          "base_uri": "https://localhost:8080/"
        },
        "id": "JUnt9kzankXI",
        "outputId": "e7a3291e-9847-4172-c65a-5e02125cc0ff"
      },
      "source": [
        "# What does our dataset contains ? \n",
        "ds_info.features"
      ],
      "execution_count": 8,
      "outputs": [
        {
          "output_type": "execute_result",
          "data": {
            "text/plain": [
              "FeaturesDict({\n",
              "    'image': Image(shape=(None, None, 3), dtype=tf.uint8),\n",
              "    'label': ClassLabel(shape=(), dtype=tf.int64, num_classes=101),\n",
              "})"
            ]
          },
          "metadata": {
            "tags": []
          },
          "execution_count": 8
        }
      ]
    },
    {
      "cell_type": "code",
      "metadata": {
        "colab": {
          "base_uri": "https://localhost:8080/"
        },
        "id": "8Na_vOiNqgVg",
        "outputId": "97dc01f5-24af-42f4-a136-5664cb568558"
      },
      "source": [
        "# Getting all the class names \n",
        "class_names = ds_info.features['label'].names\n",
        "print(class_names[:10]) # first 10 "
      ],
      "execution_count": 9,
      "outputs": [
        {
          "output_type": "stream",
          "text": [
            "['apple_pie', 'baby_back_ribs', 'baklava', 'beef_carpaccio', 'beef_tartare', 'beet_salad', 'beignets', 'bibimbap', 'bread_pudding', 'breakfast_burrito']\n"
          ],
          "name": "stdout"
        }
      ]
    },
    {
      "cell_type": "code",
      "metadata": {
        "colab": {
          "base_uri": "https://localhost:8080/"
        },
        "id": "xQsT1MkHqpmf",
        "outputId": "1bebfd69-4700-4434-f498-ff3bae22e461"
      },
      "source": [
        "# How many classes are there? \n",
        "len(class_names)"
      ],
      "execution_count": 10,
      "outputs": [
        {
          "output_type": "execute_result",
          "data": {
            "text/plain": [
              "101"
            ]
          },
          "metadata": {
            "tags": []
          },
          "execution_count": 10
        }
      ]
    },
    {
      "cell_type": "code",
      "metadata": {
        "id": "lMIMeU7Aqtx9"
      },
      "source": [
        "# Take one sample from our training data \n",
        "train_one_sample = train_data.take(1) # (image tensor , label)"
      ],
      "execution_count": 11,
      "outputs": []
    },
    {
      "cell_type": "code",
      "metadata": {
        "colab": {
          "base_uri": "https://localhost:8080/"
        },
        "id": "6-koIwRSq1Ad",
        "outputId": "b1a43fe8-41b0-4d6c-9e2c-7a68e80833d8"
      },
      "source": [
        "# What does one sample of our training data looks like? \n",
        "train_one_sample"
      ],
      "execution_count": 12,
      "outputs": [
        {
          "output_type": "execute_result",
          "data": {
            "text/plain": [
              "<TakeDataset shapes: ((None, None, 3), ()), types: (tf.uint8, tf.int64)>"
            ]
          },
          "metadata": {
            "tags": []
          },
          "execution_count": 12
        }
      ]
    },
    {
      "cell_type": "code",
      "metadata": {
        "colab": {
          "base_uri": "https://localhost:8080/"
        },
        "id": "nbt90lIdq6G2",
        "outputId": "ef7924e3-d02b-4259-9025-40eae96175cf"
      },
      "source": [
        "# Output info about our training samples \n",
        "for image , label in train_one_sample:\n",
        "  print(f\"\"\"\n",
        "  Image shape: {image.shape}\n",
        "  Image dtype: {image.dtype}\n",
        "  Target class from Food101 (tensor form): {label}\n",
        "  Class name (str form): {class_names[label.numpy()]}\n",
        "        \"\"\")\n"
      ],
      "execution_count": 13,
      "outputs": [
        {
          "output_type": "stream",
          "text": [
            "\n",
            "  Image shape: (512, 512, 3)\n",
            "  Image dtype: <dtype: 'uint8'>\n",
            "  Target class from Food101 (tensor form): 71\n",
            "  Class name (str form): paella\n",
            "        \n"
          ],
          "name": "stdout"
        }
      ]
    },
    {
      "cell_type": "code",
      "metadata": {
        "colab": {
          "base_uri": "https://localhost:8080/"
        },
        "id": "pponZpu0rBxx",
        "outputId": "a9558799-8db3-4d15-fb13-57312be99361"
      },
      "source": [
        "# What does an image tensor from TFD's Food101 look like? \n",
        "image"
      ],
      "execution_count": 14,
      "outputs": [
        {
          "output_type": "execute_result",
          "data": {
            "text/plain": [
              "<tf.Tensor: shape=(512, 512, 3), dtype=uint8, numpy=\n",
              "array([[[104, 125, 120],\n",
              "        [ 99, 118, 114],\n",
              "        [ 24,  39,  36],\n",
              "        ...,\n",
              "        [113,  49,  24],\n",
              "        [104,  40,  15],\n",
              "        [114,  50,  25]],\n",
              "\n",
              "       [[109, 128, 124],\n",
              "        [111, 130, 126],\n",
              "        [ 53,  65,  63],\n",
              "        ...,\n",
              "        [112,  48,  23],\n",
              "        [107,  43,  18],\n",
              "        [113,  49,  24]],\n",
              "\n",
              "       [[114, 130, 127],\n",
              "        [119, 135, 132],\n",
              "        [ 79,  89,  88],\n",
              "        ...,\n",
              "        [110,  46,  19],\n",
              "        [108,  44,  17],\n",
              "        [109,  45,  18]],\n",
              "\n",
              "       ...,\n",
              "\n",
              "       [[230, 146,  58],\n",
              "        [241, 157,  69],\n",
              "        [244, 160,  70],\n",
              "        ...,\n",
              "        [149,  90,  22],\n",
              "        [166, 103,  34],\n",
              "        [203, 138,  70]],\n",
              "\n",
              "       [[230, 146,  58],\n",
              "        [245, 161,  73],\n",
              "        [250, 166,  76],\n",
              "        ...,\n",
              "        [166, 107,  39],\n",
              "        [177, 112,  44],\n",
              "        [223, 156,  86]],\n",
              "\n",
              "       [[227, 143,  55],\n",
              "        [247, 163,  75],\n",
              "        [255, 171,  81],\n",
              "        ...,\n",
              "        [172, 113,  43],\n",
              "        [178, 111,  43],\n",
              "        [226, 157,  88]]], dtype=uint8)>"
            ]
          },
          "metadata": {
            "tags": []
          },
          "execution_count": 14
        }
      ]
    },
    {
      "cell_type": "code",
      "metadata": {
        "colab": {
          "base_uri": "https://localhost:8080/"
        },
        "id": "acxZVJbLtMpv",
        "outputId": "4a1722b1-a179-493b-d1dd-cf18ee8c482e"
      },
      "source": [
        "# What's the min and max values in our tensors? \n",
        "tf.reduce_min(image) , tf.reduce_max(image)"
      ],
      "execution_count": 15,
      "outputs": [
        {
          "output_type": "execute_result",
          "data": {
            "text/plain": [
              "(<tf.Tensor: shape=(), dtype=uint8, numpy=0>,\n",
              " <tf.Tensor: shape=(), dtype=uint8, numpy=255>)"
            ]
          },
          "metadata": {
            "tags": []
          },
          "execution_count": 15
        }
      ]
    },
    {
      "cell_type": "code",
      "metadata": {
        "colab": {
          "base_uri": "https://localhost:8080/",
          "height": 281
        },
        "id": "JXu3cUJntW_e",
        "outputId": "ab9dd831-a6bd-4def-b46b-1388bfd1e352"
      },
      "source": [
        "# Plotting an image tensor \n",
        "plt.imshow(image)\n",
        "plt.title(f'The class is : {class_names[label.numpy()]}')\n",
        "plt.axis(False) # turning off the axis"
      ],
      "execution_count": 16,
      "outputs": [
        {
          "output_type": "execute_result",
          "data": {
            "text/plain": [
              "(-0.5, 511.5, 511.5, -0.5)"
            ]
          },
          "metadata": {
            "tags": []
          },
          "execution_count": 16
        },
        {
          "output_type": "display_data",
          "data": {
            "image/png": "[encoded data removed]",
            "text/plain": [
              "<Figure size 432x288 with 1 Axes>"
            ]
          },
          "metadata": {
            "tags": [],
            "needs_background": "light"
          }
        }
      ]
    },
    {
      "cell_type": "code",
      "metadata": {
        "colab": {
          "base_uri": "https://localhost:8080/"
        },
        "id": "YTl0-hz5tkga",
        "outputId": "491c2752-5f57-44ea-a9c2-0c5101a1e547"
      },
      "source": [
        "# What our image datatype? \n",
        "image.dtype"
      ],
      "execution_count": 17,
      "outputs": [
        {
          "output_type": "execute_result",
          "data": {
            "text/plain": [
              "tf.uint8"
            ]
          },
          "metadata": {
            "tags": []
          },
          "execution_count": 17
        }
      ]
    },
    {
      "cell_type": "markdown",
      "metadata": {
        "id": "mugWdaA3z-dE"
      },
      "source": [
        "`tf.uint8` format won't be the ideal for modelling. We gotta write a preprocess function which will conver the images from `tf.uint8` data type to `tf.float32`. \n",
        "\n",
        "This could ensure our data for modelling. \n",
        "Resizes the image to `(224 , 224)` and cast the datatype "
      ]
    },
    {
      "cell_type": "code",
      "metadata": {
        "id": "ksjhKU3S0Ojm"
      },
      "source": [
        "# Making a preprocess function (with resize)\n",
        "def preprocess_img(image , label , img_shape = 224):\n",
        "  '''\n",
        "  Converts image datatypes from 'uint8' to 'float32' \n",
        "  Reshapes image to (img_shape , img_shape , color_channels)\n",
        "  '''\n",
        "  image = tf.image.resize(image , size = [img_shape , img_shape]) # reshapes to [224 , 224]\n",
        "  return tf.cast(image , tf.float32) , label"
      ],
      "execution_count": 18,
      "outputs": []
    },
    {
      "cell_type": "markdown",
      "metadata": {
        "id": "47iXmlel3i0c"
      },
      "source": [
        "Now let's test one of the images and labels with our preprocessed function "
      ]
    },
    {
      "cell_type": "code",
      "metadata": {
        "colab": {
          "base_uri": "https://localhost:8080/"
        },
        "id": "LCOQx97c3qJW",
        "outputId": "7ec1e9da-5fde-4247-afd5-3a538b728136"
      },
      "source": [
        "# Checking the output of the preprocessed image and normal image\n",
        "preprocessed_img = preprocess_img(image, label)[0]\n",
        "print(f\"Image before preprocessing:\\n {image[:2]}...,\\nShape: {image.shape},\\nDatatype: {image.dtype}\\n\")\n",
        "print(f\"Image after preprocessing:\\n {preprocessed_img[:2]}...,\\nShape: {preprocessed_img.shape},\\nDatatype: {preprocessed_img.dtype}\")"
      ],
      "execution_count": 19,
      "outputs": [
        {
          "output_type": "stream",
          "text": [
            "Image before preprocessing:\n",
            " [[[104 125 120]\n",
            "  [ 99 118 114]\n",
            "  [ 24  39  36]\n",
            "  ...\n",
            "  [113  49  24]\n",
            "  [104  40  15]\n",
            "  [114  50  25]]\n",
            "\n",
            " [[109 128 124]\n",
            "  [111 130 126]\n",
            "  [ 53  65  63]\n",
            "  ...\n",
            "  [112  48  23]\n",
            "  [107  43  18]\n",
            "  [113  49  24]]]...,\n",
            "Shape: (512, 512, 3),\n",
            "Datatype: <dtype: 'uint8'>\n",
            "\n",
            "Image after preprocessing:\n",
            " [[[106.89285   126.147964  122.02041  ]\n",
            "  [  4.2397847  12.137743   11.040805 ]\n",
            "  [ 10.076534   11.918371   15.637758 ]\n",
            "  ...\n",
            "  [107.305984   43.30598    16.305983 ]\n",
            "  [116.99993    52.999935   27.999935 ]\n",
            "  [108.581894   44.58189    19.581892 ]]\n",
            "\n",
            " [[119.13776   132.41837   130.0153   ]\n",
            "  [ 24.5459     29.239777   29.964268 ]\n",
            "  [ 15.612247   13.158165   16.285715 ]\n",
            "  ...\n",
            "  [110.13274    46.132732   19.132734 ]\n",
            "  [109.137726   45.137726   18.137728 ]\n",
            "  [107.03052    43.030518   16.030518 ]]]...,\n",
            "Shape: (224, 224, 3),\n",
            "Datatype: <dtype: 'float32'>\n"
          ],
          "name": "stdout"
        }
      ]
    },
    {
      "cell_type": "markdown",
      "metadata": {
        "id": "7fXXijYQ5WHQ"
      },
      "source": [
        "Awesome! Our functions work like a gem. "
      ]
    },
    {
      "cell_type": "markdown",
      "metadata": {
        "id": "ao-O6DSM5fxq"
      },
      "source": [
        "Now we're going to map this function to all our images for both train and test data. \n",
        "\n",
        "Then will shuffle them and turn them into batches of size 64. "
      ]
    },
    {
      "cell_type": "code",
      "metadata": {
        "id": "Dh-VPgyI-lju"
      },
      "source": [
        "# Map the preprocessing function to our training data (paralellize)\n",
        "train_data = train_data.map(map_func= preprocess_img , num_parallel_calls= tf.data.AUTOTUNE)\n",
        "\n",
        "# Shuffle train data and turn into batches and prefetch it (load the data faster)\n",
        "train_data = train_data.shuffle(buffer_size = 1000).batch(batch_size = 64).prefetch(buffer_size = tf.data.AUTOTUNE)\n",
        "\n",
        "# Mapping the preprocessing function on the test data \n",
        "test_data = test_data.map(map_func = preprocess_img , num_parallel_calls= tf.data.AUTOTUNE)\n",
        "\n",
        "# Creating batches of our test data and enabling prefetch \n",
        "test_data = test_data.batch(batch_size= 64).prefetch(tf.data.AUTOTUNE) # Use the max processor for us"
      ],
      "execution_count": 20,
      "outputs": []
    },
    {
      "cell_type": "markdown",
      "metadata": {
        "id": "fGrVds9k91J4"
      },
      "source": [
        "Great! We have done the preprocessing part, now let's look at the shapes of our train and test sets\n",
        "\n",
        "\n"
      ]
    },
    {
      "cell_type": "code",
      "metadata": {
        "colab": {
          "base_uri": "https://localhost:8080/"
        },
        "id": "ZXwLopuX9-NP",
        "outputId": "6bb7a24d-45ce-4678-8836-1138ea0749c9"
      },
      "source": [
        "# How does the resized train data looks like \n",
        "train_data , test_data"
      ],
      "execution_count": 21,
      "outputs": [
        {
          "output_type": "execute_result",
          "data": {
            "text/plain": [
              "(<PrefetchDataset shapes: ((None, 224, 224, 3), (None,)), types: (tf.float32, tf.int64)>,\n",
              " <PrefetchDataset shapes: ((None, 224, 224, 3), (None,)), types: (tf.float32, tf.int64)>)"
            ]
          },
          "metadata": {
            "tags": []
          },
          "execution_count": 21
        }
      ]
    },
    {
      "cell_type": "markdown",
      "metadata": {
        "id": "Ew048kNw-Pdy"
      },
      "source": [
        "We're going to enable the mixed precision for faster training"
      ]
    },
    {
      "cell_type": "code",
      "metadata": {
        "colab": {
          "base_uri": "https://localhost:8080/"
        },
        "id": "vTqAyFPF-k2S",
        "outputId": "95b662dd-599b-4b3e-e100-6ea63a9efb20"
      },
      "source": [
        "# Turn on mixed precision \n",
        "from tensorflow.keras import mixed_precision\n",
        "mixed_precision.set_global_policy(policy = 'mixed_float16')"
      ],
      "execution_count": 21,
      "outputs": [
        {
          "output_type": "stream",
          "text": [
            "INFO:tensorflow:Mixed precision compatibility check (mixed_float16): OK\n",
            "Your GPU will likely run quickly with dtype policy mixed_float16 as it has compute capability of at least 7.0. Your GPU: Tesla T4, compute capability 7.5\n"
          ],
          "name": "stdout"
        },
        {
          "output_type": "stream",
          "text": [
            "INFO:tensorflow:Mixed precision compatibility check (mixed_float16): OK\n",
            "Your GPU will likely run quickly with dtype policy mixed_float16 as it has compute capability of at least 7.0. Your GPU: Tesla T4, compute capability 7.5\n"
          ],
          "name": "stderr"
        }
      ]
    },
    {
      "cell_type": "markdown",
      "metadata": {
        "id": "cyUu_JIyC0pU"
      },
      "source": [
        "## Modelling Part \n",
        "\n",
        "We're going to build 3 types of models, \n",
        "- A VGG model.\n",
        "- Transfer learning model \n",
        "- A pretrained model "
      ]
    },
    {
      "cell_type": "code",
      "metadata": {
        "id": "5kTOeTYZMkSp"
      },
      "source": [
        "# Importing the needed packages \n",
        "from tensorflow.keras.layers import Input , Conv2D \n",
        "from tensorflow.keras.layers import MaxPool2D , Flatten , Dense \n",
        "from tensorflow.keras import Model"
      ],
      "execution_count": 22,
      "outputs": []
    },
    {
      "cell_type": "markdown",
      "metadata": {
        "id": "KFJrLsHWIADl"
      },
      "source": [
        "### VGG Model"
      ]
    },
    {
      "cell_type": "code",
      "metadata": {
        "colab": {
          "base_uri": "https://localhost:8080/"
        },
        "id": "B1ujjS3rIDq1",
        "outputId": "a0550106-8dd1-474f-d844-ee50692bf6f1"
      },
      "source": [
        "# Building a VGG model \n",
        "inputs = Input(shape = (224 , 224 , 3))\n",
        "\n",
        "# Conv Block 1 (64 filters)\n",
        "x = Conv2D(filters= 64 , kernel_size= 3 , padding = 'same' , \n",
        "           activation = 'relu')(inputs)\n",
        "x = Conv2D(64 , 3 , padding = 'same' , activation = 'relu')(x)\n",
        "x = MaxPool2D(pool_size = 2 , strides= 2  , padding = 'same')(x)\n",
        "\n",
        "# Conv Block 2 (128 filters)\n",
        "x = Conv2D(128 , 3 , padding = 'same' , activation= 'relu')(x)\n",
        "x = Conv2D(128 , 3 , padding = 'same' , activation = 'relu')(x)\n",
        "x = MaxPool2D(pool_size = 2 , strides = 2 , padding ='same')(x)\n",
        "\n",
        "# Conv Block 3 (256 filters)\n",
        "x = Conv2D(256 , 3 , padding = 'same' , activation = 'relu')(x)\n",
        "x = Conv2D(256 , 3 , padding = 'same' , activation = 'relu')(x)\n",
        "x = Conv2D(256 , 3 , padding = 'same' , activation = 'relu')(x)\n",
        "x = MaxPool2D(pool_size =2  , strides = 2 , padding ='same')(x)\n",
        "\n",
        "# 4th Conv block\n",
        "\n",
        "x = Conv2D(filters =512, kernel_size =3, padding ='same', activation='relu')(x)\n",
        "x = Conv2D(filters =512, kernel_size =3, padding ='same', activation='relu')(x)\n",
        "x = Conv2D(filters =512, kernel_size =3, padding ='same', activation='relu')(x)\n",
        "x = MaxPool2D(pool_size =2, strides =2, padding ='same')(x)\n",
        "\n",
        "# 5th Conv block\n",
        "\n",
        "x = Conv2D(filters =512, kernel_size =3, padding ='same', activation='relu')(x)\n",
        "x = Conv2D(filters =512, kernel_size =3, padding ='same', activation='relu')(x)\n",
        "x = Conv2D(filters =512, kernel_size =3, padding ='same', activation='relu')(x)\n",
        "x = MaxPool2D(pool_size =2, strides =2, padding ='same')(x)\n",
        "\n",
        "# Constructing a Dense layer (3 fully connected layers)\n",
        "x = Flatten()(x)\n",
        "x = Dense(4096 , activation= 'relu')(x)\n",
        "x = Dense(4096 , activation= 'relu')(x)\n",
        "x = Dense(len(class_names))(x)\n",
        "\n",
        "# Output layer \n",
        "outputs = tf.keras.layers.Activation('softmax' , dtype = tf.float32 , \n",
        "                                     name = 'output_layer')(x)\n",
        "\n",
        "# Packing everything into a model \n",
        "vgg_model = Model(inputs , outputs)\n",
        "\n",
        "# Checking the summary of the model \n",
        "vgg_model.summary()\n"
      ],
      "execution_count": 118,
      "outputs": [
        {
          "output_type": "stream",
          "text": [
            "Model: \"model_2\"\n",
            "_________________________________________________________________\n",
            "Layer (type)                 Output Shape              Param #   \n",
            "=================================================================\n",
            "input_4 (InputLayer)         [(None, 224, 224, 3)]     0         \n",
            "_________________________________________________________________\n",
            "conv2d_39 (Conv2D)           (None, 224, 224, 64)      1792      \n",
            "_________________________________________________________________\n",
            "conv2d_40 (Conv2D)           (None, 224, 224, 64)      36928     \n",
            "_________________________________________________________________\n",
            "max_pooling2d_15 (MaxPooling (None, 112, 112, 64)      0         \n",
            "_________________________________________________________________\n",
            "conv2d_41 (Conv2D)           (None, 112, 112, 128)     73856     \n",
            "_________________________________________________________________\n",
            "conv2d_42 (Conv2D)           (None, 112, 112, 128)     147584    \n",
            "_________________________________________________________________\n",
            "max_pooling2d_16 (MaxPooling (None, 56, 56, 128)       0         \n",
            "_________________________________________________________________\n",
            "conv2d_43 (Conv2D)           (None, 56, 56, 256)       295168    \n",
            "_________________________________________________________________\n",
            "conv2d_44 (Conv2D)           (None, 56, 56, 256)       590080    \n",
            "_________________________________________________________________\n",
            "conv2d_45 (Conv2D)           (None, 56, 56, 256)       590080    \n",
            "_________________________________________________________________\n",
            "max_pooling2d_17 (MaxPooling (None, 28, 28, 256)       0         \n",
            "_________________________________________________________________\n",
            "conv2d_46 (Conv2D)           (None, 28, 28, 512)       1180160   \n",
            "_________________________________________________________________\n",
            "conv2d_47 (Conv2D)           (None, 28, 28, 512)       2359808   \n",
            "_________________________________________________________________\n",
            "conv2d_48 (Conv2D)           (None, 28, 28, 512)       2359808   \n",
            "_________________________________________________________________\n",
            "max_pooling2d_18 (MaxPooling (None, 14, 14, 512)       0         \n",
            "_________________________________________________________________\n",
            "conv2d_49 (Conv2D)           (None, 14, 14, 512)       2359808   \n",
            "_________________________________________________________________\n",
            "conv2d_50 (Conv2D)           (None, 14, 14, 512)       2359808   \n",
            "_________________________________________________________________\n",
            "conv2d_51 (Conv2D)           (None, 14, 14, 512)       2359808   \n",
            "_________________________________________________________________\n",
            "max_pooling2d_19 (MaxPooling (None, 7, 7, 512)         0         \n",
            "_________________________________________________________________\n",
            "flatten_3 (Flatten)          (None, 25088)             0         \n",
            "_________________________________________________________________\n",
            "dense_6 (Dense)              (None, 4096)              102764544 \n",
            "_________________________________________________________________\n",
            "dense_7 (Dense)              (None, 4096)              16781312  \n",
            "_________________________________________________________________\n",
            "dense_8 (Dense)              (None, 101)               413797    \n",
            "_________________________________________________________________\n",
            "output_layer (Activation)    (None, 101)               0         \n",
            "=================================================================\n",
            "Total params: 134,674,341\n",
            "Trainable params: 134,674,341\n",
            "Non-trainable params: 0\n",
            "_________________________________________________________________\n"
          ],
          "name": "stdout"
        }
      ]
    },
    {
      "cell_type": "code",
      "metadata": {
        "colab": {
          "base_uri": "https://localhost:8080/"
        },
        "id": "OMntYxSpQRkl",
        "outputId": "5dc2a2f9-e8d9-4db7-d179-1c0a53c82d9d"
      },
      "source": [
        "# Compiling our model \n",
        "vgg_model.compile(loss = tf.keras.losses.SparseCategoricalCrossentropy() , \n",
        "                  optimizer = tf.keras.optimizers.Adam() , \n",
        "                  metrics = ['accuracy'])\n",
        "\n",
        "# Fitting the model \n",
        "vgg_history = vgg_model.fit(train_data , \n",
        "                            epochs = 6 ,\n",
        "                            steps_per_epoch = len(train_data) , \n",
        "                            validation_data = test_data , \n",
        "                            validation_steps = int(0.2 * len(test_data)))"
      ],
      "execution_count": 125,
      "outputs": [
        {
          "output_type": "stream",
          "text": [
            "Epoch 1/6\n",
            "1184/1184 [==============================] - 599s 503ms/step - loss: 4.6155 - accuracy: 0.0088 - val_loss: 4.6149 - val_accuracy: 0.0103\n",
            "Epoch 2/6\n",
            "1184/1184 [==============================] - 595s 501ms/step - loss: 4.6155 - accuracy: 0.0093 - val_loss: 4.6150 - val_accuracy: 0.0113\n",
            "Epoch 3/6\n",
            "1184/1184 [==============================] - 595s 501ms/step - loss: 4.6155 - accuracy: 0.0093 - val_loss: 4.6149 - val_accuracy: 0.0111\n",
            "Epoch 4/6\n",
            "1184/1184 [==============================] - 595s 501ms/step - loss: 4.6155 - accuracy: 0.0096 - val_loss: 4.6149 - val_accuracy: 0.0113\n",
            "Epoch 5/6\n",
            "1184/1184 [==============================] - 596s 502ms/step - loss: 4.6155 - accuracy: 0.0091 - val_loss: 4.6149 - val_accuracy: 0.0113\n",
            "Epoch 6/6\n",
            "1184/1184 [==============================] - 596s 502ms/step - loss: 4.6155 - accuracy: 0.0095 - val_loss: 4.6149 - val_accuracy: 0.0113\n"
          ],
          "name": "stdout"
        }
      ]
    },
    {
      "cell_type": "code",
      "metadata": {
        "colab": {
          "base_uri": "https://localhost:8080/"
        },
        "id": "yrCz6vwYdrwQ",
        "outputId": "58cbb4ba-f594-48d3-c2d5-254ff818c873"
      },
      "source": [
        "vgg_model_result = vgg_model.evaluate(test_data)"
      ],
      "execution_count": 126,
      "outputs": [
        {
          "output_type": "stream",
          "text": [
            "395/395 [==============================] - 65s 164ms/step - loss: 4.6151 - accuracy: 0.0099\n"
          ],
          "name": "stdout"
        }
      ]
    },
    {
      "cell_type": "markdown",
      "metadata": {
        "id": "4mxKH_3-Kxie"
      },
      "source": [
        "That was such a bad performance by our VGG model, which we built from scracth. \n",
        "\n",
        "This is expected before, now it's time to create some callbacks and jump into Transfer Learning. "
      ]
    },
    {
      "cell_type": "markdown",
      "metadata": {
        "id": "PaUgn-6QcRtf"
      },
      "source": [
        "### Callbacks \n",
        "We're going to use some important callbacks for our model. Even get to know the callbacks which I didn't came across, this is gonna be fun. \n",
        "\n",
        "The callbacks we're going to work with are: \n",
        "- ModelCheckpoint Callback\n",
        "- LearningRateScheduler Callback \n",
        "- EarlyStopping Callback \n",
        "- ReduceLRPlateau Callback \n",
        "\n",
        "I will link the resources in here which helped me in learning these callbacks. "
      ]
    },
    {
      "cell_type": "code",
      "metadata": {
        "id": "dH04tx2lmK76"
      },
      "source": [
        "# Import all the callbacks \n",
        "from tensorflow.keras.callbacks import ModelCheckpoint , EarlyStopping , ReduceLROnPlateau , LearningRateScheduler"
      ],
      "execution_count": 26,
      "outputs": []
    },
    {
      "cell_type": "markdown",
      "metadata": {
        "id": "NxfKjQBswZ5l"
      },
      "source": [
        "Alright we will be creating two types of callbacks. One is for the Transfer Learning models and the other is for the pre-trained model. \n"
      ]
    },
    {
      "cell_type": "code",
      "metadata": {
        "id": "qMRHl6HGxfR2"
      },
      "source": [
        "# Creating the ModelCheckpoint Callback for our transfer learning models \n",
        "\n",
        "\n",
        "# For the EfficientNet_B0 Model\n",
        "checkpoint_filepath_efficientnet_b0 = 'checkpoint_efficientnet_b0_weights/checkpoint.ckpt'\n",
        "\n",
        "# Creating a ModelCheckpoint Callback that saves the weights only \n",
        "checkpoint_efficientnet_b0 = ModelCheckpoint(filepath = checkpoint_filepath_efficientnet_b0 , \n",
        "                                             save_weights = True , \n",
        "                                             save_best_only = False , # We need all the weights not just the best weights\n",
        "                                             save_freq = 'epoch' , # Every epoch\n",
        "                                             verbose = 1)\n",
        "\n",
        "# For the EfficientNet_B3 Model \n",
        "checkpoint_filepath_efficientnet_b3 = 'checkpoint_efficientnet_b3_weights/checkpoint.ckpt'\n",
        "\n",
        "checkpoint_efficientnet_b3 = ModelCheckpoint(filepath = checkpoint_filepath_efficientnet_b3,\n",
        "                                             save_weights = True , \n",
        "                                             save_best_only = False , \n",
        "                                             save_freq = 'epoch' , \n",
        "                                             verbose = 1)\n",
        "\n",
        "# For the Resnet_v2_50 model \n",
        "checkpoint_filepath_resnet = 'checkpoint_resnet_weights/checkpoint.ckpt'\n",
        "\n",
        "checkpoint_resnet = ModelCheckpoint(filepath = checkpoint_filepath_resnet , \n",
        "                                    save_weights = True , \n",
        "                                    save_best_only = False , \n",
        "                                    save_freq = 'epoch' , \n",
        "                                    verbose = 1)"
      ],
      "execution_count": 27,
      "outputs": []
    },
    {
      "cell_type": "markdown",
      "metadata": {
        "id": "9vT_89KJ3Jvu"
      },
      "source": [
        "Before jumping into other callbacks let's build a transfer learning model more like a base line for fewer epochs and observe the performance. \n",
        "\n",
        "Now we're gonna build 3 models, \n",
        "- EfficientNet_B0\n",
        "- EfficientNet_B3\n",
        "- Resnet_V2_50\n"
      ]
    },
    {
      "cell_type": "code",
      "metadata": {
        "id": "9LVeDavg9KNT"
      },
      "source": [
        "# All the model URLS in here \n",
        "import tensorflow_hub as hub\n",
        "\n",
        "resnet_50_url = 'https://tfhub.dev/google/imagenet/resnet_v2_50/feature_vector/4'\n",
        "efficientnet_b0_url = 'https://tfhub.dev/tensorflow/efficientnet/b0/feature-vector/1'\n",
        "efficientnet_b3_url = 'https://tfhub.dev/google/efficientnet/b3/feature-vector/1'"
      ],
      "execution_count": 28,
      "outputs": []
    },
    {
      "cell_type": "markdown",
      "metadata": {
        "id": "Ma1Zz0VjC8PZ"
      },
      "source": [
        "Let's create a function which helps us to create the transfer learning model."
      ]
    },
    {
      "cell_type": "code",
      "metadata": {
        "id": "fMUX8g2XDI92"
      },
      "source": [
        "def create_model(model_url , num_classes , augmentation = False , is_efficientnet=True ):\n",
        "  '''\n",
        "  Takes a TensorFlow Hub URL and creates a keras Sequential Model with it\n",
        "\n",
        "  Returns: \n",
        "    An uncompiled Keras Sequential Model with the model_url as feature extraction\n",
        "    layer and Dense output layer with num_classes depends on our problem.\n",
        "  '''\n",
        "\n",
        "  # Download the feature vector model and save it as a Keras layer \n",
        "  feature_extractor_layer = hub.KerasLayer(model_url , \n",
        "                                           trainable = False , \n",
        "                                           name = 'feature_extraction_layer')\n",
        "  \n",
        "  if is_efficientnet == 'True':\n",
        "    if augmentation == 'False':\n",
        "      inputs = Input(shape = (224 , 224 , 3) , name = 'Input_layer')(feature_extractor_layer)\n",
        "      x = data_augmentation(inputs)\n",
        "      x = layers.Dense(len(class_names))(x)\n",
        "      outputs = layers.Dense(activation = 'softmax' , dtype = tf.float32 , name = 'output_layer')\n",
        "      \n",
        "      \n",
        "  \n",
        "\n",
        "  if augmentation == 'False':\n",
        "     # Create our model by replacing the last layers \n",
        "     model = tf.keras.Sequential([\n",
        "        feature_etxtractor_layer , \n",
        "        tf.keras.layers.Dense(len(class_names)) , \n",
        "        tf.keras.layers.Dense(activation='softmax' , dtype = tf.float32 , 'output_layer')\n",
        "        ])\n",
        " "
      ],
      "execution_count": null,
      "outputs": []
    },
    {
      "cell_type": "code",
      "metadata": {
        "id": "hRwnBtmkEl5c"
      },
      "source": [
        "def create_model(model_url , num_classes):\n",
        "  '''\n",
        "  Takes a TensorFlow Hub URL and creates a keras Sequential Model with it\n",
        "\n",
        "  Returns: \n",
        "    An uncompiled Keras Sequential Model with the model_url as feature extraction\n",
        "    layer and Dense output layer with num_classes depends on our problem.\n",
        "  '''\n",
        "  IMG_SIZE = (224 , 224)\n",
        "\n",
        "  # Download the feature vector model and save it as a Keras layer \n",
        "  feature_extractor_layer = hub.KerasLayer(model_url , \n",
        "                                           trainable = False , \n",
        "                                           name = 'feature_extraction_layer' , \n",
        "                                           input_shape = IMG_SIZE + (3,))\n",
        "  # \n",
        "  \n",
        "  model = tf.keras.Sequential([\n",
        "      feature_extractor_layer , \n",
        "      tf.keras.layers.Dense(num_classes , activation = 'softmax')\n",
        "      #tf.keras.layers.Activation('softmax' , dtype = tf.float32 , name='output_layer')\n",
        "    ])\n",
        "\n",
        "     \n",
        "  return model"
      ],
      "execution_count": 30,
      "outputs": []
    },
    {
      "cell_type": "code",
      "metadata": {
        "id": "Wk2SisfvLB_K"
      },
      "source": [
        "efficientnet_b0_model = create_model(efficientnet_b0_url , num_classes= len(class_names))\n",
        "\n",
        "# Compiling the model \n",
        "efficientnet_b0_model.compile(loss = tf.keras.losses.SparseCategoricalCrossentropy(), \n",
        "                              optimizer = tf.keras.optimizers.Adam() , \n",
        "                              metrics = ['accuracy'])\n"
      ],
      "execution_count": 31,
      "outputs": []
    },
    {
      "cell_type": "code",
      "metadata": {
        "colab": {
          "base_uri": "https://localhost:8080/"
        },
        "id": "8dPzJOB2pKs7",
        "outputId": "cfb2342a-e1f3-4ae3-c82d-719d21ef7e9d"
      },
      "source": [
        "efficientnet_b0_model.summary()"
      ],
      "execution_count": 32,
      "outputs": [
        {
          "output_type": "stream",
          "text": [
            "Model: \"sequential_2\"\n",
            "_________________________________________________________________\n",
            "Layer (type)                 Output Shape              Param #   \n",
            "=================================================================\n",
            "feature_extraction_layer (Ke (None, 1280)              4049564   \n",
            "_________________________________________________________________\n",
            "dense (Dense)                (None, 101)               129381    \n",
            "=================================================================\n",
            "Total params: 4,178,945\n",
            "Trainable params: 129,381\n",
            "Non-trainable params: 4,049,564\n",
            "_________________________________________________________________\n"
          ],
          "name": "stdout"
        }
      ]
    },
    {
      "cell_type": "code",
      "metadata": {
        "colab": {
          "base_uri": "https://localhost:8080/"
        },
        "id": "ZIIOcmBUpKyZ",
        "outputId": "78054730-1e02-4e32-9e14-6dda25b4f497"
      },
      "source": [
        "history_fine_tune_efficient_b0 = efficientnet_b0_model.fit(train_data , \n",
        "                                                           steps_per_epoch = len(train_data) , \n",
        "                                                           validation_data = test_data , \n",
        "                                                           validation_steps = int(0.2 * len(test_data)) , \n",
        "                                                            epochs = 10 , \n",
        "                                                           callbacks = [checkpoint_efficientnet_b0])"
      ],
      "execution_count": 33,
      "outputs": [
        {
          "output_type": "stream",
          "text": [
            "Epoch 1/10\n",
            "1184/1184 [==============================] - 235s 165ms/step - loss: 1126.1080 - accuracy: 0.0116 - val_loss: 1021.3809 - val_accuracy: 0.0123\n",
            "\n",
            "Epoch 00001: saving model to checkpoint_efficientnet_b0_weights/checkpoint.ckpt\n",
            "INFO:tensorflow:Assets written to: checkpoint_efficientnet_b0_weights/checkpoint.ckpt/assets\n"
          ],
          "name": "stdout"
        },
        {
          "output_type": "stream",
          "text": [
            "INFO:tensorflow:Assets written to: checkpoint_efficientnet_b0_weights/checkpoint.ckpt/assets\n"
          ],
          "name": "stderr"
        },
        {
          "output_type": "stream",
          "text": [
            "Epoch 2/10\n",
            "1184/1184 [==============================] - 168s 141ms/step - loss: 877.5936 - accuracy: 0.0167 - val_loss: 1075.3534 - val_accuracy: 0.0119\n",
            "\n",
            "Epoch 00002: saving model to checkpoint_efficientnet_b0_weights/checkpoint.ckpt\n",
            "INFO:tensorflow:Assets written to: checkpoint_efficientnet_b0_weights/checkpoint.ckpt/assets\n"
          ],
          "name": "stdout"
        },
        {
          "output_type": "stream",
          "text": [
            "INFO:tensorflow:Assets written to: checkpoint_efficientnet_b0_weights/checkpoint.ckpt/assets\n"
          ],
          "name": "stderr"
        },
        {
          "output_type": "stream",
          "text": [
            "Epoch 3/10\n",
            "1184/1184 [==============================] - 175s 142ms/step - loss: 820.0186 - accuracy: 0.0200 - val_loss: 983.8801 - val_accuracy: 0.0131\n",
            "\n",
            "Epoch 00003: saving model to checkpoint_efficientnet_b0_weights/checkpoint.ckpt\n",
            "INFO:tensorflow:Assets written to: checkpoint_efficientnet_b0_weights/checkpoint.ckpt/assets\n"
          ],
          "name": "stdout"
        },
        {
          "output_type": "stream",
          "text": [
            "INFO:tensorflow:Assets written to: checkpoint_efficientnet_b0_weights/checkpoint.ckpt/assets\n"
          ],
          "name": "stderr"
        },
        {
          "output_type": "stream",
          "text": [
            "Epoch 4/10\n",
            "1184/1184 [==============================] - 155s 129ms/step - loss: 788.8232 - accuracy: 0.0231 - val_loss: 964.6432 - val_accuracy: 0.0170\n",
            "\n",
            "Epoch 00004: saving model to checkpoint_efficientnet_b0_weights/checkpoint.ckpt\n",
            "INFO:tensorflow:Assets written to: checkpoint_efficientnet_b0_weights/checkpoint.ckpt/assets\n"
          ],
          "name": "stdout"
        },
        {
          "output_type": "stream",
          "text": [
            "INFO:tensorflow:Assets written to: checkpoint_efficientnet_b0_weights/checkpoint.ckpt/assets\n"
          ],
          "name": "stderr"
        },
        {
          "output_type": "stream",
          "text": [
            "Epoch 5/10\n",
            "1184/1184 [==============================] - 156s 130ms/step - loss: 771.4250 - accuracy: 0.0269 - val_loss: 998.8010 - val_accuracy: 0.0142\n",
            "\n",
            "Epoch 00005: saving model to checkpoint_efficientnet_b0_weights/checkpoint.ckpt\n",
            "INFO:tensorflow:Assets written to: checkpoint_efficientnet_b0_weights/checkpoint.ckpt/assets\n"
          ],
          "name": "stdout"
        },
        {
          "output_type": "stream",
          "text": [
            "INFO:tensorflow:Assets written to: checkpoint_efficientnet_b0_weights/checkpoint.ckpt/assets\n"
          ],
          "name": "stderr"
        },
        {
          "output_type": "stream",
          "text": [
            "Epoch 6/10\n",
            "1184/1184 [==============================] - 155s 129ms/step - loss: 746.4275 - accuracy: 0.0278 - val_loss: 963.2420 - val_accuracy: 0.0123\n",
            "\n",
            "Epoch 00006: saving model to checkpoint_efficientnet_b0_weights/checkpoint.ckpt\n",
            "INFO:tensorflow:Assets written to: checkpoint_efficientnet_b0_weights/checkpoint.ckpt/assets\n"
          ],
          "name": "stdout"
        },
        {
          "output_type": "stream",
          "text": [
            "INFO:tensorflow:Assets written to: checkpoint_efficientnet_b0_weights/checkpoint.ckpt/assets\n"
          ],
          "name": "stderr"
        },
        {
          "output_type": "stream",
          "text": [
            "Epoch 7/10\n",
            "1184/1184 [==============================] - 155s 129ms/step - loss: 737.5832 - accuracy: 0.0303 - val_loss: 1060.3070 - val_accuracy: 0.0121\n",
            "\n",
            "Epoch 00007: saving model to checkpoint_efficientnet_b0_weights/checkpoint.ckpt\n",
            "INFO:tensorflow:Assets written to: checkpoint_efficientnet_b0_weights/checkpoint.ckpt/assets\n"
          ],
          "name": "stdout"
        },
        {
          "output_type": "stream",
          "text": [
            "INFO:tensorflow:Assets written to: checkpoint_efficientnet_b0_weights/checkpoint.ckpt/assets\n"
          ],
          "name": "stderr"
        },
        {
          "output_type": "stream",
          "text": [
            "Epoch 8/10\n",
            "1184/1184 [==============================] - 155s 130ms/step - loss: 754.5711 - accuracy: 0.0328 - val_loss: 1059.3138 - val_accuracy: 0.0123\n",
            "\n",
            "Epoch 00008: saving model to checkpoint_efficientnet_b0_weights/checkpoint.ckpt\n",
            "INFO:tensorflow:Assets written to: checkpoint_efficientnet_b0_weights/checkpoint.ckpt/assets\n"
          ],
          "name": "stdout"
        },
        {
          "output_type": "stream",
          "text": [
            "INFO:tensorflow:Assets written to: checkpoint_efficientnet_b0_weights/checkpoint.ckpt/assets\n"
          ],
          "name": "stderr"
        },
        {
          "output_type": "stream",
          "text": [
            "Epoch 9/10\n",
            "1184/1184 [==============================] - 155s 130ms/step - loss: 718.3531 - accuracy: 0.0324 - val_loss: 1080.5465 - val_accuracy: 0.0131\n",
            "\n",
            "Epoch 00009: saving model to checkpoint_efficientnet_b0_weights/checkpoint.ckpt\n",
            "INFO:tensorflow:Assets written to: checkpoint_efficientnet_b0_weights/checkpoint.ckpt/assets\n"
          ],
          "name": "stdout"
        },
        {
          "output_type": "stream",
          "text": [
            "INFO:tensorflow:Assets written to: checkpoint_efficientnet_b0_weights/checkpoint.ckpt/assets\n"
          ],
          "name": "stderr"
        },
        {
          "output_type": "stream",
          "text": [
            "Epoch 10/10\n",
            "1184/1184 [==============================] - 155s 130ms/step - loss: 722.3339 - accuracy: 0.0340 - val_loss: 1134.7032 - val_accuracy: 0.0133\n",
            "\n",
            "Epoch 00010: saving model to checkpoint_efficientnet_b0_weights/checkpoint.ckpt\n",
            "INFO:tensorflow:Assets written to: checkpoint_efficientnet_b0_weights/checkpoint.ckpt/assets\n"
          ],
          "name": "stdout"
        },
        {
          "output_type": "stream",
          "text": [
            "INFO:tensorflow:Assets written to: checkpoint_efficientnet_b0_weights/checkpoint.ckpt/assets\n"
          ],
          "name": "stderr"
        }
      ]
    },
    {
      "cell_type": "code",
      "metadata": {
        "colab": {
          "base_uri": "https://localhost:8080/"
        },
        "id": "20_rKH2OpK3P",
        "outputId": "a9e4b601-029b-413a-9684-5c27922bdcf6"
      },
      "source": [
        "# Evaluating on the whole test data \n",
        "\n",
        "efficientnet_b0_model_tl = efficientnet_b0_model.evaluate(test_data)"
      ],
      "execution_count": 34,
      "outputs": [
        {
          "output_type": "stream",
          "text": [
            "395/395 [==============================] - 52s 131ms/step - loss: 1052.2356 - accuracy: 0.0143\n"
          ],
          "name": "stdout"
        }
      ]
    },
    {
      "cell_type": "code",
      "metadata": {
        "colab": {
          "base_uri": "https://localhost:8080/",
          "height": 573
        },
        "id": "fyVtZhHC2s9D",
        "outputId": "c6ae212f-c3fa-42f7-e2b8-3e49627e9995"
      },
      "source": [
        "# Let's plot a loss curves\n",
        "plot_loss_curves(history_fine_tune_efficient_b0)"
      ],
      "execution_count": 39,
      "outputs": [
        {
          "output_type": "display_data",
          "data": {
            "image/png": "[encoded data removed]",
            "text/plain": [
              "<Figure size 432x288 with 1 Axes>"
            ]
          },
          "metadata": {
            "tags": [],
            "needs_background": "light"
          }
        },
        {
          "output_type": "display_data",
          "data": {
            "image/png": "[encoded data removed]",
            "text/plain": [
              "<Figure size 432x288 with 1 Axes>"
            ]
          },
          "metadata": {
            "tags": [],
            "needs_background": "light"
          }
        }
      ]
    },
    {
      "cell_type": "markdown",
      "metadata": {
        "id": "XE5_Q47BZ6Dj"
      },
      "source": [
        "Eww.. Transfer learning model seems to perform worse. Maybe it's time to move on with pretrained models and fine-tuning them. Looking at this performance I have no hope neither efficientnet_b3 (or) resnet_v2_50 would do any better. "
      ]
    },
    {
      "cell_type": "markdown",
      "metadata": {
        "id": "lGKS2VMx19NW"
      },
      "source": [
        "##"
      ]
    },
    {
      "cell_type": "code",
      "metadata": {
        "colab": {
          "base_uri": "https://localhost:8080/"
        },
        "id": "AvWAmfhlyOlg",
        "outputId": "2d0148a3-fcde-4398-a01d-7f71177ee090"
      },
      "source": [
        "print('Hello World')"
      ],
      "execution_count": 45,
      "outputs": [
        {
          "output_type": "stream",
          "text": [
            "Hello World\n"
          ],
          "name": "stdout"
        }
      ]
    },
    {
      "cell_type": "markdown",
      "metadata": {
        "id": "MliEC8VuyOpP"
      },
      "source": [
        "Next thing we're gonna do is create two types of models. \n",
        "- With Augmentation \n",
        "- Without Augmentation \n",
        "\n",
        "These models will contain two callbacks at first one will be `EarlyStopping` and the other is `ModelCheckpoint` callbacks. Depends on the results we'll integrate other two callbacks to improve our results further. "
      ]
    },
    {
      "cell_type": "code",
      "metadata": {
        "colab": {
          "base_uri": "https://localhost:8080/",
          "height": 130
        },
        "id": "11FubK52yOvZ",
        "outputId": "3f59da0e-4107-4f05-9d18-4cc2bfa41e5c"
      },
      "source": [
        "# Building a augmentation Sequential layer \n",
        "from tensorflow.keras.layers.experimental import preprocessing\n",
        "from tensorflow.keras.layers import Input , Dense , Activation\n",
        "\n",
        "data_augmentation = tf.keras.Sequential([\n",
        "  preprocessing.RandomFlip('horizontal') , \n",
        "  preprocessing.RandomWidth(0.2) ,\n",
        "  preprocessing.RandomZoom(0.2),\n",
        "  preprocessing.RandomRotation(0.2)\n",
        "])\n",
        "\n",
        "# For the Resnet Model \n",
        "data_augmentation_resnet = tf.keras.Sequential([\n",
        "  preprocessing.Rescaling(1./255)\n",
        "  preprocessing.RandomFlip('horizontal') , \n",
        "  preprocessing.RandomWidth(0.2) ,\n",
        "  preprocessing.RandomZoom(0.2),\n",
        "  preprocessing.RandomRotation(0.2)\n",
        "])"
      ],
      "execution_count": 47,
      "outputs": [
        {
          "output_type": "error",
          "ename": "SyntaxError",
          "evalue": "ignored",
          "traceback": [
            "\u001b[0;36m  File \u001b[0;32m\"<ipython-input-47-40df18f40c76>\"\u001b[0;36m, line \u001b[0;32m15\u001b[0m\n\u001b[0;31m    preprocessing.RandomFlip('horizontal') ,\u001b[0m\n\u001b[0m                ^\u001b[0m\n\u001b[0;31mSyntaxError\u001b[0m\u001b[0;31m:\u001b[0m invalid syntax\n"
          ]
        }
      ]
    },
    {
      "cell_type": "code",
      "metadata": {
        "id": "BO6-jTJxKzF4"
      },
      "source": [
        ""
      ],
      "execution_count": null,
      "outputs": []
    }
  ]
}
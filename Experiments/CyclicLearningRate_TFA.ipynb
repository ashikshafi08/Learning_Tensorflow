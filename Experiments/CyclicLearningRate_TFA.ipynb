{
  "nbformat": 4,
  "nbformat_minor": 0,
  "metadata": {
    "colab": {
      "name": "CyclicLearningRate_TFA.ipynb",
      "provenance": [],
      "collapsed_sections": [],
      "authorship_tag": "ABX9TyNofcEtz/mZRGiAVMVlFv4w",
      "include_colab_link": true
    },
    "kernelspec": {
      "name": "python3",
      "display_name": "Python 3"
    },
    "language_info": {
      "name": "python"
    },
    "accelerator": "GPU",
    "widgets": {
      "application/vnd.jupyter.widget-state+json": {
        "7cba8011c8bf4746ad25e34a8a8e4f0c": {
          "model_module": "@jupyter-widgets/controls",
          "model_name": "HBoxModel",
          "state": {
            "_view_name": "HBoxView",
            "_dom_classes": [],
            "_model_name": "HBoxModel",
            "_view_module": "@jupyter-widgets/controls",
            "_model_module_version": "1.5.0",
            "_view_count": null,
            "_view_module_version": "1.5.0",
            "box_style": "",
            "layout": "IPY_MODEL_44f632145e054749a075295c8991c595",
            "_model_module": "@jupyter-widgets/controls",
            "children": [
              "IPY_MODEL_63e7d10600c947fa8b307f18e4f0f4a3",
              "IPY_MODEL_1d3942116541499d94fcbbfd6fbabde7"
            ]
          }
        },
        "44f632145e054749a075295c8991c595": {
          "model_module": "@jupyter-widgets/base",
          "model_name": "LayoutModel",
          "state": {
            "_view_name": "LayoutView",
            "grid_template_rows": null,
            "right": null,
            "justify_content": null,
            "_view_module": "@jupyter-widgets/base",
            "overflow": null,
            "_model_module_version": "1.2.0",
            "_view_count": null,
            "flex_flow": null,
            "width": null,
            "min_width": null,
            "border": null,
            "align_items": null,
            "bottom": null,
            "_model_module": "@jupyter-widgets/base",
            "top": null,
            "grid_column": null,
            "overflow_y": null,
            "overflow_x": null,
            "grid_auto_flow": null,
            "grid_area": null,
            "grid_template_columns": null,
            "flex": null,
            "_model_name": "LayoutModel",
            "justify_items": null,
            "grid_row": null,
            "max_height": null,
            "align_content": null,
            "visibility": null,
            "align_self": null,
            "height": null,
            "min_height": null,
            "padding": null,
            "grid_auto_rows": null,
            "grid_gap": null,
            "max_width": null,
            "order": null,
            "_view_module_version": "1.2.0",
            "grid_template_areas": null,
            "object_position": null,
            "object_fit": null,
            "grid_auto_columns": null,
            "margin": null,
            "display": null,
            "left": null
          }
        },
        "63e7d10600c947fa8b307f18e4f0f4a3": {
          "model_module": "@jupyter-widgets/controls",
          "model_name": "FloatProgressModel",
          "state": {
            "_view_name": "ProgressView",
            "style": "IPY_MODEL_644b3b40a03441408d0a39de14e70c62",
            "_dom_classes": [],
            "description": "Dl Completed...: 100%",
            "_model_name": "FloatProgressModel",
            "bar_style": "success",
            "max": 1,
            "_view_module": "@jupyter-widgets/controls",
            "_model_module_version": "1.5.0",
            "value": 1,
            "_view_count": null,
            "_view_module_version": "1.5.0",
            "orientation": "horizontal",
            "min": 0,
            "description_tooltip": null,
            "_model_module": "@jupyter-widgets/controls",
            "layout": "IPY_MODEL_e42f2e94172c4a208dbc6d51e48e882e"
          }
        },
        "1d3942116541499d94fcbbfd6fbabde7": {
          "model_module": "@jupyter-widgets/controls",
          "model_name": "HTMLModel",
          "state": {
            "_view_name": "HTMLView",
            "style": "IPY_MODEL_dcbd998404d748ae9176c1def68cbcf5",
            "_dom_classes": [],
            "description": "",
            "_model_name": "HTMLModel",
            "placeholder": "​",
            "_view_module": "@jupyter-widgets/controls",
            "_model_module_version": "1.5.0",
            "value": " 1/1 [00:13&lt;00:00, 13.88s/ url]",
            "_view_count": null,
            "_view_module_version": "1.5.0",
            "description_tooltip": null,
            "_model_module": "@jupyter-widgets/controls",
            "layout": "IPY_MODEL_0b758579957748cca704c8927b2afb23"
          }
        },
        "644b3b40a03441408d0a39de14e70c62": {
          "model_module": "@jupyter-widgets/controls",
          "model_name": "ProgressStyleModel",
          "state": {
            "_view_name": "StyleView",
            "_model_name": "ProgressStyleModel",
            "description_width": "initial",
            "_view_module": "@jupyter-widgets/base",
            "_model_module_version": "1.5.0",
            "_view_count": null,
            "_view_module_version": "1.2.0",
            "bar_color": null,
            "_model_module": "@jupyter-widgets/controls"
          }
        },
        "e42f2e94172c4a208dbc6d51e48e882e": {
          "model_module": "@jupyter-widgets/base",
          "model_name": "LayoutModel",
          "state": {
            "_view_name": "LayoutView",
            "grid_template_rows": null,
            "right": null,
            "justify_content": null,
            "_view_module": "@jupyter-widgets/base",
            "overflow": null,
            "_model_module_version": "1.2.0",
            "_view_count": null,
            "flex_flow": null,
            "width": null,
            "min_width": null,
            "border": null,
            "align_items": null,
            "bottom": null,
            "_model_module": "@jupyter-widgets/base",
            "top": null,
            "grid_column": null,
            "overflow_y": null,
            "overflow_x": null,
            "grid_auto_flow": null,
            "grid_area": null,
            "grid_template_columns": null,
            "flex": null,
            "_model_name": "LayoutModel",
            "justify_items": null,
            "grid_row": null,
            "max_height": null,
            "align_content": null,
            "visibility": null,
            "align_self": null,
            "height": null,
            "min_height": null,
            "padding": null,
            "grid_auto_rows": null,
            "grid_gap": null,
            "max_width": null,
            "order": null,
            "_view_module_version": "1.2.0",
            "grid_template_areas": null,
            "object_position": null,
            "object_fit": null,
            "grid_auto_columns": null,
            "margin": null,
            "display": null,
            "left": null
          }
        },
        "dcbd998404d748ae9176c1def68cbcf5": {
          "model_module": "@jupyter-widgets/controls",
          "model_name": "DescriptionStyleModel",
          "state": {
            "_view_name": "StyleView",
            "_model_name": "DescriptionStyleModel",
            "description_width": "",
            "_view_module": "@jupyter-widgets/base",
            "_model_module_version": "1.5.0",
            "_view_count": null,
            "_view_module_version": "1.2.0",
            "_model_module": "@jupyter-widgets/controls"
          }
        },
        "0b758579957748cca704c8927b2afb23": {
          "model_module": "@jupyter-widgets/base",
          "model_name": "LayoutModel",
          "state": {
            "_view_name": "LayoutView",
            "grid_template_rows": null,
            "right": null,
            "justify_content": null,
            "_view_module": "@jupyter-widgets/base",
            "overflow": null,
            "_model_module_version": "1.2.0",
            "_view_count": null,
            "flex_flow": null,
            "width": null,
            "min_width": null,
            "border": null,
            "align_items": null,
            "bottom": null,
            "_model_module": "@jupyter-widgets/base",
            "top": null,
            "grid_column": null,
            "overflow_y": null,
            "overflow_x": null,
            "grid_auto_flow": null,
            "grid_area": null,
            "grid_template_columns": null,
            "flex": null,
            "_model_name": "LayoutModel",
            "justify_items": null,
            "grid_row": null,
            "max_height": null,
            "align_content": null,
            "visibility": null,
            "align_self": null,
            "height": null,
            "min_height": null,
            "padding": null,
            "grid_auto_rows": null,
            "grid_gap": null,
            "max_width": null,
            "order": null,
            "_view_module_version": "1.2.0",
            "grid_template_areas": null,
            "object_position": null,
            "object_fit": null,
            "grid_auto_columns": null,
            "margin": null,
            "display": null,
            "left": null
          }
        },
        "43ff76bbd69c48678881f1cb2cc3f255": {
          "model_module": "@jupyter-widgets/controls",
          "model_name": "HBoxModel",
          "state": {
            "_view_name": "HBoxView",
            "_dom_classes": [],
            "_model_name": "HBoxModel",
            "_view_module": "@jupyter-widgets/controls",
            "_model_module_version": "1.5.0",
            "_view_count": null,
            "_view_module_version": "1.5.0",
            "box_style": "",
            "layout": "IPY_MODEL_cdd513ee5ed4433f90a9c44153c52337",
            "_model_module": "@jupyter-widgets/controls",
            "children": [
              "IPY_MODEL_2552ed53dd4f4f388207068ddffc7d6f",
              "IPY_MODEL_8cc4086a8dff4fa895097209481308f5"
            ]
          }
        },
        "cdd513ee5ed4433f90a9c44153c52337": {
          "model_module": "@jupyter-widgets/base",
          "model_name": "LayoutModel",
          "state": {
            "_view_name": "LayoutView",
            "grid_template_rows": null,
            "right": null,
            "justify_content": null,
            "_view_module": "@jupyter-widgets/base",
            "overflow": null,
            "_model_module_version": "1.2.0",
            "_view_count": null,
            "flex_flow": null,
            "width": null,
            "min_width": null,
            "border": null,
            "align_items": null,
            "bottom": null,
            "_model_module": "@jupyter-widgets/base",
            "top": null,
            "grid_column": null,
            "overflow_y": null,
            "overflow_x": null,
            "grid_auto_flow": null,
            "grid_area": null,
            "grid_template_columns": null,
            "flex": null,
            "_model_name": "LayoutModel",
            "justify_items": null,
            "grid_row": null,
            "max_height": null,
            "align_content": null,
            "visibility": null,
            "align_self": null,
            "height": null,
            "min_height": null,
            "padding": null,
            "grid_auto_rows": null,
            "grid_gap": null,
            "max_width": null,
            "order": null,
            "_view_module_version": "1.2.0",
            "grid_template_areas": null,
            "object_position": null,
            "object_fit": null,
            "grid_auto_columns": null,
            "margin": null,
            "display": null,
            "left": null
          }
        },
        "2552ed53dd4f4f388207068ddffc7d6f": {
          "model_module": "@jupyter-widgets/controls",
          "model_name": "FloatProgressModel",
          "state": {
            "_view_name": "ProgressView",
            "style": "IPY_MODEL_a72761be90d64002b48cdb32c1f5cd52",
            "_dom_classes": [],
            "description": "Dl Size...: 100%",
            "_model_name": "FloatProgressModel",
            "bar_style": "success",
            "max": 1,
            "_view_module": "@jupyter-widgets/controls",
            "_model_module_version": "1.5.0",
            "value": 1,
            "_view_count": null,
            "_view_module_version": "1.5.0",
            "orientation": "horizontal",
            "min": 0,
            "description_tooltip": null,
            "_model_module": "@jupyter-widgets/controls",
            "layout": "IPY_MODEL_a379b37c83ab4a2da6f692ab8934ac7a"
          }
        },
        "8cc4086a8dff4fa895097209481308f5": {
          "model_module": "@jupyter-widgets/controls",
          "model_name": "HTMLModel",
          "state": {
            "_view_name": "HTMLView",
            "style": "IPY_MODEL_819d10b9ef6a4362a225a4a8459f8fe2",
            "_dom_classes": [],
            "description": "",
            "_model_name": "HTMLModel",
            "placeholder": "​",
            "_view_module": "@jupyter-widgets/controls",
            "_model_module_version": "1.5.0",
            "value": " 786/786 [00:13&lt;00:00, 56.86 MiB/s]",
            "_view_count": null,
            "_view_module_version": "1.5.0",
            "description_tooltip": null,
            "_model_module": "@jupyter-widgets/controls",
            "layout": "IPY_MODEL_157c1b3c336b4832ba8303286f91b072"
          }
        },
        "a72761be90d64002b48cdb32c1f5cd52": {
          "model_module": "@jupyter-widgets/controls",
          "model_name": "ProgressStyleModel",
          "state": {
            "_view_name": "StyleView",
            "_model_name": "ProgressStyleModel",
            "description_width": "initial",
            "_view_module": "@jupyter-widgets/base",
            "_model_module_version": "1.5.0",
            "_view_count": null,
            "_view_module_version": "1.2.0",
            "bar_color": null,
            "_model_module": "@jupyter-widgets/controls"
          }
        },
        "a379b37c83ab4a2da6f692ab8934ac7a": {
          "model_module": "@jupyter-widgets/base",
          "model_name": "LayoutModel",
          "state": {
            "_view_name": "LayoutView",
            "grid_template_rows": null,
            "right": null,
            "justify_content": null,
            "_view_module": "@jupyter-widgets/base",
            "overflow": null,
            "_model_module_version": "1.2.0",
            "_view_count": null,
            "flex_flow": null,
            "width": null,
            "min_width": null,
            "border": null,
            "align_items": null,
            "bottom": null,
            "_model_module": "@jupyter-widgets/base",
            "top": null,
            "grid_column": null,
            "overflow_y": null,
            "overflow_x": null,
            "grid_auto_flow": null,
            "grid_area": null,
            "grid_template_columns": null,
            "flex": null,
            "_model_name": "LayoutModel",
            "justify_items": null,
            "grid_row": null,
            "max_height": null,
            "align_content": null,
            "visibility": null,
            "align_self": null,
            "height": null,
            "min_height": null,
            "padding": null,
            "grid_auto_rows": null,
            "grid_gap": null,
            "max_width": null,
            "order": null,
            "_view_module_version": "1.2.0",
            "grid_template_areas": null,
            "object_position": null,
            "object_fit": null,
            "grid_auto_columns": null,
            "margin": null,
            "display": null,
            "left": null
          }
        },
        "819d10b9ef6a4362a225a4a8459f8fe2": {
          "model_module": "@jupyter-widgets/controls",
          "model_name": "DescriptionStyleModel",
          "state": {
            "_view_name": "StyleView",
            "_model_name": "DescriptionStyleModel",
            "description_width": "",
            "_view_module": "@jupyter-widgets/base",
            "_model_module_version": "1.5.0",
            "_view_count": null,
            "_view_module_version": "1.2.0",
            "_model_module": "@jupyter-widgets/controls"
          }
        },
        "157c1b3c336b4832ba8303286f91b072": {
          "model_module": "@jupyter-widgets/base",
          "model_name": "LayoutModel",
          "state": {
            "_view_name": "LayoutView",
            "grid_template_rows": null,
            "right": null,
            "justify_content": null,
            "_view_module": "@jupyter-widgets/base",
            "overflow": null,
            "_model_module_version": "1.2.0",
            "_view_count": null,
            "flex_flow": null,
            "width": null,
            "min_width": null,
            "border": null,
            "align_items": null,
            "bottom": null,
            "_model_module": "@jupyter-widgets/base",
            "top": null,
            "grid_column": null,
            "overflow_y": null,
            "overflow_x": null,
            "grid_auto_flow": null,
            "grid_area": null,
            "grid_template_columns": null,
            "flex": null,
            "_model_name": "LayoutModel",
            "justify_items": null,
            "grid_row": null,
            "max_height": null,
            "align_content": null,
            "visibility": null,
            "align_self": null,
            "height": null,
            "min_height": null,
            "padding": null,
            "grid_auto_rows": null,
            "grid_gap": null,
            "max_width": null,
            "order": null,
            "_view_module_version": "1.2.0",
            "grid_template_areas": null,
            "object_position": null,
            "object_fit": null,
            "grid_auto_columns": null,
            "margin": null,
            "display": null,
            "left": null
          }
        },
        "50c7cadba9904ba5adb1585b8036b195": {
          "model_module": "@jupyter-widgets/controls",
          "model_name": "HBoxModel",
          "state": {
            "_view_name": "HBoxView",
            "_dom_classes": [],
            "_model_name": "HBoxModel",
            "_view_module": "@jupyter-widgets/controls",
            "_model_module_version": "1.5.0",
            "_view_count": null,
            "_view_module_version": "1.5.0",
            "box_style": "",
            "layout": "IPY_MODEL_3e8db6a3081e46d2a632303226216664",
            "_model_module": "@jupyter-widgets/controls",
            "children": [
              "IPY_MODEL_05391e3069d6420eacaa2aae04ff3aab",
              "IPY_MODEL_3a5ed1dd458a4196aca425acafd6ef36"
            ]
          }
        },
        "3e8db6a3081e46d2a632303226216664": {
          "model_module": "@jupyter-widgets/base",
          "model_name": "LayoutModel",
          "state": {
            "_view_name": "LayoutView",
            "grid_template_rows": null,
            "right": null,
            "justify_content": null,
            "_view_module": "@jupyter-widgets/base",
            "overflow": null,
            "_model_module_version": "1.2.0",
            "_view_count": null,
            "flex_flow": null,
            "width": null,
            "min_width": null,
            "border": null,
            "align_items": null,
            "bottom": null,
            "_model_module": "@jupyter-widgets/base",
            "top": null,
            "grid_column": null,
            "overflow_y": null,
            "overflow_x": null,
            "grid_auto_flow": null,
            "grid_area": null,
            "grid_template_columns": null,
            "flex": null,
            "_model_name": "LayoutModel",
            "justify_items": null,
            "grid_row": null,
            "max_height": null,
            "align_content": null,
            "visibility": null,
            "align_self": null,
            "height": null,
            "min_height": null,
            "padding": null,
            "grid_auto_rows": null,
            "grid_gap": null,
            "max_width": null,
            "order": null,
            "_view_module_version": "1.2.0",
            "grid_template_areas": null,
            "object_position": null,
            "object_fit": null,
            "grid_auto_columns": null,
            "margin": null,
            "display": null,
            "left": null
          }
        },
        "05391e3069d6420eacaa2aae04ff3aab": {
          "model_module": "@jupyter-widgets/controls",
          "model_name": "FloatProgressModel",
          "state": {
            "_view_name": "ProgressView",
            "style": "IPY_MODEL_3ac60c61a94849f6897c00ed6f002caf",
            "_dom_classes": [],
            "description": "",
            "_model_name": "FloatProgressModel",
            "bar_style": "info",
            "max": 1,
            "_view_module": "@jupyter-widgets/controls",
            "_model_module_version": "1.5.0",
            "value": 1,
            "_view_count": null,
            "_view_module_version": "1.5.0",
            "orientation": "horizontal",
            "min": 0,
            "description_tooltip": null,
            "_model_module": "@jupyter-widgets/controls",
            "layout": "IPY_MODEL_54a2c667c25d4bcebf069ca3b662a2f5"
          }
        },
        "3a5ed1dd458a4196aca425acafd6ef36": {
          "model_module": "@jupyter-widgets/controls",
          "model_name": "HTMLModel",
          "state": {
            "_view_name": "HTMLView",
            "style": "IPY_MODEL_4be81a78ba7a451484e3892acc55ec51",
            "_dom_classes": [],
            "description": "",
            "_model_name": "HTMLModel",
            "placeholder": "​",
            "_view_module": "@jupyter-widgets/controls",
            "_model_module_version": "1.5.0",
            "value": " 23262/0 [00:14&lt;00:00, 1615.91 examples/s]",
            "_view_count": null,
            "_view_module_version": "1.5.0",
            "description_tooltip": null,
            "_model_module": "@jupyter-widgets/controls",
            "layout": "IPY_MODEL_3cd4e16bd1ca46caa416c5ccfb73e936"
          }
        },
        "3ac60c61a94849f6897c00ed6f002caf": {
          "model_module": "@jupyter-widgets/controls",
          "model_name": "ProgressStyleModel",
          "state": {
            "_view_name": "StyleView",
            "_model_name": "ProgressStyleModel",
            "description_width": "initial",
            "_view_module": "@jupyter-widgets/base",
            "_model_module_version": "1.5.0",
            "_view_count": null,
            "_view_module_version": "1.2.0",
            "bar_color": null,
            "_model_module": "@jupyter-widgets/controls"
          }
        },
        "54a2c667c25d4bcebf069ca3b662a2f5": {
          "model_module": "@jupyter-widgets/base",
          "model_name": "LayoutModel",
          "state": {
            "_view_name": "LayoutView",
            "grid_template_rows": null,
            "right": null,
            "justify_content": null,
            "_view_module": "@jupyter-widgets/base",
            "overflow": null,
            "_model_module_version": "1.2.0",
            "_view_count": null,
            "flex_flow": null,
            "width": null,
            "min_width": null,
            "border": null,
            "align_items": null,
            "bottom": null,
            "_model_module": "@jupyter-widgets/base",
            "top": null,
            "grid_column": null,
            "overflow_y": null,
            "overflow_x": null,
            "grid_auto_flow": null,
            "grid_area": null,
            "grid_template_columns": null,
            "flex": null,
            "_model_name": "LayoutModel",
            "justify_items": null,
            "grid_row": null,
            "max_height": null,
            "align_content": null,
            "visibility": null,
            "align_self": null,
            "height": null,
            "min_height": null,
            "padding": null,
            "grid_auto_rows": null,
            "grid_gap": null,
            "max_width": null,
            "order": null,
            "_view_module_version": "1.2.0",
            "grid_template_areas": null,
            "object_position": null,
            "object_fit": null,
            "grid_auto_columns": null,
            "margin": null,
            "display": null,
            "left": null
          }
        },
        "4be81a78ba7a451484e3892acc55ec51": {
          "model_module": "@jupyter-widgets/controls",
          "model_name": "DescriptionStyleModel",
          "state": {
            "_view_name": "StyleView",
            "_model_name": "DescriptionStyleModel",
            "description_width": "",
            "_view_module": "@jupyter-widgets/base",
            "_model_module_version": "1.5.0",
            "_view_count": null,
            "_view_module_version": "1.2.0",
            "_model_module": "@jupyter-widgets/controls"
          }
        },
        "3cd4e16bd1ca46caa416c5ccfb73e936": {
          "model_module": "@jupyter-widgets/base",
          "model_name": "LayoutModel",
          "state": {
            "_view_name": "LayoutView",
            "grid_template_rows": null,
            "right": null,
            "justify_content": null,
            "_view_module": "@jupyter-widgets/base",
            "overflow": null,
            "_model_module_version": "1.2.0",
            "_view_count": null,
            "flex_flow": null,
            "width": null,
            "min_width": null,
            "border": null,
            "align_items": null,
            "bottom": null,
            "_model_module": "@jupyter-widgets/base",
            "top": null,
            "grid_column": null,
            "overflow_y": null,
            "overflow_x": null,
            "grid_auto_flow": null,
            "grid_area": null,
            "grid_template_columns": null,
            "flex": null,
            "_model_name": "LayoutModel",
            "justify_items": null,
            "grid_row": null,
            "max_height": null,
            "align_content": null,
            "visibility": null,
            "align_self": null,
            "height": null,
            "min_height": null,
            "padding": null,
            "grid_auto_rows": null,
            "grid_gap": null,
            "max_width": null,
            "order": null,
            "_view_module_version": "1.2.0",
            "grid_template_areas": null,
            "object_position": null,
            "object_fit": null,
            "grid_auto_columns": null,
            "margin": null,
            "display": null,
            "left": null
          }
        },
        "b75026ff716c4ceab6d3480871cab3c8": {
          "model_module": "@jupyter-widgets/controls",
          "model_name": "HBoxModel",
          "state": {
            "_view_name": "HBoxView",
            "_dom_classes": [],
            "_model_name": "HBoxModel",
            "_view_module": "@jupyter-widgets/controls",
            "_model_module_version": "1.5.0",
            "_view_count": null,
            "_view_module_version": "1.5.0",
            "box_style": "",
            "layout": "IPY_MODEL_01fbe8e61ce54d08977693afd0f4fbbc",
            "_model_module": "@jupyter-widgets/controls",
            "children": [
              "IPY_MODEL_e52dc7d68e334d4e99a814c6d8abff77",
              "IPY_MODEL_328452275dd44cd6b83a9459fbbd2384"
            ]
          }
        },
        "01fbe8e61ce54d08977693afd0f4fbbc": {
          "model_module": "@jupyter-widgets/base",
          "model_name": "LayoutModel",
          "state": {
            "_view_name": "LayoutView",
            "grid_template_rows": null,
            "right": null,
            "justify_content": null,
            "_view_module": "@jupyter-widgets/base",
            "overflow": null,
            "_model_module_version": "1.2.0",
            "_view_count": null,
            "flex_flow": null,
            "width": null,
            "min_width": null,
            "border": null,
            "align_items": null,
            "bottom": null,
            "_model_module": "@jupyter-widgets/base",
            "top": null,
            "grid_column": null,
            "overflow_y": null,
            "overflow_x": null,
            "grid_auto_flow": null,
            "grid_area": null,
            "grid_template_columns": null,
            "flex": null,
            "_model_name": "LayoutModel",
            "justify_items": null,
            "grid_row": null,
            "max_height": null,
            "align_content": null,
            "visibility": null,
            "align_self": null,
            "height": null,
            "min_height": null,
            "padding": null,
            "grid_auto_rows": null,
            "grid_gap": null,
            "max_width": null,
            "order": null,
            "_view_module_version": "1.2.0",
            "grid_template_areas": null,
            "object_position": null,
            "object_fit": null,
            "grid_auto_columns": null,
            "margin": null,
            "display": null,
            "left": null
          }
        },
        "e52dc7d68e334d4e99a814c6d8abff77": {
          "model_module": "@jupyter-widgets/controls",
          "model_name": "FloatProgressModel",
          "state": {
            "_view_name": "ProgressView",
            "style": "IPY_MODEL_26e0b68e818b4b93a27dfa9514dc6fc5",
            "_dom_classes": [],
            "description": " 98%",
            "_model_name": "FloatProgressModel",
            "bar_style": "danger",
            "max": 23262,
            "_view_module": "@jupyter-widgets/controls",
            "_model_module_version": "1.5.0",
            "value": 22846,
            "_view_count": null,
            "_view_module_version": "1.5.0",
            "orientation": "horizontal",
            "min": 0,
            "description_tooltip": null,
            "_model_module": "@jupyter-widgets/controls",
            "layout": "IPY_MODEL_19ccacb075954cd087e59a36a00416c8"
          }
        },
        "328452275dd44cd6b83a9459fbbd2384": {
          "model_module": "@jupyter-widgets/controls",
          "model_name": "HTMLModel",
          "state": {
            "_view_name": "HTMLView",
            "style": "IPY_MODEL_85d7644521d64bfbbad59e3802199234",
            "_dom_classes": [],
            "description": "",
            "_model_name": "HTMLModel",
            "placeholder": "​",
            "_view_module": "@jupyter-widgets/controls",
            "_model_module_version": "1.5.0",
            "value": " 22846/23262 [00:02&lt;00:00, 7800.42 examples/s]",
            "_view_count": null,
            "_view_module_version": "1.5.0",
            "description_tooltip": null,
            "_model_module": "@jupyter-widgets/controls",
            "layout": "IPY_MODEL_06660d5d02424e21b99f065fbfc52545"
          }
        },
        "26e0b68e818b4b93a27dfa9514dc6fc5": {
          "model_module": "@jupyter-widgets/controls",
          "model_name": "ProgressStyleModel",
          "state": {
            "_view_name": "StyleView",
            "_model_name": "ProgressStyleModel",
            "description_width": "initial",
            "_view_module": "@jupyter-widgets/base",
            "_model_module_version": "1.5.0",
            "_view_count": null,
            "_view_module_version": "1.2.0",
            "bar_color": null,
            "_model_module": "@jupyter-widgets/controls"
          }
        },
        "19ccacb075954cd087e59a36a00416c8": {
          "model_module": "@jupyter-widgets/base",
          "model_name": "LayoutModel",
          "state": {
            "_view_name": "LayoutView",
            "grid_template_rows": null,
            "right": null,
            "justify_content": null,
            "_view_module": "@jupyter-widgets/base",
            "overflow": null,
            "_model_module_version": "1.2.0",
            "_view_count": null,
            "flex_flow": null,
            "width": null,
            "min_width": null,
            "border": null,
            "align_items": null,
            "bottom": null,
            "_model_module": "@jupyter-widgets/base",
            "top": null,
            "grid_column": null,
            "overflow_y": null,
            "overflow_x": null,
            "grid_auto_flow": null,
            "grid_area": null,
            "grid_template_columns": null,
            "flex": null,
            "_model_name": "LayoutModel",
            "justify_items": null,
            "grid_row": null,
            "max_height": null,
            "align_content": null,
            "visibility": null,
            "align_self": null,
            "height": null,
            "min_height": null,
            "padding": null,
            "grid_auto_rows": null,
            "grid_gap": null,
            "max_width": null,
            "order": null,
            "_view_module_version": "1.2.0",
            "grid_template_areas": null,
            "object_position": null,
            "object_fit": null,
            "grid_auto_columns": null,
            "margin": null,
            "display": null,
            "left": null
          }
        },
        "85d7644521d64bfbbad59e3802199234": {
          "model_module": "@jupyter-widgets/controls",
          "model_name": "DescriptionStyleModel",
          "state": {
            "_view_name": "StyleView",
            "_model_name": "DescriptionStyleModel",
            "description_width": "",
            "_view_module": "@jupyter-widgets/base",
            "_model_module_version": "1.5.0",
            "_view_count": null,
            "_view_module_version": "1.2.0",
            "_model_module": "@jupyter-widgets/controls"
          }
        },
        "06660d5d02424e21b99f065fbfc52545": {
          "model_module": "@jupyter-widgets/base",
          "model_name": "LayoutModel",
          "state": {
            "_view_name": "LayoutView",
            "grid_template_rows": null,
            "right": null,
            "justify_content": null,
            "_view_module": "@jupyter-widgets/base",
            "overflow": null,
            "_model_module_version": "1.2.0",
            "_view_count": null,
            "flex_flow": null,
            "width": null,
            "min_width": null,
            "border": null,
            "align_items": null,
            "bottom": null,
            "_model_module": "@jupyter-widgets/base",
            "top": null,
            "grid_column": null,
            "overflow_y": null,
            "overflow_x": null,
            "grid_auto_flow": null,
            "grid_area": null,
            "grid_template_columns": null,
            "flex": null,
            "_model_name": "LayoutModel",
            "justify_items": null,
            "grid_row": null,
            "max_height": null,
            "align_content": null,
            "visibility": null,
            "align_self": null,
            "height": null,
            "min_height": null,
            "padding": null,
            "grid_auto_rows": null,
            "grid_gap": null,
            "max_width": null,
            "order": null,
            "_view_module_version": "1.2.0",
            "grid_template_areas": null,
            "object_position": null,
            "object_fit": null,
            "grid_auto_columns": null,
            "margin": null,
            "display": null,
            "left": null
          }
        }
      }
    }
  },
  "cells": [
    {
      "cell_type": "markdown",
      "metadata": {
        "id": "view-in-github",
        "colab_type": "text"
      },
      "source": [
        "<a href=\"https://colab.research.google.com/github/ashikshafi08/Learning_Tensorflow/blob/main/Experiments/CyclicLearningRate_TFA.ipynb\" target=\"_parent\"><img src=\"https://colab.research.google.com/assets/colab-badge.svg\" alt=\"Open In Colab\"/></a>"
      ]
    },
    {
      "cell_type": "markdown",
      "metadata": {
        "id": "wSmlEKltKc4G"
      },
      "source": [
        "# TensorFlow Addons Optimizers: Cyclical Learning Rate\n",
        "\n",
        "Being a very big fan of Fastai's tweaks on finding the best learning rate, looking at this Cyclic Learning rate gets me feel excited! \n",
        "\n",
        "Will be going through the tutorial book on TensorFlow Addons. \n",
        "\n",
        "https://www.tensorflow.org/addons/tutorials/optimizers_cyclicallearningrate\n",
        "\n",
        "## Cyclical Learning Rates \n",
        "\n",
        "- It has been shown it is benefical to adjust the learning rate as train progresses for a neural network. \n",
        "- This was founded by Leslie Smith on his paper [Cyclic Learning Rates](https://arxiv.org/abs/1506.01186)\n",
        "- He noticed that we would want to increase the learning rate to traverse factor across the loss landscape but we would also want to reduce the learning rate when approaching convergence. \n",
        "\n",
        "It's an idea where you would adjust the learning rate with respect to cycles of a function. \n",
        "\n",
        "https://www.jeremyjordan.me/nn-learning-rate/"
      ]
    },
    {
      "cell_type": "code",
      "metadata": {
        "colab": {
          "base_uri": "https://localhost:8080/"
        },
        "id": "eDMlmJoBK8De",
        "outputId": "1f8b50e6-afdc-4451-d200-7e7d3a204d96"
      },
      "source": [
        "# Downloading tensorflow_addons \n",
        "!pip install -q -U tensorflow_addons "
      ],
      "execution_count": 1,
      "outputs": [
        {
          "output_type": "stream",
          "text": [
            "\u001b[?25l\r\u001b[K     |▌                               | 10kB 10.0MB/s eta 0:00:01\r\u001b[K     |█                               | 20kB 13.3MB/s eta 0:00:01\r\u001b[K     |█▌                              | 30kB 14.8MB/s eta 0:00:01\r\u001b[K     |██                              | 40kB 15.7MB/s eta 0:00:01\r\u001b[K     |██▍                             | 51kB 16.9MB/s eta 0:00:01\r\u001b[K     |███                             | 61kB 18.8MB/s eta 0:00:01\r\u001b[K     |███▍                            | 71kB 19.8MB/s eta 0:00:01\r\u001b[K     |███▉                            | 81kB 19.5MB/s eta 0:00:01\r\u001b[K     |████▍                           | 92kB 20.9MB/s eta 0:00:01\r\u001b[K     |████▉                           | 102kB 22.2MB/s eta 0:00:01\r\u001b[K     |█████▎                          | 112kB 22.2MB/s eta 0:00:01\r\u001b[K     |█████▉                          | 122kB 22.2MB/s eta 0:00:01\r\u001b[K     |██████▎                         | 133kB 22.2MB/s eta 0:00:01\r\u001b[K     |██████▊                         | 143kB 22.2MB/s eta 0:00:01\r\u001b[K     |███████▎                        | 153kB 22.2MB/s eta 0:00:01\r\u001b[K     |███████▊                        | 163kB 22.2MB/s eta 0:00:01\r\u001b[K     |████████▏                       | 174kB 22.2MB/s eta 0:00:01\r\u001b[K     |████████▊                       | 184kB 22.2MB/s eta 0:00:01\r\u001b[K     |█████████▏                      | 194kB 22.2MB/s eta 0:00:01\r\u001b[K     |█████████▋                      | 204kB 22.2MB/s eta 0:00:01\r\u001b[K     |██████████▏                     | 215kB 22.2MB/s eta 0:00:01\r\u001b[K     |██████████▋                     | 225kB 22.2MB/s eta 0:00:01\r\u001b[K     |███████████                     | 235kB 22.2MB/s eta 0:00:01\r\u001b[K     |███████████▋                    | 245kB 22.2MB/s eta 0:00:01\r\u001b[K     |████████████                    | 256kB 22.2MB/s eta 0:00:01\r\u001b[K     |████████████▌                   | 266kB 22.2MB/s eta 0:00:01\r\u001b[K     |█████████████                   | 276kB 22.2MB/s eta 0:00:01\r\u001b[K     |█████████████▌                  | 286kB 22.2MB/s eta 0:00:01\r\u001b[K     |██████████████                  | 296kB 22.2MB/s eta 0:00:01\r\u001b[K     |██████████████▌                 | 307kB 22.2MB/s eta 0:00:01\r\u001b[K     |███████████████                 | 317kB 22.2MB/s eta 0:00:01\r\u001b[K     |███████████████▍                | 327kB 22.2MB/s eta 0:00:01\r\u001b[K     |████████████████                | 337kB 22.2MB/s eta 0:00:01\r\u001b[K     |████████████████▍               | 348kB 22.2MB/s eta 0:00:01\r\u001b[K     |████████████████▉               | 358kB 22.2MB/s eta 0:00:01\r\u001b[K     |█████████████████▍              | 368kB 22.2MB/s eta 0:00:01\r\u001b[K     |█████████████████▉              | 378kB 22.2MB/s eta 0:00:01\r\u001b[K     |██████████████████▎             | 389kB 22.2MB/s eta 0:00:01\r\u001b[K     |██████████████████▉             | 399kB 22.2MB/s eta 0:00:01\r\u001b[K     |███████████████████▎            | 409kB 22.2MB/s eta 0:00:01\r\u001b[K     |███████████████████▊            | 419kB 22.2MB/s eta 0:00:01\r\u001b[K     |████████████████████▎           | 430kB 22.2MB/s eta 0:00:01\r\u001b[K     |████████████████████▊           | 440kB 22.2MB/s eta 0:00:01\r\u001b[K     |█████████████████████▏          | 450kB 22.2MB/s eta 0:00:01\r\u001b[K     |█████████████████████▊          | 460kB 22.2MB/s eta 0:00:01\r\u001b[K     |██████████████████████▏         | 471kB 22.2MB/s eta 0:00:01\r\u001b[K     |██████████████████████▋         | 481kB 22.2MB/s eta 0:00:01\r\u001b[K     |███████████████████████▏        | 491kB 22.2MB/s eta 0:00:01\r\u001b[K     |███████████████████████▋        | 501kB 22.2MB/s eta 0:00:01\r\u001b[K     |████████████████████████        | 512kB 22.2MB/s eta 0:00:01\r\u001b[K     |████████████████████████▋       | 522kB 22.2MB/s eta 0:00:01\r\u001b[K     |█████████████████████████       | 532kB 22.2MB/s eta 0:00:01\r\u001b[K     |█████████████████████████▌      | 542kB 22.2MB/s eta 0:00:01\r\u001b[K     |██████████████████████████      | 552kB 22.2MB/s eta 0:00:01\r\u001b[K     |██████████████████████████▌     | 563kB 22.2MB/s eta 0:00:01\r\u001b[K     |███████████████████████████     | 573kB 22.2MB/s eta 0:00:01\r\u001b[K     |███████████████████████████▌    | 583kB 22.2MB/s eta 0:00:01\r\u001b[K     |████████████████████████████    | 593kB 22.2MB/s eta 0:00:01\r\u001b[K     |████████████████████████████▍   | 604kB 22.2MB/s eta 0:00:01\r\u001b[K     |█████████████████████████████   | 614kB 22.2MB/s eta 0:00:01\r\u001b[K     |█████████████████████████████▍  | 624kB 22.2MB/s eta 0:00:01\r\u001b[K     |█████████████████████████████▉  | 634kB 22.2MB/s eta 0:00:01\r\u001b[K     |██████████████████████████████▍ | 645kB 22.2MB/s eta 0:00:01\r\u001b[K     |██████████████████████████████▉ | 655kB 22.2MB/s eta 0:00:01\r\u001b[K     |███████████████████████████████▎| 665kB 22.2MB/s eta 0:00:01\r\u001b[K     |███████████████████████████████▉| 675kB 22.2MB/s eta 0:00:01\r\u001b[K     |████████████████████████████████| 686kB 22.2MB/s \n",
            "\u001b[?25h"
          ],
          "name": "stdout"
        }
      ]
    },
    {
      "cell_type": "code",
      "metadata": {
        "id": "TUgTaf8WM11_"
      },
      "source": [
        "# Importing the things we need \n",
        "import tensorflow as tf\n",
        "import tensorflow_addons as tfa\n",
        "import numpy as np \n",
        "import pandas as pd \n",
        "import matplotlib.pyplot as plt\n",
        "from tensorflow.keras import layers\n",
        "\n",
        "# Setting the seed for reproducibility \n",
        "tf.random.set_seed(42)\n",
        "np.random.seed(42)\n"
      ],
      "execution_count": 2,
      "outputs": []
    },
    {
      "cell_type": "code",
      "metadata": {
        "colab": {
          "base_uri": "https://localhost:8080/"
        },
        "id": "WgeLshw7M7vn",
        "outputId": "06cf9876-83e5-4a85-d7a0-7688f87d0db8"
      },
      "source": [
        "# Load and prepare the data (we're going to use fashion mnist)\n",
        "(X_train , y_train) , (X_test , y_test) = tf.keras.datasets.fashion_mnist.load_data()\n",
        "\n",
        "# Checking the shapes of our data\n",
        "X_train.shape , y_train.shape , X_test.shape , y_test.shape"
      ],
      "execution_count": 3,
      "outputs": [
        {
          "output_type": "stream",
          "text": [
            "Downloading data from https://storage.googleapis.com/tensorflow/tf-keras-datasets/train-labels-idx1-ubyte.gz\n",
            "32768/29515 [=================================] - 0s 0us/step\n",
            "Downloading data from https://storage.googleapis.com/tensorflow/tf-keras-datasets/train-images-idx3-ubyte.gz\n",
            "26427392/26421880 [==============================] - 1s 0us/step\n",
            "Downloading data from https://storage.googleapis.com/tensorflow/tf-keras-datasets/t10k-labels-idx1-ubyte.gz\n",
            "8192/5148 [===============================================] - 0s 0us/step\n",
            "Downloading data from https://storage.googleapis.com/tensorflow/tf-keras-datasets/t10k-images-idx3-ubyte.gz\n",
            "4423680/4422102 [==============================] - 0s 0us/step\n"
          ],
          "name": "stdout"
        },
        {
          "output_type": "execute_result",
          "data": {
            "text/plain": [
              "((60000, 28, 28), (60000,), (10000, 28, 28), (10000,))"
            ]
          },
          "metadata": {
            "tags": []
          },
          "execution_count": 3
        }
      ]
    },
    {
      "cell_type": "code",
      "metadata": {
        "colab": {
          "base_uri": "https://localhost:8080/"
        },
        "id": "VYWZ8YVlNmGB",
        "outputId": "ce9e7674-5146-4799-a54c-07350a983754"
      },
      "source": [
        "# Adding an extra dimension \n",
        "X_train = np.expand_dims(X_train , axis = -1)\n",
        "X_test = np.expand_dims(X_test , axis = -1)\n",
        "\n",
        "# Checking the shapes after adding an extra dimension\n",
        "X_train.shape , y_train.shape , X_test.shape , y_test.shape"
      ],
      "execution_count": 4,
      "outputs": [
        {
          "output_type": "execute_result",
          "data": {
            "text/plain": [
              "((60000, 28, 28, 1), (60000,), (10000, 28, 28, 1), (10000,))"
            ]
          },
          "metadata": {
            "tags": []
          },
          "execution_count": 4
        }
      ]
    },
    {
      "cell_type": "code",
      "metadata": {
        "id": "D7Pyi-lnNxzA"
      },
      "source": [
        "# Defining the important Hyper parameters \n",
        "BATCH_SIZE = 64 \n",
        "EPOCHS = 10 \n",
        "INIT_LR = 1e-4 # initial learning rate (start)\n",
        "MAX_LR = 1e-2 # maximum learning rate (end)\n",
        "IMG_SHAPE = (28 , 28 , 1)"
      ],
      "execution_count": 5,
      "outputs": []
    },
    {
      "cell_type": "code",
      "metadata": {
        "id": "pJ6A1rjoOXiE"
      },
      "source": [
        "# Creating a function for building the model \n",
        "def get_training_model():\n",
        "  model = tf.keras.Sequential([\n",
        "    layers.InputLayer(IMG_SHAPE) , \n",
        "    layers.experimental.preprocessing.Rescaling(scale = 1/255.), \n",
        "    layers.Conv2D(16 , (5 , 5) , activation = 'relu'), \n",
        "    layers.MaxPooling2D((2, 2)) , \n",
        "    layers.Conv2D(32 , (5 , 5) , activation = 'relu'), \n",
        "    layers.MaxPooling2D((2 , 2)), \n",
        "    layers.SpatialDropout2D(0.2), \n",
        "    layers.GlobalAvgPool2D() ,\n",
        "    layers.Dense(128 , activation = 'relu'),\n",
        "    layers.Dense(10 , activation= 'softmax')\n",
        "\n",
        "])\n",
        "  return model"
      ],
      "execution_count": 6,
      "outputs": []
    },
    {
      "cell_type": "code",
      "metadata": {
        "id": "fkRtcyf3Ud6g"
      },
      "source": [
        "# Function for training the model \n",
        "def train_model(model , optimizer, epochs):\n",
        "  model.compile(loss = tf.keras.losses.SparseCategoricalCrossentropy() , \n",
        "                optimizer = optimizer , \n",
        "                metrics = ['accuracy'])\n",
        "  \n",
        "  # Fitting the model \n",
        "  history = model.fit(X_train , y_train , \n",
        "                      batch_size = BATCH_SIZE , \n",
        "                      validation_data = (X_test , y_test) , \n",
        "                      epochs = epochs)\n",
        "  \n",
        "  return history"
      ],
      "execution_count": 7,
      "outputs": []
    },
    {
      "cell_type": "code",
      "metadata": {
        "colab": {
          "base_uri": "https://localhost:8080/"
        },
        "id": "7soExau5W3rT",
        "outputId": "630000ea-3e7e-44f1-be01-896d7e3bcb7a"
      },
      "source": [
        "# Model we are going to train without clr\n",
        "initial_model = get_training_model()\n",
        "initial_model.summary()"
      ],
      "execution_count": 8,
      "outputs": [
        {
          "output_type": "stream",
          "text": [
            "Model: \"sequential\"\n",
            "_________________________________________________________________\n",
            "Layer (type)                 Output Shape              Param #   \n",
            "=================================================================\n",
            "rescaling (Rescaling)        (None, 28, 28, 1)         0         \n",
            "_________________________________________________________________\n",
            "conv2d (Conv2D)              (None, 24, 24, 16)        416       \n",
            "_________________________________________________________________\n",
            "max_pooling2d (MaxPooling2D) (None, 12, 12, 16)        0         \n",
            "_________________________________________________________________\n",
            "conv2d_1 (Conv2D)            (None, 8, 8, 32)          12832     \n",
            "_________________________________________________________________\n",
            "max_pooling2d_1 (MaxPooling2 (None, 4, 4, 32)          0         \n",
            "_________________________________________________________________\n",
            "spatial_dropout2d (SpatialDr (None, 4, 4, 32)          0         \n",
            "_________________________________________________________________\n",
            "global_average_pooling2d (Gl (None, 32)                0         \n",
            "_________________________________________________________________\n",
            "dense (Dense)                (None, 128)               4224      \n",
            "_________________________________________________________________\n",
            "dense_1 (Dense)              (None, 10)                1290      \n",
            "=================================================================\n",
            "Total params: 18,762\n",
            "Trainable params: 18,762\n",
            "Non-trainable params: 0\n",
            "_________________________________________________________________\n"
          ],
          "name": "stdout"
        }
      ]
    },
    {
      "cell_type": "code",
      "metadata": {
        "colab": {
          "base_uri": "https://localhost:8080/"
        },
        "id": "Ak5vKY3BXCAx",
        "outputId": "410df6a6-ccdc-49ad-85de-44cc08cb6536"
      },
      "source": [
        "# Saving this model \n",
        "initial_model.save('initial_model')"
      ],
      "execution_count": 9,
      "outputs": [
        {
          "output_type": "stream",
          "text": [
            "WARNING:tensorflow:Compiled the loaded model, but the compiled metrics have yet to be built. `model.compile_metrics` will be empty until you train or evaluate the model.\n",
            "INFO:tensorflow:Assets written to: initial_model/assets\n"
          ],
          "name": "stdout"
        }
      ]
    },
    {
      "cell_type": "markdown",
      "metadata": {
        "id": "YDY-Lib5XOrX"
      },
      "source": [
        "### Training a model without Cyclic Learning Rate "
      ]
    },
    {
      "cell_type": "code",
      "metadata": {
        "colab": {
          "base_uri": "https://localhost:8080/"
        },
        "id": "YqVwlFO6XaoQ",
        "outputId": "47c1cc77-f82c-4b68-c56d-38afefe4db4e"
      },
      "source": [
        "standard_model = tf.keras.models.load_model('initial_model')\n",
        "no_clr_history = train_model(model= standard_model , \n",
        "                             optimizer = tf.keras.optimizers.SGD() , \n",
        "                             epochs = EPOCHS)"
      ],
      "execution_count": 10,
      "outputs": [
        {
          "output_type": "stream",
          "text": [
            "WARNING:tensorflow:No training configuration found in save file, so the model was *not* compiled. Compile it manually.\n",
            "Epoch 1/10\n",
            "938/938 [==============================] - 35s 4ms/step - loss: 2.2093 - accuracy: 0.2181 - val_loss: 1.7610 - val_accuracy: 0.4113\n",
            "Epoch 2/10\n",
            "938/938 [==============================] - 4s 4ms/step - loss: 1.2965 - accuracy: 0.5129 - val_loss: 0.9588 - val_accuracy: 0.6495\n",
            "Epoch 3/10\n",
            "938/938 [==============================] - 4s 4ms/step - loss: 1.0106 - accuracy: 0.6181 - val_loss: 0.9148 - val_accuracy: 0.6589\n",
            "Epoch 4/10\n",
            "938/938 [==============================] - 4s 4ms/step - loss: 0.9279 - accuracy: 0.6568 - val_loss: 0.8493 - val_accuracy: 0.7014\n",
            "Epoch 5/10\n",
            "938/938 [==============================] - 4s 4ms/step - loss: 0.8858 - accuracy: 0.6721 - val_loss: 0.8407 - val_accuracy: 0.6661\n",
            "Epoch 6/10\n",
            "938/938 [==============================] - 4s 4ms/step - loss: 0.8483 - accuracy: 0.6848 - val_loss: 0.7970 - val_accuracy: 0.6834\n",
            "Epoch 7/10\n",
            "938/938 [==============================] - 4s 4ms/step - loss: 0.8219 - accuracy: 0.6944 - val_loss: 0.7612 - val_accuracy: 0.7004\n",
            "Epoch 8/10\n",
            "938/938 [==============================] - 4s 4ms/step - loss: 0.7997 - accuracy: 0.7010 - val_loss: 0.7266 - val_accuracy: 0.7275\n",
            "Epoch 9/10\n",
            "938/938 [==============================] - 4s 4ms/step - loss: 0.7833 - accuracy: 0.7064 - val_loss: 0.7159 - val_accuracy: 0.7451\n",
            "Epoch 10/10\n",
            "938/938 [==============================] - 4s 4ms/step - loss: 0.7641 - accuracy: 0.7133 - val_loss: 0.7013 - val_accuracy: 0.7461\n"
          ],
          "name": "stdout"
        }
      ]
    },
    {
      "cell_type": "markdown",
      "metadata": {
        "id": "WjQtLTLZXv9D"
      },
      "source": [
        "### Defining CLR Schedule \n",
        "\n",
        "The `tfa.optimizers.CyclicalLearningRate` module return a direct schedule that can be passed to an optimizer. \n",
        "\n",
        "> The schedule takes a step as it's input and ouputs a value calculated using CLR formula laid out in the paper. "
      ]
    },
    {
      "cell_type": "code",
      "metadata": {
        "colab": {
          "base_uri": "https://localhost:8080/"
        },
        "id": "DPchkrKHZvC8",
        "outputId": "2f08a45d-49fa-4410-e427-4d1876c3da6a"
      },
      "source": [
        "# Calculating steps per epoch \n",
        "steps_per_epoch = len(X_train) // BATCH_SIZE\n",
        "steps_per_epoch"
      ],
      "execution_count": 11,
      "outputs": [
        {
          "output_type": "execute_result",
          "data": {
            "text/plain": [
              "937"
            ]
          },
          "metadata": {
            "tags": []
          },
          "execution_count": 11
        }
      ]
    },
    {
      "cell_type": "code",
      "metadata": {
        "id": "Oo8gEfrKZ4Du"
      },
      "source": [
        "# Defining our cyclic learning rate \n",
        "clr = tfa.optimizers.CyclicalLearningRate(initial_learning_rate= INIT_LR , \n",
        "                                          maximal_learning_rate = MAX_LR , \n",
        "                                          scale_fn = lambda x: 1/(2.**(x-1)) , \n",
        "                                          step_size = 2*steps_per_epoch)\n",
        "\n",
        "# Passing this into our optimizer \n",
        "optimizer = tf.keras.optimizers.SGD(clr)"
      ],
      "execution_count": 12,
      "outputs": []
    },
    {
      "cell_type": "markdown",
      "metadata": {
        "id": "EAs5LGB9e1jT"
      },
      "source": [
        "- Here, we specify the lower and upper bounds of the learning rate (initial and max lr) and the **schedule will oscillate in between that range [1e-4 , 1e-2]**.\n",
        "\n",
        "- The **`scale_fn` is used to define the function that would scale up and scale down the learning rate within a given cycle**. \n",
        "\n",
        "- The `step_size` defines the **duration of single cycle**. \n",
        "\n",
        "In our example we used **2** in `step_size` that means you need a total of 4 iterations to complete one cycle. \n",
        "\n",
        "`factor * steps_per_epoch` where factor lies within the [2, 8] range.\n",
        "\n",
        "CLR paper: https://arxiv.org/abs/1506.01186\n",
        "\n",
        "This [blog post](https://www.pyimagesearch.com/2019/08/05/keras-learning-rate-finder/) provides a nice detail of how to choose the bounds for learning rate.\n"
      ]
    },
    {
      "cell_type": "code",
      "metadata": {
        "colab": {
          "base_uri": "https://localhost:8080/",
          "height": 279
        },
        "id": "O_BJXsFRjrbD",
        "outputId": "341e7b56-ba36-416e-e057-26b709bd617e"
      },
      "source": [
        "# Visualizing how our clr scheduler works \n",
        "\n",
        "step = np.arange(0 , EPOCHS * steps_per_epoch)\n",
        "lr = clr(step= step)\n",
        "plt.plot(step , lr)\n",
        "plt.xlabel('Steps')\n",
        "plt.ylabel('Learning Rate')\n",
        "plt.show()"
      ],
      "execution_count": 13,
      "outputs": [
        {
          "output_type": "display_data",
          "data": {
            "image/png": "[encoded data removed]",
            "text/plain": [
              "<Figure size 432x288 with 1 Axes>"
            ]
          },
          "metadata": {
            "tags": [],
            "needs_background": "light"
          }
        }
      ]
    },
    {
      "cell_type": "code",
      "metadata": {
        "colab": {
          "base_uri": "https://localhost:8080/",
          "height": 279
        },
        "id": "5iehvPmmkh_4",
        "outputId": "234dfac7-6bb1-410f-baaa-5afd061641f4"
      },
      "source": [
        "step = np.arange(0 , 100  * steps_per_epoch)\n",
        "lr = clr(step)\n",
        "plt.plot(step , lr)\n",
        "plt.xlabel('Steps')\n",
        "plt.ylabel('Learning Rate')\n",
        "plt.show()"
      ],
      "execution_count": 14,
      "outputs": [
        {
          "output_type": "display_data",
          "data": {
            "image/png": "[encoded data removed]",
            "text/plain": [
              "<Figure size 432x288 with 1 Axes>"
            ]
          },
          "metadata": {
            "tags": [],
            "needs_background": "light"
          }
        }
      ]
    },
    {
      "cell_type": "markdown",
      "metadata": {
        "id": "eW8GdNRAkX17"
      },
      "source": [
        "> The scale function we are using in this tutorial is referred to as the `triangular2` method in the **CLR paper**. There are other two functions there were explored namely `triangular` and `exp`. "
      ]
    },
    {
      "cell_type": "markdown",
      "metadata": {
        "id": "fLHmojYzlYCz"
      },
      "source": [
        "### Train a model with CLR "
      ]
    },
    {
      "cell_type": "code",
      "metadata": {
        "colab": {
          "base_uri": "https://localhost:8080/"
        },
        "id": "Cicsi6a6lbM_",
        "outputId": "26780a83-e244-4095-f44d-d9b86ec63af6"
      },
      "source": [
        "clr_model = tf.keras.models.load_model('initial_model')\n",
        "clr_history = train_model(model = clr_model , \n",
        "                          optimizer = optimizer, # with clr\n",
        "                          epochs = EPOCHS)"
      ],
      "execution_count": 16,
      "outputs": [
        {
          "output_type": "stream",
          "text": [
            "WARNING:tensorflow:No training configuration found in save file, so the model was *not* compiled. Compile it manually.\n",
            "Epoch 1/10\n",
            "938/938 [==============================] - 5s 5ms/step - loss: 2.3005 - accuracy: 0.1165 - val_loss: 2.2851 - val_accuracy: 0.2369\n",
            "Epoch 2/10\n",
            "938/938 [==============================] - 4s 4ms/step - loss: 2.1930 - accuracy: 0.2398 - val_loss: 1.7382 - val_accuracy: 0.4522\n",
            "Epoch 3/10\n",
            "938/938 [==============================] - 4s 4ms/step - loss: 1.3131 - accuracy: 0.5053 - val_loss: 1.0111 - val_accuracy: 0.6489\n",
            "Epoch 4/10\n",
            "938/938 [==============================] - 4s 5ms/step - loss: 1.0748 - accuracy: 0.5931 - val_loss: 0.9493 - val_accuracy: 0.6622\n",
            "Epoch 5/10\n",
            "938/938 [==============================] - 4s 5ms/step - loss: 1.0530 - accuracy: 0.6031 - val_loss: 0.9440 - val_accuracy: 0.6519\n",
            "Epoch 6/10\n",
            "938/938 [==============================] - 4s 4ms/step - loss: 1.0200 - accuracy: 0.6172 - val_loss: 0.9102 - val_accuracy: 0.6613\n",
            "Epoch 7/10\n",
            "938/938 [==============================] - 4s 4ms/step - loss: 0.9779 - accuracy: 0.6342 - val_loss: 0.8784 - val_accuracy: 0.6745\n",
            "Epoch 8/10\n",
            "938/938 [==============================] - 4s 4ms/step - loss: 0.9536 - accuracy: 0.6488 - val_loss: 0.8666 - val_accuracy: 0.6906\n",
            "Epoch 9/10\n",
            "938/938 [==============================] - 4s 4ms/step - loss: 0.9512 - accuracy: 0.6497 - val_loss: 0.8690 - val_accuracy: 0.6852\n",
            "Epoch 10/10\n",
            "938/938 [==============================] - 4s 4ms/step - loss: 0.9425 - accuracy: 0.6529 - val_loss: 0.8569 - val_accuracy: 0.6918\n"
          ],
          "name": "stdout"
        }
      ]
    },
    {
      "cell_type": "markdown",
      "metadata": {
        "id": "CMezxOIvloa2"
      },
      "source": [
        "We could see the at the very beginning the loss was higher than usual and then it gets lower as the cycle progress. \n",
        "\n",
        "We can visualize by plotting the losses."
      ]
    },
    {
      "cell_type": "code",
      "metadata": {
        "colab": {
          "base_uri": "https://localhost:8080/",
          "height": 512
        },
        "id": "bWh4QlDnmJrS",
        "outputId": "9a909a11-c9ec-47b3-fffa-0e1249b2a01d"
      },
      "source": [
        "# Copied the code \n",
        "(fig, ax) = plt.subplots(2, 1, figsize=(10, 8))\n",
        "\n",
        "ax[0].plot(no_clr_history.history[\"loss\"], label=\"train_loss\")\n",
        "ax[0].plot(no_clr_history.history[\"val_loss\"], label=\"val_loss\")\n",
        "ax[0].set_title(\"No CLR\")\n",
        "ax[0].set_xlabel(\"Epochs\")\n",
        "ax[0].set_ylabel(\"Loss\")\n",
        "ax[0].set_ylim([0, 2.5])\n",
        "ax[0].legend()\n",
        "\n",
        "ax[1].plot(clr_history.history[\"loss\"], label=\"train_loss\")\n",
        "ax[1].plot(clr_history.history[\"val_loss\"], label=\"val_loss\")\n",
        "ax[1].set_title(\"CLR\")\n",
        "ax[1].set_xlabel(\"Epochs\")\n",
        "ax[1].set_ylabel(\"Loss\")\n",
        "ax[1].set_ylim([0, 2.5])\n",
        "ax[1].legend()\n",
        "\n",
        "fig.tight_layout(pad=3.0)\n",
        "fig.show()"
      ],
      "execution_count": 17,
      "outputs": [
        {
          "output_type": "display_data",
          "data": {
            "image/png": "[encoded data removed]",
            "text/plain": [
              "<Figure size 720x576 with 2 Axes>"
            ]
          },
          "metadata": {
            "tags": [],
            "needs_background": "light"
          }
        }
      ]
    },
    {
      "cell_type": "markdown",
      "metadata": {
        "id": "xWmlCBDTmLf5"
      },
      "source": [
        "## Applying on a different dataset"
      ]
    },
    {
      "cell_type": "code",
      "metadata": {
        "colab": {
          "base_uri": "https://localhost:8080/",
          "height": 269,
          "referenced_widgets": [
            "7cba8011c8bf4746ad25e34a8a8e4f0c",
            "44f632145e054749a075295c8991c595",
            "63e7d10600c947fa8b307f18e4f0f4a3",
            "1d3942116541499d94fcbbfd6fbabde7",
            "644b3b40a03441408d0a39de14e70c62",
            "e42f2e94172c4a208dbc6d51e48e882e",
            "dcbd998404d748ae9176c1def68cbcf5",
            "0b758579957748cca704c8927b2afb23",
            "43ff76bbd69c48678881f1cb2cc3f255",
            "cdd513ee5ed4433f90a9c44153c52337",
            "2552ed53dd4f4f388207068ddffc7d6f",
            "8cc4086a8dff4fa895097209481308f5",
            "a72761be90d64002b48cdb32c1f5cd52",
            "a379b37c83ab4a2da6f692ab8934ac7a",
            "819d10b9ef6a4362a225a4a8459f8fe2",
            "157c1b3c336b4832ba8303286f91b072",
            "50c7cadba9904ba5adb1585b8036b195",
            "3e8db6a3081e46d2a632303226216664",
            "05391e3069d6420eacaa2aae04ff3aab",
            "3a5ed1dd458a4196aca425acafd6ef36",
            "3ac60c61a94849f6897c00ed6f002caf",
            "54a2c667c25d4bcebf069ca3b662a2f5",
            "4be81a78ba7a451484e3892acc55ec51",
            "3cd4e16bd1ca46caa416c5ccfb73e936",
            "b75026ff716c4ceab6d3480871cab3c8",
            "01fbe8e61ce54d08977693afd0f4fbbc",
            "e52dc7d68e334d4e99a814c6d8abff77",
            "328452275dd44cd6b83a9459fbbd2384",
            "26e0b68e818b4b93a27dfa9514dc6fc5",
            "19ccacb075954cd087e59a36a00416c8",
            "85d7644521d64bfbbad59e3802199234",
            "06660d5d02424e21b99f065fbfc52545"
          ]
        },
        "id": "FjNvxXGEno7Q",
        "outputId": "481dde68-9711-4230-be97-1ce4a2e21c51"
      },
      "source": [
        "# Importing tensorflow datasets \n",
        "import tensorflow_datasets as tfds\n",
        "train_data  , ds_info = tfds.load('cats_vs_dogs' , \n",
        "                                  split = 'train' , \n",
        "                                  with_info = True , \n",
        "                                  as_supervised = True # removes the filenames\n",
        "                                        )"
      ],
      "execution_count": 18,
      "outputs": [
        {
          "output_type": "stream",
          "text": [
            "\u001b[1mDownloading and preparing dataset cats_vs_dogs/4.0.0 (download: 786.68 MiB, generated: Unknown size, total: 786.68 MiB) to /root/tensorflow_datasets/cats_vs_dogs/4.0.0...\u001b[0m\n"
          ],
          "name": "stdout"
        },
        {
          "output_type": "display_data",
          "data": {
            "application/vnd.jupyter.widget-view+json": {
              "model_id": "7cba8011c8bf4746ad25e34a8a8e4f0c",
              "version_minor": 0,
              "version_major": 2
            },
            "text/plain": [
              "HBox(children=(FloatProgress(value=1.0, bar_style='info', description='Dl Completed...', max=1.0, style=Progre…"
            ]
          },
          "metadata": {
            "tags": []
          }
        },
        {
          "output_type": "display_data",
          "data": {
            "application/vnd.jupyter.widget-view+json": {
              "model_id": "43ff76bbd69c48678881f1cb2cc3f255",
              "version_minor": 0,
              "version_major": 2
            },
            "text/plain": [
              "HBox(children=(FloatProgress(value=1.0, bar_style='info', description='Dl Size...', max=1.0, style=ProgressSty…"
            ]
          },
          "metadata": {
            "tags": []
          }
        },
        {
          "output_type": "stream",
          "text": [
            "\n",
            "\n",
            "\n",
            "\n"
          ],
          "name": "stdout"
        },
        {
          "output_type": "display_data",
          "data": {
            "application/vnd.jupyter.widget-view+json": {
              "model_id": "50c7cadba9904ba5adb1585b8036b195",
              "version_minor": 0,
              "version_major": 2
            },
            "text/plain": [
              "HBox(children=(FloatProgress(value=1.0, bar_style='info', max=1.0), HTML(value='')))"
            ]
          },
          "metadata": {
            "tags": []
          }
        },
        {
          "output_type": "stream",
          "text": [
            "WARNING:absl:1738 images were corrupted and were skipped\n"
          ],
          "name": "stderr"
        },
        {
          "output_type": "stream",
          "text": [
            "\rShuffling and writing examples to /root/tensorflow_datasets/cats_vs_dogs/4.0.0.incomplete0PIQ9A/cats_vs_dogs-train.tfrecord\n"
          ],
          "name": "stdout"
        },
        {
          "output_type": "display_data",
          "data": {
            "application/vnd.jupyter.widget-view+json": {
              "model_id": "b75026ff716c4ceab6d3480871cab3c8",
              "version_minor": 0,
              "version_major": 2
            },
            "text/plain": [
              "HBox(children=(FloatProgress(value=0.0, max=23262.0), HTML(value='')))"
            ]
          },
          "metadata": {
            "tags": []
          }
        },
        {
          "output_type": "stream",
          "text": [
            "\u001b[1mDataset cats_vs_dogs downloaded and prepared to /root/tensorflow_datasets/cats_vs_dogs/4.0.0. Subsequent calls will reuse this data.\u001b[0m\n",
            "\r"
          ],
          "name": "stdout"
        }
      ]
    },
    {
      "cell_type": "code",
      "metadata": {
        "colab": {
          "base_uri": "https://localhost:8080/"
        },
        "id": "BV_bfIf3oQ7Z",
        "outputId": "7c99aab4-6e87-4626-d1e7-85f77c7af9eb"
      },
      "source": [
        "train_data.element_spec"
      ],
      "execution_count": 19,
      "outputs": [
        {
          "output_type": "execute_result",
          "data": {
            "text/plain": [
              "(TensorSpec(shape=(None, None, 3), dtype=tf.uint8, name=None),\n",
              " TensorSpec(shape=(), dtype=tf.int64, name=None))"
            ]
          },
          "metadata": {
            "tags": []
          },
          "execution_count": 19
        }
      ]
    },
    {
      "cell_type": "code",
      "metadata": {
        "id": "ipA26o1fuINr"
      },
      "source": [
        "# Defining a preprocess function \n",
        "def preprocess_func(image , label):\n",
        "  image = tf.image.resize(image , size = [224 , 224])\n",
        "  return tf.cast(image , tf.float32) , label"
      ],
      "execution_count": 20,
      "outputs": []
    },
    {
      "cell_type": "code",
      "metadata": {
        "id": "9gJKUkdXrXyG"
      },
      "source": [
        "# Applying the preprocess function and enabling prefetching \n",
        "train_data = train_data.map(map_func= preprocess_func , num_parallel_calls= tf.data.AUTOTUNE).prefetch(tf.data.AUTOTUNE)\n",
        "train_data = train_data.batch(64)"
      ],
      "execution_count": 21,
      "outputs": []
    },
    {
      "cell_type": "code",
      "metadata": {
        "colab": {
          "base_uri": "https://localhost:8080/"
        },
        "id": "Sc00TF_msdF5",
        "outputId": "7bce2b25-eaf3-4263-826d-1c489cc9986a"
      },
      "source": [
        "train_data.element_spec"
      ],
      "execution_count": 22,
      "outputs": [
        {
          "output_type": "execute_result",
          "data": {
            "text/plain": [
              "(TensorSpec(shape=(None, 224, 224, 3), dtype=tf.float32, name=None),\n",
              " TensorSpec(shape=(None,), dtype=tf.int64, name=None))"
            ]
          },
          "metadata": {
            "tags": []
          },
          "execution_count": 22
        }
      ]
    },
    {
      "cell_type": "code",
      "metadata": {
        "colab": {
          "base_uri": "https://localhost:8080/"
        },
        "id": "YQzWO2tIsiwW",
        "outputId": "26bec8d5-80dc-48b0-932b-a1c4c8fec7b6"
      },
      "source": [
        "# Function to build our model \n",
        "base_model = tf.keras.applications.ResNet101(include_top= False)\n",
        "base_model.trainable = False\n",
        "\n",
        "inputs = layers.Input(shape= (224 , 224 , 3), name='input_layer')\n",
        "x = layers.experimental.preprocessing.Rescaling(1 / 255.)(inputs)\n",
        "x = base_model(x , training = False)\n",
        "x = layers.GlobalAveragePooling2D()(x)\n",
        "x = layers.Dense(64 , activation= 'relu')(x)\n",
        "outputs = layers.Dense(1 , activation= 'sigmoid')(x)\n",
        "\n",
        "# Packing into a model\n",
        "model = tf.keras.Model(inputs , outputs)\n",
        "model.summary()\n",
        "\n"
      ],
      "execution_count": 26,
      "outputs": [
        {
          "output_type": "stream",
          "text": [
            "Model: \"model_1\"\n",
            "_________________________________________________________________\n",
            "Layer (type)                 Output Shape              Param #   \n",
            "=================================================================\n",
            "input_layer (InputLayer)     [(None, 224, 224, 3)]     0         \n",
            "_________________________________________________________________\n",
            "rescaling_4 (Rescaling)      (None, 224, 224, 3)       0         \n",
            "_________________________________________________________________\n",
            "resnet101 (Functional)       (None, None, None, 2048)  42658176  \n",
            "_________________________________________________________________\n",
            "global_average_pooling2d_4 ( (None, 2048)              0         \n",
            "_________________________________________________________________\n",
            "dense_3 (Dense)              (None, 64)                131136    \n",
            "_________________________________________________________________\n",
            "dense_4 (Dense)              (None, 1)                 65        \n",
            "=================================================================\n",
            "Total params: 42,789,377\n",
            "Trainable params: 131,201\n",
            "Non-trainable params: 42,658,176\n",
            "_________________________________________________________________\n"
          ],
          "name": "stdout"
        }
      ]
    },
    {
      "cell_type": "code",
      "metadata": {
        "colab": {
          "base_uri": "https://localhost:8080/"
        },
        "id": "LeKVZcmxyBFS",
        "outputId": "31571b53-f4d8-4ace-e154-4b0cb8466d50"
      },
      "source": [
        "# Defining the steps per epoch \n",
        "BATCH_SIZE = 64\n",
        "steps_per_epoch = ds_info.splits.total_num_examples // BATCH_SIZE\n",
        "steps_per_epoch"
      ],
      "execution_count": 27,
      "outputs": [
        {
          "output_type": "execute_result",
          "data": {
            "text/plain": [
              "363"
            ]
          },
          "metadata": {
            "tags": []
          },
          "execution_count": 27
        }
      ]
    },
    {
      "cell_type": "code",
      "metadata": {
        "id": "BZctVqOK0has"
      },
      "source": [
        "# Creating the Cyclic Learning Rate Scheduler \n",
        "\n",
        "clr_new = tfa.optimizers.CyclicalLearningRate(\n",
        "    initial_learning_rate = 1e-4 , \n",
        "    maximal_learning_rate = 1e-3 , \n",
        "    scale_fn = lambda x: 1/(2. ** (x-1)) , \n",
        "    step_size = 2 * steps_per_epoch\n",
        ")\n",
        "\n"
      ],
      "execution_count": 34,
      "outputs": []
    },
    {
      "cell_type": "code",
      "metadata": {
        "colab": {
          "base_uri": "https://localhost:8080/"
        },
        "id": "OUN6-W6L2k4Z",
        "outputId": "249bb773-0bf8-4f68-ccd6-dd1bb379671f"
      },
      "source": [
        "# Saving the model \n",
        "model.save('uncompiled_resnet_model')"
      ],
      "execution_count": 29,
      "outputs": [
        {
          "output_type": "stream",
          "text": [
            "WARNING:tensorflow:Compiled the loaded model, but the compiled metrics have yet to be built. `model.compile_metrics` will be empty until you train or evaluate the model.\n"
          ],
          "name": "stdout"
        },
        {
          "output_type": "stream",
          "text": [
            "WARNING:tensorflow:Compiled the loaded model, but the compiled metrics have yet to be built. `model.compile_metrics` will be empty until you train or evaluate the model.\n",
            "/usr/local/lib/python3.7/dist-packages/tensorflow/python/keras/utils/generic_utils.py:497: CustomMaskWarning: Custom mask layers require a config and must override get_config. When loading, the custom mask layer must be passed to the custom_objects argument.\n",
            "  category=CustomMaskWarning)\n"
          ],
          "name": "stderr"
        },
        {
          "output_type": "stream",
          "text": [
            "INFO:tensorflow:Assets written to: uncompiled_resnet_model/assets\n"
          ],
          "name": "stdout"
        },
        {
          "output_type": "stream",
          "text": [
            "INFO:tensorflow:Assets written to: uncompiled_resnet_model/assets\n"
          ],
          "name": "stderr"
        }
      ]
    },
    {
      "cell_type": "code",
      "metadata": {
        "id": "RYJd7g6c5axT"
      },
      "source": [
        "# Compile the model \n",
        "model.compile(loss = tf.keras.losses.BinaryCrossentropy() , \n",
        "              optimizer = tf.keras.optimizers.Adam() , \n",
        "              metrics = ['accuracy'])"
      ],
      "execution_count": 30,
      "outputs": []
    },
    {
      "cell_type": "code",
      "metadata": {
        "colab": {
          "base_uri": "https://localhost:8080/"
        },
        "id": "UWjotpDl5a6b",
        "outputId": "c125bae3-0649-4415-8c4b-8e9ca29232a8"
      },
      "source": [
        "# Fitting without clr scheduler \n",
        "no_clr_history = model.fit(train_data , \n",
        "                           epochs = 3) \n"
      ],
      "execution_count": 31,
      "outputs": [
        {
          "output_type": "stream",
          "text": [
            "Epoch 1/3\n",
            "364/364 [==============================] - 130s 335ms/step - loss: 0.6492 - accuracy: 0.6211\n",
            "Epoch 2/3\n",
            "364/364 [==============================] - 122s 334ms/step - loss: 0.6119 - accuracy: 0.6691\n",
            "Epoch 3/3\n",
            "364/364 [==============================] - 121s 333ms/step - loss: 0.5963 - accuracy: 0.6833\n"
          ],
          "name": "stdout"
        }
      ]
    },
    {
      "cell_type": "code",
      "metadata": {
        "colab": {
          "base_uri": "https://localhost:8080/"
        },
        "id": "FxrcdoIK5a_0",
        "outputId": "c5538839-ddb9-46a8-b9a2-b4910e73ae3a"
      },
      "source": [
        "# Fitting the model with clr \n",
        "loaded_model = tf.keras.models.load_model('uncompiled_resnet_model')\n",
        "loaded_model.summary()"
      ],
      "execution_count": 32,
      "outputs": [
        {
          "output_type": "stream",
          "text": [
            "WARNING:tensorflow:No training configuration found in save file, so the model was *not* compiled. Compile it manually.\n"
          ],
          "name": "stdout"
        },
        {
          "output_type": "stream",
          "text": [
            "WARNING:tensorflow:No training configuration found in save file, so the model was *not* compiled. Compile it manually.\n"
          ],
          "name": "stderr"
        },
        {
          "output_type": "stream",
          "text": [
            "Model: \"model_1\"\n",
            "_________________________________________________________________\n",
            "Layer (type)                 Output Shape              Param #   \n",
            "=================================================================\n",
            "input_layer (InputLayer)     [(None, 224, 224, 3)]     0         \n",
            "_________________________________________________________________\n",
            "rescaling_4 (Rescaling)      (None, 224, 224, 3)       0         \n",
            "_________________________________________________________________\n",
            "resnet101 (Functional)       (None, None, None, 2048)  42658176  \n",
            "_________________________________________________________________\n",
            "global_average_pooling2d_4 ( (None, 2048)              0         \n",
            "_________________________________________________________________\n",
            "dense_3 (Dense)              (None, 64)                131136    \n",
            "_________________________________________________________________\n",
            "dense_4 (Dense)              (None, 1)                 65        \n",
            "=================================================================\n",
            "Total params: 42,789,377\n",
            "Trainable params: 131,201\n",
            "Non-trainable params: 42,658,176\n",
            "_________________________________________________________________\n"
          ],
          "name": "stdout"
        }
      ]
    },
    {
      "cell_type": "code",
      "metadata": {
        "id": "7YTl3fZa71Kw"
      },
      "source": [
        "# Compile the model \n",
        "loaded_model.compile(loss = tf.keras.losses.BinaryCrossentropy() , \n",
        "              optimizer = tf.keras.optimizers.Adam(clr_new) , \n",
        "              metrics = ['accuracy'])"
      ],
      "execution_count": 35,
      "outputs": []
    },
    {
      "cell_type": "code",
      "metadata": {
        "colab": {
          "base_uri": "https://localhost:8080/"
        },
        "id": "KwoPzYMS9Kz7",
        "outputId": "d39536e5-41a5-4ca9-ef6a-7e0e07b6161b"
      },
      "source": [
        "# Fitting the model \n",
        "with_clr_history = loaded_model.fit(train_data ,\n",
        "                    epochs = 3 )"
      ],
      "execution_count": 36,
      "outputs": [
        {
          "output_type": "stream",
          "text": [
            "Epoch 1/3\n",
            "364/364 [==============================] - 129s 336ms/step - loss: 0.6714 - accuracy: 0.5824\n",
            "Epoch 2/3\n",
            "364/364 [==============================] - 122s 335ms/step - loss: 0.6335 - accuracy: 0.6443\n",
            "Epoch 3/3\n",
            "364/364 [==============================] - 122s 335ms/step - loss: 0.6058 - accuracy: 0.6736\n"
          ],
          "name": "stdout"
        }
      ]
    },
    {
      "cell_type": "code",
      "metadata": {
        "id": "BHphNfFOF8dB"
      },
      "source": [
        "# Unfreezing the layers \n",
        "model.layers[2].trainable = True \n",
        "\n",
        "# Refreeze every layer except the last 5 \n",
        "for layer in model.layers[2].layers[:-5]:\n",
        "  layer.trainable = True\n"
      ],
      "execution_count": 41,
      "outputs": []
    },
    {
      "cell_type": "code",
      "metadata": {
        "colab": {
          "base_uri": "https://localhost:8080/"
        },
        "id": "5mKsZybo-JxX",
        "outputId": "aae17f8a-5a65-44bf-8aa9-70c6f35858d3"
      },
      "source": [
        "for layer in model.layers:\n",
        "  print(layer.name , layer.trainable , layer.dtype)"
      ],
      "execution_count": 42,
      "outputs": [
        {
          "output_type": "stream",
          "text": [
            "input_layer True float32\n",
            "rescaling_4 True float32\n",
            "resnet101 True float32\n",
            "global_average_pooling2d_4 True float32\n",
            "dense_3 True float32\n",
            "dense_4 True float32\n"
          ],
          "name": "stdout"
        }
      ]
    },
    {
      "cell_type": "code",
      "metadata": {
        "id": "hn7drHHt_YVQ"
      },
      "source": [
        "# Compiling the model after making changes\n",
        "model.compile(loss = tf.keras.losses.BinaryCrossentropy() ,\n",
        "              optimizer = tf.keras.optimizers.Adam(learning_rate= 0.0001) , \n",
        "              metrics = ['accuracy'])"
      ],
      "execution_count": 45,
      "outputs": []
    },
    {
      "cell_type": "code",
      "metadata": {
        "id": "FWglNf3J-sjG"
      },
      "source": [
        "# Cyclic Learning Rate for a fine tuning model\n",
        "clr_fine_tune = tfa.optimizers.CyclicalLearningRate(\n",
        "    initial_learning_rate = 2e-3 , \n",
        "    maximal_learning_rate = 7e-2 , \n",
        "    scale_fn = lambda x: 1/(2. ** (x-1)), \n",
        "    step_size = 2 * steps_per_epoch\n",
        ")"
      ],
      "execution_count": 44,
      "outputs": []
    },
    {
      "cell_type": "code",
      "metadata": {
        "colab": {
          "base_uri": "https://localhost:8080/"
        },
        "id": "BgfTe_c_-mRG",
        "outputId": "6c5471cd-0654-4e7f-9217-33a4066d64fa"
      },
      "source": [
        "# Fine tuning the model without cyclic learning rate\n",
        "initial_epochs = 3\n",
        "fine_tune_epochs = initial_epochs + 4\n",
        "fine_tune_no_clr_history = model.fit(train_data , \n",
        "                                     epochs = fine_tune_epochs , \n",
        "                                     initial_epoch = no_clr_history.epoch[-1])\n"
      ],
      "execution_count": 46,
      "outputs": [
        {
          "output_type": "stream",
          "text": [
            "Epoch 3/7\n",
            "364/364 [==============================] - 401s 1s/step - loss: 0.7340 - accuracy: 0.5025\n",
            "Epoch 4/7\n",
            "364/364 [==============================] - 386s 1s/step - loss: 0.6934 - accuracy: 0.4966\n",
            "Epoch 5/7\n",
            "364/364 [==============================] - 387s 1s/step - loss: 0.6932 - accuracy: 0.4968\n",
            "Epoch 6/7\n",
            "364/364 [==============================] - 387s 1s/step - loss: 0.6932 - accuracy: 0.5000\n",
            "Epoch 7/7\n",
            "364/364 [==============================] - 386s 1s/step - loss: 0.6932 - accuracy: 0.4994\n"
          ],
          "name": "stdout"
        }
      ]
    },
    {
      "cell_type": "markdown",
      "metadata": {
        "id": "O4BqtCKv_0Gj"
      },
      "source": [
        "Fine tuning the model with a cyclic learning rate "
      ]
    },
    {
      "cell_type": "code",
      "metadata": {
        "id": "68GD-6J2_5Ys"
      },
      "source": [
        "# Unfreezing the layers \n",
        "loaded_model.layers[2].trainable = True \n",
        "\n",
        "# Refreeze every layer except the last 5 \n",
        "for layer in loaded_model.layers[2].layers[:-5]:\n",
        "  layer.trainable = True\n"
      ],
      "execution_count": 47,
      "outputs": []
    },
    {
      "cell_type": "code",
      "metadata": {
        "colab": {
          "base_uri": "https://localhost:8080/"
        },
        "id": "TSqukTjJ__Ix",
        "outputId": "4c9da3bb-95fe-42d3-e0b2-30d9f52dcaa3"
      },
      "source": [
        "# Compile the model \n",
        "loaded_model.compile(loss = tf.keras.losses.BinaryCrossentropy() , \n",
        "                     optimizer = tf.keras.optimizers.Adam(clr_fine_tune) , \n",
        "                     metrics = ['accuracy'])\n",
        "\n",
        "# Fitting the model \n",
        "initial_epochs = 3\n",
        "fine_tune_epochs = initial_epochs + 4\n",
        "fine_tune_clr_history = loaded_model.fit(train_data , \n",
        "                                         epochs = fine_tune_epochs , \n",
        "                                         initial_epoch = 3)"
      ],
      "execution_count": 51,
      "outputs": [
        {
          "output_type": "stream",
          "text": [
            "Epoch 4/7\n",
            "364/364 [==============================] - 370s 984ms/step - loss: nan - accuracy: 0.5011\n",
            "Epoch 5/7\n",
            "364/364 [==============================] - 356s 979ms/step - loss: nan - accuracy: 0.5012\n",
            "Epoch 6/7\n",
            "364/364 [==============================] - 356s 978ms/step - loss: nan - accuracy: 0.5012\n",
            "Epoch 7/7\n",
            "364/364 [==============================] - 357s 982ms/step - loss: nan - accuracy: 0.5012\n"
          ],
          "name": "stdout"
        }
      ]
    },
    {
      "cell_type": "code",
      "metadata": {
        "colab": {
          "base_uri": "https://localhost:8080/"
        },
        "id": "J0spIYDoHyI_",
        "outputId": "a8b602c8-ad8d-4557-bae9-511028d4c011"
      },
      "source": [
        "clr_history.epoch[-1]"
      ],
      "execution_count": 50,
      "outputs": [
        {
          "output_type": "execute_result",
          "data": {
            "text/plain": [
              "9"
            ]
          },
          "metadata": {
            "tags": []
          },
          "execution_count": 50
        }
      ]
    },
    {
      "cell_type": "code",
      "metadata": {
        "id": "4N3-hJJsICYy"
      },
      "source": [
        ""
      ],
      "execution_count": null,
      "outputs": []
    }
  ]
}
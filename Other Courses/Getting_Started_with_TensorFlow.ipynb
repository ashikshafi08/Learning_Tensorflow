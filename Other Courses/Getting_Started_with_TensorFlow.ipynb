{
  "nbformat": 4,
  "nbformat_minor": 0,
  "metadata": {
    "colab": {
      "name": "Getting_Started_with_TensorFlow.ipynb",
      "provenance": [],
      "collapsed_sections": [],
      "authorship_tag": "ABX9TyOOheiB/xhpgNPfhNqv2PoL",
      "include_colab_link": true
    },
    "kernelspec": {
      "name": "python3",
      "display_name": "Python 3"
    },
    "language_info": {
      "name": "python"
    }
  },
  "cells": [
    {
      "cell_type": "markdown",
      "metadata": {
        "id": "view-in-github",
        "colab_type": "text"
      },
      "source": [
        "<a href=\"https://colab.research.google.com/github/ashikshafi08/Learning_Tensorflow/blob/main/Other%20Courses/Getting_Started_with_TensorFlow.ipynb\" target=\"_parent\"><img src=\"https://colab.research.google.com/assets/colab-badge.svg\" alt=\"Open In Colab\"/></a>"
      ]
    },
    {
      "cell_type": "markdown",
      "metadata": {
        "id": "wXlTs6_UyEoZ"
      },
      "source": [
        "This notebook contains all the materials and notes for the Getting Started with TensorFlow 2 Course by Imperial College London. \n",
        "\n"
      ]
    },
    {
      "cell_type": "code",
      "metadata": {
        "id": "x9qTHcwp0YsP"
      },
      "source": [
        "# Importing TensorFlow \n",
        "import tensorflow as tf \n",
        "import numpy as np \n",
        "import matplotlib.pyplot as plt "
      ],
      "execution_count": 1,
      "outputs": []
    },
    {
      "cell_type": "markdown",
      "metadata": {
        "id": "XkpA5UTX-fzW"
      },
      "source": [
        "## The Sequential model API "
      ]
    },
    {
      "cell_type": "markdown",
      "metadata": {
        "id": "CPZeEPbm0fuP"
      },
      "source": [
        "### Build a Sequential Model \n",
        "\n",
        "It's really easy and intuitive way to construct a deeplearning models. Probably most of the neural networks that we work with, can be built using the Sequential Class. \n",
        "\n",
        "This will have the list of keras layers. "
      ]
    },
    {
      "cell_type": "code",
      "metadata": {
        "id": "0SdVnFi11AMH"
      },
      "source": [
        "# Importing the layers we're going to use \n",
        "\n",
        "from tensorflow.keras.models import Sequential\n",
        "from tensorflow.keras.layers import Dense , Flatten , Softmax "
      ],
      "execution_count": 2,
      "outputs": []
    },
    {
      "cell_type": "markdown",
      "metadata": {
        "id": "7XvboOUy1RXV"
      },
      "source": [
        "Build a feedforward neural network model"
      ]
    },
    {
      "cell_type": "code",
      "metadata": {
        "colab": {
          "base_uri": "https://localhost:8080/"
        },
        "id": "kStX80FQ1Vfu",
        "outputId": "53058fdf-55d3-45d5-ebb5-425fb0aeb490"
      },
      "source": [
        "model = tf.keras.Sequential([\n",
        "  Flatten(input_shape = (28 , 28)) , # Explicitly specifying the input_shape (to build the model) \n",
        "  Dense(16 , activation = 'relu') , \n",
        "  Dense(10 , activation = 'relu'), \n",
        "  Dense(10 , activation= 'relu') , \n",
        "  #Dense(10 , activation = 'sigmoid')\n",
        "  tf.keras.layers.Activation('sigmoid')\n",
        "])\n",
        "\n",
        "# Getting the model summary \n",
        "model.summary()"
      ],
      "execution_count": 3,
      "outputs": [
        {
          "output_type": "stream",
          "text": [
            "Model: \"sequential\"\n",
            "_________________________________________________________________\n",
            "Layer (type)                 Output Shape              Param #   \n",
            "=================================================================\n",
            "flatten (Flatten)            (None, 784)               0         \n",
            "_________________________________________________________________\n",
            "dense (Dense)                (None, 16)                12560     \n",
            "_________________________________________________________________\n",
            "dense_1 (Dense)              (None, 10)                170       \n",
            "_________________________________________________________________\n",
            "dense_2 (Dense)              (None, 10)                110       \n",
            "_________________________________________________________________\n",
            "activation (Activation)      (None, 10)                0         \n",
            "=================================================================\n",
            "Total params: 12,840\n",
            "Trainable params: 12,840\n",
            "Non-trainable params: 0\n",
            "_________________________________________________________________\n"
          ],
          "name": "stdout"
        }
      ]
    },
    {
      "cell_type": "markdown",
      "metadata": {
        "id": "OfcgiANw25fS"
      },
      "source": [
        "### Convolutional and Pooling Layers in TensorFlow \n",
        "\n",
        "Previously we build our models with Feedforward networks, but now will use Convolutional layers to build our model."
      ]
    },
    {
      "cell_type": "code",
      "metadata": {
        "id": "TA-Z2Wxw3kLo"
      },
      "source": [
        "# Importing the needed packages \n",
        "from tensorflow.keras.layers import Flatten, Dense , Conv2D , MaxPooling2D"
      ],
      "execution_count": 4,
      "outputs": []
    },
    {
      "cell_type": "code",
      "metadata": {
        "colab": {
          "base_uri": "https://localhost:8080/"
        },
        "id": "bNvXB1HK4AD5",
        "outputId": "5ca7a373-c8f8-4024-dcd0-fcc1cdea1224"
      },
      "source": [
        "# Building a Convolutional Model \n",
        "model = tf.keras.Sequential([\n",
        "  Conv2D(filters= 16 , kernel_size= 3 , \n",
        "         activation = 'relu' , input_shape = (32 , 32 , 3)) , \n",
        "  MaxPooling2D(pool_size= 3) , \n",
        "  Flatten() , \n",
        "  Dense(64 ,  activation= 'relu'), \n",
        "  Dense(10 , activation= 'softmax')\n",
        "])\n",
        "\n",
        "# Getting the summary of the model \n",
        "model.summary()"
      ],
      "execution_count": 5,
      "outputs": [
        {
          "output_type": "stream",
          "text": [
            "Model: \"sequential_1\"\n",
            "_________________________________________________________________\n",
            "Layer (type)                 Output Shape              Param #   \n",
            "=================================================================\n",
            "conv2d (Conv2D)              (None, 30, 30, 16)        448       \n",
            "_________________________________________________________________\n",
            "max_pooling2d (MaxPooling2D) (None, 10, 10, 16)        0         \n",
            "_________________________________________________________________\n",
            "flatten_1 (Flatten)          (None, 1600)              0         \n",
            "_________________________________________________________________\n",
            "dense_3 (Dense)              (None, 64)                102464    \n",
            "_________________________________________________________________\n",
            "dense_4 (Dense)              (None, 10)                650       \n",
            "=================================================================\n",
            "Total params: 103,562\n",
            "Trainable params: 103,562\n",
            "Non-trainable params: 0\n",
            "_________________________________________________________________\n"
          ],
          "name": "stdout"
        }
      ]
    },
    {
      "cell_type": "code",
      "metadata": {
        "colab": {
          "base_uri": "https://localhost:8080/"
        },
        "id": "rZBmPXkW7zOM",
        "outputId": "2cdcb430-9f7d-4dde-bb71-548d4c374788"
      },
      "source": [
        "# Build the Sequential convolutional neural network model\n",
        "\n",
        "model = Sequential([\n",
        "    Conv2D(32 , kernel_size=3 , padding = 'SAME' , strides = 2 , input_shape = (224 , 224, 3)) , \n",
        "    MaxPooling2D(3), \n",
        "    Conv2D(16 , 3 , 2),\n",
        "    Flatten(),\n",
        "    Dense(30 , activation = 'relu'),\n",
        "    Dense(10 , activation = 'sigmoid')\n",
        "])\n",
        "\n",
        "# Summary of the model \n",
        "model.summary()"
      ],
      "execution_count": 6,
      "outputs": [
        {
          "output_type": "stream",
          "text": [
            "Model: \"sequential_2\"\n",
            "_________________________________________________________________\n",
            "Layer (type)                 Output Shape              Param #   \n",
            "=================================================================\n",
            "conv2d_1 (Conv2D)            (None, 112, 112, 32)      896       \n",
            "_________________________________________________________________\n",
            "max_pooling2d_1 (MaxPooling2 (None, 37, 37, 32)        0         \n",
            "_________________________________________________________________\n",
            "conv2d_2 (Conv2D)            (None, 18, 18, 16)        4624      \n",
            "_________________________________________________________________\n",
            "flatten_2 (Flatten)          (None, 5184)              0         \n",
            "_________________________________________________________________\n",
            "dense_5 (Dense)              (None, 30)                155550    \n",
            "_________________________________________________________________\n",
            "dense_6 (Dense)              (None, 10)                310       \n",
            "=================================================================\n",
            "Total params: 161,380\n",
            "Trainable params: 161,380\n",
            "Non-trainable params: 0\n",
            "_________________________________________________________________\n"
          ],
          "name": "stdout"
        }
      ]
    },
    {
      "cell_type": "markdown",
      "metadata": {
        "id": "wTQU3Ry9_kA4"
      },
      "source": [
        "### Weight and bias initializers \n",
        "Will discuss the different ways to intialize weights and biases in the layers of neural networks.\n",
        "\n",
        "#### Default weight and biases\n",
        "The models we've worked so far, we have not specified the **initial values of the weights and biases** in each layers. \n",
        "\n",
        "Tensorflow set's the default value depends upon what type of layer's we are using. \n",
        "\n",
        "For instance, \n",
        "- In `Dense` layer the **biases** are set to zero (`zeros`) by default. \n",
        "- While the **weights** are set according to the `glorot_uniform`, or the Glorot uniform initializer. \n",
        "\n"
      ]
    },
    {
      "cell_type": "markdown",
      "metadata": {
        "id": "MI9eQ6Fy_rpg"
      },
      "source": [
        "#### Initializing your own weights and biases \n",
        "\n",
        "We can even initialize our own weights and biases, and TensorFlow makes the process quite straightforward. \n",
        "\n",
        "This can be achieved by using tweaking two optional arguments in each layer, \n",
        "- `kernel_initialiser` - for weights. \n",
        "- `bias_initialiser` - for the biases. \n",
        "\n",
        "Note: For `MaxPooling` layers we need not to specify the weights and biases. Will throw an error. \n",
        "\n",
        "Let's initialize the weights and biases by ourselves. "
      ]
    },
    {
      "cell_type": "code",
      "metadata": {
        "id": "q41tOw85DNnX"
      },
      "source": [
        "# Importing again (to make a practice)\n",
        "from tensorflow.keras.models import Sequential \n",
        "from tensorflow.keras.layers import Flatten, Dense , Conv2D , MaxPool2D"
      ],
      "execution_count": 7,
      "outputs": []
    },
    {
      "cell_type": "code",
      "metadata": {
        "id": "cYb4pJEwDmlD"
      },
      "source": [
        "# Constructing a model (with manual weight and bias initializer)\n",
        "\n",
        "model = Sequential([\n",
        "  Conv2D(16 , 3 , kernel_initializer='random_uniform' , \n",
        "         bias_initializer = 'zeros' , activation = 'relu' \n",
        "         , input_shape = (224 ,224 , 3)), \n",
        "  MaxPooling2D(3) , \n",
        "  Flatten(), \n",
        "  Dense(64, kernel_initializer= 'he_uniform' , bias_initializer='ones' , \n",
        "        activation = 'relu'), \n",
        "  \n",
        "])"
      ],
      "execution_count": 8,
      "outputs": []
    },
    {
      "cell_type": "markdown",
      "metadata": {
        "id": "VDTrBBcZ6943"
      },
      "source": [
        "We can even instantiate initialisers in slightly different manner, allowing us to set optional arguments of the initalisation metod. \n",
        "\n",
        "- https://keras.io/api/layers/initializers/\n",
        "- https://www.tensorflow.org/versions/r2.0/api_docs/python/tf/keras/initializers"
      ]
    },
    {
      "cell_type": "code",
      "metadata": {
        "colab": {
          "base_uri": "https://localhost:8080/"
        },
        "id": "N_aMpl3q7fbP",
        "outputId": "a7db5252-7181-4afa-91f6-0038d333d09b"
      },
      "source": [
        "# Slightly different method for more flexibility \n",
        "\n",
        "model = Sequential([\n",
        "  Conv2D(16 , 3 , kernel_initializer='random_uniform' , \n",
        "         bias_initializer = 'zeros' , activation = 'relu' \n",
        "         , input_shape = (224 ,224 , 3)), \n",
        "  MaxPooling2D(3) , \n",
        "  Flatten(), \n",
        "  Dense(64, kernel_initializer= 'he_uniform' , bias_initializer='ones' , \n",
        "        activation = 'relu'), \n",
        "  Dense(64 , kernel_initializer= tf.keras.initializers.TruncatedNormal(mean = 0.0 , stddev= 0.05) , \n",
        "        bias_initializer = tf.keras.initializers.Zeros() , \n",
        "        activation = 'relu') , \n",
        "        Dense(8 , kernel_initializer= tf.keras.initializers.Orthogonal(gain = 1.0 , seed = None) , \n",
        "              bias_initializer = tf.keras.initializers.Constant(value = 0.4) , \n",
        "              activation = 'relu')\n",
        "  \n",
        "])\n",
        "\n",
        "# Getting the summary of the model \n",
        "model.summary()"
      ],
      "execution_count": 9,
      "outputs": [
        {
          "output_type": "stream",
          "text": [
            "Model: \"sequential_4\"\n",
            "_________________________________________________________________\n",
            "Layer (type)                 Output Shape              Param #   \n",
            "=================================================================\n",
            "conv2d_4 (Conv2D)            (None, 222, 222, 16)      448       \n",
            "_________________________________________________________________\n",
            "max_pooling2d_3 (MaxPooling2 (None, 74, 74, 16)        0         \n",
            "_________________________________________________________________\n",
            "flatten_4 (Flatten)          (None, 87616)             0         \n",
            "_________________________________________________________________\n",
            "dense_8 (Dense)              (None, 64)                5607488   \n",
            "_________________________________________________________________\n",
            "dense_9 (Dense)              (None, 64)                4160      \n",
            "_________________________________________________________________\n",
            "dense_10 (Dense)             (None, 8)                 520       \n",
            "=================================================================\n",
            "Total params: 5,612,616\n",
            "Trainable params: 5,612,616\n",
            "Non-trainable params: 0\n",
            "_________________________________________________________________\n"
          ],
          "name": "stdout"
        }
      ]
    },
    {
      "cell_type": "markdown",
      "metadata": {
        "id": "8fyiZMLQ8zi8"
      },
      "source": [
        "#### Custom weight and bias initializers \n",
        "\n",
        "It's also possible to define your own weight and bias initializers. \n",
        "\n",
        "But the initializers must take in two arguments, \n",
        "- the `shape` of the tensor to be initialized. \n",
        "- the `dtype`."
      ]
    },
    {
      "cell_type": "code",
      "metadata": {
        "id": "QH_sCgkw9P7X"
      },
      "source": [
        "import tensorflow.keras.backend as K "
      ],
      "execution_count": 10,
      "outputs": []
    },
    {
      "cell_type": "code",
      "metadata": {
        "colab": {
          "base_uri": "https://localhost:8080/"
        },
        "id": "WO0SJwHj9cDE",
        "outputId": "2169ae85-8abd-47f8-9406-1653e2b35810"
      },
      "source": [
        "# Define a custom initializer \n",
        "\n",
        "def my_init(shape , dtype = None):\n",
        "  return K.random_normal(shape , dtype = dtype)\n",
        "\n",
        "# Checking how our initializer works\n",
        "model = Sequential([\n",
        "  Flatten(input_shape = (28 , 28) ) , \n",
        "  Dense(64 , kernel_initializer= my_init)\n",
        "])\n",
        "\n",
        "# Summary of the model \n",
        "model.summary()"
      ],
      "execution_count": 11,
      "outputs": [
        {
          "output_type": "stream",
          "text": [
            "Model: \"sequential_5\"\n",
            "_________________________________________________________________\n",
            "Layer (type)                 Output Shape              Param #   \n",
            "=================================================================\n",
            "flatten_5 (Flatten)          (None, 784)               0         \n",
            "_________________________________________________________________\n",
            "dense_11 (Dense)             (None, 64)                50240     \n",
            "=================================================================\n",
            "Total params: 50,240\n",
            "Trainable params: 50,240\n",
            "Non-trainable params: 0\n",
            "_________________________________________________________________\n"
          ],
          "name": "stdout"
        }
      ]
    },
    {
      "cell_type": "code",
      "metadata": {
        "colab": {
          "base_uri": "https://localhost:8080/"
        },
        "id": "Ze9cDgbT94Ee",
        "outputId": "456c1a90-6132-489c-a695-d50b673d1f4e"
      },
      "source": [
        "model.weights[:10]"
      ],
      "execution_count": 12,
      "outputs": [
        {
          "output_type": "execute_result",
          "data": {
            "text/plain": [
              "[<tf.Variable 'dense_11/kernel:0' shape=(784, 64) dtype=float32, numpy=\n",
              " array([[ 1.500213  ,  1.1346418 ,  0.10545535, ...,  0.10540758,\n",
              "          0.11533674, -1.9752905 ],\n",
              "        [-1.6522237 , -0.3103279 , -2.2584739 , ...,  0.61326873,\n",
              "          0.45249227, -0.45374393],\n",
              "        [-1.8552982 ,  0.58084553, -0.585883  , ...,  0.5207689 ,\n",
              "          0.35898057,  1.6316472 ],\n",
              "        ...,\n",
              "        [ 0.25915584,  0.10628422,  1.2008153 , ...,  2.3873706 ,\n",
              "         -0.3310704 ,  1.320011  ],\n",
              "        [-1.4012593 ,  0.58512574,  1.2481849 , ..., -0.2604794 ,\n",
              "         -0.74825394,  0.5952679 ],\n",
              "        [-0.48689404, -0.3252199 , -0.06009065, ..., -0.16006908,\n",
              "          1.7024039 ,  2.7214754 ]], dtype=float32)>,\n",
              " <tf.Variable 'dense_11/bias:0' shape=(64,) dtype=float32, numpy=\n",
              " array([0., 0., 0., 0., 0., 0., 0., 0., 0., 0., 0., 0., 0., 0., 0., 0., 0.,\n",
              "        0., 0., 0., 0., 0., 0., 0., 0., 0., 0., 0., 0., 0., 0., 0., 0., 0.,\n",
              "        0., 0., 0., 0., 0., 0., 0., 0., 0., 0., 0., 0., 0., 0., 0., 0., 0.,\n",
              "        0., 0., 0., 0., 0., 0., 0., 0., 0., 0., 0., 0., 0.], dtype=float32)>]"
            ]
          },
          "metadata": {
            "tags": []
          },
          "execution_count": 12
        }
      ]
    },
    {
      "cell_type": "markdown",
      "metadata": {
        "id": "24CC0J2K-WCi"
      },
      "source": [
        "We can even visualize the initialized weights and biases to see the effect of them."
      ]
    },
    {
      "cell_type": "code",
      "metadata": {
        "colab": {
          "base_uri": "https://localhost:8080/"
        },
        "id": "0Qpr3F8P-bMy",
        "outputId": "67d1cd2a-df2f-49e5-ee53-08e2b280da64"
      },
      "source": [
        "# Filter our the pooling and flatten layers, because they don't have any weights\n",
        "weight_layers = [layer for layer in model.layers if len(layer.weights) > 0]\n",
        "\n",
        "weight_layers"
      ],
      "execution_count": 13,
      "outputs": [
        {
          "output_type": "execute_result",
          "data": {
            "text/plain": [
              "[<tensorflow.python.keras.layers.core.Dense at 0x7f5e85be9310>]"
            ]
          },
          "metadata": {
            "tags": []
          },
          "execution_count": 13
        }
      ]
    },
    {
      "cell_type": "code",
      "metadata": {
        "colab": {
          "base_uri": "https://localhost:8080/",
          "height": 807
        },
        "id": "QGbBGPuk_HDJ",
        "outputId": "692c8bb0-a299-49ae-b6fb-f767dd007435"
      },
      "source": [
        "# Plot histograms of weight and bias values \n",
        "\n",
        "fig , axes = plt.subplots(5 , 2 , figsize = (12 , 16))\n",
        "fig.subplots_adjust(hspace= 0.5 , wspace = 0.5)\n",
        "\n",
        "for i , layer in enumerate(weight_layers):\n",
        "  for j in [0 , 1]:\n",
        "    axes[i , j].hist(layer.weights[j].numpy().flatten() , align = 'left')\n",
        "    axes[i , j].set_title(layer.weights[j].name)"
      ],
      "execution_count": 14,
      "outputs": [
        {
          "output_type": "display_data",
          "data": {
            "image/png": "[encoded data removed]",
            "text/plain": [
              "<Figure size 864x1152 with 10 Axes>"
            ]
          },
          "metadata": {
            "tags": [],
            "needs_background": "light"
          }
        }
      ]
    },
    {
      "cell_type": "markdown",
      "metadata": {
        "id": "H4eVBgot_iKr"
      },
      "source": [
        "### Compiling our model \n",
        "We saw how to build a model but to start training the model on our data we need to specify: \n",
        "- loss function \n",
        "- optimization function \n",
        "- a metric \n",
        "\n",
        "To do this we use `compile` to specify all the above 3 things in order to get our model ready for training.  "
      ]
    },
    {
      "cell_type": "code",
      "metadata": {
        "id": "IQXIxqzj-uHQ"
      },
      "source": [
        "# Let's build a simple binary classification model \n",
        "\n",
        "model = Sequential([\n",
        "  Dense(64 , activation= 'elu' , input_shape = (32,)) , \n",
        "  Dense(1 , activation = 'sigmoid')\n",
        "])\n",
        "\n",
        "# Now our important step is to compile our model \n",
        "model.compile(loss = tf.keras.losses.BinaryCrossentropy(from_logits= True) , \n",
        "              optimizer = tf.keras.optimizers.SGD(learning_rate= 0.001 , momentum= 0.9 , \n",
        "                                                  nesterov = True) , \n",
        "              metrics = [tf.keras.metrics.BinaryAccuracy(threshold= 0.7) , \n",
        "                         tf.keras.metrics.MeanAbsoluteError()])"
      ],
      "execution_count": 15,
      "outputs": []
    },
    {
      "cell_type": "markdown",
      "metadata": {
        "id": "EKF4MdeL_4FY"
      },
      "source": [
        "Writing in a object format, it gives us more flexibility to tweak the parameter values. "
      ]
    },
    {
      "cell_type": "code",
      "metadata": {
        "colab": {
          "base_uri": "https://localhost:8080/"
        },
        "id": "hwq7k6Sr_o16",
        "outputId": "6aea9def-d232-4bdf-8124-d20b3eb0af54"
      },
      "source": [
        "# Getting the summary of our model \n",
        "model.summary()"
      ],
      "execution_count": 16,
      "outputs": [
        {
          "output_type": "stream",
          "text": [
            "Model: \"sequential_6\"\n",
            "_________________________________________________________________\n",
            "Layer (type)                 Output Shape              Param #   \n",
            "=================================================================\n",
            "dense_12 (Dense)             (None, 64)                2112      \n",
            "_________________________________________________________________\n",
            "dense_13 (Dense)             (None, 1)                 65        \n",
            "=================================================================\n",
            "Total params: 2,177\n",
            "Trainable params: 2,177\n",
            "Non-trainable params: 0\n",
            "_________________________________________________________________\n"
          ],
          "name": "stdout"
        }
      ]
    },
    {
      "cell_type": "code",
      "metadata": {
        "colab": {
          "base_uri": "https://localhost:8080/"
        },
        "id": "UoJRH9n0_uY-",
        "outputId": "3df82644-5de5-4ce7-d0f3-3f1471e42456"
      },
      "source": [
        "# What's stored in the model \n",
        "print(model.optimizer)\n",
        "print(model.loss)\n",
        "print(model.metrics)"
      ],
      "execution_count": 17,
      "outputs": [
        {
          "output_type": "stream",
          "text": [
            "<tensorflow.python.keras.optimizer_v2.gradient_descent.SGD object at 0x7f5e7b30f910>\n",
            "<tensorflow.python.keras.losses.BinaryCrossentropy object at 0x7f5e7b0ddf50>\n",
            "[]\n"
          ],
          "name": "stdout"
        }
      ]
    },
    {
      "cell_type": "code",
      "metadata": {
        "colab": {
          "base_uri": "https://localhost:8080/"
        },
        "id": "HN5gbYsrB-G2",
        "outputId": "25838a16-fd1d-4979-8e42-4f245d7ed7c0"
      },
      "source": [
        "# Printing the learning rate of the optimizer \n",
        "model.optimizer.lr"
      ],
      "execution_count": 18,
      "outputs": [
        {
          "output_type": "execute_result",
          "data": {
            "text/plain": [
              "<tf.Variable 'learning_rate:0' shape=() dtype=float32, numpy=0.001>"
            ]
          },
          "metadata": {
            "tags": []
          },
          "execution_count": 18
        }
      ]
    },
    {
      "cell_type": "markdown",
      "metadata": {
        "id": "iLazwVO0CYlG"
      },
      "source": [
        "#### **Metrics in Keras**\n",
        " \n",
        "We will explore the different metrics in keras. \n",
        "\n",
        "One of the most common metrics used for classification problem in Keras is `accuracy`. "
      ]
    },
    {
      "cell_type": "code",
      "metadata": {
        "id": "kYZ2uFf0CxhS"
      },
      "source": [
        "# Compile the model \n",
        "model.compile(loss = 'sparse_categorical_crossentropy' , \n",
        "              optimizer = 'Adam' , \n",
        "              metrics = ['accuracy'])"
      ],
      "execution_count": 19,
      "outputs": []
    },
    {
      "cell_type": "markdown",
      "metadata": {
        "id": "wfuAlQL2DGOD"
      },
      "source": [
        "We now have a model that uses accuracy as a metric to judge the performance. \n",
        "\n",
        "But how is this metric actually calculated? We can break this in two cases. \n",
        "\n",
        "**Case 1 - Binary Classification with sigmoid activation function**\n",
        "\n",
        "We are training a model for binary classification problem with a sigmoid activation function in the output layer (Cat or Dog). \n",
        "\n",
        "- Given the input, the model will output a float between 0 and 1. \n",
        "- Based on whether the float is less than or greater than the `threshold` of the accuracy (default it's 0.5). \n",
        "- We round the float to get the predicted classification from the model (`y_pred`).\n",
        "\n",
        "This accuracy metric compares, \n",
        "- the value `y_pred` on each training examples. \n",
        "- with the true output `y_true` will be an one hot encoded vector. \n",
        "\n",
        "Atlast the accuracy computes the mean of 𝛿(𝑦(𝑖)𝑝𝑟𝑒𝑑,𝑦(𝑖)𝑡𝑟𝑢𝑒) over all training examples.\n"
      ]
    },
    {
      "cell_type": "code",
      "metadata": {
        "colab": {
          "base_uri": "https://localhost:8080/"
        },
        "id": "AaI81olBEkf7",
        "outputId": "b5010da0-f8df-497b-e4f7-2624e85ef96e"
      },
      "source": [
        "# Let's see in code how it's implemented (Sigmoid Function)\n",
        "\n",
        "y_true = tf.constant([0.0 , 1.0 , 1.0]) # the class \n",
        "y_pred = tf.constant([0.4 , 0.8 , 0.3]) # the prediction prob of y_true \n",
        "\n",
        "# Accuracy\n",
        "accuracy = K.mean(K.equal(y_true , K.round(y_pred))) \n",
        "print(f'The overall accuracy (taking mean over all the examples): {accuracy} ')\n"
      ],
      "execution_count": 20,
      "outputs": [
        {
          "output_type": "stream",
          "text": [
            "The overall accuracy (taking mean over all the examples): 0.6666666865348816 \n"
          ],
          "name": "stdout"
        }
      ]
    },
    {
      "cell_type": "markdown",
      "metadata": {
        "id": "JL7yUpk7FUGY"
      },
      "source": [
        "**Case 2 - Categorical Classification** \n",
        "\n",
        "Imagine we want to train a model for the classification problem which has more than 1 classes (Dog breeds), we use a activation function called `softmax` in the last layer. \n",
        "\n",
        "Given the training examples X(i) the model will output a tensor of probabilities 𝑝1,𝑝2,…𝑝𝑚 according to the model that x(i) falls into each class. \n",
        "\n",
        "Here the accuracy metric works a bit differetn rather comparing to the value of y_true, \n",
        "- it determines the largest argument in the `y_pred` tensor of one sample. \n",
        "- Then compares the index to the index of the maximum value of 𝑦(𝑖)𝑡𝑟𝑢𝑒 to determine the 𝛿(𝑦(𝑖)𝑝𝑟𝑒𝑑,𝑦(𝑖)𝑡𝑟𝑢𝑒). \n",
        "- It then computes the accuracy in the same way as for binary classification case. \n",
        "\n",
        "*Note*: The accuracy of binary classificaton problems is the same, no matter if we use a sigmoid or softmax activation function to obtain the output. "
      ]
    },
    {
      "cell_type": "code",
      "metadata": {
        "colab": {
          "base_uri": "https://localhost:8080/"
        },
        "id": "LdAdCXETKLcZ",
        "outputId": "36667772-6a00-4bb2-a3f7-8202c5bc9cb5"
      },
      "source": [
        "# Binary classification with softmax \n",
        "\n",
        "y_true = tf.constant([[0.0 , 1.0] , [1.0 , 0.0] , \n",
        "                      [1.0 , 0.0] , [0.0 , 1.0]])\n",
        "\n",
        "y_pred = tf.constant([[0.4 , 0.6] , [0.3 , 0.7] , \n",
        "                      [0.05 , 0.95] , [0.33 , 0.67]])\n",
        "\n",
        "accuracy = K.mean(K.equal(y_true , K.round(y_pred)))\n",
        "accuracy"
      ],
      "execution_count": 21,
      "outputs": [
        {
          "output_type": "execute_result",
          "data": {
            "text/plain": [
              "<tf.Tensor: shape=(), dtype=float32, numpy=0.5>"
            ]
          },
          "metadata": {
            "tags": []
          },
          "execution_count": 21
        }
      ]
    },
    {
      "cell_type": "code",
      "metadata": {
        "colab": {
          "base_uri": "https://localhost:8080/"
        },
        "id": "2uevaddKLVm4",
        "outputId": "5c3ecf29-0be4-4a4f-bafa-e85ce01170a0"
      },
      "source": [
        "# Categorical classification when m > 2 (num_classes > 2)\n",
        "\n",
        "y_true = tf.constant([[0.0,1.0,0.0,0.0],[1.0,0.0,0.0,0.0],[0.0,0.0,1.0,0.0]])\n",
        "y_pred = tf.constant([[0.4,0.6,0.0,0.0], [0.3,0.2,0.1,0.4], [0.05,0.35,0.5,0.1]])\n",
        "\n",
        "# We need to find the maximum index (argmax)\n",
        "accuracy = K.mean(K.equal(K.argmax(y_true , axis = -1) , K.argmax(y_pred , axis = -1)))\n",
        "accuracy"
      ],
      "execution_count": 22,
      "outputs": [
        {
          "output_type": "execute_result",
          "data": {
            "text/plain": [
              "<tf.Tensor: shape=(), dtype=float32, numpy=0.6666667>"
            ]
          },
          "metadata": {
            "tags": []
          },
          "execution_count": 22
        }
      ]
    },
    {
      "cell_type": "markdown",
      "metadata": {
        "id": "xF7ySDKvMDdN"
      },
      "source": [
        "Let's compile our model with different accuracy."
      ]
    },
    {
      "cell_type": "code",
      "metadata": {
        "id": "VfpU9twLMQKi"
      },
      "source": [
        "# Compile the model with different accuracy \n",
        "\n",
        "# Binary Accuracy \n",
        "model.compile(optimizer = 'Adam' , \n",
        "              loss = 'sparse_categorical_crossentropy' , \n",
        "              metrics = [tf.keras.metrics.BinaryAccuracy(threshold = 0.5)])\n"
      ],
      "execution_count": 23,
      "outputs": []
    },
    {
      "cell_type": "markdown",
      "metadata": {
        "id": "gs9qStsvM42T"
      },
      "source": [
        "**Sparse Categorical Accuracy** \n",
        "\n",
        "Very similar metric to categorical accuracy with one major difference. \n",
        "\n",
        "That is the label `y_true` of each training examples is not expected to be a one hot encoded vector. \n",
        "\n",
        "But to be tensor consisting of single integer. This index is compared to the index of the maximum argument `y_pred`. "
      ]
    },
    {
      "cell_type": "code",
      "metadata": {
        "id": "fBFbuc1GNC2x"
      },
      "source": [
        "# Using Sparse Categorical Accuracy \n",
        "\n",
        "model.compile(loss = 'sparse_categorical_crossentropy' , \n",
        "              optimizer ='adam' , \n",
        "              metrics = [tf.keras.metrics.SparseCategoricalAccuracy()])"
      ],
      "execution_count": 24,
      "outputs": []
    },
    {
      "cell_type": "markdown",
      "metadata": {
        "id": "jVvxs4ANNi7u"
      },
      "source": [
        "**(Sparse) Top k - categorical accuracy**\n",
        "\n",
        "In top k-categorical accuracy, \n",
        "- Instead of computing how often the mdoel correctly predicts the label of a training example. \n",
        "- Here the metric computes how often the model has `y_true` in the top-k of if it's prediction. By default **k = 5**\n",
        "\n",
        "There is two version of it: \n",
        "- `tf.keras.metrics.SparseTopKCategoricalAccuracy()`\n",
        "- `tf.keras.metrics.TopKCategoricalAccuracy()`"
      ]
    },
    {
      "cell_type": "code",
      "metadata": {
        "id": "T8TbxRsqPJy2"
      },
      "source": [
        "# Sparse Categorical \n",
        "def sparse_categorical_accuracy(y_true, y_pred ):\n",
        "    return K.cast( K.equal(K.max(y_true, axis=-1),\n",
        "                          K.cast(K.argmax(y_pred, axis=-1), K.floatx()) ),\n",
        "                  K.floatx())"
      ],
      "execution_count": 25,
      "outputs": []
    },
    {
      "cell_type": "code",
      "metadata": {
        "id": "lAKUZn2aQ8_2"
      },
      "source": [
        "# Top k categorical\n",
        "def top_k_categorical_accuracy(y_true, y_pred, k=5):\n",
        "    return K.mean(K.in_top_k(y_pred, K.argmax(y_true, axis=-1), k), axis=-1)"
      ],
      "execution_count": 26,
      "outputs": []
    },
    {
      "cell_type": "code",
      "metadata": {
        "id": "TeYkzL_lP4de"
      },
      "source": [
        "# For the Sparse one \n",
        "\n",
        "def sparse_top_k_categorical_accuracy(y_true , y_pred , k= 5):\n",
        "  return K.mean(K.in_top_k(y_pred , K.cast(K.max(y_true , axis = -1), \n",
        "                                           'int32') , k) , axis = 1)"
      ],
      "execution_count": 27,
      "outputs": []
    },
    {
      "cell_type": "markdown",
      "metadata": {
        "id": "KyveNZz1RD39"
      },
      "source": [
        "Things to refer: \n",
        "- https://keras.io/metrics/\n",
        "- https://github.com/keras-team/keras/blob/master/keras/metrics.py"
      ]
    },
    {
      "cell_type": "markdown",
      "metadata": {
        "id": "di7hAxhYRKBS"
      },
      "source": [
        "### The Fit method "
      ]
    },
    {
      "cell_type": "code",
      "metadata": {
        "id": "DLl4ck4rRgOl"
      },
      "source": [
        "# Let's build a model and fit it. \n",
        "model = Sequential([\n",
        "  Dense(64 , activation= 'elu' , input_shape = (32 ,)), \n",
        "  Dense(100 , activation= 'softmax')\n",
        "])\n",
        "\n",
        "# Compile the model \n",
        "model.compile(loss = 'categorical_crossentropy' , \n",
        "              optimizer = 'rmsprop' , \n",
        "              metrics = ['accuracy'])\n",
        "\n",
        "# Fitting the model \n",
        "# model.fit(X_train , y_train)\n",
        "\n",
        "# X_train (num_samples , num_features)\n",
        "# y_train (num_samples , num_classes)"
      ],
      "execution_count": 28,
      "outputs": []
    },
    {
      "cell_type": "code",
      "metadata": {
        "id": "TIrrnnywSS8p"
      },
      "source": [
        "# Let's build a model and fit it. \n",
        "model = Sequential([\n",
        "  Dense(64 , activation= 'elu' , input_shape = (32 ,)), \n",
        "  Dense(100 , activation= 'softmax')\n",
        "])\n",
        "\n",
        "# Compile the model \n",
        "model.compile(loss = 'sparse_categorical_crossentropy' , \n",
        "              optimizer = 'rmsprop' , \n",
        "              metrics = ['accuracy'])\n",
        "\n",
        "# Fitting the model \n",
        "# history = model.fit(X_train , y_train , epochs = 10)\n",
        "\n",
        "# X_train (num_samples , num_features)\n",
        "# y_train (num_samples , ) # one dimensional array with lenght == num_samples\n",
        "\n"
      ],
      "execution_count": 29,
      "outputs": []
    },
    {
      "cell_type": "markdown",
      "metadata": {
        "id": "LqHSsUavSlUh"
      },
      "source": [
        "`history` --> TensorFlow history object which contains the record and progress of the model training. In terms of loss , metrics , epochs and whatever we pass in.\n",
        "\n",
        "It's time to work on a real data! "
      ]
    },
    {
      "cell_type": "code",
      "metadata": {
        "colab": {
          "base_uri": "https://localhost:8080/"
        },
        "id": "o-T4Q4b6SlYw",
        "outputId": "85e206cc-41f5-4c01-90c0-fda0bef23f8d"
      },
      "source": [
        "# Load the Fashion-MNIST dataset \n",
        "\n",
        "fashion_mnist_data = tf.keras.datasets.fashion_mnist\n",
        "\n",
        "# Splitting into sets \n",
        "(train_images , train_labels) , (test_images , test_labels) = fashion_mnist_data.load_data()\n",
        "\n",
        "\n",
        "# Checkin the shapes \n",
        "train_images.shape , train_labels.shape , test_images.shape , test_labels.shape"
      ],
      "execution_count": 30,
      "outputs": [
        {
          "output_type": "stream",
          "text": [
            "Downloading data from https://storage.googleapis.com/tensorflow/tf-keras-datasets/train-labels-idx1-ubyte.gz\n",
            "32768/29515 [=================================] - 0s 0us/step\n",
            "Downloading data from https://storage.googleapis.com/tensorflow/tf-keras-datasets/train-images-idx3-ubyte.gz\n",
            "26427392/26421880 [==============================] - 1s 0us/step\n",
            "Downloading data from https://storage.googleapis.com/tensorflow/tf-keras-datasets/t10k-labels-idx1-ubyte.gz\n",
            "8192/5148 [===============================================] - 0s 0us/step\n",
            "Downloading data from https://storage.googleapis.com/tensorflow/tf-keras-datasets/t10k-images-idx3-ubyte.gz\n",
            "4423680/4422102 [==============================] - 0s 0us/step\n"
          ],
          "name": "stdout"
        },
        {
          "output_type": "execute_result",
          "data": {
            "text/plain": [
              "((60000, 28, 28), (60000,), (10000, 28, 28), (10000,))"
            ]
          },
          "metadata": {
            "tags": []
          },
          "execution_count": 30
        }
      ]
    },
    {
      "cell_type": "code",
      "metadata": {
        "colab": {
          "base_uri": "https://localhost:8080/"
        },
        "id": "XHvg6yQJSliU",
        "outputId": "380ccaae-9bdb-4331-850b-5b05c4310371"
      },
      "source": [
        "# Building a Convolutional model \n",
        "\n",
        "model = Sequential([\n",
        "  Conv2D(16 , 3 , activation= 'relu' , input_shape = (28 , 28 , 1)), \n",
        "  MaxPooling2D(3) , \n",
        "  Flatten() , \n",
        "  Dense(10 , activation= 'softmax')\n",
        "])\n",
        "\n",
        "# Model summary \n",
        "model.summary()"
      ],
      "execution_count": 31,
      "outputs": [
        {
          "output_type": "stream",
          "text": [
            "Model: \"sequential_9\"\n",
            "_________________________________________________________________\n",
            "Layer (type)                 Output Shape              Param #   \n",
            "=================================================================\n",
            "conv2d_5 (Conv2D)            (None, 26, 26, 16)        160       \n",
            "_________________________________________________________________\n",
            "max_pooling2d_4 (MaxPooling2 (None, 8, 8, 16)          0         \n",
            "_________________________________________________________________\n",
            "flatten_6 (Flatten)          (None, 1024)              0         \n",
            "_________________________________________________________________\n",
            "dense_18 (Dense)             (None, 10)                10250     \n",
            "=================================================================\n",
            "Total params: 10,410\n",
            "Trainable params: 10,410\n",
            "Non-trainable params: 0\n",
            "_________________________________________________________________\n"
          ],
          "name": "stdout"
        }
      ]
    },
    {
      "cell_type": "code",
      "metadata": {
        "id": "JHQ7P1otq8f6"
      },
      "source": [
        "# Compiling the model \n",
        "acc = tf.keras.metrics.SparseCategoricalAccuracy()\n",
        "mae = tf.keras.metrics.MeanAbsoluteError()\n",
        "\n",
        "\n",
        "model.compile(loss = tf.keras.losses.SparseCategoricalCrossentropy() , \n",
        "              optimizer = tf.keras.optimizers.Adam(learning_rate= 0.005) , \n",
        "              metrics = [acc , mae] )"
      ],
      "execution_count": 32,
      "outputs": []
    },
    {
      "cell_type": "code",
      "metadata": {
        "colab": {
          "base_uri": "https://localhost:8080/"
        },
        "id": "hkkgx39FrON6",
        "outputId": "cadd084a-b27c-40ea-b2ed-11723e0580d0"
      },
      "source": [
        "# Model Attributes \n",
        "print(model.loss)\n",
        "print(model.optimizer)\n",
        "print(model.metrics)\n",
        "print(model.optimizer.lr)"
      ],
      "execution_count": 33,
      "outputs": [
        {
          "output_type": "stream",
          "text": [
            "<tensorflow.python.keras.losses.SparseCategoricalCrossentropy object at 0x7f5e7aaa3cd0>\n",
            "<tensorflow.python.keras.optimizer_v2.adam.Adam object at 0x7f5e7b378150>\n",
            "[]\n",
            "<tf.Variable 'learning_rate:0' shape=() dtype=float32, numpy=0.005>\n"
          ],
          "name": "stdout"
        }
      ]
    },
    {
      "cell_type": "code",
      "metadata": {
        "id": "qAes7uNHrXq0"
      },
      "source": [
        "# Labels for our data \n",
        "\n",
        "labels = [\n",
        "    'T-shirt/top',\n",
        "    'Trouser',\n",
        "    'Pullover',\n",
        "    'Dress',\n",
        "    'Coat',\n",
        "    'Sandal',\n",
        "    'Shirt',\n",
        "    'Sneaker',\n",
        "    'Bag',\n",
        "    'Ankle boot'\n",
        "]"
      ],
      "execution_count": 34,
      "outputs": []
    },
    {
      "cell_type": "code",
      "metadata": {
        "id": "Ae6blLDIr0hc"
      },
      "source": [
        "# Rescaling the values betwene 0 - 1 \n",
        "train_images = train_images / 255.\n",
        "test_images = test_images / 255. "
      ],
      "execution_count": 35,
      "outputs": []
    },
    {
      "cell_type": "code",
      "metadata": {
        "colab": {
          "base_uri": "https://localhost:8080/",
          "height": 282
        },
        "id": "eomNXzbDsIeE",
        "outputId": "df33e436-80a0-4f95-dacb-f49be765229b"
      },
      "source": [
        "# Display one of the images \n",
        "i = 8899\n",
        "img = train_images[i , : , :]\n",
        "plt.imshow(img)\n",
        "print(f'The labels of the image is: {labels[train_labels[i]]}')"
      ],
      "execution_count": 36,
      "outputs": [
        {
          "output_type": "stream",
          "text": [
            "The labels of the image is: Trouser\n"
          ],
          "name": "stdout"
        },
        {
          "output_type": "display_data",
          "data": {
            "image/png": "[encoded data removed]",
            "text/plain": [
              "<Figure size 432x288 with 1 Axes>"
            ]
          },
          "metadata": {
            "tags": [],
            "needs_background": "light"
          }
        }
      ]
    },
    {
      "cell_type": "code",
      "metadata": {
        "colab": {
          "base_uri": "https://localhost:8080/"
        },
        "id": "koxRAbZ9s8hW",
        "outputId": "3749a5ca-dff5-455a-9935-528865aa0632"
      },
      "source": [
        "tf.rank(train_images), tf.rank(train_images[... , np.newaxis])"
      ],
      "execution_count": 37,
      "outputs": [
        {
          "output_type": "execute_result",
          "data": {
            "text/plain": [
              "(<tf.Tensor: shape=(), dtype=int32, numpy=3>,\n",
              " <tf.Tensor: shape=(), dtype=int32, numpy=4>)"
            ]
          },
          "metadata": {
            "tags": []
          },
          "execution_count": 37
        }
      ]
    },
    {
      "cell_type": "code",
      "metadata": {
        "colab": {
          "base_uri": "https://localhost:8080/"
        },
        "id": "n0-9wVDjtV5j",
        "outputId": "b034af29-c6bb-48a1-f1a2-1c65ab09b922"
      },
      "source": [
        "tf.rank(train_labels)"
      ],
      "execution_count": 38,
      "outputs": [
        {
          "output_type": "execute_result",
          "data": {
            "text/plain": [
              "<tf.Tensor: shape=(), dtype=int32, numpy=1>"
            ]
          },
          "metadata": {
            "tags": []
          },
          "execution_count": 38
        }
      ]
    },
    {
      "cell_type": "code",
      "metadata": {
        "id": "5wyheTgRtiKf"
      },
      "source": [
        "tf.config.run_functions_eagerly(True)\n"
      ],
      "execution_count": 39,
      "outputs": []
    },
    {
      "cell_type": "code",
      "metadata": {
        "colab": {
          "base_uri": "https://localhost:8080/"
        },
        "id": "YMUvAC_JsOiE",
        "outputId": "95bb654a-584e-4967-9623-748a0af6ae9f"
      },
      "source": [
        "# Fitting the model \n",
        "\n",
        "history = model.fit(train_images[... , np.newaxis] , train_labels , epochs = 10 , \n",
        "                    batch_size = 256)"
      ],
      "execution_count": 40,
      "outputs": [
        {
          "output_type": "stream",
          "text": [
            "/usr/local/lib/python3.7/dist-packages/tensorflow/python/data/ops/dataset_ops.py:3504: UserWarning: Even though the tf.config.experimental_run_functions_eagerly option is set, this option does not apply to tf.data functions. tf.data functions are still traced and executed as graphs.\n",
            "  \"Even though the tf.config.experimental_run_functions_eagerly \"\n"
          ],
          "name": "stderr"
        },
        {
          "output_type": "stream",
          "text": [
            "Epoch 1/10\n",
            "235/235 [==============================] - 19s 82ms/step - loss: 0.8011 - sparse_categorical_accuracy: 0.7218 - mean_absolute_error: 4.4243\n",
            "Epoch 2/10\n",
            "235/235 [==============================] - 19s 82ms/step - loss: 0.3814 - sparse_categorical_accuracy: 0.8653 - mean_absolute_error: 4.4273\n",
            "Epoch 3/10\n",
            "235/235 [==============================] - 19s 82ms/step - loss: 0.3438 - sparse_categorical_accuracy: 0.8789 - mean_absolute_error: 4.4464\n",
            "Epoch 4/10\n",
            "235/235 [==============================] - 19s 82ms/step - loss: 0.3135 - sparse_categorical_accuracy: 0.8893 - mean_absolute_error: 4.4356\n",
            "Epoch 5/10\n",
            "235/235 [==============================] - 19s 82ms/step - loss: 0.3077 - sparse_categorical_accuracy: 0.8886 - mean_absolute_error: 4.4368\n",
            "Epoch 6/10\n",
            "235/235 [==============================] - 19s 82ms/step - loss: 0.2993 - sparse_categorical_accuracy: 0.8932 - mean_absolute_error: 4.4042\n",
            "Epoch 7/10\n",
            "235/235 [==============================] - 19s 82ms/step - loss: 0.2867 - sparse_categorical_accuracy: 0.8960 - mean_absolute_error: 4.4217\n",
            "Epoch 8/10\n",
            "235/235 [==============================] - 19s 82ms/step - loss: 0.2820 - sparse_categorical_accuracy: 0.8970 - mean_absolute_error: 4.3909\n",
            "Epoch 9/10\n",
            "235/235 [==============================] - 19s 82ms/step - loss: 0.2768 - sparse_categorical_accuracy: 0.9001 - mean_absolute_error: 4.4223\n",
            "Epoch 10/10\n",
            "235/235 [==============================] - 19s 81ms/step - loss: 0.2677 - sparse_categorical_accuracy: 0.9015 - mean_absolute_error: 4.4191\n"
          ],
          "name": "stdout"
        }
      ]
    },
    {
      "cell_type": "code",
      "metadata": {
        "colab": {
          "base_uri": "https://localhost:8080/",
          "height": 204
        },
        "id": "snR5F481srdQ",
        "outputId": "d55afd93-a4dd-4a21-ef22-0e33ec24faed"
      },
      "source": [
        "# Our history dataframe \n",
        "\n",
        "import pandas as pd \n",
        "df = pd.DataFrame(history.history)\n",
        "df.head()"
      ],
      "execution_count": 41,
      "outputs": [
        {
          "output_type": "execute_result",
          "data": {
            "text/html": [
              "<div>\n",
              "<style scoped>\n",
              "    .dataframe tbody tr th:only-of-type {\n",
              "        vertical-align: middle;\n",
              "    }\n",
              "\n",
              "    .dataframe tbody tr th {\n",
              "        vertical-align: top;\n",
              "    }\n",
              "\n",
              "    .dataframe thead th {\n",
              "        text-align: right;\n",
              "    }\n",
              "</style>\n",
              "<table border=\"1\" class=\"dataframe\">\n",
              "  <thead>\n",
              "    <tr style=\"text-align: right;\">\n",
              "      <th></th>\n",
              "      <th>loss</th>\n",
              "      <th>sparse_categorical_accuracy</th>\n",
              "      <th>mean_absolute_error</th>\n",
              "    </tr>\n",
              "  </thead>\n",
              "  <tbody>\n",
              "    <tr>\n",
              "      <th>0</th>\n",
              "      <td>0.549544</td>\n",
              "      <td>0.807683</td>\n",
              "      <td>4.420001</td>\n",
              "    </tr>\n",
              "    <tr>\n",
              "      <th>1</th>\n",
              "      <td>0.369001</td>\n",
              "      <td>0.869733</td>\n",
              "      <td>4.420001</td>\n",
              "    </tr>\n",
              "    <tr>\n",
              "      <th>2</th>\n",
              "      <td>0.337771</td>\n",
              "      <td>0.880667</td>\n",
              "      <td>4.420001</td>\n",
              "    </tr>\n",
              "    <tr>\n",
              "      <th>3</th>\n",
              "      <td>0.315880</td>\n",
              "      <td>0.888167</td>\n",
              "      <td>4.420000</td>\n",
              "    </tr>\n",
              "    <tr>\n",
              "      <th>4</th>\n",
              "      <td>0.305842</td>\n",
              "      <td>0.890500</td>\n",
              "      <td>4.419999</td>\n",
              "    </tr>\n",
              "  </tbody>\n",
              "</table>\n",
              "</div>"
            ],
            "text/plain": [
              "       loss  sparse_categorical_accuracy  mean_absolute_error\n",
              "0  0.549544                     0.807683             4.420001\n",
              "1  0.369001                     0.869733             4.420001\n",
              "2  0.337771                     0.880667             4.420001\n",
              "3  0.315880                     0.888167             4.420000\n",
              "4  0.305842                     0.890500             4.419999"
            ]
          },
          "metadata": {
            "tags": []
          },
          "execution_count": 41
        }
      ]
    },
    {
      "cell_type": "code",
      "metadata": {
        "colab": {
          "base_uri": "https://localhost:8080/",
          "height": 312
        },
        "id": "QtiDxDs0u3um",
        "outputId": "bda8f814-68a7-4eb1-e4e3-a7b0e7bc00ae"
      },
      "source": [
        "# Make a plot for the loss \n",
        "\n",
        "loss_plot = df.plot(y = 'loss' , title = 'Loss vs Epochs' , legend = False)\n",
        "loss_plot.set(xlabel = 'Epochs' , ylabel = 'Loss')"
      ],
      "execution_count": 42,
      "outputs": [
        {
          "output_type": "execute_result",
          "data": {
            "text/plain": [
              "[Text(0, 0.5, 'Loss'), Text(0.5, 0, 'Epochs')]"
            ]
          },
          "metadata": {
            "tags": []
          },
          "execution_count": 42
        },
        {
          "output_type": "display_data",
          "data": {
            "image/png": "[encoded data removed]",
            "text/plain": [
              "<Figure size 432x288 with 1 Axes>"
            ]
          },
          "metadata": {
            "tags": [],
            "needs_background": "light"
          }
        }
      ]
    },
    {
      "cell_type": "markdown",
      "metadata": {
        "id": "RkSiPyOsvWX6"
      },
      "source": [
        "### Evaluate and Predict methods"
      ]
    },
    {
      "cell_type": "code",
      "metadata": {
        "colab": {
          "base_uri": "https://localhost:8080/"
        },
        "id": "FYhuBR36S_ko",
        "outputId": "71a5d528-f814-4ba0-db6c-c4fd42e8a1cd"
      },
      "source": [
        "# Evaluate on the test dataset \n",
        "\n",
        "tets_loss , test_accuracy , test_mae =  model.evaluate(test_images[... , np.newaxis] , test_labels)"
      ],
      "execution_count": 43,
      "outputs": [
        {
          "output_type": "stream",
          "text": [
            "  8/313 [..............................] - ETA: 4s - loss: 0.2955 - sparse_categorical_accuracy: 0.8984 - mean_absolute_error: 4.1930"
          ],
          "name": "stdout"
        },
        {
          "output_type": "stream",
          "text": [
            "/usr/local/lib/python3.7/dist-packages/tensorflow/python/data/ops/dataset_ops.py:3504: UserWarning: Even though the tf.config.experimental_run_functions_eagerly option is set, this option does not apply to tf.data functions. tf.data functions are still traced and executed as graphs.\n",
            "  \"Even though the tf.config.experimental_run_functions_eagerly \"\n"
          ],
          "name": "stderr"
        },
        {
          "output_type": "stream",
          "text": [
            "313/313 [==============================] - 5s 14ms/step - loss: 0.3091 - sparse_categorical_accuracy: 0.8899 - mean_absolute_error: 4.4200\n"
          ],
          "name": "stdout"
        }
      ]
    },
    {
      "cell_type": "code",
      "metadata": {
        "colab": {
          "base_uri": "https://localhost:8080/"
        },
        "id": "PJNRNIrnWh1c",
        "outputId": "53bc4a19-f3c1-4306-cc16-6fe3679d9785"
      },
      "source": [
        "test_images[np.newaxis,...,np.newaxis].shape"
      ],
      "execution_count": 44,
      "outputs": [
        {
          "output_type": "execute_result",
          "data": {
            "text/plain": [
              "(1, 10000, 28, 28, 1)"
            ]
          },
          "metadata": {
            "tags": []
          },
          "execution_count": 44
        }
      ]
    },
    {
      "cell_type": "code",
      "metadata": {
        "colab": {
          "base_uri": "https://localhost:8080/",
          "height": 282
        },
        "id": "Sjwp40k7TPkq",
        "outputId": "0987a4e7-1b9d-4062-ab90-0d1de24b7760"
      },
      "source": [
        "# Make predictions from the model \n",
        "\n",
        "random_inx = np.random.choice(test_images.shape[0])\n",
        "\n",
        "test_image = test_images[random_inx]\n",
        "plt.imshow(test_image)\n",
        "plt.show()\n",
        "print(f'Label: {labels[test_labels[random_inx]]}')"
      ],
      "execution_count": 45,
      "outputs": [
        {
          "output_type": "display_data",
          "data": {
            "image/png": "[encoded data removed]",
            "text/plain": [
              "<Figure size 432x288 with 1 Axes>"
            ]
          },
          "metadata": {
            "tags": [],
            "needs_background": "light"
          }
        },
        {
          "output_type": "stream",
          "text": [
            "Label: Sneaker\n"
          ],
          "name": "stdout"
        }
      ]
    },
    {
      "cell_type": "code",
      "metadata": {
        "id": "LcbmcD7OWAQI"
      },
      "source": [
        ""
      ],
      "execution_count": 45,
      "outputs": []
    },
    {
      "cell_type": "markdown",
      "metadata": {
        "id": "fjaqsDDa_aKO"
      },
      "source": [
        "## Validation ,Regularizations and Callbacks \n",
        "\n"
      ]
    },
    {
      "cell_type": "markdown",
      "metadata": {
        "id": "qKmnDxAb_a-l"
      },
      "source": [
        "### Validation Sets\n",
        "Validation set is used to measure how well our models performing outside the training set."
      ]
    },
    {
      "cell_type": "code",
      "metadata": {
        "id": "uTyJKwNMmzZc"
      },
      "source": [
        ""
      ],
      "execution_count": null,
      "outputs": []
    },
    {
      "cell_type": "code",
      "metadata": {
        "id": "djQyWOEX_i7j"
      },
      "source": [
        "# Loading the data \n",
        "\n",
        "from sklearn.datasets import load_diabetes \n",
        "diabetes_dataset = load_diabetes()"
      ],
      "execution_count": 46,
      "outputs": []
    },
    {
      "cell_type": "code",
      "metadata": {
        "colab": {
          "base_uri": "https://localhost:8080/"
        },
        "id": "i__O3Wr_AXwa",
        "outputId": "0ecfe2f7-04b1-448e-a847-ef55af7241c5"
      },
      "source": [
        "# Save the input and target variab;e \n",
        "\n",
        "inputs = diabetes_dataset['data']\n",
        "targets = diabetes_dataset['target']\n",
        "\n",
        "# Checking the shape \n",
        "inputs.shape , targets.shape"
      ],
      "execution_count": 47,
      "outputs": [
        {
          "output_type": "execute_result",
          "data": {
            "text/plain": [
              "((442, 10), (442,))"
            ]
          },
          "metadata": {
            "tags": []
          },
          "execution_count": 47
        }
      ]
    },
    {
      "cell_type": "code",
      "metadata": {
        "colab": {
          "base_uri": "https://localhost:8080/"
        },
        "id": "M8iWdVrAAiFa",
        "outputId": "f5f3df41-124c-46d3-dc6c-cf4fafc966f2"
      },
      "source": [
        "# Spread of targets \n",
        "min(targets) , max(targets)"
      ],
      "execution_count": 48,
      "outputs": [
        {
          "output_type": "execute_result",
          "data": {
            "text/plain": [
              "(25.0, 346.0)"
            ]
          },
          "metadata": {
            "tags": []
          },
          "execution_count": 48
        }
      ]
    },
    {
      "cell_type": "code",
      "metadata": {
        "colab": {
          "base_uri": "https://localhost:8080/"
        },
        "id": "QaFwd2NZAvKn",
        "outputId": "d04cf81f-a990-4741-e86d-758a6d2bfaf2"
      },
      "source": [
        "# Since there is huge spread in targets,normalizing the target data (will make clearer training curve )\n",
        "\n",
        "targets = (targets - targets.mean(axis = 0)) / targets.std() \n",
        "targets"
      ],
      "execution_count": 49,
      "outputs": [
        {
          "output_type": "execute_result",
          "data": {
            "text/plain": [
              "array([-1.47194752e-02, -1.00165882e+00, -1.44579915e-01,  6.99512942e-01,\n",
              "       -2.22496178e-01, -7.15965848e-01, -1.83538046e-01, -1.15749134e+00,\n",
              "       -5.47147277e-01,  2.05006151e+00, -6.64021672e-01, -1.07957508e+00,\n",
              "        3.48889755e-01,  4.26806019e-01, -4.43258925e-01,  2.45001404e-01,\n",
              "        1.80071184e-01, -1.05621783e-01, -7.15965848e-01,  2.06043272e-01,\n",
              "       -1.09256112e+00, -1.33929596e+00, -1.09256112e+00,  1.20596866e+00,\n",
              "        4.13819975e-01,  6.47568766e-01, -1.96524090e-01, -8.71798376e-01,\n",
              "       -2.74440354e-01,  1.69943833e+00, -3.00412442e-01, -1.20943552e+00,\n",
              "        2.45262887e+00, -8.45826288e-01, -1.13151925e+00, -6.51035629e-01,\n",
              "        1.46568953e+00,  1.60853602e+00,  1.29687096e+00, -8.06868156e-01,\n",
              "       -6.77007716e-01, -1.26137969e+00, -1.18346343e+00, -7.80896068e-01,\n",
              "        1.38777327e+00, -1.28735178e+00,  4.91736239e-01, -1.31593871e-01,\n",
              "       -1.00165882e+00, -1.31593871e-01,  3.72247006e-02,  9.46247777e-01,\n",
              "       -1.20943552e+00, -6.25063541e-01,  3.87847887e-01, -3.13398486e-01,\n",
              "       -1.30033783e+00, -1.49512849e+00,  2.32015360e-01,  2.32015360e-01,\n",
              "       -1.18346343e+00, -1.05621783e-01, -1.30033783e+00, -3.13398486e-01,\n",
              "       -1.05360299e+00,  1.41113052e-01, -2.77055191e-02, -7.15965848e-01,\n",
              "        1.02154920e-01,  3.35903711e-01, -1.35228200e+00,  1.53061975e+00,\n",
              "        6.47568766e-01, -5.34161233e-01, -8.71798376e-01, -1.43019827e+00,\n",
              "        2.32015360e-01,  6.21596678e-01,  1.29687096e+00, -5.08189145e-01,\n",
              "       -1.18607827e-01, -1.31332387e+00, -1.30033783e+00,  7.51457118e-01,\n",
              "       -1.13151925e+00, -1.44579915e-01, -1.26137969e+00, -2.35482222e-01,\n",
              "       -1.43019827e+00, -5.34161233e-01, -7.02979804e-01,  1.54099096e-01,\n",
              "       -1.35228200e+00, -7.28951892e-01, -8.06868156e-01,  1.28127008e-01,\n",
              "       -2.77055191e-02,  1.64749415e+00, -7.80896068e-01, -8.97770464e-01,\n",
              "       -3.13398486e-01, -6.51035629e-01,  1.94617316e+00,  5.95624590e-01,\n",
              "       -7.41937936e-01, -1.28735178e+00, -2.35482222e-01, -1.05621783e-01,\n",
              "        1.03715008e+00, -9.23742551e-01, -6.25063541e-01, -1.20943552e+00,\n",
              "        1.21895470e+00,  1.88124294e+00,  1.37478723e+00,  9.98191953e-01,\n",
              "        1.59554997e+00,  1.67346624e+00,  3.48889755e-01,  6.21596678e-01,\n",
              "        6.21596678e-01,  2.70973492e-01,  3.61875799e-01, -8.84784420e-01,\n",
              "       -4.04300794e-01,  1.15140964e-01, -6.89993760e-01, -5.60133321e-01,\n",
              "       -4.82217057e-01,  1.50464767e+00,  1.58256393e+00,  7.61828325e-02,\n",
              "       -5.86105409e-01, -8.97770464e-01, -6.38049585e-01,  1.55659184e+00,\n",
              "       -8.71798376e-01,  1.66048019e+00,  2.38769865e+00,  1.67346624e+00,\n",
              "       -4.43258925e-01,  2.14096382e+00,  1.07610822e+00, -1.19644947e+00,\n",
              "        2.83959536e-01,  1.38777327e+00,  3.35903711e-01, -3.13398486e-01,\n",
              "       -7.28951892e-01, -3.39370574e-01,  1.76436855e+00, -8.32840244e-01,\n",
              "        1.81631272e+00, -1.05360299e+00,  5.82638546e-01,  4.39792063e-01,\n",
              "       -1.65096101e+00, -8.84784420e-01, -7.28951892e-01,  5.56666458e-01,\n",
              "       -1.28735178e+00,  8.42359425e-01,  2.57987448e-01, -2.74440354e-01,\n",
              "        8.03401293e-01, -1.20943552e+00, -1.06658903e+00,  8.81317557e-01,\n",
              "        1.50464767e+00, -1.73343121e-03, -1.36526805e+00, -1.01464486e+00,\n",
              "        1.85527085e+00, -6.64021672e-01, -1.47194752e-02, -3.26384530e-01,\n",
              "        1.10208030e+00,  9.46247777e-01, -9.23742551e-01, -1.47194752e-02,\n",
              "       -5.86105409e-01, -1.14450530e+00, -1.83538046e-01,  4.26806019e-01,\n",
              "        1.46568953e+00, -6.64021672e-01, -1.96524090e-01, -1.18607827e-01,\n",
              "       -1.44579915e-01, -9.49714639e-01,  1.81631272e+00,  3.35903711e-01,\n",
              "       -7.93882112e-01, -4.69231013e-01, -8.58812332e-01, -3.91314750e-01,\n",
              "       -1.04061695e+00, -3.00412442e-01, -1.31593871e-01, -8.06868156e-01,\n",
              "        7.61828325e-02, -1.46915640e+00,  5.69652502e-01,  9.07289645e-01,\n",
              "        1.62152206e+00, -6.89993760e-01,  5.69652502e-01,  6.47568766e-01,\n",
              "        3.72247006e-02, -9.75686727e-01,  5.04722283e-01, -1.06658903e+00,\n",
              "       -1.02763090e+00, -1.33929596e+00, -1.13151925e+00,  1.43971745e+00,\n",
              "        1.24492679e+00,  1.86825690e+00,  8.03401293e-01,  4.26806019e-01,\n",
              "       -9.62700683e-01, -7.67910024e-01,  1.29687096e+00, -2.77055191e-02,\n",
              "       -9.75686727e-01,  7.25485030e-01, -9.75686727e-01, -5.73119365e-01,\n",
              "        1.02154920e-01, -1.28735178e+00,  8.81317557e-01,  2.42386567e-02,\n",
              "        1.38777327e+00, -8.06868156e-01,  1.21895470e+00, -3.65342662e-01,\n",
              "       -1.10554717e+00, -1.04061695e+00,  1.36180118e+00,  1.42673140e+00,\n",
              "        1.59554997e+00,  3.22917667e-01, -1.05360299e+00, -1.36526805e+00,\n",
              "        4.52778107e-01, -3.52356618e-01, -9.62700683e-01, -1.31332387e+00,\n",
              "        1.37478723e+00,  8.16387337e-01,  1.95915920e+00,  1.17999657e+00,\n",
              "       -7.93882112e-01, -2.77055191e-02,  2.05006151e+00,  1.12526127e-02,\n",
              "        2.51755909e+00, -1.15749134e+00, -8.19854200e-01, -1.32630991e+00,\n",
              "       -1.46915640e+00, -6.38049585e-01,  2.02408942e+00, -4.69231013e-01,\n",
              "       -9.26357388e-02, -1.01464486e+00, -1.39124013e+00, -4.82217057e-01,\n",
              "        1.45270349e+00, -8.45826288e-01,  6.47568766e-01, -3.26384530e-01,\n",
              "        3.87847887e-01,  1.15402448e+00, -1.11853321e+00, -7.54923980e-01,\n",
              "        1.69943833e+00, -1.14450530e+00, -6.51035629e-01,  6.21596678e-01,\n",
              "        1.46568953e+00, -7.54923980e-01,  1.01117800e+00,  3.74861843e-01,\n",
              "        5.02107446e-02,  1.05013613e+00, -1.19644947e+00,  8.68331513e-01,\n",
              "       -9.36728595e-01, -1.09256112e+00,  2.33575448e+00,  1.24492679e+00,\n",
              "       -8.84784420e-01,  6.21596678e-01, -1.26137969e+00, -8.71798376e-01,\n",
              "       -8.19854200e-01, -1.57304475e+00, -3.00412442e-01, -8.97770464e-01,\n",
              "        1.59554997e+00, -1.13151925e+00,  5.95624590e-01,  1.08909426e+00,\n",
              "        1.30985701e+00, -3.65342662e-01, -1.40422618e+00,  2.57987448e-01,\n",
              "       -4.95203101e-01, -1.31593871e-01, -5.60133321e-01,  3.61875799e-01,\n",
              "       -1.05621783e-01,  1.41113052e-01, -6.66636509e-02, -7.15965848e-01,\n",
              "        8.81317557e-01,  4.91736239e-01, -5.60133321e-01,  5.04722283e-01,\n",
              "       -3.91314750e-01,  1.01117800e+00,  1.16701052e+00,  1.24492679e+00,\n",
              "        1.25791283e+00,  5.17708327e-01, -2.74440354e-01,  1.10208030e+00,\n",
              "       -9.62700683e-01, -2.22496178e-01,  1.19298261e+00,  6.08610634e-01,\n",
              "        1.53061975e+00,  1.54099096e-01, -1.04061695e+00, -7.28951892e-01,\n",
              "        1.99811734e+00, -7.93882112e-01,  8.03401293e-01, -7.41937936e-01,\n",
              "        8.29373381e-01,  1.43971745e+00,  3.35903711e-01, -5.08189145e-01,\n",
              "        6.21596678e-01, -1.70552003e-01, -1.70552003e-01, -8.32840244e-01,\n",
              "       -5.36776070e-02, -8.32840244e-01,  1.17999657e+00, -1.05360299e+00,\n",
              "       -9.75686727e-01, -5.60133321e-01,  1.55659184e+00, -1.19644947e+00,\n",
              "       -1.27436574e+00,  8.94303601e-01, -8.06868156e-01,  2.06304756e+00,\n",
              "        1.67346624e+00,  3.87847887e-01,  2.19290800e+00, -1.22242156e+00,\n",
              "        1.42673140e+00,  6.99512942e-01,  1.05013613e+00,  1.16701052e+00,\n",
              "       -3.78328706e-01,  1.93057228e-01, -1.15749134e+00,  5.82638546e-01,\n",
              "       -1.05360299e+00,  2.06043272e-01, -1.57565959e-01,  8.42359425e-01,\n",
              "       -4.04300794e-01,  1.07610822e+00,  1.20596866e+00, -1.45617035e+00,\n",
              "       -1.30033783e+00, -6.25063541e-01, -2.61454310e-01, -8.32840244e-01,\n",
              "       -1.07957508e+00,  8.68331513e-01, -1.04061695e+00,  6.34582722e-01,\n",
              "       -5.47147277e-01, -1.31332387e+00,  1.62152206e+00, -1.15749134e+00,\n",
              "       -4.43258925e-01, -1.07957508e+00,  1.56957789e+00,  1.37478723e+00,\n",
              "       -1.41721222e+00,  5.95624590e-01,  1.16701052e+00,  1.03715008e+00,\n",
              "        2.96945580e-01, -7.67910024e-01,  2.06043272e-01,  1.59554997e+00,\n",
              "        1.82929877e+00,  1.67346624e+00, -1.04061695e+00, -1.57565959e-01,\n",
              "        4.78750195e-01,  3.74861843e-01,  7.38471074e-01, -2.09510134e-01,\n",
              "        1.41374536e+00, -5.08189145e-01, -2.74440354e-01,  2.83959536e-01,\n",
              "        1.36180118e+00, -1.26137969e+00, -8.84784420e-01, -1.43019827e+00,\n",
              "       -7.96496949e-02,  7.77429206e-01,  1.05013613e+00, -7.93882112e-01,\n",
              "       -5.34161233e-01, -1.73343121e-03, -4.17286837e-01, -1.10554717e+00,\n",
              "        2.05006151e+00, -7.54923980e-01,  4.00833931e-01, -1.11853321e+00,\n",
              "        2.70973492e-01, -1.04061695e+00, -1.33929596e+00, -1.14450530e+00,\n",
              "       -1.35228200e+00,  3.35903711e-01, -6.25063541e-01, -2.61454310e-01,\n",
              "        8.81317557e-01, -1.23540761e+00])"
            ]
          },
          "metadata": {
            "tags": []
          },
          "execution_count": 49
        }
      ]
    },
    {
      "cell_type": "code",
      "metadata": {
        "colab": {
          "base_uri": "https://localhost:8080/"
        },
        "id": "F4lC91ucBDUn",
        "outputId": "78806bab-d93b-4083-d4d7-85caa04bf596"
      },
      "source": [
        "# Split the data into train and test sets\n",
        "from sklearn.model_selection import train_test_split\n",
        "train_data , test_data , train_targets , test_targets = train_test_split(inputs , targets , test_size = 0.2)\n",
        "\n",
        "train_data.shape , train_targets.shape , test_data.shape , test_targets.shape"
      ],
      "execution_count": 50,
      "outputs": [
        {
          "output_type": "execute_result",
          "data": {
            "text/plain": [
              "((353, 10), (353,), (89, 10), (89,))"
            ]
          },
          "metadata": {
            "tags": []
          },
          "execution_count": 50
        }
      ]
    },
    {
      "cell_type": "markdown",
      "metadata": {
        "id": "JZbhD27zBGWH"
      },
      "source": [
        "**Train a feeforward neural network model** \n"
      ]
    },
    {
      "cell_type": "code",
      "metadata": {
        "colab": {
          "base_uri": "https://localhost:8080/"
        },
        "id": "22kqGXthBfqQ",
        "outputId": "510b6265-f993-40e9-b7e5-91d1d5c201e5"
      },
      "source": [
        "# Importing the things we need \n",
        "from tensorflow.keras.models import Sequential\n",
        "from tensorflow.keras.layers import Dense\n",
        "\n",
        "def get_model():\n",
        "  model = Sequential([\n",
        "    Dense(128 , activation= 'relu' , input_shape = (train_data.shape[1], )),\n",
        "    Dense(128 , activation = 'relu'),\n",
        "    Dense(128 , activation= 'relu'), \n",
        "    Dense(128 , activation='relu'), \n",
        "    Dense(128 , activation='relu'), \n",
        "    Dense(128 , activation='relu'), \n",
        "    Dense(1)\n",
        "  ])\n",
        "\n",
        "  return model \n",
        "\n",
        "# Instantiating the model \n",
        "model = get_model()\n",
        "\n",
        "# SUmmary of the model \n",
        "model.summary()\n",
        "\n"
      ],
      "execution_count": 51,
      "outputs": [
        {
          "output_type": "stream",
          "text": [
            "Model: \"sequential_10\"\n",
            "_________________________________________________________________\n",
            "Layer (type)                 Output Shape              Param #   \n",
            "=================================================================\n",
            "dense_19 (Dense)             (None, 128)               1408      \n",
            "_________________________________________________________________\n",
            "dense_20 (Dense)             (None, 128)               16512     \n",
            "_________________________________________________________________\n",
            "dense_21 (Dense)             (None, 128)               16512     \n",
            "_________________________________________________________________\n",
            "dense_22 (Dense)             (None, 128)               16512     \n",
            "_________________________________________________________________\n",
            "dense_23 (Dense)             (None, 128)               16512     \n",
            "_________________________________________________________________\n",
            "dense_24 (Dense)             (None, 128)               16512     \n",
            "_________________________________________________________________\n",
            "dense_25 (Dense)             (None, 1)                 129       \n",
            "=================================================================\n",
            "Total params: 84,097\n",
            "Trainable params: 84,097\n",
            "Non-trainable params: 0\n",
            "_________________________________________________________________\n"
          ],
          "name": "stdout"
        }
      ]
    },
    {
      "cell_type": "code",
      "metadata": {
        "colab": {
          "base_uri": "https://localhost:8080/"
        },
        "id": "hvB3_ftRDGv9",
        "outputId": "8c067a8e-9a06-405a-97b8-26cdc1070cc9"
      },
      "source": [
        "train_data.shape[1]"
      ],
      "execution_count": 52,
      "outputs": [
        {
          "output_type": "execute_result",
          "data": {
            "text/plain": [
              "10"
            ]
          },
          "metadata": {
            "tags": []
          },
          "execution_count": 52
        }
      ]
    },
    {
      "cell_type": "code",
      "metadata": {
        "id": "v0KRB3DnBrhq"
      },
      "source": [
        "# Compile the model \n",
        "model.compile(optimizer= 'adam' , \n",
        "              loss = 'mse' , \n",
        "              metrics = ['mae'])"
      ],
      "execution_count": 53,
      "outputs": []
    },
    {
      "cell_type": "code",
      "metadata": {
        "colab": {
          "base_uri": "https://localhost:8080/"
        },
        "id": "HiGpuWAgBtwr",
        "outputId": "709644e4-0ec2-40e8-a9b9-6df4cdec4f81"
      },
      "source": [
        "# Train the model \n",
        "history = model.fit(train_data , train_targets , epochs = 100 , \n",
        "                    validation_split = 0.15 , batch_size = 64 , \n",
        "                    verbose = False)"
      ],
      "execution_count": 54,
      "outputs": [
        {
          "output_type": "stream",
          "text": [
            "/usr/local/lib/python3.7/dist-packages/tensorflow/python/data/ops/dataset_ops.py:3504: UserWarning: Even though the tf.config.experimental_run_functions_eagerly option is set, this option does not apply to tf.data functions. tf.data functions are still traced and executed as graphs.\n",
            "  \"Even though the tf.config.experimental_run_functions_eagerly \"\n"
          ],
          "name": "stderr"
        }
      ]
    },
    {
      "cell_type": "code",
      "metadata": {
        "colab": {
          "base_uri": "https://localhost:8080/"
        },
        "id": "944ucf89CpKS",
        "outputId": "5d79ad36-1dfb-4d66-af81-7d4019a58227"
      },
      "source": [
        "# Evaluate the model on test data \n",
        "model.evaluate(test_data , test_targets)"
      ],
      "execution_count": 55,
      "outputs": [
        {
          "output_type": "stream",
          "text": [
            "3/3 [==============================] - 0s 10ms/step - loss: 0.7886 - mae: 0.6769\n"
          ],
          "name": "stdout"
        },
        {
          "output_type": "stream",
          "text": [
            "/usr/local/lib/python3.7/dist-packages/tensorflow/python/data/ops/dataset_ops.py:3504: UserWarning: Even though the tf.config.experimental_run_functions_eagerly option is set, this option does not apply to tf.data functions. tf.data functions are still traced and executed as graphs.\n",
            "  \"Even though the tf.config.experimental_run_functions_eagerly \"\n"
          ],
          "name": "stderr"
        },
        {
          "output_type": "execute_result",
          "data": {
            "text/plain": [
              "[0.7886197566986084, 0.6769163012504578]"
            ]
          },
          "metadata": {
            "tags": []
          },
          "execution_count": 55
        }
      ]
    },
    {
      "cell_type": "code",
      "metadata": {
        "colab": {
          "base_uri": "https://localhost:8080/",
          "height": 295
        },
        "id": "4yuI9pZKD67i",
        "outputId": "50d720d6-70b3-4ec1-8dd7-eac90e2fd53b"
      },
      "source": [
        "# Plotting the learning curves \n",
        "\n",
        "plt.plot(history.history['loss'])\n",
        "plt.plot(history.history['val_loss'])\n",
        "plt.title('Loss vs Epochs')\n",
        "plt.ylabel('Loss')\n",
        "plt.xlabel('Epoch')\n",
        "plt.legend(['Training' , 'Validation'] , loc = 'upper right')\n",
        "plt.show()"
      ],
      "execution_count": 56,
      "outputs": [
        {
          "output_type": "display_data",
          "data": {
            "image/png": "[encoded data removed]",
            "text/plain": [
              "<Figure size 432x288 with 1 Axes>"
            ]
          },
          "metadata": {
            "tags": [],
            "needs_background": "light"
          }
        }
      ]
    },
    {
      "cell_type": "markdown",
      "metadata": {
        "id": "hu8BevJAEXdz"
      },
      "source": [
        "Hmm.. our model is severly overfitting. Let's in next module how to overcome this!"
      ]
    },
    {
      "cell_type": "markdown",
      "metadata": {
        "id": "71bowrPoEoSV"
      },
      "source": [
        "### Regularizations \n",
        "\n",
        "Techniques used to avoid overfitting into the model training and have the effect of constraining the model capacity in preventing overfitting. \n",
        "\n",
        "We'll look at: \n",
        "- **L2 regularization** -> weight decay in neural network. \n",
        "- **L1 regularization** \n",
        "- How to use Dropouts in our models \n"
      ]
    },
    {
      "cell_type": "code",
      "metadata": {
        "id": "qU1bPtKcEtfm"
      },
      "source": [
        "# Creating model with regularization works for both Dense and Conv layers \n",
        "\n",
        "model = Sequential([\n",
        "  Dense(64 , activation= 'relu' , \n",
        "        kernel_regularizer = tf.keras.regularizers.l2(0.001)), \n",
        "  \n",
        "])\n",
        "\n",
        "# Compile the model \n",
        "model.compile(loss = 'binary_crossentropy' , \n",
        "              optimizer = 'adadelta' , \n",
        "              metrics = ['acc'])\n",
        "\n",
        "# Fitting \n",
        "# model.fit(inputs ,targts , validation_split= 0.2)"
      ],
      "execution_count": 57,
      "outputs": []
    },
    {
      "cell_type": "code",
      "metadata": {
        "id": "sVnfRao-HiZH"
      },
      "source": [
        "# Let's look into l1 regularizers \n",
        "\n",
        "model = Sequential([\n",
        "  Dense(64 , activation = 'relu' , \n",
        "        kernel_regularizer = tf.keras.regularizers.l1(0.005)) ,\n",
        "  Dense(1 , activation = 'sigmoid')\n",
        "])\n"
      ],
      "execution_count": 58,
      "outputs": []
    },
    {
      "cell_type": "code",
      "metadata": {
        "id": "uK08F7TkHigx"
      },
      "source": [
        "# Using both l1 and l2 regularizers\n",
        "\n",
        "model = Sequential([\n",
        "  Dense(64 , activation = 'relu' , \n",
        "        kernel_regularizer = tf.keras.regularizers.l1_l2(l1 = 0.005 , \n",
        "                                                         l2 = 0.001)) ,\n",
        "  Dense(1 , activation = 'sigmoid')\n",
        "])\n"
      ],
      "execution_count": 59,
      "outputs": []
    },
    {
      "cell_type": "markdown",
      "metadata": {
        "id": "2hoNbmzUHizz"
      },
      "source": [
        "**Regularizer for Bias** "
      ]
    },
    {
      "cell_type": "code",
      "metadata": {
        "id": "SQGowJ3UJ9je"
      },
      "source": [
        "# Regularizer for bias\n",
        "\n",
        "model = Sequential([\n",
        "  Dense(64 , activation = 'relu' , \n",
        "        kernel_regularizer = tf.keras.regularizers.l1_l2(l1 = 0.005 ,l2 = 0.001) , \n",
        "        bias_regularizer = tf.keras.regularizers.l2(0.001)) ,\n",
        "  Dense(1 , activation = 'sigmoid')\n",
        "])\n"
      ],
      "execution_count": 60,
      "outputs": []
    },
    {
      "cell_type": "markdown",
      "metadata": {
        "id": "7z9mf8CoKapD"
      },
      "source": [
        "**Dropout layer**\n",
        "\n",
        "Dropout also has a regularizing effect on the neural network. We can add it as just like another layer. \n",
        "\n",
        "The dropout layer accepts an argument called `dropout_rate`, \n",
        "- the rate has been set to 0.5. \n",
        "- that mean that each weight connection between two dense layers is set to **zero** with probability 0.5. \n",
        "This is also known as **Bernoulli Dropout**, since the weights are effectively being multiplied by a bernoulli random variable. \n",
        "\n",
        "Each of the weights are randomly dropped out independently from one another and Dropout has also applied independently across each element in the batch at training time."
      ]
    },
    {
      "cell_type": "code",
      "metadata": {
        "id": "uZQSifhUKnRo"
      },
      "source": [
        "# Dropout layer\n",
        "model = Sequential([\n",
        "  Dense(64 , activation = 'relu' , \n",
        "        kernel_regularizer = tf.keras.regularizers.l1_l2(l1 = 0.005 ,l2 = 0.001) , \n",
        "        bias_regularizer = tf.keras.regularizers.l2(0.001)) ,\n",
        "  tf.keras.layers.Dropout(0.5),\n",
        "  Dense(1 , activation = 'sigmoid')\n",
        "])\n"
      ],
      "execution_count": 61,
      "outputs": []
    },
    {
      "cell_type": "markdown",
      "metadata": {
        "id": "km2fzoLCRY_M"
      },
      "source": [
        "There are certain mode which comes when we use `Dropout` layer,\n",
        "- Training mode , with dropout. Here the weights will get dropped randomly during training .This happens during the `model.fit()` method.\n",
        "- Testing mode, no dropout. We stop dropping the weights randomly here. This happens during the methods, \n",
        "  - `model.evaluate()`\n",
        "  - `model.predict()`\n",
        "These two modes are handled behind the scenes. \n",
        "\n",
        "We can even control this two modes later in the course, by having more control over the model. "
      ]
    },
    {
      "cell_type": "code",
      "metadata": {
        "colab": {
          "base_uri": "https://localhost:8080/"
        },
        "id": "KSE4auDzSg3z",
        "outputId": "3ead64b2-e02f-476c-b817-80277b6ee78c"
      },
      "source": [
        "# Getting back our overfitting model to fix it \n",
        "# Importing the things we need \n",
        "from tensorflow.keras.models import Sequential\n",
        "from tensorflow.keras.layers import Dense , Dropout\n",
        "from tensorflow.keras import regularizers\n",
        "\n",
        "def get_model(wd , rate):\n",
        "  '''\n",
        "  wd --> Weight decay \n",
        "  rate --> dropout rate \n",
        "  '''\n",
        "  model = Sequential([\n",
        "    Dense(128 , activation= 'relu' ,\n",
        "          kernel_regularizer = regularizers.l2(wd), input_shape = (train_data.shape[1], )),\n",
        "    Dropout(rate),\n",
        "    Dense(128 , activation = 'relu' , kernel_regularizer = regularizers.l2(wd)),\n",
        "    Dropout(rate),\n",
        "    Dense(128 , activation= 'relu' , kernel_regularizer = regularizers.l2(wd)), \n",
        "    Dropout(rate),\n",
        "    Dense(128 , activation='relu', kernel_regularizer = regularizers.l2(wd)), \n",
        "    Dropout(rate),\n",
        "    Dense(128 , activation='relu' , kernel_regularizer = regularizers.l2(wd)), \n",
        "    Dropout(rate),\n",
        "    Dense(128 , activation='relu' , kernel_regularizer = regularizers.l2(wd)), \n",
        "    Dropout(rate),\n",
        "    Dense(1)\n",
        "  ])\n",
        "\n",
        "  return model \n",
        "\n",
        "# Instantiating the model \n",
        "model = get_model(1e-5 , 0.3)\n",
        "\n",
        "# SUmmary of the model \n",
        "model.summary()\n",
        "\n"
      ],
      "execution_count": 62,
      "outputs": [
        {
          "output_type": "stream",
          "text": [
            "Model: \"sequential_16\"\n",
            "_________________________________________________________________\n",
            "Layer (type)                 Output Shape              Param #   \n",
            "=================================================================\n",
            "dense_35 (Dense)             (None, 128)               1408      \n",
            "_________________________________________________________________\n",
            "dropout_1 (Dropout)          (None, 128)               0         \n",
            "_________________________________________________________________\n",
            "dense_36 (Dense)             (None, 128)               16512     \n",
            "_________________________________________________________________\n",
            "dropout_2 (Dropout)          (None, 128)               0         \n",
            "_________________________________________________________________\n",
            "dense_37 (Dense)             (None, 128)               16512     \n",
            "_________________________________________________________________\n",
            "dropout_3 (Dropout)          (None, 128)               0         \n",
            "_________________________________________________________________\n",
            "dense_38 (Dense)             (None, 128)               16512     \n",
            "_________________________________________________________________\n",
            "dropout_4 (Dropout)          (None, 128)               0         \n",
            "_________________________________________________________________\n",
            "dense_39 (Dense)             (None, 128)               16512     \n",
            "_________________________________________________________________\n",
            "dropout_5 (Dropout)          (None, 128)               0         \n",
            "_________________________________________________________________\n",
            "dense_40 (Dense)             (None, 128)               16512     \n",
            "_________________________________________________________________\n",
            "dropout_6 (Dropout)          (None, 128)               0         \n",
            "_________________________________________________________________\n",
            "dense_41 (Dense)             (None, 1)                 129       \n",
            "=================================================================\n",
            "Total params: 84,097\n",
            "Trainable params: 84,097\n",
            "Non-trainable params: 0\n",
            "_________________________________________________________________\n"
          ],
          "name": "stdout"
        }
      ]
    },
    {
      "cell_type": "code",
      "metadata": {
        "colab": {
          "base_uri": "https://localhost:8080/"
        },
        "id": "9Un1RwwfTQKZ",
        "outputId": "939dab80-321c-4f87-85fc-2ea3be178fae"
      },
      "source": [
        "# Compile the model \n",
        "model.compile(loss = 'mse' , \n",
        "              optimizer = 'adam' , \n",
        "              metrics = ['mae'])\n",
        "\n",
        "# Training the model and see the performance \n",
        "history = model.fit(train_data , train_targets , validation_split = 0.2 ,\n",
        "                    epochs = 100 , batch_size = 64)"
      ],
      "execution_count": 63,
      "outputs": [
        {
          "output_type": "stream",
          "text": [
            "Epoch 1/100\n",
            "5/5 [==============================] - ETA: 0s - loss: 1.0008 - mae: 0.8587"
          ],
          "name": "stdout"
        },
        {
          "output_type": "stream",
          "text": [
            "/usr/local/lib/python3.7/dist-packages/tensorflow/python/data/ops/dataset_ops.py:3504: UserWarning: Even though the tf.config.experimental_run_functions_eagerly option is set, this option does not apply to tf.data functions. tf.data functions are still traced and executed as graphs.\n",
            "  \"Even though the tf.config.experimental_run_functions_eagerly \"\n"
          ],
          "name": "stderr"
        },
        {
          "output_type": "stream",
          "text": [
            "\b\b\b\b\b\b\b\b\b\b\b\b\b\b\b\b\b\b\b\b\b\b\b\b\b\b\b\b\b\b\b\b\b\b\b\b\b\b\b\b\b\b\b\b\b\b\b\b\b\b\b\b\b\b\b\b\b\b\b\b\b\b\b\b\b\b\b\b\b\b\b\b\b\b\b\r5/5 [==============================] - 0s 58ms/step - loss: 1.0001 - mae: 0.8581 - val_loss: 1.0816 - val_mae: 0.8351\n",
            "Epoch 2/100\n",
            "5/5 [==============================] - 0s 42ms/step - loss: 0.9054 - mae: 0.8138 - val_loss: 1.0636 - val_mae: 0.8287\n",
            "Epoch 3/100\n",
            "5/5 [==============================] - 0s 44ms/step - loss: 1.0206 - mae: 0.8772 - val_loss: 1.0012 - val_mae: 0.8060\n",
            "Epoch 4/100\n",
            "5/5 [==============================] - 0s 47ms/step - loss: 1.0033 - mae: 0.8604 - val_loss: 0.9463 - val_mae: 0.7804\n",
            "Epoch 5/100\n",
            "5/5 [==============================] - 0s 47ms/step - loss: 0.8877 - mae: 0.8113 - val_loss: 0.8040 - val_mae: 0.7204\n",
            "Epoch 6/100\n",
            "5/5 [==============================] - 0s 44ms/step - loss: 0.7385 - mae: 0.7393 - val_loss: 0.6617 - val_mae: 0.6517\n",
            "Epoch 7/100\n",
            "5/5 [==============================] - 0s 42ms/step - loss: 0.6514 - mae: 0.6680 - val_loss: 0.6780 - val_mae: 0.6533\n",
            "Epoch 8/100\n",
            "5/5 [==============================] - 0s 45ms/step - loss: 0.6430 - mae: 0.6317 - val_loss: 0.6648 - val_mae: 0.6418\n",
            "Epoch 9/100\n",
            "5/5 [==============================] - 0s 46ms/step - loss: 0.5738 - mae: 0.6154 - val_loss: 0.6305 - val_mae: 0.6347\n",
            "Epoch 10/100\n",
            "5/5 [==============================] - 0s 42ms/step - loss: 0.5810 - mae: 0.6294 - val_loss: 0.6767 - val_mae: 0.6500\n",
            "Epoch 11/100\n",
            "5/5 [==============================] - 0s 45ms/step - loss: 0.5237 - mae: 0.5962 - val_loss: 0.7271 - val_mae: 0.6689\n",
            "Epoch 12/100\n",
            "5/5 [==============================] - 0s 46ms/step - loss: 0.5154 - mae: 0.5891 - val_loss: 0.6697 - val_mae: 0.6631\n",
            "Epoch 13/100\n",
            "5/5 [==============================] - 0s 47ms/step - loss: 0.5424 - mae: 0.5992 - val_loss: 0.6957 - val_mae: 0.6769\n",
            "Epoch 14/100\n",
            "5/5 [==============================] - 0s 45ms/step - loss: 0.4938 - mae: 0.5553 - val_loss: 0.7196 - val_mae: 0.6814\n",
            "Epoch 15/100\n",
            "5/5 [==============================] - 0s 46ms/step - loss: 0.5255 - mae: 0.5934 - val_loss: 0.6787 - val_mae: 0.6619\n",
            "Epoch 16/100\n",
            "5/5 [==============================] - 0s 49ms/step - loss: 0.5266 - mae: 0.6080 - val_loss: 0.6824 - val_mae: 0.6614\n",
            "Epoch 17/100\n",
            "5/5 [==============================] - 0s 41ms/step - loss: 0.4948 - mae: 0.5733 - val_loss: 0.7127 - val_mae: 0.6685\n",
            "Epoch 18/100\n",
            "5/5 [==============================] - 0s 43ms/step - loss: 0.4977 - mae: 0.5646 - val_loss: 0.6939 - val_mae: 0.6632\n",
            "Epoch 19/100\n",
            "5/5 [==============================] - 0s 47ms/step - loss: 0.4950 - mae: 0.5686 - val_loss: 0.6571 - val_mae: 0.6472\n",
            "Epoch 20/100\n",
            "5/5 [==============================] - 0s 42ms/step - loss: 0.4631 - mae: 0.5598 - val_loss: 0.7159 - val_mae: 0.6643\n",
            "Epoch 21/100\n",
            "5/5 [==============================] - 0s 44ms/step - loss: 0.4989 - mae: 0.5708 - val_loss: 0.7139 - val_mae: 0.6649\n",
            "Epoch 22/100\n",
            "5/5 [==============================] - 0s 46ms/step - loss: 0.4496 - mae: 0.5462 - val_loss: 0.6639 - val_mae: 0.6460\n",
            "Epoch 23/100\n",
            "5/5 [==============================] - 0s 40ms/step - loss: 0.4845 - mae: 0.5599 - val_loss: 0.6882 - val_mae: 0.6522\n",
            "Epoch 24/100\n",
            "5/5 [==============================] - 0s 37ms/step - loss: 0.4746 - mae: 0.5486 - val_loss: 0.6788 - val_mae: 0.6524\n",
            "Epoch 25/100\n",
            "5/5 [==============================] - 0s 47ms/step - loss: 0.4412 - mae: 0.5369 - val_loss: 0.6658 - val_mae: 0.6536\n",
            "Epoch 26/100\n",
            "5/5 [==============================] - 0s 39ms/step - loss: 0.4844 - mae: 0.5648 - val_loss: 0.6807 - val_mae: 0.6565\n",
            "Epoch 27/100\n",
            "5/5 [==============================] - 0s 42ms/step - loss: 0.4634 - mae: 0.5361 - val_loss: 0.6989 - val_mae: 0.6525\n",
            "Epoch 28/100\n",
            "5/5 [==============================] - 0s 45ms/step - loss: 0.4918 - mae: 0.5717 - val_loss: 0.6623 - val_mae: 0.6383\n",
            "Epoch 29/100\n",
            "5/5 [==============================] - 0s 39ms/step - loss: 0.4244 - mae: 0.5234 - val_loss: 0.6586 - val_mae: 0.6369\n",
            "Epoch 30/100\n",
            "5/5 [==============================] - 0s 40ms/step - loss: 0.4662 - mae: 0.5415 - val_loss: 0.6950 - val_mae: 0.6461\n",
            "Epoch 31/100\n",
            "5/5 [==============================] - 0s 45ms/step - loss: 0.4100 - mae: 0.4958 - val_loss: 0.6630 - val_mae: 0.6332\n",
            "Epoch 32/100\n",
            "5/5 [==============================] - 0s 43ms/step - loss: 0.4703 - mae: 0.5413 - val_loss: 0.6471 - val_mae: 0.6306\n",
            "Epoch 33/100\n",
            "5/5 [==============================] - 0s 42ms/step - loss: 0.4978 - mae: 0.5650 - val_loss: 0.6726 - val_mae: 0.6372\n",
            "Epoch 34/100\n",
            "5/5 [==============================] - 0s 45ms/step - loss: 0.4309 - mae: 0.5444 - val_loss: 0.6876 - val_mae: 0.6410\n",
            "Epoch 35/100\n",
            "5/5 [==============================] - 0s 42ms/step - loss: 0.4244 - mae: 0.5210 - val_loss: 0.6779 - val_mae: 0.6339\n",
            "Epoch 36/100\n",
            "5/5 [==============================] - 0s 40ms/step - loss: 0.4144 - mae: 0.5129 - val_loss: 0.6977 - val_mae: 0.6415\n",
            "Epoch 37/100\n",
            "5/5 [==============================] - 0s 45ms/step - loss: 0.4330 - mae: 0.5225 - val_loss: 0.6935 - val_mae: 0.6382\n",
            "Epoch 38/100\n",
            "5/5 [==============================] - 0s 41ms/step - loss: 0.3940 - mae: 0.5119 - val_loss: 0.6546 - val_mae: 0.6246\n",
            "Epoch 39/100\n",
            "5/5 [==============================] - 0s 39ms/step - loss: 0.4486 - mae: 0.5365 - val_loss: 0.6460 - val_mae: 0.6190\n",
            "Epoch 40/100\n",
            "5/5 [==============================] - 0s 45ms/step - loss: 0.4052 - mae: 0.4985 - val_loss: 0.6807 - val_mae: 0.6353\n",
            "Epoch 41/100\n",
            "5/5 [==============================] - 0s 38ms/step - loss: 0.4063 - mae: 0.5119 - val_loss: 0.6460 - val_mae: 0.6223\n",
            "Epoch 42/100\n",
            "5/5 [==============================] - 0s 44ms/step - loss: 0.4661 - mae: 0.5561 - val_loss: 0.6828 - val_mae: 0.6404\n",
            "Epoch 43/100\n",
            "5/5 [==============================] - 0s 50ms/step - loss: 0.3914 - mae: 0.4930 - val_loss: 0.7129 - val_mae: 0.6519\n",
            "Epoch 44/100\n",
            "5/5 [==============================] - 0s 39ms/step - loss: 0.4067 - mae: 0.5066 - val_loss: 0.6456 - val_mae: 0.6199\n",
            "Epoch 45/100\n",
            "5/5 [==============================] - 0s 42ms/step - loss: 0.4181 - mae: 0.5159 - val_loss: 0.7376 - val_mae: 0.6619\n",
            "Epoch 46/100\n",
            "5/5 [==============================] - 0s 45ms/step - loss: 0.3662 - mae: 0.4808 - val_loss: 0.6651 - val_mae: 0.6338\n",
            "Epoch 47/100\n",
            "5/5 [==============================] - 0s 42ms/step - loss: 0.4253 - mae: 0.5265 - val_loss: 0.6698 - val_mae: 0.6383\n",
            "Epoch 48/100\n",
            "5/5 [==============================] - 0s 44ms/step - loss: 0.3654 - mae: 0.4771 - val_loss: 0.7625 - val_mae: 0.6699\n",
            "Epoch 49/100\n",
            "5/5 [==============================] - 0s 45ms/step - loss: 0.4004 - mae: 0.4997 - val_loss: 0.6975 - val_mae: 0.6419\n",
            "Epoch 50/100\n",
            "5/5 [==============================] - 0s 44ms/step - loss: 0.4179 - mae: 0.4921 - val_loss: 0.7115 - val_mae: 0.6504\n",
            "Epoch 51/100\n",
            "5/5 [==============================] - 0s 38ms/step - loss: 0.3862 - mae: 0.4922 - val_loss: 0.6942 - val_mae: 0.6427\n",
            "Epoch 52/100\n",
            "5/5 [==============================] - 0s 42ms/step - loss: 0.4454 - mae: 0.5279 - val_loss: 0.6330 - val_mae: 0.6042\n",
            "Epoch 53/100\n",
            "5/5 [==============================] - 0s 44ms/step - loss: 0.4103 - mae: 0.5197 - val_loss: 0.6617 - val_mae: 0.6300\n",
            "Epoch 54/100\n",
            "5/5 [==============================] - 0s 43ms/step - loss: 0.3729 - mae: 0.4815 - val_loss: 0.7377 - val_mae: 0.6672\n",
            "Epoch 55/100\n",
            "5/5 [==============================] - 0s 39ms/step - loss: 0.3378 - mae: 0.4520 - val_loss: 0.6989 - val_mae: 0.6516\n",
            "Epoch 56/100\n",
            "5/5 [==============================] - 0s 38ms/step - loss: 0.3923 - mae: 0.5063 - val_loss: 0.7375 - val_mae: 0.6548\n",
            "Epoch 57/100\n",
            "5/5 [==============================] - 0s 46ms/step - loss: 0.3849 - mae: 0.4962 - val_loss: 0.6680 - val_mae: 0.6224\n",
            "Epoch 58/100\n",
            "5/5 [==============================] - 0s 45ms/step - loss: 0.3763 - mae: 0.4893 - val_loss: 0.6657 - val_mae: 0.6276\n",
            "Epoch 59/100\n",
            "5/5 [==============================] - 0s 46ms/step - loss: 0.3519 - mae: 0.4783 - val_loss: 0.7748 - val_mae: 0.6813\n",
            "Epoch 60/100\n",
            "5/5 [==============================] - 0s 43ms/step - loss: 0.4014 - mae: 0.5025 - val_loss: 0.7044 - val_mae: 0.6455\n",
            "Epoch 61/100\n",
            "5/5 [==============================] - 0s 42ms/step - loss: 0.3925 - mae: 0.4891 - val_loss: 0.7170 - val_mae: 0.6406\n",
            "Epoch 62/100\n",
            "5/5 [==============================] - 0s 44ms/step - loss: 0.4187 - mae: 0.4983 - val_loss: 0.7248 - val_mae: 0.6502\n",
            "Epoch 63/100\n",
            "5/5 [==============================] - 0s 44ms/step - loss: 0.3597 - mae: 0.4679 - val_loss: 0.7225 - val_mae: 0.6452\n",
            "Epoch 64/100\n",
            "5/5 [==============================] - 0s 40ms/step - loss: 0.3592 - mae: 0.4723 - val_loss: 0.7299 - val_mae: 0.6467\n",
            "Epoch 65/100\n",
            "5/5 [==============================] - 0s 41ms/step - loss: 0.3430 - mae: 0.4690 - val_loss: 0.7237 - val_mae: 0.6509\n",
            "Epoch 66/100\n",
            "5/5 [==============================] - 0s 45ms/step - loss: 0.3594 - mae: 0.4708 - val_loss: 0.7163 - val_mae: 0.6478\n",
            "Epoch 67/100\n",
            "5/5 [==============================] - 0s 40ms/step - loss: 0.3239 - mae: 0.4534 - val_loss: 0.7247 - val_mae: 0.6508\n",
            "Epoch 68/100\n",
            "5/5 [==============================] - 0s 43ms/step - loss: 0.3546 - mae: 0.4706 - val_loss: 0.6899 - val_mae: 0.6345\n",
            "Epoch 69/100\n",
            "5/5 [==============================] - 0s 45ms/step - loss: 0.3319 - mae: 0.4550 - val_loss: 0.7379 - val_mae: 0.6617\n",
            "Epoch 70/100\n",
            "5/5 [==============================] - 0s 43ms/step - loss: 0.3702 - mae: 0.4771 - val_loss: 0.7051 - val_mae: 0.6432\n",
            "Epoch 71/100\n",
            "5/5 [==============================] - 0s 43ms/step - loss: 0.3428 - mae: 0.4637 - val_loss: 0.7544 - val_mae: 0.6704\n",
            "Epoch 72/100\n",
            "5/5 [==============================] - 0s 45ms/step - loss: 0.3740 - mae: 0.4808 - val_loss: 0.7465 - val_mae: 0.6645\n",
            "Epoch 73/100\n",
            "5/5 [==============================] - 0s 43ms/step - loss: 0.3534 - mae: 0.4672 - val_loss: 0.7443 - val_mae: 0.6672\n",
            "Epoch 74/100\n",
            "5/5 [==============================] - 0s 47ms/step - loss: 0.3423 - mae: 0.4644 - val_loss: 0.7721 - val_mae: 0.6700\n",
            "Epoch 75/100\n",
            "5/5 [==============================] - 0s 43ms/step - loss: 0.3320 - mae: 0.4688 - val_loss: 0.7674 - val_mae: 0.6671\n",
            "Epoch 76/100\n",
            "5/5 [==============================] - 0s 46ms/step - loss: 0.3712 - mae: 0.4860 - val_loss: 0.7563 - val_mae: 0.6610\n",
            "Epoch 77/100\n",
            "5/5 [==============================] - 0s 44ms/step - loss: 0.3167 - mae: 0.4448 - val_loss: 0.7412 - val_mae: 0.6615\n",
            "Epoch 78/100\n",
            "5/5 [==============================] - 0s 43ms/step - loss: 0.3329 - mae: 0.4478 - val_loss: 0.7435 - val_mae: 0.6611\n",
            "Epoch 79/100\n",
            "5/5 [==============================] - 0s 44ms/step - loss: 0.3433 - mae: 0.4606 - val_loss: 0.7691 - val_mae: 0.6728\n",
            "Epoch 80/100\n",
            "5/5 [==============================] - 0s 39ms/step - loss: 0.3740 - mae: 0.4716 - val_loss: 0.7506 - val_mae: 0.6644\n",
            "Epoch 81/100\n",
            "5/5 [==============================] - 0s 44ms/step - loss: 0.3387 - mae: 0.4771 - val_loss: 0.7822 - val_mae: 0.6828\n",
            "Epoch 82/100\n",
            "5/5 [==============================] - 0s 45ms/step - loss: 0.3345 - mae: 0.4562 - val_loss: 0.7681 - val_mae: 0.6740\n",
            "Epoch 83/100\n",
            "5/5 [==============================] - 0s 47ms/step - loss: 0.3156 - mae: 0.4354 - val_loss: 0.7455 - val_mae: 0.6637\n",
            "Epoch 84/100\n",
            "5/5 [==============================] - 0s 43ms/step - loss: 0.3462 - mae: 0.4706 - val_loss: 0.7829 - val_mae: 0.6784\n",
            "Epoch 85/100\n",
            "5/5 [==============================] - 0s 44ms/step - loss: 0.3358 - mae: 0.4665 - val_loss: 0.8086 - val_mae: 0.6916\n",
            "Epoch 86/100\n",
            "5/5 [==============================] - 0s 39ms/step - loss: 0.2966 - mae: 0.4180 - val_loss: 0.8574 - val_mae: 0.7079\n",
            "Epoch 87/100\n",
            "5/5 [==============================] - 0s 46ms/step - loss: 0.3198 - mae: 0.4424 - val_loss: 0.8384 - val_mae: 0.7061\n",
            "Epoch 88/100\n",
            "5/5 [==============================] - 0s 46ms/step - loss: 0.2855 - mae: 0.4246 - val_loss: 0.8513 - val_mae: 0.6975\n",
            "Epoch 89/100\n",
            "5/5 [==============================] - 0s 45ms/step - loss: 0.3183 - mae: 0.4365 - val_loss: 0.7974 - val_mae: 0.6885\n",
            "Epoch 90/100\n",
            "5/5 [==============================] - 0s 43ms/step - loss: 0.3327 - mae: 0.4533 - val_loss: 0.8003 - val_mae: 0.6984\n",
            "Epoch 91/100\n",
            "5/5 [==============================] - 0s 45ms/step - loss: 0.3202 - mae: 0.4422 - val_loss: 0.8997 - val_mae: 0.7294\n",
            "Epoch 92/100\n",
            "5/5 [==============================] - 0s 47ms/step - loss: 0.3228 - mae: 0.4415 - val_loss: 0.8350 - val_mae: 0.7125\n",
            "Epoch 93/100\n",
            "5/5 [==============================] - 0s 45ms/step - loss: 0.3289 - mae: 0.4445 - val_loss: 0.8216 - val_mae: 0.7091\n",
            "Epoch 94/100\n",
            "5/5 [==============================] - 0s 43ms/step - loss: 0.3451 - mae: 0.4607 - val_loss: 0.7279 - val_mae: 0.6573\n",
            "Epoch 95/100\n",
            "5/5 [==============================] - 0s 46ms/step - loss: 0.3375 - mae: 0.4401 - val_loss: 0.7442 - val_mae: 0.6669\n",
            "Epoch 96/100\n",
            "5/5 [==============================] - 0s 45ms/step - loss: 0.3416 - mae: 0.4716 - val_loss: 0.8218 - val_mae: 0.6992\n",
            "Epoch 97/100\n",
            "5/5 [==============================] - 0s 42ms/step - loss: 0.3255 - mae: 0.4439 - val_loss: 0.7766 - val_mae: 0.6773\n",
            "Epoch 98/100\n",
            "5/5 [==============================] - 0s 44ms/step - loss: 0.2982 - mae: 0.4343 - val_loss: 0.8474 - val_mae: 0.7060\n",
            "Epoch 99/100\n",
            "5/5 [==============================] - 0s 45ms/step - loss: 0.2860 - mae: 0.4037 - val_loss: 0.8356 - val_mae: 0.7034\n",
            "Epoch 100/100\n",
            "5/5 [==============================] - 0s 43ms/step - loss: 0.2973 - mae: 0.4348 - val_loss: 0.8048 - val_mae: 0.6908\n"
          ],
          "name": "stdout"
        }
      ]
    },
    {
      "cell_type": "code",
      "metadata": {
        "colab": {
          "base_uri": "https://localhost:8080/"
        },
        "id": "f4fVZqLFUUMH",
        "outputId": "9f24d1bc-5571-4379-9e5a-a6f5cd671d72"
      },
      "source": [
        "# Evaluate the performance of the model on test data \n",
        "model.evaluate(test_data , test_targets)"
      ],
      "execution_count": 64,
      "outputs": [
        {
          "output_type": "stream",
          "text": [
            "3/3 [==============================] - 0s 14ms/step - loss: 0.5911 - mae: 0.6056\n"
          ],
          "name": "stdout"
        },
        {
          "output_type": "stream",
          "text": [
            "/usr/local/lib/python3.7/dist-packages/tensorflow/python/data/ops/dataset_ops.py:3504: UserWarning: Even though the tf.config.experimental_run_functions_eagerly option is set, this option does not apply to tf.data functions. tf.data functions are still traced and executed as graphs.\n",
            "  \"Even though the tf.config.experimental_run_functions_eagerly \"\n"
          ],
          "name": "stderr"
        },
        {
          "output_type": "execute_result",
          "data": {
            "text/plain": [
              "[0.5910794734954834, 0.6055697202682495]"
            ]
          },
          "metadata": {
            "tags": []
          },
          "execution_count": 64
        }
      ]
    },
    {
      "cell_type": "code",
      "metadata": {
        "colab": {
          "base_uri": "https://localhost:8080/",
          "height": 295
        },
        "id": "aJHdBJUOUe9P",
        "outputId": "e40b9463-1be1-4bbb-b865-54f579b22bd5"
      },
      "source": [
        "# Plotting the learning curves \n",
        "\n",
        "plt.plot(history.history['loss'])\n",
        "plt.plot(history.history['val_loss'])\n",
        "plt.title('Loss vs Epochs')\n",
        "plt.ylabel('Loss')\n",
        "plt.xlabel('Epoch')\n",
        "plt.legend(['Training' , 'Validation'] , loc = 'upper right')\n",
        "plt.show()"
      ],
      "execution_count": 65,
      "outputs": [
        {
          "output_type": "display_data",
          "data": {
            "image/png": "[encoded data removed]",
            "text/plain": [
              "<Figure size 432x288 with 1 Axes>"
            ]
          },
          "metadata": {
            "tags": [],
            "needs_background": "light"
          }
        }
      ]
    },
    {
      "cell_type": "markdown",
      "metadata": {
        "id": "BS9BCu33UiSO"
      },
      "source": [
        "Great!! Our loss is less compared to the un-regularized model. That's brilliant! \n",
        "\n",
        "Though the overfitting isn't completely fixed, but our regularizer played an significant effect. "
      ]
    },
    {
      "cell_type": "code",
      "metadata": {
        "colab": {
          "base_uri": "https://localhost:8080/"
        },
        "id": "zcleMnO0QlgI",
        "outputId": "59b9415b-4e02-4a8b-82f4-2c30a73aaabd"
      },
      "source": [
        "# Checking our data shapes \n",
        "train_data.shape , train_targets.shape , test_data.shape , test_targets.shape"
      ],
      "execution_count": 66,
      "outputs": [
        {
          "output_type": "execute_result",
          "data": {
            "text/plain": [
              "((353, 10), (353,), (89, 10), (89,))"
            ]
          },
          "metadata": {
            "tags": []
          },
          "execution_count": 66
        }
      ]
    },
    {
      "cell_type": "markdown",
      "metadata": {
        "id": "YfbJthC64rM-"
      },
      "source": [
        "**Batch Normalization** \n",
        "\n",
        "We can implement batch normalization into our model by adding it as another layer. "
      ]
    },
    {
      "cell_type": "code",
      "metadata": {
        "id": "cO3vjYhO44vc"
      },
      "source": [
        "# Importing the needed things \n",
        "from tensorflow.keras.models import Sequential\n",
        "from tensorflow.keras.layers import Flatten, Dense , Conv2D \n",
        "from tensorflow.keras.layers import BatchNormalization , Dropout , MaxPooling2D\n"
      ],
      "execution_count": 67,
      "outputs": []
    },
    {
      "cell_type": "code",
      "metadata": {
        "colab": {
          "base_uri": "https://localhost:8080/"
        },
        "id": "kxIgjr5N6QDp",
        "outputId": "65a6de00-44cc-4655-aa0d-8270474ef424"
      },
      "source": [
        "train_data[1]"
      ],
      "execution_count": 68,
      "outputs": [
        {
          "output_type": "execute_result",
          "data": {
            "text/plain": [
              "array([ 0.06350368, -0.04464164,  0.01750591,  0.02187235,  0.00806271,\n",
              "        0.02154596, -0.03603757,  0.03430886,  0.01990842,  0.01134862])"
            ]
          },
          "metadata": {
            "tags": []
          },
          "execution_count": 68
        }
      ]
    },
    {
      "cell_type": "markdown",
      "metadata": {
        "id": "AD9bBYmR5J4u"
      },
      "source": [
        "Now let's a sequential model with batch normalization "
      ]
    },
    {
      "cell_type": "code",
      "metadata": {
        "id": "eW3lquva5Nm4"
      },
      "source": [
        "# Building the model \n",
        "\n",
        "model = Sequential([\n",
        "  Dense(64 , activation= 'relu' , input_shape = (train_data.shape[1] , )), \n",
        "  BatchNormalization() , # Batchnormalization layer \n",
        "  Dropout(0.5), \n",
        "  BatchNormalization() , \n",
        "  Dropout(0.5) , \n",
        "  Dense(256 , activation= 'relu'),\n",
        "  ])"
      ],
      "execution_count": 69,
      "outputs": []
    },
    {
      "cell_type": "code",
      "metadata": {
        "colab": {
          "base_uri": "https://localhost:8080/"
        },
        "id": "rEDX3kSJ5pOz",
        "outputId": "7d2bc220-bf58-45a2-9904-a0264e39c6bb"
      },
      "source": [
        "# Checking the model summary \n",
        "model.summary()"
      ],
      "execution_count": 70,
      "outputs": [
        {
          "output_type": "stream",
          "text": [
            "Model: \"sequential_17\"\n",
            "_________________________________________________________________\n",
            "Layer (type)                 Output Shape              Param #   \n",
            "=================================================================\n",
            "dense_42 (Dense)             (None, 64)                704       \n",
            "_________________________________________________________________\n",
            "batch_normalization (BatchNo (None, 64)                256       \n",
            "_________________________________________________________________\n",
            "dropout_7 (Dropout)          (None, 64)                0         \n",
            "_________________________________________________________________\n",
            "batch_normalization_1 (Batch (None, 64)                256       \n",
            "_________________________________________________________________\n",
            "dropout_8 (Dropout)          (None, 64)                0         \n",
            "_________________________________________________________________\n",
            "dense_43 (Dense)             (None, 256)               16640     \n",
            "=================================================================\n",
            "Total params: 17,856\n",
            "Trainable params: 17,600\n",
            "Non-trainable params: 256\n",
            "_________________________________________________________________\n"
          ],
          "name": "stdout"
        }
      ]
    },
    {
      "cell_type": "markdown",
      "metadata": {
        "id": "o9X4DEnf6aA1"
      },
      "source": [
        "**Note:** We gotta add a output layer. "
      ]
    },
    {
      "cell_type": "markdown",
      "metadata": {
        "id": "E9yFbT5o6hVa"
      },
      "source": [
        "**Hyperparameters of Batch Normalization**\n",
        "\n",
        "The idea here is we normalize each layer’s inputs by using the mean and variance of the values in the current mini-batch. \n",
        "\n",
        "Some blogs which we can make use of: \n",
        "- [Batch Normalization](https://towardsdatascience.com/batch-normalization-8a2e585775c9)\n",
        "\n",
        "\n",
        "- [Batch Normalization Hyper param tuning](https://medium.com/@ilango100/batchnorm-fine-tune-your-booster-bef9f9493e22#:~:text=Momentum%20is%20the%20%E2%80%9Clag%E2%80%9D%20in,mini%2Dbatch%20can%20be%20ignored.&text=By%20default%2C%20momentum%20would%20be,steps%20run%20will%20be%20more.)\n",
        "\n",
        "What happens behind the scenes? \n",
        "\n",
        "- hyperparm **momentum** is the weighting given to the previous running mean when re-computing it with an extra mini-batch. By default it is set to 0.99. \n",
        "- 𝜖 (epsilon) is used for numerical stability when performing the normalization over the mini-batch. By default it is set to 0.001. \n",
        "- parameters  𝛽  and  𝛾  are used to implement an affine transformation after normalization. \n",
        "  - 𝛽 --> all-zeros vector\n",
        "  - 𝛾 --> all-ones vector \n",
        "\n",
        "Let's customize the parameters of our batch normalization layer. "
      ]
    },
    {
      "cell_type": "code",
      "metadata": {
        "id": "IRuOGcfo7Rrb"
      },
      "source": [
        "# Add a customized batch normalization layer \n",
        "\n",
        "model.add(tf.keras.layers.BatchNormalization(\n",
        "    momentum = 0.95 , # reduce noise due to mini-batch \n",
        "    epsilon = 0.005 , \n",
        "    axis  =-1 , \n",
        "    beta_initializer = tf.keras.initializers.RandomNormal(0.0 , 0.05), \n",
        "    gamma_initializer = tf.keras.initializers.Constant(value = 0.5)\n",
        "))"
      ],
      "execution_count": 71,
      "outputs": []
    },
    {
      "cell_type": "code",
      "metadata": {
        "id": "fAWrz64E8mHs"
      },
      "source": [
        "# Adding a output layer \n",
        "model.add(Dense(1))"
      ],
      "execution_count": 72,
      "outputs": []
    },
    {
      "cell_type": "code",
      "metadata": {
        "colab": {
          "base_uri": "https://localhost:8080/"
        },
        "id": "RQNU5UqM8qPk",
        "outputId": "b4510486-7e4a-426a-ddb6-ce93508e79a4"
      },
      "source": [
        "# Checking the summary of the model now \n",
        "model.summary()"
      ],
      "execution_count": 73,
      "outputs": [
        {
          "output_type": "stream",
          "text": [
            "Model: \"sequential_17\"\n",
            "_________________________________________________________________\n",
            "Layer (type)                 Output Shape              Param #   \n",
            "=================================================================\n",
            "dense_42 (Dense)             (None, 64)                704       \n",
            "_________________________________________________________________\n",
            "batch_normalization (BatchNo (None, 64)                256       \n",
            "_________________________________________________________________\n",
            "dropout_7 (Dropout)          (None, 64)                0         \n",
            "_________________________________________________________________\n",
            "batch_normalization_1 (Batch (None, 64)                256       \n",
            "_________________________________________________________________\n",
            "dropout_8 (Dropout)          (None, 64)                0         \n",
            "_________________________________________________________________\n",
            "dense_43 (Dense)             (None, 256)               16640     \n",
            "_________________________________________________________________\n",
            "batch_normalization_2 (Batch (None, 256)               1024      \n",
            "_________________________________________________________________\n",
            "dense_44 (Dense)             (None, 1)                 257       \n",
            "=================================================================\n",
            "Total params: 19,137\n",
            "Trainable params: 18,369\n",
            "Non-trainable params: 768\n",
            "_________________________________________________________________\n"
          ],
          "name": "stdout"
        }
      ]
    },
    {
      "cell_type": "code",
      "metadata": {
        "colab": {
          "base_uri": "https://localhost:8080/"
        },
        "id": "tQ6ZthXZ8txm",
        "outputId": "569c3291-5789-425b-fb03-5e1391e9afd1"
      },
      "source": [
        "# Compiling and fit the model \n",
        "model.compile(optimizer = 'adam' , \n",
        "              loss = 'mse' , \n",
        "              metrics = ['mae'])\n",
        "\n",
        "# Fitting the model \n",
        "history = model.fit(train_data , train_targets , epochs = 100 , \n",
        "                    validation_split = 0.2 , batch_size = 64 , verbose = False)"
      ],
      "execution_count": 74,
      "outputs": [
        {
          "output_type": "stream",
          "text": [
            "/usr/local/lib/python3.7/dist-packages/tensorflow/python/data/ops/dataset_ops.py:3504: UserWarning: Even though the tf.config.experimental_run_functions_eagerly option is set, this option does not apply to tf.data functions. tf.data functions are still traced and executed as graphs.\n",
            "  \"Even though the tf.config.experimental_run_functions_eagerly \"\n"
          ],
          "name": "stderr"
        }
      ]
    },
    {
      "cell_type": "code",
      "metadata": {
        "colab": {
          "base_uri": "https://localhost:8080/",
          "height": 291
        },
        "id": "tHERmI1G9B6I",
        "outputId": "66420101-3e2a-4d91-cd4a-ff1ec8c53572"
      },
      "source": [
        "# Plot the learning curves \n",
        "\n",
        "frame = pd.DataFrame(history.history)\n",
        "epochs = np.arange(len(frame))\n",
        "\n",
        "# setting the figsize \n",
        "fig = plt.figure(figsize = (12 , 4))\n",
        "\n",
        "# Loss plot \n",
        "ax = fig.add_subplot(121)\n",
        "ax.plot(epochs , frame['loss'] , label = 'Train')\n",
        "ax.plot(epochs , frame['val_loss'] , label = 'Validation')\n",
        "ax.set_xlabel('Epochs')\n",
        "ax.set_ylabel('Loss')\n",
        "ax.set_title('Loss vs Epochs')\n",
        "ax.legend()\n",
        "\n",
        "# Accuracy plot \n",
        "ax = fig.add_subplot(122)\n",
        "ax.plot(epochs , frame['mae'] , label = 'Train')\n",
        "ax.plot(epochs , frame['val_mae'] , label= 'Validation')\n",
        "ax.set_xlabel('Epochs')\n",
        "ax.set_ylabel(\"Mean Absolute Error\")\n",
        "ax.set_title('Mean Absolute Error Vs Epochs')\n",
        "ax.legend()"
      ],
      "execution_count": 75,
      "outputs": [
        {
          "output_type": "execute_result",
          "data": {
            "text/plain": [
              "<matplotlib.legend.Legend at 0x7f5e6f2169d0>"
            ]
          },
          "metadata": {
            "tags": []
          },
          "execution_count": 75
        },
        {
          "output_type": "display_data",
          "data": {
            "image/png": "[encoded data removed]",
            "text/plain": [
              "<Figure size 864x288 with 2 Axes>"
            ]
          },
          "metadata": {
            "tags": [],
            "needs_background": "light"
          }
        }
      ]
    },
    {
      "cell_type": "code",
      "metadata": {
        "colab": {
          "base_uri": "https://localhost:8080/"
        },
        "id": "jdR8nY_59-NI",
        "outputId": "217fb9ef-68fc-455b-debf-37a27926fb87"
      },
      "source": [
        "# Evaluating on the test data \n",
        "model.evaluate(test_data , test_targets , verbose = 2)"
      ],
      "execution_count": 76,
      "outputs": [
        {
          "output_type": "stream",
          "text": [
            "3/3 - 0s - loss: 0.6386 - mae: 0.7115\n"
          ],
          "name": "stdout"
        },
        {
          "output_type": "stream",
          "text": [
            "/usr/local/lib/python3.7/dist-packages/tensorflow/python/data/ops/dataset_ops.py:3504: UserWarning: Even though the tf.config.experimental_run_functions_eagerly option is set, this option does not apply to tf.data functions. tf.data functions are still traced and executed as graphs.\n",
            "  \"Even though the tf.config.experimental_run_functions_eagerly \"\n"
          ],
          "name": "stderr"
        },
        {
          "output_type": "execute_result",
          "data": {
            "text/plain": [
              "[0.6386370062828064, 0.7115103602409363]"
            ]
          },
          "metadata": {
            "tags": []
          },
          "execution_count": 76
        }
      ]
    },
    {
      "cell_type": "markdown",
      "metadata": {
        "id": "8ovbB0SJ-HuH"
      },
      "source": [
        "Further readings: \n",
        "- https://keras.io/layers/normalization/\n",
        "- https://www.tensorflow.org/versions/r2.0/api_docs/python/tf/keras/layers/BatchNormalization"
      ]
    },
    {
      "cell_type": "markdown",
      "metadata": {
        "id": "hLrY-KSg-Sc5"
      },
      "source": [
        "### Callbacks\n",
        "\n",
        "Callbacks not only monitor's the performance it also performance an action on the model depending upon the performance measures.\n",
        "\n",
        "Callbacks are designed to monitor the loss or metrics at certain point in the training and performs the action depending on the loss or metrics.\n",
        "\n",
        "In tensorflow all callbacks are stored in `tf.keras.callbacks` module. There is a base class inside this module called `Callback` from where all callbacks inherit from. \n",
        "\n",
        "We can create our own callback by passing the base class `Callback` as a sub-class. This base class has series of method which can be overwritten for our new class. \n",
        "\n",
        "\n"
      ]
    },
    {
      "cell_type": "code",
      "metadata": {
        "id": "NsJI7k8ckc1X"
      },
      "source": [
        "# Let's create our own callback \n",
        "from tensorflow.keras.callbacks import Callback \n",
        "\n",
        "# Creating our custom callback \n",
        "class MyCallback(Callback):\n",
        "  def on_train_begin(self , logs = None):\n",
        "    print('Do something at the start of the training')\n",
        "\n",
        "  def on_train_batch_begin(self , batch , logs = None):\n",
        "    print('Do something at the start of every batch iteration')\n",
        "\n",
        "  def on_epoch_end(self , epoch , logs = None):\n",
        "    print('Do something at the end of every epoch')"
      ],
      "execution_count": 77,
      "outputs": []
    },
    {
      "cell_type": "markdown",
      "metadata": {
        "id": "Jfr6IqcOp-2n"
      },
      "source": [
        "Inside the base class `Callback` module we have alot of methods which we can make use to build our own custom callback."
      ]
    },
    {
      "cell_type": "code",
      "metadata": {
        "id": "ELLKnHK-p-6n"
      },
      "source": [
        "# Let's build a callback and put it into test \n",
        "\n",
        "class TrainingCallback(Callback):\n",
        "\n",
        "  def on_train_begin(self , logs = None):\n",
        "    print('Starting training......')\n",
        "\n",
        "  def on_epoch_begin(self , epoch , logs = None):\n",
        "    print(f'Starting epoch {epoch}')\n",
        "\n",
        "  def on_train_batch_begin(self , batch , logs = None):\n",
        "    print(f'Training starting batch {batch}')\n",
        "\n",
        "  def on_train_batch_end(self , batch , logs = None):\n",
        "    print(f'Training finished batch {batch}')\n",
        "\n",
        "  def on_epoch_end(self , epoch , logs = None):\n",
        "    print(f'Finished epoch {epoch}')\n",
        "\n",
        "  def on_train_end(self , logs = None):\n",
        "    print('Finished training')"
      ],
      "execution_count": 78,
      "outputs": []
    },
    {
      "cell_type": "code",
      "metadata": {
        "colab": {
          "base_uri": "https://localhost:8080/"
        },
        "id": "M3H0n526p_Eq",
        "outputId": "04384d3c-4bcc-46ca-9e03-c5b081afe57e"
      },
      "source": [
        "# Let's build a model \n",
        "\n",
        "model = get_model(wd= 1e-5 , rate = 0.3)\n",
        "\n",
        "# Summary of the model \n",
        "model.summary()"
      ],
      "execution_count": 79,
      "outputs": [
        {
          "output_type": "stream",
          "text": [
            "Model: \"sequential_18\"\n",
            "_________________________________________________________________\n",
            "Layer (type)                 Output Shape              Param #   \n",
            "=================================================================\n",
            "dense_45 (Dense)             (None, 128)               1408      \n",
            "_________________________________________________________________\n",
            "dropout_9 (Dropout)          (None, 128)               0         \n",
            "_________________________________________________________________\n",
            "dense_46 (Dense)             (None, 128)               16512     \n",
            "_________________________________________________________________\n",
            "dropout_10 (Dropout)         (None, 128)               0         \n",
            "_________________________________________________________________\n",
            "dense_47 (Dense)             (None, 128)               16512     \n",
            "_________________________________________________________________\n",
            "dropout_11 (Dropout)         (None, 128)               0         \n",
            "_________________________________________________________________\n",
            "dense_48 (Dense)             (None, 128)               16512     \n",
            "_________________________________________________________________\n",
            "dropout_12 (Dropout)         (None, 128)               0         \n",
            "_________________________________________________________________\n",
            "dense_49 (Dense)             (None, 128)               16512     \n",
            "_________________________________________________________________\n",
            "dropout_13 (Dropout)         (None, 128)               0         \n",
            "_________________________________________________________________\n",
            "dense_50 (Dense)             (None, 128)               16512     \n",
            "_________________________________________________________________\n",
            "dropout_14 (Dropout)         (None, 128)               0         \n",
            "_________________________________________________________________\n",
            "dense_51 (Dense)             (None, 1)                 129       \n",
            "=================================================================\n",
            "Total params: 84,097\n",
            "Trainable params: 84,097\n",
            "Non-trainable params: 0\n",
            "_________________________________________________________________\n"
          ],
          "name": "stdout"
        }
      ]
    },
    {
      "cell_type": "code",
      "metadata": {
        "id": "gdLnSb02p_Kj"
      },
      "source": [
        "# Compile the model \n",
        "model.compile(loss = 'mae' , \n",
        "              optimizer = 'adam')"
      ],
      "execution_count": 80,
      "outputs": []
    },
    {
      "cell_type": "code",
      "metadata": {
        "colab": {
          "base_uri": "https://localhost:8080/"
        },
        "id": "hM383cDBp2FF",
        "outputId": "5e7201b4-7e67-4e63-a975-853061d6eec4"
      },
      "source": [
        "# Fitting the model \n",
        "model.fit(train_data , train_targets , epochs = 3 , \n",
        "          batch_size = 128 , verbose = False , \n",
        "          callbacks = [TrainingCallback()])"
      ],
      "execution_count": 81,
      "outputs": [
        {
          "output_type": "stream",
          "text": [
            "Starting training......\n",
            "Starting epoch 0\n",
            "Training starting batch 0\n",
            "Training finished batch 0\n",
            "Training starting batch 1\n",
            "Training finished batch 1\n",
            "Training starting batch 2\n",
            "Training finished batch 2\n",
            "Finished epoch 0\n",
            "Starting epoch 1\n",
            "Training starting batch 0\n"
          ],
          "name": "stdout"
        },
        {
          "output_type": "stream",
          "text": [
            "/usr/local/lib/python3.7/dist-packages/tensorflow/python/data/ops/dataset_ops.py:3504: UserWarning: Even though the tf.config.experimental_run_functions_eagerly option is set, this option does not apply to tf.data functions. tf.data functions are still traced and executed as graphs.\n",
            "  \"Even though the tf.config.experimental_run_functions_eagerly \"\n"
          ],
          "name": "stderr"
        },
        {
          "output_type": "stream",
          "text": [
            "Training finished batch 0\n",
            "Training starting batch 1\n",
            "Training finished batch 1\n",
            "Training starting batch 2\n",
            "Training finished batch 2\n",
            "Finished epoch 1\n",
            "Starting epoch 2\n",
            "Training starting batch 0\n",
            "Training finished batch 0\n",
            "Training starting batch 1\n",
            "Training finished batch 1\n",
            "Training starting batch 2\n",
            "Training finished batch 2\n",
            "Finished epoch 2\n",
            "Finished training\n"
          ],
          "name": "stdout"
        },
        {
          "output_type": "execute_result",
          "data": {
            "text/plain": [
              "<tensorflow.python.keras.callbacks.History at 0x7f5e6f109890>"
            ]
          },
          "metadata": {
            "tags": []
          },
          "execution_count": 81
        }
      ]
    },
    {
      "cell_type": "markdown",
      "metadata": {
        "id": "4v1W0gzIp3uX"
      },
      "source": [
        "We can do the same for Testing. "
      ]
    },
    {
      "cell_type": "code",
      "metadata": {
        "id": "0lss6Yywtd2m"
      },
      "source": [
        "class TestingCallback(Callback):\n",
        "\n",
        "  def on_test_begin(self , logs = None):\n",
        "    print('Starting testing.....')\n",
        "\n",
        "  def on_test_batch_begin(self , batch , logs = None):\n",
        "    print(f'Testing starting batch {batch}')\n",
        "\n",
        "  def on_test_batch_end(self , batch , logs = None):\n",
        "    print(f'Testing finished batch {batch}')\n",
        "\n",
        "  def on_test_end(self , logs = None):\n",
        "    print('Finished testing.')"
      ],
      "execution_count": 82,
      "outputs": []
    },
    {
      "cell_type": "code",
      "metadata": {
        "colab": {
          "base_uri": "https://localhost:8080/"
        },
        "id": "OQmLQ-lmt8AU",
        "outputId": "eeeeeace-eb59-4d9d-c303-1607411ef9d6"
      },
      "source": [
        "# Evaluating the model \n",
        "\n",
        "model.evaluate(test_data , test_targets , verbose = False, \n",
        "               callbacks = [TestingCallback()])"
      ],
      "execution_count": 83,
      "outputs": [
        {
          "output_type": "stream",
          "text": [
            "Starting testing.....\n",
            "Testing starting batch 0\n",
            "Testing finished batch 0\n",
            "Testing starting batch 1\n",
            "Testing finished batch 1\n",
            "Testing starting batch 2\n",
            "Testing finished batch 2\n",
            "Finished testing.\n"
          ],
          "name": "stdout"
        },
        {
          "output_type": "stream",
          "text": [
            "/usr/local/lib/python3.7/dist-packages/tensorflow/python/data/ops/dataset_ops.py:3504: UserWarning: Even though the tf.config.experimental_run_functions_eagerly option is set, this option does not apply to tf.data functions. tf.data functions are still traced and executed as graphs.\n",
            "  \"Even though the tf.config.experimental_run_functions_eagerly \"\n"
          ],
          "name": "stderr"
        },
        {
          "output_type": "execute_result",
          "data": {
            "text/plain": [
              "0.8439065217971802"
            ]
          },
          "metadata": {
            "tags": []
          },
          "execution_count": 83
        }
      ]
    },
    {
      "cell_type": "markdown",
      "metadata": {
        "id": "wyTOWQmsuKFO"
      },
      "source": [
        "Like wise the same we can create for Prediction. \n",
        "\n",
        "This will run when we call `model.predict()`"
      ]
    },
    {
      "cell_type": "code",
      "metadata": {
        "id": "JLUXLiqquWbU"
      },
      "source": [
        "class PredictionCallback(Callback):\n",
        "\n",
        "  def on_predict_begin(self , logs = None):\n",
        "    print('Starting prediction....')\n",
        "\n",
        "  def on_predict_batch_begin(self , batch ,logs = None):\n",
        "    print(f'Prediction starting batch {batch}')\n",
        "\n",
        "  def on_predict_batch_end(self , batch , logs = None):\n",
        "    print(f'Prediction finished batch {batch}')\n",
        "\n",
        "  def on_predict_end(self , logs = None):\n",
        "    print('Finished prediction')"
      ],
      "execution_count": 84,
      "outputs": []
    },
    {
      "cell_type": "code",
      "metadata": {
        "colab": {
          "base_uri": "https://localhost:8080/"
        },
        "id": "5hhOQWuVvAEq",
        "outputId": "04528bb9-5997-4551-bc7d-0cc4219b125c"
      },
      "source": [
        "# Getting the predictions \n",
        "model.predict(test_data , verbose = False , \n",
        "              callbacks = [PredictionCallback()])"
      ],
      "execution_count": 85,
      "outputs": [
        {
          "output_type": "stream",
          "text": [
            "Starting prediction....\n",
            "Prediction starting batch 0\n",
            "Prediction finished batch 0\n",
            "Prediction starting batch 1\n",
            "Prediction finished batch 1\n",
            "Prediction starting batch 2\n",
            "Prediction finished batch 2\n",
            "Finished prediction\n"
          ],
          "name": "stdout"
        },
        {
          "output_type": "stream",
          "text": [
            "/usr/local/lib/python3.7/dist-packages/tensorflow/python/data/ops/dataset_ops.py:3504: UserWarning: Even though the tf.config.experimental_run_functions_eagerly option is set, this option does not apply to tf.data functions. tf.data functions are still traced and executed as graphs.\n",
            "  \"Even though the tf.config.experimental_run_functions_eagerly \"\n"
          ],
          "name": "stderr"
        },
        {
          "output_type": "execute_result",
          "data": {
            "text/plain": [
              "array([[-0.08780918],\n",
              "       [-0.09500907],\n",
              "       [-0.0513386 ],\n",
              "       [-0.07275379],\n",
              "       [-0.04365427],\n",
              "       [-0.08245509],\n",
              "       [-0.09031249],\n",
              "       [-0.08843934],\n",
              "       [-0.0818394 ],\n",
              "       [-0.09445373],\n",
              "       [-0.0878887 ],\n",
              "       [-0.07907048],\n",
              "       [-0.08890282],\n",
              "       [-0.10088541],\n",
              "       [-0.08106389],\n",
              "       [-0.06441698],\n",
              "       [-0.08417847],\n",
              "       [-0.07619622],\n",
              "       [-0.08218729],\n",
              "       [-0.09870581],\n",
              "       [-0.08066595],\n",
              "       [-0.0823923 ],\n",
              "       [-0.07997068],\n",
              "       [-0.08133177],\n",
              "       [-0.080212  ],\n",
              "       [-0.09025446],\n",
              "       [-0.06467453],\n",
              "       [-0.07784573],\n",
              "       [-0.09257338],\n",
              "       [-0.07451378],\n",
              "       [-0.0849902 ],\n",
              "       [-0.08593323],\n",
              "       [-0.07846674],\n",
              "       [-0.07846715],\n",
              "       [-0.06804517],\n",
              "       [-0.09314971],\n",
              "       [-0.04956192],\n",
              "       [-0.06207285],\n",
              "       [-0.0971688 ],\n",
              "       [-0.08803146],\n",
              "       [-0.09394328],\n",
              "       [-0.07010538],\n",
              "       [-0.0893636 ],\n",
              "       [-0.06834441],\n",
              "       [-0.08923411],\n",
              "       [-0.084188  ],\n",
              "       [-0.08455414],\n",
              "       [-0.05082859],\n",
              "       [-0.08876675],\n",
              "       [-0.06776308],\n",
              "       [-0.0588499 ],\n",
              "       [-0.07825302],\n",
              "       [-0.07459652],\n",
              "       [-0.10599992],\n",
              "       [-0.06226139],\n",
              "       [-0.04994758],\n",
              "       [-0.07251114],\n",
              "       [-0.09669305],\n",
              "       [-0.1026864 ],\n",
              "       [-0.1037726 ],\n",
              "       [-0.07005747],\n",
              "       [-0.0921187 ],\n",
              "       [-0.06520022],\n",
              "       [-0.0775386 ],\n",
              "       [-0.09213801],\n",
              "       [-0.10054934],\n",
              "       [-0.07940511],\n",
              "       [-0.07873952],\n",
              "       [-0.07673974],\n",
              "       [-0.089056  ],\n",
              "       [-0.06760388],\n",
              "       [-0.08691626],\n",
              "       [-0.06321701],\n",
              "       [-0.08703417],\n",
              "       [-0.09545176],\n",
              "       [-0.0933212 ],\n",
              "       [-0.09425467],\n",
              "       [-0.06174653],\n",
              "       [-0.06283133],\n",
              "       [-0.07176382],\n",
              "       [-0.07961022],\n",
              "       [-0.10823255],\n",
              "       [-0.03628897],\n",
              "       [-0.10288569],\n",
              "       [-0.05890264],\n",
              "       [-0.09146687],\n",
              "       [-0.08185073],\n",
              "       [-0.05758596],\n",
              "       [-0.09186347]], dtype=float32)"
            ]
          },
          "metadata": {
            "tags": []
          },
          "execution_count": 85
        }
      ]
    },
    {
      "cell_type": "markdown",
      "metadata": {
        "id": "J-KfQCGlvHlT"
      },
      "source": [
        "**Logs Dictionary**\n",
        "\n",
        "We can do better by taking the advantage of `logs` dictionary in Keras to define our own callback and check the progress of a model. \n",
        "\n",
        "What does the `logs` dictionary do?\n",
        "- The `logs` dictionary stores the loss values , along with all of the metrics we are using at the end of a batch or epoch. \n",
        "- We can use the information from the `logs` dictionary into our own custom callbacks. \n",
        "\n",
        "We're going to experiment with our diabetes dataset \n",
        "\n",
        "\n"
      ]
    },
    {
      "cell_type": "code",
      "metadata": {
        "id": "7dGytBH8DjRm"
      },
      "source": [
        "# Build the model at first \n",
        "\n",
        "model = Sequential([\n",
        "  Dense(128 , activation = 'relu' , input_shape = (train_data.shape[1] , )), \n",
        "  Dense(64 , activation = 'relu'), \n",
        "  BatchNormalization(), \n",
        "  Dense(64 , activation = 'relu'), \n",
        "  Dense(64 , activation= 'relu'), \n",
        "  Dense(1)\n",
        "])\n",
        "\n",
        "# Compile the model \n",
        "model.compile(loss = 'mse' , \n",
        "              optimizer = 'adam' , \n",
        "              metrics = ['mae'])"
      ],
      "execution_count": 86,
      "outputs": []
    },
    {
      "cell_type": "markdown",
      "metadata": {
        "id": "jhiPomVNE6RM"
      },
      "source": [
        "**Custom callback by using `logs` dictionary**\n",
        "\n",
        "Will create our custom callback using the `logs` dictionary to access the losss and metric values."
      ]
    },
    {
      "cell_type": "code",
      "metadata": {
        "id": "bPnV21fymDK0"
      },
      "source": [
        "# Creating our own custom callback \n",
        "\n",
        "class LossAndMetricCallback(tf.keras.callbacks.Callback):\n",
        "\n",
        "  # Print the loss after every second batch in training set\n",
        "  def on_train_batch_end(self , batch , logs = None):\n",
        "    if batch % 2 == 0: \n",
        "      #print(f'After batch {batch}, the loss is {logs['loss']}')\n",
        "       print('\\n After batch {}, the loss is {:7.2f}'.format(batch , logs['loss']))\n",
        "\n",
        "\n",
        "  # Prints the loss after each batch in the test set \n",
        "  def on_test_batch_end(self , batch , logs = None):\n",
        "    #print(f'After batch {batch} , the loss is {logs['loss']}')\n",
        "    print('\\n After batch {}, the loss is {:7.2f}'.format(batch , logs['loss']))\n",
        "\n",
        "\n",
        "  # Print the loss and mean absolute erro after each epoch \n",
        "  def on_epoch_end(self , epoch , logs = None):\n",
        "    #print(f'Epoch {epoch}: Average loss is {logs['loss']}, mean absolute error is {logs['mae']}.')\n",
        "    print('Epoch {}: Average loss is {}, mean absolute error is {}'.format(epoch , logs['loss'] , logs['mae']))\n",
        "\n",
        "\n",
        "  # Notify the user when prediction has finished on each batch \n",
        "  def on_predict_batch_end(self , batch , logs = None):\n",
        "    print(f'Finished prediction on batch {batch}')"
      ],
      "execution_count": 87,
      "outputs": []
    },
    {
      "cell_type": "markdown",
      "metadata": {
        "id": "RYdgWraXnaSS"
      },
      "source": [
        "Now let's fit the model to our data and use our custom callback. "
      ]
    },
    {
      "cell_type": "code",
      "metadata": {
        "colab": {
          "base_uri": "https://localhost:8080/"
        },
        "id": "swscuTySpN7u",
        "outputId": "dc0491da-ecbc-4ad6-879c-60454abccc3e"
      },
      "source": [
        "# Training the model \n",
        "\n",
        "history = model.fit(train_data , train_targets , epochs = 20 , \n",
        "                    batch_size = 100 , \n",
        "                    callbacks = [LossAndMetricCallback()] , \n",
        "                    verbose = False)"
      ],
      "execution_count": 88,
      "outputs": [
        {
          "output_type": "stream",
          "text": [
            "/usr/local/lib/python3.7/dist-packages/tensorflow/python/data/ops/dataset_ops.py:3504: UserWarning: Even though the tf.config.experimental_run_functions_eagerly option is set, this option does not apply to tf.data functions. tf.data functions are still traced and executed as graphs.\n",
            "  \"Even though the tf.config.experimental_run_functions_eagerly \"\n"
          ],
          "name": "stderr"
        },
        {
          "output_type": "stream",
          "text": [
            "\n",
            " After batch 0, the loss is    0.92\n",
            "\n",
            " After batch 2, the loss is    0.95\n",
            "Epoch 0: Average loss is 0.9429743885993958, mean absolute error is 0.8353925943374634\n",
            "\n",
            " After batch 0, the loss is    0.85\n",
            "\n",
            " After batch 2, the loss is    0.74\n",
            "Epoch 1: Average loss is 0.7249260544776917, mean absolute error is 0.72306227684021\n",
            "\n",
            " After batch 0, the loss is    0.59\n",
            "\n",
            " After batch 2, the loss is    0.57\n",
            "Epoch 2: Average loss is 0.5637138485908508, mean absolute error is 0.626350998878479\n",
            "\n",
            " After batch 0, the loss is    0.54\n",
            "\n",
            " After batch 2, the loss is    0.51\n",
            "Epoch 3: Average loss is 0.5015842914581299, mean absolute error is 0.5765392184257507\n",
            "\n",
            " After batch 0, the loss is    0.44\n",
            "\n",
            " After batch 2, the loss is    0.45\n",
            "Epoch 4: Average loss is 0.4658781588077545, mean absolute error is 0.549201488494873\n",
            "\n",
            " After batch 0, the loss is    0.43\n",
            "\n",
            " After batch 2, the loss is    0.46\n",
            "Epoch 5: Average loss is 0.4506192207336426, mean absolute error is 0.5368654727935791\n",
            "\n",
            " After batch 0, the loss is    0.53\n",
            "\n",
            " After batch 2, the loss is    0.43\n",
            "Epoch 6: Average loss is 0.42494598031044006, mean absolute error is 0.5207162499427795\n",
            "\n",
            " After batch 0, the loss is    0.38\n",
            "\n",
            " After batch 2, the loss is    0.41\n",
            "Epoch 7: Average loss is 0.41073188185691833, mean absolute error is 0.5174153447151184\n",
            "\n",
            " After batch 0, the loss is    0.39\n",
            "\n",
            " After batch 2, the loss is    0.36\n",
            "Epoch 8: Average loss is 0.3951975703239441, mean absolute error is 0.5014204978942871\n",
            "\n",
            " After batch 0, the loss is    0.29\n",
            "\n",
            " After batch 2, the loss is    0.36\n",
            "Epoch 9: Average loss is 0.3779585063457489, mean absolute error is 0.4849574565887451\n",
            "\n",
            " After batch 0, the loss is    0.40\n",
            "\n",
            " After batch 2, the loss is    0.36\n",
            "Epoch 10: Average loss is 0.3623945713043213, mean absolute error is 0.4769986867904663\n",
            "\n",
            " After batch 0, the loss is    0.38\n",
            "\n",
            " After batch 2, the loss is    0.35\n",
            "Epoch 11: Average loss is 0.3465154767036438, mean absolute error is 0.46366652846336365\n",
            "\n",
            " After batch 0, the loss is    0.36\n",
            "\n",
            " After batch 2, the loss is    0.32\n",
            "Epoch 12: Average loss is 0.3353755474090576, mean absolute error is 0.45459240674972534\n",
            "\n",
            " After batch 0, the loss is    0.32\n",
            "\n",
            " After batch 2, the loss is    0.33\n",
            "Epoch 13: Average loss is 0.3295668065547943, mean absolute error is 0.4536060094833374\n",
            "\n",
            " After batch 0, the loss is    0.42\n",
            "\n",
            " After batch 2, the loss is    0.35\n",
            "Epoch 14: Average loss is 0.3533671200275421, mean absolute error is 0.46398839354515076\n",
            "\n",
            " After batch 0, the loss is    0.28\n",
            "\n",
            " After batch 2, the loss is    0.30\n",
            "Epoch 15: Average loss is 0.3157818913459778, mean absolute error is 0.4346666932106018\n",
            "\n",
            " After batch 0, the loss is    0.33\n",
            "\n",
            " After batch 2, the loss is    0.28\n",
            "Epoch 16: Average loss is 0.296875, mean absolute error is 0.42378053069114685\n",
            "\n",
            " After batch 0, the loss is    0.35\n",
            "\n",
            " After batch 2, the loss is    0.30\n",
            "Epoch 17: Average loss is 0.2861712574958801, mean absolute error is 0.4151410758495331\n",
            "\n",
            " After batch 0, the loss is    0.37\n",
            "\n",
            " After batch 2, the loss is    0.29\n",
            "Epoch 18: Average loss is 0.27560973167419434, mean absolute error is 0.40329766273498535\n",
            "\n",
            " After batch 0, the loss is    0.25\n",
            "\n",
            " After batch 2, the loss is    0.26\n",
            "Epoch 19: Average loss is 0.2780190706253052, mean absolute error is 0.40606433153152466\n"
          ],
          "name": "stdout"
        }
      ]
    },
    {
      "cell_type": "markdown",
      "metadata": {
        "id": "HvRDCy7lpYQ6"
      },
      "source": [
        "We can also use our callback in the `evaluate` function."
      ]
    },
    {
      "cell_type": "code",
      "metadata": {
        "colab": {
          "base_uri": "https://localhost:8080/"
        },
        "id": "Y7jy5T_HqigT",
        "outputId": "177885a3-fcb7-443d-8ba1-e8692989135d"
      },
      "source": [
        "# Evaluate the model \n",
        "model.evaluate(test_data , test_targets , batch_size = 10 , \n",
        "               callbacks = [LossAndMetricCallback()] , \n",
        "               verbose = False)"
      ],
      "execution_count": 89,
      "outputs": [
        {
          "output_type": "stream",
          "text": [
            "\n",
            " After batch 0, the loss is    0.98\n",
            "\n",
            " After batch 1, the loss is    0.80\n",
            "\n",
            " After batch 2, the loss is    0.79\n",
            "\n",
            " After batch 3, the loss is    0.84\n",
            "\n",
            " After batch 4, the loss is    0.86\n",
            "\n",
            " After batch 5, the loss is    0.82\n",
            "\n",
            " After batch 6, the loss is    0.84\n",
            "\n",
            " After batch 7, the loss is    0.86\n",
            "\n",
            " After batch 8, the loss is    0.85\n"
          ],
          "name": "stdout"
        },
        {
          "output_type": "stream",
          "text": [
            "/usr/local/lib/python3.7/dist-packages/tensorflow/python/data/ops/dataset_ops.py:3504: UserWarning: Even though the tf.config.experimental_run_functions_eagerly option is set, this option does not apply to tf.data functions. tf.data functions are still traced and executed as graphs.\n",
            "  \"Even though the tf.config.experimental_run_functions_eagerly \"\n"
          ],
          "name": "stderr"
        },
        {
          "output_type": "execute_result",
          "data": {
            "text/plain": [
              "[0.8504957556724548, 0.8171901106834412]"
            ]
          },
          "metadata": {
            "tags": []
          },
          "execution_count": 89
        }
      ]
    },
    {
      "cell_type": "markdown",
      "metadata": {
        "id": "lJEHBpjtquVg"
      },
      "source": [
        "Also use in the `predict` function"
      ]
    },
    {
      "cell_type": "code",
      "metadata": {
        "colab": {
          "base_uri": "https://localhost:8080/"
        },
        "id": "dE3qS3DsrA5d",
        "outputId": "83d0db2c-aa9d-4c84-a2c4-e2d805e69aa6"
      },
      "source": [
        "# Get predictions from the model \n",
        "model_pred = model.predict(test_data , batch_size = 10 , \n",
        "                           callbacks = [LossAndMetricCallback()] , \n",
        "                           verbose = False)"
      ],
      "execution_count": 90,
      "outputs": [
        {
          "output_type": "stream",
          "text": [
            "/usr/local/lib/python3.7/dist-packages/tensorflow/python/data/ops/dataset_ops.py:3504: UserWarning: Even though the tf.config.experimental_run_functions_eagerly option is set, this option does not apply to tf.data functions. tf.data functions are still traced and executed as graphs.\n",
            "  \"Even though the tf.config.experimental_run_functions_eagerly \"\n"
          ],
          "name": "stderr"
        },
        {
          "output_type": "stream",
          "text": [
            "Finished prediction on batch 0\n",
            "Finished prediction on batch 1\n",
            "Finished prediction on batch 2\n",
            "Finished prediction on batch 3\n",
            "Finished prediction on batch 4\n",
            "Finished prediction on batch 5\n",
            "Finished prediction on batch 6\n",
            "Finished prediction on batch 7\n",
            "Finished prediction on batch 8\n"
          ],
          "name": "stdout"
        }
      ]
    },
    {
      "cell_type": "markdown",
      "metadata": {
        "id": "wqGw8xZMrLVW"
      },
      "source": [
        "Alright we're building some random callbacks which is of no use at all. In here we will build a callback that will be a big help during our training.\n",
        "\n",
        "- We're going to define a callback to change the learning rate of the optimizer of a model during training. \n",
        "- Will do this by specifying the epochs and new learning rates where we would like it to be changed. \n",
        "\n",
        "Let's create an auxiliary function that return the learning rate for each epoch based on our schedule. "
      ]
    },
    {
      "cell_type": "code",
      "metadata": {
        "id": "xgAWsYbvryQm"
      },
      "source": [
        "# Define a learning rate schedule. \n",
        "\n",
        "# Tuples below are (start_epoch , learning_rate)\n",
        "lr_schedule = [\n",
        "  (4 , 0.03) , (7 , 0.02) , (11 , 0.005) , (15 , 0.007)\n",
        "]\n",
        "\n",
        "# Defining the function that will help us \n",
        "def get_new_epoch_lr(epoch , lr):\n",
        "  '''\n",
        "  Checks to see if the input epoch is listed in the learning rate schedule (tuple above)\n",
        "  If it does, returns index in lr_schedule\n",
        "\n",
        "  '''\n",
        "  epoch_in_sched = [i for i in range(len(lr_schedule)) if lr_schedule[i][0] == int(epoch)]\n",
        "  if len(epoch_in_sched) > 0:\n",
        "    # Return the lr inside the tuple to that epoch \n",
        "    return lr_schedule[epoch_in_sched[0]][1]\n",
        "\n",
        "  else:\n",
        "    return lr\n"
      ],
      "execution_count": 91,
      "outputs": []
    },
    {
      "cell_type": "code",
      "metadata": {
        "id": "v6mBlnkNtAPw"
      },
      "source": [
        "# Let's now create a Class of our custom callback \n",
        "\n",
        "class LRScheduler(tf.keras.callbacks.Callback):\n",
        "\n",
        "  def __init__(self , new_lr):\n",
        "    super(LRScheduler , self).__init__()\n",
        "    # Add the new lr function to our callback \n",
        "    self.new_lr = new_lr\n",
        "\n",
        "  # Adding a method \n",
        "  def on_epoch_begin(self , epoch , logs = None):\n",
        "    #Optimizer should have chosen a learning rate, if not raises error\n",
        "    if not hasattr(self.model.optimizer , 'lr'):\n",
        "      raise ValueError('Error: Optimizer does not have a learning rate')\n",
        "\n",
        "    # Get the current learning \n",
        "    curr_rate = float(tf.keras.backend.get_value(self.model.optimizer.lr))\n",
        "\n",
        "    # Call auxillary functions to get the scheduled learning rate (tuple one)\n",
        "    scheduled_rate = self.new_lr(epoch , curr_rate)\n",
        "\n",
        "    # Set the learning rate to the scheduled learning rate \n",
        "    tf.keras.backend.set_value(self.model.optimizer.lr , scheduled_rate)\n",
        "    print('Learning rate for epoch {} is {:7.3f}'.format(epoch , scheduled_rate))\n",
        "\n",
        "  "
      ],
      "execution_count": 92,
      "outputs": []
    },
    {
      "cell_type": "markdown",
      "metadata": {
        "id": "QdXDcFgzt8RK"
      },
      "source": [
        "Awesome we created our own custom callback for learning rate scheduling. Let's use this! "
      ]
    },
    {
      "cell_type": "code",
      "metadata": {
        "id": "RPf8cb1AucvU"
      },
      "source": [
        "# Build the model \n",
        "\n",
        "model = tf.keras.Sequential([\n",
        "  Dense(128 , activation = 'relu' , input_shape = (train_data.shape[1] ,)), \n",
        "  Dense(64 , activation = 'relu'),\n",
        "  BatchNormalization(), \n",
        "  Dense(64 , activation= 'relu'),\n",
        "  Dense(63 , activation = 'relu'),\n",
        "  Dense(1)\n",
        "])\n",
        "\n",
        "# Compile the model \n",
        "model.compile(loss = 'mae' , \n",
        "              optimizer = 'adam' , \n",
        "              metrics = ['mae' , 'mse'])"
      ],
      "execution_count": 93,
      "outputs": []
    },
    {
      "cell_type": "code",
      "metadata": {
        "colab": {
          "base_uri": "https://localhost:8080/"
        },
        "id": "cKr6XU13z2kS",
        "outputId": "eea31354-da33-4537-c507-0e85027b2445"
      },
      "source": [
        "# Fit the mdoel with the learning rate scheduler callback \n",
        "\n",
        "history = model.fit(train_data , train_targets , epochs = 20 , \n",
        "                    batch_size = 100 , \n",
        "                    callbacks = [LRScheduler(get_new_epoch_lr)])"
      ],
      "execution_count": 94,
      "outputs": [
        {
          "output_type": "stream",
          "text": [
            "Epoch 1/20\n",
            "Learning rate for epoch 0 is   0.001\n",
            "4/4 [==============================] - 0s 22ms/step - loss: 0.7928 - mae: 0.7928 - mse: 0.8882\n"
          ],
          "name": "stdout"
        },
        {
          "output_type": "stream",
          "text": [
            "/usr/local/lib/python3.7/dist-packages/tensorflow/python/data/ops/dataset_ops.py:3504: UserWarning: Even though the tf.config.experimental_run_functions_eagerly option is set, this option does not apply to tf.data functions. tf.data functions are still traced and executed as graphs.\n",
            "  \"Even though the tf.config.experimental_run_functions_eagerly \"\n"
          ],
          "name": "stderr"
        },
        {
          "output_type": "stream",
          "text": [
            "Epoch 2/20\n",
            "Learning rate for epoch 1 is   0.001\n",
            "4/4 [==============================] - 0s 22ms/step - loss: 0.6665 - mae: 0.6665 - mse: 0.6581\n",
            "Epoch 3/20\n",
            "Learning rate for epoch 2 is   0.001\n",
            "4/4 [==============================] - 0s 22ms/step - loss: 0.5916 - mae: 0.5916 - mse: 0.5451\n",
            "Epoch 4/20\n",
            "Learning rate for epoch 3 is   0.001\n",
            "4/4 [==============================] - 0s 21ms/step - loss: 0.5508 - mae: 0.5508 - mse: 0.4902\n",
            "Epoch 5/20\n",
            "Learning rate for epoch 4 is   0.030\n",
            "4/4 [==============================] - 0s 20ms/step - loss: 0.6624 - mae: 0.6624 - mse: 0.7947\n",
            "Epoch 6/20\n",
            "Learning rate for epoch 5 is   0.030\n",
            "4/4 [==============================] - 0s 21ms/step - loss: 0.6856 - mae: 0.6856 - mse: 0.7171\n",
            "Epoch 7/20\n",
            "Learning rate for epoch 6 is   0.030\n",
            "4/4 [==============================] - 0s 26ms/step - loss: 0.6635 - mae: 0.6635 - mse: 0.6544\n",
            "Epoch 8/20\n",
            "Learning rate for epoch 7 is   0.020\n",
            "4/4 [==============================] - 0s 24ms/step - loss: 0.5944 - mae: 0.5944 - mse: 0.5415\n",
            "Epoch 9/20\n",
            "Learning rate for epoch 8 is   0.020\n",
            "4/4 [==============================] - 0s 27ms/step - loss: 0.5662 - mae: 0.5662 - mse: 0.5402\n",
            "Epoch 10/20\n",
            "Learning rate for epoch 9 is   0.020\n",
            "4/4 [==============================] - 0s 25ms/step - loss: 0.5698 - mae: 0.5698 - mse: 0.5333\n",
            "Epoch 11/20\n",
            "Learning rate for epoch 10 is   0.020\n",
            "4/4 [==============================] - 0s 22ms/step - loss: 0.5631 - mae: 0.5631 - mse: 0.5106\n",
            "Epoch 12/20\n",
            "Learning rate for epoch 11 is   0.005\n",
            "4/4 [==============================] - 0s 22ms/step - loss: 0.5133 - mae: 0.5133 - mse: 0.4436\n",
            "Epoch 13/20\n",
            "Learning rate for epoch 12 is   0.005\n",
            "4/4 [==============================] - 0s 23ms/step - loss: 0.5101 - mae: 0.5101 - mse: 0.4449\n",
            "Epoch 14/20\n",
            "Learning rate for epoch 13 is   0.005\n",
            "4/4 [==============================] - 0s 22ms/step - loss: 0.5098 - mae: 0.5098 - mse: 0.4305\n",
            "Epoch 15/20\n",
            "Learning rate for epoch 14 is   0.005\n",
            "4/4 [==============================] - 0s 21ms/step - loss: 0.5269 - mae: 0.5269 - mse: 0.4680\n",
            "Epoch 16/20\n",
            "Learning rate for epoch 15 is   0.007\n",
            "4/4 [==============================] - 0s 20ms/step - loss: 0.4871 - mae: 0.4871 - mse: 0.4284\n",
            "Epoch 17/20\n",
            "Learning rate for epoch 16 is   0.007\n",
            "4/4 [==============================] - 0s 21ms/step - loss: 0.4745 - mae: 0.4745 - mse: 0.4097\n",
            "Epoch 18/20\n",
            "Learning rate for epoch 17 is   0.007\n",
            "4/4 [==============================] - 0s 23ms/step - loss: 0.4691 - mae: 0.4691 - mse: 0.3960\n",
            "Epoch 19/20\n",
            "Learning rate for epoch 18 is   0.007\n",
            "4/4 [==============================] - 0s 23ms/step - loss: 0.4580 - mae: 0.4580 - mse: 0.3866\n",
            "Epoch 20/20\n",
            "Learning rate for epoch 19 is   0.007\n",
            "4/4 [==============================] - 0s 28ms/step - loss: 0.4650 - mae: 0.4650 - mse: 0.3913\n"
          ],
          "name": "stdout"
        }
      ]
    },
    {
      "cell_type": "markdown",
      "metadata": {
        "id": "zV9JjZJH0JIT"
      },
      "source": [
        "Further readings: \n",
        "- https://www.tensorflow.org/guide/keras/custom_callback\n",
        "- https://www.tensorflow.org/api_docs/python/tf/keras/callbacks/Callback\n",
        "- https://www.tensorflow.org/guide/keras/custom_callback"
      ]
    },
    {
      "cell_type": "markdown",
      "metadata": {
        "id": "0IqFXqfp1PyI"
      },
      "source": [
        "#### Early Stopping Callbacks and Patience\n",
        "\n",
        "Early stopping callback is another regularization approach. \n",
        "\n",
        "**What it does?**\n",
        "\n",
        "This callback monitors the performance of the network for every epoch on a held out **validation set** during the training run. \n",
        "\n",
        "And terminate the training conditional on the validation performance. \n",
        "\n",
        "`tf.keras.callbacks.EarlyStopping`\n",
        "\n",
        "It has the following parameters: \n",
        "- `monitor = 'val_accuracy'`: this monitors the validation accuracy during the training. This is the performance measure (default setting)\n",
        "- `patience = 5`: by default it is set to 0. It means as soon as the performance measure gets worse from one epoch to another, then the training is terminated. In our case the training will terminate by monitoring the performance measure for 5 epochs.\n",
        "- `min_delta = 0.01` : this denotes what qualifies as an improvement for the monitor performance measure. In our case our val accuracy should improve by atleast 0.01 to qualify as an imrovement. \n",
        "- `mode = 'max'` : depending on our quantity our performance increases or decrease. For **val loss** the mode will be min because we expect our measure to decrease, and it's opposite with val accuracy. By default it's `auto` which means tensorflow will set it depending upon your monitor performance measure. "
      ]
    },
    {
      "cell_type": "code",
      "metadata": {
        "colab": {
          "base_uri": "https://localhost:8080/"
        },
        "id": "ZLIQ-8OA1nGO",
        "outputId": "006e5cb0-d527-47ca-ec41-e2f0272a2ff5"
      },
      "source": [
        "def unreg_model():\n",
        "    model = Sequential([\n",
        "        Dense(128, activation=\"relu\", input_shape=(train_data.shape[1],)),\n",
        "        Dense(128, activation=\"relu\"),\n",
        "        Dense(128, activation=\"relu\"),\n",
        "        Dense(128, activation=\"relu\"),\n",
        "        Dense(128, activation=\"relu\"),\n",
        "        Dense(128, activation=\"relu\"),\n",
        "        Dense(1)\n",
        "    ])\n",
        "    return model\n",
        "\n",
        "# Getting the model \n",
        "unreg_model = unreg_model()\n",
        "\n",
        "# Compile the model \n",
        "unreg_model.compile(loss = 'mae' , \n",
        "              optimizer = 'adam')\n",
        "\n",
        "# Fit the model \n",
        "unreg_history = unreg_model.fit(train_data , train_targets , \n",
        "                                epochs= 100 , \n",
        "                                validation_split = 0.15 , batch_size = 64 , \n",
        "                                verbose = False , \n",
        "                                callbacks = [tf.keras.callbacks.EarlyStopping()])\n"
      ],
      "execution_count": 95,
      "outputs": [
        {
          "output_type": "stream",
          "text": [
            "/usr/local/lib/python3.7/dist-packages/tensorflow/python/data/ops/dataset_ops.py:3504: UserWarning: Even though the tf.config.experimental_run_functions_eagerly option is set, this option does not apply to tf.data functions. tf.data functions are still traced and executed as graphs.\n",
            "  \"Even though the tf.config.experimental_run_functions_eagerly \"\n"
          ],
          "name": "stderr"
        }
      ]
    },
    {
      "cell_type": "code",
      "metadata": {
        "colab": {
          "base_uri": "https://localhost:8080/"
        },
        "id": "h_j5EVrI6Bkv",
        "outputId": "9dd1786b-9ddf-439c-e997-613adf926cf1"
      },
      "source": [
        "# Evaluate the model on test data \n",
        "\n",
        "unreg_model.evaluate(test_data , test_targets , verbose = 2)"
      ],
      "execution_count": 96,
      "outputs": [
        {
          "output_type": "stream",
          "text": [
            "3/3 - 0s - loss: 0.5680\n"
          ],
          "name": "stdout"
        },
        {
          "output_type": "stream",
          "text": [
            "/usr/local/lib/python3.7/dist-packages/tensorflow/python/data/ops/dataset_ops.py:3504: UserWarning: Even though the tf.config.experimental_run_functions_eagerly option is set, this option does not apply to tf.data functions. tf.data functions are still traced and executed as graphs.\n",
            "  \"Even though the tf.config.experimental_run_functions_eagerly \"\n"
          ],
          "name": "stderr"
        },
        {
          "output_type": "execute_result",
          "data": {
            "text/plain": [
              "0.5680274367332458"
            ]
          },
          "metadata": {
            "tags": []
          },
          "execution_count": 96
        }
      ]
    },
    {
      "cell_type": "code",
      "metadata": {
        "colab": {
          "base_uri": "https://localhost:8080/"
        },
        "id": "GTKKUM7v6Mdf",
        "outputId": "b024f335-853a-4c6e-9027-d5c69bebaf5d"
      },
      "source": [
        "# Now using the regularized model\n",
        "reg_model = get_model(1e-8 , 0.2)\n",
        "\n",
        "# Compiling the model\n",
        "reg_model.compile(loss = 'mae' , \n",
        "                  optimizer = 'adam')\n",
        "\n",
        "# Fit the model \n",
        "reg_history = reg_model.fit(train_data , train_targets ,\n",
        "                            epochs = 100 , \n",
        "                            validation_split = 0.15 , \n",
        "                            batch_size = 64 , \n",
        "                            verbose = False , \n",
        "                            callbacks = [tf.keras.callbacks.EarlyStopping()])"
      ],
      "execution_count": 97,
      "outputs": [
        {
          "output_type": "stream",
          "text": [
            "/usr/local/lib/python3.7/dist-packages/tensorflow/python/data/ops/dataset_ops.py:3504: UserWarning: Even though the tf.config.experimental_run_functions_eagerly option is set, this option does not apply to tf.data functions. tf.data functions are still traced and executed as graphs.\n",
            "  \"Even though the tf.config.experimental_run_functions_eagerly \"\n"
          ],
          "name": "stderr"
        }
      ]
    },
    {
      "cell_type": "code",
      "metadata": {
        "colab": {
          "base_uri": "https://localhost:8080/"
        },
        "id": "_x3Ym9yB7F1w",
        "outputId": "166492f3-a7f3-43bb-9fae-3143281996b6"
      },
      "source": [
        "# Evaluate on the test data \n",
        "\n",
        "reg_model.evaluate(test_data , test_targets , verbose = 2)"
      ],
      "execution_count": 98,
      "outputs": [
        {
          "output_type": "stream",
          "text": [
            "3/3 - 0s - loss: 0.8251\n"
          ],
          "name": "stdout"
        },
        {
          "output_type": "stream",
          "text": [
            "/usr/local/lib/python3.7/dist-packages/tensorflow/python/data/ops/dataset_ops.py:3504: UserWarning: Even though the tf.config.experimental_run_functions_eagerly option is set, this option does not apply to tf.data functions. tf.data functions are still traced and executed as graphs.\n",
            "  \"Even though the tf.config.experimental_run_functions_eagerly \"\n"
          ],
          "name": "stderr"
        },
        {
          "output_type": "execute_result",
          "data": {
            "text/plain": [
              "0.8250994086265564"
            ]
          },
          "metadata": {
            "tags": []
          },
          "execution_count": 98
        }
      ]
    },
    {
      "cell_type": "markdown",
      "metadata": {
        "id": "brOfYCTv7VoC"
      },
      "source": [
        "Wow!! By using the `EarlyStoppingCallback` our loss in unregularized model is lowered by a bit. Whereas the regualarized model has little higher loss than our unreg one. "
      ]
    },
    {
      "cell_type": "code",
      "metadata": {
        "colab": {
          "base_uri": "https://localhost:8080/",
          "height": 322
        },
        "id": "etxWqny67kmn",
        "outputId": "11f4033b-2292-4194-fb7b-b94dd1983c48"
      },
      "source": [
        "# Plot the training and validation loss\n",
        "\n",
        "import matplotlib.pyplot as plt\n",
        "\n",
        "fig = plt.figure(figsize=(12, 5))\n",
        "\n",
        "fig.add_subplot(121)\n",
        "\n",
        "plt.plot(unreg_history.history['loss'])\n",
        "plt.plot(unreg_history.history['val_loss'])\n",
        "plt.title('Unregularised model: loss vs. epochs')\n",
        "plt.ylabel('Loss')\n",
        "plt.xlabel('Epoch')\n",
        "plt.legend(['Training', 'Validation'], loc='upper right')\n",
        "\n",
        "fig.add_subplot(122)\n",
        "\n",
        "plt.plot(reg_history.history['loss'])\n",
        "plt.plot(reg_history.history['val_loss'])\n",
        "plt.title('Regularised model: loss vs. epochs')\n",
        "plt.ylabel('Loss')\n",
        "plt.xlabel('Epoch')\n",
        "plt.legend(['Training', 'Validation'], loc='upper right')\n",
        "\n",
        "plt.show()"
      ],
      "execution_count": 99,
      "outputs": [
        {
          "output_type": "display_data",
          "data": {
            "image/png": "[encoded data removed]",
            "text/plain": [
              "<Figure size 864x360 with 2 Axes>"
            ]
          },
          "metadata": {
            "tags": [],
            "needs_background": "light"
          }
        }
      ]
    },
    {
      "cell_type": "markdown",
      "metadata": {
        "id": "CZe6Spac7p2v"
      },
      "source": [
        "**Setting patience to 10**"
      ]
    },
    {
      "cell_type": "code",
      "metadata": {
        "colab": {
          "base_uri": "https://localhost:8080/"
        },
        "id": "-sUxJqw57x8_",
        "outputId": "6fe861b8-f5f1-400f-8185-c04a9c69c4a6"
      },
      "source": [
        "def unreg_model():\n",
        "    model = Sequential([\n",
        "        Dense(128, activation=\"relu\", input_shape=(train_data.shape[1],)),\n",
        "        Dense(128, activation=\"relu\"),\n",
        "        Dense(128, activation=\"relu\"),\n",
        "        Dense(128, activation=\"relu\"),\n",
        "        Dense(128, activation=\"relu\"),\n",
        "        Dense(128, activation=\"relu\"),\n",
        "        Dense(1)\n",
        "    ])\n",
        "    return model\n",
        "\n",
        "# Getting the model \n",
        "unreg_model = unreg_model()\n",
        "\n",
        "# Compile the model \n",
        "unreg_model.compile(loss = 'mae' , \n",
        "              optimizer = 'adam')\n",
        "\n",
        "# Fit the model \n",
        "unreg_history = unreg_model.fit(train_data , train_targets , \n",
        "                                epochs= 100 , \n",
        "                                validation_split = 0.15 , batch_size = 64 , \n",
        "                                verbose = False , \n",
        "                                callbacks = [tf.keras.callbacks.EarlyStopping(patience=10)])\n"
      ],
      "execution_count": 100,
      "outputs": [
        {
          "output_type": "stream",
          "text": [
            "/usr/local/lib/python3.7/dist-packages/tensorflow/python/data/ops/dataset_ops.py:3504: UserWarning: Even though the tf.config.experimental_run_functions_eagerly option is set, this option does not apply to tf.data functions. tf.data functions are still traced and executed as graphs.\n",
            "  \"Even though the tf.config.experimental_run_functions_eagerly \"\n"
          ],
          "name": "stderr"
        }
      ]
    },
    {
      "cell_type": "code",
      "metadata": {
        "colab": {
          "base_uri": "https://localhost:8080/"
        },
        "id": "c34nH1ry73CY",
        "outputId": "95a6ed2c-bcdf-4511-e976-06cf00a0eb98"
      },
      "source": [
        "# Evaluating the model \n",
        "unreg_model.evaluate(test_data , test_targets ,verbose= 2)"
      ],
      "execution_count": 101,
      "outputs": [
        {
          "output_type": "stream",
          "text": [
            "3/3 - 0s - loss: 0.5568\n"
          ],
          "name": "stdout"
        },
        {
          "output_type": "stream",
          "text": [
            "/usr/local/lib/python3.7/dist-packages/tensorflow/python/data/ops/dataset_ops.py:3504: UserWarning: Even though the tf.config.experimental_run_functions_eagerly option is set, this option does not apply to tf.data functions. tf.data functions are still traced and executed as graphs.\n",
            "  \"Even though the tf.config.experimental_run_functions_eagerly \"\n"
          ],
          "name": "stderr"
        },
        {
          "output_type": "execute_result",
          "data": {
            "text/plain": [
              "0.5568426847457886"
            ]
          },
          "metadata": {
            "tags": []
          },
          "execution_count": 101
        }
      ]
    },
    {
      "cell_type": "code",
      "metadata": {
        "colab": {
          "base_uri": "https://localhost:8080/"
        },
        "id": "xR97bqMl793C",
        "outputId": "6d47241a-45c5-4614-9f30-ae56ccf5fce6"
      },
      "source": [
        "# Now using the regularized model\n",
        "reg_model = get_model(1e-8 , 0.2)\n",
        "\n",
        "# Compiling the model\n",
        "reg_model.compile(loss = 'mae' , \n",
        "                  optimizer = 'adam')\n",
        "\n",
        "# Fit the model \n",
        "reg_history = reg_model.fit(train_data , train_targets ,\n",
        "                            epochs = 100 , \n",
        "                            validation_split = 0.15 , \n",
        "                            batch_size = 64 , \n",
        "                            verbose = False , \n",
        "                            callbacks = [tf.keras.callbacks.EarlyStopping(patience = 10)])"
      ],
      "execution_count": 102,
      "outputs": [
        {
          "output_type": "stream",
          "text": [
            "/usr/local/lib/python3.7/dist-packages/tensorflow/python/data/ops/dataset_ops.py:3504: UserWarning: Even though the tf.config.experimental_run_functions_eagerly option is set, this option does not apply to tf.data functions. tf.data functions are still traced and executed as graphs.\n",
            "  \"Even though the tf.config.experimental_run_functions_eagerly \"\n"
          ],
          "name": "stderr"
        }
      ]
    },
    {
      "cell_type": "code",
      "metadata": {
        "colab": {
          "base_uri": "https://localhost:8080/"
        },
        "id": "Iz0DZKVK8Io3",
        "outputId": "bf2df0fd-936f-45fd-ed80-25e503cb7067"
      },
      "source": [
        "# Evaluating on test data \n",
        "reg_model.evaluate(test_data , test_targets , verbose = 2)"
      ],
      "execution_count": 103,
      "outputs": [
        {
          "output_type": "stream",
          "text": [
            "3/3 - 0s - loss: 0.5391\n"
          ],
          "name": "stdout"
        },
        {
          "output_type": "stream",
          "text": [
            "/usr/local/lib/python3.7/dist-packages/tensorflow/python/data/ops/dataset_ops.py:3504: UserWarning: Even though the tf.config.experimental_run_functions_eagerly option is set, this option does not apply to tf.data functions. tf.data functions are still traced and executed as graphs.\n",
            "  \"Even though the tf.config.experimental_run_functions_eagerly \"\n"
          ],
          "name": "stderr"
        },
        {
          "output_type": "execute_result",
          "data": {
            "text/plain": [
              "0.5391472578048706"
            ]
          },
          "metadata": {
            "tags": []
          },
          "execution_count": 103
        }
      ]
    },
    {
      "cell_type": "code",
      "metadata": {
        "colab": {
          "base_uri": "https://localhost:8080/",
          "height": 325
        },
        "id": "kSOA6lMD8Qyt",
        "outputId": "5aa83c47-e717-4905-a1c1-c847b7f507cc"
      },
      "source": [
        "# Plot the training and validation loss\n",
        "\n",
        "import matplotlib.pyplot as plt\n",
        "\n",
        "fig = plt.figure(figsize=(12, 5))\n",
        "\n",
        "fig.add_subplot(121)\n",
        "\n",
        "plt.plot(unreg_history.history['loss'])\n",
        "plt.plot(unreg_history.history['val_loss'])\n",
        "plt.title('Unregularised model: loss vs. epochs')\n",
        "plt.ylabel('Loss')\n",
        "plt.xlabel('Epoch')\n",
        "plt.legend(['Training', 'Validation'], loc='upper right')\n",
        "\n",
        "fig.add_subplot(122)\n",
        "\n",
        "plt.plot(reg_history.history['loss'])\n",
        "plt.plot(reg_history.history['val_loss'])\n",
        "plt.title('Regularised model: loss vs. epochs')\n",
        "plt.ylabel('Loss')\n",
        "plt.xlabel('Epoch')\n",
        "plt.legend(['Training', 'Validation'], loc='upper right')\n",
        "\n",
        "plt.show()"
      ],
      "execution_count": 104,
      "outputs": [
        {
          "output_type": "display_data",
          "data": {
            "image/png": "[encoded data removed]",
            "text/plain": [
              "<Figure size 864x360 with 2 Axes>"
            ]
          },
          "metadata": {
            "tags": [],
            "needs_background": "light"
          }
        }
      ]
    },
    {
      "cell_type": "markdown",
      "metadata": {
        "id": "tU5CA8u88Wd9"
      },
      "source": [
        "\n",
        "\n",
        "**Let's reduce the patience to 2 epochs**"
      ]
    },
    {
      "cell_type": "code",
      "metadata": {
        "colab": {
          "base_uri": "https://localhost:8080/"
        },
        "id": "OpIInQQj8jXA",
        "outputId": "7f8fb1d5-6181-41da-ac2e-4df8c7562860"
      },
      "source": [
        "def unreg_model():\n",
        "    model = Sequential([\n",
        "        Dense(128, activation=\"relu\", input_shape=(train_data.shape[1],)),\n",
        "        Dense(128, activation=\"relu\"),\n",
        "        Dense(128, activation=\"relu\"),\n",
        "        Dense(128, activation=\"relu\"),\n",
        "        Dense(128, activation=\"relu\"),\n",
        "        Dense(128, activation=\"relu\"),\n",
        "        Dense(1)\n",
        "    ])\n",
        "    return model\n",
        "\n",
        "# Getting the model \n",
        "unreg_model = unreg_model()\n",
        "\n",
        "# Compile the model \n",
        "unreg_model.compile(loss = 'mae' , \n",
        "              optimizer = 'adam')\n",
        "\n",
        "# Fit the model \n",
        "unreg_history = unreg_model.fit(train_data , train_targets , \n",
        "                                epochs= 100 , \n",
        "                                validation_split = 0.15 , batch_size = 64 , \n",
        "                                verbose = False , \n",
        "                                callbacks = [tf.keras.callbacks.EarlyStopping(patience= 2)])\n",
        "\n",
        "\n",
        "# Evaluating the model \n",
        "unreg_model.evaluate(test_data , test_targets ,verbose= 2)"
      ],
      "execution_count": 105,
      "outputs": [
        {
          "output_type": "stream",
          "text": [
            "/usr/local/lib/python3.7/dist-packages/tensorflow/python/data/ops/dataset_ops.py:3504: UserWarning: Even though the tf.config.experimental_run_functions_eagerly option is set, this option does not apply to tf.data functions. tf.data functions are still traced and executed as graphs.\n",
            "  \"Even though the tf.config.experimental_run_functions_eagerly \"\n"
          ],
          "name": "stderr"
        },
        {
          "output_type": "stream",
          "text": [
            "3/3 - 0s - loss: 0.5424\n"
          ],
          "name": "stdout"
        },
        {
          "output_type": "execute_result",
          "data": {
            "text/plain": [
              "0.5423784852027893"
            ]
          },
          "metadata": {
            "tags": []
          },
          "execution_count": 105
        }
      ]
    },
    {
      "cell_type": "code",
      "metadata": {
        "colab": {
          "base_uri": "https://localhost:8080/"
        },
        "id": "MRjMc75C8puT",
        "outputId": "d16844f2-67bc-4299-c9b7-d8ea1dfcefa1"
      },
      "source": [
        "# Now using the regularized model\n",
        "reg_model = get_model(1e-8 , 0.2)\n",
        "\n",
        "# Compiling the model\n",
        "reg_model.compile(loss = 'mae' , \n",
        "                  optimizer = 'adam')\n",
        "\n",
        "# Fit the model \n",
        "reg_history = reg_model.fit(train_data , train_targets ,\n",
        "                            epochs = 100 , \n",
        "                            validation_split = 0.15 , \n",
        "                            batch_size = 64 , \n",
        "                            verbose = False , \n",
        "                            callbacks = [tf.keras.callbacks.EarlyStopping(patience = 2)])\n",
        "\n",
        "# Evaluating on test data \n",
        "reg_model.evaluate(test_data , test_targets , verbose = 2)"
      ],
      "execution_count": 106,
      "outputs": [
        {
          "output_type": "stream",
          "text": [
            "/usr/local/lib/python3.7/dist-packages/tensorflow/python/data/ops/dataset_ops.py:3504: UserWarning: Even though the tf.config.experimental_run_functions_eagerly option is set, this option does not apply to tf.data functions. tf.data functions are still traced and executed as graphs.\n",
            "  \"Even though the tf.config.experimental_run_functions_eagerly \"\n"
          ],
          "name": "stderr"
        },
        {
          "output_type": "stream",
          "text": [
            "3/3 - 0s - loss: 0.5436\n"
          ],
          "name": "stdout"
        },
        {
          "output_type": "execute_result",
          "data": {
            "text/plain": [
              "0.5435640811920166"
            ]
          },
          "metadata": {
            "tags": []
          },
          "execution_count": 106
        }
      ]
    },
    {
      "cell_type": "code",
      "metadata": {
        "colab": {
          "base_uri": "https://localhost:8080/",
          "height": 322
        },
        "id": "UoPRNBzU8y-T",
        "outputId": "8fc572b1-40da-4b2f-9f3a-1e1f1293a913"
      },
      "source": [
        "# Plot the training and validation loss\n",
        "\n",
        "import matplotlib.pyplot as plt\n",
        "\n",
        "fig = plt.figure(figsize=(12, 5))\n",
        "\n",
        "fig.add_subplot(121)\n",
        "\n",
        "plt.plot(unreg_history.history['loss'])\n",
        "plt.plot(unreg_history.history['val_loss'])\n",
        "plt.title('Unregularised model: loss vs. epochs')\n",
        "plt.ylabel('Loss')\n",
        "plt.xlabel('Epoch')\n",
        "plt.legend(['Training', 'Validation'], loc='upper right')\n",
        "\n",
        "fig.add_subplot(122)\n",
        "\n",
        "plt.plot(reg_history.history['loss'])\n",
        "plt.plot(reg_history.history['val_loss'])\n",
        "plt.title('Regularised model: loss vs. epochs')\n",
        "plt.ylabel('Loss')\n",
        "plt.xlabel('Epoch')\n",
        "plt.legend(['Training', 'Validation'], loc='upper right')\n",
        "\n",
        "plt.show()"
      ],
      "execution_count": 107,
      "outputs": [
        {
          "output_type": "display_data",
          "data": {
            "image/png": "[encoded data removed]",
            "text/plain": [
              "<Figure size 864x360 with 2 Axes>"
            ]
          },
          "metadata": {
            "tags": [],
            "needs_background": "light"
          }
        }
      ]
    },
    {
      "cell_type": "markdown",
      "metadata": {
        "id": "A89OKs6M82r1"
      },
      "source": [
        "### Additional Callbacks \n",
        "\n",
        "Will look into some of the inbuilt callbacks available in Keras. "
      ]
    },
    {
      "cell_type": "code",
      "metadata": {
        "id": "dwriXhp79Olk"
      },
      "source": [
        "# Load the diabetes dataset\n",
        "from sklearn.datasets import load_diabetes\n",
        "\n",
        "diabetes_dataset = load_diabetes()\n",
        "\n",
        "# Save the input and target variables\n",
        "from sklearn.model_selection import train_test_split\n",
        "\n",
        "data = diabetes_dataset['data']\n",
        "targets = diabetes_dataset['target']\n",
        "\n",
        "# Split the data set into training and test sets\n",
        "train_data, test_data, train_targets, test_targets = train_test_split(data, targets, test_size=0.1)\n",
        "\n",
        "# Build the model\n",
        "from tensorflow.keras.models import Sequential\n",
        "from tensorflow.keras.layers import Dense\n",
        "\n",
        "model = tf.keras.Sequential([\n",
        "    Dense(128, activation='relu', input_shape=(train_data.shape[1],)),\n",
        "    Dense(64,activation='relu'),\n",
        "    Dense(64, activation='relu'),\n",
        "    Dense(64, activation='relu'),\n",
        "    Dense(1)        \n",
        "])\n",
        "\n",
        "# Compile the model\n",
        "model.compile(loss='mse',\n",
        "                optimizer=\"adam\",metrics=[\"mse\",\"mae\"])"
      ],
      "execution_count": 108,
      "outputs": []
    },
    {
      "cell_type": "markdown",
      "metadata": {
        "id": "bAr-mBwm9fw6"
      },
      "source": [
        "##### **Learning Rate Scheduler**\n",
        "\n",
        "This is the callback which we implemented moments ago as an Custom Callback and also available as built in callback. \n",
        "\n",
        "In the `LearningRateScheduler` in Keras takes a function `schedule` as an argument. \n",
        "\n",
        "This function `schedule` should take two arguments \n",
        "- the current epoch (as an integer)\n",
        "- the current learning rate \n",
        "\n",
        "And it returns new learning rate for the epoch. "
      ]
    },
    {
      "cell_type": "code",
      "metadata": {
        "id": "1uO55GCZdh5s"
      },
      "source": [
        "# Defining the schedule function for our LearningRateScheduler\n",
        "\n",
        "def lr_function(epoch , lr):\n",
        "  if epoch % 2 == 0:\n",
        "    return lr\n",
        "  else:\n",
        "    return lr + epoch / 1000\n",
        "\n",
        "lr_schedule_callback = tf.keras.callbacks.LearningRateScheduler(lr_function , verbose= 1)"
      ],
      "execution_count": 113,
      "outputs": []
    },
    {
      "cell_type": "code",
      "metadata": {
        "colab": {
          "base_uri": "https://localhost:8080/"
        },
        "id": "bBUkKxvyeg9b",
        "outputId": "561f7651-4705-4802-9e26-9f6755f83d75"
      },
      "source": [
        "# Train the model \n",
        "\n",
        "history = model.fit(train_data , train_targets , epochs = 10,\n",
        "                    callbacks = [lr_schedule_callback])"
      ],
      "execution_count": 114,
      "outputs": [
        {
          "output_type": "stream",
          "text": [
            "Epoch 1/10\n",
            "\n",
            "Epoch 00001: LearningRateScheduler reducing learning rate to 0.0010000000474974513.\n",
            " 5/13 [==========>...................] - ETA: 0s - loss: 31967.4437 - mse: 31967.4437 - mae: 159.5828"
          ],
          "name": "stdout"
        },
        {
          "output_type": "stream",
          "text": [
            "/usr/local/lib/python3.7/dist-packages/tensorflow/python/data/ops/dataset_ops.py:3504: UserWarning: Even though the tf.config.experimental_run_functions_eagerly option is set, this option does not apply to tf.data functions. tf.data functions are still traced and executed as graphs.\n",
            "  \"Even though the tf.config.experimental_run_functions_eagerly \"\n"
          ],
          "name": "stderr"
        },
        {
          "output_type": "stream",
          "text": [
            "13/13 [==============================] - 0s 16ms/step - loss: 30284.1027 - mse: 30284.1027 - mae: 155.1003\n",
            "Epoch 2/10\n",
            "\n",
            "Epoch 00002: LearningRateScheduler reducing learning rate to 0.0020000000474974513.\n",
            "13/13 [==============================] - 0s 15ms/step - loss: 29033.7547 - mse: 29033.7547 - mae: 153.0022\n",
            "Epoch 3/10\n",
            "\n",
            "Epoch 00003: LearningRateScheduler reducing learning rate to 0.0020000000949949026.\n",
            "13/13 [==============================] - 0s 17ms/step - loss: 23416.1575 - mse: 23416.1575 - mae: 133.1260\n",
            "Epoch 4/10\n",
            "\n",
            "Epoch 00004: LearningRateScheduler reducing learning rate to 0.005000000094994903.\n",
            "13/13 [==============================] - 0s 17ms/step - loss: 9687.2261 - mse: 9687.2261 - mae: 79.4066\n",
            "Epoch 5/10\n",
            "\n",
            "Epoch 00005: LearningRateScheduler reducing learning rate to 0.004999999888241291.\n",
            "13/13 [==============================] - 0s 16ms/step - loss: 6303.1722 - mse: 6303.1722 - mae: 59.7293\n",
            "Epoch 6/10\n",
            "\n",
            "Epoch 00006: LearningRateScheduler reducing learning rate to 0.009999999888241292.\n",
            "13/13 [==============================] - 0s 17ms/step - loss: 4728.5746 - mse: 4728.5746 - mae: 56.3115\n",
            "Epoch 7/10\n",
            "\n",
            "Epoch 00007: LearningRateScheduler reducing learning rate to 0.009999999776482582.\n",
            "13/13 [==============================] - 0s 17ms/step - loss: 3171.5909 - mse: 3171.5909 - mae: 44.0858\n",
            "Epoch 8/10\n",
            "\n",
            "Epoch 00008: LearningRateScheduler reducing learning rate to 0.01699999977648258.\n",
            "13/13 [==============================] - 0s 18ms/step - loss: 3443.9930 - mse: 3443.9930 - mae: 46.1267\n",
            "Epoch 9/10\n",
            "\n",
            "Epoch 00009: LearningRateScheduler reducing learning rate to 0.016999999061226845.\n",
            "13/13 [==============================] - 0s 17ms/step - loss: 2936.1705 - mse: 2936.1705 - mae: 44.6609\n",
            "Epoch 10/10\n",
            "\n",
            "Epoch 00010: LearningRateScheduler reducing learning rate to 0.025999999061226846.\n",
            "13/13 [==============================] - 0s 16ms/step - loss: 3011.7555 - mse: 3011.7555 - mae: 43.3572\n"
          ],
          "name": "stdout"
        }
      ]
    },
    {
      "cell_type": "code",
      "metadata": {
        "colab": {
          "base_uri": "https://localhost:8080/"
        },
        "id": "YL9LkDAKelH0",
        "outputId": "55e1dd47-9bf1-4e79-bd2c-991a91d9cb71"
      },
      "source": [
        "# Trying a different lr function\n",
        "\n",
        "model = tf.keras.Sequential([\n",
        "    Dense(128, activation='relu', input_shape=(train_data.shape[1],)),\n",
        "    Dense(64,activation='relu'),\n",
        "    Dense(64, activation='relu'),\n",
        "    Dense(64, activation='relu'),\n",
        "    Dense(1)        \n",
        "])\n",
        "\n",
        "# Compile the model\n",
        "model.compile(loss='mse',\n",
        "                optimizer=\"adam\",metrics=[\"mse\",\"mae\"])\n",
        "\n",
        "# Defining the lr_function (Takes a learning rate in)\n",
        "def lr_xo(x):\n",
        "  return 1 / (3 + 5 * x)\n",
        "\n",
        "lr_xo_callback = tf.keras.callbacks.LearningRateScheduler(lr_xo , verbose = 1)\n",
        "\n",
        "history_lr_xo = model.fit(train_data , train_targets , epochs = 10 , \n",
        "                          callbacks = [lr_xo_callback])"
      ],
      "execution_count": 116,
      "outputs": [
        {
          "output_type": "stream",
          "text": [
            "Epoch 1/10\n",
            "\n",
            "Epoch 00001: LearningRateScheduler reducing learning rate to 0.3333333333333333.\n",
            " 9/13 [===================>..........] - ETA: 0s - loss: 1594284.2344 - mse: 1594284.2344 - mae: 676.1948"
          ],
          "name": "stdout"
        },
        {
          "output_type": "stream",
          "text": [
            "/usr/local/lib/python3.7/dist-packages/tensorflow/python/data/ops/dataset_ops.py:3504: UserWarning: Even though the tf.config.experimental_run_functions_eagerly option is set, this option does not apply to tf.data functions. tf.data functions are still traced and executed as graphs.\n",
            "  \"Even though the tf.config.experimental_run_functions_eagerly \"\n"
          ],
          "name": "stderr"
        },
        {
          "output_type": "stream",
          "text": [
            "13/13 [==============================] - 0s 15ms/step - loss: 1273951.2667 - mse: 1273951.2667 - mae: 565.8774\n",
            "Epoch 2/10\n",
            "\n",
            "Epoch 00002: LearningRateScheduler reducing learning rate to 0.125.\n",
            "13/13 [==============================] - 0s 15ms/step - loss: 6864.1870 - mse: 6864.1870 - mae: 68.7599\n",
            "Epoch 3/10\n",
            "\n",
            "Epoch 00003: LearningRateScheduler reducing learning rate to 0.07692307692307693.\n",
            "13/13 [==============================] - 0s 16ms/step - loss: 5822.3543 - mse: 5822.3543 - mae: 65.2140\n",
            "Epoch 4/10\n",
            "\n",
            "Epoch 00004: LearningRateScheduler reducing learning rate to 0.05555555555555555.\n",
            "13/13 [==============================] - 0s 16ms/step - loss: 5637.4975 - mse: 5637.4975 - mae: 62.6412\n",
            "Epoch 5/10\n",
            "\n",
            "Epoch 00005: LearningRateScheduler reducing learning rate to 0.043478260869565216.\n",
            "13/13 [==============================] - 0s 15ms/step - loss: 6067.8236 - mse: 6067.8236 - mae: 66.7893\n",
            "Epoch 6/10\n",
            "\n",
            "Epoch 00006: LearningRateScheduler reducing learning rate to 0.03571428571428571.\n",
            "13/13 [==============================] - 0s 17ms/step - loss: 5811.9774 - mse: 5811.9774 - mae: 64.2842\n",
            "Epoch 7/10\n",
            "\n",
            "Epoch 00007: LearningRateScheduler reducing learning rate to 0.030303030303030304.\n",
            "13/13 [==============================] - 0s 16ms/step - loss: 6247.4087 - mse: 6247.4087 - mae: 67.5792\n",
            "Epoch 8/10\n",
            "\n",
            "Epoch 00008: LearningRateScheduler reducing learning rate to 0.02631578947368421.\n",
            "13/13 [==============================] - 0s 18ms/step - loss: 6021.3903 - mse: 6021.3903 - mae: 65.5719\n",
            "Epoch 9/10\n",
            "\n",
            "Epoch 00009: LearningRateScheduler reducing learning rate to 0.023255813953488372.\n",
            "13/13 [==============================] - 0s 15ms/step - loss: 6041.3571 - mse: 6041.3571 - mae: 66.7919\n",
            "Epoch 10/10\n",
            "\n",
            "Epoch 00010: LearningRateScheduler reducing learning rate to 0.020833333333333332.\n",
            "13/13 [==============================] - 0s 15ms/step - loss: 5516.4988 - mse: 5516.4988 - mae: 63.1522\n"
          ],
          "name": "stdout"
        }
      ]
    },
    {
      "cell_type": "markdown",
      "metadata": {
        "id": "xh4_Y7ujfv_I"
      },
      "source": [
        "Like wise we can even use `lambda` functions in our `LearningRateScheduler`. \n",
        "\n",
        "Let's look at another callback called **CSV logger**. \n",
        "\n",
        "##### **CSV logger**\n",
        "\n",
        "- This callback streams the results from each epoch into a CSV file.\n",
        "- The first line of the CSV file will be the names of pieces of information recorded on each subsequent line.\n",
        "- From epoch and loss value, the values of metrics at the end of each epoch will also be recorded. \n",
        "\n",
        "The important argument is `filename` for the log to be streamed, can be a filepath. \n",
        "\n",
        "The `append` argument allows you the option to append your results to an existing file with the same name. Useful if we're continuing training. "
      ]
    },
    {
      "cell_type": "code",
      "metadata": {
        "colab": {
          "base_uri": "https://localhost:8080/"
        },
        "id": "EFK8yoLqg6bL",
        "outputId": "6656866a-a3a8-45c5-c8e7-ab04866fd908"
      },
      "source": [
        "# Instantiating a CSV logger object \n",
        "\n",
        "csv_logger = tf.keras.callbacks.CSVLogger('results.csv')\n",
        "\n",
        "history = model.fit(train_data , train_targets , epochs = 10 , \n",
        "                    callbacks = [csv_logger])"
      ],
      "execution_count": 119,
      "outputs": [
        {
          "output_type": "stream",
          "text": [
            "Epoch 1/10\n",
            " 9/13 [===================>..........] - ETA: 0s - loss: 5854.7759 - mse: 5854.7759 - mae: 65.6864"
          ],
          "name": "stdout"
        },
        {
          "output_type": "stream",
          "text": [
            "/usr/local/lib/python3.7/dist-packages/tensorflow/python/data/ops/dataset_ops.py:3504: UserWarning: Even though the tf.config.experimental_run_functions_eagerly option is set, this option does not apply to tf.data functions. tf.data functions are still traced and executed as graphs.\n",
            "  \"Even though the tf.config.experimental_run_functions_eagerly \"\n"
          ],
          "name": "stderr"
        },
        {
          "output_type": "stream",
          "text": [
            "13/13 [==============================] - 0s 16ms/step - loss: 5900.2783 - mse: 5900.2783 - mae: 65.3953\n",
            "Epoch 2/10\n",
            "13/13 [==============================] - 0s 15ms/step - loss: 5879.3677 - mse: 5879.3677 - mae: 65.1020\n",
            "Epoch 3/10\n",
            "13/13 [==============================] - 0s 16ms/step - loss: 5898.4956 - mse: 5898.4956 - mae: 64.8680\n",
            "Epoch 4/10\n",
            "13/13 [==============================] - 0s 18ms/step - loss: 5878.5259 - mse: 5878.5259 - mae: 65.1013\n",
            "Epoch 5/10\n",
            "13/13 [==============================] - 0s 16ms/step - loss: 5912.1147 - mse: 5912.1147 - mae: 65.2990\n",
            "Epoch 6/10\n",
            "13/13 [==============================] - 0s 16ms/step - loss: 5938.0151 - mse: 5938.0151 - mae: 65.6113\n",
            "Epoch 7/10\n",
            "13/13 [==============================] - 0s 17ms/step - loss: 5886.4277 - mse: 5886.4277 - mae: 65.0762\n",
            "Epoch 8/10\n",
            "13/13 [==============================] - 0s 18ms/step - loss: 5889.7148 - mse: 5889.7148 - mae: 64.8079\n",
            "Epoch 9/10\n",
            "13/13 [==============================] - 0s 16ms/step - loss: 5879.0659 - mse: 5879.0659 - mae: 64.9780\n",
            "Epoch 10/10\n",
            "13/13 [==============================] - 0s 16ms/step - loss: 5887.8711 - mse: 5887.8711 - mae: 65.3321\n"
          ],
          "name": "stdout"
        }
      ]
    },
    {
      "cell_type": "code",
      "metadata": {
        "colab": {
          "base_uri": "https://localhost:8080/",
          "height": 390
        },
        "id": "QLIC0MfohNzB",
        "outputId": "d04d17df-ca05-420e-cad6-3e1040fcb72f"
      },
      "source": [
        "# Load the csv \n",
        "import pandas as pd \n",
        "\n",
        "result_logger = pd.read_csv('results.csv' , index_col = 'epoch')\n",
        "result_logger"
      ],
      "execution_count": 120,
      "outputs": [
        {
          "output_type": "execute_result",
          "data": {
            "text/html": [
              "<div>\n",
              "<style scoped>\n",
              "    .dataframe tbody tr th:only-of-type {\n",
              "        vertical-align: middle;\n",
              "    }\n",
              "\n",
              "    .dataframe tbody tr th {\n",
              "        vertical-align: top;\n",
              "    }\n",
              "\n",
              "    .dataframe thead th {\n",
              "        text-align: right;\n",
              "    }\n",
              "</style>\n",
              "<table border=\"1\" class=\"dataframe\">\n",
              "  <thead>\n",
              "    <tr style=\"text-align: right;\">\n",
              "      <th></th>\n",
              "      <th>loss</th>\n",
              "      <th>mae</th>\n",
              "      <th>mse</th>\n",
              "    </tr>\n",
              "    <tr>\n",
              "      <th>epoch</th>\n",
              "      <th></th>\n",
              "      <th></th>\n",
              "      <th></th>\n",
              "    </tr>\n",
              "  </thead>\n",
              "  <tbody>\n",
              "    <tr>\n",
              "      <th>0</th>\n",
              "      <td>5900.278320</td>\n",
              "      <td>65.395340</td>\n",
              "      <td>5900.278320</td>\n",
              "    </tr>\n",
              "    <tr>\n",
              "      <th>1</th>\n",
              "      <td>5879.367676</td>\n",
              "      <td>65.101982</td>\n",
              "      <td>5879.367676</td>\n",
              "    </tr>\n",
              "    <tr>\n",
              "      <th>2</th>\n",
              "      <td>5898.495605</td>\n",
              "      <td>64.868011</td>\n",
              "      <td>5898.495605</td>\n",
              "    </tr>\n",
              "    <tr>\n",
              "      <th>3</th>\n",
              "      <td>5878.525879</td>\n",
              "      <td>65.101334</td>\n",
              "      <td>5878.525879</td>\n",
              "    </tr>\n",
              "    <tr>\n",
              "      <th>4</th>\n",
              "      <td>5912.114746</td>\n",
              "      <td>65.298958</td>\n",
              "      <td>5912.114746</td>\n",
              "    </tr>\n",
              "    <tr>\n",
              "      <th>5</th>\n",
              "      <td>5938.015137</td>\n",
              "      <td>65.611290</td>\n",
              "      <td>5938.015137</td>\n",
              "    </tr>\n",
              "    <tr>\n",
              "      <th>6</th>\n",
              "      <td>5886.427734</td>\n",
              "      <td>65.076248</td>\n",
              "      <td>5886.427734</td>\n",
              "    </tr>\n",
              "    <tr>\n",
              "      <th>7</th>\n",
              "      <td>5889.714844</td>\n",
              "      <td>64.807907</td>\n",
              "      <td>5889.714844</td>\n",
              "    </tr>\n",
              "    <tr>\n",
              "      <th>8</th>\n",
              "      <td>5879.065918</td>\n",
              "      <td>64.977951</td>\n",
              "      <td>5879.065918</td>\n",
              "    </tr>\n",
              "    <tr>\n",
              "      <th>9</th>\n",
              "      <td>5887.871094</td>\n",
              "      <td>65.332054</td>\n",
              "      <td>5887.871094</td>\n",
              "    </tr>\n",
              "  </tbody>\n",
              "</table>\n",
              "</div>"
            ],
            "text/plain": [
              "              loss        mae          mse\n",
              "epoch                                     \n",
              "0      5900.278320  65.395340  5900.278320\n",
              "1      5879.367676  65.101982  5879.367676\n",
              "2      5898.495605  64.868011  5898.495605\n",
              "3      5878.525879  65.101334  5878.525879\n",
              "4      5912.114746  65.298958  5912.114746\n",
              "5      5938.015137  65.611290  5938.015137\n",
              "6      5886.427734  65.076248  5886.427734\n",
              "7      5889.714844  64.807907  5889.714844\n",
              "8      5879.065918  64.977951  5879.065918\n",
              "9      5887.871094  65.332054  5887.871094"
            ]
          },
          "metadata": {
            "tags": []
          },
          "execution_count": 120
        }
      ]
    },
    {
      "cell_type": "code",
      "metadata": {
        "colab": {
          "base_uri": "https://localhost:8080/",
          "height": 296
        },
        "id": "46uKkPYAhc4Q",
        "outputId": "7a0a9de5-75e7-41f9-e35e-0e15d2e1a596"
      },
      "source": [
        "# We can even plot our results \n",
        "\n",
        "result_logger['mae'].plot(kind = 'line')"
      ],
      "execution_count": 121,
      "outputs": [
        {
          "output_type": "execute_result",
          "data": {
            "text/plain": [
              "<matplotlib.axes._subplots.AxesSubplot at 0x7f5e6b36ac90>"
            ]
          },
          "metadata": {
            "tags": []
          },
          "execution_count": 121
        },
        {
          "output_type": "display_data",
          "data": {
            "image/png": "[encoded data removed]",
            "text/plain": [
              "<Figure size 432x288 with 1 Axes>"
            ]
          },
          "metadata": {
            "tags": [],
            "needs_background": "light"
          }
        }
      ]
    },
    {
      "cell_type": "markdown",
      "metadata": {
        "id": "fKSZaPSyh21B"
      },
      "source": [
        "##### **Reduce learning rate on plateau** \n",
        "\n",
        "```\n",
        "tf.keras.callbacks.ReduceLROnPlateau(\n",
        "            monitor='val_loss', \n",
        "            factor=0.1, \n",
        "            patience=10, \n",
        "            verbose=0, \n",
        "            mode='auto', \n",
        "            min_delta=0.0001, \n",
        "            cooldown=0, \n",
        "            min_lr=0)\n",
        "```\n",
        "\n",
        "The `ReduceLROnPlateau` callback allows **reduction** of the **learning rate when a metric has stopped improving**.\n",
        "\n",
        "The arguments are similar to those used in the `EarlyStopping` callback. Let's break them, \n",
        "- `monitor` --> which metric to monitor (or) specify base the callback on. \n",
        "- `factor` --> this is the factor by which the learning rate decreases, i.e: `new_lr = factor * old_lr`.\n",
        "- `patience` --> number of epochs where is no improvement on the monitored metric before learning rate is reduced. \n",
        "- `verbose` --> helps to prints the progress messages when set to 1. \n",
        "- `mode` --> determines whether the learning rate will decrease when the monitored quantity stops increasing (`max`) or decreasing (`min`). The `auto` setting causes the callback to infer the mode from the monitored quantity. \n",
        "- `min_delta` --> smallest change in the monitored quantity considered to be an improvement. \n",
        "- `cooldown` --> number of epochs to wait after the learning rate is changed before the callback function resumes normal operation. \n",
        "- `min_lr` --> is a lower bound on the learning rate that the callback will produce "
      ]
    },
    {
      "cell_type": "code",
      "metadata": {
        "id": "t4vBe3Mlh97D"
      },
      "source": [
        "# Instantiating the ReduceLROnPlateau callback \n",
        "\n",
        "reduce_lr = tf.keras.callbacks.ReduceLROnPlateau(monitor = 'val_loss' , \n",
        "                                                 factor = 0.02 , \n",
        "                                                 patience = 2 , \n",
        "                                                 mode = 'min')"
      ],
      "execution_count": 129,
      "outputs": []
    },
    {
      "cell_type": "code",
      "metadata": {
        "colab": {
          "base_uri": "https://localhost:8080/"
        },
        "id": "H9p9kzGrkXOx",
        "outputId": "6337f33b-7ef4-4fe0-9546-0718dd6db134"
      },
      "source": [
        "model = tf.keras.Sequential([\n",
        "    Dense(128, activation='relu', input_shape=(train_data.shape[1],)),\n",
        "    Dense(64,activation='relu'),\n",
        "    BatchNormalization(),\n",
        "    Dense(64, activation='relu'),\n",
        "    Dropout(0.4), \n",
        "    Dense(64, activation='relu'),\n",
        "    Dense(1)        \n",
        "])\n",
        "\n",
        "# Compile the model\n",
        "model.compile(loss='mse',\n",
        "                optimizer=\"adam\",metrics=[\"mse\",\"mae\"])\n",
        "\n",
        "# Summary of the model \n",
        "model.summary()"
      ],
      "execution_count": 130,
      "outputs": [
        {
          "output_type": "stream",
          "text": [
            "Model: \"sequential_33\"\n",
            "_________________________________________________________________\n",
            "Layer (type)                 Output Shape              Param #   \n",
            "=================================================================\n",
            "dense_134 (Dense)            (None, 128)               1408      \n",
            "_________________________________________________________________\n",
            "dense_135 (Dense)            (None, 64)                8256      \n",
            "_________________________________________________________________\n",
            "batch_normalization_8 (Batch (None, 64)                256       \n",
            "_________________________________________________________________\n",
            "dense_136 (Dense)            (None, 64)                4160      \n",
            "_________________________________________________________________\n",
            "dropout_36 (Dropout)         (None, 64)                0         \n",
            "_________________________________________________________________\n",
            "dense_137 (Dense)            (None, 64)                4160      \n",
            "_________________________________________________________________\n",
            "dense_138 (Dense)            (None, 1)                 65        \n",
            "=================================================================\n",
            "Total params: 18,305\n",
            "Trainable params: 18,177\n",
            "Non-trainable params: 128\n",
            "_________________________________________________________________\n"
          ],
          "name": "stdout"
        }
      ]
    },
    {
      "cell_type": "code",
      "metadata": {
        "colab": {
          "base_uri": "https://localhost:8080/"
        },
        "id": "AdSBOwKhkHEB",
        "outputId": "e936a478-1d8a-4070-b6c5-bf69b68f3ea4"
      },
      "source": [
        "# Train the model \n",
        "history = model.fit(train_data , train_targets , epochs = 100 , \n",
        "                    batch_size  = 100 , \n",
        "                    callbacks = [reduce_lr] , \n",
        "                    validation_split = 0.15)"
      ],
      "execution_count": 131,
      "outputs": [
        {
          "output_type": "stream",
          "text": [
            "Epoch 1/100\n",
            "4/4 [==============================] - ETA: 0s - loss: 28895.3042 - mse: 28895.3042 - mae: 151.6553"
          ],
          "name": "stdout"
        },
        {
          "output_type": "stream",
          "text": [
            "/usr/local/lib/python3.7/dist-packages/tensorflow/python/data/ops/dataset_ops.py:3504: UserWarning: Even though the tf.config.experimental_run_functions_eagerly option is set, this option does not apply to tf.data functions. tf.data functions are still traced and executed as graphs.\n",
            "  \"Even though the tf.config.experimental_run_functions_eagerly \"\n"
          ],
          "name": "stderr"
        },
        {
          "output_type": "stream",
          "text": [
            "4/4 [==============================] - 0s 58ms/step - loss: 28668.6707 - mse: 28668.6707 - mae: 150.9874 - val_loss: 32579.1348 - val_mse: 32579.1348 - val_mae: 162.0943\n",
            "Epoch 2/100\n",
            "4/4 [==============================] - 0s 43ms/step - loss: 28636.8699 - mse: 28636.8699 - mae: 151.0913 - val_loss: 32553.8203 - val_mse: 32553.8203 - val_mae: 162.0221\n",
            "Epoch 3/100\n",
            "4/4 [==============================] - 0s 42ms/step - loss: 27391.4160 - mse: 27391.4160 - mae: 147.8698 - val_loss: 32519.3770 - val_mse: 32519.3770 - val_mae: 161.9263\n",
            "Epoch 4/100\n",
            "4/4 [==============================] - 0s 40ms/step - loss: 26179.4480 - mse: 26179.4480 - mae: 144.0821 - val_loss: 32473.1621 - val_mse: 32473.1621 - val_mae: 161.8008\n",
            "Epoch 5/100\n",
            "4/4 [==============================] - 0s 39ms/step - loss: 27644.5535 - mse: 27644.5535 - mae: 147.2818 - val_loss: 32411.7773 - val_mse: 32411.7773 - val_mae: 161.6377\n",
            "Epoch 6/100\n",
            "4/4 [==============================] - 0s 43ms/step - loss: 27556.0934 - mse: 27556.0934 - mae: 148.2637 - val_loss: 32326.8848 - val_mse: 32326.8848 - val_mae: 161.4162\n",
            "Epoch 7/100\n",
            "4/4 [==============================] - 0s 38ms/step - loss: 24419.3504 - mse: 24419.3504 - mae: 138.2185 - val_loss: 32206.9355 - val_mse: 32206.9355 - val_mae: 161.1070\n",
            "Epoch 8/100\n",
            "4/4 [==============================] - 0s 41ms/step - loss: 25357.9813 - mse: 25357.9813 - mae: 142.0883 - val_loss: 32035.1504 - val_mse: 32035.1504 - val_mae: 160.6678\n",
            "Epoch 9/100\n",
            "4/4 [==============================] - 0s 43ms/step - loss: 24537.1027 - mse: 24537.1027 - mae: 140.1358 - val_loss: 31791.2285 - val_mse: 31791.2285 - val_mae: 160.0467\n",
            "Epoch 10/100\n",
            "4/4 [==============================] - 0s 43ms/step - loss: 22397.9746 - mse: 22397.9746 - mae: 132.9882 - val_loss: 31440.7129 - val_mse: 31440.7129 - val_mae: 159.1528\n",
            "Epoch 11/100\n",
            "4/4 [==============================] - 0s 40ms/step - loss: 20573.4883 - mse: 20573.4883 - mae: 126.0903 - val_loss: 30959.0137 - val_mse: 30959.0137 - val_mae: 157.9186\n",
            "Epoch 12/100\n",
            "4/4 [==============================] - 0s 39ms/step - loss: 19257.5563 - mse: 19257.5563 - mae: 121.9382 - val_loss: 30323.0820 - val_mse: 30323.0820 - val_mae: 156.2760\n",
            "Epoch 13/100\n",
            "4/4 [==============================] - 0s 39ms/step - loss: 17050.9668 - mse: 17050.9668 - mae: 113.4958 - val_loss: 29480.0430 - val_mse: 29480.0430 - val_mae: 154.0669\n",
            "Epoch 14/100\n",
            "4/4 [==============================] - 0s 42ms/step - loss: 14953.0260 - mse: 14953.0260 - mae: 104.7664 - val_loss: 28380.9980 - val_mse: 28380.9980 - val_mae: 151.1173\n",
            "Epoch 15/100\n",
            "4/4 [==============================] - 0s 42ms/step - loss: 12294.5900 - mse: 12294.5900 - mae: 92.3962 - val_loss: 26969.2207 - val_mse: 26969.2207 - val_mae: 147.1911\n",
            "Epoch 16/100\n",
            "4/4 [==============================] - 0s 39ms/step - loss: 10837.7998 - mse: 10837.7998 - mae: 83.9402 - val_loss: 25406.5762 - val_mse: 25406.5762 - val_mae: 142.6519\n",
            "Epoch 17/100\n",
            "4/4 [==============================] - 0s 42ms/step - loss: 8145.1590 - mse: 8145.1588 - mae: 72.2147 - val_loss: 23566.1738 - val_mse: 23566.1738 - val_mae: 136.9267\n",
            "Epoch 18/100\n",
            "4/4 [==============================] - 0s 39ms/step - loss: 7950.1817 - mse: 7950.1812 - mae: 68.4898 - val_loss: 21668.3984 - val_mse: 21668.3984 - val_mae: 130.6601\n",
            "Epoch 19/100\n",
            "4/4 [==============================] - 0s 43ms/step - loss: 5984.7729 - mse: 5984.7729 - mae: 59.2982 - val_loss: 20071.8984 - val_mse: 20071.8984 - val_mae: 125.0862\n",
            "Epoch 20/100\n",
            "4/4 [==============================] - 0s 40ms/step - loss: 5574.4402 - mse: 5574.4402 - mae: 58.5338 - val_loss: 18933.8652 - val_mse: 18933.8652 - val_mae: 120.9434\n",
            "Epoch 21/100\n",
            "4/4 [==============================] - 0s 39ms/step - loss: 5454.0365 - mse: 5454.0365 - mae: 57.3203 - val_loss: 18293.9414 - val_mse: 18293.9414 - val_mae: 118.5647\n",
            "Epoch 22/100\n",
            "4/4 [==============================] - 0s 42ms/step - loss: 5206.0327 - mse: 5206.0327 - mae: 55.6939 - val_loss: 17731.3379 - val_mse: 17731.3379 - val_mae: 116.2625\n",
            "Epoch 23/100\n",
            "4/4 [==============================] - 0s 43ms/step - loss: 5473.6912 - mse: 5473.6912 - mae: 59.3921 - val_loss: 17308.7578 - val_mse: 17308.7578 - val_mae: 114.4426\n",
            "Epoch 24/100\n",
            "4/4 [==============================] - 0s 43ms/step - loss: 5377.5072 - mse: 5377.5072 - mae: 57.7342 - val_loss: 17134.3887 - val_mse: 17134.3887 - val_mae: 113.5756\n",
            "Epoch 25/100\n",
            "4/4 [==============================] - 0s 40ms/step - loss: 4722.5861 - mse: 4722.5861 - mae: 53.8953 - val_loss: 17240.6230 - val_mse: 17240.6230 - val_mae: 113.9898\n",
            "Epoch 26/100\n",
            "4/4 [==============================] - 0s 40ms/step - loss: 4730.1520 - mse: 4730.1520 - mae: 55.8348 - val_loss: 17310.4766 - val_mse: 17310.4766 - val_mae: 114.2761\n",
            "Epoch 27/100\n",
            "4/4 [==============================] - 0s 42ms/step - loss: 4935.7675 - mse: 4935.7675 - mae: 55.9586 - val_loss: 17286.0039 - val_mse: 17286.0039 - val_mae: 114.2247\n",
            "Epoch 28/100\n",
            "4/4 [==============================] - 0s 40ms/step - loss: 4639.9128 - mse: 4639.9128 - mae: 54.5096 - val_loss: 17263.7070 - val_mse: 17263.7070 - val_mae: 114.1790\n",
            "Epoch 29/100\n",
            "4/4 [==============================] - 0s 40ms/step - loss: 4625.0446 - mse: 4625.0446 - mae: 53.2653 - val_loss: 17253.2227 - val_mse: 17253.2227 - val_mae: 114.1793\n",
            "Epoch 30/100\n",
            "4/4 [==============================] - 0s 44ms/step - loss: 5025.0428 - mse: 5025.0428 - mae: 56.5348 - val_loss: 17238.6035 - val_mse: 17238.6035 - val_mae: 114.1576\n",
            "Epoch 31/100\n",
            "4/4 [==============================] - 0s 45ms/step - loss: 4684.6363 - mse: 4684.6363 - mae: 54.0982 - val_loss: 17204.2852 - val_mse: 17204.2852 - val_mae: 114.0534\n",
            "Epoch 32/100\n",
            "4/4 [==============================] - 0s 44ms/step - loss: 4839.4672 - mse: 4839.4672 - mae: 55.5401 - val_loss: 17173.6250 - val_mse: 17173.6250 - val_mae: 113.9593\n",
            "Epoch 33/100\n",
            "4/4 [==============================] - 0s 40ms/step - loss: 4363.9752 - mse: 4363.9752 - mae: 53.4745 - val_loss: 17133.6953 - val_mse: 17133.6953 - val_mae: 113.8263\n",
            "Epoch 34/100\n",
            "4/4 [==============================] - 0s 39ms/step - loss: 4579.0634 - mse: 4579.0634 - mae: 54.3423 - val_loss: 17104.3867 - val_mse: 17104.3867 - val_mae: 113.7320\n",
            "Epoch 35/100\n",
            "4/4 [==============================] - 0s 41ms/step - loss: 5341.4682 - mse: 5341.4678 - mae: 59.1843 - val_loss: 17065.9961 - val_mse: 17065.9961 - val_mae: 113.6001\n",
            "Epoch 36/100\n",
            "4/4 [==============================] - 0s 45ms/step - loss: 4792.2119 - mse: 4792.2119 - mae: 55.6993 - val_loss: 17020.7422 - val_mse: 17020.7422 - val_mae: 113.4400\n",
            "Epoch 37/100\n",
            "4/4 [==============================] - 0s 41ms/step - loss: 4308.0564 - mse: 4308.0564 - mae: 52.7333 - val_loss: 16991.0566 - val_mse: 16991.0566 - val_mae: 113.3399\n",
            "Epoch 38/100\n",
            "4/4 [==============================] - 0s 40ms/step - loss: 4731.4275 - mse: 4731.4273 - mae: 55.0499 - val_loss: 16948.6230 - val_mse: 16948.6230 - val_mae: 113.1874\n",
            "Epoch 39/100\n",
            "4/4 [==============================] - 0s 40ms/step - loss: 4641.4030 - mse: 4641.4030 - mae: 54.7426 - val_loss: 16913.7754 - val_mse: 16913.7754 - val_mae: 113.0633\n",
            "Epoch 40/100\n",
            "4/4 [==============================] - 0s 42ms/step - loss: 5168.3873 - mse: 5168.3871 - mae: 58.1972 - val_loss: 16858.3965 - val_mse: 16858.3965 - val_mae: 112.8568\n",
            "Epoch 41/100\n",
            "4/4 [==============================] - 0s 41ms/step - loss: 4450.4290 - mse: 4450.4290 - mae: 53.9661 - val_loss: 16799.2715 - val_mse: 16799.2715 - val_mae: 112.6345\n",
            "Epoch 42/100\n",
            "4/4 [==============================] - 0s 42ms/step - loss: 4993.0091 - mse: 4993.0091 - mae: 57.2490 - val_loss: 16741.9082 - val_mse: 16741.9082 - val_mae: 112.4176\n",
            "Epoch 43/100\n",
            "4/4 [==============================] - 0s 42ms/step - loss: 5118.5282 - mse: 5118.5282 - mae: 57.3512 - val_loss: 16693.7383 - val_mse: 16693.7383 - val_mae: 112.2352\n",
            "Epoch 44/100\n",
            "4/4 [==============================] - 0s 40ms/step - loss: 4320.8516 - mse: 4320.8516 - mae: 53.0428 - val_loss: 16623.9395 - val_mse: 16623.9395 - val_mae: 111.9658\n",
            "Epoch 45/100\n",
            "4/4 [==============================] - 0s 39ms/step - loss: 4761.1195 - mse: 4761.1195 - mae: 55.3314 - val_loss: 16560.1348 - val_mse: 16560.1348 - val_mae: 111.7189\n",
            "Epoch 46/100\n",
            "4/4 [==============================] - 0s 38ms/step - loss: 4565.7975 - mse: 4565.7975 - mae: 54.5632 - val_loss: 16486.9277 - val_mse: 16486.9277 - val_mae: 111.4332\n",
            "Epoch 47/100\n",
            "4/4 [==============================] - 0s 40ms/step - loss: 4543.9957 - mse: 4543.9957 - mae: 54.0707 - val_loss: 16397.2930 - val_mse: 16397.2930 - val_mae: 111.0801\n",
            "Epoch 48/100\n",
            "4/4 [==============================] - 0s 40ms/step - loss: 5094.4514 - mse: 5094.4514 - mae: 56.3429 - val_loss: 16334.8779 - val_mse: 16334.8779 - val_mae: 110.8351\n",
            "Epoch 49/100\n",
            "4/4 [==============================] - 0s 41ms/step - loss: 4630.5990 - mse: 4630.5990 - mae: 55.3971 - val_loss: 16255.0205 - val_mse: 16255.0205 - val_mae: 110.5168\n",
            "Epoch 50/100\n",
            "4/4 [==============================] - 0s 44ms/step - loss: 4966.9364 - mse: 4966.9364 - mae: 56.4434 - val_loss: 16165.1787 - val_mse: 16165.1787 - val_mae: 110.1559\n",
            "Epoch 51/100\n",
            "4/4 [==============================] - 0s 41ms/step - loss: 4629.2163 - mse: 4629.2163 - mae: 53.1522 - val_loss: 16070.8809 - val_mse: 16070.8809 - val_mae: 109.7725\n",
            "Epoch 52/100\n",
            "4/4 [==============================] - 0s 42ms/step - loss: 4921.3813 - mse: 4921.3813 - mae: 56.5479 - val_loss: 15982.0068 - val_mse: 15982.0068 - val_mae: 109.4088\n",
            "Epoch 53/100\n",
            "4/4 [==============================] - 0s 43ms/step - loss: 4582.0347 - mse: 4582.0348 - mae: 53.1281 - val_loss: 15885.0293 - val_mse: 15885.0293 - val_mae: 109.0096\n",
            "Epoch 54/100\n",
            "4/4 [==============================] - 0s 40ms/step - loss: 4327.9907 - mse: 4327.9907 - mae: 52.9515 - val_loss: 15783.6230 - val_mse: 15783.6230 - val_mae: 108.5892\n",
            "Epoch 55/100\n",
            "4/4 [==============================] - 0s 39ms/step - loss: 4670.7173 - mse: 4670.7173 - mae: 54.7773 - val_loss: 15682.8691 - val_mse: 15682.8691 - val_mae: 108.1689\n",
            "Epoch 56/100\n",
            "4/4 [==============================] - 0s 38ms/step - loss: 4533.5824 - mse: 4533.5824 - mae: 53.8333 - val_loss: 15569.3467 - val_mse: 15569.3467 - val_mae: 107.6924\n",
            "Epoch 57/100\n",
            "4/4 [==============================] - 0s 44ms/step - loss: 4900.1865 - mse: 4900.1865 - mae: 56.2172 - val_loss: 15470.2012 - val_mse: 15470.2012 - val_mae: 107.2717\n",
            "Epoch 58/100\n",
            "4/4 [==============================] - 0s 44ms/step - loss: 4512.1967 - mse: 4512.1967 - mae: 54.6029 - val_loss: 15371.1572 - val_mse: 15371.1572 - val_mae: 106.8489\n",
            "Epoch 59/100\n",
            "4/4 [==============================] - 0s 42ms/step - loss: 4479.1475 - mse: 4479.1475 - mae: 53.1791 - val_loss: 15264.6230 - val_mse: 15264.6230 - val_mae: 106.3909\n",
            "Epoch 60/100\n",
            "4/4 [==============================] - 0s 40ms/step - loss: 4400.0158 - mse: 4400.0161 - mae: 53.7395 - val_loss: 15150.9736 - val_mse: 15150.9736 - val_mae: 105.8987\n",
            "Epoch 61/100\n",
            "4/4 [==============================] - 0s 38ms/step - loss: 4700.9503 - mse: 4700.9503 - mae: 55.1810 - val_loss: 15036.1934 - val_mse: 15036.1934 - val_mae: 105.3970\n",
            "Epoch 62/100\n",
            "4/4 [==============================] - 0s 42ms/step - loss: 4553.7479 - mse: 4553.7479 - mae: 53.4373 - val_loss: 14916.4307 - val_mse: 14916.4307 - val_mae: 104.8706\n",
            "Epoch 63/100\n",
            "4/4 [==============================] - 0s 41ms/step - loss: 4698.8006 - mse: 4698.8003 - mae: 54.3524 - val_loss: 14797.5586 - val_mse: 14797.5586 - val_mae: 104.3428\n",
            "Epoch 64/100\n",
            "4/4 [==============================] - 0s 40ms/step - loss: 4489.2770 - mse: 4489.2767 - mae: 54.3236 - val_loss: 14675.6875 - val_mse: 14675.6875 - val_mae: 103.7977\n",
            "Epoch 65/100\n",
            "4/4 [==============================] - 0s 45ms/step - loss: 4465.7011 - mse: 4465.7011 - mae: 52.6084 - val_loss: 14556.5146 - val_mse: 14556.5146 - val_mae: 103.2594\n",
            "Epoch 66/100\n",
            "4/4 [==============================] - 0s 39ms/step - loss: 4325.6681 - mse: 4325.6681 - mae: 53.5002 - val_loss: 14426.9414 - val_mse: 14426.9414 - val_mae: 102.6718\n",
            "Epoch 67/100\n",
            "4/4 [==============================] - 0s 38ms/step - loss: 5751.4881 - mse: 5751.4881 - mae: 61.9366 - val_loss: 14292.6299 - val_mse: 14292.6299 - val_mae: 102.0584\n",
            "Epoch 68/100\n",
            "4/4 [==============================] - 0s 39ms/step - loss: 4624.8768 - mse: 4624.8768 - mae: 54.1414 - val_loss: 14169.1963 - val_mse: 14169.1963 - val_mae: 101.4862\n",
            "Epoch 69/100\n",
            "4/4 [==============================] - 0s 40ms/step - loss: 4961.5210 - mse: 4961.5210 - mae: 57.5603 - val_loss: 14030.3740 - val_mse: 14030.3740 - val_mae: 100.8413\n",
            "Epoch 70/100\n",
            "4/4 [==============================] - 0s 41ms/step - loss: 4223.1985 - mse: 4223.1985 - mae: 52.1342 - val_loss: 13895.5312 - val_mse: 13895.5312 - val_mae: 100.2070\n",
            "Epoch 71/100\n",
            "4/4 [==============================] - 0s 40ms/step - loss: 4381.1595 - mse: 4381.1598 - mae: 52.3620 - val_loss: 13766.7861 - val_mse: 13766.7861 - val_mae: 99.5930\n",
            "Epoch 72/100\n",
            "4/4 [==============================] - 0s 43ms/step - loss: 5242.1667 - mse: 5242.1667 - mae: 58.0794 - val_loss: 13629.6992 - val_mse: 13629.6992 - val_mae: 98.9360\n",
            "Epoch 73/100\n",
            "4/4 [==============================] - 0s 42ms/step - loss: 4578.0186 - mse: 4578.0186 - mae: 53.7661 - val_loss: 13472.6162 - val_mse: 13472.6162 - val_mae: 98.1830\n",
            "Epoch 74/100\n",
            "4/4 [==============================] - 0s 40ms/step - loss: 4716.0708 - mse: 4716.0708 - mae: 55.2555 - val_loss: 13333.5908 - val_mse: 13333.5908 - val_mae: 97.5028\n",
            "Epoch 75/100\n",
            "4/4 [==============================] - 0s 39ms/step - loss: 4517.5071 - mse: 4517.5071 - mae: 54.4385 - val_loss: 13187.0596 - val_mse: 13187.0596 - val_mae: 96.7812\n",
            "Epoch 76/100\n",
            "4/4 [==============================] - 0s 39ms/step - loss: 4595.0063 - mse: 4595.0063 - mae: 53.8672 - val_loss: 13060.5557 - val_mse: 13060.5557 - val_mae: 96.1605\n",
            "Epoch 77/100\n",
            "4/4 [==============================] - 0s 45ms/step - loss: 5510.1390 - mse: 5510.1390 - mae: 59.9718 - val_loss: 12924.8633 - val_mse: 12924.8633 - val_mae: 95.5045\n",
            "Epoch 78/100\n",
            "4/4 [==============================] - 0s 39ms/step - loss: 4414.6613 - mse: 4414.6613 - mae: 53.4736 - val_loss: 12786.9463 - val_mse: 12786.9463 - val_mae: 94.8308\n",
            "Epoch 79/100\n",
            "4/4 [==============================] - 0s 40ms/step - loss: 4311.0322 - mse: 4311.0322 - mae: 51.6942 - val_loss: 12637.1523 - val_mse: 12637.1523 - val_mae: 94.0925\n",
            "Epoch 80/100\n",
            "4/4 [==============================] - 0s 40ms/step - loss: 4587.9902 - mse: 4587.9902 - mae: 52.5827 - val_loss: 12505.2559 - val_mse: 12505.2559 - val_mae: 93.4322\n",
            "Epoch 81/100\n",
            "4/4 [==============================] - 0s 38ms/step - loss: 4666.8835 - mse: 4666.8835 - mae: 54.9140 - val_loss: 12362.6748 - val_mse: 12362.6748 - val_mae: 92.7125\n",
            "Epoch 82/100\n",
            "4/4 [==============================] - 0s 41ms/step - loss: 4683.5186 - mse: 4683.5186 - mae: 53.6599 - val_loss: 12212.3643 - val_mse: 12212.3643 - val_mae: 91.9464\n",
            "Epoch 83/100\n",
            "4/4 [==============================] - 0s 42ms/step - loss: 3856.8868 - mse: 3856.8868 - mae: 49.2958 - val_loss: 12082.8848 - val_mse: 12082.8848 - val_mae: 91.2742\n",
            "Epoch 84/100\n",
            "4/4 [==============================] - 0s 40ms/step - loss: 5026.4854 - mse: 5026.4854 - mae: 56.0988 - val_loss: 11932.3994 - val_mse: 11932.3994 - val_mae: 90.4888\n",
            "Epoch 85/100\n",
            "4/4 [==============================] - 0s 39ms/step - loss: 5057.3028 - mse: 5057.3028 - mae: 56.4792 - val_loss: 11811.1836 - val_mse: 11811.1836 - val_mae: 89.8507\n",
            "Epoch 86/100\n",
            "4/4 [==============================] - 0s 42ms/step - loss: 4632.5923 - mse: 4632.5923 - mae: 53.5130 - val_loss: 11681.8027 - val_mse: 11681.8027 - val_mae: 89.1699\n",
            "Epoch 87/100\n",
            "4/4 [==============================] - 0s 41ms/step - loss: 4758.6382 - mse: 4758.6382 - mae: 55.0309 - val_loss: 11541.9971 - val_mse: 11541.9971 - val_mae: 88.4309\n",
            "Epoch 88/100\n",
            "4/4 [==============================] - 0s 46ms/step - loss: 4916.6583 - mse: 4916.6582 - mae: 55.6110 - val_loss: 11403.5127 - val_mse: 11403.5127 - val_mae: 87.7001\n",
            "Epoch 89/100\n",
            "4/4 [==============================] - 0s 46ms/step - loss: 4312.4355 - mse: 4312.4355 - mae: 52.4810 - val_loss: 11271.0996 - val_mse: 11271.0996 - val_mae: 87.0490\n",
            "Epoch 90/100\n",
            "4/4 [==============================] - 0s 42ms/step - loss: 4653.0976 - mse: 4653.0976 - mae: 54.2884 - val_loss: 11137.7676 - val_mse: 11137.7676 - val_mae: 86.4101\n",
            "Epoch 91/100\n",
            "4/4 [==============================] - 0s 40ms/step - loss: 4249.7212 - mse: 4249.7212 - mae: 51.7124 - val_loss: 11004.5098 - val_mse: 11004.5098 - val_mae: 85.7627\n",
            "Epoch 92/100\n",
            "4/4 [==============================] - 0s 40ms/step - loss: 4469.8533 - mse: 4469.8533 - mae: 53.3127 - val_loss: 10856.5400 - val_mse: 10856.5400 - val_mae: 85.0329\n",
            "Epoch 93/100\n",
            "4/4 [==============================] - 0s 41ms/step - loss: 4411.5333 - mse: 4411.5333 - mae: 52.1096 - val_loss: 10721.0000 - val_mse: 10721.0000 - val_mae: 84.3547\n",
            "Epoch 94/100\n",
            "4/4 [==============================] - 0s 41ms/step - loss: 4901.6537 - mse: 4901.6537 - mae: 56.5552 - val_loss: 10590.8252 - val_mse: 10590.8252 - val_mae: 83.6934\n",
            "Epoch 95/100\n",
            "4/4 [==============================] - 0s 41ms/step - loss: 4558.6619 - mse: 4558.6619 - mae: 53.6155 - val_loss: 10461.6748 - val_mse: 10461.6748 - val_mae: 83.0274\n",
            "Epoch 96/100\n",
            "4/4 [==============================] - 0s 40ms/step - loss: 4589.8283 - mse: 4589.8283 - mae: 53.6566 - val_loss: 10351.8340 - val_mse: 10351.8340 - val_mae: 82.4519\n",
            "Epoch 97/100\n",
            "4/4 [==============================] - 0s 43ms/step - loss: 4959.7711 - mse: 4959.7711 - mae: 56.4938 - val_loss: 10230.4150 - val_mse: 10230.4150 - val_mae: 81.8343\n",
            "Epoch 98/100\n",
            "4/4 [==============================] - 0s 42ms/step - loss: 4621.4568 - mse: 4621.4568 - mae: 54.4470 - val_loss: 10103.3604 - val_mse: 10103.3604 - val_mae: 81.1862\n",
            "Epoch 99/100\n",
            "4/4 [==============================] - 0s 39ms/step - loss: 4162.6950 - mse: 4162.6950 - mae: 52.1796 - val_loss: 9970.5254 - val_mse: 9970.5254 - val_mae: 80.4959\n",
            "Epoch 100/100\n",
            "4/4 [==============================] - 0s 38ms/step - loss: 5021.6604 - mse: 5021.6604 - mae: 57.7379 - val_loss: 9838.4795 - val_mse: 9838.4795 - val_mae: 79.8087\n"
          ],
          "name": "stdout"
        }
      ]
    },
    {
      "cell_type": "code",
      "metadata": {
        "colab": {
          "base_uri": "https://localhost:8080/"
        },
        "id": "YQiVr_dTkjEJ",
        "outputId": "8a8d4468-70d8-42f1-c60a-0982f492350f"
      },
      "source": [
        "# Evaluating our model \n",
        "model.evaluate(test_data , test_targets)"
      ],
      "execution_count": 132,
      "outputs": [
        {
          "output_type": "stream",
          "text": [
            "2/2 [==============================] - 0s 15ms/step - loss: 9340.6240 - mse: 9340.6240 - mae: 79.0179\n"
          ],
          "name": "stdout"
        },
        {
          "output_type": "stream",
          "text": [
            "/usr/local/lib/python3.7/dist-packages/tensorflow/python/data/ops/dataset_ops.py:3504: UserWarning: Even though the tf.config.experimental_run_functions_eagerly option is set, this option does not apply to tf.data functions. tf.data functions are still traced and executed as graphs.\n",
            "  \"Even though the tf.config.experimental_run_functions_eagerly \"\n"
          ],
          "name": "stderr"
        },
        {
          "output_type": "execute_result",
          "data": {
            "text/plain": [
              "[9340.6240234375, 9340.6240234375, 79.0179443359375]"
            ]
          },
          "metadata": {
            "tags": []
          },
          "execution_count": 132
        }
      ]
    },
    {
      "cell_type": "markdown",
      "metadata": {
        "id": "AZsYdg0ylPsT"
      },
      "source": [
        "Further reading and resources\n",
        "* https://keras.io/callbacks/\n",
        "* https://www.tensorflow.org/api_docs/python/tf/keras/callbacks/LearningRateScheduler\n",
        "* https://www.tensorflow.org/api_docs/python/tf/keras/callbacks/CSVLogger\n",
        "* https://www.tensorflow.org/api_docs/python/tf/keras/callbacks/LambdaCallback"
      ]
    },
    {
      "cell_type": "code",
      "metadata": {
        "id": "wuvDdMuTlV21"
      },
      "source": [
        ""
      ],
      "execution_count": null,
      "outputs": []
    }
  ]
}
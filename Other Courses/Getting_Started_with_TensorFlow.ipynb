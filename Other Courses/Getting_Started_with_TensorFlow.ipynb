{
  "nbformat": 4,
  "nbformat_minor": 0,
  "metadata": {
    "colab": {
      "name": "Getting_Started_with_TensorFlow.ipynb",
      "provenance": [],
      "authorship_tag": "ABX9TyOeNgGLvocIZITR/axMIiWB",
      "include_colab_link": true
    },
    "kernelspec": {
      "name": "python3",
      "display_name": "Python 3"
    },
    "language_info": {
      "name": "python"
    }
  },
  "cells": [
    {
      "cell_type": "markdown",
      "metadata": {
        "id": "view-in-github",
        "colab_type": "text"
      },
      "source": [
        "<a href=\"https://colab.research.google.com/github/ashikshafi08/Learning_Tensorflow/blob/main/Other%20Courses/Getting_Started_with_TensorFlow.ipynb\" target=\"_parent\"><img src=\"https://colab.research.google.com/assets/colab-badge.svg\" alt=\"Open In Colab\"/></a>"
      ]
    },
    {
      "cell_type": "markdown",
      "metadata": {
        "id": "wXlTs6_UyEoZ"
      },
      "source": [
        "This notebook contains all the materials and notes for the Getting Started with TensorFlow 2 Course by Imperial College London. \n",
        "\n"
      ]
    },
    {
      "cell_type": "code",
      "metadata": {
        "id": "x9qTHcwp0YsP"
      },
      "source": [
        "# Importing TensorFlow \n",
        "import tensorflow as tf \n",
        "import numpy as np \n",
        "import matplotlib.pyplot as plt "
      ],
      "execution_count": 3,
      "outputs": []
    },
    {
      "cell_type": "markdown",
      "metadata": {
        "id": "XkpA5UTX-fzW"
      },
      "source": [
        "## The Sequential model API "
      ]
    },
    {
      "cell_type": "markdown",
      "metadata": {
        "id": "CPZeEPbm0fuP"
      },
      "source": [
        "### Build a Sequential Model \n",
        "\n",
        "It's really easy and intuitive way to construct a deeplearning models. Probably most of the neural networks that we work with, can be built using the Sequential Class. \n",
        "\n",
        "This will have the list of keras layers. "
      ]
    },
    {
      "cell_type": "code",
      "metadata": {
        "id": "0SdVnFi11AMH"
      },
      "source": [
        "# Importing the layers we're going to use \n",
        "\n",
        "from tensorflow.keras.models import Sequential\n",
        "from tensorflow.keras.layers import Dense , Flatten , Softmax "
      ],
      "execution_count": 4,
      "outputs": []
    },
    {
      "cell_type": "markdown",
      "metadata": {
        "id": "7XvboOUy1RXV"
      },
      "source": [
        "Build a feedforward neural network model"
      ]
    },
    {
      "cell_type": "code",
      "metadata": {
        "colab": {
          "base_uri": "https://localhost:8080/"
        },
        "id": "kStX80FQ1Vfu",
        "outputId": "80c1eda3-4c9f-4b9c-f2da-96faf9a80bb5"
      },
      "source": [
        "model = tf.keras.Sequential([\n",
        "  Flatten(input_shape = (28 , 28)) , # Explicitly specifying the input_shape (to build the model) \n",
        "  Dense(16 , activation = 'relu') , \n",
        "  Dense(10 , activation = 'relu'), \n",
        "  Dense(10 , activation= 'relu') , \n",
        "  #Dense(10 , activation = 'sigmoid')\n",
        "  tf.keras.layers.Activation('sigmoid')\n",
        "])\n",
        "\n",
        "# Getting the model summary \n",
        "model.summary()"
      ],
      "execution_count": 7,
      "outputs": [
        {
          "output_type": "stream",
          "text": [
            "Model: \"sequential_1\"\n",
            "_________________________________________________________________\n",
            "Layer (type)                 Output Shape              Param #   \n",
            "=================================================================\n",
            "flatten_2 (Flatten)          (None, 784)               0         \n",
            "_________________________________________________________________\n",
            "dense_7 (Dense)              (None, 16)                12560     \n",
            "_________________________________________________________________\n",
            "dense_8 (Dense)              (None, 10)                170       \n",
            "_________________________________________________________________\n",
            "dense_9 (Dense)              (None, 10)                110       \n",
            "_________________________________________________________________\n",
            "activation (Activation)      (None, 10)                0         \n",
            "=================================================================\n",
            "Total params: 12,840\n",
            "Trainable params: 12,840\n",
            "Non-trainable params: 0\n",
            "_________________________________________________________________\n"
          ],
          "name": "stdout"
        }
      ]
    },
    {
      "cell_type": "markdown",
      "metadata": {
        "id": "OfcgiANw25fS"
      },
      "source": [
        "### Convolutional and Pooling Layers in TensorFlow \n",
        "\n",
        "Previously we build our models with Feedforward networks, but now will use Convolutional layers to build our model."
      ]
    },
    {
      "cell_type": "code",
      "metadata": {
        "id": "TA-Z2Wxw3kLo"
      },
      "source": [
        "# Importing the needed packages \n",
        "from tensorflow.keras.layers import Flatten, Dense , Conv2D , MaxPooling2D"
      ],
      "execution_count": 9,
      "outputs": []
    },
    {
      "cell_type": "code",
      "metadata": {
        "colab": {
          "base_uri": "https://localhost:8080/"
        },
        "id": "bNvXB1HK4AD5",
        "outputId": "bdcd55ad-5f90-42bf-f721-9e0bb8006d1a"
      },
      "source": [
        "# Building a Convolutional Model \n",
        "model = tf.keras.Sequential([\n",
        "  Conv2D(filters= 16 , kernel_size= 3 , \n",
        "         activation = 'relu' , input_shape = (32 , 32 , 3)) , \n",
        "  MaxPooling2D(pool_size= 3) , \n",
        "  Flatten() , \n",
        "  Dense(64 ,  activation= 'relu'), \n",
        "  Dense(10 , activation= 'softmax')\n",
        "])\n",
        "\n",
        "# Getting the summary of the model \n",
        "model.summary()"
      ],
      "execution_count": 12,
      "outputs": [
        {
          "output_type": "stream",
          "text": [
            "Model: \"sequential_3\"\n",
            "_________________________________________________________________\n",
            "Layer (type)                 Output Shape              Param #   \n",
            "=================================================================\n",
            "conv2d_1 (Conv2D)            (None, 30, 30, 16)        448       \n",
            "_________________________________________________________________\n",
            "max_pooling2d_1 (MaxPooling2 (None, 10, 10, 16)        0         \n",
            "_________________________________________________________________\n",
            "flatten_4 (Flatten)          (None, 1600)              0         \n",
            "_________________________________________________________________\n",
            "dense_12 (Dense)             (None, 64)                102464    \n",
            "_________________________________________________________________\n",
            "dense_13 (Dense)             (None, 10)                650       \n",
            "=================================================================\n",
            "Total params: 103,562\n",
            "Trainable params: 103,562\n",
            "Non-trainable params: 0\n",
            "_________________________________________________________________\n"
          ],
          "name": "stdout"
        }
      ]
    },
    {
      "cell_type": "code",
      "metadata": {
        "colab": {
          "base_uri": "https://localhost:8080/"
        },
        "id": "rZBmPXkW7zOM",
        "outputId": "c6bbef8a-00ea-431f-9113-5cb1f0108016"
      },
      "source": [
        "# Build the Sequential convolutional neural network model\n",
        "\n",
        "model = Sequential([\n",
        "    Conv2D(32 , kernel_size=3 , padding = 'SAME' , strides = 2 , input_shape = (224 , 224, 3)) , \n",
        "    MaxPooling2D(3), \n",
        "    Conv2D(16 , 3 , 2),\n",
        "    Flatten(),\n",
        "    Dense(30 , activation = 'relu'),\n",
        "    Dense(10 , activation = 'sigmoid')\n",
        "])\n",
        "\n",
        "# Summary of the model \n",
        "model.summary()"
      ],
      "execution_count": 20,
      "outputs": [
        {
          "output_type": "stream",
          "text": [
            "Model: \"sequential_9\"\n",
            "_________________________________________________________________\n",
            "Layer (type)                 Output Shape              Param #   \n",
            "=================================================================\n",
            "conv2d_12 (Conv2D)           (None, 112, 112, 32)      896       \n",
            "_________________________________________________________________\n",
            "max_pooling2d_9 (MaxPooling2 (None, 37, 37, 32)        0         \n",
            "_________________________________________________________________\n",
            "conv2d_13 (Conv2D)           (None, 18, 18, 16)        4624      \n",
            "_________________________________________________________________\n",
            "flatten_10 (Flatten)         (None, 5184)              0         \n",
            "_________________________________________________________________\n",
            "dense_24 (Dense)             (None, 30)                155550    \n",
            "_________________________________________________________________\n",
            "dense_25 (Dense)             (None, 10)                310       \n",
            "=================================================================\n",
            "Total params: 161,380\n",
            "Trainable params: 161,380\n",
            "Non-trainable params: 0\n",
            "_________________________________________________________________\n"
          ],
          "name": "stdout"
        }
      ]
    },
    {
      "cell_type": "markdown",
      "metadata": {
        "id": "wTQU3Ry9_kA4"
      },
      "source": [
        "### Weight and bias initializers \n",
        "Will discuss the different ways to intialize weights and biases in the layers of neural networks.\n",
        "\n",
        "#### Default weight and biases\n",
        "The models we've worked so far, we have not specified the **initial values of the weights and biases** in each layers. \n",
        "\n",
        "Tensorflow set's the default value depends upon what type of layer's we are using. \n",
        "\n",
        "For instance, \n",
        "- In `Dense` layer the **biases** are set to zero (`zeros`) by default. \n",
        "- While the **weights** are set according to the `glorot_uniform`, or the Glorot uniform initializer. \n",
        "\n"
      ]
    },
    {
      "cell_type": "markdown",
      "metadata": {
        "id": "MI9eQ6Fy_rpg"
      },
      "source": [
        "#### Initializing your own weights and biases \n",
        "\n",
        "We can even initialize our own weights and biases, and TensorFlow makes the process quite straightforward. \n",
        "\n",
        "This can be achieved by using tweaking two optional arguments in each layer, \n",
        "- `kernel_initialiser` - for weights. \n",
        "- `bias_initialiser` - for the biases. \n",
        "\n",
        "Note: For `MaxPooling` layers we need not to specify the weights and biases. Will throw an error. \n",
        "\n",
        "Let's initialize the weights and biases by ourselves. "
      ]
    },
    {
      "cell_type": "code",
      "metadata": {
        "id": "q41tOw85DNnX"
      },
      "source": [
        "# Importing again (to make a practice)\n",
        "from tensorflow.keras.models import Sequential \n",
        "from tensorflow.keras.layers import Flatten, Dense , Conv2D , MaxPool2D"
      ],
      "execution_count": 22,
      "outputs": []
    },
    {
      "cell_type": "code",
      "metadata": {
        "id": "cYb4pJEwDmlD"
      },
      "source": [
        "# Constructing a model (with manual weight and bias initializer)\n",
        "\n"
      ],
      "execution_count": null,
      "outputs": []
    }
  ]
}
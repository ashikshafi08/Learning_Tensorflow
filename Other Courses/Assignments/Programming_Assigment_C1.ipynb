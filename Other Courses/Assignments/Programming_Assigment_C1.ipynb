{
  "nbformat": 4,
  "nbformat_minor": 0,
  "metadata": {
    "colab": {
      "name": "Programming_Assigment_C1.ipynb",
      "provenance": [],
      "authorship_tag": "ABX9TyP0pCLoclkmU7x5jr69uROR",
      "include_colab_link": true
    },
    "kernelspec": {
      "name": "python3",
      "display_name": "Python 3"
    },
    "language_info": {
      "name": "python"
    }
  },
  "cells": [
    {
      "cell_type": "markdown",
      "metadata": {
        "id": "view-in-github",
        "colab_type": "text"
      },
      "source": [
        "<a href=\"https://colab.research.google.com/github/ashikshafi08/Learning_Tensorflow/blob/main/Other%20Courses/Assignments/Programming_Assigment_C1.ipynb\" target=\"_parent\"><img src=\"https://colab.research.google.com/assets/colab-badge.svg\" alt=\"Open In Colab\"/></a>"
      ]
    },
    {
      "cell_type": "markdown",
      "metadata": {
        "id": "uycnMM6uaRER"
      },
      "source": [
        "# Programming Assignment"
      ]
    },
    {
      "cell_type": "markdown",
      "metadata": {
        "id": "VQc3kpW7aCEZ"
      },
      "source": [
        "This notebook contains all the Programming Assignments for the Course 1 of this specialization. \n",
        "\n",
        "Course 1 -> Getting Started with TensorFlow "
      ]
    },
    {
      "cell_type": "markdown",
      "metadata": {
        "id": "uNDOfJ3aaPCv"
      },
      "source": [
        "## CNN Classifier for the MNIST dataset"
      ]
    },
    {
      "cell_type": "code",
      "metadata": {
        "id": "ClojNIIEaVrS"
      },
      "source": [
        "#### PACKAGE IMPORTS ####\n",
        "\n",
        "# Run this cell first to import all required packages. Do not make any imports elsewhere in the notebook\n",
        "\n",
        "import tensorflow as tf\n",
        "import pandas as pd\n",
        "import numpy as np\n",
        "import matplotlib.pyplot as plt\n",
        "%matplotlib inline\n",
        "\n",
        "# If you would like to make further imports from Tensorflow, add them here\n",
        "from tensorflow.keras.layers import Dense , Flatten , Conv2D , MaxPooling2D\n"
      ],
      "execution_count": 1,
      "outputs": []
    },
    {
      "cell_type": "code",
      "metadata": {
        "colab": {
          "base_uri": "https://localhost:8080/"
        },
        "id": "zYQurLuCaYXS",
        "outputId": "22bb07b7-e400-4548-9a66-3e49ebdee9df"
      },
      "source": [
        "# Load and preprocess the data \n",
        "\n",
        "mnist_data = tf.keras.datasets.mnist\n",
        "(train_images , train_labels) , (test_images , test_labels) = mnist_data.load_data()\n",
        "\n",
        "def scale_mnist_data(train_images , test_images):\n",
        "  train_images = train_images / 255.\n",
        "  test_images = test_images / 255.\n",
        "\n",
        "  return (train_images , test_images)"
      ],
      "execution_count": 2,
      "outputs": [
        {
          "output_type": "stream",
          "text": [
            "Downloading data from https://storage.googleapis.com/tensorflow/tf-keras-datasets/mnist.npz\n",
            "11493376/11490434 [==============================] - 0s 0us/step\n"
          ],
          "name": "stdout"
        }
      ]
    },
    {
      "cell_type": "code",
      "metadata": {
        "id": "-8b21MWWa0J_"
      },
      "source": [
        "# Getting our scaled data \n",
        "scaled_train_images , scaled_test_images = scale_mnist_data(train_images , test_images)\n"
      ],
      "execution_count": 3,
      "outputs": []
    },
    {
      "cell_type": "code",
      "metadata": {
        "colab": {
          "base_uri": "https://localhost:8080/"
        },
        "id": "nNsJ-F40a9JW",
        "outputId": "dd514489-3cb9-4034-b037-49463737af71"
      },
      "source": [
        "# Add a dummy channel dimension \n",
        "\n",
        "scaled_train_images = scaled_train_images[..., np.newaxis]\n",
        "scaled_test_images = scaled_test_images[..., np.newaxis]\n",
        "\n",
        "scaled_train_images.shape , scaled_test_images.shape"
      ],
      "execution_count": 4,
      "outputs": [
        {
          "output_type": "execute_result",
          "data": {
            "text/plain": [
              "((60000, 28, 28, 1), (10000, 28, 28, 1))"
            ]
          },
          "metadata": {
            "tags": []
          },
          "execution_count": 4
        }
      ]
    },
    {
      "cell_type": "code",
      "metadata": {
        "id": "KSeNTETwbEjI"
      },
      "source": [
        "# A function to create the model \n",
        "#### GRADED CELL ####\n",
        "\n",
        "# Complete the following function. \n",
        "# Make sure to not change the function name or arguments.\n",
        "\n",
        "def get_model(input_shape):\n",
        "    \"\"\"\n",
        "    This function should build a Sequential model according to the above specification. Ensure the \n",
        "    weights are initialised by providing the input_shape argument in the first layer, given by the\n",
        "    function argument.\n",
        "    Your function should return the model.\n",
        "    \"\"\"\n",
        "    model = tf.keras.Sequential([\n",
        "        Conv2D(64 , 3 , activation = 'relu' , input_shape = input_shape ,\n",
        "              padding = 'SAME') , \n",
        "        MaxPooling2D(2), \n",
        "        Flatten(), \n",
        "        Dense(64 , activation = 'relu') , \n",
        "        Dense(63 , activation = 'relu'), \n",
        "        Dense(10 , activation = 'softmax')\n",
        "    ])\n",
        "    \n",
        "    return model"
      ],
      "execution_count": 5,
      "outputs": []
    },
    {
      "cell_type": "code",
      "metadata": {
        "colab": {
          "base_uri": "https://localhost:8080/"
        },
        "id": "MXrj0_K1bKgJ",
        "outputId": "da009295-c07f-4786-fcd7-7fcb6f3cbcfc"
      },
      "source": [
        "# Using the function to our model \n",
        "\n",
        "model = get_model(scaled_train_images[0].shape)\n",
        "\n",
        "# Summary of the model \n",
        "model.summary()"
      ],
      "execution_count": 6,
      "outputs": [
        {
          "output_type": "stream",
          "text": [
            "Model: \"sequential\"\n",
            "_________________________________________________________________\n",
            "Layer (type)                 Output Shape              Param #   \n",
            "=================================================================\n",
            "conv2d (Conv2D)              (None, 28, 28, 64)        640       \n",
            "_________________________________________________________________\n",
            "max_pooling2d (MaxPooling2D) (None, 14, 14, 64)        0         \n",
            "_________________________________________________________________\n",
            "flatten (Flatten)            (None, 12544)             0         \n",
            "_________________________________________________________________\n",
            "dense (Dense)                (None, 64)                802880    \n",
            "_________________________________________________________________\n",
            "dense_1 (Dense)              (None, 63)                4095      \n",
            "_________________________________________________________________\n",
            "dense_2 (Dense)              (None, 10)                640       \n",
            "=================================================================\n",
            "Total params: 808,255\n",
            "Trainable params: 808,255\n",
            "Non-trainable params: 0\n",
            "_________________________________________________________________\n"
          ],
          "name": "stdout"
        }
      ]
    },
    {
      "cell_type": "code",
      "metadata": {
        "id": "dwZHwuoAbT7o"
      },
      "source": [
        "# Compiling our model \n",
        "\n",
        "def compile_model(model):\n",
        "  return model.compile(loss = tf.keras.losses.SparseCategoricalCrossentropy() , \n",
        "                       optimizer = tf.keras.optimizers.Adam() , \n",
        "                       metrics = ['accuracy'])"
      ],
      "execution_count": 7,
      "outputs": []
    },
    {
      "cell_type": "code",
      "metadata": {
        "id": "MdA3ZInObYJc"
      },
      "source": [
        "# Run the function to compile the model \n",
        "compile_model(model)"
      ],
      "execution_count": 8,
      "outputs": []
    },
    {
      "cell_type": "code",
      "metadata": {
        "colab": {
          "base_uri": "https://localhost:8080/"
        },
        "id": "IPe7HDs2bbkp",
        "outputId": "5648b43f-de03-4507-ba31-ad5e52f7eee4"
      },
      "source": [
        "# Fit the model to the training data \n",
        "\n",
        "history = model.fit(scaled_train_images , train_labels , \n",
        "                    epochs = 5)"
      ],
      "execution_count": 9,
      "outputs": [
        {
          "output_type": "stream",
          "text": [
            "Epoch 1/5\n",
            "1875/1875 [==============================] - 46s 24ms/step - loss: 0.3354 - accuracy: 0.8970\n",
            "Epoch 2/5\n",
            "1875/1875 [==============================] - 45s 24ms/step - loss: 0.0571 - accuracy: 0.9818\n",
            "Epoch 3/5\n",
            "1875/1875 [==============================] - 44s 23ms/step - loss: 0.0394 - accuracy: 0.9871\n",
            "Epoch 4/5\n",
            "1875/1875 [==============================] - 44s 23ms/step - loss: 0.0251 - accuracy: 0.9917\n",
            "Epoch 5/5\n",
            "1875/1875 [==============================] - 44s 23ms/step - loss: 0.0161 - accuracy: 0.9950\n"
          ],
          "name": "stdout"
        }
      ]
    },
    {
      "cell_type": "markdown",
      "metadata": {
        "id": "RjdpHamxb7fp"
      },
      "source": [
        "Plotting the loss curves \n",
        "\n",
        "- Epoch vs Accuracy \n",
        "- Epoch vs Loss "
      ]
    },
    {
      "cell_type": "code",
      "metadata": {
        "id": "yH1BFbjQcHqa"
      },
      "source": [
        "# Creating a dataframe of our model's history \n",
        "frame = pd.DataFrame(history.history)"
      ],
      "execution_count": 10,
      "outputs": []
    },
    {
      "cell_type": "code",
      "metadata": {
        "colab": {
          "base_uri": "https://localhost:8080/",
          "height": 312
        },
        "id": "QahUcqtgcNGo",
        "outputId": "1c613d9b-1abb-43d6-a69c-af626dc2c201"
      },
      "source": [
        "# Plotting Accuracy Vs Epochs \n",
        "\n",
        "acc_plot = frame.plot(y='accuracy' , \n",
        "                      title = 'Accuracy Vs Epochs' , \n",
        "                      legend= False)\n",
        "acc_plot.set(xlabel = 'Epochs' , \n",
        "             ylabel = 'Accuracy')\n"
      ],
      "execution_count": 11,
      "outputs": [
        {
          "output_type": "execute_result",
          "data": {
            "text/plain": [
              "[Text(0, 0.5, 'Accuracy'), Text(0.5, 0, 'Epochs')]"
            ]
          },
          "metadata": {
            "tags": []
          },
          "execution_count": 11
        },
        {
          "output_type": "display_data",
          "data": {
            "image/png": "[encoded data removed]",
            "text/plain": [
              "<Figure size 432x288 with 1 Axes>"
            ]
          },
          "metadata": {
            "tags": [],
            "needs_background": "light"
          }
        }
      ]
    },
    {
      "cell_type": "code",
      "metadata": {
        "colab": {
          "base_uri": "https://localhost:8080/",
          "height": 312
        },
        "id": "JiWIEo2qcc_H",
        "outputId": "1402fb0b-7b84-4914-d186-00ccd091011c"
      },
      "source": [
        "# Plotting Loss Vs Epochs plot \n",
        "loss_plot = frame.plot(y = 'loss' , title = 'Loss vs Epochs', \n",
        "                       legend = False)\n",
        "loss_plot.set(xlabel = 'Epochs' , ylabel = 'Loss')"
      ],
      "execution_count": 12,
      "outputs": [
        {
          "output_type": "execute_result",
          "data": {
            "text/plain": [
              "[Text(0, 0.5, 'Loss'), Text(0.5, 0, 'Epochs')]"
            ]
          },
          "metadata": {
            "tags": []
          },
          "execution_count": 12
        },
        {
          "output_type": "display_data",
          "data": {
            "image/png": "[encoded data removed]",
            "text/plain": [
              "<Figure size 432x288 with 1 Axes>"
            ]
          },
          "metadata": {
            "tags": [],
            "needs_background": "light"
          }
        }
      ]
    },
    {
      "cell_type": "code",
      "metadata": {
        "colab": {
          "base_uri": "https://localhost:8080/"
        },
        "id": "UZVNRpThcvEs",
        "outputId": "c0836873-6d66-4c3f-8635-0232890b2638"
      },
      "source": [
        "# Evaluating the model on test data \n",
        "\n",
        "test_loss , test_accuracy = model.evaluate(scaled_test_images , test_labels)\n"
      ],
      "execution_count": 13,
      "outputs": [
        {
          "output_type": "stream",
          "text": [
            "313/313 [==============================] - 2s 7ms/step - loss: 0.0528 - accuracy: 0.9840\n"
          ],
          "name": "stdout"
        }
      ]
    },
    {
      "cell_type": "code",
      "metadata": {
        "colab": {
          "base_uri": "https://localhost:8080/"
        },
        "id": "InjHEDrPdSIL",
        "outputId": "f69d2569-3302-46f2-9fec-5c7dcb9e03ab"
      },
      "source": [
        "# Printing the loss and accuracy on test data \n",
        "print(f'Test Loss: {test_loss}')\n",
        "print(f'Test Accuracy: {test_accuracy}')"
      ],
      "execution_count": 14,
      "outputs": [
        {
          "output_type": "stream",
          "text": [
            "Test Loss: 0.05279957130551338\n",
            "Test Accuracy: 0.984000027179718\n"
          ],
          "name": "stdout"
        }
      ]
    },
    {
      "cell_type": "code",
      "metadata": {
        "colab": {
          "base_uri": "https://localhost:8080/",
          "height": 623
        },
        "id": "ngxLMof6eC7W",
        "outputId": "fc45b4d0-6394-434f-8ab4-b9ba9157fa96"
      },
      "source": [
        "# Run this cell to get model predictions on randomly selected test images\n",
        "\n",
        "num_test_images = scaled_test_images.shape[0]\n",
        "\n",
        "random_inx = np.random.choice(num_test_images, 4)\n",
        "random_test_images = scaled_test_images[random_inx, ...]\n",
        "random_test_labels = test_labels[random_inx, ...]\n",
        "\n",
        "predictions = model.predict(random_test_images)\n",
        "\n",
        "fig, axes = plt.subplots(4, 2, figsize=(16, 12))\n",
        "fig.subplots_adjust(hspace=0.4, wspace=-0.2)\n",
        "\n",
        "for i, (prediction, image, label) in enumerate(zip(predictions, random_test_images, random_test_labels)):\n",
        "    axes[i, 0].imshow(np.squeeze(image))\n",
        "    axes[i, 0].get_xaxis().set_visible(False)\n",
        "    axes[i, 0].get_yaxis().set_visible(False)\n",
        "    axes[i, 0].text(10., -1.5, f'Digit {label}')\n",
        "    axes[i, 1].bar(np.arange(len(prediction)), prediction)\n",
        "    axes[i, 1].set_xticks(np.arange(len(prediction)))\n",
        "    axes[i, 1].set_title(f\"Categorical distribution. Model prediction: {np.argmax(prediction)}\")\n",
        "    \n",
        "plt.show()"
      ],
      "execution_count": 15,
      "outputs": [
        {
          "output_type": "display_data",
          "data": {
            "image/png": "[encoded data removed]",
            "text/plain": [
              "<Figure size 1152x864 with 8 Axes>"
            ]
          },
          "metadata": {
            "tags": [],
            "needs_background": "light"
          }
        }
      ]
    },
    {
      "cell_type": "markdown",
      "metadata": {
        "id": "gTjG636JfygG"
      },
      "source": [
        "## Model Validation on the Iris dataset"
      ]
    },
    {
      "cell_type": "code",
      "metadata": {
        "id": "5A_XI2V4lmmi"
      },
      "source": [
        "# Importing the packages we need \n",
        "\n",
        "import tensorflow as tf \n",
        "import numpy as np \n",
        "import matplotlib.pyplot as plt\n",
        "from sklearn import datasets , model_selection \n",
        "%matplotlib inline\n",
        "\n",
        "# Setting the seed\n",
        "from numpy.random import seed\n",
        "seed(42)"
      ],
      "execution_count": 1,
      "outputs": []
    },
    {
      "cell_type": "markdown",
      "metadata": {
        "id": "HPiBU5CAl7Tv"
      },
      "source": [
        "#### Load and preprocess the data \n",
        "\n",
        "- Read the dataset\n",
        "- Split into train and test sets "
      ]
    },
    {
      "cell_type": "code",
      "metadata": {
        "colab": {
          "base_uri": "https://localhost:8080/"
        },
        "id": "S0Ubg8VIm5Lu",
        "outputId": "eb05d673-f4a5-404c-e259-3e11df8eee72"
      },
      "source": [
        "from sklearn.datasets import load_iris\n",
        "iris_data = load_iris()\n",
        "\n",
        "col_names = iris_data['feature_names'] \n",
        "targ_names = iris_data['target_names']\n",
        "col_names , targ_names"
      ],
      "execution_count": 6,
      "outputs": [
        {
          "output_type": "execute_result",
          "data": {
            "text/plain": [
              "(['sepal length (cm)',\n",
              "  'sepal width (cm)',\n",
              "  'petal length (cm)',\n",
              "  'petal width (cm)'],\n",
              " array(['setosa', 'versicolor', 'virginica'], dtype='<U10'))"
            ]
          },
          "metadata": {
            "tags": []
          },
          "execution_count": 6
        }
      ]
    },
    {
      "cell_type": "code",
      "metadata": {
        "colab": {
          "base_uri": "https://localhost:8080/"
        },
        "id": "oInLG2EQoND3",
        "outputId": "c3e944a0-04f8-4c4e-aae2-64a16832cc62"
      },
      "source": [
        "iris_data['target']"
      ],
      "execution_count": 11,
      "outputs": [
        {
          "output_type": "execute_result",
          "data": {
            "text/plain": [
              "array([0, 0, 0, 0, 0, 0, 0, 0, 0, 0, 0, 0, 0, 0, 0, 0, 0, 0, 0, 0, 0, 0,\n",
              "       0, 0, 0, 0, 0, 0, 0, 0, 0, 0, 0, 0, 0, 0, 0, 0, 0, 0, 0, 0, 0, 0,\n",
              "       0, 0, 0, 0, 0, 0, 1, 1, 1, 1, 1, 1, 1, 1, 1, 1, 1, 1, 1, 1, 1, 1,\n",
              "       1, 1, 1, 1, 1, 1, 1, 1, 1, 1, 1, 1, 1, 1, 1, 1, 1, 1, 1, 1, 1, 1,\n",
              "       1, 1, 1, 1, 1, 1, 1, 1, 1, 1, 1, 1, 2, 2, 2, 2, 2, 2, 2, 2, 2, 2,\n",
              "       2, 2, 2, 2, 2, 2, 2, 2, 2, 2, 2, 2, 2, 2, 2, 2, 2, 2, 2, 2, 2, 2,\n",
              "       2, 2, 2, 2, 2, 2, 2, 2, 2, 2, 2, 2, 2, 2, 2, 2, 2, 2])"
            ]
          },
          "metadata": {
            "tags": []
          },
          "execution_count": 11
        }
      ]
    },
    {
      "cell_type": "code",
      "metadata": {
        "id": "m9SMlmcgmFyN"
      },
      "source": [
        "# Creating a function for it \n",
        "\n",
        "def read_in_and_split_data(iris_data):\n",
        "  '''\n",
        "  Takes in a sklearn.datasets and then split into train and test sets \n",
        "\n",
        "  Function should return a tuple (train_data , test_data , train_targets , test_targets)\n",
        "  '''\n",
        "\n",
        "  data = iris_data['data']\n",
        "  targets = iris_data['target']\n",
        "\n",
        "  # Splitting into train and test split \n",
        "  train_data , test_data , train_targets , test_targets = model_selection.train_test_split(data , \n",
        "                                                                                           targets , \n",
        "                                                                                           test_size = 0.2 ,\n",
        "                                                                                           random_state = 42)\n",
        "  return (train_data , test_data , train_targets , test_targets) "
      ],
      "execution_count": 14,
      "outputs": []
    },
    {
      "cell_type": "code",
      "metadata": {
        "id": "VECGxZdumqwF"
      },
      "source": [
        "# Running the function to generate our splits of data \n",
        "\n",
        "train_data , test_data , train_targets , test_targets = read_in_and_split_data(iris_data)"
      ],
      "execution_count": 15,
      "outputs": []
    },
    {
      "cell_type": "code",
      "metadata": {
        "colab": {
          "base_uri": "https://localhost:8080/"
        },
        "id": "b4icex7XoKZt",
        "outputId": "a04ee353-4f41-492e-9ee0-a5af931ca9b3"
      },
      "source": [
        "# Checking the shape \n",
        "\n",
        "train_data.shape , test_data.shape , train_targets.shape, test_targets.shape  "
      ],
      "execution_count": 16,
      "outputs": [
        {
          "output_type": "execute_result",
          "data": {
            "text/plain": [
              "((120, 4), (30, 4), (120,), (30,))"
            ]
          },
          "metadata": {
            "tags": []
          },
          "execution_count": 16
        }
      ]
    },
    {
      "cell_type": "code",
      "metadata": {
        "colab": {
          "base_uri": "https://localhost:8080/"
        },
        "id": "sZ18HL0HoglQ",
        "outputId": "d36ae272-00db-4c79-9677-78d5f68fbca0"
      },
      "source": [
        "# Convert targst to a one-hot encoding \n",
        "\n",
        "train_targets = tf.keras.utils.to_categorical(np.array(train_targets))\n",
        "test_targets = tf.keras.utils.to_categorical(np.array(test_targets))\n",
        "\n",
        "train_targets[:10]"
      ],
      "execution_count": 17,
      "outputs": [
        {
          "output_type": "execute_result",
          "data": {
            "text/plain": [
              "array([[1., 0., 0.],\n",
              "       [1., 0., 0.],\n",
              "       [0., 1., 0.],\n",
              "       [1., 0., 0.],\n",
              "       [1., 0., 0.],\n",
              "       [0., 0., 1.],\n",
              "       [0., 1., 0.],\n",
              "       [1., 0., 0.],\n",
              "       [1., 0., 0.],\n",
              "       [1., 0., 0.]], dtype=float32)"
            ]
          },
          "metadata": {
            "tags": []
          },
          "execution_count": 17
        }
      ]
    },
    {
      "cell_type": "markdown",
      "metadata": {
        "id": "6HcrSXNbo4m5"
      },
      "source": [
        "#### Build a neural network model "
      ]
    },
    {
      "cell_type": "code",
      "metadata": {
        "id": "lMi28qrupXGU"
      },
      "source": [
        "# Importing the needed things \n",
        "from tensorflow.keras.layers import Dense \n",
        "from tensorflow.keras import Sequential\n"
      ],
      "execution_count": 18,
      "outputs": []
    },
    {
      "cell_type": "code",
      "metadata": {
        "id": "oQH3gTLWo8aj"
      },
      "source": [
        "# Creating a function to build a model \n",
        "\n",
        "def get_model(input_shape):\n",
        "  '''\n",
        "  Function builds a Sequential model. Ensure weights are initialized by providing\n",
        "  the input_shape argument in the first layer. \n",
        "\n",
        "  Function should return the model\n",
        "  '''\n",
        "\n",
        "  model = Sequential([\n",
        "    Dense(64 , activation = 'relu' ,kernel_initializer= 'he_uniform', \n",
        "          bias_initializer = tf.keras.initializers.Ones(), input_shape = input_shape), \n",
        "    Dense(64 , activation= 'relu') , \n",
        "    Dense(64 , activation= 'relu') , \n",
        "    Dense(64 , activation= 'relu') , \n",
        "    Dense(64 , activation= 'relu') , \n",
        "    Dense(128 , activation= 'relu') ,\n",
        "    Dense(128 , activation= 'relu') ,\n",
        "    Dense(128 , activation= 'relu') ,\n",
        "    Dense(128 , activation= 'relu') ,\n",
        "    Dense(3 , activation='softmax')\n",
        "  ])\n",
        "\n",
        "  return model "
      ],
      "execution_count": 21,
      "outputs": []
    },
    {
      "cell_type": "code",
      "metadata": {
        "id": "jvLRMz1Qvjlz"
      },
      "source": [
        "# Getting our model from the function \n",
        "model = get_model(train_data[0].shape)"
      ],
      "execution_count": 22,
      "outputs": []
    },
    {
      "cell_type": "code",
      "metadata": {
        "colab": {
          "base_uri": "https://localhost:8080/"
        },
        "id": "2JjKNiW8vqWs",
        "outputId": "80fce498-5358-48ad-a2c0-949d6d176a8f"
      },
      "source": [
        "# Getting the sumary of the model \n",
        "model.summary()"
      ],
      "execution_count": 23,
      "outputs": [
        {
          "output_type": "stream",
          "text": [
            "Model: \"sequential\"\n",
            "_________________________________________________________________\n",
            "Layer (type)                 Output Shape              Param #   \n",
            "=================================================================\n",
            "dense_1 (Dense)              (None, 64)                320       \n",
            "_________________________________________________________________\n",
            "dense_2 (Dense)              (None, 64)                4160      \n",
            "_________________________________________________________________\n",
            "dense_3 (Dense)              (None, 64)                4160      \n",
            "_________________________________________________________________\n",
            "dense_4 (Dense)              (None, 64)                4160      \n",
            "_________________________________________________________________\n",
            "dense_5 (Dense)              (None, 64)                4160      \n",
            "_________________________________________________________________\n",
            "dense_6 (Dense)              (None, 128)               8320      \n",
            "_________________________________________________________________\n",
            "dense_7 (Dense)              (None, 128)               16512     \n",
            "_________________________________________________________________\n",
            "dense_8 (Dense)              (None, 128)               16512     \n",
            "_________________________________________________________________\n",
            "dense_9 (Dense)              (None, 128)               16512     \n",
            "_________________________________________________________________\n",
            "dense_10 (Dense)             (None, 3)                 387       \n",
            "=================================================================\n",
            "Total params: 75,203\n",
            "Trainable params: 75,203\n",
            "Non-trainable params: 0\n",
            "_________________________________________________________________\n"
          ],
          "name": "stdout"
        }
      ]
    },
    {
      "cell_type": "code",
      "metadata": {
        "id": "lP_p0UW8v0d_"
      },
      "source": [
        "# Function for compiling our model \n",
        "\n",
        "def compile_model(model):\n",
        "  '''\n",
        "  optimizer --> adam (lr = 0.0001)\n",
        "  loss func --> categorical crossentropy\n",
        "  metric --> accuracy \n",
        "  '''\n",
        "\n",
        "  model.compile(loss = tf.keras.losses.CategoricalCrossentropy() , \n",
        "                optimizer = tf.keras.optimizers.Adam(learning_rate= 0.0001) , \n",
        "                metrics = ['accuracy'])"
      ],
      "execution_count": 24,
      "outputs": []
    },
    {
      "cell_type": "code",
      "metadata": {
        "id": "DYcDTAEUxeCg"
      },
      "source": [
        "# Run the function to compile our model \n",
        "compile_model(model)"
      ],
      "execution_count": 25,
      "outputs": []
    },
    {
      "cell_type": "markdown",
      "metadata": {
        "id": "JSSg4wszxhkN"
      },
      "source": [
        "#### Fit the model to the training data \n",
        "- batch size 40 \n",
        "- validation split 15% \n",
        "- history should be stored "
      ]
    },
    {
      "cell_type": "code",
      "metadata": {
        "id": "8QHEZApaxuKu"
      },
      "source": [
        "def train_model(model, train_data , train_targets , epochs , \n",
        "                batch_size):\n",
        "\n",
        "  history = model.fit(train_data , train_targets , epochs ,\n",
        "                      batch_size ,  \n",
        "                      validation_split = 0.15 , \n",
        "                      verbose = False)\n",
        "  \n",
        "  return history"
      ],
      "execution_count": 31,
      "outputs": []
    },
    {
      "cell_type": "code",
      "metadata": {
        "id": "LA6kqbBpyJwT"
      },
      "source": [
        "# Training the model \n",
        "history = train_model(model , train_data , train_targets , \n",
        "                      epochs = 800 , batch_size = 40 )"
      ],
      "execution_count": 32,
      "outputs": []
    },
    {
      "cell_type": "code",
      "metadata": {
        "colab": {
          "base_uri": "https://localhost:8080/"
        },
        "id": "H7b_ZdujyTg_",
        "outputId": "e34c9664-0af1-4a6d-ee2e-131d540dd29a"
      },
      "source": [
        "# Evaluating the model on test data \n",
        "norm_model_results = model.evaluate(test_data , test_targets , verbose = 2)"
      ],
      "execution_count": 34,
      "outputs": [
        {
          "output_type": "stream",
          "text": [
            "1/1 - 0s - loss: 0.6821 - accuracy: 0.8667\n"
          ],
          "name": "stdout"
        }
      ]
    },
    {
      "cell_type": "code",
      "metadata": {
        "colab": {
          "base_uri": "https://localhost:8080/",
          "height": 295
        },
        "id": "WYboNvDUy_56",
        "outputId": "cc5cbef6-2833-4710-a60d-2acee48116c8"
      },
      "source": [
        "# Run this cell to plot the epoch vs accuracy graph\n",
        "\n",
        "try:\n",
        "    plt.plot(history.history['accuracy'])\n",
        "    plt.plot(history.history['val_accuracy'])\n",
        "except KeyError:\n",
        "    plt.plot(history.history['acc'])\n",
        "    plt.plot(history.history['val_acc'])\n",
        "plt.title('Accuracyavs. epochs')\n",
        "plt.ylabel('Loss')\n",
        "plt.xlabel('Epoch')\n",
        "plt.legend(['Training', 'Validation'], loc='lower right')\n",
        "plt.show() "
      ],
      "execution_count": 35,
      "outputs": [
        {
          "output_type": "display_data",
          "data": {
            "image/png": "[encoded data removed]",
            "text/plain": [
              "<Figure size 432x288 with 1 Axes>"
            ]
          },
          "metadata": {
            "tags": [],
            "needs_background": "light"
          }
        }
      ]
    },
    {
      "cell_type": "code",
      "metadata": {
        "colab": {
          "base_uri": "https://localhost:8080/",
          "height": 295
        },
        "id": "dxJvW5gm4RSN",
        "outputId": "373272dd-918f-4e31-fa67-946c53cde497"
      },
      "source": [
        "#Run this cell to plot the epoch vs loss graph\n",
        "plt.plot(history.history['loss'])\n",
        "plt.plot(history.history['val_loss'])\n",
        "plt.title('Loss vs. epochs')\n",
        "plt.ylabel('Loss')\n",
        "plt.xlabel('Epoch')\n",
        "plt.legend(['Training', 'Validation'], loc='upper right')\n",
        "plt.show() "
      ],
      "execution_count": 37,
      "outputs": [
        {
          "output_type": "display_data",
          "data": {
            "image/png": "[encoded data removed]",
            "text/plain": [
              "<Figure size 432x288 with 1 Axes>"
            ]
          },
          "metadata": {
            "tags": [],
            "needs_background": "light"
          }
        }
      ]
    },
    {
      "cell_type": "markdown",
      "metadata": {
        "id": "ie0G3OYm4Tjl"
      },
      "source": [
        "Oh bad... Our model is overfitting. \n",
        "\n",
        "Our next goal is to reduce the overfitting in the model. \n",
        "\n",
        "Let's build a regularized model and see if we can avoid the overfitting."
      ]
    },
    {
      "cell_type": "code",
      "metadata": {
        "id": "aI16fenJAXNm"
      },
      "source": [
        "# Importing the things we need \n",
        "from tensorflow.keras.layers import Dropout , BatchNormalization"
      ],
      "execution_count": 39,
      "outputs": []
    },
    {
      "cell_type": "code",
      "metadata": {
        "colab": {
          "base_uri": "https://localhost:8080/"
        },
        "id": "JOc_fzad4rOh",
        "outputId": "6601f404-ad7a-4ea4-8d4e-3ee797cad196"
      },
      "source": [
        "def get_regularized_model(input_shape , dropout_rate , \n",
        "                          weight_decay):\n",
        "  \n",
        "  model = Sequential([\n",
        "    Dense(64 , activation = 'relu' ,\n",
        "          kernel_regularizer= tf.keras.regularizers.l2(weight_decay),input_shape = input_shape), \n",
        "\n",
        "    Dense(128 , activation= 'relu' , kernel_regularizer= tf.keras.regularizers.l2(weight_decay)) ,\n",
        "    Dense(128 , activation= 'relu' , \n",
        "          kernel_regularizer= tf.keras.regularizers.l2(weight_decay)) ,\n",
        "    Dropout(dropout_rate), \n",
        "    Dense(128 , activation= 'relu' , \n",
        "          kernel_regularizer= tf.keras.regularizers.l2(weight_decay)) ,\n",
        "    Dense(128 , activation= 'relu' , \n",
        "          kernel_regularizer= tf.keras.regularizers.l2(weight_decay)) , \n",
        "    BatchNormalization(),     \n",
        "    Dense(64 , activation= 'relu' , \n",
        "          kernel_regularizer= tf.keras.regularizers.l2(weight_decay)) , \n",
        "    Dense(64 , activation= 'relu' , \n",
        "          kernel_regularizer= tf.keras.regularizers.l2(weight_decay)) , \n",
        "    Dropout(dropout_rate),\n",
        "    Dense(64 , activation= 'relu', \n",
        "          kernel_regularizer= tf.keras.regularizers.l2(weight_decay)) , \n",
        "    Dense(64 , activation= 'relu', \n",
        "          kernel_regularizer= tf.keras.regularizers.l2(weight_decay)) ,\n",
        "    Dense(3 , activation='softmax')\n",
        "  ])\n",
        "\n",
        "  return model \n",
        "\n",
        "# Getting the model \n",
        "reg_model = get_regularized_model(train_data[0].shape , 0.3 , 0.001)\n",
        "\n",
        "# Compiling the model \n",
        "compile_model(reg_model)\n",
        "\n",
        "# Summary of the model \n",
        "reg_model.summary()"
      ],
      "execution_count": 44,
      "outputs": [
        {
          "output_type": "stream",
          "text": [
            "Model: \"sequential_3\"\n",
            "_________________________________________________________________\n",
            "Layer (type)                 Output Shape              Param #   \n",
            "=================================================================\n",
            "dense_31 (Dense)             (None, 64)                320       \n",
            "_________________________________________________________________\n",
            "dense_32 (Dense)             (None, 128)               8320      \n",
            "_________________________________________________________________\n",
            "dense_33 (Dense)             (None, 128)               16512     \n",
            "_________________________________________________________________\n",
            "dropout_4 (Dropout)          (None, 128)               0         \n",
            "_________________________________________________________________\n",
            "dense_34 (Dense)             (None, 128)               16512     \n",
            "_________________________________________________________________\n",
            "dense_35 (Dense)             (None, 128)               16512     \n",
            "_________________________________________________________________\n",
            "batch_normalization_2 (Batch (None, 128)               512       \n",
            "_________________________________________________________________\n",
            "dense_36 (Dense)             (None, 64)                8256      \n",
            "_________________________________________________________________\n",
            "dense_37 (Dense)             (None, 64)                4160      \n",
            "_________________________________________________________________\n",
            "dropout_5 (Dropout)          (None, 64)                0         \n",
            "_________________________________________________________________\n",
            "dense_38 (Dense)             (None, 64)                4160      \n",
            "_________________________________________________________________\n",
            "dense_39 (Dense)             (None, 64)                4160      \n",
            "_________________________________________________________________\n",
            "dense_40 (Dense)             (None, 3)                 195       \n",
            "=================================================================\n",
            "Total params: 79,619\n",
            "Trainable params: 79,363\n",
            "Non-trainable params: 256\n",
            "_________________________________________________________________\n"
          ],
          "name": "stdout"
        }
      ]
    },
    {
      "cell_type": "code",
      "metadata": {
        "id": "vvrlz00YCX9i"
      },
      "source": [
        "# Fitting the model \n",
        "\n",
        "reg_history = train_model(reg_model , train_data ,\n",
        "                          train_targets , epochs = 800 , \n",
        "                          batch_size = 100)"
      ],
      "execution_count": 46,
      "outputs": []
    },
    {
      "cell_type": "code",
      "metadata": {
        "colab": {
          "base_uri": "https://localhost:8080/"
        },
        "id": "FAaXFdYBGWbD",
        "outputId": "3c1de663-feeb-4114-bbab-c8a62d43a3f8"
      },
      "source": [
        "# Evaluating on the test data \n",
        "reg_model_results = reg_model.evaluate(test_data , test_targets)"
      ],
      "execution_count": 47,
      "outputs": [
        {
          "output_type": "stream",
          "text": [
            "1/1 [==============================] - 0s 18ms/step - loss: 1.4926 - accuracy: 0.7333\n"
          ],
          "name": "stdout"
        }
      ]
    },
    {
      "cell_type": "code",
      "metadata": {
        "colab": {
          "base_uri": "https://localhost:8080/",
          "height": 295
        },
        "id": "19fy3bRZGfwD",
        "outputId": "5b7e4309-68b8-46bf-f52b-c2f1363d7f58"
      },
      "source": [
        "#Run this cell to plot the new accuracy vs epoch graph\n",
        "\n",
        "try:\n",
        "    plt.plot(reg_history.history['accuracy'])\n",
        "    plt.plot(reg_history.history['val_accuracy'])\n",
        "except KeyError:\n",
        "    plt.plot(reg_history.history['acc'])\n",
        "    plt.plot(reg_history.history['val_acc'])\n",
        "plt.title('Accuracy vs. epochs')\n",
        "plt.ylabel('Loss')\n",
        "plt.xlabel('Epoch')\n",
        "plt.legend(['Training', 'Validation'], loc='lower right')\n",
        "plt.show() "
      ],
      "execution_count": 48,
      "outputs": [
        {
          "output_type": "display_data",
          "data": {
            "image/png": "[encoded data removed]",
            "text/plain": [
              "<Figure size 432x288 with 1 Axes>"
            ]
          },
          "metadata": {
            "tags": [],
            "needs_background": "light"
          }
        }
      ]
    },
    {
      "cell_type": "code",
      "metadata": {
        "colab": {
          "base_uri": "https://localhost:8080/",
          "height": 295
        },
        "id": "xcqykvPWGjDW",
        "outputId": "3da319a8-805c-4320-f6c8-dde844aaf9fd"
      },
      "source": [
        "#Run this cell to plot the new loss vs epoch graph\n",
        "\n",
        "plt.plot(reg_history.history['loss'])\n",
        "plt.plot(reg_history.history['val_loss'])\n",
        "plt.title('Loss vs. epochs')\n",
        "plt.ylabel('Loss')\n",
        "plt.xlabel('Epoch')\n",
        "plt.legend(['Training', 'Validation'], loc='upper right')\n",
        "plt.show() "
      ],
      "execution_count": 49,
      "outputs": [
        {
          "output_type": "display_data",
          "data": {
            "image/png": "[encoded data removed]",
            "text/plain": [
              "<Figure size 432x288 with 1 Axes>"
            ]
          },
          "metadata": {
            "tags": [],
            "needs_background": "light"
          }
        }
      ]
    },
    {
      "cell_type": "markdown",
      "metadata": {
        "id": "qJbGca1JGlQn"
      },
      "source": [
        "Hmm.. not bad we reduced the overfitting a bit. Let's try addin some callbacks into our model and see if they can help us in any way. "
      ]
    },
    {
      "cell_type": "code",
      "metadata": {
        "id": "VF8E1iK5IQDv"
      },
      "source": [
        "# Creating a function for callbacks \n",
        "\n",
        "def get_callbacks():\n",
        "  '''\n",
        "  Returns a tuple of (earlystopping , reducelronplateau)\n",
        "  '''\n",
        "\n",
        "  early_stopping = tf.keras.callbacks.EarlyStopping(monitor = 'val_loss' , \n",
        "                                                    patience = 30 , \n",
        "                                                    mode = 'min')\n",
        "  \n",
        "  reducelr_plateau = tf.keras.callbacks.ReduceLROnPlateau(factor= 0.2 , \n",
        "                                                          patience = 20)\n",
        "  \n",
        "  return (early_stopping , reducelr_plateau)\n",
        "\n"
      ],
      "execution_count": 52,
      "outputs": []
    },
    {
      "cell_type": "code",
      "metadata": {
        "colab": {
          "base_uri": "https://localhost:8080/"
        },
        "id": "N8KNUowTJMSj",
        "outputId": "93333a90-dc0d-43e8-f219-9ee9958aaa2f"
      },
      "source": [
        "# Creating a model for testing callbacks \n",
        "call_model = get_regularized_model(train_data[0].shape , \n",
        "                                   0.3 , 0.001)\n",
        "\n",
        "# Compiling the callback model \n",
        "compile_model(call_model)\n",
        "\n",
        "# Summary of the model \n",
        "call_model.summary()"
      ],
      "execution_count": 51,
      "outputs": [
        {
          "output_type": "stream",
          "text": [
            "Model: \"sequential_4\"\n",
            "_________________________________________________________________\n",
            "Layer (type)                 Output Shape              Param #   \n",
            "=================================================================\n",
            "dense_41 (Dense)             (None, 64)                320       \n",
            "_________________________________________________________________\n",
            "dense_42 (Dense)             (None, 128)               8320      \n",
            "_________________________________________________________________\n",
            "dense_43 (Dense)             (None, 128)               16512     \n",
            "_________________________________________________________________\n",
            "dropout_6 (Dropout)          (None, 128)               0         \n",
            "_________________________________________________________________\n",
            "dense_44 (Dense)             (None, 128)               16512     \n",
            "_________________________________________________________________\n",
            "dense_45 (Dense)             (None, 128)               16512     \n",
            "_________________________________________________________________\n",
            "batch_normalization_3 (Batch (None, 128)               512       \n",
            "_________________________________________________________________\n",
            "dense_46 (Dense)             (None, 64)                8256      \n",
            "_________________________________________________________________\n",
            "dense_47 (Dense)             (None, 64)                4160      \n",
            "_________________________________________________________________\n",
            "dropout_7 (Dropout)          (None, 64)                0         \n",
            "_________________________________________________________________\n",
            "dense_48 (Dense)             (None, 64)                4160      \n",
            "_________________________________________________________________\n",
            "dense_49 (Dense)             (None, 64)                4160      \n",
            "_________________________________________________________________\n",
            "dense_50 (Dense)             (None, 3)                 195       \n",
            "=================================================================\n",
            "Total params: 79,619\n",
            "Trainable params: 79,363\n",
            "Non-trainable params: 256\n",
            "_________________________________________________________________\n"
          ],
          "name": "stdout"
        }
      ]
    },
    {
      "cell_type": "code",
      "metadata": {
        "id": "cbsuteszJcwG"
      },
      "source": [
        "# Unpacking our callbacks \n",
        "\n",
        "early_stopping , learning_rate_reduction = get_callbacks()\n",
        "\n",
        "# Fitting our model \n",
        "call_history = call_model.fit(train_data , train_targets, \n",
        "                              epochs = 800 , \n",
        "                              validation_split = 0.15 , \n",
        "                              callbacks = [early_stopping , learning_rate_reduction] , \n",
        "                              verbose = 0)"
      ],
      "execution_count": 55,
      "outputs": []
    },
    {
      "cell_type": "code",
      "metadata": {
        "colab": {
          "base_uri": "https://localhost:8080/"
        },
        "id": "PQoUSVJtJ4Na",
        "outputId": "72a9c80b-8acc-4f52-d9ff-7a289ddbb89c"
      },
      "source": [
        "# Evaluating our model on test data \n",
        "call_model_results = call_model.evaluate(test_data , test_targets)"
      ],
      "execution_count": 56,
      "outputs": [
        {
          "output_type": "stream",
          "text": [
            "1/1 [==============================] - 0s 20ms/step - loss: 0.5570 - accuracy: 1.0000\n"
          ],
          "name": "stdout"
        }
      ]
    },
    {
      "cell_type": "code",
      "metadata": {
        "colab": {
          "base_uri": "https://localhost:8080/",
          "height": 295
        },
        "id": "ptRqoLoHKEJu",
        "outputId": "375f3a59-31ae-4d54-9a96-ecd1d2d2d17e"
      },
      "source": [
        "try:\n",
        "    plt.plot(call_history.history['accuracy'])\n",
        "    plt.plot(call_history.history['val_accuracy'])\n",
        "except KeyError:\n",
        "    plt.plot(call_history.history['acc'])\n",
        "    plt.plot(call_history.history['val_acc'])\n",
        "plt.title('Accuracy vs. epochs')\n",
        "plt.ylabel('Accuracy')\n",
        "plt.xlabel('Epoch')\n",
        "plt.legend(['Training', 'Validation'], loc='lower right')\n",
        "plt.show() "
      ],
      "execution_count": 57,
      "outputs": [
        {
          "output_type": "display_data",
          "data": {
            "image/png": "[encoded data removed]",
            "text/plain": [
              "<Figure size 432x288 with 1 Axes>"
            ]
          },
          "metadata": {
            "tags": [],
            "needs_background": "light"
          }
        }
      ]
    },
    {
      "cell_type": "code",
      "metadata": {
        "colab": {
          "base_uri": "https://localhost:8080/",
          "height": 295
        },
        "id": "h3SAh7J1KKLN",
        "outputId": "e013d9ae-d71b-425c-eb2f-2843df1cedd3"
      },
      "source": [
        "plt.plot(call_history.history['loss'])\n",
        "plt.plot(call_history.history['val_loss'])\n",
        "plt.title('Loss vs. epochs')\n",
        "plt.ylabel('Loss')\n",
        "plt.xlabel('Epoch')\n",
        "plt.legend(['Training', 'Validation'], loc='upper right')\n",
        "plt.show() "
      ],
      "execution_count": 58,
      "outputs": [
        {
          "output_type": "display_data",
          "data": {
            "image/png": "[encoded data removed]",
            "text/plain": [
              "<Figure size 432x288 with 1 Axes>"
            ]
          },
          "metadata": {
            "tags": [],
            "needs_background": "light"
          }
        }
      ]
    },
    {
      "cell_type": "code",
      "metadata": {
        "colab": {
          "base_uri": "https://localhost:8080/"
        },
        "id": "gY-xbT5KKMFe",
        "outputId": "0f0ecdae-efbe-486f-cdd2-0d12959277c3"
      },
      "source": [
        "# Evaluate the model on the test set\n",
        "\n",
        "test_loss, test_acc = call_model.evaluate(test_data, test_targets, verbose=0)\n",
        "print(\"Test loss: {:.3f}\\nTest accuracy: {:.2f}%\".format(test_loss, 100 * test_acc))"
      ],
      "execution_count": 59,
      "outputs": [
        {
          "output_type": "stream",
          "text": [
            "Test loss: 0.557\n",
            "Test accuracy: 100.00%\n"
          ],
          "name": "stdout"
        }
      ]
    },
    {
      "cell_type": "markdown",
      "metadata": {
        "id": "6_KGwdoPKOL_"
      },
      "source": [
        "Look at that!!! How impressive? Just using our regularization techniques we we're able to reduce our overfitting and get good results! "
      ]
    },
    {
      "cell_type": "code",
      "metadata": {
        "id": "wDdy41ZLLB_D"
      },
      "source": [
        ""
      ],
      "execution_count": null,
      "outputs": []
    }
  ]
}
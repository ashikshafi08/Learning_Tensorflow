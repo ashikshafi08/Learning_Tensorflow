{
  "nbformat": 4,
  "nbformat_minor": 0,
  "metadata": {
    "colab": {
      "name": "Programming_Assigment_C1.ipynb",
      "provenance": [],
      "authorship_tag": "ABX9TyP3hL21zdWFuYerKVsyO00h",
      "include_colab_link": true
    },
    "kernelspec": {
      "name": "python3",
      "display_name": "Python 3"
    },
    "language_info": {
      "name": "python"
    }
  },
  "cells": [
    {
      "cell_type": "markdown",
      "metadata": {
        "id": "view-in-github",
        "colab_type": "text"
      },
      "source": [
        "<a href=\"https://colab.research.google.com/github/ashikshafi08/Learning_Tensorflow/blob/main/Other%20Courses/Assignments/Programming_Assigment_C1.ipynb\" target=\"_parent\"><img src=\"https://colab.research.google.com/assets/colab-badge.svg\" alt=\"Open In Colab\"/></a>"
      ]
    },
    {
      "cell_type": "markdown",
      "metadata": {
        "id": "uycnMM6uaRER"
      },
      "source": [
        "# Programming Assignment"
      ]
    },
    {
      "cell_type": "markdown",
      "metadata": {
        "id": "VQc3kpW7aCEZ"
      },
      "source": [
        "This notebook contains all the Programming Assignments for the Course 1 of this specialization. \n",
        "\n",
        "Course 1 -> Getting Started with TensorFlow "
      ]
    },
    {
      "cell_type": "markdown",
      "metadata": {
        "id": "uNDOfJ3aaPCv"
      },
      "source": [
        "## CNN Classifier for the MNIST dataset"
      ]
    },
    {
      "cell_type": "code",
      "metadata": {
        "id": "ClojNIIEaVrS"
      },
      "source": [
        "#### PACKAGE IMPORTS ####\n",
        "\n",
        "# Run this cell first to import all required packages. Do not make any imports elsewhere in the notebook\n",
        "\n",
        "import tensorflow as tf\n",
        "import pandas as pd\n",
        "import numpy as np\n",
        "import matplotlib.pyplot as plt\n",
        "%matplotlib inline\n",
        "\n",
        "# If you would like to make further imports from Tensorflow, add them here\n",
        "from tensorflow.keras.layers import Dense , Flatten , Conv2D , MaxPooling2D\n"
      ],
      "execution_count": 1,
      "outputs": []
    },
    {
      "cell_type": "code",
      "metadata": {
        "colab": {
          "base_uri": "https://localhost:8080/"
        },
        "id": "zYQurLuCaYXS",
        "outputId": "d86f96b9-038c-4f64-8b97-c8df7d733603"
      },
      "source": [
        "# Load and preprocess the data \n",
        "\n",
        "mnist_data = tf.keras.datasets.mnist\n",
        "(train_images , train_labels) , (test_images , test_labels) = mnist_data.load_data()\n",
        "\n",
        "def scale_mnist_data(train_images , test_images):\n",
        "  train_images = train_images / 255.\n",
        "  test_images = test_images / 255.\n",
        "\n",
        "  return (train_images , test_images)"
      ],
      "execution_count": 2,
      "outputs": [
        {
          "output_type": "stream",
          "text": [
            "Downloading data from https://storage.googleapis.com/tensorflow/tf-keras-datasets/mnist.npz\n",
            "11493376/11490434 [==============================] - 0s 0us/step\n"
          ],
          "name": "stdout"
        }
      ]
    },
    {
      "cell_type": "code",
      "metadata": {
        "id": "-8b21MWWa0J_"
      },
      "source": [
        "# Getting our scaled data \n",
        "scaled_train_images , scaled_test_images = scale_mnist_data(train_images , test_images)\n"
      ],
      "execution_count": 3,
      "outputs": []
    },
    {
      "cell_type": "code",
      "metadata": {
        "colab": {
          "base_uri": "https://localhost:8080/"
        },
        "id": "nNsJ-F40a9JW",
        "outputId": "6f944bc4-e8f0-4f2b-cf0c-6bf0c0aa77f3"
      },
      "source": [
        "# Add a dummy channel dimension \n",
        "\n",
        "scaled_train_images = scaled_train_images[..., np.newaxis]\n",
        "scaled_test_images = scaled_test_images[..., np.newaxis]\n",
        "\n",
        "scaled_train_images.shape , scaled_test_images.shape"
      ],
      "execution_count": 4,
      "outputs": [
        {
          "output_type": "execute_result",
          "data": {
            "text/plain": [
              "((60000, 28, 28, 1), (10000, 28, 28, 1))"
            ]
          },
          "metadata": {
            "tags": []
          },
          "execution_count": 4
        }
      ]
    },
    {
      "cell_type": "code",
      "metadata": {
        "id": "KSeNTETwbEjI"
      },
      "source": [
        "# A function to create the model \n",
        "#### GRADED CELL ####\n",
        "\n",
        "# Complete the following function. \n",
        "# Make sure to not change the function name or arguments.\n",
        "\n",
        "def get_model(input_shape):\n",
        "    \"\"\"\n",
        "    This function should build a Sequential model according to the above specification. Ensure the \n",
        "    weights are initialised by providing the input_shape argument in the first layer, given by the\n",
        "    function argument.\n",
        "    Your function should return the model.\n",
        "    \"\"\"\n",
        "    model = tf.keras.Sequential([\n",
        "        Conv2D(64 , 3 , activation = 'relu' , input_shape = input_shape ,\n",
        "              padding = 'SAME') , \n",
        "        MaxPooling2D(2), \n",
        "        Flatten(), \n",
        "        Dense(64 , activation = 'relu') , \n",
        "        Dense(63 , activation = 'relu'), \n",
        "        Dense(10 , activation = 'softmax')\n",
        "    ])\n",
        "    \n",
        "    return model"
      ],
      "execution_count": 5,
      "outputs": []
    },
    {
      "cell_type": "code",
      "metadata": {
        "colab": {
          "base_uri": "https://localhost:8080/"
        },
        "id": "MXrj0_K1bKgJ",
        "outputId": "d4222f39-65a1-4ab6-eec6-a7e1ff20dd1d"
      },
      "source": [
        "# Using the function to our model \n",
        "\n",
        "model = get_model(scaled_train_images[0].shape)\n",
        "\n",
        "# Summary of the model \n",
        "model.summary()"
      ],
      "execution_count": 6,
      "outputs": [
        {
          "output_type": "stream",
          "text": [
            "Model: \"sequential\"\n",
            "_________________________________________________________________\n",
            "Layer (type)                 Output Shape              Param #   \n",
            "=================================================================\n",
            "conv2d (Conv2D)              (None, 28, 28, 64)        640       \n",
            "_________________________________________________________________\n",
            "max_pooling2d (MaxPooling2D) (None, 14, 14, 64)        0         \n",
            "_________________________________________________________________\n",
            "flatten (Flatten)            (None, 12544)             0         \n",
            "_________________________________________________________________\n",
            "dense (Dense)                (None, 64)                802880    \n",
            "_________________________________________________________________\n",
            "dense_1 (Dense)              (None, 63)                4095      \n",
            "_________________________________________________________________\n",
            "dense_2 (Dense)              (None, 10)                640       \n",
            "=================================================================\n",
            "Total params: 808,255\n",
            "Trainable params: 808,255\n",
            "Non-trainable params: 0\n",
            "_________________________________________________________________\n"
          ],
          "name": "stdout"
        }
      ]
    },
    {
      "cell_type": "code",
      "metadata": {
        "id": "dwZHwuoAbT7o"
      },
      "source": [
        "# Compiling our model \n",
        "\n",
        "def compile_model(model):\n",
        "  return model.compile(loss = tf.keras.losses.SparseCategoricalCrossentropy() , \n",
        "                       optimizer = tf.keras.optimizers.Adam() , \n",
        "                       metrics = ['accuracy'])"
      ],
      "execution_count": 12,
      "outputs": []
    },
    {
      "cell_type": "code",
      "metadata": {
        "id": "MdA3ZInObYJc"
      },
      "source": [
        "# Run the function to compile the model \n",
        "compile_model(model)"
      ],
      "execution_count": 13,
      "outputs": []
    },
    {
      "cell_type": "code",
      "metadata": {
        "colab": {
          "base_uri": "https://localhost:8080/"
        },
        "id": "IPe7HDs2bbkp",
        "outputId": "fd23887e-f035-470d-e567-bdd1187613c8"
      },
      "source": [
        "# Fit the model to the training data \n",
        "\n",
        "history = model.fit(scaled_train_images , train_labels , \n",
        "                    epochs = 5)"
      ],
      "execution_count": 14,
      "outputs": [
        {
          "output_type": "stream",
          "text": [
            "Epoch 1/5\n",
            "1875/1875 [==============================] - 49s 26ms/step - loss: 0.3382 - accuracy: 0.8989\n",
            "Epoch 2/5\n",
            "1875/1875 [==============================] - 48s 26ms/step - loss: 0.0557 - accuracy: 0.9832\n",
            "Epoch 3/5\n",
            "1875/1875 [==============================] - 47s 25ms/step - loss: 0.0335 - accuracy: 0.9897\n",
            "Epoch 4/5\n",
            "1875/1875 [==============================] - 47s 25ms/step - loss: 0.0225 - accuracy: 0.9924\n",
            "Epoch 5/5\n",
            "1875/1875 [==============================] - 47s 25ms/step - loss: 0.0163 - accuracy: 0.9943\n"
          ],
          "name": "stdout"
        }
      ]
    },
    {
      "cell_type": "markdown",
      "metadata": {
        "id": "RjdpHamxb7fp"
      },
      "source": [
        "Plotting the loss curves \n",
        "\n",
        "- Epoch vs Accuracy \n",
        "- Epoch vs Loss "
      ]
    },
    {
      "cell_type": "code",
      "metadata": {
        "id": "yH1BFbjQcHqa"
      },
      "source": [
        "# Creating a dataframe of our model's history \n",
        "frame = pd.DataFrame(history.history)"
      ],
      "execution_count": 15,
      "outputs": []
    },
    {
      "cell_type": "code",
      "metadata": {
        "colab": {
          "base_uri": "https://localhost:8080/",
          "height": 312
        },
        "id": "QahUcqtgcNGo",
        "outputId": "0956de3d-0da8-47f5-d84d-2888d4943222"
      },
      "source": [
        "# Plotting Accuracy Vs Epochs \n",
        "\n",
        "acc_plot = frame.plot(y='accuracy' , \n",
        "                      title = 'Accuracy Vs Epochs' , \n",
        "                      legend= False)\n",
        "acc_plot.set(xlabel = 'Epochs' , \n",
        "             ylabel = 'Accuracy')\n"
      ],
      "execution_count": 18,
      "outputs": [
        {
          "output_type": "execute_result",
          "data": {
            "text/plain": [
              "[Text(0, 0.5, 'Accuracy'), Text(0.5, 0, 'Epochs')]"
            ]
          },
          "metadata": {
            "tags": []
          },
          "execution_count": 18
        },
        {
          "output_type": "display_data",
          "data": {
            "image/png": "[encoded data removed]",
            "text/plain": [
              "<Figure size 432x288 with 1 Axes>"
            ]
          },
          "metadata": {
            "tags": [],
            "needs_background": "light"
          }
        }
      ]
    },
    {
      "cell_type": "code",
      "metadata": {
        "colab": {
          "base_uri": "https://localhost:8080/",
          "height": 312
        },
        "id": "JiWIEo2qcc_H",
        "outputId": "82e96e5f-8c69-4465-d09c-c07fb483717b"
      },
      "source": [
        "# Plotting Loss Vs Epochs plot \n",
        "loss_plot = frame.plot(y = 'loss' , title = 'Loss vs Epochs', \n",
        "                       legend = False)\n",
        "loss_plot.set(xlabel = 'Epochs' , ylabel = 'Loss')"
      ],
      "execution_count": 19,
      "outputs": [
        {
          "output_type": "execute_result",
          "data": {
            "text/plain": [
              "[Text(0, 0.5, 'Loss'), Text(0.5, 0, 'Epochs')]"
            ]
          },
          "metadata": {
            "tags": []
          },
          "execution_count": 19
        },
        {
          "output_type": "display_data",
          "data": {
            "image/png": "[encoded data removed]",
            "text/plain": [
              "<Figure size 432x288 with 1 Axes>"
            ]
          },
          "metadata": {
            "tags": [],
            "needs_background": "light"
          }
        }
      ]
    },
    {
      "cell_type": "code",
      "metadata": {
        "colab": {
          "base_uri": "https://localhost:8080/"
        },
        "id": "UZVNRpThcvEs",
        "outputId": "617c1dee-5042-4039-e2e0-ec05aef05dea"
      },
      "source": [
        "# Evaluating the model on test data \n",
        "\n",
        "test_loss , test_accuracy = model.evaluate(scaled_test_images , test_labels)\n"
      ],
      "execution_count": 20,
      "outputs": [
        {
          "output_type": "stream",
          "text": [
            "313/313 [==============================] - 3s 8ms/step - loss: 0.0456 - accuracy: 0.9870\n"
          ],
          "name": "stdout"
        }
      ]
    },
    {
      "cell_type": "code",
      "metadata": {
        "colab": {
          "base_uri": "https://localhost:8080/"
        },
        "id": "InjHEDrPdSIL",
        "outputId": "37da5f70-5fc3-48af-8f53-4c52edbdef47"
      },
      "source": [
        "# Printing the loss and accuracy on test data \n",
        "print(f'Test Loss: {test_loss}')\n",
        "print(f'Test Accuracy: {test_accuracy}')"
      ],
      "execution_count": 21,
      "outputs": [
        {
          "output_type": "stream",
          "text": [
            "Test Loss: 0.0455753430724144\n",
            "Test Accuracy: 0.9869999885559082\n"
          ],
          "name": "stdout"
        }
      ]
    },
    {
      "cell_type": "code",
      "metadata": {
        "colab": {
          "base_uri": "https://localhost:8080/",
          "height": 623
        },
        "id": "ngxLMof6eC7W",
        "outputId": "601344c9-e6da-4ea4-d68d-47e2e5120c44"
      },
      "source": [
        "# Run this cell to get model predictions on randomly selected test images\n",
        "\n",
        "num_test_images = scaled_test_images.shape[0]\n",
        "\n",
        "random_inx = np.random.choice(num_test_images, 4)\n",
        "random_test_images = scaled_test_images[random_inx, ...]\n",
        "random_test_labels = test_labels[random_inx, ...]\n",
        "\n",
        "predictions = model.predict(random_test_images)\n",
        "\n",
        "fig, axes = plt.subplots(4, 2, figsize=(16, 12))\n",
        "fig.subplots_adjust(hspace=0.4, wspace=-0.2)\n",
        "\n",
        "for i, (prediction, image, label) in enumerate(zip(predictions, random_test_images, random_test_labels)):\n",
        "    axes[i, 0].imshow(np.squeeze(image))\n",
        "    axes[i, 0].get_xaxis().set_visible(False)\n",
        "    axes[i, 0].get_yaxis().set_visible(False)\n",
        "    axes[i, 0].text(10., -1.5, f'Digit {label}')\n",
        "    axes[i, 1].bar(np.arange(len(prediction)), prediction)\n",
        "    axes[i, 1].set_xticks(np.arange(len(prediction)))\n",
        "    axes[i, 1].set_title(f\"Categorical distribution. Model prediction: {np.argmax(prediction)}\")\n",
        "    \n",
        "plt.show()"
      ],
      "execution_count": 30,
      "outputs": [
        {
          "output_type": "display_data",
          "data": {
            "image/png": "[encoded data removed]",
            "text/plain": [
              "<Figure size 1152x864 with 8 Axes>"
            ]
          },
          "metadata": {
            "tags": [],
            "needs_background": "light"
          }
        }
      ]
    },
    {
      "cell_type": "markdown",
      "metadata": {
        "id": "gTjG636JfygG"
      },
      "source": [
        ""
      ]
    },
    {
      "cell_type": "markdown",
      "metadata": {
        "id": "PYQTuoWl_Qvz"
      },
      "source": [
        "### Validation Sets\n",
        "Validation set is used to measure how well our models performing outside the training set."
      ]
    },
    {
      "cell_type": "code",
      "metadata": {
        "colab": {
          "base_uri": "https://localhost:8080/"
        },
        "id": "IRGh7WOP91Nk",
        "outputId": "bf41a1b5-6789-47a4-8ed0-9c4077956bcb"
      },
      "source": [
        "# Passing the validation split in model fit method \n",
        "\n",
        "history = model.fit(scaled_train_images , train_labels , validation_split= 0.2 , \n",
        "          epochs = 2)"
      ],
      "execution_count": 32,
      "outputs": [
        {
          "output_type": "stream",
          "text": [
            "Epoch 1/2\n",
            "1500/1500 [==============================] - 40s 27ms/step - loss: 0.0133 - accuracy: 0.9953 - val_loss: 0.0138 - val_accuracy: 0.9953\n",
            "Epoch 2/2\n",
            "1500/1500 [==============================] - 40s 27ms/step - loss: 0.0082 - accuracy: 0.9970 - val_loss: 0.0173 - val_accuracy: 0.9945\n"
          ],
          "name": "stdout"
        }
      ]
    },
    {
      "cell_type": "code",
      "metadata": {
        "colab": {
          "base_uri": "https://localhost:8080/"
        },
        "id": "jxHgM238-SLW",
        "outputId": "eeed6009-d2d1-4329-f52a-cbea75408411"
      },
      "source": [
        "# Checking whats in our history \n",
        "\n",
        "print(history.history.keys())"
      ],
      "execution_count": 34,
      "outputs": [
        {
          "output_type": "stream",
          "text": [
            "dict_keys(['loss', 'accuracy', 'val_loss', 'val_accuracy'])\n"
          ],
          "name": "stdout"
        }
      ]
    },
    {
      "cell_type": "markdown",
      "metadata": {
        "id": "C6kZKhj7-28R"
      },
      "source": [
        "Now we could see two added components `val_loss` and `val_accuracy` which was calculated on the validation split."
      ]
    },
    {
      "cell_type": "code",
      "metadata": {
        "id": "EKqlymnJ_A9u"
      },
      "source": [
        "# Let's load a data and work on "
      ],
      "execution_count": null,
      "outputs": []
    }
  ]
}
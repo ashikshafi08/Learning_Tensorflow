{
  "nbformat": 4,
  "nbformat_minor": 0,
  "metadata": {
    "colab": {
      "name": "TensorFlow_Basics_from_docs.ipynb",
      "provenance": [],
      "include_colab_link": true
    },
    "kernelspec": {
      "name": "python3",
      "display_name": "Python 3"
    },
    "language_info": {
      "name": "python"
    },
    "accelerator": "GPU"
  },
  "cells": [
    {
      "cell_type": "markdown",
      "metadata": {
        "id": "view-in-github",
        "colab_type": "text"
      },
      "source": [
        "<a href=\"https://colab.research.google.com/github/ashikshafi08/Learning_Tensorflow/blob/main/TensorFlow_Basics_from_docs.ipynb\" target=\"_parent\"><img src=\"https://colab.research.google.com/assets/colab-badge.svg\" alt=\"Open In Colab\"/></a>"
      ]
    },
    {
      "cell_type": "code",
      "metadata": {
        "id": "i_1v5NrpcGhF"
      },
      "source": [
        "import tensorflow as tf \n",
        "from tensorflow.keras import layers "
      ],
      "execution_count": 104,
      "outputs": []
    },
    {
      "cell_type": "markdown",
      "metadata": {
        "id": "393I2NpqcR06"
      },
      "source": [
        "Will be coding through every tutorials and gudies from the TensorFlow Documentation. The goal is to cement the basics for the upcoming developer exam and also knowing the basics very well might help in customizing tensorflow further. \n",
        "\n",
        "\n",
        "# TensorFlow Basics \n",
        "Things I will be going through: \n",
        "- Tensor \n",
        "- Variable \n",
        "- Automatic Differentiation \n",
        "- Intro to graphs and function\n",
        "- Intro to modules, layers and models \n",
        "- Training loop \n",
        "- Advanced auto diff\n",
        "- Ragged tensors \n",
        "- Sparse tensors \n",
        "- Numpy api \n",
        "- Tensor Slicing\n",
        "\n"
      ]
    },
    {
      "cell_type": "markdown",
      "metadata": {
        "id": "D8BbeTsudGRS"
      },
      "source": [
        "## Introduction to Tensors "
      ]
    },
    {
      "cell_type": "code",
      "metadata": {
        "colab": {
          "base_uri": "https://localhost:8080/"
        },
        "id": "K1eMnJh0dcBV",
        "outputId": "32d93951-fecf-4067-d915-96c1eff3dd9a"
      },
      "source": [
        "# Creating a scalr or called an rank-0 tensors \n",
        "rank_0_tensors = tf.constant(4)\n",
        "rank_0_tensors.ndim"
      ],
      "execution_count": 105,
      "outputs": [
        {
          "output_type": "execute_result",
          "data": {
            "text/plain": [
              "0"
            ]
          },
          "metadata": {},
          "execution_count": 105
        }
      ]
    },
    {
      "cell_type": "code",
      "metadata": {
        "colab": {
          "base_uri": "https://localhost:8080/"
        },
        "id": "sUjSmP6oeH_U",
        "outputId": "12e59303-8439-49be-8a0e-970c89ee912f"
      },
      "source": [
        "# Creating a rank-1 tensors or otherwise called an vector \n",
        "rank_1_tensor = tf.constant([1,2,3,4])\n",
        "rank_1_tensor.ndim , rank_1_tensor"
      ],
      "execution_count": 106,
      "outputs": [
        {
          "output_type": "execute_result",
          "data": {
            "text/plain": [
              "(1,\n",
              " <tf.Tensor: shape=(4,), dtype=int32, numpy=array([1, 2, 3, 4], dtype=int32)>)"
            ]
          },
          "metadata": {},
          "execution_count": 106
        }
      ]
    },
    {
      "cell_type": "code",
      "metadata": {
        "colab": {
          "base_uri": "https://localhost:8080/"
        },
        "id": "-pF7Cyu0eYff",
        "outputId": "cbc18e9d-e796-45a6-9086-555c60c8c311"
      },
      "source": [
        "# Lets create a matrrix otherwise called as a rank 2 tensor \n",
        "rank_2_tensor = tf.constant([[1,2,3] , \n",
        "                             [4,5,6]])\n",
        "\n",
        "rank_2_tensor.shape , rank_2_tensor.ndim"
      ],
      "execution_count": 107,
      "outputs": [
        {
          "output_type": "execute_result",
          "data": {
            "text/plain": [
              "(TensorShape([2, 3]), 2)"
            ]
          },
          "metadata": {},
          "execution_count": 107
        }
      ]
    },
    {
      "cell_type": "code",
      "metadata": {
        "colab": {
          "base_uri": "https://localhost:8080/"
        },
        "id": "30snmkp5e6N1",
        "outputId": "7fefacf5-7e48-4b31-e8fd-38c86916fb80"
      },
      "source": [
        "# Whats the default dtype of the tensors? \n",
        "rank_2_tensor.dtype , rank_2_tensor"
      ],
      "execution_count": 108,
      "outputs": [
        {
          "output_type": "execute_result",
          "data": {
            "text/plain": [
              "(tf.int32, <tf.Tensor: shape=(2, 3), dtype=int32, numpy=\n",
              " array([[1, 2, 3],\n",
              "        [4, 5, 6]], dtype=int32)>)"
            ]
          },
          "metadata": {},
          "execution_count": 108
        }
      ]
    },
    {
      "cell_type": "code",
      "metadata": {
        "colab": {
          "base_uri": "https://localhost:8080/"
        },
        "id": "zZ2nBm6jenBs",
        "outputId": "c0ee01d4-e855-4fff-b740-78fdb703e1b7"
      },
      "source": [
        "# Setting the dtype while creating the tensor at first place. \n",
        "dtype_tensor = tf.constant([[1 , 2 ,3], \n",
        "                            [4, 5, 6]] , dtype = tf.float32)\n",
        "\n",
        "dtype_tensor.dtype , dtype_tensor"
      ],
      "execution_count": 109,
      "outputs": [
        {
          "output_type": "execute_result",
          "data": {
            "text/plain": [
              "(tf.float32, <tf.Tensor: shape=(2, 3), dtype=float32, numpy=\n",
              " array([[1., 2., 3.],\n",
              "        [4., 5., 6.]], dtype=float32)>)"
            ]
          },
          "metadata": {},
          "execution_count": 109
        }
      ]
    },
    {
      "cell_type": "markdown",
      "metadata": {
        "id": "eK8RGkSvfBUu"
      },
      "source": [
        "Also tensors can be of more than 3 dimension, also dimensions or axes the same shit. "
      ]
    },
    {
      "cell_type": "code",
      "metadata": {
        "colab": {
          "base_uri": "https://localhost:8080/"
        },
        "id": "Dcjq4f-FfY9L",
        "outputId": "0226870a-d77d-470b-a013-651b57a58d8f"
      },
      "source": [
        "# Constructing a rank 3 tensor \n",
        "rank_3_tensor = tf.constant([\n",
        "      [[0 , 1, 2, 3, 4 ] , \n",
        "       [5, 6, 7, 8 , 9]] , \n",
        "\n",
        "       [[10 , 11, 12, 13, 14] , \n",
        "        [15, 16 , 17 , 18 , 19]], \n",
        "\n",
        "        [[20 , 21 ,22 ,23 ,24], \n",
        "         [25, 26 , 27 , 28 ,29]] ])\n",
        "\n",
        "print(rank_3_tensor) , rank_3_tensor.ndim \n"
      ],
      "execution_count": 110,
      "outputs": [
        {
          "output_type": "stream",
          "name": "stdout",
          "text": [
            "tf.Tensor(\n",
            "[[[ 0  1  2  3  4]\n",
            "  [ 5  6  7  8  9]]\n",
            "\n",
            " [[10 11 12 13 14]\n",
            "  [15 16 17 18 19]]\n",
            "\n",
            " [[20 21 22 23 24]\n",
            "  [25 26 27 28 29]]], shape=(3, 2, 5), dtype=int32)\n"
          ]
        },
        {
          "output_type": "execute_result",
          "data": {
            "text/plain": [
              "(None, 3)"
            ]
          },
          "metadata": {},
          "execution_count": 110
        }
      ]
    },
    {
      "cell_type": "code",
      "metadata": {
        "colab": {
          "base_uri": "https://localhost:8080/"
        },
        "id": "b-h_aZx5f8wi",
        "outputId": "89c418a7-2d5d-4e96-e895-85efad2727a8"
      },
      "source": [
        "# Getting the shape of above matrix \n",
        "rank_3_tensor.shape"
      ],
      "execution_count": 111,
      "outputs": [
        {
          "output_type": "execute_result",
          "data": {
            "text/plain": [
              "TensorShape([3, 2, 5])"
            ]
          },
          "metadata": {},
          "execution_count": 111
        }
      ]
    },
    {
      "cell_type": "markdown",
      "metadata": {
        "id": "8KihMNS4gEFu"
      },
      "source": [
        "`TensorShape([3, 2, 5])` it can be decoded into: \n",
        "- 3 set of rows \n",
        "- 2 rows in each (in one row) \n",
        "- 5 elements in each \n",
        "\n",
        "![3-axis_front.png](data:image/png;base64,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)"
      ]
    },
    {
      "cell_type": "code",
      "metadata": {
        "colab": {
          "base_uri": "https://localhost:8080/"
        },
        "id": "HA0250AJgaLN",
        "outputId": "0e7d94cc-8da9-452c-9afc-49fefce00bdb"
      },
      "source": [
        "# Converting the tensors inot numpy array \n",
        "import numpy as np \n",
        "\n",
        "# First way by wrapping in np.array()\n",
        "print(f'Using np.array method {np.array(rank_3_tensor)}\\n')\n",
        "\n",
        "\n",
        "# We can explicitly use tensor.numpy() to get the numpy version of it.\n",
        "print(f'Using .numpy method {rank_3_tensor.numpy()}')"
      ],
      "execution_count": 112,
      "outputs": [
        {
          "output_type": "stream",
          "name": "stdout",
          "text": [
            "Using np.array method [[[ 0  1  2  3  4]\n",
            "  [ 5  6  7  8  9]]\n",
            "\n",
            " [[10 11 12 13 14]\n",
            "  [15 16 17 18 19]]\n",
            "\n",
            " [[20 21 22 23 24]\n",
            "  [25 26 27 28 29]]]\n",
            "\n",
            "Using .numpy method [[[ 0  1  2  3  4]\n",
            "  [ 5  6  7  8  9]]\n",
            "\n",
            " [[10 11 12 13 14]\n",
            "  [15 16 17 18 19]]\n",
            "\n",
            " [[20 21 22 23 24]\n",
            "  [25 26 27 28 29]]]\n"
          ]
        }
      ]
    },
    {
      "cell_type": "markdown",
      "metadata": {
        "id": "vWFQflyzg3-e"
      },
      "source": [
        "Tensors not only comes with float, ints but also other types including: \n",
        "- complex numbers (i,j) \n",
        "- strings\n",
        "\n",
        "\n",
        "The base `tf.Tensor` class requirs the tensors to be 'rectangular' --> that is, along each axis, every elemnt is the same size. \n",
        "\n",
        "But with the below tensors class we can handle different shapes, \n",
        "- Ragged tensors \n",
        "- Sparse tensors \n",
        "\n",
        "\n",
        "We can't do operations across tensors with different shapes. \n",
        "\n"
      ]
    },
    {
      "cell_type": "code",
      "metadata": {
        "colab": {
          "base_uri": "https://localhost:8080/"
        },
        "id": "xReZt70vhUGR",
        "outputId": "7bd2a5fc-9902-4ba8-99d0-7d8c18639ff3"
      },
      "source": [
        "# Tensors in other kinds of operations than simple arithmetic \n",
        "\n",
        "c = tf.constant([\n",
        "  [4.0 ,5.0] , [10.0 , 1.0] ])\n",
        "\n",
        "\n",
        "# Find the largest value \n",
        "print(tf.reduce_max(c))\n",
        "\n",
        "# Find the index of the largest value \n",
        "print(tf.argmax(c))\n",
        "\n",
        "# Compute the softmax \n",
        "print(tf.nn.softmax(c))"
      ],
      "execution_count": 113,
      "outputs": [
        {
          "output_type": "stream",
          "name": "stdout",
          "text": [
            "tf.Tensor(10.0, shape=(), dtype=float32)\n",
            "tf.Tensor([1 0], shape=(2,), dtype=int64)\n",
            "tf.Tensor(\n",
            "[[2.6894143e-01 7.3105854e-01]\n",
            " [9.9987662e-01 1.2339458e-04]], shape=(2, 2), dtype=float32)\n"
          ]
        }
      ]
    },
    {
      "cell_type": "markdown",
      "metadata": {
        "id": "-u4-yEhQiV3R"
      },
      "source": [
        "### About shapes \n",
        "\n",
        "This is very crucial when we are dealing with tensors. In machine learning most of the error arises due to shape mismatch. Knowing your input and output shapes is vital. \n",
        "\n",
        "Lets look into some tensor vocabulary: \n",
        "\n",
        "- **Shape** --> The length (number of elemnts) of each of the axes of a tensor. \n",
        "- **Rank** --> Number of tensor axes. A scalar has a rank 0, a vector has rank 1 and matrix is rank 2. \n",
        "- **Axis** or **Dimensions**: A particular dimension of a tensor. \n",
        "- **Size** : The total number of items in the tensor, the product shape vector. \n",
        "\n",
        "\n",
        "Lets create a huge shaped tensor and access every parts of it. "
      ]
    },
    {
      "cell_type": "code",
      "metadata": {
        "colab": {
          "base_uri": "https://localhost:8080/"
        },
        "id": "zGa6UThOjozn",
        "outputId": "9cbc4d76-4848-41f6-fd75-8ecb4cef4f91"
      },
      "source": [
        "# Creating rank 4 tensor \n",
        "rank_4_tensor = tf.zeros(shape = [3,2,4,5])\n",
        "rank_4_tensor , rank_4_tensor.shape"
      ],
      "execution_count": 114,
      "outputs": [
        {
          "output_type": "execute_result",
          "data": {
            "text/plain": [
              "(<tf.Tensor: shape=(3, 2, 4, 5), dtype=float32, numpy=\n",
              " array([[[[0., 0., 0., 0., 0.],\n",
              "          [0., 0., 0., 0., 0.],\n",
              "          [0., 0., 0., 0., 0.],\n",
              "          [0., 0., 0., 0., 0.]],\n",
              " \n",
              "         [[0., 0., 0., 0., 0.],\n",
              "          [0., 0., 0., 0., 0.],\n",
              "          [0., 0., 0., 0., 0.],\n",
              "          [0., 0., 0., 0., 0.]]],\n",
              " \n",
              " \n",
              "        [[[0., 0., 0., 0., 0.],\n",
              "          [0., 0., 0., 0., 0.],\n",
              "          [0., 0., 0., 0., 0.],\n",
              "          [0., 0., 0., 0., 0.]],\n",
              " \n",
              "         [[0., 0., 0., 0., 0.],\n",
              "          [0., 0., 0., 0., 0.],\n",
              "          [0., 0., 0., 0., 0.],\n",
              "          [0., 0., 0., 0., 0.]]],\n",
              " \n",
              " \n",
              "        [[[0., 0., 0., 0., 0.],\n",
              "          [0., 0., 0., 0., 0.],\n",
              "          [0., 0., 0., 0., 0.],\n",
              "          [0., 0., 0., 0., 0.]],\n",
              " \n",
              "         [[0., 0., 0., 0., 0.],\n",
              "          [0., 0., 0., 0., 0.],\n",
              "          [0., 0., 0., 0., 0.],\n",
              "          [0., 0., 0., 0., 0.]]]], dtype=float32)>, TensorShape([3, 2, 4, 5]))"
            ]
          },
          "metadata": {},
          "execution_count": 114
        }
      ]
    },
    {
      "cell_type": "markdown",
      "metadata": {
        "id": "Dffh4RxClK0P"
      },
      "source": [
        "![shape.png](data:image/png;base64,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)"
      ]
    },
    {
      "cell_type": "code",
      "metadata": {
        "colab": {
          "base_uri": "https://localhost:8080/"
        },
        "id": "uJqpuDL_lX6m",
        "outputId": "31148730-0432-4ccc-c343-ca09c1f200b2"
      },
      "source": [
        "# Printing out the every details of our tensor \n",
        "\n",
        "print(f'Type of every element in the tensor: {rank_4_tensor.dtype}\\n')\n",
        "print(f'Number of axes: {rank_4_tensor.ndim}\\n')\n",
        "print(f'Shape of a tensor: {rank_4_tensor.shape}\\n')\n",
        "print(f'Element along axis 0 of a tensor: {rank_4_tensor.shape[0]}\\n')\n",
        "print(f'Element along the last axis of tensor: {rank_4_tensor.shape[-1]}\\n')\n",
        "print(f'Total number of elements (3*2*4*5): {tf.size(rank_4_tensor).numpy()}')"
      ],
      "execution_count": 115,
      "outputs": [
        {
          "output_type": "stream",
          "name": "stdout",
          "text": [
            "Type of every element in the tensor: <dtype: 'float32'>\n",
            "\n",
            "Number of axes: 4\n",
            "\n",
            "Shape of a tensor: (3, 2, 4, 5)\n",
            "\n",
            "Element along axis 0 of a tensor: 3\n",
            "\n",
            "Element along the last axis of tensor: 5\n",
            "\n",
            "Total number of elements (3*2*4*5): 120\n"
          ]
        }
      ]
    },
    {
      "cell_type": "markdown",
      "metadata": {
        "id": "n6qT5px_mLU9"
      },
      "source": [
        "Often the axes will be of following order from global to local: \n",
        "- Batch axis (None for the most of the time) \n",
        "- Spatial dimensions [height, width] for image (224 , 224). \n",
        "- Features, the number of outputs. "
      ]
    },
    {
      "cell_type": "markdown",
      "metadata": {
        "id": "BhktHEqopZ-7"
      },
      "source": [
        "### Indexing \n",
        "\n",
        "#### **Single-axis Indexing**\n",
        "TensorFlow follows the standard Python indexing rules, \n",
        "- Index starts at 0. \n",
        "- Negative indices count backwards from the end. \n",
        "- colons (:) are used for slices. `start:stop:step`"
      ]
    },
    {
      "cell_type": "code",
      "metadata": {
        "colab": {
          "base_uri": "https://localhost:8080/"
        },
        "id": "0ikcCPOtpwoX",
        "outputId": "f7b30c4c-3aba-4117-aa7b-bd581920090d"
      },
      "source": [
        "rank_1_tensor = tf.constant([0, 1, 1, 2, 3, 5, 8, 13, 21, 34])\n",
        "print(rank_1_tensor.numpy())"
      ],
      "execution_count": 116,
      "outputs": [
        {
          "output_type": "stream",
          "name": "stdout",
          "text": [
            "[ 0  1  1  2  3  5  8 13 21 34]\n"
          ]
        }
      ]
    },
    {
      "cell_type": "code",
      "metadata": {
        "colab": {
          "base_uri": "https://localhost:8080/"
        },
        "id": "xKER9msmpzcl",
        "outputId": "754ff77f-5916-471c-b02f-b29941429bb8"
      },
      "source": [
        "rank_1_tensor[0].numpy() , rank_1_tensor[-1].numpy() , rank_1_tensor[1].numpy()"
      ],
      "execution_count": 117,
      "outputs": [
        {
          "output_type": "execute_result",
          "data": {
            "text/plain": [
              "(0, 34, 1)"
            ]
          },
          "metadata": {},
          "execution_count": 117
        }
      ]
    },
    {
      "cell_type": "code",
      "metadata": {
        "colab": {
          "base_uri": "https://localhost:8080/"
        },
        "id": "7WiR2gOHqF0z",
        "outputId": "7c494934-04bc-4362-c371-74830f1fa7f9"
      },
      "source": [
        "# Indexing with a slice operator : \n",
        "\n",
        "print(f'Getting everything: {rank_1_tensor[:].numpy()}')\n",
        "print(f'Before 4th indices: {rank_1_tensor[:4].numpy()}')\n",
        "print(f'From 4 to the end: {rank_1_tensor[4:].numpy()}')\n",
        "print(f'From 2, before 7: {rank_1_tensor[2:7].numpy()}')\n",
        "print(f'Every other item: {rank_1_tensor[::2].numpy()}') # start stop step(2)\n",
        "print(f'Reversed tensor: {rank_1_tensor[::-1].numpy()}')"
      ],
      "execution_count": 118,
      "outputs": [
        {
          "output_type": "stream",
          "name": "stdout",
          "text": [
            "Getting everything: [ 0  1  1  2  3  5  8 13 21 34]\n",
            "Before 4th indices: [0 1 1 2]\n",
            "From 4 to the end: [ 3  5  8 13 21 34]\n",
            "From 2, before 7: [1 2 3 5 8]\n",
            "Every other item: [ 0  1  3  8 21]\n",
            "Reversed tensor: [34 21 13  8  5  3  2  1  1  0]\n"
          ]
        }
      ]
    },
    {
      "cell_type": "markdown",
      "metadata": {
        "id": "e3vv3q7arP3G"
      },
      "source": [
        "#### **Multi-axis indexing** \n",
        "\n",
        "High rank tensors (3+) are indexed by passing multiple indices. \n"
      ]
    },
    {
      "cell_type": "code",
      "metadata": {
        "colab": {
          "base_uri": "https://localhost:8080/"
        },
        "id": "PBOIekYCrlgV",
        "outputId": "43105481-c306-4018-9929-ef755f458ae8"
      },
      "source": [
        "print(rank_2_tensor.numpy())"
      ],
      "execution_count": 119,
      "outputs": [
        {
          "output_type": "stream",
          "name": "stdout",
          "text": [
            "[[1 2 3]\n",
            " [4 5 6]]\n"
          ]
        }
      ]
    },
    {
      "cell_type": "code",
      "metadata": {
        "colab": {
          "base_uri": "https://localhost:8080/"
        },
        "id": "5Kb5ha1frnnE",
        "outputId": "db4be6d0-6c6f-4037-bf6d-3986a701c771"
      },
      "source": [
        "# Passing an integer for each index, the result is a scalar (one value)\n",
        "\n",
        "rank_2_tensor[1 , 1].numpy()"
      ],
      "execution_count": 120,
      "outputs": [
        {
          "output_type": "execute_result",
          "data": {
            "text/plain": [
              "5"
            ]
          },
          "metadata": {},
          "execution_count": 120
        }
      ]
    },
    {
      "cell_type": "markdown",
      "metadata": {
        "id": "GXWiqFVTs7md"
      },
      "source": [
        "Indexing using many combinations of integers and slices.."
      ]
    },
    {
      "cell_type": "code",
      "metadata": {
        "colab": {
          "base_uri": "https://localhost:8080/"
        },
        "id": "ySb7SHc0s90E",
        "outputId": "109b44b0-41e1-49fe-8bbe-7fa9bc82af99"
      },
      "source": [
        "# Get row and column of tensors \n",
        "\n",
        "print(f'Second row: {rank_2_tensor[1 , :].numpy()}')\n",
        "print(f'Second column: {rank_2_tensor[: , 1].numpy()}')\n",
        "print(f'Last row : {rank_2_tensor[-1 , :].numpy()}')\n",
        "print(f'First item in last column: {rank_2_tensor[0 , -1].numpy()}\\n')\n",
        "print(f'Skip the first row: {rank_2_tensor[1: , :].numpy()}')"
      ],
      "execution_count": 121,
      "outputs": [
        {
          "output_type": "stream",
          "name": "stdout",
          "text": [
            "Second row: [4 5 6]\n",
            "Second column: [2 5]\n",
            "Last row : [4 5 6]\n",
            "First item in last column: 3\n",
            "\n",
            "Skip the first row: [[4 5 6]]\n"
          ]
        }
      ]
    },
    {
      "cell_type": "code",
      "metadata": {
        "colab": {
          "base_uri": "https://localhost:8080/"
        },
        "id": "dQvwRZH7ug9C",
        "outputId": "c3329e9a-ca52-432b-bb7b-dd8a55325414"
      },
      "source": [
        "rank_3_tensor , rank_3_tensor.shape"
      ],
      "execution_count": 122,
      "outputs": [
        {
          "output_type": "execute_result",
          "data": {
            "text/plain": [
              "(<tf.Tensor: shape=(3, 2, 5), dtype=int32, numpy=\n",
              " array([[[ 0,  1,  2,  3,  4],\n",
              "         [ 5,  6,  7,  8,  9]],\n",
              " \n",
              "        [[10, 11, 12, 13, 14],\n",
              "         [15, 16, 17, 18, 19]],\n",
              " \n",
              "        [[20, 21, 22, 23, 24],\n",
              "         [25, 26, 27, 28, 29]]], dtype=int32)>, TensorShape([3, 2, 5]))"
            ]
          },
          "metadata": {},
          "execution_count": 122
        }
      ]
    },
    {
      "cell_type": "markdown",
      "metadata": {
        "id": "W_QpXCouupHp"
      },
      "source": [
        "Selecting the last feature across all locations in example in the batch. \n",
        "\n",
        "https://tensorflow.org/guide/tensor_slicing"
      ]
    },
    {
      "cell_type": "code",
      "metadata": {
        "colab": {
          "base_uri": "https://localhost:8080/"
        },
        "id": "Gcp71CXfuR3Y",
        "outputId": "37f5937c-bfa0-44e8-9b81-e52d1b55f6a4"
      },
      "source": [
        "# For the 3 axis tensor \n",
        "rank_3_tensor[: , : , -1] # here we get both the rows and cols, at the end indexing into the 4th index"
      ],
      "execution_count": 123,
      "outputs": [
        {
          "output_type": "execute_result",
          "data": {
            "text/plain": [
              "<tf.Tensor: shape=(3, 2), dtype=int32, numpy=\n",
              "array([[ 4,  9],\n",
              "       [14, 19],\n",
              "       [24, 29]], dtype=int32)>"
            ]
          },
          "metadata": {},
          "execution_count": 123
        }
      ]
    },
    {
      "cell_type": "markdown",
      "metadata": {
        "id": "gWQWj7tjujZB"
      },
      "source": [
        "### Manipulating Shapes \n",
        "\n",
        "When we call shape, it returns a `TensorShape` object that shows the size along each axis. "
      ]
    },
    {
      "cell_type": "code",
      "metadata": {
        "colab": {
          "base_uri": "https://localhost:8080/"
        },
        "id": "XFrro8uavysK",
        "outputId": "58f90566-a4dc-4a84-f889-ded99c9097a4"
      },
      "source": [
        "rank_2_tensor.shape"
      ],
      "execution_count": 124,
      "outputs": [
        {
          "output_type": "execute_result",
          "data": {
            "text/plain": [
              "TensorShape([2, 3])"
            ]
          },
          "metadata": {},
          "execution_count": 124
        }
      ]
    },
    {
      "cell_type": "code",
      "metadata": {
        "colab": {
          "base_uri": "https://localhost:8080/"
        },
        "id": "UoEDium6v9CQ",
        "outputId": "0325da45-5fe8-4abf-d3d4-813039c5cded"
      },
      "source": [
        "# Getting the Tensorshape as a python list \n",
        "rank_3_tensor.shape.as_list()"
      ],
      "execution_count": 125,
      "outputs": [
        {
          "output_type": "execute_result",
          "data": {
            "text/plain": [
              "[3, 2, 5]"
            ]
          },
          "metadata": {},
          "execution_count": 125
        }
      ]
    },
    {
      "cell_type": "markdown",
      "metadata": {
        "id": "nXFZjPn5wEPa"
      },
      "source": [
        "Like wise we can reshape a tensor into a new shape, by calling `tf.reshape` where the underlying data wont be duplicated. "
      ]
    },
    {
      "cell_type": "code",
      "metadata": {
        "colab": {
          "base_uri": "https://localhost:8080/"
        },
        "id": "MmxRUhC1wTLJ",
        "outputId": "c76cfd89-1f29-4577-f215-5c4ad5f381ef"
      },
      "source": [
        "# Shape takes a list as an argument \n",
        "print(f'Actual shape: {rank_1_tensor.shape}')\n",
        "reshaped_tensor = tf.reshape(rank_1_tensor , shape = [1, 10] ) # adding an extra dim\n",
        "print(f'\\nAfter reshaping: {reshaped_tensor}')"
      ],
      "execution_count": 126,
      "outputs": [
        {
          "output_type": "stream",
          "name": "stdout",
          "text": [
            "Actual shape: (10,)\n",
            "\n",
            "After reshaping: [[ 0  1  1  2  3  5  8 13 21 34]]\n"
          ]
        }
      ]
    },
    {
      "cell_type": "code",
      "metadata": {
        "colab": {
          "base_uri": "https://localhost:8080/"
        },
        "id": "QIIk56Fewnv5",
        "outputId": "12fe16e0-2465-449c-e806-e2bdbe9eb38c"
      },
      "source": [
        "rank_2_tensor.shape"
      ],
      "execution_count": 127,
      "outputs": [
        {
          "output_type": "execute_result",
          "data": {
            "text/plain": [
              "TensorShape([2, 3])"
            ]
          },
          "metadata": {},
          "execution_count": 127
        }
      ]
    },
    {
      "cell_type": "code",
      "metadata": {
        "colab": {
          "base_uri": "https://localhost:8080/"
        },
        "id": "kapIXNvnwzka",
        "outputId": "e1fc72e2-14a4-4a82-cd2a-3a73740587fa"
      },
      "source": [
        "tf.reshape(rank_2_tensor , shape = [1, 3, 2]) # possibilities are [2,3,1] , [1 ,2 ,3] "
      ],
      "execution_count": 128,
      "outputs": [
        {
          "output_type": "execute_result",
          "data": {
            "text/plain": [
              "<tf.Tensor: shape=(1, 3, 2), dtype=int32, numpy=\n",
              "array([[[1, 2],\n",
              "        [3, 4],\n",
              "        [5, 6]]], dtype=int32)>"
            ]
          },
          "metadata": {},
          "execution_count": 128
        }
      ]
    },
    {
      "cell_type": "code",
      "metadata": {
        "colab": {
          "base_uri": "https://localhost:8080/"
        },
        "id": "6w92q8tDyEbs",
        "outputId": "6dacc542-8d30-4a26-f480-15931f68e80e"
      },
      "source": [
        "tf.size(rank_2_tensor).numpy()"
      ],
      "execution_count": 129,
      "outputs": [
        {
          "output_type": "execute_result",
          "data": {
            "text/plain": [
              "6"
            ]
          },
          "metadata": {},
          "execution_count": 129
        }
      ]
    },
    {
      "cell_type": "markdown",
      "metadata": {
        "id": "4bp9-MsOxSd8"
      },
      "source": [
        "The important to remember is we can play with shapes till it is inbound to the actual values, in our case it is `6`. \n",
        "\n",
        "And if we try to exceed the size for instance adding an extra dim that will collapse the entire actual tensor. As long it is equal to 30, things will be fine. "
      ]
    },
    {
      "cell_type": "code",
      "metadata": {
        "id": "-ax3ZJP6xpQy"
      },
      "source": [
        "# Tryna exceed the size 6 \n",
        "# tf.reshape(rank_2_tensor , shape = [2 , 2 , 2])\n",
        "\n",
        "\n",
        "# Uncomment to re-produce the error "
      ],
      "execution_count": 130,
      "outputs": []
    },
    {
      "cell_type": "markdown",
      "metadata": {
        "id": "1tKFB6Vpxt5V"
      },
      "source": [
        "Perfect! Like I said before, the tensor values exceeded above 6 and we got the error. \n",
        "\n",
        "```\n",
        "InvalidArgumentError: Input to reshape is a tensor with 6 values, but the requested shape has 8 [Op:Reshape]\n",
        "```\n",
        "\n",
        "The data maintains its layout in memory and a new tensor is created, with the requested shape, pointing to the same data. TensorFlow uses C-style \"row-major\" memory ordering, where incrementing the rightmost index corresponds to a single step in memory.\n",
        "\n",
        "\n",
        "Also if we are not sure about the reshaping size, then we can use the [-1] which will reshape the actual tensor to whatever it fits. \n",
        "\n",
        "Basically it will flatten out the tensor"
      ]
    },
    {
      "cell_type": "code",
      "metadata": {
        "colab": {
          "base_uri": "https://localhost:8080/"
        },
        "id": "ZRx-QZn1ywvI",
        "outputId": "2aed06f0-f865-4b9b-8b43-6da93afbdf5a"
      },
      "source": [
        "# Using -1 (Basically it will flatten out the tensor)\n",
        "tf.reshape(rank_3_tensor , shape = [-1])"
      ],
      "execution_count": 131,
      "outputs": [
        {
          "output_type": "execute_result",
          "data": {
            "text/plain": [
              "<tf.Tensor: shape=(30,), dtype=int32, numpy=\n",
              "array([ 0,  1,  2,  3,  4,  5,  6,  7,  8,  9, 10, 11, 12, 13, 14, 15, 16,\n",
              "       17, 18, 19, 20, 21, 22, 23, 24, 25, 26, 27, 28, 29], dtype=int32)>"
            ]
          },
          "metadata": {},
          "execution_count": 131
        }
      ]
    },
    {
      "cell_type": "code",
      "metadata": {
        "colab": {
          "base_uri": "https://localhost:8080/"
        },
        "id": "jRypGGcfzdm0",
        "outputId": "423812fc-cf75-4d61-df92-5c74721ff28f"
      },
      "source": [
        "# Mixing the inner shapes to reproduce a new one \n",
        "print(tf.reshape(rank_3_tensor , [3*2 , 5]))"
      ],
      "execution_count": 132,
      "outputs": [
        {
          "output_type": "stream",
          "name": "stdout",
          "text": [
            "tf.Tensor(\n",
            "[[ 0  1  2  3  4]\n",
            " [ 5  6  7  8  9]\n",
            " [10 11 12 13 14]\n",
            " [15 16 17 18 19]\n",
            " [20 21 22 23 24]\n",
            " [25 26 27 28 29]], shape=(6, 5), dtype=int32)\n"
          ]
        }
      ]
    },
    {
      "cell_type": "markdown",
      "metadata": {
        "id": "3sqQ_Ept03JY"
      },
      "source": [
        "Reshaping will work for any new shape with the same total number of elements, but it will not do anything useful if you dont respect the order of the axes. "
      ]
    },
    {
      "cell_type": "code",
      "metadata": {
        "colab": {
          "base_uri": "https://localhost:8080/"
        },
        "id": "xbp0T6FT9wEo",
        "outputId": "472ccf7e-3032-43cf-b98e-511956d5507c"
      },
      "source": [
        "# Below are the bad examples \n",
        "\n",
        "# Can't reorder axes with reshape \n",
        "print(tf.reshape(rank_3_tensor , shape = [2 , 3 ,5])) # Not a good practice \n",
        "\n",
        "# This is a mess lol \n",
        "print(tf.reshape(rank_3_tensor , shape = [5, 6]))\n",
        "\n",
        "\n",
        "# This doesnt work as we exceeded the amount of values in a tensor \n",
        "try: \n",
        "  tf.reshape(rank_3_tensor , shape = [7 , -1])\n",
        "except Exception as e:\n",
        "  print(f'{type(e).__name__}: {e}')"
      ],
      "execution_count": 133,
      "outputs": [
        {
          "output_type": "stream",
          "name": "stdout",
          "text": [
            "tf.Tensor(\n",
            "[[[ 0  1  2  3  4]\n",
            "  [ 5  6  7  8  9]\n",
            "  [10 11 12 13 14]]\n",
            "\n",
            " [[15 16 17 18 19]\n",
            "  [20 21 22 23 24]\n",
            "  [25 26 27 28 29]]], shape=(2, 3, 5), dtype=int32)\n",
            "tf.Tensor(\n",
            "[[ 0  1  2  3  4  5]\n",
            " [ 6  7  8  9 10 11]\n",
            " [12 13 14 15 16 17]\n",
            " [18 19 20 21 22 23]\n",
            " [24 25 26 27 28 29]], shape=(5, 6), dtype=int32)\n",
            "InvalidArgumentError: Input to reshape is a tensor with 30 values, but the requested shape requires a multiple of 7 [Op:Reshape]\n"
          ]
        }
      ]
    },
    {
      "cell_type": "markdown",
      "metadata": {
        "id": "V7OkyhYW-ai2"
      },
      "source": [
        "### Broadcasting \n",
        "\n",
        "Under certain conditions, smaller tensors are stretched automatically to fit larger tensors when running combined operations on them. \n",
        "\n",
        "This will come in handy when **we attempt to multiply or add a tensor to a scalar**. \n",
        "\n",
        "In that case, the scalar is broadcast to be the same shape as the other argument. "
      ]
    },
    {
      "cell_type": "code",
      "metadata": {
        "colab": {
          "base_uri": "https://localhost:8080/"
        },
        "id": "jqgCVxtt_00l",
        "outputId": "a4ab257e-b802-4382-f4e6-343e3f1eca67"
      },
      "source": [
        "x = tf.constant([[ 1, 2, 3]])\n",
        "y = tf.constant(2)\n",
        "z = tf.constant([2,2,2])\n",
        "\n",
        "# Broadcasting on the fly \n",
        "print(tf.multiply(x ,2))\n",
        "print(x * y)"
      ],
      "execution_count": 134,
      "outputs": [
        {
          "output_type": "stream",
          "name": "stdout",
          "text": [
            "tf.Tensor([[2 4 6]], shape=(1, 3), dtype=int32)\n",
            "tf.Tensor([[2 4 6]], shape=(1, 3), dtype=int32)\n"
          ]
        }
      ]
    },
    {
      "cell_type": "markdown",
      "metadata": {
        "id": "Tl5TRbplBB0f"
      },
      "source": [
        "Likewise, axes with the length 1 (ndim) can be stretched out to match the other arguments. Both arguments can be stretched into the same computation. \n",
        "\n",
        "In that case a 3x1 matrix is element-wise multiplied by a **1x4 matrix to produce a 3x4 matrix**. \n",
        "\n",
        "`3x1 | 1x4` we get 3x4"
      ]
    },
    {
      "cell_type": "code",
      "metadata": {
        "colab": {
          "base_uri": "https://localhost:8080/"
        },
        "id": "7qLqicjEB6n0",
        "outputId": "9b385366-f4e6-4b82-b697-bd4bc754c418"
      },
      "source": [
        "x = tf.reshape(x , [3,1]) \n",
        "print(x.shape)\n",
        "y = tf.range(1,5)\n",
        "\n",
        "print(tf.multiply(x , y))"
      ],
      "execution_count": 135,
      "outputs": [
        {
          "output_type": "stream",
          "name": "stdout",
          "text": [
            "(3, 1)\n",
            "tf.Tensor(\n",
            "[[ 1  2  3  4]\n",
            " [ 2  4  6  8]\n",
            " [ 3  6  9 12]], shape=(3, 4), dtype=int32)\n"
          ]
        }
      ]
    },
    {
      "cell_type": "code",
      "metadata": {
        "colab": {
          "base_uri": "https://localhost:8080/"
        },
        "id": "b6vhf5bIC_yy",
        "outputId": "f89abf2f-5f27-4da8-fc78-9bae08599589"
      },
      "source": [
        "# Doing the same operation without broadcasting \n",
        "x_stretch = tf.constant([[1, 1, 1, 1],\n",
        "                         [2, 2, 2, 2],\n",
        "                         [3, 3, 3, 3]])\n",
        "\n",
        "y_stretch = tf.constant([[1, 2, 3, 4],\n",
        "                         [1, 2, 3, 4],\n",
        "                         [1, 2, 3, 4]])\n",
        "\n",
        "print(x_stretch * y_stretch)  # Again, operator overloading"
      ],
      "execution_count": 136,
      "outputs": [
        {
          "output_type": "stream",
          "name": "stdout",
          "text": [
            "tf.Tensor(\n",
            "[[ 1  2  3  4]\n",
            " [ 2  4  6  8]\n",
            " [ 3  6  9 12]], shape=(3, 4), dtype=int32)\n"
          ]
        }
      ]
    },
    {
      "cell_type": "code",
      "metadata": {
        "colab": {
          "base_uri": "https://localhost:8080/"
        },
        "id": "oPgprN3bDtbd",
        "outputId": "e8d06182-c3ee-4a23-9979-54b186460caf"
      },
      "source": [
        "print(tf.broadcast_to(x , y))"
      ],
      "execution_count": 137,
      "outputs": [
        {
          "output_type": "stream",
          "name": "stdout",
          "text": [
            "tf.Tensor(\n",
            "[[[[1 1 1 1]\n",
            "   [2 2 2 2]\n",
            "   [3 3 3 3]]\n",
            "\n",
            "  [[1 1 1 1]\n",
            "   [2 2 2 2]\n",
            "   [3 3 3 3]]]], shape=(1, 2, 3, 4), dtype=int32)\n"
          ]
        }
      ]
    },
    {
      "cell_type": "markdown",
      "metadata": {
        "id": "P-Cx9keKEcSj"
      },
      "source": [
        "[To know more about broadcasting](https://jakevdp.github.io/PythonDataScienceHandbook/02.05-computation-on-arrays-broadcasting.html)"
      ]
    },
    {
      "cell_type": "markdown",
      "metadata": {
        "id": "pkXXYeG6Etv9"
      },
      "source": [
        "### `tf.convert_to_tensor()`\n",
        "\n",
        "We use the `convert_to_tensor` on non-tensor arguments. There is registery of conversions, and most object classes like Numpys `ndarray`, `TensorShape`, Python lists and `tf.Variable` will all convert automatically. \n",
        "\n",
        "Also we can use `tf.register_tensor_conversion_function` if we have our own type of dtype to convert into a tensor. "
      ]
    },
    {
      "cell_type": "markdown",
      "metadata": {
        "id": "Qo-L--YPE-aS"
      },
      "source": [
        "### Ragged Tensors \n",
        "\n",
        "A tensor with variable numbers of elements along some axis is called **ragged**. In that case `tf.ragged.RaggedTensor` for ragged data. \n",
        "\n",
        "\n",
        "Below isnt a ragged tensor, \n",
        "`[4 , None]`"
      ]
    },
    {
      "cell_type": "code",
      "metadata": {
        "id": "MFZ-6WspHF2m"
      },
      "source": [
        "ragged_list = [\n",
        "  [0 ,1 , 2 ,3], \n",
        "  [4,5] ,\n",
        "  [6,7,8], \n",
        "  [9]\n",
        "]"
      ],
      "execution_count": 138,
      "outputs": []
    },
    {
      "cell_type": "code",
      "metadata": {
        "colab": {
          "base_uri": "https://localhost:8080/"
        },
        "id": "kFeoaBT-IGoe",
        "outputId": "297a7d8c-ff83-48a9-d323-d2013b194408"
      },
      "source": [
        "try:\n",
        "  tensor = tf.constant(ragged_list)\n",
        "except Exception as e:\n",
        "  print(f'{type(e).__name__}: {e}')"
      ],
      "execution_count": 139,
      "outputs": [
        {
          "output_type": "stream",
          "name": "stdout",
          "text": [
            "ValueError: Can't convert non-rectangular Python sequence to Tensor.\n"
          ]
        }
      ]
    },
    {
      "cell_type": "code",
      "metadata": {
        "id": "e5yNg9L2IVxG",
        "colab": {
          "base_uri": "https://localhost:8080/"
        },
        "outputId": "f981920f-22e1-411d-bd78-a6cbf3636304"
      },
      "source": [
        "# Creating a ragged tensor using the tf.ragged \n",
        "\n",
        "ragged_tensor = tf.ragged.constant(ragged_list)\n",
        "ragged_tensor.shape , ragged_tensor"
      ],
      "execution_count": 140,
      "outputs": [
        {
          "output_type": "execute_result",
          "data": {
            "text/plain": [
              "(TensorShape([4, None]),\n",
              " <tf.RaggedTensor [[0, 1, 2, 3], [4, 5], [6, 7, 8], [9]]>)"
            ]
          },
          "metadata": {},
          "execution_count": 140
        }
      ]
    },
    {
      "cell_type": "markdown",
      "metadata": {
        "id": "UZYjHjympj_s"
      },
      "source": [
        "Also we can see after finding the first element shape, the rest seems like None. Well this is because, these are the axes with unknown lengths. "
      ]
    },
    {
      "cell_type": "markdown",
      "metadata": {
        "id": "DRkrmpNZp0bu"
      },
      "source": [
        "### String Tensors  \n",
        "\n",
        "\n",
        "`tf.string` is a dtype, which is to say we can represent data as strings in tensors. \n",
        "\n",
        "The strings are atomic and cant be indexed the way Python strings are. But by using `tf.string` we can manipulate them. "
      ]
    },
    {
      "cell_type": "code",
      "metadata": {
        "colab": {
          "base_uri": "https://localhost:8080/"
        },
        "id": "9MlRjGVprmLR",
        "outputId": "a06d396f-a082-4c76-b8bc-e6422da21fe6"
      },
      "source": [
        "# Tensor string \n",
        "scalar_string_tensor = tf.constant('Gray wolf')\n",
        "print(scalar_string_tensor)"
      ],
      "execution_count": 141,
      "outputs": [
        {
          "output_type": "stream",
          "name": "stdout",
          "text": [
            "tf.Tensor(b'Gray wolf', shape=(), dtype=string)\n"
          ]
        }
      ]
    },
    {
      "cell_type": "code",
      "metadata": {
        "colab": {
          "base_uri": "https://localhost:8080/"
        },
        "id": "AsVBtypxrt8C",
        "outputId": "3ba373b5-393e-408d-f5e9-d5d82c8aedc1"
      },
      "source": [
        "# Creating a vector of strings \n",
        "tensor_of_strings = tf.constant([\n",
        "            'Gray wolf', \n",
        "            'Lazy dogg', \n",
        "            'Dumb cats' ])\n",
        "\n",
        "tensor_of_strings"
      ],
      "execution_count": 142,
      "outputs": [
        {
          "output_type": "execute_result",
          "data": {
            "text/plain": [
              "<tf.Tensor: shape=(3,), dtype=string, numpy=array([b'Gray wolf', b'Lazy dogg', b'Dumb cats'], dtype=object)>"
            ]
          },
          "metadata": {},
          "execution_count": 142
        }
      ]
    },
    {
      "cell_type": "markdown",
      "metadata": {
        "id": "c5GcSjHpr-fq"
      },
      "source": [
        "The **b** prefix indicates that `tf.string` dtype is not a unicode string, but a byte-string.\n",
        "\n",
        "To know more about Unicode text https://www.tensorflow.org/tutorials/load_data/unicode"
      ]
    },
    {
      "cell_type": "code",
      "metadata": {
        "colab": {
          "base_uri": "https://localhost:8080/"
        },
        "id": "yE8o5OoMsT5t",
        "outputId": "618cf631-9444-4061-90b7-df1822faabe7"
      },
      "source": [
        "# Basic function : Split \n",
        "tf.strings.split(scalar_string_tensor , sep= ' ')"
      ],
      "execution_count": 143,
      "outputs": [
        {
          "output_type": "execute_result",
          "data": {
            "text/plain": [
              "<tf.Tensor: shape=(2,), dtype=string, numpy=array([b'Gray', b'wolf'], dtype=object)>"
            ]
          },
          "metadata": {},
          "execution_count": 143
        }
      ]
    },
    {
      "cell_type": "code",
      "metadata": {
        "colab": {
          "base_uri": "https://localhost:8080/"
        },
        "id": "CDFMq6EFsfot",
        "outputId": "ac0b3eac-3eb0-4376-d733-293bce2ab488"
      },
      "source": [
        "# Splitting a ununiform strings, then they will turn into a RaggedTensor \n",
        "\n",
        "tf.strings.split(tensor_of_strings)"
      ],
      "execution_count": 144,
      "outputs": [
        {
          "output_type": "execute_result",
          "data": {
            "text/plain": [
              "<tf.RaggedTensor [[b'Gray', b'wolf'], [b'Lazy', b'dogg'], [b'Dumb', b'cats']]>"
            ]
          },
          "metadata": {},
          "execution_count": 144
        }
      ]
    },
    {
      "cell_type": "code",
      "metadata": {
        "colab": {
          "base_uri": "https://localhost:8080/"
        },
        "id": "8dNjHVujszzL",
        "outputId": "ace7bb8c-c6df-48f1-b026-7beb6f927653"
      },
      "source": [
        "# We can also convert \"strings of number\" into number \n",
        "text = tf.constant('1 10 100')\n",
        "tf.strings.to_number(tf.strings.split(text , ' '))\n"
      ],
      "execution_count": 145,
      "outputs": [
        {
          "output_type": "execute_result",
          "data": {
            "text/plain": [
              "<tf.Tensor: shape=(3,), dtype=float32, numpy=array([  1.,  10., 100.], dtype=float32)>"
            ]
          },
          "metadata": {},
          "execution_count": 145
        }
      ]
    },
    {
      "cell_type": "code",
      "metadata": {
        "colab": {
          "base_uri": "https://localhost:8080/"
        },
        "id": "xsBBaq5zul1z",
        "outputId": "b0bb6676-5d94-4ff8-effe-ebcd0b72297c"
      },
      "source": [
        "# Or we can split it up as unicode and then decode it \n",
        "unicode_bytes = tf.constant('アヒル 🦆')\n",
        "\n",
        "# Splitting into chars \n",
        "unicode_char_bytes = tf.strings.unicode_split(unicode_bytes , 'UTF-8')\n",
        "\n",
        "# Decoding the unicode chars \n",
        "unicode_values = tf.strings.unicode_decode(unicode_bytes , 'UTF-8')\n",
        "\n",
        "print(unicode_char_bytes)\n",
        "print(unicode_values)"
      ],
      "execution_count": 146,
      "outputs": [
        {
          "output_type": "stream",
          "name": "stdout",
          "text": [
            "tf.Tensor([b'\\xe3\\x82\\xa2' b'\\xe3\\x83\\x92' b'\\xe3\\x83\\xab' b' ' b'\\xf0\\x9f\\xa6\\x86'], shape=(5,), dtype=string)\n",
            "tf.Tensor([ 12450  12498  12523     32 129414], shape=(5,), dtype=int32)\n"
          ]
        }
      ]
    },
    {
      "cell_type": "markdown",
      "metadata": {
        "id": "SR_fjIlcvFkw"
      },
      "source": [
        "### Sparse Tensors \n",
        "\n",
        "\n",
        "Sometimes our data is sparse, like a very wide embedding space. TensorFlow supports sparse tensor `tf.sparse.SparseTensor`. \n",
        "\n",
        "Sparse tensor store values by index in a memory-efficient manner. "
      ]
    },
    {
      "cell_type": "code",
      "metadata": {
        "colab": {
          "base_uri": "https://localhost:8080/"
        },
        "id": "4IL_HppGwfYJ",
        "outputId": "5b7a0ec9-9d9c-4410-f609-9d536d8b284e"
      },
      "source": [
        "sparse_tensor = tf.sparse.SparseTensor(indices=[[0,0] , [1,2]] , \n",
        "                                       values = [1 ,2], dense_shape = [3,4])\n",
        "print(sparse_tensor)"
      ],
      "execution_count": 147,
      "outputs": [
        {
          "output_type": "stream",
          "name": "stdout",
          "text": [
            "SparseTensor(indices=tf.Tensor(\n",
            "[[0 0]\n",
            " [1 2]], shape=(2, 2), dtype=int64), values=tf.Tensor([1 2], shape=(2,), dtype=int32), dense_shape=tf.Tensor([3 4], shape=(2,), dtype=int64))\n"
          ]
        }
      ]
    },
    {
      "cell_type": "markdown",
      "metadata": {
        "id": "r93vPHiMxxvd"
      },
      "source": [
        "## Introduction to Variables \n",
        "\n",
        "TensorFlow variable is the recommended way to represent shared, persistent state of our program manipulates. \n",
        "\n",
        "The variables created are tracled via the `tf.Variable` class. A `tf.Variable` represents a tensor whose values can be changed by running operations on it. \n",
        "\n",
        "High level libraries like `tf.keras` use `tf.Variable` to store model parameters. "
      ]
    },
    {
      "cell_type": "markdown",
      "metadata": {
        "id": "-IScz5ZAypv9"
      },
      "source": [
        "### Create a variable\n",
        "\n",
        "The `tf.Variable` will have the same dtype as the initialization value. "
      ]
    },
    {
      "cell_type": "code",
      "metadata": {
        "colab": {
          "base_uri": "https://localhost:8080/"
        },
        "id": "gzUNH4UXzXTO",
        "outputId": "84a2e09b-3e6a-4072-aefe-b15663384e31"
      },
      "source": [
        "# Converting a constant tensor into a variable \n",
        "my_tensor = tf.constant([[1.0 , 2.0] , [3.0 , 4.0]])\n",
        "my_variable = tf.Variable(my_tensor)\n",
        "\n",
        "# Variables can be all kinds of types, just like tensors \n",
        "bool_variable = tf.Variable([False , False,  False , True])\n",
        "complex_variable = tf.Variable([5+4] , 6 + 1j)\n",
        "\n",
        "complex_variable"
      ],
      "execution_count": 148,
      "outputs": [
        {
          "output_type": "execute_result",
          "data": {
            "text/plain": [
              "<tf.Variable 'Variable:0' shape=(1,) dtype=int32, numpy=array([9], dtype=int32)>"
            ]
          },
          "metadata": {},
          "execution_count": 148
        }
      ]
    },
    {
      "cell_type": "code",
      "metadata": {
        "colab": {
          "base_uri": "https://localhost:8080/"
        },
        "id": "a4TcaAi90Jft",
        "outputId": "fb34b00a-b2b2-417e-d7a5-b4e7cb084e8d"
      },
      "source": [
        "# We can also access the dtype \n",
        "my_variable.dtype"
      ],
      "execution_count": 149,
      "outputs": [
        {
          "output_type": "execute_result",
          "data": {
            "text/plain": [
              "tf.float32"
            ]
          },
          "metadata": {},
          "execution_count": 149
        }
      ]
    },
    {
      "cell_type": "code",
      "metadata": {
        "colab": {
          "base_uri": "https://localhost:8080/"
        },
        "id": "-iEMrmM_0TOK",
        "outputId": "1e33c5b1-45aa-45a6-bef2-f08e905b432b"
      },
      "source": [
        "# Also using some useful operations \n",
        "print(tf.convert_to_tensor(my_variable))\n",
        "print(tf.argmax(my_variable))"
      ],
      "execution_count": 150,
      "outputs": [
        {
          "output_type": "stream",
          "name": "stdout",
          "text": [
            "tf.Tensor(\n",
            "[[1. 2.]\n",
            " [3. 4.]], shape=(2, 2), dtype=float32)\n",
            "tf.Tensor([1 1], shape=(2,), dtype=int64)\n"
          ]
        }
      ]
    },
    {
      "cell_type": "markdown",
      "metadata": {
        "id": "coRrZA730zkC"
      },
      "source": [
        "Since the variable is backed by the tensor class, by using the `tf.Variable.assign` doesn't usually allocate a tensor, instead the existing tensors memory is re-used. \n"
      ]
    },
    {
      "cell_type": "code",
      "metadata": {
        "colab": {
          "base_uri": "https://localhost:8080/"
        },
        "id": "XcrtqEm-1Kvm",
        "outputId": "02a98cbd-8646-4197-98c1-3a274c32ac72"
      },
      "source": [
        "a = tf.Variable([2.0 , 4.0]) # dtyype of float \n",
        "print(f'Before the assign method: {a.dtype}\\n')\n",
        "print(f'We can use assign for the same allocated memory tensor: {a.assign([1,2])}\\n\\n')\n",
        "\n",
        "# What if we try to exceed the existing variable size/memory? \n",
        "try:\n",
        "  a.assign([1.0 , 2.0 ,3.0])\n",
        "except Exception as e:\n",
        "  print(f'{type(e).__name__}: {e}')"
      ],
      "execution_count": 151,
      "outputs": [
        {
          "output_type": "stream",
          "name": "stdout",
          "text": [
            "Before the assign method: <dtype: 'float32'>\n",
            "\n",
            "We can use assign for the same allocated memory tensor: <tf.Variable 'UnreadVariable' shape=(2,) dtype=float32, numpy=array([1., 2.], dtype=float32)>\n",
            "\n",
            "\n",
            "ValueError: Cannot assign to variable Variable:0 due to variable shape (2,) and value shape (3,) are incompatible\n"
          ]
        }
      ]
    },
    {
      "cell_type": "markdown",
      "metadata": {
        "id": "3rZBqYCR1aRw"
      },
      "source": [
        "If we use a variable like a tensor in operations, we will usually operate on the backing tensor. \n",
        "\n",
        "Creating new variables from existing variables duplicated the backing tensors. \n",
        "\n",
        "**Two variables will not share the same memory**"
      ]
    },
    {
      "cell_type": "code",
      "metadata": {
        "colab": {
          "base_uri": "https://localhost:8080/"
        },
        "id": "pmCPUcFaCCc-",
        "outputId": "bd932c6b-5104-4510-9269-f5adfe67e954"
      },
      "source": [
        "# Creating a new variable from the existing tensor\n",
        "\n",
        "a = tf.Variable([2.0 , 3.0])\n",
        "\n",
        "# Create b based on the value of a \n",
        "b = tf.Variable(a)\n",
        "\n",
        "# Assign changes the values\n",
        "print(a.assign([5, 6]))"
      ],
      "execution_count": 152,
      "outputs": [
        {
          "output_type": "stream",
          "name": "stdout",
          "text": [
            "<tf.Variable 'UnreadVariable' shape=(2,) dtype=float32, numpy=array([5., 6.], dtype=float32)>\n"
          ]
        }
      ]
    },
    {
      "cell_type": "code",
      "metadata": {
        "colab": {
          "base_uri": "https://localhost:8080/"
        },
        "id": "mRuADk6BCWss",
        "outputId": "dcc9e32f-5f36-45a4-b8dc-20fda064a851"
      },
      "source": [
        "# We can see that a and b are different\n",
        "print(a.numpy())\n",
        "print(b.numpy())"
      ],
      "execution_count": 153,
      "outputs": [
        {
          "output_type": "stream",
          "name": "stdout",
          "text": [
            "[5. 6.]\n",
            "[2. 3.]\n"
          ]
        }
      ]
    },
    {
      "cell_type": "code",
      "metadata": {
        "colab": {
          "base_uri": "https://localhost:8080/"
        },
        "id": "jiVnauJUCzrM",
        "outputId": "503a8b0f-04e1-4082-84ae-60c7ff097677"
      },
      "source": [
        "# Other versions of assign \n",
        "print(a.assign_add([2,3]).numpy()) # Adds up the existing value [5 ,6] + [2,3]"
      ],
      "execution_count": 154,
      "outputs": [
        {
          "output_type": "stream",
          "name": "stdout",
          "text": [
            "[7. 9.]\n"
          ]
        }
      ]
    },
    {
      "cell_type": "markdown",
      "metadata": {
        "id": "5Y9BZaWCDHuX"
      },
      "source": [
        "### Lifecycles, naming and watching \n",
        "\n",
        "Lifecycle methods associated with an object allow you to control what happens when an object is created or destroyed. \n",
        "\n",
        "Variables can also be named which can help us to track and debug them. Also we can give two variables the same nane. "
      ]
    },
    {
      "cell_type": "code",
      "metadata": {
        "colab": {
          "base_uri": "https://localhost:8080/"
        },
        "id": "pOTsMtvSD1v5",
        "outputId": "d2870886-ee77-497a-98a0-9174e6dcf54c"
      },
      "source": [
        "# Create a and b (they will have the same name)\n",
        "# But different tensors \n",
        "\n",
        "a = tf.Variable(my_tensor , name = 'Yoooo!')\n",
        "b = tf.Variable(my_tensor + 8 , name = 'Yoooo!')\n",
        "\n",
        "# These are un-equal element wise, despite having the same name \n",
        "print(a == b)"
      ],
      "execution_count": 155,
      "outputs": [
        {
          "output_type": "stream",
          "name": "stdout",
          "text": [
            "tf.Tensor(\n",
            "[[False False]\n",
            " [False False]], shape=(2, 2), dtype=bool)\n"
          ]
        }
      ]
    },
    {
      "cell_type": "markdown",
      "metadata": {
        "id": "hmchSUvoEJIk"
      },
      "source": [
        "**Things to know:**\n",
        "- Variable names are perserved when saving and loading the models. \n",
        "- By default, models will accquire **unique variable names automatically**. \n",
        "- Variables comes in handy at times when we are doing differentiation, some variables need not to be differentiated. \n",
        "- We can **turn off the gradients for a variable by setting `trainable = False` at creatoon**\n",
        "- A variable wouldnt need gradient during the training step counter. \n",
        "\n"
      ]
    },
    {
      "cell_type": "code",
      "metadata": {
        "colab": {
          "base_uri": "https://localhost:8080/"
        },
        "id": "W_XSoXIqFACC",
        "outputId": "0c5b7553-ca50-4a8c-e1c9-34186e8b164a"
      },
      "source": [
        "# No grads! \n",
        "step_counter = tf.Variable(1 , trainable = False)\n",
        "step_counter"
      ],
      "execution_count": 156,
      "outputs": [
        {
          "output_type": "execute_result",
          "data": {
            "text/plain": [
              "<tf.Variable 'Variable:0' shape=() dtype=int32, numpy=1>"
            ]
          },
          "metadata": {},
          "execution_count": 156
        }
      ]
    },
    {
      "cell_type": "markdown",
      "metadata": {
        "id": "yaBuBY0NFFqE"
      },
      "source": [
        "### Placing variables and tensors \n",
        "\n",
        "In short, most of the variables will run on GPU instance. \n",
        "\n",
        "Also we can explicitly run a variable on the CPU, even if there is GPU availale. "
      ]
    },
    {
      "cell_type": "code",
      "metadata": {
        "colab": {
          "base_uri": "https://localhost:8080/"
        },
        "id": "QA8ZJWe5JSSe",
        "outputId": "d1ceb42f-4e62-4955-945b-1c15200955ae"
      },
      "source": [
        "# Placing the tensors on different instances \n",
        "print(tf.config.list_physical_devices()) # we are running on CPU \n",
        "\n",
        "with tf.device('CPU:0'):\n",
        "\n",
        "  # Create some tensors on the placement instanc \n",
        "  a = tf.Variable([[1.0 , 2.0 ,3.0] , \n",
        "                   [4.0 ,5.0 ,6.0]])\n",
        "  \n",
        "  b = tf.Variable([[1.0 ,2.0] , \n",
        "                   [9.0 ,8.1 ], \n",
        "                   [5.0 ,6.0]])\n",
        "\n",
        "  # Matrix multi! \n",
        "  c = tf.matmul(a ,b)\n",
        "\n",
        "# This got calculated on the cpu instance\n",
        "print(c)"
      ],
      "execution_count": 157,
      "outputs": [
        {
          "output_type": "stream",
          "name": "stdout",
          "text": [
            "[PhysicalDevice(name='/physical_device:CPU:0', device_type='CPU'), PhysicalDevice(name='/physical_device:GPU:0', device_type='GPU')]\n",
            "tf.Tensor(\n",
            "[[34.  36.2]\n",
            " [79.  84.5]], shape=(2, 2), dtype=float32)\n"
          ]
        }
      ]
    },
    {
      "cell_type": "markdown",
      "metadata": {
        "id": "DwXSN5sPJbgN"
      },
      "source": [
        "Also its possible to run the operations on different instances, both the GPU and CPU. \n",
        "\n",
        "But this will introduce delay, as data needs to be copied between the devices. "
      ]
    },
    {
      "cell_type": "code",
      "metadata": {
        "colab": {
          "base_uri": "https://localhost:8080/"
        },
        "id": "4w5QGii7JiBH",
        "outputId": "75d8da4f-8b38-45a9-88ed-c3b3d4f58599"
      },
      "source": [
        "%%time\n",
        "# Running the operations on different instance. \n",
        "\n",
        "# First creating the tensors on CPU \n",
        "with tf.device('CPU:0'):\n",
        "\n",
        "  a = tf.Variable([[1.0 , 2.0 ,3.0] , \n",
        "                   [4.0 ,5.0 ,6.0]])\n",
        "  \n",
        "  b = tf.Variable([[1.0 ,2.0] , \n",
        "                   [9.0 ,8.1 ], \n",
        "                   [5.0 ,6.0]])\n",
        "  \n",
        "# Making the matrxi multi on GPU \n",
        "with tf.device('GPU:0'):\n",
        "  k = tf.matmul(a , b)\n",
        "\n",
        "print(k)"
      ],
      "execution_count": 158,
      "outputs": [
        {
          "output_type": "stream",
          "name": "stdout",
          "text": [
            "tf.Tensor(\n",
            "[[34.  36.2]\n",
            " [79.  84.5]], shape=(2, 2), dtype=float32)\n",
            "CPU times: user 2.31 ms, sys: 2.03 ms, total: 4.34 ms\n",
            "Wall time: 4.63 ms\n"
          ]
        }
      ]
    },
    {
      "cell_type": "code",
      "metadata": {
        "colab": {
          "base_uri": "https://localhost:8080/"
        },
        "id": "21kzh42HLm5m",
        "outputId": "ef5c71ce-f8f4-4608-b58b-8b2edff6c21e"
      },
      "source": [
        "%%time\n",
        "# Running on the default instance\n",
        "a = tf.Variable([[1.0 , 2.0 ,3.0] , \n",
        "                   [4.0 ,5.0 ,6.0]])\n",
        "  \n",
        "b = tf.Variable([[1.0 ,2.0] , \n",
        "                   [9.0 ,8.1 ], \n",
        "                   [5.0 ,6.0]])\n",
        "\n",
        "k = tf.matmul(a ,b)\n",
        "print(k)"
      ],
      "execution_count": 159,
      "outputs": [
        {
          "output_type": "stream",
          "name": "stdout",
          "text": [
            "tf.Tensor(\n",
            "[[34.  36.2]\n",
            " [79.  84.5]], shape=(2, 2), dtype=float32)\n",
            "CPU times: user 4.44 ms, sys: 0 ns, total: 4.44 ms\n",
            "Wall time: 4.87 ms\n"
          ]
        }
      ]
    },
    {
      "cell_type": "markdown",
      "metadata": {
        "id": "x9kkjZopL-8R"
      },
      "source": [
        "## Introductions to gradients and automatic differentiation (my fav part) \n",
        "\n",
        "Calculus with tensorflow!! \n",
        "\n",
        "\n",
        "Well in short, we need calculus to train our model weights and biases. But how? \n",
        "\n",
        "Our goal is to get the loss function low as possible and in order to do that we need to find the gradients (tweak values) that will help us to find the right numbers for the weights and biases which will decrease the loss function. \n",
        "\n",
        "Computing gradients on the eager execution, not the graph! \n",
        "\n",
        "\n",
        "[Great resource on eager execution](https://stackoverflow.com/questions/53953099/what-is-the-purpose-of-the-tensorflow-gradient-tape)"
      ]
    },
    {
      "cell_type": "markdown",
      "metadata": {
        "id": "ZRTd1YB3M1SO"
      },
      "source": [
        "### Computing gradients \n",
        "\n",
        "To differentiate automatically, TensorFlow needs to remember what **operations happen in what order during the forward pass**.\n",
        "\n",
        "Then in the backward pass, TensorFlow traverses this list of operations in reverse order to compute gradients. \n",
        "\n",
        "```\n",
        "differentiation on a equation  (forward pass) --> calling backward pass on that equation --> gets all the gradients tracked.\n",
        "```"
      ]
    },
    {
      "cell_type": "markdown",
      "metadata": {
        "id": "YA5YbVVzOLQk"
      },
      "source": [
        "### Gradient tapes \n",
        "\n",
        "We can use the `tf.GradientTape` for automatic differentiation, that is, computing the gradient of a computation (loss function) with respect to some inputs, usually it will be of `tf.Variable` dtype. \n",
        "\n",
        "```\n",
        "loss function (with weights and biases) ---> automatic differentiation ---> back propagation ---> get the gradients\n",
        "```\n",
        "\n",
        "Relevant operations executed inside the `tf.GradientTape` records onto a **tape**. \n",
        "\n",
        "Then TensorFlow uses that recorded tape with operations in it to compute the gradients using the reverse mode differentiation."
      ]
    },
    {
      "cell_type": "code",
      "metadata": {
        "colab": {
          "base_uri": "https://localhost:8080/"
        },
        "id": "M8gK6W9tUcpU",
        "outputId": "0a0bc417-2cfe-4f47-cdbe-3f3027e0a7cc"
      },
      "source": [
        "x = tf.Variable(3.0)\n",
        "\n",
        "with tf.GradientTape() as tape: # operations get stored in tape\n",
        "  y = x ** 2 \n",
        "\n",
        "print(y)"
      ],
      "execution_count": 160,
      "outputs": [
        {
          "output_type": "stream",
          "name": "stdout",
          "text": [
            "tf.Tensor(9.0, shape=(), dtype=float32)\n"
          ]
        }
      ]
    },
    {
      "cell_type": "markdown",
      "metadata": {
        "id": "Gc-nFMyMVG_G"
      },
      "source": [
        "Awesome we have recorded some operations with our friend `tape`, now we can use the `GradientTape.gradient(target, sources)` to calculate the gradient of some taget (loss function here) relative to some source (models inputs). "
      ]
    },
    {
      "cell_type": "code",
      "metadata": {
        "colab": {
          "base_uri": "https://localhost:8080/"
        },
        "id": "Qwr1YKF2Vkft",
        "outputId": "7cdb05da-9028-43b8-b0c9-93e44c3193b9"
      },
      "source": [
        "# Applying the diff for y will give us dy = 2x * dx \n",
        "\n",
        "# Calculating the above (dy wrt to dx)\n",
        "dy_dx = tape.gradient(y , x) # calculating the gradients for the loss eq for our given values\n",
        "dy_dx.numpy()"
      ],
      "execution_count": 161,
      "outputs": [
        {
          "output_type": "execute_result",
          "data": {
            "text/plain": [
              "6.0"
            ]
          },
          "metadata": {},
          "execution_count": 161
        }
      ]
    },
    {
      "cell_type": "markdown",
      "metadata": {
        "id": "4WHFMDTUWAtY"
      },
      "source": [
        "We can change the values of x, so the diff also changes. But we have to set the tape `persistent = True ` so it will perform del tape after every execution. \n",
        "\n",
        "> A persistent gradient can be created with with tf.GradientTape(persistent=True) as tape and can/should be manually deleted with del tape (credits for this @zwep, @Crispy13)\n",
        "\n",
        "\n",
        "https://stackoverflow.com/questions/56072634/tf-2-0-runtimeerror-gradienttape-gradient-can-only-be-called-once-on-non-pers"
      ]
    },
    {
      "cell_type": "code",
      "metadata": {
        "colab": {
          "base_uri": "https://localhost:8080/"
        },
        "id": "5YBqFZnfWJyK",
        "outputId": "024df883-2da1-40fb-eda3-26b0372f4438"
      },
      "source": [
        "# Setting persistent to True (so we can use this again and again without any BS errors) \n",
        "x = tf.Variable(4.58855)\n",
        "\n",
        "with tf.GradientTape(persistent= True) as tape: # operations get stored in tape\n",
        "  y = x ** 2 \n",
        "\n",
        "# Calculating the grad \n",
        "dy_dx_1 = tape.gradient(y , x)\n",
        "print(dy_dx_1) \n",
        "\n",
        "# Now with the same eq but different value \n",
        "x = tf.Variable(5.00)\n",
        "with tf.GradientTape() as tape: \n",
        "  y = x ** 4\n",
        "\n",
        "dy_dx_2 = tape.gradient(y , x)\n",
        "print(dy_dx_2)"
      ],
      "execution_count": 162,
      "outputs": [
        {
          "output_type": "stream",
          "name": "stdout",
          "text": [
            "tf.Tensor(9.1771, shape=(), dtype=float32)\n",
            "tf.Tensor(500.0, shape=(), dtype=float32)\n"
          ]
        }
      ]
    },
    {
      "cell_type": "markdown",
      "metadata": {
        "id": "5Xxh6Q81WOmk"
      },
      "source": [
        "Automatic differenitation oon vectors, except scalars now. \n"
      ]
    },
    {
      "cell_type": "code",
      "metadata": {
        "colab": {
          "base_uri": "https://localhost:8080/"
        },
        "id": "CJVFMcKnahQ9",
        "outputId": "c81218d8-0d44-4be7-b30e-c43fee7125bc"
      },
      "source": [
        "# Lets create dummy weights and biases + inputs \n",
        "w = tf.Variable(tf.random.normal((3 ,2)) , name ='weights' )\n",
        "b = tf.Variable(tf.zeros(2 , dtype= tf.float32) , name ='biases' )\n",
        "x = [[1. , 2. ,3.]]\n",
        "\n",
        "print(w.numpy())\n",
        "print(f'\\n{b.numpy()}\\n')\n",
        "print(x)\n"
      ],
      "execution_count": 163,
      "outputs": [
        {
          "output_type": "stream",
          "name": "stdout",
          "text": [
            "[[ 1.2574434  -0.8130482 ]\n",
            " [-2.213303    0.69302255]\n",
            " [-0.50702137  0.38311648]]\n",
            "\n",
            "[0. 0.]\n",
            "\n",
            "[[1.0, 2.0, 3.0]]\n"
          ]
        }
      ]
    },
    {
      "cell_type": "code",
      "metadata": {
        "colab": {
          "base_uri": "https://localhost:8080/"
        },
        "id": "P0aLy8OTbCJC",
        "outputId": "158f8e0a-901b-4443-8b14-1e1206889f6e"
      },
      "source": [
        "# Using tensors of diff shapes \n",
        "with tf.GradientTape(persistent = True) as tape:\n",
        "  y = x @ w+ b\n",
        "  loss = tf.reduce_mean(y**2)\n",
        "\n",
        "print(y)\n",
        "print(loss)"
      ],
      "execution_count": 164,
      "outputs": [
        {
          "output_type": "stream",
          "name": "stdout",
          "text": [
            "tf.Tensor([[-4.690227   1.7223463]], shape=(1, 2), dtype=float32)\n",
            "tf.Tensor(12.482353, shape=(), dtype=float32)\n"
          ]
        }
      ]
    },
    {
      "cell_type": "code",
      "metadata": {
        "colab": {
          "base_uri": "https://localhost:8080/"
        },
        "id": "sAifN9MDconT",
        "outputId": "def05cb5-bdc9-4e48-9637-0ae5b613fdbd"
      },
      "source": [
        "x @ w + b"
      ],
      "execution_count": 165,
      "outputs": [
        {
          "output_type": "execute_result",
          "data": {
            "text/plain": [
              "<tf.Tensor: shape=(1, 2), dtype=float32, numpy=array([[-4.690227 ,  1.7223463]], dtype=float32)>"
            ]
          },
          "metadata": {},
          "execution_count": 165
        }
      ]
    },
    {
      "cell_type": "markdown",
      "metadata": {
        "id": "-OwMQumfc_7y"
      },
      "source": [
        "Now to get the gradient `loss` w.r.t both the variables, we can pass both the weights and biases as sources to the gradient method. \n",
        "\n",
        "The `tape`  is flexible about how sources are passed and **will accept any nested combinations of lists or dictionaries and return the gradient structured the same way**."
      ]
    },
    {
      "cell_type": "code",
      "metadata": {
        "colab": {
          "base_uri": "https://localhost:8080/"
        },
        "id": "eIcK3v9Di55w",
        "outputId": "7ed7c244-d348-4455-ddc1-e4252871d238"
      },
      "source": [
        "# Getting thr gradients wrt to 2 variables \n",
        "[d1_dw , d1_db] = tape.gradient(loss , sources = [w ,b])\n",
        "print(d1_dw)\n",
        "print('\\n')\n",
        "print(d1_db)"
      ],
      "execution_count": 166,
      "outputs": [
        {
          "output_type": "stream",
          "name": "stdout",
          "text": [
            "tf.Tensor(\n",
            "[[ -4.6902266   1.7223464]\n",
            " [ -9.380453    3.4446929]\n",
            " [-14.07068     5.1670394]], shape=(3, 2), dtype=float32)\n",
            "\n",
            "\n",
            "tf.Tensor([-4.6902266  1.7223464], shape=(2,), dtype=float32)\n"
          ]
        }
      ]
    },
    {
      "cell_type": "markdown",
      "metadata": {
        "id": "thtfrTK9jTYX"
      },
      "source": [
        "The gradient w.r.t each source has the shape of the sources. That is the gradients will hae the same shape as the weight and biases it got computed. \n"
      ]
    },
    {
      "cell_type": "code",
      "metadata": {
        "colab": {
          "base_uri": "https://localhost:8080/"
        },
        "id": "XRvxHTo8kKVa",
        "outputId": "7391378f-cddc-4b4d-e8c1-77f545090e5e"
      },
      "source": [
        "print(f'Actual weight shape: {w.shape}\\n')\n",
        "print(f'Gradients shape computed on the weights: {d1_dw.shape}')"
      ],
      "execution_count": 167,
      "outputs": [
        {
          "output_type": "stream",
          "name": "stdout",
          "text": [
            "Actual weight shape: (3, 2)\n",
            "\n",
            "Gradients shape computed on the weights: (3, 2)\n"
          ]
        }
      ]
    },
    {
      "cell_type": "markdown",
      "metadata": {
        "id": "7Fc4xKD4kVnJ"
      },
      "source": [
        "Both the sources and the weights shapes will be of same shape. "
      ]
    },
    {
      "cell_type": "code",
      "metadata": {
        "colab": {
          "base_uri": "https://localhost:8080/"
        },
        "id": "Uaf33Ksw1TjP",
        "outputId": "d9a7e1f8-c4b1-4858-9667-6470ae0d02cc"
      },
      "source": [
        "# Passing a dictionary of variables in gradient calculation \n",
        "\n",
        "my_vars = {\n",
        "    'w': w , \n",
        "    'b' :b\n",
        "}\n",
        "\n",
        "my_vars"
      ],
      "execution_count": 168,
      "outputs": [
        {
          "output_type": "execute_result",
          "data": {
            "text/plain": [
              "{'b': <tf.Variable 'biases:0' shape=(2,) dtype=float32, numpy=array([0., 0.], dtype=float32)>,\n",
              " 'w': <tf.Variable 'weights:0' shape=(3, 2) dtype=float32, numpy=\n",
              " array([[ 1.2574434 , -0.8130482 ],\n",
              "        [-2.213303  ,  0.69302255],\n",
              "        [-0.50702137,  0.38311648]], dtype=float32)>}"
            ]
          },
          "metadata": {},
          "execution_count": 168
        }
      ]
    },
    {
      "cell_type": "code",
      "metadata": {
        "colab": {
          "base_uri": "https://localhost:8080/"
        },
        "id": "aMPP-91T1cla",
        "outputId": "5ccb9a26-efa8-4e8e-b404-4e673e022d76"
      },
      "source": [
        "# Getting gradients for this dictionary of variables \n",
        "grad = tape.gradient(loss , my_vars)\n",
        "grad"
      ],
      "execution_count": 169,
      "outputs": [
        {
          "output_type": "execute_result",
          "data": {
            "text/plain": [
              "{'b': <tf.Tensor: shape=(2,), dtype=float32, numpy=array([-4.6902266,  1.7223464], dtype=float32)>,\n",
              " 'w': <tf.Tensor: shape=(3, 2), dtype=float32, numpy=\n",
              " array([[ -4.6902266,   1.7223464],\n",
              "        [ -9.380453 ,   3.4446929],\n",
              "        [-14.07068  ,   5.1670394]], dtype=float32)>}"
            ]
          },
          "metadata": {},
          "execution_count": 169
        }
      ]
    },
    {
      "cell_type": "code",
      "metadata": {
        "colab": {
          "base_uri": "https://localhost:8080/"
        },
        "id": "xZknjrQ71pnU",
        "outputId": "b448ea38-96a0-41c6-d4df-c524fd2e967a"
      },
      "source": [
        "# We can access it! \n",
        "grad['b']"
      ],
      "execution_count": 170,
      "outputs": [
        {
          "output_type": "execute_result",
          "data": {
            "text/plain": [
              "<tf.Tensor: shape=(2,), dtype=float32, numpy=array([-4.6902266,  1.7223464], dtype=float32)>"
            ]
          },
          "metadata": {},
          "execution_count": 170
        }
      ]
    },
    {
      "cell_type": "markdown",
      "metadata": {
        "id": "t2dMIDCM1tJS"
      },
      "source": [
        "### Gradients with respect to a model \n",
        "\n",
        "Its common to collect `tf.Variables` into a `tf.Module` or one of its subclasses Layer , Model for checkpointing and exporting. \n",
        "\n",
        "- In most cases, we will want to calculate gradients w.r.t a model trainable variables (`self.w` and `self.b`). \n",
        "- Since all subclasses of `tf.Module` aggregate their variables in the `Module.trainable_variables` property, we can easily calculate gradients in a few lines of code. \n",
        "\n",
        "\n",
        "\n",
        "\n",
        "Tensorflow in default will track down all the variabbles passing into the `GradientTape()`, but we can't have a finer control on the tracking by passing `watch_accessed_variables + False` to the tape constructor. \n",
        "\n",
        "\n",
        "disable automatic tracking by passing watch_accessed_variables=False to the tape constructor"
      ]
    },
    {
      "cell_type": "code",
      "metadata": {
        "colab": {
          "base_uri": "https://localhost:8080/"
        },
        "id": "N26YVKwv2Ybr",
        "outputId": "f4510430-f15f-46cf-a3c3-fc56555ff805"
      },
      "source": [
        "layer = layers.Dense(2 , activation = 'relu')\n",
        "x = tf.constant([[1. , 2. ,3.]])\n",
        "layer(x)"
      ],
      "execution_count": 171,
      "outputs": [
        {
          "output_type": "execute_result",
          "data": {
            "text/plain": [
              "<tf.Tensor: shape=(1, 2), dtype=float32, numpy=array([[3.0660577, 0.       ]], dtype=float32)>"
            ]
          },
          "metadata": {},
          "execution_count": 171
        }
      ]
    },
    {
      "cell_type": "code",
      "metadata": {
        "id": "HvY5uLMI38It"
      },
      "source": [
        "with tf.GradientTape() as tape: \n",
        "  \n",
        "  # Calculating the forward pass \n",
        "  y = layer(x) # pred (passing to the layer)\n",
        "  loss = tf.reduce_mean(2-y**2)\n",
        "\n",
        "# Calculate gradients wrt to every trainable variable \n",
        "grad = tape.gradient(loss , layer.trainable_variables)"
      ],
      "execution_count": 172,
      "outputs": []
    },
    {
      "cell_type": "code",
      "metadata": {
        "colab": {
          "base_uri": "https://localhost:8080/"
        },
        "id": "pVtt_4TE4H8A",
        "outputId": "3f028e02-571e-4f0b-eb35-a98fd49abfbd"
      },
      "source": [
        "layer.trainable_variables"
      ],
      "execution_count": 173,
      "outputs": [
        {
          "output_type": "execute_result",
          "data": {
            "text/plain": [
              "[<tf.Variable 'dense_1/kernel:0' shape=(3, 2) dtype=float32, numpy=\n",
              " array([[-0.3077079 , -0.12854457],\n",
              "        [ 0.23151004,  0.31881964],\n",
              "        [ 0.97024846, -0.78620726]], dtype=float32)>,\n",
              " <tf.Variable 'dense_1/bias:0' shape=(2,) dtype=float32, numpy=array([0., 0.], dtype=float32)>]"
            ]
          },
          "metadata": {},
          "execution_count": 173
        }
      ]
    },
    {
      "cell_type": "code",
      "metadata": {
        "colab": {
          "base_uri": "https://localhost:8080/"
        },
        "id": "oNl_I-RP5li1",
        "outputId": "5c8a34b9-235e-4501-c965-d2719b8cb208"
      },
      "source": [
        "layer.trainable_weights"
      ],
      "execution_count": 174,
      "outputs": [
        {
          "output_type": "execute_result",
          "data": {
            "text/plain": [
              "[<tf.Variable 'dense_1/kernel:0' shape=(3, 2) dtype=float32, numpy=\n",
              " array([[-0.3077079 , -0.12854457],\n",
              "        [ 0.23151004,  0.31881964],\n",
              "        [ 0.97024846, -0.78620726]], dtype=float32)>,\n",
              " <tf.Variable 'dense_1/bias:0' shape=(2,) dtype=float32, numpy=array([0., 0.], dtype=float32)>]"
            ]
          },
          "metadata": {},
          "execution_count": 174
        }
      ]
    },
    {
      "cell_type": "code",
      "metadata": {
        "colab": {
          "base_uri": "https://localhost:8080/"
        },
        "id": "hqjjx1SL5sp5",
        "outputId": "cd926021-8b62-4dd5-f860-090b91a7505e"
      },
      "source": [
        "grad"
      ],
      "execution_count": 175,
      "outputs": [
        {
          "output_type": "execute_result",
          "data": {
            "text/plain": [
              "[<tf.Tensor: shape=(3, 2), dtype=float32, numpy=\n",
              " array([[-3.0660577,  0.       ],\n",
              "        [-6.1321154,  0.       ],\n",
              "        [-9.1981735,  0.       ]], dtype=float32)>,\n",
              " <tf.Tensor: shape=(2,), dtype=float32, numpy=array([-3.0660577,  0.       ], dtype=float32)>]"
            ]
          },
          "metadata": {},
          "execution_count": 175
        }
      ]
    },
    {
      "cell_type": "code",
      "metadata": {
        "colab": {
          "base_uri": "https://localhost:8080/"
        },
        "id": "Yf348Okc6mkb",
        "outputId": "cbd1ff2d-5d8c-47ae-f904-d2b91476bb9b"
      },
      "source": [
        "for var, g in zip(layer.trainable_variables, grad):\n",
        "  print(f'{var.name}, shape: {g.shape}')"
      ],
      "execution_count": 176,
      "outputs": [
        {
          "output_type": "stream",
          "name": "stdout",
          "text": [
            "dense_1/kernel:0, shape: (3, 2)\n",
            "dense_1/bias:0, shape: (2,)\n"
          ]
        }
      ]
    },
    {
      "cell_type": "markdown",
      "metadata": {
        "id": "JBY3RkVQ7Akf"
      },
      "source": [
        "### Controlling what the tape watches \n",
        "The default behavior is to record all operations after accessing a trainable `tf.Variable`, \n",
        "\n",
        "- The tape needs to know which operations to record in the forward pass to calculate the gradients in the backward pass. \n",
        "- The tape hold references to intermediate outputs, so we dont want to record unnecessary operations. \n",
        "- The **main use case of the of this differentiation involves calculating the gradient of a loss wrt to the models trainable variables.**\n"
      ]
    },
    {
      "cell_type": "code",
      "metadata": {
        "id": "YAlPgQs3WBuX"
      },
      "source": [
        "# Trainable variable \n",
        "x0 = tf.Variable(3.0 , name = 'x0')\n",
        "\n",
        "\n",
        "# Setting the traianble to False explicitly \n",
        "x1 = tf.Variable(3.0 , name = 'x1' , trainable = False)\n",
        "\n",
        "# Not a Variable : A Variable + tensor returns a tensor \n",
        "x2 = tf.Variable(2.0 , name = 'x2') + 1.0 \n",
        "\n",
        "# Not a variable (constants aren't variable)\n",
        "x3 = tf.constant(3.0 , name = 'x3')"
      ],
      "execution_count": 177,
      "outputs": []
    },
    {
      "cell_type": "code",
      "metadata": {
        "id": "ROCrbqr7Y2MR",
        "outputId": "22288edd-ffbb-43ee-e39e-904a775f3c3a",
        "colab": {
          "base_uri": "https://localhost:8080/"
        }
      },
      "source": [
        "x0 , x1 , x2 , x3"
      ],
      "execution_count": 178,
      "outputs": [
        {
          "output_type": "execute_result",
          "data": {
            "text/plain": [
              "(<tf.Variable 'x0:0' shape=() dtype=float32, numpy=3.0>,\n",
              " <tf.Variable 'x1:0' shape=() dtype=float32, numpy=3.0>,\n",
              " <tf.Tensor: shape=(), dtype=float32, numpy=3.0>,\n",
              " <tf.Tensor: shape=(), dtype=float32, numpy=3.0>)"
            ]
          },
          "metadata": {},
          "execution_count": 178
        }
      ]
    },
    {
      "cell_type": "code",
      "metadata": {
        "id": "bDoX1M3XY5gG",
        "outputId": "ccd70c8d-cb42-4c33-8fa1-4d80c8eeeed8",
        "colab": {
          "base_uri": "https://localhost:8080/"
        }
      },
      "source": [
        "# Forward pas sh ere\n",
        "with tf.GradientTape() as tape: \n",
        "  y = (x0**2) + (x1**2) + (x2**2) \n",
        "\n",
        "# Calculating the gradients \n",
        "grad = tape.gradient(y , [x0 , x1 , x2 , x3])\n",
        "\n",
        "for g in grad:\n",
        "  print(g)"
      ],
      "execution_count": 179,
      "outputs": [
        {
          "output_type": "stream",
          "name": "stdout",
          "text": [
            "tf.Tensor(6.0, shape=(), dtype=float32)\n",
            "None\n",
            "None\n",
            "None\n"
          ]
        }
      ]
    },
    {
      "cell_type": "markdown",
      "metadata": {
        "id": "-ko6f7fIbc9x"
      },
      "source": [
        "But what are those None? It should return the value after the c omputation isn't? \n",
        "\n",
        "Well this is because our `GradientTape()` is just watched the variable `x0` and we can access it by using the `tape.watched_variables()`\n",
        "\n",
        "The reason is only the `x0` is a trainable Variable and rest of them are non-trainable or of `tf.Tensor`. "
      ]
    },
    {
      "cell_type": "code",
      "metadata": {
        "id": "7vMNpH8cZsNM",
        "outputId": "6e7c8d8d-6a46-44ec-ded2-4e7dea16bb01",
        "colab": {
          "base_uri": "https://localhost:8080/"
        }
      },
      "source": [
        "# Listing the variables being watched by the tape using \n",
        "[var.name for var in tape.watched_variables()]"
      ],
      "execution_count": 180,
      "outputs": [
        {
          "output_type": "execute_result",
          "data": {
            "text/plain": [
              "['x0:0']"
            ]
          },
          "metadata": {},
          "execution_count": 180
        }
      ]
    },
    {
      "cell_type": "markdown",
      "metadata": {
        "id": "QY986ceub5le"
      },
      "source": [
        "`tf.GradientTape` provides hooks that give the user control over what is or not watched. \n",
        "\n",
        "But to record gradients wrt to `tf.Tensor`, we need to call `GradientTape.watch(x)`. "
      ]
    },
    {
      "cell_type": "code",
      "metadata": {
        "id": "_n-3qdXXcosf",
        "outputId": "331a252e-5e1f-4549-ef06-9f184438a3d8",
        "colab": {
          "base_uri": "https://localhost:8080/"
        }
      },
      "source": [
        "# A tensor with tf constant \n",
        "x= tf.constant(3.0)\n",
        "with tf.GradientTape() as tape: \n",
        "  tape.watch(x)\n",
        "  y = x**2 \n",
        "\n",
        "\n",
        "# Now calculating the gradients \n",
        "dy_dx = tape.gradient(y , x)\n",
        "print(dy_dx.numpy())"
      ],
      "execution_count": 181,
      "outputs": [
        {
          "output_type": "stream",
          "name": "stdout",
          "text": [
            "6.0\n"
          ]
        }
      ]
    },
    {
      "cell_type": "markdown",
      "metadata": {
        "id": "2pM5rqWDdAgy"
      },
      "source": [
        "Alright but its annoying that at times when our `GradientTape()` tracks the behavior of only the `tf.Variables` and now the `tf.Tensor` and non-trainable params. \n",
        "\n",
        "We can disale it by calling `watch_accessed_variables = False` when creeating the gradient tape. \n",
        "\n",
        "This calculation uses two variables, by only connects the gradient for one of the variables. "
      ]
    },
    {
      "cell_type": "code",
      "metadata": {
        "id": "2d2uaUDqdLAH"
      },
      "source": [
        "x0 = tf.Variable(0.0)\n",
        "x1 = tf.Variable(10.0)\n",
        "\n",
        "with tf.GradientTape(watch_accessed_variables= False) as tape:\n",
        "  tape.watch(x1) # Only watch and track the x1 \n",
        "  y0 = tf.math.sin(x0)\n",
        "  y1 = tf.nn.softplus(x1)\n",
        "  \n",
        "  # But it only tracks the x1 so only for y1 gradients\n",
        "  y = y0 + y1  \n",
        "\n",
        "  ys = tf.reduce_sum(y)\n",
        "\n",
        "\n",
        "\n"
      ],
      "execution_count": 182,
      "outputs": []
    },
    {
      "cell_type": "markdown",
      "metadata": {
        "id": "O5mJSWXYezve"
      },
      "source": [
        "Since `GradientTape.watch` wasnt called on `x0`, no gradient is computed wrt to it. "
      ]
    },
    {
      "cell_type": "code",
      "metadata": {
        "id": "AUaV-HUDe8HL",
        "outputId": "e508dc46-a830-4ad0-9799-a5e748a6836b",
        "colab": {
          "base_uri": "https://localhost:8080/"
        }
      },
      "source": [
        "# dys/dx1 = exp(x1) / (1 + exp(x1)) = sigmoid(x1)\n",
        "\n",
        "grad = tape.gradient(ys , sources= {'x0': x0 , 'x1': x1})\n",
        "\n",
        "print(f\"dy/dx0 : {grad['x0']}\")\n",
        "print(f\"dy/dx1: {grad['x1'].numpy()}\")"
      ],
      "execution_count": 183,
      "outputs": [
        {
          "output_type": "stream",
          "name": "stdout",
          "text": [
            "dy/dx0 : None\n",
            "dy/dx1: 0.9999545812606812\n"
          ]
        }
      ]
    },
    {
      "cell_type": "markdown",
      "metadata": {
        "id": "CG9J44AHf0uc"
      },
      "source": [
        "### Intermediate Results \n",
        "\n",
        "We can also request for gradients of the outputs wrt to intermediate values computed inside the `tf.GradientTape()` context. "
      ]
    },
    {
      "cell_type": "code",
      "metadata": {
        "id": "vHB5J0VshhAb",
        "outputId": "9e4677d8-29b3-4ad7-8820-a8531748f34c",
        "colab": {
          "base_uri": "https://localhost:8080/"
        }
      },
      "source": [
        "x = tf.constant(3.0)\n",
        "\n",
        "with tf.GradientTape() as tape:\n",
        "  tape.watch(x)\n",
        "  y = x*x\n",
        "\n",
        "  # intermediate results (gradients of the outputs)\n",
        "  z = y * y \n",
        "\n",
        "# Use the tape to compute gradient of z wrt intermediate value y.  \n",
        "# dz_dy = 2 * y and y = x * x = 9 \n",
        "\n",
        "print(tape.gradient(z , y).numpy()) # wrt to y (intermediate output \n",
        "\n",
        "# Multiple computation \n",
        "#print(tape.gradient(y , x).numpy())"
      ],
      "execution_count": 184,
      "outputs": [
        {
          "output_type": "stream",
          "name": "stdout",
          "text": [
            "18.0\n"
          ]
        }
      ]
    },
    {
      "cell_type": "markdown",
      "metadata": {
        "id": "6Ml6GYRDi3ib"
      },
      "source": [
        "But we got an error when we try to compute multiple gradients over the same computation, to avoid this we have to create a gradient tape with `persistent = True`. \n",
        "\n",
        "This will allows multiple calls to the `gradient` method as resources are released when the tape object is garbage collected. "
      ]
    },
    {
      "cell_type": "code",
      "metadata": {
        "id": "6kOVOjKrjWLN"
      },
      "source": [
        "# Computing multiple \n",
        "x = tf.constant([1  , 3.0])\n",
        "\n",
        "# Forward pass \n",
        "with tf.GradientTape(persistent= True) as tape:\n",
        "  tape.watch(x)\n",
        "\n",
        "  y = x **2 \n",
        "  z = y*3 + y\n",
        "\n"
      ],
      "execution_count": 185,
      "outputs": []
    },
    {
      "cell_type": "code",
      "metadata": {
        "id": "Toka6e6Bj8Bk",
        "outputId": "c97742c2-f526-4f75-de01-78ff80c47e3c",
        "colab": {
          "base_uri": "https://localhost:8080/"
        }
      },
      "source": [
        "# getting the gradients for both the variable and the intermediate result \n",
        "print(tape.gradient(y , x).numpy())\n",
        "print(tape.gradient(z , y).numpy())\n"
      ],
      "execution_count": 186,
      "outputs": [
        {
          "output_type": "stream",
          "name": "stdout",
          "text": [
            "[2. 6.]\n",
            "[4. 4.]\n"
          ]
        }
      ]
    },
    {
      "cell_type": "markdown",
      "metadata": {
        "id": "1MtcIUEakNX7"
      },
      "source": [
        "### Gradients of non-scalar targets \n",
        "\n"
      ]
    },
    {
      "cell_type": "code",
      "metadata": {
        "id": "T8XJiLJfl_Z5",
        "outputId": "0e7cada1-2a81-4888-8af9-2315ef4f5e6e",
        "colab": {
          "base_uri": "https://localhost:8080/"
        }
      },
      "source": [
        "x = tf.Variable(2.0)\n",
        "with tf.GradientTape(persistent = True) as tape: \n",
        "  y0 = x ** 2 \n",
        "  y1 = 1 / x # gradients for the 0.5 \n",
        "\n",
        "print(tape.gradient(y0 , x).numpy())\n",
        "print(tape.gradient(y1 , x).numpy())"
      ],
      "execution_count": 187,
      "outputs": [
        {
          "output_type": "stream",
          "name": "stdout",
          "text": [
            "4.0\n",
            "-0.25\n"
          ]
        }
      ]
    },
    {
      "cell_type": "markdown",
      "metadata": {
        "id": "iLxqepi6mWVw"
      },
      "source": [
        "Since gradient is fundamentally an operation on a scalar, we can also get the gradients for non-scalar objects. \n",
        "\n"
      ]
    },
    {
      "cell_type": "code",
      "metadata": {
        "id": "VelPH7V4nLha",
        "outputId": "28f9e3be-a076-46c0-996b-de1fdbabd693",
        "colab": {
          "base_uri": "https://localhost:8080/"
        }
      },
      "source": [
        "x_ = tf.constant(4.9)\n",
        "non_tra = tf.Variable(2.0 , trainable = False)\n",
        "\n",
        "with tf.GradientTape(persistent = True) as tape: \n",
        "  tape.watch(non_tra)\n",
        "  y = tf.reduce_mean(non_tra)\n",
        "\n",
        "print(tape.gradient(y , non_tra)) # None \n",
        "\n"
      ],
      "execution_count": 188,
      "outputs": [
        {
          "output_type": "stream",
          "name": "stdout",
          "text": [
            "tf.Tensor(1.0, shape=(), dtype=float32)\n"
          ]
        }
      ]
    },
    {
      "cell_type": "markdown",
      "metadata": {
        "id": "xnfsDXZ0t9Bw"
      },
      "source": [
        "tf.Variable with trainable = True doesnt need a tape,watch() as it gets recorded automatically by the GradientTape()`"
      ]
    },
    {
      "cell_type": "code",
      "metadata": {
        "id": "OnbQQIsyuLjY",
        "outputId": "52c4a858-9914-42cc-d16e-0c25fb87413e",
        "colab": {
          "base_uri": "https://localhost:8080/"
        }
      },
      "source": [
        "# Without Jacobian\n",
        "x = tf.constant([1.0 , 2.0])\n",
        "with tf.GradientTape() as tape: \n",
        "  tape.watch(x)\n",
        "  y = x**2\n",
        "\n",
        "# Getting the gradients (not jacobian) \n",
        "# This will give us sum of vectors \n",
        "print(tape.gradient(y , x)) "
      ],
      "execution_count": 189,
      "outputs": [
        {
          "output_type": "stream",
          "name": "stdout",
          "text": [
            "tf.Tensor([2. 4.], shape=(2,), dtype=float32)\n"
          ]
        }
      ]
    },
    {
      "cell_type": "code",
      "metadata": {
        "id": "f6cCcm8sxJVU",
        "outputId": "cc20adcb-5e54-4b1f-d49b-e8db664599b3",
        "colab": {
          "base_uri": "https://localhost:8080/"
        }
      },
      "source": [
        "# TensorFlow gives gradients of the vector sum\n",
        "a , b = tf.constant([2., 0.]) , tf.constant([0., 4.])\n",
        "(a + b).numpy()"
      ],
      "execution_count": 190,
      "outputs": [
        {
          "output_type": "execute_result",
          "data": {
            "text/plain": [
              "array([2., 4.], dtype=float32)"
            ]
          },
          "metadata": {},
          "execution_count": 190
        }
      ]
    },
    {
      "cell_type": "code",
      "metadata": {
        "id": "_4t7KaZ5x53U",
        "outputId": "8752a1eb-e84d-4bef-fdaf-7b9750891183",
        "colab": {
          "base_uri": "https://localhost:8080/"
        }
      },
      "source": [
        "# Using Jacobian for vectors (gradients for individual vector)\n",
        "with tf.GradientTape() as tape:\n",
        "  tape.watch(x)\n",
        "  y = x**2 \n",
        "\n",
        "# Computing jacobian rather than the gradients \n",
        "tape.jacobian(y , x)"
      ],
      "execution_count": 103,
      "outputs": [
        {
          "output_type": "execute_result",
          "data": {
            "text/plain": [
              "<tf.Tensor: shape=(2, 2), dtype=float32, numpy=\n",
              "array([[2., 0.],\n",
              "       [0., 4.]], dtype=float32)>"
            ]
          },
          "metadata": {},
          "execution_count": 103
        }
      ]
    },
    {
      "cell_type": "markdown",
      "metadata": {
        "id": "PUN6eYnkzPGx"
      },
      "source": [
        "Using `tf.stop_gradient()` it works more like a wrapper, where we can explicitly wrap the values and preventing GradientTape from coomputing gradients on it. "
      ]
    },
    {
      "cell_type": "code",
      "metadata": {
        "id": "HZUYi6QR9YKL",
        "outputId": "3f0de007-90d1-426e-f854-4ac78a3e5f49",
        "colab": {
          "base_uri": "https://localhost:8080/"
        }
      },
      "source": [
        "w1, w2 = tf.Variable(5.), tf.Variable(3.)\n",
        "def f(w1 , w2):\n",
        "  return 3 * w1 ** 2 + tf.stop_gradient(2 * w1 * w2)\n",
        "\n",
        "# Using the stop gradient\n",
        "with tf.GradientTape() as tape:\n",
        "   z = f(w1 , w2)\n",
        "\n",
        "# Computing the gradients (but the wrapped operation wont have an impact)\n",
        "print(tape.gradient(z , [w1 , w2]))"
      ],
      "execution_count": 192,
      "outputs": [
        {
          "output_type": "stream",
          "name": "stdout",
          "text": [
            "[<tf.Tensor: shape=(), dtype=float32, numpy=30.0>, None]\n"
          ]
        }
      ]
    },
    {
      "cell_type": "code",
      "metadata": {
        "id": "H8J5wD6Q-EF_"
      },
      "source": [
        ""
      ],
      "execution_count": null,
      "outputs": []
    }
  ]
}
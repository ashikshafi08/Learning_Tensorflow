{
  "nbformat": 4,
  "nbformat_minor": 0,
  "metadata": {
    "colab": {
      "name": "05_Transfer_Learning_with_TensorFlow_Part 2: Fine-tuning.ipynb",
      "provenance": [],
      "collapsed_sections": [],
      "include_colab_link": true
    },
    "kernelspec": {
      "name": "python3",
      "display_name": "Python 3"
    },
    "language_info": {
      "name": "python"
    },
    "accelerator": "GPU"
  },
  "cells": [
    {
      "cell_type": "markdown",
      "metadata": {
        "id": "view-in-github",
        "colab_type": "text"
      },
      "source": [
        "<a href=\"https://colab.research.google.com/github/ashikshafi08/Learning_Tensorflow/blob/main/Notebooks/05_Transfer_Learning_with_TensorFlow_Part_2_Fine_tuning.ipynb\" target=\"_parent\"><img src=\"https://colab.research.google.com/assets/colab-badge.svg\" alt=\"Open In Colab\"/></a>"
      ]
    },
    {
      "cell_type": "code",
      "metadata": {
        "colab": {
          "base_uri": "https://localhost:8080/"
        },
        "id": "XlHY8np6-KbG",
        "outputId": "934e3230-2edc-41f0-ff76-95be2afd44ac"
      },
      "source": [
        "!nvidia-smi"
      ],
      "execution_count": null,
      "outputs": [
        {
          "output_type": "stream",
          "text": [
            "Wed Mar 24 13:09:46 2021       \n",
            "+-----------------------------------------------------------------------------+\n",
            "| NVIDIA-SMI 460.56       Driver Version: 460.32.03    CUDA Version: 11.2     |\n",
            "|-------------------------------+----------------------+----------------------+\n",
            "| GPU  Name        Persistence-M| Bus-Id        Disp.A | Volatile Uncorr. ECC |\n",
            "| Fan  Temp  Perf  Pwr:Usage/Cap|         Memory-Usage | GPU-Util  Compute M. |\n",
            "|                               |                      |               MIG M. |\n",
            "|===============================+======================+======================|\n",
            "|   0  Tesla K80           Off  | 00000000:00:04.0 Off |                    0 |\n",
            "| N/A   32C    P8    29W / 149W |      0MiB / 11441MiB |      0%      Default |\n",
            "|                               |                      |                  N/A |\n",
            "+-------------------------------+----------------------+----------------------+\n",
            "                                                                               \n",
            "+-----------------------------------------------------------------------------+\n",
            "| Processes:                                                                  |\n",
            "|  GPU   GI   CI        PID   Type   Process name                  GPU Memory |\n",
            "|        ID   ID                                                   Usage      |\n",
            "|=============================================================================|\n",
            "|  No running processes found                                                 |\n",
            "+-----------------------------------------------------------------------------+\n"
          ],
          "name": "stdout"
        }
      ]
    },
    {
      "cell_type": "markdown",
      "metadata": {
        "id": "AnT4vIUTClzo"
      },
      "source": [
        "# Transfer Learning with Tensorflow: Fine Tuning \n",
        "In the previous notebook, we covered transfer learning feature extraction, now it's time to learn about a new kind of transfer learning which is **fine-tuning**.\n",
        "\n",
        "## What we're going to cover\n",
        "\n",
        "We're going to go through the follow with TensorFlow:\n",
        "\n",
        "- Introduce fine-tuning, a type of transfer learning to modify a pre-trained model to be more suited to your data\n",
        "- Using the **Keras Functional API** (a differnt way to build models in Keras)\n",
        "- Using a smaller dataset to experiment faster (e.g. 1-10% of training samples of 10 classes of food)\n",
        "- **Data augmentation** (how to make your training dataset more diverse without adding more data)\n",
        "\n",
        "- Running a **series of modelling experiments** on our Food Vision data\n",
        "  - Model 0: a transfer learning model using the Keras Functional API\n",
        "  - Model 1: a feature extraction transfer learning model on 1% of the data with data augmentation\n",
        "  - Model 2: a feature extraction transfer learning model on 10% of the data with data augmentation\n",
        "  - Model 3: a fine-tuned transfer learning model on 10% of the data\n",
        "  - Model 4: a fine-tuned transfer learning model on 100% of the data\n",
        "- Introduce the **ModelCheckpoint callback** to save intermediate training results\n",
        "- Compare model experiments results using TensorBoard"
      ]
    },
    {
      "cell_type": "markdown",
      "metadata": {
        "id": "SxUI5qZBQ3bY"
      },
      "source": [
        "## Creating helper function\n",
        "In previous notebooks, we've created a bunch of helper functions now we could re-write them all. However this is tedious. So it's a good idea to put all those function you want to use in a script, with that we can import them later depending upon our use. "
      ]
    },
    {
      "cell_type": "code",
      "metadata": {
        "colab": {
          "base_uri": "https://localhost:8080/"
        },
        "id": "8QQptr35I2Di",
        "outputId": "ea51b1cd-50dc-4acc-a2ac-bfb150418119"
      },
      "source": [
        "!wget https://raw.githubusercontent.com/mrdbourke/tensorflow-deep-learning/main/extras/helper_functions.py"
      ],
      "execution_count": null,
      "outputs": [
        {
          "output_type": "stream",
          "text": [
            "--2021-03-24 13:09:50--  https://raw.githubusercontent.com/mrdbourke/tensorflow-deep-learning/main/extras/helper_functions.py\n",
            "Resolving raw.githubusercontent.com (raw.githubusercontent.com)... 185.199.110.133, 185.199.108.133, 185.199.109.133, ...\n",
            "Connecting to raw.githubusercontent.com (raw.githubusercontent.com)|185.199.110.133|:443... connected.\n",
            "HTTP request sent, awaiting response... 200 OK\n",
            "Length: 9304 (9.1K) [text/plain]\n",
            "Saving to: ‘helper_functions.py’\n",
            "\n",
            "helper_functions.py 100%[===================>]   9.09K  --.-KB/s    in 0s      \n",
            "\n",
            "2021-03-24 13:09:50 (73.8 MB/s) - ‘helper_functions.py’ saved [9304/9304]\n",
            "\n"
          ],
          "name": "stdout"
        }
      ]
    },
    {
      "cell_type": "code",
      "metadata": {
        "id": "yns4bzhxJz3T"
      },
      "source": [
        "# Import helper function \n",
        "from helper_functions import create_tensorboard_callback , plot_loss_curves , unzip_data , walk_through_dir"
      ],
      "execution_count": null,
      "outputs": []
    },
    {
      "cell_type": "markdown",
      "metadata": {
        "id": "aEHVmFFnKTkH"
      },
      "source": [
        "> **Dan Note:** If you're running this notebook in Colab, when it times out in Colab will delete `helper_functions.py` so you'll have to redownload it if you want access to your helper function. "
      ]
    },
    {
      "cell_type": "markdown",
      "metadata": {
        "id": "7U8wILJSKtUX"
      },
      "source": [
        "## Let's get some data \n",
        "This time we're going to see how to use the pre-trained models within `tf.keras.applications` and apply them to our own problem recognizing images of food. \n",
        "\n",
        "https://www.tensorflow.org/api_docs/python/tf/keras/applications"
      ]
    },
    {
      "cell_type": "code",
      "metadata": {
        "colab": {
          "base_uri": "https://localhost:8080/"
        },
        "id": "yF1Sxl2PNVs2",
        "outputId": "16776535-f91a-42a5-8d05-53f2b7bd42ca"
      },
      "source": [
        "# Get 10% of training data of 10 classes of Food101 \n",
        "!wget https://storage.googleapis.com/ztm_tf_course/food_vision/10_food_classes_10_percent.zip\n",
        "\n",
        "unzip_data('10_food_classes_10_percent.zip')"
      ],
      "execution_count": null,
      "outputs": [
        {
          "output_type": "stream",
          "text": [
            "--2021-03-24 13:09:52--  https://storage.googleapis.com/ztm_tf_course/food_vision/10_food_classes_10_percent.zip\n",
            "Resolving storage.googleapis.com (storage.googleapis.com)... 74.125.203.128, 64.233.189.128, 108.177.97.128, ...\n",
            "Connecting to storage.googleapis.com (storage.googleapis.com)|74.125.203.128|:443... connected.\n",
            "HTTP request sent, awaiting response... 200 OK\n",
            "Length: 168546183 (161M) [application/zip]\n",
            "Saving to: ‘10_food_classes_10_percent.zip’\n",
            "\n",
            "10_food_classes_10_ 100%[===================>] 160.74M  83.8MB/s    in 1.9s    \n",
            "\n",
            "2021-03-24 13:09:55 (83.8 MB/s) - ‘10_food_classes_10_percent.zip’ saved [168546183/168546183]\n",
            "\n"
          ],
          "name": "stdout"
        }
      ]
    },
    {
      "cell_type": "code",
      "metadata": {
        "colab": {
          "base_uri": "https://localhost:8080/"
        },
        "id": "YN4fI7ygNpFP",
        "outputId": "62e3d60e-1414-451a-d5e5-5354e790ca0b"
      },
      "source": [
        "# Check out how many images and sub directories are in our dataset \n",
        "walk_through_dir('10_food_classes_10_percent')"
      ],
      "execution_count": null,
      "outputs": [
        {
          "output_type": "stream",
          "text": [
            "There are 2 directories and 0 images in '10_food_classes_10_percent'.\n",
            "There are 10 directories and 0 images in '10_food_classes_10_percent/train'.\n",
            "There are 0 directories and 75 images in '10_food_classes_10_percent/train/grilled_salmon'.\n",
            "There are 0 directories and 75 images in '10_food_classes_10_percent/train/ice_cream'.\n",
            "There are 0 directories and 75 images in '10_food_classes_10_percent/train/fried_rice'.\n",
            "There are 0 directories and 75 images in '10_food_classes_10_percent/train/chicken_curry'.\n",
            "There are 0 directories and 75 images in '10_food_classes_10_percent/train/sushi'.\n",
            "There are 0 directories and 75 images in '10_food_classes_10_percent/train/chicken_wings'.\n",
            "There are 0 directories and 75 images in '10_food_classes_10_percent/train/pizza'.\n",
            "There are 0 directories and 75 images in '10_food_classes_10_percent/train/ramen'.\n",
            "There are 0 directories and 75 images in '10_food_classes_10_percent/train/hamburger'.\n",
            "There are 0 directories and 75 images in '10_food_classes_10_percent/train/steak'.\n",
            "There are 10 directories and 0 images in '10_food_classes_10_percent/test'.\n",
            "There are 0 directories and 250 images in '10_food_classes_10_percent/test/grilled_salmon'.\n",
            "There are 0 directories and 250 images in '10_food_classes_10_percent/test/ice_cream'.\n",
            "There are 0 directories and 250 images in '10_food_classes_10_percent/test/fried_rice'.\n",
            "There are 0 directories and 250 images in '10_food_classes_10_percent/test/chicken_curry'.\n",
            "There are 0 directories and 250 images in '10_food_classes_10_percent/test/sushi'.\n",
            "There are 0 directories and 250 images in '10_food_classes_10_percent/test/chicken_wings'.\n",
            "There are 0 directories and 250 images in '10_food_classes_10_percent/test/pizza'.\n",
            "There are 0 directories and 250 images in '10_food_classes_10_percent/test/ramen'.\n",
            "There are 0 directories and 250 images in '10_food_classes_10_percent/test/hamburger'.\n",
            "There are 0 directories and 250 images in '10_food_classes_10_percent/test/steak'.\n"
          ],
          "name": "stdout"
        }
      ]
    },
    {
      "cell_type": "code",
      "metadata": {
        "id": "sexdCuyKN61T"
      },
      "source": [
        "# Create training and test directory path \n",
        "train_dir = '10_food_classes_10_percent/train'\n",
        "test_dir = '10_food_classes_10_percent/test'"
      ],
      "execution_count": null,
      "outputs": []
    },
    {
      "cell_type": "code",
      "metadata": {
        "colab": {
          "base_uri": "https://localhost:8080/"
        },
        "id": "c1td2yggOa9p",
        "outputId": "b0dcf0a3-b3cc-4c76-eb1b-b29ca16cf164"
      },
      "source": [
        "import tensorflow as tf\n",
        "\n",
        "# Global image size , batch \n",
        "IMG_SIZE = (224 , 224)\n",
        "BATCH_SIZE = 32\n",
        "\n",
        "# Using the image_dataset_from_directory\n",
        "train_data_10_percent = tf.keras.preprocessing.image_dataset_from_directory(directory= train_dir , \n",
        "                                                                            image_size = IMG_SIZE , \n",
        "                                                                            label_mode = 'categorical' , \n",
        "                                                                            batch_size = BATCH_SIZE)\n",
        "\n",
        "test_data_10_percent = tf.keras.preprocessing.image_dataset_from_directory(test_dir, \n",
        "                                                                           image_size = IMG_SIZE,  \n",
        "                                                                           label_mode = 'categorical')"
      ],
      "execution_count": null,
      "outputs": [
        {
          "output_type": "stream",
          "text": [
            "Found 750 files belonging to 10 classes.\n",
            "Found 2500 files belonging to 10 classes.\n"
          ],
          "name": "stdout"
        }
      ]
    },
    {
      "cell_type": "code",
      "metadata": {
        "colab": {
          "base_uri": "https://localhost:8080/"
        },
        "id": "3uvpnDmDQ1Qt",
        "outputId": "39487e27-7a02-42e4-af13-33316e7ba2f3"
      },
      "source": [
        "train_data_10_percent"
      ],
      "execution_count": null,
      "outputs": [
        {
          "output_type": "execute_result",
          "data": {
            "text/plain": [
              "<BatchDataset shapes: ((None, 224, 224, 3), (None, 10)), types: (tf.float32, tf.float32)>"
            ]
          },
          "metadata": {
            "tags": []
          },
          "execution_count": 8
        }
      ]
    },
    {
      "cell_type": "code",
      "metadata": {
        "colab": {
          "base_uri": "https://localhost:8080/"
        },
        "id": "CCftdDBGTVAc",
        "outputId": "874db383-e49e-48b0-9cc1-1084bc048481"
      },
      "source": [
        "# Check out class names of our dataset \n",
        "train_data_10_percent.class_names"
      ],
      "execution_count": null,
      "outputs": [
        {
          "output_type": "execute_result",
          "data": {
            "text/plain": [
              "['chicken_curry',\n",
              " 'chicken_wings',\n",
              " 'fried_rice',\n",
              " 'grilled_salmon',\n",
              " 'hamburger',\n",
              " 'ice_cream',\n",
              " 'pizza',\n",
              " 'ramen',\n",
              " 'steak',\n",
              " 'sushi']"
            ]
          },
          "metadata": {
            "tags": []
          },
          "execution_count": 9
        }
      ]
    },
    {
      "cell_type": "code",
      "metadata": {
        "colab": {
          "base_uri": "https://localhost:8080/"
        },
        "id": "efUTzvQ8T-N7",
        "outputId": "47c70d31-58d0-4e1a-ee72-33fa8d0be73b"
      },
      "source": [
        "# Seeing an example of batch\n",
        "for images ,labels in train_data_10_percent.take(1): # take unravel a batch \n",
        "  print(images , labels)"
      ],
      "execution_count": null,
      "outputs": [
        {
          "output_type": "stream",
          "text": [
            "tf.Tensor(\n",
            "[[[[3.41275520e+01 3.41275520e+01 3.28418388e+01]\n",
            "   [3.35969391e+01 3.45714302e+01 2.87193871e+01]\n",
            "   [3.71479607e+01 3.81479607e+01 2.37193871e+01]\n",
            "   ...\n",
            "   [2.36729630e+02 2.36729630e+02 2.34729630e+02]\n",
            "   [2.54632584e+02 2.54704025e+02 2.50586655e+02]\n",
            "   [2.10784744e+02 2.11784744e+02 2.05784744e+02]]\n",
            "\n",
            "  [[3.74285736e+01 3.80255089e+01 3.42346954e+01]\n",
            "   [4.07806129e+01 4.17806129e+01 3.39285736e+01]\n",
            "   [4.30153046e+01 4.40153046e+01 2.95867348e+01]\n",
            "   ...\n",
            "   [2.48377396e+02 2.48377396e+02 2.46377396e+02]\n",
            "   [2.24092102e+02 2.25086990e+02 2.19158417e+02]\n",
            "   [2.50642609e+02 2.51596695e+02 2.43734451e+02]]\n",
            "\n",
            "  [[4.13520393e+01 4.21377563e+01 3.44234695e+01]\n",
            "   [4.45561256e+01 4.45561256e+01 3.26989784e+01]\n",
            "   [4.98112259e+01 5.08112259e+01 3.63826523e+01]\n",
            "   ...\n",
            "   [2.53194016e+02 2.53576660e+02 2.49194016e+02]\n",
            "   [2.44132385e+02 2.44933411e+02 2.39132385e+02]\n",
            "   [2.22668610e+02 2.23668610e+02 2.15668610e+02]]\n",
            "\n",
            "  ...\n",
            "\n",
            "  [[1.29137787e+02 1.18566315e+02 8.67805786e+01]\n",
            "   [1.16826492e+02 1.05857101e+02 7.42703247e+01]\n",
            "   [1.03479553e+02 8.94540634e+01 5.83876877e+01]\n",
            "   ...\n",
            "   [3.17398262e+01 2.31683540e+01 7.95409107e+00]\n",
            "   [3.78265648e+01 2.67704296e+01 6.62754536e+00]\n",
            "   [3.86480026e+01 2.68622665e+01 4.30097151e+00]]\n",
            "\n",
            "  [[1.29428574e+02 1.16428574e+02 8.17602005e+01]\n",
            "   [1.16433678e+02 1.03433678e+02 6.93622360e+01]\n",
            "   [1.01770416e+02 8.67704163e+01 5.37704201e+01]\n",
            "   ...\n",
            "   [2.66837406e+01 1.79132519e+01 1.19895649e+00]\n",
            "   [4.05715332e+01 2.81530914e+01 6.13777924e+00]\n",
            "   [4.72857666e+01 3.12143250e+01 5.81122303e+00]]\n",
            "\n",
            "  [[1.25999893e+02 1.13999893e+02 7.52855377e+01]\n",
            "   [1.14714218e+02 1.02714218e+02 6.47142181e+01]\n",
            "   [9.97091064e+01 8.54948196e+01 5.09233932e+01]\n",
            "   ...\n",
            "   [2.84235916e+01 1.70663834e+01 1.28064740e+00]\n",
            "   [4.27603111e+01 2.73572083e+01 4.18880749e+00]\n",
            "   [5.53726692e+01 3.66123314e+01 1.04847536e+01]]]\n",
            "\n",
            "\n",
            " [[[1.59714294e+02 1.28714294e+02 7.40714264e+01]\n",
            "   [1.52000000e+02 1.20000000e+02 5.92857094e+01]\n",
            "   [1.52994904e+02 1.19780617e+02 4.81377525e+01]\n",
            "   ...\n",
            "   [1.23000000e+02 1.00000000e+02 8.60000000e+01]\n",
            "   [1.29071396e+02 1.03071388e+02 9.00713882e+01]\n",
            "   [1.23086685e+02 9.70866852e+01 8.40866852e+01]]\n",
            "\n",
            "  [[1.69382645e+02 1.38051025e+02 8.50000000e+01]\n",
            "   [1.59214294e+02 1.29142853e+02 6.75000000e+01]\n",
            "   [1.48729584e+02 1.18102036e+02 4.75306129e+01]\n",
            "   ...\n",
            "   [1.24714310e+02 1.01714310e+02 8.57143097e+01]\n",
            "   [1.26862206e+02 1.03862206e+02 8.78622055e+01]\n",
            "   [1.25474525e+02 9.94745255e+01 8.44745255e+01]]\n",
            "\n",
            "  [[1.67642853e+02 1.35994888e+02 8.60000000e+01]\n",
            "   [1.68142853e+02 1.37127548e+02 8.07857132e+01]\n",
            "   [1.57525513e+02 1.26096939e+02 5.90969391e+01]\n",
            "   ...\n",
            "   [1.32168350e+02 1.09428551e+02 9.07856903e+01]\n",
            "   [1.26729546e+02 1.03943825e+02 8.53009720e+01]\n",
            "   [1.23219467e+02 1.00433754e+02 8.17908936e+01]]\n",
            "\n",
            "  ...\n",
            "\n",
            "  [[1.90428528e+02 1.81785736e+02 1.59428528e+02]\n",
            "   [1.91413223e+02 1.82770432e+02 1.61984695e+02]\n",
            "   [1.91428528e+02 1.82785736e+02 1.62000000e+02]\n",
            "   ...\n",
            "   [1.94954086e+02 1.82954086e+02 1.66954086e+02]\n",
            "   [1.91270401e+02 1.83056137e+02 1.64484665e+02]\n",
            "   [1.92000000e+02 1.83785736e+02 1.65214264e+02]]\n",
            "\n",
            "  [[1.88928558e+02 1.82928558e+02 1.58928558e+02]\n",
            "   [1.88928558e+02 1.82928558e+02 1.58928558e+02]\n",
            "   [1.89928558e+02 1.83928558e+02 1.61928558e+02]\n",
            "   ...\n",
            "   [1.95142822e+02 1.83928558e+02 1.66357086e+02]\n",
            "   [1.90071442e+02 1.82071442e+02 1.63071442e+02]\n",
            "   [1.91954071e+02 1.83954071e+02 1.64954071e+02]]\n",
            "\n",
            "  [[1.85642822e+02 1.81642822e+02 1.56642822e+02]\n",
            "   [1.86000000e+02 1.82000000e+02 1.57000000e+02]\n",
            "   [1.86642822e+02 1.82428543e+02 1.58071396e+02]\n",
            "   ...\n",
            "   [1.92642822e+02 1.81428558e+02 1.63857086e+02]\n",
            "   [1.91000000e+02 1.83000000e+02 1.64000000e+02]\n",
            "   [1.90872421e+02 1.82872421e+02 1.63872421e+02]]]\n",
            "\n",
            "\n",
            " [[[1.90214279e+02 1.99214279e+02 1.70928574e+02]\n",
            "   [2.16357147e+02 2.24357147e+02 2.00714279e+02]\n",
            "   [2.22244904e+02 2.26750000e+02 2.08464294e+02]\n",
            "   ...\n",
            "   [1.27265335e+02 1.51265335e+02 1.37984711e+02]\n",
            "   [1.44188828e+02 1.68260269e+02 1.52045944e+02]\n",
            "   [1.46464203e+02 1.69464203e+02 1.52290680e+02]]\n",
            "\n",
            "  [[2.07168365e+02 2.14433670e+02 1.78051025e+02]\n",
            "   [2.23193878e+02 2.30056122e+02 1.97346939e+02]\n",
            "   [2.27903061e+02 2.31943878e+02 2.05658157e+02]\n",
            "   ...\n",
            "   [1.54107422e+02 1.77806335e+02 1.67821625e+02]\n",
            "   [1.56367447e+02 1.80367447e+02 1.67285812e+02]\n",
            "   [1.71704102e+02 1.93729614e+02 1.81581650e+02]]\n",
            "\n",
            "  [[2.08923462e+02 2.13280609e+02 1.72494904e+02]\n",
            "   [2.06515305e+02 2.10872452e+02 1.71086731e+02]\n",
            "   [2.19051010e+02 2.22408157e+02 1.87959183e+02]\n",
            "   ...\n",
            "   [1.43428589e+02 1.68520416e+02 1.64306183e+02]\n",
            "   [1.50331726e+02 1.72387848e+02 1.69433746e+02]\n",
            "   [1.57806015e+02 1.78591736e+02 1.74448868e+02]]\n",
            "\n",
            "  ...\n",
            "\n",
            "  [[1.63239761e+02 1.95096939e+02 2.01030655e+02]\n",
            "   [1.55780441e+02 1.87010101e+02 2.00010086e+02]\n",
            "   [1.63989441e+02 1.92821060e+02 2.11326187e+02]\n",
            "   ...\n",
            "   [1.71591660e+02 2.08117233e+02 2.15826431e+02]\n",
            "   [1.78607086e+02 2.15607086e+02 2.24392822e+02]\n",
            "   [1.79296188e+02 2.16296188e+02 2.25081924e+02]]\n",
            "\n",
            "  [[1.70178436e+02 2.06540680e+02 2.11800888e+02]\n",
            "   [1.67846878e+02 2.01994873e+02 2.13775482e+02]\n",
            "   [1.59321411e+02 1.91892838e+02 2.11107117e+02]\n",
            "   ...\n",
            "   [1.67066345e+02 2.03637817e+02 2.11209290e+02]\n",
            "   [1.68403137e+02 2.05403137e+02 2.14403137e+02]\n",
            "   [1.76234467e+02 2.12234467e+02 2.24234467e+02]]\n",
            "\n",
            "  [[1.64183762e+02 2.03540909e+02 2.07469482e+02]\n",
            "   [1.62550751e+02 2.00622177e+02 2.11336456e+02]\n",
            "   [1.56163361e+02 1.89296066e+02 2.08510361e+02]\n",
            "   ...\n",
            "   [1.65779770e+02 2.02351242e+02 2.09769653e+02]\n",
            "   [1.67780228e+02 2.04780228e+02 2.13780228e+02]\n",
            "   [1.64765457e+02 2.00765457e+02 2.13939011e+02]]]\n",
            "\n",
            "\n",
            " ...\n",
            "\n",
            "\n",
            " [[[2.05500000e+02 1.23500000e+02 4.15000000e+01]\n",
            "   [2.06520416e+02 1.23520409e+02 4.35204048e+01]\n",
            "   [2.05918365e+02 1.23132652e+02 4.76377525e+01]\n",
            "   ...\n",
            "   [2.50653091e+02 2.54494949e+02 2.43214325e+02]\n",
            "   [2.45469406e+02 2.52229614e+02 2.41872482e+02]\n",
            "   [2.49214249e+02 2.54872437e+02 2.46214249e+02]]\n",
            "\n",
            "  [[2.05903061e+02 1.23903061e+02 3.99030571e+01]\n",
            "   [2.04658157e+02 1.22591835e+02 4.07244873e+01]\n",
            "   [2.10372452e+02 1.27586731e+02 5.01581612e+01]\n",
            "   ...\n",
            "   [2.52326508e+02 2.55000000e+02 2.44127548e+02]\n",
            "   [2.53316299e+02 2.54867355e+02 2.45591827e+02]\n",
            "   [2.45806076e+02 2.52520432e+02 2.40209183e+02]]\n",
            "\n",
            "  [[2.07770416e+02 1.26198982e+02 3.95561218e+01]\n",
            "   [2.04688766e+02 1.23117348e+02 3.88724518e+01]\n",
            "   [2.10494888e+02 1.29494888e+02 4.83265305e+01]\n",
            "   ...\n",
            "   [2.51295822e+02 2.52530548e+02 2.42295822e+02]\n",
            "   [2.53117310e+02 2.54928558e+02 2.43117310e+02]\n",
            "   [2.47791061e+02 2.52290970e+02 2.39362503e+02]]\n",
            "\n",
            "  ...\n",
            "\n",
            "  [[2.16892456e+02 1.23678192e+02 3.13209820e+01]\n",
            "   [2.09224030e+02 1.16009773e+02 2.36525631e+01]\n",
            "   [2.03147751e+02 1.08101845e+02 1.82395840e+01]\n",
            "   ...\n",
            "   [4.81683540e+01 2.11683540e+01 4.16835499e+00]\n",
            "   [4.64132195e+01 1.94132214e+01 2.41322041e+00]\n",
            "   [4.63571777e+01 1.93571777e+01 2.35717773e+00]]\n",
            "\n",
            "  [[2.09816269e+02 1.16816269e+02 2.18162670e+01]\n",
            "   [2.11846832e+02 1.18846832e+02 2.58468342e+01]\n",
            "   [2.14627594e+02 1.19627586e+02 2.80561581e+01]\n",
            "   ...\n",
            "   [4.62295723e+01 1.92295704e+01 2.22957134e+00]\n",
            "   [4.61479874e+01 1.91479874e+01 2.14798713e+00]\n",
            "   [4.80714417e+01 2.10714417e+01 4.07144165e+00]]\n",
            "\n",
            "  [[2.02699173e+02 1.09699165e+02 1.46991663e+01]\n",
            "   [1.91872650e+02 9.88726501e+01 3.87264538e+00]\n",
            "   [2.09275421e+02 1.14275421e+02 2.27039967e+01]\n",
            "   ...\n",
            "   [4.54949112e+01 1.84949112e+01 1.49491131e+00]\n",
            "   [4.77602806e+01 2.07602806e+01 3.76027966e+00]\n",
            "   [4.76428223e+01 2.06428223e+01 3.64282227e+00]]]\n",
            "\n",
            "\n",
            " [[[2.13071426e+02 2.08071426e+02 2.05071426e+02]\n",
            "   [2.13088013e+02 2.08088013e+02 2.05088013e+02]\n",
            "   [2.13357147e+02 2.08357147e+02 2.05357147e+02]\n",
            "   ...\n",
            "   [2.10549088e+02 2.11075821e+02 2.05312454e+02]\n",
            "   [2.10458557e+02 2.09458557e+02 2.04458557e+02]\n",
            "   [2.06498978e+02 2.05498978e+02 2.00498978e+02]]\n",
            "\n",
            "  [[2.26142868e+02 2.21142868e+02 2.18142868e+02]\n",
            "   [2.27200897e+02 2.22200897e+02 2.19200897e+02]\n",
            "   [2.28906265e+02 2.23906265e+02 2.20906265e+02]\n",
            "   ...\n",
            "   [2.12488541e+02 2.13015274e+02 2.08251907e+02]\n",
            "   [2.09509476e+02 2.08509476e+02 2.04509476e+02]\n",
            "   [2.08083176e+02 2.07083176e+02 2.03083176e+02]]\n",
            "\n",
            "  [[2.36642853e+02 2.31642853e+02 2.28642853e+02]\n",
            "   [2.36688446e+02 2.31688446e+02 2.28688446e+02]\n",
            "   [2.37592163e+02 2.32592163e+02 2.29592163e+02]\n",
            "   ...\n",
            "   [2.11286209e+02 2.10998871e+02 2.09478149e+02]\n",
            "   [2.10907074e+02 2.09692795e+02 2.08335648e+02]\n",
            "   [2.13549362e+02 2.12335068e+02 2.10977936e+02]]\n",
            "\n",
            "  ...\n",
            "\n",
            "  [[2.45428528e+02 2.55000000e+02 2.44000000e+02]\n",
            "   [2.45428528e+02 2.55000000e+02 2.44000000e+02]\n",
            "   [2.45101395e+02 2.55000000e+02 2.45526779e+02]\n",
            "   ...\n",
            "   [2.35214264e+02 2.34214264e+02 2.30315674e+02]\n",
            "   [2.34272278e+02 2.33272278e+02 2.29700806e+02]\n",
            "   [2.34214264e+02 2.33000000e+02 2.31642792e+02]]\n",
            "\n",
            "  [[2.45000000e+02 2.55000000e+02 2.44000000e+02]\n",
            "   [2.45000000e+02 2.55000000e+02 2.44000000e+02]\n",
            "   [2.46526779e+02 2.54236603e+02 2.45526779e+02]\n",
            "   ...\n",
            "   [2.35763367e+02 2.34763367e+02 2.29763367e+02]\n",
            "   [2.34932709e+02 2.33932709e+02 2.28932709e+02]\n",
            "   [2.34000000e+02 2.33000000e+02 2.28000000e+02]]\n",
            "\n",
            "  [[2.44000000e+02 2.55000000e+02 2.44000000e+02]\n",
            "   [2.45000000e+02 2.55000000e+02 2.44000000e+02]\n",
            "   [2.46526779e+02 2.54236603e+02 2.45526779e+02]\n",
            "   ...\n",
            "   [2.35406189e+02 2.35406189e+02 2.27406189e+02]\n",
            "   [2.33700836e+02 2.33700836e+02 2.25700836e+02]\n",
            "   [2.31995483e+02 2.31995483e+02 2.23995483e+02]]]\n",
            "\n",
            "\n",
            " [[[3.78944511e+01 2.08944511e+01 2.89445114e+00]\n",
            "   [3.60401802e+01 1.70401783e+01 1.69961795e-01]\n",
            "   [3.71527405e+01 1.47936859e+01 0.00000000e+00]\n",
            "   ...\n",
            "   [3.13884373e+01 1.38169641e+01 0.00000000e+00]\n",
            "   [3.20000000e+01 1.30000000e+01 0.00000000e+00]\n",
            "   [3.45402145e+01 1.25402136e+01 6.53762892e-02]]\n",
            "\n",
            "  [[3.67464943e+01 1.86482773e+01 1.19738495e+00]\n",
            "   [3.85044632e+01 1.84062500e+01 1.43845713e+00]\n",
            "   [4.09582291e+01 1.73153706e+01 1.52965569e+00]\n",
            "   ...\n",
            "   [3.17873402e+01 1.39805603e+01 4.31453347e-01]\n",
            "   [3.25098763e+01 1.35098782e+01 0.00000000e+00]\n",
            "   [3.53571777e+01 1.33571777e+01 3.57177734e-01]]\n",
            "\n",
            "  [[3.78909454e+01 1.70605869e+01 6.05865791e-02]\n",
            "   [4.16875000e+01 1.88571434e+01 2.77232218e+00]\n",
            "   [4.36524239e+01 1.78523579e+01 2.78571415e+00]\n",
            "   ...\n",
            "   [3.38970032e+01 1.58970051e+01 1.89700460e+00]\n",
            "   [3.20787621e+01 1.30787611e+01 0.00000000e+00]\n",
            "   [3.44419975e+01 1.24419994e+01 3.02962530e-02]]\n",
            "\n",
            "  ...\n",
            "\n",
            "  [[5.26177216e+01 2.96177197e+01 1.21198364e-01]\n",
            "   [5.59493294e+01 3.09493332e+01 1.57557949e-01]\n",
            "   [5.67372322e+01 2.97372341e+01 1.81797687e-02]\n",
            "   ...\n",
            "   [4.99725266e+01 2.83297329e+01 1.11546910e+00]\n",
            "   [4.35606880e+01 2.35606861e+01 1.96141869e-01]\n",
            "   [5.37446594e+01 3.64901428e+01 8.57498074e+00]]\n",
            "\n",
            "  [[5.40758781e+01 3.09148445e+01 1.26753652e+00]\n",
            "   [5.37528343e+01 2.96224194e+01 1.01976264e+00]\n",
            "   [5.64719429e+01 3.02771149e+01 1.11608028e+00]\n",
            "   ...\n",
            "   [5.22693253e+01 3.09163666e+01 3.60549164e+00]\n",
            "   [4.55670166e+01 2.51161194e+01 0.00000000e+00]\n",
            "   [5.37494316e+01 3.32985344e+01 5.39674044e+00]]\n",
            "\n",
            "  [[5.10280228e+01 2.71456757e+01 1.96086317e-01]\n",
            "   [4.73529549e+01 2.35228977e+01 0.00000000e+00]\n",
            "   [5.36928368e+01 2.78366356e+01 4.05245125e-01]\n",
            "   ...\n",
            "   [4.88570557e+01 2.78570557e+01 4.28527832e-01]\n",
            "   [4.72143250e+01 2.62143250e+01 0.00000000e+00]\n",
            "   [5.49911499e+01 3.15401917e+01 3.35717773e+00]]]], shape=(32, 224, 224, 3), dtype=float32) tf.Tensor(\n",
            "[[0. 1. 0. 0. 0. 0. 0. 0. 0. 0.]\n",
            " [0. 0. 0. 1. 0. 0. 0. 0. 0. 0.]\n",
            " [0. 0. 0. 0. 0. 1. 0. 0. 0. 0.]\n",
            " [0. 0. 0. 1. 0. 0. 0. 0. 0. 0.]\n",
            " [0. 0. 0. 0. 0. 1. 0. 0. 0. 0.]\n",
            " [0. 0. 0. 0. 1. 0. 0. 0. 0. 0.]\n",
            " [0. 0. 0. 0. 0. 1. 0. 0. 0. 0.]\n",
            " [0. 0. 0. 0. 0. 1. 0. 0. 0. 0.]\n",
            " [0. 0. 0. 0. 1. 0. 0. 0. 0. 0.]\n",
            " [0. 0. 0. 0. 0. 0. 0. 1. 0. 0.]\n",
            " [0. 0. 0. 0. 0. 0. 0. 1. 0. 0.]\n",
            " [0. 0. 1. 0. 0. 0. 0. 0. 0. 0.]\n",
            " [0. 0. 0. 0. 0. 0. 1. 0. 0. 0.]\n",
            " [0. 0. 0. 0. 0. 1. 0. 0. 0. 0.]\n",
            " [0. 0. 0. 0. 0. 1. 0. 0. 0. 0.]\n",
            " [0. 0. 0. 1. 0. 0. 0. 0. 0. 0.]\n",
            " [0. 0. 1. 0. 0. 0. 0. 0. 0. 0.]\n",
            " [0. 0. 0. 0. 1. 0. 0. 0. 0. 0.]\n",
            " [0. 1. 0. 0. 0. 0. 0. 0. 0. 0.]\n",
            " [0. 0. 0. 0. 0. 0. 0. 1. 0. 0.]\n",
            " [0. 0. 0. 0. 0. 0. 0. 0. 1. 0.]\n",
            " [0. 0. 0. 0. 0. 0. 0. 1. 0. 0.]\n",
            " [0. 0. 0. 0. 1. 0. 0. 0. 0. 0.]\n",
            " [0. 0. 0. 0. 0. 1. 0. 0. 0. 0.]\n",
            " [0. 0. 0. 0. 0. 0. 0. 1. 0. 0.]\n",
            " [1. 0. 0. 0. 0. 0. 0. 0. 0. 0.]\n",
            " [0. 0. 0. 0. 0. 1. 0. 0. 0. 0.]\n",
            " [0. 0. 0. 0. 0. 0. 0. 0. 0. 1.]\n",
            " [0. 0. 0. 0. 0. 0. 1. 0. 0. 0.]\n",
            " [0. 0. 0. 1. 0. 0. 0. 0. 0. 0.]\n",
            " [1. 0. 0. 0. 0. 0. 0. 0. 0. 0.]\n",
            " [0. 0. 0. 0. 0. 0. 0. 1. 0. 0.]], shape=(32, 10), dtype=float32)\n"
          ],
          "name": "stdout"
        }
      ]
    },
    {
      "cell_type": "markdown",
      "metadata": {
        "id": "05vnoIwGVfwZ"
      },
      "source": [
        "## Model 0: Building a Transfer Learning model (Feature Extraction) using the Keras Functional API\n",
        "\n",
        "The sequential API is straight-forward, it runs our layers in Sequential order.\n",
        "\n",
        "But the functional API gives us more flexibility with our model. \n",
        "https://www.tensorflow.org/guide/keras/functional"
      ]
    },
    {
      "cell_type": "code",
      "metadata": {
        "colab": {
          "base_uri": "https://localhost:8080/"
        },
        "id": "xzcQagkCP2Hl",
        "outputId": "9dc36597-8252-4dc8-fdba-1af43ac443d9"
      },
      "source": [
        "# 1. Create a base model with tf.keras.applications \n",
        "base_model = tf.keras.applications.EfficientNetB0(include_top= False)\n",
        "\n",
        "# 2. Freeze the base_model  (so the underlying pre-trained patterns aren't updated during training)\n",
        "base_model.trainable = False\n",
        "\n",
        "# 3. Create inputs into our model \n",
        "inputs = tf.keras.layers.Input(shape = (224 , 224, 3) , name = 'input_layer')\n",
        "\n",
        "# 4. If you're using a model like ResNet50V2 you will need to normalize the inputs (no need for EfficientNet)\n",
        "# x = tf.keras.experimental.preprocessing.Rescaling(1 / 255.)(inputs)\n",
        "\n",
        "# 5. Pass the inputs to the base model \n",
        "x = base_model(inputs)\n",
        "print(f'Shape after passing inputs through base_model {x.shape}')\n",
        "\n",
        "# 6. Average Pool the outputs of the base model (aggregate all the most important info, reduce the number of computations)\n",
        "x = tf.keras.layers.GlobalAveragePooling2D(name = 'global_average_pooling_layer')(x) # atlast multiplying means passing onto another layer\n",
        "print(f'Shape aftr Global Average Pooling 2D: {x.shape}')\n",
        "\n",
        "# 7. Create the output activation layer\n",
        "outputs = tf.keras.layers.Dense(10 , activation ='softmax' , name ='output_layer')(x)\n",
        "\n",
        "# 8. Combine the inputs with the outputs into a model \n",
        "model_0 = tf.keras.Model(inputs , outputs)\n",
        "\n",
        "# 9. Compile the model \n",
        "model_0.compile(loss = tf.keras.losses.CategoricalCrossentropy(), \n",
        "                optimizer = tf.keras.optimizers.Adam() , \n",
        "                metrics = ['accuracy'])\n",
        "\n",
        "# 10. Fit and save the history \n",
        "history_0 = model_0.fit(train_data_10_percent , \n",
        "                        steps_per_epoch = len(train_data_10_percent) , \n",
        "                        epochs = 5 , \n",
        "                        validation_data = test_data_10_percent , \n",
        "                        validation_steps = int( 0.25 *len(test_data_10_percent)) , \n",
        "                        callbacks = [create_tensorboard_callback('transfer_learning' , \n",
        "                                                                 '10_percent')])"
      ],
      "execution_count": null,
      "outputs": [
        {
          "output_type": "stream",
          "text": [
            "Downloading data from https://storage.googleapis.com/keras-applications/efficientnetb0_notop.h5\n",
            "16711680/16705208 [==============================] - 0s 0us/step\n",
            "Shape after passing inputs through base_model (None, 7, 7, 1280)\n",
            "Shape aftr Global Average Pooling 2D: (None, 1280)\n",
            "Saving TensorBoard log files to: transfer_learning/10_percent/20210324-131007\n",
            "Epoch 1/5\n",
            "24/24 [==============================] - 47s 484ms/step - loss: 2.0979 - accuracy: 0.2859 - val_loss: 1.3321 - val_accuracy: 0.7138\n",
            "Epoch 2/5\n",
            "24/24 [==============================] - 9s 349ms/step - loss: 1.2091 - accuracy: 0.7432 - val_loss: 0.9192 - val_accuracy: 0.8043\n",
            "Epoch 3/5\n",
            "24/24 [==============================] - 9s 345ms/step - loss: 0.8469 - accuracy: 0.8246 - val_loss: 0.7706 - val_accuracy: 0.8257\n",
            "Epoch 4/5\n",
            "24/24 [==============================] - 9s 345ms/step - loss: 0.6817 - accuracy: 0.8389 - val_loss: 0.6469 - val_accuracy: 0.8487\n",
            "Epoch 5/5\n",
            "24/24 [==============================] - 9s 345ms/step - loss: 0.5807 - accuracy: 0.8648 - val_loss: 0.5961 - val_accuracy: 0.8339\n"
          ],
          "name": "stdout"
        }
      ]
    },
    {
      "cell_type": "code",
      "metadata": {
        "colab": {
          "base_uri": "https://localhost:8080/"
        },
        "id": "eqVY1khLTiBk",
        "outputId": "91a566c5-2c3e-4ef6-95c2-48a2a714b6fa"
      },
      "source": [
        "# Evaluate on the full test data \n",
        "model_0.evaluate(test_data_10_percent)"
      ],
      "execution_count": null,
      "outputs": [
        {
          "output_type": "stream",
          "text": [
            "79/79 [==============================] - 15s 188ms/step - loss: 0.6096 - accuracy: 0.8304\n"
          ],
          "name": "stdout"
        },
        {
          "output_type": "execute_result",
          "data": {
            "text/plain": [
              "[0.6095752120018005, 0.8303999900817871]"
            ]
          },
          "metadata": {
            "tags": []
          },
          "execution_count": 12
        }
      ]
    },
    {
      "cell_type": "code",
      "metadata": {
        "colab": {
          "base_uri": "https://localhost:8080/"
        },
        "id": "LfgPFiGaYbpr",
        "outputId": "3372a86c-4b73-4030-ef26-1f0b0c97a85e"
      },
      "source": [
        "# Check the layers in our base model \n",
        "for layer_number , layer in enumerate(base_model.layers):\n",
        "  print(layer_number , layer.name)"
      ],
      "execution_count": null,
      "outputs": [
        {
          "output_type": "stream",
          "text": [
            "0 input_1\n",
            "1 rescaling\n",
            "2 normalization\n",
            "3 stem_conv_pad\n",
            "4 stem_conv\n",
            "5 stem_bn\n",
            "6 stem_activation\n",
            "7 block1a_dwconv\n",
            "8 block1a_bn\n",
            "9 block1a_activation\n",
            "10 block1a_se_squeeze\n",
            "11 block1a_se_reshape\n",
            "12 block1a_se_reduce\n",
            "13 block1a_se_expand\n",
            "14 block1a_se_excite\n",
            "15 block1a_project_conv\n",
            "16 block1a_project_bn\n",
            "17 block2a_expand_conv\n",
            "18 block2a_expand_bn\n",
            "19 block2a_expand_activation\n",
            "20 block2a_dwconv_pad\n",
            "21 block2a_dwconv\n",
            "22 block2a_bn\n",
            "23 block2a_activation\n",
            "24 block2a_se_squeeze\n",
            "25 block2a_se_reshape\n",
            "26 block2a_se_reduce\n",
            "27 block2a_se_expand\n",
            "28 block2a_se_excite\n",
            "29 block2a_project_conv\n",
            "30 block2a_project_bn\n",
            "31 block2b_expand_conv\n",
            "32 block2b_expand_bn\n",
            "33 block2b_expand_activation\n",
            "34 block2b_dwconv\n",
            "35 block2b_bn\n",
            "36 block2b_activation\n",
            "37 block2b_se_squeeze\n",
            "38 block2b_se_reshape\n",
            "39 block2b_se_reduce\n",
            "40 block2b_se_expand\n",
            "41 block2b_se_excite\n",
            "42 block2b_project_conv\n",
            "43 block2b_project_bn\n",
            "44 block2b_drop\n",
            "45 block2b_add\n",
            "46 block3a_expand_conv\n",
            "47 block3a_expand_bn\n",
            "48 block3a_expand_activation\n",
            "49 block3a_dwconv_pad\n",
            "50 block3a_dwconv\n",
            "51 block3a_bn\n",
            "52 block3a_activation\n",
            "53 block3a_se_squeeze\n",
            "54 block3a_se_reshape\n",
            "55 block3a_se_reduce\n",
            "56 block3a_se_expand\n",
            "57 block3a_se_excite\n",
            "58 block3a_project_conv\n",
            "59 block3a_project_bn\n",
            "60 block3b_expand_conv\n",
            "61 block3b_expand_bn\n",
            "62 block3b_expand_activation\n",
            "63 block3b_dwconv\n",
            "64 block3b_bn\n",
            "65 block3b_activation\n",
            "66 block3b_se_squeeze\n",
            "67 block3b_se_reshape\n",
            "68 block3b_se_reduce\n",
            "69 block3b_se_expand\n",
            "70 block3b_se_excite\n",
            "71 block3b_project_conv\n",
            "72 block3b_project_bn\n",
            "73 block3b_drop\n",
            "74 block3b_add\n",
            "75 block4a_expand_conv\n",
            "76 block4a_expand_bn\n",
            "77 block4a_expand_activation\n",
            "78 block4a_dwconv_pad\n",
            "79 block4a_dwconv\n",
            "80 block4a_bn\n",
            "81 block4a_activation\n",
            "82 block4a_se_squeeze\n",
            "83 block4a_se_reshape\n",
            "84 block4a_se_reduce\n",
            "85 block4a_se_expand\n",
            "86 block4a_se_excite\n",
            "87 block4a_project_conv\n",
            "88 block4a_project_bn\n",
            "89 block4b_expand_conv\n",
            "90 block4b_expand_bn\n",
            "91 block4b_expand_activation\n",
            "92 block4b_dwconv\n",
            "93 block4b_bn\n",
            "94 block4b_activation\n",
            "95 block4b_se_squeeze\n",
            "96 block4b_se_reshape\n",
            "97 block4b_se_reduce\n",
            "98 block4b_se_expand\n",
            "99 block4b_se_excite\n",
            "100 block4b_project_conv\n",
            "101 block4b_project_bn\n",
            "102 block4b_drop\n",
            "103 block4b_add\n",
            "104 block4c_expand_conv\n",
            "105 block4c_expand_bn\n",
            "106 block4c_expand_activation\n",
            "107 block4c_dwconv\n",
            "108 block4c_bn\n",
            "109 block4c_activation\n",
            "110 block4c_se_squeeze\n",
            "111 block4c_se_reshape\n",
            "112 block4c_se_reduce\n",
            "113 block4c_se_expand\n",
            "114 block4c_se_excite\n",
            "115 block4c_project_conv\n",
            "116 block4c_project_bn\n",
            "117 block4c_drop\n",
            "118 block4c_add\n",
            "119 block5a_expand_conv\n",
            "120 block5a_expand_bn\n",
            "121 block5a_expand_activation\n",
            "122 block5a_dwconv\n",
            "123 block5a_bn\n",
            "124 block5a_activation\n",
            "125 block5a_se_squeeze\n",
            "126 block5a_se_reshape\n",
            "127 block5a_se_reduce\n",
            "128 block5a_se_expand\n",
            "129 block5a_se_excite\n",
            "130 block5a_project_conv\n",
            "131 block5a_project_bn\n",
            "132 block5b_expand_conv\n",
            "133 block5b_expand_bn\n",
            "134 block5b_expand_activation\n",
            "135 block5b_dwconv\n",
            "136 block5b_bn\n",
            "137 block5b_activation\n",
            "138 block5b_se_squeeze\n",
            "139 block5b_se_reshape\n",
            "140 block5b_se_reduce\n",
            "141 block5b_se_expand\n",
            "142 block5b_se_excite\n",
            "143 block5b_project_conv\n",
            "144 block5b_project_bn\n",
            "145 block5b_drop\n",
            "146 block5b_add\n",
            "147 block5c_expand_conv\n",
            "148 block5c_expand_bn\n",
            "149 block5c_expand_activation\n",
            "150 block5c_dwconv\n",
            "151 block5c_bn\n",
            "152 block5c_activation\n",
            "153 block5c_se_squeeze\n",
            "154 block5c_se_reshape\n",
            "155 block5c_se_reduce\n",
            "156 block5c_se_expand\n",
            "157 block5c_se_excite\n",
            "158 block5c_project_conv\n",
            "159 block5c_project_bn\n",
            "160 block5c_drop\n",
            "161 block5c_add\n",
            "162 block6a_expand_conv\n",
            "163 block6a_expand_bn\n",
            "164 block6a_expand_activation\n",
            "165 block6a_dwconv_pad\n",
            "166 block6a_dwconv\n",
            "167 block6a_bn\n",
            "168 block6a_activation\n",
            "169 block6a_se_squeeze\n",
            "170 block6a_se_reshape\n",
            "171 block6a_se_reduce\n",
            "172 block6a_se_expand\n",
            "173 block6a_se_excite\n",
            "174 block6a_project_conv\n",
            "175 block6a_project_bn\n",
            "176 block6b_expand_conv\n",
            "177 block6b_expand_bn\n",
            "178 block6b_expand_activation\n",
            "179 block6b_dwconv\n",
            "180 block6b_bn\n",
            "181 block6b_activation\n",
            "182 block6b_se_squeeze\n",
            "183 block6b_se_reshape\n",
            "184 block6b_se_reduce\n",
            "185 block6b_se_expand\n",
            "186 block6b_se_excite\n",
            "187 block6b_project_conv\n",
            "188 block6b_project_bn\n",
            "189 block6b_drop\n",
            "190 block6b_add\n",
            "191 block6c_expand_conv\n",
            "192 block6c_expand_bn\n",
            "193 block6c_expand_activation\n",
            "194 block6c_dwconv\n",
            "195 block6c_bn\n",
            "196 block6c_activation\n",
            "197 block6c_se_squeeze\n",
            "198 block6c_se_reshape\n",
            "199 block6c_se_reduce\n",
            "200 block6c_se_expand\n",
            "201 block6c_se_excite\n",
            "202 block6c_project_conv\n",
            "203 block6c_project_bn\n",
            "204 block6c_drop\n",
            "205 block6c_add\n",
            "206 block6d_expand_conv\n",
            "207 block6d_expand_bn\n",
            "208 block6d_expand_activation\n",
            "209 block6d_dwconv\n",
            "210 block6d_bn\n",
            "211 block6d_activation\n",
            "212 block6d_se_squeeze\n",
            "213 block6d_se_reshape\n",
            "214 block6d_se_reduce\n",
            "215 block6d_se_expand\n",
            "216 block6d_se_excite\n",
            "217 block6d_project_conv\n",
            "218 block6d_project_bn\n",
            "219 block6d_drop\n",
            "220 block6d_add\n",
            "221 block7a_expand_conv\n",
            "222 block7a_expand_bn\n",
            "223 block7a_expand_activation\n",
            "224 block7a_dwconv\n",
            "225 block7a_bn\n",
            "226 block7a_activation\n",
            "227 block7a_se_squeeze\n",
            "228 block7a_se_reshape\n",
            "229 block7a_se_reduce\n",
            "230 block7a_se_expand\n",
            "231 block7a_se_excite\n",
            "232 block7a_project_conv\n",
            "233 block7a_project_bn\n",
            "234 top_conv\n",
            "235 top_bn\n",
            "236 top_activation\n"
          ],
          "name": "stdout"
        }
      ]
    },
    {
      "cell_type": "code",
      "metadata": {
        "colab": {
          "base_uri": "https://localhost:8080/"
        },
        "id": "muYObDNdY1Q4",
        "outputId": "a37e0012-845b-4a98-f310-6af149ab04ae"
      },
      "source": [
        "# Summary of the base model \n",
        "base_model.summary()"
      ],
      "execution_count": null,
      "outputs": [
        {
          "output_type": "stream",
          "text": [
            "Model: \"efficientnetb0\"\n",
            "__________________________________________________________________________________________________\n",
            "Layer (type)                    Output Shape         Param #     Connected to                     \n",
            "==================================================================================================\n",
            "input_1 (InputLayer)            [(None, None, None,  0                                            \n",
            "__________________________________________________________________________________________________\n",
            "rescaling (Rescaling)           (None, None, None, 3 0           input_1[0][0]                    \n",
            "__________________________________________________________________________________________________\n",
            "normalization (Normalization)   (None, None, None, 3 7           rescaling[0][0]                  \n",
            "__________________________________________________________________________________________________\n",
            "stem_conv_pad (ZeroPadding2D)   (None, None, None, 3 0           normalization[0][0]              \n",
            "__________________________________________________________________________________________________\n",
            "stem_conv (Conv2D)              (None, None, None, 3 864         stem_conv_pad[0][0]              \n",
            "__________________________________________________________________________________________________\n",
            "stem_bn (BatchNormalization)    (None, None, None, 3 128         stem_conv[0][0]                  \n",
            "__________________________________________________________________________________________________\n",
            "stem_activation (Activation)    (None, None, None, 3 0           stem_bn[0][0]                    \n",
            "__________________________________________________________________________________________________\n",
            "block1a_dwconv (DepthwiseConv2D (None, None, None, 3 288         stem_activation[0][0]            \n",
            "__________________________________________________________________________________________________\n",
            "block1a_bn (BatchNormalization) (None, None, None, 3 128         block1a_dwconv[0][0]             \n",
            "__________________________________________________________________________________________________\n",
            "block1a_activation (Activation) (None, None, None, 3 0           block1a_bn[0][0]                 \n",
            "__________________________________________________________________________________________________\n",
            "block1a_se_squeeze (GlobalAvera (None, 32)           0           block1a_activation[0][0]         \n",
            "__________________________________________________________________________________________________\n",
            "block1a_se_reshape (Reshape)    (None, 1, 1, 32)     0           block1a_se_squeeze[0][0]         \n",
            "__________________________________________________________________________________________________\n",
            "block1a_se_reduce (Conv2D)      (None, 1, 1, 8)      264         block1a_se_reshape[0][0]         \n",
            "__________________________________________________________________________________________________\n",
            "block1a_se_expand (Conv2D)      (None, 1, 1, 32)     288         block1a_se_reduce[0][0]          \n",
            "__________________________________________________________________________________________________\n",
            "block1a_se_excite (Multiply)    (None, None, None, 3 0           block1a_activation[0][0]         \n",
            "                                                                 block1a_se_expand[0][0]          \n",
            "__________________________________________________________________________________________________\n",
            "block1a_project_conv (Conv2D)   (None, None, None, 1 512         block1a_se_excite[0][0]          \n",
            "__________________________________________________________________________________________________\n",
            "block1a_project_bn (BatchNormal (None, None, None, 1 64          block1a_project_conv[0][0]       \n",
            "__________________________________________________________________________________________________\n",
            "block2a_expand_conv (Conv2D)    (None, None, None, 9 1536        block1a_project_bn[0][0]         \n",
            "__________________________________________________________________________________________________\n",
            "block2a_expand_bn (BatchNormali (None, None, None, 9 384         block2a_expand_conv[0][0]        \n",
            "__________________________________________________________________________________________________\n",
            "block2a_expand_activation (Acti (None, None, None, 9 0           block2a_expand_bn[0][0]          \n",
            "__________________________________________________________________________________________________\n",
            "block2a_dwconv_pad (ZeroPadding (None, None, None, 9 0           block2a_expand_activation[0][0]  \n",
            "__________________________________________________________________________________________________\n",
            "block2a_dwconv (DepthwiseConv2D (None, None, None, 9 864         block2a_dwconv_pad[0][0]         \n",
            "__________________________________________________________________________________________________\n",
            "block2a_bn (BatchNormalization) (None, None, None, 9 384         block2a_dwconv[0][0]             \n",
            "__________________________________________________________________________________________________\n",
            "block2a_activation (Activation) (None, None, None, 9 0           block2a_bn[0][0]                 \n",
            "__________________________________________________________________________________________________\n",
            "block2a_se_squeeze (GlobalAvera (None, 96)           0           block2a_activation[0][0]         \n",
            "__________________________________________________________________________________________________\n",
            "block2a_se_reshape (Reshape)    (None, 1, 1, 96)     0           block2a_se_squeeze[0][0]         \n",
            "__________________________________________________________________________________________________\n",
            "block2a_se_reduce (Conv2D)      (None, 1, 1, 4)      388         block2a_se_reshape[0][0]         \n",
            "__________________________________________________________________________________________________\n",
            "block2a_se_expand (Conv2D)      (None, 1, 1, 96)     480         block2a_se_reduce[0][0]          \n",
            "__________________________________________________________________________________________________\n",
            "block2a_se_excite (Multiply)    (None, None, None, 9 0           block2a_activation[0][0]         \n",
            "                                                                 block2a_se_expand[0][0]          \n",
            "__________________________________________________________________________________________________\n",
            "block2a_project_conv (Conv2D)   (None, None, None, 2 2304        block2a_se_excite[0][0]          \n",
            "__________________________________________________________________________________________________\n",
            "block2a_project_bn (BatchNormal (None, None, None, 2 96          block2a_project_conv[0][0]       \n",
            "__________________________________________________________________________________________________\n",
            "block2b_expand_conv (Conv2D)    (None, None, None, 1 3456        block2a_project_bn[0][0]         \n",
            "__________________________________________________________________________________________________\n",
            "block2b_expand_bn (BatchNormali (None, None, None, 1 576         block2b_expand_conv[0][0]        \n",
            "__________________________________________________________________________________________________\n",
            "block2b_expand_activation (Acti (None, None, None, 1 0           block2b_expand_bn[0][0]          \n",
            "__________________________________________________________________________________________________\n",
            "block2b_dwconv (DepthwiseConv2D (None, None, None, 1 1296        block2b_expand_activation[0][0]  \n",
            "__________________________________________________________________________________________________\n",
            "block2b_bn (BatchNormalization) (None, None, None, 1 576         block2b_dwconv[0][0]             \n",
            "__________________________________________________________________________________________________\n",
            "block2b_activation (Activation) (None, None, None, 1 0           block2b_bn[0][0]                 \n",
            "__________________________________________________________________________________________________\n",
            "block2b_se_squeeze (GlobalAvera (None, 144)          0           block2b_activation[0][0]         \n",
            "__________________________________________________________________________________________________\n",
            "block2b_se_reshape (Reshape)    (None, 1, 1, 144)    0           block2b_se_squeeze[0][0]         \n",
            "__________________________________________________________________________________________________\n",
            "block2b_se_reduce (Conv2D)      (None, 1, 1, 6)      870         block2b_se_reshape[0][0]         \n",
            "__________________________________________________________________________________________________\n",
            "block2b_se_expand (Conv2D)      (None, 1, 1, 144)    1008        block2b_se_reduce[0][0]          \n",
            "__________________________________________________________________________________________________\n",
            "block2b_se_excite (Multiply)    (None, None, None, 1 0           block2b_activation[0][0]         \n",
            "                                                                 block2b_se_expand[0][0]          \n",
            "__________________________________________________________________________________________________\n",
            "block2b_project_conv (Conv2D)   (None, None, None, 2 3456        block2b_se_excite[0][0]          \n",
            "__________________________________________________________________________________________________\n",
            "block2b_project_bn (BatchNormal (None, None, None, 2 96          block2b_project_conv[0][0]       \n",
            "__________________________________________________________________________________________________\n",
            "block2b_drop (Dropout)          (None, None, None, 2 0           block2b_project_bn[0][0]         \n",
            "__________________________________________________________________________________________________\n",
            "block2b_add (Add)               (None, None, None, 2 0           block2b_drop[0][0]               \n",
            "                                                                 block2a_project_bn[0][0]         \n",
            "__________________________________________________________________________________________________\n",
            "block3a_expand_conv (Conv2D)    (None, None, None, 1 3456        block2b_add[0][0]                \n",
            "__________________________________________________________________________________________________\n",
            "block3a_expand_bn (BatchNormali (None, None, None, 1 576         block3a_expand_conv[0][0]        \n",
            "__________________________________________________________________________________________________\n",
            "block3a_expand_activation (Acti (None, None, None, 1 0           block3a_expand_bn[0][0]          \n",
            "__________________________________________________________________________________________________\n",
            "block3a_dwconv_pad (ZeroPadding (None, None, None, 1 0           block3a_expand_activation[0][0]  \n",
            "__________________________________________________________________________________________________\n",
            "block3a_dwconv (DepthwiseConv2D (None, None, None, 1 3600        block3a_dwconv_pad[0][0]         \n",
            "__________________________________________________________________________________________________\n",
            "block3a_bn (BatchNormalization) (None, None, None, 1 576         block3a_dwconv[0][0]             \n",
            "__________________________________________________________________________________________________\n",
            "block3a_activation (Activation) (None, None, None, 1 0           block3a_bn[0][0]                 \n",
            "__________________________________________________________________________________________________\n",
            "block3a_se_squeeze (GlobalAvera (None, 144)          0           block3a_activation[0][0]         \n",
            "__________________________________________________________________________________________________\n",
            "block3a_se_reshape (Reshape)    (None, 1, 1, 144)    0           block3a_se_squeeze[0][0]         \n",
            "__________________________________________________________________________________________________\n",
            "block3a_se_reduce (Conv2D)      (None, 1, 1, 6)      870         block3a_se_reshape[0][0]         \n",
            "__________________________________________________________________________________________________\n",
            "block3a_se_expand (Conv2D)      (None, 1, 1, 144)    1008        block3a_se_reduce[0][0]          \n",
            "__________________________________________________________________________________________________\n",
            "block3a_se_excite (Multiply)    (None, None, None, 1 0           block3a_activation[0][0]         \n",
            "                                                                 block3a_se_expand[0][0]          \n",
            "__________________________________________________________________________________________________\n",
            "block3a_project_conv (Conv2D)   (None, None, None, 4 5760        block3a_se_excite[0][0]          \n",
            "__________________________________________________________________________________________________\n",
            "block3a_project_bn (BatchNormal (None, None, None, 4 160         block3a_project_conv[0][0]       \n",
            "__________________________________________________________________________________________________\n",
            "block3b_expand_conv (Conv2D)    (None, None, None, 2 9600        block3a_project_bn[0][0]         \n",
            "__________________________________________________________________________________________________\n",
            "block3b_expand_bn (BatchNormali (None, None, None, 2 960         block3b_expand_conv[0][0]        \n",
            "__________________________________________________________________________________________________\n",
            "block3b_expand_activation (Acti (None, None, None, 2 0           block3b_expand_bn[0][0]          \n",
            "__________________________________________________________________________________________________\n",
            "block3b_dwconv (DepthwiseConv2D (None, None, None, 2 6000        block3b_expand_activation[0][0]  \n",
            "__________________________________________________________________________________________________\n",
            "block3b_bn (BatchNormalization) (None, None, None, 2 960         block3b_dwconv[0][0]             \n",
            "__________________________________________________________________________________________________\n",
            "block3b_activation (Activation) (None, None, None, 2 0           block3b_bn[0][0]                 \n",
            "__________________________________________________________________________________________________\n",
            "block3b_se_squeeze (GlobalAvera (None, 240)          0           block3b_activation[0][0]         \n",
            "__________________________________________________________________________________________________\n",
            "block3b_se_reshape (Reshape)    (None, 1, 1, 240)    0           block3b_se_squeeze[0][0]         \n",
            "__________________________________________________________________________________________________\n",
            "block3b_se_reduce (Conv2D)      (None, 1, 1, 10)     2410        block3b_se_reshape[0][0]         \n",
            "__________________________________________________________________________________________________\n",
            "block3b_se_expand (Conv2D)      (None, 1, 1, 240)    2640        block3b_se_reduce[0][0]          \n",
            "__________________________________________________________________________________________________\n",
            "block3b_se_excite (Multiply)    (None, None, None, 2 0           block3b_activation[0][0]         \n",
            "                                                                 block3b_se_expand[0][0]          \n",
            "__________________________________________________________________________________________________\n",
            "block3b_project_conv (Conv2D)   (None, None, None, 4 9600        block3b_se_excite[0][0]          \n",
            "__________________________________________________________________________________________________\n",
            "block3b_project_bn (BatchNormal (None, None, None, 4 160         block3b_project_conv[0][0]       \n",
            "__________________________________________________________________________________________________\n",
            "block3b_drop (Dropout)          (None, None, None, 4 0           block3b_project_bn[0][0]         \n",
            "__________________________________________________________________________________________________\n",
            "block3b_add (Add)               (None, None, None, 4 0           block3b_drop[0][0]               \n",
            "                                                                 block3a_project_bn[0][0]         \n",
            "__________________________________________________________________________________________________\n",
            "block4a_expand_conv (Conv2D)    (None, None, None, 2 9600        block3b_add[0][0]                \n",
            "__________________________________________________________________________________________________\n",
            "block4a_expand_bn (BatchNormali (None, None, None, 2 960         block4a_expand_conv[0][0]        \n",
            "__________________________________________________________________________________________________\n",
            "block4a_expand_activation (Acti (None, None, None, 2 0           block4a_expand_bn[0][0]          \n",
            "__________________________________________________________________________________________________\n",
            "block4a_dwconv_pad (ZeroPadding (None, None, None, 2 0           block4a_expand_activation[0][0]  \n",
            "__________________________________________________________________________________________________\n",
            "block4a_dwconv (DepthwiseConv2D (None, None, None, 2 2160        block4a_dwconv_pad[0][0]         \n",
            "__________________________________________________________________________________________________\n",
            "block4a_bn (BatchNormalization) (None, None, None, 2 960         block4a_dwconv[0][0]             \n",
            "__________________________________________________________________________________________________\n",
            "block4a_activation (Activation) (None, None, None, 2 0           block4a_bn[0][0]                 \n",
            "__________________________________________________________________________________________________\n",
            "block4a_se_squeeze (GlobalAvera (None, 240)          0           block4a_activation[0][0]         \n",
            "__________________________________________________________________________________________________\n",
            "block4a_se_reshape (Reshape)    (None, 1, 1, 240)    0           block4a_se_squeeze[0][0]         \n",
            "__________________________________________________________________________________________________\n",
            "block4a_se_reduce (Conv2D)      (None, 1, 1, 10)     2410        block4a_se_reshape[0][0]         \n",
            "__________________________________________________________________________________________________\n",
            "block4a_se_expand (Conv2D)      (None, 1, 1, 240)    2640        block4a_se_reduce[0][0]          \n",
            "__________________________________________________________________________________________________\n",
            "block4a_se_excite (Multiply)    (None, None, None, 2 0           block4a_activation[0][0]         \n",
            "                                                                 block4a_se_expand[0][0]          \n",
            "__________________________________________________________________________________________________\n",
            "block4a_project_conv (Conv2D)   (None, None, None, 8 19200       block4a_se_excite[0][0]          \n",
            "__________________________________________________________________________________________________\n",
            "block4a_project_bn (BatchNormal (None, None, None, 8 320         block4a_project_conv[0][0]       \n",
            "__________________________________________________________________________________________________\n",
            "block4b_expand_conv (Conv2D)    (None, None, None, 4 38400       block4a_project_bn[0][0]         \n",
            "__________________________________________________________________________________________________\n",
            "block4b_expand_bn (BatchNormali (None, None, None, 4 1920        block4b_expand_conv[0][0]        \n",
            "__________________________________________________________________________________________________\n",
            "block4b_expand_activation (Acti (None, None, None, 4 0           block4b_expand_bn[0][0]          \n",
            "__________________________________________________________________________________________________\n",
            "block4b_dwconv (DepthwiseConv2D (None, None, None, 4 4320        block4b_expand_activation[0][0]  \n",
            "__________________________________________________________________________________________________\n",
            "block4b_bn (BatchNormalization) (None, None, None, 4 1920        block4b_dwconv[0][0]             \n",
            "__________________________________________________________________________________________________\n",
            "block4b_activation (Activation) (None, None, None, 4 0           block4b_bn[0][0]                 \n",
            "__________________________________________________________________________________________________\n",
            "block4b_se_squeeze (GlobalAvera (None, 480)          0           block4b_activation[0][0]         \n",
            "__________________________________________________________________________________________________\n",
            "block4b_se_reshape (Reshape)    (None, 1, 1, 480)    0           block4b_se_squeeze[0][0]         \n",
            "__________________________________________________________________________________________________\n",
            "block4b_se_reduce (Conv2D)      (None, 1, 1, 20)     9620        block4b_se_reshape[0][0]         \n",
            "__________________________________________________________________________________________________\n",
            "block4b_se_expand (Conv2D)      (None, 1, 1, 480)    10080       block4b_se_reduce[0][0]          \n",
            "__________________________________________________________________________________________________\n",
            "block4b_se_excite (Multiply)    (None, None, None, 4 0           block4b_activation[0][0]         \n",
            "                                                                 block4b_se_expand[0][0]          \n",
            "__________________________________________________________________________________________________\n",
            "block4b_project_conv (Conv2D)   (None, None, None, 8 38400       block4b_se_excite[0][0]          \n",
            "__________________________________________________________________________________________________\n",
            "block4b_project_bn (BatchNormal (None, None, None, 8 320         block4b_project_conv[0][0]       \n",
            "__________________________________________________________________________________________________\n",
            "block4b_drop (Dropout)          (None, None, None, 8 0           block4b_project_bn[0][0]         \n",
            "__________________________________________________________________________________________________\n",
            "block4b_add (Add)               (None, None, None, 8 0           block4b_drop[0][0]               \n",
            "                                                                 block4a_project_bn[0][0]         \n",
            "__________________________________________________________________________________________________\n",
            "block4c_expand_conv (Conv2D)    (None, None, None, 4 38400       block4b_add[0][0]                \n",
            "__________________________________________________________________________________________________\n",
            "block4c_expand_bn (BatchNormali (None, None, None, 4 1920        block4c_expand_conv[0][0]        \n",
            "__________________________________________________________________________________________________\n",
            "block4c_expand_activation (Acti (None, None, None, 4 0           block4c_expand_bn[0][0]          \n",
            "__________________________________________________________________________________________________\n",
            "block4c_dwconv (DepthwiseConv2D (None, None, None, 4 4320        block4c_expand_activation[0][0]  \n",
            "__________________________________________________________________________________________________\n",
            "block4c_bn (BatchNormalization) (None, None, None, 4 1920        block4c_dwconv[0][0]             \n",
            "__________________________________________________________________________________________________\n",
            "block4c_activation (Activation) (None, None, None, 4 0           block4c_bn[0][0]                 \n",
            "__________________________________________________________________________________________________\n",
            "block4c_se_squeeze (GlobalAvera (None, 480)          0           block4c_activation[0][0]         \n",
            "__________________________________________________________________________________________________\n",
            "block4c_se_reshape (Reshape)    (None, 1, 1, 480)    0           block4c_se_squeeze[0][0]         \n",
            "__________________________________________________________________________________________________\n",
            "block4c_se_reduce (Conv2D)      (None, 1, 1, 20)     9620        block4c_se_reshape[0][0]         \n",
            "__________________________________________________________________________________________________\n",
            "block4c_se_expand (Conv2D)      (None, 1, 1, 480)    10080       block4c_se_reduce[0][0]          \n",
            "__________________________________________________________________________________________________\n",
            "block4c_se_excite (Multiply)    (None, None, None, 4 0           block4c_activation[0][0]         \n",
            "                                                                 block4c_se_expand[0][0]          \n",
            "__________________________________________________________________________________________________\n",
            "block4c_project_conv (Conv2D)   (None, None, None, 8 38400       block4c_se_excite[0][0]          \n",
            "__________________________________________________________________________________________________\n",
            "block4c_project_bn (BatchNormal (None, None, None, 8 320         block4c_project_conv[0][0]       \n",
            "__________________________________________________________________________________________________\n",
            "block4c_drop (Dropout)          (None, None, None, 8 0           block4c_project_bn[0][0]         \n",
            "__________________________________________________________________________________________________\n",
            "block4c_add (Add)               (None, None, None, 8 0           block4c_drop[0][0]               \n",
            "                                                                 block4b_add[0][0]                \n",
            "__________________________________________________________________________________________________\n",
            "block5a_expand_conv (Conv2D)    (None, None, None, 4 38400       block4c_add[0][0]                \n",
            "__________________________________________________________________________________________________\n",
            "block5a_expand_bn (BatchNormali (None, None, None, 4 1920        block5a_expand_conv[0][0]        \n",
            "__________________________________________________________________________________________________\n",
            "block5a_expand_activation (Acti (None, None, None, 4 0           block5a_expand_bn[0][0]          \n",
            "__________________________________________________________________________________________________\n",
            "block5a_dwconv (DepthwiseConv2D (None, None, None, 4 12000       block5a_expand_activation[0][0]  \n",
            "__________________________________________________________________________________________________\n",
            "block5a_bn (BatchNormalization) (None, None, None, 4 1920        block5a_dwconv[0][0]             \n",
            "__________________________________________________________________________________________________\n",
            "block5a_activation (Activation) (None, None, None, 4 0           block5a_bn[0][0]                 \n",
            "__________________________________________________________________________________________________\n",
            "block5a_se_squeeze (GlobalAvera (None, 480)          0           block5a_activation[0][0]         \n",
            "__________________________________________________________________________________________________\n",
            "block5a_se_reshape (Reshape)    (None, 1, 1, 480)    0           block5a_se_squeeze[0][0]         \n",
            "__________________________________________________________________________________________________\n",
            "block5a_se_reduce (Conv2D)      (None, 1, 1, 20)     9620        block5a_se_reshape[0][0]         \n",
            "__________________________________________________________________________________________________\n",
            "block5a_se_expand (Conv2D)      (None, 1, 1, 480)    10080       block5a_se_reduce[0][0]          \n",
            "__________________________________________________________________________________________________\n",
            "block5a_se_excite (Multiply)    (None, None, None, 4 0           block5a_activation[0][0]         \n",
            "                                                                 block5a_se_expand[0][0]          \n",
            "__________________________________________________________________________________________________\n",
            "block5a_project_conv (Conv2D)   (None, None, None, 1 53760       block5a_se_excite[0][0]          \n",
            "__________________________________________________________________________________________________\n",
            "block5a_project_bn (BatchNormal (None, None, None, 1 448         block5a_project_conv[0][0]       \n",
            "__________________________________________________________________________________________________\n",
            "block5b_expand_conv (Conv2D)    (None, None, None, 6 75264       block5a_project_bn[0][0]         \n",
            "__________________________________________________________________________________________________\n",
            "block5b_expand_bn (BatchNormali (None, None, None, 6 2688        block5b_expand_conv[0][0]        \n",
            "__________________________________________________________________________________________________\n",
            "block5b_expand_activation (Acti (None, None, None, 6 0           block5b_expand_bn[0][0]          \n",
            "__________________________________________________________________________________________________\n",
            "block5b_dwconv (DepthwiseConv2D (None, None, None, 6 16800       block5b_expand_activation[0][0]  \n",
            "__________________________________________________________________________________________________\n",
            "block5b_bn (BatchNormalization) (None, None, None, 6 2688        block5b_dwconv[0][0]             \n",
            "__________________________________________________________________________________________________\n",
            "block5b_activation (Activation) (None, None, None, 6 0           block5b_bn[0][0]                 \n",
            "__________________________________________________________________________________________________\n",
            "block5b_se_squeeze (GlobalAvera (None, 672)          0           block5b_activation[0][0]         \n",
            "__________________________________________________________________________________________________\n",
            "block5b_se_reshape (Reshape)    (None, 1, 1, 672)    0           block5b_se_squeeze[0][0]         \n",
            "__________________________________________________________________________________________________\n",
            "block5b_se_reduce (Conv2D)      (None, 1, 1, 28)     18844       block5b_se_reshape[0][0]         \n",
            "__________________________________________________________________________________________________\n",
            "block5b_se_expand (Conv2D)      (None, 1, 1, 672)    19488       block5b_se_reduce[0][0]          \n",
            "__________________________________________________________________________________________________\n",
            "block5b_se_excite (Multiply)    (None, None, None, 6 0           block5b_activation[0][0]         \n",
            "                                                                 block5b_se_expand[0][0]          \n",
            "__________________________________________________________________________________________________\n",
            "block5b_project_conv (Conv2D)   (None, None, None, 1 75264       block5b_se_excite[0][0]          \n",
            "__________________________________________________________________________________________________\n",
            "block5b_project_bn (BatchNormal (None, None, None, 1 448         block5b_project_conv[0][0]       \n",
            "__________________________________________________________________________________________________\n",
            "block5b_drop (Dropout)          (None, None, None, 1 0           block5b_project_bn[0][0]         \n",
            "__________________________________________________________________________________________________\n",
            "block5b_add (Add)               (None, None, None, 1 0           block5b_drop[0][0]               \n",
            "                                                                 block5a_project_bn[0][0]         \n",
            "__________________________________________________________________________________________________\n",
            "block5c_expand_conv (Conv2D)    (None, None, None, 6 75264       block5b_add[0][0]                \n",
            "__________________________________________________________________________________________________\n",
            "block5c_expand_bn (BatchNormali (None, None, None, 6 2688        block5c_expand_conv[0][0]        \n",
            "__________________________________________________________________________________________________\n",
            "block5c_expand_activation (Acti (None, None, None, 6 0           block5c_expand_bn[0][0]          \n",
            "__________________________________________________________________________________________________\n",
            "block5c_dwconv (DepthwiseConv2D (None, None, None, 6 16800       block5c_expand_activation[0][0]  \n",
            "__________________________________________________________________________________________________\n",
            "block5c_bn (BatchNormalization) (None, None, None, 6 2688        block5c_dwconv[0][0]             \n",
            "__________________________________________________________________________________________________\n",
            "block5c_activation (Activation) (None, None, None, 6 0           block5c_bn[0][0]                 \n",
            "__________________________________________________________________________________________________\n",
            "block5c_se_squeeze (GlobalAvera (None, 672)          0           block5c_activation[0][0]         \n",
            "__________________________________________________________________________________________________\n",
            "block5c_se_reshape (Reshape)    (None, 1, 1, 672)    0           block5c_se_squeeze[0][0]         \n",
            "__________________________________________________________________________________________________\n",
            "block5c_se_reduce (Conv2D)      (None, 1, 1, 28)     18844       block5c_se_reshape[0][0]         \n",
            "__________________________________________________________________________________________________\n",
            "block5c_se_expand (Conv2D)      (None, 1, 1, 672)    19488       block5c_se_reduce[0][0]          \n",
            "__________________________________________________________________________________________________\n",
            "block5c_se_excite (Multiply)    (None, None, None, 6 0           block5c_activation[0][0]         \n",
            "                                                                 block5c_se_expand[0][0]          \n",
            "__________________________________________________________________________________________________\n",
            "block5c_project_conv (Conv2D)   (None, None, None, 1 75264       block5c_se_excite[0][0]          \n",
            "__________________________________________________________________________________________________\n",
            "block5c_project_bn (BatchNormal (None, None, None, 1 448         block5c_project_conv[0][0]       \n",
            "__________________________________________________________________________________________________\n",
            "block5c_drop (Dropout)          (None, None, None, 1 0           block5c_project_bn[0][0]         \n",
            "__________________________________________________________________________________________________\n",
            "block5c_add (Add)               (None, None, None, 1 0           block5c_drop[0][0]               \n",
            "                                                                 block5b_add[0][0]                \n",
            "__________________________________________________________________________________________________\n",
            "block6a_expand_conv (Conv2D)    (None, None, None, 6 75264       block5c_add[0][0]                \n",
            "__________________________________________________________________________________________________\n",
            "block6a_expand_bn (BatchNormali (None, None, None, 6 2688        block6a_expand_conv[0][0]        \n",
            "__________________________________________________________________________________________________\n",
            "block6a_expand_activation (Acti (None, None, None, 6 0           block6a_expand_bn[0][0]          \n",
            "__________________________________________________________________________________________________\n",
            "block6a_dwconv_pad (ZeroPadding (None, None, None, 6 0           block6a_expand_activation[0][0]  \n",
            "__________________________________________________________________________________________________\n",
            "block6a_dwconv (DepthwiseConv2D (None, None, None, 6 16800       block6a_dwconv_pad[0][0]         \n",
            "__________________________________________________________________________________________________\n",
            "block6a_bn (BatchNormalization) (None, None, None, 6 2688        block6a_dwconv[0][0]             \n",
            "__________________________________________________________________________________________________\n",
            "block6a_activation (Activation) (None, None, None, 6 0           block6a_bn[0][0]                 \n",
            "__________________________________________________________________________________________________\n",
            "block6a_se_squeeze (GlobalAvera (None, 672)          0           block6a_activation[0][0]         \n",
            "__________________________________________________________________________________________________\n",
            "block6a_se_reshape (Reshape)    (None, 1, 1, 672)    0           block6a_se_squeeze[0][0]         \n",
            "__________________________________________________________________________________________________\n",
            "block6a_se_reduce (Conv2D)      (None, 1, 1, 28)     18844       block6a_se_reshape[0][0]         \n",
            "__________________________________________________________________________________________________\n",
            "block6a_se_expand (Conv2D)      (None, 1, 1, 672)    19488       block6a_se_reduce[0][0]          \n",
            "__________________________________________________________________________________________________\n",
            "block6a_se_excite (Multiply)    (None, None, None, 6 0           block6a_activation[0][0]         \n",
            "                                                                 block6a_se_expand[0][0]          \n",
            "__________________________________________________________________________________________________\n",
            "block6a_project_conv (Conv2D)   (None, None, None, 1 129024      block6a_se_excite[0][0]          \n",
            "__________________________________________________________________________________________________\n",
            "block6a_project_bn (BatchNormal (None, None, None, 1 768         block6a_project_conv[0][0]       \n",
            "__________________________________________________________________________________________________\n",
            "block6b_expand_conv (Conv2D)    (None, None, None, 1 221184      block6a_project_bn[0][0]         \n",
            "__________________________________________________________________________________________________\n",
            "block6b_expand_bn (BatchNormali (None, None, None, 1 4608        block6b_expand_conv[0][0]        \n",
            "__________________________________________________________________________________________________\n",
            "block6b_expand_activation (Acti (None, None, None, 1 0           block6b_expand_bn[0][0]          \n",
            "__________________________________________________________________________________________________\n",
            "block6b_dwconv (DepthwiseConv2D (None, None, None, 1 28800       block6b_expand_activation[0][0]  \n",
            "__________________________________________________________________________________________________\n",
            "block6b_bn (BatchNormalization) (None, None, None, 1 4608        block6b_dwconv[0][0]             \n",
            "__________________________________________________________________________________________________\n",
            "block6b_activation (Activation) (None, None, None, 1 0           block6b_bn[0][0]                 \n",
            "__________________________________________________________________________________________________\n",
            "block6b_se_squeeze (GlobalAvera (None, 1152)         0           block6b_activation[0][0]         \n",
            "__________________________________________________________________________________________________\n",
            "block6b_se_reshape (Reshape)    (None, 1, 1, 1152)   0           block6b_se_squeeze[0][0]         \n",
            "__________________________________________________________________________________________________\n",
            "block6b_se_reduce (Conv2D)      (None, 1, 1, 48)     55344       block6b_se_reshape[0][0]         \n",
            "__________________________________________________________________________________________________\n",
            "block6b_se_expand (Conv2D)      (None, 1, 1, 1152)   56448       block6b_se_reduce[0][0]          \n",
            "__________________________________________________________________________________________________\n",
            "block6b_se_excite (Multiply)    (None, None, None, 1 0           block6b_activation[0][0]         \n",
            "                                                                 block6b_se_expand[0][0]          \n",
            "__________________________________________________________________________________________________\n",
            "block6b_project_conv (Conv2D)   (None, None, None, 1 221184      block6b_se_excite[0][0]          \n",
            "__________________________________________________________________________________________________\n",
            "block6b_project_bn (BatchNormal (None, None, None, 1 768         block6b_project_conv[0][0]       \n",
            "__________________________________________________________________________________________________\n",
            "block6b_drop (Dropout)          (None, None, None, 1 0           block6b_project_bn[0][0]         \n",
            "__________________________________________________________________________________________________\n",
            "block6b_add (Add)               (None, None, None, 1 0           block6b_drop[0][0]               \n",
            "                                                                 block6a_project_bn[0][0]         \n",
            "__________________________________________________________________________________________________\n",
            "block6c_expand_conv (Conv2D)    (None, None, None, 1 221184      block6b_add[0][0]                \n",
            "__________________________________________________________________________________________________\n",
            "block6c_expand_bn (BatchNormali (None, None, None, 1 4608        block6c_expand_conv[0][0]        \n",
            "__________________________________________________________________________________________________\n",
            "block6c_expand_activation (Acti (None, None, None, 1 0           block6c_expand_bn[0][0]          \n",
            "__________________________________________________________________________________________________\n",
            "block6c_dwconv (DepthwiseConv2D (None, None, None, 1 28800       block6c_expand_activation[0][0]  \n",
            "__________________________________________________________________________________________________\n",
            "block6c_bn (BatchNormalization) (None, None, None, 1 4608        block6c_dwconv[0][0]             \n",
            "__________________________________________________________________________________________________\n",
            "block6c_activation (Activation) (None, None, None, 1 0           block6c_bn[0][0]                 \n",
            "__________________________________________________________________________________________________\n",
            "block6c_se_squeeze (GlobalAvera (None, 1152)         0           block6c_activation[0][0]         \n",
            "__________________________________________________________________________________________________\n",
            "block6c_se_reshape (Reshape)    (None, 1, 1, 1152)   0           block6c_se_squeeze[0][0]         \n",
            "__________________________________________________________________________________________________\n",
            "block6c_se_reduce (Conv2D)      (None, 1, 1, 48)     55344       block6c_se_reshape[0][0]         \n",
            "__________________________________________________________________________________________________\n",
            "block6c_se_expand (Conv2D)      (None, 1, 1, 1152)   56448       block6c_se_reduce[0][0]          \n",
            "__________________________________________________________________________________________________\n",
            "block6c_se_excite (Multiply)    (None, None, None, 1 0           block6c_activation[0][0]         \n",
            "                                                                 block6c_se_expand[0][0]          \n",
            "__________________________________________________________________________________________________\n",
            "block6c_project_conv (Conv2D)   (None, None, None, 1 221184      block6c_se_excite[0][0]          \n",
            "__________________________________________________________________________________________________\n",
            "block6c_project_bn (BatchNormal (None, None, None, 1 768         block6c_project_conv[0][0]       \n",
            "__________________________________________________________________________________________________\n",
            "block6c_drop (Dropout)          (None, None, None, 1 0           block6c_project_bn[0][0]         \n",
            "__________________________________________________________________________________________________\n",
            "block6c_add (Add)               (None, None, None, 1 0           block6c_drop[0][0]               \n",
            "                                                                 block6b_add[0][0]                \n",
            "__________________________________________________________________________________________________\n",
            "block6d_expand_conv (Conv2D)    (None, None, None, 1 221184      block6c_add[0][0]                \n",
            "__________________________________________________________________________________________________\n",
            "block6d_expand_bn (BatchNormali (None, None, None, 1 4608        block6d_expand_conv[0][0]        \n",
            "__________________________________________________________________________________________________\n",
            "block6d_expand_activation (Acti (None, None, None, 1 0           block6d_expand_bn[0][0]          \n",
            "__________________________________________________________________________________________________\n",
            "block6d_dwconv (DepthwiseConv2D (None, None, None, 1 28800       block6d_expand_activation[0][0]  \n",
            "__________________________________________________________________________________________________\n",
            "block6d_bn (BatchNormalization) (None, None, None, 1 4608        block6d_dwconv[0][0]             \n",
            "__________________________________________________________________________________________________\n",
            "block6d_activation (Activation) (None, None, None, 1 0           block6d_bn[0][0]                 \n",
            "__________________________________________________________________________________________________\n",
            "block6d_se_squeeze (GlobalAvera (None, 1152)         0           block6d_activation[0][0]         \n",
            "__________________________________________________________________________________________________\n",
            "block6d_se_reshape (Reshape)    (None, 1, 1, 1152)   0           block6d_se_squeeze[0][0]         \n",
            "__________________________________________________________________________________________________\n",
            "block6d_se_reduce (Conv2D)      (None, 1, 1, 48)     55344       block6d_se_reshape[0][0]         \n",
            "__________________________________________________________________________________________________\n",
            "block6d_se_expand (Conv2D)      (None, 1, 1, 1152)   56448       block6d_se_reduce[0][0]          \n",
            "__________________________________________________________________________________________________\n",
            "block6d_se_excite (Multiply)    (None, None, None, 1 0           block6d_activation[0][0]         \n",
            "                                                                 block6d_se_expand[0][0]          \n",
            "__________________________________________________________________________________________________\n",
            "block6d_project_conv (Conv2D)   (None, None, None, 1 221184      block6d_se_excite[0][0]          \n",
            "__________________________________________________________________________________________________\n",
            "block6d_project_bn (BatchNormal (None, None, None, 1 768         block6d_project_conv[0][0]       \n",
            "__________________________________________________________________________________________________\n",
            "block6d_drop (Dropout)          (None, None, None, 1 0           block6d_project_bn[0][0]         \n",
            "__________________________________________________________________________________________________\n",
            "block6d_add (Add)               (None, None, None, 1 0           block6d_drop[0][0]               \n",
            "                                                                 block6c_add[0][0]                \n",
            "__________________________________________________________________________________________________\n",
            "block7a_expand_conv (Conv2D)    (None, None, None, 1 221184      block6d_add[0][0]                \n",
            "__________________________________________________________________________________________________\n",
            "block7a_expand_bn (BatchNormali (None, None, None, 1 4608        block7a_expand_conv[0][0]        \n",
            "__________________________________________________________________________________________________\n",
            "block7a_expand_activation (Acti (None, None, None, 1 0           block7a_expand_bn[0][0]          \n",
            "__________________________________________________________________________________________________\n",
            "block7a_dwconv (DepthwiseConv2D (None, None, None, 1 10368       block7a_expand_activation[0][0]  \n",
            "__________________________________________________________________________________________________\n",
            "block7a_bn (BatchNormalization) (None, None, None, 1 4608        block7a_dwconv[0][0]             \n",
            "__________________________________________________________________________________________________\n",
            "block7a_activation (Activation) (None, None, None, 1 0           block7a_bn[0][0]                 \n",
            "__________________________________________________________________________________________________\n",
            "block7a_se_squeeze (GlobalAvera (None, 1152)         0           block7a_activation[0][0]         \n",
            "__________________________________________________________________________________________________\n",
            "block7a_se_reshape (Reshape)    (None, 1, 1, 1152)   0           block7a_se_squeeze[0][0]         \n",
            "__________________________________________________________________________________________________\n",
            "block7a_se_reduce (Conv2D)      (None, 1, 1, 48)     55344       block7a_se_reshape[0][0]         \n",
            "__________________________________________________________________________________________________\n",
            "block7a_se_expand (Conv2D)      (None, 1, 1, 1152)   56448       block7a_se_reduce[0][0]          \n",
            "__________________________________________________________________________________________________\n",
            "block7a_se_excite (Multiply)    (None, None, None, 1 0           block7a_activation[0][0]         \n",
            "                                                                 block7a_se_expand[0][0]          \n",
            "__________________________________________________________________________________________________\n",
            "block7a_project_conv (Conv2D)   (None, None, None, 3 368640      block7a_se_excite[0][0]          \n",
            "__________________________________________________________________________________________________\n",
            "block7a_project_bn (BatchNormal (None, None, None, 3 1280        block7a_project_conv[0][0]       \n",
            "__________________________________________________________________________________________________\n",
            "top_conv (Conv2D)               (None, None, None, 1 409600      block7a_project_bn[0][0]         \n",
            "__________________________________________________________________________________________________\n",
            "top_bn (BatchNormalization)     (None, None, None, 1 5120        top_conv[0][0]                   \n",
            "__________________________________________________________________________________________________\n",
            "top_activation (Activation)     (None, None, None, 1 0           top_bn[0][0]                     \n",
            "==================================================================================================\n",
            "Total params: 4,049,571\n",
            "Trainable params: 0\n",
            "Non-trainable params: 4,049,571\n",
            "__________________________________________________________________________________________________\n"
          ],
          "name": "stdout"
        }
      ]
    },
    {
      "cell_type": "code",
      "metadata": {
        "colab": {
          "base_uri": "https://localhost:8080/"
        },
        "id": "niXPoOiRZNwY",
        "outputId": "da4a3aca-c6da-470d-ee03-bcbb18f25098"
      },
      "source": [
        "# Summary of the model_0 \n",
        "model_0.summary()"
      ],
      "execution_count": null,
      "outputs": [
        {
          "output_type": "stream",
          "text": [
            "Model: \"model\"\n",
            "_________________________________________________________________\n",
            "Layer (type)                 Output Shape              Param #   \n",
            "=================================================================\n",
            "input_layer (InputLayer)     [(None, 224, 224, 3)]     0         \n",
            "_________________________________________________________________\n",
            "efficientnetb0 (Functional)  (None, None, None, 1280)  4049571   \n",
            "_________________________________________________________________\n",
            "global_average_pooling_layer (None, 1280)              0         \n",
            "_________________________________________________________________\n",
            "output_layer (Dense)         (None, 10)                12810     \n",
            "=================================================================\n",
            "Total params: 4,062,381\n",
            "Trainable params: 12,810\n",
            "Non-trainable params: 4,049,571\n",
            "_________________________________________________________________\n"
          ],
          "name": "stdout"
        }
      ]
    },
    {
      "cell_type": "code",
      "metadata": {
        "id": "TmQM1JwsZRwt",
        "colab": {
          "base_uri": "https://localhost:8080/",
          "height": 573
        },
        "outputId": "5564b433-f94d-4ea9-f474-0cdfe7700934"
      },
      "source": [
        "# Check our our model's training curves \n",
        "plot_loss_curves(history_0)"
      ],
      "execution_count": null,
      "outputs": [
        {
          "output_type": "display_data",
          "data": {
            "image/png": "[encoded data removed]",
            "text/plain": [
              "<Figure size 432x288 with 1 Axes>"
            ]
          },
          "metadata": {
            "tags": [],
            "needs_background": "light"
          }
        },
        {
          "output_type": "display_data",
          "data": {
            "image/png": "[encoded data removed]",
            "text/plain": [
              "<Figure size 432x288 with 1 Axes>"
            ]
          },
          "metadata": {
            "tags": [],
            "needs_background": "light"
          }
        }
      ]
    },
    {
      "cell_type": "markdown",
      "metadata": {
        "id": "gBSFoc0GUSHd"
      },
      "source": [
        "## Getting a feature vector from the trained model \n",
        "\n",
        "Let's demonstrate the Global Average Pooling 2D layer....\n",
        "\n",
        "We have a tensor after our model goes through `base_model` of shape (None , 7 , 7 , 1280)....\n",
        "\n",
        "But when it passes through GlobalAveragePooling2D layer it turns into (None , 1280). \n",
        "\n",
        "Let's use a similar shape tensor of (1,4,4,3) and then pass it to GlobalAveragePooling2D. "
      ]
    },
    {
      "cell_type": "code",
      "metadata": {
        "colab": {
          "base_uri": "https://localhost:8080/"
        },
        "id": "BU8vBohpUwkA",
        "outputId": "adb45574-7dc5-4377-e000-5bd1da55cd07"
      },
      "source": [
        "# Define the input shape \n",
        "input_shape = (1 , 4, 4, 3)\n",
        "\n",
        "# Create a random tensor \n",
        "tf.random.set_seed(42)\n",
        "input_tensor = tf.random.normal(input_shape)\n",
        "print(f'Random input tensor:\\n {input_tensor}\\n')\n",
        "\n",
        "# Pass the random tensor to a GlobalAveragePool2d Layer\n",
        "global_average_pooled_tensor = tf.keras.layers.GlobalAveragePooling2D()(input_tensor) # Same like using the functional api\n",
        "print(f'2D Global average pooled random tensor:\\n {global_average_pooled_tensor} ')"
      ],
      "execution_count": null,
      "outputs": [
        {
          "output_type": "stream",
          "text": [
            "Random input tensor:\n",
            " [[[[ 0.3274685  -0.8426258   0.3194337 ]\n",
            "   [-1.4075519  -2.3880599  -1.0392479 ]\n",
            "   [-0.5573232   0.539707    1.6994323 ]\n",
            "   [ 0.28893656 -1.5066116  -0.2645474 ]]\n",
            "\n",
            "  [[-0.59722406 -1.9171132  -0.62044144]\n",
            "   [ 0.8504023  -0.40604794 -3.0258412 ]\n",
            "   [ 0.9058464   0.29855987 -0.22561555]\n",
            "   [-0.7616443  -1.8917141  -0.93847126]]\n",
            "\n",
            "  [[ 0.77852213 -0.47338897  0.97772694]\n",
            "   [ 0.24694404  0.20573747 -0.5256233 ]\n",
            "   [ 0.32410017  0.02545409 -0.10638497]\n",
            "   [-0.6369475   1.1603122   0.2507359 ]]\n",
            "\n",
            "  [[-0.41728503  0.4012578  -1.4145443 ]\n",
            "   [-0.5931857  -1.6617213   0.33567193]\n",
            "   [ 0.10815629  0.23479682 -0.56668764]\n",
            "   [-0.35819843  0.88698614  0.52744764]]]]\n",
            "\n",
            "2D Global average pooled random tensor:\n",
            " [[-0.09368646 -0.45840448 -0.2885598 ]] \n"
          ],
          "name": "stdout"
        }
      ]
    },
    {
      "cell_type": "code",
      "metadata": {
        "colab": {
          "base_uri": "https://localhost:8080/"
        },
        "id": "n4pY1dWSX90T",
        "outputId": "138f49fe-98b4-4c36-f991-f37f3ef89635"
      },
      "source": [
        "# Check the shape of different tensors \n",
        "print(f'Shape of the input_tensor: {input_tensor.shape}')\n",
        "print(f'Shape of the GlobalAveragePooling2D layer: {global_average_pooled_tensor.shape}')"
      ],
      "execution_count": null,
      "outputs": [
        {
          "output_type": "stream",
          "text": [
            "Shape of the input_tensor: (1, 4, 4, 3)\n",
            "Shape of the GlobalAveragePooling2D layer: (1, 3)\n"
          ],
          "name": "stdout"
        }
      ]
    },
    {
      "cell_type": "code",
      "metadata": {
        "colab": {
          "base_uri": "https://localhost:8080/"
        },
        "id": "8UKyPLRuaQpZ",
        "outputId": "6fbebe64-9af3-4e43-b8a8-c1ffb03ed866"
      },
      "source": [
        "# Lets replicate the GlobalAveragePool2D layer\n",
        "tf.reduce_mean(input_tensor , axis = [1 , 2]) # Take mean across this axis (1, 2) "
      ],
      "execution_count": null,
      "outputs": [
        {
          "output_type": "execute_result",
          "data": {
            "text/plain": [
              "<tf.Tensor: shape=(1, 3), dtype=float32, numpy=array([[-0.09368646, -0.45840448, -0.2885598 ]], dtype=float32)>"
            ]
          },
          "metadata": {
            "tags": []
          },
          "execution_count": 19
        }
      ]
    },
    {
      "cell_type": "markdown",
      "metadata": {
        "id": "fwYVJEGfbWNS"
      },
      "source": [
        "Do the same thing above but with `GlobalMaxPool2D`"
      ]
    },
    {
      "cell_type": "code",
      "metadata": {
        "colab": {
          "base_uri": "https://localhost:8080/"
        },
        "id": "wOupIyUhbz6L",
        "outputId": "acb6ccb1-8e69-4857-a324-dcc77e9887f2"
      },
      "source": [
        "# Trying the same with GlobalMaxPool2d \n",
        "input_shape = (1 , 4, 4 , 3)\n",
        "\n",
        "# Create the random tensor \n",
        "tf.random.set_seed(42)\n",
        "input_tensor = tf.random.normal(input_shape)\n",
        "print(f'Random input tensors\"\\n {input_tensor}\\n')\n",
        "\n",
        "# Pass the random tensor to a GlobalMaxPool2D\n",
        "global_max_pooled_tensor = tf.keras.layers.GlobalMaxPool2D()(input_tensor)\n",
        "print(f'2D Global Max Pooled random tensor:\\n {global_max_pooled_tensor}')"
      ],
      "execution_count": null,
      "outputs": [
        {
          "output_type": "stream",
          "text": [
            "Random input tensors\"\n",
            " [[[[ 0.3274685  -0.8426258   0.3194337 ]\n",
            "   [-1.4075519  -2.3880599  -1.0392479 ]\n",
            "   [-0.5573232   0.539707    1.6994323 ]\n",
            "   [ 0.28893656 -1.5066116  -0.2645474 ]]\n",
            "\n",
            "  [[-0.59722406 -1.9171132  -0.62044144]\n",
            "   [ 0.8504023  -0.40604794 -3.0258412 ]\n",
            "   [ 0.9058464   0.29855987 -0.22561555]\n",
            "   [-0.7616443  -1.8917141  -0.93847126]]\n",
            "\n",
            "  [[ 0.77852213 -0.47338897  0.97772694]\n",
            "   [ 0.24694404  0.20573747 -0.5256233 ]\n",
            "   [ 0.32410017  0.02545409 -0.10638497]\n",
            "   [-0.6369475   1.1603122   0.2507359 ]]\n",
            "\n",
            "  [[-0.41728503  0.4012578  -1.4145443 ]\n",
            "   [-0.5931857  -1.6617213   0.33567193]\n",
            "   [ 0.10815629  0.23479682 -0.56668764]\n",
            "   [-0.35819843  0.88698614  0.52744764]]]]\n",
            "\n",
            "2D Global Max Pooled random tensor:\n",
            " [[0.9058464 1.1603122 1.6994323]]\n"
          ],
          "name": "stdout"
        }
      ]
    },
    {
      "cell_type": "code",
      "metadata": {
        "colab": {
          "base_uri": "https://localhost:8080/"
        },
        "id": "LUzZE0l8QGVW",
        "outputId": "ecf49c90-b3dc-41d7-cf08-a01d12c14d43"
      },
      "source": [
        "# Replicating the above \n",
        "tf.reduce_max(input_tensor , axis = [1 , 2]) # Take mean across this axis (1, 2) "
      ],
      "execution_count": null,
      "outputs": [
        {
          "output_type": "execute_result",
          "data": {
            "text/plain": [
              "<tf.Tensor: shape=(1, 3), dtype=float32, numpy=array([[0.9058464, 1.1603122, 1.6994323]], dtype=float32)>"
            ]
          },
          "metadata": {
            "tags": []
          },
          "execution_count": 21
        }
      ]
    },
    {
      "cell_type": "markdown",
      "metadata": {
        "id": "OnF0xfPfQKpV"
      },
      "source": [
        "**Dan Note:** One of the reasons feature extraction transfer learning is named how it is is because what often happens is a pretrained model outputs a feature vector (a long tensor of numbers, in our case, this is the output of the tf.keras.layers.GlobalAveragePooling2D() layer) which can then be used to extract patterns out of.\n",
        "\n"
      ]
    },
    {
      "cell_type": "markdown",
      "metadata": {
        "id": "tf1GmokzQrhp"
      },
      "source": [
        "# Running a series of transfer learning experiments\n",
        "\n",
        "We've seen the incredible results transfer learning can get with the 10% of the training data, but how does it go with 1% of the training data... how about we setup a bunch of experiments to find out:\n",
        "\n",
        "1. `model_1` - use feature extraction transfer learning with 1% of the training data with data augmentation. \n",
        "2. `model_2` - use feature extraction transfer learning with 10% of the training data with data augmentation. \n",
        "3. `model_3` - use fine tuning transfer learning on 10% of the training data with data augmentation.\n",
        "4. `model_4` - use fine-tuning transfer learning on 100% of the training data with data augmentation. \n",
        "\n",
        "🔑**Dan Note:** throughout all experiments the same test dataset will be used to evaluate our model... this ensures consistency across evaluation metrics"
      ]
    },
    {
      "cell_type": "markdown",
      "metadata": {
        "id": "danWg_ZhdhEw"
      },
      "source": [
        "### Getting and pre-processing data from model_1"
      ]
    },
    {
      "cell_type": "code",
      "metadata": {
        "colab": {
          "base_uri": "https://localhost:8080/"
        },
        "id": "VwVnE5JHcUgk",
        "outputId": "c074bdb1-25f9-4bf6-fc3b-d25816dc7752"
      },
      "source": [
        "# Download and unzip the data (preprocessed from food 101)\n",
        "!wget https://storage.googleapis.com/ztm_tf_course/food_vision/10_food_classes_1_percent.zip\n",
        "unzip_data('10_food_classes_1_percent.zip')"
      ],
      "execution_count": null,
      "outputs": [
        {
          "output_type": "stream",
          "text": [
            "--2021-03-24 13:11:46--  https://storage.googleapis.com/ztm_tf_course/food_vision/10_food_classes_1_percent.zip\n",
            "Resolving storage.googleapis.com (storage.googleapis.com)... 74.125.203.128, 64.233.189.128, 108.177.97.128, ...\n",
            "Connecting to storage.googleapis.com (storage.googleapis.com)|74.125.203.128|:443... connected.\n",
            "HTTP request sent, awaiting response... 200 OK\n",
            "Length: 133612354 (127M) [application/zip]\n",
            "Saving to: ‘10_food_classes_1_percent.zip’\n",
            "\n",
            "10_food_classes_1_p 100%[===================>] 127.42M  85.8MB/s    in 1.5s    \n",
            "\n",
            "2021-03-24 13:11:48 (85.8 MB/s) - ‘10_food_classes_1_percent.zip’ saved [133612354/133612354]\n",
            "\n"
          ],
          "name": "stdout"
        }
      ]
    },
    {
      "cell_type": "code",
      "metadata": {
        "id": "hgNQWFq4c6Nw"
      },
      "source": [
        "# Creating training and test dir \n",
        "train_dir_1_percent = '10_food_classes_1_percent/train'\n",
        "test_dir = '10_food_classes_1_percent/test'"
      ],
      "execution_count": null,
      "outputs": []
    },
    {
      "cell_type": "code",
      "metadata": {
        "colab": {
          "base_uri": "https://localhost:8080/"
        },
        "id": "Wu7xk2VldJnV",
        "outputId": "0ff1b78d-5484-4b83-9783-ab8805891c30"
      },
      "source": [
        "# How many images we're working with\n",
        "walk_through_dir('10_food_classes_1_percent')"
      ],
      "execution_count": null,
      "outputs": [
        {
          "output_type": "stream",
          "text": [
            "There are 2 directories and 0 images in '10_food_classes_1_percent'.\n",
            "There are 10 directories and 0 images in '10_food_classes_1_percent/train'.\n",
            "There are 0 directories and 7 images in '10_food_classes_1_percent/train/grilled_salmon'.\n",
            "There are 0 directories and 7 images in '10_food_classes_1_percent/train/ice_cream'.\n",
            "There are 0 directories and 7 images in '10_food_classes_1_percent/train/fried_rice'.\n",
            "There are 0 directories and 7 images in '10_food_classes_1_percent/train/chicken_curry'.\n",
            "There are 0 directories and 7 images in '10_food_classes_1_percent/train/sushi'.\n",
            "There are 0 directories and 7 images in '10_food_classes_1_percent/train/chicken_wings'.\n",
            "There are 0 directories and 7 images in '10_food_classes_1_percent/train/pizza'.\n",
            "There are 0 directories and 7 images in '10_food_classes_1_percent/train/ramen'.\n",
            "There are 0 directories and 7 images in '10_food_classes_1_percent/train/hamburger'.\n",
            "There are 0 directories and 7 images in '10_food_classes_1_percent/train/steak'.\n",
            "There are 10 directories and 0 images in '10_food_classes_1_percent/test'.\n",
            "There are 0 directories and 250 images in '10_food_classes_1_percent/test/grilled_salmon'.\n",
            "There are 0 directories and 250 images in '10_food_classes_1_percent/test/ice_cream'.\n",
            "There are 0 directories and 250 images in '10_food_classes_1_percent/test/fried_rice'.\n",
            "There are 0 directories and 250 images in '10_food_classes_1_percent/test/chicken_curry'.\n",
            "There are 0 directories and 250 images in '10_food_classes_1_percent/test/sushi'.\n",
            "There are 0 directories and 250 images in '10_food_classes_1_percent/test/chicken_wings'.\n",
            "There are 0 directories and 250 images in '10_food_classes_1_percent/test/pizza'.\n",
            "There are 0 directories and 250 images in '10_food_classes_1_percent/test/ramen'.\n",
            "There are 0 directories and 250 images in '10_food_classes_1_percent/test/hamburger'.\n",
            "There are 0 directories and 250 images in '10_food_classes_1_percent/test/steak'.\n"
          ],
          "name": "stdout"
        }
      ]
    },
    {
      "cell_type": "code",
      "metadata": {
        "colab": {
          "base_uri": "https://localhost:8080/"
        },
        "id": "h1nAa4WsdRps",
        "outputId": "a401a459-77d8-4e7e-de76-9e967a1980e8"
      },
      "source": [
        "# Setup dataloaders\n",
        "IMG_SIZE = (224 , 224)\n",
        "\n",
        "train_data_1_percent = tf.keras.preprocessing.image_dataset_from_directory(directory= train_dir_1_percent ,\n",
        "                                                                           label_mode = 'categorical' , \n",
        "                                                                           image_size = IMG_SIZE , \n",
        "                                                                           batch_size = BATCH_SIZE , \n",
        "                                                                           shuffle = True)\n",
        "\n",
        "test_data = tf.keras.preprocessing.image_dataset_from_directory(directory= test_dir , \n",
        "                                                                label_mode = 'categorical' , \n",
        "                                                                image_size = IMG_SIZE , \n",
        "                                                                batch_size = BATCH_SIZE)"
      ],
      "execution_count": null,
      "outputs": [
        {
          "output_type": "stream",
          "text": [
            "Found 70 files belonging to 10 classes.\n",
            "Found 2500 files belonging to 10 classes.\n"
          ],
          "name": "stdout"
        }
      ]
    },
    {
      "cell_type": "code",
      "metadata": {
        "colab": {
          "base_uri": "https://localhost:8080/"
        },
        "id": "Mjl5BTixeUkP",
        "outputId": "806feec3-a11e-4a4c-bc39-0fc1dc3aca04"
      },
      "source": [
        "len(train_data_1_percent) , len(test_dir)"
      ],
      "execution_count": null,
      "outputs": [
        {
          "output_type": "execute_result",
          "data": {
            "text/plain": [
              "(3, 30)"
            ]
          },
          "metadata": {
            "tags": []
          },
          "execution_count": 26
        }
      ]
    },
    {
      "cell_type": "markdown",
      "metadata": {
        "id": "537WQagceeDI"
      },
      "source": [
        "We are going to use Data Augmentation as a layer in our model this time, rather running through the ImageDataGenerators."
      ]
    },
    {
      "cell_type": "markdown",
      "metadata": {
        "id": "6pOgcbDzemU7"
      },
      "source": [
        "## Adding Data Augmentation right into the model\n",
        "\n",
        "To add data augmentation right into our models, we can use the layers inside,\n",
        "\n",
        "* `tf.keras.layers.experimental.preprocessing()`\n",
        "\n",
        "We can see the benefit of doing this in the TensorFlow Data Augmentation documentation: https://www.tensorflow.org/tutorials/images/data_augmentation#option_1_make_the_preprocessing_layers_part_of_your_model\n",
        "\n",
        "Off the top of our heads, after reading the docs, the benefits of using data augmentation inside the model are: \n",
        "* Pre-processing of images (augmenting them) happens on the GPU (much faster) rather than the CPU. \n",
        "* Image data augmentation only happens during the training, so we can still export the same model and use it else where. \n"
      ]
    },
    {
      "cell_type": "code",
      "metadata": {
        "id": "5n0CJc_ofzQ4"
      },
      "source": [
        "# Import everything back again \n",
        "import tensorflow as tf\n",
        "from tensorflow import keras\n",
        "from tensorflow.keras.layers.experimental import preprocessing \n",
        "\n",
        "# Create data augmentation with horizantal flipping, rotations , zoom etc...\n",
        "data_augmentation = keras.Sequential([\n",
        "  preprocessing.RandomFlip('horizontal'), \n",
        "  preprocessing.RandomZoom(0.2), \n",
        "  preprocessing.RandomRotation(0.2),\n",
        "  preprocessing.RandomHeight(0.2) , \n",
        "  preprocessing.RandomWidth(0.2) , \n",
        "  # preprocessing.Rescale(1/255.) # Keep for models like Resnet50V2\n",
        "] , name = 'data_augmentation')"
      ],
      "execution_count": null,
      "outputs": []
    },
    {
      "cell_type": "markdown",
      "metadata": {
        "id": "0hHBDcAif_C5"
      },
      "source": [
        "### Visualize our data augmentation layers and see what's happening with our data."
      ]
    },
    {
      "cell_type": "code",
      "metadata": {
        "colab": {
          "base_uri": "https://localhost:8080/",
          "height": 528
        },
        "id": "VwafXKPVh9zx",
        "outputId": "ea0d6f2d-f052-4a70-95f3-a4777f0b2c91"
      },
      "source": [
        "# View a random image and compare it to it's augmented version\n",
        "import matplotlib.pyplot as plt\n",
        "import matplotlib.image as mpimg\n",
        "import os \n",
        "import random \n",
        "\n",
        "target_class = random.choice(train_data_1_percent.class_names)\n",
        "target_dir = '10_food_classes_1_percent/train/' + target_class\n",
        "\n",
        "# Pick a random image \n",
        "random_image = random.choice(os.listdir(target_dir))\n",
        "# the whole path \n",
        "random_image_path = target_dir + '/' + random_image\n",
        "\n",
        "# Visualize this , read in the random image \n",
        "img = mpimg.imread(random_image_path)\n",
        "plt.title(f'Original random image from class: {target_class}')\n",
        "plt.axis(False)\n",
        "plt.imshow(img)\n",
        "\n",
        "\n",
        "# Now plot the augmented version of the image \n",
        "augmented_img = data_augmentation(tf.expand_dims(img , axis = 0)) # Adding a batch dimension\n",
        "plt.figure()\n",
        "plt.imshow(tf.squeeze(augmented_img)/255.) # normalizing because it's not in the right format for matplotlib\n",
        "plt.axis(False)\n",
        "plt.title('This is the Augmented version of the random image of the class: {target_class}')"
      ],
      "execution_count": null,
      "outputs": [
        {
          "output_type": "execute_result",
          "data": {
            "text/plain": [
              "Text(0.5, 1.0, 'This is the Augmented version of the random image of the class: {target_class}')"
            ]
          },
          "metadata": {
            "tags": []
          },
          "execution_count": 28
        },
        {
          "output_type": "display_data",
          "data": {
            "image/png": "[encoded data removed]",
            "text/plain": [
              "<Figure size 432x288 with 1 Axes>"
            ]
          },
          "metadata": {
            "tags": [],
            "needs_background": "light"
          }
        },
        {
          "output_type": "display_data",
          "data": {
            "image/png": "[encoded data removed]",
            "text/plain": [
              "<Figure size 432x288 with 1 Axes>"
            ]
          },
          "metadata": {
            "tags": [],
            "needs_background": "light"
          }
        }
      ]
    },
    {
      "cell_type": "code",
      "metadata": {
        "colab": {
          "base_uri": "https://localhost:8080/"
        },
        "id": "J2HlmSLitAdu",
        "outputId": "60c62a69-ddfa-43a2-a17e-9e618b50e23a"
      },
      "source": [
        "# Normalize \n",
        "(tf.expand_dims(img , axis = 0)).shape"
      ],
      "execution_count": null,
      "outputs": [
        {
          "output_type": "execute_result",
          "data": {
            "text/plain": [
              "TensorShape([1, 512, 384, 3])"
            ]
          },
          "metadata": {
            "tags": []
          },
          "execution_count": 29
        }
      ]
    },
    {
      "cell_type": "markdown",
      "metadata": {
        "id": "SdNsp8m1tTn0"
      },
      "source": [
        "## Model 1: Feature Extraction transfer learning on 1% of the data with data augmentation."
      ]
    },
    {
      "cell_type": "code",
      "metadata": {
        "id": "e1k-_Yr-zz5m"
      },
      "source": [
        "# Setup input and output shape, base model, freeze the base model layers\n",
        "input_shape = (224 , 224 , 3)\n",
        "base_model  = tf.keras.applications.EfficientNetB0(include_top= False)\n",
        "base_model.trainable = False\n",
        "\n",
        "# Create the input layer\n",
        "inputs = tf.keras.layers.Input(shape= input_shape , name = 'input_layer')\n",
        "\n",
        "# Add in data augmentation Sequential as a layer\n",
        "x = data_augmentation(inputs)\n",
        "\n",
        "# Give base model the inputs after they have been augmented (Dont train it)\n",
        "x = base_model(x , training = False)\n",
        "\n",
        "# Pool the output features of the base model (condense into feature vector)\n",
        "x = tf.keras.layers.GlobalAveragePooling2D(name = 'pooling_layer')(x)\n",
        "\n",
        "# Put a dense layer on as the output \n",
        "outputs = tf.keras.layers.Dense(10 , activation = 'softmax' , name ='output_layer')(x)\n",
        "\n",
        "# Make a model using the inputs and outputs \n",
        "model_1 = keras.Model(inputs , outputs)\n"
      ],
      "execution_count": null,
      "outputs": []
    },
    {
      "cell_type": "code",
      "metadata": {
        "id": "KFinywdv4O-0"
      },
      "source": [
        "# Compile the model \n",
        "model_1.compile(loss = tf.keras.losses.CategoricalCrossentropy(), \n",
        "                optimizer = tf.keras.optimizers.Adam() , \n",
        "                metrics = ['accuracy'])"
      ],
      "execution_count": null,
      "outputs": []
    },
    {
      "cell_type": "code",
      "metadata": {
        "colab": {
          "base_uri": "https://localhost:8080/"
        },
        "id": "55ieF3Vu4bnu",
        "outputId": "50b36cb4-bd4f-4af2-9f46-5782390874f8"
      },
      "source": [
        "# Fit the model \n",
        "history_1 = model_1.fit(train_data_1_percent ,\n",
        "                        epochs = 5 ,\n",
        "                        steps_per_epoch = len(train_data_1_percent) , \n",
        "                        validation_data = test_data , \n",
        "                        validation_steps = int(0.2 * len(test_data)) , \n",
        "                        callbacks = [create_tensorboard_callback('transfer_learning' , \n",
        "                                                                 experiment_name = '1_percent_data_aug')])\n"
      ],
      "execution_count": null,
      "outputs": [
        {
          "output_type": "stream",
          "text": [
            "Saving TensorBoard log files to: transfer_learning/1_percent_data_aug/20210324-131154\n",
            "Epoch 1/5\n",
            "3/3 [==============================] - 14s 3s/step - loss: 2.4335 - accuracy: 0.0787 - val_loss: 2.2370 - val_accuracy: 0.1312\n",
            "Epoch 2/5\n",
            "3/3 [==============================] - 5s 2s/step - loss: 2.1536 - accuracy: 0.1905 - val_loss: 2.1114 - val_accuracy: 0.2542\n",
            "Epoch 3/5\n",
            "3/3 [==============================] - 5s 2s/step - loss: 1.9789 - accuracy: 0.3661 - val_loss: 2.0063 - val_accuracy: 0.3333\n",
            "Epoch 4/5\n",
            "3/3 [==============================] - 5s 2s/step - loss: 1.7965 - accuracy: 0.5663 - val_loss: 1.9100 - val_accuracy: 0.3854\n",
            "Epoch 5/5\n",
            "3/3 [==============================] - 5s 2s/step - loss: 1.6926 - accuracy: 0.6749 - val_loss: 1.8023 - val_accuracy: 0.4875\n"
          ],
          "name": "stdout"
        }
      ]
    },
    {
      "cell_type": "code",
      "metadata": {
        "colab": {
          "base_uri": "https://localhost:8080/"
        },
        "id": "-3dcKejC44vu",
        "outputId": "80923049-54fa-4949-cb32-b3501e666606"
      },
      "source": [
        "# Getting the summary of the model\n",
        "model_1.summary()"
      ],
      "execution_count": null,
      "outputs": [
        {
          "output_type": "stream",
          "text": [
            "Model: \"model_1\"\n",
            "_________________________________________________________________\n",
            "Layer (type)                 Output Shape              Param #   \n",
            "=================================================================\n",
            "input_layer (InputLayer)     [(None, 224, 224, 3)]     0         \n",
            "_________________________________________________________________\n",
            "data_augmentation (Sequentia (None, None, None, 3)     0         \n",
            "_________________________________________________________________\n",
            "efficientnetb0 (Functional)  (None, None, None, 1280)  4049571   \n",
            "_________________________________________________________________\n",
            "pooling_layer (GlobalAverage (None, 1280)              0         \n",
            "_________________________________________________________________\n",
            "output_layer (Dense)         (None, 10)                12810     \n",
            "=================================================================\n",
            "Total params: 4,062,381\n",
            "Trainable params: 12,810\n",
            "Non-trainable params: 4,049,571\n",
            "_________________________________________________________________\n"
          ],
          "name": "stdout"
        }
      ]
    },
    {
      "cell_type": "code",
      "metadata": {
        "colab": {
          "base_uri": "https://localhost:8080/"
        },
        "id": "SaXaSnOk5sRj",
        "outputId": "925a46ec-c38b-4f58-fa33-0e1a0d4c3dc5"
      },
      "source": [
        "# Evalaute on the full test data \n",
        "results_1_percent_data_aug = model_1.evaluate(test_data)\n",
        "results_1_percent_data_aug"
      ],
      "execution_count": null,
      "outputs": [
        {
          "output_type": "stream",
          "text": [
            "79/79 [==============================] - 15s 185ms/step - loss: 1.8178 - accuracy: 0.4620\n"
          ],
          "name": "stdout"
        },
        {
          "output_type": "execute_result",
          "data": {
            "text/plain": [
              "[1.8178373575210571, 0.4620000123977661]"
            ]
          },
          "metadata": {
            "tags": []
          },
          "execution_count": 34
        }
      ]
    },
    {
      "cell_type": "code",
      "metadata": {
        "colab": {
          "base_uri": "https://localhost:8080/",
          "height": 573
        },
        "id": "Azw9a9t857Tb",
        "outputId": "cfa72896-09ee-449b-8988-b5d0b80012da"
      },
      "source": [
        "# Getting the loss curve \n",
        "plot_loss_curves(history_1)"
      ],
      "execution_count": null,
      "outputs": [
        {
          "output_type": "display_data",
          "data": {
            "image/png": "[encoded data removed]",
            "text/plain": [
              "<Figure size 432x288 with 1 Axes>"
            ]
          },
          "metadata": {
            "tags": [],
            "needs_background": "light"
          }
        },
        {
          "output_type": "display_data",
          "data": {
            "image/png": "[encoded data removed]",
            "text/plain": [
              "<Figure size 432x288 with 1 Axes>"
            ]
          },
          "metadata": {
            "tags": [],
            "needs_background": "light"
          }
        }
      ]
    },
    {
      "cell_type": "markdown",
      "metadata": {
        "id": "VOydaTLb6OsU"
      },
      "source": [
        "## Building Model 2 with data augmentation layer and 10% of the training data "
      ]
    },
    {
      "cell_type": "code",
      "metadata": {
        "id": "1s77YLIFGhJB"
      },
      "source": [
        "# Getting the data in directories \n",
        "train_dir_10_percent = '10_food_classes_10_percent/train'\n",
        "test_dir = '10_food_classes_10_percent/test'"
      ],
      "execution_count": null,
      "outputs": []
    },
    {
      "cell_type": "code",
      "metadata": {
        "colab": {
          "base_uri": "https://localhost:8080/"
        },
        "id": "ou0JMlRQG7x8",
        "outputId": "b985059a-a143-42dc-ce24-0b8c3ea8d765"
      },
      "source": [
        "# How many images are in each sub-directory? \n",
        "walk_through_dir(train_dir_10_percent)"
      ],
      "execution_count": null,
      "outputs": [
        {
          "output_type": "stream",
          "text": [
            "There are 10 directories and 0 images in '10_food_classes_10_percent/train'.\n",
            "There are 0 directories and 75 images in '10_food_classes_10_percent/train/grilled_salmon'.\n",
            "There are 0 directories and 75 images in '10_food_classes_10_percent/train/ice_cream'.\n",
            "There are 0 directories and 75 images in '10_food_classes_10_percent/train/fried_rice'.\n",
            "There are 0 directories and 75 images in '10_food_classes_10_percent/train/chicken_curry'.\n",
            "There are 0 directories and 75 images in '10_food_classes_10_percent/train/sushi'.\n",
            "There are 0 directories and 75 images in '10_food_classes_10_percent/train/chicken_wings'.\n",
            "There are 0 directories and 75 images in '10_food_classes_10_percent/train/pizza'.\n",
            "There are 0 directories and 75 images in '10_food_classes_10_percent/train/ramen'.\n",
            "There are 0 directories and 75 images in '10_food_classes_10_percent/train/hamburger'.\n",
            "There are 0 directories and 75 images in '10_food_classes_10_percent/train/steak'.\n"
          ],
          "name": "stdout"
        }
      ]
    },
    {
      "cell_type": "code",
      "metadata": {
        "colab": {
          "base_uri": "https://localhost:8080/"
        },
        "id": "rx4xrvTHG-ij",
        "outputId": "9916a217-eb99-48c3-bfec-6d60bbb8e731"
      },
      "source": [
        "# Importing our data in the dataloaders from the directories\n",
        "train_data_10_percent = tf.keras.preprocessing.image_dataset_from_directory(train_dir_10_percent , \n",
        "                                                                            image_size = IMG_SIZE , \n",
        "                                                                            batch_size = BATCH_SIZE , \n",
        "                                                                            label_mode = 'categorical' , \n",
        "                                                                            shuffle = True , \n",
        "                                                                            seed = 42)\n",
        "\n",
        "test_data = tf.keras.preprocessing.image_dataset_from_directory(test_dir , \n",
        "                                                                image_size = IMG_SIZE , \n",
        "                                                                batch_size = BATCH_SIZE , \n",
        "                                                                label_mode = 'categorical' , \n",
        "                                                                seed = 42)"
      ],
      "execution_count": null,
      "outputs": [
        {
          "output_type": "stream",
          "text": [
            "Found 750 files belonging to 10 classes.\n",
            "Found 2500 files belonging to 10 classes.\n"
          ],
          "name": "stdout"
        }
      ]
    },
    {
      "cell_type": "code",
      "metadata": {
        "id": "1RR2d_LVHwuC"
      },
      "source": [
        "# Construct a model for data augmentation with Sequential API\n",
        "from tensorflow.keras.layers.experimental import preprocessing \n",
        "\n",
        "\n",
        "data_augmentation_10_percent = tf.keras.Sequential([\n",
        "  preprocessing.RandomFlip('horizontal') , \n",
        "  preprocessing.RandomZoom(0.2) , \n",
        "  preprocessing.RandomRotation(0.2) , \n",
        "  preprocessing.RandomWidth(0.2), \n",
        "  preprocessing.RandomHeight(0.2)\n",
        "] , name = 'data_augmentation_10_percent')"
      ],
      "execution_count": null,
      "outputs": []
    },
    {
      "cell_type": "code",
      "metadata": {
        "colab": {
          "base_uri": "https://localhost:8080/",
          "height": 545
        },
        "id": "bSwXHFFoLkxW",
        "outputId": "f645e630-e4c4-4017-e4ad-2bf088a15b02"
      },
      "source": [
        "# View a random image and compare it to it's augmented version\n",
        "import matplotlib.pyplot as plt\n",
        "import matplotlib.image as mpimg\n",
        "import os \n",
        "import random \n",
        "\n",
        "target_class = random.choice(train_data_10_percent.class_names)\n",
        "target_dir = '10_food_classes_10_percent/train/' + target_class\n",
        "print(target_dir)\n",
        "\n",
        "# Pick a random image \n",
        "random_image = random.choice(os.listdir(target_dir))\n",
        "# the whole path \n",
        "random_image_path = target_dir + '/' + random_image\n",
        "\n",
        "# Visualize this , read in the random image \n",
        "img = mpimg.imread(random_image_path)\n",
        "plt.title(f'Original random image from class: {target_class}')\n",
        "plt.axis(False)\n",
        "plt.imshow(img)\n",
        "\n",
        "\n",
        "# Now plot the augmented version of the image \n",
        "augmented_img = data_augmentation_10_percent(tf.expand_dims(img , axis = 0)) # Adding a batch dimension\n",
        "plt.figure()\n",
        "plt.imshow(tf.squeeze(augmented_img)/255.) # normalizing because it's not in the right format for matplotlib\n",
        "plt.axis(False)\n",
        "plt.title('This is the Augmented version of the random image of the class: {target_class}')"
      ],
      "execution_count": null,
      "outputs": [
        {
          "output_type": "stream",
          "text": [
            "10_food_classes_10_percent/train/hamburger\n"
          ],
          "name": "stdout"
        },
        {
          "output_type": "execute_result",
          "data": {
            "text/plain": [
              "Text(0.5, 1.0, 'This is the Augmented version of the random image of the class: {target_class}')"
            ]
          },
          "metadata": {
            "tags": []
          },
          "execution_count": 87
        },
        {
          "output_type": "display_data",
          "data": {
            "image/png": "[encoded data removed]",
            "text/plain": [
              "<Figure size 432x288 with 1 Axes>"
            ]
          },
          "metadata": {
            "tags": [],
            "needs_background": "light"
          }
        },
        {
          "output_type": "display_data",
          "data": {
            "image/png": "[encoded data removed]",
            "text/plain": [
              "<Figure size 432x288 with 1 Axes>"
            ]
          },
          "metadata": {
            "tags": [],
            "needs_background": "light"
          }
        }
      ]
    },
    {
      "cell_type": "code",
      "metadata": {
        "id": "fUpHqlBrQ42t"
      },
      "source": [
        "# Setup input shape at first \n",
        "input_shape = (224, 224, 3)\n",
        "\n",
        "# Setting up our base model (EfficientNet_b0) \n",
        "base_model = tf.keras.applications.EfficientNetB0(include_top = False)\n",
        "base_model.trainable = False # Freezing the layers \n",
        "\n",
        "# Create the input layer \n",
        "inputs = tf.keras.layers.Input(shape = input_shape , name = 'input_layer')\n",
        "\n",
        "# Add in the data augmentation Sequential as a layer \n",
        "x = data_augmentation_10_percent(inputs) \n",
        "\n",
        "# Give base model the inputs after they have been augmented\n",
        "x = base_model(x , training = False) # A model so we pass in the x \n",
        "\n",
        "# Pool the output features of the base model \n",
        "x = tf.keras.layers.GlobalAveragePooling2D(name = 'pooling_layer')(x)\n",
        "\n",
        "# A dense layer for the output \n",
        "outputs = tf.keras.layers.Dense(10 , activation='softmax' , name = 'output_layer')(x)\n",
        "\n",
        "# Make a model using the inputs and outputs \n",
        "model_2 = keras.Model(inputs , outputs)"
      ],
      "execution_count": null,
      "outputs": []
    },
    {
      "cell_type": "code",
      "metadata": {
        "id": "jsv4kRSFOxSu"
      },
      "source": [
        "# Compile the model \n",
        "model_2.compile(loss = tf.keras.losses.CategoricalCrossentropy(), \n",
        "                optimizer = tf.keras.optimizers.Adam(), \n",
        "                metrics = ['accuracy'])\n",
        "\n"
      ],
      "execution_count": null,
      "outputs": []
    },
    {
      "cell_type": "code",
      "metadata": {
        "colab": {
          "base_uri": "https://localhost:8080/"
        },
        "id": "eeVtZDlOspEC",
        "outputId": "57ee5c21-e37a-4a0b-88c9-763cd46b2848"
      },
      "source": [
        "# Fit the model \n",
        "history_without_callback = model_2.fit(train_data_10_percent  , \n",
        "                        epochs = 5, \n",
        "                        steps_per_epoch = len(train_data_10_percent) , \n",
        "                        validation_data = test_data , \n",
        "                        validation_steps = len(test_data) , \n",
        "                        callbacks = [create_tensorboard_callback(dir_name = 'transfer_learning' , \n",
        "                                                                 experiment_name = '10_percent_data_augmented')])"
      ],
      "execution_count": null,
      "outputs": [
        {
          "output_type": "stream",
          "text": [
            "Saving TensorBoard log files to: transfer_learning/10_percent_data_augmented/20210324-131249\n",
            "Epoch 1/5\n",
            "24/24 [==============================] - 39s 1s/step - loss: 2.2092 - accuracy: 0.1783 - val_loss: 1.5302 - val_accuracy: 0.6300\n",
            "Epoch 2/5\n",
            "24/24 [==============================] - 28s 1s/step - loss: 1.4712 - accuracy: 0.6334 - val_loss: 1.0781 - val_accuracy: 0.7576\n",
            "Epoch 3/5\n",
            "24/24 [==============================] - 27s 1s/step - loss: 1.1281 - accuracy: 0.7078 - val_loss: 0.8784 - val_accuracy: 0.7840\n",
            "Epoch 4/5\n",
            "24/24 [==============================] - 27s 1s/step - loss: 0.9501 - accuracy: 0.7718 - val_loss: 0.7653 - val_accuracy: 0.8012\n",
            "Epoch 5/5\n",
            "24/24 [==============================] - 26s 1s/step - loss: 0.8304 - accuracy: 0.7869 - val_loss: 0.7010 - val_accuracy: 0.8104\n"
          ],
          "name": "stdout"
        }
      ]
    },
    {
      "cell_type": "markdown",
      "metadata": {
        "id": "U8211hgNmnz9"
      },
      "source": [
        "Why training is equal to False in  `x = base_model(x , training = False)`? \n",
        "[Check this link](https://keras.io/guides/transfer_learning/#build-a-model)"
      ]
    },
    {
      "cell_type": "markdown",
      "metadata": {
        "id": "xbtye7bxoILU"
      },
      "source": [
        "### Creating a ModelCheckpoint Callback\n",
        "\n",
        "The ModelCheckpoint Callback intermediately saves our model (the full model or just the weights) during training. This is useful so we can come back and start where we left off. "
      ]
    },
    {
      "cell_type": "code",
      "metadata": {
        "id": "gyIfnyK9reCI"
      },
      "source": [
        "# Set checkpoint path (a checkpoint where our model will get saved)\n",
        "checkpoint_path = 'ten_percent_model_checkpoints_weights/checkpoint.ckpt' # ckpt --> extension for checkpoint\n",
        "\n",
        "# Create ModelCheckpoint callback thats saves the model's weight only \n",
        "checkpoint_callback = tf.keras.callbacks.ModelCheckpoint(filepath= checkpoint_path , \n",
        "                                                         save_weights_only = True , \n",
        "                                                         save_best_only = False , \n",
        "                                                         save_freq = 'epoch' , # save every epoch\n",
        "                                                         verbose = 1 ) "
      ],
      "execution_count": null,
      "outputs": []
    },
    {
      "cell_type": "markdown",
      "metadata": {
        "id": "cUR8EORsupkw"
      },
      "source": [
        "#### Fit model 2 with the ModelCheckpoint Callback"
      ]
    },
    {
      "cell_type": "code",
      "metadata": {
        "colab": {
          "base_uri": "https://localhost:8080/"
        },
        "id": "YqOz4LAysYeA",
        "outputId": "e008e68f-09bd-451d-8fa5-ded2bc74959a"
      },
      "source": [
        "# Fit the model \n",
        "history_10_percent_data_aug = model_2.fit(train_data_10_percent  , \n",
        "                        epochs = 5, \n",
        "                        steps_per_epoch = len(train_data_10_percent) , \n",
        "                        validation_data = test_data , \n",
        "                        validation_steps = len(test_data) , \n",
        "                        callbacks = [create_tensorboard_callback(dir_name = 'transfer_learning' , \n",
        "                                                                 experiment_name = '10_percent_data_augmented') , checkpoint_callback])"
      ],
      "execution_count": null,
      "outputs": [
        {
          "output_type": "stream",
          "text": [
            "Saving TensorBoard log files to: transfer_learning/10_percent_data_augmented/20210324-141416\n",
            "Epoch 1/5\n",
            "24/24 [==============================] - 33s 1s/step - loss: 2.2132 - accuracy: 0.2438 - val_loss: 1.4977 - val_accuracy: 0.6296\n",
            "\n",
            "Epoch 00001: saving model to ten_percent_model_checkpoints_weights/checkpoint.ckpt\n",
            "Epoch 2/5\n",
            "24/24 [==============================] - 23s 975ms/step - loss: 1.4634 - accuracy: 0.6134 - val_loss: 1.0521 - val_accuracy: 0.7628\n",
            "\n",
            "Epoch 00002: saving model to ten_percent_model_checkpoints_weights/checkpoint.ckpt\n",
            "Epoch 3/5\n",
            "24/24 [==============================] - 24s 1s/step - loss: 1.1396 - accuracy: 0.6963 - val_loss: 0.8573 - val_accuracy: 0.7888\n",
            "\n",
            "Epoch 00003: saving model to ten_percent_model_checkpoints_weights/checkpoint.ckpt\n",
            "Epoch 4/5\n",
            "24/24 [==============================] - 24s 991ms/step - loss: 0.9370 - accuracy: 0.7618 - val_loss: 0.7503 - val_accuracy: 0.8072\n",
            "\n",
            "Epoch 00004: saving model to ten_percent_model_checkpoints_weights/checkpoint.ckpt\n",
            "Epoch 5/5\n",
            "24/24 [==============================] - 23s 968ms/step - loss: 0.8043 - accuracy: 0.7976 - val_loss: 0.6868 - val_accuracy: 0.8172\n",
            "\n",
            "Epoch 00005: saving model to ten_percent_model_checkpoints_weights/checkpoint.ckpt\n"
          ],
          "name": "stdout"
        }
      ]
    },
    {
      "cell_type": "code",
      "metadata": {
        "colab": {
          "base_uri": "https://localhost:8080/"
        },
        "id": "Gd1aAXwYskG2",
        "outputId": "01a08fe9-5428-4acb-cbff-9efec5e4e08f"
      },
      "source": [
        "# What were model_0 results\n",
        "model_0.evaluate(test_data)"
      ],
      "execution_count": null,
      "outputs": [
        {
          "output_type": "stream",
          "text": [
            "79/79 [==============================] - 15s 184ms/step - loss: 0.6096 - accuracy: 0.8304\n"
          ],
          "name": "stdout"
        },
        {
          "output_type": "execute_result",
          "data": {
            "text/plain": [
              "[0.6095752120018005, 0.8303999900817871]"
            ]
          },
          "metadata": {
            "tags": []
          },
          "execution_count": 92
        }
      ]
    },
    {
      "cell_type": "code",
      "metadata": {
        "colab": {
          "base_uri": "https://localhost:8080/"
        },
        "id": "8vWYsjN8vjbc",
        "outputId": "76ea4183-3f47-47c4-9496-10f35b83f1ae"
      },
      "source": [
        "# 10% training data with augmentation\n",
        "results_10_percent_data_aug = model_2.evaluate(test_data)"
      ],
      "execution_count": null,
      "outputs": [
        {
          "output_type": "stream",
          "text": [
            "79/79 [==============================] - 15s 183ms/step - loss: 0.6868 - accuracy: 0.8172\n"
          ],
          "name": "stdout"
        }
      ]
    },
    {
      "cell_type": "code",
      "metadata": {
        "colab": {
          "base_uri": "https://localhost:8080/",
          "height": 573
        },
        "id": "CJbLb6idvmaC",
        "outputId": "99ad5e28-9d76-4394-96a3-f650ea904a00"
      },
      "source": [
        "# plot the model loss curve \n",
        "plot_loss_curves(history_10_percent_data_aug)"
      ],
      "execution_count": null,
      "outputs": [
        {
          "output_type": "display_data",
          "data": {
            "image/png": "[encoded data removed]",
            "text/plain": [
              "<Figure size 432x288 with 1 Axes>"
            ]
          },
          "metadata": {
            "tags": [],
            "needs_background": "light"
          }
        },
        {
          "output_type": "display_data",
          "data": {
            "image/png": "[encoded data removed]",
            "text/plain": [
              "<Figure size 432x288 with 1 Axes>"
            ]
          },
          "metadata": {
            "tags": [],
            "needs_background": "light"
          }
        }
      ]
    },
    {
      "cell_type": "markdown",
      "metadata": {
        "id": "5zzY8IHAwALa"
      },
      "source": [
        "Looking at the loss curves, it seems if we keep training for few more epochs our results might get better. "
      ]
    },
    {
      "cell_type": "markdown",
      "metadata": {
        "id": "j2qMLvyWwN6S"
      },
      "source": [
        "### Loading in checkpointed weights\n",
        "\n",
        "Loading in checkpointed weights returns a model to a specific checkpoint. This is helpful when training takes a long time. "
      ]
    },
    {
      "cell_type": "code",
      "metadata": {
        "colab": {
          "base_uri": "https://localhost:8080/"
        },
        "id": "ULo0h9ePzFiy",
        "outputId": "d2268458-cdc6-4085-eb9b-5cade383a716"
      },
      "source": [
        "# Load in saved model weights and evaluate. the model \n",
        "model_2.load_weights(checkpoint_path) # filepath to the weights"
      ],
      "execution_count": null,
      "outputs": [
        {
          "output_type": "execute_result",
          "data": {
            "text/plain": [
              "<tensorflow.python.training.tracking.util.CheckpointLoadStatus at 0x7f4e2da95350>"
            ]
          },
          "metadata": {
            "tags": []
          },
          "execution_count": 95
        }
      ]
    },
    {
      "cell_type": "code",
      "metadata": {
        "colab": {
          "base_uri": "https://localhost:8080/"
        },
        "id": "xV5ayPBGzcpp",
        "outputId": "e3c82a42-0165-4a5c-84c2-b3efbd803077"
      },
      "source": [
        "# Evalaute model_2 with loaded weights \n",
        "loaded_weight_model_results = model_2.evaluate(test_data)\n",
        "loaded_weight_model_results"
      ],
      "execution_count": null,
      "outputs": [
        {
          "output_type": "stream",
          "text": [
            "79/79 [==============================] - 15s 184ms/step - loss: 0.6868 - accuracy: 0.8172\n"
          ],
          "name": "stdout"
        },
        {
          "output_type": "execute_result",
          "data": {
            "text/plain": [
              "[0.6867753863334656, 0.8172000050544739]"
            ]
          },
          "metadata": {
            "tags": []
          },
          "execution_count": 96
        }
      ]
    },
    {
      "cell_type": "code",
      "metadata": {
        "colab": {
          "base_uri": "https://localhost:8080/"
        },
        "id": "8s_yt6t_zneB",
        "outputId": "89fceb7f-44ca-49b6-85c3-0cea016a11a1"
      },
      "source": [
        "# If the results from our previously evaluated model_2 matched the loaded weights, everything has worked!\n",
        "loaded_weight_model_results == results_10_percent_data_aug"
      ],
      "execution_count": null,
      "outputs": [
        {
          "output_type": "execute_result",
          "data": {
            "text/plain": [
              "False"
            ]
          },
          "metadata": {
            "tags": []
          },
          "execution_count": 97
        }
      ]
    },
    {
      "cell_type": "code",
      "metadata": {
        "colab": {
          "base_uri": "https://localhost:8080/"
        },
        "id": "Jj5krH350CQH",
        "outputId": "64219952-b6fc-405b-f4c4-77e135912e8e"
      },
      "source": [
        "# Check to see if loaded model results are very close to the previous non loaded model results \n",
        "import numpy as np \n",
        "np.isclose(np.array(results_10_percent_data_aug) , np.array(loaded_weight_model_results))"
      ],
      "execution_count": null,
      "outputs": [
        {
          "output_type": "execute_result",
          "data": {
            "text/plain": [
              "array([ True,  True])"
            ]
          },
          "metadata": {
            "tags": []
          },
          "execution_count": 98
        }
      ]
    },
    {
      "cell_type": "code",
      "metadata": {
        "colab": {
          "base_uri": "https://localhost:8080/"
        },
        "id": "G73vOQkd0Ur_",
        "outputId": "4c33dcfc-cc0d-4be7-d134-754347b4a862"
      },
      "source": [
        "# Check the difference (precision)\n",
        "print((np.array(results_10_percent_data_aug)) - (np.array(loaded_weight_model_results)))"
      ],
      "execution_count": null,
      "outputs": [
        {
          "output_type": "stream",
          "text": [
            "[1.1920929e-07 0.0000000e+00]\n"
          ],
          "name": "stdout"
        }
      ]
    },
    {
      "cell_type": "markdown",
      "metadata": {
        "id": "AXZZrVXj0e3W"
      },
      "source": [
        "# Fine Tuning Baby! \n",
        "## Model 3: Fine-tuning an existing model on 10% of the data. \n",
        "\n",
        "> **Note:** Fine-tuning usually works best after training a feature extraction model for few epochs with large amount of custom data."
      ]
    },
    {
      "cell_type": "code",
      "metadata": {
        "colab": {
          "base_uri": "https://localhost:8080/"
        },
        "id": "CP4ddWHPN2m6",
        "outputId": "eb6d3eaa-ef38-4e15-fdb3-514ef0e166a0"
      },
      "source": [
        "# Layers in our loaded model \n",
        "model_2.layers # Loaded the weights for 5 epochs "
      ],
      "execution_count": null,
      "outputs": [
        {
          "output_type": "execute_result",
          "data": {
            "text/plain": [
              "[<tensorflow.python.keras.engine.input_layer.InputLayer at 0x7f4e3963bdd0>,\n",
              " <tensorflow.python.keras.engine.sequential.Sequential at 0x7f4e3d907390>,\n",
              " <tensorflow.python.keras.engine.functional.Functional at 0x7f4e3d907b10>,\n",
              " <tensorflow.python.keras.layers.pooling.GlobalAveragePooling2D at 0x7f4e30c42f90>,\n",
              " <tensorflow.python.keras.layers.core.Dense at 0x7f4e30c42210>]"
            ]
          },
          "metadata": {
            "tags": []
          },
          "execution_count": 100
        }
      ]
    },
    {
      "cell_type": "code",
      "metadata": {
        "colab": {
          "base_uri": "https://localhost:8080/"
        },
        "id": "CpY-rFu3OCDl",
        "outputId": "3501093b-13f6-413d-f4e0-a684ebe2f904"
      },
      "source": [
        "# Are these layers are trainable? \n",
        "for layer in model_2.layers:\n",
        "  print(layer , layer.trainable ) # Functional layer --> base layer which is not trainable here"
      ],
      "execution_count": null,
      "outputs": [
        {
          "output_type": "stream",
          "text": [
            "<tensorflow.python.keras.engine.input_layer.InputLayer object at 0x7f4e3963bdd0> True\n",
            "<tensorflow.python.keras.engine.sequential.Sequential object at 0x7f4e3d907390> True\n",
            "<tensorflow.python.keras.engine.functional.Functional object at 0x7f4e3d907b10> False\n",
            "<tensorflow.python.keras.layers.pooling.GlobalAveragePooling2D object at 0x7f4e30c42f90> True\n",
            "<tensorflow.python.keras.layers.core.Dense object at 0x7f4e30c42210> True\n"
          ],
          "name": "stdout"
        }
      ]
    },
    {
      "cell_type": "code",
      "metadata": {
        "colab": {
          "base_uri": "https://localhost:8080/"
        },
        "id": "IwAr5lMqONAm",
        "outputId": "cd54c20e-b945-4211-9787-7132e831002e"
      },
      "source": [
        "# What layers in our base model and are they trainable?\n",
        "for i, layer in enumerate(model_2.layers[2].layers):\n",
        "  print(i , layer.name , layer.trainable)"
      ],
      "execution_count": null,
      "outputs": [
        {
          "output_type": "stream",
          "text": [
            "0 input_4 False\n",
            "1 rescaling_3 False\n",
            "2 normalization_3 False\n",
            "3 stem_conv_pad False\n",
            "4 stem_conv False\n",
            "5 stem_bn False\n",
            "6 stem_activation False\n",
            "7 block1a_dwconv False\n",
            "8 block1a_bn False\n",
            "9 block1a_activation False\n",
            "10 block1a_se_squeeze False\n",
            "11 block1a_se_reshape False\n",
            "12 block1a_se_reduce False\n",
            "13 block1a_se_expand False\n",
            "14 block1a_se_excite False\n",
            "15 block1a_project_conv False\n",
            "16 block1a_project_bn False\n",
            "17 block2a_expand_conv False\n",
            "18 block2a_expand_bn False\n",
            "19 block2a_expand_activation False\n",
            "20 block2a_dwconv_pad False\n",
            "21 block2a_dwconv False\n",
            "22 block2a_bn False\n",
            "23 block2a_activation False\n",
            "24 block2a_se_squeeze False\n",
            "25 block2a_se_reshape False\n",
            "26 block2a_se_reduce False\n",
            "27 block2a_se_expand False\n",
            "28 block2a_se_excite False\n",
            "29 block2a_project_conv False\n",
            "30 block2a_project_bn False\n",
            "31 block2b_expand_conv False\n",
            "32 block2b_expand_bn False\n",
            "33 block2b_expand_activation False\n",
            "34 block2b_dwconv False\n",
            "35 block2b_bn False\n",
            "36 block2b_activation False\n",
            "37 block2b_se_squeeze False\n",
            "38 block2b_se_reshape False\n",
            "39 block2b_se_reduce False\n",
            "40 block2b_se_expand False\n",
            "41 block2b_se_excite False\n",
            "42 block2b_project_conv False\n",
            "43 block2b_project_bn False\n",
            "44 block2b_drop False\n",
            "45 block2b_add False\n",
            "46 block3a_expand_conv False\n",
            "47 block3a_expand_bn False\n",
            "48 block3a_expand_activation False\n",
            "49 block3a_dwconv_pad False\n",
            "50 block3a_dwconv False\n",
            "51 block3a_bn False\n",
            "52 block3a_activation False\n",
            "53 block3a_se_squeeze False\n",
            "54 block3a_se_reshape False\n",
            "55 block3a_se_reduce False\n",
            "56 block3a_se_expand False\n",
            "57 block3a_se_excite False\n",
            "58 block3a_project_conv False\n",
            "59 block3a_project_bn False\n",
            "60 block3b_expand_conv False\n",
            "61 block3b_expand_bn False\n",
            "62 block3b_expand_activation False\n",
            "63 block3b_dwconv False\n",
            "64 block3b_bn False\n",
            "65 block3b_activation False\n",
            "66 block3b_se_squeeze False\n",
            "67 block3b_se_reshape False\n",
            "68 block3b_se_reduce False\n",
            "69 block3b_se_expand False\n",
            "70 block3b_se_excite False\n",
            "71 block3b_project_conv False\n",
            "72 block3b_project_bn False\n",
            "73 block3b_drop False\n",
            "74 block3b_add False\n",
            "75 block4a_expand_conv False\n",
            "76 block4a_expand_bn False\n",
            "77 block4a_expand_activation False\n",
            "78 block4a_dwconv_pad False\n",
            "79 block4a_dwconv False\n",
            "80 block4a_bn False\n",
            "81 block4a_activation False\n",
            "82 block4a_se_squeeze False\n",
            "83 block4a_se_reshape False\n",
            "84 block4a_se_reduce False\n",
            "85 block4a_se_expand False\n",
            "86 block4a_se_excite False\n",
            "87 block4a_project_conv False\n",
            "88 block4a_project_bn False\n",
            "89 block4b_expand_conv False\n",
            "90 block4b_expand_bn False\n",
            "91 block4b_expand_activation False\n",
            "92 block4b_dwconv False\n",
            "93 block4b_bn False\n",
            "94 block4b_activation False\n",
            "95 block4b_se_squeeze False\n",
            "96 block4b_se_reshape False\n",
            "97 block4b_se_reduce False\n",
            "98 block4b_se_expand False\n",
            "99 block4b_se_excite False\n",
            "100 block4b_project_conv False\n",
            "101 block4b_project_bn False\n",
            "102 block4b_drop False\n",
            "103 block4b_add False\n",
            "104 block4c_expand_conv False\n",
            "105 block4c_expand_bn False\n",
            "106 block4c_expand_activation False\n",
            "107 block4c_dwconv False\n",
            "108 block4c_bn False\n",
            "109 block4c_activation False\n",
            "110 block4c_se_squeeze False\n",
            "111 block4c_se_reshape False\n",
            "112 block4c_se_reduce False\n",
            "113 block4c_se_expand False\n",
            "114 block4c_se_excite False\n",
            "115 block4c_project_conv False\n",
            "116 block4c_project_bn False\n",
            "117 block4c_drop False\n",
            "118 block4c_add False\n",
            "119 block5a_expand_conv False\n",
            "120 block5a_expand_bn False\n",
            "121 block5a_expand_activation False\n",
            "122 block5a_dwconv False\n",
            "123 block5a_bn False\n",
            "124 block5a_activation False\n",
            "125 block5a_se_squeeze False\n",
            "126 block5a_se_reshape False\n",
            "127 block5a_se_reduce False\n",
            "128 block5a_se_expand False\n",
            "129 block5a_se_excite False\n",
            "130 block5a_project_conv False\n",
            "131 block5a_project_bn False\n",
            "132 block5b_expand_conv False\n",
            "133 block5b_expand_bn False\n",
            "134 block5b_expand_activation False\n",
            "135 block5b_dwconv False\n",
            "136 block5b_bn False\n",
            "137 block5b_activation False\n",
            "138 block5b_se_squeeze False\n",
            "139 block5b_se_reshape False\n",
            "140 block5b_se_reduce False\n",
            "141 block5b_se_expand False\n",
            "142 block5b_se_excite False\n",
            "143 block5b_project_conv False\n",
            "144 block5b_project_bn False\n",
            "145 block5b_drop False\n",
            "146 block5b_add False\n",
            "147 block5c_expand_conv False\n",
            "148 block5c_expand_bn False\n",
            "149 block5c_expand_activation False\n",
            "150 block5c_dwconv False\n",
            "151 block5c_bn False\n",
            "152 block5c_activation False\n",
            "153 block5c_se_squeeze False\n",
            "154 block5c_se_reshape False\n",
            "155 block5c_se_reduce False\n",
            "156 block5c_se_expand False\n",
            "157 block5c_se_excite False\n",
            "158 block5c_project_conv False\n",
            "159 block5c_project_bn False\n",
            "160 block5c_drop False\n",
            "161 block5c_add False\n",
            "162 block6a_expand_conv False\n",
            "163 block6a_expand_bn False\n",
            "164 block6a_expand_activation False\n",
            "165 block6a_dwconv_pad False\n",
            "166 block6a_dwconv False\n",
            "167 block6a_bn False\n",
            "168 block6a_activation False\n",
            "169 block6a_se_squeeze False\n",
            "170 block6a_se_reshape False\n",
            "171 block6a_se_reduce False\n",
            "172 block6a_se_expand False\n",
            "173 block6a_se_excite False\n",
            "174 block6a_project_conv False\n",
            "175 block6a_project_bn False\n",
            "176 block6b_expand_conv False\n",
            "177 block6b_expand_bn False\n",
            "178 block6b_expand_activation False\n",
            "179 block6b_dwconv False\n",
            "180 block6b_bn False\n",
            "181 block6b_activation False\n",
            "182 block6b_se_squeeze False\n",
            "183 block6b_se_reshape False\n",
            "184 block6b_se_reduce False\n",
            "185 block6b_se_expand False\n",
            "186 block6b_se_excite False\n",
            "187 block6b_project_conv False\n",
            "188 block6b_project_bn False\n",
            "189 block6b_drop False\n",
            "190 block6b_add False\n",
            "191 block6c_expand_conv False\n",
            "192 block6c_expand_bn False\n",
            "193 block6c_expand_activation False\n",
            "194 block6c_dwconv False\n",
            "195 block6c_bn False\n",
            "196 block6c_activation False\n",
            "197 block6c_se_squeeze False\n",
            "198 block6c_se_reshape False\n",
            "199 block6c_se_reduce False\n",
            "200 block6c_se_expand False\n",
            "201 block6c_se_excite False\n",
            "202 block6c_project_conv False\n",
            "203 block6c_project_bn False\n",
            "204 block6c_drop False\n",
            "205 block6c_add False\n",
            "206 block6d_expand_conv False\n",
            "207 block6d_expand_bn False\n",
            "208 block6d_expand_activation False\n",
            "209 block6d_dwconv False\n",
            "210 block6d_bn False\n",
            "211 block6d_activation False\n",
            "212 block6d_se_squeeze False\n",
            "213 block6d_se_reshape False\n",
            "214 block6d_se_reduce False\n",
            "215 block6d_se_expand False\n",
            "216 block6d_se_excite False\n",
            "217 block6d_project_conv False\n",
            "218 block6d_project_bn False\n",
            "219 block6d_drop False\n",
            "220 block6d_add False\n",
            "221 block7a_expand_conv False\n",
            "222 block7a_expand_bn False\n",
            "223 block7a_expand_activation False\n",
            "224 block7a_dwconv False\n",
            "225 block7a_bn False\n",
            "226 block7a_activation False\n",
            "227 block7a_se_squeeze False\n",
            "228 block7a_se_reshape False\n",
            "229 block7a_se_reduce False\n",
            "230 block7a_se_expand False\n",
            "231 block7a_se_excite False\n",
            "232 block7a_project_conv False\n",
            "233 block7a_project_bn False\n",
            "234 top_conv False\n",
            "235 top_bn False\n",
            "236 top_activation False\n"
          ],
          "name": "stdout"
        }
      ]
    },
    {
      "cell_type": "code",
      "metadata": {
        "colab": {
          "base_uri": "https://localhost:8080/"
        },
        "id": "IFpFQsz-OtPU",
        "outputId": "ac1f01bf-6b24-418d-bd6e-5a6cf5c328fd"
      },
      "source": [
        "# How many trainable variables are there in our base model?\n",
        "# trainable variables --> weights that can be updated\n",
        "print(len(model_2.layers[2].trainable_variables))"
      ],
      "execution_count": null,
      "outputs": [
        {
          "output_type": "stream",
          "text": [
            "0\n"
          ],
          "name": "stdout"
        }
      ]
    },
    {
      "cell_type": "code",
      "metadata": {
        "colab": {
          "base_uri": "https://localhost:8080/"
        },
        "id": "Zk_TttHCRzUG",
        "outputId": "c277d9a8-7721-4354-b243-ec15fd07a186"
      },
      "source": [
        "# To begin fine-tuning let's start by setting the last 10 layers of our base model .trainable=True\n",
        "base_model.trainable = True \n",
        "\n",
        "# Freeze all layers except the last 10\n",
        "for layer in base_model.layers[:-10]:\n",
        "  layer.trainable = False\n",
        "  print(layer.name)\n",
        "\n",
        "# Recompile (we have to recompile our model everytime we make a change)\n",
        "model_2.compile(loss = tf.keras.losses.CategoricalCrossentropy(), \n",
        "                optimizer = tf.keras.optimizers.Adam(lr = 0.0001) , # when fine-tuning typically lower the learning rate 10X\n",
        "                metrics = ['accuracy'])"
      ],
      "execution_count": null,
      "outputs": [
        {
          "output_type": "stream",
          "text": [
            "input_4\n",
            "rescaling_3\n",
            "normalization_3\n",
            "stem_conv_pad\n",
            "stem_conv\n",
            "stem_bn\n",
            "stem_activation\n",
            "block1a_dwconv\n",
            "block1a_bn\n",
            "block1a_activation\n",
            "block1a_se_squeeze\n",
            "block1a_se_reshape\n",
            "block1a_se_reduce\n",
            "block1a_se_expand\n",
            "block1a_se_excite\n",
            "block1a_project_conv\n",
            "block1a_project_bn\n",
            "block2a_expand_conv\n",
            "block2a_expand_bn\n",
            "block2a_expand_activation\n",
            "block2a_dwconv_pad\n",
            "block2a_dwconv\n",
            "block2a_bn\n",
            "block2a_activation\n",
            "block2a_se_squeeze\n",
            "block2a_se_reshape\n",
            "block2a_se_reduce\n",
            "block2a_se_expand\n",
            "block2a_se_excite\n",
            "block2a_project_conv\n",
            "block2a_project_bn\n",
            "block2b_expand_conv\n",
            "block2b_expand_bn\n",
            "block2b_expand_activation\n",
            "block2b_dwconv\n",
            "block2b_bn\n",
            "block2b_activation\n",
            "block2b_se_squeeze\n",
            "block2b_se_reshape\n",
            "block2b_se_reduce\n",
            "block2b_se_expand\n",
            "block2b_se_excite\n",
            "block2b_project_conv\n",
            "block2b_project_bn\n",
            "block2b_drop\n",
            "block2b_add\n",
            "block3a_expand_conv\n",
            "block3a_expand_bn\n",
            "block3a_expand_activation\n",
            "block3a_dwconv_pad\n",
            "block3a_dwconv\n",
            "block3a_bn\n",
            "block3a_activation\n",
            "block3a_se_squeeze\n",
            "block3a_se_reshape\n",
            "block3a_se_reduce\n",
            "block3a_se_expand\n",
            "block3a_se_excite\n",
            "block3a_project_conv\n",
            "block3a_project_bn\n",
            "block3b_expand_conv\n",
            "block3b_expand_bn\n",
            "block3b_expand_activation\n",
            "block3b_dwconv\n",
            "block3b_bn\n",
            "block3b_activation\n",
            "block3b_se_squeeze\n",
            "block3b_se_reshape\n",
            "block3b_se_reduce\n",
            "block3b_se_expand\n",
            "block3b_se_excite\n",
            "block3b_project_conv\n",
            "block3b_project_bn\n",
            "block3b_drop\n",
            "block3b_add\n",
            "block4a_expand_conv\n",
            "block4a_expand_bn\n",
            "block4a_expand_activation\n",
            "block4a_dwconv_pad\n",
            "block4a_dwconv\n",
            "block4a_bn\n",
            "block4a_activation\n",
            "block4a_se_squeeze\n",
            "block4a_se_reshape\n",
            "block4a_se_reduce\n",
            "block4a_se_expand\n",
            "block4a_se_excite\n",
            "block4a_project_conv\n",
            "block4a_project_bn\n",
            "block4b_expand_conv\n",
            "block4b_expand_bn\n",
            "block4b_expand_activation\n",
            "block4b_dwconv\n",
            "block4b_bn\n",
            "block4b_activation\n",
            "block4b_se_squeeze\n",
            "block4b_se_reshape\n",
            "block4b_se_reduce\n",
            "block4b_se_expand\n",
            "block4b_se_excite\n",
            "block4b_project_conv\n",
            "block4b_project_bn\n",
            "block4b_drop\n",
            "block4b_add\n",
            "block4c_expand_conv\n",
            "block4c_expand_bn\n",
            "block4c_expand_activation\n",
            "block4c_dwconv\n",
            "block4c_bn\n",
            "block4c_activation\n",
            "block4c_se_squeeze\n",
            "block4c_se_reshape\n",
            "block4c_se_reduce\n",
            "block4c_se_expand\n",
            "block4c_se_excite\n",
            "block4c_project_conv\n",
            "block4c_project_bn\n",
            "block4c_drop\n",
            "block4c_add\n",
            "block5a_expand_conv\n",
            "block5a_expand_bn\n",
            "block5a_expand_activation\n",
            "block5a_dwconv\n",
            "block5a_bn\n",
            "block5a_activation\n",
            "block5a_se_squeeze\n",
            "block5a_se_reshape\n",
            "block5a_se_reduce\n",
            "block5a_se_expand\n",
            "block5a_se_excite\n",
            "block5a_project_conv\n",
            "block5a_project_bn\n",
            "block5b_expand_conv\n",
            "block5b_expand_bn\n",
            "block5b_expand_activation\n",
            "block5b_dwconv\n",
            "block5b_bn\n",
            "block5b_activation\n",
            "block5b_se_squeeze\n",
            "block5b_se_reshape\n",
            "block5b_se_reduce\n",
            "block5b_se_expand\n",
            "block5b_se_excite\n",
            "block5b_project_conv\n",
            "block5b_project_bn\n",
            "block5b_drop\n",
            "block5b_add\n",
            "block5c_expand_conv\n",
            "block5c_expand_bn\n",
            "block5c_expand_activation\n",
            "block5c_dwconv\n",
            "block5c_bn\n",
            "block5c_activation\n",
            "block5c_se_squeeze\n",
            "block5c_se_reshape\n",
            "block5c_se_reduce\n",
            "block5c_se_expand\n",
            "block5c_se_excite\n",
            "block5c_project_conv\n",
            "block5c_project_bn\n",
            "block5c_drop\n",
            "block5c_add\n",
            "block6a_expand_conv\n",
            "block6a_expand_bn\n",
            "block6a_expand_activation\n",
            "block6a_dwconv_pad\n",
            "block6a_dwconv\n",
            "block6a_bn\n",
            "block6a_activation\n",
            "block6a_se_squeeze\n",
            "block6a_se_reshape\n",
            "block6a_se_reduce\n",
            "block6a_se_expand\n",
            "block6a_se_excite\n",
            "block6a_project_conv\n",
            "block6a_project_bn\n",
            "block6b_expand_conv\n",
            "block6b_expand_bn\n",
            "block6b_expand_activation\n",
            "block6b_dwconv\n",
            "block6b_bn\n",
            "block6b_activation\n",
            "block6b_se_squeeze\n",
            "block6b_se_reshape\n",
            "block6b_se_reduce\n",
            "block6b_se_expand\n",
            "block6b_se_excite\n",
            "block6b_project_conv\n",
            "block6b_project_bn\n",
            "block6b_drop\n",
            "block6b_add\n",
            "block6c_expand_conv\n",
            "block6c_expand_bn\n",
            "block6c_expand_activation\n",
            "block6c_dwconv\n",
            "block6c_bn\n",
            "block6c_activation\n",
            "block6c_se_squeeze\n",
            "block6c_se_reshape\n",
            "block6c_se_reduce\n",
            "block6c_se_expand\n",
            "block6c_se_excite\n",
            "block6c_project_conv\n",
            "block6c_project_bn\n",
            "block6c_drop\n",
            "block6c_add\n",
            "block6d_expand_conv\n",
            "block6d_expand_bn\n",
            "block6d_expand_activation\n",
            "block6d_dwconv\n",
            "block6d_bn\n",
            "block6d_activation\n",
            "block6d_se_squeeze\n",
            "block6d_se_reshape\n",
            "block6d_se_reduce\n",
            "block6d_se_expand\n",
            "block6d_se_excite\n",
            "block6d_project_conv\n",
            "block6d_project_bn\n",
            "block6d_drop\n",
            "block6d_add\n",
            "block7a_expand_conv\n",
            "block7a_expand_bn\n",
            "block7a_expand_activation\n",
            "block7a_dwconv\n",
            "block7a_bn\n",
            "block7a_activation\n"
          ],
          "name": "stdout"
        }
      ]
    },
    {
      "cell_type": "markdown",
      "metadata": {
        "id": "NUsFDp-QW90V"
      },
      "source": [
        "> **Note:** When using fine-tuning it's best practices to lower your learning rate by same amount. How much? This is a hyperparameter you can tune. But a good rule of thumb is atleast 10X (though different sources will claim other values). A good resource for this information is\n",
        "\n",
        "https://www.google.com/search?q=ULMfit&oq=ULMfit+&aqs=chrome..69i57.2214j0j1&sourceid=chrome&ie=UTF-8"
      ]
    },
    {
      "cell_type": "code",
      "metadata": {
        "id": "Ko4ThQicS6NS"
      },
      "source": [
        "# Recompile (we have to recompile our model everytime we make a change)\n",
        "model_2.compile(loss = tf.keras.losses.CategoricalCrossentropy(), \n",
        "                optimizer = tf.keras.optimizers.Adam() , \n",
        "                metrics = ['accuracy'])"
      ],
      "execution_count": null,
      "outputs": []
    },
    {
      "cell_type": "code",
      "metadata": {
        "colab": {
          "base_uri": "https://localhost:8080/"
        },
        "id": "ntSM7iFWU-rp",
        "outputId": "9a226624-232e-4a9c-ac66-1bd912d03c3c"
      },
      "source": [
        "# Check which layers are trainable \n",
        "for layer_number , layer in enumerate(model_2.layers[2].layers):\n",
        "  print(layer_number , layer.name , layer.trainable)"
      ],
      "execution_count": null,
      "outputs": [
        {
          "output_type": "stream",
          "text": [
            "0 input_4 False\n",
            "1 rescaling_3 False\n",
            "2 normalization_3 False\n",
            "3 stem_conv_pad False\n",
            "4 stem_conv False\n",
            "5 stem_bn False\n",
            "6 stem_activation False\n",
            "7 block1a_dwconv False\n",
            "8 block1a_bn False\n",
            "9 block1a_activation False\n",
            "10 block1a_se_squeeze False\n",
            "11 block1a_se_reshape False\n",
            "12 block1a_se_reduce False\n",
            "13 block1a_se_expand False\n",
            "14 block1a_se_excite False\n",
            "15 block1a_project_conv False\n",
            "16 block1a_project_bn False\n",
            "17 block2a_expand_conv False\n",
            "18 block2a_expand_bn False\n",
            "19 block2a_expand_activation False\n",
            "20 block2a_dwconv_pad False\n",
            "21 block2a_dwconv False\n",
            "22 block2a_bn False\n",
            "23 block2a_activation False\n",
            "24 block2a_se_squeeze False\n",
            "25 block2a_se_reshape False\n",
            "26 block2a_se_reduce False\n",
            "27 block2a_se_expand False\n",
            "28 block2a_se_excite False\n",
            "29 block2a_project_conv False\n",
            "30 block2a_project_bn False\n",
            "31 block2b_expand_conv False\n",
            "32 block2b_expand_bn False\n",
            "33 block2b_expand_activation False\n",
            "34 block2b_dwconv False\n",
            "35 block2b_bn False\n",
            "36 block2b_activation False\n",
            "37 block2b_se_squeeze False\n",
            "38 block2b_se_reshape False\n",
            "39 block2b_se_reduce False\n",
            "40 block2b_se_expand False\n",
            "41 block2b_se_excite False\n",
            "42 block2b_project_conv False\n",
            "43 block2b_project_bn False\n",
            "44 block2b_drop False\n",
            "45 block2b_add False\n",
            "46 block3a_expand_conv False\n",
            "47 block3a_expand_bn False\n",
            "48 block3a_expand_activation False\n",
            "49 block3a_dwconv_pad False\n",
            "50 block3a_dwconv False\n",
            "51 block3a_bn False\n",
            "52 block3a_activation False\n",
            "53 block3a_se_squeeze False\n",
            "54 block3a_se_reshape False\n",
            "55 block3a_se_reduce False\n",
            "56 block3a_se_expand False\n",
            "57 block3a_se_excite False\n",
            "58 block3a_project_conv False\n",
            "59 block3a_project_bn False\n",
            "60 block3b_expand_conv False\n",
            "61 block3b_expand_bn False\n",
            "62 block3b_expand_activation False\n",
            "63 block3b_dwconv False\n",
            "64 block3b_bn False\n",
            "65 block3b_activation False\n",
            "66 block3b_se_squeeze False\n",
            "67 block3b_se_reshape False\n",
            "68 block3b_se_reduce False\n",
            "69 block3b_se_expand False\n",
            "70 block3b_se_excite False\n",
            "71 block3b_project_conv False\n",
            "72 block3b_project_bn False\n",
            "73 block3b_drop False\n",
            "74 block3b_add False\n",
            "75 block4a_expand_conv False\n",
            "76 block4a_expand_bn False\n",
            "77 block4a_expand_activation False\n",
            "78 block4a_dwconv_pad False\n",
            "79 block4a_dwconv False\n",
            "80 block4a_bn False\n",
            "81 block4a_activation False\n",
            "82 block4a_se_squeeze False\n",
            "83 block4a_se_reshape False\n",
            "84 block4a_se_reduce False\n",
            "85 block4a_se_expand False\n",
            "86 block4a_se_excite False\n",
            "87 block4a_project_conv False\n",
            "88 block4a_project_bn False\n",
            "89 block4b_expand_conv False\n",
            "90 block4b_expand_bn False\n",
            "91 block4b_expand_activation False\n",
            "92 block4b_dwconv False\n",
            "93 block4b_bn False\n",
            "94 block4b_activation False\n",
            "95 block4b_se_squeeze False\n",
            "96 block4b_se_reshape False\n",
            "97 block4b_se_reduce False\n",
            "98 block4b_se_expand False\n",
            "99 block4b_se_excite False\n",
            "100 block4b_project_conv False\n",
            "101 block4b_project_bn False\n",
            "102 block4b_drop False\n",
            "103 block4b_add False\n",
            "104 block4c_expand_conv False\n",
            "105 block4c_expand_bn False\n",
            "106 block4c_expand_activation False\n",
            "107 block4c_dwconv False\n",
            "108 block4c_bn False\n",
            "109 block4c_activation False\n",
            "110 block4c_se_squeeze False\n",
            "111 block4c_se_reshape False\n",
            "112 block4c_se_reduce False\n",
            "113 block4c_se_expand False\n",
            "114 block4c_se_excite False\n",
            "115 block4c_project_conv False\n",
            "116 block4c_project_bn False\n",
            "117 block4c_drop False\n",
            "118 block4c_add False\n",
            "119 block5a_expand_conv False\n",
            "120 block5a_expand_bn False\n",
            "121 block5a_expand_activation False\n",
            "122 block5a_dwconv False\n",
            "123 block5a_bn False\n",
            "124 block5a_activation False\n",
            "125 block5a_se_squeeze False\n",
            "126 block5a_se_reshape False\n",
            "127 block5a_se_reduce False\n",
            "128 block5a_se_expand False\n",
            "129 block5a_se_excite False\n",
            "130 block5a_project_conv False\n",
            "131 block5a_project_bn False\n",
            "132 block5b_expand_conv False\n",
            "133 block5b_expand_bn False\n",
            "134 block5b_expand_activation False\n",
            "135 block5b_dwconv False\n",
            "136 block5b_bn False\n",
            "137 block5b_activation False\n",
            "138 block5b_se_squeeze False\n",
            "139 block5b_se_reshape False\n",
            "140 block5b_se_reduce False\n",
            "141 block5b_se_expand False\n",
            "142 block5b_se_excite False\n",
            "143 block5b_project_conv False\n",
            "144 block5b_project_bn False\n",
            "145 block5b_drop False\n",
            "146 block5b_add False\n",
            "147 block5c_expand_conv False\n",
            "148 block5c_expand_bn False\n",
            "149 block5c_expand_activation False\n",
            "150 block5c_dwconv False\n",
            "151 block5c_bn False\n",
            "152 block5c_activation False\n",
            "153 block5c_se_squeeze False\n",
            "154 block5c_se_reshape False\n",
            "155 block5c_se_reduce False\n",
            "156 block5c_se_expand False\n",
            "157 block5c_se_excite False\n",
            "158 block5c_project_conv False\n",
            "159 block5c_project_bn False\n",
            "160 block5c_drop False\n",
            "161 block5c_add False\n",
            "162 block6a_expand_conv False\n",
            "163 block6a_expand_bn False\n",
            "164 block6a_expand_activation False\n",
            "165 block6a_dwconv_pad False\n",
            "166 block6a_dwconv False\n",
            "167 block6a_bn False\n",
            "168 block6a_activation False\n",
            "169 block6a_se_squeeze False\n",
            "170 block6a_se_reshape False\n",
            "171 block6a_se_reduce False\n",
            "172 block6a_se_expand False\n",
            "173 block6a_se_excite False\n",
            "174 block6a_project_conv False\n",
            "175 block6a_project_bn False\n",
            "176 block6b_expand_conv False\n",
            "177 block6b_expand_bn False\n",
            "178 block6b_expand_activation False\n",
            "179 block6b_dwconv False\n",
            "180 block6b_bn False\n",
            "181 block6b_activation False\n",
            "182 block6b_se_squeeze False\n",
            "183 block6b_se_reshape False\n",
            "184 block6b_se_reduce False\n",
            "185 block6b_se_expand False\n",
            "186 block6b_se_excite False\n",
            "187 block6b_project_conv False\n",
            "188 block6b_project_bn False\n",
            "189 block6b_drop False\n",
            "190 block6b_add False\n",
            "191 block6c_expand_conv False\n",
            "192 block6c_expand_bn False\n",
            "193 block6c_expand_activation False\n",
            "194 block6c_dwconv False\n",
            "195 block6c_bn False\n",
            "196 block6c_activation False\n",
            "197 block6c_se_squeeze False\n",
            "198 block6c_se_reshape False\n",
            "199 block6c_se_reduce False\n",
            "200 block6c_se_expand False\n",
            "201 block6c_se_excite False\n",
            "202 block6c_project_conv False\n",
            "203 block6c_project_bn False\n",
            "204 block6c_drop False\n",
            "205 block6c_add False\n",
            "206 block6d_expand_conv False\n",
            "207 block6d_expand_bn False\n",
            "208 block6d_expand_activation False\n",
            "209 block6d_dwconv False\n",
            "210 block6d_bn False\n",
            "211 block6d_activation False\n",
            "212 block6d_se_squeeze False\n",
            "213 block6d_se_reshape False\n",
            "214 block6d_se_reduce False\n",
            "215 block6d_se_expand False\n",
            "216 block6d_se_excite False\n",
            "217 block6d_project_conv False\n",
            "218 block6d_project_bn False\n",
            "219 block6d_drop False\n",
            "220 block6d_add False\n",
            "221 block7a_expand_conv False\n",
            "222 block7a_expand_bn False\n",
            "223 block7a_expand_activation False\n",
            "224 block7a_dwconv False\n",
            "225 block7a_bn False\n",
            "226 block7a_activation False\n",
            "227 block7a_se_squeeze True\n",
            "228 block7a_se_reshape True\n",
            "229 block7a_se_reduce True\n",
            "230 block7a_se_expand True\n",
            "231 block7a_se_excite True\n",
            "232 block7a_project_conv True\n",
            "233 block7a_project_bn True\n",
            "234 top_conv True\n",
            "235 top_bn True\n",
            "236 top_activation True\n"
          ],
          "name": "stdout"
        }
      ]
    },
    {
      "cell_type": "code",
      "metadata": {
        "colab": {
          "base_uri": "https://localhost:8080/"
        },
        "id": "1QJEoJFVVFmY",
        "outputId": "d2f09586-9240-4c71-eaa7-fa06b3800ae1"
      },
      "source": [
        "# Now we've unfrozen some of the layers closer to the top, how many trainable variables are there? \n",
        "print(len(model_2.trainable_variables))"
      ],
      "execution_count": null,
      "outputs": [
        {
          "output_type": "stream",
          "text": [
            "12\n"
          ],
          "name": "stdout"
        }
      ]
    },
    {
      "cell_type": "code",
      "metadata": {
        "colab": {
          "base_uri": "https://localhost:8080/"
        },
        "id": "Xus8_qWqY94s",
        "outputId": "ef5edd2b-6fae-48b0-e197-43aa88a7cd10"
      },
      "source": [
        "# Fine tune for another 5 epochs \n",
        "initial_epochs = 5\n",
        "fine_tune_epochs = initial_epochs + 5\n",
        "\n",
        "# Refit the model (same as model_2 except with more trainable layers)\n",
        "history_fine_10_percent_data_aug = model_2.fit(train_data_10_percent , \n",
        "                                               epochs = fine_tune_epochs ,  \n",
        "                                               validation_data = test_data , \n",
        "                                               validation_steps = int(0.25 *len(test_data)) , \n",
        "                                               initial_epoch = history_with_callback.epoch[-1] , # Start training from previous last epoch\n",
        "                                               callbacks = [create_tensorboard_callback('transfer_learning' , \n",
        "                                                                                        '10_percent_fine_tuning_last10')] )"
      ],
      "execution_count": null,
      "outputs": [
        {
          "output_type": "stream",
          "text": [
            "Saving TensorBoard log files to: transfer_learning/10_percent_fine_tuning_last10/20210324-141715\n",
            "Epoch 5/10\n",
            "24/24 [==============================] - 21s 629ms/step - loss: 0.7859 - accuracy: 0.7368 - val_loss: 0.5400 - val_accuracy: 0.8355\n",
            "Epoch 6/10\n",
            "24/24 [==============================] - 12s 485ms/step - loss: 0.4465 - accuracy: 0.8616 - val_loss: 0.5052 - val_accuracy: 0.8405\n",
            "Epoch 7/10\n",
            "24/24 [==============================] - 12s 485ms/step - loss: 0.2355 - accuracy: 0.9338 - val_loss: 0.5290 - val_accuracy: 0.8174\n",
            "Epoch 8/10\n",
            "24/24 [==============================] - 13s 513ms/step - loss: 0.2180 - accuracy: 0.9386 - val_loss: 0.5390 - val_accuracy: 0.8224\n",
            "Epoch 9/10\n",
            "24/24 [==============================] - 13s 508ms/step - loss: 0.1506 - accuracy: 0.9641 - val_loss: 0.5294 - val_accuracy: 0.8257\n",
            "Epoch 10/10\n",
            "24/24 [==============================] - 13s 507ms/step - loss: 0.1150 - accuracy: 0.9600 - val_loss: 0.6616 - val_accuracy: 0.7878\n"
          ],
          "name": "stdout"
        }
      ]
    },
    {
      "cell_type": "code",
      "metadata": {
        "colab": {
          "base_uri": "https://localhost:8080/"
        },
        "id": "s_DD636alkti",
        "outputId": "7a699421-b8c0-4034-da7d-abce652ae4d3"
      },
      "source": [
        "# Evaluate the fine tune model (model_3 which is acutally model_2 fine tuned for another 5 epochs)\n",
        "results_fine_tune_10_percent = model_2.evaluate(test_data)"
      ],
      "execution_count": null,
      "outputs": [
        {
          "output_type": "stream",
          "text": [
            "79/79 [==============================] - 15s 184ms/step - loss: 0.6997 - accuracy: 0.8024\n"
          ],
          "name": "stdout"
        }
      ]
    },
    {
      "cell_type": "code",
      "metadata": {
        "colab": {
          "base_uri": "https://localhost:8080/"
        },
        "id": "kW-0yTT9mkdx",
        "outputId": "4e970933-d1db-4702-81b4-ac6bccd34879"
      },
      "source": [
        "# Before fine-tunig \n",
        "results_10_percent_data_aug"
      ],
      "execution_count": null,
      "outputs": [
        {
          "output_type": "execute_result",
          "data": {
            "text/plain": [
              "[0.6867755055427551, 0.8172000050544739]"
            ]
          },
          "metadata": {
            "tags": []
          },
          "execution_count": 110
        }
      ]
    },
    {
      "cell_type": "markdown",
      "metadata": {
        "id": "hX7o6_ammue9"
      },
      "source": [
        "#### Comparing our model's results before and after fine-tuning"
      ]
    },
    {
      "cell_type": "code",
      "metadata": {
        "colab": {
          "base_uri": "https://localhost:8080/",
          "height": 573
        },
        "id": "V_Z8S_73Z9Aj",
        "outputId": "c4fdb8d7-dcd7-4007-cce1-4a1b7cdfb9bd"
      },
      "source": [
        "# Plot the loss curve\n",
        "plot_loss_curves(history_fine_10_percent_data_aug)"
      ],
      "execution_count": null,
      "outputs": [
        {
          "output_type": "display_data",
          "data": {
            "image/png": "[encoded data removed]",
            "text/plain": [
              "<Figure size 432x288 with 1 Axes>"
            ]
          },
          "metadata": {
            "tags": [],
            "needs_background": "light"
          }
        },
        {
          "output_type": "display_data",
          "data": {
            "image/png": "[encoded data removed]",
            "text/plain": [
              "<Figure size 432x288 with 1 Axes>"
            ]
          },
          "metadata": {
            "tags": [],
            "needs_background": "light"
          }
        }
      ]
    },
    {
      "cell_type": "markdown",
      "metadata": {
        "id": "rzzSDHNLaFx8"
      },
      "source": [
        "Our epochs start from 5 - 10, whereas here it's not the case. So we need to create a function which does that comparison.\n",
        "\n",
        "The `plot_loss_curves` works great with the models which have only been fit once, however, we want something to compare one series of running `fit()` with another (e.g before and after fine-tuning)."
      ]
    },
    {
      "cell_type": "code",
      "metadata": {
        "id": "_ontc-_eaSpQ"
      },
      "source": [
        "# Let's create a function to compare training histories\n",
        "def compare_historys(original_history , new_history , initial_epochs = 5): \n",
        "  '''\n",
        "  Compare two tensorflow history objects\n",
        "  '''\n",
        "\n",
        "  # Get original history measurements\n",
        "  acc = original_history.history['accuracy']\n",
        "  loss = original_history.history['loss']\n",
        "\n",
        "  val_acc = original_history.history['val_accuracy']\n",
        "  val_loss = original_history.history['val_loss']\n",
        "\n",
        "  # Combine original history \n",
        "  total_acc = acc + new_history.history['accuracy']\n",
        "  total_loss = loss + new_history.history['loss']\n",
        "\n",
        "  total_val_acc = val_acc + new_history.history['val_accuracy']\n",
        "  total_val_loss = val_loss + new_history.history['val_loss']\n",
        "\n",
        "  # Make the plots for accuracy\n",
        "  plt.figure(figsize =(8 , 8))\n",
        "  plt.subplot(2 , 1, 1)\n",
        "  plt.plot(total_acc , label = 'Training Accuracy')\n",
        "  plt.plot(total_val_acc , label ='Val Accuracy')\n",
        "  plt.plot([initial_epochs-1 , initial_epochs-1] , plt.ylim() , label = 'Start Fine-tuning...')\n",
        "  plt.legend(loc ='lower right')\n",
        "  plt.title('Training and Validation Accuracy')\n",
        "\n",
        "  # Make the plots for loss\n",
        "  plt.figure(figsize =(8 , 8))\n",
        "  plt.subplot(2 , 1, 2)\n",
        "  plt.plot(total_loss , label = 'Training Loss')\n",
        "  plt.plot(total_val_loss , label ='Val Loss')\n",
        "  plt.plot([initial_epochs-1 , initial_epochs-1] , plt.ylim() , label = 'Start Fine-tuning...')\n",
        "  plt.legend(loc ='upper right')\n",
        "  plt.title('Training and Validation Loss')\n",
        "\n",
        "\n",
        "\n"
      ],
      "execution_count": null,
      "outputs": []
    },
    {
      "cell_type": "code",
      "metadata": {
        "colab": {
          "base_uri": "https://localhost:8080/",
          "height": 507
        },
        "id": "21svpcJVc15m",
        "outputId": "fbd436ee-b23e-443d-97db-bc99ace19020"
      },
      "source": [
        "compare_historys(original_history= history_with_callback , \n",
        "                 new_history = history_fine_10_percent_data_aug , \n",
        "                 initial_epochs = 5)"
      ],
      "execution_count": null,
      "outputs": [
        {
          "output_type": "display_data",
          "data": {
            "image/png": "[encoded data removed]",
            "text/plain": [
              "<Figure size 576x576 with 1 Axes>"
            ]
          },
          "metadata": {
            "tags": [],
            "needs_background": "light"
          }
        },
        {
          "output_type": "display_data",
          "data": {
            "image/png": "[encoded data removed]",
            "text/plain": [
              "<Figure size 576x576 with 1 Axes>"
            ]
          },
          "metadata": {
            "tags": [],
            "needs_background": "light"
          }
        }
      ]
    },
    {
      "cell_type": "markdown",
      "metadata": {
        "id": "VTjs8YLHgfE1"
      },
      "source": [
        "Something's wrong with my model, gotta fix it!"
      ]
    },
    {
      "cell_type": "markdown",
      "metadata": {
        "id": "fxSg5-xahkU4"
      },
      "source": [
        "## Model 4: Fine-tuning and existing model on all of the data"
      ]
    },
    {
      "cell_type": "code",
      "metadata": {
        "id": "Ue1lGDv27OAM"
      },
      "source": [
        "# Download and unzip 10 classes of food 101 data with all images\n",
        "!wget https://storage.googleapis.com/ztm_tf_course/food_vision/10_food_classes_all_data.zip\n",
        "unzip_data('10_food_classes_all_data.zip')\n"
      ],
      "execution_count": null,
      "outputs": []
    },
    {
      "cell_type": "code",
      "metadata": {
        "id": "mAgwm6AuioT3"
      },
      "source": [
        "# Setup training and test dir\n",
        "train_dir_all_data = '10_food_classes_all_data/train'\n",
        "test_dir = '10_food_classes_all_data/test'"
      ],
      "execution_count": 144,
      "outputs": []
    },
    {
      "cell_type": "code",
      "metadata": {
        "colab": {
          "base_uri": "https://localhost:8080/"
        },
        "id": "uX1D6ILDi5gA",
        "outputId": "3fa04bb4-98f8-442d-93a4-155ccc548e33"
      },
      "source": [
        "# How many images are we working with now? \n",
        "walk_through_dir(train_dir_all_data)"
      ],
      "execution_count": 145,
      "outputs": [
        {
          "output_type": "stream",
          "text": [
            "There are 10 directories and 0 images in '10_food_classes_all_data/train'.\n",
            "There are 0 directories and 750 images in '10_food_classes_all_data/train/grilled_salmon'.\n",
            "There are 0 directories and 750 images in '10_food_classes_all_data/train/ice_cream'.\n",
            "There are 0 directories and 750 images in '10_food_classes_all_data/train/fried_rice'.\n",
            "There are 0 directories and 750 images in '10_food_classes_all_data/train/chicken_curry'.\n",
            "There are 0 directories and 750 images in '10_food_classes_all_data/train/sushi'.\n",
            "There are 0 directories and 750 images in '10_food_classes_all_data/train/chicken_wings'.\n",
            "There are 0 directories and 750 images in '10_food_classes_all_data/train/pizza'.\n",
            "There are 0 directories and 750 images in '10_food_classes_all_data/train/ramen'.\n",
            "There are 0 directories and 750 images in '10_food_classes_all_data/train/hamburger'.\n",
            "There are 0 directories and 750 images in '10_food_classes_all_data/train/steak'.\n"
          ],
          "name": "stdout"
        }
      ]
    },
    {
      "cell_type": "code",
      "metadata": {
        "colab": {
          "base_uri": "https://localhost:8080/"
        },
        "id": "CPHYd6M9i-HJ",
        "outputId": "bae869f1-e408-446b-c685-60a6943983d4"
      },
      "source": [
        "# Setup data inputs \n",
        "import tensorflow as tf\n",
        "IMG_SIZE = (224 , 224)\n",
        "BATCH_SIZE = 32\n",
        "\n",
        "train_data_10_classes_full = tf.keras.preprocessing.image_dataset_from_directory(train_dir_all_data , \n",
        "                                                                                 image_size = IMG_SIZE , \n",
        "                                                                                 batch_size = BATCH_SIZE , \n",
        "                                                                                 label_mode = 'categorical' )\n",
        "\n",
        "test_data = tf.keras.preprocessing.image_dataset_from_directory(test_dir , \n",
        "                                                                image_size= IMG_SIZE , \n",
        "                                                                label_mode = 'categorical' )"
      ],
      "execution_count": 146,
      "outputs": [
        {
          "output_type": "stream",
          "text": [
            "Found 7500 files belonging to 10 classes.\n",
            "Found 2500 files belonging to 10 classes.\n"
          ],
          "name": "stdout"
        }
      ]
    },
    {
      "cell_type": "markdown",
      "metadata": {
        "id": "U0Z6gDGkjz4A"
      },
      "source": [
        "The test dataset we've loaded in is the same as what we've been using for previous.\n",
        "\n",
        "And I will be creating the `model_2` again since the one I did before showing weird results, will call this one as `new_model_2`."
      ]
    },
    {
      "cell_type": "code",
      "metadata": {
        "colab": {
          "base_uri": "https://localhost:8080/"
        },
        "id": "c-2nLpTAqQgb",
        "outputId": "53f370d8-28f9-4575-d7e2-3ec7dbfe6fa2"
      },
      "source": [
        "# Putting most of em into one cell \n",
        "train_dir_10_percent = \"10_food_classes_10_percent/train/\"\n",
        "test_dir = \"10_food_classes_10_percent/test/\"\n",
        "\n",
        "# Setup data inputs\n",
        "import tensorflow as tf\n",
        "IMG_SIZE = (224, 224)\n",
        "train_data_10_percent = tf.keras.preprocessing.image_dataset_from_directory(train_dir_10_percent,\n",
        "                                                                            label_mode=\"categorical\",\n",
        "                                                                            image_size=IMG_SIZE)\n",
        "\n",
        "test_data = tf.keras.preprocessing.image_dataset_from_directory(test_dir,\n",
        "                                                                label_mode=\"categorical\",\n",
        "                                                                image_size=IMG_SIZE)\n"
      ],
      "execution_count": 143,
      "outputs": [
        {
          "output_type": "stream",
          "text": [
            "Found 750 files belonging to 10 classes.\n",
            "Found 2500 files belonging to 10 classes.\n"
          ],
          "name": "stdout"
        }
      ]
    },
    {
      "cell_type": "code",
      "metadata": {
        "id": "tTPbzOgLr1iw"
      },
      "source": [
        "from tensorflow.keras import layers \n",
        "from tensorflow.keras.layers.experimental import preprocessing \n",
        "from tensorflow.keras.models import Sequential\n",
        "\n",
        "# Build data augmentation as a layer \n",
        "data_augmentation = Sequential([\n",
        "  preprocessing.RandomFlip('horizontal') , \n",
        "  preprocessing.RandomHeight(0.2), \n",
        "  preprocessing.RandomWidth(0.2) , \n",
        "  preprocessing.RandomZoom(0.2),\n",
        "  preprocessing.RandomRotation(0.2)\n",
        "] , name = 'data_augmentation')\n",
        "\n",
        "# Setup the input shape to our model \n",
        "input_shape = (224 ,224 , 3)\n",
        "\n",
        "# Create a frozen base model \n",
        "base_model = tf.keras.applications.EfficientNetB0(include_top= False) # we wanna add our own top (output layer)\n",
        "base_model.trainable = False\n",
        "\n",
        "# Create input and output layers \n",
        "inputs = layers.Input(shape = input_shape , name = 'input_layer') # Create input layer \n",
        "x = data_augmentation(inputs) # augment our training \n",
        "\n",
        "# Creating the efficientnetb0 model\n",
        "x = base_model(x , training = False) # Passing augmented images to our base model \n",
        "x = layers.GlobalAveragePooling2D(name = 'global_average_pooling2D_layer')(x)\n",
        "outputs = layers.Dense(10 , activation ='softmax' , name ='output_layer')(x)\n",
        "\n",
        "# Model taking inputs and outputs \n",
        "new_model_2 = keras.Model(inputs , outputs)\n",
        "\n",
        "# Compile our model \n",
        "new_model_2.compile(loss = tf.keras.losses.CategoricalCrossentropy(), \n",
        "                    optimizer = tf.keras.optimizers.Adam(lr = 0.001) , \n",
        "                    metrics = ['accuracy'])\n"
      ],
      "execution_count": 129,
      "outputs": []
    },
    {
      "cell_type": "code",
      "metadata": {
        "id": "eatx70Z-wa1C"
      },
      "source": [
        "# Setup checkpoint path \n",
        "new_checkpoint_path = \"new_ten_percent_model_checkpoints_weights/checkpoint.ckpt\" \n",
        "\n",
        "# Create a ModelCheckpoint callback that saves weights only \n",
        "new_checkpoint_callback = tf.keras.callbacks.ModelCheckpoint(filepath = new_checkpoint_path ,  \n",
        "                                                             save_weights_only = True , # Set to False to save the entire model\n",
        "                                                             save_best_only = False , # set to True to save only the best model instead of a model every epoch\n",
        "                                                             save_freq = 'epoch' , # save every epoch\n",
        "                                                             verbose = 1)"
      ],
      "execution_count": 130,
      "outputs": []
    },
    {
      "cell_type": "code",
      "metadata": {
        "colab": {
          "base_uri": "https://localhost:8080/"
        },
        "id": "QuTHZPegyK5U",
        "outputId": "dc754eaa-d905-46b9-c73a-1b9fc65c4550"
      },
      "source": [
        "# Fit the model saving every epoch \n",
        "initial_epochs = 5\n",
        "history_10_percent_data_aug = new_model_2.fit(train_data_10_percent,\n",
        "                                          epochs=initial_epochs,\n",
        "                                          validation_data=test_data,\n",
        "                                          validation_steps=int(0.25 * len(test_data)), # do less steps per validation (quicker)\n",
        "                                          callbacks=[create_tensorboard_callback(\"transfer_learning\", \"10_percent_data_aug\"), \n",
        "                                                     new_checkpoint_callback])"
      ],
      "execution_count": 131,
      "outputs": [
        {
          "output_type": "stream",
          "text": [
            "Saving TensorBoard log files to: transfer_learning/10_percent_data_aug/20210324-154100\n",
            "Epoch 1/5\n",
            "24/24 [==============================] - 21s 593ms/step - loss: 2.1592 - accuracy: 0.2362 - val_loss: 1.4382 - val_accuracy: 0.6793\n",
            "\n",
            "Epoch 00001: saving model to new_ten_percent_model_checkpoints_weights/checkpoint.ckpt\n",
            "Epoch 2/5\n",
            "24/24 [==============================] - 11s 447ms/step - loss: 1.4031 - accuracy: 0.6685 - val_loss: 1.0408 - val_accuracy: 0.7582\n",
            "\n",
            "Epoch 00002: saving model to new_ten_percent_model_checkpoints_weights/checkpoint.ckpt\n",
            "Epoch 3/5\n",
            "24/24 [==============================] - 12s 473ms/step - loss: 1.0655 - accuracy: 0.7606 - val_loss: 0.8588 - val_accuracy: 0.7829\n",
            "\n",
            "Epoch 00003: saving model to new_ten_percent_model_checkpoints_weights/checkpoint.ckpt\n",
            "Epoch 4/5\n",
            "24/24 [==============================] - 11s 454ms/step - loss: 0.9083 - accuracy: 0.7871 - val_loss: 0.7518 - val_accuracy: 0.8010\n",
            "\n",
            "Epoch 00004: saving model to new_ten_percent_model_checkpoints_weights/checkpoint.ckpt\n",
            "Epoch 5/5\n",
            "24/24 [==============================] - 11s 453ms/step - loss: 0.7804 - accuracy: 0.8119 - val_loss: 0.6878 - val_accuracy: 0.8207\n",
            "\n",
            "Epoch 00005: saving model to new_ten_percent_model_checkpoints_weights/checkpoint.ckpt\n"
          ],
          "name": "stdout"
        }
      ]
    },
    {
      "cell_type": "code",
      "metadata": {
        "colab": {
          "base_uri": "https://localhost:8080/"
        },
        "id": "wtxWzMT3yPt8",
        "outputId": "cc08ede9-3cc6-415f-cd2c-98e6622e5012"
      },
      "source": [
        "# Evaluate on the test data\n",
        "results_10_percent_data_aug = new_model_2.evaluate(test_data)\n",
        "results_10_percent_data_aug"
      ],
      "execution_count": 132,
      "outputs": [
        {
          "output_type": "stream",
          "text": [
            "79/79 [==============================] - 15s 186ms/step - loss: 0.6827 - accuracy: 0.8200\n"
          ],
          "name": "stdout"
        },
        {
          "output_type": "execute_result",
          "data": {
            "text/plain": [
              "[0.6826805472373962, 0.8199999928474426]"
            ]
          },
          "metadata": {
            "tags": []
          },
          "execution_count": 132
        }
      ]
    },
    {
      "cell_type": "code",
      "metadata": {
        "colab": {
          "base_uri": "https://localhost:8080/",
          "height": 573
        },
        "id": "M59C8tyAzMbO",
        "outputId": "4d00de1f-3c50-44b7-a8fe-bcd97c9c4e61"
      },
      "source": [
        "# Plot model loss curves\n",
        "plot_loss_curves(history_10_percent_data_aug)"
      ],
      "execution_count": 133,
      "outputs": [
        {
          "output_type": "display_data",
          "data": {
            "image/png": "[encoded data removed]",
            "text/plain": [
              "<Figure size 432x288 with 1 Axes>"
            ]
          },
          "metadata": {
            "tags": [],
            "needs_background": "light"
          }
        },
        {
          "output_type": "display_data",
          "data": {
            "image/png": "[encoded data removed]",
            "text/plain": [
              "<Figure size 432x288 with 1 Axes>"
            ]
          },
          "metadata": {
            "tags": [],
            "needs_background": "light"
          }
        }
      ]
    },
    {
      "cell_type": "code",
      "metadata": {
        "colab": {
          "base_uri": "https://localhost:8080/"
        },
        "id": "jw5VuFV60KI8",
        "outputId": "270b5288-f36b-4ec4-9a17-931f4e14110b"
      },
      "source": [
        "#  Load in saved model weights and evaluate model\n",
        "new_model_2.load_weights(new_checkpoint_path)\n",
        "new_loaded_weights_model_results = new_model_2.evaluate(test_data)"
      ],
      "execution_count": 134,
      "outputs": [
        {
          "output_type": "stream",
          "text": [
            "79/79 [==============================] - 15s 185ms/step - loss: 0.6827 - accuracy: 0.8200\n"
          ],
          "name": "stdout"
        }
      ]
    },
    {
      "cell_type": "markdown",
      "metadata": {
        "id": "WYxH_oaq0k8X"
      },
      "source": [
        "**Fine tuning** "
      ]
    },
    {
      "cell_type": "code",
      "metadata": {
        "id": "-3fKVULT08Fy"
      },
      "source": [
        "base_model.trainable = True\n",
        "\n",
        "# Freeze all layers except for the\n",
        "for layer in base_model.layers[:-10]:\n",
        "  layer.trainable = False\n",
        "\n",
        "# Recompile the model (always recompile after any adjustments to a model)\n",
        "new_model_2.compile(loss=\"categorical_crossentropy\",\n",
        "              optimizer=tf.keras.optimizers.Adam(lr=0.0001), # lr is 10x lower than before for fine-tuning\n",
        "              metrics=[\"accuracy\"])"
      ],
      "execution_count": 135,
      "outputs": []
    },
    {
      "cell_type": "code",
      "metadata": {
        "id": "EUjBOjD_1Fz7"
      },
      "source": [
        "# Check which layers are tuneable (trainable)\n",
        "for layer_number, layer in enumerate(base_model.layers):\n",
        "  print(layer_number, layer.name, layer.trainable)"
      ],
      "execution_count": null,
      "outputs": []
    },
    {
      "cell_type": "code",
      "metadata": {
        "colab": {
          "base_uri": "https://localhost:8080/"
        },
        "id": "WEcWA1lG2eip",
        "outputId": "5c8381ff-fabe-4d15-8d3a-97ceaafcc346"
      },
      "source": [
        "print(len(new_model_2.trainable_variables))\n"
      ],
      "execution_count": 152,
      "outputs": [
        {
          "output_type": "stream",
          "text": [
            "12\n"
          ],
          "name": "stdout"
        }
      ]
    },
    {
      "cell_type": "code",
      "metadata": {
        "colab": {
          "base_uri": "https://localhost:8080/"
        },
        "id": "FtVEgxP04AT2",
        "outputId": "8abe8115-a569-4558-b725-e0f5a309f384"
      },
      "source": [
        "# Fine tune for another 5 epochs \n",
        "fine_tune_epochs = initial_epochs + 5\n",
        "\n",
        "# Refit the model (same as new_model_2 except wit more trainable layers)\n",
        "history_fine_10_percent_data_aug = new_model_2.fit(train_data_10_percent , \n",
        "                                                   epochs = fine_tune_epochs ,\n",
        "                                                   initial_epoch = history_10_percent_data_aug.epoch[-1] ,\n",
        "                                                   validation_data = test_data , \n",
        "                                                   validation_steps = int(0.25 * len(test_data)) , \n",
        "                                                   callbacks = [create_tensorboard_callback('transfer_learning' , \n",
        "                                                                                            \"10_percent_fine_tune_last_10\")])"
      ],
      "execution_count": 139,
      "outputs": [
        {
          "output_type": "stream",
          "text": [
            "Saving TensorBoard log files to: transfer_learning/10_percent_fine_tune_last_10/20210324-154320\n",
            "Epoch 5/10\n",
            "24/24 [==============================] - 20s 567ms/step - loss: 0.6591 - accuracy: 0.8482 - val_loss: 0.5449 - val_accuracy: 0.8339\n",
            "Epoch 6/10\n",
            "24/24 [==============================] - 12s 465ms/step - loss: 0.5516 - accuracy: 0.8257 - val_loss: 0.5021 - val_accuracy: 0.8405\n",
            "Epoch 7/10\n",
            "24/24 [==============================] - 11s 457ms/step - loss: 0.4981 - accuracy: 0.8480 - val_loss: 0.5322 - val_accuracy: 0.8273\n",
            "Epoch 8/10\n",
            "24/24 [==============================] - 12s 500ms/step - loss: 0.4303 - accuracy: 0.8663 - val_loss: 0.4898 - val_accuracy: 0.8470\n",
            "Epoch 9/10\n",
            "24/24 [==============================] - 12s 504ms/step - loss: 0.3586 - accuracy: 0.8932 - val_loss: 0.4557 - val_accuracy: 0.8438\n",
            "Epoch 10/10\n",
            "24/24 [==============================] - 12s 472ms/step - loss: 0.3499 - accuracy: 0.9015 - val_loss: 0.4761 - val_accuracy: 0.8322\n"
          ],
          "name": "stdout"
        }
      ]
    },
    {
      "cell_type": "code",
      "metadata": {
        "colab": {
          "base_uri": "https://localhost:8080/"
        },
        "id": "YY_bxVR_5X_8",
        "outputId": "a717efb0-39aa-4cc0-f81e-4cd3eb8bccf7"
      },
      "source": [
        "# Evaluate the model on the test data\n",
        "results_fine_tune_10_percent = new_model_2.evaluate(test_data)"
      ],
      "execution_count": 151,
      "outputs": [
        {
          "output_type": "stream",
          "text": [
            "79/79 [==============================] - 15s 187ms/step - loss: 0.4919 - accuracy: 0.8352\n"
          ],
          "name": "stdout"
        }
      ]
    },
    {
      "cell_type": "code",
      "metadata": {
        "colab": {
          "base_uri": "https://localhost:8080/",
          "height": 507
        },
        "id": "DKxEXXQI6eQZ",
        "outputId": "c93cba3d-dafb-45da-c63c-529fe09c3765"
      },
      "source": [
        "# Now we're gonna plot and see how the curves look\n",
        "compare_historys(original_history=history_10_percent_data_aug, \n",
        "                 new_history=history_fine_10_percent_data_aug, \n",
        "                 initial_epochs=5)"
      ],
      "execution_count": 148,
      "outputs": [
        {
          "output_type": "display_data",
          "data": {
            "image/png": "[encoded data removed]",
            "text/plain": [
              "<Figure size 576x576 with 1 Axes>"
            ]
          },
          "metadata": {
            "tags": [],
            "needs_background": "light"
          }
        },
        {
          "output_type": "display_data",
          "data": {
            "image/png": "[encoded data removed]",
            "text/plain": [
              "<Figure size 576x576 with 1 Axes>"
            ]
          },
          "metadata": {
            "tags": [],
            "needs_background": "light"
          }
        }
      ]
    },
    {
      "cell_type": "markdown",
      "metadata": {
        "id": "hWkinH3h6kAx"
      },
      "source": [
        "**Perfect** I think I might have messed up freezing and unfreezing or mixing up things in te the modelling section. It's cool I went over again and typed out everything by hand to fix this curve.\n",
        "\n",
        "### Back to `model_4` where we will train with 10% of the data with full images. \n",
        "\n",
        "The test dataset we've loaded in is the same as what we've been using for previous experiments (all experiments have used the same test dataset). Let's verify this"
      ]
    },
    {
      "cell_type": "code",
      "metadata": {
        "colab": {
          "base_uri": "https://localhost:8080/"
        },
        "id": "tcqveI0R6y_0",
        "outputId": "83531587-0101-4a91-e89f-00b178e22d4c"
      },
      "source": [
        "# Evalaute new_model_2 (this is fine-tuned on the 10% of the data)\n",
        "new_model_2.evaluate(test_data)"
      ],
      "execution_count": 149,
      "outputs": [
        {
          "output_type": "stream",
          "text": [
            "79/79 [==============================] - 16s 188ms/step - loss: 0.4919 - accuracy: 0.8352\n"
          ],
          "name": "stdout"
        },
        {
          "output_type": "execute_result",
          "data": {
            "text/plain": [
              "[0.49191635847091675, 0.8352000117301941]"
            ]
          },
          "metadata": {
            "tags": []
          },
          "execution_count": 149
        }
      ]
    },
    {
      "cell_type": "code",
      "metadata": {
        "colab": {
          "base_uri": "https://localhost:8080/"
        },
        "id": "wxLsa3_MCdRC",
        "outputId": "884c1652-607a-4ffb-c59a-72850f15d32e"
      },
      "source": [
        "# Should match the results \n",
        "results_fine_tune_10_percent"
      ],
      "execution_count": 153,
      "outputs": [
        {
          "output_type": "execute_result",
          "data": {
            "text/plain": [
              "[0.4919164180755615, 0.8352000117301941]"
            ]
          },
          "metadata": {
            "tags": []
          },
          "execution_count": 153
        }
      ]
    },
    {
      "cell_type": "markdown",
      "metadata": {
        "id": "Bi07egMLClhc"
      },
      "source": [
        "We are going to revert our `new_model_2` back to the checkpointed version. Because our workflow is, \n",
        "- Feature Extract the model. (checkpointed version where feature extracted stored)\n",
        "- Fine tune it. \n",
        "\n",
        "To train a fine_tuning model `model_4` we need to revert `model_2` back to it's feature extraction weights. "
      ]
    },
    {
      "cell_type": "code",
      "metadata": {
        "colab": {
          "base_uri": "https://localhost:8080/"
        },
        "id": "SHa135yUDRco",
        "outputId": "799e80c0-6dc6-473f-db9b-e3e41654a108"
      },
      "source": [
        "# Loading weights from the checkpoints, that way we can fine-tune the same stage the 10% data model was fine-tuned from\n",
        "new_model_2.load_weights(new_checkpoint_path)"
      ],
      "execution_count": 155,
      "outputs": [
        {
          "output_type": "execute_result",
          "data": {
            "text/plain": [
              "<tensorflow.python.training.tracking.util.CheckpointLoadStatus at 0x7f4e23b2ead0>"
            ]
          },
          "metadata": {
            "tags": []
          },
          "execution_count": 155
        }
      ]
    },
    {
      "cell_type": "code",
      "metadata": {
        "colab": {
          "base_uri": "https://localhost:8080/"
        },
        "id": "mgn2PfWjEtR3",
        "outputId": "1ba5994b-caa2-48ca-cc24-101cf87d169d"
      },
      "source": [
        "# Let's evaluate our model on the new_model_2 where we loaded_weights\n",
        "new_model_2.evaluate(test_data) # this should be worse"
      ],
      "execution_count": 156,
      "outputs": [
        {
          "output_type": "stream",
          "text": [
            "79/79 [==============================] - 16s 191ms/step - loss: 0.6827 - accuracy: 0.8200\n"
          ],
          "name": "stdout"
        },
        {
          "output_type": "execute_result",
          "data": {
            "text/plain": [
              "[0.6826806664466858, 0.8199999928474426]"
            ]
          },
          "metadata": {
            "tags": []
          },
          "execution_count": 156
        }
      ]
    },
    {
      "cell_type": "code",
      "metadata": {
        "colab": {
          "base_uri": "https://localhost:8080/"
        },
        "id": "YlqAOAFFFWMV",
        "outputId": "ef5101e1-60c4-4394-a323-e587b8511e42"
      },
      "source": [
        "# Check to see if our new_model_2 has been reverted back to feature exttraction results\n",
        "results_10_percent_data_aug  # Evaluated on feature extracted model"
      ],
      "execution_count": 157,
      "outputs": [
        {
          "output_type": "execute_result",
          "data": {
            "text/plain": [
              "[0.6826805472373962, 0.8199999928474426]"
            ]
          },
          "metadata": {
            "tags": []
          },
          "execution_count": 157
        }
      ]
    },
    {
      "cell_type": "code",
      "metadata": {
        "id": "IWfS4N_bGDKF"
      },
      "source": [
        ""
      ],
      "execution_count": null,
      "outputs": []
    }
  ]
}
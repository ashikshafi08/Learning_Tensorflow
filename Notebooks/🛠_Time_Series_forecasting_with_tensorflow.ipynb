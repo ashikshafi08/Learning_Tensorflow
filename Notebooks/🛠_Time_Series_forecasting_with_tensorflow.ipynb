{
  "nbformat": 4,
  "nbformat_minor": 0,
  "metadata": {
    "colab": {
      "name": "🛠 Time_Series_forecasting_with_tensorflow.ipynb",
      "provenance": [],
      "collapsed_sections": [],
      "toc_visible": true,
      "authorship_tag": "ABX9TyPR+tutPzP3s2lD7H6VjduZ",
      "include_colab_link": true
    },
    "kernelspec": {
      "name": "python3",
      "display_name": "Python 3"
    },
    "language_info": {
      "name": "python"
    },
    "accelerator": "GPU"
  },
  "cells": [
    {
      "cell_type": "markdown",
      "metadata": {
        "id": "view-in-github",
        "colab_type": "text"
      },
      "source": [
        "<a href=\"https://colab.research.google.com/github/ashikshafi08/Learning_Tensorflow/blob/main/Notebooks/%F0%9F%9B%A0_Time_Series_forecasting_with_tensorflow.ipynb\" target=\"_parent\"><img src=\"https://colab.research.google.com/assets/colab-badge.svg\" alt=\"Open In Colab\"/></a>"
      ]
    },
    {
      "cell_type": "markdown",
      "metadata": {
        "id": "Otii3aMvgynh"
      },
      "source": [
        "# Milestone Project 3: Time series forecasting in TensorFlow (BitPredict 💰📈)\n",
        "\n",
        "The goal of this notebook is to get myself familiar with working with the time series data. In here, we're going to build a series of models in an attempt to predict the price of a **Bitcoin**\n",
        "\n",
        "> 🔑 Note: ⚠️ This is not financial advice, as you'll see time series forecasting for stock market prices is actually quite terrible.\n",
        "\n",
        "## Things we're going to cover \n",
        "\n",
        "- Get time series data (the historical price of Bitcoin)\n",
        "  - Load in time series data using pandas/Python's CSV module\n",
        "- Format data for a time series problem \n",
        "  - Creating training and test sets (the wrong way)\n",
        "  - Creating training and test sets (the right way)\n",
        "  - Visualizing time series data\n",
        "  - Turning time series data into a supervised learning problem (windowing)\n",
        "  - Preparing univariate and multivariate (more than one variable) data. \n",
        "- Evaluating a time series forecasting model. \n",
        "- Setting up a series of deeplearning modelling experiments. \n",
        "  - Dense (fully connected) networks \n",
        "  - Sequence models (LSTM and Conv1D) \n",
        "  - Ensembling (combining multiple models together) \n",
        "  - Multivariate models \n",
        "  - Replicating the N-BEATS algorithm (from the paper itself) using the TensorFlow Subclassing layers. \n",
        "- Creating a modelling checkpoint to save the best perfomring mdoel during training. \n",
        "- Making predictions (forecasts) with a time series model. \n",
        "- Creating prediction interval for time series model forecasts. \n",
        "- Discussing two different types of uncertainity in machine learning (data uncertainity and model uncertainity). \n",
        "- Demonstrating why forecasting in an open system is BullShit (the turkey problem). \n",
        "\n",
        "\n",
        "### A bit about forecasting & Time Series \n",
        "\n",
        "Some things are easier to forecast than others. The time of the sunrise tomorrow morning can be forecast precisely. On the other hand, tomorrow’s lotto numbers cannot be forecast with any accuracy. The predictability of an event or a quantity depends on several factors including:\n",
        "\n",
        "- how well we understand the factors that contribute to it;\n",
        "- how much data is available;\n",
        "- how similar the future is to the past;\n",
        "- whether the forecasts can affect the thing we are trying to forecast.\n",
        "\n",
        "\n",
        "### In a nutshell \n",
        "\n",
        "- Downloading and formatting time series data (the historical price of Bitcoin). \n",
        "- Writing **a preprocessing function** to preparrre our time series data \n",
        "- Setting up **multiple time series modelling experiments**. \n",
        "- Building a **multivariate model** to take in multivariate time series data. \n",
        "- Replicating the N-Beats algorithm using TensorFlow. \n",
        "- Making forecasts with **prediction intervals**. \n",
        "- Demonstrating **why time series forecasting can be bullshit** with the turkey problem. \n",
        "\n",
        "\n",
        "## Downloading the getting to know the data \n",
        "We're going to be using historical price of data of Bitcoin to try and predict the future price of Bitcoin. "
      ]
    },
    {
      "cell_type": "code",
      "metadata": {
        "id": "6hiwBIe6hhih",
        "colab": {
          "base_uri": "https://localhost:8080/"
        },
        "outputId": "6af3e8a5-e991-44ce-cb1b-85c33dbc8947"
      },
      "source": [
        "# Downloading the dat \n",
        "!wget https://raw.githubusercontent.com/mrdbourke/tensorflow-deep-learning/main/extras/BTC_USD_2013-10-01_2021-05-18-CoinDesk.csv"
      ],
      "execution_count": 1,
      "outputs": [
        {
          "output_type": "stream",
          "text": [
            "--2021-08-25 21:44:18--  https://raw.githubusercontent.com/mrdbourke/tensorflow-deep-learning/main/extras/BTC_USD_2013-10-01_2021-05-18-CoinDesk.csv\n",
            "Resolving raw.githubusercontent.com (raw.githubusercontent.com)... 185.199.108.133, 185.199.110.133, 185.199.109.133, ...\n",
            "Connecting to raw.githubusercontent.com (raw.githubusercontent.com)|185.199.108.133|:443... connected.\n",
            "HTTP request sent, awaiting response... 200 OK\n",
            "Length: 178509 (174K) [text/plain]\n",
            "Saving to: ‘BTC_USD_2013-10-01_2021-05-18-CoinDesk.csv’\n",
            "\n",
            "BTC_USD_2013-10-01_ 100%[===================>] 174.33K  --.-KB/s    in 0.03s   \n",
            "\n",
            "2021-08-25 21:44:19 (5.73 MB/s) - ‘BTC_USD_2013-10-01_2021-05-18-CoinDesk.csv’ saved [178509/178509]\n",
            "\n"
          ],
          "name": "stdout"
        }
      ]
    },
    {
      "cell_type": "markdown",
      "metadata": {
        "id": "KdAYOKHN0gSr"
      },
      "source": [
        "#### Importing the time series data using Pandas \n",
        "\n",
        "Let's use pandas and visualize the data in a pretty table. \n",
        "\n",
        "And because our data has a data component, we'll tell pandas to parse the dates using the `parse_dates` parameter pasing it the name of the data column. "
      ]
    },
    {
      "cell_type": "code",
      "metadata": {
        "colab": {
          "base_uri": "https://localhost:8080/",
          "height": 235
        },
        "id": "CJqVFmut1Gup",
        "outputId": "f24205d6-ebc2-4c11-eede-3974dc43c0e6"
      },
      "source": [
        "import pandas as pd \n",
        "\n",
        "# parse dates and set data column to index \n",
        "df = pd.read_csv('/content/BTC_USD_2013-10-01_2021-05-18-CoinDesk.csv' , \n",
        "                 parse_dates = ['Date'] , \n",
        "                 index_col = ['Date']) # setting the Date col to index column \n",
        "\n",
        "df.head()"
      ],
      "execution_count": 2,
      "outputs": [
        {
          "output_type": "execute_result",
          "data": {
            "text/html": [
              "<div>\n",
              "<style scoped>\n",
              "    .dataframe tbody tr th:only-of-type {\n",
              "        vertical-align: middle;\n",
              "    }\n",
              "\n",
              "    .dataframe tbody tr th {\n",
              "        vertical-align: top;\n",
              "    }\n",
              "\n",
              "    .dataframe thead th {\n",
              "        text-align: right;\n",
              "    }\n",
              "</style>\n",
              "<table border=\"1\" class=\"dataframe\">\n",
              "  <thead>\n",
              "    <tr style=\"text-align: right;\">\n",
              "      <th></th>\n",
              "      <th>Currency</th>\n",
              "      <th>Closing Price (USD)</th>\n",
              "      <th>24h Open (USD)</th>\n",
              "      <th>24h High (USD)</th>\n",
              "      <th>24h Low (USD)</th>\n",
              "    </tr>\n",
              "    <tr>\n",
              "      <th>Date</th>\n",
              "      <th></th>\n",
              "      <th></th>\n",
              "      <th></th>\n",
              "      <th></th>\n",
              "      <th></th>\n",
              "    </tr>\n",
              "  </thead>\n",
              "  <tbody>\n",
              "    <tr>\n",
              "      <th>2013-10-01</th>\n",
              "      <td>BTC</td>\n",
              "      <td>123.65499</td>\n",
              "      <td>124.30466</td>\n",
              "      <td>124.75166</td>\n",
              "      <td>122.56349</td>\n",
              "    </tr>\n",
              "    <tr>\n",
              "      <th>2013-10-02</th>\n",
              "      <td>BTC</td>\n",
              "      <td>125.45500</td>\n",
              "      <td>123.65499</td>\n",
              "      <td>125.75850</td>\n",
              "      <td>123.63383</td>\n",
              "    </tr>\n",
              "    <tr>\n",
              "      <th>2013-10-03</th>\n",
              "      <td>BTC</td>\n",
              "      <td>108.58483</td>\n",
              "      <td>125.45500</td>\n",
              "      <td>125.66566</td>\n",
              "      <td>83.32833</td>\n",
              "    </tr>\n",
              "    <tr>\n",
              "      <th>2013-10-04</th>\n",
              "      <td>BTC</td>\n",
              "      <td>118.67466</td>\n",
              "      <td>108.58483</td>\n",
              "      <td>118.67500</td>\n",
              "      <td>107.05816</td>\n",
              "    </tr>\n",
              "    <tr>\n",
              "      <th>2013-10-05</th>\n",
              "      <td>BTC</td>\n",
              "      <td>121.33866</td>\n",
              "      <td>118.67466</td>\n",
              "      <td>121.93633</td>\n",
              "      <td>118.00566</td>\n",
              "    </tr>\n",
              "  </tbody>\n",
              "</table>\n",
              "</div>"
            ],
            "text/plain": [
              "           Currency  Closing Price (USD)  ...  24h High (USD)  24h Low (USD)\n",
              "Date                                      ...                               \n",
              "2013-10-01      BTC            123.65499  ...       124.75166      122.56349\n",
              "2013-10-02      BTC            125.45500  ...       125.75850      123.63383\n",
              "2013-10-03      BTC            108.58483  ...       125.66566       83.32833\n",
              "2013-10-04      BTC            118.67466  ...       118.67500      107.05816\n",
              "2013-10-05      BTC            121.33866  ...       121.93633      118.00566\n",
              "\n",
              "[5 rows x 5 columns]"
            ]
          },
          "metadata": {},
          "execution_count": 2
        }
      ]
    },
    {
      "cell_type": "code",
      "metadata": {
        "colab": {
          "base_uri": "https://localhost:8080/"
        },
        "id": "j4o2m-gT1hhJ",
        "outputId": "7815b784-817b-4fce-8e9e-de540fc801b8"
      },
      "source": [
        "# Info about our data \n",
        "df.info()"
      ],
      "execution_count": 3,
      "outputs": [
        {
          "output_type": "stream",
          "text": [
            "<class 'pandas.core.frame.DataFrame'>\n",
            "DatetimeIndex: 2787 entries, 2013-10-01 to 2021-05-18\n",
            "Data columns (total 5 columns):\n",
            " #   Column               Non-Null Count  Dtype  \n",
            "---  ------               --------------  -----  \n",
            " 0   Currency             2787 non-null   object \n",
            " 1   Closing Price (USD)  2787 non-null   float64\n",
            " 2   24h Open (USD)       2787 non-null   float64\n",
            " 3   24h High (USD)       2787 non-null   float64\n",
            " 4   24h Low (USD)        2787 non-null   float64\n",
            "dtypes: float64(4), object(1)\n",
            "memory usage: 130.6+ KB\n"
          ],
          "name": "stdout"
        }
      ]
    },
    {
      "cell_type": "code",
      "metadata": {
        "colab": {
          "base_uri": "https://localhost:8080/"
        },
        "id": "NhkyEcN0116y",
        "outputId": "8a588297-147b-426e-c05b-8dde57295136"
      },
      "source": [
        "# How many samples do we have? \n",
        "len(df)"
      ],
      "execution_count": 4,
      "outputs": [
        {
          "output_type": "execute_result",
          "data": {
            "text/plain": [
              "2787"
            ]
          },
          "metadata": {},
          "execution_count": 4
        }
      ]
    },
    {
      "cell_type": "markdown",
      "metadata": {
        "id": "E6ISySas170z"
      },
      "source": [
        "We've collected the historical price of the Bitcoin for the past 8 years but there's only **2787 samples**. \n",
        "\n",
        "Typically deeplearning models usually like lots and lots of samples (where lots and lots and lots can be thousands to tens of thousands to millions). \n",
        "\n",
        "A smaller number of samples is something you'll often run into with time series data problems. \n",
        "\n",
        "> **Note**: The seasonality of the time series dataset is referred as the number of samples per yes. So for our Bitcoint data, it has a seasonlity of daily or value of 365 because we collect one sample per dat meaning we'll get 365 samples per year. \n",
        "\n",
        "There are various patterns in the time series data.  \n",
        "\n",
        "- **Trend** —> time series has a clear long-term increase or decrease (may or may not be linear)\n",
        "- **Seasonal** —> time series affected by a seasonal factors such as time of year (e.g. increased sales towards end of year) or day of week.\n",
        "- **Cyclic** —> time series shows rise and falls over an unfixed period, these tend to be longer/more variable than seasonal patterns.\n",
        "\n",
        "**Difference between season and cyclic** \n",
        "\n",
        "Seasonal is fixed where the things happen at a particular year or week etc.. But with cyclic its not the case, as there is no any time frame to determine when the events could take place\n",
        "\n",
        "- **Univariate** --> Only one variable (using the price of Bitcoin to predict the price of Bitcoin). \n",
        "- **Multivariate** --> For Multivariate, there are more than one variable (using the price of Bitcoin as well as the block reward size  to predict the price of Bitcoin) which is using multiple features for prediction. "
      ]
    },
    {
      "cell_type": "code",
      "metadata": {
        "colab": {
          "base_uri": "https://localhost:8080/",
          "height": 450
        },
        "id": "7jlapWq5B7Gq",
        "outputId": "1f876aee-ff12-4601-9e62-e69c80f73e92"
      },
      "source": [
        "# Only getting the closing price for each dat \n",
        "bitcoin_prices = pd.DataFrame(df['Closing Price (USD)']).rename(columns = {'Closing Price (USD)': 'Price'})\n",
        "bitcoin_prices"
      ],
      "execution_count": 5,
      "outputs": [
        {
          "output_type": "execute_result",
          "data": {
            "text/html": [
              "<div>\n",
              "<style scoped>\n",
              "    .dataframe tbody tr th:only-of-type {\n",
              "        vertical-align: middle;\n",
              "    }\n",
              "\n",
              "    .dataframe tbody tr th {\n",
              "        vertical-align: top;\n",
              "    }\n",
              "\n",
              "    .dataframe thead th {\n",
              "        text-align: right;\n",
              "    }\n",
              "</style>\n",
              "<table border=\"1\" class=\"dataframe\">\n",
              "  <thead>\n",
              "    <tr style=\"text-align: right;\">\n",
              "      <th></th>\n",
              "      <th>Price</th>\n",
              "    </tr>\n",
              "    <tr>\n",
              "      <th>Date</th>\n",
              "      <th></th>\n",
              "    </tr>\n",
              "  </thead>\n",
              "  <tbody>\n",
              "    <tr>\n",
              "      <th>2013-10-01</th>\n",
              "      <td>123.654990</td>\n",
              "    </tr>\n",
              "    <tr>\n",
              "      <th>2013-10-02</th>\n",
              "      <td>125.455000</td>\n",
              "    </tr>\n",
              "    <tr>\n",
              "      <th>2013-10-03</th>\n",
              "      <td>108.584830</td>\n",
              "    </tr>\n",
              "    <tr>\n",
              "      <th>2013-10-04</th>\n",
              "      <td>118.674660</td>\n",
              "    </tr>\n",
              "    <tr>\n",
              "      <th>2013-10-05</th>\n",
              "      <td>121.338660</td>\n",
              "    </tr>\n",
              "    <tr>\n",
              "      <th>...</th>\n",
              "      <td>...</td>\n",
              "    </tr>\n",
              "    <tr>\n",
              "      <th>2021-05-14</th>\n",
              "      <td>49764.132082</td>\n",
              "    </tr>\n",
              "    <tr>\n",
              "      <th>2021-05-15</th>\n",
              "      <td>50032.693137</td>\n",
              "    </tr>\n",
              "    <tr>\n",
              "      <th>2021-05-16</th>\n",
              "      <td>47885.625255</td>\n",
              "    </tr>\n",
              "    <tr>\n",
              "      <th>2021-05-17</th>\n",
              "      <td>45604.615754</td>\n",
              "    </tr>\n",
              "    <tr>\n",
              "      <th>2021-05-18</th>\n",
              "      <td>43144.471291</td>\n",
              "    </tr>\n",
              "  </tbody>\n",
              "</table>\n",
              "<p>2787 rows × 1 columns</p>\n",
              "</div>"
            ],
            "text/plain": [
              "                   Price\n",
              "Date                    \n",
              "2013-10-01    123.654990\n",
              "2013-10-02    125.455000\n",
              "2013-10-03    108.584830\n",
              "2013-10-04    118.674660\n",
              "2013-10-05    121.338660\n",
              "...                  ...\n",
              "2021-05-14  49764.132082\n",
              "2021-05-15  50032.693137\n",
              "2021-05-16  47885.625255\n",
              "2021-05-17  45604.615754\n",
              "2021-05-18  43144.471291\n",
              "\n",
              "[2787 rows x 1 columns]"
            ]
          },
          "metadata": {},
          "execution_count": 5
        }
      ]
    },
    {
      "cell_type": "code",
      "metadata": {
        "colab": {
          "base_uri": "https://localhost:8080/",
          "height": 460
        },
        "id": "uRiCsqVUCfcC",
        "outputId": "7a15f3ab-5fe2-4c69-bba8-704d98f76d80"
      },
      "source": [
        "# Lets plot the prices vs data \n",
        "import matplotlib.pyplot as plt\n",
        "bitcoin_prices.plot(figsize = (10 , 7))\n",
        "plt.ylabel('BTC Price')\n",
        "plt.title('Price of Bitcoin from 1 Oct 2013 to 18 May 2021' , fontsize =16)\n",
        "plt.legend(fontsize = 14);"
      ],
      "execution_count": 6,
      "outputs": [
        {
          "output_type": "display_data",
          "data": {
            "image/png": "[encoded data removed]",
            "text/plain": [
              "<Figure size 720x504 with 1 Axes>"
            ]
          },
          "metadata": {
            "needs_background": "light"
          }
        }
      ]
    },
    {
      "cell_type": "markdown",
      "metadata": {
        "id": "OWH36ZsZC56e"
      },
      "source": [
        "#### Importing time series data with Python CSV module \n",
        "\n",
        "Its not always necessary to use pandas. We can use Python's built in csv module, and we also gotta use Python's `datetime`. \n",
        "\n",
        "Resources --> https://realpython.com/python-csv/"
      ]
    },
    {
      "cell_type": "code",
      "metadata": {
        "colab": {
          "base_uri": "https://localhost:8080/"
        },
        "id": "aBwW-oTGD4r8",
        "outputId": "66029764-2566-4e1c-c09e-c112982d2a6c"
      },
      "source": [
        "# Importing annd formatting historical Bitcoin data with Python \n",
        "import csv \n",
        "from datetime import datetime \n",
        "\n",
        "timesteps = []\n",
        "btc_price = [] \n",
        "with open('/content/BTC_USD_2013-10-01_2021-05-18-CoinDesk.csv' , 'r') as f:\n",
        "  csv_reader = csv.reader(f , delimiter = ',') # read the csv file using python csv lib \n",
        "  next(csv_reader) # iterate the rows and skip the first line (which is our header)\n",
        "  for line in csv_reader:\n",
        "    timesteps.append(datetime.strptime(line[1] , '%Y-%m-%d')) # indexing into the dates and storing it in a list with datetime format\n",
        "    btc_price.append(float(line[2])) # get the closing price as float \n",
        "                     \n",
        "\n",
        "# View first 10 of each \n",
        "timesteps[:10] , btc_price[:10]\n"
      ],
      "execution_count": 7,
      "outputs": [
        {
          "output_type": "execute_result",
          "data": {
            "text/plain": [
              "([datetime.datetime(2013, 10, 1, 0, 0),\n",
              "  datetime.datetime(2013, 10, 2, 0, 0),\n",
              "  datetime.datetime(2013, 10, 3, 0, 0),\n",
              "  datetime.datetime(2013, 10, 4, 0, 0),\n",
              "  datetime.datetime(2013, 10, 5, 0, 0),\n",
              "  datetime.datetime(2013, 10, 6, 0, 0),\n",
              "  datetime.datetime(2013, 10, 7, 0, 0),\n",
              "  datetime.datetime(2013, 10, 8, 0, 0),\n",
              "  datetime.datetime(2013, 10, 9, 0, 0),\n",
              "  datetime.datetime(2013, 10, 10, 0, 0)],\n",
              " [123.65499,\n",
              "  125.455,\n",
              "  108.58483,\n",
              "  118.67466,\n",
              "  121.33866,\n",
              "  120.65533,\n",
              "  121.795,\n",
              "  123.033,\n",
              "  124.049,\n",
              "  125.96116])"
            ]
          },
          "metadata": {},
          "execution_count": 7
        }
      ]
    },
    {
      "cell_type": "code",
      "metadata": {
        "colab": {
          "base_uri": "https://localhost:8080/",
          "height": 477
        },
        "id": "3vjxoACJEO_t",
        "outputId": "5b81125a-c20d-4feb-831b-dad53229dd3a"
      },
      "source": [
        "# Plot the aboce csv \n",
        "import matplotlib.pyplot as plt\n",
        "import numpy as np \n",
        "\n",
        "plt.figure(figsize = (10 , 7))\n",
        "plt.plot(timesteps , btc_price)\n",
        "plt.title('Price of bitcoin from 1 Oct 2013 to 18 May 2020' , fontsize = 16)\n",
        "plt.xlabel('Date')\n",
        "plt.ylabel('BTC Price')"
      ],
      "execution_count": 8,
      "outputs": [
        {
          "output_type": "execute_result",
          "data": {
            "text/plain": [
              "Text(0, 0.5, 'BTC Price')"
            ]
          },
          "metadata": {},
          "execution_count": 8
        },
        {
          "output_type": "display_data",
          "data": {
            "image/png": "[encoded data removed]",
            "text/plain": [
              "<Figure size 720x504 with 1 Axes>"
            ]
          },
          "metadata": {
            "needs_background": "light"
          }
        }
      ]
    },
    {
      "cell_type": "markdown",
      "metadata": {
        "id": "Vz9MtYeHnS36"
      },
      "source": [
        "### Formatting Data Part 1 : Creating train and tests for our time series data \n",
        "\n",
        "\n",
        "Usually we will be creating a train and test split using a function like Scikit-learn's `train_test_split()` but its not the case for the time series data. \n",
        "\n",
        "Before splitting we should know what kind of data we're dealing with and we will either have a **univariate data** or **multivariate data**. \n",
        "- **Univariate** time series data deals with one variable, for example using the price of Bitcoint to predict the price of Bitcoin.\n",
        "- **Multivariate** time series data deals with more than one variable, for example predicting electricity demand using the day of week, time of year and number of houses in a region. \n",
        "\n",
        "> We're dealing with a univariate time series problem, so we have to make a split on one variable. \n",
        "\n"
      ]
    },
    {
      "cell_type": "markdown",
      "metadata": {
        "id": "qAKa8CcnyYJZ"
      },
      "source": [
        "#### Create train and test set for time series (the wrong way) \n",
        "\n",
        "\n"
      ]
    },
    {
      "cell_type": "code",
      "metadata": {
        "colab": {
          "base_uri": "https://localhost:8080/"
        },
        "id": "lvjs5CSysE7R",
        "outputId": "3d21de6b-615d-40c7-9167-7982569907c3"
      },
      "source": [
        "# Get bitcoin data array \n",
        "timesteps = bitcoin_prices.index.to_numpy()\n",
        "prices = bitcoin_prices['Price'].to_numpy()\n",
        "\n",
        "timesteps[:10] , prices[:10]"
      ],
      "execution_count": 9,
      "outputs": [
        {
          "output_type": "execute_result",
          "data": {
            "text/plain": [
              "(array(['2013-10-01T00:00:00.000000000', '2013-10-02T00:00:00.000000000',\n",
              "        '2013-10-03T00:00:00.000000000', '2013-10-04T00:00:00.000000000',\n",
              "        '2013-10-05T00:00:00.000000000', '2013-10-06T00:00:00.000000000',\n",
              "        '2013-10-07T00:00:00.000000000', '2013-10-08T00:00:00.000000000',\n",
              "        '2013-10-09T00:00:00.000000000', '2013-10-10T00:00:00.000000000'],\n",
              "       dtype='datetime64[ns]'),\n",
              " array([123.65499, 125.455  , 108.58483, 118.67466, 121.33866, 120.65533,\n",
              "        121.795  , 123.033  , 124.049  , 125.96116]))"
            ]
          },
          "metadata": {},
          "execution_count": 9
        }
      ]
    },
    {
      "cell_type": "code",
      "metadata": {
        "colab": {
          "base_uri": "https://localhost:8080/"
        },
        "id": "0bEo-W50sMQy",
        "outputId": "28c5c4d2-f736-4679-db0a-1b839e1150d9"
      },
      "source": [
        "# Wrong way to make train/test set for time series \n",
        "from sklearn.model_selection import train_test_split\n",
        "\n",
        "X_train , X_test , y_train , y_test = train_test_split(timesteps , #dates \n",
        "                                                       prices , #prices , \n",
        "                                                       test_size = 0.2 , \n",
        "                                                       random_state = 42)\n",
        "\n",
        "# Checking the shapes \n",
        "X_train.shape , X_test.shape , y_train.shape , y_test.shape"
      ],
      "execution_count": 10,
      "outputs": [
        {
          "output_type": "execute_result",
          "data": {
            "text/plain": [
              "((2229,), (558,), (2229,), (558,))"
            ]
          },
          "metadata": {},
          "execution_count": 10
        }
      ]
    },
    {
      "cell_type": "code",
      "metadata": {
        "colab": {
          "base_uri": "https://localhost:8080/",
          "height": 442
        },
        "id": "k7SY6Gl4sMTo",
        "outputId": "7648b869-18cb-4df2-ccaa-37adbd08832f"
      },
      "source": [
        "# Lets visualize the splits we made \n",
        "plt.figure(figsize = (10 , 7))\n",
        "plt.scatter(X_train , y_train , s = 5 , label ='Train data')\n",
        "plt.scatter(X_test , y_test , s = 5 , label = 'Test Data')\n",
        "plt.xlabel('Date')\n",
        "plt.ylabel('BTC Price')\n",
        "plt.legend(fontsize = 14)\n",
        "plt.show()"
      ],
      "execution_count": 11,
      "outputs": [
        {
          "output_type": "display_data",
          "data": {
            "image/png": "[encoded data removed]",
            "text/plain": [
              "<Figure size 720x504 with 1 Axes>"
            ]
          },
          "metadata": {
            "needs_background": "light"
          }
        }
      ]
    },
    {
      "cell_type": "markdown",
      "metadata": {
        "id": "efQFsPR0sMZd"
      },
      "source": [
        "The above split isn't the ideal way for a time series data because ur test data is scattered all throughout the training data. \n",
        "\n",
        "This kind of random splits will be fine for datasets without a time component, but for time series, we have to got take the time factor into account. \n",
        "\n",
        "In other words it is data leakage. \n",
        "\n",
        "We need to split our Historical Bitcoin data to have a **dataset that reflects the past (train set) and a dataset that reflects the future (test data or pseudo future)**.\n",
        "\n",
        "#### Create train and test sets for a time series (the right way) \n",
        "\n",
        "\n",
        "\n"
      ]
    },
    {
      "cell_type": "code",
      "metadata": {
        "colab": {
          "base_uri": "https://localhost:8080/"
        },
        "id": "pdpe8OPKt-60",
        "outputId": "234f6cbf-2713-48f8-fe58-9fc69a667186"
      },
      "source": [
        "split_size = int(0.8 * len(prices)) # 80% train , 20% test (can change this values)\n",
        "\n",
        "# Create train data splits (everything before the split)\n",
        "X_train , y_train = timesteps[:split_size] , prices[:split_size]\n",
        "\n",
        "# Create test data splits (everything after the split)\n",
        "X_test , y_test = timesteps[split_size:] , prices[split_size:]\n",
        "\n",
        "len(X_train) , len(X_test) , len(y_train) , len(y_test)"
      ],
      "execution_count": 12,
      "outputs": [
        {
          "output_type": "execute_result",
          "data": {
            "text/plain": [
              "(2229, 558, 2229, 558)"
            ]
          },
          "metadata": {},
          "execution_count": 12
        }
      ]
    },
    {
      "cell_type": "code",
      "metadata": {
        "colab": {
          "base_uri": "https://localhost:8080/",
          "height": 442
        },
        "id": "tI2ccROst_E0",
        "outputId": "df42215c-6b48-4d87-81cf-24f20af523ef"
      },
      "source": [
        "# Visualizing the above splits (the right one)\n",
        "# Plot correctly made splits\n",
        "plt.figure(figsize=(10, 7))\n",
        "plt.scatter(X_train, y_train, s=5, label=\"Train data\")\n",
        "plt.scatter(X_test, y_test, s=5, label=\"Test data\")\n",
        "plt.xlabel(\"Date\")\n",
        "plt.ylabel(\"BTC Price\")\n",
        "plt.legend(fontsize=14)\n",
        "plt.show();"
      ],
      "execution_count": 13,
      "outputs": [
        {
          "output_type": "display_data",
          "data": {
            "image/png": "[encoded data removed]",
            "text/plain": [
              "<Figure size 720x504 with 1 Axes>"
            ]
          },
          "metadata": {
            "needs_background": "light"
          }
        }
      ]
    },
    {
      "cell_type": "markdown",
      "metadata": {
        "id": "tMZyqmqIyhMG"
      },
      "source": [
        "Beautiful! Here we're going to be using the training set (past) to train a model to try and predict values on the test set (future). \n",
        "\n",
        "Our test set is an artifical future, at the end we can try our model on the whole data as a training set. \n",
        "\n",
        "> **🔑 Note** The amount of data you reserve for your test set is not set in stone. You could have 80/20 , 90/10 , 95/5 splits or in some cases, you might not even have a enough data to split into train and test sets. The point is to remember the test set is a pseudofuture and not the actual future, it is only meant to give you an indication of how the models you're building are performing. \n",
        "\n",
        "> 📖 Resource: Working with time series data can be tricky compared to other kinds of data. And there are a few pitfalls to watch out for, such as how much data to use for a test set. The article [3 facts about time series forecasting that surprise experienced machine learning practitioners](https://towardsdatascience.com/3-facts-about-time-series-forecasting-that-surprise-experienced-machine-learning-practitioners-69c18ee89387) talks about different things to watch out for when working with time series data, I'd recommend reading it."
      ]
    },
    {
      "cell_type": "markdown",
      "metadata": {
        "id": "bRFbqjYpt_QX"
      },
      "source": [
        "##### Creating a plot function to visualize our time series data \n",
        "\n"
      ]
    },
    {
      "cell_type": "code",
      "metadata": {
        "id": "tyF0zGL2sNcj"
      },
      "source": [
        "def plot_time_series(timesteps , values ,format = '.' , start = 0 , end = None , label = None):\n",
        "  '''\n",
        "  Plots a timesteps (a series of point in time) against values (a series of values across timesteps)\n",
        "\n",
        "  Parameters \n",
        "  ----------\n",
        "\n",
        "  timesteps : array of timesteps (date)\n",
        "  values : array of values across time \n",
        "  format : style of plot , default '.'\n",
        "  start : where to start the plot (setting a value will index from start of timesteps & values)\n",
        "  end : where to end the plot (setting a value will index from end of timesteps & values)\n",
        "  label : label to show on plot of values\n",
        "  '''\n",
        "\n",
        "  # Plot the serie \n",
        "  plt.plot(timesteps[start:end] , values[start:end] , format , label = label)\n",
        "  plt.xlabel('Time')\n",
        "  plt.ylabel('BTC Price')\n",
        "  if label:\n",
        "    plt.legend(fontsize = 14) # make label bigger\n",
        "  plt.grid(True)"
      ],
      "execution_count": 14,
      "outputs": []
    },
    {
      "cell_type": "code",
      "metadata": {
        "colab": {
          "base_uri": "https://localhost:8080/",
          "height": 442
        },
        "id": "9MFoT1d00mn_",
        "outputId": "3d351440-73c3-4528-94eb-356701f4bac6"
      },
      "source": [
        "# Trying out our plotting function \n",
        "plt.figure(figsize = (10, 7))\n",
        "plot_time_series(timesteps = X_train , values = y_train , label ='Train data')\n",
        "plot_time_series(timesteps = X_test , values = y_test , label = 'Test data')"
      ],
      "execution_count": 15,
      "outputs": [
        {
          "output_type": "display_data",
          "data": {
            "image/png": "[encoded data removed]",
            "text/plain": [
              "<Figure size 720x504 with 1 Axes>"
            ]
          },
          "metadata": {
            "needs_background": "light"
          }
        }
      ]
    },
    {
      "cell_type": "markdown",
      "metadata": {
        "id": "c2dFjDCha2le"
      },
      "source": [
        "Later try to experiment with this: Sklearns [timeseries split](https://scikit-learn.org/stable/modules/generated/sklearn.model_selection.TimeSeriesSplit.html)"
      ]
    },
    {
      "cell_type": "markdown",
      "metadata": {
        "id": "Ivli-weB0_5c"
      },
      "source": [
        "## **Modelling Experiments**\n",
        "\n",
        "We've got some bitcoin historical data, to model it, lets run a series of modelling experiments and see which model performs the best. \n",
        "\n",
        "Terms to be familiar with, \n",
        "* **Horizon** --> Number of timesteps into the future we're going to predict. \n",
        "* **Window Size** --> Number of timesteps we're going to predict **horizon**\n",
        "\n",
        "Modelling experiments we're running: \n",
        "- 0\tNaïve model (baseline)\t\n",
        "- 1\tDense model\t(horizon = 1 , window = 7)\t\n",
        "- 2\tSame as model 1 (horizon = 1 , window = 30)\n",
        "- 3\tSame as model 1 (horizon = 7\twindow =30)\t\n",
        "- 4\tConv1D\t(horizon =1 , window =7)\t\n",
        "- 5\tLSTM\t(horizon =1 , window =7)\n",
        "- 6\tSame as 1 (but with multivariate data)\t(horizon =1\t, window = 7)\tBlock reward size\n",
        "- 7\tN-BEATs Algorithm\t(horizon =1 , window\t=7)\t\n",
        "- 8\tEnsemble (multiple models optimized on different loss functions)\t(horizon = 1\t, window =7)\t\n",
        "- 9\tFuture prediction model (model to predict future values)\t(horizon = 1 , window=\t7)\t\n",
        "- 10\tSame as 1 (but with turkey 🦃 data introduced)\t(horizon = 1 , window= 7)"
      ]
    },
    {
      "cell_type": "markdown",
      "metadata": {
        "id": "_qQ2jt0923FX"
      },
      "source": [
        "### Model 0 : Naive Forecast (baseline) \n",
        "\n",
        "One of the most common baeline models for time series forecasting, the naive model (also called [naive forecast](https://otexts.com/fpp3/simple-methods.html#na%C3%AFve-method)) requires no training at all. \n",
        "\n",
        "Thats because all the naive model does is use the previous timestep values (horizon) to predict the next timestep values (window). \n",
        "\n",
        "$$\\hat{y}_{t} = y_{t-1}$$\n",
        "\n",
        "> The above formula implies, the prediction at timestep t (y-hat) is equal to the value at timestep t-1 (the previous timestep). \n",
        "\n",
        "In an open system (stock market or crypto market) beating the naive forecast with any kind of model is quite hard. \n",
        "\n",
        "Its naive because it blindly predicts the previous timestep the next timestep. \n",
        "\n"
      ]
    },
    {
      "cell_type": "code",
      "metadata": {
        "colab": {
          "base_uri": "https://localhost:8080/"
        },
        "id": "gEKQy9U-Xru6",
        "outputId": "d2df3c03-e040-4446-a782-c0e8e519d30d"
      },
      "source": [
        "# Create a naive forecast \n",
        "naive_forecast = y_test[:-1]  # except every value excluding the last one\n",
        "\n",
        "# Looking at first and last 10 values \n",
        "naive_forecast[:10] , naive_forecast[:10:]"
      ],
      "execution_count": 16,
      "outputs": [
        {
          "output_type": "execute_result",
          "data": {
            "text/plain": [
              "(array([9226.48582088, 8794.35864452, 8798.04205463, 9081.18687849,\n",
              "        8711.53433917, 8760.89271814, 8749.52059102, 8656.97092235,\n",
              "        8500.64355816, 8469.2608989 ]),\n",
              " array([9226.48582088, 8794.35864452, 8798.04205463, 9081.18687849,\n",
              "        8711.53433917, 8760.89271814, 8749.52059102, 8656.97092235,\n",
              "        8500.64355816, 8469.2608989 ]))"
            ]
          },
          "metadata": {},
          "execution_count": 16
        }
      ]
    },
    {
      "cell_type": "code",
      "metadata": {
        "colab": {
          "base_uri": "https://localhost:8080/",
          "height": 442
        },
        "id": "Kp9VJxcyXwBt",
        "outputId": "ff43f35e-507d-4a88-93a8-643e5edac0bc"
      },
      "source": [
        "# Plot the naive forecast \n",
        "plt.figure(figsize = (10 , 7))\n",
        "plot_time_series(timesteps= X_train , values = y_train , label = 'Train data')\n",
        "plot_time_series(timesteps= X_test , values = y_test , label = 'Test data')\n",
        "plot_time_series(timesteps = X_test[1:] , values=naive_forecast , format = '-' , label= 'Naive Forecast')"
      ],
      "execution_count": 17,
      "outputs": [
        {
          "output_type": "display_data",
          "data": {
            "image/png": "[encoded data removed]",
            "text/plain": [
              "<Figure size 720x504 with 1 Axes>"
            ]
          },
          "metadata": {
            "needs_background": "light"
          }
        }
      ]
    },
    {
      "cell_type": "code",
      "metadata": {
        "colab": {
          "base_uri": "https://localhost:8080/",
          "height": 442
        },
        "id": "O3ZJ6-ZxY8Eg",
        "outputId": "29f050fd-492f-49e2-82b1-faaff7715d1e"
      },
      "source": [
        "# Looking into the test and the naive forecast (this is for closer observation to determine the performance)\n",
        "plt.figure(figsize= (10 , 7))\n",
        "plot_time_series(X_test , y_test , start= 350 , format = '-' , label = 'Test data')\n",
        "plot_time_series(X_test[1:] , naive_forecast , start = 350 , format = '-',label='Naive Forecast')"
      ],
      "execution_count": 18,
      "outputs": [
        {
          "output_type": "display_data",
          "data": {
            "image/png": "[encoded data removed]",
            "text/plain": [
              "<Figure size 720x504 with 1 Axes>"
            ]
          },
          "metadata": {
            "needs_background": "light"
          }
        }
      ]
    },
    {
      "cell_type": "markdown",
      "metadata": {
        "id": "eEbjGt8waUDY"
      },
      "source": [
        "If we can clearly observe the above graph, we can see that there is a slight lag (or gap) between the test data and naive forecast. \n",
        "\n",
        "This indicates how close were the prediction of naive forecast were compared to the test data. \n",
        "\n",
        "**Naive forecast is quite hard to beat.**\n",
        "\n",
        "> To know more about this check [Forecasting: Principles and Practice chapter 5.8](https://otexts.com/fpp3/accuracy.html). Also search and find out why naive forecast is hard to beat, keep an eye out for the term AutoRegressive. "
      ]
    },
    {
      "cell_type": "markdown",
      "metadata": {
        "id": "A73Vfs4ibShm"
      },
      "source": [
        "### **Evaluating a time series model**\n",
        "\n",
        "Time series forecasting often involves predicting a number (in our case, the price of Bitcoin). And its a Regression problem. \n",
        "\n",
        "With this known, we can use regression evaluation metrics to evaluate our time series forecasts. \n",
        "\n",
        "The main thing we will be evaluating is: \n",
        "> **how do our models predictions (y_pred) compares against the actual values (y_true or ground truth values)?**\n",
        "\n",
        "For all of the followiing metrics, **lower is better** (for example an MAE of 0 is better than an MAE 50). \n",
        "\n",
        "#### **Scale Dependent errors**\n",
        "\n",
        "There are the metrics which can be used to compare time series values and forecasts that are on the same scale. \n",
        "\n",
        "For example, Bitcoin historical prices in USD veresus Bitcoin forecast values in USD.\n",
        "\n",
        "* **MAE (mean absolute error)** `tf.keras.metrics.mean_absolute_error()` : Easy to interpret (a forecast is X amount different from actual amount). Forecast methods which minimises the MAE will lead to forecasts of the median. \n",
        "* **RMSE (root mean squared error) `tf.keras.metrics.mean_square_error()`**: Forecasts which minimise the RMSE lead to forecasts of the mean.\n",
        "\n",
        "#### **Percentage Errors** \n",
        "\n",
        "Percentage erros do not have any units, this means they can be used to compare forecasts across different datasets. \n",
        "\n",
        "* **MAPE (mean absolute percentage error) `tf.keras.metrics.mean_absolute_percentage_error()`**: Most commonly used percentage error. May explode (not work) if y=0.\n",
        "* **sMAPE (symmetric mean absolute percentage error) `Custom Implementation`**: Recommended not to be used by Forecasting: Principles and Practice, though it is used in forecasting competitions.\n",
        "\n",
        "#### **Scaled Errors**\n",
        "Scaled errors are an alternative to percentage errors when comparing forecast performance across different time series. \n",
        "\n",
        "- **MASE (mean absolute scaled error) `See sktime's mase_loss()`**: MASE equals one for the naive forecast (or very close to one). A forecast which performs better than the naïve should get <1 MASE.\n",
        "\n",
        "> **🤔 Question**: There are so many metrics... which one should I pay most attention to? It's going to depend on your problem. However, since its ease of interpretation (you can explain it in a sentence to your grandma), MAE is often a very good place to start.\n",
        "\n",
        "Lets write a function to help us calculate evaluation metrics on their forecasts. Also we need to implement the MASE using TensorFlow. "
      ]
    },
    {
      "cell_type": "code",
      "metadata": {
        "id": "61K-TV78g-V9"
      },
      "source": [
        "# Importing tensorflow \n",
        "import tensorflow as tf "
      ],
      "execution_count": 19,
      "outputs": []
    },
    {
      "cell_type": "code",
      "metadata": {
        "id": "IFLEX3BUy50Q"
      },
      "source": [
        "# MASE implemented courtesy of sktime -\n",
        "# https://github.com/alan-turing-institute/sktime/blob/ee7a06843a44f4aaec7582d847e36073a9ab0566/sktime/performance_metrics/forecasting/_functions.py#L16\n",
        "\n",
        "def mean_absolute_scaled_error(y_true , y_pred):\n",
        "  '''\n",
        "  Implement MASE (assuming no seasonality of data)\n",
        "  '''\n",
        "  mae = tf.reduce_mean(tf.abs(y_true - y_pred))\n",
        "\n",
        "  # Find MAE of naive forecast (no seasonality)\n",
        "  mae_naive_no_season = tf.reduce_mean(tf.abs(y_true[1:] - y_true[:-1])) # our seasonality is 1 day \n",
        "\n",
        "  return mae / mae_naive_no_season"
      ],
      "execution_count": 20,
      "outputs": []
    },
    {
      "cell_type": "code",
      "metadata": {
        "colab": {
          "base_uri": "https://localhost:8080/"
        },
        "id": "8a6_29UY2DcI",
        "outputId": "5707851b-fc91-450e-d77c-7b758eb8f864"
      },
      "source": [
        "mean_absolute_scaled_error(y_true = y_test[1:] , y_pred = naive_forecast).numpy()"
      ],
      "execution_count": 21,
      "outputs": [
        {
          "output_type": "execute_result",
          "data": {
            "text/plain": [
              "0.9995699939182624"
            ]
          },
          "metadata": {},
          "execution_count": 21
        }
      ]
    },
    {
      "cell_type": "markdown",
      "metadata": {
        "id": "gj2T74qg2Lhr"
      },
      "source": [
        "You'll notice the version of MASE above doesn't take in the training values like sktime's mae_loss(). In our case, we're comparing the MAE of our predictions on the test to the MAE of the naïve forecast on the test set.\n",
        "\n",
        "In practice, if we've created the function correctly, the naïve model should achieve an MASE of 1 (or very close to 1). Any model worse than the naïve forecast will achieve an MASE of >1 and any model better than the naïve forecast will achieve an MASE of <1."
      ]
    },
    {
      "cell_type": "code",
      "metadata": {
        "id": "4-_1Xqc_2YrA"
      },
      "source": [
        "# Putting each of our different evaluation metrics together into a function \n",
        "def evaluate_preds(y_true , y_pred):\n",
        "\n",
        "  '''\n",
        "  Inputs\n",
        "  ------\n",
        "   --> y_true (truth labels)\n",
        "   --> y_pred (predicted labels)\n",
        "\n",
        "  Returns\n",
        "  -------\n",
        "    --> MAE \n",
        "    --> MSE \n",
        "    --> RMSE\n",
        "    --> MAPE/sMAPE\n",
        "    --> MASE\n",
        "  '''\n",
        "\n",
        "  # Make sure float32 for the metric calculations\n",
        "  y_true = tf.cast(y_true , tf.float32)\n",
        "  y_pred = tf.cast(y_pred , tf.float32)\n",
        "\n",
        "  # Calculating the evalution metrics\n",
        "  mae = tf.keras.metrics.mean_absolute_error(y_true , y_pred)\n",
        "  mse = tf.keras.metrics.mean_squared_error(y_true , y_pred)\n",
        "  rmse = tf.sqrt(mse)\n",
        "  mape = tf.keras.metrics.mean_absolute_percentage_error(y_true , y_pred)\n",
        "  mase = mean_absolute_scaled_error(y_true , y_pred)\n",
        "  \n",
        "  return {\"mae\": mae.numpy(),\n",
        "          \"mse\": mse.numpy(),\n",
        "          \"rmse\": rmse.numpy(),\n",
        "          \"mape\": mape.numpy(),\n",
        "          \"mase\": mase.numpy()}"
      ],
      "execution_count": 22,
      "outputs": []
    },
    {
      "cell_type": "code",
      "metadata": {
        "colab": {
          "base_uri": "https://localhost:8080/"
        },
        "id": "gcBvoaBS41jZ",
        "outputId": "cbfd867b-eba3-4d72-c7dd-e172dc8ff024"
      },
      "source": [
        "# Testing the above function \n",
        "naive_results = evaluate_preds(y_true= y_test[1:] , \n",
        "                               y_pred = naive_forecast)\n",
        "naive_results"
      ],
      "execution_count": 23,
      "outputs": [
        {
          "output_type": "execute_result",
          "data": {
            "text/plain": [
              "{'mae': 567.9802,\n",
              " 'mape': 2.516525,\n",
              " 'mase': 0.99957,\n",
              " 'mse': 1147547.0,\n",
              " 'rmse': 1071.2362}"
            ]
          },
          "metadata": {},
          "execution_count": 23
        }
      ]
    },
    {
      "cell_type": "markdown",
      "metadata": {
        "id": "E4KXsDNV6-61"
      },
      "source": [
        "Great now we've a got some baselines to beat. \n",
        "\n",
        "Taking a look at the naives forecast MAE, it seems on average each forecast is **~$567** different than the actual Bitcoint price. \n",
        "\n",
        "How does this compare to the average price of Bitcoin in the test dataset? \n"
      ]
    },
    {
      "cell_type": "code",
      "metadata": {
        "colab": {
          "base_uri": "https://localhost:8080/"
        },
        "id": "suBbINscDJVx",
        "outputId": "5dec3e4d-0f0e-4c1f-b9f8-774d07bb37a1"
      },
      "source": [
        "# Find average prie of Bitcoin the test dataset \n",
        "tf.reduce_mean(y_test).numpy()"
      ],
      "execution_count": 24,
      "outputs": [
        {
          "output_type": "execute_result",
          "data": {
            "text/plain": [
              "20056.632963737226"
            ]
          },
          "metadata": {},
          "execution_count": 24
        }
      ]
    },
    {
      "cell_type": "markdown",
      "metadata": {
        "id": "k2xuV-vtDQ55"
      },
      "source": [
        "Looking at these two values is starting to give us an idea of how our model is performing: \n",
        "- The average price of Bitcoin in the test dataset is: `$20,056` (note: average may not be the best measure here, since the highes price is over 3x this value and the lowest price is over 4x lower). \n",
        "- Each prediction in naive forecast is on average off by: $567 \n",
        "\n",
        "But for the lower values $567 might will be around 10% and thats not a good estimate. So will try to build models and see if we can beat our baseline. \n",
        "\n",
        "#### **Other kinds of time series forecasting models which can be used for baselines and actual forecasts** \n",
        "\n",
        "There are many other kinds of models we may want to look into for building baselines/performing forecasts. \n",
        "\n",
        "Some of them may even beat our best performing models in this notebooks. \n",
        "\n",
        "- [Moving average](https://www.notion.so/Moving-average-7c2cf9844452466f94b2f9e854b60f40)\n",
        "\n",
        "- [ARIMA (Autoregression Integrated Moving Average)](https://www.notion.so/ARIMA-Autoregression-Integrated-Moving-Average-75d9bdc1c2ff47b3afe78ba6e21bfabb)\n",
        "\n",
        "- [sktime (Scikit-Learn for time series)](https://www.notion.so/sktime-Scikit-Learn-for-time-series-fc5d1a5d94924dceb9ed4bd2a10480a9)\n",
        "\n",
        "- [TensorFlow Decision Forests (random forest, gradient boosting trees)](https://www.notion.so/TensorFlow-Decision-Forests-random-forest-gradient-boosting-trees-dfb792e083f947909aed6941cd6c2e8d)\n",
        "\n",
        "- [Facebook Kats (purpose-built forecasting and time series analysis library by Facebook)](https://www.notion.so/Facebook-Kats-purpose-built-forecasting-and-time-series-analysis-library-by-Facebook-cc48a26a54c34b3e9dac5c05da5e2795)\n",
        "\n",
        "- [LinkedIn Greykite (flexible, intuitive and fast forecasts)](https://www.notion.so/LinkedIn-Greykite-flexible-intuitive-and-fast-forecasts-72c366489bb74e5e886c9190b010c02e)\n"
      ]
    },
    {
      "cell_type": "markdown",
      "metadata": {
        "id": "FYXxcyT1FpuP"
      },
      "source": [
        "### **Format Data Part 2: Windowing dataset**\n",
        "\n",
        "Before we had the price and the timesteps as our dataset, but for the next series of modelling experiments we have to format our data into windows. \n",
        "\n",
        "Windowing is a method to turn a time series dataset into **supervised learning problem.**\n",
        "\n",
        "**In other words, we want to use windows of the past to predict the future**\n",
        "\n",
        "For example for a univariate time series, windowing for one week (window=7) to predict the next single value (horizon=1) might look like:\n",
        "\n",
        "Window for one week (univariate time series)\n",
        "```\n",
        "[0, 1, 2, 3, 4, 5, 6] -> [7]\n",
        "[1, 2, 3, 4, 5, 6, 7] -> [8]\n",
        "[2, 3, 4, 5, 6, 7, 8] -> [9]\n",
        "```\n",
        "Or for the price of Bitcoin, it'd look like:\n",
        "\n",
        "Window for one week with the target of predicting the next day (Bitcoin prices)\n",
        "```\n",
        "[123.654, 125.455, 108.584, 118.674, 121.338, 120.655, 121.795] -> [123.033]\n",
        "[125.455, 108.584, 118.674, 121.338, 120.655, 121.795, 123.033] -> [124.049]\n",
        "[108.584, 118.674, 121.338, 120.655, 121.795, 123.033, 124.049] -> [125.961]\n",
        "```"
      ]
    },
    {
      "cell_type": "code",
      "metadata": {
        "colab": {
          "base_uri": "https://localhost:8080/"
        },
        "id": "4FtdwVfVJ6YL",
        "outputId": "907172e4-9145-4b0b-cb5c-0611901ceba9"
      },
      "source": [
        "# What we want to do with our Bitcoin data \n",
        "print(f'We want to use: {btc_price[:7]} to predict this --> {btc_price[7]}')"
      ],
      "execution_count": 25,
      "outputs": [
        {
          "output_type": "stream",
          "text": [
            "We want to use: [123.65499, 125.455, 108.58483, 118.67466, 121.33866, 120.65533, 121.795] to predict this --> 123.033\n"
          ],
          "name": "stdout"
        }
      ]
    },
    {
      "cell_type": "code",
      "metadata": {
        "id": "dip2G0UtKL3P"
      },
      "source": [
        "# Lets setup global variables for window and horizon size (Hyperparameters)\n",
        "HORIZON = 1 # predict 1 step at a time \n",
        "WINDOW_SIZE = 7 # use a week worth of timesteps to predict the bitcoin "
      ],
      "execution_count": 26,
      "outputs": []
    },
    {
      "cell_type": "code",
      "metadata": {
        "id": "atuhuZZTKeVc"
      },
      "source": [
        "# Writing a function to label windowed data \n",
        "\n",
        "def get_labelled_windows(x , horizon = HORIZON):\n",
        "  '''\n",
        "  Creates labels for windowed dataset \n",
        "\n",
        "  E.g. if horizon=1 (default)\n",
        "\n",
        "  Input [1,2,3,4,5,6] --> Output: ([1 ,2 ,3 , 4 ,5] , [6])\n",
        "  '''\n",
        "  return x[: , :-horizon] , x[: , -horizon:]"
      ],
      "execution_count": 27,
      "outputs": []
    },
    {
      "cell_type": "code",
      "metadata": {
        "colab": {
          "base_uri": "https://localhost:8080/"
        },
        "id": "DpE-jaQZLkMB",
        "outputId": "209b1b84-cbe0-4c54-9a0a-42fbf83330b2"
      },
      "source": [
        "# Testing out our window labelling function \n",
        "test_window , test_label = get_labelled_windows(tf.expand_dims(tf.range(8)+ 1 , axis = 0))\n",
        "print(f'Window: {tf.squeeze(test_window).numpy()} ---> Label: {tf.squeeze(test_label).numpy()}')"
      ],
      "execution_count": 28,
      "outputs": [
        {
          "output_type": "stream",
          "text": [
            "Window: [1 2 3 4 5 6 7] ---> Label: 8\n"
          ],
          "name": "stdout"
        }
      ]
    },
    {
      "cell_type": "markdown",
      "metadata": {
        "id": "-dmhoiJoL1SL"
      },
      "source": [
        "We've got a way to label our windowed data. \n",
        "\n",
        "However, this only works on a small scale. \n",
        "\n",
        "We need a way to do the above across our entire time series data. \n",
        "\n",
        "We could use Python's for loops, but that would be quite slow. To speed things up, we'll leverage [Numpy array indexing](https://numpy.org/doc/stable/reference/arrays.indexing.html)\n",
        "\n",
        "Lets write a function which: \n",
        "1. Creates a window step of specific window size, for example: [[0 , 1, 2, 3, 4, 5, 6, 7]]\n",
        "2. uses NumPy indexing to create a 2D of multiple window steps, for example: \n",
        "```\n",
        "[[0 ,1 ,2 ,3 ,4 ,5 ,6, 7]],\n",
        "[[1, 2, 3, 4, 5, 6, 7, 8]],\n",
        "[[2, 3, 4, 5, 6, 7, 8, 9]]\n",
        "```\n",
        "3. Uses the 2D array of multiple window steps to index on a target series (e.g the historical price of Bitcoin). \n",
        "4. Uses the `get_labelled_windows()` function we created above to turn the windows steps into windows with a specified horizon. \n",
        "\n",
        "Resource --> https://towardsdatascience.com/fast-and-robust-sliding-window-vectorization-with-numpy-3ad950ed62f5"
      ]
    },
    {
      "cell_type": "code",
      "metadata": {
        "id": "JYVsXSApsXfb"
      },
      "source": [
        "import numpy as np "
      ],
      "execution_count": 29,
      "outputs": []
    },
    {
      "cell_type": "code",
      "metadata": {
        "id": "po64mWBwP-fT"
      },
      "source": [
        "# Create function to view NumPy arrays as windows (My make_windows function was wrong)\n",
        "def make_windows(x, window_size=7, horizon=1):\n",
        "  \"\"\"\n",
        "  Turns a 1D array into a 2D array of sequential windows of window_size.\n",
        "  \"\"\"\n",
        "  # 1. Create a window of specific window_size (add the horizon on the end for later labelling)\n",
        "  window_step = np.expand_dims(np.arange(window_size+horizon), axis=0)\n",
        "  # print(f\"Window step:\\n {window_step}\")\n",
        "\n",
        "  # 2. Create a 2D array of multiple window steps (minus 1 to account for 0 indexing)\n",
        "  window_indexes = window_step + np.expand_dims(np.arange(len(x)-(window_size+horizon-1)), axis=0).T # create 2D array of windows of size window_size\n",
        "  # print(f\"Window indexes:\\n {window_indexes[:3], window_indexes[-3:], window_indexes.shape}\")\n",
        "\n",
        "  # 3. Index on the target array (time series) with 2D array of multiple window steps\n",
        "  windowed_array = x[window_indexes]\n",
        "\n",
        "  # 4. Get the labelled windows\n",
        "  windows, labels = get_labelled_windows(windowed_array, horizon=horizon)\n",
        "\n",
        "  return windows, labels"
      ],
      "execution_count": 30,
      "outputs": []
    },
    {
      "cell_type": "code",
      "metadata": {
        "colab": {
          "base_uri": "https://localhost:8080/"
        },
        "id": "rEjqKsV9saTE",
        "outputId": "cdd87bee-604d-4fc2-f033-3cf616d6b3bd"
      },
      "source": [
        "# Testing the above function \n",
        "make_windows(prices , window_size= 7 , horizon = 1)"
      ],
      "execution_count": 31,
      "outputs": [
        {
          "output_type": "execute_result",
          "data": {
            "text/plain": [
              "(array([[  123.65499   ,   125.455     ,   108.58483   , ...,\n",
              "           121.33866   ,   120.65533   ,   121.795     ],\n",
              "        [  125.455     ,   108.58483   ,   118.67466   , ...,\n",
              "           120.65533   ,   121.795     ,   123.033     ],\n",
              "        [  108.58483   ,   118.67466   ,   121.33866   , ...,\n",
              "           121.795     ,   123.033     ,   124.049     ],\n",
              "        ...,\n",
              "        [58788.20967893, 58102.19142623, 55715.54665129, ...,\n",
              "         52147.82118698, 49764.1320816 , 50032.69313676],\n",
              "        [58102.19142623, 55715.54665129, 56573.5554719 , ...,\n",
              "         49764.1320816 , 50032.69313676, 47885.62525472],\n",
              "        [55715.54665129, 56573.5554719 , 52147.82118698, ...,\n",
              "         50032.69313676, 47885.62525472, 45604.61575361]]),\n",
              " array([[  123.033     ],\n",
              "        [  124.049     ],\n",
              "        [  125.96116   ],\n",
              "        ...,\n",
              "        [47885.62525472],\n",
              "        [45604.61575361],\n",
              "        [43144.47129086]]))"
            ]
          },
          "metadata": {},
          "execution_count": 31
        }
      ]
    },
    {
      "cell_type": "code",
      "metadata": {
        "colab": {
          "base_uri": "https://localhost:8080/"
        },
        "id": "iAobsrkFvRW3",
        "outputId": "090da98c-76a8-4149-b4e6-b9bea2118544"
      },
      "source": [
        "# Lets store the variables \n",
        "full_windows , full_labels = make_windows(prices , window_size= 7 , horizon = 1)\n",
        "\n",
        "# Length of the window and label \n",
        "len(full_windows) , len(full_labels)"
      ],
      "execution_count": 32,
      "outputs": [
        {
          "output_type": "execute_result",
          "data": {
            "text/plain": [
              "(2780, 2780)"
            ]
          },
          "metadata": {},
          "execution_count": 32
        }
      ]
    },
    {
      "cell_type": "code",
      "metadata": {
        "colab": {
          "base_uri": "https://localhost:8080/"
        },
        "id": "65Wa5VoiJ1u0",
        "outputId": "7e25c1eb-a0a7-486c-b6dc-807413ffe139"
      },
      "source": [
        "full_windows.shape"
      ],
      "execution_count": 33,
      "outputs": [
        {
          "output_type": "execute_result",
          "data": {
            "text/plain": [
              "(2780, 7)"
            ]
          },
          "metadata": {},
          "execution_count": 33
        }
      ]
    },
    {
      "cell_type": "code",
      "metadata": {
        "colab": {
          "base_uri": "https://localhost:8080/"
        },
        "id": "ud5BNd3E1dYd",
        "outputId": "e8796959-e595-48ad-9bd5-be8f52c1d7fa"
      },
      "source": [
        "# View the first 3 windows/labels\n",
        "for i in range(3):\n",
        "  print(f'Window: {full_windows[i]} --> Label {full_labels[i]}\\n\\n')"
      ],
      "execution_count": 34,
      "outputs": [
        {
          "output_type": "stream",
          "text": [
            "Window: [123.65499 125.455   108.58483 118.67466 121.33866 120.65533 121.795  ] --> Label [123.033]\n",
            "\n",
            "\n",
            "Window: [125.455   108.58483 118.67466 121.33866 120.65533 121.795   123.033  ] --> Label [124.049]\n",
            "\n",
            "\n",
            "Window: [108.58483 118.67466 121.33866 120.65533 121.795   123.033   124.049  ] --> Label [125.96116]\n",
            "\n",
            "\n"
          ],
          "name": "stdout"
        }
      ]
    },
    {
      "cell_type": "code",
      "metadata": {
        "colab": {
          "base_uri": "https://localhost:8080/"
        },
        "id": "BW0ciRJx1yF1",
        "outputId": "399c7c94-2821-49a7-9e11-4d7abccf9f03"
      },
      "source": [
        "# View the last 3 windows/labels\n",
        "for i in range(3):\n",
        "  print(f'Window: {full_windows[i-3]} --> Label {full_labels[i-3]}\\n\\n')"
      ],
      "execution_count": 35,
      "outputs": [
        {
          "output_type": "stream",
          "text": [
            "Window: [58788.20967893 58102.19142623 55715.54665129 56573.5554719\n",
            " 52147.82118698 49764.1320816  50032.69313676] --> Label [47885.62525472]\n",
            "\n",
            "\n",
            "Window: [58102.19142623 55715.54665129 56573.5554719  52147.82118698\n",
            " 49764.1320816  50032.69313676 47885.62525472] --> Label [45604.61575361]\n",
            "\n",
            "\n",
            "Window: [55715.54665129 56573.5554719  52147.82118698 49764.1320816\n",
            " 50032.69313676 47885.62525472 45604.61575361] --> Label [43144.47129086]\n",
            "\n",
            "\n"
          ],
          "name": "stdout"
        }
      ]
    },
    {
      "cell_type": "markdown",
      "metadata": {
        "id": "5I17tla437g6"
      },
      "source": [
        "#### **Create train and test sets with the windowed data** \n",
        "\n",
        "Since we have formatted our data now we have to split them into train and test splits. \n"
      ]
    },
    {
      "cell_type": "code",
      "metadata": {
        "id": "JJzBsaJw9-2J"
      },
      "source": [
        "# Creating a function to make the splits \n",
        "def make_train_test_splits(windows , labels , test_split = 0.2):\n",
        "  '''\n",
        "  Splits matching pairs of windows and labels into train and test splits\n",
        "  '''\n",
        "  split_size = int(len(windows) * (1 - test_split))\n",
        "  \n",
        "  train_windows = windows[:split_size]\n",
        "  train_labels = labels[:split_size]\n",
        "\n",
        "  test_windows = windows[split_size:]\n",
        "  test_labels = labels[split_size:]\n",
        "\n",
        "  return train_windows , test_windows , train_labels , test_labels"
      ],
      "execution_count": 36,
      "outputs": []
    },
    {
      "cell_type": "code",
      "metadata": {
        "colab": {
          "base_uri": "https://localhost:8080/"
        },
        "id": "L1-eJWHr-lVD",
        "outputId": "9b946cc0-7bac-4123-84fe-231f8a8854af"
      },
      "source": [
        "# Using the above function to make splits of data \n",
        "train_windows , test_windows , train_labels , test_labels = make_train_test_splits(full_windows , full_labels)\n",
        "\n",
        "# Checking the length \n",
        "len(train_windows) , len(test_windows) , len(train_labels) , len(test_labels)"
      ],
      "execution_count": 37,
      "outputs": [
        {
          "output_type": "execute_result",
          "data": {
            "text/plain": [
              "(2224, 556, 2224, 556)"
            ]
          },
          "metadata": {},
          "execution_count": 37
        }
      ]
    },
    {
      "cell_type": "code",
      "metadata": {
        "colab": {
          "base_uri": "https://localhost:8080/"
        },
        "id": "zMVcuWuNKTZ5",
        "outputId": "db70498a-76b6-41f8-b1f4-5e8e3142e351"
      },
      "source": [
        "train_windows.shape , test_windows.shape , train_labels.shape , test_labels.shape"
      ],
      "execution_count": 38,
      "outputs": [
        {
          "output_type": "execute_result",
          "data": {
            "text/plain": [
              "((2224, 7), (556, 7), (2224, 1), (556, 1))"
            ]
          },
          "metadata": {},
          "execution_count": 38
        }
      ]
    },
    {
      "cell_type": "code",
      "metadata": {
        "colab": {
          "base_uri": "https://localhost:8080/"
        },
        "id": "NfVsFaS8-psM",
        "outputId": "2cea2922-40cb-4771-dfec-e6ff301557ff"
      },
      "source": [
        "print(f' Train Windows: {train_windows[:5]}\\n\\n') \n",
        "print(f' Train Labels: {train_labels[:5]}\\n\\n') \n",
        "print(f' Test Windows: {test_windows[:5]}\\n\\n') \n",
        "print(f' Test Labels: {test_labels[:5]}\\n\\n') "
      ],
      "execution_count": 39,
      "outputs": [
        {
          "output_type": "stream",
          "text": [
            " Train Windows: [[123.65499 125.455   108.58483 118.67466 121.33866 120.65533 121.795  ]\n",
            " [125.455   108.58483 118.67466 121.33866 120.65533 121.795   123.033  ]\n",
            " [108.58483 118.67466 121.33866 120.65533 121.795   123.033   124.049  ]\n",
            " [118.67466 121.33866 120.65533 121.795   123.033   124.049   125.96116]\n",
            " [121.33866 120.65533 121.795   123.033   124.049   125.96116 125.27966]]\n",
            "\n",
            "\n",
            " Train Labels: [[123.033  ]\n",
            " [124.049  ]\n",
            " [125.96116]\n",
            " [125.27966]\n",
            " [125.9275 ]]\n",
            "\n",
            "\n",
            " Test Windows: [[9290.89660239 9202.41545055 9369.62808116 9326.59962378 9335.75240233\n",
            "  9226.48582088 8794.35864452]\n",
            " [9202.41545055 9369.62808116 9326.59962378 9335.75240233 9226.48582088\n",
            "  8794.35864452 8798.04205463]\n",
            " [9369.62808116 9326.59962378 9335.75240233 9226.48582088 8794.35864452\n",
            "  8798.04205463 9081.18687849]\n",
            " [9326.59962378 9335.75240233 9226.48582088 8794.35864452 8798.04205463\n",
            "  9081.18687849 8711.53433917]\n",
            " [9335.75240233 9226.48582088 8794.35864452 8798.04205463 9081.18687849\n",
            "  8711.53433917 8760.89271814]]\n",
            "\n",
            "\n",
            " Test Labels: [[8798.04205463]\n",
            " [9081.18687849]\n",
            " [8711.53433917]\n",
            " [8760.89271814]\n",
            " [8749.52059102]]\n",
            "\n",
            "\n"
          ],
          "name": "stdout"
        }
      ]
    },
    {
      "cell_type": "code",
      "metadata": {
        "colab": {
          "base_uri": "https://localhost:8080/"
        },
        "id": "K_1DPmsC_-cv",
        "outputId": "9aabfe3b-6198-4087-800e-5b279e00e544"
      },
      "source": [
        "# Check to see if same (accounting for horizon and window size)\n",
        "np.array_equal(np.squeeze(train_labels[:-HORIZON-1]), y_train[WINDOW_SIZE:])"
      ],
      "execution_count": 40,
      "outputs": [
        {
          "output_type": "execute_result",
          "data": {
            "text/plain": [
              "True"
            ]
          },
          "metadata": {},
          "execution_count": 40
        }
      ]
    },
    {
      "cell_type": "markdown",
      "metadata": {
        "id": "13hS9zXxB4aW"
      },
      "source": [
        "#### **Make a modelling checkpoint** \n",
        "\n",
        "With the time series data the models performance will fluctuate from experiment to experiment, we're going to write a model checkpoint so we can compare apples to apples. \n",
        "\n",
        "That means we should make a fair comparison, we want to compare each models best performance against each models best performance. \n",
        "\n",
        "For example, if model_1 performed incredibly well on epoch 55 but its performance fell off toward epoch 100, we want the version of the model from epoch 55 to compare to other models rather than the version of the model from epoch 100.\n",
        "\n",
        "The `ModelCheckpoint` callback will monitor our model's performance during training and save the best model to file by setting `save_best_only=True`.\n",
        "\n"
      ]
    },
    {
      "cell_type": "code",
      "metadata": {
        "id": "gl_IQuv2GJmn"
      },
      "source": [
        "# Writing a function \n",
        "import os \n",
        "\n",
        "# Creating a function to implement a ModelCheckpoint callback \n",
        "def create_model_checkpoint(model_name , save_path = 'model_experiment/'):\n",
        "  return tf.keras.callbacks.ModelCheckpoint(filepath= os.path.join(save_path , model_name) , # filepath + model_name \n",
        "                                            verbose = 0 , # prints only limited info\n",
        "                                            save_best_only = True # Save only the best model\n",
        "                                            )"
      ],
      "execution_count": 41,
      "outputs": []
    },
    {
      "cell_type": "markdown",
      "metadata": {
        "id": "wTtJpq-cMn_X"
      },
      "source": [
        "YAYAA!!! \n",
        "\n",
        "Finally its time to continue with our modelling experiments and there is no stopping!!! \n",
        "\n",
        "We've been through a fair bit of preprocessing and its important to prepare our data for a model and its one of the largest parts of a machine learning project. \n",
        "\n",
        "Lets jump into the Model 1, which is a Dense model. "
      ]
    },
    {
      "cell_type": "markdown",
      "metadata": {
        "id": "zePxPcVVNbUu"
      },
      "source": [
        "### **Model 1: Dense model (windows = 7 , horizon = 1)**\n",
        "\n",
        "We're going to keep our `model_1` simple af, \n",
        "- A single dense layer with 128 hidden units and ReLu activation. \n",
        "- An output layer with linear activation which means no activation (hence its a continous value). \n",
        "- Adam Optimizier and MAE as loss function for compiliing the model. \n",
        "- Train the model for 100 epochs and use the above model checkpoint. \n",
        "\n",
        "As we know our **hyperparameters** are batch_size, window size and horizon. "
      ]
    },
    {
      "cell_type": "code",
      "metadata": {
        "colab": {
          "base_uri": "https://localhost:8080/"
        },
        "id": "12ktN7uDNg7z",
        "outputId": "a3f68166-1ebb-4e67-8f38-e75a2c734226"
      },
      "source": [
        "# Build the simple model (model_1)\n",
        "import tensorflow as tf\n",
        "from tensorflow.keras import layers \n",
        "\n",
        "# Set the random seed for reproducibility \n",
        "tf.random.set_seed(42)\n",
        "\n",
        "# Construct the model \n",
        "model_1 = tf.keras.Sequential([\n",
        "  layers.Dense(128 , activation ='relu'), \n",
        "  layers.Dense(HORIZON , activation = 'linear')\n",
        "] , name = 'model_1_dense') \n",
        "\n",
        "# Compile the model \n",
        "model_1.compile(loss = 'mae' , \n",
        "                optimizer = tf.keras.optimizers.Adam() , \n",
        "                metrics = ['mae'])\n",
        "\n",
        "# Fit the model \n",
        "model_1.fit(x = train_windows , \n",
        "            y = train_labels , \n",
        "            epochs = 100 , \n",
        "            verbose =1 , \n",
        "            batch_size = 128 , \n",
        "            validation_data = (test_windows , test_labels) , \n",
        "            callbacks = [create_model_checkpoint(model_1.name)])"
      ],
      "execution_count": 42,
      "outputs": [
        {
          "output_type": "stream",
          "text": [
            "Epoch 1/100\n",
            "18/18 [==============================] - 2s 11ms/step - loss: 780.3455 - mae: 780.3455 - val_loss: 2279.6528 - val_mae: 2279.6528\n",
            "INFO:tensorflow:Assets written to: model_experiment/model_1_dense/assets\n",
            "Epoch 2/100\n",
            "18/18 [==============================] - 0s 3ms/step - loss: 247.6756 - mae: 247.6756 - val_loss: 1005.9992 - val_mae: 1005.9992\n",
            "INFO:tensorflow:Assets written to: model_experiment/model_1_dense/assets\n",
            "Epoch 3/100\n",
            "18/18 [==============================] - 0s 3ms/step - loss: 188.4116 - mae: 188.4116 - val_loss: 923.2863 - val_mae: 923.2863\n",
            "INFO:tensorflow:Assets written to: model_experiment/model_1_dense/assets\n",
            "Epoch 4/100\n",
            "18/18 [==============================] - 0s 3ms/step - loss: 169.4340 - mae: 169.4340 - val_loss: 900.5872 - val_mae: 900.5872\n",
            "INFO:tensorflow:Assets written to: model_experiment/model_1_dense/assets\n",
            "Epoch 5/100\n",
            "18/18 [==============================] - 0s 3ms/step - loss: 165.0895 - mae: 165.0895 - val_loss: 895.2236 - val_mae: 895.2236\n",
            "INFO:tensorflow:Assets written to: model_experiment/model_1_dense/assets\n",
            "Epoch 6/100\n",
            "18/18 [==============================] - 0s 4ms/step - loss: 158.5210 - mae: 158.5210 - val_loss: 855.1985 - val_mae: 855.1985\n",
            "INFO:tensorflow:Assets written to: model_experiment/model_1_dense/assets\n",
            "Epoch 7/100\n",
            "18/18 [==============================] - 0s 4ms/step - loss: 151.3566 - mae: 151.3566 - val_loss: 840.9167 - val_mae: 840.9166\n",
            "INFO:tensorflow:Assets written to: model_experiment/model_1_dense/assets\n",
            "Epoch 8/100\n",
            "18/18 [==============================] - 0s 3ms/step - loss: 145.2560 - mae: 145.2560 - val_loss: 803.5959 - val_mae: 803.5959\n",
            "INFO:tensorflow:Assets written to: model_experiment/model_1_dense/assets\n",
            "Epoch 9/100\n",
            "18/18 [==============================] - 0s 3ms/step - loss: 144.3546 - mae: 144.3546 - val_loss: 799.5455 - val_mae: 799.5455\n",
            "INFO:tensorflow:Assets written to: model_experiment/model_1_dense/assets\n",
            "Epoch 10/100\n",
            "18/18 [==============================] - 0s 3ms/step - loss: 141.2943 - mae: 141.2943 - val_loss: 763.5010 - val_mae: 763.5010\n",
            "INFO:tensorflow:Assets written to: model_experiment/model_1_dense/assets\n",
            "Epoch 11/100\n",
            "18/18 [==============================] - 0s 3ms/step - loss: 135.6595 - mae: 135.6595 - val_loss: 771.3354 - val_mae: 771.3354\n",
            "Epoch 12/100\n",
            "18/18 [==============================] - 0s 3ms/step - loss: 134.1700 - mae: 134.1700 - val_loss: 782.8077 - val_mae: 782.8077\n",
            "Epoch 13/100\n",
            "18/18 [==============================] - 0s 3ms/step - loss: 134.6015 - mae: 134.6015 - val_loss: 784.4446 - val_mae: 784.4446\n",
            "Epoch 14/100\n",
            "18/18 [==============================] - 0s 3ms/step - loss: 130.6127 - mae: 130.6127 - val_loss: 751.3230 - val_mae: 751.3231\n",
            "INFO:tensorflow:Assets written to: model_experiment/model_1_dense/assets\n",
            "Epoch 15/100\n",
            "18/18 [==============================] - 0s 3ms/step - loss: 128.8347 - mae: 128.8347 - val_loss: 696.5756 - val_mae: 696.5756\n",
            "INFO:tensorflow:Assets written to: model_experiment/model_1_dense/assets\n",
            "Epoch 16/100\n",
            "18/18 [==============================] - 0s 3ms/step - loss: 124.7738 - mae: 124.7738 - val_loss: 702.4695 - val_mae: 702.4695\n",
            "Epoch 17/100\n",
            "18/18 [==============================] - 0s 3ms/step - loss: 123.4474 - mae: 123.4474 - val_loss: 704.9236 - val_mae: 704.9236\n",
            "Epoch 18/100\n",
            "18/18 [==============================] - 0s 3ms/step - loss: 122.2105 - mae: 122.2105 - val_loss: 667.9723 - val_mae: 667.9723\n",
            "INFO:tensorflow:Assets written to: model_experiment/model_1_dense/assets\n",
            "Epoch 19/100\n",
            "18/18 [==============================] - 0s 3ms/step - loss: 121.7262 - mae: 121.7262 - val_loss: 718.8792 - val_mae: 718.8792\n",
            "Epoch 20/100\n",
            "18/18 [==============================] - 0s 3ms/step - loss: 119.2420 - mae: 119.2420 - val_loss: 657.0665 - val_mae: 657.0665\n",
            "INFO:tensorflow:Assets written to: model_experiment/model_1_dense/assets\n",
            "Epoch 21/100\n",
            "18/18 [==============================] - 0s 4ms/step - loss: 121.2275 - mae: 121.2275 - val_loss: 637.0330 - val_mae: 637.0330\n",
            "INFO:tensorflow:Assets written to: model_experiment/model_1_dense/assets\n",
            "Epoch 22/100\n",
            "18/18 [==============================] - 0s 4ms/step - loss: 119.9544 - mae: 119.9544 - val_loss: 671.2486 - val_mae: 671.2486\n",
            "Epoch 23/100\n",
            "18/18 [==============================] - 0s 3ms/step - loss: 121.9248 - mae: 121.9248 - val_loss: 633.3590 - val_mae: 633.3590\n",
            "INFO:tensorflow:Assets written to: model_experiment/model_1_dense/assets\n",
            "Epoch 24/100\n",
            "18/18 [==============================] - 0s 3ms/step - loss: 116.3665 - mae: 116.3665 - val_loss: 624.4853 - val_mae: 624.4853\n",
            "INFO:tensorflow:Assets written to: model_experiment/model_1_dense/assets\n",
            "Epoch 25/100\n",
            "18/18 [==============================] - 0s 3ms/step - loss: 114.6816 - mae: 114.6816 - val_loss: 619.7573 - val_mae: 619.7573\n",
            "INFO:tensorflow:Assets written to: model_experiment/model_1_dense/assets\n",
            "Epoch 26/100\n",
            "18/18 [==============================] - 0s 3ms/step - loss: 116.4456 - mae: 116.4456 - val_loss: 615.6364 - val_mae: 615.6364\n",
            "INFO:tensorflow:Assets written to: model_experiment/model_1_dense/assets\n",
            "Epoch 27/100\n",
            "18/18 [==============================] - 0s 3ms/step - loss: 116.5868 - mae: 116.5868 - val_loss: 615.9629 - val_mae: 615.9629\n",
            "Epoch 28/100\n",
            "18/18 [==============================] - 0s 3ms/step - loss: 113.4691 - mae: 113.4691 - val_loss: 608.0922 - val_mae: 608.0922\n",
            "INFO:tensorflow:Assets written to: model_experiment/model_1_dense/assets\n",
            "Epoch 29/100\n",
            "18/18 [==============================] - 0s 3ms/step - loss: 113.7598 - mae: 113.7598 - val_loss: 621.9301 - val_mae: 621.9301\n",
            "Epoch 30/100\n",
            "18/18 [==============================] - 0s 3ms/step - loss: 116.8613 - mae: 116.8613 - val_loss: 604.4055 - val_mae: 604.4055\n",
            "INFO:tensorflow:Assets written to: model_experiment/model_1_dense/assets\n",
            "Epoch 31/100\n",
            "18/18 [==============================] - 0s 3ms/step - loss: 111.9375 - mae: 111.9375 - val_loss: 609.3879 - val_mae: 609.3879\n",
            "Epoch 32/100\n",
            "18/18 [==============================] - 0s 3ms/step - loss: 112.4175 - mae: 112.4175 - val_loss: 603.0585 - val_mae: 603.0585\n",
            "INFO:tensorflow:Assets written to: model_experiment/model_1_dense/assets\n",
            "Epoch 33/100\n",
            "18/18 [==============================] - 0s 3ms/step - loss: 112.6697 - mae: 112.6697 - val_loss: 645.6965 - val_mae: 645.6965\n",
            "Epoch 34/100\n",
            "18/18 [==============================] - 0s 3ms/step - loss: 111.9867 - mae: 111.9867 - val_loss: 604.7639 - val_mae: 604.7639\n",
            "Epoch 35/100\n",
            "18/18 [==============================] - 0s 3ms/step - loss: 110.9451 - mae: 110.9451 - val_loss: 593.4648 - val_mae: 593.4648\n",
            "INFO:tensorflow:Assets written to: model_experiment/model_1_dense/assets\n",
            "Epoch 36/100\n",
            "18/18 [==============================] - 0s 3ms/step - loss: 114.4816 - mae: 114.4816 - val_loss: 608.0067 - val_mae: 608.0067\n",
            "Epoch 37/100\n",
            "18/18 [==============================] - 0s 4ms/step - loss: 110.2016 - mae: 110.2016 - val_loss: 597.2306 - val_mae: 597.2306\n",
            "Epoch 38/100\n",
            "18/18 [==============================] - 0s 4ms/step - loss: 112.2371 - mae: 112.2371 - val_loss: 637.9808 - val_mae: 637.9808\n",
            "Epoch 39/100\n",
            "18/18 [==============================] - 0s 3ms/step - loss: 115.1290 - mae: 115.1290 - val_loss: 587.4678 - val_mae: 587.4678\n",
            "INFO:tensorflow:Assets written to: model_experiment/model_1_dense/assets\n",
            "Epoch 40/100\n",
            "18/18 [==============================] - 0s 3ms/step - loss: 110.0854 - mae: 110.0854 - val_loss: 592.7120 - val_mae: 592.7120\n",
            "Epoch 41/100\n",
            "18/18 [==============================] - 0s 3ms/step - loss: 110.6344 - mae: 110.6344 - val_loss: 593.9002 - val_mae: 593.9002\n",
            "Epoch 42/100\n",
            "18/18 [==============================] - 0s 3ms/step - loss: 113.5762 - mae: 113.5762 - val_loss: 636.3661 - val_mae: 636.3661\n",
            "Epoch 43/100\n",
            "18/18 [==============================] - 0s 3ms/step - loss: 116.2285 - mae: 116.2285 - val_loss: 662.9277 - val_mae: 662.9277\n",
            "Epoch 44/100\n",
            "18/18 [==============================] - 0s 3ms/step - loss: 120.0193 - mae: 120.0193 - val_loss: 635.6375 - val_mae: 635.6375\n",
            "Epoch 45/100\n",
            "18/18 [==============================] - 0s 3ms/step - loss: 110.9675 - mae: 110.9675 - val_loss: 601.9918 - val_mae: 601.9918\n",
            "Epoch 46/100\n",
            "18/18 [==============================] - 0s 3ms/step - loss: 111.6012 - mae: 111.6012 - val_loss: 593.3539 - val_mae: 593.3539\n",
            "Epoch 47/100\n",
            "18/18 [==============================] - 0s 3ms/step - loss: 109.6161 - mae: 109.6161 - val_loss: 637.0000 - val_mae: 637.0000\n",
            "Epoch 48/100\n",
            "18/18 [==============================] - 0s 3ms/step - loss: 109.1368 - mae: 109.1368 - val_loss: 598.4189 - val_mae: 598.4189\n",
            "Epoch 49/100\n",
            "18/18 [==============================] - 0s 3ms/step - loss: 112.4355 - mae: 112.4355 - val_loss: 579.7040 - val_mae: 579.7040\n",
            "INFO:tensorflow:Assets written to: model_experiment/model_1_dense/assets\n",
            "Epoch 50/100\n",
            "18/18 [==============================] - 0s 3ms/step - loss: 110.2108 - mae: 110.2108 - val_loss: 639.2337 - val_mae: 639.2337\n",
            "Epoch 51/100\n",
            "18/18 [==============================] - 0s 3ms/step - loss: 111.0958 - mae: 111.0958 - val_loss: 597.3566 - val_mae: 597.3566\n",
            "Epoch 52/100\n",
            "18/18 [==============================] - 0s 3ms/step - loss: 110.7351 - mae: 110.7351 - val_loss: 580.7230 - val_mae: 580.7230\n",
            "Epoch 53/100\n",
            "18/18 [==============================] - 0s 3ms/step - loss: 111.1785 - mae: 111.1785 - val_loss: 648.3575 - val_mae: 648.3575\n",
            "Epoch 54/100\n",
            "18/18 [==============================] - 0s 3ms/step - loss: 114.0831 - mae: 114.0831 - val_loss: 593.2001 - val_mae: 593.2001\n",
            "Epoch 55/100\n",
            "18/18 [==============================] - 0s 3ms/step - loss: 110.4910 - mae: 110.4910 - val_loss: 579.5068 - val_mae: 579.5068\n",
            "INFO:tensorflow:Assets written to: model_experiment/model_1_dense/assets\n",
            "Epoch 56/100\n",
            "18/18 [==============================] - 0s 3ms/step - loss: 108.0488 - mae: 108.0488 - val_loss: 807.3871 - val_mae: 807.3871\n",
            "Epoch 57/100\n",
            "18/18 [==============================] - 0s 3ms/step - loss: 125.0614 - mae: 125.0614 - val_loss: 674.1669 - val_mae: 674.1669\n",
            "Epoch 58/100\n",
            "18/18 [==============================] - 0s 3ms/step - loss: 115.4340 - mae: 115.4340 - val_loss: 582.2692 - val_mae: 582.2692\n",
            "Epoch 59/100\n",
            "18/18 [==============================] - 0s 3ms/step - loss: 110.0881 - mae: 110.0881 - val_loss: 606.7650 - val_mae: 606.7650\n",
            "Epoch 60/100\n",
            "18/18 [==============================] - 0s 3ms/step - loss: 108.7156 - mae: 108.7156 - val_loss: 602.3090 - val_mae: 602.3090\n",
            "Epoch 61/100\n",
            "18/18 [==============================] - 0s 3ms/step - loss: 108.1525 - mae: 108.1525 - val_loss: 573.9988 - val_mae: 573.9988\n",
            "INFO:tensorflow:Assets written to: model_experiment/model_1_dense/assets\n",
            "Epoch 62/100\n",
            "18/18 [==============================] - 0s 4ms/step - loss: 107.3727 - mae: 107.3727 - val_loss: 581.7021 - val_mae: 581.7021\n",
            "Epoch 63/100\n",
            "18/18 [==============================] - 0s 3ms/step - loss: 110.7667 - mae: 110.7667 - val_loss: 637.5234 - val_mae: 637.5234\n",
            "Epoch 64/100\n",
            "18/18 [==============================] - 0s 3ms/step - loss: 110.1539 - mae: 110.1539 - val_loss: 586.6592 - val_mae: 586.6592\n",
            "Epoch 65/100\n",
            "18/18 [==============================] - 0s 4ms/step - loss: 108.2325 - mae: 108.2325 - val_loss: 573.5617 - val_mae: 573.5617\n",
            "INFO:tensorflow:Assets written to: model_experiment/model_1_dense/assets\n",
            "Epoch 66/100\n",
            "18/18 [==============================] - 0s 3ms/step - loss: 108.6825 - mae: 108.6825 - val_loss: 572.2206 - val_mae: 572.2206\n",
            "INFO:tensorflow:Assets written to: model_experiment/model_1_dense/assets\n",
            "Epoch 67/100\n",
            "18/18 [==============================] - 0s 3ms/step - loss: 106.6371 - mae: 106.6371 - val_loss: 646.6371 - val_mae: 646.6371\n",
            "Epoch 68/100\n",
            "18/18 [==============================] - 0s 3ms/step - loss: 114.1603 - mae: 114.1603 - val_loss: 681.8581 - val_mae: 681.8581\n",
            "Epoch 69/100\n",
            "18/18 [==============================] - 0s 3ms/step - loss: 124.5514 - mae: 124.5514 - val_loss: 655.9902 - val_mae: 655.9902\n",
            "Epoch 70/100\n",
            "18/18 [==============================] - 0s 3ms/step - loss: 125.0234 - mae: 125.0234 - val_loss: 601.0046 - val_mae: 601.0046\n",
            "Epoch 71/100\n",
            "18/18 [==============================] - 0s 3ms/step - loss: 110.3651 - mae: 110.3651 - val_loss: 595.3952 - val_mae: 595.3952\n",
            "Epoch 72/100\n",
            "18/18 [==============================] - 0s 3ms/step - loss: 107.9285 - mae: 107.9285 - val_loss: 573.7084 - val_mae: 573.7084\n",
            "Epoch 73/100\n",
            "18/18 [==============================] - 0s 4ms/step - loss: 109.5085 - mae: 109.5085 - val_loss: 580.4187 - val_mae: 580.4187\n",
            "Epoch 74/100\n",
            "18/18 [==============================] - 0s 3ms/step - loss: 108.7380 - mae: 108.7380 - val_loss: 576.1218 - val_mae: 576.1218\n",
            "Epoch 75/100\n",
            "18/18 [==============================] - 0s 3ms/step - loss: 107.9404 - mae: 107.9404 - val_loss: 591.1465 - val_mae: 591.1465\n",
            "Epoch 76/100\n",
            "18/18 [==============================] - 0s 3ms/step - loss: 109.4232 - mae: 109.4232 - val_loss: 597.8621 - val_mae: 597.8621\n",
            "Epoch 77/100\n",
            "18/18 [==============================] - 0s 3ms/step - loss: 107.5879 - mae: 107.5879 - val_loss: 571.9301 - val_mae: 571.9301\n",
            "INFO:tensorflow:Assets written to: model_experiment/model_1_dense/assets\n",
            "Epoch 78/100\n",
            "18/18 [==============================] - 0s 3ms/step - loss: 108.1598 - mae: 108.1598 - val_loss: 575.2389 - val_mae: 575.2389\n",
            "Epoch 79/100\n",
            "18/18 [==============================] - 0s 3ms/step - loss: 107.9175 - mae: 107.9175 - val_loss: 617.3092 - val_mae: 617.3092\n",
            "Epoch 80/100\n",
            "18/18 [==============================] - 0s 3ms/step - loss: 108.9510 - mae: 108.9510 - val_loss: 583.4836 - val_mae: 583.4836\n",
            "Epoch 81/100\n",
            "18/18 [==============================] - 0s 3ms/step - loss: 106.0505 - mae: 106.0505 - val_loss: 570.0801 - val_mae: 570.0801\n",
            "INFO:tensorflow:Assets written to: model_experiment/model_1_dense/assets\n",
            "Epoch 82/100\n",
            "18/18 [==============================] - 0s 5ms/step - loss: 115.6827 - mae: 115.6827 - val_loss: 575.7390 - val_mae: 575.7390\n",
            "Epoch 83/100\n",
            "18/18 [==============================] - 0s 3ms/step - loss: 110.9379 - mae: 110.9379 - val_loss: 659.6590 - val_mae: 659.6590\n",
            "Epoch 84/100\n",
            "18/18 [==============================] - 0s 3ms/step - loss: 111.4836 - mae: 111.4836 - val_loss: 570.1957 - val_mae: 570.1957\n",
            "Epoch 85/100\n",
            "18/18 [==============================] - 0s 3ms/step - loss: 107.5948 - mae: 107.5948 - val_loss: 601.5933 - val_mae: 601.5933\n",
            "Epoch 86/100\n",
            "18/18 [==============================] - 0s 3ms/step - loss: 108.9426 - mae: 108.9426 - val_loss: 592.8096 - val_mae: 592.8096\n",
            "Epoch 87/100\n",
            "18/18 [==============================] - 0s 3ms/step - loss: 105.7717 - mae: 105.7717 - val_loss: 603.6180 - val_mae: 603.6180\n",
            "Epoch 88/100\n",
            "18/18 [==============================] - 0s 3ms/step - loss: 107.9218 - mae: 107.9218 - val_loss: 569.0501 - val_mae: 569.0501\n",
            "INFO:tensorflow:Assets written to: model_experiment/model_1_dense/assets\n",
            "Epoch 89/100\n",
            "18/18 [==============================] - 0s 3ms/step - loss: 106.0344 - mae: 106.0344 - val_loss: 568.9511 - val_mae: 568.9511\n",
            "INFO:tensorflow:Assets written to: model_experiment/model_1_dense/assets\n",
            "Epoch 90/100\n",
            "18/18 [==============================] - 0s 3ms/step - loss: 105.4977 - mae: 105.4977 - val_loss: 581.7675 - val_mae: 581.7675\n",
            "Epoch 91/100\n",
            "18/18 [==============================] - 0s 3ms/step - loss: 108.8468 - mae: 108.8468 - val_loss: 573.6028 - val_mae: 573.6028\n",
            "Epoch 92/100\n",
            "18/18 [==============================] - 0s 3ms/step - loss: 110.8884 - mae: 110.8884 - val_loss: 576.8241 - val_mae: 576.8241\n",
            "Epoch 93/100\n",
            "18/18 [==============================] - 0s 3ms/step - loss: 113.8781 - mae: 113.8781 - val_loss: 608.3032 - val_mae: 608.3032\n",
            "Epoch 94/100\n",
            "18/18 [==============================] - 0s 3ms/step - loss: 110.5763 - mae: 110.5763 - val_loss: 601.6036 - val_mae: 601.6036\n",
            "Epoch 95/100\n",
            "18/18 [==============================] - 0s 3ms/step - loss: 106.5906 - mae: 106.5906 - val_loss: 570.3649 - val_mae: 570.3649\n",
            "Epoch 96/100\n",
            "18/18 [==============================] - 0s 3ms/step - loss: 116.9515 - mae: 116.9515 - val_loss: 615.2594 - val_mae: 615.2594\n",
            "Epoch 97/100\n",
            "18/18 [==============================] - 0s 3ms/step - loss: 108.0739 - mae: 108.0739 - val_loss: 580.3080 - val_mae: 580.3080\n",
            "Epoch 98/100\n",
            "18/18 [==============================] - 0s 3ms/step - loss: 108.7102 - mae: 108.7102 - val_loss: 586.6504 - val_mae: 586.6504\n",
            "Epoch 99/100\n",
            "18/18 [==============================] - 0s 3ms/step - loss: 109.0488 - mae: 109.0488 - val_loss: 570.0628 - val_mae: 570.0628\n",
            "Epoch 100/100\n",
            "18/18 [==============================] - 0s 3ms/step - loss: 106.1845 - mae: 106.1845 - val_loss: 585.9753 - val_mae: 585.9753\n"
          ],
          "name": "stdout"
        },
        {
          "output_type": "execute_result",
          "data": {
            "text/plain": [
              "<keras.callbacks.History at 0x7fc2c4937790>"
            ]
          },
          "metadata": {},
          "execution_count": 42
        }
      ]
    },
    {
      "cell_type": "code",
      "metadata": {
        "colab": {
          "base_uri": "https://localhost:8080/"
        },
        "id": "0rGBOQWdcrx6",
        "outputId": "4c694bc5-5e11-4e38-a0eb-8f33dc627a32"
      },
      "source": [
        "# Building the above with functional api \n",
        "inputs = layers.Input(shape= (WINDOW_SIZE,))\n",
        "x = layers.Dense(128 , activation= 'relu')(inputs)\n",
        "outputs = layers.Dense(HORIZON , activation = 'linear')(x)\n",
        "\n",
        "# Putting into a model \n",
        "functional_model_1 = tf.keras.Model(inputs , outputs)\n",
        "functional_model_1.compile(loss = 'mae' , \n",
        "                           optimizer = 'adam',\n",
        "                           metrics = ['mae'])\n",
        "\n",
        "# Fit the model\n",
        "functional_model_1.fit(x = train_windows , \n",
        "                       y = train_labels , \n",
        "                       epochs  = 100 , \n",
        "                       verbose = 2 , \n",
        "                       batch_size = 129 , \n",
        "                       validation_data = (test_windows , test_labels))"
      ],
      "execution_count": 43,
      "outputs": [
        {
          "output_type": "stream",
          "text": [
            "Epoch 1/100\n",
            "18/18 - 0s - loss: 1032.0488 - mae: 1032.0488 - val_loss: 2468.9014 - val_mae: 2468.9014\n",
            "Epoch 2/100\n",
            "18/18 - 0s - loss: 313.5062 - mae: 313.5062 - val_loss: 1561.5896 - val_mae: 1561.5896\n",
            "Epoch 3/100\n",
            "18/18 - 0s - loss: 211.1690 - mae: 211.1690 - val_loss: 1256.7253 - val_mae: 1256.7253\n",
            "Epoch 4/100\n",
            "18/18 - 0s - loss: 189.2555 - mae: 189.2555 - val_loss: 1053.2524 - val_mae: 1053.2524\n",
            "Epoch 5/100\n",
            "18/18 - 0s - loss: 180.5229 - mae: 180.5229 - val_loss: 972.3650 - val_mae: 972.3650\n",
            "Epoch 6/100\n",
            "18/18 - 0s - loss: 176.2112 - mae: 176.2112 - val_loss: 972.5958 - val_mae: 972.5958\n",
            "Epoch 7/100\n",
            "18/18 - 0s - loss: 168.7167 - mae: 168.7167 - val_loss: 970.6170 - val_mae: 970.6170\n",
            "Epoch 8/100\n",
            "18/18 - 0s - loss: 162.0167 - mae: 162.0167 - val_loss: 878.9637 - val_mae: 878.9637\n",
            "Epoch 9/100\n",
            "18/18 - 0s - loss: 156.9711 - mae: 156.9711 - val_loss: 870.6457 - val_mae: 870.6457\n",
            "Epoch 10/100\n",
            "18/18 - 0s - loss: 150.6246 - mae: 150.6246 - val_loss: 821.7891 - val_mae: 821.7891\n",
            "Epoch 11/100\n",
            "18/18 - 0s - loss: 143.6851 - mae: 143.6851 - val_loss: 793.9223 - val_mae: 793.9223\n",
            "Epoch 12/100\n",
            "18/18 - 0s - loss: 138.3941 - mae: 138.3941 - val_loss: 828.2527 - val_mae: 828.2527\n",
            "Epoch 13/100\n",
            "18/18 - 0s - loss: 138.1398 - mae: 138.1398 - val_loss: 821.7750 - val_mae: 821.7750\n",
            "Epoch 14/100\n",
            "18/18 - 0s - loss: 132.5145 - mae: 132.5145 - val_loss: 761.6329 - val_mae: 761.6329\n",
            "Epoch 15/100\n",
            "18/18 - 0s - loss: 131.8221 - mae: 131.8221 - val_loss: 805.0505 - val_mae: 805.0505\n",
            "Epoch 16/100\n",
            "18/18 - 0s - loss: 135.8022 - mae: 135.8022 - val_loss: 716.7141 - val_mae: 716.7141\n",
            "Epoch 17/100\n",
            "18/18 - 0s - loss: 125.2708 - mae: 125.2708 - val_loss: 715.2238 - val_mae: 715.2238\n",
            "Epoch 18/100\n",
            "18/18 - 0s - loss: 125.0298 - mae: 125.0298 - val_loss: 722.6879 - val_mae: 722.6879\n",
            "Epoch 19/100\n",
            "18/18 - 0s - loss: 122.2572 - mae: 122.2572 - val_loss: 770.8748 - val_mae: 770.8748\n",
            "Epoch 20/100\n",
            "18/18 - 0s - loss: 123.2581 - mae: 123.2581 - val_loss: 646.4080 - val_mae: 646.4080\n",
            "Epoch 21/100\n",
            "18/18 - 0s - loss: 121.5001 - mae: 121.5001 - val_loss: 634.2377 - val_mae: 634.2377\n",
            "Epoch 22/100\n",
            "18/18 - 0s - loss: 119.3094 - mae: 119.3094 - val_loss: 648.9849 - val_mae: 648.9849\n",
            "Epoch 23/100\n",
            "18/18 - 0s - loss: 118.9812 - mae: 118.9812 - val_loss: 640.5397 - val_mae: 640.5397\n",
            "Epoch 24/100\n",
            "18/18 - 0s - loss: 116.4241 - mae: 116.4241 - val_loss: 622.9044 - val_mae: 622.9044\n",
            "Epoch 25/100\n",
            "18/18 - 0s - loss: 115.0047 - mae: 115.0047 - val_loss: 629.7453 - val_mae: 629.7453\n",
            "Epoch 26/100\n",
            "18/18 - 0s - loss: 115.8429 - mae: 115.8429 - val_loss: 617.8375 - val_mae: 617.8375\n",
            "Epoch 27/100\n",
            "18/18 - 0s - loss: 116.3445 - mae: 116.3445 - val_loss: 608.4490 - val_mae: 608.4490\n",
            "Epoch 28/100\n",
            "18/18 - 0s - loss: 113.2108 - mae: 113.2108 - val_loss: 608.7380 - val_mae: 608.7380\n",
            "Epoch 29/100\n",
            "18/18 - 0s - loss: 112.7634 - mae: 112.7634 - val_loss: 603.7808 - val_mae: 603.7808\n",
            "Epoch 30/100\n",
            "18/18 - 0s - loss: 115.8762 - mae: 115.8762 - val_loss: 600.1099 - val_mae: 600.1099\n",
            "Epoch 31/100\n",
            "18/18 - 0s - loss: 112.8464 - mae: 112.8464 - val_loss: 633.8152 - val_mae: 633.8152\n",
            "Epoch 32/100\n",
            "18/18 - 0s - loss: 112.0334 - mae: 112.0334 - val_loss: 605.5579 - val_mae: 605.5579\n",
            "Epoch 33/100\n",
            "18/18 - 0s - loss: 111.5959 - mae: 111.5959 - val_loss: 598.3588 - val_mae: 598.3588\n",
            "Epoch 34/100\n",
            "18/18 - 0s - loss: 111.5180 - mae: 111.5180 - val_loss: 636.1503 - val_mae: 636.1503\n",
            "Epoch 35/100\n",
            "18/18 - 0s - loss: 113.8408 - mae: 113.8408 - val_loss: 590.3776 - val_mae: 590.3776\n",
            "Epoch 36/100\n",
            "18/18 - 0s - loss: 118.4060 - mae: 118.4060 - val_loss: 589.6731 - val_mae: 589.6731\n",
            "Epoch 37/100\n",
            "18/18 - 0s - loss: 113.6043 - mae: 113.6043 - val_loss: 589.0878 - val_mae: 589.0878\n",
            "Epoch 38/100\n",
            "18/18 - 0s - loss: 113.1256 - mae: 113.1256 - val_loss: 603.3161 - val_mae: 603.3161\n",
            "Epoch 39/100\n",
            "18/18 - 0s - loss: 111.7799 - mae: 111.7799 - val_loss: 615.3823 - val_mae: 615.3823\n",
            "Epoch 40/100\n",
            "18/18 - 0s - loss: 109.9527 - mae: 109.9527 - val_loss: 585.5650 - val_mae: 585.5650\n",
            "Epoch 41/100\n",
            "18/18 - 0s - loss: 109.7603 - mae: 109.7603 - val_loss: 586.8045 - val_mae: 586.8045\n",
            "Epoch 42/100\n",
            "18/18 - 0s - loss: 117.8609 - mae: 117.8609 - val_loss: 622.6317 - val_mae: 622.6317\n",
            "Epoch 43/100\n",
            "18/18 - 0s - loss: 110.5723 - mae: 110.5723 - val_loss: 582.7180 - val_mae: 582.7180\n",
            "Epoch 44/100\n",
            "18/18 - 0s - loss: 109.0171 - mae: 109.0171 - val_loss: 580.9440 - val_mae: 580.9440\n",
            "Epoch 45/100\n",
            "18/18 - 0s - loss: 108.3478 - mae: 108.3478 - val_loss: 580.1785 - val_mae: 580.1785\n",
            "Epoch 46/100\n",
            "18/18 - 0s - loss: 109.2938 - mae: 109.2938 - val_loss: 636.3954 - val_mae: 636.3954\n",
            "Epoch 47/100\n",
            "18/18 - 0s - loss: 114.4495 - mae: 114.4495 - val_loss: 638.8267 - val_mae: 638.8267\n",
            "Epoch 48/100\n",
            "18/18 - 0s - loss: 109.1598 - mae: 109.1598 - val_loss: 597.6748 - val_mae: 597.6748\n",
            "Epoch 49/100\n",
            "18/18 - 0s - loss: 112.2528 - mae: 112.2528 - val_loss: 575.8851 - val_mae: 575.8851\n",
            "Epoch 50/100\n",
            "18/18 - 0s - loss: 110.0970 - mae: 110.0970 - val_loss: 635.2645 - val_mae: 635.2645\n",
            "Epoch 51/100\n",
            "18/18 - 0s - loss: 110.8863 - mae: 110.8863 - val_loss: 627.3091 - val_mae: 627.3091\n",
            "Epoch 52/100\n",
            "18/18 - 0s - loss: 119.1381 - mae: 119.1381 - val_loss: 580.6558 - val_mae: 580.6558\n",
            "Epoch 53/100\n",
            "18/18 - 0s - loss: 114.6079 - mae: 114.6079 - val_loss: 596.6227 - val_mae: 596.6227\n",
            "Epoch 54/100\n",
            "18/18 - 0s - loss: 116.7242 - mae: 116.7242 - val_loss: 732.3521 - val_mae: 732.3521\n",
            "Epoch 55/100\n",
            "18/18 - 0s - loss: 115.9124 - mae: 115.9124 - val_loss: 596.7423 - val_mae: 596.7423\n",
            "Epoch 56/100\n",
            "18/18 - 0s - loss: 114.0062 - mae: 114.0062 - val_loss: 918.9857 - val_mae: 918.9857\n",
            "Epoch 57/100\n",
            "18/18 - 0s - loss: 140.2654 - mae: 140.2654 - val_loss: 589.6521 - val_mae: 589.6521\n",
            "Epoch 58/100\n",
            "18/18 - 0s - loss: 112.7872 - mae: 112.7872 - val_loss: 592.9241 - val_mae: 592.9241\n",
            "Epoch 59/100\n",
            "18/18 - 0s - loss: 108.7800 - mae: 108.7800 - val_loss: 574.2380 - val_mae: 574.2380\n",
            "Epoch 60/100\n",
            "18/18 - 0s - loss: 107.9806 - mae: 107.9806 - val_loss: 672.6221 - val_mae: 672.6221\n",
            "Epoch 61/100\n",
            "18/18 - 0s - loss: 115.3145 - mae: 115.3145 - val_loss: 680.4500 - val_mae: 680.4500\n",
            "Epoch 62/100\n",
            "18/18 - 0s - loss: 113.3049 - mae: 113.3049 - val_loss: 576.1233 - val_mae: 576.1233\n",
            "Epoch 63/100\n",
            "18/18 - 0s - loss: 106.3184 - mae: 106.3184 - val_loss: 585.2677 - val_mae: 585.2677\n",
            "Epoch 64/100\n",
            "18/18 - 0s - loss: 108.7643 - mae: 108.7643 - val_loss: 640.6459 - val_mae: 640.6459\n",
            "Epoch 65/100\n",
            "18/18 - 0s - loss: 110.4501 - mae: 110.4501 - val_loss: 568.8565 - val_mae: 568.8565\n",
            "Epoch 66/100\n",
            "18/18 - 0s - loss: 107.2323 - mae: 107.2323 - val_loss: 579.8337 - val_mae: 579.8337\n",
            "Epoch 67/100\n",
            "18/18 - 0s - loss: 106.0184 - mae: 106.0184 - val_loss: 610.8569 - val_mae: 610.8569\n",
            "Epoch 68/100\n",
            "18/18 - 0s - loss: 108.2498 - mae: 108.2498 - val_loss: 619.9385 - val_mae: 619.9385\n",
            "Epoch 69/100\n",
            "18/18 - 0s - loss: 116.4869 - mae: 116.4869 - val_loss: 567.7820 - val_mae: 567.7820\n",
            "Epoch 70/100\n",
            "18/18 - 0s - loss: 124.1280 - mae: 124.1280 - val_loss: 619.6326 - val_mae: 619.6326\n",
            "Epoch 71/100\n",
            "18/18 - 0s - loss: 109.0722 - mae: 109.0722 - val_loss: 580.6982 - val_mae: 580.6982\n",
            "Epoch 72/100\n",
            "18/18 - 0s - loss: 107.3694 - mae: 107.3694 - val_loss: 595.9523 - val_mae: 595.9523\n",
            "Epoch 73/100\n",
            "18/18 - 0s - loss: 107.1317 - mae: 107.1317 - val_loss: 568.7624 - val_mae: 568.7624\n",
            "Epoch 74/100\n",
            "18/18 - 0s - loss: 107.4807 - mae: 107.4807 - val_loss: 567.9169 - val_mae: 567.9169\n",
            "Epoch 75/100\n",
            "18/18 - 0s - loss: 106.7396 - mae: 106.7396 - val_loss: 613.2196 - val_mae: 613.2196\n",
            "Epoch 76/100\n",
            "18/18 - 0s - loss: 108.7649 - mae: 108.7649 - val_loss: 573.9471 - val_mae: 573.9471\n",
            "Epoch 77/100\n",
            "18/18 - 0s - loss: 106.7156 - mae: 106.7156 - val_loss: 588.3677 - val_mae: 588.3677\n",
            "Epoch 78/100\n",
            "18/18 - 0s - loss: 105.7795 - mae: 105.7795 - val_loss: 578.7714 - val_mae: 578.7714\n",
            "Epoch 79/100\n",
            "18/18 - 0s - loss: 106.9255 - mae: 106.9255 - val_loss: 568.0409 - val_mae: 568.0409\n",
            "Epoch 80/100\n",
            "18/18 - 0s - loss: 105.4889 - mae: 105.4889 - val_loss: 564.9022 - val_mae: 564.9022\n",
            "Epoch 81/100\n",
            "18/18 - 0s - loss: 105.5397 - mae: 105.5397 - val_loss: 567.5969 - val_mae: 567.5969\n",
            "Epoch 82/100\n",
            "18/18 - 0s - loss: 111.0934 - mae: 111.0934 - val_loss: 572.2717 - val_mae: 572.2717\n",
            "Epoch 83/100\n",
            "18/18 - 0s - loss: 110.2591 - mae: 110.2591 - val_loss: 649.1005 - val_mae: 649.1005\n",
            "Epoch 84/100\n",
            "18/18 - 0s - loss: 109.2523 - mae: 109.2523 - val_loss: 571.5581 - val_mae: 571.5581\n",
            "Epoch 85/100\n",
            "18/18 - 0s - loss: 105.3245 - mae: 105.3245 - val_loss: 573.7056 - val_mae: 573.7056\n",
            "Epoch 86/100\n",
            "18/18 - 0s - loss: 106.1767 - mae: 106.1767 - val_loss: 570.9517 - val_mae: 570.9517\n",
            "Epoch 87/100\n",
            "18/18 - 0s - loss: 105.0658 - mae: 105.0658 - val_loss: 626.8069 - val_mae: 626.8069\n",
            "Epoch 88/100\n",
            "18/18 - 0s - loss: 108.1707 - mae: 108.1707 - val_loss: 577.8225 - val_mae: 577.8225\n",
            "Epoch 89/100\n",
            "18/18 - 0s - loss: 104.9028 - mae: 104.9028 - val_loss: 571.3352 - val_mae: 571.3352\n",
            "Epoch 90/100\n",
            "18/18 - 0s - loss: 106.1799 - mae: 106.1799 - val_loss: 687.6367 - val_mae: 687.6367\n",
            "Epoch 91/100\n",
            "18/18 - 0s - loss: 112.9599 - mae: 112.9599 - val_loss: 627.4216 - val_mae: 627.4216\n",
            "Epoch 92/100\n",
            "18/18 - 0s - loss: 106.3709 - mae: 106.3709 - val_loss: 624.5984 - val_mae: 624.5984\n",
            "Epoch 93/100\n",
            "18/18 - 0s - loss: 116.9580 - mae: 116.9580 - val_loss: 678.8142 - val_mae: 678.8142\n",
            "Epoch 94/100\n",
            "18/18 - 0s - loss: 111.5231 - mae: 111.5231 - val_loss: 578.6679 - val_mae: 578.6679\n",
            "Epoch 95/100\n",
            "18/18 - 0s - loss: 105.0332 - mae: 105.0332 - val_loss: 566.1980 - val_mae: 566.1980\n",
            "Epoch 96/100\n",
            "18/18 - 0s - loss: 112.6396 - mae: 112.6396 - val_loss: 579.1623 - val_mae: 579.1623\n",
            "Epoch 97/100\n",
            "18/18 - 0s - loss: 107.2040 - mae: 107.2040 - val_loss: 579.1904 - val_mae: 579.1904\n",
            "Epoch 98/100\n",
            "18/18 - 0s - loss: 108.0050 - mae: 108.0050 - val_loss: 565.7646 - val_mae: 565.7646\n",
            "Epoch 99/100\n",
            "18/18 - 0s - loss: 106.0997 - mae: 106.0997 - val_loss: 566.6517 - val_mae: 566.6517\n",
            "Epoch 100/100\n",
            "18/18 - 0s - loss: 106.6004 - mae: 106.6004 - val_loss: 639.6407 - val_mae: 639.6407\n"
          ],
          "name": "stdout"
        },
        {
          "output_type": "execute_result",
          "data": {
            "text/plain": [
              "<keras.callbacks.History at 0x7fc2c31135d0>"
            ]
          },
          "metadata": {},
          "execution_count": 43
        }
      ]
    },
    {
      "cell_type": "code",
      "metadata": {
        "colab": {
          "base_uri": "https://localhost:8080/"
        },
        "id": "_NG0ilc4dltB",
        "outputId": "e3841cb8-9da7-4297-923f-54a77d6baf08"
      },
      "source": [
        "# Evaluating on the test data \n",
        "model_1.evaluate(test_windows , test_labels)"
      ],
      "execution_count": 44,
      "outputs": [
        {
          "output_type": "stream",
          "text": [
            "18/18 [==============================] - 0s 1ms/step - loss: 585.9753 - mae: 585.9753\n"
          ],
          "name": "stdout"
        },
        {
          "output_type": "execute_result",
          "data": {
            "text/plain": [
              "[585.9752807617188, 585.9752807617188]"
            ]
          },
          "metadata": {},
          "execution_count": 44
        }
      ]
    },
    {
      "cell_type": "markdown",
      "metadata": {
        "id": "sqlPpOWne0yJ"
      },
      "source": [
        "We can see that results were from the last epochs but if we observe there is an fluctuation of the `val_loss` and at some points its very low than the result of the last epoch. \n",
        "\n",
        "By the help of the checkpoint we can load the state of the mdoel where its performance was best.  "
      ]
    },
    {
      "cell_type": "code",
      "metadata": {
        "colab": {
          "base_uri": "https://localhost:8080/"
        },
        "id": "_a6amqz7gZrg",
        "outputId": "56907214-9d8f-4b54-a19d-4ef88123689a"
      },
      "source": [
        "# Load in saved best performing model_1 and evaluate on test data \n",
        "model_1 = tf.keras.models.load_model('model_experiment/model_1_dense')\n",
        "model_1.evaluate(test_windows , test_labels)"
      ],
      "execution_count": 45,
      "outputs": [
        {
          "output_type": "stream",
          "text": [
            "18/18 [==============================] - 0s 2ms/step - loss: 568.9510 - mae: 568.9510\n"
          ],
          "name": "stdout"
        },
        {
          "output_type": "execute_result",
          "data": {
            "text/plain": [
              "[568.9510498046875, 568.9510498046875]"
            ]
          },
          "metadata": {},
          "execution_count": 45
        }
      ]
    },
    {
      "cell_type": "markdown",
      "metadata": {
        "id": "w6cc6y4GgpK_"
      },
      "source": [
        "Much better! Due to the fluctuating performance of the model during training, loading back in the best performing model see's a sizeable improvement in MAE."
      ]
    },
    {
      "cell_type": "markdown",
      "metadata": {
        "id": "5hP7yw3Ngsx_"
      },
      "source": [
        "#### **Making forecast with a model (on the test dataset)** \n",
        "\n",
        "Now let's write a function which: \n",
        "- Takes in a trained model (just like model_1).\n",
        "- Take in some input data (just like the data the model was trained on). \n",
        "- Passes the inputs data to the model's `predict()` method. \n",
        "- Return the predictions "
      ]
    },
    {
      "cell_type": "code",
      "metadata": {
        "id": "6r2jb1vfj5Q9"
      },
      "source": [
        "def make_preds(model , input_data):\n",
        "  forecast = model.predict(input_data)\n",
        "  return tf.squeeze(forecast)"
      ],
      "execution_count": 46,
      "outputs": []
    },
    {
      "cell_type": "code",
      "metadata": {
        "colab": {
          "base_uri": "https://localhost:8080/"
        },
        "id": "BW5-6yW3lkC9",
        "outputId": "72446396-fbef-4552-b39d-cfb9534d3719"
      },
      "source": [
        "# Making predictions using the model_1 on the test dataset \n",
        "model_1_preds = make_preds(model_1 , test_windows)\n",
        "len(model_1_preds) , model_1_preds[:10]"
      ],
      "execution_count": 47,
      "outputs": [
        {
          "output_type": "execute_result",
          "data": {
            "text/plain": [
              "(556, <tf.Tensor: shape=(10,), dtype=float32, numpy=\n",
              " array([8861.713 , 8769.888 , 9015.712 , 8795.52  , 8723.8125, 8730.111 ,\n",
              "        8691.953 , 8502.056 , 8460.962 , 8516.548 ], dtype=float32)>)"
            ]
          },
          "metadata": {},
          "execution_count": 47
        }
      ]
    },
    {
      "cell_type": "markdown",
      "metadata": {
        "id": "luflPo1Wl9Vl"
      },
      "source": [
        "> **🔑 Note** With these ouputs, our model isnt forecasting yet. Its only making predictions on the test dataset (in our case it is pseudo future). Forecating would involve a mdoel making predictions into the future, however the test data is only pseudofuture. \n",
        "\n"
      ]
    },
    {
      "cell_type": "code",
      "metadata": {
        "colab": {
          "base_uri": "https://localhost:8080/"
        },
        "id": "gJ4sOWzcnHX6",
        "outputId": "9bbae74a-b7ac-4b12-ef36-0012271509cd"
      },
      "source": [
        "# Getting the evaluation metrics for our predictions \n",
        "model_1_results = evaluate_preds(tf.squeeze(test_labels) , \n",
        "                                 model_1_preds)\n",
        "model_1_results"
      ],
      "execution_count": 48,
      "outputs": [
        {
          "output_type": "execute_result",
          "data": {
            "text/plain": [
              "{'mae': 568.9511,\n",
              " 'mape': 2.5448983,\n",
              " 'mase': 0.99948955,\n",
              " 'mse': 1171744.0,\n",
              " 'rmse': 1082.4712}"
            ]
          },
          "metadata": {},
          "execution_count": 48
        }
      ]
    },
    {
      "cell_type": "code",
      "metadata": {
        "colab": {
          "base_uri": "https://localhost:8080/"
        },
        "id": "xPQzLR3lnRya",
        "outputId": "89b79826-0e61-4f6a-b336-4745f34ef5bd"
      },
      "source": [
        "# What was our baseline model results? \n",
        "naive_results"
      ],
      "execution_count": 49,
      "outputs": [
        {
          "output_type": "execute_result",
          "data": {
            "text/plain": [
              "{'mae': 567.9802,\n",
              " 'mape': 2.516525,\n",
              " 'mase': 0.99957,\n",
              " 'mse': 1147547.0,\n",
              " 'rmse': 1071.2362}"
            ]
          },
          "metadata": {},
          "execution_count": 49
        }
      ]
    },
    {
      "cell_type": "code",
      "metadata": {
        "colab": {
          "base_uri": "https://localhost:8080/",
          "height": 446
        },
        "id": "YeI6UzsznYYP",
        "outputId": "0a922499-fd04-436c-f8ec-804d89139834"
      },
      "source": [
        "# Plotting our model_1 results with our test labels \n",
        "offset = 450\n",
        "plt.figure(figsize= (10 , 7))\n",
        "\n",
        "# Account for test_window offset and index into test_labels to ensure correct plotting \n",
        "plot_time_series(timesteps= X_test[-len(test_windows):] ,\n",
        "                 values = test_labels[: , 0] ,\n",
        "                 start= offset ,\n",
        "                 format = '.' ,\n",
        "                 label = 'Test Data')\n",
        "\n",
        "plot_time_series(timesteps= X_test[-len(test_windows):] ,\n",
        "                 values = model_1_preds , \n",
        "                  start = offset , \n",
        "                 format = '-', \n",
        "                 label = 'model_1_preds')\n",
        "                 "
      ],
      "execution_count": 50,
      "outputs": [
        {
          "output_type": "display_data",
          "data": {
            "image/png": "[encoded data removed]",
            "text/plain": [
              "<Figure size 720x504 with 1 Axes>"
            ]
          },
          "metadata": {
            "needs_background": "light"
          }
        }
      ]
    },
    {
      "cell_type": "markdown",
      "metadata": {
        "id": "UoMgl_lZ1gFJ"
      },
      "source": [
        "Why there is a lag between test labels and predicted labels? \n",
        "\n",
        "Read this --> [Autocorrelation in time series](https://otexts.com/fpp2/autocorrelation.html)"
      ]
    },
    {
      "cell_type": "code",
      "metadata": {
        "colab": {
          "base_uri": "https://localhost:8080/"
        },
        "id": "lYZhfDCvpACW",
        "outputId": "6e99ccdb-9d84-4976-f56f-2c1351eb26f5"
      },
      "source": [
        "len(X_test)  , len(test_labels) , len(model_1_preds)"
      ],
      "execution_count": 51,
      "outputs": [
        {
          "output_type": "execute_result",
          "data": {
            "text/plain": [
              "(558, 556, 556)"
            ]
          },
          "metadata": {},
          "execution_count": 51
        }
      ]
    },
    {
      "cell_type": "code",
      "metadata": {
        "colab": {
          "base_uri": "https://localhost:8080/"
        },
        "id": "24ZP9AIUpDCa",
        "outputId": "04354db3-c860-4105-c246-81b353070a74"
      },
      "source": [
        "test_labels[: , 0][:10]"
      ],
      "execution_count": 52,
      "outputs": [
        {
          "output_type": "execute_result",
          "data": {
            "text/plain": [
              "array([8798.04205463, 9081.18687849, 8711.53433917, 8760.89271814,\n",
              "       8749.52059102, 8656.97092235, 8500.64355816, 8469.2608989 ,\n",
              "       8537.33965197, 8205.80636599])"
            ]
          },
          "metadata": {},
          "execution_count": 52
        }
      ]
    },
    {
      "cell_type": "markdown",
      "metadata": {
        "id": "gNRuGA_WqTyS"
      },
      "source": [
        "### **Model 2: Dense (window = 30 , horizon = 1)**\n",
        "\n",
        "We'll keep the previous model architecture but use a window size of 30. \n",
        "\n",
        "In other words we'll use the previous 30 days of Bitcoin prices and try to predict the next day price. \n",
        "\n",
        "Maybe more bitcoin price data will "
      ]
    },
    {
      "cell_type": "code",
      "metadata": {
        "id": "IIXzRF9_rXr-"
      },
      "source": [
        "HORIZON = 1 # labels \n",
        "WINDOW_SIZE = 30 "
      ],
      "execution_count": 53,
      "outputs": []
    },
    {
      "cell_type": "code",
      "metadata": {
        "colab": {
          "base_uri": "https://localhost:8080/"
        },
        "id": "lcqV4EA4zbWv",
        "outputId": "fbb37420-86bd-408a-ee9f-2aa64b5a1bee"
      },
      "source": [
        "# Make windowed datta with appropriate horizon and window sizes \n",
        "full_windows , full_labels = make_windows(prices , window_size= 30 , horizon= 1)\n",
        "len(full_windows) , len(full_labels)"
      ],
      "execution_count": 54,
      "outputs": [
        {
          "output_type": "execute_result",
          "data": {
            "text/plain": [
              "(2757, 2757)"
            ]
          },
          "metadata": {},
          "execution_count": 54
        }
      ]
    },
    {
      "cell_type": "code",
      "metadata": {
        "colab": {
          "base_uri": "https://localhost:8080/"
        },
        "id": "YaRf3o4Pz3Ge",
        "outputId": "c11d6c7d-9c06-4056-ba11-b58cbbb2adb2"
      },
      "source": [
        "# Now make the train and test splits of the windows and labels \n",
        "train_windows , test_windows , train_labels , test_labels = make_train_test_splits(full_windows , \n",
        "                                                                                   full_labels)\n",
        "len(train_windows), len(test_windows), len(train_labels), len(test_labels)\n"
      ],
      "execution_count": 55,
      "outputs": [
        {
          "output_type": "execute_result",
          "data": {
            "text/plain": [
              "(2205, 552, 2205, 552)"
            ]
          },
          "metadata": {},
          "execution_count": 55
        }
      ]
    },
    {
      "cell_type": "code",
      "metadata": {
        "colab": {
          "base_uri": "https://localhost:8080/"
        },
        "id": "UyJxypa8MiTU",
        "outputId": "2dd02c8a-25db-40f1-f1bc-f589562791e1"
      },
      "source": [
        "full_windows.shape"
      ],
      "execution_count": 56,
      "outputs": [
        {
          "output_type": "execute_result",
          "data": {
            "text/plain": [
              "(2757, 30)"
            ]
          },
          "metadata": {},
          "execution_count": 56
        }
      ]
    },
    {
      "cell_type": "code",
      "metadata": {
        "colab": {
          "base_uri": "https://localhost:8080/"
        },
        "id": "DbTHoMZm0J68",
        "outputId": "d5f4929a-90e5-457a-f1da-bd7cab7e5163"
      },
      "source": [
        "# Building the same model with a different window size \n",
        "inputs = layers.Input(WINDOW_SIZE , name = 'input_layer')\n",
        "x = layers.Dense(128 , activation= 'relu')(inputs)\n",
        "outputs = layers.Dense(HORIZON , activation='linear')(x)\n",
        "\n",
        "# Packing into a model \n",
        "model_2 = tf.keras.Model(inputs , outputs , name = 'model_2_dense')\n",
        "\n",
        "# Compile the model \n",
        "model_2.compile(loss = 'mae' , \n",
        "                optimizer = 'adam' , \n",
        "                metrics = ['mae'])\n",
        "\n",
        "# Fit the model \n",
        "model_2.fit(x = train_windows , \n",
        "            y = train_labels , \n",
        "            epochs = 100 , \n",
        "            verbose = 0 , \n",
        "            batch_size = 128, \n",
        "            validation_data = (test_windows , test_labels) , \n",
        "            callbacks = [create_model_checkpoint(model_name= model_2.name)])"
      ],
      "execution_count": 57,
      "outputs": [
        {
          "output_type": "stream",
          "text": [
            "INFO:tensorflow:Assets written to: model_experiment/model_2_dense/assets\n",
            "INFO:tensorflow:Assets written to: model_experiment/model_2_dense/assets\n",
            "INFO:tensorflow:Assets written to: model_experiment/model_2_dense/assets\n",
            "INFO:tensorflow:Assets written to: model_experiment/model_2_dense/assets\n",
            "INFO:tensorflow:Assets written to: model_experiment/model_2_dense/assets\n",
            "INFO:tensorflow:Assets written to: model_experiment/model_2_dense/assets\n",
            "INFO:tensorflow:Assets written to: model_experiment/model_2_dense/assets\n",
            "INFO:tensorflow:Assets written to: model_experiment/model_2_dense/assets\n",
            "INFO:tensorflow:Assets written to: model_experiment/model_2_dense/assets\n",
            "INFO:tensorflow:Assets written to: model_experiment/model_2_dense/assets\n",
            "INFO:tensorflow:Assets written to: model_experiment/model_2_dense/assets\n",
            "INFO:tensorflow:Assets written to: model_experiment/model_2_dense/assets\n",
            "INFO:tensorflow:Assets written to: model_experiment/model_2_dense/assets\n",
            "INFO:tensorflow:Assets written to: model_experiment/model_2_dense/assets\n",
            "INFO:tensorflow:Assets written to: model_experiment/model_2_dense/assets\n",
            "INFO:tensorflow:Assets written to: model_experiment/model_2_dense/assets\n",
            "INFO:tensorflow:Assets written to: model_experiment/model_2_dense/assets\n",
            "INFO:tensorflow:Assets written to: model_experiment/model_2_dense/assets\n",
            "INFO:tensorflow:Assets written to: model_experiment/model_2_dense/assets\n",
            "INFO:tensorflow:Assets written to: model_experiment/model_2_dense/assets\n",
            "INFO:tensorflow:Assets written to: model_experiment/model_2_dense/assets\n",
            "INFO:tensorflow:Assets written to: model_experiment/model_2_dense/assets\n",
            "INFO:tensorflow:Assets written to: model_experiment/model_2_dense/assets\n",
            "INFO:tensorflow:Assets written to: model_experiment/model_2_dense/assets\n",
            "INFO:tensorflow:Assets written to: model_experiment/model_2_dense/assets\n"
          ],
          "name": "stdout"
        },
        {
          "output_type": "execute_result",
          "data": {
            "text/plain": [
              "<keras.callbacks.History at 0x7fc2c1439e10>"
            ]
          },
          "metadata": {},
          "execution_count": 57
        }
      ]
    },
    {
      "cell_type": "code",
      "metadata": {
        "colab": {
          "base_uri": "https://localhost:8080/"
        },
        "id": "jhd5XgzY19Yw",
        "outputId": "511b3155-39c0-406c-e56c-9730529499e3"
      },
      "source": [
        "# Evaluate the test data on the last epoch results \n",
        "model_2.evaluate(test_windows , test_labels)"
      ],
      "execution_count": 58,
      "outputs": [
        {
          "output_type": "stream",
          "text": [
            "18/18 [==============================] - 0s 2ms/step - loss: 728.1014 - mae: 728.1014\n"
          ],
          "name": "stdout"
        },
        {
          "output_type": "execute_result",
          "data": {
            "text/plain": [
              "[728.1013793945312, 728.1013793945312]"
            ]
          },
          "metadata": {},
          "execution_count": 58
        }
      ]
    },
    {
      "cell_type": "code",
      "metadata": {
        "colab": {
          "base_uri": "https://localhost:8080/"
        },
        "id": "bEJg0EW80S1v",
        "outputId": "a0385532-2353-4a73-8a43-865f87f53d8b"
      },
      "source": [
        "# Loading in the best checkpoint \n",
        "model_2 = tf.keras.models.load_model('model_experiment/model_2_dense')\n",
        "model_2.evaluate(test_windows , test_labels)"
      ],
      "execution_count": 59,
      "outputs": [
        {
          "output_type": "stream",
          "text": [
            "18/18 [==============================] - 0s 2ms/step - loss: 604.4637 - mae: 604.4637\n"
          ],
          "name": "stdout"
        },
        {
          "output_type": "execute_result",
          "data": {
            "text/plain": [
              "[604.4636840820312, 604.4636840820312]"
            ]
          },
          "metadata": {},
          "execution_count": 59
        }
      ]
    },
    {
      "cell_type": "code",
      "metadata": {
        "id": "UAH0jvP_0ToA"
      },
      "source": [
        "# Get the forecast predictions \n",
        "model_2_preds = make_preds(model_2 , \n",
        "                           test_windows)"
      ],
      "execution_count": 60,
      "outputs": []
    },
    {
      "cell_type": "code",
      "metadata": {
        "colab": {
          "base_uri": "https://localhost:8080/"
        },
        "id": "CHVMU4R-2Xd4",
        "outputId": "6e7f103d-c65c-4fda-ee20-a8e63d18f3ab"
      },
      "source": [
        "# Evaluate the results for our model 2 prediction \n",
        "model_2_results = evaluate_preds(y_true = tf.squeeze(test_labels) , \n",
        "                                 y_pred = model_2_preds)\n",
        "model_2_results"
      ],
      "execution_count": 61,
      "outputs": [
        {
          "output_type": "execute_result",
          "data": {
            "text/plain": [
              "{'mae': 604.4636,\n",
              " 'mape': 2.6948981,\n",
              " 'mase': 1.0566083,\n",
              " 'mse': 1284891.0,\n",
              " 'rmse': 1133.5303}"
            ]
          },
          "metadata": {},
          "execution_count": 61
        }
      ]
    },
    {
      "cell_type": "code",
      "metadata": {
        "colab": {
          "base_uri": "https://localhost:8080/"
        },
        "id": "PIYU1hln2nTJ",
        "outputId": "9102ef6f-5408-4bab-ff80-87846cd05a6d"
      },
      "source": [
        "# Checking our baseline results \n",
        "naive_results"
      ],
      "execution_count": 62,
      "outputs": [
        {
          "output_type": "execute_result",
          "data": {
            "text/plain": [
              "{'mae': 567.9802,\n",
              " 'mape': 2.516525,\n",
              " 'mase': 0.99957,\n",
              " 'mse': 1147547.0,\n",
              " 'rmse': 1071.2362}"
            ]
          },
          "metadata": {},
          "execution_count": 62
        }
      ]
    },
    {
      "cell_type": "markdown",
      "metadata": {
        "id": "MuUqxCDv2yLW"
      },
      "source": [
        "it looks like `model_2` performs worse than the native model as well as `model_1`. \n",
        "\n",
        "How does the plot predictions look like? "
      ]
    },
    {
      "cell_type": "code",
      "metadata": {
        "colab": {
          "base_uri": "https://localhost:8080/",
          "height": 445
        },
        "id": "IMT1Br8N30qy",
        "outputId": "298fd609-7b0b-4c79-8075-c806657cd473"
      },
      "source": [
        "plt.figure(figsize=(10 , 7))\n",
        "offset = 450\n",
        "\n",
        "# Account for the test_window offset \n",
        "plot_time_series(timesteps= X_test[-len(test_windows):] , \n",
        "                 values = test_labels[: , 0] , \n",
        "                 label = 'Test Data' , \n",
        "                 start = offset)\n",
        "\n",
        "plot_time_series(timesteps= X_test[-len(test_windows):] , \n",
        "                 values = model_2_preds , \n",
        "                 start = offset , \n",
        "                 format = '-' , \n",
        "                 label = 'Model 2 Preds')"
      ],
      "execution_count": 63,
      "outputs": [
        {
          "output_type": "display_data",
          "data": {
            "image/png": "[encoded data removed]",
            "text/plain": [
              "<Figure size 720x504 with 1 Axes>"
            ]
          },
          "metadata": {
            "needs_background": "light"
          }
        }
      ]
    },
    {
      "cell_type": "markdown",
      "metadata": {
        "id": "kHjp41Aj7G-u"
      },
      "source": [
        "### **Model 3: Dense(window = 30 , horizon = 7)** \n",
        "\n",
        "We're going to use the same model architecture but with different windows and horizon size \n"
      ]
    },
    {
      "cell_type": "code",
      "metadata": {
        "colab": {
          "base_uri": "https://localhost:8080/"
        },
        "id": "_p0MkEFF7_Vn",
        "outputId": "d1934810-a854-42e0-fa29-5c41f0f5ebed"
      },
      "source": [
        "HORIZON = 7 # predict the prices for next 7 days \n",
        "WINDOW_SIZE = 30 # previous 30 days \n",
        "\n",
        "# Making the window size data \n",
        "full_windows , full_labels = make_windows(prices , window_size= WINDOW_SIZE , horizon = HORIZON)\n",
        "len(full_windows) , len(full_labels)"
      ],
      "execution_count": 64,
      "outputs": [
        {
          "output_type": "execute_result",
          "data": {
            "text/plain": [
              "(2751, 2751)"
            ]
          },
          "metadata": {},
          "execution_count": 64
        }
      ]
    },
    {
      "cell_type": "code",
      "metadata": {
        "colab": {
          "base_uri": "https://localhost:8080/"
        },
        "id": "UmfMVolaORA9",
        "outputId": "1691b96c-992c-4fdf-da3a-a8f8d4bb56ed"
      },
      "source": [
        "full_windows.shape"
      ],
      "execution_count": 65,
      "outputs": [
        {
          "output_type": "execute_result",
          "data": {
            "text/plain": [
              "(2751, 30)"
            ]
          },
          "metadata": {},
          "execution_count": 65
        }
      ]
    },
    {
      "cell_type": "code",
      "metadata": {
        "colab": {
          "base_uri": "https://localhost:8080/"
        },
        "id": "ruVU5tv7N72Q",
        "outputId": "7e7ee565-c560-4505-c78c-3c471793402d"
      },
      "source": [
        "HORIZON = 7\n",
        "WINDOW_SIZE = 30\n",
        "\n",
        "full_windows, full_labels = make_windows(prices, window_size=WINDOW_SIZE, horizon=HORIZON)\n",
        "len(full_windows), len(full_labels)"
      ],
      "execution_count": 66,
      "outputs": [
        {
          "output_type": "execute_result",
          "data": {
            "text/plain": [
              "(2751, 2751)"
            ]
          },
          "metadata": {},
          "execution_count": 66
        }
      ]
    },
    {
      "cell_type": "code",
      "metadata": {
        "colab": {
          "base_uri": "https://localhost:8080/"
        },
        "id": "IngYZb1x_mr1",
        "outputId": "3f70cc61-25bd-49bb-d1c9-33da3bcb6865"
      },
      "source": [
        "train_windows, test_windows, train_labels, test_labels = make_train_test_splits(windows=full_windows, labels=full_labels, test_split=0.2)\n",
        "len(train_windows), len(test_windows), len(train_labels), len(test_labels)\n"
      ],
      "execution_count": 67,
      "outputs": [
        {
          "output_type": "execute_result",
          "data": {
            "text/plain": [
              "(2200, 551, 2200, 551)"
            ]
          },
          "metadata": {},
          "execution_count": 67
        }
      ]
    },
    {
      "cell_type": "code",
      "metadata": {
        "id": "XGb6JIqSOGza",
        "colab": {
          "base_uri": "https://localhost:8080/"
        },
        "outputId": "3501c57f-236c-428b-9c9d-2371a1be45b4"
      },
      "source": [
        "train_windows.shape"
      ],
      "execution_count": 68,
      "outputs": [
        {
          "output_type": "execute_result",
          "data": {
            "text/plain": [
              "(2200, 30)"
            ]
          },
          "metadata": {},
          "execution_count": 68
        }
      ]
    },
    {
      "cell_type": "code",
      "metadata": {
        "colab": {
          "base_uri": "https://localhost:8080/"
        },
        "id": "2KSelNMw8bF7",
        "outputId": "9371588c-8eaa-40f7-c5c2-cfbb0131d8d6"
      },
      "source": [
        "# Creating the train and test split \n",
        "train_windows , test_windows , train_labels , test_labels = make_train_test_splits(full_windows , \n",
        "                                                                                   full_labels)\n",
        "len(train_windows) , len(test_windows) , len(train_labels) , len(test_labels)"
      ],
      "execution_count": 69,
      "outputs": [
        {
          "output_type": "execute_result",
          "data": {
            "text/plain": [
              "(2200, 551, 2200, 551)"
            ]
          },
          "metadata": {},
          "execution_count": 69
        }
      ]
    },
    {
      "cell_type": "code",
      "metadata": {
        "colab": {
          "base_uri": "https://localhost:8080/"
        },
        "id": "sF32gJ4XNxbG",
        "outputId": "bbe031ef-882d-4b2a-c56f-21abbafa9897"
      },
      "source": [
        "full_windows.shape"
      ],
      "execution_count": 70,
      "outputs": [
        {
          "output_type": "execute_result",
          "data": {
            "text/plain": [
              "(2751, 30)"
            ]
          },
          "metadata": {},
          "execution_count": 70
        }
      ]
    },
    {
      "cell_type": "code",
      "metadata": {
        "id": "N3prCsu48xEB"
      },
      "source": [
        "# # Building the same model architecture  with different window and horizon size \n",
        "# inputs = layers.Input(shape = (WINDOW_SIZE , ) , name = 'input_layer')\n",
        "# print(inputs.shape)\n",
        "# x = layers.Dense(128 , activation= 'relu')(inputs)\n",
        "# outputs = layers.Dense(HORIZON)(x)\n",
        "\n",
        "# # Packing into a model \n",
        "# model_3 = tf.keras.Model(inputs , outputs , name ='model_3_dense')\n",
        "\n",
        "# # Compiling the model \n",
        "# model_3.compile(loss = 'mae', \n",
        "#                 optimizer = 'adam' , \n",
        "#                 metrics = ['mae'])\n",
        "\n",
        "# # Fit the model \n",
        "# model_3.fit(x = train_windows , \n",
        "#             y = train_labels , \n",
        "#             epochs = 100 , \n",
        "#             verbose = 0 , \n",
        "#             validation_data = (test_windows , test_labels) , \n",
        "#             batch_size = 128 , \n",
        "#             callbacks = [create_model_checkpoint(model_name = model_3.name)])\n",
        "\n",
        "# Cant use functional api for shape reasons not sure why. "
      ],
      "execution_count": 71,
      "outputs": []
    },
    {
      "cell_type": "code",
      "metadata": {
        "colab": {
          "base_uri": "https://localhost:8080/"
        },
        "id": "-M65X6ri-PUT",
        "outputId": "2161e106-f78f-4703-f211-3640bb269a3d"
      },
      "source": [
        "train_windows.shape , train_labels.shape"
      ],
      "execution_count": 72,
      "outputs": [
        {
          "output_type": "execute_result",
          "data": {
            "text/plain": [
              "((2200, 30), (2200, 7))"
            ]
          },
          "metadata": {},
          "execution_count": 72
        }
      ]
    },
    {
      "cell_type": "code",
      "metadata": {
        "colab": {
          "base_uri": "https://localhost:8080/"
        },
        "id": "EQlJ4fY4-y5e",
        "outputId": "df2bb8c1-ac62-426c-bebb-4e3220d75978"
      },
      "source": [
        "# From the course \n",
        "tf.random.set_seed(42)\n",
        "\n",
        "# Create model (same as model_1 except with different data input size)\n",
        "model_3 = tf.keras.Sequential([\n",
        "  layers.Dense(128, activation=\"relu\"),\n",
        "  layers.Dense(HORIZON)\n",
        "], name=\"model_3_dense\")\n",
        "\n",
        "model_3.compile(loss=\"mae\",\n",
        "                optimizer=tf.keras.optimizers.Adam() , \n",
        "                metrics = ['mae'])\n",
        "\n",
        "model_3.fit(x =train_windows,\n",
        "            y = train_labels,\n",
        "            batch_size=128,\n",
        "            epochs=100,\n",
        "            verbose=0,\n",
        "            validation_data=(test_windows, test_labels),\n",
        "            callbacks=[create_model_checkpoint(model_name=model_3.name)])"
      ],
      "execution_count": 73,
      "outputs": [
        {
          "output_type": "stream",
          "text": [
            "INFO:tensorflow:Assets written to: model_experiment/model_3_dense/assets\n",
            "INFO:tensorflow:Assets written to: model_experiment/model_3_dense/assets\n",
            "INFO:tensorflow:Assets written to: model_experiment/model_3_dense/assets\n",
            "INFO:tensorflow:Assets written to: model_experiment/model_3_dense/assets\n",
            "INFO:tensorflow:Assets written to: model_experiment/model_3_dense/assets\n",
            "INFO:tensorflow:Assets written to: model_experiment/model_3_dense/assets\n",
            "INFO:tensorflow:Assets written to: model_experiment/model_3_dense/assets\n",
            "INFO:tensorflow:Assets written to: model_experiment/model_3_dense/assets\n",
            "INFO:tensorflow:Assets written to: model_experiment/model_3_dense/assets\n",
            "INFO:tensorflow:Assets written to: model_experiment/model_3_dense/assets\n",
            "INFO:tensorflow:Assets written to: model_experiment/model_3_dense/assets\n",
            "INFO:tensorflow:Assets written to: model_experiment/model_3_dense/assets\n",
            "INFO:tensorflow:Assets written to: model_experiment/model_3_dense/assets\n",
            "INFO:tensorflow:Assets written to: model_experiment/model_3_dense/assets\n",
            "INFO:tensorflow:Assets written to: model_experiment/model_3_dense/assets\n",
            "INFO:tensorflow:Assets written to: model_experiment/model_3_dense/assets\n",
            "INFO:tensorflow:Assets written to: model_experiment/model_3_dense/assets\n",
            "INFO:tensorflow:Assets written to: model_experiment/model_3_dense/assets\n",
            "INFO:tensorflow:Assets written to: model_experiment/model_3_dense/assets\n",
            "INFO:tensorflow:Assets written to: model_experiment/model_3_dense/assets\n",
            "INFO:tensorflow:Assets written to: model_experiment/model_3_dense/assets\n",
            "INFO:tensorflow:Assets written to: model_experiment/model_3_dense/assets\n",
            "INFO:tensorflow:Assets written to: model_experiment/model_3_dense/assets\n",
            "INFO:tensorflow:Assets written to: model_experiment/model_3_dense/assets\n"
          ],
          "name": "stdout"
        },
        {
          "output_type": "execute_result",
          "data": {
            "text/plain": [
              "<keras.callbacks.History at 0x7fc2c1041b90>"
            ]
          },
          "metadata": {},
          "execution_count": 73
        }
      ]
    },
    {
      "cell_type": "code",
      "metadata": {
        "colab": {
          "base_uri": "https://localhost:8080/"
        },
        "id": "Q5PRVBbu_yYh",
        "outputId": "9d0b8c92-7d4c-412e-a100-3878e87e943a"
      },
      "source": [
        "# Evaluating the last epochs results\n",
        "model_3.evaluate(test_windows , test_labels)"
      ],
      "execution_count": 74,
      "outputs": [
        {
          "output_type": "stream",
          "text": [
            "18/18 [==============================] - 0s 1ms/step - loss: 1340.4274 - mae: 1340.4274\n"
          ],
          "name": "stdout"
        },
        {
          "output_type": "execute_result",
          "data": {
            "text/plain": [
              "[1340.4273681640625, 1340.4273681640625]"
            ]
          },
          "metadata": {},
          "execution_count": 74
        }
      ]
    },
    {
      "cell_type": "code",
      "metadata": {
        "colab": {
          "base_uri": "https://localhost:8080/"
        },
        "id": "uA9kLzD9BFeI",
        "outputId": "6097f689-4fc1-4c28-be86-60eda6220092"
      },
      "source": [
        "# Now loading in the checkpoint which has the best model \n",
        "model_3 = tf.keras.models.load_model('/content/model_experiment/model_3_dense')\n",
        "model_3.evaluate(test_windows , test_labels)"
      ],
      "execution_count": 75,
      "outputs": [
        {
          "output_type": "stream",
          "text": [
            "18/18 [==============================] - 0s 2ms/step - loss: 1234.8838 - mae: 1234.8838\n"
          ],
          "name": "stdout"
        },
        {
          "output_type": "execute_result",
          "data": {
            "text/plain": [
              "[1234.8837890625, 1234.8837890625]"
            ]
          },
          "metadata": {},
          "execution_count": 75
        }
      ]
    },
    {
      "cell_type": "code",
      "metadata": {
        "colab": {
          "base_uri": "https://localhost:8080/"
        },
        "id": "T8SfRZaZDYPW",
        "outputId": "44ea66c2-45af-47bf-ebff-fca22b74a90c"
      },
      "source": [
        "# The predictions are going to be 7 steps at a time (size of the horizon)\n",
        "model_3_preds = make_preds(model_3 , \n",
        "                           test_windows)\n",
        "model_3_preds[:10]"
      ],
      "execution_count": 76,
      "outputs": [
        {
          "output_type": "execute_result",
          "data": {
            "text/plain": [
              "<tf.Tensor: shape=(10, 7), dtype=float32, numpy=\n",
              "array([[9250.798 , 9279.124 , 9394.038 , 9400.202 , 9479.183 , 9375.264 ,\n",
              "        9302.472 ],\n",
              "       [8945.557 , 9029.439 , 9164.761 , 8997.948 , 9077.654 , 8971.883 ,\n",
              "        9081.854 ],\n",
              "       [8883.711 , 8987.258 , 9057.07  , 8901.714 , 9001.872 , 8817.509 ,\n",
              "        8971.558 ],\n",
              "       [9090.947 , 9014.501 , 9010.567 , 9096.448 , 9052.973 , 9016.151 ,\n",
              "        9001.476 ],\n",
              "       [9002.045 , 8972.497 , 8869.7705, 8980.389 , 9212.569 , 9072.293 ,\n",
              "        8887.335 ],\n",
              "       [8968.872 , 9015.049 , 8943.864 , 9052.514 , 9136.294 , 9003.374 ,\n",
              "        8902.243 ],\n",
              "       [8815.142 , 8948.742 , 9011.987 , 8920.739 , 8861.305 , 8866.523 ,\n",
              "        8829.514 ],\n",
              "       [8592.136 , 8673.789 , 8812.628 , 8698.966 , 8740.106 , 8510.762 ,\n",
              "        8583.656 ],\n",
              "       [8560.405 , 8442.839 , 8640.329 , 8550.731 , 8601.024 , 8380.704 ,\n",
              "        8406.971 ],\n",
              "       [8659.065 , 8512.498 , 8534.693 , 8603.396 , 8506.12  , 8350.754 ,\n",
              "        8422.553 ]], dtype=float32)>"
            ]
          },
          "metadata": {},
          "execution_count": 76
        }
      ]
    },
    {
      "cell_type": "code",
      "metadata": {
        "colab": {
          "base_uri": "https://localhost:8080/"
        },
        "id": "iWZNY0uIBeHs",
        "outputId": "d9fa61c3-1295-4d41-cc00-c9c47f56f714"
      },
      "source": [
        "# Calculate model_3 results - these are going to be multi-dimensional because\n",
        "# we're trying to predict more than one step at a time.\n",
        "model_3_results = evaluate_preds(y_true=tf.squeeze(test_labels),\n",
        "                                 y_pred=model_3_preds)\n",
        "\n",
        "model_3_results"
      ],
      "execution_count": 80,
      "outputs": [
        {
          "output_type": "execute_result",
          "data": {
            "text/plain": [
              "{'mae': array([  561.22504 ,   301.9714  ,   297.9477  ,   413.84305 ,\n",
              "          445.20914 ,   540.59705 ,   527.2284  ,   441.84564 ,\n",
              "          498.77365 ,   639.1921  ,   803.132   ,   731.72614 ,\n",
              "          678.6172  ,   797.1857  ,   575.3339  ,   280.21136 ,\n",
              "          239.9216  ,   246.152   ,   276.387   ,   285.75482 ,\n",
              "          118.80413 ,   135.45549 ,   191.11852 ,   251.82576 ,\n",
              "          170.28928 ,   154.2002  ,   107.24477 ,    97.66267 ,\n",
              "          111.26409 ,   139.854   ,   269.1739  ,   369.812   ,\n",
              "          270.48096 ,   263.1211  ,   247.72252 ,   255.50523 ,\n",
              "          298.48172 ,   245.26395 ,   243.13072 ,   255.7583  ,\n",
              "          416.62576 ,   150.97021 ,    94.16581 ,   101.62012 ,\n",
              "           93.7696  ,    86.75328 ,    73.2793  ,    79.04513 ,\n",
              "           89.541084,    93.11977 ,   106.798546,   141.09578 ,\n",
              "          178.73668 ,   145.46994 ,   256.4566  ,   392.8164  ,\n",
              "          560.9117  ,   552.8187  ,   536.1548  ,   535.2687  ,\n",
              "          448.70444 ,   267.23297 ,   286.56223 ,   320.78613 ,\n",
              "          430.7768  ,   472.82562 ,   523.67267 ,   519.4371  ,\n",
              "          138.85701 ,   239.4022  ,   224.78543 ,   415.00668 ,\n",
              "          534.72894 ,   394.11887 ,   295.50418 ,   370.85757 ,\n",
              "          338.87027 ,   389.1006  ,   508.34222 ,   640.41925 ,\n",
              "          802.7973  ,   636.00824 ,   290.3602  ,   165.47195 ,\n",
              "          232.60547 ,   207.31906 ,   235.00334 ,   301.6727  ,\n",
              "          355.21024 ,   553.64856 ,   428.6024  ,   428.93344 ,\n",
              "          347.44308 ,   230.37932 ,   159.03293 ,   270.9191  ,\n",
              "          293.357   ,   511.3838  ,   631.4808  ,   789.19324 ,\n",
              "          536.7949  ,   321.4195  ,   224.59836 ,   344.917   ,\n",
              "          372.03558 ,   370.5837  ,   460.56528 ,   568.7952  ,\n",
              "          946.44794 ,   925.5293  ,   857.27875 ,   375.33023 ,\n",
              "          180.05984 ,   221.4407  ,   203.34612 ,   361.68842 ,\n",
              "          294.16092 ,   421.7731  ,   553.40125 ,   975.4743  ,\n",
              "         1585.9314  ,  2153.3953  ,  1954.6543  ,  2105.973   ,\n",
              "         2259.2856  ,  2632.2498  ,  1333.1326  ,   703.96027 ,\n",
              "          434.42084 ,   391.2357  ,   521.8068  ,   439.03006 ,\n",
              "          501.90506 ,   309.0523  ,   324.98862 ,   299.01395 ,\n",
              "          346.7885  ,   293.72543 ,   316.86078 ,   323.0728  ,\n",
              "          344.85233 ,   371.3056  ,   278.71094 ,   582.9794  ,\n",
              "          689.01117 ,   443.01947 ,   378.4691  ,   223.80371 ,\n",
              "          291.30865 ,   195.35316 ,   248.76457 ,   507.26596 ,\n",
              "          341.92465 ,   543.29156 ,   418.87027 ,   382.89438 ,\n",
              "          180.1898  ,   199.54192 ,   199.46227 ,   154.98473 ,\n",
              "          269.2018  ,   259.35324 ,   238.77637 ,   267.38477 ,\n",
              "          324.7892  ,   360.8395  ,   507.24603 ,   700.3563  ,\n",
              "          530.32526 ,   612.0954  ,   830.4459  ,   884.72455 ,\n",
              "          982.63226 ,  1086.1187  ,   503.73257 ,   266.38727 ,\n",
              "          341.75168 ,   403.29672 ,   413.48117 ,   389.9781  ,\n",
              "          480.06625 ,   466.98703 ,   606.72864 ,   970.3312  ,\n",
              "          874.85046 ,   292.2521  ,   491.87695 ,   725.58734 ,\n",
              "          363.09738 ,   230.4036  ,   267.63727 ,   226.10672 ,\n",
              "          364.41742 ,   435.15445 ,   659.52496 ,   633.8714  ,\n",
              "          382.49078 ,   288.37613 ,   300.929   ,   289.74136 ,\n",
              "          524.566   ,   748.52094 ,   712.2687  ,   468.8443  ,\n",
              "          281.65723 ,   128.74721 ,   196.07701 ,   298.2405  ,\n",
              "          144.90514 ,   144.90945 ,   311.81305 ,   164.77637 ,\n",
              "          190.95424 ,   203.23381 ,   282.59402 ,   371.06976 ,\n",
              "          524.85114 ,   136.68527 ,   126.04701 ,   143.39928 ,\n",
              "          135.35197 ,   187.13072 ,   178.33315 ,   164.73479 ,\n",
              "          134.88924 ,   144.69797 ,   173.16881 ,   189.59445 ,\n",
              "          260.71246 ,   562.91254 ,   267.06332 ,   274.8934  ,\n",
              "          132.04549 ,    73.82366 ,    53.49149 ,    89.57701 ,\n",
              "          114.22224 ,   150.2698  ,   126.19308 ,   172.46889 ,\n",
              "           94.38393 ,   179.96596 ,    71.33427 ,    70.93095 ,\n",
              "          197.24791 ,   138.7772  ,   137.05482 ,    75.782646,\n",
              "           75.47545 ,   117.95048 ,   160.43918 ,   150.30734 ,\n",
              "          144.7694  ,   187.9269  ,   260.4305  ,   324.55273 ,\n",
              "          612.9022  ,   711.0587  ,   817.63715 ,   921.0967  ,\n",
              "         1136.7289  ,  1354.3524  ,  1324.7188  ,   531.8509  ,\n",
              "          235.42383 ,   246.95801 ,   255.00056 ,   280.46527 ,\n",
              "          381.0982  ,   126.34947 ,   107.87946 ,   198.59348 ,\n",
              "          115.717354,   279.292   ,   292.47656 ,   283.1822  ,\n",
              "          247.37486 ,   335.7147  ,   197.911   ,   173.42076 ,\n",
              "          151.95006 ,   197.1942  ,   171.21848 ,   266.2034  ,\n",
              "          445.23883 ,   626.52496 ,   296.1638  ,   304.2422  ,\n",
              "          185.74289 ,   258.2899  ,   351.0088  ,   294.51785 ,\n",
              "          138.96889 ,   195.71191 ,   253.21861 ,   376.6956  ,\n",
              "          578.7729  ,   779.92316 ,  1034.1582  ,  1459.0443  ,\n",
              "         1371.5557  ,   888.55597 ,   575.3118  ,   137.59068 ,\n",
              "          196.6995  ,   197.15764 ,   315.03586 ,   421.34515 ,\n",
              "          432.91965 ,   431.11734 ,   468.19977 ,   411.50586 ,\n",
              "          237.40709 ,   110.6695  ,   297.33023 ,   438.86203 ,\n",
              "          356.8439  ,   492.67215 ,   312.7596  ,   146.44504 ,\n",
              "          175.33873 ,   319.6395  ,   170.95996 ,    99.012276,\n",
              "          135.8256  ,   215.45773 ,   316.37152 ,   267.53265 ,\n",
              "          172.05371 ,   149.94908 ,   164.11496 ,   242.63588 ,\n",
              "          319.56918 ,   442.6137  ,   552.08234 ,   660.8864  ,\n",
              "          608.4819  ,   512.04645 ,   167.54283 ,    93.320595,\n",
              "          306.3821  ,   248.24289 ,   407.00125 ,   600.6367  ,\n",
              "          734.3605  ,  1024.6749  ,  1189.7373  ,  1191.9965  ,\n",
              "         1213.8351  ,   414.75864 ,   238.51869 ,   254.38127 ,\n",
              "          320.94977 ,   282.39105 ,   257.53934 ,   229.8072  ,\n",
              "          169.95145 ,   396.17075 ,   586.7235  ,   697.4233  ,\n",
              "          865.0866  ,  1101.0883  ,  1164.0701  ,  1168.6115  ,\n",
              "          440.2775  ,   518.7567  ,   384.29156 ,   318.33383 ,\n",
              "          531.3942  ,   789.1124  ,   777.8891  ,   805.1823  ,\n",
              "         1074.3625  ,  1294.0443  ,  1792.1757  ,  1516.3978  ,\n",
              "          989.6607  ,   514.30164 ,   450.9668  ,   611.9632  ,\n",
              "          922.9542  ,  1132.9227  ,  1093.5826  ,  1153.0228  ,\n",
              "          952.3594  ,   743.63196 ,  1142.7494  ,  1314.8292  ,\n",
              "         1269.1663  ,   325.77008 ,   256.58035 ,   492.59125 ,\n",
              "          828.8976  ,   637.94617 ,   678.0993  ,   596.0165  ,\n",
              "          603.78546 ,   600.0438  ,   788.3139  ,  1474.5627  ,\n",
              "         2504.6133  ,  2764.2915  ,  3115.9556  ,  3350.7385  ,\n",
              "         3558.936   ,  2359.0298  ,   956.7651  ,   536.6685  ,\n",
              "          992.6755  ,  1291.6934  ,  1389.5912  ,  1696.4174  ,\n",
              "         2485.2363  ,  3017.9568  ,  2985.4885  ,  2384.554   ,\n",
              "         2572.5842  ,  2860.401   ,  3514.9158  ,  3310.3809  ,\n",
              "         4064.0735  ,  4992.681   ,  4371.6753  ,  4108.116   ,\n",
              "         4344.4614  ,  3016.4275  ,  2627.2456  ,  2377.2131  ,\n",
              "         4406.5283  ,  5825.09    ,  5359.434   ,  1512.5876  ,\n",
              "          998.8549  ,   853.38055 ,  2798.1128  ,  3251.1172  ,\n",
              "         3368.8538  ,  3257.3845  ,  3149.0945  ,  3699.1616  ,\n",
              "         3922.4187  ,  1093.8826  ,  1413.7162  ,  1229.8223  ,\n",
              "         1252.4481  ,  1244.62    ,  2318.2559  ,  3654.8645  ,\n",
              "         3421.887   ,  2468.0347  ,  2857.668   ,  3193.1658  ,\n",
              "         4877.4453  ,  5430.5938  ,  4569.6694  ,  4913.6104  ,\n",
              "         6024.833   ,  6040.84    ,  8098.107   ,  4656.5737  ,\n",
              "         1519.6523  ,  1565.0597  ,  1623.0022  ,  2473.966   ,\n",
              "         2522.4944  ,  3345.5295  ,  2859.8064  ,  3505.7366  ,\n",
              "         2622.5999  ,  3181.4487  ,  5686.222   ,  7068.962   ,\n",
              "        10159.011   ,  9195.29    ,  5213.328   ,  3096.9458  ,\n",
              "         2172.101   ,  1295.8214  ,  2360.0286  ,  3748.7122  ,\n",
              "         2681.0413  ,  2770.8425  ,  3032.559   ,  3957.7869  ,\n",
              "         5340.59    ,  6390.0913  ,  6141.483   ,  5543.7495  ,\n",
              "         4377.4814  ,  2162.2847  ,  1958.875   ,  1428.2272  ,\n",
              "         1494.9537  ,  2972.1653  ,  1756.8058  ,  1585.6752  ,\n",
              "         2969.3777  ,  4168.249   ,  5691.2524  ,  5425.8086  ,\n",
              "         5282.3745  ,  1467.7908  ,  2095.7935  ,  2822.6753  ,\n",
              "         3762.4565  ,  4497.3774  ,  2443.27    ,  2640.0364  ,\n",
              "         1537.1736  ,   712.88837 ,   712.52344 ,   827.51843 ,\n",
              "          839.1774  ,   657.03906 ,  1154.592   ,  1314.6825  ,\n",
              "         1498.0039  ,  2523.2175  ,  3304.8203  ,  3580.2083  ,\n",
              "         2486.0234  ,  2461.557   ,  2453.1472  ,  3343.5747  ,\n",
              "         5525.0317  ,  7342.497   ,  8799.321   ,  8409.528   ,\n",
              "         6354.384   ,  4577.6826  ,  4530.3354  ,  2686.8325  ,\n",
              "         1951.0658  ,  2977.4683  ,  4358.714   ,  6178.878   ,\n",
              "         3880.2908  ,  1868.25    ,  2122.1106  ,  2401.5017  ,\n",
              "         1403.178   ,  1713.0636  ,  1281.6619  ,  1998.3867  ,\n",
              "         1947.087   ,  1843.4381  ,  2305.3845  ,  3362.2043  ,\n",
              "         5559.337   ,  7160.6353  ,  7830.984   ], dtype=float32),\n",
              " 'mape': array([ 6.402212  ,  3.4828815 ,  3.4431689 ,  4.814514  ,  5.250119  ,\n",
              "         6.447596  ,  6.36366   ,  5.504966  ,  6.453085  ,  8.412183  ,\n",
              "        10.812407  , 10.018681  ,  9.390734  , 10.984663  ,  7.969258  ,\n",
              "         3.8788419 ,  3.2717135 ,  3.2767992 ,  3.680485  ,  3.8053174 ,\n",
              "         1.577782  ,  1.8264433 ,  2.6076572 ,  3.4431148 ,  2.323637  ,\n",
              "         2.0961514 ,  1.4504975 ,  1.3202919 ,  1.5050796 ,  1.9309852 ,\n",
              "         3.7361302 ,  5.1435447 ,  3.8183842 ,  3.8403716 ,  3.6166575 ,\n",
              "         3.7264552 ,  4.3471136 ,  3.565405  ,  3.5185246 ,  3.6079187 ,\n",
              "         5.740897  ,  2.0916014 ,  1.3064927 ,  1.4054013 ,  1.3008786 ,\n",
              "         1.1899002 ,  1.0046688 ,  1.0865254 ,  1.2365253 ,  1.3051628 ,\n",
              "         1.4897225 ,  1.978061  ,  2.499533  ,  1.9876529 ,  3.336764  ,\n",
              "         5.0422044 ,  7.186941  ,  6.9779897 ,  6.702786  ,  6.6651807 ,\n",
              "         5.553593  ,  3.181154  ,  3.346138  ,  3.679969  ,  4.893989  ,\n",
              "         5.3627634 ,  5.9489946 ,  5.903404  ,  1.5691576 ,  2.752611  ,\n",
              "         2.6124153 ,  4.841758  ,  6.283616  ,  4.6467524 ,  3.493743  ,\n",
              "         4.357769  ,  3.8951643 ,  4.2588763 ,  5.4910593 ,  6.870596  ,\n",
              "         8.600202  ,  6.795106  ,  3.0961006 ,  1.7480325 ,  2.4826975 ,\n",
              "         2.199186  ,  2.4712372 ,  3.0934827 ,  3.6075335 ,  5.565586  ,\n",
              "         4.2267113 ,  4.217011  ,  3.3967535 ,  2.24352   ,  1.5774562 ,\n",
              "         2.6919284 ,  2.968511  ,  5.1926727 ,  6.443034  ,  8.086339  ,\n",
              "         5.5283093 ,  3.3189085 ,  2.2886488 ,  3.583926  ,  4.0196753 ,\n",
              "         4.113002  ,  5.1569986 ,  6.426432  , 10.78317   , 10.567293  ,\n",
              "         9.819861  ,  4.3096247 ,  2.0667822 ,  2.4875412 ,  2.2791946 ,\n",
              "         4.089552  ,  3.4803514 ,  5.0765166 ,  6.729632  , 14.254506  ,\n",
              "        24.419422  , 35.145283  , 33.97126   , 38.663895  , 41.849747  ,\n",
              "        48.970966  , 24.795246  , 13.221221  ,  7.808541  ,  6.771596  ,\n",
              "         8.515182  ,  6.9728336 ,  7.77132   ,  4.6685796 ,  5.153042  ,\n",
              "         4.640524  ,  5.256141  ,  4.4815097 ,  5.0253844 ,  5.192601  ,\n",
              "         5.557058  ,  5.9186425 ,  4.318839  ,  8.669056  , 10.030428  ,\n",
              "         6.3234577 ,  5.359075  ,  3.1647005 ,  4.050002  ,  2.7812736 ,\n",
              "         3.4750276 ,  7.211811  ,  4.929823  ,  7.876942  ,  6.0926514 ,\n",
              "         5.546615  ,  2.5615258 ,  2.8352401 ,  2.8009768 ,  2.1997566 ,\n",
              "         3.7677963 ,  3.599779  ,  3.281972  ,  3.685752  ,  4.481377  ,\n",
              "         4.768122  ,  6.6396275 ,  8.726228  ,  6.2781916 ,  7.0761375 ,\n",
              "         9.485286  , 10.01832   , 11.098317  , 12.231512  ,  5.565991  ,\n",
              "         2.7756512 ,  3.500035  ,  4.2158875 ,  4.3586617 ,  4.179993  ,\n",
              "         5.1347475 ,  5.1729517 ,  6.8602047 , 10.774761  ,  9.7411375 ,\n",
              "         3.2845378 ,  5.127909  ,  7.544136  ,  3.7667997 ,  2.4416876 ,\n",
              "         2.8712425 ,  2.4297316 ,  3.9688494 ,  4.763288  ,  7.281567  ,\n",
              "         7.0167093 ,  4.2479477 ,  3.1550097 ,  3.2721367 ,  3.101149  ,\n",
              "         5.3963594 ,  7.699846  ,  7.3331423 ,  4.7631598 ,  2.816652  ,\n",
              "         1.2909509 ,  1.9594301 ,  3.0859206 ,  1.4951551 ,  1.4875942 ,\n",
              "         3.255343  ,  1.7390487 ,  2.005551  ,  2.1535234 ,  2.9998384 ,\n",
              "         3.9502594 ,  5.578894  ,  1.4510117 ,  1.343199  ,  1.5289481 ,\n",
              "         1.4513825 ,  1.9947853 ,  1.895986  ,  1.7524998 ,  1.4290482 ,\n",
              "         1.5443323 ,  1.8393692 ,  2.0262854 ,  2.8496866 ,  6.1434097 ,\n",
              "         2.9179592 ,  3.013359  ,  1.4513718 ,  0.8062296 ,  0.5856781 ,\n",
              "         0.9755166 ,  1.2496895 ,  1.632818  ,  1.3588635 ,  1.8587917 ,\n",
              "         1.016422  ,  1.9338545 ,  0.76604384,  0.7613722 ,  2.1339874 ,\n",
              "         1.5049397 ,  1.4876472 ,  0.8236735 ,  0.8219784 ,  1.2857286 ,\n",
              "         1.7466615 ,  1.6188232 ,  1.522662  ,  1.9710739 ,  2.7174342 ,\n",
              "         3.3450274 ,  5.9319973 ,  6.6759205 ,  7.4671693 ,  8.338855  ,\n",
              "        10.214082  , 12.002156  , 11.7236395 ,  4.679185  ,  2.0538    ,\n",
              "         2.1624131 ,  2.2227643 ,  2.442202  ,  3.3622172 ,  1.1063685 ,\n",
              "         0.93746036,  1.6955471 ,  1.0021045 ,  2.4178262 ,  2.5291383 ,\n",
              "         2.449822  ,  2.1346407 ,  2.8605516 ,  1.6263386 ,  1.4222116 ,\n",
              "         1.252561  ,  1.6541815 ,  1.4312794 ,  2.2483723 ,  3.7983801 ,\n",
              "         5.3823733 ,  2.5632617 ,  2.6514978 ,  1.6168703 ,  2.2624955 ,\n",
              "         3.0703886 ,  2.572759  ,  1.1891351 ,  1.666384  ,  2.2252057 ,\n",
              "         3.392915  ,  5.40227   ,  7.45392   ,  9.941702  , 14.118745  ,\n",
              "        13.346375  ,  8.691144  ,  5.6362424 ,  1.3427958 ,  1.9050764 ,\n",
              "         1.8971828 ,  2.9675527 ,  3.914798  ,  3.9951417 ,  3.9610815 ,\n",
              "         4.2889814 ,  3.7648115 ,  2.1690722 ,  1.0335467 ,  2.8200283 ,\n",
              "         4.1567326 ,  3.3976858 ,  4.678816  ,  2.9806447 ,  1.3975667 ,\n",
              "         1.6483104 ,  2.9721785 ,  1.58853   ,  0.9248051 ,  1.276741  ,\n",
              "         2.0297167 ,  2.9757273 ,  2.5210547 ,  1.6239319 ,  1.4070543 ,\n",
              "         1.5125965 ,  2.1878903 ,  2.8571823 ,  3.909338  ,  4.851466  ,\n",
              "         5.805891  ,  5.316625  ,  4.4664717 ,  1.4555005 ,  0.81144285,\n",
              "         2.6826189 ,  2.1527636 ,  3.297301  ,  4.7313056 ,  5.7233324 ,\n",
              "         7.9325213 ,  9.18386   ,  9.1527815 ,  9.196856  ,  3.1121776 ,\n",
              "         1.7976997 ,  1.9023767 ,  2.3827326 ,  2.0674822 ,  1.8813803 ,\n",
              "         1.6977559 ,  1.2270117 ,  2.6628716 ,  3.8428247 ,  4.629812  ,\n",
              "         5.709029  ,  7.2109685 ,  7.5990334 ,  7.5568333 ,  2.7865524 ,\n",
              "         3.3382387 ,  2.3976934 ,  2.0094888 ,  3.2599967 ,  4.69113   ,\n",
              "         4.4948144 ,  4.6255646 ,  6.0892463 ,  7.179712  ,  9.83978   ,\n",
              "         8.266897  ,  5.318736  ,  2.743976  ,  2.4733765 ,  3.5107613 ,\n",
              "         5.2569437 ,  6.452813  ,  6.2210374 ,  6.5662494 ,  5.44809   ,\n",
              "         3.9997835 ,  5.9628596 ,  6.879171  ,  6.6124268 ,  1.7025063 ,\n",
              "         1.3503834 ,  2.6160398 ,  4.423634  ,  3.4458988 ,  3.6616855 ,\n",
              "         3.2289808 ,  3.2606993 ,  3.2204947 ,  3.987521  ,  6.9387054 ,\n",
              "        11.624277  , 12.298483  , 13.599433  , 14.515331  , 15.360525  ,\n",
              "        10.099567  ,  4.068152  ,  2.2315607 ,  4.054519  ,  5.2055597 ,\n",
              "         5.4062443 ,  6.4725614 ,  9.172665  , 10.942374  , 10.613153  ,\n",
              "         7.9582863 ,  8.244558  ,  9.144945  , 10.903898  ,  9.740188  ,\n",
              "        11.297314  , 13.340826  , 11.247776  , 10.67007   , 11.147956  ,\n",
              "         7.6491156 ,  6.866442  ,  6.6784034 , 12.243648  , 16.208025  ,\n",
              "        14.951216  ,  4.207533  ,  2.6856244 ,  2.3191185 ,  8.15719   ,\n",
              "         9.668839  , 10.254631  , 10.080647  ,  9.740136  , 11.513623  ,\n",
              "        12.358547  ,  3.412747  ,  4.3834596 ,  3.7224135 ,  3.757688  ,\n",
              "         3.7642162 ,  6.770426  , 10.383636  ,  9.506482  ,  6.720391  ,\n",
              "         7.6151123 ,  8.350168  , 12.150838  , 12.733213  , 10.302471  ,\n",
              "        10.816615  , 13.041726  , 12.998533  , 17.210749  ,  9.764074  ,\n",
              "         3.1822193 ,  3.1218839 ,  3.2214012 ,  4.736365  ,  4.7192683 ,\n",
              "         6.1523414 ,  5.218858  ,  6.4583874 ,  4.990052  ,  6.193294  ,\n",
              "        11.75486   , 14.816992  , 21.48871   , 19.504026  , 11.145401  ,\n",
              "         6.672235  ,  4.6338086 ,  2.6931677 ,  4.8198333 ,  7.5707445 ,\n",
              "         5.318615  ,  5.346155  ,  5.6070814 ,  7.168313  ,  9.590031  ,\n",
              "        11.162836  , 10.50085   ,  9.507164  ,  7.5070596 ,  3.639263  ,\n",
              "         3.3445194 ,  2.4078    ,  2.6060457 ,  5.1649323 ,  3.1383116 ,\n",
              "         2.8420477 ,  5.4313416 ,  7.7314005 , 10.536129  , 10.046468  ,\n",
              "         9.802414  ,  2.7302206 ,  3.833476  ,  4.92407   ,  6.5090365 ,\n",
              "         7.732568  ,  4.1993046 ,  4.5184026 ,  2.6188662 ,  1.2180879 ,\n",
              "         1.2371453 ,  1.4383229 ,  1.4578974 ,  1.1382282 ,  1.9892576 ,\n",
              "         2.2655976 ,  2.4883645 ,  4.0949287 ,  5.315863  ,  5.746708  ,\n",
              "         3.9847572 ,  3.9883215 ,  4.0904284 ,  5.827564  ,  9.767983  ,\n",
              "        13.2319975 , 16.274822  , 15.870044  , 12.382068  ,  8.973194  ,\n",
              "         8.880301  ,  5.290676  ,  3.8085976 ,  5.524464  ,  7.881207  ,\n",
              "        11.078926  ,  6.873392  ,  3.3009703 ,  3.761163  ,  4.2070994 ,\n",
              "         2.5168717 ,  3.0634851 ,  2.2868152 ,  3.5653017 ,  3.3792694 ,\n",
              "         3.3126872 ,  4.3336215 ,  6.570369  , 11.058972  , 14.624603  ,\n",
              "        16.685299  ], dtype=float32),\n",
              " 'mase': 2.1974063,\n",
              " 'mse': array([3.33726188e+05, 1.18670641e+05, 9.96524141e+04, 1.84162328e+05,\n",
              "        2.40925078e+05, 3.31727781e+05, 3.18016969e+05, 2.69757500e+05,\n",
              "        3.67174406e+05, 5.42461875e+05, 8.00997125e+05, 6.79113562e+05,\n",
              "        5.58362812e+05, 6.65754125e+05, 3.71143188e+05, 1.16226734e+05,\n",
              "        8.35010078e+04, 7.92569219e+04, 9.43463359e+04, 9.78526484e+04,\n",
              "        2.37816191e+04, 2.37380664e+04, 5.15203438e+04, 9.23035078e+04,\n",
              "        4.20247891e+04, 3.22508477e+04, 1.59168350e+04, 1.38396895e+04,\n",
              "        1.36361396e+04, 2.83066211e+04, 8.77488750e+04, 1.41271094e+05,\n",
              "        8.98753906e+04, 1.21973062e+05, 1.12811500e+05, 1.20598180e+05,\n",
              "        1.39918859e+05, 1.02662000e+05, 9.07287578e+04, 7.70607109e+04,\n",
              "        1.86782328e+05, 2.96705195e+04, 1.16199629e+04, 1.36673594e+04,\n",
              "        1.33246768e+04, 1.24737295e+04, 7.50149756e+03, 7.43269971e+03,\n",
              "        8.48148633e+03, 1.53447168e+04, 1.84381426e+04, 2.96825508e+04,\n",
              "        4.34096523e+04, 3.84010547e+04, 1.50886000e+05, 2.61322906e+05,\n",
              "        3.98611062e+05, 3.89747938e+05, 3.58793438e+05, 3.11940562e+05,\n",
              "        2.18966828e+05, 1.58429719e+05, 1.76462984e+05, 2.09291109e+05,\n",
              "        3.21955781e+05, 3.00176469e+05, 3.21956094e+05, 2.80943250e+05,\n",
              "        2.96574258e+04, 7.67345859e+04, 6.54605391e+04, 1.93905641e+05,\n",
              "        3.04698438e+05, 1.83742172e+05, 1.21349695e+05, 1.73527672e+05,\n",
              "        1.35285500e+05, 2.34013781e+05, 3.69003906e+05, 5.10364938e+05,\n",
              "        6.87154688e+05, 4.18430438e+05, 9.55904141e+04, 4.08526289e+04,\n",
              "        6.32684102e+04, 5.73108203e+04, 7.59408359e+04, 1.30285734e+05,\n",
              "        1.62379297e+05, 3.37327031e+05, 2.59514281e+05, 2.36138156e+05,\n",
              "        1.44373125e+05, 7.78643828e+04, 3.52126328e+04, 8.04477578e+04,\n",
              "        1.50259656e+05, 3.37513281e+05, 4.59169250e+05, 6.58017562e+05,\n",
              "        3.20740188e+05, 1.33061656e+05, 5.87250938e+04, 1.28244148e+05,\n",
              "        2.25128641e+05, 2.76193531e+05, 3.53759906e+05, 4.57278062e+05,\n",
              "        1.05387062e+06, 9.36517562e+05, 7.60386562e+05, 1.64037844e+05,\n",
              "        4.65556367e+04, 7.80365078e+04, 5.18684727e+04, 1.48228406e+05,\n",
              "        1.31790031e+05, 2.30930031e+05, 3.52204438e+05, 1.81976600e+06,\n",
              "        3.74979725e+06, 6.05941750e+06, 5.17881100e+06, 5.76029600e+06,\n",
              "        5.91834100e+06, 7.01621250e+06, 1.88590112e+06, 6.11417562e+05,\n",
              "        2.17509359e+05, 2.11132922e+05, 3.73220656e+05, 3.03584656e+05,\n",
              "        3.21958469e+05, 1.72256594e+05, 1.71718797e+05, 1.18439680e+05,\n",
              "        1.48257062e+05, 1.12111523e+05, 1.52994922e+05, 1.89576734e+05,\n",
              "        2.11239078e+05, 2.07178797e+05, 1.03452703e+05, 4.05683188e+05,\n",
              "        5.37860875e+05, 2.66393938e+05, 1.78269625e+05, 6.25858633e+04,\n",
              "        1.07051484e+05, 5.58048555e+04, 6.88216953e+04, 2.88668125e+05,\n",
              "        1.54089516e+05, 3.25091719e+05, 2.10473422e+05, 1.62372703e+05,\n",
              "        3.72359805e+04, 5.15569570e+04, 5.99091523e+04, 4.06763984e+04,\n",
              "        9.57963594e+04, 9.38126641e+04, 7.11753359e+04, 8.48455469e+04,\n",
              "        1.14091570e+05, 1.71689906e+05, 3.12196188e+05, 7.02099812e+05,\n",
              "        5.61761938e+05, 6.87882875e+05, 1.05554425e+06, 1.05882012e+06,\n",
              "        1.12562138e+06, 1.18562475e+06, 3.25741156e+05, 2.10954219e+05,\n",
              "        2.86802969e+05, 2.37318203e+05, 2.00987641e+05, 1.98731547e+05,\n",
              "        2.62999562e+05, 3.18549812e+05, 6.32966000e+05, 1.09172400e+06,\n",
              "        9.02774625e+05, 1.83074969e+05, 3.16092188e+05, 5.78356188e+05,\n",
              "        1.54290156e+05, 7.35794141e+04, 1.10565055e+05, 8.31921250e+04,\n",
              "        2.14472078e+05, 2.25769000e+05, 4.80493562e+05, 4.28426500e+05,\n",
              "        1.99940328e+05, 9.92743047e+04, 9.91875156e+04, 1.09896039e+05,\n",
              "        4.03638500e+05, 7.17518188e+05, 5.64797438e+05, 3.12538281e+05,\n",
              "        1.89820031e+05, 5.35124062e+04, 9.76377344e+04, 1.10487250e+05,\n",
              "        3.26702754e+04, 2.71973223e+04, 1.28170438e+05, 5.05949492e+04,\n",
              "        5.79322930e+04, 6.51397305e+04, 1.05960008e+05, 1.86676344e+05,\n",
              "        2.87949281e+05, 2.65589941e+04, 2.13126543e+04, 2.61786230e+04,\n",
              "        4.51326523e+04, 4.12718672e+04, 4.02395625e+04, 2.94368184e+04,\n",
              "        2.49562930e+04, 2.69205352e+04, 4.24990000e+04, 5.06393477e+04,\n",
              "        9.42587344e+04, 3.21661938e+05, 8.20932891e+04, 8.34924609e+04,\n",
              "        2.15422363e+04, 1.06262295e+04, 4.10540674e+03, 1.01081064e+04,\n",
              "        1.80301816e+04, 2.75234883e+04, 2.87735273e+04, 3.46790977e+04,\n",
              "        1.31123994e+04, 4.07523750e+04, 6.75683496e+03, 7.49360498e+03,\n",
              "        4.27127422e+04, 2.12714902e+04, 2.08292012e+04, 6.89122314e+03,\n",
              "        7.94919775e+03, 1.87734102e+04, 2.80580996e+04, 2.74817344e+04,\n",
              "        4.67436953e+04, 6.39327695e+04, 1.02622734e+05, 1.54422781e+05,\n",
              "        7.13448875e+05, 9.74551125e+05, 1.21437762e+06, 1.31954225e+06,\n",
              "        1.68307862e+06, 2.12208575e+06, 1.82460538e+06, 3.50587000e+05,\n",
              "        9.39960547e+04, 8.03993203e+04, 7.31112031e+04, 9.43348359e+04,\n",
              "        2.05101281e+05, 2.76546914e+04, 2.32067383e+04, 5.38158672e+04,\n",
              "        2.62649883e+04, 1.15992750e+05, 1.22646820e+05, 1.26874516e+05,\n",
              "        9.48500000e+04, 1.55124672e+05, 9.15201094e+04, 7.55591250e+04,\n",
              "        5.65147305e+04, 5.81007578e+04, 4.34579688e+04, 8.36421953e+04,\n",
              "        2.21365578e+05, 4.09360562e+05, 1.18835445e+05, 1.18802188e+05,\n",
              "        4.77623672e+04, 1.08798086e+05, 1.62374328e+05, 1.04008898e+05,\n",
              "        4.12895000e+04, 1.03147953e+05, 1.11014148e+05, 2.18157266e+05,\n",
              "        5.06101594e+05, 8.98636312e+05, 1.38499625e+06, 2.33315250e+06,\n",
              "        1.93356900e+06, 8.33013000e+05, 3.57809656e+05, 3.16059941e+04,\n",
              "        4.87739727e+04, 7.21054297e+04, 1.67481391e+05, 2.91566469e+05,\n",
              "        2.83258031e+05, 2.61482797e+05, 2.61772172e+05, 1.82568031e+05,\n",
              "        7.08163906e+04, 2.29461348e+04, 1.28332227e+05, 2.44600969e+05,\n",
              "        1.86532844e+05, 2.98312844e+05, 1.41799219e+05, 4.33737188e+04,\n",
              "        4.18532227e+04, 1.08706461e+05, 3.61393203e+04, 1.17647344e+04,\n",
              "        2.82066230e+04, 7.87709844e+04, 1.19436812e+05, 8.70028359e+04,\n",
              "        3.89529297e+04, 2.54043164e+04, 4.88406328e+04, 1.21033625e+05,\n",
              "        1.84796891e+05, 2.98226812e+05, 4.05246188e+05, 4.93381938e+05,\n",
              "        4.07399219e+05, 2.83151844e+05, 4.76927500e+04, 1.46157080e+04,\n",
              "        1.16768500e+05, 6.70501484e+04, 3.79445906e+05, 7.42879688e+05,\n",
              "        9.27920312e+05, 1.49810862e+06, 1.71774225e+06, 1.58948600e+06,\n",
              "        1.56527000e+06, 2.63973594e+05, 7.75848828e+04, 7.37790703e+04,\n",
              "        1.15302023e+05, 1.19707500e+05, 8.27388047e+04, 7.10491953e+04,\n",
              "        4.81502305e+04, 5.07770781e+05, 9.37226312e+05, 8.90593812e+05,\n",
              "        1.06742212e+06, 1.57102375e+06, 1.54109762e+06, 1.47812112e+06,\n",
              "        3.83573062e+05, 3.74889844e+05, 2.21564578e+05, 1.22596055e+05,\n",
              "        4.04133344e+05, 1.03330031e+06, 1.13375275e+06, 9.70256562e+05,\n",
              "        1.54385412e+06, 2.14589850e+06, 3.66092600e+06, 2.49183125e+06,\n",
              "        1.20374925e+06, 3.88591844e+05, 2.92313281e+05, 8.08243125e+05,\n",
              "        1.36701412e+06, 1.88843600e+06, 1.79997825e+06, 2.03837288e+06,\n",
              "        1.56412988e+06, 7.30201125e+05, 1.79431888e+06, 1.88373700e+06,\n",
              "        1.76249712e+06, 1.37184875e+05, 7.49278281e+04, 3.14446281e+05,\n",
              "        8.06188812e+05, 5.44051000e+05, 5.94486688e+05, 5.22807812e+05,\n",
              "        4.99202688e+05, 4.26265000e+05, 1.12050888e+06, 4.34282900e+06,\n",
              "        9.04387700e+06, 1.13475090e+07, 1.31673580e+07, 1.34771310e+07,\n",
              "        1.32121090e+07, 5.78247100e+06, 1.13130212e+06, 5.76764812e+05,\n",
              "        1.43331062e+06, 2.24769100e+06, 2.76616975e+06, 3.93275325e+06,\n",
              "        8.43724300e+06, 1.10442450e+07, 1.05090670e+07, 9.83867100e+06,\n",
              "        1.15131120e+07, 1.16015590e+07, 1.65308900e+07, 1.74689840e+07,\n",
              "        2.66746220e+07, 3.69651600e+07, 2.98057140e+07, 2.12807140e+07,\n",
              "        2.41527000e+07, 1.35803290e+07, 7.84651550e+06, 1.01479470e+07,\n",
              "        2.43554660e+07, 3.72968640e+07, 3.02107320e+07, 3.16941150e+06,\n",
              "        1.57896238e+06, 1.10197400e+06, 9.51851300e+06, 1.40185010e+07,\n",
              "        1.60469230e+07, 1.53325710e+07, 1.20162670e+07, 1.56482570e+07,\n",
              "        1.62261030e+07, 1.51269225e+06, 2.95707050e+06, 2.83866050e+06,\n",
              "        1.97963000e+06, 2.10015750e+06, 6.45362550e+06, 1.60897760e+07,\n",
              "        1.56116910e+07, 9.09514300e+06, 1.08362190e+07, 1.33895280e+07,\n",
              "        3.21196700e+07, 4.54238720e+07, 3.56680720e+07, 3.62145000e+07,\n",
              "        4.76370000e+07, 4.21587160e+07, 6.71461920e+07, 2.39333340e+07,\n",
              "        3.04824725e+06, 4.99010350e+06, 4.66270500e+06, 1.03568130e+07,\n",
              "        1.07705200e+07, 1.66432310e+07, 1.13261670e+07, 1.46496790e+07,\n",
              "        8.20142650e+06, 1.19715750e+07, 4.60190120e+07, 6.44261680e+07,\n",
              "        1.11489336e+08, 8.69196000e+07, 3.14187420e+07, 1.41668750e+07,\n",
              "        6.51357850e+06, 2.39536100e+06, 6.63372850e+06, 1.54293040e+07,\n",
              "        1.10395950e+07, 1.20784300e+07, 1.82204020e+07, 2.52749380e+07,\n",
              "        3.80717080e+07, 5.30344400e+07, 4.86432640e+07, 3.48258360e+07,\n",
              "        2.05255680e+07, 7.95056000e+06, 4.43125250e+06, 3.09636175e+06,\n",
              "        3.20022675e+06, 1.00226550e+07, 6.46612300e+06, 4.52926350e+06,\n",
              "        1.41592150e+07, 2.53465100e+07, 3.88927720e+07, 3.31398760e+07,\n",
              "        3.04334360e+07, 3.71927650e+06, 6.42252100e+06, 1.08717140e+07,\n",
              "        1.65572670e+07, 2.23030840e+07, 6.36749450e+06, 7.30342750e+06,\n",
              "        3.20449150e+06, 6.84750812e+05, 8.10465875e+05, 1.00761619e+06,\n",
              "        9.94972625e+05, 7.12413062e+05, 1.70937338e+06, 2.51828000e+06,\n",
              "        4.01922950e+06, 1.04513260e+07, 1.57187690e+07, 1.64243250e+07,\n",
              "        8.05424500e+06, 7.72865950e+06, 7.43385600e+06, 1.89167880e+07,\n",
              "        4.17982120e+07, 6.26704960e+07, 8.70586000e+07, 7.75266960e+07,\n",
              "        4.88232120e+07, 2.63575900e+07, 2.51629160e+07, 9.96780700e+06,\n",
              "        5.22333100e+06, 1.07158740e+07, 2.34496920e+07, 4.05963880e+07,\n",
              "        1.74019860e+07, 4.56206350e+06, 5.11086450e+06, 7.09880000e+06,\n",
              "        3.09619400e+06, 4.58717150e+06, 2.98884975e+06, 5.16106100e+06,\n",
              "        5.18047450e+06, 4.92478500e+06, 9.32121300e+06, 2.14728520e+07,\n",
              "        4.57733320e+07, 6.61740800e+07, 7.94449520e+07], dtype=float32),\n",
              " 'rmse': array([  577.69037 ,   344.48605 ,   315.6777  ,   429.1414  ,\n",
              "          490.8412  ,   575.9581  ,   563.92993 ,   519.38184 ,\n",
              "          605.94916 ,   736.52014 ,   894.98444 ,   824.0835  ,\n",
              "          747.23676 ,   815.93756 ,   609.2152  ,   340.9204  ,\n",
              "          288.96542 ,   281.52606 ,   307.15848 ,   312.8141  ,\n",
              "          154.2129  ,   154.07162 ,   226.98093 ,   303.8149  ,\n",
              "          204.99948 ,   179.5852  ,   126.16194 ,   117.64221 ,\n",
              "          116.77388 ,   168.24571 ,   296.22437 ,   375.86047 ,\n",
              "          299.79224 ,   349.24643 ,   335.87424 ,   347.2725  ,\n",
              "          374.05728 ,   320.40912 ,   301.21216 ,   277.5981  ,\n",
              "          432.1832  ,   172.25133 ,   107.79593 ,   116.90748 ,\n",
              "          115.43256 ,   111.68585 ,    86.61118 ,    86.213104,\n",
              "           92.094986,   123.873795,   135.78712 ,   172.28624 ,\n",
              "          208.34984 ,   195.96187 ,   388.44046 ,   511.1975  ,\n",
              "          631.3565  ,   624.298   ,   598.9937  ,   558.5164  ,\n",
              "          467.9389  ,   398.03232 ,   420.07498 ,   457.48346 ,\n",
              "          567.4115  ,   547.8836  ,   567.41174 ,   530.0408  ,\n",
              "          172.21332 ,   277.01007 ,   255.85257 ,   440.34717 ,\n",
              "          551.99493 ,   428.65158 ,   348.35284 ,   416.56653 ,\n",
              "          367.81177 ,   483.7497  ,   607.4569  ,   714.3983  ,\n",
              "          828.94794 ,   646.862   ,   309.177   ,   202.12033 ,\n",
              "          251.53212 ,   239.39679 ,   275.57364 ,   360.95114 ,\n",
              "          402.96313 ,   580.79865 ,   509.42545 ,   485.9405  ,\n",
              "          379.96463 ,   279.0419  ,   187.6503  ,   283.63315 ,\n",
              "          387.6334  ,   580.9589  ,   677.6203  ,   811.1828  ,\n",
              "          566.3393  ,   364.77618 ,   242.33261 ,   358.1119  ,\n",
              "          474.47723 ,   525.5412  ,   594.77716 ,   676.2234  ,\n",
              "         1026.582   ,   967.7384  ,   872.00146 ,   405.01587 ,\n",
              "          215.76755 ,   279.35016 ,   227.7465  ,   385.00443 ,\n",
              "          363.02896 ,   480.5518  ,   593.46814 ,  1348.987   ,\n",
              "         1936.4393  ,  2461.5884  ,  2275.7002  ,  2400.0618  ,\n",
              "         2432.7642  ,  2648.8135  ,  1373.2811  ,   781.93195 ,\n",
              "          466.379   ,   459.49203 ,   610.9179  ,   550.98517 ,\n",
              "          567.4138  ,   415.03806 ,   414.38968 ,   344.15067 ,\n",
              "          385.04163 ,   334.8306  ,   391.14566 ,   435.4041  ,\n",
              "          459.6075  ,   455.16898 ,   321.64066 ,   636.9326  ,\n",
              "          733.39    ,   516.13367 ,   422.21988 ,   250.17166 ,\n",
              "          327.18723 ,   236.23051 ,   262.3389  ,   537.27844 ,\n",
              "          392.5424  ,   570.16815 ,   458.77383 ,   402.95496 ,\n",
              "          192.96626 ,   227.06157 ,   244.76346 ,   201.68391 ,\n",
              "          309.50986 ,   306.28854 ,   266.78705 ,   291.2826  ,\n",
              "          337.77444 ,   414.3548  ,   558.7452  ,   837.91394 ,\n",
              "          749.5078  ,   829.387   ,  1027.3969  ,  1028.9899  ,\n",
              "         1060.953   ,  1088.864   ,   570.73737 ,   459.29752 ,\n",
              "          535.53986 ,   487.15317 ,   448.31644 ,   445.79315 ,\n",
              "          512.83484 ,   564.40216 ,   795.5916  ,  1044.856   ,\n",
              "          950.14453 ,   427.87262 ,   562.22076 ,   760.4973  ,\n",
              "          392.79785 ,   271.25525 ,   332.51324 ,   288.43045 ,\n",
              "          463.1113  ,   475.15155 ,   693.17645 ,   654.54297 ,\n",
              "          447.14688 ,   315.07825 ,   314.9405  ,   331.5057  ,\n",
              "          635.3255  ,   847.06445 ,   751.5301  ,   559.0512  ,\n",
              "          435.6834  ,   231.32748 ,   312.47037 ,   332.3962  ,\n",
              "          180.7492  ,   164.9161  ,   358.009   ,   224.93321 ,\n",
              "          240.69128 ,   255.22487 ,   325.51498 ,   432.06058 ,\n",
              "          536.6091  ,   162.9693  ,   145.98854 ,   161.7981  ,\n",
              "          212.44447 ,   203.15479 ,   200.598   ,   171.57161 ,\n",
              "          157.9756  ,   164.07478 ,   206.15286 ,   225.03188 ,\n",
              "          307.01584 ,   567.15247 ,   286.51926 ,   288.95062 ,\n",
              "          146.77274 ,   103.0836  ,    64.07345 ,   100.53908 ,\n",
              "          134.2765  ,   165.90204 ,   169.62761 ,   186.22325 ,\n",
              "          114.509384,   201.87218 ,    82.19997 ,    86.56561 ,\n",
              "          206.67061 ,   145.84749 ,   144.32326 ,    83.01339 ,\n",
              "           89.15827 ,   137.0161  ,   167.50552 ,   165.77615 ,\n",
              "          216.2029  ,   252.8493  ,   320.34784 ,   392.96664 ,\n",
              "          844.65906 ,   987.19354 ,  1101.988   ,  1148.7133  ,\n",
              "         1297.3352  ,  1456.738   ,  1350.7795  ,   592.1039  ,\n",
              "          306.58777 ,   283.54773 ,   270.39084 ,   307.13977 ,\n",
              "          452.8811  ,   166.297   ,   152.33759 ,   231.98247 ,\n",
              "          162.06476 ,   340.5771  ,   350.2097  ,   356.1945  ,\n",
              "          307.97726 ,   393.8587  ,   302.52292 ,   274.8802  ,\n",
              "          237.72827 ,   241.04099 ,   208.46574 ,   289.2096  ,\n",
              "          470.49503 ,   639.8129  ,   344.72516 ,   344.67694 ,\n",
              "          218.54604 ,   329.84555 ,   402.95697 ,   322.50412 ,\n",
              "          203.19818 ,   321.16656 ,   333.18787 ,   467.0731  ,\n",
              "          711.4082  ,   947.9643  ,  1176.8586  ,  1527.4661  ,\n",
              "         1390.5283  ,   912.69543 ,   598.17194 ,   177.78075 ,\n",
              "          220.8483  ,   268.52454 ,   409.2449  ,   539.96893 ,\n",
              "          532.2199  ,   511.35388 ,   511.63675 ,   427.27982 ,\n",
              "          266.1135  ,   151.47981 ,   358.23486 ,   494.5715  ,\n",
              "          431.89447 ,   546.18024 ,   376.56238 ,   208.26358 ,\n",
              "          204.5806  ,   329.70663 ,   190.10344 ,   108.46536 ,\n",
              "          167.94827 ,   280.66168 ,   345.5963  ,   294.96243 ,\n",
              "          197.36496 ,   159.38731 ,   220.99918 ,   347.89886 ,\n",
              "          429.8801  ,   546.10144 ,   636.5895  ,   702.4115  ,\n",
              "          638.2783  ,   532.1201  ,   218.3867  ,   120.89544 ,\n",
              "          341.71405 ,   258.94043 ,   615.9918  ,   861.90466 ,\n",
              "          963.2862  ,  1223.9725  ,  1310.6267  ,  1260.7482  ,\n",
              "         1251.1075  ,   513.7836  ,   278.54062 ,   271.62302 ,\n",
              "          339.56152 ,   345.9877  ,   287.64352 ,   266.55054 ,\n",
              "          219.43161 ,   712.5804  ,   968.1045  ,   943.71277 ,\n",
              "         1033.1613  ,  1253.4049  ,  1241.4095  ,  1215.78    ,\n",
              "          619.33276 ,   612.2825  ,   470.70648 ,   350.1372  ,\n",
              "          635.71484 ,  1016.5138  ,  1064.7783  ,   985.016   ,\n",
              "         1242.5193  ,  1464.8885  ,  1913.3546  ,  1578.5536  ,\n",
              "         1097.155   ,   623.37134 ,   540.66003 ,   899.02344 ,\n",
              "         1169.1938  ,  1374.2037  ,  1341.6327  ,  1427.716   ,\n",
              "         1250.6517  ,   854.51807 ,  1339.5219  ,  1372.493   ,\n",
              "         1327.5907  ,   370.38477 ,   273.7295  ,   560.7551  ,\n",
              "          897.8802  ,   737.59814 ,   771.0296  ,   723.0545  ,\n",
              "          706.5428  ,   652.8897  ,  1058.5409  ,  2083.9456  ,\n",
              "         3007.304   ,  3368.6064  ,  3628.6855  ,  3671.1213  ,\n",
              "         3634.8464  ,  2404.677   ,  1063.6268  ,   759.4503  ,\n",
              "         1197.2095  ,  1499.2301  ,  1663.1807  ,  1983.1171  ,\n",
              "         2904.6934  ,  3323.2883  ,  3241.769   ,  3136.6655  ,\n",
              "         3393.0977  ,  3406.1062  ,  4065.8198  ,  4179.5913  ,\n",
              "         5164.748   ,  6079.898   ,  5459.461   ,  4613.1025  ,\n",
              "         4914.5396  ,  3685.15    ,  2801.1633  ,  3185.5842  ,\n",
              "         4935.126   ,  6107.1157  ,  5496.429   ,  1780.284   ,\n",
              "         1256.5677  ,  1049.7495  ,  3085.2087  ,  3744.129   ,\n",
              "         4005.861   ,  3915.6826  ,  3466.4487  ,  3955.7878  ,\n",
              "         4028.1638  ,  1229.9155  ,  1719.6135  ,  1684.8325  ,\n",
              "         1406.9933  ,  1449.192   ,  2540.3987  ,  4011.2063  ,\n",
              "         3951.1633  ,  3015.8154  ,  3291.8413  ,  3659.1704  ,\n",
              "         5667.422   ,  6739.7236  ,  5972.2754  ,  6017.8486  ,\n",
              "         6901.956   ,  6492.974   ,  8194.278   ,  4892.171   ,\n",
              "         1745.9231  ,  2233.854   ,  2159.3298  ,  3218.2002  ,\n",
              "         3281.847   ,  4079.6116  ,  3365.437   ,  3827.49    ,\n",
              "         2863.8132  ,  3459.9963  ,  6783.7314  ,  8026.5913  ,\n",
              "        10558.851   ,  9323.068   ,  5605.242   ,  3763.8909  ,\n",
              "         2552.1714  ,  1547.6954  ,  2575.6025  ,  3928.0154  ,\n",
              "         3322.5886  ,  3475.4036  ,  4268.536   ,  5027.4185  ,\n",
              "         6170.2275  ,  7282.475   ,  6974.472   ,  5901.342   ,\n",
              "         4530.515   ,  2819.6738  ,  2105.054   ,  1759.6482  ,\n",
              "         1788.9177  ,  3165.8577  ,  2542.8572  ,  2128.2065  ,\n",
              "         3762.8733  ,  5034.5317  ,  6236.4067  ,  5756.7246  ,\n",
              "         5516.651   ,  1928.5426  ,  2534.2693  ,  3297.2283  ,\n",
              "         4069.0623  ,  4722.6143  ,  2523.3894  ,  2702.4854  ,\n",
              "         1790.1094  ,   827.4967  ,   900.2588  ,  1003.80084 ,\n",
              "          997.48315 ,   844.04565 ,  1307.43    ,  1586.9089  ,\n",
              "         2004.8016  ,  3232.851   ,  3964.6902  ,  4052.6936  ,\n",
              "         2838.0002  ,  2780.0466  ,  2726.5098  ,  4349.3433  ,\n",
              "         6465.154   ,  7916.4697  ,  9330.52    ,  8804.925   ,\n",
              "         6987.361   ,  5133.9644  ,  5016.265   ,  3157.1833  ,\n",
              "         2285.4607  ,  3273.511   ,  4842.4883  ,  6371.5293  ,\n",
              "         4171.569   ,  2135.8987  ,  2260.7222  ,  2664.3574  ,\n",
              "         1759.6005  ,  2141.7683  ,  1728.829   ,  2271.7969  ,\n",
              "         2276.0657  ,  2219.1855  ,  3053.0662  ,  4633.881   ,\n",
              "         6765.599   ,  8134.745   ,  8913.189   ], dtype=float32)}"
            ]
          },
          "metadata": {},
          "execution_count": 80
        }
      ]
    },
    {
      "cell_type": "code",
      "metadata": {
        "colab": {
          "base_uri": "https://localhost:8080/"
        },
        "id": "Lp9oNFn5U1iy",
        "outputId": "ada2c7cd-7ffc-42c0-a408-ea74bbcc2959"
      },
      "source": [
        "tf.reduce_mean(model_3_results['mae'])"
      ],
      "execution_count": 82,
      "outputs": [
        {
          "output_type": "execute_result",
          "data": {
            "text/plain": [
              "<tf.Tensor: shape=(), dtype=float32, numpy=1234.8837>"
            ]
          },
          "metadata": {},
          "execution_count": 82
        }
      ]
    },
    {
      "cell_type": "markdown",
      "metadata": {
        "id": "sLqTf9jKDKZ4"
      },
      "source": [
        "Alright its not what we expected we got our `model_3_results` as multi-dimensional. \n",
        "\n",
        "This is because the predictions are getting evaluated across the `HORIZON` timesteps (7 predictions at a time). Before we had 1 so it was easy for our evaluation function. \n",
        "\n",
        "Now lets adjust the `evaluate_preds()` function to work with multiple shapes of data. \n",
        "\n",
        "\n",
        "#### Make our evaluation function work for larger horizons \n"
      ]
    },
    {
      "cell_type": "code",
      "metadata": {
        "id": "uWSEFwDRM2Jo"
      },
      "source": [
        "def evaluate_preds(y_true , y_pred):\n",
        "\n",
        "  # Make sure float32 (metric calculations)\n",
        "  y_true = tf.cast(y_true , dtype= tf.float32)\n",
        "  y_pred = tf.cast(y_pred , dtype = tf.float32)\n",
        "\n",
        "  # Claculate various metrics \n",
        "  mae = tf.keras.metrics.mean_absolute_error(y_true, y_pred)\n",
        "  mse = tf.keras.metrics.mean_squared_error(y_true, y_pred)\n",
        "  rmse = tf.sqrt(mse)\n",
        "  mape = tf.keras.metrics.mean_absolute_percentage_error(y_true, y_pred)\n",
        "  mase = mean_absolute_scaled_error(y_true, y_pred)\n",
        "\n",
        "  # Account for different sized metrics (for longer horizons, reduce it to single number)\n",
        "  if mae.ndim > 0: \n",
        "    mae = tf.reduce_mean(mae)\n",
        "    mse = tf.reduce_mean(mse)\n",
        "    rmse = tf.reduce_mean(rmse)\n",
        "    mape = tf.reduce_mean(mape)\n",
        "    mase = tf.reduce_mean(mase)\n",
        "\n",
        "  return {\"mae\": mae.numpy(),\n",
        "          \"mse\": mse.numpy(),\n",
        "          \"rmse\": rmse.numpy(),\n",
        "          \"mape\": mape.numpy(),\n",
        "          \"mase\": mase.numpy()}\n",
        "\n",
        " "
      ],
      "execution_count": 83,
      "outputs": []
    },
    {
      "cell_type": "code",
      "metadata": {
        "colab": {
          "base_uri": "https://localhost:8080/"
        },
        "id": "GQoY8Vf4M-kT",
        "outputId": "385eebca-1b69-46ad-f0cf-5406a1c82989"
      },
      "source": [
        "# Using the above updated function \n",
        "model_3_results = evaluate_preds(y_true = tf.squeeze(test_labels) , \n",
        "                                 y_pred = model_3_preds)\n",
        "model_3_results # Models performance is worse "
      ],
      "execution_count": 84,
      "outputs": [
        {
          "output_type": "execute_result",
          "data": {
            "text/plain": [
              "{'mae': 1234.8837,\n",
              " 'mape': 5.4874983,\n",
              " 'mase': 2.1974063,\n",
              " 'mse': 5393734.0,\n",
              " 'rmse': 1419.1362}"
            ]
          },
          "metadata": {},
          "execution_count": 84
        }
      ]
    },
    {
      "cell_type": "code",
      "metadata": {
        "colab": {
          "base_uri": "https://localhost:8080/"
        },
        "id": "95O7fhPYVgOP",
        "outputId": "0a87d098-ab86-4a47-9fa4-ed0fe5afa04b"
      },
      "source": [
        "# Gettin the baseline results \n",
        "naive_results"
      ],
      "execution_count": 85,
      "outputs": [
        {
          "output_type": "execute_result",
          "data": {
            "text/plain": [
              "{'mae': 567.9802,\n",
              " 'mape': 2.516525,\n",
              " 'mase': 0.99957,\n",
              " 'mse': 1147547.0,\n",
              " 'rmse': 1071.2362}"
            ]
          },
          "metadata": {},
          "execution_count": 85
        }
      ]
    },
    {
      "cell_type": "code",
      "metadata": {
        "colab": {
          "base_uri": "https://localhost:8080/",
          "height": 442
        },
        "id": "1QzS249YVkC0",
        "outputId": "23ccf785-2291-450d-96a4-5ae6dea43fa4"
      },
      "source": [
        "# Visualizing the above model results \n",
        "offset = 350 \n",
        "plt.figure(figsize = (10 ,7))\n",
        "plot_time_series(timesteps = X_test[-len(test_windows):] , \n",
        "                 values = test_labels[: , 0], \n",
        "                 start = offset , \n",
        "                 label= 'Test data')\n",
        "plot_time_series(timesteps = X_test[-len(test_windows):] , \n",
        "                 values = model_3_preds , \n",
        "                  format = '-' , \n",
        "                 label = 'Model 3 results')"
      ],
      "execution_count": 88,
      "outputs": [
        {
          "output_type": "display_data",
          "data": {
            "image/png": "[encoded data removed]",
            "text/plain": [
              "<Figure size 720x504 with 1 Axes>"
            ]
          },
          "metadata": {
            "needs_background": "light"
          }
        }
      ]
    },
    {
      "cell_type": "markdown",
      "metadata": {
        "id": "kNzytJsbW1yy"
      },
      "source": [
        "Well thats a funky looking plot, well this happens because our `model_3_preds` is a multi-dimensional array. \n",
        "\n",
        "We can solve that by aggregating our models predictions. "
      ]
    },
    {
      "cell_type": "code",
      "metadata": {
        "colab": {
          "base_uri": "https://localhost:8080/",
          "height": 442
        },
        "id": "zjMw7BtmXwYs",
        "outputId": "ba4fcae7-997e-4023-bb24-f3e0fc569a32"
      },
      "source": [
        "# Visualizing the above model results \n",
        "offset = 300 \n",
        "plt.figure(figsize = (10 ,7))\n",
        "plot_time_series(timesteps = X_test[-len(test_windows):] , \n",
        "                 values = test_labels[: , 0], \n",
        "                 start = offset , \n",
        "                 label= 'Test data')\n",
        "plot_time_series(timesteps = X_test[-len(test_windows):] , \n",
        "                 values = tf.reduce_mean(model_3_preds , axis = 1) , \n",
        "                 start = offset ,\n",
        "                  format = '-' , \n",
        "                 label = 'Model 3 results')"
      ],
      "execution_count": 95,
      "outputs": [
        {
          "output_type": "display_data",
          "data": {
            "image/png": "[encoded data removed]",
            "text/plain": [
              "<Figure size 720x504 with 1 Axes>"
            ]
          },
          "metadata": {
            "needs_background": "light"
          }
        }
      ]
    },
    {
      "cell_type": "markdown",
      "metadata": {
        "id": "b6pREbJVYMMA"
      },
      "source": [
        "> **🔑  Note** Aggregating the predictions (e.g. reducing a 7-day horizon to one value such as the mean) loses information from the original prediction. As in, the model predictions were trained to be made for 7-days but by reducing them to one, we gain the ability to plot them visually but we lose the extra information contained across multiple days. "
      ]
    },
    {
      "cell_type": "markdown",
      "metadata": {
        "id": "Q-2GSFOmZXok"
      },
      "source": [
        "#### Which of our models is performing so far? \n",
        "\n",
        "So we;ve trained 3 models which use the same architecture but use different data inputs. \n",
        "\n",
        "Lets compare them with naive mdoels to see which model is performing best so far."
      ]
    },
    {
      "cell_type": "code",
      "metadata": {
        "colab": {
          "base_uri": "https://localhost:8080/",
          "height": 457
        },
        "id": "kVgrNXtub4FK",
        "outputId": "7aa87fe8-1242-4893-8508-7d2840ee37bd"
      },
      "source": [
        "pd.DataFrame({\"naive\": naive_results[\"mae\"], \n",
        "              \"horizon_1_window_7\": model_1_results[\"mae\"], \n",
        "              \"horizon_1_window_30\": model_2_results[\"mae\"], \n",
        "              \"horizon_7_window_30\": model_3_results[\"mae\"]}, index=[\"mae\"]).plot(figsize=(10, 7), kind=\"bar\")"
      ],
      "execution_count": 96,
      "outputs": [
        {
          "output_type": "execute_result",
          "data": {
            "text/plain": [
              "<matplotlib.axes._subplots.AxesSubplot at 0x7fc2bbc2c4d0>"
            ]
          },
          "metadata": {},
          "execution_count": 96
        },
        {
          "output_type": "display_data",
          "data": {
            "image/png": "[encoded data removed]",
            "text/plain": [
              "<Figure size 720x504 with 1 Axes>"
            ]
          },
          "metadata": {
            "needs_background": "light"
          }
        }
      ]
    },
    {
      "cell_type": "markdown",
      "metadata": {
        "id": "hyL3Mlb9cGT0"
      },
      "source": [
        "Great looking at the plot it shows our naive model is the best performing one till now (its very hard to beat a naive model in the open systems) but the dense model with a horizon of 1 and window size of 7 looks to be performing the closest. \n",
        "\n",
        "Because of this lets use the same window size and the horizon for our next series of experiments. \n",
        "\n",
        "**What the hell is autocorrelation**?\n",
        "> Why are the naive results so good? One of the reason could be due to presence of **autocorrelation** in the data. If a time series has **autocorrelation** it means the value at `t + 1` (the next timestep) is typically close to the value of `t` (the current timestep). In other words, todays value is probably pretty close to yesterdays value. Of coruse, this isn't always the case but when it is, a naive model will often get fairly good results. \n",
        "\n",
        "> Resource : https://towardsdatascience.com/how-not-to-use-machine-learning-for-time-series-forecasting-avoiding-the-pitfalls-19f9d7adf424\n",
        "\n",
        "\n",
        "So thats why our naive model was able to perform well, and it show that our our current and the next timesteps are pretty closer at most of the instances. "
      ]
    },
    {
      "cell_type": "markdown",
      "metadata": {
        "id": "rSrRSxTQfJBN"
      },
      "source": [
        "### **Model 4: Conv 1D**  \n",
        "\n",
        "We have been using dense layers to build our time series model for so long, now lets move onto using the `Conv 1D` layer. \n",
        "\n",
        "As we know Conv1D model can be used for (seq2seq) sequence to sequence problem. And in our case the, \n",
        "- input sequence is the previous 7 days of Bitcoin price data (or) `window_size`\n",
        "- output is the next day (or) `horizon`\n",
        "\n",
        "\n",
        "In a seq2seq problem we call it as many to one problem. Lets crecreatte the datasets for our Conv1D\n"
      ]
    },
    {
      "cell_type": "code",
      "metadata": {
        "id": "j_biN2KUf40a"
      },
      "source": [
        "HORIZON = 1 # predict the next day \n",
        "WINDOW_SIZE = 7 # use previous one week worth of data (as inputs)"
      ],
      "execution_count": 97,
      "outputs": []
    },
    {
      "cell_type": "code",
      "metadata": {
        "colab": {
          "base_uri": "https://localhost:8080/"
        },
        "id": "MLWyTfFeqCVO",
        "outputId": "693980be-8ecc-4451-ac19-b1c629ef0eff"
      },
      "source": [
        "# Create windowed dataset \n",
        "full_windows , full_labels = make_windows(prices , window_size= WINDOW_SIZE , horizon=HORIZON)\n",
        "len(full_windows), len(full_labels)"
      ],
      "execution_count": 98,
      "outputs": [
        {
          "output_type": "execute_result",
          "data": {
            "text/plain": [
              "(2780, 2780)"
            ]
          },
          "metadata": {},
          "execution_count": 98
        }
      ]
    },
    {
      "cell_type": "code",
      "metadata": {
        "colab": {
          "base_uri": "https://localhost:8080/"
        },
        "id": "xckegaYxqS-H",
        "outputId": "542c107e-30c8-4a60-8746-49ed1ba30b4b"
      },
      "source": [
        "# Create the train and test splits \n",
        "train_windows , test_windows , train_labels , test_labels = make_train_test_splits(full_windows , full_labels)\n",
        "len(train_windows), len(test_windows), len(train_labels), len(test_labels)\n"
      ],
      "execution_count": 99,
      "outputs": [
        {
          "output_type": "execute_result",
          "data": {
            "text/plain": [
              "(2224, 556, 2224, 556)"
            ]
          },
          "metadata": {},
          "execution_count": 99
        }
      ]
    },
    {
      "cell_type": "code",
      "metadata": {
        "colab": {
          "base_uri": "https://localhost:8080/"
        },
        "id": "ZgJJsTExrD6z",
        "outputId": "d5fcdd11-09ea-43ab-8032-e1a19f21c6ab"
      },
      "source": [
        "train_windows.shape , full_windows.shape , full_labels.shape"
      ],
      "execution_count": 101,
      "outputs": [
        {
          "output_type": "execute_result",
          "data": {
            "text/plain": [
              "((2224, 7), (2780, 7), (2780, 1))"
            ]
          },
          "metadata": {},
          "execution_count": 101
        }
      ]
    },
    {
      "cell_type": "markdown",
      "metadata": {
        "id": "6yHFgnMirIYf"
      },
      "source": [
        "Since we're going to be using `Conv1D` model we need to make sure our **input shapes are correct**. \n",
        "\n",
        "We need an input shape of: `(batch_size , timesteps , input_dim)`\n",
        "\n",
        "However our data isnt in the shape yet. \n",
        "\n",
        "\n",
        "\n",
        "\n"
      ]
    },
    {
      "cell_type": "code",
      "metadata": {
        "colab": {
          "base_uri": "https://localhost:8080/"
        },
        "id": "APRtC84ssVSl",
        "outputId": "ceea7eae-8668-433c-a90f-d9cf8d13e261"
      },
      "source": [
        "# Check our data shape \n",
        "train_windows[0].shape # returns (Windo_size, )"
      ],
      "execution_count": 102,
      "outputs": [
        {
          "output_type": "execute_result",
          "data": {
            "text/plain": [
              "(7,)"
            ]
          },
          "metadata": {},
          "execution_count": 102
        }
      ]
    },
    {
      "cell_type": "code",
      "metadata": {
        "id": "r0zgicFTsafh"
      },
      "source": [
        "# Before we pass our data to the Conv1D layer, we have to reshape it in order to make sure it works \n",
        "x = tf.constant(train_windows[0])"
      ],
      "execution_count": 104,
      "outputs": []
    },
    {
      "cell_type": "code",
      "metadata": {
        "colab": {
          "base_uri": "https://localhost:8080/"
        },
        "id": "N32V7Yn8s5iN",
        "outputId": "7ce4f89c-2417-4b8c-dedc-0162ca95f6b0"
      },
      "source": [
        "# Using the lambda layer to add extra dimension (using expand dims)\n",
        "expand_dims_layer = layers.Lambda(lambda x: tf.expand_dims(x , axis = 1))(x)\n",
        "expand_dims_layer"
      ],
      "execution_count": 106,
      "outputs": [
        {
          "output_type": "execute_result",
          "data": {
            "text/plain": [
              "<tf.Tensor: shape=(7, 1), dtype=float32, numpy=\n",
              "array([[123.65499],\n",
              "       [125.455  ],\n",
              "       [108.58483],\n",
              "       [118.67466],\n",
              "       [121.33866],\n",
              "       [120.65533],\n",
              "       [121.795  ]], dtype=float32)>"
            ]
          },
          "metadata": {},
          "execution_count": 106
        }
      ]
    },
    {
      "cell_type": "code",
      "metadata": {
        "colab": {
          "base_uri": "https://localhost:8080/"
        },
        "id": "gcXcwKB8tKRA",
        "outputId": "cbb6c14b-48ae-4b4b-a95f-bd815e622908"
      },
      "source": [
        "print(f'Original shape: {x.shape}') # window_size\n",
        "print(f'Expanded shape: {expand_dims_layer.shape}\\n\\n') # (window_size , input_dim)\n",
        "print(f'Original values with expanded shape:\\n {expand_dims_layer}')"
      ],
      "execution_count": 110,
      "outputs": [
        {
          "output_type": "stream",
          "text": [
            "Original shape: (7,)\n",
            "Expanded shape: (7, 1)\n",
            "\n",
            "\n",
            "Original values with expanded shape:\n",
            " [[123.65499]\n",
            " [125.455  ]\n",
            " [108.58483]\n",
            " [118.67466]\n",
            " [121.33866]\n",
            " [120.65533]\n",
            " [121.795  ]]\n"
          ],
          "name": "stdout"
        }
      ]
    },
    {
      "cell_type": "code",
      "metadata": {
        "colab": {
          "base_uri": "https://localhost:8080/"
        },
        "id": "mndRYjXCtwCc",
        "outputId": "f45e9479-5918-4e86-9689-144ff5b9b6af"
      },
      "source": [
        "# Now building the Conv1D model \n",
        "\n",
        "inputs = layers.Input(shape = (WINDOW_SIZE ,) , name ='input_layer')\n",
        "expand_layer = layers.Lambda(lambda x: tf.expand_dims(x, axis = 1) , name = 'expand_dim_layer')(inputs)\n",
        "x = layers.Conv1D(filters = 128 , \n",
        "                  kernel_size = 5 , \n",
        "                  padding ='causal' , activation = 'relu')(expand_layer)\n",
        "outputs = layers.Dense(HORIZON)(x)\n",
        "\n",
        "# Packing into a model \n",
        "model_4 = tf.keras.Model(inputs , outputs , name = 'conv1d_model')\n",
        "\n",
        "# Compiling the model \n",
        "model_4.compile(loss = 'mae', \n",
        "                optimizer = tf.keras.optimizers.Adam())\n",
        "\n",
        "# Fit the model \n",
        "model_4.fit(x = train_windows , \n",
        "            y = train_labels , \n",
        "            epochs = 100 , \n",
        "            batch_size = 128 , \n",
        "            verbose = 0 , \n",
        "            validation_data = (test_windows , test_labels) , \n",
        "            callbacks = [create_model_checkpoint(model_name = model_4.name)])"
      ],
      "execution_count": 113,
      "outputs": [
        {
          "output_type": "stream",
          "text": [
            "INFO:tensorflow:Assets written to: model_experiment/conv1d_model/assets\n",
            "INFO:tensorflow:Assets written to: model_experiment/conv1d_model/assets\n",
            "INFO:tensorflow:Assets written to: model_experiment/conv1d_model/assets\n",
            "INFO:tensorflow:Assets written to: model_experiment/conv1d_model/assets\n",
            "INFO:tensorflow:Assets written to: model_experiment/conv1d_model/assets\n",
            "INFO:tensorflow:Assets written to: model_experiment/conv1d_model/assets\n",
            "INFO:tensorflow:Assets written to: model_experiment/conv1d_model/assets\n",
            "INFO:tensorflow:Assets written to: model_experiment/conv1d_model/assets\n",
            "INFO:tensorflow:Assets written to: model_experiment/conv1d_model/assets\n",
            "INFO:tensorflow:Assets written to: model_experiment/conv1d_model/assets\n",
            "INFO:tensorflow:Assets written to: model_experiment/conv1d_model/assets\n",
            "INFO:tensorflow:Assets written to: model_experiment/conv1d_model/assets\n",
            "INFO:tensorflow:Assets written to: model_experiment/conv1d_model/assets\n",
            "INFO:tensorflow:Assets written to: model_experiment/conv1d_model/assets\n",
            "INFO:tensorflow:Assets written to: model_experiment/conv1d_model/assets\n",
            "INFO:tensorflow:Assets written to: model_experiment/conv1d_model/assets\n",
            "INFO:tensorflow:Assets written to: model_experiment/conv1d_model/assets\n",
            "INFO:tensorflow:Assets written to: model_experiment/conv1d_model/assets\n",
            "INFO:tensorflow:Assets written to: model_experiment/conv1d_model/assets\n",
            "INFO:tensorflow:Assets written to: model_experiment/conv1d_model/assets\n",
            "INFO:tensorflow:Assets written to: model_experiment/conv1d_model/assets\n",
            "INFO:tensorflow:Assets written to: model_experiment/conv1d_model/assets\n",
            "INFO:tensorflow:Assets written to: model_experiment/conv1d_model/assets\n",
            "INFO:tensorflow:Assets written to: model_experiment/conv1d_model/assets\n",
            "INFO:tensorflow:Assets written to: model_experiment/conv1d_model/assets\n",
            "INFO:tensorflow:Assets written to: model_experiment/conv1d_model/assets\n",
            "INFO:tensorflow:Assets written to: model_experiment/conv1d_model/assets\n",
            "INFO:tensorflow:Assets written to: model_experiment/conv1d_model/assets\n",
            "INFO:tensorflow:Assets written to: model_experiment/conv1d_model/assets\n",
            "INFO:tensorflow:Assets written to: model_experiment/conv1d_model/assets\n",
            "INFO:tensorflow:Assets written to: model_experiment/conv1d_model/assets\n",
            "INFO:tensorflow:Assets written to: model_experiment/conv1d_model/assets\n",
            "INFO:tensorflow:Assets written to: model_experiment/conv1d_model/assets\n",
            "INFO:tensorflow:Assets written to: model_experiment/conv1d_model/assets\n",
            "INFO:tensorflow:Assets written to: model_experiment/conv1d_model/assets\n",
            "INFO:tensorflow:Assets written to: model_experiment/conv1d_model/assets\n",
            "INFO:tensorflow:Assets written to: model_experiment/conv1d_model/assets\n",
            "INFO:tensorflow:Assets written to: model_experiment/conv1d_model/assets\n",
            "INFO:tensorflow:Assets written to: model_experiment/conv1d_model/assets\n",
            "INFO:tensorflow:Assets written to: model_experiment/conv1d_model/assets\n",
            "INFO:tensorflow:Assets written to: model_experiment/conv1d_model/assets\n",
            "INFO:tensorflow:Assets written to: model_experiment/conv1d_model/assets\n",
            "INFO:tensorflow:Assets written to: model_experiment/conv1d_model/assets\n",
            "INFO:tensorflow:Assets written to: model_experiment/conv1d_model/assets\n",
            "INFO:tensorflow:Assets written to: model_experiment/conv1d_model/assets\n"
          ],
          "name": "stdout"
        },
        {
          "output_type": "execute_result",
          "data": {
            "text/plain": [
              "<keras.callbacks.History at 0x7fc2bafa4950>"
            ]
          },
          "metadata": {},
          "execution_count": 113
        }
      ]
    },
    {
      "cell_type": "code",
      "metadata": {
        "colab": {
          "base_uri": "https://localhost:8080/"
        },
        "id": "zYpjmnacvO5S",
        "outputId": "5fb50664-f559-4b99-b0f3-042390ce51c5"
      },
      "source": [
        "# Evaluating the model results \n",
        "model_4 = tf.keras.models.load_model('model_experiment/conv1d_model')\n",
        "model_4.evaluate(test_windows , test_labels)"
      ],
      "execution_count": 114,
      "outputs": [
        {
          "output_type": "stream",
          "text": [
            "18/18 [==============================] - 0s 16ms/step - loss: 567.6815\n"
          ],
          "name": "stdout"
        },
        {
          "output_type": "execute_result",
          "data": {
            "text/plain": [
              "567.6815185546875"
            ]
          },
          "metadata": {},
          "execution_count": 114
        }
      ]
    },
    {
      "cell_type": "code",
      "metadata": {
        "colab": {
          "base_uri": "https://localhost:8080/"
        },
        "id": "_ejeHCXzwNii",
        "outputId": "d7b5cfd9-cfc1-4e66-b949-36db6785ea3d"
      },
      "source": [
        "# Make predictions \n",
        "model_4_preds = make_preds(model_4 , test_windows)\n",
        "model_4_preds[:10]"
      ],
      "execution_count": 116,
      "outputs": [
        {
          "output_type": "execute_result",
          "data": {
            "text/plain": [
              "<tf.Tensor: shape=(10,), dtype=float32, numpy=\n",
              "array([8892.623, 8801.231, 9018.766, 8788.929, 8764.391, 8745.372,\n",
              "       8698.693, 8531.568, 8481.75 , 8529.499], dtype=float32)>"
            ]
          },
          "metadata": {},
          "execution_count": 116
        }
      ]
    },
    {
      "cell_type": "code",
      "metadata": {
        "colab": {
          "base_uri": "https://localhost:8080/"
        },
        "id": "T6YdWYdMwZcB",
        "outputId": "06a6eaa0-0e01-439a-b393-d4a40853e559"
      },
      "source": [
        "# Evaluate the predictions \n",
        "model_4_results = evaluate_preds(tf.squeeze(test_labels) , \n",
        "                                 model_4_preds)\n",
        "model_4_results"
      ],
      "execution_count": 117,
      "outputs": [
        {
          "output_type": "execute_result",
          "data": {
            "text/plain": [
              "{'mae': 567.6815,\n",
              " 'mape': 2.536533,\n",
              " 'mase': 0.9972592,\n",
              " 'mse': 1169939.5,\n",
              " 'rmse': 1081.6375}"
            ]
          },
          "metadata": {},
          "execution_count": 117
        }
      ]
    },
    {
      "cell_type": "code",
      "metadata": {
        "colab": {
          "base_uri": "https://localhost:8080/"
        },
        "id": "jqz3_8rswkdF",
        "outputId": "d05bc9a5-b7fe-469f-9a01-6cbe8d39e327"
      },
      "source": [
        "# Baseline results \n",
        "naive_results"
      ],
      "execution_count": 118,
      "outputs": [
        {
          "output_type": "execute_result",
          "data": {
            "text/plain": [
              "{'mae': 567.9802,\n",
              " 'mape': 2.516525,\n",
              " 'mase': 0.99957,\n",
              " 'mse': 1147547.0,\n",
              " 'rmse': 1071.2362}"
            ]
          },
          "metadata": {},
          "execution_count": 118
        }
      ]
    },
    {
      "cell_type": "markdown",
      "metadata": {
        "id": "QilFfXLJwtes"
      },
      "source": [
        "### Model 5: RNN (LSTM) \n",
        "\n",
        "We can also use recurrent neural networks to model our sequential time series data. \n",
        "\n",
        "Lets use the same model we did for the Conv1D but except this time we will create an LSTM-cell powered RNN to model our Bitcoin data. \n",
        "\n",
        "Like the Conv1D model even the LSTM layers take a tensor with shape `(batch_size , timesteps ,feature)` dimensions and we will use the lambda layer to adjust the shape of our input tensors. "
      ]
    },
    {
      "cell_type": "code",
      "metadata": {
        "colab": {
          "base_uri": "https://localhost:8080/"
        },
        "id": "r7llqrdCyrLM",
        "outputId": "34236be4-d344-4fe7-9d8a-0260fd4788a9"
      },
      "source": [
        "tf.random.set_seed(42)\n",
        "\n",
        "# Building a LSTM model \n",
        "inputs  = layers.Input(shape = (WINDOW_SIZE,))\n",
        "x = layers.Lambda(lambda x: tf.expand_dims(x , axis = 1))(inputs)\n",
        "x = layers.LSTM(128 , activation = 'relu')(x)\n",
        "outputs = layers.Dense(HORIZON)(x)\n",
        "\n",
        "# Packing into a model \n",
        "model_5 = tf.keras.Model(inputs , outputs , name = 'model_5_lstm')\n",
        "\n",
        "# Compile model\n",
        "model_5.compile(loss=\"mae\",\n",
        "                optimizer=tf.keras.optimizers.Adam())\n",
        "\n",
        "# Seems when saving the model several warnings are appearing: https://github.com/tensorflow/tensorflow/issues/47554 \n",
        "model_5.fit(train_windows,\n",
        "            train_labels,\n",
        "            epochs=100,\n",
        "            verbose=0,\n",
        "            batch_size=128,\n",
        "            validation_data=(test_windows, test_labels),\n",
        "            callbacks=[create_model_checkpoint(model_name=model_5.name)])"
      ],
      "execution_count": 120,
      "outputs": [
        {
          "output_type": "stream",
          "text": [
            "WARNING:tensorflow:Layer lstm_1 will not use cuDNN kernels since it doesn't meet the criteria. It will use a generic GPU kernel as fallback when running on GPU.\n",
            "INFO:tensorflow:Assets written to: model_experiment/model_5_lstm/assets\n",
            "INFO:tensorflow:Assets written to: model_experiment/model_5_lstm/assets\n",
            "INFO:tensorflow:Assets written to: model_experiment/model_5_lstm/assets\n",
            "INFO:tensorflow:Assets written to: model_experiment/model_5_lstm/assets\n",
            "INFO:tensorflow:Assets written to: model_experiment/model_5_lstm/assets\n",
            "INFO:tensorflow:Assets written to: model_experiment/model_5_lstm/assets\n",
            "INFO:tensorflow:Assets written to: model_experiment/model_5_lstm/assets\n",
            "INFO:tensorflow:Assets written to: model_experiment/model_5_lstm/assets\n",
            "INFO:tensorflow:Assets written to: model_experiment/model_5_lstm/assets\n",
            "INFO:tensorflow:Assets written to: model_experiment/model_5_lstm/assets\n",
            "INFO:tensorflow:Assets written to: model_experiment/model_5_lstm/assets\n",
            "INFO:tensorflow:Assets written to: model_experiment/model_5_lstm/assets\n",
            "INFO:tensorflow:Assets written to: model_experiment/model_5_lstm/assets\n",
            "INFO:tensorflow:Assets written to: model_experiment/model_5_lstm/assets\n",
            "INFO:tensorflow:Assets written to: model_experiment/model_5_lstm/assets\n",
            "INFO:tensorflow:Assets written to: model_experiment/model_5_lstm/assets\n",
            "INFO:tensorflow:Assets written to: model_experiment/model_5_lstm/assets\n",
            "INFO:tensorflow:Assets written to: model_experiment/model_5_lstm/assets\n",
            "INFO:tensorflow:Assets written to: model_experiment/model_5_lstm/assets\n",
            "INFO:tensorflow:Assets written to: model_experiment/model_5_lstm/assets\n",
            "INFO:tensorflow:Assets written to: model_experiment/model_5_lstm/assets\n",
            "INFO:tensorflow:Assets written to: model_experiment/model_5_lstm/assets\n",
            "INFO:tensorflow:Assets written to: model_experiment/model_5_lstm/assets\n",
            "INFO:tensorflow:Assets written to: model_experiment/model_5_lstm/assets\n",
            "INFO:tensorflow:Assets written to: model_experiment/model_5_lstm/assets\n",
            "INFO:tensorflow:Assets written to: model_experiment/model_5_lstm/assets\n",
            "INFO:tensorflow:Assets written to: model_experiment/model_5_lstm/assets\n",
            "INFO:tensorflow:Assets written to: model_experiment/model_5_lstm/assets\n",
            "INFO:tensorflow:Assets written to: model_experiment/model_5_lstm/assets\n",
            "INFO:tensorflow:Assets written to: model_experiment/model_5_lstm/assets\n",
            "INFO:tensorflow:Assets written to: model_experiment/model_5_lstm/assets\n",
            "INFO:tensorflow:Assets written to: model_experiment/model_5_lstm/assets\n",
            "INFO:tensorflow:Assets written to: model_experiment/model_5_lstm/assets\n",
            "INFO:tensorflow:Assets written to: model_experiment/model_5_lstm/assets\n",
            "INFO:tensorflow:Assets written to: model_experiment/model_5_lstm/assets\n",
            "INFO:tensorflow:Assets written to: model_experiment/model_5_lstm/assets\n",
            "INFO:tensorflow:Assets written to: model_experiment/model_5_lstm/assets\n",
            "INFO:tensorflow:Assets written to: model_experiment/model_5_lstm/assets\n",
            "INFO:tensorflow:Assets written to: model_experiment/model_5_lstm/assets\n",
            "INFO:tensorflow:Assets written to: model_experiment/model_5_lstm/assets\n",
            "INFO:tensorflow:Assets written to: model_experiment/model_5_lstm/assets\n",
            "INFO:tensorflow:Assets written to: model_experiment/model_5_lstm/assets\n",
            "INFO:tensorflow:Assets written to: model_experiment/model_5_lstm/assets\n"
          ],
          "name": "stdout"
        },
        {
          "output_type": "execute_result",
          "data": {
            "text/plain": [
              "<keras.callbacks.History at 0x7fc2c26f5110>"
            ]
          },
          "metadata": {},
          "execution_count": 120
        }
      ]
    },
    {
      "cell_type": "code",
      "metadata": {
        "colab": {
          "base_uri": "https://localhost:8080/"
        },
        "id": "wZI51aN_zdHP",
        "outputId": "8e1edd6a-ae4b-4268-97f6-f26181549fa4"
      },
      "source": [
        "# Evaluate the lstm model \n",
        "model_5 = tf.keras.models.load_model('/content/model_experiment/model_5_lstm')\n",
        "model_5.evaluate(test_windows , test_labels)"
      ],
      "execution_count": 121,
      "outputs": [
        {
          "output_type": "stream",
          "text": [
            "WARNING:tensorflow:Layer lstm_1 will not use cuDNN kernels since it doesn't meet the criteria. It will use a generic GPU kernel as fallback when running on GPU.\n",
            "18/18 [==============================] - 0s 2ms/step - loss: 597.4624\n"
          ],
          "name": "stdout"
        },
        {
          "output_type": "execute_result",
          "data": {
            "text/plain": [
              "597.46240234375"
            ]
          },
          "metadata": {},
          "execution_count": 121
        }
      ]
    },
    {
      "cell_type": "code",
      "metadata": {
        "colab": {
          "base_uri": "https://localhost:8080/"
        },
        "id": "MtvSbJVv1HeG",
        "outputId": "1d20ff6d-f50c-492c-a35c-ab028ea17c9e"
      },
      "source": [
        "# Make predictions with our LSTM model \n",
        "model_5_preds = make_preds(model_5 , test_windows)\n",
        "model_5_preds[:10]"
      ],
      "execution_count": 123,
      "outputs": [
        {
          "output_type": "execute_result",
          "data": {
            "text/plain": [
              "<tf.Tensor: shape=(10,), dtype=float32, numpy=\n",
              "array([8992.637, 8824.648, 9010.125, 8848.681, 8743.077, 8789.642,\n",
              "       8745.362, 8553.346, 8515.999, 8543.483], dtype=float32)>"
            ]
          },
          "metadata": {},
          "execution_count": 123
        }
      ]
    },
    {
      "cell_type": "code",
      "metadata": {
        "colab": {
          "base_uri": "https://localhost:8080/"
        },
        "id": "1hjJboSE1Shi",
        "outputId": "02ae043c-d500-4a83-b54f-91a85a73ece9"
      },
      "source": [
        "# Evaluate model 5 preds\n",
        "model_5_results = evaluate_preds(y_true=tf.squeeze(test_labels),\n",
        "                                 y_pred=model_5_preds)\n",
        "model_5_results"
      ],
      "execution_count": 124,
      "outputs": [
        {
          "output_type": "execute_result",
          "data": {
            "text/plain": [
              "{'mae': 597.46234,\n",
              " 'mape': 2.6910973,\n",
              " 'mase': 1.0495758,\n",
              " 'mse': 1275416.0,\n",
              " 'rmse': 1129.3431}"
            ]
          },
          "metadata": {},
          "execution_count": 124
        }
      ]
    },
    {
      "cell_type": "code",
      "metadata": {
        "colab": {
          "base_uri": "https://localhost:8080/"
        },
        "id": "zfCJpN861WwD",
        "outputId": "a60299e4-bc36-424a-95ed-fe78263a66a6"
      },
      "source": [
        "# Naive model results \n",
        "naive_results"
      ],
      "execution_count": 125,
      "outputs": [
        {
          "output_type": "execute_result",
          "data": {
            "text/plain": [
              "{'mae': 567.9802,\n",
              " 'mape': 2.516525,\n",
              " 'mase': 0.99957,\n",
              " 'mse': 1147547.0,\n",
              " 'rmse': 1071.2362}"
            ]
          },
          "metadata": {},
          "execution_count": 125
        }
      ]
    },
    {
      "cell_type": "markdown",
      "metadata": {
        "id": "gkv9LfQD1aIa"
      },
      "source": [
        "It seems even with an LSTM-powered RNN weren't able to beat our naive model results. \n",
        "\n",
        "What about adding another variable to our data? \n",
        "\n",
        "Yup, lets add another variable and make our data into multivariate time series data. \n",
        "\n",
        "> 🔑 Note: I'm putting this here again as a reminder that because neural networks are such powerful algorithms, they can be used for almost any problem, however, that doesn't mean they'll achieve performant or usable results. You're probably starting to clue onto this now."
      ]
    },
    {
      "cell_type": "code",
      "metadata": {
        "id": "3S5M78N32jfq"
      },
      "source": [
        ""
      ],
      "execution_count": null,
      "outputs": []
    }
  ]
}
{
  "nbformat": 4,
  "nbformat_minor": 0,
  "metadata": {
    "colab": {
      "name": "06_Transfer_Learning_Part3_Scaling_Up.ipynb",
      "provenance": [],
      "collapsed_sections": [],
      "authorship_tag": "ABX9TyOre4Jc+uUsjaQa5gJYJqlw",
      "include_colab_link": true
    },
    "kernelspec": {
      "name": "python3",
      "display_name": "Python 3"
    },
    "language_info": {
      "name": "python"
    },
    "accelerator": "GPU"
  },
  "cells": [
    {
      "cell_type": "markdown",
      "metadata": {
        "id": "view-in-github",
        "colab_type": "text"
      },
      "source": [
        "<a href=\"https://colab.research.google.com/github/ashikshafi08/Learning_Tensorflow/blob/main/Notebooks/06_Transfer_Learning_Part3_Scaling_Up.ipynb\" target=\"_parent\"><img src=\"https://colab.research.google.com/assets/colab-badge.svg\" alt=\"Open In Colab\"/></a>"
      ]
    },
    {
      "cell_type": "code",
      "metadata": {
        "colab": {
          "base_uri": "https://localhost:8080/"
        },
        "id": "zrkMYXNMNxqB",
        "outputId": "47364915-7c87-4a12-bbcf-f08e3635562e"
      },
      "source": [
        "!nvidia-smi"
      ],
      "execution_count": 2,
      "outputs": [
        {
          "output_type": "stream",
          "text": [
            "Thu Mar 25 21:55:57 2021       \n",
            "+-----------------------------------------------------------------------------+\n",
            "| NVIDIA-SMI 460.56       Driver Version: 460.32.03    CUDA Version: 11.2     |\n",
            "|-------------------------------+----------------------+----------------------+\n",
            "| GPU  Name        Persistence-M| Bus-Id        Disp.A | Volatile Uncorr. ECC |\n",
            "| Fan  Temp  Perf  Pwr:Usage/Cap|         Memory-Usage | GPU-Util  Compute M. |\n",
            "|                               |                      |               MIG M. |\n",
            "|===============================+======================+======================|\n",
            "|   0  Tesla T4            Off  | 00000000:00:04.0 Off |                    0 |\n",
            "| N/A   42C    P8     9W /  70W |      0MiB / 15109MiB |      0%      Default |\n",
            "|                               |                      |                  N/A |\n",
            "+-------------------------------+----------------------+----------------------+\n",
            "                                                                               \n",
            "+-----------------------------------------------------------------------------+\n",
            "| Processes:                                                                  |\n",
            "|  GPU   GI   CI        PID   Type   Process name                  GPU Memory |\n",
            "|        ID   ID                                                   Usage      |\n",
            "|=============================================================================|\n",
            "|  No running processes found                                                 |\n",
            "+-----------------------------------------------------------------------------+\n"
          ],
          "name": "stdout"
        }
      ]
    },
    {
      "cell_type": "markdown",
      "metadata": {
        "id": "rDPR9nXXOUXn"
      },
      "source": [
        "# Transfer Learning with TensorFlow - Scaling Up \n",
        "We've seen the power of transfer learning feature extraction and fine-tuning now it's time to scale up to all of the classes in Food101 (101 classes). \n",
        "\n",
        "Our goal is to beat original Food101 paper with 10% of the training data, leveraging the power of the transfer learning. Our baseline is to beat 50.76% accuracy across 101 classes.\n",
        "\n",
        "### Thing's to cover \n",
        "- Downloading $ preparing 10% of all Food101 classes (7500+ training images). \n",
        "- Training a **transfer learning feature extraction** model. \n",
        "- Fine-tuning our feature extraction model(👁 Food Vision mini) to beat the original Food101 paper with only 10% of the data. \n",
        "- Evaluating Food Vision mini's predictions. \n",
        "  - Finding the most wrong prediction (on the test data). \n",
        "- Making **predictions with the Food Vision mini on our custom images**.\n",
        "\n"
      ]
    },
    {
      "cell_type": "markdown",
      "metadata": {
        "id": "hGlCksHo1Gnz"
      },
      "source": [
        "## Creating Helper function \n",
        "In previous notebook, we've created a series of helper function to do different tasks, let's download them."
      ]
    },
    {
      "cell_type": "code",
      "metadata": {
        "colab": {
          "base_uri": "https://localhost:8080/"
        },
        "id": "pJuHoUkJap-q",
        "outputId": "e236c779-4967-4bcc-8942-33adb456f268"
      },
      "source": [
        "!wget https://raw.githubusercontent.com/mrdbourke/tensorflow-deep-learning/main/extras/helper_functions.py"
      ],
      "execution_count": 3,
      "outputs": [
        {
          "output_type": "stream",
          "text": [
            "--2021-03-25 21:55:59--  https://raw.githubusercontent.com/mrdbourke/tensorflow-deep-learning/main/extras/helper_functions.py\n",
            "Resolving raw.githubusercontent.com (raw.githubusercontent.com)... 185.199.108.133, 185.199.109.133, 185.199.110.133, ...\n",
            "Connecting to raw.githubusercontent.com (raw.githubusercontent.com)|185.199.108.133|:443... connected.\n",
            "HTTP request sent, awaiting response... 200 OK\n",
            "Length: 9304 (9.1K) [text/plain]\n",
            "Saving to: ‘helper_functions.py’\n",
            "\n",
            "helper_functions.py 100%[===================>]   9.09K  --.-KB/s    in 0s      \n",
            "\n",
            "2021-03-25 21:55:59 (79.7 MB/s) - ‘helper_functions.py’ saved [9304/9304]\n",
            "\n"
          ],
          "name": "stdout"
        }
      ]
    },
    {
      "cell_type": "code",
      "metadata": {
        "id": "eCikXzrMasbM"
      },
      "source": [
        "# Import series of helper function for our notebook \n",
        "from helper_functions import  create_tensorboard_callback , unzip_data , plot_loss_curves , compare_historys , walk_through_dir"
      ],
      "execution_count": 4,
      "outputs": []
    },
    {
      "cell_type": "markdown",
      "metadata": {
        "id": "S8OabSDdbJ00"
      },
      "source": [
        "## 101 Food Classes: workking with less data\n",
        "\n",
        "Our goal is to beat the original Food101 paper with 10% of the training data, so let's download it. \n",
        "\n",
        "The data we're downloading comes from original Food101 dataset but has been preprocessed using the `image_data_modification.ipynb`"
      ]
    },
    {
      "cell_type": "code",
      "metadata": {
        "colab": {
          "base_uri": "https://localhost:8080/"
        },
        "id": "Lcvq3x7UboK9",
        "outputId": "070bff56-2090-41b3-e312-a40ee88f7a04"
      },
      "source": [
        "# Getting the data \n",
        "!wget https://storage.googleapis.com/ztm_tf_course/food_vision/101_food_classes_10_percent.zip\n",
        "unzip_data('101_food_classes_10_percent.zip')\n",
        "\n",
        "train_dir = '101_food_classes_10_percent/train/'\n",
        "test_dir = '101_food_classes_10_percent/test/'"
      ],
      "execution_count": 5,
      "outputs": [
        {
          "output_type": "stream",
          "text": [
            "--2021-03-25 21:56:01--  https://storage.googleapis.com/ztm_tf_course/food_vision/101_food_classes_10_percent.zip\n",
            "Resolving storage.googleapis.com (storage.googleapis.com)... 74.125.20.128, 74.125.142.128, 74.125.195.128, ...\n",
            "Connecting to storage.googleapis.com (storage.googleapis.com)|74.125.20.128|:443... connected.\n",
            "HTTP request sent, awaiting response... 200 OK\n",
            "Length: 1625420029 (1.5G) [application/zip]\n",
            "Saving to: ‘101_food_classes_10_percent.zip’\n",
            "\n",
            "101_food_classes_10 100%[===================>]   1.51G   151MB/s    in 8.9s    \n",
            "\n",
            "2021-03-25 21:56:10 (174 MB/s) - ‘101_food_classes_10_percent.zip’ saved [1625420029/1625420029]\n",
            "\n"
          ],
          "name": "stdout"
        }
      ]
    },
    {
      "cell_type": "code",
      "metadata": {
        "colab": {
          "base_uri": "https://localhost:8080/"
        },
        "id": "lYlK--yWb5HC",
        "outputId": "ffdff55a-d904-4d9d-f690-7a1044fc4b6c"
      },
      "source": [
        "# How many images classes are there \n",
        "walk_through_dir('101_food_classes_10_percent')"
      ],
      "execution_count": 6,
      "outputs": [
        {
          "output_type": "stream",
          "text": [
            "There are 2 directories and 0 images in '101_food_classes_10_percent'.\n",
            "There are 101 directories and 0 images in '101_food_classes_10_percent/test'.\n",
            "There are 0 directories and 250 images in '101_food_classes_10_percent/test/risotto'.\n",
            "There are 0 directories and 250 images in '101_food_classes_10_percent/test/beignets'.\n",
            "There are 0 directories and 250 images in '101_food_classes_10_percent/test/onion_rings'.\n",
            "There are 0 directories and 250 images in '101_food_classes_10_percent/test/cup_cakes'.\n",
            "There are 0 directories and 250 images in '101_food_classes_10_percent/test/croque_madame'.\n",
            "There are 0 directories and 250 images in '101_food_classes_10_percent/test/omelette'.\n",
            "There are 0 directories and 250 images in '101_food_classes_10_percent/test/sashimi'.\n",
            "There are 0 directories and 250 images in '101_food_classes_10_percent/test/takoyaki'.\n",
            "There are 0 directories and 250 images in '101_food_classes_10_percent/test/ice_cream'.\n",
            "There are 0 directories and 250 images in '101_food_classes_10_percent/test/frozen_yogurt'.\n",
            "There are 0 directories and 250 images in '101_food_classes_10_percent/test/macarons'.\n",
            "There are 0 directories and 250 images in '101_food_classes_10_percent/test/hamburger'.\n",
            "There are 0 directories and 250 images in '101_food_classes_10_percent/test/bibimbap'.\n",
            "There are 0 directories and 250 images in '101_food_classes_10_percent/test/clam_chowder'.\n",
            "There are 0 directories and 250 images in '101_food_classes_10_percent/test/crab_cakes'.\n",
            "There are 0 directories and 250 images in '101_food_classes_10_percent/test/paella'.\n",
            "There are 0 directories and 250 images in '101_food_classes_10_percent/test/escargots'.\n",
            "There are 0 directories and 250 images in '101_food_classes_10_percent/test/caesar_salad'.\n",
            "There are 0 directories and 250 images in '101_food_classes_10_percent/test/lasagna'.\n",
            "There are 0 directories and 250 images in '101_food_classes_10_percent/test/samosa'.\n",
            "There are 0 directories and 250 images in '101_food_classes_10_percent/test/fish_and_chips'.\n",
            "There are 0 directories and 250 images in '101_food_classes_10_percent/test/creme_brulee'.\n",
            "There are 0 directories and 250 images in '101_food_classes_10_percent/test/french_toast'.\n",
            "There are 0 directories and 250 images in '101_food_classes_10_percent/test/pad_thai'.\n",
            "There are 0 directories and 250 images in '101_food_classes_10_percent/test/beet_salad'.\n",
            "There are 0 directories and 250 images in '101_food_classes_10_percent/test/french_onion_soup'.\n",
            "There are 0 directories and 250 images in '101_food_classes_10_percent/test/nachos'.\n",
            "There are 0 directories and 250 images in '101_food_classes_10_percent/test/edamame'.\n",
            "There are 0 directories and 250 images in '101_food_classes_10_percent/test/eggs_benedict'.\n",
            "There are 0 directories and 250 images in '101_food_classes_10_percent/test/gnocchi'.\n",
            "There are 0 directories and 250 images in '101_food_classes_10_percent/test/grilled_cheese_sandwich'.\n",
            "There are 0 directories and 250 images in '101_food_classes_10_percent/test/prime_rib'.\n",
            "There are 0 directories and 250 images in '101_food_classes_10_percent/test/ramen'.\n",
            "There are 0 directories and 250 images in '101_food_classes_10_percent/test/chocolate_mousse'.\n",
            "There are 0 directories and 250 images in '101_food_classes_10_percent/test/waffles'.\n",
            "There are 0 directories and 250 images in '101_food_classes_10_percent/test/dumplings'.\n",
            "There are 0 directories and 250 images in '101_food_classes_10_percent/test/french_fries'.\n",
            "There are 0 directories and 250 images in '101_food_classes_10_percent/test/bread_pudding'.\n",
            "There are 0 directories and 250 images in '101_food_classes_10_percent/test/steak'.\n",
            "There are 0 directories and 250 images in '101_food_classes_10_percent/test/cheesecake'.\n",
            "There are 0 directories and 250 images in '101_food_classes_10_percent/test/club_sandwich'.\n",
            "There are 0 directories and 250 images in '101_food_classes_10_percent/test/ravioli'.\n",
            "There are 0 directories and 250 images in '101_food_classes_10_percent/test/pizza'.\n",
            "There are 0 directories and 250 images in '101_food_classes_10_percent/test/red_velvet_cake'.\n",
            "There are 0 directories and 250 images in '101_food_classes_10_percent/test/lobster_bisque'.\n",
            "There are 0 directories and 250 images in '101_food_classes_10_percent/test/garlic_bread'.\n",
            "There are 0 directories and 250 images in '101_food_classes_10_percent/test/beef_tartare'.\n",
            "There are 0 directories and 250 images in '101_food_classes_10_percent/test/grilled_salmon'.\n",
            "There are 0 directories and 250 images in '101_food_classes_10_percent/test/greek_salad'.\n",
            "There are 0 directories and 250 images in '101_food_classes_10_percent/test/oysters'.\n",
            "There are 0 directories and 250 images in '101_food_classes_10_percent/test/guacamole'.\n",
            "There are 0 directories and 250 images in '101_food_classes_10_percent/test/chocolate_cake'.\n",
            "There are 0 directories and 250 images in '101_food_classes_10_percent/test/cheese_plate'.\n",
            "There are 0 directories and 250 images in '101_food_classes_10_percent/test/shrimp_and_grits'.\n",
            "There are 0 directories and 250 images in '101_food_classes_10_percent/test/pulled_pork_sandwich'.\n",
            "There are 0 directories and 250 images in '101_food_classes_10_percent/test/filet_mignon'.\n",
            "There are 0 directories and 250 images in '101_food_classes_10_percent/test/pho'.\n",
            "There are 0 directories and 250 images in '101_food_classes_10_percent/test/donuts'.\n",
            "There are 0 directories and 250 images in '101_food_classes_10_percent/test/chicken_curry'.\n",
            "There are 0 directories and 250 images in '101_food_classes_10_percent/test/lobster_roll_sandwich'.\n",
            "There are 0 directories and 250 images in '101_food_classes_10_percent/test/fried_rice'.\n",
            "There are 0 directories and 250 images in '101_food_classes_10_percent/test/baklava'.\n",
            "There are 0 directories and 250 images in '101_food_classes_10_percent/test/pork_chop'.\n",
            "There are 0 directories and 250 images in '101_food_classes_10_percent/test/strawberry_shortcake'.\n",
            "There are 0 directories and 250 images in '101_food_classes_10_percent/test/sushi'.\n",
            "There are 0 directories and 250 images in '101_food_classes_10_percent/test/breakfast_burrito'.\n",
            "There are 0 directories and 250 images in '101_food_classes_10_percent/test/peking_duck'.\n",
            "There are 0 directories and 250 images in '101_food_classes_10_percent/test/scallops'.\n",
            "There are 0 directories and 250 images in '101_food_classes_10_percent/test/bruschetta'.\n",
            "There are 0 directories and 250 images in '101_food_classes_10_percent/test/foie_gras'.\n",
            "There are 0 directories and 250 images in '101_food_classes_10_percent/test/gyoza'.\n",
            "There are 0 directories and 250 images in '101_food_classes_10_percent/test/baby_back_ribs'.\n",
            "There are 0 directories and 250 images in '101_food_classes_10_percent/test/tiramisu'.\n",
            "There are 0 directories and 250 images in '101_food_classes_10_percent/test/falafel'.\n",
            "There are 0 directories and 250 images in '101_food_classes_10_percent/test/beef_carpaccio'.\n",
            "There are 0 directories and 250 images in '101_food_classes_10_percent/test/caprese_salad'.\n",
            "There are 0 directories and 250 images in '101_food_classes_10_percent/test/chicken_wings'.\n",
            "There are 0 directories and 250 images in '101_food_classes_10_percent/test/cannoli'.\n",
            "There are 0 directories and 250 images in '101_food_classes_10_percent/test/mussels'.\n",
            "There are 0 directories and 250 images in '101_food_classes_10_percent/test/hot_dog'.\n",
            "There are 0 directories and 250 images in '101_food_classes_10_percent/test/tacos'.\n",
            "There are 0 directories and 250 images in '101_food_classes_10_percent/test/huevos_rancheros'.\n",
            "There are 0 directories and 250 images in '101_food_classes_10_percent/test/chicken_quesadilla'.\n",
            "There are 0 directories and 250 images in '101_food_classes_10_percent/test/pancakes'.\n",
            "There are 0 directories and 250 images in '101_food_classes_10_percent/test/seaweed_salad'.\n",
            "There are 0 directories and 250 images in '101_food_classes_10_percent/test/carrot_cake'.\n",
            "There are 0 directories and 250 images in '101_food_classes_10_percent/test/spaghetti_carbonara'.\n",
            "There are 0 directories and 250 images in '101_food_classes_10_percent/test/macaroni_and_cheese'.\n",
            "There are 0 directories and 250 images in '101_food_classes_10_percent/test/deviled_eggs'.\n",
            "There are 0 directories and 250 images in '101_food_classes_10_percent/test/churros'.\n",
            "There are 0 directories and 250 images in '101_food_classes_10_percent/test/hummus'.\n",
            "There are 0 directories and 250 images in '101_food_classes_10_percent/test/hot_and_sour_soup'.\n",
            "There are 0 directories and 250 images in '101_food_classes_10_percent/test/spaghetti_bolognese'.\n",
            "There are 0 directories and 250 images in '101_food_classes_10_percent/test/tuna_tartare'.\n",
            "There are 0 directories and 250 images in '101_food_classes_10_percent/test/ceviche'.\n",
            "There are 0 directories and 250 images in '101_food_classes_10_percent/test/spring_rolls'.\n",
            "There are 0 directories and 250 images in '101_food_classes_10_percent/test/poutine'.\n",
            "There are 0 directories and 250 images in '101_food_classes_10_percent/test/miso_soup'.\n",
            "There are 0 directories and 250 images in '101_food_classes_10_percent/test/apple_pie'.\n",
            "There are 0 directories and 250 images in '101_food_classes_10_percent/test/fried_calamari'.\n",
            "There are 0 directories and 250 images in '101_food_classes_10_percent/test/panna_cotta'.\n",
            "There are 101 directories and 0 images in '101_food_classes_10_percent/train'.\n",
            "There are 0 directories and 75 images in '101_food_classes_10_percent/train/risotto'.\n",
            "There are 0 directories and 75 images in '101_food_classes_10_percent/train/beignets'.\n",
            "There are 0 directories and 75 images in '101_food_classes_10_percent/train/onion_rings'.\n",
            "There are 0 directories and 75 images in '101_food_classes_10_percent/train/cup_cakes'.\n",
            "There are 0 directories and 75 images in '101_food_classes_10_percent/train/croque_madame'.\n",
            "There are 0 directories and 75 images in '101_food_classes_10_percent/train/omelette'.\n",
            "There are 0 directories and 75 images in '101_food_classes_10_percent/train/sashimi'.\n",
            "There are 0 directories and 75 images in '101_food_classes_10_percent/train/takoyaki'.\n",
            "There are 0 directories and 75 images in '101_food_classes_10_percent/train/ice_cream'.\n",
            "There are 0 directories and 75 images in '101_food_classes_10_percent/train/frozen_yogurt'.\n",
            "There are 0 directories and 75 images in '101_food_classes_10_percent/train/macarons'.\n",
            "There are 0 directories and 75 images in '101_food_classes_10_percent/train/hamburger'.\n",
            "There are 0 directories and 75 images in '101_food_classes_10_percent/train/bibimbap'.\n",
            "There are 0 directories and 75 images in '101_food_classes_10_percent/train/clam_chowder'.\n",
            "There are 0 directories and 75 images in '101_food_classes_10_percent/train/crab_cakes'.\n",
            "There are 0 directories and 75 images in '101_food_classes_10_percent/train/paella'.\n",
            "There are 0 directories and 75 images in '101_food_classes_10_percent/train/escargots'.\n",
            "There are 0 directories and 75 images in '101_food_classes_10_percent/train/caesar_salad'.\n",
            "There are 0 directories and 75 images in '101_food_classes_10_percent/train/lasagna'.\n",
            "There are 0 directories and 75 images in '101_food_classes_10_percent/train/samosa'.\n",
            "There are 0 directories and 75 images in '101_food_classes_10_percent/train/fish_and_chips'.\n",
            "There are 0 directories and 75 images in '101_food_classes_10_percent/train/creme_brulee'.\n",
            "There are 0 directories and 75 images in '101_food_classes_10_percent/train/french_toast'.\n",
            "There are 0 directories and 75 images in '101_food_classes_10_percent/train/pad_thai'.\n",
            "There are 0 directories and 75 images in '101_food_classes_10_percent/train/beet_salad'.\n",
            "There are 0 directories and 75 images in '101_food_classes_10_percent/train/french_onion_soup'.\n",
            "There are 0 directories and 75 images in '101_food_classes_10_percent/train/nachos'.\n",
            "There are 0 directories and 75 images in '101_food_classes_10_percent/train/edamame'.\n",
            "There are 0 directories and 75 images in '101_food_classes_10_percent/train/eggs_benedict'.\n",
            "There are 0 directories and 75 images in '101_food_classes_10_percent/train/gnocchi'.\n",
            "There are 0 directories and 75 images in '101_food_classes_10_percent/train/grilled_cheese_sandwich'.\n",
            "There are 0 directories and 75 images in '101_food_classes_10_percent/train/prime_rib'.\n",
            "There are 0 directories and 75 images in '101_food_classes_10_percent/train/ramen'.\n",
            "There are 0 directories and 75 images in '101_food_classes_10_percent/train/chocolate_mousse'.\n",
            "There are 0 directories and 75 images in '101_food_classes_10_percent/train/waffles'.\n",
            "There are 0 directories and 75 images in '101_food_classes_10_percent/train/dumplings'.\n",
            "There are 0 directories and 75 images in '101_food_classes_10_percent/train/french_fries'.\n",
            "There are 0 directories and 75 images in '101_food_classes_10_percent/train/bread_pudding'.\n",
            "There are 0 directories and 75 images in '101_food_classes_10_percent/train/steak'.\n",
            "There are 0 directories and 75 images in '101_food_classes_10_percent/train/cheesecake'.\n",
            "There are 0 directories and 75 images in '101_food_classes_10_percent/train/club_sandwich'.\n",
            "There are 0 directories and 75 images in '101_food_classes_10_percent/train/ravioli'.\n",
            "There are 0 directories and 75 images in '101_food_classes_10_percent/train/pizza'.\n",
            "There are 0 directories and 75 images in '101_food_classes_10_percent/train/red_velvet_cake'.\n",
            "There are 0 directories and 75 images in '101_food_classes_10_percent/train/lobster_bisque'.\n",
            "There are 0 directories and 75 images in '101_food_classes_10_percent/train/garlic_bread'.\n",
            "There are 0 directories and 75 images in '101_food_classes_10_percent/train/beef_tartare'.\n",
            "There are 0 directories and 75 images in '101_food_classes_10_percent/train/grilled_salmon'.\n",
            "There are 0 directories and 75 images in '101_food_classes_10_percent/train/greek_salad'.\n",
            "There are 0 directories and 75 images in '101_food_classes_10_percent/train/oysters'.\n",
            "There are 0 directories and 75 images in '101_food_classes_10_percent/train/guacamole'.\n",
            "There are 0 directories and 75 images in '101_food_classes_10_percent/train/chocolate_cake'.\n",
            "There are 0 directories and 75 images in '101_food_classes_10_percent/train/cheese_plate'.\n",
            "There are 0 directories and 75 images in '101_food_classes_10_percent/train/shrimp_and_grits'.\n",
            "There are 0 directories and 75 images in '101_food_classes_10_percent/train/pulled_pork_sandwich'.\n",
            "There are 0 directories and 75 images in '101_food_classes_10_percent/train/filet_mignon'.\n",
            "There are 0 directories and 75 images in '101_food_classes_10_percent/train/pho'.\n",
            "There are 0 directories and 75 images in '101_food_classes_10_percent/train/donuts'.\n",
            "There are 0 directories and 75 images in '101_food_classes_10_percent/train/chicken_curry'.\n",
            "There are 0 directories and 75 images in '101_food_classes_10_percent/train/lobster_roll_sandwich'.\n",
            "There are 0 directories and 75 images in '101_food_classes_10_percent/train/fried_rice'.\n",
            "There are 0 directories and 75 images in '101_food_classes_10_percent/train/baklava'.\n",
            "There are 0 directories and 75 images in '101_food_classes_10_percent/train/pork_chop'.\n",
            "There are 0 directories and 75 images in '101_food_classes_10_percent/train/strawberry_shortcake'.\n",
            "There are 0 directories and 75 images in '101_food_classes_10_percent/train/sushi'.\n",
            "There are 0 directories and 75 images in '101_food_classes_10_percent/train/breakfast_burrito'.\n",
            "There are 0 directories and 75 images in '101_food_classes_10_percent/train/peking_duck'.\n",
            "There are 0 directories and 75 images in '101_food_classes_10_percent/train/scallops'.\n",
            "There are 0 directories and 75 images in '101_food_classes_10_percent/train/bruschetta'.\n",
            "There are 0 directories and 75 images in '101_food_classes_10_percent/train/foie_gras'.\n",
            "There are 0 directories and 75 images in '101_food_classes_10_percent/train/gyoza'.\n",
            "There are 0 directories and 75 images in '101_food_classes_10_percent/train/baby_back_ribs'.\n",
            "There are 0 directories and 75 images in '101_food_classes_10_percent/train/tiramisu'.\n",
            "There are 0 directories and 75 images in '101_food_classes_10_percent/train/falafel'.\n",
            "There are 0 directories and 75 images in '101_food_classes_10_percent/train/beef_carpaccio'.\n",
            "There are 0 directories and 75 images in '101_food_classes_10_percent/train/caprese_salad'.\n",
            "There are 0 directories and 75 images in '101_food_classes_10_percent/train/chicken_wings'.\n",
            "There are 0 directories and 75 images in '101_food_classes_10_percent/train/cannoli'.\n",
            "There are 0 directories and 75 images in '101_food_classes_10_percent/train/mussels'.\n",
            "There are 0 directories and 75 images in '101_food_classes_10_percent/train/hot_dog'.\n",
            "There are 0 directories and 75 images in '101_food_classes_10_percent/train/tacos'.\n",
            "There are 0 directories and 75 images in '101_food_classes_10_percent/train/huevos_rancheros'.\n",
            "There are 0 directories and 75 images in '101_food_classes_10_percent/train/chicken_quesadilla'.\n",
            "There are 0 directories and 75 images in '101_food_classes_10_percent/train/pancakes'.\n",
            "There are 0 directories and 75 images in '101_food_classes_10_percent/train/seaweed_salad'.\n",
            "There are 0 directories and 75 images in '101_food_classes_10_percent/train/carrot_cake'.\n",
            "There are 0 directories and 75 images in '101_food_classes_10_percent/train/spaghetti_carbonara'.\n",
            "There are 0 directories and 75 images in '101_food_classes_10_percent/train/macaroni_and_cheese'.\n",
            "There are 0 directories and 75 images in '101_food_classes_10_percent/train/deviled_eggs'.\n",
            "There are 0 directories and 75 images in '101_food_classes_10_percent/train/churros'.\n",
            "There are 0 directories and 75 images in '101_food_classes_10_percent/train/hummus'.\n",
            "There are 0 directories and 75 images in '101_food_classes_10_percent/train/hot_and_sour_soup'.\n",
            "There are 0 directories and 75 images in '101_food_classes_10_percent/train/spaghetti_bolognese'.\n",
            "There are 0 directories and 75 images in '101_food_classes_10_percent/train/tuna_tartare'.\n",
            "There are 0 directories and 75 images in '101_food_classes_10_percent/train/ceviche'.\n",
            "There are 0 directories and 75 images in '101_food_classes_10_percent/train/spring_rolls'.\n",
            "There are 0 directories and 75 images in '101_food_classes_10_percent/train/poutine'.\n",
            "There are 0 directories and 75 images in '101_food_classes_10_percent/train/miso_soup'.\n",
            "There are 0 directories and 75 images in '101_food_classes_10_percent/train/apple_pie'.\n",
            "There are 0 directories and 75 images in '101_food_classes_10_percent/train/fried_calamari'.\n",
            "There are 0 directories and 75 images in '101_food_classes_10_percent/train/panna_cotta'.\n"
          ],
          "name": "stdout"
        }
      ]
    },
    {
      "cell_type": "code",
      "metadata": {
        "colab": {
          "base_uri": "https://localhost:8080/"
        },
        "id": "rxr_EiYhciPn",
        "outputId": "a5157521-3adc-4697-99ee-fe9eeadc0069"
      },
      "source": [
        "# Setup data inputs \n",
        "import tensorflow as tf\n",
        "IMG_SIZE = (224 , 224)\n",
        "\n",
        "# Loading in the data\n",
        "train_data_all_10_percent = tf.keras.preprocessing.image_dataset_from_directory(train_dir , \n",
        "                                                                                image_size = IMG_SIZE , \n",
        "                                                                                batch_size = 32 , \n",
        "                                                                                label_mode = 'categorical') \n",
        "\n",
        "test_data = tf.keras.preprocessing.image_dataset_from_directory(test_dir , \n",
        "                                                                label_mode = 'categorical' , \n",
        "                                                                image_size = IMG_SIZE, \n",
        "                                                                shuffle = False) # don't shuffle data for prediction analysis"
      ],
      "execution_count": 7,
      "outputs": [
        {
          "output_type": "stream",
          "text": [
            "Found 7575 files belonging to 101 classes.\n",
            "Found 25250 files belonging to 101 classes.\n"
          ],
          "name": "stdout"
        }
      ]
    },
    {
      "cell_type": "code",
      "metadata": {
        "colab": {
          "base_uri": "https://localhost:8080/"
        },
        "id": "vhIwm5hHd8VU",
        "outputId": "b0571b02-d394-4b21-b152-115eed5982d5"
      },
      "source": [
        "print('Hello World')"
      ],
      "execution_count": 8,
      "outputs": [
        {
          "output_type": "stream",
          "text": [
            "Hello World\n"
          ],
          "name": "stdout"
        }
      ]
    },
    {
      "cell_type": "markdown",
      "metadata": {
        "id": "SmJJZ808g3Hd"
      },
      "source": [
        "## Train a big dog model with transfer learning on 10% of 101 food classes\n",
        "\n",
        "Here are the steps we're going to take: \n",
        "- Create a `ModelCheckpoint` callback.\n",
        "- Create **data augmentation layer** to build data augmentation right into the model. \n",
        "- Build a headless (no top layers) Functional EfficientNet B0 backboned-model(we'll create our own output layer). \n",
        "- Compile our model \n",
        "- Feature extract for 5 full passes (5 epochs on the train dataset and validate on 15% of the test data to save epoch time). "
      ]
    },
    {
      "cell_type": "code",
      "metadata": {
        "id": "LeloxYh2ijSs"
      },
      "source": [
        "# Create checkpoint callback \n",
        "checkpoint_path = '101_food_classes_10_percent_data_model_checkpoint'\n",
        "\n",
        "checkpoint_callback = tf.keras.callbacks.ModelCheckpoint(filepath = checkpoint_path , \n",
        "                                                         monitor = 'val_accuracy' ,  # stores higher accuracy\n",
        "                                                         save_weights_only = True )"
      ],
      "execution_count": 9,
      "outputs": []
    },
    {
      "cell_type": "code",
      "metadata": {
        "id": "fTt-vBKkjqEd"
      },
      "source": [
        "# Create data augmentation layer to incorporate it right into the model \n",
        "from tensorflow.keras import layers\n",
        "from tensorflow.keras.layers.experimental import preprocessing\n",
        "from tensorflow.keras import Sequential\n",
        "\n",
        "# Setup data augmentation \n",
        "data_augmentation = Sequential([\n",
        "  preprocessing.RandomFlip('horizontal'),\n",
        "  preprocessing.RandomWidth(0.2), \n",
        "  preprocessing.RandomRotation(0.2), \n",
        "  preprocessing.RandomHeight(0.2) , \n",
        "  preprocessing.RandomZoom(0.2)\n",
        "] , name = 'data_augmentation_layer')\n"
      ],
      "execution_count": 10,
      "outputs": []
    },
    {
      "cell_type": "code",
      "metadata": {
        "colab": {
          "base_uri": "https://localhost:8080/"
        },
        "id": "ZoxEvHZjk85I",
        "outputId": "f1e7140e-87c3-4f39-853f-3e3ba397be69"
      },
      "source": [
        "# Setup the base model and freeze it's layers (this will extract features)\n",
        "base_model = tf.keras.applications.EfficientNetB0(include_top=False) # backboned-model\n",
        "\n",
        "# Freezing the base model (freeze all of the patterns)\n",
        "base_model.trainable = False\n",
        "\n",
        "# Setup model architecture with trainable top layers \n",
        "inputs = layers.Input(shape = (224 , 224, 3) ,name = 'input_layer')\n",
        "x = data_augmentation(inputs) # Augment images only happens during training \n",
        "x = base_model(x , training = False) # puts the base model in inference mode so weights which need to stay frozen, stays frozen\n",
        "x = tf.keras.layers.GlobalAveragePooling2D(name = 'global_average_pool_2D_layer')(x)\n",
        "outputs = tf.keras.layers.Dense(len(train_data_all_10_percent.class_names) , activation='softmax' , name = 'output_layer')(x)\n",
        "\n",
        "# Packing into a model \n",
        "model = tf.keras.Model(inputs , outputs)"
      ],
      "execution_count": 11,
      "outputs": [
        {
          "output_type": "stream",
          "text": [
            "Downloading data from https://storage.googleapis.com/keras-applications/efficientnetb0_notop.h5\n",
            "16711680/16705208 [==============================] - 0s 0us/step\n"
          ],
          "name": "stdout"
        }
      ]
    },
    {
      "cell_type": "code",
      "metadata": {
        "colab": {
          "base_uri": "https://localhost:8080/"
        },
        "id": "bQCgnH91ni9x",
        "outputId": "b9075325-a0a5-4ddc-d40f-597d775f288c"
      },
      "source": [
        "# Checking the summary of the model \n",
        "model.summary()"
      ],
      "execution_count": 12,
      "outputs": [
        {
          "output_type": "stream",
          "text": [
            "Model: \"model\"\n",
            "_________________________________________________________________\n",
            "Layer (type)                 Output Shape              Param #   \n",
            "=================================================================\n",
            "input_layer (InputLayer)     [(None, 224, 224, 3)]     0         \n",
            "_________________________________________________________________\n",
            "data_augmentation_layer (Seq (None, None, None, 3)     0         \n",
            "_________________________________________________________________\n",
            "efficientnetb0 (Functional)  (None, None, None, 1280)  4049571   \n",
            "_________________________________________________________________\n",
            "global_average_pool_2D_layer (None, 1280)              0         \n",
            "_________________________________________________________________\n",
            "output_layer (Dense)         (None, 101)               129381    \n",
            "=================================================================\n",
            "Total params: 4,178,952\n",
            "Trainable params: 129,381\n",
            "Non-trainable params: 4,049,571\n",
            "_________________________________________________________________\n"
          ],
          "name": "stdout"
        }
      ]
    },
    {
      "cell_type": "code",
      "metadata": {
        "id": "kJa6wfhInkOi"
      },
      "source": [
        "# Compile the model \n",
        "model.compile(loss = tf.keras.losses.CategoricalCrossentropy(), \n",
        "              optimizer = tf.keras.optimizers.Adam(), \n",
        "              metrics = ['accuracy'])"
      ],
      "execution_count": 13,
      "outputs": []
    },
    {
      "cell_type": "code",
      "metadata": {
        "colab": {
          "base_uri": "https://localhost:8080/"
        },
        "id": "fb--lACTo60H",
        "outputId": "cf23dc5e-6b9f-499f-9dc8-ae6707cb60bb"
      },
      "source": [
        "# Fitting the model \n",
        "history_all_class_10_percent = model.fit(train_data_all_10_percent , \n",
        "                                         epochs = 5 , \n",
        "                                         validation_data = test_data , \n",
        "                                         validation_steps = int(0.25 * len(test_data)) , \n",
        "                                         callbacks = [checkpoint_callback])"
      ],
      "execution_count": 14,
      "outputs": [
        {
          "output_type": "stream",
          "text": [
            "Epoch 1/5\n",
            "237/237 [==============================] - 139s 432ms/step - loss: 3.9818 - accuracy: 0.1475 - val_loss: 2.7736 - val_accuracy: 0.3507\n",
            "Epoch 2/5\n",
            "237/237 [==============================] - 86s 363ms/step - loss: 2.4114 - accuracy: 0.4574 - val_loss: 2.2730 - val_accuracy: 0.4415\n",
            "Epoch 3/5\n",
            "237/237 [==============================] - 81s 342ms/step - loss: 1.9746 - accuracy: 0.5386 - val_loss: 2.1022 - val_accuracy: 0.4686\n",
            "Epoch 4/5\n",
            "237/237 [==============================] - 76s 318ms/step - loss: 1.7702 - accuracy: 0.5745 - val_loss: 1.9895 - val_accuracy: 0.4838\n",
            "Epoch 5/5\n",
            "237/237 [==============================] - 75s 316ms/step - loss: 1.6019 - accuracy: 0.6099 - val_loss: 1.9726 - val_accuracy: 0.4775\n"
          ],
          "name": "stdout"
        }
      ]
    },
    {
      "cell_type": "code",
      "metadata": {
        "colab": {
          "base_uri": "https://localhost:8080/"
        },
        "id": "oLCjh8LQpk-H",
        "outputId": "59ad6d1c-b69e-4efe-a73b-381d25804dc2"
      },
      "source": [
        "# Let's evaluate on the whole test data \n",
        "feature_extraction_results = model.evaluate(test_data)"
      ],
      "execution_count": 15,
      "outputs": [
        {
          "output_type": "stream",
          "text": [
            "790/790 [==============================] - 100s 127ms/step - loss: 1.7039 - accuracy: 0.5575\n"
          ],
          "name": "stdout"
        }
      ]
    },
    {
      "cell_type": "markdown",
      "metadata": {
        "id": "R6VUVe-Frp6n"
      },
      "source": [
        "After we evaluated our model on the whole test set, we got a accuracy of **`55%`** and we beat the paper!!! "
      ]
    },
    {
      "cell_type": "code",
      "metadata": {
        "colab": {
          "base_uri": "https://localhost:8080/",
          "height": 573
        },
        "id": "Lp8o21mas2s4",
        "outputId": "4b4eaadb-b56a-447a-cd36-747645c54155"
      },
      "source": [
        "# Let's watch the loss curves \n",
        "plot_loss_curves(history_all_class_10_percent)"
      ],
      "execution_count": 16,
      "outputs": [
        {
          "output_type": "display_data",
          "data": {
            "image/png": "[encoded data removed]",
            "text/plain": [
              "<Figure size 432x288 with 1 Axes>"
            ]
          },
          "metadata": {
            "tags": [],
            "needs_background": "light"
          }
        },
        {
          "output_type": "display_data",
          "data": {
            "image/png": "[encoded data removed]",
            "text/plain": [
              "<Figure size 432x288 with 1 Axes>"
            ]
          },
          "metadata": {
            "tags": [],
            "needs_background": "light"
          }
        }
      ]
    },
    {
      "cell_type": "markdown",
      "metadata": {
        "id": "kseninhss9wX"
      },
      "source": [
        "> **Question** What do these curves suggest? \n",
        "Ideally, the two curves should be similar to each other if not.. Overfitting!\n",
        "\n",
        "They should be close to eachother, it seems if we are gonna train for more epochs our results might get worse as we train for more epochs. "
      ]
    },
    {
      "cell_type": "markdown",
      "metadata": {
        "id": "5QTB4CkBtQsq"
      },
      "source": [
        "## Fine-tuning "
      ]
    },
    {
      "cell_type": "code",
      "metadata": {
        "id": "urWxH59XxhAq"
      },
      "source": [
        "# Unfreeze all of the layers in the base model\n",
        "base_model.trainable = True \n",
        "\n",
        "# Refreeze every layer except the last 5 \n",
        "for layer in base_model.layers[:-5]:\n",
        "  layer.trainable = False"
      ],
      "execution_count": 17,
      "outputs": []
    },
    {
      "cell_type": "code",
      "metadata": {
        "id": "e0UzCcK8yDAN"
      },
      "source": [
        "# Compile the model (it's best practice to lower the learning rate when fine-tuning)\n",
        "model.compile(loss = tf.keras.losses.CategoricalCrossentropy(), \n",
        "              optimizer = tf.keras.optimizers.Adam(lr = 0.0001) , # learning rate lowered\n",
        "              metrics = ['accuracy'])"
      ],
      "execution_count": 18,
      "outputs": []
    },
    {
      "cell_type": "code",
      "metadata": {
        "colab": {
          "base_uri": "https://localhost:8080/"
        },
        "id": "uozAJy46zDZ4",
        "outputId": "491944f2-71c3-4308-deba-a3059bace3d8"
      },
      "source": [
        "# What layers in the model are trainable \n",
        "for layer in model.layers:\n",
        "  print(layer.name , layer.trainable)"
      ],
      "execution_count": 19,
      "outputs": [
        {
          "output_type": "stream",
          "text": [
            "input_layer True\n",
            "data_augmentation_layer True\n",
            "efficientnetb0 True\n",
            "global_average_pool_2D_layer True\n",
            "output_layer True\n"
          ],
          "name": "stdout"
        }
      ]
    },
    {
      "cell_type": "code",
      "metadata": {
        "colab": {
          "base_uri": "https://localhost:8080/"
        },
        "id": "Ge-NITupzPZR",
        "outputId": "94bc1c3c-c7ee-4f14-f7ff-ca3d4ca2b8f9"
      },
      "source": [
        "# Check which layers are trainable in our base_model \n",
        "for layer_number , layer in enumerate(base_model.layers):\n",
        "  print(layer_number , layer.name , layer.trainable)"
      ],
      "execution_count": 20,
      "outputs": [
        {
          "output_type": "stream",
          "text": [
            "0 input_1 False\n",
            "1 rescaling False\n",
            "2 normalization False\n",
            "3 stem_conv_pad False\n",
            "4 stem_conv False\n",
            "5 stem_bn False\n",
            "6 stem_activation False\n",
            "7 block1a_dwconv False\n",
            "8 block1a_bn False\n",
            "9 block1a_activation False\n",
            "10 block1a_se_squeeze False\n",
            "11 block1a_se_reshape False\n",
            "12 block1a_se_reduce False\n",
            "13 block1a_se_expand False\n",
            "14 block1a_se_excite False\n",
            "15 block1a_project_conv False\n",
            "16 block1a_project_bn False\n",
            "17 block2a_expand_conv False\n",
            "18 block2a_expand_bn False\n",
            "19 block2a_expand_activation False\n",
            "20 block2a_dwconv_pad False\n",
            "21 block2a_dwconv False\n",
            "22 block2a_bn False\n",
            "23 block2a_activation False\n",
            "24 block2a_se_squeeze False\n",
            "25 block2a_se_reshape False\n",
            "26 block2a_se_reduce False\n",
            "27 block2a_se_expand False\n",
            "28 block2a_se_excite False\n",
            "29 block2a_project_conv False\n",
            "30 block2a_project_bn False\n",
            "31 block2b_expand_conv False\n",
            "32 block2b_expand_bn False\n",
            "33 block2b_expand_activation False\n",
            "34 block2b_dwconv False\n",
            "35 block2b_bn False\n",
            "36 block2b_activation False\n",
            "37 block2b_se_squeeze False\n",
            "38 block2b_se_reshape False\n",
            "39 block2b_se_reduce False\n",
            "40 block2b_se_expand False\n",
            "41 block2b_se_excite False\n",
            "42 block2b_project_conv False\n",
            "43 block2b_project_bn False\n",
            "44 block2b_drop False\n",
            "45 block2b_add False\n",
            "46 block3a_expand_conv False\n",
            "47 block3a_expand_bn False\n",
            "48 block3a_expand_activation False\n",
            "49 block3a_dwconv_pad False\n",
            "50 block3a_dwconv False\n",
            "51 block3a_bn False\n",
            "52 block3a_activation False\n",
            "53 block3a_se_squeeze False\n",
            "54 block3a_se_reshape False\n",
            "55 block3a_se_reduce False\n",
            "56 block3a_se_expand False\n",
            "57 block3a_se_excite False\n",
            "58 block3a_project_conv False\n",
            "59 block3a_project_bn False\n",
            "60 block3b_expand_conv False\n",
            "61 block3b_expand_bn False\n",
            "62 block3b_expand_activation False\n",
            "63 block3b_dwconv False\n",
            "64 block3b_bn False\n",
            "65 block3b_activation False\n",
            "66 block3b_se_squeeze False\n",
            "67 block3b_se_reshape False\n",
            "68 block3b_se_reduce False\n",
            "69 block3b_se_expand False\n",
            "70 block3b_se_excite False\n",
            "71 block3b_project_conv False\n",
            "72 block3b_project_bn False\n",
            "73 block3b_drop False\n",
            "74 block3b_add False\n",
            "75 block4a_expand_conv False\n",
            "76 block4a_expand_bn False\n",
            "77 block4a_expand_activation False\n",
            "78 block4a_dwconv_pad False\n",
            "79 block4a_dwconv False\n",
            "80 block4a_bn False\n",
            "81 block4a_activation False\n",
            "82 block4a_se_squeeze False\n",
            "83 block4a_se_reshape False\n",
            "84 block4a_se_reduce False\n",
            "85 block4a_se_expand False\n",
            "86 block4a_se_excite False\n",
            "87 block4a_project_conv False\n",
            "88 block4a_project_bn False\n",
            "89 block4b_expand_conv False\n",
            "90 block4b_expand_bn False\n",
            "91 block4b_expand_activation False\n",
            "92 block4b_dwconv False\n",
            "93 block4b_bn False\n",
            "94 block4b_activation False\n",
            "95 block4b_se_squeeze False\n",
            "96 block4b_se_reshape False\n",
            "97 block4b_se_reduce False\n",
            "98 block4b_se_expand False\n",
            "99 block4b_se_excite False\n",
            "100 block4b_project_conv False\n",
            "101 block4b_project_bn False\n",
            "102 block4b_drop False\n",
            "103 block4b_add False\n",
            "104 block4c_expand_conv False\n",
            "105 block4c_expand_bn False\n",
            "106 block4c_expand_activation False\n",
            "107 block4c_dwconv False\n",
            "108 block4c_bn False\n",
            "109 block4c_activation False\n",
            "110 block4c_se_squeeze False\n",
            "111 block4c_se_reshape False\n",
            "112 block4c_se_reduce False\n",
            "113 block4c_se_expand False\n",
            "114 block4c_se_excite False\n",
            "115 block4c_project_conv False\n",
            "116 block4c_project_bn False\n",
            "117 block4c_drop False\n",
            "118 block4c_add False\n",
            "119 block5a_expand_conv False\n",
            "120 block5a_expand_bn False\n",
            "121 block5a_expand_activation False\n",
            "122 block5a_dwconv False\n",
            "123 block5a_bn False\n",
            "124 block5a_activation False\n",
            "125 block5a_se_squeeze False\n",
            "126 block5a_se_reshape False\n",
            "127 block5a_se_reduce False\n",
            "128 block5a_se_expand False\n",
            "129 block5a_se_excite False\n",
            "130 block5a_project_conv False\n",
            "131 block5a_project_bn False\n",
            "132 block5b_expand_conv False\n",
            "133 block5b_expand_bn False\n",
            "134 block5b_expand_activation False\n",
            "135 block5b_dwconv False\n",
            "136 block5b_bn False\n",
            "137 block5b_activation False\n",
            "138 block5b_se_squeeze False\n",
            "139 block5b_se_reshape False\n",
            "140 block5b_se_reduce False\n",
            "141 block5b_se_expand False\n",
            "142 block5b_se_excite False\n",
            "143 block5b_project_conv False\n",
            "144 block5b_project_bn False\n",
            "145 block5b_drop False\n",
            "146 block5b_add False\n",
            "147 block5c_expand_conv False\n",
            "148 block5c_expand_bn False\n",
            "149 block5c_expand_activation False\n",
            "150 block5c_dwconv False\n",
            "151 block5c_bn False\n",
            "152 block5c_activation False\n",
            "153 block5c_se_squeeze False\n",
            "154 block5c_se_reshape False\n",
            "155 block5c_se_reduce False\n",
            "156 block5c_se_expand False\n",
            "157 block5c_se_excite False\n",
            "158 block5c_project_conv False\n",
            "159 block5c_project_bn False\n",
            "160 block5c_drop False\n",
            "161 block5c_add False\n",
            "162 block6a_expand_conv False\n",
            "163 block6a_expand_bn False\n",
            "164 block6a_expand_activation False\n",
            "165 block6a_dwconv_pad False\n",
            "166 block6a_dwconv False\n",
            "167 block6a_bn False\n",
            "168 block6a_activation False\n",
            "169 block6a_se_squeeze False\n",
            "170 block6a_se_reshape False\n",
            "171 block6a_se_reduce False\n",
            "172 block6a_se_expand False\n",
            "173 block6a_se_excite False\n",
            "174 block6a_project_conv False\n",
            "175 block6a_project_bn False\n",
            "176 block6b_expand_conv False\n",
            "177 block6b_expand_bn False\n",
            "178 block6b_expand_activation False\n",
            "179 block6b_dwconv False\n",
            "180 block6b_bn False\n",
            "181 block6b_activation False\n",
            "182 block6b_se_squeeze False\n",
            "183 block6b_se_reshape False\n",
            "184 block6b_se_reduce False\n",
            "185 block6b_se_expand False\n",
            "186 block6b_se_excite False\n",
            "187 block6b_project_conv False\n",
            "188 block6b_project_bn False\n",
            "189 block6b_drop False\n",
            "190 block6b_add False\n",
            "191 block6c_expand_conv False\n",
            "192 block6c_expand_bn False\n",
            "193 block6c_expand_activation False\n",
            "194 block6c_dwconv False\n",
            "195 block6c_bn False\n",
            "196 block6c_activation False\n",
            "197 block6c_se_squeeze False\n",
            "198 block6c_se_reshape False\n",
            "199 block6c_se_reduce False\n",
            "200 block6c_se_expand False\n",
            "201 block6c_se_excite False\n",
            "202 block6c_project_conv False\n",
            "203 block6c_project_bn False\n",
            "204 block6c_drop False\n",
            "205 block6c_add False\n",
            "206 block6d_expand_conv False\n",
            "207 block6d_expand_bn False\n",
            "208 block6d_expand_activation False\n",
            "209 block6d_dwconv False\n",
            "210 block6d_bn False\n",
            "211 block6d_activation False\n",
            "212 block6d_se_squeeze False\n",
            "213 block6d_se_reshape False\n",
            "214 block6d_se_reduce False\n",
            "215 block6d_se_expand False\n",
            "216 block6d_se_excite False\n",
            "217 block6d_project_conv False\n",
            "218 block6d_project_bn False\n",
            "219 block6d_drop False\n",
            "220 block6d_add False\n",
            "221 block7a_expand_conv False\n",
            "222 block7a_expand_bn False\n",
            "223 block7a_expand_activation False\n",
            "224 block7a_dwconv False\n",
            "225 block7a_bn False\n",
            "226 block7a_activation False\n",
            "227 block7a_se_squeeze False\n",
            "228 block7a_se_reshape False\n",
            "229 block7a_se_reduce False\n",
            "230 block7a_se_expand False\n",
            "231 block7a_se_excite False\n",
            "232 block7a_project_conv True\n",
            "233 block7a_project_bn True\n",
            "234 top_conv True\n",
            "235 top_bn True\n",
            "236 top_activation True\n"
          ],
          "name": "stdout"
        }
      ]
    },
    {
      "cell_type": "code",
      "metadata": {
        "colab": {
          "base_uri": "https://localhost:8080/"
        },
        "id": "BTcmydtYz3WW",
        "outputId": "c462adac-2f7b-42f1-df74-cce4ef4509f9"
      },
      "source": [
        "# Fitting our model and fine_tuning it\n",
        "initial_epochs = 5 \n",
        "fine_tune_epochs = initial_epochs + 5\n",
        "history_all_classes_fine_tune_10_percent = model.fit(train_data_all_10_percent , \n",
        "                                                     epochs = fine_tune_epochs , \n",
        "                                                     validation_data = test_data , \n",
        "                                                     validation_steps = int(0.15 * len(test_data)) , \n",
        "                                                     initial_epoch = history_all_class_10_percent.epoch[-1] )"
      ],
      "execution_count": 21,
      "outputs": [
        {
          "output_type": "stream",
          "text": [
            "Epoch 5/10\n",
            "237/237 [==============================] - 70s 275ms/step - loss: 1.4092 - accuracy: 0.6481 - val_loss: 1.9302 - val_accuracy: 0.5005\n",
            "Epoch 6/10\n",
            "237/237 [==============================] - 60s 252ms/step - loss: 1.2471 - accuracy: 0.6771 - val_loss: 1.9187 - val_accuracy: 0.4997\n",
            "Epoch 7/10\n",
            "237/237 [==============================] - 59s 247ms/step - loss: 1.1661 - accuracy: 0.6913 - val_loss: 1.8892 - val_accuracy: 0.5082\n",
            "Epoch 8/10\n",
            "237/237 [==============================] - 58s 243ms/step - loss: 1.1044 - accuracy: 0.7081 - val_loss: 1.8863 - val_accuracy: 0.5114\n",
            "Epoch 9/10\n",
            "237/237 [==============================] - 58s 243ms/step - loss: 1.0305 - accuracy: 0.7278 - val_loss: 1.9257 - val_accuracy: 0.5016\n",
            "Epoch 10/10\n",
            "237/237 [==============================] - 57s 240ms/step - loss: 0.9833 - accuracy: 0.7387 - val_loss: 1.9001 - val_accuracy: 0.5066\n"
          ],
          "name": "stdout"
        }
      ]
    },
    {
      "cell_type": "code",
      "metadata": {
        "colab": {
          "base_uri": "https://localhost:8080/"
        },
        "id": "LGwu7CI61jxl",
        "outputId": "d6876ade-0f13-46a4-db2e-717f303a49ee"
      },
      "source": [
        "history_all_class_10_percent.epoch[-1]"
      ],
      "execution_count": 22,
      "outputs": [
        {
          "output_type": "execute_result",
          "data": {
            "text/plain": [
              "4"
            ]
          },
          "metadata": {
            "tags": []
          },
          "execution_count": 22
        }
      ]
    },
    {
      "cell_type": "code",
      "metadata": {
        "colab": {
          "base_uri": "https://localhost:8080/"
        },
        "id": "UvJKMFCJ1kNm",
        "outputId": "2b2916d9-765e-43e3-e703-4b44049d6369"
      },
      "source": [
        "# Evaluate on the whole test data \n",
        "all_classes_10_percent_fine_tune_results = model.evaluate(test_data)"
      ],
      "execution_count": 23,
      "outputs": [
        {
          "output_type": "stream",
          "text": [
            "790/790 [==============================] - 99s 126ms/step - loss: 1.5985 - accuracy: 0.5806\n"
          ],
          "name": "stdout"
        }
      ]
    },
    {
      "cell_type": "code",
      "metadata": {
        "colab": {
          "base_uri": "https://localhost:8080/"
        },
        "id": "g0wVbgsg3WmH",
        "outputId": "60a8d3bf-6a53-4d36-c119-145d2b2c1cab"
      },
      "source": [
        "# Results for feature extraction \n",
        "feature_extraction_results"
      ],
      "execution_count": 24,
      "outputs": [
        {
          "output_type": "execute_result",
          "data": {
            "text/plain": [
              "[1.7039433717727661, 0.5575049519538879]"
            ]
          },
          "metadata": {
            "tags": []
          },
          "execution_count": 24
        }
      ]
    },
    {
      "cell_type": "markdown",
      "metadata": {
        "id": "lwsXFZM63voG"
      },
      "source": [
        "Hmm, there isn't a much difference. After fine-tuning the accuracy increased only by 2%. "
      ]
    },
    {
      "cell_type": "code",
      "metadata": {
        "colab": {
          "base_uri": "https://localhost:8080/",
          "height": 513
        },
        "id": "WAPVnsEy35Jd",
        "outputId": "bee35ce0-7bfd-40a8-c68b-e49cd9c10378"
      },
      "source": [
        "# Compare the historys of feature extraction model with fine-tuning model \n",
        "compare_historys(history_all_class_10_percent , \n",
        "                 history_all_classes_fine_tune_10_percent , \n",
        "                 initial_epochs = 5)"
      ],
      "execution_count": 26,
      "outputs": [
        {
          "output_type": "display_data",
          "data": {
            "image/png": "[encoded data removed]",
            "text/plain": [
              "<Figure size 576x576 with 2 Axes>"
            ]
          },
          "metadata": {
            "tags": [],
            "needs_background": "light"
          }
        }
      ]
    },
    {
      "cell_type": "markdown",
      "metadata": {
        "id": "Krvoiq-24TbJ"
      },
      "source": [
        "Observing the plot, it seems our model is overfitting on the training data. "
      ]
    },
    {
      "cell_type": "markdown",
      "metadata": {
        "id": "tzQwRW4l4i4b"
      },
      "source": [
        "## Improving the model \n",
        "In here I will give my best to try and improve the model. Let's see how it goes...\n",
        "\n",
        "The following experiments will be: \n",
        "- `model_exp_1` --> With fewer data augmentation layers (0-3), run for more epochs and see how it turns out. \n",
        "- `model_exp_2` --> Same fewer layers but tweak the values in that , run for more epochs. \n",
        "- `model_exp_3` --> Add more data augmentation layers with default values, run for 5 epochs. \n",
        "- `model_exp_4` --> Add more data augmentation layers with default values, run for more epochs. \n",
        "- `model_exp_5` --> Fewer data augmentation layer with tweaking values, run for more epochs. \n",
        "\n",
        "Will work with `interpolation = 'nearest'` for two experiments if the results aren't good will change it back to `bilinear`"
      ]
    },
    {
      "cell_type": "code",
      "metadata": {
        "id": "avwq6INYs6s0"
      },
      "source": [
        "# Creating a callback for our experimentation \n",
        "checkpoint_path_exp = '101_food_classes_improving_model'\n",
        "\n",
        "checkpoint_callback_exp = tf.keras.callbacks.ModelCheckpoint(filepath = checkpoint_path_exp , \n",
        "                                                             save_weights_only = True , \n",
        "                                                             save_best_only = False , \n",
        "                                                             save_freq = 'epoch' , \n",
        "                                                             verbose = 1 , \n",
        "                                                             monitor ='val_accuracy')"
      ],
      "execution_count": 50,
      "outputs": []
    },
    {
      "cell_type": "code",
      "metadata": {
        "id": "mCbqCKx7hUh7"
      },
      "source": [
        "# Checking what's in our data \n",
        "walk_through_dir('/content/101_food_classes_10_percent')"
      ],
      "execution_count": null,
      "outputs": []
    },
    {
      "cell_type": "code",
      "metadata": {
        "colab": {
          "base_uri": "https://localhost:8080/"
        },
        "id": "CnF_LE5thYAH",
        "outputId": "ac323295-8428-46c6-b4bb-06a0184b7947"
      },
      "source": [
        "# Now let's check what was the previous accuracy we gotta beat\n",
        "print(f'This is the accuracy we gotta beat: {all_classes_10_percent_fine_tune_results[1]:.3%}')"
      ],
      "execution_count": 36,
      "outputs": [
        {
          "output_type": "stream",
          "text": [
            "This is the accuracy we gotta beat: 58.063%\n"
          ],
          "name": "stdout"
        }
      ]
    },
    {
      "cell_type": "code",
      "metadata": {
        "colab": {
          "base_uri": "https://localhost:8080/"
        },
        "id": "uRe_AJxmhx3P",
        "outputId": "5a39f4c4-0299-449d-9d77-9eb13478d41d"
      },
      "source": [
        "# Let's import our data\n",
        "BATCH_SIZE = 32\n",
        "INTERPOLATION = 'nearest'\n",
        "train_data_exp_1 = tf.keras.preprocessing.image_dataset_from_directory(train_dir , \n",
        "                                                                       image_size = IMG_SIZE , \n",
        "                                                                       batch_size = BATCH_SIZE , \n",
        "                                                                       interpolation = INTERPOLATION , \n",
        "                                                                       shuffle = True , \n",
        "                                                                       label_mode = 'categorical')"
      ],
      "execution_count": 37,
      "outputs": [
        {
          "output_type": "stream",
          "text": [
            "Found 7575 files belonging to 101 classes.\n"
          ],
          "name": "stdout"
        }
      ]
    },
    {
      "cell_type": "markdown",
      "metadata": {
        "id": "5xRKOaOgjxzn"
      },
      "source": [
        "We already have test data, only making changes in the **train_data**\n"
      ]
    },
    {
      "cell_type": "markdown",
      "metadata": {
        "id": "P2QNK0DantOG"
      },
      "source": [
        "#### `model_exp_1` With fewer data augmentation layers (0-3), run for more epochs and see how it turns out (EfficientNet B1)"
      ]
    },
    {
      "cell_type": "code",
      "metadata": {
        "id": "TqtSm3kej8fW"
      },
      "source": [
        "# Now let's work on constructing our data augmentation layer \n",
        "# Fewer data augmentation layers\n",
        "data_augmentation_exp_1 = Sequential([\n",
        "  preprocessing.RandomFlip(), # default horiz and vertical\n",
        "  preprocessing.RandomRotation(0.2),\n",
        "  preprocessing.RandomZoom(0.3)\n",
        "])"
      ],
      "execution_count": 101,
      "outputs": []
    },
    {
      "cell_type": "code",
      "metadata": {
        "id": "2J4g4KvBo9pR"
      },
      "source": [
        "# Now contructing a feature extraction model \n",
        "\n",
        "# Input shape \n",
        "inputs = layers.Input(shape=(224 , 224 , 3) , name = 'input_layer')\n",
        "\n",
        "# Creating the base model (back-boned one)\n",
        "base_model = tf.keras.applications.EfficientNetB1(include_top= False)\n",
        "# Freezing all the layers \n",
        "base_model.trainable = False \n",
        "\n",
        "# Adding our data augmentation layer\n",
        "x = data_augmentation_exp_1(inputs) \n",
        "\n",
        "# Now time for our base_model into action \n",
        "x = base_model(x , training = False)\n",
        "\n",
        "# Condensing the tensors out from our base_model \n",
        "x = tf.keras.layers.GlobalAveragePooling2D(name = 'global_average_pooling_2D_layer')(x)\n",
        "\n",
        "# Dense layer with our output classes \n",
        "outputs = layers.Dense(len(train_data_exp_1.class_names) , activation ='softmax',name = 'output_layer')(x)\n",
        "\n",
        "# Wrapping in a model \n",
        "model_exp_1 = tf.keras.Model(inputs , outputs)"
      ],
      "execution_count": 102,
      "outputs": []
    },
    {
      "cell_type": "code",
      "metadata": {
        "colab": {
          "base_uri": "https://localhost:8080/"
        },
        "id": "-pnMmaSupWSd",
        "outputId": "6c451357-d4c8-4397-c38e-6ab28e616e77"
      },
      "source": [
        "# Checking the summary of our model \n",
        "model_exp_1.summary()"
      ],
      "execution_count": 103,
      "outputs": [
        {
          "output_type": "stream",
          "text": [
            "Model: \"model_6\"\n",
            "_________________________________________________________________\n",
            "Layer (type)                 Output Shape              Param #   \n",
            "=================================================================\n",
            "input_layer (InputLayer)     [(None, 224, 224, 3)]     0         \n",
            "_________________________________________________________________\n",
            "sequential_2 (Sequential)    (None, 224, 224, 3)       0         \n",
            "_________________________________________________________________\n",
            "efficientnetb1 (Functional)  (None, None, None, 1280)  6575239   \n",
            "_________________________________________________________________\n",
            "global_average_pooling_2D_la (None, 1280)              0         \n",
            "_________________________________________________________________\n",
            "output_layer (Dense)         (None, 101)               129381    \n",
            "=================================================================\n",
            "Total params: 6,704,620\n",
            "Trainable params: 129,381\n",
            "Non-trainable params: 6,575,239\n",
            "_________________________________________________________________\n"
          ],
          "name": "stdout"
        }
      ]
    },
    {
      "cell_type": "code",
      "metadata": {
        "colab": {
          "base_uri": "https://localhost:8080/"
        },
        "id": "BeEaW0jirAjD",
        "outputId": "549077a9-c016-44ce-ccb4-af6e0ae33440"
      },
      "source": [
        "# Let's compile and fit the extraction model for 5 epochs \n",
        "model_exp_1.compile(loss = tf.keras.losses.CategoricalCrossentropy() , \n",
        "                    optimizer = tf.keras.optimizers.Adam(), \n",
        "                    metrics = ['accuracy'])\n",
        "\n",
        "history_exp_extractor_1 = model_exp_1.fit(train_data_exp_1 , \n",
        "                                          epochs = 5 , \n",
        "                                          validation_data = test_data , \n",
        "                                          validation_steps = int(0.25 * len(test_data)) , \n",
        "                                       callbacks = [checkpoint_callback_exp])"
      ],
      "execution_count": 104,
      "outputs": [
        {
          "output_type": "stream",
          "text": [
            "Epoch 1/5\n",
            "237/237 [==============================] - 78s 301ms/step - loss: 4.1042 - accuracy: 0.1260 - val_loss: 2.7568 - val_accuracy: 0.3867\n",
            "\n",
            "Epoch 00001: saving model to 101_food_classes_improving_model\n",
            "Epoch 2/5\n",
            "237/237 [==============================] - 71s 295ms/step - loss: 2.6202 - accuracy: 0.4122 - val_loss: 2.2860 - val_accuracy: 0.4553\n",
            "\n",
            "Epoch 00002: saving model to 101_food_classes_improving_model\n",
            "Epoch 3/5\n",
            "237/237 [==============================] - 71s 296ms/step - loss: 2.1922 - accuracy: 0.4809 - val_loss: 2.1261 - val_accuracy: 0.4678\n",
            "\n",
            "Epoch 00003: saving model to 101_food_classes_improving_model\n",
            "Epoch 4/5\n",
            "237/237 [==============================] - 71s 295ms/step - loss: 1.9729 - accuracy: 0.5301 - val_loss: 2.0057 - val_accuracy: 0.4835\n",
            "\n",
            "Epoch 00004: saving model to 101_food_classes_improving_model\n",
            "Epoch 5/5\n",
            "237/237 [==============================] - 71s 296ms/step - loss: 1.8394 - accuracy: 0.5476 - val_loss: 1.9603 - val_accuracy: 0.4924\n",
            "\n",
            "Epoch 00005: saving model to 101_food_classes_improving_model\n"
          ],
          "name": "stdout"
        }
      ]
    },
    {
      "cell_type": "code",
      "metadata": {
        "colab": {
          "base_uri": "https://localhost:8080/"
        },
        "id": "V9ucR7JOtuve",
        "outputId": "4261e461-a7f5-4ad5-ab2a-598d047dc8cf"
      },
      "source": [
        "# Check which layers are tuneable in the base model \n",
        "for layer_number , layer in enumerate(model_exp_1.layers):\n",
        "  print(layer_number , layer.name , layer.trainable)"
      ],
      "execution_count": 105,
      "outputs": [
        {
          "output_type": "stream",
          "text": [
            "0 input_layer True\n",
            "1 sequential_2 True\n",
            "2 efficientnetb1 False\n",
            "3 global_average_pooling_2D_layer True\n",
            "4 output_layer True\n"
          ],
          "name": "stdout"
        }
      ]
    },
    {
      "cell_type": "code",
      "metadata": {
        "id": "x7Spr4bYwto_"
      },
      "source": [
        "# Now it's time to unfreeze the last 5 or so layers and fine tune the model \n",
        "\n",
        "# Unfreezing all layer \n",
        "base_model.trainable = True\n",
        "\n",
        "# Re-Freeze all layers except except for the \n",
        "for layer in base_model.layers[:-5]: \n",
        "  layer.trainable = False"
      ],
      "execution_count": 106,
      "outputs": []
    },
    {
      "cell_type": "code",
      "metadata": {
        "id": "TkGGVDdHyLN4"
      },
      "source": [
        "# Making changes by compiling the model \n",
        "model_exp_1.compile(loss = tf.keras.losses.CategoricalCrossentropy() , \n",
        "                    optimizer = tf.keras.optimizers.Adam(lr = 0.0001) , \n",
        "                    metrics = ['accuracy'])"
      ],
      "execution_count": 107,
      "outputs": []
    },
    {
      "cell_type": "code",
      "metadata": {
        "colab": {
          "base_uri": "https://localhost:8080/"
        },
        "id": "nXs9VJjgxaQc",
        "outputId": "31f17653-811f-486a-aa6c-05c2343d37a8"
      },
      "source": [
        "# Now it's again time to check which models are trainable (EfficientNet should be True)\n",
        "for layer in model_exp_1.layers:\n",
        "  print(layer.name , layer.trainable)"
      ],
      "execution_count": 108,
      "outputs": [
        {
          "output_type": "stream",
          "text": [
            "input_layer True\n",
            "sequential_2 True\n",
            "efficientnetb1 True\n",
            "global_average_pooling_2D_layer True\n",
            "output_layer True\n"
          ],
          "name": "stdout"
        }
      ]
    },
    {
      "cell_type": "code",
      "metadata": {
        "colab": {
          "base_uri": "https://localhost:8080/"
        },
        "id": "ztuBG8IJxql1",
        "outputId": "3e768ae3-c9ba-40a2-ece7-08961c554ef6"
      },
      "source": [
        "# Cool! Let's get into our base model and see what layers are exactly trainable \n",
        "for layer_number , layer in enumerate(base_model.layers):\n",
        "  print(layer_number , layer.name , layer.trainable)"
      ],
      "execution_count": 109,
      "outputs": [
        {
          "output_type": "stream",
          "text": [
            "0 input_9 False\n",
            "1 rescaling_8 False\n",
            "2 normalization_8 False\n",
            "3 stem_conv_pad False\n",
            "4 stem_conv False\n",
            "5 stem_bn False\n",
            "6 stem_activation False\n",
            "7 block1a_dwconv False\n",
            "8 block1a_bn False\n",
            "9 block1a_activation False\n",
            "10 block1a_se_squeeze False\n",
            "11 block1a_se_reshape False\n",
            "12 block1a_se_reduce False\n",
            "13 block1a_se_expand False\n",
            "14 block1a_se_excite False\n",
            "15 block1a_project_conv False\n",
            "16 block1a_project_bn False\n",
            "17 block1b_dwconv False\n",
            "18 block1b_bn False\n",
            "19 block1b_activation False\n",
            "20 block1b_se_squeeze False\n",
            "21 block1b_se_reshape False\n",
            "22 block1b_se_reduce False\n",
            "23 block1b_se_expand False\n",
            "24 block1b_se_excite False\n",
            "25 block1b_project_conv False\n",
            "26 block1b_project_bn False\n",
            "27 block1b_drop False\n",
            "28 block1b_add False\n",
            "29 block2a_expand_conv False\n",
            "30 block2a_expand_bn False\n",
            "31 block2a_expand_activation False\n",
            "32 block2a_dwconv_pad False\n",
            "33 block2a_dwconv False\n",
            "34 block2a_bn False\n",
            "35 block2a_activation False\n",
            "36 block2a_se_squeeze False\n",
            "37 block2a_se_reshape False\n",
            "38 block2a_se_reduce False\n",
            "39 block2a_se_expand False\n",
            "40 block2a_se_excite False\n",
            "41 block2a_project_conv False\n",
            "42 block2a_project_bn False\n",
            "43 block2b_expand_conv False\n",
            "44 block2b_expand_bn False\n",
            "45 block2b_expand_activation False\n",
            "46 block2b_dwconv False\n",
            "47 block2b_bn False\n",
            "48 block2b_activation False\n",
            "49 block2b_se_squeeze False\n",
            "50 block2b_se_reshape False\n",
            "51 block2b_se_reduce False\n",
            "52 block2b_se_expand False\n",
            "53 block2b_se_excite False\n",
            "54 block2b_project_conv False\n",
            "55 block2b_project_bn False\n",
            "56 block2b_drop False\n",
            "57 block2b_add False\n",
            "58 block2c_expand_conv False\n",
            "59 block2c_expand_bn False\n",
            "60 block2c_expand_activation False\n",
            "61 block2c_dwconv False\n",
            "62 block2c_bn False\n",
            "63 block2c_activation False\n",
            "64 block2c_se_squeeze False\n",
            "65 block2c_se_reshape False\n",
            "66 block2c_se_reduce False\n",
            "67 block2c_se_expand False\n",
            "68 block2c_se_excite False\n",
            "69 block2c_project_conv False\n",
            "70 block2c_project_bn False\n",
            "71 block2c_drop False\n",
            "72 block2c_add False\n",
            "73 block3a_expand_conv False\n",
            "74 block3a_expand_bn False\n",
            "75 block3a_expand_activation False\n",
            "76 block3a_dwconv_pad False\n",
            "77 block3a_dwconv False\n",
            "78 block3a_bn False\n",
            "79 block3a_activation False\n",
            "80 block3a_se_squeeze False\n",
            "81 block3a_se_reshape False\n",
            "82 block3a_se_reduce False\n",
            "83 block3a_se_expand False\n",
            "84 block3a_se_excite False\n",
            "85 block3a_project_conv False\n",
            "86 block3a_project_bn False\n",
            "87 block3b_expand_conv False\n",
            "88 block3b_expand_bn False\n",
            "89 block3b_expand_activation False\n",
            "90 block3b_dwconv False\n",
            "91 block3b_bn False\n",
            "92 block3b_activation False\n",
            "93 block3b_se_squeeze False\n",
            "94 block3b_se_reshape False\n",
            "95 block3b_se_reduce False\n",
            "96 block3b_se_expand False\n",
            "97 block3b_se_excite False\n",
            "98 block3b_project_conv False\n",
            "99 block3b_project_bn False\n",
            "100 block3b_drop False\n",
            "101 block3b_add False\n",
            "102 block3c_expand_conv False\n",
            "103 block3c_expand_bn False\n",
            "104 block3c_expand_activation False\n",
            "105 block3c_dwconv False\n",
            "106 block3c_bn False\n",
            "107 block3c_activation False\n",
            "108 block3c_se_squeeze False\n",
            "109 block3c_se_reshape False\n",
            "110 block3c_se_reduce False\n",
            "111 block3c_se_expand False\n",
            "112 block3c_se_excite False\n",
            "113 block3c_project_conv False\n",
            "114 block3c_project_bn False\n",
            "115 block3c_drop False\n",
            "116 block3c_add False\n",
            "117 block4a_expand_conv False\n",
            "118 block4a_expand_bn False\n",
            "119 block4a_expand_activation False\n",
            "120 block4a_dwconv_pad False\n",
            "121 block4a_dwconv False\n",
            "122 block4a_bn False\n",
            "123 block4a_activation False\n",
            "124 block4a_se_squeeze False\n",
            "125 block4a_se_reshape False\n",
            "126 block4a_se_reduce False\n",
            "127 block4a_se_expand False\n",
            "128 block4a_se_excite False\n",
            "129 block4a_project_conv False\n",
            "130 block4a_project_bn False\n",
            "131 block4b_expand_conv False\n",
            "132 block4b_expand_bn False\n",
            "133 block4b_expand_activation False\n",
            "134 block4b_dwconv False\n",
            "135 block4b_bn False\n",
            "136 block4b_activation False\n",
            "137 block4b_se_squeeze False\n",
            "138 block4b_se_reshape False\n",
            "139 block4b_se_reduce False\n",
            "140 block4b_se_expand False\n",
            "141 block4b_se_excite False\n",
            "142 block4b_project_conv False\n",
            "143 block4b_project_bn False\n",
            "144 block4b_drop False\n",
            "145 block4b_add False\n",
            "146 block4c_expand_conv False\n",
            "147 block4c_expand_bn False\n",
            "148 block4c_expand_activation False\n",
            "149 block4c_dwconv False\n",
            "150 block4c_bn False\n",
            "151 block4c_activation False\n",
            "152 block4c_se_squeeze False\n",
            "153 block4c_se_reshape False\n",
            "154 block4c_se_reduce False\n",
            "155 block4c_se_expand False\n",
            "156 block4c_se_excite False\n",
            "157 block4c_project_conv False\n",
            "158 block4c_project_bn False\n",
            "159 block4c_drop False\n",
            "160 block4c_add False\n",
            "161 block4d_expand_conv False\n",
            "162 block4d_expand_bn False\n",
            "163 block4d_expand_activation False\n",
            "164 block4d_dwconv False\n",
            "165 block4d_bn False\n",
            "166 block4d_activation False\n",
            "167 block4d_se_squeeze False\n",
            "168 block4d_se_reshape False\n",
            "169 block4d_se_reduce False\n",
            "170 block4d_se_expand False\n",
            "171 block4d_se_excite False\n",
            "172 block4d_project_conv False\n",
            "173 block4d_project_bn False\n",
            "174 block4d_drop False\n",
            "175 block4d_add False\n",
            "176 block5a_expand_conv False\n",
            "177 block5a_expand_bn False\n",
            "178 block5a_expand_activation False\n",
            "179 block5a_dwconv False\n",
            "180 block5a_bn False\n",
            "181 block5a_activation False\n",
            "182 block5a_se_squeeze False\n",
            "183 block5a_se_reshape False\n",
            "184 block5a_se_reduce False\n",
            "185 block5a_se_expand False\n",
            "186 block5a_se_excite False\n",
            "187 block5a_project_conv False\n",
            "188 block5a_project_bn False\n",
            "189 block5b_expand_conv False\n",
            "190 block5b_expand_bn False\n",
            "191 block5b_expand_activation False\n",
            "192 block5b_dwconv False\n",
            "193 block5b_bn False\n",
            "194 block5b_activation False\n",
            "195 block5b_se_squeeze False\n",
            "196 block5b_se_reshape False\n",
            "197 block5b_se_reduce False\n",
            "198 block5b_se_expand False\n",
            "199 block5b_se_excite False\n",
            "200 block5b_project_conv False\n",
            "201 block5b_project_bn False\n",
            "202 block5b_drop False\n",
            "203 block5b_add False\n",
            "204 block5c_expand_conv False\n",
            "205 block5c_expand_bn False\n",
            "206 block5c_expand_activation False\n",
            "207 block5c_dwconv False\n",
            "208 block5c_bn False\n",
            "209 block5c_activation False\n",
            "210 block5c_se_squeeze False\n",
            "211 block5c_se_reshape False\n",
            "212 block5c_se_reduce False\n",
            "213 block5c_se_expand False\n",
            "214 block5c_se_excite False\n",
            "215 block5c_project_conv False\n",
            "216 block5c_project_bn False\n",
            "217 block5c_drop False\n",
            "218 block5c_add False\n",
            "219 block5d_expand_conv False\n",
            "220 block5d_expand_bn False\n",
            "221 block5d_expand_activation False\n",
            "222 block5d_dwconv False\n",
            "223 block5d_bn False\n",
            "224 block5d_activation False\n",
            "225 block5d_se_squeeze False\n",
            "226 block5d_se_reshape False\n",
            "227 block5d_se_reduce False\n",
            "228 block5d_se_expand False\n",
            "229 block5d_se_excite False\n",
            "230 block5d_project_conv False\n",
            "231 block5d_project_bn False\n",
            "232 block5d_drop False\n",
            "233 block5d_add False\n",
            "234 block6a_expand_conv False\n",
            "235 block6a_expand_bn False\n",
            "236 block6a_expand_activation False\n",
            "237 block6a_dwconv_pad False\n",
            "238 block6a_dwconv False\n",
            "239 block6a_bn False\n",
            "240 block6a_activation False\n",
            "241 block6a_se_squeeze False\n",
            "242 block6a_se_reshape False\n",
            "243 block6a_se_reduce False\n",
            "244 block6a_se_expand False\n",
            "245 block6a_se_excite False\n",
            "246 block6a_project_conv False\n",
            "247 block6a_project_bn False\n",
            "248 block6b_expand_conv False\n",
            "249 block6b_expand_bn False\n",
            "250 block6b_expand_activation False\n",
            "251 block6b_dwconv False\n",
            "252 block6b_bn False\n",
            "253 block6b_activation False\n",
            "254 block6b_se_squeeze False\n",
            "255 block6b_se_reshape False\n",
            "256 block6b_se_reduce False\n",
            "257 block6b_se_expand False\n",
            "258 block6b_se_excite False\n",
            "259 block6b_project_conv False\n",
            "260 block6b_project_bn False\n",
            "261 block6b_drop False\n",
            "262 block6b_add False\n",
            "263 block6c_expand_conv False\n",
            "264 block6c_expand_bn False\n",
            "265 block6c_expand_activation False\n",
            "266 block6c_dwconv False\n",
            "267 block6c_bn False\n",
            "268 block6c_activation False\n",
            "269 block6c_se_squeeze False\n",
            "270 block6c_se_reshape False\n",
            "271 block6c_se_reduce False\n",
            "272 block6c_se_expand False\n",
            "273 block6c_se_excite False\n",
            "274 block6c_project_conv False\n",
            "275 block6c_project_bn False\n",
            "276 block6c_drop False\n",
            "277 block6c_add False\n",
            "278 block6d_expand_conv False\n",
            "279 block6d_expand_bn False\n",
            "280 block6d_expand_activation False\n",
            "281 block6d_dwconv False\n",
            "282 block6d_bn False\n",
            "283 block6d_activation False\n",
            "284 block6d_se_squeeze False\n",
            "285 block6d_se_reshape False\n",
            "286 block6d_se_reduce False\n",
            "287 block6d_se_expand False\n",
            "288 block6d_se_excite False\n",
            "289 block6d_project_conv False\n",
            "290 block6d_project_bn False\n",
            "291 block6d_drop False\n",
            "292 block6d_add False\n",
            "293 block6e_expand_conv False\n",
            "294 block6e_expand_bn False\n",
            "295 block6e_expand_activation False\n",
            "296 block6e_dwconv False\n",
            "297 block6e_bn False\n",
            "298 block6e_activation False\n",
            "299 block6e_se_squeeze False\n",
            "300 block6e_se_reshape False\n",
            "301 block6e_se_reduce False\n",
            "302 block6e_se_expand False\n",
            "303 block6e_se_excite False\n",
            "304 block6e_project_conv False\n",
            "305 block6e_project_bn False\n",
            "306 block6e_drop False\n",
            "307 block6e_add False\n",
            "308 block7a_expand_conv False\n",
            "309 block7a_expand_bn False\n",
            "310 block7a_expand_activation False\n",
            "311 block7a_dwconv False\n",
            "312 block7a_bn False\n",
            "313 block7a_activation False\n",
            "314 block7a_se_squeeze False\n",
            "315 block7a_se_reshape False\n",
            "316 block7a_se_reduce False\n",
            "317 block7a_se_expand False\n",
            "318 block7a_se_excite False\n",
            "319 block7a_project_conv False\n",
            "320 block7a_project_bn False\n",
            "321 block7b_expand_conv False\n",
            "322 block7b_expand_bn False\n",
            "323 block7b_expand_activation False\n",
            "324 block7b_dwconv False\n",
            "325 block7b_bn False\n",
            "326 block7b_activation False\n",
            "327 block7b_se_squeeze False\n",
            "328 block7b_se_reshape False\n",
            "329 block7b_se_reduce False\n",
            "330 block7b_se_expand False\n",
            "331 block7b_se_excite False\n",
            "332 block7b_project_conv False\n",
            "333 block7b_project_bn False\n",
            "334 block7b_drop True\n",
            "335 block7b_add True\n",
            "336 top_conv True\n",
            "337 top_bn True\n",
            "338 top_activation True\n"
          ],
          "name": "stdout"
        }
      ]
    },
    {
      "cell_type": "code",
      "metadata": {
        "colab": {
          "base_uri": "https://localhost:8080/"
        },
        "id": "pqLJL-Ymx7Fh",
        "outputId": "671cead3-c413-468f-bf5c-a0c08be98a3d"
      },
      "source": [
        "# Fine tuning our model \n",
        "fine_tune_epochs = initial_epochs + 5 \n",
        "\n",
        "# Refit the model \n",
        "history_fine_tune_exp1 = model_exp_1.fit(train_data_exp_1 , \n",
        "                                         epochs = fine_tune_epochs , \n",
        "                                         validation_data = test_data , \n",
        "                                         validation_steps = int( 0.25 * len(test_data)) , \n",
        "                                         initial_epoch = history_exp_extractor_1.epoch[-1] , \n",
        "                                         callbacks = [checkpoint_callback_exp])"
      ],
      "execution_count": 110,
      "outputs": [
        {
          "output_type": "stream",
          "text": [
            "Epoch 5/10\n",
            "237/237 [==============================] - 79s 303ms/step - loss: 1.6590 - accuracy: 0.5895 - val_loss: 1.8921 - val_accuracy: 0.5048\n",
            "\n",
            "Epoch 00005: saving model to 101_food_classes_improving_model\n",
            "Epoch 6/10\n",
            "237/237 [==============================] - 71s 298ms/step - loss: 1.5431 - accuracy: 0.6167 - val_loss: 1.8720 - val_accuracy: 0.5071\n",
            "\n",
            "Epoch 00006: saving model to 101_food_classes_improving_model\n",
            "Epoch 7/10\n",
            "237/237 [==============================] - 72s 300ms/step - loss: 1.4483 - accuracy: 0.6269 - val_loss: 1.8540 - val_accuracy: 0.5132\n",
            "\n",
            "Epoch 00007: saving model to 101_food_classes_improving_model\n",
            "Epoch 8/10\n",
            "237/237 [==============================] - 71s 298ms/step - loss: 1.3970 - accuracy: 0.6366 - val_loss: 1.8387 - val_accuracy: 0.5162\n",
            "\n",
            "Epoch 00008: saving model to 101_food_classes_improving_model\n",
            "Epoch 9/10\n",
            "237/237 [==============================] - 72s 301ms/step - loss: 1.3347 - accuracy: 0.6681 - val_loss: 1.8267 - val_accuracy: 0.5174\n",
            "\n",
            "Epoch 00009: saving model to 101_food_classes_improving_model\n",
            "Epoch 10/10\n",
            "237/237 [==============================] - 72s 302ms/step - loss: 1.3092 - accuracy: 0.6538 - val_loss: 1.8128 - val_accuracy: 0.5244\n",
            "\n",
            "Epoch 00010: saving model to 101_food_classes_improving_model\n"
          ],
          "name": "stdout"
        }
      ]
    },
    {
      "cell_type": "code",
      "metadata": {
        "colab": {
          "base_uri": "https://localhost:8080/"
        },
        "id": "tFVuL-jq4VVd",
        "outputId": "9223a643-dc65-4477-a2b9-0dcc9c132d80"
      },
      "source": [
        "# Now testing on the whole test data\n",
        "model_exp_1_results = model_exp_1.evaluate(test_data)"
      ],
      "execution_count": 111,
      "outputs": [
        {
          "output_type": "stream",
          "text": [
            "790/790 [==============================] - 117s 148ms/step - loss: 1.5732 - accuracy: 0.5821\n"
          ],
          "name": "stdout"
        }
      ]
    },
    {
      "cell_type": "code",
      "metadata": {
        "colab": {
          "base_uri": "https://localhost:8080/"
        },
        "id": "VP3Wn1fK7FxP",
        "outputId": "afacf0ec-024d-42cb-9ef1-09cacaa2bbb2"
      },
      "source": [
        "all_classes_10_percent_fine_tune_results"
      ],
      "execution_count": 112,
      "outputs": [
        {
          "output_type": "execute_result",
          "data": {
            "text/plain": [
              "[1.5985146760940552, 0.5806336402893066]"
            ]
          },
          "metadata": {
            "tags": []
          },
          "execution_count": 112
        }
      ]
    },
    {
      "cell_type": "code",
      "metadata": {
        "colab": {
          "base_uri": "https://localhost:8080/",
          "height": 513
        },
        "id": "YiqB7uPu7rTn",
        "outputId": "4eb0b0e6-5bee-42c2-d521-76cd1b05b620"
      },
      "source": [
        "# Let's plot loss curves \n",
        "compare_historys(history_exp_extractor_1 , \n",
        "                 history_fine_tune_exp1 , \n",
        "                 initial_epochs = 5)"
      ],
      "execution_count": 113,
      "outputs": [
        {
          "output_type": "display_data",
          "data": {
            "image/png": "[encoded data removed]",
            "text/plain": [
              "<Figure size 576x576 with 2 Axes>"
            ]
          },
          "metadata": {
            "tags": [],
            "needs_background": "light"
          }
        }
      ]
    },
    {
      "cell_type": "markdown",
      "metadata": {
        "id": "2y4LA0kB72-c"
      },
      "source": [
        "Hmm.. There is no much improvement. As we can see the validation accuracy getting worse as we train for more epochs. Let's try another experimentation with different model settings and by adding more augmentation layers and setting `interpolation = 'bilinear'`"
      ]
    },
    {
      "cell_type": "code",
      "metadata": {
        "id": "E3y4WfTW8Pwv"
      },
      "source": [
        ""
      ],
      "execution_count": null,
      "outputs": []
    }
  ]
}
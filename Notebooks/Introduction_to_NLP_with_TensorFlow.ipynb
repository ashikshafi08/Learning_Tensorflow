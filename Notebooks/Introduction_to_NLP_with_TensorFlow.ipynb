{
  "nbformat": 4,
  "nbformat_minor": 0,
  "metadata": {
    "colab": {
      "name": "Introduction_to_NLP_with_TensorFlow.ipynb",
      "provenance": [],
      "collapsed_sections": [],
      "include_colab_link": true
    },
    "kernelspec": {
      "name": "python3",
      "display_name": "Python 3"
    },
    "language_info": {
      "name": "python"
    },
    "accelerator": "GPU"
  },
  "cells": [
    {
      "cell_type": "markdown",
      "metadata": {
        "id": "view-in-github",
        "colab_type": "text"
      },
      "source": [
        "<a href=\"https://colab.research.google.com/github/ashikshafi08/Learning_Tensorflow/blob/main/Notebooks/Introduction_to_NLP_with_TensorFlow.ipynb\" target=\"_parent\"><img src=\"https://colab.research.google.com/assets/colab-badge.svg\" alt=\"Open In Colab\"/></a>"
      ]
    },
    {
      "cell_type": "code",
      "metadata": {
        "colab": {
          "base_uri": "https://localhost:8080/"
        },
        "id": "P86230zG-74n",
        "outputId": "d64837f6-094b-4704-d4fd-6ffa2b3320bf"
      },
      "source": [
        "# Checking what GPU are we running \n",
        "!nvidia-smi"
      ],
      "execution_count": 1,
      "outputs": [
        {
          "output_type": "stream",
          "text": [
            "Sat Jun  5 08:34:17 2021       \n",
            "+-----------------------------------------------------------------------------+\n",
            "| NVIDIA-SMI 465.27       Driver Version: 460.32.03    CUDA Version: 11.2     |\n",
            "|-------------------------------+----------------------+----------------------+\n",
            "| GPU  Name        Persistence-M| Bus-Id        Disp.A | Volatile Uncorr. ECC |\n",
            "| Fan  Temp  Perf  Pwr:Usage/Cap|         Memory-Usage | GPU-Util  Compute M. |\n",
            "|                               |                      |               MIG M. |\n",
            "|===============================+======================+======================|\n",
            "|   0  Tesla P100-PCIE...  Off  | 00000000:00:04.0 Off |                    0 |\n",
            "| N/A   36C    P0    26W / 250W |      0MiB / 16280MiB |      0%      Default |\n",
            "|                               |                      |                  N/A |\n",
            "+-------------------------------+----------------------+----------------------+\n",
            "                                                                               \n",
            "+-----------------------------------------------------------------------------+\n",
            "| Processes:                                                                  |\n",
            "|  GPU   GI   CI        PID   Type   Process name                  GPU Memory |\n",
            "|        ID   ID                                                   Usage      |\n",
            "|=============================================================================|\n",
            "|  No running processes found                                                 |\n",
            "+-----------------------------------------------------------------------------+\n"
          ],
          "name": "stdout"
        }
      ]
    },
    {
      "cell_type": "code",
      "metadata": {
        "id": "40J-qcUfUquQ"
      },
      "source": [
        "import tensorflow as tf"
      ],
      "execution_count": 2,
      "outputs": []
    },
    {
      "cell_type": "code",
      "metadata": {
        "colab": {
          "base_uri": "https://localhost:8080/"
        },
        "id": "zZLeskK5UCWj",
        "outputId": "0896837c-5770-4540-c6fa-89454995fccd"
      },
      "source": [
        "from tensorflow.keras import mixed_precision\n",
        "mixed_precision.set_global_policy(policy = 'mixed_float16')"
      ],
      "execution_count": 3,
      "outputs": [
        {
          "output_type": "stream",
          "text": [
            "WARNING:tensorflow:Mixed precision compatibility check (mixed_float16): WARNING\n",
            "Your GPU may run slowly with dtype policy mixed_float16 because it does not have compute capability of at least 7.0. Your GPU:\n",
            "  Tesla P100-PCIE-16GB, compute capability 6.0\n",
            "See https://developer.nvidia.com/cuda-gpus for a list of GPUs and their compute capabilities.\n",
            "If you will use compatible GPU(s) not attached to this host, e.g. by running a multi-worker model, you can ignore this warning. This message will only be logged once\n"
          ],
          "name": "stdout"
        }
      ]
    },
    {
      "cell_type": "code",
      "metadata": {
        "colab": {
          "base_uri": "https://localhost:8080/"
        },
        "id": "ORYaf-CkUgzD",
        "outputId": "7eac2271-e09b-4007-b7e9-af134d3fff7f"
      },
      "source": [
        "print(tf.__version__)"
      ],
      "execution_count": 4,
      "outputs": [
        {
          "output_type": "stream",
          "text": [
            "2.5.0\n"
          ],
          "name": "stdout"
        }
      ]
    },
    {
      "cell_type": "markdown",
      "metadata": {
        "id": "GocVVrp_snn6"
      },
      "source": [
        "### Getting the helper functions \n"
      ]
    },
    {
      "cell_type": "code",
      "metadata": {
        "colab": {
          "base_uri": "https://localhost:8080/"
        },
        "id": "Uo8KywfBuftm",
        "outputId": "55d956b1-90c3-46a2-c547-517ca67d35a2"
      },
      "source": [
        "# Download helper functions script\n",
        "!wget https://raw.githubusercontent.com/mrdbourke/tensorflow-deep-learning/main/extras/helper_functions.py"
      ],
      "execution_count": 5,
      "outputs": [
        {
          "output_type": "stream",
          "text": [
            "--2021-06-05 08:34:23--  https://raw.githubusercontent.com/mrdbourke/tensorflow-deep-learning/main/extras/helper_functions.py\n",
            "Resolving raw.githubusercontent.com (raw.githubusercontent.com)... 185.199.108.133, 185.199.109.133, 185.199.110.133, ...\n",
            "Connecting to raw.githubusercontent.com (raw.githubusercontent.com)|185.199.108.133|:443... connected.\n",
            "HTTP request sent, awaiting response... 200 OK\n",
            "Length: 10246 (10K) [text/plain]\n",
            "Saving to: ‘helper_functions.py’\n",
            "\n",
            "helper_functions.py 100%[===================>]  10.01K  --.-KB/s    in 0s      \n",
            "\n",
            "2021-06-05 08:34:24 (72.0 MB/s) - ‘helper_functions.py’ saved [10246/10246]\n",
            "\n"
          ],
          "name": "stdout"
        }
      ]
    },
    {
      "cell_type": "code",
      "metadata": {
        "id": "Z3-mGEurIyRH"
      },
      "source": [
        "# Import the needed helper functions for the notebook \n",
        "from helper_functions import unzip_data , create_tensorboard_callback , plot_loss_curves , compare_historys"
      ],
      "execution_count": 6,
      "outputs": []
    },
    {
      "cell_type": "markdown",
      "metadata": {
        "id": "qah0KdlutEa4"
      },
      "source": [
        "## Get a text dataset \n",
        "\n",
        "The dataset we're going to be using is Kaggle's Introduction to NLP dataset (text sampels of tweets labelled as disaster (or) not disaster). \n",
        "\n",
        "See the original source here https://www.kaggle.com/c/nlp-getting-started/data"
      ]
    },
    {
      "cell_type": "code",
      "metadata": {
        "colab": {
          "base_uri": "https://localhost:8080/"
        },
        "id": "z_V6EEy0tgVP",
        "outputId": "fc2c650a-8423-4277-c007-2e9877d4e18f"
      },
      "source": [
        "# Download the data from Kaggle \n",
        "!wget \"https://storage.googleapis.com/ztm_tf_course/nlp_getting_started.zip\"\n",
        "\n",
        "# Unzipping the data \n",
        "unzip_data('nlp_getting_started.zip')"
      ],
      "execution_count": 7,
      "outputs": [
        {
          "output_type": "stream",
          "text": [
            "--2021-06-05 08:34:25--  https://storage.googleapis.com/ztm_tf_course/nlp_getting_started.zip\n",
            "Resolving storage.googleapis.com (storage.googleapis.com)... 74.125.197.128, 74.125.135.128, 74.125.142.128, ...\n",
            "Connecting to storage.googleapis.com (storage.googleapis.com)|74.125.197.128|:443... connected.\n",
            "HTTP request sent, awaiting response... 200 OK\n",
            "Length: 607343 (593K) [application/zip]\n",
            "Saving to: ‘nlp_getting_started.zip’\n",
            "\n",
            "\rnlp_getting_started   0%[                    ]       0  --.-KB/s               \rnlp_getting_started 100%[===================>] 593.11K  --.-KB/s    in 0.004s  \n",
            "\n",
            "2021-06-05 08:34:25 (137 MB/s) - ‘nlp_getting_started.zip’ saved [607343/607343]\n",
            "\n"
          ],
          "name": "stdout"
        }
      ]
    },
    {
      "cell_type": "markdown",
      "metadata": {
        "id": "SkMPaEI-tm36"
      },
      "source": [
        "## Become one with the data \n",
        "\n",
        "We will Visualize , explore our test data in here. \n",
        "\n",
        "Text datasets come across in many different formats, aside from CSV files we will probably encounter `.txt` file and `.json` files too. Reading the below articles will help in those times, \n",
        "* [How to Read and Write Files in Python](https://realpython.com/read-write-files-python/)\n",
        "* [Working with JSON Data in Python](https://realpython.com/python-json/)"
      ]
    },
    {
      "cell_type": "code",
      "metadata": {
        "colab": {
          "base_uri": "https://localhost:8080/",
          "height": 204
        },
        "id": "3fUnop6WuNCn",
        "outputId": "e6c03606-c2dc-4f10-ce08-2515ea671fb1"
      },
      "source": [
        "# Importing pandas to look into our csv file \n",
        "import pandas as pd \n",
        "train_df = pd.read_csv('train.csv')\n",
        "test_df = pd.read_csv('test.csv')\n",
        "\n",
        "# What's inside our train dataframe? \n",
        "train_df.head()"
      ],
      "execution_count": 8,
      "outputs": [
        {
          "output_type": "execute_result",
          "data": {
            "text/html": [
              "<div>\n",
              "<style scoped>\n",
              "    .dataframe tbody tr th:only-of-type {\n",
              "        vertical-align: middle;\n",
              "    }\n",
              "\n",
              "    .dataframe tbody tr th {\n",
              "        vertical-align: top;\n",
              "    }\n",
              "\n",
              "    .dataframe thead th {\n",
              "        text-align: right;\n",
              "    }\n",
              "</style>\n",
              "<table border=\"1\" class=\"dataframe\">\n",
              "  <thead>\n",
              "    <tr style=\"text-align: right;\">\n",
              "      <th></th>\n",
              "      <th>id</th>\n",
              "      <th>keyword</th>\n",
              "      <th>location</th>\n",
              "      <th>text</th>\n",
              "      <th>target</th>\n",
              "    </tr>\n",
              "  </thead>\n",
              "  <tbody>\n",
              "    <tr>\n",
              "      <th>0</th>\n",
              "      <td>1</td>\n",
              "      <td>NaN</td>\n",
              "      <td>NaN</td>\n",
              "      <td>Our Deeds are the Reason of this #earthquake M...</td>\n",
              "      <td>1</td>\n",
              "    </tr>\n",
              "    <tr>\n",
              "      <th>1</th>\n",
              "      <td>4</td>\n",
              "      <td>NaN</td>\n",
              "      <td>NaN</td>\n",
              "      <td>Forest fire near La Ronge Sask. Canada</td>\n",
              "      <td>1</td>\n",
              "    </tr>\n",
              "    <tr>\n",
              "      <th>2</th>\n",
              "      <td>5</td>\n",
              "      <td>NaN</td>\n",
              "      <td>NaN</td>\n",
              "      <td>All residents asked to 'shelter in place' are ...</td>\n",
              "      <td>1</td>\n",
              "    </tr>\n",
              "    <tr>\n",
              "      <th>3</th>\n",
              "      <td>6</td>\n",
              "      <td>NaN</td>\n",
              "      <td>NaN</td>\n",
              "      <td>13,000 people receive #wildfires evacuation or...</td>\n",
              "      <td>1</td>\n",
              "    </tr>\n",
              "    <tr>\n",
              "      <th>4</th>\n",
              "      <td>7</td>\n",
              "      <td>NaN</td>\n",
              "      <td>NaN</td>\n",
              "      <td>Just got sent this photo from Ruby #Alaska as ...</td>\n",
              "      <td>1</td>\n",
              "    </tr>\n",
              "  </tbody>\n",
              "</table>\n",
              "</div>"
            ],
            "text/plain": [
              "   id keyword  ...                                               text target\n",
              "0   1     NaN  ...  Our Deeds are the Reason of this #earthquake M...      1\n",
              "1   4     NaN  ...             Forest fire near La Ronge Sask. Canada      1\n",
              "2   5     NaN  ...  All residents asked to 'shelter in place' are ...      1\n",
              "3   6     NaN  ...  13,000 people receive #wildfires evacuation or...      1\n",
              "4   7     NaN  ...  Just got sent this photo from Ruby #Alaska as ...      1\n",
              "\n",
              "[5 rows x 5 columns]"
            ]
          },
          "metadata": {
            "tags": []
          },
          "execution_count": 8
        }
      ]
    },
    {
      "cell_type": "code",
      "metadata": {
        "colab": {
          "base_uri": "https://localhost:8080/",
          "height": 35
        },
        "id": "dTrFXxYfvWlo",
        "outputId": "46d5e6b5-5161-4dba-8922-04162f263ff0"
      },
      "source": [
        "# Getting the first sample of row 1 \n",
        "train_df['text'][0]"
      ],
      "execution_count": 9,
      "outputs": [
        {
          "output_type": "execute_result",
          "data": {
            "application/vnd.google.colaboratory.intrinsic+json": {
              "type": "string"
            },
            "text/plain": [
              "'Our Deeds are the Reason of this #earthquake May ALLAH Forgive us all'"
            ]
          },
          "metadata": {
            "tags": []
          },
          "execution_count": 9
        }
      ]
    },
    {
      "cell_type": "markdown",
      "metadata": {
        "id": "K9EC6SvCvhgr"
      },
      "source": [
        "So our goal now is to build a model to predict the target. Where our targets are it is a disaster or not a disaster. "
      ]
    },
    {
      "cell_type": "code",
      "metadata": {
        "colab": {
          "base_uri": "https://localhost:8080/",
          "height": 289
        },
        "id": "pTWf3W3Cvu5W",
        "outputId": "bc2d8aee-d647-431f-8469-bbc48cf5f38d"
      },
      "source": [
        "# Shuffle the traning dataframe \n",
        "train_df_shuffled = train_df.sample(frac = 1 , \n",
        "                                    random_state = 42)\n",
        "\n",
        "# Looking into our shuffled dataframe \n",
        "train_df_shuffled.head()"
      ],
      "execution_count": 10,
      "outputs": [
        {
          "output_type": "execute_result",
          "data": {
            "text/html": [
              "<div>\n",
              "<style scoped>\n",
              "    .dataframe tbody tr th:only-of-type {\n",
              "        vertical-align: middle;\n",
              "    }\n",
              "\n",
              "    .dataframe tbody tr th {\n",
              "        vertical-align: top;\n",
              "    }\n",
              "\n",
              "    .dataframe thead th {\n",
              "        text-align: right;\n",
              "    }\n",
              "</style>\n",
              "<table border=\"1\" class=\"dataframe\">\n",
              "  <thead>\n",
              "    <tr style=\"text-align: right;\">\n",
              "      <th></th>\n",
              "      <th>id</th>\n",
              "      <th>keyword</th>\n",
              "      <th>location</th>\n",
              "      <th>text</th>\n",
              "      <th>target</th>\n",
              "    </tr>\n",
              "  </thead>\n",
              "  <tbody>\n",
              "    <tr>\n",
              "      <th>2644</th>\n",
              "      <td>3796</td>\n",
              "      <td>destruction</td>\n",
              "      <td>NaN</td>\n",
              "      <td>So you have a new weapon that can cause un-ima...</td>\n",
              "      <td>1</td>\n",
              "    </tr>\n",
              "    <tr>\n",
              "      <th>2227</th>\n",
              "      <td>3185</td>\n",
              "      <td>deluge</td>\n",
              "      <td>NaN</td>\n",
              "      <td>The f$&amp;amp;@ing things I do for #GISHWHES Just...</td>\n",
              "      <td>0</td>\n",
              "    </tr>\n",
              "    <tr>\n",
              "      <th>5448</th>\n",
              "      <td>7769</td>\n",
              "      <td>police</td>\n",
              "      <td>UK</td>\n",
              "      <td>DT @georgegalloway: RT @Galloway4Mayor: ÛÏThe...</td>\n",
              "      <td>1</td>\n",
              "    </tr>\n",
              "    <tr>\n",
              "      <th>132</th>\n",
              "      <td>191</td>\n",
              "      <td>aftershock</td>\n",
              "      <td>NaN</td>\n",
              "      <td>Aftershock back to school kick off was great. ...</td>\n",
              "      <td>0</td>\n",
              "    </tr>\n",
              "    <tr>\n",
              "      <th>6845</th>\n",
              "      <td>9810</td>\n",
              "      <td>trauma</td>\n",
              "      <td>Montgomery County, MD</td>\n",
              "      <td>in response to trauma Children of Addicts deve...</td>\n",
              "      <td>0</td>\n",
              "    </tr>\n",
              "  </tbody>\n",
              "</table>\n",
              "</div>"
            ],
            "text/plain": [
              "        id  ... target\n",
              "2644  3796  ...      1\n",
              "2227  3185  ...      0\n",
              "5448  7769  ...      1\n",
              "132    191  ...      0\n",
              "6845  9810  ...      0\n",
              "\n",
              "[5 rows x 5 columns]"
            ]
          },
          "metadata": {
            "tags": []
          },
          "execution_count": 10
        }
      ]
    },
    {
      "cell_type": "code",
      "metadata": {
        "colab": {
          "base_uri": "https://localhost:8080/",
          "height": 204
        },
        "id": "0fVZfTzzv9sd",
        "outputId": "9fef34ea-ab66-4d56-c078-e42082127040"
      },
      "source": [
        "# What does the test dataframe looks like \n",
        "test_df.head() "
      ],
      "execution_count": 11,
      "outputs": [
        {
          "output_type": "execute_result",
          "data": {
            "text/html": [
              "<div>\n",
              "<style scoped>\n",
              "    .dataframe tbody tr th:only-of-type {\n",
              "        vertical-align: middle;\n",
              "    }\n",
              "\n",
              "    .dataframe tbody tr th {\n",
              "        vertical-align: top;\n",
              "    }\n",
              "\n",
              "    .dataframe thead th {\n",
              "        text-align: right;\n",
              "    }\n",
              "</style>\n",
              "<table border=\"1\" class=\"dataframe\">\n",
              "  <thead>\n",
              "    <tr style=\"text-align: right;\">\n",
              "      <th></th>\n",
              "      <th>id</th>\n",
              "      <th>keyword</th>\n",
              "      <th>location</th>\n",
              "      <th>text</th>\n",
              "    </tr>\n",
              "  </thead>\n",
              "  <tbody>\n",
              "    <tr>\n",
              "      <th>0</th>\n",
              "      <td>0</td>\n",
              "      <td>NaN</td>\n",
              "      <td>NaN</td>\n",
              "      <td>Just happened a terrible car crash</td>\n",
              "    </tr>\n",
              "    <tr>\n",
              "      <th>1</th>\n",
              "      <td>2</td>\n",
              "      <td>NaN</td>\n",
              "      <td>NaN</td>\n",
              "      <td>Heard about #earthquake is different cities, s...</td>\n",
              "    </tr>\n",
              "    <tr>\n",
              "      <th>2</th>\n",
              "      <td>3</td>\n",
              "      <td>NaN</td>\n",
              "      <td>NaN</td>\n",
              "      <td>there is a forest fire at spot pond, geese are...</td>\n",
              "    </tr>\n",
              "    <tr>\n",
              "      <th>3</th>\n",
              "      <td>9</td>\n",
              "      <td>NaN</td>\n",
              "      <td>NaN</td>\n",
              "      <td>Apocalypse lighting. #Spokane #wildfires</td>\n",
              "    </tr>\n",
              "    <tr>\n",
              "      <th>4</th>\n",
              "      <td>11</td>\n",
              "      <td>NaN</td>\n",
              "      <td>NaN</td>\n",
              "      <td>Typhoon Soudelor kills 28 in China and Taiwan</td>\n",
              "    </tr>\n",
              "  </tbody>\n",
              "</table>\n",
              "</div>"
            ],
            "text/plain": [
              "   id keyword location                                               text\n",
              "0   0     NaN      NaN                 Just happened a terrible car crash\n",
              "1   2     NaN      NaN  Heard about #earthquake is different cities, s...\n",
              "2   3     NaN      NaN  there is a forest fire at spot pond, geese are...\n",
              "3   9     NaN      NaN           Apocalypse lighting. #Spokane #wildfires\n",
              "4  11     NaN      NaN      Typhoon Soudelor kills 28 in China and Taiwan"
            ]
          },
          "metadata": {
            "tags": []
          },
          "execution_count": 11
        }
      ]
    },
    {
      "cell_type": "markdown",
      "metadata": {
        "id": "UI8yjVHOwvBM"
      },
      "source": [
        "Same as the train dataframe but no targets. In here we are going to use the text column and predict upcoming tweets whether they are Disaster or Not. "
      ]
    },
    {
      "cell_type": "code",
      "metadata": {
        "colab": {
          "base_uri": "https://localhost:8080/"
        },
        "id": "YE0WJRQ9w5Wp",
        "outputId": "f86ba9a6-b693-48f1-e10c-34890714ece4"
      },
      "source": [
        "# How many examples of each class? \n",
        "train_df.target.value_counts()"
      ],
      "execution_count": 12,
      "outputs": [
        {
          "output_type": "execute_result",
          "data": {
            "text/plain": [
              "0    4342\n",
              "1    3271\n",
              "Name: target, dtype: int64"
            ]
          },
          "metadata": {
            "tags": []
          },
          "execution_count": 12
        }
      ]
    },
    {
      "cell_type": "markdown",
      "metadata": {
        "id": "9Z_ETiUIw-_Z"
      },
      "source": [
        "We can't say our targets are perfectly balanced but it's pretty much a 60-40 split balance between the targets. \n",
        "\n",
        "So if we have imabalanced target class refer this https://www.tensorflow.org/tutorials/structured_data/imbalanced_data"
      ]
    },
    {
      "cell_type": "code",
      "metadata": {
        "colab": {
          "base_uri": "https://localhost:8080/"
        },
        "id": "cwkWdusMxVKf",
        "outputId": "8ffb9d54-61a2-4f15-dda2-7b137904dea6"
      },
      "source": [
        "# How many total samples in both sets? \n",
        "\n",
        "len(train_df) , len(test_df)"
      ],
      "execution_count": 13,
      "outputs": [
        {
          "output_type": "execute_result",
          "data": {
            "text/plain": [
              "(7613, 3263)"
            ]
          },
          "metadata": {
            "tags": []
          },
          "execution_count": 13
        }
      ]
    },
    {
      "cell_type": "code",
      "metadata": {
        "colab": {
          "base_uri": "https://localhost:8080/"
        },
        "id": "y6-1YARtx0q-",
        "outputId": "26561594-f580-4d2f-b27f-1418b030c837"
      },
      "source": [
        "# Let's visualize some random training examples. \n",
        "import random \n",
        "\n",
        "# 5 random index random numbers\n",
        "# Create random indexes not higher than the total number of samples\n",
        "random_index = random.randint(0 , len(train_df) - 5) \n",
        "\n",
        "# Will return tuples\n",
        "for row in train_df_shuffled[['text' , 'target']][random_index:random_index+5].itertuples():\n",
        "  _, text , target = row\n",
        "  print(f'Target: {target}' , \"(real disaster)\" if target > 0 else \"(not real disaster\")\n",
        "  print(f'Text:\\n{text}\\n')\n",
        "  print('----\\n')\n"
      ],
      "execution_count": 14,
      "outputs": [
        {
          "output_type": "stream",
          "text": [
            "Target: 0 (not real disaster\n",
            "Text:\n",
            "You call them weekends. I call them Bloody Mary times. This summer's been full of them. My newÛ_ https://t.co/VnNi3zzuZ6\n",
            "\n",
            "----\n",
            "\n",
            "Target: 0 (not real disaster\n",
            "Text:\n",
            "who makes these? http://t.co/28t3NWHdKy\n",
            "\n",
            "----\n",
            "\n",
            "Target: 1 (real disaster)\n",
            "Text:\n",
            "DTN Brazil: Refugio oil spill may have been costlier bigger than projected: A Plains All American Pipeline oi... http://t.co/pDOSrg8Cf7\n",
            "\n",
            "----\n",
            "\n",
            "Target: 0 (not real disaster\n",
            "Text:\n",
            "How a little studio in the middle of nowhere is becoming the epicentre of communication. http://t.co/iCRgseAGYA http://t.co/KpvYmHM2uB\n",
            "\n",
            "----\n",
            "\n",
            "Target: 1 (real disaster)\n",
            "Text:\n",
            "Police investigating after an e-bike collided with a car in Little Portugal. E-bike rider suffered serious non-life threatening injuries.\n",
            "\n",
            "----\n",
            "\n"
          ],
          "name": "stdout"
        }
      ]
    },
    {
      "cell_type": "markdown",
      "metadata": {
        "id": "CbVgZ9cbzI1T"
      },
      "source": [
        "Though we have train and test datasets it's good to create an validation dataset. "
      ]
    },
    {
      "cell_type": "markdown",
      "metadata": {
        "id": "DBsB3GYh0Lqh"
      },
      "source": [
        "### Split data into training and validation set "
      ]
    },
    {
      "cell_type": "code",
      "metadata": {
        "id": "bfeGwyUZ0WDY"
      },
      "source": [
        "from sklearn.model_selection import train_test_split\n",
        "\n",
        "# Let's split training data into train and val set\n",
        "train_sentences , val_sentences , train_labels , val_labels = train_test_split(train_df_shuffled['text'].to_numpy() , \n",
        "                                                                               train_df_shuffled['target'].to_numpy() , \n",
        "                                                                               test_size = 0.1,  # Use 10% of the training data for validation set \n",
        "                                                                               random_state = 42)"
      ],
      "execution_count": 15,
      "outputs": []
    },
    {
      "cell_type": "code",
      "metadata": {
        "colab": {
          "base_uri": "https://localhost:8080/"
        },
        "id": "JD5LXrYS0Zg8",
        "outputId": "4100bc55-e2ba-4f49-d704-5d5664d59ae5"
      },
      "source": [
        "# Checking the shapes of our splits \n",
        "\n",
        "train_sentences.shape , train_labels.shape , val_sentences.shape , val_labels.shape"
      ],
      "execution_count": 16,
      "outputs": [
        {
          "output_type": "execute_result",
          "data": {
            "text/plain": [
              "((6851,), (6851,), (762,), (762,))"
            ]
          },
          "metadata": {
            "tags": []
          },
          "execution_count": 16
        }
      ]
    },
    {
      "cell_type": "code",
      "metadata": {
        "colab": {
          "base_uri": "https://localhost:8080/"
        },
        "id": "gVrwidP01LPO",
        "outputId": "0142a426-48fa-4082-e925-dd08699341e7"
      },
      "source": [
        "# Number of samples \n",
        "print(f'Number of sampels in train set: {len(train_sentences)}')\n",
        "print(f'Number of sampels in validation set: {len(val_sentences)}')"
      ],
      "execution_count": 17,
      "outputs": [
        {
          "output_type": "stream",
          "text": [
            "Number of sampels in train set: 6851\n",
            "Number of sampels in validation set: 762\n"
          ],
          "name": "stdout"
        }
      ]
    },
    {
      "cell_type": "code",
      "metadata": {
        "colab": {
          "base_uri": "https://localhost:8080/"
        },
        "id": "5xirhAYB1XAB",
        "outputId": "379e0005-8eb2-4772-d4d0-d0b1967ddca7"
      },
      "source": [
        "# Check the first 10 samples \n",
        "train_sentences[:10] , train_labels[:10]"
      ],
      "execution_count": 18,
      "outputs": [
        {
          "output_type": "execute_result",
          "data": {
            "text/plain": [
              "(array(['@mogacola @zamtriossu i screamed after hitting tweet',\n",
              "        'Imagine getting flattened by Kurt Zouma',\n",
              "        '@Gurmeetramrahim #MSGDoing111WelfareWorks Green S welfare force ke appx 65000 members har time disaster victim ki help ke liye tyar hai....',\n",
              "        \"@shakjn @C7 @Magnums im shaking in fear he's gonna hack the planet\",\n",
              "        'Somehow find you and I collide http://t.co/Ee8RpOahPk',\n",
              "        '@EvaHanderek @MarleyKnysh great times until the bus driver held us hostage in the mall parking lot lmfao',\n",
              "        'destroy the free fandom honestly',\n",
              "        'Weapons stolen from National Guard Armory in New Albany still missing #Gunsense http://t.co/lKNU8902JE',\n",
              "        '@wfaaweather Pete when will the heat wave pass? Is it really going to be mid month? Frisco Boy Scouts have a canoe trip in Okla.',\n",
              "        'Patient-reported outcomes in long-term survivors of metastatic colorectal cancer - British Journal of Surgery http://t.co/5Yl4DC1Tqt'],\n",
              "       dtype=object), array([0, 0, 1, 0, 0, 1, 1, 0, 1, 1]))"
            ]
          },
          "metadata": {
            "tags": []
          },
          "execution_count": 18
        }
      ]
    },
    {
      "cell_type": "markdown",
      "metadata": {
        "id": "qK1JBTgS1gqs"
      },
      "source": [
        "Great now we got to know about how our data looks. The next step would be converting our features into numbers where our targets already in number we don't have to bother about it. \n",
        "\n",
        "Next step would be turn the text into numbers! "
      ]
    },
    {
      "cell_type": "markdown",
      "metadata": {
        "id": "ZJX4l1xd16wE"
      },
      "source": [
        "## Converting text into numbers \n",
        "\n",
        "Alright now the challenge is to convert our text into numbers we can use two techniques they are, \n",
        "\n",
        "- **Tokenization**\n",
        "- **Embeddings**\n",
        "\n",
        "Let's look into them one by one. \n",
        "\n",
        "#### Tokenization\n",
        "\n",
        "A straight mapping from word or character or sub-word to a numerical value. There are three main levels of tokenization: \n",
        "\n",
        "- Using **word-level tokenization** with the sentence 'I love TensorFlow' might result in 'I' being `0` , 'love' being `1` and TensorFlow being `2`. In this case, every word in a sequence considered as a single **token.**\n",
        "- **Character - level tokenization,** such as converting the letters A-Z to values `1-26`. In this case, every character in a sequence (or) considered as a single token.\n",
        "- **Sub-word tokenization** is in between word-level and character-level tokenization. It involves breaking individual words into smaller parts and then converting those smaller parts into numbers.\n",
        "\n",
        "    For example ' my favourite food is pineapple pizza' might become —> \" my, fav, avour, rite, fo, oo, od, is, pin, ine, app, le, piz, za\". After doing this, these sub-words would then be mapped to a numerical value. In this case every word could be considered multiple tokens. \n",
        "\n",
        "#### Embeddings\n",
        "\n",
        "A embedding is a representation of natural language which can be learned. Representation comes in the form of a **feature vector**. For example, the word 'dance' could be represented by the 5-dimensional vector `[-0.8457 , 0.4559 , -0.3332, 0.9877, 0.1112]`. \n",
        "\n",
        "It's important to note here, the size of the feature vector is tuneable (embedding_size). There are two ways to use embeddings: \n",
        "\n",
        "- **Create your own embedding** - Once your text has been turned into numbers (requires for an embedding), you can put them through an embedding layer (such as `[tf.keras.layers.Embedding](https://www.tensorflow.org/api_docs/python/tf/keras/layers/Embedding)`) and embedding representation will be learned during model training.\n",
        "- **Reuse a pre-learned embedding** - Many pre-trained embeddings exist online. These are pre-trained embeddings have often learned on large corpuses of a text (such as all of Wikipedia) and thus have good underlying representation of natural language. You can use pre-trained embedding to initialize your model and fine-tune it to your own specific task.\n",
        "\n",
        "Example of **tokenization** (straight mapping from word to number) and **embedding** (richer representation of relationships between tokens).\n",
        "\n",
        "> Question: What level of tokenzation should I use? What embedding should should I choose?\n",
        "\n",
        "It depends on your problem. You could try character-level tokenization/embeddings and word-level tokenization/embeddings and see which perform best. You might even want to try stacking them (e.g. combining the outputs of your embedding layers using [`tf.keras.layers.concatenate`](https://www.tensorflow.org/api_docs/python/tf/keras/layers/concatenate) ).\n",
        "\n",
        "If you're looking for pre-trained word embeddings, [Word2vec embeddings](http://jalammar.github.io/illustrated-word2vec/), [GloVe embeddings](https://nlp.stanford.edu/projects/glove/) and many of the options available on TensorFlow Hub are great places to start.\n",
        "\n",
        "> Note: Much like searching for a pre-trained computer vision model, you can search for pre-trained word embeddings to use for your problem. Try searching for something like \"use pre-trained word embeddings in TensorFlow\"."
      ]
    },
    {
      "cell_type": "markdown",
      "metadata": {
        "id": "YsR2_6NcO8Ln"
      },
      "source": [
        "When dealing with a text problem one of the first things you'll have to do before you can build a model is to convert your text to numbers. \n",
        "\n",
        "There are few ways to do this, namely: \n",
        "* Tokenization - direct mapping of token (a token could be a word or character) to number. \n",
        "* Embedding - create a matrix of feature vector for each token (the size of the feature vector can be defined and this embedding can be learned). "
      ]
    },
    {
      "cell_type": "markdown",
      "metadata": {
        "id": "baYi22uYRUB6"
      },
      "source": [
        "### Text vectorization (tokenization)"
      ]
    },
    {
      "cell_type": "code",
      "metadata": {
        "colab": {
          "base_uri": "https://localhost:8080/"
        },
        "id": "K9_Htq9NsOIt",
        "outputId": "f2bcb049-1577-48a4-d6f2-399997adfdbc"
      },
      "source": [
        "# Remind ourselves how our data looks like \n",
        "train_sentences[:5]"
      ],
      "execution_count": 19,
      "outputs": [
        {
          "output_type": "execute_result",
          "data": {
            "text/plain": [
              "array(['@mogacola @zamtriossu i screamed after hitting tweet',\n",
              "       'Imagine getting flattened by Kurt Zouma',\n",
              "       '@Gurmeetramrahim #MSGDoing111WelfareWorks Green S welfare force ke appx 65000 members har time disaster victim ki help ke liye tyar hai....',\n",
              "       \"@shakjn @C7 @Magnums im shaking in fear he's gonna hack the planet\",\n",
              "       'Somehow find you and I collide http://t.co/Ee8RpOahPk'],\n",
              "      dtype=object)"
            ]
          },
          "metadata": {
            "tags": []
          },
          "execution_count": 19
        }
      ]
    },
    {
      "cell_type": "code",
      "metadata": {
        "id": "iqycIsiLsS1g"
      },
      "source": [
        "# Import the tokenization layer \n",
        "import tensorflow as tf\n",
        "from tensorflow.keras.layers.experimental.preprocessing import TextVectorization"
      ],
      "execution_count": 20,
      "outputs": []
    },
    {
      "cell_type": "markdown",
      "metadata": {
        "id": "ApElHNZTscyy"
      },
      "source": [
        "How does the `TextVectorization` layer works? \n",
        "- standardize each sample (lower casing + punctuation stripping). \n",
        "- split each sample into substrings (usually words). \n",
        "- recombine substrings into tokens (usually ngrams which will group words). \n",
        "- index tokens (assign a unique int value to each token). \n",
        "- transform each sample using the index, either into a vector of ints or dense float vector.  "
      ]
    },
    {
      "cell_type": "code",
      "metadata": {
        "id": "ma_7BGeMuVnB"
      },
      "source": [
        "# Use the default TextVectorization parameters \n",
        "\n",
        "text_vectorizer = TextVectorization(max_tokens = None , # how many words in the vocabulary (automatically add <OOV>)\n",
        "                                   standardize = 'lower_and_strip_punctuation' , # Standardize our text data like in image (convert into lower case and strip punctu)\n",
        "                                   split = 'whitespace', # Split the sequence by whitespace\n",
        "                                   ngrams = None , # create group of n-words (None will not group them)\n",
        "                                   output_mode = 'int', # how to map tokens to numbers\n",
        "                                   output_sequence_length = None, # More like batches (padding) None will pad each sequence to normal sequence\n",
        "                                   pad_to_max_tokens = True )"
      ],
      "execution_count": 21,
      "outputs": []
    },
    {
      "cell_type": "markdown",
      "metadata": {
        "id": "fRtdEZNg0Djl"
      },
      "source": [
        "We can pad out tweets to the longer sequence but to keep our data small we will find the average words in a sequence and will pad our whole data to it. "
      ]
    },
    {
      "cell_type": "code",
      "metadata": {
        "colab": {
          "base_uri": "https://localhost:8080/"
        },
        "id": "-OSLY9j90YHJ",
        "outputId": "ee86d068-cabb-461d-c11a-6c9afb60a74a"
      },
      "source": [
        "ex = train_sentences[0].split()\n",
        "len(ex)"
      ],
      "execution_count": 22,
      "outputs": [
        {
          "output_type": "execute_result",
          "data": {
            "text/plain": [
              "7"
            ]
          },
          "metadata": {
            "tags": []
          },
          "execution_count": 22
        }
      ]
    },
    {
      "cell_type": "code",
      "metadata": {
        "colab": {
          "base_uri": "https://localhost:8080/"
        },
        "id": "dmyejPCxzvKy",
        "outputId": "7898c9a8-b9fa-4f4f-95ce-30648d818375"
      },
      "source": [
        "# Find the average number of tokens (words) in the training tweets. \n",
        "\n",
        "round(sum([len(i.split()) for i in train_sentences]) / len(train_sentences))"
      ],
      "execution_count": 23,
      "outputs": [
        {
          "output_type": "execute_result",
          "data": {
            "text/plain": [
              "15"
            ]
          },
          "metadata": {
            "tags": []
          },
          "execution_count": 23
        }
      ]
    },
    {
      "cell_type": "code",
      "metadata": {
        "id": "kHkvp4Aq0rhw"
      },
      "source": [
        "# Setup text vectorization variable \n",
        "max_vocab_length = 10000 # Max number of words to have in our vocabulary\n",
        "max_length = 15 # max length our sequence will be (e.g how many words from Tweet does a model see)\n",
        "\n",
        "# Creating a instance\n",
        "text_vectorizer = TextVectorization(max_tokens= max_vocab_length , \n",
        "                                    output_mode = 'int' , \n",
        "                                    output_sequence_length = max_length)"
      ],
      "execution_count": 24,
      "outputs": []
    },
    {
      "cell_type": "markdown",
      "metadata": {
        "id": "H6GktGfm0830"
      },
      "source": [
        "Now we have a instance of our `TextVectorization` layer now we will have to map this layer to our text data in order to convert them in numerical format. \n",
        "\n",
        "We can do this by using `.adapt()` method. "
      ]
    },
    {
      "cell_type": "code",
      "metadata": {
        "id": "dDjM2B-1XE4X"
      },
      "source": [
        "# Fit the text vectorizer to the training sentence\n",
        "text_vectorizer.adapt(train_sentences) # Will go through and apply the text vectorization"
      ],
      "execution_count": 25,
      "outputs": []
    },
    {
      "cell_type": "code",
      "metadata": {
        "colab": {
          "base_uri": "https://localhost:8080/"
        },
        "id": "ZOqZHuM9XyB-",
        "outputId": "c51c0872-b36a-4728-d602-6d73084cc3c8"
      },
      "source": [
        "# Create a sample sentence and tokenize it\n",
        "sample_sentence = \"There's a flood in my street!\"\n",
        "\n",
        "# Applying our text vectorization to our above sentence \n",
        "text_vectorizer([sample_sentence])"
      ],
      "execution_count": 26,
      "outputs": [
        {
          "output_type": "execute_result",
          "data": {
            "text/plain": [
              "<tf.Tensor: shape=(1, 15), dtype=int64, numpy=\n",
              "array([[264,   3, 232,   4,  13, 698,   0,   0,   0,   0,   0,   0,   0,\n",
              "          0,   0]])>"
            ]
          },
          "metadata": {
            "tags": []
          },
          "execution_count": 26
        }
      ]
    },
    {
      "cell_type": "markdown",
      "metadata": {
        "id": "KerusqYXYF9v"
      },
      "source": [
        "We can observe that our word got converted into a number and rest 0 is to make sure to (pad) fill up the `output_sequence _length` we mentioned while creating our text vectorization layer. "
      ]
    },
    {
      "cell_type": "code",
      "metadata": {
        "colab": {
          "base_uri": "https://localhost:8080/"
        },
        "id": "6kO9pfL_YdIv",
        "outputId": "370fcb36-6449-4a2e-a0bd-3d27f84d6c41"
      },
      "source": [
        "# Choose a random sentence from the training dataset and tokenize it \n",
        "\n",
        "random_sentence = random.choice(train_sentences)\n",
        "print(f'Original text:\\n {random_sentence}\\\n",
        "      \\n\\nVectorized version:')\n",
        "text_vectorizer([random_sentence])"
      ],
      "execution_count": 27,
      "outputs": [
        {
          "output_type": "stream",
          "text": [
            "Original text:\n",
            " 2 Injured 1 missing in bridge collapse in central Mexico http://t.co/kHF0iH05A9      \n",
            "\n",
            "Vectorized version:\n"
          ],
          "name": "stdout"
        },
        {
          "output_type": "execute_result",
          "data": {
            "text/plain": [
              "<tf.Tensor: shape=(1, 15), dtype=int64, numpy=\n",
              "array([[  70,  243,  198,  373,    4,  489,  155,    4, 1425, 2864,    1,\n",
              "           0,    0,    0,    0]])>"
            ]
          },
          "metadata": {
            "tags": []
          },
          "execution_count": 27
        }
      ]
    },
    {
      "cell_type": "markdown",
      "metadata": {
        "id": "4iodWj7oY45U"
      },
      "source": [
        "Great, thought our sentence is more than 15+ words long but we want to keep our sequence withing the range 0-15. \n",
        "\n",
        "We know that `max_tokens` in our text vectorizer layer, it will help us to keep track of the unique words it come across from our data. "
      ]
    },
    {
      "cell_type": "code",
      "metadata": {
        "colab": {
          "base_uri": "https://localhost:8080/"
        },
        "id": "napcRxn-ZXVz",
        "outputId": "b5b2d5d8-bb36-41e4-bd18-73389fa76bc1"
      },
      "source": [
        "# Get the unique words in the vocabulary \n",
        "words_in_vocab = text_vectorizer.get_vocabulary() # Get all of the unique words in our training data\n",
        "\n",
        "# Most common words in our vocabulary\n",
        "top_5_words = words_in_vocab[:5] \n",
        "\n",
        "# Least common words in our vocabulary\n",
        "bottom_5_words = words_in_vocab[-5:]\n",
        "\n",
        "print(f'Number of words in vocab: {len(words_in_vocab)}')\n",
        "print(f'5 most common words: {top_5_words}')\n",
        "print(f'5 least common words: {bottom_5_words}')"
      ],
      "execution_count": 28,
      "outputs": [
        {
          "output_type": "stream",
          "text": [
            "Number of words in vocab: 10000\n",
            "5 most common words: ['', '[UNK]', 'the', 'a', 'in']\n",
            "5 least common words: ['pages', 'paeds', 'pads', 'padres', 'paddytomlinson1']\n"
          ],
          "name": "stdout"
        }
      ]
    },
    {
      "cell_type": "markdown",
      "metadata": {
        "id": "uf8O7yUKamj1"
      },
      "source": [
        "Number of unique words is **10000** its because that's what we set the max_length to. \n",
        "\n",
        "UNK - Unknown vocabulary these are words which isn't in our vocabulary. Like 10000 unique words might not cover all of the words in here. \n",
        "\n",
        "So if we increase our `max_length` parameter to 20000 then our text vectorizer can handle more unique values and there will be less [UNK] tokens. \n",
        "\n",
        "---\n",
        "\n",
        "Alright let's try out embedding and we know the best part of embedding is it can be learned. "
      ]
    },
    {
      "cell_type": "markdown",
      "metadata": {
        "id": "mNiZK80xcJdT"
      },
      "source": [
        "### Creating an Embedding using a Embedding Layer \n",
        "\n",
        "We have got a way to map our text into numbers. How about we find a way and turn those numbers into embeddings. \n",
        "\n",
        "To make our embedding, we're going to use a TensorFlow's embedding layer. https://www.tensorflow.org/api_docs/python/tf/keras/layers/Embedding\n",
        "\n",
        "At first the embedding is created the number are all going to random and we know our embedding layer learns and improves as it goes. Likewise the weights in our model it will get updated to better suit the order of the representation of our words. \n",
        "\n",
        "The parameters we care most about for our embedding layer: \n",
        "- `input_dim` = the size of our vocabulary\n",
        "- `output_dim` = the size of the output embedding vector, for example, a value of 100 would mean each token gets represented by a vector 100 long. \n",
        "- `input_lenght` = length of the sequences being passed to the embedding layer (max_length) so it's going to be 15 long. "
      ]
    },
    {
      "cell_type": "code",
      "metadata": {
        "colab": {
          "base_uri": "https://localhost:8080/"
        },
        "id": "eO3VHRmKc5YV",
        "outputId": "626c48dd-c661-433e-a7de-2821fc37da40"
      },
      "source": [
        "# In practice \n",
        "from tensorflow.keras import layers \n",
        "\n",
        "embedding = layers.Embedding(input_dim= max_vocab_length , # set input shape\n",
        "                             output_dim = 128,  # output shape\n",
        "                             input_length = max_length # How long each input is\n",
        "                             )\n",
        "\n",
        "# Looking at our embedding layer \n",
        "embedding"
      ],
      "execution_count": 29,
      "outputs": [
        {
          "output_type": "execute_result",
          "data": {
            "text/plain": [
              "<tensorflow.python.keras.layers.embeddings.Embedding at 0x7fca56f6fdd0>"
            ]
          },
          "metadata": {
            "tags": []
          },
          "execution_count": 29
        }
      ]
    },
    {
      "cell_type": "code",
      "metadata": {
        "colab": {
          "base_uri": "https://localhost:8080/"
        },
        "id": "mEe2C0JFeQpm",
        "outputId": "426de424-b334-4f25-f374-92571652a076"
      },
      "source": [
        "# Get a random sentence from our training sentence \n",
        "random_sentence = random.choice(train_sentences)\n",
        "print(f'Original text:\\n {random_sentence}')\n",
        "\n",
        "# Mapping text into numbers (turn into dense vectors of fixed size)\n",
        "tokenized_form = text_vectorizer([random_sentence]) \n",
        "print(f'\\n After turning our text into numbers:\\n\\n {tokenized_form}')\n",
        "\n",
        "# Using our embedding layer \n",
        "print(f'\\nApplying the embedding layer to our tokenized vector\\n\\n {embedding(tokenized_form)}')"
      ],
      "execution_count": 30,
      "outputs": [
        {
          "output_type": "stream",
          "text": [
            "Original text:\n",
            " Obama Declares Disaster for Typhoon-Devastated Saipan http://t.co/CanEyTtwEV #international\n",
            "\n",
            " After turning our text into numbers:\n",
            "\n",
            " [[ 213  710   75   10  754  763    1 1199    0    0    0    0    0    0\n",
            "     0]]\n",
            "\n",
            "Applying the embedding layer to our tokenized vector\n",
            "\n",
            " [[[ 0.04254    0.0316    -0.0369    ... -0.03784    0.0441    -0.04694  ]\n",
            "  [-0.04892    0.0472    -0.04443   ... -0.04407    0.01023   -0.00711  ]\n",
            "  [ 0.0015545  0.002134   0.01086   ... -0.04626   -0.03084    0.0302   ]\n",
            "  ...\n",
            "  [-0.02962   -0.02332    0.01924   ...  0.005615  -0.003662  -0.01927  ]\n",
            "  [-0.02962   -0.02332    0.01924   ...  0.005615  -0.003662  -0.01927  ]\n",
            "  [-0.02962   -0.02332    0.01924   ...  0.005615  -0.003662  -0.01927  ]]]\n"
          ],
          "name": "stdout"
        }
      ]
    },
    {
      "cell_type": "code",
      "metadata": {
        "colab": {
          "base_uri": "https://localhost:8080/"
        },
        "id": "y_86P2H8hGyg",
        "outputId": "2f55b7ba-ae4e-4ee0-c4f6-7aa4003eb2a6"
      },
      "source": [
        "sample_embed = embedding(tokenized_form)\n",
        "sample_embed"
      ],
      "execution_count": 31,
      "outputs": [
        {
          "output_type": "execute_result",
          "data": {
            "text/plain": [
              "<tf.Tensor: shape=(1, 15, 128), dtype=float16, numpy=\n",
              "array([[[ 0.04254  ,  0.0316   , -0.0369   , ..., -0.03784  ,\n",
              "          0.0441   , -0.04694  ],\n",
              "        [-0.04892  ,  0.0472   , -0.04443  , ..., -0.04407  ,\n",
              "          0.01023  , -0.00711  ],\n",
              "        [ 0.0015545,  0.002134 ,  0.01086  , ..., -0.04626  ,\n",
              "         -0.03084  ,  0.0302   ],\n",
              "        ...,\n",
              "        [-0.02962  , -0.02332  ,  0.01924  , ...,  0.005615 ,\n",
              "         -0.003662 , -0.01927  ],\n",
              "        [-0.02962  , -0.02332  ,  0.01924  , ...,  0.005615 ,\n",
              "         -0.003662 , -0.01927  ],\n",
              "        [-0.02962  , -0.02332  ,  0.01924  , ...,  0.005615 ,\n",
              "         -0.003662 , -0.01927  ]]], dtype=float16)>"
            ]
          },
          "metadata": {
            "tags": []
          },
          "execution_count": 31
        }
      ]
    },
    {
      "cell_type": "markdown",
      "metadata": {
        "id": "JJrh7mUreaO7"
      },
      "source": [
        "What is 128? \n",
        "Every single token in our sequence are now in the format of 128 long vectors. "
      ]
    },
    {
      "cell_type": "code",
      "metadata": {
        "colab": {
          "base_uri": "https://localhost:8080/"
        },
        "id": "hFE5xROLg_3h",
        "outputId": "cdc2c2b4-5eb8-49e7-a98d-6ba6c4e9f922"
      },
      "source": [
        "# Check out a single token's embedding \n",
        "sample_embed[0][0] , sample_embed[0][0].shape , random_sentence[0]"
      ],
      "execution_count": 32,
      "outputs": [
        {
          "output_type": "execute_result",
          "data": {
            "text/plain": [
              "(<tf.Tensor: shape=(128,), dtype=float16, numpy=\n",
              " array([ 0.04254 ,  0.0316  , -0.0369  ,  0.02377 ,  0.04535 , -0.0378  ,\n",
              "         0.00995 ,  0.007587,  0.01656 , -0.0484  , -0.04813 ,  0.01027 ,\n",
              "        -0.03574 ,  0.04843 , -0.00681 ,  0.001332, -0.04572 , -0.00972 ,\n",
              "        -0.04764 , -0.03552 , -0.01714 ,  0.0467  , -0.01825 , -0.011246,\n",
              "         0.012596, -0.00791 , -0.01665 ,  0.029   ,  0.04013 ,  0.01111 ,\n",
              "        -0.02408 , -0.04535 ,  0.003092, -0.04718 , -0.03854 , -0.006714,\n",
              "         0.02254 ,  0.02824 , -0.034   ,  0.04938 ,  0.0359  ,  0.02542 ,\n",
              "         0.01762 ,  0.006836,  0.04913 ,  0.02284 , -0.01534 , -0.0459  ,\n",
              "        -0.02055 , -0.02206 , -0.02065 , -0.002108,  0.03915 , -0.02605 ,\n",
              "         0.04797 ,  0.02562 , -0.04242 ,  0.03964 , -0.02087 ,  0.03111 ,\n",
              "        -0.03354 , -0.02132 , -0.01622 ,  0.000847, -0.0471  , -0.04974 ,\n",
              "        -0.01521 ,  0.01808 ,  0.01723 ,  0.0224  ,  0.01301 ,  0.01633 ,\n",
              "         0.002733,  0.04886 ,  0.02684 ,  0.02504 ,  0.01587 , -0.0492  ,\n",
              "         0.00465 , -0.0237  , -0.02563 ,  0.00087 , -0.01042 ,  0.04492 ,\n",
              "         0.01389 ,  0.0198  , -0.01593 ,  0.03333 ,  0.03207 , -0.04242 ,\n",
              "        -0.0359  , -0.03114 ,  0.04688 ,  0.02469 ,  0.01429 , -0.0489  ,\n",
              "        -0.002922,  0.003748,  0.02792 , -0.04794 ,  0.03647 , -0.00306 ,\n",
              "         0.01496 ,  0.004505, -0.0328  ,  0.013405,  0.02625 , -0.0498  ,\n",
              "        -0.01288 , -0.03256 ,  0.0399  ,  0.03094 ,  0.04965 , -0.03387 ,\n",
              "         0.0438  ,  0.00541 ,  0.00844 , -0.02931 , -0.03656 , -0.01365 ,\n",
              "         0.04517 ,  0.03738 , -0.02081 ,  0.0352  , -0.02171 , -0.03784 ,\n",
              "         0.0441  , -0.04694 ], dtype=float16)>, TensorShape([128]), 'O')"
            ]
          },
          "metadata": {
            "tags": []
          },
          "execution_count": 32
        }
      ]
    },
    {
      "cell_type": "markdown",
      "metadata": {
        "id": "h3jkOI1bhjr-"
      },
      "source": [
        "Alright next we wil discuss the various modelling experiments we're going to run. "
      ]
    },
    {
      "cell_type": "markdown",
      "metadata": {
        "id": "HcBk28ZclABH"
      },
      "source": [
        "## Modelling a text dataset (running a series of experiments) \n",
        "\n",
        "Once you've got your inputs and outputs prepared, it's a matter of figuring out which machine learning model to build in between them to bridge the gap.\n",
        "\n",
        "To get a plenty of practice, we're going to build a series of different models, each has its won experiment. We'll then compare the results of each model and see which one performed better. \n",
        "\n",
        "We're going to build, \n",
        "\n",
        "- **Model 0**: Naive Bayes (common baseline for text based data- tf-idf)\n",
        "- **Model 1**: Feed-forward neural network (dense model)\n",
        "- **Model 2**: LSTM model (RNN)\n",
        "- **Model 3**: GRU model (RNN)\n",
        "- **Model 4**: Bidirectional-LSTM model (RNN)\n",
        "- **Model 5**: 1D Convolutional Neural Network\n",
        "- **Model 6**: TensorFlow Hub Pre-trained Feature Extractor\n",
        "- **Model 7**: Same as model 6 with 10% of training data.\n",
        "\n",
        "How are we going to approach all of these? \n",
        "Use the standard steps in modelling with TensorFlow: \n",
        "- Create a Model\n",
        "- Build a Model \n",
        "- Fit a model \n",
        "- Evaluate our model\n",
        "\n",
        "Let's build a Non-deeplearning model to be more specific a Naive Bayes model from scikit-learn"
      ]
    },
    {
      "cell_type": "markdown",
      "metadata": {
        "id": "1vjNI6I84BYx"
      },
      "source": [
        "Let's experiment before the video \n"
      ]
    },
    {
      "cell_type": "code",
      "metadata": {
        "colab": {
          "base_uri": "https://localhost:8080/"
        },
        "id": "dsFEx0S13tjI",
        "outputId": "e0bc7c89-b71f-487f-c443-420539be52b0"
      },
      "source": [
        "# Checking the shapes of our splits \n",
        "train_sentences.shape , train_labels.shape , val_sentences.shape , val_labels.shape"
      ],
      "execution_count": 33,
      "outputs": [
        {
          "output_type": "execute_result",
          "data": {
            "text/plain": [
              "((6851,), (6851,), (762,), (762,))"
            ]
          },
          "metadata": {
            "tags": []
          },
          "execution_count": 33
        }
      ]
    },
    {
      "cell_type": "code",
      "metadata": {
        "colab": {
          "base_uri": "https://localhost:8080/"
        },
        "id": "PAJKkhbU5ZuR",
        "outputId": "0e61a3f0-0d0d-485f-c1d5-d5d7d2cc9b1e"
      },
      "source": [
        "from sklearn.feature_extraction.text import TfidfVectorizer\n",
        "\n",
        "# Creating a instance\n",
        "tfidf = TfidfVectorizer()\n",
        "\n",
        "# Fitting our data to our TfidfVectorizer \n",
        "tf_transformer = tfidf.fit(train_sentences)\n",
        "\n",
        "# Applying the transformation\n",
        "train_sen_trans = tf_transformer.transform(train_sentences)\n",
        "\n",
        "# Checking the shape \n",
        "train_sen_trans.shape"
      ],
      "execution_count": 34,
      "outputs": [
        {
          "output_type": "execute_result",
          "data": {
            "text/plain": [
              "(6851, 20076)"
            ]
          },
          "metadata": {
            "tags": []
          },
          "execution_count": 34
        }
      ]
    },
    {
      "cell_type": "code",
      "metadata": {
        "id": "Hk1wiOvw8U9f"
      },
      "source": [
        ""
      ],
      "execution_count": 34,
      "outputs": []
    },
    {
      "cell_type": "code",
      "metadata": {
        "colab": {
          "base_uri": "https://localhost:8080/"
        },
        "id": "4f_-oUXG7AFd",
        "outputId": "cfd50fc3-9e52-4891-90d4-529120ec20d2"
      },
      "source": [
        "train_sen_trans[:1]"
      ],
      "execution_count": 35,
      "outputs": [
        {
          "output_type": "execute_result",
          "data": {
            "text/plain": [
              "<1x20076 sparse matrix of type '<class 'numpy.float64'>'\n",
              "\twith 6 stored elements in Compressed Sparse Row format>"
            ]
          },
          "metadata": {
            "tags": []
          },
          "execution_count": 35
        }
      ]
    },
    {
      "cell_type": "code",
      "metadata": {
        "colab": {
          "base_uri": "https://localhost:8080/"
        },
        "id": "bUn77iVG4DgT",
        "outputId": "d44ab3e9-0984-40d6-b1c5-75ed5900db16"
      },
      "source": [
        "# Importing the naive bayes model for our classified \n",
        "from sklearn.naive_bayes import MultinomialNB\n",
        "\n",
        "# Creating a instance of our model \n",
        "clf_naive = MultinomialNB()\n",
        "\n",
        "# Fitting the data\n",
        "clf_naive.fit(train_sen_trans , train_labels)"
      ],
      "execution_count": 36,
      "outputs": [
        {
          "output_type": "execute_result",
          "data": {
            "text/plain": [
              "MultinomialNB(alpha=1.0, class_prior=None, fit_prior=True)"
            ]
          },
          "metadata": {
            "tags": []
          },
          "execution_count": 36
        }
      ]
    },
    {
      "cell_type": "markdown",
      "metadata": {
        "id": "O7WsjDr_4o9z"
      },
      "source": [
        "### Model 0: Getting a baseline \n",
        "\n",
        "To create our baseline, we'll use Sklearn's multinomal Naive Bayes using the TF-IDF formula to convert our words to numbers. \n",
        "\n",
        "> 🔑 **Note**: It's common practice to use non-DL algorithms as a baseline because of their speed and then later using the DL to see if we can improve. \n",
        "\n"
      ]
    },
    {
      "cell_type": "code",
      "metadata": {
        "colab": {
          "base_uri": "https://localhost:8080/"
        },
        "id": "TbCxVm415_nx",
        "outputId": "12d9c8cc-557a-42bf-9e66-7b1329820a06"
      },
      "source": [
        "train_labels"
      ],
      "execution_count": 37,
      "outputs": [
        {
          "output_type": "execute_result",
          "data": {
            "text/plain": [
              "array([0, 0, 1, ..., 1, 1, 0])"
            ]
          },
          "metadata": {
            "tags": []
          },
          "execution_count": 37
        }
      ]
    },
    {
      "cell_type": "code",
      "metadata": {
        "colab": {
          "base_uri": "https://localhost:8080/"
        },
        "id": "L3CkVvyj5H-D",
        "outputId": "10ac8d4e-7dd8-496a-f178-6d5ffa585503"
      },
      "source": [
        "from sklearn.feature_extraction.text import TfidfVectorizer # (turn text into numbers)\n",
        "from sklearn.naive_bayes import MultinomialNB\n",
        "from sklearn.pipeline import Pipeline \n",
        "\n",
        "# Create tokenization and modelling pipeline\n",
        "model_0 = Pipeline([\n",
        "                  ('tfidf' , TfidfVectorizer()) , # Convert words to numbers using tfidf\n",
        "                  ('clf' , MultinomialNB()), # Model the text \n",
        "                ])\n",
        "\n",
        "# Fit the pipeline to the training data \n",
        "model_0.fit(train_sentences , train_labels)"
      ],
      "execution_count": 38,
      "outputs": [
        {
          "output_type": "execute_result",
          "data": {
            "text/plain": [
              "Pipeline(memory=None,\n",
              "         steps=[('tfidf',\n",
              "                 TfidfVectorizer(analyzer='word', binary=False,\n",
              "                                 decode_error='strict',\n",
              "                                 dtype=<class 'numpy.float64'>,\n",
              "                                 encoding='utf-8', input='content',\n",
              "                                 lowercase=True, max_df=1.0, max_features=None,\n",
              "                                 min_df=1, ngram_range=(1, 1), norm='l2',\n",
              "                                 preprocessor=None, smooth_idf=True,\n",
              "                                 stop_words=None, strip_accents=None,\n",
              "                                 sublinear_tf=False,\n",
              "                                 token_pattern='(?u)\\\\b\\\\w\\\\w+\\\\b',\n",
              "                                 tokenizer=None, use_idf=True,\n",
              "                                 vocabulary=None)),\n",
              "                ('clf',\n",
              "                 MultinomialNB(alpha=1.0, class_prior=None, fit_prior=True))],\n",
              "         verbose=False)"
            ]
          },
          "metadata": {
            "tags": []
          },
          "execution_count": 38
        }
      ]
    },
    {
      "cell_type": "code",
      "metadata": {
        "colab": {
          "base_uri": "https://localhost:8080/"
        },
        "id": "_u9cp5jB5peK",
        "outputId": "a9c339f2-1f18-4deb-d004-6271458aa59c"
      },
      "source": [
        "# Evaluate our baseline model \n",
        "# Default evaluation metrics is accuracy\n",
        "baseline_score = model_0.score(val_sentences , val_labels)\n",
        "print(f'Our baseline mdoel achieves an accuracy of: {baseline_score*100:.2f}%')"
      ],
      "execution_count": 39,
      "outputs": [
        {
          "output_type": "stream",
          "text": [
            "Our baseline mdoel achieves an accuracy of: 79.27%\n"
          ],
          "name": "stdout"
        }
      ]
    },
    {
      "cell_type": "code",
      "metadata": {
        "colab": {
          "base_uri": "https://localhost:8080/"
        },
        "id": "Dl9JsXSN7ky8",
        "outputId": "ff8ba077-3d1a-489c-b178-575af5ea573b"
      },
      "source": [
        "# Make predictions \n",
        "baseline_preds = model_0.predict(val_sentences)\n",
        "\n",
        "# First 10 predictions\n",
        "baseline_preds[:10]"
      ],
      "execution_count": 40,
      "outputs": [
        {
          "output_type": "execute_result",
          "data": {
            "text/plain": [
              "array([1, 1, 1, 0, 0, 1, 1, 1, 1, 0])"
            ]
          },
          "metadata": {
            "tags": []
          },
          "execution_count": 40
        }
      ]
    },
    {
      "cell_type": "markdown",
      "metadata": {
        "id": "CAuUiBdK78kc"
      },
      "source": [
        "Let's use some of the other evaluation metrics. We will make a handy function which will help us to reduce the hustle of writing out every evaluation metrics. "
      ]
    },
    {
      "cell_type": "code",
      "metadata": {
        "id": "ffgtOsFj81s9"
      },
      "source": [
        "def classification_evaluation_metrics(y_true , \n",
        "                                      y_preds):\n",
        "  '''\n",
        "  Arguments: \n",
        "  y_true --> true labels of the data \n",
        "  y_preds --> predicted labels of the data \n",
        "\n",
        "  Returns: \n",
        "  A dictionary of evaluation metrics like precision , recall and f1_score\n",
        "  '''\n",
        "\n",
        "  # Let's first import the needed metrics \n",
        "  from sklearn.metrics import precision_score , f1_score , accuracy_score , recall_score\n",
        "\n",
        "  # Creting the metrics \n",
        "  accuracy = accuracy_score(y_true , y_preds)\n",
        "  f1_score = f1_score(y_true , y_preds)\n",
        "  precision = precision_score(y_true , y_preds)\n",
        "  recall = recall_score(y_true , y_preds)\n",
        "\n",
        "  # Now will create a dictionary of these metrics and pack them\n",
        "  evaluation_dict = {'Accuracy:': accuracy * 100 , \n",
        "                     'F1_Score: ': f1_score , \n",
        "                     'Precision: ': precision , \n",
        "                     'Recall: ': recall }\n",
        "\n",
        "  # Return our dictionary \n",
        "  return evaluation_dict\n",
        "  "
      ],
      "execution_count": 41,
      "outputs": []
    },
    {
      "cell_type": "code",
      "metadata": {
        "colab": {
          "base_uri": "https://localhost:8080/"
        },
        "id": "4-3DefbG9o43",
        "outputId": "a5b04e86-9f0c-4bd6-85c2-3dd51fdef3b5"
      },
      "source": [
        "# Using the above function \n",
        "naive_baseline_results = classification_evaluation_metrics(val_labels , \n",
        "                                                    baseline_preds)\n",
        "\n",
        "# Looking into the dictionary of evaluation metrics \n",
        "naive_baseline_results"
      ],
      "execution_count": 42,
      "outputs": [
        {
          "output_type": "execute_result",
          "data": {
            "text/plain": [
              "{'Accuracy:': 79.26509186351706,\n",
              " 'F1_Score: ': 0.734006734006734,\n",
              " 'Precision: ': 0.8861788617886179,\n",
              " 'Recall: ': 0.6264367816091954}"
            ]
          },
          "metadata": {
            "tags": []
          },
          "execution_count": 42
        }
      ]
    },
    {
      "cell_type": "markdown",
      "metadata": {
        "id": "MmYz3EG6-cGM"
      },
      "source": [
        "Great! Our baseline model worked better than we expected. Now let's build a Feed-forward neural network model for our text data.\n",
        "\n",
        "### Model 1: Feed Forward Neural Network (Dense layers) \n"
      ]
    },
    {
      "cell_type": "code",
      "metadata": {
        "id": "2VZoRLGGBFkl"
      },
      "source": [
        "# Create a tensorboard callback (to track the model experiments) \n",
        "# New one for each model\n",
        "from helper_functions import create_tensorboard_callback\n",
        "\n",
        "# Create a directory to save tensorboard logs \n",
        "SAVE_DIR = 'model_logs'"
      ],
      "execution_count": 43,
      "outputs": []
    },
    {
      "cell_type": "code",
      "metadata": {
        "colab": {
          "base_uri": "https://localhost:8080/"
        },
        "id": "Khw1pA1pFaWb",
        "outputId": "cd920ad0-b106-4774-a978-0718ebc81ed7"
      },
      "source": [
        "# Build model with the functional API \n",
        "from tensorflow.keras import layers \n",
        "\n",
        "# Creating our input layer (inputs are 1D strings)\n",
        "inputs = layers.Input(shape=(1,) , dtype = tf.string)\n",
        "\n",
        "# Convert strings into numbers and applying word embedding\n",
        "x = text_vectorizer(inputs) # turn input text into numbers \n",
        "x = embedding(x) # Create an embedding of the numberized inputs \n",
        "\n",
        "# Ouput layer (want binary outputs so use sigmoid activation function)\n",
        "outputs = layers.Dense(1, activation='sigmoid')(x) \n",
        "\n",
        "# Packing into a model \n",
        "model_1 = tf.keras.Model(inputs , outputs , name = 'model_1_dense')\n",
        "\n",
        "# Getting the model summary \n",
        "model_1.summary()"
      ],
      "execution_count": 44,
      "outputs": [
        {
          "output_type": "stream",
          "text": [
            "Model: \"model_1_dense\"\n",
            "_________________________________________________________________\n",
            "Layer (type)                 Output Shape              Param #   \n",
            "=================================================================\n",
            "input_1 (InputLayer)         [(None, 1)]               0         \n",
            "_________________________________________________________________\n",
            "text_vectorization_1 (TextVe (None, 15)                0         \n",
            "_________________________________________________________________\n",
            "embedding (Embedding)        (None, 15, 128)           1280000   \n",
            "_________________________________________________________________\n",
            "dense (Dense)                (None, 15, 1)             129       \n",
            "=================================================================\n",
            "Total params: 1,280,129\n",
            "Trainable params: 1,280,129\n",
            "Non-trainable params: 0\n",
            "_________________________________________________________________\n"
          ],
          "name": "stdout"
        }
      ]
    },
    {
      "cell_type": "markdown",
      "metadata": {
        "id": "Z7FJjkw4GoiB"
      },
      "source": [
        "At `embedding_2 (Embedding)` our embedding layers adds a extra dimension 128 so our model's parameters gets increased in numbers.\n",
        "\n",
        "Because every single tokens (15 tokens) get represented as 128 long feature vector. "
      ]
    },
    {
      "cell_type": "code",
      "metadata": {
        "id": "vw1YnCMMG0QU"
      },
      "source": [
        "# Compile the model \n",
        "model_1.compile(loss = tf.keras.losses.BinaryCrossentropy() , \n",
        "                optimizer = tf.keras.optimizers.Adam() , \n",
        "                metrics = ['accuracy'])"
      ],
      "execution_count": 45,
      "outputs": []
    },
    {
      "cell_type": "code",
      "metadata": {
        "colab": {
          "base_uri": "https://localhost:8080/"
        },
        "id": "nu8pf9UvHqR1",
        "outputId": "30c6f209-a9ab-4ef0-b6df-1e4b71efce41"
      },
      "source": [
        "# Fit the model \n",
        "model_1_history = model_1.fit(train_sentences ,\n",
        "                              train_labels , \n",
        "                              epochs = 5 , \n",
        "                              validation_data = (val_sentences , val_labels) , \n",
        "                              callbacks = [create_tensorboard_callback(dir_name = SAVE_DIR , \n",
        "                                                                       experiment_name = 'model_1_dense')])"
      ],
      "execution_count": 46,
      "outputs": [
        {
          "output_type": "stream",
          "text": [
            "Saving TensorBoard log files to: model_logs/model_1_dense/20210605-083433\n",
            "Epoch 1/5\n",
            "215/215 [==============================] - 7s 17ms/step - loss: 0.6492 - accuracy: 0.6383 - val_loss: 0.6300 - val_accuracy: 0.6467\n",
            "Epoch 2/5\n",
            "215/215 [==============================] - 3s 14ms/step - loss: 0.5968 - accuracy: 0.6894 - val_loss: 0.6277 - val_accuracy: 0.6459\n",
            "Epoch 3/5\n",
            "215/215 [==============================] - 3s 14ms/step - loss: 0.5767 - accuracy: 0.6913 - val_loss: 0.6297 - val_accuracy: 0.6472\n",
            "Epoch 4/5\n",
            "215/215 [==============================] - 3s 14ms/step - loss: 0.5681 - accuracy: 0.6928 - val_loss: 0.6308 - val_accuracy: 0.6492\n",
            "Epoch 5/5\n",
            "215/215 [==============================] - 3s 14ms/step - loss: 0.5633 - accuracy: 0.6916 - val_loss: 0.6328 - val_accuracy: 0.6492\n"
          ],
          "name": "stdout"
        }
      ]
    },
    {
      "cell_type": "code",
      "metadata": {
        "colab": {
          "base_uri": "https://localhost:8080/"
        },
        "id": "FbtEqxwhIGAc",
        "outputId": "2666c968-6e85-406f-868d-a65ce63c8ad0"
      },
      "source": [
        "# Check the results \n",
        "model_1.evaluate(val_sentences , val_labels)"
      ],
      "execution_count": 47,
      "outputs": [
        {
          "output_type": "stream",
          "text": [
            "24/24 [==============================] - 0s 3ms/step - loss: 0.6328 - accuracy: 0.6492\n"
          ],
          "name": "stdout"
        },
        {
          "output_type": "execute_result",
          "data": {
            "text/plain": [
              "[0.6327945590019226, 0.6491687893867493]"
            ]
          },
          "metadata": {
            "tags": []
          },
          "execution_count": 47
        }
      ]
    },
    {
      "cell_type": "code",
      "metadata": {
        "colab": {
          "base_uri": "https://localhost:8080/"
        },
        "id": "Jsjg8-aTIfqj",
        "outputId": "ea46e75c-dd14-4c47-d586-f6d04f289c22"
      },
      "source": [
        "# Make some predictions and evaluate \n",
        "model_1_pred_probs = model_1.predict(val_sentences)\n",
        "model_1_pred_probs.shape"
      ],
      "execution_count": 48,
      "outputs": [
        {
          "output_type": "execute_result",
          "data": {
            "text/plain": [
              "(762, 15, 1)"
            ]
          },
          "metadata": {
            "tags": []
          },
          "execution_count": 48
        }
      ]
    },
    {
      "cell_type": "code",
      "metadata": {
        "colab": {
          "base_uri": "https://localhost:8080/"
        },
        "id": "rGYX8UtkIplD",
        "outputId": "fc9770b1-59ff-4b47-9139-2eb94973fcb8"
      },
      "source": [
        "model_1_pred_probs[:1]"
      ],
      "execution_count": 49,
      "outputs": [
        {
          "output_type": "execute_result",
          "data": {
            "text/plain": [
              "array([[[0.4468 ],\n",
              "        [0.4468 ],\n",
              "        [0.4468 ],\n",
              "        [0.141  ],\n",
              "        [0.433  ],\n",
              "        [0.4468 ],\n",
              "        [0.4468 ],\n",
              "        [0.4468 ],\n",
              "        [0.107  ],\n",
              "        [0.3884 ],\n",
              "        [0.4468 ],\n",
              "        [0.9517 ],\n",
              "        [0.03543],\n",
              "        [0.4468 ],\n",
              "        [0.3748 ]]], dtype=float16)"
            ]
          },
          "metadata": {
            "tags": []
          },
          "execution_count": 49
        }
      ]
    },
    {
      "cell_type": "markdown",
      "metadata": {
        "id": "pXjd2qFHItvp"
      },
      "source": [
        "We want a single prediction probability for each sample but it looks like it is outputing a prediction probability for each tokens.\n",
        "\n",
        "To fix this we will be using **GlobalAveragePooling** layer. This will help us to condense the feature vector for each token to one vector."
      ]
    },
    {
      "cell_type": "code",
      "metadata": {
        "id": "fvpHkavdJHG4"
      },
      "source": [
        "# Let's build the model again but with GlobalAveragePooling \n",
        "from tensorflow.keras import layers \n",
        "\n",
        "# Input layer\n",
        "inputs = layers.Input(shape = (1,) , dtype = tf.string)\n",
        "\n",
        "# Turn text into numbers and create an word embedding \n",
        "x = text_vectorizer(inputs)\n",
        "x = embedding(x)\n",
        "\n",
        "# Condense the feature vector for each token to \"one vector\"\n",
        "x = layers.GlobalAveragePooling1D()(x)\n",
        "\n",
        "# Output layer \n",
        "outputs = layers.Dense(1 , activation = 'sigmoid')(x)\n",
        "\n",
        "# Packing into a model \n",
        "model_1 = tf.keras.Model(inputs , outputs , name = 'model_1_dense')\n"
      ],
      "execution_count": 50,
      "outputs": []
    },
    {
      "cell_type": "code",
      "metadata": {
        "colab": {
          "base_uri": "https://localhost:8080/"
        },
        "id": "n3nbJxUJLIMe",
        "outputId": "58ce0532-1a32-4c0f-c917-5f39ce0589ea"
      },
      "source": [
        "# Checking the summary of the model\n",
        "model_1.summary()"
      ],
      "execution_count": 51,
      "outputs": [
        {
          "output_type": "stream",
          "text": [
            "Model: \"model_1_dense\"\n",
            "_________________________________________________________________\n",
            "Layer (type)                 Output Shape              Param #   \n",
            "=================================================================\n",
            "input_2 (InputLayer)         [(None, 1)]               0         \n",
            "_________________________________________________________________\n",
            "text_vectorization_1 (TextVe (None, 15)                0         \n",
            "_________________________________________________________________\n",
            "embedding (Embedding)        (None, 15, 128)           1280000   \n",
            "_________________________________________________________________\n",
            "global_average_pooling1d (Gl (None, 128)               0         \n",
            "_________________________________________________________________\n",
            "dense_1 (Dense)              (None, 1)                 129       \n",
            "=================================================================\n",
            "Total params: 1,280,129\n",
            "Trainable params: 1,280,129\n",
            "Non-trainable params: 0\n",
            "_________________________________________________________________\n"
          ],
          "name": "stdout"
        }
      ]
    },
    {
      "cell_type": "code",
      "metadata": {
        "id": "k35WDOFwKHPt"
      },
      "source": [
        "# Compile the model \n",
        "model_1.compile(loss = tf.keras.losses.BinaryCrossentropy() , \n",
        "                optimizer = tf.keras.optimizers.Adam() , \n",
        "                metrics = 'accuracy')"
      ],
      "execution_count": 52,
      "outputs": []
    },
    {
      "cell_type": "code",
      "metadata": {
        "colab": {
          "base_uri": "https://localhost:8080/"
        },
        "id": "rXWkThpJKRJ9",
        "outputId": "fbc06ba5-aa77-47aa-f5b3-3a2e79218b11"
      },
      "source": [
        "# Fitting the model \n",
        "model_1.fit(train_sentences , \n",
        "            train_labels , \n",
        "            epochs = 5 , \n",
        "            validation_data = (val_sentences , val_labels) , \n",
        "            callbacks = create_tensorboard_callback(dir_name= SAVE_DIR , \n",
        "                                                    experiment_name = 'model_1_dense_pool_layer'))"
      ],
      "execution_count": 53,
      "outputs": [
        {
          "output_type": "stream",
          "text": [
            "Saving TensorBoard log files to: model_logs/model_1_dense_pool_layer/20210605-083453\n",
            "Epoch 1/5\n",
            "215/215 [==============================] - 4s 17ms/step - loss: 0.5715 - accuracy: 0.7517 - val_loss: 0.5254 - val_accuracy: 0.7677\n",
            "Epoch 2/5\n",
            "215/215 [==============================] - 3s 14ms/step - loss: 0.4015 - accuracy: 0.8511 - val_loss: 0.4607 - val_accuracy: 0.7861\n",
            "Epoch 3/5\n",
            "215/215 [==============================] - 3s 14ms/step - loss: 0.3178 - accuracy: 0.8790 - val_loss: 0.4517 - val_accuracy: 0.7927\n",
            "Epoch 4/5\n",
            "215/215 [==============================] - 3s 14ms/step - loss: 0.2648 - accuracy: 0.9035 - val_loss: 0.4579 - val_accuracy: 0.7887\n",
            "Epoch 5/5\n",
            "215/215 [==============================] - 3s 14ms/step - loss: 0.2246 - accuracy: 0.9193 - val_loss: 0.4713 - val_accuracy: 0.7874\n"
          ],
          "name": "stdout"
        },
        {
          "output_type": "execute_result",
          "data": {
            "text/plain": [
              "<tensorflow.python.keras.callbacks.History at 0x7fca3ac52d90>"
            ]
          },
          "metadata": {
            "tags": []
          },
          "execution_count": 53
        }
      ]
    },
    {
      "cell_type": "code",
      "metadata": {
        "colab": {
          "base_uri": "https://localhost:8080/"
        },
        "id": "YTjNQrq4Km3E",
        "outputId": "62c367d1-6269-4a02-f715-3bc39e09adf4"
      },
      "source": [
        "# Checking the results by evaluatiing our model \n",
        "model_1.evaluate(val_sentences , val_labels)"
      ],
      "execution_count": 54,
      "outputs": [
        {
          "output_type": "stream",
          "text": [
            "24/24 [==============================] - 0s 3ms/step - loss: 0.4713 - accuracy: 0.7874\n"
          ],
          "name": "stdout"
        },
        {
          "output_type": "execute_result",
          "data": {
            "text/plain": [
              "[0.47125741839408875, 0.787401556968689]"
            ]
          },
          "metadata": {
            "tags": []
          },
          "execution_count": 54
        }
      ]
    },
    {
      "cell_type": "code",
      "metadata": {
        "colab": {
          "base_uri": "https://localhost:8080/"
        },
        "id": "17mCz3ybKuEs",
        "outputId": "db752b02-1699-47b7-8d18-656fc69b9a09"
      },
      "source": [
        "# Making prediction \n",
        "model_1_pred_probs = model_1.predict(val_sentences)\n",
        "model_1_pred_probs.shape"
      ],
      "execution_count": 55,
      "outputs": [
        {
          "output_type": "execute_result",
          "data": {
            "text/plain": [
              "(762, 1)"
            ]
          },
          "metadata": {
            "tags": []
          },
          "execution_count": 55
        }
      ]
    },
    {
      "cell_type": "code",
      "metadata": {
        "colab": {
          "base_uri": "https://localhost:8080/"
        },
        "id": "apxA4ntXK326",
        "outputId": "05414d1f-8782-492d-9dc1-b61dd961c9ea"
      },
      "source": [
        "# How our predictions looks now? \n",
        "model_1_pred_probs[:10]"
      ],
      "execution_count": 56,
      "outputs": [
        {
          "output_type": "execute_result",
          "data": {
            "text/plain": [
              "array([[0.308 ],\n",
              "       [0.739 ],\n",
              "       [0.998 ],\n",
              "       [0.1533],\n",
              "       [0.1194],\n",
              "       [0.944 ],\n",
              "       [0.873 ],\n",
              "       [0.996 ],\n",
              "       [0.973 ],\n",
              "       [0.267 ]], dtype=float16)"
            ]
          },
          "metadata": {
            "tags": []
          },
          "execution_count": 56
        }
      ]
    },
    {
      "cell_type": "code",
      "metadata": {
        "colab": {
          "base_uri": "https://localhost:8080/"
        },
        "id": "hTjB4MpMLBAY",
        "outputId": "bf9087b6-3a33-4b1a-bb10-8a0160e835ea"
      },
      "source": [
        "# Convert model prediction probs to label format \n",
        "\n",
        "model_1_preds = tf.squeeze(tf.round(model_1_pred_probs))\n",
        "model_1_preds[:20]"
      ],
      "execution_count": 57,
      "outputs": [
        {
          "output_type": "execute_result",
          "data": {
            "text/plain": [
              "<tf.Tensor: shape=(20,), dtype=float16, numpy=\n",
              "array([0., 1., 1., 0., 0., 1., 1., 1., 1., 0., 0., 1., 0., 0., 0., 0., 0.,\n",
              "       0., 0., 1.], dtype=float16)>"
            ]
          },
          "metadata": {
            "tags": []
          },
          "execution_count": 57
        }
      ]
    },
    {
      "cell_type": "code",
      "metadata": {
        "colab": {
          "base_uri": "https://localhost:8080/"
        },
        "id": "UFxONJ5WMn0k",
        "outputId": "24e530b3-61f6-497b-f6f8-df74b17982d5"
      },
      "source": [
        "# Calculate our model_1 results \n",
        "model_1_results = classification_evaluation_metrics(y_true = val_labels , \n",
        "                                                    y_preds = model_1_preds)\n",
        "\n",
        "model_1_results"
      ],
      "execution_count": 58,
      "outputs": [
        {
          "output_type": "execute_result",
          "data": {
            "text/plain": [
              "{'Accuracy:': 78.74015748031496,\n",
              " 'F1_Score: ': 0.7452830188679245,\n",
              " 'Precision: ': 0.8229166666666666,\n",
              " 'Recall: ': 0.6810344827586207}"
            ]
          },
          "metadata": {
            "tags": []
          },
          "execution_count": 58
        }
      ]
    },
    {
      "cell_type": "code",
      "metadata": {
        "colab": {
          "base_uri": "https://localhost:8080/"
        },
        "id": "vdKr9mZqM1D4",
        "outputId": "1322d38c-87d0-45dd-ffc4-aa3878701a41"
      },
      "source": [
        "# Our baseline metrics \n",
        "naive_baseline_results"
      ],
      "execution_count": 59,
      "outputs": [
        {
          "output_type": "execute_result",
          "data": {
            "text/plain": [
              "{'Accuracy:': 79.26509186351706,\n",
              " 'F1_Score: ': 0.734006734006734,\n",
              " 'Precision: ': 0.8861788617886179,\n",
              " 'Recall: ': 0.6264367816091954}"
            ]
          },
          "metadata": {
            "tags": []
          },
          "execution_count": 59
        }
      ]
    },
    {
      "cell_type": "code",
      "metadata": {
        "colab": {
          "base_uri": "https://localhost:8080/"
        },
        "id": "QBthn7ZvM-pc",
        "outputId": "dc12fb17-b6f4-4123-8496-7f348582bfb6"
      },
      "source": [
        "# Comparing our base line model with our deeplearning model\n",
        "import numpy as np\n",
        "np.array(list(model_1_results.values())) > np.array(list(naive_baseline_results.values()))"
      ],
      "execution_count": 60,
      "outputs": [
        {
          "output_type": "execute_result",
          "data": {
            "text/plain": [
              "array([False,  True, False,  True])"
            ]
          },
          "metadata": {
            "tags": []
          },
          "execution_count": 60
        }
      ]
    },
    {
      "cell_type": "markdown",
      "metadata": {
        "id": "hh1UM4cvNNci"
      },
      "source": [
        "### Visualizing our model's learned word embeddings with TensorFlow's projector tool"
      ]
    },
    {
      "cell_type": "code",
      "metadata": {
        "colab": {
          "base_uri": "https://localhost:8080/"
        },
        "id": "g9pggGkfNg6n",
        "outputId": "ac4f38aa-61f9-49b1-ca04-5bd0067330ec"
      },
      "source": [
        "# Get the vocabulary from the text vectorization layer \n",
        "\n",
        "# Getting the unique vocabulary our embedding layer learnt\n",
        "words_in_vocab = text_vectorizer.get_vocabulary()\n",
        "len(words_in_vocab) , words_in_vocab[:10]"
      ],
      "execution_count": 61,
      "outputs": [
        {
          "output_type": "execute_result",
          "data": {
            "text/plain": [
              "(10000, ['', '[UNK]', 'the', 'a', 'in', 'to', 'of', 'and', 'i', 'is'])"
            ]
          },
          "metadata": {
            "tags": []
          },
          "execution_count": 61
        }
      ]
    },
    {
      "cell_type": "code",
      "metadata": {
        "colab": {
          "base_uri": "https://localhost:8080/"
        },
        "id": "yDE5iZC3OO2h",
        "outputId": "cff97c2e-8dfd-419d-f15f-7552eb585263"
      },
      "source": [
        "# Model 1 summary (inspect the embedding layer)\n",
        "model_1.summary()"
      ],
      "execution_count": 62,
      "outputs": [
        {
          "output_type": "stream",
          "text": [
            "Model: \"model_1_dense\"\n",
            "_________________________________________________________________\n",
            "Layer (type)                 Output Shape              Param #   \n",
            "=================================================================\n",
            "input_2 (InputLayer)         [(None, 1)]               0         \n",
            "_________________________________________________________________\n",
            "text_vectorization_1 (TextVe (None, 15)                0         \n",
            "_________________________________________________________________\n",
            "embedding (Embedding)        (None, 15, 128)           1280000   \n",
            "_________________________________________________________________\n",
            "global_average_pooling1d (Gl (None, 128)               0         \n",
            "_________________________________________________________________\n",
            "dense_1 (Dense)              (None, 1)                 129       \n",
            "=================================================================\n",
            "Total params: 1,280,129\n",
            "Trainable params: 1,280,129\n",
            "Non-trainable params: 0\n",
            "_________________________________________________________________\n"
          ],
          "name": "stdout"
        }
      ]
    },
    {
      "cell_type": "markdown",
      "metadata": {
        "id": "8KOQ3yM5OnCb"
      },
      "source": [
        "Let's get the weight matrix of our embedding layer \n",
        "\n",
        "These are the numerical representation of each token in our training data, which have been learned for 5 epochs (patterns from our embedding layer). "
      ]
    },
    {
      "cell_type": "code",
      "metadata": {
        "colab": {
          "base_uri": "https://localhost:8080/"
        },
        "id": "v8m8gYL4O4GN",
        "outputId": "d9607968-59d8-4751-cd17-33901a508741"
      },
      "source": [
        "embed_weights = model_1.get_layer('embedding').get_weights()\n",
        "embed_weights"
      ],
      "execution_count": 63,
      "outputs": [
        {
          "output_type": "execute_result",
          "data": {
            "text/plain": [
              "[array([[-0.00276922,  0.00256951,  0.05135722, ...,  0.03670349,\n",
              "         -0.0564402 ,  0.01295471],\n",
              "        [-0.0149462 ,  0.05777242, -0.0368599 , ...,  0.05340005,\n",
              "         -0.03199897,  0.03258126],\n",
              "        [ 0.01504119, -0.01001876,  0.00357341, ..., -0.00698125,\n",
              "         -0.0304571 , -0.00382677],\n",
              "        ...,\n",
              "        [-0.01803113, -0.00697545,  0.04812337, ..., -0.02063043,\n",
              "         -0.04075162,  0.00354875],\n",
              "        [-0.11780557, -0.09724864, -0.06488988, ..., -0.0664387 ,\n",
              "         -0.08825338, -0.07632607],\n",
              "        [-0.09122409, -0.10534292, -0.12741779, ..., -0.09313208,\n",
              "         -0.08436017, -0.11393286]], dtype=float32)]"
            ]
          },
          "metadata": {
            "tags": []
          },
          "execution_count": 63
        }
      ]
    },
    {
      "cell_type": "markdown",
      "metadata": {
        "id": "8i6XvRzsPKd_"
      },
      "source": [
        "Those are the weights learned by our embedding layers. "
      ]
    },
    {
      "cell_type": "code",
      "metadata": {
        "colab": {
          "base_uri": "https://localhost:8080/"
        },
        "id": "lq-6SYq9PaJA",
        "outputId": "514f023a-b394-47fa-c729-f5148fe667fb"
      },
      "source": [
        "# The shape should be same size as vocab and embedding_dim (output_dim of our embedding layer)\n",
        "embed_weights[0].shape "
      ],
      "execution_count": 64,
      "outputs": [
        {
          "output_type": "execute_result",
          "data": {
            "text/plain": [
              "(10000, 128)"
            ]
          },
          "metadata": {
            "tags": []
          },
          "execution_count": 64
        }
      ]
    },
    {
      "cell_type": "markdown",
      "metadata": {
        "id": "DiIR5NDZPlfx"
      },
      "source": [
        "From above we can understand that,\n",
        "1000 from every token is embedded into 128 dimension vector. \n",
        "\n",
        "Now we've got the embeddig matrix of our model has learned to represent our tokens, let's see how we visualize it. \n",
        "\n",
        "To do so, TensorFlow has a handy tool called projector: http://projector.tensorflow.org/_\n",
        "\n",
        "And TensorFlow also has a guide on Word Embeddings: https://www.tensorflow.org/tutorials/text/word_embeddings"
      ]
    },
    {
      "cell_type": "code",
      "metadata": {
        "id": "SCTJ0F4iPzZO"
      },
      "source": [
        "# Create embedding files (we got this from TensorFlow's word embeddings documentation)\n",
        "\n",
        "import io \n",
        "# Creating a vector and metadata file for our embeddings (tokens and words)\n",
        "out_v = io.open('vectors.tsv' , 'w' , encoding = 'utf-8')\n",
        "out_m = io.open('metadata.tsv' , 'w' , encoding = 'utf-8')\n",
        "\n",
        "# Loop through and write our values to the corresponding files we created above \n",
        "for index , word in enumerate(words_in_vocab):\n",
        "  if index == 0:\n",
        "    continue # Skip 0, its padding\n",
        "  \n",
        "  vec = embed_weights[0][index]\n",
        "  out_v.write('\\t'.join([str(x) for x in vec]) + \"\\n\")\n",
        "  out_m.write(word + '\\n')\n",
        "\n",
        "out_v.close()\n",
        "out_m.close()\n",
        "\n",
        "\n"
      ],
      "execution_count": 65,
      "outputs": []
    },
    {
      "cell_type": "code",
      "metadata": {
        "colab": {
          "base_uri": "https://localhost:8080/",
          "height": 17
        },
        "id": "V9qXC42Ykegy",
        "outputId": "e3f0a96f-5587-4522-d65e-c6a87901fefe"
      },
      "source": [
        "# Download files from Colab to upload to the projector \n",
        "try: \n",
        "  from google.colab import files \n",
        "  files.download('vectors.tsv')\n",
        "  files.download('metadata.tsv')\n",
        "except Exception: \n",
        "  pass  "
      ],
      "execution_count": 66,
      "outputs": [
        {
          "output_type": "display_data",
          "data": {
            "application/javascript": [
              "\n",
              "    async function download(id, filename, size) {\n",
              "      if (!google.colab.kernel.accessAllowed) {\n",
              "        return;\n",
              "      }\n",
              "      const div = document.createElement('div');\n",
              "      const label = document.createElement('label');\n",
              "      label.textContent = `Downloading \"${filename}\": `;\n",
              "      div.appendChild(label);\n",
              "      const progress = document.createElement('progress');\n",
              "      progress.max = size;\n",
              "      div.appendChild(progress);\n",
              "      document.body.appendChild(div);\n",
              "\n",
              "      const buffers = [];\n",
              "      let downloaded = 0;\n",
              "\n",
              "      const channel = await google.colab.kernel.comms.open(id);\n",
              "      // Send a message to notify the kernel that we're ready.\n",
              "      channel.send({})\n",
              "\n",
              "      for await (const message of channel.messages) {\n",
              "        // Send a message to notify the kernel that we're ready.\n",
              "        channel.send({})\n",
              "        if (message.buffers) {\n",
              "          for (const buffer of message.buffers) {\n",
              "            buffers.push(buffer);\n",
              "            downloaded += buffer.byteLength;\n",
              "            progress.value = downloaded;\n",
              "          }\n",
              "        }\n",
              "      }\n",
              "      const blob = new Blob(buffers, {type: 'application/binary'});\n",
              "      const a = document.createElement('a');\n",
              "      a.href = window.URL.createObjectURL(blob);\n",
              "      a.download = filename;\n",
              "      div.appendChild(a);\n",
              "      a.click();\n",
              "      div.remove();\n",
              "    }\n",
              "  "
            ],
            "text/plain": [
              "<IPython.core.display.Javascript object>"
            ]
          },
          "metadata": {
            "tags": []
          }
        },
        {
          "output_type": "display_data",
          "data": {
            "application/javascript": [
              "download(\"download_f8b88174-4d87-4ba0-86e9-f592af0f52e8\", \"vectors.tsv\", 15096953)"
            ],
            "text/plain": [
              "<IPython.core.display.Javascript object>"
            ]
          },
          "metadata": {
            "tags": []
          }
        },
        {
          "output_type": "display_data",
          "data": {
            "application/javascript": [
              "\n",
              "    async function download(id, filename, size) {\n",
              "      if (!google.colab.kernel.accessAllowed) {\n",
              "        return;\n",
              "      }\n",
              "      const div = document.createElement('div');\n",
              "      const label = document.createElement('label');\n",
              "      label.textContent = `Downloading \"${filename}\": `;\n",
              "      div.appendChild(label);\n",
              "      const progress = document.createElement('progress');\n",
              "      progress.max = size;\n",
              "      div.appendChild(progress);\n",
              "      document.body.appendChild(div);\n",
              "\n",
              "      const buffers = [];\n",
              "      let downloaded = 0;\n",
              "\n",
              "      const channel = await google.colab.kernel.comms.open(id);\n",
              "      // Send a message to notify the kernel that we're ready.\n",
              "      channel.send({})\n",
              "\n",
              "      for await (const message of channel.messages) {\n",
              "        // Send a message to notify the kernel that we're ready.\n",
              "        channel.send({})\n",
              "        if (message.buffers) {\n",
              "          for (const buffer of message.buffers) {\n",
              "            buffers.push(buffer);\n",
              "            downloaded += buffer.byteLength;\n",
              "            progress.value = downloaded;\n",
              "          }\n",
              "        }\n",
              "      }\n",
              "      const blob = new Blob(buffers, {type: 'application/binary'});\n",
              "      const a = document.createElement('a');\n",
              "      a.href = window.URL.createObjectURL(blob);\n",
              "      a.download = filename;\n",
              "      div.appendChild(a);\n",
              "      a.click();\n",
              "      div.remove();\n",
              "    }\n",
              "  "
            ],
            "text/plain": [
              "<IPython.core.display.Javascript object>"
            ]
          },
          "metadata": {
            "tags": []
          }
        },
        {
          "output_type": "display_data",
          "data": {
            "application/javascript": [
              "download(\"download_50c2ea29-767e-405f-aa85-9aa57e76a20a\", \"metadata.tsv\", 80388)"
            ],
            "text/plain": [
              "<IPython.core.display.Javascript object>"
            ]
          },
          "metadata": {
            "tags": []
          }
        }
      ]
    },
    {
      "cell_type": "markdown",
      "metadata": {
        "id": "vTxqHZd9lkNF"
      },
      "source": [
        "> Resources: To learn more about embedding, \n",
        "* Jay Alamars visualized word2vec: https://jalammar.github.io/illustrated-word2vec/\n",
        "* TensorFlow's Word Embedding guide: https://www.tensorflow.org/tutorials/text/word_embeddings"
      ]
    },
    {
      "cell_type": "markdown",
      "metadata": {
        "id": "Bdpnh9E2nd4G"
      },
      "source": [
        "## Recurrent Neural Networks (RNN's)\n",
        "\n",
        "RNN's are useful for sequence data.\n",
        "\n",
        "The premise of a recurrent neural network is to use the representation of previous inputs to aid the representation of the later input. \n",
        "\n",
        "Use information from the past to help you with the future (this is where the term recurrent comes from). In other words, take an input (X) and compute an output (y) based on all previous inputs.\n",
        "\n",
        "> Resources to look into for learning RNN's \n",
        "- [RNN MIT Intro to deeplearning](https://www.youtube.com/watch?v=qjrad0V0uJE&list=PLtBw6njQRU-rwp5__7C0oIVt26ZgjG9NI&index=2)\n",
        "- [Understanding LSTMS](https://colah.github.io/posts/2015-08-Understanding-LSTMs/)\n",
        "- [Unreasonable effectiveness of RNN](https://karpathy.github.io/2015/05/21/rnn-effectiveness/)\n",
        "\n"
      ]
    },
    {
      "cell_type": "markdown",
      "metadata": {
        "id": "BkquozhfpxZs"
      },
      "source": [
        "### Model 2: LSTM \n",
        "\n",
        "LSTM = long short term memory (one of the most popular LSTM cells). \n",
        "\n",
        "Our structure of a RNN typically looks like this: \n",
        "\n",
        "```\n",
        "Input (text) --> Tokenize --> Embedding --> Layers (RNNs/dense) --> Output (label probability)\n",
        "```\n"
      ]
    },
    {
      "cell_type": "code",
      "metadata": {
        "colab": {
          "base_uri": "https://localhost:8080/"
        },
        "id": "GngA_4cErDeK",
        "outputId": "c23112ed-b77b-44af-957f-ef3bcaf3237c"
      },
      "source": [
        "# Create an LSTM model \n",
        "from tensorflow.keras import layers \n",
        "\n",
        "# Setting up inputs \n",
        "inputs = layers.Input(shape = (1,) , dtype = tf.string)\n",
        "\n",
        "# Converting text into numbers and creating a embedding \n",
        "x = text_vectorizer(inputs)\n",
        "x = embedding(x)\n",
        "print(f'After embedding: {x.shape}')\n",
        "\n",
        "# Our LSTM \n",
        "#x = layers.LSTM(64 , return_sequences=True)(x) \n",
        "# When you're stacking RNN cells together you need to set return_sequences = True\n",
        "#print(f'Output with return sequence True: {x.shape}') # Output with return sequence True\n",
        "x = layers.LSTM(64)(x)\n",
        "#print(f'Output with return sequence False: {x.shape}') # Output with return sequence False\n",
        "x = layers.Dense(64 , activation = 'relu')(x)\n",
        "\n",
        "# Initializing our outputs \n",
        "outputs = layers.Dense(1 , activation = 'sigmoid')(x)\n",
        "\n",
        "# Packing into a model \n",
        "model_2 = tf.keras.Model(inputs , outputs, name = 'model_2_LSTM')"
      ],
      "execution_count": 67,
      "outputs": [
        {
          "output_type": "stream",
          "text": [
            "After embedding: (None, 15, 128)\n"
          ],
          "name": "stdout"
        }
      ]
    },
    {
      "cell_type": "markdown",
      "metadata": {
        "id": "Wipkr65ct1DL"
      },
      "source": [
        "`inputs`: A 3D tensor with shape `[batch, timesteps, feature]`.\n",
        "\n",
        "- batch --> None by default\n",
        "- timestaps --> treat every sequence (word) as a timestamps. \n",
        "\n",
        "The default activation function for LSTM is **`tanh`**. \n",
        "\n",
        "[LSTM layer tensorflow](https://www.tensorflow.org/api_docs/python/tf/keras/layers/LSTM)"
      ]
    },
    {
      "cell_type": "code",
      "metadata": {
        "colab": {
          "base_uri": "https://localhost:8080/"
        },
        "id": "DuUXpE4JsUPS",
        "outputId": "f0666b2b-e10c-4050-bda0-ac0f11fd9af2"
      },
      "source": [
        "# Checking the model summary \n",
        "model_2.summary()"
      ],
      "execution_count": 68,
      "outputs": [
        {
          "output_type": "stream",
          "text": [
            "Model: \"model_2_LSTM\"\n",
            "_________________________________________________________________\n",
            "Layer (type)                 Output Shape              Param #   \n",
            "=================================================================\n",
            "input_3 (InputLayer)         [(None, 1)]               0         \n",
            "_________________________________________________________________\n",
            "text_vectorization_1 (TextVe (None, 15)                0         \n",
            "_________________________________________________________________\n",
            "embedding (Embedding)        (None, 15, 128)           1280000   \n",
            "_________________________________________________________________\n",
            "lstm (LSTM)                  (None, 64)                49408     \n",
            "_________________________________________________________________\n",
            "dense_2 (Dense)              (None, 64)                4160      \n",
            "_________________________________________________________________\n",
            "dense_3 (Dense)              (None, 1)                 65        \n",
            "=================================================================\n",
            "Total params: 1,333,633\n",
            "Trainable params: 1,333,633\n",
            "Non-trainable params: 0\n",
            "_________________________________________________________________\n"
          ],
          "name": "stdout"
        }
      ]
    },
    {
      "cell_type": "code",
      "metadata": {
        "id": "y4eEcO25vrU4"
      },
      "source": [
        "# Compile the model \n",
        "model_2.compile(loss = tf.keras.losses.BinaryCrossentropy()  , \n",
        "                optimizer = tf.keras.optimizers.Adam() , \n",
        "                metrics = ['accuracy'])"
      ],
      "execution_count": 69,
      "outputs": []
    },
    {
      "cell_type": "code",
      "metadata": {
        "colab": {
          "base_uri": "https://localhost:8080/"
        },
        "id": "MSicR9HFv0tq",
        "outputId": "82bef887-edbe-43f6-e9ff-4baaead90fa6"
      },
      "source": [
        "# Fit the model \n",
        "model_2_history = model_2.fit(train_sentences , \n",
        "                              train_labels , \n",
        "                              validation_data = (val_sentences , val_labels) , \n",
        "                              epochs = 5 , \n",
        "                              callbacks = [create_tensorboard_callback(dir_name= SAVE_DIR , \n",
        "                                                                       experiment_name = 'model_2_LSTM')])"
      ],
      "execution_count": 70,
      "outputs": [
        {
          "output_type": "stream",
          "text": [
            "Saving TensorBoard log files to: model_logs/model_2_LSTM/20210605-083516\n",
            "Epoch 1/5\n",
            "215/215 [==============================] - 9s 21ms/step - loss: 0.1935 - accuracy: 0.9339 - val_loss: 0.5216 - val_accuracy: 0.7913\n",
            "Epoch 2/5\n",
            "215/215 [==============================] - 3s 16ms/step - loss: 0.1346 - accuracy: 0.9504 - val_loss: 0.6877 - val_accuracy: 0.7795\n",
            "Epoch 3/5\n",
            "215/215 [==============================] - 3s 16ms/step - loss: 0.1072 - accuracy: 0.9578 - val_loss: 0.7238 - val_accuracy: 0.7848\n",
            "Epoch 4/5\n",
            "215/215 [==============================] - 3s 16ms/step - loss: 0.0871 - accuracy: 0.9657 - val_loss: 0.9390 - val_accuracy: 0.7848\n",
            "Epoch 5/5\n",
            "215/215 [==============================] - 3s 16ms/step - loss: 0.0724 - accuracy: 0.9698 - val_loss: 1.1997 - val_accuracy: 0.7808\n"
          ],
          "name": "stdout"
        }
      ]
    },
    {
      "cell_type": "code",
      "metadata": {
        "colab": {
          "base_uri": "https://localhost:8080/"
        },
        "id": "X8XsxnUowL8J",
        "outputId": "bcd453f9-899e-4ef6-f470-4ceb52488582"
      },
      "source": [
        "# Make predictions with LSTM model \n",
        "model_2_pred_probs = model_2.predict(val_sentences)\n",
        "model_2_pred_probs[:10]"
      ],
      "execution_count": 71,
      "outputs": [
        {
          "output_type": "execute_result",
          "data": {
            "text/plain": [
              "array([[1.139e-03],\n",
              "       [8.813e-01],\n",
              "       [1.000e+00],\n",
              "       [4.108e-02],\n",
              "       [2.265e-05],\n",
              "       [1.000e+00],\n",
              "       [3.313e-01],\n",
              "       [1.000e+00],\n",
              "       [1.000e+00],\n",
              "       [8.462e-01]], dtype=float16)"
            ]
          },
          "metadata": {
            "tags": []
          },
          "execution_count": 71
        }
      ]
    },
    {
      "cell_type": "code",
      "metadata": {
        "colab": {
          "base_uri": "https://localhost:8080/"
        },
        "id": "YU_SS56cwYf2",
        "outputId": "8d5a2e16-edbb-46b4-98d0-88ff8838dd69"
      },
      "source": [
        "# Convert model 2 pred probs to labels \n",
        "model_2_preds = tf.squeeze(tf.round(model_2_pred_probs))\n",
        "model_2_preds[:10]"
      ],
      "execution_count": 72,
      "outputs": [
        {
          "output_type": "execute_result",
          "data": {
            "text/plain": [
              "<tf.Tensor: shape=(10,), dtype=float16, numpy=array([0., 1., 1., 0., 0., 1., 0., 1., 1., 1.], dtype=float16)>"
            ]
          },
          "metadata": {
            "tags": []
          },
          "execution_count": 72
        }
      ]
    },
    {
      "cell_type": "code",
      "metadata": {
        "colab": {
          "base_uri": "https://localhost:8080/"
        },
        "id": "MYKB2q3EwlE0",
        "outputId": "98dab0c3-156e-49f3-d129-652db19fcec4"
      },
      "source": [
        "# Calculate model 2 results \n",
        "model_2_results = classification_evaluation_metrics(val_labels , \n",
        "                                                    model_2_preds)\n",
        "model_2_results"
      ],
      "execution_count": 73,
      "outputs": [
        {
          "output_type": "execute_result",
          "data": {
            "text/plain": [
              "{'Accuracy:': 78.08398950131233,\n",
              " 'F1_Score: ': 0.7410852713178295,\n",
              " 'Precision: ': 0.8047138047138047,\n",
              " 'Recall: ': 0.6867816091954023}"
            ]
          },
          "metadata": {
            "tags": []
          },
          "execution_count": 73
        }
      ]
    },
    {
      "cell_type": "code",
      "metadata": {
        "colab": {
          "base_uri": "https://localhost:8080/"
        },
        "id": "Z3_93CaCwueq",
        "outputId": "529a5c91-b12a-40a4-a917-eb06de298e00"
      },
      "source": [
        "naive_baseline_results"
      ],
      "execution_count": 74,
      "outputs": [
        {
          "output_type": "execute_result",
          "data": {
            "text/plain": [
              "{'Accuracy:': 79.26509186351706,\n",
              " 'F1_Score: ': 0.734006734006734,\n",
              " 'Precision: ': 0.8861788617886179,\n",
              " 'Recall: ': 0.6264367816091954}"
            ]
          },
          "metadata": {
            "tags": []
          },
          "execution_count": 74
        }
      ]
    },
    {
      "cell_type": "markdown",
      "metadata": {
        "id": "coDgGMK_xASa"
      },
      "source": [
        "### Model 3: GRU Model \n",
        "\n",
        "The GRU cell has similar features to an LSTM cell but has less parameters. \n",
        "\n",
        "[Understanding GRU networks](https://towardsdatascience.com/understanding-gru-networks-2ef37df6c9be)\n",
        "\n",
        "Previously we used a LSTM layers to build our RNN model now we will use a GRU layer also called Gater Recurrent Unit to build our model. "
      ]
    },
    {
      "cell_type": "code",
      "metadata": {
        "colab": {
          "base_uri": "https://localhost:8080/"
        },
        "id": "OWAGogQyw59x",
        "outputId": "a9f4c187-a82b-4d61-dbbc-65be45c3c14e"
      },
      "source": [
        "# Create a GRU model \n",
        "inputs = layers.Input(shape = (1,) , dtype = tf.string)\n",
        "\n",
        "# Converting text into numbers and performing word embeddings. \n",
        "x = text_vectorizer(inputs)\n",
        "x = embedding(x)\n",
        "print(x.shape)\n",
        "\n",
        "# Building our GRU model \n",
        "# If you want to stack recurrent layers on top of each other, you need return_sequences = True\n",
        "x = layers.GRU(64 , activation = 'tanh' , return_sequences=True)(x)\n",
        "print(x.shape)\n",
        "x = layers.LSTM(44 , return_sequences= True)(x) \n",
        "print(x.shape)\n",
        "x = layers.GRU(100)(x)\n",
        "print(x.shape)\n",
        "x = layers.Dense(64 , activation='relu')(x)\n",
        "\n",
        "# Global Average Pooling layer\n",
        "#x = layers.GlobalAveragePooling1D()(x)\n",
        "\n",
        "# Output layer \n",
        "outputs = layers.Dense(1 , activation= 'sigmoid')(x)\n",
        "\n",
        "# Packing into a model \n",
        "test_model_3 = tf.keras.Model(inputs , outputs)"
      ],
      "execution_count": 75,
      "outputs": [
        {
          "output_type": "stream",
          "text": [
            "(None, 15, 128)\n",
            "(None, 15, 64)\n",
            "(None, 15, 44)\n",
            "(None, 100)\n"
          ],
          "name": "stdout"
        }
      ]
    },
    {
      "cell_type": "code",
      "metadata": {
        "colab": {
          "base_uri": "https://localhost:8080/"
        },
        "id": "h5DtxMZBxqyc",
        "outputId": "2a7c548e-846e-4ca3-a24f-c0b427aa83ee"
      },
      "source": [
        "# Summary of the mdoel \n",
        "test_model_3.summary()"
      ],
      "execution_count": 76,
      "outputs": [
        {
          "output_type": "stream",
          "text": [
            "Model: \"model\"\n",
            "_________________________________________________________________\n",
            "Layer (type)                 Output Shape              Param #   \n",
            "=================================================================\n",
            "input_4 (InputLayer)         [(None, 1)]               0         \n",
            "_________________________________________________________________\n",
            "text_vectorization_1 (TextVe (None, 15)                0         \n",
            "_________________________________________________________________\n",
            "embedding (Embedding)        (None, 15, 128)           1280000   \n",
            "_________________________________________________________________\n",
            "gru (GRU)                    (None, 15, 64)            37248     \n",
            "_________________________________________________________________\n",
            "lstm_1 (LSTM)                (None, 15, 44)            19184     \n",
            "_________________________________________________________________\n",
            "gru_1 (GRU)                  (None, 100)               43800     \n",
            "_________________________________________________________________\n",
            "dense_4 (Dense)              (None, 64)                6464      \n",
            "_________________________________________________________________\n",
            "dense_5 (Dense)              (None, 1)                 65        \n",
            "=================================================================\n",
            "Total params: 1,386,761\n",
            "Trainable params: 1,386,761\n",
            "Non-trainable params: 0\n",
            "_________________________________________________________________\n"
          ],
          "name": "stdout"
        }
      ]
    },
    {
      "cell_type": "markdown",
      "metadata": {
        "id": "6Pt_yjyQzz6f"
      },
      "source": [
        "Alright we did some tinkering up there, now let's create a model 3 with only one GRU layer"
      ]
    },
    {
      "cell_type": "code",
      "metadata": {
        "id": "UOSurDzt0azg"
      },
      "source": [
        "# Creating a GRU model \n",
        "from tensorflow.keras import layers \n",
        "\n",
        "# Input layer \n",
        "inputs = layers.Input(shape = (1,) , dtype = tf.string)\n",
        "\n",
        "# Converting text into numbers and perform word embeddings \n",
        "x = text_vectorizer(inputs)\n",
        "x = embedding(x)\n",
        "\n",
        "# Our GRU layer \n",
        "#x = layers.GRU(64 , activation= 'tanh' , return_sequences= True)(x)\n",
        "x = layers.GRU(64)(x)\n",
        "\n",
        "# Global Average Pooling \n",
        "#x = layers.GlobalAveragePooling1D()(x)\n",
        "\n",
        "# Output layer \n",
        "outputs = layers.Dense(1 , activation='sigmoid')(x)\n",
        "\n",
        "# Packing into a model\n",
        "model_3 = tf.keras.Model(inputs , outputs) \n"
      ],
      "execution_count": 77,
      "outputs": []
    },
    {
      "cell_type": "code",
      "metadata": {
        "colab": {
          "base_uri": "https://localhost:8080/"
        },
        "id": "hXbsMyFc1SDY",
        "outputId": "5043024c-91a7-40e2-82f0-653fa8b83334"
      },
      "source": [
        "# Model summary \n",
        "model_3.summary()"
      ],
      "execution_count": 78,
      "outputs": [
        {
          "output_type": "stream",
          "text": [
            "Model: \"model_1\"\n",
            "_________________________________________________________________\n",
            "Layer (type)                 Output Shape              Param #   \n",
            "=================================================================\n",
            "input_5 (InputLayer)         [(None, 1)]               0         \n",
            "_________________________________________________________________\n",
            "text_vectorization_1 (TextVe (None, 15)                0         \n",
            "_________________________________________________________________\n",
            "embedding (Embedding)        (None, 15, 128)           1280000   \n",
            "_________________________________________________________________\n",
            "gru_2 (GRU)                  (None, 64)                37248     \n",
            "_________________________________________________________________\n",
            "dense_6 (Dense)              (None, 1)                 65        \n",
            "=================================================================\n",
            "Total params: 1,317,313\n",
            "Trainable params: 1,317,313\n",
            "Non-trainable params: 0\n",
            "_________________________________________________________________\n"
          ],
          "name": "stdout"
        }
      ]
    },
    {
      "cell_type": "code",
      "metadata": {
        "id": "eEr0sTXe1WcJ"
      },
      "source": [
        "# Compile the model \n",
        "model_3.compile(loss = tf.keras.losses.BinaryCrossentropy() , \n",
        "                optimizer = tf.keras.optimizers.Adam() , \n",
        "                metrics = ['accuracy']) "
      ],
      "execution_count": 79,
      "outputs": []
    },
    {
      "cell_type": "code",
      "metadata": {
        "colab": {
          "base_uri": "https://localhost:8080/"
        },
        "id": "UufQ_01E2Mqm",
        "outputId": "40f39576-c7a8-424a-b5cb-6b0f735158d4"
      },
      "source": [
        "# Fit the model \n",
        "model_3_history = model_3.fit(train_sentences , \n",
        "                              train_labels , \n",
        "                              validation_data = (val_sentences , val_labels), \n",
        "                              epochs = 5 , \n",
        "                              callbacks = [create_tensorboard_callback(dir_name= SAVE_DIR , \n",
        "                                                                       experiment_name = 'model_3_GRU')]) \n"
      ],
      "execution_count": 80,
      "outputs": [
        {
          "output_type": "stream",
          "text": [
            "Saving TensorBoard log files to: model_logs/model_3_GRU/20210605-083600\n",
            "Epoch 1/5\n",
            "215/215 [==============================] - 6s 20ms/step - loss: 0.1639 - accuracy: 0.9280 - val_loss: 0.7331 - val_accuracy: 0.7874\n",
            "Epoch 2/5\n",
            "215/215 [==============================] - 3s 15ms/step - loss: 0.0787 - accuracy: 0.9712 - val_loss: 0.8050 - val_accuracy: 0.7703\n",
            "Epoch 3/5\n",
            "215/215 [==============================] - 3s 15ms/step - loss: 0.0648 - accuracy: 0.9753 - val_loss: 0.8598 - val_accuracy: 0.7717\n",
            "Epoch 4/5\n",
            "215/215 [==============================] - 3s 16ms/step - loss: 0.0570 - accuracy: 0.9746 - val_loss: 1.2252 - val_accuracy: 0.7756\n",
            "Epoch 5/5\n",
            "215/215 [==============================] - 3s 16ms/step - loss: 0.0471 - accuracy: 0.9783 - val_loss: 1.1788 - val_accuracy: 0.7717\n"
          ],
          "name": "stdout"
        }
      ]
    },
    {
      "cell_type": "code",
      "metadata": {
        "colab": {
          "base_uri": "https://localhost:8080/"
        },
        "id": "WCNpbclc2jeg",
        "outputId": "992c0464-a215-4a41-a91d-801866908aa3"
      },
      "source": [
        "# Making predictions on the val set \n",
        "model_3_pred_probs = model_3.predict(val_sentences) \n",
        "model_3_pred_probs[:10]"
      ],
      "execution_count": 81,
      "outputs": [
        {
          "output_type": "execute_result",
          "data": {
            "text/plain": [
              "array([[1.514e-02],\n",
              "       [7.241e-01],\n",
              "       [1.000e+00],\n",
              "       [1.199e-01],\n",
              "       [8.613e-05],\n",
              "       [9.990e-01],\n",
              "       [4.229e-01],\n",
              "       [1.000e+00],\n",
              "       [1.000e+00],\n",
              "       [9.697e-01]], dtype=float16)"
            ]
          },
          "metadata": {
            "tags": []
          },
          "execution_count": 81
        }
      ]
    },
    {
      "cell_type": "code",
      "metadata": {
        "colab": {
          "base_uri": "https://localhost:8080/"
        },
        "id": "KSiTagcC2x_R",
        "outputId": "7a8e255f-8fa8-444b-f144-f913608cafa1"
      },
      "source": [
        "# Convert model 3 pred probs to labels \n",
        "model_3_preds = tf.squeeze(tf.round(model_3_pred_probs))\n",
        "model_3_preds[:10]"
      ],
      "execution_count": 82,
      "outputs": [
        {
          "output_type": "execute_result",
          "data": {
            "text/plain": [
              "<tf.Tensor: shape=(10,), dtype=float16, numpy=array([0., 1., 1., 0., 0., 1., 0., 1., 1., 1.], dtype=float16)>"
            ]
          },
          "metadata": {
            "tags": []
          },
          "execution_count": 82
        }
      ]
    },
    {
      "cell_type": "code",
      "metadata": {
        "id": "U7pWpMX329XX"
      },
      "source": [
        "# Using our evalution metrics dictionary \n",
        "model_3_results = classification_evaluation_metrics(val_labels , \n",
        "                                                    model_3_preds)"
      ],
      "execution_count": 83,
      "outputs": []
    },
    {
      "cell_type": "code",
      "metadata": {
        "colab": {
          "base_uri": "https://localhost:8080/"
        },
        "id": "VzQfjhah3Ika",
        "outputId": "5e85ae51-96a9-4b74-faaa-765ac79f0992"
      },
      "source": [
        "model_3_results"
      ],
      "execution_count": 84,
      "outputs": [
        {
          "output_type": "execute_result",
          "data": {
            "text/plain": [
              "{'Accuracy:': 77.16535433070865,\n",
              " 'F1_Score: ': 0.7363636363636362,\n",
              " 'Precision: ': 0.7788461538461539,\n",
              " 'Recall: ': 0.6982758620689655}"
            ]
          },
          "metadata": {
            "tags": []
          },
          "execution_count": 84
        }
      ]
    },
    {
      "cell_type": "markdown",
      "metadata": {
        "id": "gJ0ZRbgi3KdP"
      },
      "source": [
        "### Model 4: Bidirectional RNN Model \n",
        "\n",
        "Normal RNN's go from left to right (just like you'd read an English sentence) however, a bidirectional RNN goes from right to left as well as left to right. \n",
        "\n",
        "A birdirectional wrapper works for any RNN cells. "
      ]
    },
    {
      "cell_type": "markdown",
      "metadata": {
        "id": "Jx4xvYuz4wAT"
      },
      "source": [
        "Let's give a try before watching the video.  "
      ]
    },
    {
      "cell_type": "code",
      "metadata": {
        "colab": {
          "base_uri": "https://localhost:8080/"
        },
        "id": "eDaAX9OE4242",
        "outputId": "4f43a5bf-001f-4f30-d7b2-a31a90211c67"
      },
      "source": [
        "# Creating a Bidirectional RNN model \n",
        "from tensorflow.keras import layers\n",
        "# Input layer \n",
        "inputs = layers.Input(shape = (1, ) , dtype = tf.string)\n",
        "\n",
        "# Convert text into numbers and perform word embeddings \n",
        "x = text_vectorizer(inputs)\n",
        "x = embedding(x)\n",
        "print(x.shape)\n",
        "\n",
        "# Adding a Bidirectional RNN layer \n",
        "x = layers.Bidirectional(layers.LSTM(64 , return_sequences=True))(x)\n",
        "print(x.shape)\n",
        "\n",
        "x = layers.Bidirectional(layers.GRU(64))(x)\n",
        "print(x.shape)\n",
        "\n",
        "# Output layer \n",
        "outputs = layers.Dense(1 , activation= 'sigmoid')(x)\n",
        "print(outputs.shape)\n",
        "\n",
        "# Packing into a model \n",
        "test_model_4 = tf.keras.Model(inputs , outputs)"
      ],
      "execution_count": 85,
      "outputs": [
        {
          "output_type": "stream",
          "text": [
            "(None, 15, 128)\n",
            "(None, 15, 128)\n",
            "(None, 128)\n",
            "(None, 1)\n"
          ],
          "name": "stdout"
        }
      ]
    },
    {
      "cell_type": "markdown",
      "metadata": {
        "id": "BVaZDpmN7IJG"
      },
      "source": [
        "Here we have added `return_sequence = True` because we want to stack another RNN layer with our current RNN layer. "
      ]
    },
    {
      "cell_type": "code",
      "metadata": {
        "colab": {
          "base_uri": "https://localhost:8080/"
        },
        "id": "zllZMbRm5ljJ",
        "outputId": "68cdc69d-8c00-4125-ad43-00e725741913"
      },
      "source": [
        "# Model summary \n",
        "test_model_4.summary()"
      ],
      "execution_count": 86,
      "outputs": [
        {
          "output_type": "stream",
          "text": [
            "Model: \"model_2\"\n",
            "_________________________________________________________________\n",
            "Layer (type)                 Output Shape              Param #   \n",
            "=================================================================\n",
            "input_6 (InputLayer)         [(None, 1)]               0         \n",
            "_________________________________________________________________\n",
            "text_vectorization_1 (TextVe (None, 15)                0         \n",
            "_________________________________________________________________\n",
            "embedding (Embedding)        (None, 15, 128)           1280000   \n",
            "_________________________________________________________________\n",
            "bidirectional (Bidirectional (None, 15, 128)           98816     \n",
            "_________________________________________________________________\n",
            "bidirectional_1 (Bidirection (None, 128)               74496     \n",
            "_________________________________________________________________\n",
            "dense_7 (Dense)              (None, 1)                 129       \n",
            "=================================================================\n",
            "Total params: 1,453,441\n",
            "Trainable params: 1,453,441\n",
            "Non-trainable params: 0\n",
            "_________________________________________________________________\n"
          ],
          "name": "stdout"
        }
      ]
    },
    {
      "cell_type": "markdown",
      "metadata": {
        "id": "2UtEclC552Ej"
      },
      "source": [
        "Following the video \n"
      ]
    },
    {
      "cell_type": "code",
      "metadata": {
        "colab": {
          "base_uri": "https://localhost:8080/"
        },
        "id": "RNsJRC5M9yBN",
        "outputId": "285baad5-ca60-49ed-e59d-db84b85eda4f"
      },
      "source": [
        "# Creating a Bidirectional RNN model \n",
        "from tensorflow.keras import layers\n",
        "# Input layer \n",
        "inputs = layers.Input(shape = (1, ) , dtype = tf.string)\n",
        "\n",
        "# Convert text into numbers and perform word embeddings \n",
        "x = text_vectorizer(inputs)\n",
        "x = embedding(x)\n",
        "print(x.shape)\n",
        "\n",
        "# Adding a Bidirectional RNN layer \n",
        "x = layers.Bidirectional(layers.LSTM(64 , return_sequences=True))(x)\n",
        "print(x.shape)\n",
        "x = layers.Bidirectional(layers.GRU(64))(x)\n",
        "print(x.shape)\n",
        "\n",
        "# Output layer \n",
        "outputs = layers.Dense(1 , activation= 'sigmoid')(x)\n",
        "print(outputs.shape)\n",
        "\n",
        "# Packing into a model \n",
        "model_4 = tf.keras.Model(inputs , outputs)"
      ],
      "execution_count": 87,
      "outputs": [
        {
          "output_type": "stream",
          "text": [
            "(None, 15, 128)\n",
            "(None, 15, 128)\n",
            "(None, 128)\n",
            "(None, 1)\n"
          ],
          "name": "stdout"
        }
      ]
    },
    {
      "cell_type": "code",
      "metadata": {
        "colab": {
          "base_uri": "https://localhost:8080/"
        },
        "id": "VfJFWjwi96VV",
        "outputId": "f4160665-2387-4c21-85d2-988746ee9713"
      },
      "source": [
        "# Model Summary \n",
        "model_4.summary()"
      ],
      "execution_count": 88,
      "outputs": [
        {
          "output_type": "stream",
          "text": [
            "Model: \"model_3\"\n",
            "_________________________________________________________________\n",
            "Layer (type)                 Output Shape              Param #   \n",
            "=================================================================\n",
            "input_7 (InputLayer)         [(None, 1)]               0         \n",
            "_________________________________________________________________\n",
            "text_vectorization_1 (TextVe (None, 15)                0         \n",
            "_________________________________________________________________\n",
            "embedding (Embedding)        (None, 15, 128)           1280000   \n",
            "_________________________________________________________________\n",
            "bidirectional_2 (Bidirection (None, 15, 128)           98816     \n",
            "_________________________________________________________________\n",
            "bidirectional_3 (Bidirection (None, 128)               74496     \n",
            "_________________________________________________________________\n",
            "dense_8 (Dense)              (None, 1)                 129       \n",
            "=================================================================\n",
            "Total params: 1,453,441\n",
            "Trainable params: 1,453,441\n",
            "Non-trainable params: 0\n",
            "_________________________________________________________________\n"
          ],
          "name": "stdout"
        }
      ]
    },
    {
      "cell_type": "markdown",
      "metadata": {
        "id": "xokR6cw199e9"
      },
      "source": [
        "Bidirectional wrapper doubles the units so the representation will go from **64 to 128**. \n",
        "\n",
        "Bidirectional --> representation gets doubled"
      ]
    },
    {
      "cell_type": "code",
      "metadata": {
        "id": "Gammsj0F-g-D"
      },
      "source": [
        "# Compile the model \n",
        "model_4.compile(loss = tf.keras.losses.BinaryCrossentropy() , \n",
        "                optimizer = tf.keras.optimizers.Adam() , \n",
        "                metrics = ['accuracy'])"
      ],
      "execution_count": 89,
      "outputs": []
    },
    {
      "cell_type": "code",
      "metadata": {
        "colab": {
          "base_uri": "https://localhost:8080/"
        },
        "id": "HB0-GE-j-vIm",
        "outputId": "3bd312c2-6d05-4f6b-dfe5-d22097f4b243"
      },
      "source": [
        "# Fit the model \n",
        "model_4_history = model_4.fit(train_sentences , \n",
        "                              train_labels , \n",
        "                              validation_data = (val_sentences , val_labels) , \n",
        "                              epochs = 5 , \n",
        "                              callbacks = [create_tensorboard_callback(dir_name= SAVE_DIR , \n",
        "                                                                       experiment_name = 'model_4_bidirectional')])\n"
      ],
      "execution_count": 90,
      "outputs": [
        {
          "output_type": "stream",
          "text": [
            "Saving TensorBoard log files to: model_logs/model_4_bidirectional/20210605-083623\n",
            "Epoch 1/5\n",
            "215/215 [==============================] - 12s 30ms/step - loss: 0.0989 - accuracy: 0.9626 - val_loss: 1.1435 - val_accuracy: 0.7612\n",
            "Epoch 2/5\n",
            "215/215 [==============================] - 5s 22ms/step - loss: 0.0494 - accuracy: 0.9768 - val_loss: 1.0252 - val_accuracy: 0.7730\n",
            "Epoch 3/5\n",
            "215/215 [==============================] - 5s 22ms/step - loss: 0.0458 - accuracy: 0.9785 - val_loss: 1.3819 - val_accuracy: 0.7677\n",
            "Epoch 4/5\n",
            "215/215 [==============================] - 5s 22ms/step - loss: 0.0449 - accuracy: 0.9791 - val_loss: 1.5175 - val_accuracy: 0.7703\n",
            "Epoch 5/5\n",
            "215/215 [==============================] - 5s 22ms/step - loss: 0.0417 - accuracy: 0.9783 - val_loss: 1.3137 - val_accuracy: 0.7717\n"
          ],
          "name": "stdout"
        }
      ]
    },
    {
      "cell_type": "markdown",
      "metadata": {
        "id": "0Dl7eBhm_W32"
      },
      "source": [
        "Usually adding a bidirectional to a sequences increase the trainin time. "
      ]
    },
    {
      "cell_type": "code",
      "metadata": {
        "colab": {
          "base_uri": "https://localhost:8080/"
        },
        "id": "w2qQW5XT_DjD",
        "outputId": "c38a2ef0-9a34-4c80-997f-649b77b275f5"
      },
      "source": [
        "# Make predictions without our model 4 \n",
        "model_4_pred_probs = model_4.predict(val_sentences)\n",
        "model_4_pred_probs[:10]"
      ],
      "execution_count": 91,
      "outputs": [
        {
          "output_type": "execute_result",
          "data": {
            "text/plain": [
              "array([[5.951e-04],\n",
              "       [7.236e-01],\n",
              "       [9.990e-01],\n",
              "       [2.742e-01],\n",
              "       [2.450e-05],\n",
              "       [9.990e-01],\n",
              "       [5.942e-02],\n",
              "       [1.000e+00],\n",
              "       [1.000e+00],\n",
              "       [9.282e-01]], dtype=float16)"
            ]
          },
          "metadata": {
            "tags": []
          },
          "execution_count": 91
        }
      ]
    },
    {
      "cell_type": "code",
      "metadata": {
        "colab": {
          "base_uri": "https://localhost:8080/"
        },
        "id": "2zOOO2mv_TAO",
        "outputId": "34d21067-86be-47d2-dc3e-974689f78c83"
      },
      "source": [
        "# Convert pred probs to labels\n",
        "model_4_preds = tf.squeeze(tf.round(model_4_pred_probs))\n",
        "model_4_preds[:10]"
      ],
      "execution_count": 92,
      "outputs": [
        {
          "output_type": "execute_result",
          "data": {
            "text/plain": [
              "<tf.Tensor: shape=(10,), dtype=float16, numpy=array([0., 1., 1., 0., 0., 1., 0., 1., 1., 1.], dtype=float16)>"
            ]
          },
          "metadata": {
            "tags": []
          },
          "execution_count": 92
        }
      ]
    },
    {
      "cell_type": "code",
      "metadata": {
        "colab": {
          "base_uri": "https://localhost:8080/"
        },
        "id": "VmfL6HHp_meF",
        "outputId": "a6fed1a8-859d-4470-fade-abc441f2c9f3"
      },
      "source": [
        "# Calculate the results of our bidirectional model \n",
        "model_4_results = classification_evaluation_metrics(val_labels , \n",
        "                                                    model_4_preds)\n",
        "model_4_results"
      ],
      "execution_count": 93,
      "outputs": [
        {
          "output_type": "execute_result",
          "data": {
            "text/plain": [
              "{'Accuracy:': 77.16535433070865,\n",
              " 'F1_Score: ': 0.7166123778501629,\n",
              " 'Precision: ': 0.8270676691729323,\n",
              " 'Recall: ': 0.632183908045977}"
            ]
          },
          "metadata": {
            "tags": []
          },
          "execution_count": 93
        }
      ]
    },
    {
      "cell_type": "markdown",
      "metadata": {
        "id": "wkujnupg_wd-"
      },
      "source": [
        "Hmm.. Our bidirectional model is performing worse than our uni-directional models. \n",
        "\n",
        "We should emphasize from this that not all experiments will go well. "
      ]
    },
    {
      "cell_type": "markdown",
      "metadata": {
        "id": "rMWEvJvEQ21D"
      },
      "source": [
        "## Convolutional Neural Networks for Text (and other types of sequences)\n",
        "\n",
        "We've used CNN's for images but images are typically 2D (height x width).... however, our text data is 1D. \n",
        "\n",
        "Previously we've used Conv2D for our image data but now we're going to use Conv1D. \n",
        "\n",
        "The typical structure of a Conv1D model for sequences (in our case, text): \n",
        "```\n",
        "Inputs (text) --> Tokenization --> Embedding --> Layer(s) (typically Conv1D + pooling) --> Outputs (class probabilities)\n",
        "```\n",
        "\n",
        "https://stackoverflow.com/questions/42883547/intuitive-understanding-of-1d-2d-and-3d-convolutions-in-convolutional-neural-n"
      ]
    },
    {
      "cell_type": "markdown",
      "metadata": {
        "id": "vyHbWuM6XK4K"
      },
      "source": [
        "## Model 5: Conv1D\n",
        "\n"
      ]
    },
    {
      "cell_type": "code",
      "metadata": {
        "id": "dwnGWxojXaRP"
      },
      "source": [
        "# Test our our embedding layer , COnv1D layer and max pooling (Let's look into inputs and outputs)\n",
        "from tensorflow.keras import layers\n",
        "# Turn target sequence into a embedding\n",
        "embedding_test = embedding(text_vectorizer(['this is a test sentence']))\n",
        "\n",
        "# Building a Conv1D layer\n",
        "conv_1d = layers.Conv1D(filters = 32 , \n",
        "                        kernel_size = 5 , # this is salso referred to as ngrams of 5 (means group of 5 words at a time)\n",
        "                        activation = 'relu' , \n",
        "                        padding = 'valid')\n",
        "\n",
        "# Conv1D output \n",
        "conv_1d_output = conv_1d(embedding_test) # pass test embedding through conv1d layer\n",
        "\n",
        "# Poolin layer \n",
        "max_pool = layers.GlobalMaxPool1D()\n",
        "\n",
        "# Output of our max pool layer \n",
        "# equivalent to get the most important features (or) get the features with highest value\n",
        "max_pool_output = max_pool(conv_1d_output)"
      ],
      "execution_count": 94,
      "outputs": []
    },
    {
      "cell_type": "code",
      "metadata": {
        "colab": {
          "base_uri": "https://localhost:8080/"
        },
        "id": "_JNjj6FIZQl3",
        "outputId": "e81c72b2-e236-4df4-dd85-b928fd769044"
      },
      "source": [
        "# Checking the shapes \n",
        "embedding_test.shape , conv_1d_output.shape , max_pool_output.shape"
      ],
      "execution_count": 95,
      "outputs": [
        {
          "output_type": "execute_result",
          "data": {
            "text/plain": [
              "(TensorShape([1, 15, 128]), TensorShape([1, 11, 32]), TensorShape([1, 32]))"
            ]
          },
          "metadata": {
            "tags": []
          },
          "execution_count": 95
        }
      ]
    },
    {
      "cell_type": "code",
      "metadata": {
        "colab": {
          "base_uri": "https://localhost:8080/"
        },
        "id": "0ICQTjQhZWZA",
        "outputId": "6bfc442f-e535-4c1b-acec-c9f03599e619"
      },
      "source": [
        "# Our embedding text\n",
        "embedding_test"
      ],
      "execution_count": 96,
      "outputs": [
        {
          "output_type": "execute_result",
          "data": {
            "text/plain": [
              "<tf.Tensor: shape=(1, 15, 128), dtype=float16, numpy=\n",
              "array([[[-0.00372 , -0.0937  , -0.05746 , ..., -0.03069 , -0.0355  ,\n",
              "         -0.01212 ],\n",
              "        [ 0.04288 , -0.02898 ,  0.00934 , ..., -0.04874 , -0.08484 ,\n",
              "          0.00808 ],\n",
              "        [ 0.00864 ,  0.04114 ,  0.01923 , ...,  0.02525 ,  0.02557 ,\n",
              "          0.05847 ],\n",
              "        ...,\n",
              "        [-0.00865 , -0.013245,  0.01822 , ..., -0.007866, -0.03128 ,\n",
              "         -0.002653],\n",
              "        [-0.00865 , -0.013245,  0.01822 , ..., -0.007866, -0.03128 ,\n",
              "         -0.002653],\n",
              "        [-0.00865 , -0.013245,  0.01822 , ..., -0.007866, -0.03128 ,\n",
              "         -0.002653]]], dtype=float16)>"
            ]
          },
          "metadata": {
            "tags": []
          },
          "execution_count": 96
        }
      ]
    },
    {
      "cell_type": "code",
      "metadata": {
        "colab": {
          "base_uri": "https://localhost:8080/"
        },
        "id": "83mfFKX6bnK4",
        "outputId": "1c28aaee-77bd-41fa-ac6b-2bf7c6269623"
      },
      "source": [
        "# Our Conv1D output \n",
        "conv_1d_output"
      ],
      "execution_count": 97,
      "outputs": [
        {
          "output_type": "execute_result",
          "data": {
            "text/plain": [
              "<tf.Tensor: shape=(1, 11, 32), dtype=float16, numpy=\n",
              "array([[[0.02635 , 0.      , 0.0345  , 0.01447 , 0.      , 0.0748  ,\n",
              "         0.06143 , 0.01446 , 0.05536 , 0.0382  , 0.0772  , 0.      ,\n",
              "         0.06232 , 0.      , 0.0611  , 0.      , 0.00533 , 0.06018 ,\n",
              "         0.06616 , 0.      , 0.0751  , 0.      , 0.10284 , 0.04987 ,\n",
              "         0.06885 , 0.00332 , 0.      , 0.01475 , 0.0645  , 0.04355 ,\n",
              "         0.      , 0.0784  ],\n",
              "        [0.      , 0.      , 0.      , 0.02634 , 0.01503 , 0.      ,\n",
              "         0.05368 , 0.      , 0.      , 0.      , 0.007515, 0.      ,\n",
              "         0.0916  , 0.      , 0.      , 0.09033 , 0.00918 , 0.      ,\n",
              "         0.0226  , 0.      , 0.      , 0.08167 , 0.04916 , 0.      ,\n",
              "         0.1118  , 0.      , 0.      , 0.00786 , 0.      , 0.014114,\n",
              "         0.      , 0.04883 ],\n",
              "        [0.      , 0.      , 0.      , 0.05176 , 0.04416 , 0.005512,\n",
              "         0.04364 , 0.006413, 0.0971  , 0.005848, 0.05124 , 0.      ,\n",
              "         0.      , 0.      , 0.0818  , 0.0692  , 0.      , 0.      ,\n",
              "         0.001489, 0.      , 0.072   , 0.003727, 0.009285, 0.06097 ,\n",
              "         0.00316 , 0.004517, 0.      , 0.0844  , 0.0889  , 0.06824 ,\n",
              "         0.      , 0.      ],\n",
              "        [0.01622 , 0.      , 0.      , 0.02495 , 0.      , 0.      ,\n",
              "         0.      , 0.02025 , 0.001104, 0.      , 0.0112  , 0.      ,\n",
              "         0.      , 0.      , 0.005505, 0.0452  , 0.      , 0.      ,\n",
              "         0.      , 0.      , 0.03668 , 0.00649 , 0.0875  , 0.00961 ,\n",
              "         0.0557  , 0.00583 , 0.04617 , 0.      , 0.      , 0.      ,\n",
              "         0.      , 0.01227 ],\n",
              "        [0.003447, 0.01846 , 0.004864, 0.      , 0.      , 0.02257 ,\n",
              "         0.      , 0.      , 0.03647 , 0.      , 0.01738 , 0.      ,\n",
              "         0.      , 0.      , 0.01881 , 0.05405 , 0.002295, 0.      ,\n",
              "         0.      , 0.      , 0.02599 , 0.      , 0.0336  , 0.07544 ,\n",
              "         0.02417 , 0.04138 , 0.      , 0.      , 0.      , 0.      ,\n",
              "         0.      , 0.03467 ],\n",
              "        [0.      , 0.011635, 0.      , 0.      , 0.      , 0.0389  ,\n",
              "         0.004803, 0.      , 0.02467 , 0.      , 0.039   , 0.      ,\n",
              "         0.      , 0.      , 0.02107 , 0.0891  , 0.      , 0.00398 ,\n",
              "         0.      , 0.      , 0.010284, 0.      , 0.02808 , 0.04077 ,\n",
              "         0.03607 , 0.01158 , 0.      , 0.      , 0.      , 0.0336  ,\n",
              "         0.      , 0.01685 ],\n",
              "        [0.      , 0.011635, 0.      , 0.      , 0.      , 0.0389  ,\n",
              "         0.004803, 0.      , 0.02467 , 0.      , 0.039   , 0.      ,\n",
              "         0.      , 0.      , 0.02107 , 0.0891  , 0.      , 0.00398 ,\n",
              "         0.      , 0.      , 0.010284, 0.      , 0.02808 , 0.04077 ,\n",
              "         0.03607 , 0.01158 , 0.      , 0.      , 0.      , 0.0336  ,\n",
              "         0.      , 0.01685 ],\n",
              "        [0.      , 0.011635, 0.      , 0.      , 0.      , 0.0389  ,\n",
              "         0.004803, 0.      , 0.02467 , 0.      , 0.039   , 0.      ,\n",
              "         0.      , 0.      , 0.02107 , 0.0891  , 0.      , 0.00398 ,\n",
              "         0.      , 0.      , 0.010284, 0.      , 0.02808 , 0.04077 ,\n",
              "         0.03607 , 0.01158 , 0.      , 0.      , 0.      , 0.0336  ,\n",
              "         0.      , 0.01685 ],\n",
              "        [0.      , 0.011635, 0.      , 0.      , 0.      , 0.0389  ,\n",
              "         0.004803, 0.      , 0.02467 , 0.      , 0.039   , 0.      ,\n",
              "         0.      , 0.      , 0.02107 , 0.0891  , 0.      , 0.00398 ,\n",
              "         0.      , 0.      , 0.010284, 0.      , 0.02808 , 0.04077 ,\n",
              "         0.03607 , 0.01158 , 0.      , 0.      , 0.      , 0.0336  ,\n",
              "         0.      , 0.01685 ],\n",
              "        [0.      , 0.011635, 0.      , 0.      , 0.      , 0.0389  ,\n",
              "         0.004803, 0.      , 0.02467 , 0.      , 0.039   , 0.      ,\n",
              "         0.      , 0.      , 0.02107 , 0.0891  , 0.      , 0.00398 ,\n",
              "         0.      , 0.      , 0.010284, 0.      , 0.02808 , 0.04077 ,\n",
              "         0.03607 , 0.01158 , 0.      , 0.      , 0.      , 0.0336  ,\n",
              "         0.      , 0.01685 ],\n",
              "        [0.      , 0.011635, 0.      , 0.      , 0.      , 0.0389  ,\n",
              "         0.004803, 0.      , 0.02467 , 0.      , 0.039   , 0.      ,\n",
              "         0.      , 0.      , 0.02107 , 0.0891  , 0.      , 0.00398 ,\n",
              "         0.      , 0.      , 0.010284, 0.      , 0.02808 , 0.04077 ,\n",
              "         0.03607 , 0.01158 , 0.      , 0.      , 0.      , 0.0336  ,\n",
              "         0.      , 0.01685 ]]], dtype=float16)>"
            ]
          },
          "metadata": {
            "tags": []
          },
          "execution_count": 97
        }
      ]
    },
    {
      "cell_type": "code",
      "metadata": {
        "colab": {
          "base_uri": "https://localhost:8080/"
        },
        "id": "g0623c-mbtIq",
        "outputId": "d784fd42-7228-4170-ff88-7b7db60734d9"
      },
      "source": [
        "# Condense our conv1d \n",
        "# We take max across [1 , 15 , 64] and condense into \n",
        "max_pool_output"
      ],
      "execution_count": 98,
      "outputs": [
        {
          "output_type": "execute_result",
          "data": {
            "text/plain": [
              "<tf.Tensor: shape=(1, 32), dtype=float16, numpy=\n",
              "array([[0.02635, 0.01846, 0.0345 , 0.05176, 0.04416, 0.0748 , 0.06143,\n",
              "        0.02025, 0.0971 , 0.0382 , 0.0772 , 0.     , 0.0916 , 0.     ,\n",
              "        0.0818 , 0.09033, 0.00918, 0.06018, 0.06616, 0.     , 0.0751 ,\n",
              "        0.08167, 0.10284, 0.07544, 0.1118 , 0.04138, 0.04617, 0.0844 ,\n",
              "        0.0889 , 0.06824, 0.     , 0.0784 ]], dtype=float16)>"
            ]
          },
          "metadata": {
            "tags": []
          },
          "execution_count": 98
        }
      ]
    },
    {
      "cell_type": "markdown",
      "metadata": {
        "id": "BhH1fwlCcA9w"
      },
      "source": [
        "Taking on the challenge and building a Conv1D model "
      ]
    },
    {
      "cell_type": "code",
      "metadata": {
        "colab": {
          "base_uri": "https://localhost:8080/"
        },
        "id": "WJUpx-6sdJjB",
        "outputId": "1f664de1-4544-41c6-bcbe-a49097de7f8e"
      },
      "source": [
        "# Creating Conv1D sequence model \n",
        "inputs = layers.Input(shape = (1, ) , dtype = tf.string)\n",
        "\n",
        "x = text_vectorizer(inputs)\n",
        "x = embedding(x)\n",
        "print(f'Shape after embedding: {x.shape}')\n",
        "\n",
        "# Our Conv1D layer \n",
        "x = layers.Conv1D(filters = 32 , \n",
        "                  kernel_size = 5 , \n",
        "                  padding = 'same' , \n",
        "                  activation = 'relu')(x)\n",
        "print(f'Shape after Conv1D: {x.shape}')\n",
        "x = layers.Dense(64 , activation= 'relu')(x)\n",
        "print(f'Shape after into the Dense layer: {x.shape}')\n",
        "# GlobalMaxPool1D works better\n",
        "x = layers.GlobalMaxPool1D()(x)\n",
        "print(f'Shape after into the GlobalMaxPool layer: {x.shape}')\n",
        "\n",
        "# Output layer \n",
        "outputs = layers.Dense(1 , activation= 'sigmoid')(x)\n",
        "\n",
        "# Packing into a model \n",
        "test_model_5 = tf.keras.Model(inputs , outputs)\n"
      ],
      "execution_count": 99,
      "outputs": [
        {
          "output_type": "stream",
          "text": [
            "Shape after embedding: (None, 15, 128)\n",
            "Shape after Conv1D: (None, 15, 32)\n",
            "Shape after into the Dense layer: (None, 15, 64)\n",
            "Shape after into the GlobalMaxPool layer: (None, 64)\n"
          ],
          "name": "stdout"
        }
      ]
    },
    {
      "cell_type": "code",
      "metadata": {
        "id": "aAafruRsej-j"
      },
      "source": [
        "# Compile the model \n",
        "test_model_5.compile(loss = tf.keras.losses.BinaryCrossentropy(), \n",
        "                   optimizer = tf.keras.optimizers.Adam() ,\n",
        "                   metrics = ['accuracy'])"
      ],
      "execution_count": 100,
      "outputs": []
    },
    {
      "cell_type": "code",
      "metadata": {
        "colab": {
          "base_uri": "https://localhost:8080/"
        },
        "id": "ztwx5_SNe1HR",
        "outputId": "5c7fa269-5fe6-41d2-c801-ac5e19f563b8"
      },
      "source": [
        "# Fitting the model \n",
        "test_model_5.fit(train_sentences , \n",
        "                 train_labels , \n",
        "                 validation_data = (val_sentences , val_labels), \n",
        "                 epochs = 5 )"
      ],
      "execution_count": 101,
      "outputs": [
        {
          "output_type": "stream",
          "text": [
            "Epoch 1/5\n",
            "215/215 [==============================] - 6s 16ms/step - loss: 0.1329 - accuracy: 0.9585 - val_loss: 0.8521 - val_accuracy: 0.7808\n",
            "Epoch 2/5\n",
            "215/215 [==============================] - 3s 16ms/step - loss: 0.0663 - accuracy: 0.9747 - val_loss: 0.9133 - val_accuracy: 0.7651\n",
            "Epoch 3/5\n",
            "215/215 [==============================] - 3s 15ms/step - loss: 0.0541 - accuracy: 0.9769 - val_loss: 1.0792 - val_accuracy: 0.7703\n",
            "Epoch 4/5\n",
            "215/215 [==============================] - 3s 15ms/step - loss: 0.0480 - accuracy: 0.9793 - val_loss: 1.1278 - val_accuracy: 0.7625\n",
            "Epoch 5/5\n",
            "215/215 [==============================] - 3s 15ms/step - loss: 0.0443 - accuracy: 0.9791 - val_loss: 1.1962 - val_accuracy: 0.7612\n"
          ],
          "name": "stdout"
        },
        {
          "output_type": "execute_result",
          "data": {
            "text/plain": [
              "<tensorflow.python.keras.callbacks.History at 0x7fca04ae96d0>"
            ]
          },
          "metadata": {
            "tags": []
          },
          "execution_count": 101
        }
      ]
    },
    {
      "cell_type": "markdown",
      "metadata": {
        "id": "r8snmQxifFXr"
      },
      "source": [
        "Now following the video \n"
      ]
    },
    {
      "cell_type": "code",
      "metadata": {
        "colab": {
          "base_uri": "https://localhost:8080/"
        },
        "id": "enQkza5Af0lt",
        "outputId": "d3f4ef4c-e525-4d9b-b598-26115c26861d"
      },
      "source": [
        "# Creating Conv1D sequence model \n",
        "inputs = layers.Input(shape = (1, ) , dtype = tf.string)\n",
        "\n",
        "x = text_vectorizer(inputs)\n",
        "x = embedding(x)\n",
        "print(f'Shape after embedding: {x.shape}')\n",
        "\n",
        "# Our Conv1D layer \n",
        "x = layers.Conv1D(filters = 32 , \n",
        "                  kernel_size = 5 , \n",
        "                  padding = 'same' , \n",
        "                  activation = 'relu')(x)\n",
        "print(f'Shape after Conv1D: {x.shape}')\n",
        "#x = layers.Dense(64 , activation= 'relu')(x)\n",
        "#print(f'Shape after into the Dense layer: {x.shape}')\n",
        "# GlobalMaxPool1D works better\n",
        "x = layers.GlobalMaxPool1D()(x)\n",
        "print(f'Shape after into the GlobalMaxPool layer: {x.shape}')\n",
        "\n",
        "# Output layer \n",
        "outputs = layers.Dense(1 , activation= 'sigmoid')(x)\n",
        "\n",
        "# Packing into a model \n",
        "model_5 = tf.keras.Model(inputs , outputs , name = 'model_5_conv_1d')\n"
      ],
      "execution_count": 102,
      "outputs": [
        {
          "output_type": "stream",
          "text": [
            "Shape after embedding: (None, 15, 128)\n",
            "Shape after Conv1D: (None, 15, 32)\n",
            "Shape after into the GlobalMaxPool layer: (None, 32)\n"
          ],
          "name": "stdout"
        }
      ]
    },
    {
      "cell_type": "code",
      "metadata": {
        "id": "FxDJ5Jxef8oR"
      },
      "source": [
        "# Compile the model \n",
        "model_5.compile(loss = tf.keras.losses.BinaryCrossentropy(), \n",
        "                   optimizer = tf.keras.optimizers.Adam() ,\n",
        "                   metrics = ['accuracy'])"
      ],
      "execution_count": 103,
      "outputs": []
    },
    {
      "cell_type": "code",
      "metadata": {
        "colab": {
          "base_uri": "https://localhost:8080/"
        },
        "id": "p7QwQAH7f_bY",
        "outputId": "04779dc6-4613-48eb-dae8-64efc5f31e5b"
      },
      "source": [
        "model_5.summary()"
      ],
      "execution_count": 104,
      "outputs": [
        {
          "output_type": "stream",
          "text": [
            "Model: \"model_5_conv_1d\"\n",
            "_________________________________________________________________\n",
            "Layer (type)                 Output Shape              Param #   \n",
            "=================================================================\n",
            "input_9 (InputLayer)         [(None, 1)]               0         \n",
            "_________________________________________________________________\n",
            "text_vectorization_1 (TextVe (None, 15)                0         \n",
            "_________________________________________________________________\n",
            "embedding (Embedding)        (None, 15, 128)           1280000   \n",
            "_________________________________________________________________\n",
            "conv1d_2 (Conv1D)            (None, 15, 32)            20512     \n",
            "_________________________________________________________________\n",
            "global_max_pooling1d_2 (Glob (None, 32)                0         \n",
            "_________________________________________________________________\n",
            "dense_11 (Dense)             (None, 1)                 33        \n",
            "=================================================================\n",
            "Total params: 1,300,545\n",
            "Trainable params: 1,300,545\n",
            "Non-trainable params: 0\n",
            "_________________________________________________________________\n"
          ],
          "name": "stdout"
        }
      ]
    },
    {
      "cell_type": "code",
      "metadata": {
        "colab": {
          "base_uri": "https://localhost:8080/"
        },
        "id": "ctHZYYTHgCTd",
        "outputId": "7727ffd1-19f6-424c-b737-92abd528a8a2"
      },
      "source": [
        "# Fitting the model \n",
        "model_5.fit(train_sentences , \n",
        "                 train_labels , \n",
        "                 validation_data = (val_sentences , val_labels), \n",
        "                 epochs = 5 , \n",
        "            callbacks = [create_tensorboard_callback(dir_name = SAVE_DIR , \n",
        "                                                     experiment_name = 'model_5_1d_conv_layer')])"
      ],
      "execution_count": 105,
      "outputs": [
        {
          "output_type": "stream",
          "text": [
            "Saving TensorBoard log files to: model_logs/model_5_1d_conv_layer/20210605-083737\n",
            "Epoch 1/5\n",
            "215/215 [==============================] - 5s 18ms/step - loss: 0.1201 - accuracy: 0.9637 - val_loss: 0.8175 - val_accuracy: 0.7782\n",
            "Epoch 2/5\n",
            "215/215 [==============================] - 3s 14ms/step - loss: 0.0566 - accuracy: 0.9797 - val_loss: 0.9542 - val_accuracy: 0.7612\n",
            "Epoch 3/5\n",
            "215/215 [==============================] - 3s 14ms/step - loss: 0.0477 - accuracy: 0.9809 - val_loss: 1.0790 - val_accuracy: 0.7612\n",
            "Epoch 4/5\n",
            "215/215 [==============================] - 3s 14ms/step - loss: 0.0449 - accuracy: 0.9812 - val_loss: 1.1087 - val_accuracy: 0.7559\n",
            "Epoch 5/5\n",
            "215/215 [==============================] - 3s 14ms/step - loss: 0.0427 - accuracy: 0.9813 - val_loss: 1.1850 - val_accuracy: 0.7612\n"
          ],
          "name": "stdout"
        },
        {
          "output_type": "execute_result",
          "data": {
            "text/plain": [
              "<tensorflow.python.keras.callbacks.History at 0x7fca03f31110>"
            ]
          },
          "metadata": {
            "tags": []
          },
          "execution_count": 105
        }
      ]
    },
    {
      "cell_type": "code",
      "metadata": {
        "colab": {
          "base_uri": "https://localhost:8080/"
        },
        "id": "PVPdSIt4ghNh",
        "outputId": "907bbb62-d5b1-45b4-b9d6-dbb878173dfa"
      },
      "source": [
        "# Make some predictions with our Conv1D model \n",
        "model_5_pred_probs = model_5.predict(val_sentences)\n",
        "model_5_pred_probs[:10]"
      ],
      "execution_count": 106,
      "outputs": [
        {
          "output_type": "execute_result",
          "data": {
            "text/plain": [
              "array([[0.02002],\n",
              "       [0.967  ],\n",
              "       [1.     ],\n",
              "       [0.05533],\n",
              "       [0.     ],\n",
              "       [0.998  ],\n",
              "       [0.6367 ],\n",
              "       [1.     ],\n",
              "       [1.     ],\n",
              "       [0.771  ]], dtype=float16)"
            ]
          },
          "metadata": {
            "tags": []
          },
          "execution_count": 106
        }
      ]
    },
    {
      "cell_type": "code",
      "metadata": {
        "colab": {
          "base_uri": "https://localhost:8080/"
        },
        "id": "O6UABkWeg163",
        "outputId": "74bcb365-2f01-45a1-c3dd-609817b64ccc"
      },
      "source": [
        "# Convert model 5 pred probs to labels \n",
        "model_5_preds = tf.squeeze(tf.round(model_5_pred_probs))\n",
        "model_5_preds[:10]"
      ],
      "execution_count": 107,
      "outputs": [
        {
          "output_type": "execute_result",
          "data": {
            "text/plain": [
              "<tf.Tensor: shape=(10,), dtype=float16, numpy=array([0., 1., 1., 0., 0., 1., 1., 1., 1., 1.], dtype=float16)>"
            ]
          },
          "metadata": {
            "tags": []
          },
          "execution_count": 107
        }
      ]
    },
    {
      "cell_type": "code",
      "metadata": {
        "id": "AI6f_kVCg-zf"
      },
      "source": [
        "# Evaluate model 5 predictions \n",
        "model_5_results = classification_evaluation_metrics(val_labels , \n",
        "                                                    model_5_preds)"
      ],
      "execution_count": 108,
      "outputs": []
    },
    {
      "cell_type": "code",
      "metadata": {
        "colab": {
          "base_uri": "https://localhost:8080/"
        },
        "id": "8fXsTp0EhHIS",
        "outputId": "5a3d4013-9a09-4bae-df84-272edaebc25b"
      },
      "source": [
        "model_5_results"
      ],
      "execution_count": 109,
      "outputs": [
        {
          "output_type": "execute_result",
          "data": {
            "text/plain": [
              "{'Accuracy:': 76.11548556430446,\n",
              " 'F1_Score: ': 0.7217125382262998,\n",
              " 'Precision: ': 0.7712418300653595,\n",
              " 'Recall: ': 0.6781609195402298}"
            ]
          },
          "metadata": {
            "tags": []
          },
          "execution_count": 109
        }
      ]
    },
    {
      "cell_type": "code",
      "metadata": {
        "colab": {
          "base_uri": "https://localhost:8080/"
        },
        "id": "sP0YwMplhKSf",
        "outputId": "d144b353-5baa-4d71-a457-0414212ba594"
      },
      "source": [
        "# Our base line model \n",
        "naive_baseline_results"
      ],
      "execution_count": 110,
      "outputs": [
        {
          "output_type": "execute_result",
          "data": {
            "text/plain": [
              "{'Accuracy:': 79.26509186351706,\n",
              " 'F1_Score: ': 0.734006734006734,\n",
              " 'Precision: ': 0.8861788617886179,\n",
              " 'Recall: ': 0.6264367816091954}"
            ]
          },
          "metadata": {
            "tags": []
          },
          "execution_count": 110
        }
      ]
    },
    {
      "cell_type": "markdown",
      "metadata": {
        "id": "VbdRn1kphO4U"
      },
      "source": [
        "##   Using TensorFlow Hub for pretrained word embeddings (transfer learning for NLP)\n",
        "\n",
        "\n",
        "For our next model, instead of using our own embedding layer, we're going to replace it with a pretrained embedding layer.\n",
        "\n",
        "We have built few of our own models, now let's use a pretrained one.\n",
        "\n",
        "Now we're gonna build a feature extractor called USE that is Universal Sentence Encoder.\n",
        "- **Encoder** —> Encodes sequence into numerical representation.\n",
        "- **Decoder** —> Decode sequence into a desired output.\n",
        "\n",
        "More specifically, we're going to be using the [Universal Sentence Encoder](https://tfhub.dev/google/collections/universal-sentence-encoder/1)from TensorFlow Hub (a great resource containing a plethora of pretrained model resources for a variety of tasks)."
      ]
    },
    {
      "cell_type": "code",
      "metadata": {
        "colab": {
          "base_uri": "https://localhost:8080/",
          "height": 35
        },
        "id": "ng7R_cc2Y8gP",
        "outputId": "9e9436f7-e8ba-430c-b5b7-b4f782381a9a"
      },
      "source": [
        "sample_sentence"
      ],
      "execution_count": 111,
      "outputs": [
        {
          "output_type": "execute_result",
          "data": {
            "application/vnd.google.colaboratory.intrinsic+json": {
              "type": "string"
            },
            "text/plain": [
              "\"There's a flood in my street!\""
            ]
          },
          "metadata": {
            "tags": []
          },
          "execution_count": 111
        }
      ]
    },
    {
      "cell_type": "code",
      "metadata": {
        "colab": {
          "base_uri": "https://localhost:8080/"
        },
        "id": "4_ZHypGPUijD",
        "outputId": "4977ad44-6730-4821-a692-c04b0ae645a4"
      },
      "source": [
        "# Importing the tensorflow hub \n",
        "import tensorflow_hub as hub \n",
        "embed = hub.load('https://tfhub.dev/google/universal-sentence-encoder/4')\n",
        "\n",
        "# Getting a glimpse of the pretrained model \n",
        "embed_samples = embed([sample_sentence , \n",
        "                       'When you call a universal sentence encoder on a sentence, it turns it into a numbers.'])\n",
        "print(embed_samples)"
      ],
      "execution_count": 112,
      "outputs": [
        {
          "output_type": "stream",
          "text": [
            "tf.Tensor(\n",
            "[[-0.01157032  0.02485909  0.02878048 ... -0.00186123  0.02315825\n",
            "  -0.01485021]\n",
            " [ 0.02950271 -0.08060791 -0.01373594 ... -0.02789221  0.02430331\n",
            "  -0.00082011]], shape=(2, 512), dtype=float32)\n"
          ],
          "name": "stdout"
        }
      ]
    },
    {
      "cell_type": "markdown",
      "metadata": {
        "id": "H4FEMIxkZMZj"
      },
      "source": [
        "It turned our sentence into a numerical representation. "
      ]
    },
    {
      "cell_type": "code",
      "metadata": {
        "colab": {
          "base_uri": "https://localhost:8080/"
        },
        "id": "gYUcY7X3Zh6V",
        "outputId": "0bcc012c-6532-4a7c-e208-423a35c16330"
      },
      "source": [
        "# Shape of the embed_sample \n",
        "embed_samples[0].shape"
      ],
      "execution_count": 113,
      "outputs": [
        {
          "output_type": "execute_result",
          "data": {
            "text/plain": [
              "TensorShape([512])"
            ]
          },
          "metadata": {
            "tags": []
          },
          "execution_count": 113
        }
      ]
    },
    {
      "cell_type": "markdown",
      "metadata": {
        "id": "ZkluCP0ZaBzn"
      },
      "source": [
        "**Creating a Keras layer using USE pre-trained layer from tensorflow hub.**\n",
        "\n",
        "We can use the link of the pre-trained model and use it in a Keras layer and turn this into. feature extractor layer. "
      ]
    },
    {
      "cell_type": "code",
      "metadata": {
        "id": "Sb_8jA6vaa01"
      },
      "source": [
        "# Creating a Keras layer \n",
        "sentence_encoder_layer = hub.KerasLayer('https://tfhub.dev/google/universal-sentence-encoder/4' , \n",
        "                                        input_shape = [] , # Defining a input shape so our layer will take anything sequence as a input (any variable length)\n",
        "                                        dtype = tf.string , \n",
        "                                        trainable = False , \n",
        "                                        name = 'USE_Layer'\n",
        "                                        )"
      ],
      "execution_count": 114,
      "outputs": []
    },
    {
      "cell_type": "code",
      "metadata": {
        "colab": {
          "base_uri": "https://localhost:8080/"
        },
        "id": "sTuF8w5pQ1R0",
        "outputId": "033a7ae6-df9b-4227-cef2-8388c09e5f4a"
      },
      "source": [
        "# Create model using Sequential API \n",
        "model_6 = tf.keras.Sequential([\n",
        "  # We don't need a text vectorizer and embedding layer this will take care of the pre processing behind the scenes\n",
        "  sentence_encoder_layer, \n",
        "  #layers.Dense(64 , activation = 'relu'), \n",
        "  layers.Dense(1 , activation ='sigmoid')\n",
        "]  , name = 'model_6_USE')\n",
        "\n",
        "# Compiling the model \n",
        "model_6.compile(loss = tf.keras.losses.BinaryCrossentropy() , \n",
        "                optimizer = tf.keras.optimizers.Adam() , \n",
        "                metrics = ['accuracy'])\n",
        "# Model 6 summary \n",
        "model_6.summary()"
      ],
      "execution_count": 115,
      "outputs": [
        {
          "output_type": "stream",
          "text": [
            "Model: \"model_6_USE\"\n",
            "_________________________________________________________________\n",
            "Layer (type)                 Output Shape              Param #   \n",
            "=================================================================\n",
            "USE_Layer (KerasLayer)       (None, 512)               256797824 \n",
            "_________________________________________________________________\n",
            "dense_12 (Dense)             (None, 1)                 513       \n",
            "=================================================================\n",
            "Total params: 256,798,337\n",
            "Trainable params: 513\n",
            "Non-trainable params: 256,797,824\n",
            "_________________________________________________________________\n"
          ],
          "name": "stdout"
        }
      ]
    },
    {
      "cell_type": "code",
      "metadata": {
        "colab": {
          "base_uri": "https://localhost:8080/"
        },
        "id": "uAQvYK_kRfxj",
        "outputId": "5669695c-1366-4bcc-e0fb-31e089b9f014"
      },
      "source": [
        "model_6.summary()"
      ],
      "execution_count": 116,
      "outputs": [
        {
          "output_type": "stream",
          "text": [
            "Model: \"model_6_USE\"\n",
            "_________________________________________________________________\n",
            "Layer (type)                 Output Shape              Param #   \n",
            "=================================================================\n",
            "USE_Layer (KerasLayer)       (None, 512)               256797824 \n",
            "_________________________________________________________________\n",
            "dense_12 (Dense)             (None, 1)                 513       \n",
            "=================================================================\n",
            "Total params: 256,798,337\n",
            "Trainable params: 513\n",
            "Non-trainable params: 256,797,824\n",
            "_________________________________________________________________\n"
          ],
          "name": "stdout"
        }
      ]
    },
    {
      "cell_type": "code",
      "metadata": {
        "colab": {
          "base_uri": "https://localhost:8080/"
        },
        "id": "7Q4EkgbwdMkG",
        "outputId": "ce10b6d2-f70a-4bfd-9d0c-7df4c2d7a1d3"
      },
      "source": [
        "# Train a classifier on top of USE pretrained embeddings \n",
        "model_6_history = model_6.fit(train_sentences , \n",
        "                              train_labels , \n",
        "                              epochs = 5 , \n",
        "                              validation_data = (val_sentences , val_labels), \n",
        "                              callbacks = [create_tensorboard_callback(dir_name = SAVE_DIR , \n",
        "                                                                       experiment_name = 'tf_hub_sentence_encoder')])"
      ],
      "execution_count": 117,
      "outputs": [
        {
          "output_type": "stream",
          "text": [
            "Saving TensorBoard log files to: model_logs/tf_hub_sentence_encoder/20210605-083813\n",
            "Epoch 1/5\n",
            "215/215 [==============================] - 7s 22ms/step - loss: 0.6457 - accuracy: 0.7481 - val_loss: 0.6117 - val_accuracy: 0.7703\n",
            "Epoch 2/5\n",
            "215/215 [==============================] - 2s 10ms/step - loss: 0.5793 - accuracy: 0.7904 - val_loss: 0.5628 - val_accuracy: 0.7756\n",
            "Epoch 3/5\n",
            "215/215 [==============================] - 2s 10ms/step - loss: 0.5374 - accuracy: 0.7954 - val_loss: 0.5314 - val_accuracy: 0.7848\n",
            "Epoch 4/5\n",
            "215/215 [==============================] - 2s 10ms/step - loss: 0.5090 - accuracy: 0.7984 - val_loss: 0.5102 - val_accuracy: 0.7874\n",
            "Epoch 5/5\n",
            "215/215 [==============================] - 2s 10ms/step - loss: 0.4893 - accuracy: 0.8005 - val_loss: 0.4964 - val_accuracy: 0.7887\n"
          ],
          "name": "stdout"
        }
      ]
    },
    {
      "cell_type": "code",
      "metadata": {
        "colab": {
          "base_uri": "https://localhost:8080/"
        },
        "id": "g9WmP8a1lxcx",
        "outputId": "76817262-98b4-40d8-8b6b-5d42cb41ff22"
      },
      "source": [
        "# Does it beating our baseline model? \n",
        "model_6_pred_probs = model_6.predict(val_sentences)\n",
        "model_6_pred_probs[:5]"
      ],
      "execution_count": 118,
      "outputs": [
        {
          "output_type": "execute_result",
          "data": {
            "text/plain": [
              "array([[0.3599],\n",
              "       [0.6733],\n",
              "       [0.848 ],\n",
              "       [0.3477],\n",
              "       [0.6367]], dtype=float16)"
            ]
          },
          "metadata": {
            "tags": []
          },
          "execution_count": 118
        }
      ]
    },
    {
      "cell_type": "code",
      "metadata": {
        "colab": {
          "base_uri": "https://localhost:8080/"
        },
        "id": "1xC-YfPwmJuI",
        "outputId": "72599238-9d0e-4a57-d277-40923f5f2ec5"
      },
      "source": [
        "# Convert prediction probabilities to labels \n",
        "model_6_preds = tf.squeeze(tf.round(model_6_pred_probs))\n",
        "model_6_preds[:10]"
      ],
      "execution_count": 119,
      "outputs": [
        {
          "output_type": "execute_result",
          "data": {
            "text/plain": [
              "<tf.Tensor: shape=(10,), dtype=float16, numpy=array([0., 1., 1., 0., 1., 1., 1., 1., 1., 0.], dtype=float16)>"
            ]
          },
          "metadata": {
            "tags": []
          },
          "execution_count": 119
        }
      ]
    },
    {
      "cell_type": "code",
      "metadata": {
        "colab": {
          "base_uri": "https://localhost:8080/"
        },
        "id": "_Expm1YwmYHI",
        "outputId": "43cbc8d9-6d7c-40f7-97e3-cc92c752e505"
      },
      "source": [
        "# Calculate model 6 performance metrics \n",
        "model_6_results = classification_evaluation_metrics(val_labels , \n",
        "                                                    model_6_preds )\n",
        "model_6_results"
      ],
      "execution_count": 120,
      "outputs": [
        {
          "output_type": "execute_result",
          "data": {
            "text/plain": [
              "{'Accuracy:': 78.87139107611549,\n",
              " 'F1_Score: ': 0.7578947368421052,\n",
              " 'Precision: ': 0.7949526813880127,\n",
              " 'Recall: ': 0.7241379310344828}"
            ]
          },
          "metadata": {
            "tags": []
          },
          "execution_count": 120
        }
      ]
    },
    {
      "cell_type": "code",
      "metadata": {
        "colab": {
          "base_uri": "https://localhost:8080/"
        },
        "id": "sZjXOfwTmlp8",
        "outputId": "3b9d609b-ec4b-4cba-9f70-e8af20061510"
      },
      "source": [
        "# Baseline model\n",
        "naive_baseline_results"
      ],
      "execution_count": 121,
      "outputs": [
        {
          "output_type": "execute_result",
          "data": {
            "text/plain": [
              "{'Accuracy:': 79.26509186351706,\n",
              " 'F1_Score: ': 0.734006734006734,\n",
              " 'Precision: ': 0.8861788617886179,\n",
              " 'Recall: ': 0.6264367816091954}"
            ]
          },
          "metadata": {
            "tags": []
          },
          "execution_count": 121
        }
      ]
    },
    {
      "cell_type": "markdown",
      "metadata": {
        "id": "4eppIFiBnGmX"
      },
      "source": [
        "Adding one dense layer to our pretrained model. We call this is as `improv_model_6`"
      ]
    },
    {
      "cell_type": "code",
      "metadata": {
        "colab": {
          "base_uri": "https://localhost:8080/"
        },
        "id": "eJVTYBOlnn3S",
        "outputId": "c6fd5412-11bb-41ae-df05-0f1a7636d1d1"
      },
      "source": [
        "# Creating the model 6 again \n",
        "tf.random.set_seed(42)\n",
        "\n",
        "improv_model_6 = tf.keras.Sequential([\n",
        "  sentence_encoder_layer , \n",
        "  layers.Dense(64 , activation= 'relu'), \n",
        "  layers.Dense(1 , activation = 'sigmoid')\n",
        "])\n",
        "\n",
        "# Compiling the model \n",
        "improv_model_6.compile(loss = tf.keras.losses.BinaryCrossentropy() , \n",
        "                       optimizer = tf.keras.optimizers.Adam() , \n",
        "                       metrics = ['accuracy'])\n",
        "\n",
        "# Fit the model \n",
        "improv_model_6.fit(train_sentences , \n",
        "                   train_labels , \n",
        "                   validation_data = (val_sentences , val_labels) , \n",
        "                   epochs = 5 )"
      ],
      "execution_count": 122,
      "outputs": [
        {
          "output_type": "stream",
          "text": [
            "Epoch 1/5\n",
            "215/215 [==============================] - 4s 12ms/step - loss: 0.5050 - accuracy: 0.7808 - val_loss: 0.4473 - val_accuracy: 0.7966\n",
            "Epoch 2/5\n",
            "215/215 [==============================] - 2s 10ms/step - loss: 0.4143 - accuracy: 0.8149 - val_loss: 0.4355 - val_accuracy: 0.8123\n",
            "Epoch 3/5\n",
            "215/215 [==============================] - 2s 10ms/step - loss: 0.3992 - accuracy: 0.8221 - val_loss: 0.4309 - val_accuracy: 0.8110\n",
            "Epoch 4/5\n",
            "215/215 [==============================] - 2s 10ms/step - loss: 0.3914 - accuracy: 0.8259 - val_loss: 0.4264 - val_accuracy: 0.8136\n",
            "Epoch 5/5\n",
            "215/215 [==============================] - 2s 10ms/step - loss: 0.3845 - accuracy: 0.8307 - val_loss: 0.4282 - val_accuracy: 0.8176\n"
          ],
          "name": "stdout"
        },
        {
          "output_type": "execute_result",
          "data": {
            "text/plain": [
              "<tensorflow.python.keras.callbacks.History at 0x7fc9ae0fffd0>"
            ]
          },
          "metadata": {
            "tags": []
          },
          "execution_count": 122
        }
      ]
    },
    {
      "cell_type": "code",
      "metadata": {
        "colab": {
          "base_uri": "https://localhost:8080/"
        },
        "id": "IjCNtqlU7Yq4",
        "outputId": "881f5cda-37a9-4370-b731-2c832c0ecca0"
      },
      "source": [
        "# Model summary \n",
        "improv_model_6.summary()"
      ],
      "execution_count": 123,
      "outputs": [
        {
          "output_type": "stream",
          "text": [
            "Model: \"sequential\"\n",
            "_________________________________________________________________\n",
            "Layer (type)                 Output Shape              Param #   \n",
            "=================================================================\n",
            "USE_Layer (KerasLayer)       (None, 512)               256797824 \n",
            "_________________________________________________________________\n",
            "dense_13 (Dense)             (None, 64)                32832     \n",
            "_________________________________________________________________\n",
            "dense_14 (Dense)             (None, 1)                 65        \n",
            "=================================================================\n",
            "Total params: 256,830,721\n",
            "Trainable params: 32,897\n",
            "Non-trainable params: 256,797,824\n",
            "_________________________________________________________________\n"
          ],
          "name": "stdout"
        }
      ]
    },
    {
      "cell_type": "markdown",
      "metadata": {
        "id": "KylPzQCVoT0H"
      },
      "source": [
        "OHH BOY! Atlast adding one additional dense layer managed to beat our base line model. "
      ]
    },
    {
      "cell_type": "code",
      "metadata": {
        "colab": {
          "base_uri": "https://localhost:8080/"
        },
        "id": "WLU142kAokpj",
        "outputId": "3ec56bd9-5aee-4712-ad9a-65ec62826462"
      },
      "source": [
        "# Getting the prediction probs \n",
        "improv_model_6_pred_probs = improv_model_6.predict(val_sentences)\n",
        "improv_model_6_pred_probs[:5]"
      ],
      "execution_count": 124,
      "outputs": [
        {
          "output_type": "execute_result",
          "data": {
            "text/plain": [
              "array([[0.1584],\n",
              "       [0.7417],\n",
              "       [0.992 ],\n",
              "       [0.2155],\n",
              "       [0.717 ]], dtype=float16)"
            ]
          },
          "metadata": {
            "tags": []
          },
          "execution_count": 124
        }
      ]
    },
    {
      "cell_type": "code",
      "metadata": {
        "colab": {
          "base_uri": "https://localhost:8080/"
        },
        "id": "jQXe_zKnoyDW",
        "outputId": "785c28ef-670f-4e4c-8b70-7b58491681a1"
      },
      "source": [
        "# Converting into labels \n",
        "improv_model_6_preds = tf.squeeze(tf.round(improv_model_6_pred_probs))\n",
        "improv_model_6_pred_probs[:10]"
      ],
      "execution_count": 125,
      "outputs": [
        {
          "output_type": "execute_result",
          "data": {
            "text/plain": [
              "array([[0.1584],\n",
              "       [0.7417],\n",
              "       [0.992 ],\n",
              "       [0.2155],\n",
              "       [0.717 ],\n",
              "       [0.68  ],\n",
              "       [0.9863],\n",
              "       [0.978 ],\n",
              "       [0.9326],\n",
              "       [0.0875]], dtype=float16)"
            ]
          },
          "metadata": {
            "tags": []
          },
          "execution_count": 125
        }
      ]
    },
    {
      "cell_type": "code",
      "metadata": {
        "colab": {
          "base_uri": "https://localhost:8080/"
        },
        "id": "PdCvofKLo87s",
        "outputId": "6853a05f-c5de-4547-b2bb-ff62a0d5b70d"
      },
      "source": [
        "# Getting our classification report \n",
        "improv_model_6_results = classification_evaluation_metrics(val_labels , \n",
        "                                                           improv_model_6_preds)\n",
        "improv_model_6_results"
      ],
      "execution_count": 126,
      "outputs": [
        {
          "output_type": "execute_result",
          "data": {
            "text/plain": [
              "{'Accuracy:': 81.75853018372703,\n",
              " 'F1_Score: ': 0.785824345146379,\n",
              " 'Precision: ': 0.8471760797342193,\n",
              " 'Recall: ': 0.7327586206896551}"
            ]
          },
          "metadata": {
            "tags": []
          },
          "execution_count": 126
        }
      ]
    },
    {
      "cell_type": "code",
      "metadata": {
        "colab": {
          "base_uri": "https://localhost:8080/"
        },
        "id": "f3oC0EZApJGl",
        "outputId": "290726da-4c1f-46f8-bc42-83af615e2f4c"
      },
      "source": [
        "# Our base line results \n",
        "naive_baseline_results"
      ],
      "execution_count": 127,
      "outputs": [
        {
          "output_type": "execute_result",
          "data": {
            "text/plain": [
              "{'Accuracy:': 79.26509186351706,\n",
              " 'F1_Score: ': 0.734006734006734,\n",
              " 'Precision: ': 0.8861788617886179,\n",
              " 'Recall: ': 0.6264367816091954}"
            ]
          },
          "metadata": {
            "tags": []
          },
          "execution_count": 127
        }
      ]
    },
    {
      "cell_type": "markdown",
      "metadata": {
        "id": "gjrJB-Y7pOPg"
      },
      "source": [
        "## Model 7: TF Hub Pretrained USE but with 10% of the training data \n",
        "\n",
        "Transfer learning really helps when you don't have a large dataset. To see how our model performs on a smaller dataset, let's replicate `model_6` except train with 10% of the training data. \n",
        "\n",
        ">Note: Always experiment with a small portion of your data so that we can run more experiments on our data. "
      ]
    },
    {
      "cell_type": "code",
      "metadata": {
        "colab": {
          "base_uri": "https://localhost:8080/"
        },
        "id": "udwLJqqS9nJI",
        "outputId": "70471651-e4f9-4401-a6e9-9a7f8fa58fc6"
      },
      "source": [
        "# NOTE: Making data splits like below leads to data leakages (model_7 trained on 10% data, outperforms model trained on the whole data)\n",
        "# DO NOT MAKE DATA SPLITS WHICH LEAK DATA FROM VALIDATION/TEST SETS INTO TRAINING SET\n",
        "\n",
        "# Create subsets of 10% of the training data \n",
        "train_10_percent = train_df_shuffled[['text' , 'target']].sample(frac = 0.1 , random_state = 42)\n",
        "print(f'Only the 10% of the train data shuffled: {train_10_percent.shape[0]}') \n",
        "print(f'The whole data: {train_df_shuffled.shape[0]}')"
      ],
      "execution_count": 128,
      "outputs": [
        {
          "output_type": "stream",
          "text": [
            "Only the 10% of the train data shuffled: 761\n",
            "The whole data: 7613\n"
          ],
          "name": "stdout"
        }
      ]
    },
    {
      "cell_type": "code",
      "metadata": {
        "colab": {
          "base_uri": "https://localhost:8080/"
        },
        "id": "Emi2B36R-i72",
        "outputId": "b60c216a-d5dc-4b2b-ec90-6f83e734dc77"
      },
      "source": [
        "# Now the same with train_sentences (scraping just the text)\n",
        "train_sentences_10_percent = train_10_percent['text'].to_list()\n",
        "train_sentences_10_percent[:5] , len(train_sentences_10_percent) # 761 that is 10% of the text data"
      ],
      "execution_count": 129,
      "outputs": [
        {
          "output_type": "execute_result",
          "data": {
            "text/plain": [
              "(['DFR EP016 Monthly Meltdown - On Dnbheaven 2015.08.06 http://t.co/EjKRf8N8A8 #Drum and Bass #heavy #nasty http://t.co/SPHWE6wFI5',\n",
              "  'FedEx no longer to transport bioterror germs in wake of anthrax lab mishaps http://t.co/qZQc8WWwcN via @usatoday',\n",
              "  'Gunmen kill four in El Salvador bus attack: Suspected Salvadoran gang members killed four people and wounded s... http://t.co/CNtwB6ScZj',\n",
              "  '@camilacabello97 Internally and externally screaming',\n",
              "  'Radiation emergency #preparedness starts with knowing to: get inside stay inside and stay tuned http://t.co/RFFPqBAz2F via @CDCgov'],\n",
              " 761)"
            ]
          },
          "metadata": {
            "tags": []
          },
          "execution_count": 129
        }
      ]
    },
    {
      "cell_type": "code",
      "metadata": {
        "colab": {
          "base_uri": "https://localhost:8080/"
        },
        "id": "gtxB7ERl_O1Z",
        "outputId": "f2e91fab-0c62-42ee-ba3b-d30b789e0648"
      },
      "source": [
        "# Scraping 10% of the labels \n",
        "train_labels_10_percent = train_10_percent['target'].to_list()\n",
        "len(train_labels_10_percent) "
      ],
      "execution_count": 130,
      "outputs": [
        {
          "output_type": "execute_result",
          "data": {
            "text/plain": [
              "761"
            ]
          },
          "metadata": {
            "tags": []
          },
          "execution_count": 130
        }
      ]
    },
    {
      "cell_type": "code",
      "metadata": {
        "colab": {
          "base_uri": "https://localhost:8080/"
        },
        "id": "IEDTbskt_kJG",
        "outputId": "b561f015-e0c8-4078-b4d9-d46f7c18508a"
      },
      "source": [
        "# Check the number of targets in our subset of data \n",
        "train_10_percent['target'].value_counts()"
      ],
      "execution_count": 131,
      "outputs": [
        {
          "output_type": "execute_result",
          "data": {
            "text/plain": [
              "0    413\n",
              "1    348\n",
              "Name: target, dtype: int64"
            ]
          },
          "metadata": {
            "tags": []
          },
          "execution_count": 131
        }
      ]
    },
    {
      "cell_type": "code",
      "metadata": {
        "colab": {
          "base_uri": "https://localhost:8080/"
        },
        "id": "DVX7WNJ__xlM",
        "outputId": "93947c27-406b-4f5c-f54a-6fee54a19adf"
      },
      "source": [
        "# Checking if the ratio is similar (or very close)\n",
        "train_df_shuffled['target'].value_counts()"
      ],
      "execution_count": 132,
      "outputs": [
        {
          "output_type": "execute_result",
          "data": {
            "text/plain": [
              "0    4342\n",
              "1    3271\n",
              "Name: target, dtype: int64"
            ]
          },
          "metadata": {
            "tags": []
          },
          "execution_count": 132
        }
      ]
    },
    {
      "cell_type": "markdown",
      "metadata": {
        "id": "ZSiDsPUMABDL"
      },
      "source": [
        "While creating a subset of our data we should pay real attention to the distribution is fairly close or equal distribution. \n",
        "\n",
        "**Building a similar model to `model_6` but with only 10% of the data**"
      ]
    },
    {
      "cell_type": "code",
      "metadata": {
        "id": "-Vhcn9eNAxJq"
      },
      "source": [
        "# Trying to build the sentence encoder layer with no input shape and dtype \n",
        "func_sentence_encoder_layer = hub.KerasLayer('https://tfhub.dev/google/universal-sentence-encoder/4' , \n",
        "                                             trainable = False , \n",
        "                                             name = 'Functional_USE_layer')"
      ],
      "execution_count": 133,
      "outputs": []
    },
    {
      "cell_type": "markdown",
      "metadata": {
        "id": "iHASb6C4COn2"
      },
      "source": [
        "To fix the shape error https://stackoverflow.com/questions/60634839/using-tf-hub-keraslayer-in-tf-2-1-functional-api-throws-valueerror-python-input"
      ]
    },
    {
      "cell_type": "code",
      "metadata": {
        "colab": {
          "base_uri": "https://localhost:8080/"
        },
        "id": "MM4dqddRAJCy",
        "outputId": "27dd07d5-d220-4092-f9be-4c58e74a81cf"
      },
      "source": [
        "# Creating model_7 (Using functional API)\n",
        "inputs = layers.Input(shape=() , dtype = tf.string , name = 'input_layer')\n",
        "\n",
        "# Getting our functional sentence encoder in our model\n",
        "x = func_sentence_encoder_layer(inputs)\n",
        "x = layers.Dense(64 , activation=  'relu')(x)\n",
        "\n",
        "# Our ouputs \n",
        "outputs = layers.Dense(1 , activation = 'sigmoid' , name = 'output_layer')(x)\n",
        "\n",
        "# Packing into a model \n",
        "functional_model_7 = tf.keras.Model(inputs , outputs , name = 'functional_model_7')\n",
        "\n",
        "# Compiling the model \n",
        "functional_model_7.compile(loss = tf.keras.losses.BinaryCrossentropy() , \n",
        "                           optimizer = tf.keras.optimizers.Adam() , \n",
        "                           metrics = ['accuracy'])\n",
        "\n",
        "# Getting the summary of the model \n",
        "functional_model_7.summary()\n"
      ],
      "execution_count": 134,
      "outputs": [
        {
          "output_type": "stream",
          "text": [
            "Model: \"functional_model_7\"\n",
            "_________________________________________________________________\n",
            "Layer (type)                 Output Shape              Param #   \n",
            "=================================================================\n",
            "input_layer (InputLayer)     [(None,)]                 0         \n",
            "_________________________________________________________________\n",
            "Functional_USE_layer (KerasL (None, 512)               256797824 \n",
            "_________________________________________________________________\n",
            "dense_15 (Dense)             (None, 64)                32832     \n",
            "_________________________________________________________________\n",
            "output_layer (Dense)         (None, 1)                 65        \n",
            "=================================================================\n",
            "Total params: 256,830,721\n",
            "Trainable params: 32,897\n",
            "Non-trainable params: 256,797,824\n",
            "_________________________________________________________________\n"
          ],
          "name": "stdout"
        }
      ]
    },
    {
      "cell_type": "code",
      "metadata": {
        "colab": {
          "base_uri": "https://localhost:8080/"
        },
        "id": "h_ZySmexBhO8",
        "outputId": "64d7ed82-f984-4650-8bdf-5dee72c37ba2"
      },
      "source": [
        "# Fitting the functional model with only the 10% of the data \n",
        "functional_model_7_history = functional_model_7.fit(train_sentences_10_percent , \n",
        "                                                    train_labels_10_percent , \n",
        "                                                    epochs = 5 , \n",
        "                                                    validation_data = (val_sentences , val_labels))"
      ],
      "execution_count": 135,
      "outputs": [
        {
          "output_type": "stream",
          "text": [
            "Epoch 1/5\n",
            "24/24 [==============================] - 3s 34ms/step - loss: 0.6725 - accuracy: 0.6544 - val_loss: 0.6340 - val_accuracy: 0.7835\n",
            "Epoch 2/5\n",
            "24/24 [==============================] - 0s 18ms/step - loss: 0.5993 - accuracy: 0.7911 - val_loss: 0.5541 - val_accuracy: 0.7992\n",
            "Epoch 3/5\n",
            "24/24 [==============================] - 0s 18ms/step - loss: 0.5211 - accuracy: 0.8042 - val_loss: 0.4832 - val_accuracy: 0.8136\n",
            "Epoch 4/5\n",
            "24/24 [==============================] - 0s 17ms/step - loss: 0.4623 - accuracy: 0.8108 - val_loss: 0.4363 - val_accuracy: 0.8189\n",
            "Epoch 5/5\n",
            "24/24 [==============================] - 0s 17ms/step - loss: 0.4245 - accuracy: 0.8160 - val_loss: 0.4052 - val_accuracy: 0.8281\n"
          ],
          "name": "stdout"
        }
      ]
    },
    {
      "cell_type": "markdown",
      "metadata": {
        "id": "4s4eVxlOCrM7"
      },
      "source": [
        "Doing the same with a sequential API to see both the results are same"
      ]
    },
    {
      "cell_type": "code",
      "metadata": {
        "colab": {
          "base_uri": "https://localhost:8080/"
        },
        "id": "1XrfdiiWEACY",
        "outputId": "390bb6bd-38cd-43e0-a697-65f3bf6f1d6b"
      },
      "source": [
        "# Building model 7 with a sequential api \n",
        "\n",
        "model_7 = tf.keras.Sequential([\n",
        "  sentence_encoder_layer, \n",
        "  layers.Dense(64 , activation ='relu'), \n",
        "  layers.Dense(1 , activation = 'sigmoid')\n",
        "] , name = 'model_7')\n",
        "\n",
        "# Compiling the model \n",
        "model_7.compile(loss = tf.keras.losses.BinaryCrossentropy() , \n",
        "                optimizer = tf.keras.optimizers.Adam() , \n",
        "                metrics = ['accuracy'])\n",
        "\n",
        "# Fitting the model \n",
        "model_7_history = model_7.fit(train_sentences_10_percent , \n",
        "                              train_labels_10_percent  , \n",
        "                              validation_data = (val_sentences , val_labels) , \n",
        "                              epochs = 5)"
      ],
      "execution_count": 136,
      "outputs": [
        {
          "output_type": "stream",
          "text": [
            "Epoch 1/5\n",
            "24/24 [==============================] - 2s 34ms/step - loss: 0.6739 - accuracy: 0.6518 - val_loss: 0.6376 - val_accuracy: 0.7782\n",
            "Epoch 2/5\n",
            "24/24 [==============================] - 0s 18ms/step - loss: 0.6048 - accuracy: 0.7832 - val_loss: 0.5616 - val_accuracy: 0.7900\n",
            "Epoch 3/5\n",
            "24/24 [==============================] - 0s 18ms/step - loss: 0.5292 - accuracy: 0.7963 - val_loss: 0.4914 - val_accuracy: 0.7979\n",
            "Epoch 4/5\n",
            "24/24 [==============================] - 0s 18ms/step - loss: 0.4696 - accuracy: 0.8055 - val_loss: 0.4427 - val_accuracy: 0.8189\n",
            "Epoch 5/5\n",
            "24/24 [==============================] - 0s 17ms/step - loss: 0.4300 - accuracy: 0.8121 - val_loss: 0.4102 - val_accuracy: 0.8215\n"
          ],
          "name": "stdout"
        }
      ]
    },
    {
      "cell_type": "code",
      "metadata": {
        "id": "IisSD8YfEqEh"
      },
      "source": [
        "# Getting the prediction probabilities for both \n",
        "functional_model_7_pred_probs = functional_model_7.predict(val_sentences)\n",
        "model_7_pred_probs = model_7.predict(val_sentences)"
      ],
      "execution_count": 137,
      "outputs": []
    },
    {
      "cell_type": "code",
      "metadata": {
        "colab": {
          "base_uri": "https://localhost:8080/"
        },
        "id": "YUe-Pj8BE3Sx",
        "outputId": "3cc76e0e-1117-4df6-ce75-1b1fc0defc95"
      },
      "source": [
        "\n",
        "# Converting into labels of prediction \n",
        "functional_model_7_preds = tf.squeeze(tf.round(functional_model_7_pred_probs))\n",
        "model_7_preds = tf.squeeze(tf.round(model_7_pred_probs))\n",
        "\n",
        "functional_model_7_preds[:5] , model_7_preds[:5]"
      ],
      "execution_count": 138,
      "outputs": [
        {
          "output_type": "execute_result",
          "data": {
            "text/plain": [
              "(<tf.Tensor: shape=(5,), dtype=float16, numpy=array([0., 1., 1., 0., 1.], dtype=float16)>,\n",
              " <tf.Tensor: shape=(5,), dtype=float16, numpy=array([0., 1., 1., 0., 1.], dtype=float16)>)"
            ]
          },
          "metadata": {
            "tags": []
          },
          "execution_count": 138
        }
      ]
    },
    {
      "cell_type": "code",
      "metadata": {
        "colab": {
          "base_uri": "https://localhost:8080/"
        },
        "id": "qDGnsfV5FLCf",
        "outputId": "a802fb81-35b8-4e45-c64d-673c6979143e"
      },
      "source": [
        "# Comparing the results with the classification metrics we have \n",
        "\n",
        "functional_model_7_results = classification_evaluation_metrics(val_labels , \n",
        "                                                               functional_model_7_preds)\n",
        "model_7_results = classification_evaluation_metrics(val_labels , \n",
        "                                                    model_7_preds)\n",
        "\n",
        "functional_model_7_results"
      ],
      "execution_count": 139,
      "outputs": [
        {
          "output_type": "execute_result",
          "data": {
            "text/plain": [
              "{'Accuracy:': 82.80839895013123,\n",
              " 'F1_Score: ': 0.8070692194403535,\n",
              " 'Precision: ': 0.8277945619335347,\n",
              " 'Recall: ': 0.7873563218390804}"
            ]
          },
          "metadata": {
            "tags": []
          },
          "execution_count": 139
        }
      ]
    },
    {
      "cell_type": "code",
      "metadata": {
        "colab": {
          "base_uri": "https://localhost:8080/"
        },
        "id": "TCvnnJ9IFhrz",
        "outputId": "4ce3d61e-7d14-4b1b-9516-337fa4fdd6d2"
      },
      "source": [
        "model_7_results"
      ],
      "execution_count": 140,
      "outputs": [
        {
          "output_type": "execute_result",
          "data": {
            "text/plain": [
              "{'Accuracy:': 82.1522309711286,\n",
              " 'F1_Score: ': 0.8,\n",
              " 'Precision: ': 0.8192771084337349,\n",
              " 'Recall: ': 0.7816091954022989}"
            ]
          },
          "metadata": {
            "tags": []
          },
          "execution_count": 140
        }
      ]
    },
    {
      "cell_type": "markdown",
      "metadata": {
        "id": "1nkw67BFFjUS"
      },
      "source": [
        "Alright looking at the video now came to know daniel is using clone model here will give a try!\n",
        "\n",
        "**Clone Model: Copies only the architecture of the model leaving behind the weights / patterns it learned during the training.** "
      ]
    },
    {
      "cell_type": "code",
      "metadata": {
        "colab": {
          "base_uri": "https://localhost:8080/"
        },
        "id": "1407Tyr-Gv5T",
        "outputId": "05091b99-046f-4576-8b6e-7a85074a7769"
      },
      "source": [
        "# Cloning the model \n",
        "clone_model_7 = tf.keras.models.clone_model(model_6)\n",
        "\n",
        "# Compile the model \n",
        "clone_model_7.compile(loss = tf.keras.losses.BinaryCrossentropy() , \n",
        "                      optimizer = tf.keras.optimizers.Adam() , \n",
        "                      metrics = ['accuracy'] ) \n",
        "\n",
        "# Get summary of the model (will be same as model_6)\n",
        "clone_model_7.summary()"
      ],
      "execution_count": 141,
      "outputs": [
        {
          "output_type": "stream",
          "text": [
            "Model: \"model_6_USE\"\n",
            "_________________________________________________________________\n",
            "Layer (type)                 Output Shape              Param #   \n",
            "=================================================================\n",
            "USE_Layer (KerasLayer)       (None, 512)               256797824 \n",
            "_________________________________________________________________\n",
            "dense_12 (Dense)             (None, 1)                 513       \n",
            "=================================================================\n",
            "Total params: 256,798,337\n",
            "Trainable params: 513\n",
            "Non-trainable params: 256,797,824\n",
            "_________________________________________________________________\n"
          ],
          "name": "stdout"
        }
      ]
    },
    {
      "cell_type": "markdown",
      "metadata": {
        "id": "bMWSRLs5Hswt"
      },
      "source": [
        ">**How a model which we trained with 10 times less data out performs a model that it has been trained on the full data?**\n",
        "\n",
        "The answer is data leakage! The problem is how we split our data into training and test data of 10%. \n",
        "\n",
        "When we created our `train_sentences_10_percent` we performed the split from `train_data_shuffled` and it will have some of the data's of `val_sentences`. This is the reason why our model was able to perform well. \n",
        "\n",
        "Data from `val_sentences` leaked into our newly created `train_sentences_10_percent`"
      ]
    },
    {
      "cell_type": "code",
      "metadata": {
        "id": "PI3RRDAqJgfI",
        "outputId": "20eb10a4-26c6-489b-cdac-3c4678cc3c24",
        "colab": {
          "base_uri": "https://localhost:8080/"
        }
      },
      "source": [
        "# Making a better dataset split (no data leakage)\n",
        "train_10_percent_split = int(0.1 * len(train_sentences)) # Directly taking 10% from our train data\n",
        "print(train_10_percent_split)\n",
        "\n",
        "# Splitting our train data with the actual train_data (no double dipping this time)\n",
        "train_sentences_10_percent = train_sentences[:train_10_percent_split]\n",
        "len(train_10_percent)"
      ],
      "execution_count": 142,
      "outputs": [
        {
          "output_type": "stream",
          "text": [
            "685\n"
          ],
          "name": "stdout"
        },
        {
          "output_type": "execute_result",
          "data": {
            "text/plain": [
              "761"
            ]
          },
          "metadata": {
            "tags": []
          },
          "execution_count": 142
        }
      ]
    },
    {
      "cell_type": "code",
      "metadata": {
        "id": "qGTuugh4utyZ",
        "outputId": "db52af04-dcba-4b53-f6ba-4756e8c6c10f",
        "colab": {
          "base_uri": "https://localhost:8080/"
        }
      },
      "source": [
        "# Now our 10% data is ready\n",
        "train_sentences_10_percent[:10]"
      ],
      "execution_count": 143,
      "outputs": [
        {
          "output_type": "execute_result",
          "data": {
            "text/plain": [
              "array(['@mogacola @zamtriossu i screamed after hitting tweet',\n",
              "       'Imagine getting flattened by Kurt Zouma',\n",
              "       '@Gurmeetramrahim #MSGDoing111WelfareWorks Green S welfare force ke appx 65000 members har time disaster victim ki help ke liye tyar hai....',\n",
              "       \"@shakjn @C7 @Magnums im shaking in fear he's gonna hack the planet\",\n",
              "       'Somehow find you and I collide http://t.co/Ee8RpOahPk',\n",
              "       '@EvaHanderek @MarleyKnysh great times until the bus driver held us hostage in the mall parking lot lmfao',\n",
              "       'destroy the free fandom honestly',\n",
              "       'Weapons stolen from National Guard Armory in New Albany still missing #Gunsense http://t.co/lKNU8902JE',\n",
              "       '@wfaaweather Pete when will the heat wave pass? Is it really going to be mid month? Frisco Boy Scouts have a canoe trip in Okla.',\n",
              "       'Patient-reported outcomes in long-term survivors of metastatic colorectal cancer - British Journal of Surgery http://t.co/5Yl4DC1Tqt'],\n",
              "      dtype=object)"
            ]
          },
          "metadata": {
            "tags": []
          },
          "execution_count": 143
        }
      ]
    },
    {
      "cell_type": "code",
      "metadata": {
        "id": "79alfs69vBOG",
        "outputId": "89a5c079-a5d9-4078-cb0f-2912d5fd65f3",
        "colab": {
          "base_uri": "https://localhost:8080/"
        }
      },
      "source": [
        "# Doing the same but with the train labels \n",
        "train_labels_10_percent = train_labels[:train_10_percent_split]\n",
        "len(train_labels_10_percent) , train_labels_10_percent[:5]"
      ],
      "execution_count": 144,
      "outputs": [
        {
          "output_type": "execute_result",
          "data": {
            "text/plain": [
              "(685, array([0, 0, 1, 0, 0]))"
            ]
          },
          "metadata": {
            "tags": []
          },
          "execution_count": 144
        }
      ]
    },
    {
      "cell_type": "code",
      "metadata": {
        "id": "iFZS7O6mvdTu",
        "outputId": "8444ace2-38f2-4c5b-922e-58195b5a2fdb",
        "colab": {
          "base_uri": "https://localhost:8080/"
        }
      },
      "source": [
        "# How many 1s and 0s are there? \n",
        "pd.Series(np.array(train_labels_10_percent)).value_counts()"
      ],
      "execution_count": 145,
      "outputs": [
        {
          "output_type": "execute_result",
          "data": {
            "text/plain": [
              "0    406\n",
              "1    279\n",
              "dtype: int64"
            ]
          },
          "metadata": {
            "tags": []
          },
          "execution_count": 145
        }
      ]
    },
    {
      "cell_type": "code",
      "metadata": {
        "id": "-XEZN87cvv_1",
        "outputId": "63079c69-d3a0-438d-9cc2-aa4cb888252c",
        "colab": {
          "base_uri": "https://localhost:8080/"
        }
      },
      "source": [
        "# Building model 7 with a sequential api \n",
        "\n",
        "model_7 = tf.keras.Sequential([\n",
        "  sentence_encoder_layer, \n",
        "  layers.Dense(64 , activation ='relu'), \n",
        "  layers.Dense(1 , activation = 'sigmoid')\n",
        "] , name = 'model_7')\n",
        "\n",
        "# Compiling the model \n",
        "model_7.compile(loss = tf.keras.losses.BinaryCrossentropy() , \n",
        "                optimizer = tf.keras.optimizers.Adam() , \n",
        "                metrics = ['accuracy'])\n",
        "\n",
        "# Fitting the model \n",
        "model_7_history = model_7.fit(train_sentences_10_percent , \n",
        "                              train_labels_10_percent  , \n",
        "                              validation_data = (val_sentences , val_labels) , \n",
        "                              epochs = 5)"
      ],
      "execution_count": 146,
      "outputs": [
        {
          "output_type": "stream",
          "text": [
            "Epoch 1/5\n",
            "22/22 [==============================] - 2s 36ms/step - loss: 0.6709 - accuracy: 0.6978 - val_loss: 0.6493 - val_accuracy: 0.7297\n",
            "Epoch 2/5\n",
            "22/22 [==============================] - 0s 18ms/step - loss: 0.6013 - accuracy: 0.8146 - val_loss: 0.5905 - val_accuracy: 0.7572\n",
            "Epoch 3/5\n",
            "22/22 [==============================] - 0s 19ms/step - loss: 0.5230 - accuracy: 0.8073 - val_loss: 0.5341 - val_accuracy: 0.7612\n",
            "Epoch 4/5\n",
            "22/22 [==============================] - 0s 18ms/step - loss: 0.4610 - accuracy: 0.8088 - val_loss: 0.5037 - val_accuracy: 0.7743\n",
            "Epoch 5/5\n",
            "22/22 [==============================] - 0s 19ms/step - loss: 0.4196 - accuracy: 0.8307 - val_loss: 0.4878 - val_accuracy: 0.7769\n"
          ],
          "name": "stdout"
        }
      ]
    },
    {
      "cell_type": "code",
      "metadata": {
        "id": "FVIiXkSGxzZ7",
        "outputId": "64ee7cd1-8f7b-45f0-8670-4d3048db7d7e",
        "colab": {
          "base_uri": "https://localhost:8080/"
        }
      },
      "source": [
        "# Getting the prediction probabilities  \n",
        "model_7_pred_probs = model_7.predict(val_sentences)\n",
        "\n",
        "# Converting into labels of prediction \n",
        "\n",
        "model_7_preds = tf.squeeze(tf.round(model_7_pred_probs))\n",
        "\n",
        "model_7_preds[:5]"
      ],
      "execution_count": 147,
      "outputs": [
        {
          "output_type": "execute_result",
          "data": {
            "text/plain": [
              "<tf.Tensor: shape=(5,), dtype=float16, numpy=array([0., 1., 1., 0., 1.], dtype=float16)>"
            ]
          },
          "metadata": {
            "tags": []
          },
          "execution_count": 147
        }
      ]
    },
    {
      "cell_type": "code",
      "metadata": {
        "id": "nuh4oRk-x9S2",
        "outputId": "8e80ff58-a840-4a95-baa5-18021808e3ac",
        "colab": {
          "base_uri": "https://localhost:8080/"
        }
      },
      "source": [
        "# Comparing the results with the classification metrics we have \n",
        "model_7_results = classification_evaluation_metrics(val_labels , \n",
        "                                                    model_7_preds)\n",
        "\n",
        "model_7_results"
      ],
      "execution_count": 148,
      "outputs": [
        {
          "output_type": "execute_result",
          "data": {
            "text/plain": [
              "{'Accuracy:': 77.69028871391076,\n",
              " 'F1_Score: ': 0.7376543209876544,\n",
              " 'Precision: ': 0.7966666666666666,\n",
              " 'Recall: ': 0.6867816091954023}"
            ]
          },
          "metadata": {
            "tags": []
          },
          "execution_count": 148
        }
      ]
    },
    {
      "cell_type": "markdown",
      "metadata": {
        "id": "MysF-Z5WyJ6C"
      },
      "source": [
        "> **🔑 NOTE**: Be very careful when creating training/val/test splits that you don't leak data across the datasets, otherwise your model evaluation metrics will be wrong. If something looks too good to be true (a model trained on 10% of data outperforming the same model trained on 100% of data) trust your gut and go back through to find where the error may lie."
      ]
    },
    {
      "cell_type": "markdown",
      "metadata": {
        "id": "miYGHMYPy62Z"
      },
      "source": [
        "## Comparing the performance of each of our models\n"
      ]
    },
    {
      "cell_type": "code",
      "metadata": {
        "id": "LlSbDIFe_CsA",
        "outputId": "522b3f28-cab4-4966-e227-fbc1f7be177f",
        "colab": {
          "base_uri": "https://localhost:8080/",
          "height": 297
        }
      },
      "source": [
        "# Combine model results into a dataframe \n",
        "all_model_results = pd.DataFrame({'0_baseline': naive_baseline_results , \n",
        "                                  '1_simple_dense': model_1_results , \n",
        "                                  '2_lstm':model_2_results ,\n",
        "                                  '3_gru': model_3_results , \n",
        "                                  '4_bidirectional': model_4_results , \n",
        "                                  '5_conv1d': model_5_results , \n",
        "                                  '6_tf_hub_use_encoder': model_6_results , \n",
        "                                  '7_tf_hub_use_encoder_10_percent': model_7_results})\n",
        "all_model_results = all_model_results.transpose()\n",
        "all_model_results"
      ],
      "execution_count": 149,
      "outputs": [
        {
          "output_type": "execute_result",
          "data": {
            "text/html": [
              "<div>\n",
              "<style scoped>\n",
              "    .dataframe tbody tr th:only-of-type {\n",
              "        vertical-align: middle;\n",
              "    }\n",
              "\n",
              "    .dataframe tbody tr th {\n",
              "        vertical-align: top;\n",
              "    }\n",
              "\n",
              "    .dataframe thead th {\n",
              "        text-align: right;\n",
              "    }\n",
              "</style>\n",
              "<table border=\"1\" class=\"dataframe\">\n",
              "  <thead>\n",
              "    <tr style=\"text-align: right;\">\n",
              "      <th></th>\n",
              "      <th>Accuracy:</th>\n",
              "      <th>F1_Score:</th>\n",
              "      <th>Precision:</th>\n",
              "      <th>Recall:</th>\n",
              "    </tr>\n",
              "  </thead>\n",
              "  <tbody>\n",
              "    <tr>\n",
              "      <th>0_baseline</th>\n",
              "      <td>79.265092</td>\n",
              "      <td>0.734007</td>\n",
              "      <td>0.886179</td>\n",
              "      <td>0.626437</td>\n",
              "    </tr>\n",
              "    <tr>\n",
              "      <th>1_simple_dense</th>\n",
              "      <td>78.740157</td>\n",
              "      <td>0.745283</td>\n",
              "      <td>0.822917</td>\n",
              "      <td>0.681034</td>\n",
              "    </tr>\n",
              "    <tr>\n",
              "      <th>2_lstm</th>\n",
              "      <td>78.083990</td>\n",
              "      <td>0.741085</td>\n",
              "      <td>0.804714</td>\n",
              "      <td>0.686782</td>\n",
              "    </tr>\n",
              "    <tr>\n",
              "      <th>3_gru</th>\n",
              "      <td>77.165354</td>\n",
              "      <td>0.736364</td>\n",
              "      <td>0.778846</td>\n",
              "      <td>0.698276</td>\n",
              "    </tr>\n",
              "    <tr>\n",
              "      <th>4_bidirectional</th>\n",
              "      <td>77.165354</td>\n",
              "      <td>0.716612</td>\n",
              "      <td>0.827068</td>\n",
              "      <td>0.632184</td>\n",
              "    </tr>\n",
              "    <tr>\n",
              "      <th>5_conv1d</th>\n",
              "      <td>76.115486</td>\n",
              "      <td>0.721713</td>\n",
              "      <td>0.771242</td>\n",
              "      <td>0.678161</td>\n",
              "    </tr>\n",
              "    <tr>\n",
              "      <th>6_tf_hub_use_encoder</th>\n",
              "      <td>78.871391</td>\n",
              "      <td>0.757895</td>\n",
              "      <td>0.794953</td>\n",
              "      <td>0.724138</td>\n",
              "    </tr>\n",
              "    <tr>\n",
              "      <th>7_tf_hub_use_encoder_10_percent</th>\n",
              "      <td>77.690289</td>\n",
              "      <td>0.737654</td>\n",
              "      <td>0.796667</td>\n",
              "      <td>0.686782</td>\n",
              "    </tr>\n",
              "  </tbody>\n",
              "</table>\n",
              "</div>"
            ],
            "text/plain": [
              "                                 Accuracy:  F1_Score:   Precision:   Recall: \n",
              "0_baseline                       79.265092    0.734007     0.886179  0.626437\n",
              "1_simple_dense                   78.740157    0.745283     0.822917  0.681034\n",
              "2_lstm                           78.083990    0.741085     0.804714  0.686782\n",
              "3_gru                            77.165354    0.736364     0.778846  0.698276\n",
              "4_bidirectional                  77.165354    0.716612     0.827068  0.632184\n",
              "5_conv1d                         76.115486    0.721713     0.771242  0.678161\n",
              "6_tf_hub_use_encoder             78.871391    0.757895     0.794953  0.724138\n",
              "7_tf_hub_use_encoder_10_percent  77.690289    0.737654     0.796667  0.686782"
            ]
          },
          "metadata": {
            "tags": []
          },
          "execution_count": 149
        }
      ]
    },
    {
      "cell_type": "code",
      "metadata": {
        "id": "vzgE1iuZ_dBQ",
        "outputId": "f558a796-bb87-4df7-997e-12168e4bea96",
        "colab": {
          "base_uri": "https://localhost:8080/",
          "height": 297
        }
      },
      "source": [
        "# Reduce the accuracy to the same scale as other metrics \n",
        "all_model_results['Accuracy:'] = all_model_results['Accuracy:'] / 100\n",
        "all_model_results"
      ],
      "execution_count": 150,
      "outputs": [
        {
          "output_type": "execute_result",
          "data": {
            "text/html": [
              "<div>\n",
              "<style scoped>\n",
              "    .dataframe tbody tr th:only-of-type {\n",
              "        vertical-align: middle;\n",
              "    }\n",
              "\n",
              "    .dataframe tbody tr th {\n",
              "        vertical-align: top;\n",
              "    }\n",
              "\n",
              "    .dataframe thead th {\n",
              "        text-align: right;\n",
              "    }\n",
              "</style>\n",
              "<table border=\"1\" class=\"dataframe\">\n",
              "  <thead>\n",
              "    <tr style=\"text-align: right;\">\n",
              "      <th></th>\n",
              "      <th>Accuracy:</th>\n",
              "      <th>F1_Score:</th>\n",
              "      <th>Precision:</th>\n",
              "      <th>Recall:</th>\n",
              "    </tr>\n",
              "  </thead>\n",
              "  <tbody>\n",
              "    <tr>\n",
              "      <th>0_baseline</th>\n",
              "      <td>0.792651</td>\n",
              "      <td>0.734007</td>\n",
              "      <td>0.886179</td>\n",
              "      <td>0.626437</td>\n",
              "    </tr>\n",
              "    <tr>\n",
              "      <th>1_simple_dense</th>\n",
              "      <td>0.787402</td>\n",
              "      <td>0.745283</td>\n",
              "      <td>0.822917</td>\n",
              "      <td>0.681034</td>\n",
              "    </tr>\n",
              "    <tr>\n",
              "      <th>2_lstm</th>\n",
              "      <td>0.780840</td>\n",
              "      <td>0.741085</td>\n",
              "      <td>0.804714</td>\n",
              "      <td>0.686782</td>\n",
              "    </tr>\n",
              "    <tr>\n",
              "      <th>3_gru</th>\n",
              "      <td>0.771654</td>\n",
              "      <td>0.736364</td>\n",
              "      <td>0.778846</td>\n",
              "      <td>0.698276</td>\n",
              "    </tr>\n",
              "    <tr>\n",
              "      <th>4_bidirectional</th>\n",
              "      <td>0.771654</td>\n",
              "      <td>0.716612</td>\n",
              "      <td>0.827068</td>\n",
              "      <td>0.632184</td>\n",
              "    </tr>\n",
              "    <tr>\n",
              "      <th>5_conv1d</th>\n",
              "      <td>0.761155</td>\n",
              "      <td>0.721713</td>\n",
              "      <td>0.771242</td>\n",
              "      <td>0.678161</td>\n",
              "    </tr>\n",
              "    <tr>\n",
              "      <th>6_tf_hub_use_encoder</th>\n",
              "      <td>0.788714</td>\n",
              "      <td>0.757895</td>\n",
              "      <td>0.794953</td>\n",
              "      <td>0.724138</td>\n",
              "    </tr>\n",
              "    <tr>\n",
              "      <th>7_tf_hub_use_encoder_10_percent</th>\n",
              "      <td>0.776903</td>\n",
              "      <td>0.737654</td>\n",
              "      <td>0.796667</td>\n",
              "      <td>0.686782</td>\n",
              "    </tr>\n",
              "  </tbody>\n",
              "</table>\n",
              "</div>"
            ],
            "text/plain": [
              "                                 Accuracy:  F1_Score:   Precision:   Recall: \n",
              "0_baseline                        0.792651    0.734007     0.886179  0.626437\n",
              "1_simple_dense                    0.787402    0.745283     0.822917  0.681034\n",
              "2_lstm                            0.780840    0.741085     0.804714  0.686782\n",
              "3_gru                             0.771654    0.736364     0.778846  0.698276\n",
              "4_bidirectional                   0.771654    0.716612     0.827068  0.632184\n",
              "5_conv1d                          0.761155    0.721713     0.771242  0.678161\n",
              "6_tf_hub_use_encoder              0.788714    0.757895     0.794953  0.724138\n",
              "7_tf_hub_use_encoder_10_percent   0.776903    0.737654     0.796667  0.686782"
            ]
          },
          "metadata": {
            "tags": []
          },
          "execution_count": 150
        }
      ]
    },
    {
      "cell_type": "code",
      "metadata": {
        "id": "Z09_s-9gAp8K",
        "outputId": "ae35c44a-cfb8-4cfa-d980-a78bf7a81407",
        "colab": {
          "base_uri": "https://localhost:8080/",
          "height": 559
        }
      },
      "source": [
        "# Plot and compare all of the model results \n",
        "all_model_results.plot(kind = 'bar' , figsize = (10 , 7)).legend(bbox_to_anchor = (1.0 , 1.0))\n"
      ],
      "execution_count": 152,
      "outputs": [
        {
          "output_type": "execute_result",
          "data": {
            "text/plain": [
              "<matplotlib.legend.Legend at 0x7fca3a0a6b10>"
            ]
          },
          "metadata": {
            "tags": []
          },
          "execution_count": 152
        },
        {
          "output_type": "display_data",
          "data": {
            "image/png": "[encoded data removed]",
            "text/plain": [
              "<Figure size 720x504 with 1 Axes>"
            ]
          },
          "metadata": {
            "tags": [],
            "needs_background": "light"
          }
        }
      ]
    },
    {
      "cell_type": "code",
      "metadata": {
        "id": "ZnhpI6-SBLXc"
      },
      "source": [
        ""
      ],
      "execution_count": 151,
      "outputs": []
    }
  ]
}
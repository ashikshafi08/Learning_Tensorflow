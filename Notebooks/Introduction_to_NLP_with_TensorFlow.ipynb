{
  "nbformat": 4,
  "nbformat_minor": 0,
  "metadata": {
    "colab": {
      "name": "Introduction_to_NLP_with_TensorFlow.ipynb",
      "provenance": [],
      "collapsed_sections": [],
      "authorship_tag": "ABX9TyOmdpPFIUm0yIr9xIPlHwZq",
      "include_colab_link": true
    },
    "kernelspec": {
      "name": "python3",
      "display_name": "Python 3"
    },
    "language_info": {
      "name": "python"
    }
  },
  "cells": [
    {
      "cell_type": "markdown",
      "metadata": {
        "id": "view-in-github",
        "colab_type": "text"
      },
      "source": [
        "<a href=\"https://colab.research.google.com/github/ashikshafi08/Learning_Tensorflow/blob/main/Notebooks/Introduction_to_NLP_with_TensorFlow.ipynb\" target=\"_parent\"><img src=\"https://colab.research.google.com/assets/colab-badge.svg\" alt=\"Open In Colab\"/></a>"
      ]
    },
    {
      "cell_type": "code",
      "metadata": {
        "colab": {
          "base_uri": "https://localhost:8080/"
        },
        "id": "P86230zG-74n",
        "outputId": "c491c829-1f5f-4b58-98ab-11596aa6be2f"
      },
      "source": [
        "# Checking what GPU are we running \n",
        "!nvidia-smi"
      ],
      "execution_count": 1,
      "outputs": [
        {
          "output_type": "stream",
          "text": [
            "NVIDIA-SMI has failed because it couldn't communicate with the NVIDIA driver. Make sure that the latest NVIDIA driver is installed and running.\n",
            "\n"
          ],
          "name": "stdout"
        }
      ]
    },
    {
      "cell_type": "markdown",
      "metadata": {
        "id": "iot6NA1T_Gro"
      },
      "source": [
        "# Introduction to Natural Language Processing with TensorFlow \n",
        "\n",
        "NLP is the goal of deriving information out of natural langue (could be sequences, text or speech).\n",
        "\n",
        "Another common term for NLP problems is sequence to sequence problems (seq2seq). \n",
        "\n",
        "### What we're going to cover \n",
        "- Downloading and preparing the dataset. \n",
        "- How to prepare text data for modelling (tokenization and embedding). \n",
        "- Setting up multiple modelling experiments with Recurent Neural Network. (RNNs).\n",
        "- Building a text feature extraction to model using TensorFlow Hub. \n",
        "- Find the most wrong prediction sampls.=s.\n",
        "= Using a modelwe've built to make prediction on text from the wild. \n",
        "\n",
        "Natural Language Processing and NLU (natural language understanding) are quite similar, they're more like brothers and sisters. It's like NLP might include NLU in it. \n",
        "\n",
        "### Example NLP problems\n",
        "\n",
        "- **Classification —>** What tags should this article have? (multiple label options per sample) [Text Classification].\n",
        "- **Text Generation —>** Making your model to learn all the Shakespeare's work and use our model to generate new Shakespeare's poems / text.\n",
        "- **Machine Translation —>** Like we input one sequence of words and it gives us an another sequence of same words with translation.\n",
        "\n",
        "    Many NLP and NLU problems are referred to as sequence to sequence problems.\n",
        "\n",
        "- **Voice Assistant —>** Takes in one sequence (sound waves) and convert it into texts. After the conversion find meaning of the derive information from that text.\n",
        "\n",
        "### Other Sequence problems \n",
        "- One to one —> One sequence to one output.\n",
        "- **One to many —> One sequence to many output.**\n",
        "    - Image Captioning, given a input image our model gives back a sequence as output.\n",
        "\n",
        "- **Many to one —> Many sequence to one output.**\n",
        "    - Sentiment Analysis, given a set of sequence of words our model will analyze the sentiments of the sequence's the output will be one (Positive or Negative).\n",
        "    - Time Series Forecasting, our input would be historical prices of bitcoin and the predicted output will be the price on our desired day.\n",
        "- Many to many —> Many sequence results to many outputs.\n",
        "    - Here it's not synchronised, the best example is the Machine Translation. Input will be multiple words and it spits out the same sequence of outputs.\n",
        "    - **In NLP words are also known as Tokens**\n",
        "- Many to many (synchronised)\n",
        "\n",
        "To get hands-on with NLP in TensorFlow, we're going to practice the steps we've used previously but this time with text data:\n",
        "\n",
        "```\n",
        "Text -> turn into numbers -> build a model -> train the model to find patterns -> use patterns (make predictions)\n",
        "```\n"
      ]
    },
    {
      "cell_type": "code",
      "metadata": {
        "colab": {
          "base_uri": "https://localhost:8080/"
        },
        "id": "QFNNWp2MHvu2",
        "outputId": "079262ad-49ff-485a-e2d9-c59ee4f3002a"
      },
      "source": [
        "# Importing tensorflow \n",
        "import tensorflow as tf\n",
        "print(tf.__version__)"
      ],
      "execution_count": 2,
      "outputs": [
        {
          "output_type": "stream",
          "text": [
            "2.4.1\n"
          ],
          "name": "stdout"
        }
      ]
    },
    {
      "cell_type": "markdown",
      "metadata": {
        "id": "GocVVrp_snn6"
      },
      "source": [
        "### Getting the helper functions \n"
      ]
    },
    {
      "cell_type": "code",
      "metadata": {
        "colab": {
          "base_uri": "https://localhost:8080/"
        },
        "id": "Uo8KywfBuftm",
        "outputId": "3e9f85f2-789b-454e-b197-830eb13afc7d"
      },
      "source": [
        "# Download helper functions script\n",
        "!wget https://raw.githubusercontent.com/mrdbourke/tensorflow-deep-learning/main/extras/helper_functions.py"
      ],
      "execution_count": 3,
      "outputs": [
        {
          "output_type": "stream",
          "text": [
            "--2021-05-18 09:12:33--  https://raw.githubusercontent.com/mrdbourke/tensorflow-deep-learning/main/extras/helper_functions.py\n",
            "Resolving raw.githubusercontent.com (raw.githubusercontent.com)... 185.199.108.133, 185.199.109.133, 185.199.110.133, ...\n",
            "Connecting to raw.githubusercontent.com (raw.githubusercontent.com)|185.199.108.133|:443... connected.\n",
            "HTTP request sent, awaiting response... 200 OK\n",
            "Length: 10246 (10K) [text/plain]\n",
            "Saving to: ‘helper_functions.py’\n",
            "\n",
            "helper_functions.py 100%[===================>]  10.01K  --.-KB/s    in 0s      \n",
            "\n",
            "2021-05-18 09:12:33 (58.2 MB/s) - ‘helper_functions.py’ saved [10246/10246]\n",
            "\n"
          ],
          "name": "stdout"
        }
      ]
    },
    {
      "cell_type": "code",
      "metadata": {
        "id": "Z3-mGEurIyRH"
      },
      "source": [
        "# Import the needed helper functions for the notebook \n",
        "from helper_functions import unzip_data , create_tensorboard_callback , plot_loss_curves , compare_historys"
      ],
      "execution_count": 4,
      "outputs": []
    },
    {
      "cell_type": "markdown",
      "metadata": {
        "id": "qah0KdlutEa4"
      },
      "source": [
        "## Get a text dataset \n",
        "\n",
        "The dataset we're going to be using is Kaggle's Introduction to NLP dataset (text sampels of tweets labelled as disaster (or) not disaster). \n",
        "\n",
        "See the original source here https://www.kaggle.com/c/nlp-getting-started/data"
      ]
    },
    {
      "cell_type": "code",
      "metadata": {
        "colab": {
          "base_uri": "https://localhost:8080/"
        },
        "id": "z_V6EEy0tgVP",
        "outputId": "08ae5d04-d720-4f2b-82ac-5effc51be73f"
      },
      "source": [
        "# Download the data from Kaggle \n",
        "!wget \"https://storage.googleapis.com/ztm_tf_course/nlp_getting_started.zip\"\n",
        "\n",
        "# Unzipping the data \n",
        "unzip_data('nlp_getting_started.zip')"
      ],
      "execution_count": 5,
      "outputs": [
        {
          "output_type": "stream",
          "text": [
            "--2021-05-18 09:12:34--  https://storage.googleapis.com/ztm_tf_course/nlp_getting_started.zip\n",
            "Resolving storage.googleapis.com (storage.googleapis.com)... 108.177.12.128, 172.217.193.128, 172.217.204.128, ...\n",
            "Connecting to storage.googleapis.com (storage.googleapis.com)|108.177.12.128|:443... connected.\n",
            "HTTP request sent, awaiting response... 200 OK\n",
            "Length: 607343 (593K) [application/zip]\n",
            "Saving to: ‘nlp_getting_started.zip’\n",
            "\n",
            "\rnlp_getting_started   0%[                    ]       0  --.-KB/s               \rnlp_getting_started 100%[===================>] 593.11K  --.-KB/s    in 0.007s  \n",
            "\n",
            "2021-05-18 09:12:34 (85.5 MB/s) - ‘nlp_getting_started.zip’ saved [607343/607343]\n",
            "\n"
          ],
          "name": "stdout"
        }
      ]
    },
    {
      "cell_type": "markdown",
      "metadata": {
        "id": "SkMPaEI-tm36"
      },
      "source": [
        "## Become one with the data \n",
        "\n",
        "We will Visualize , explore our test data in here. \n",
        "\n",
        "Text datasets come across in many different formats, aside from CSV files we will probably encounter `.txt` file and `.json` files too. Reading the below articles will help in those times, \n",
        "* [How to Read and Write Files in Python](https://realpython.com/read-write-files-python/)\n",
        "* [Working with JSON Data in Python](https://realpython.com/python-json/)"
      ]
    },
    {
      "cell_type": "code",
      "metadata": {
        "colab": {
          "base_uri": "https://localhost:8080/",
          "height": 204
        },
        "id": "3fUnop6WuNCn",
        "outputId": "46aad3d7-26fd-4fd9-921a-046d2b364596"
      },
      "source": [
        "# Importing pandas to look into our csv file \n",
        "import pandas as pd \n",
        "train_df = pd.read_csv('train.csv')\n",
        "test_df = pd.read_csv('test.csv')\n",
        "\n",
        "# What's inside our train dataframe? \n",
        "train_df.head()"
      ],
      "execution_count": 6,
      "outputs": [
        {
          "output_type": "execute_result",
          "data": {
            "text/html": [
              "<div>\n",
              "<style scoped>\n",
              "    .dataframe tbody tr th:only-of-type {\n",
              "        vertical-align: middle;\n",
              "    }\n",
              "\n",
              "    .dataframe tbody tr th {\n",
              "        vertical-align: top;\n",
              "    }\n",
              "\n",
              "    .dataframe thead th {\n",
              "        text-align: right;\n",
              "    }\n",
              "</style>\n",
              "<table border=\"1\" class=\"dataframe\">\n",
              "  <thead>\n",
              "    <tr style=\"text-align: right;\">\n",
              "      <th></th>\n",
              "      <th>id</th>\n",
              "      <th>keyword</th>\n",
              "      <th>location</th>\n",
              "      <th>text</th>\n",
              "      <th>target</th>\n",
              "    </tr>\n",
              "  </thead>\n",
              "  <tbody>\n",
              "    <tr>\n",
              "      <th>0</th>\n",
              "      <td>1</td>\n",
              "      <td>NaN</td>\n",
              "      <td>NaN</td>\n",
              "      <td>Our Deeds are the Reason of this #earthquake M...</td>\n",
              "      <td>1</td>\n",
              "    </tr>\n",
              "    <tr>\n",
              "      <th>1</th>\n",
              "      <td>4</td>\n",
              "      <td>NaN</td>\n",
              "      <td>NaN</td>\n",
              "      <td>Forest fire near La Ronge Sask. Canada</td>\n",
              "      <td>1</td>\n",
              "    </tr>\n",
              "    <tr>\n",
              "      <th>2</th>\n",
              "      <td>5</td>\n",
              "      <td>NaN</td>\n",
              "      <td>NaN</td>\n",
              "      <td>All residents asked to 'shelter in place' are ...</td>\n",
              "      <td>1</td>\n",
              "    </tr>\n",
              "    <tr>\n",
              "      <th>3</th>\n",
              "      <td>6</td>\n",
              "      <td>NaN</td>\n",
              "      <td>NaN</td>\n",
              "      <td>13,000 people receive #wildfires evacuation or...</td>\n",
              "      <td>1</td>\n",
              "    </tr>\n",
              "    <tr>\n",
              "      <th>4</th>\n",
              "      <td>7</td>\n",
              "      <td>NaN</td>\n",
              "      <td>NaN</td>\n",
              "      <td>Just got sent this photo from Ruby #Alaska as ...</td>\n",
              "      <td>1</td>\n",
              "    </tr>\n",
              "  </tbody>\n",
              "</table>\n",
              "</div>"
            ],
            "text/plain": [
              "   id keyword  ...                                               text target\n",
              "0   1     NaN  ...  Our Deeds are the Reason of this #earthquake M...      1\n",
              "1   4     NaN  ...             Forest fire near La Ronge Sask. Canada      1\n",
              "2   5     NaN  ...  All residents asked to 'shelter in place' are ...      1\n",
              "3   6     NaN  ...  13,000 people receive #wildfires evacuation or...      1\n",
              "4   7     NaN  ...  Just got sent this photo from Ruby #Alaska as ...      1\n",
              "\n",
              "[5 rows x 5 columns]"
            ]
          },
          "metadata": {
            "tags": []
          },
          "execution_count": 6
        }
      ]
    },
    {
      "cell_type": "code",
      "metadata": {
        "colab": {
          "base_uri": "https://localhost:8080/",
          "height": 35
        },
        "id": "dTrFXxYfvWlo",
        "outputId": "5bdcf47e-4c65-42ec-c36f-24801cb32402"
      },
      "source": [
        "# Getting the first sample of row 1 \n",
        "train_df['text'][0]"
      ],
      "execution_count": 7,
      "outputs": [
        {
          "output_type": "execute_result",
          "data": {
            "application/vnd.google.colaboratory.intrinsic+json": {
              "type": "string"
            },
            "text/plain": [
              "'Our Deeds are the Reason of this #earthquake May ALLAH Forgive us all'"
            ]
          },
          "metadata": {
            "tags": []
          },
          "execution_count": 7
        }
      ]
    },
    {
      "cell_type": "markdown",
      "metadata": {
        "id": "K9EC6SvCvhgr"
      },
      "source": [
        "So our goal now is to build a model to predict the target. Where our targets are it is a disaster or not a disaster. "
      ]
    },
    {
      "cell_type": "code",
      "metadata": {
        "colab": {
          "base_uri": "https://localhost:8080/",
          "height": 289
        },
        "id": "pTWf3W3Cvu5W",
        "outputId": "02728186-1868-4df4-ffab-8102c85b88bf"
      },
      "source": [
        "# Shuffle the traning dataframe \n",
        "train_df_shuffled = train_df.sample(frac = 1 , \n",
        "                                    random_state = 42)\n",
        "\n",
        "# Looking into our shuffled dataframe \n",
        "train_df_shuffled.head()"
      ],
      "execution_count": 8,
      "outputs": [
        {
          "output_type": "execute_result",
          "data": {
            "text/html": [
              "<div>\n",
              "<style scoped>\n",
              "    .dataframe tbody tr th:only-of-type {\n",
              "        vertical-align: middle;\n",
              "    }\n",
              "\n",
              "    .dataframe tbody tr th {\n",
              "        vertical-align: top;\n",
              "    }\n",
              "\n",
              "    .dataframe thead th {\n",
              "        text-align: right;\n",
              "    }\n",
              "</style>\n",
              "<table border=\"1\" class=\"dataframe\">\n",
              "  <thead>\n",
              "    <tr style=\"text-align: right;\">\n",
              "      <th></th>\n",
              "      <th>id</th>\n",
              "      <th>keyword</th>\n",
              "      <th>location</th>\n",
              "      <th>text</th>\n",
              "      <th>target</th>\n",
              "    </tr>\n",
              "  </thead>\n",
              "  <tbody>\n",
              "    <tr>\n",
              "      <th>2644</th>\n",
              "      <td>3796</td>\n",
              "      <td>destruction</td>\n",
              "      <td>NaN</td>\n",
              "      <td>So you have a new weapon that can cause un-ima...</td>\n",
              "      <td>1</td>\n",
              "    </tr>\n",
              "    <tr>\n",
              "      <th>2227</th>\n",
              "      <td>3185</td>\n",
              "      <td>deluge</td>\n",
              "      <td>NaN</td>\n",
              "      <td>The f$&amp;amp;@ing things I do for #GISHWHES Just...</td>\n",
              "      <td>0</td>\n",
              "    </tr>\n",
              "    <tr>\n",
              "      <th>5448</th>\n",
              "      <td>7769</td>\n",
              "      <td>police</td>\n",
              "      <td>UK</td>\n",
              "      <td>DT @georgegalloway: RT @Galloway4Mayor: ÛÏThe...</td>\n",
              "      <td>1</td>\n",
              "    </tr>\n",
              "    <tr>\n",
              "      <th>132</th>\n",
              "      <td>191</td>\n",
              "      <td>aftershock</td>\n",
              "      <td>NaN</td>\n",
              "      <td>Aftershock back to school kick off was great. ...</td>\n",
              "      <td>0</td>\n",
              "    </tr>\n",
              "    <tr>\n",
              "      <th>6845</th>\n",
              "      <td>9810</td>\n",
              "      <td>trauma</td>\n",
              "      <td>Montgomery County, MD</td>\n",
              "      <td>in response to trauma Children of Addicts deve...</td>\n",
              "      <td>0</td>\n",
              "    </tr>\n",
              "  </tbody>\n",
              "</table>\n",
              "</div>"
            ],
            "text/plain": [
              "        id  ... target\n",
              "2644  3796  ...      1\n",
              "2227  3185  ...      0\n",
              "5448  7769  ...      1\n",
              "132    191  ...      0\n",
              "6845  9810  ...      0\n",
              "\n",
              "[5 rows x 5 columns]"
            ]
          },
          "metadata": {
            "tags": []
          },
          "execution_count": 8
        }
      ]
    },
    {
      "cell_type": "code",
      "metadata": {
        "colab": {
          "base_uri": "https://localhost:8080/",
          "height": 204
        },
        "id": "0fVZfTzzv9sd",
        "outputId": "2ced1d71-abb4-42b2-90ca-9331c32f9c3c"
      },
      "source": [
        "# What does the test dataframe looks like \n",
        "test_df.head() "
      ],
      "execution_count": 9,
      "outputs": [
        {
          "output_type": "execute_result",
          "data": {
            "text/html": [
              "<div>\n",
              "<style scoped>\n",
              "    .dataframe tbody tr th:only-of-type {\n",
              "        vertical-align: middle;\n",
              "    }\n",
              "\n",
              "    .dataframe tbody tr th {\n",
              "        vertical-align: top;\n",
              "    }\n",
              "\n",
              "    .dataframe thead th {\n",
              "        text-align: right;\n",
              "    }\n",
              "</style>\n",
              "<table border=\"1\" class=\"dataframe\">\n",
              "  <thead>\n",
              "    <tr style=\"text-align: right;\">\n",
              "      <th></th>\n",
              "      <th>id</th>\n",
              "      <th>keyword</th>\n",
              "      <th>location</th>\n",
              "      <th>text</th>\n",
              "    </tr>\n",
              "  </thead>\n",
              "  <tbody>\n",
              "    <tr>\n",
              "      <th>0</th>\n",
              "      <td>0</td>\n",
              "      <td>NaN</td>\n",
              "      <td>NaN</td>\n",
              "      <td>Just happened a terrible car crash</td>\n",
              "    </tr>\n",
              "    <tr>\n",
              "      <th>1</th>\n",
              "      <td>2</td>\n",
              "      <td>NaN</td>\n",
              "      <td>NaN</td>\n",
              "      <td>Heard about #earthquake is different cities, s...</td>\n",
              "    </tr>\n",
              "    <tr>\n",
              "      <th>2</th>\n",
              "      <td>3</td>\n",
              "      <td>NaN</td>\n",
              "      <td>NaN</td>\n",
              "      <td>there is a forest fire at spot pond, geese are...</td>\n",
              "    </tr>\n",
              "    <tr>\n",
              "      <th>3</th>\n",
              "      <td>9</td>\n",
              "      <td>NaN</td>\n",
              "      <td>NaN</td>\n",
              "      <td>Apocalypse lighting. #Spokane #wildfires</td>\n",
              "    </tr>\n",
              "    <tr>\n",
              "      <th>4</th>\n",
              "      <td>11</td>\n",
              "      <td>NaN</td>\n",
              "      <td>NaN</td>\n",
              "      <td>Typhoon Soudelor kills 28 in China and Taiwan</td>\n",
              "    </tr>\n",
              "  </tbody>\n",
              "</table>\n",
              "</div>"
            ],
            "text/plain": [
              "   id keyword location                                               text\n",
              "0   0     NaN      NaN                 Just happened a terrible car crash\n",
              "1   2     NaN      NaN  Heard about #earthquake is different cities, s...\n",
              "2   3     NaN      NaN  there is a forest fire at spot pond, geese are...\n",
              "3   9     NaN      NaN           Apocalypse lighting. #Spokane #wildfires\n",
              "4  11     NaN      NaN      Typhoon Soudelor kills 28 in China and Taiwan"
            ]
          },
          "metadata": {
            "tags": []
          },
          "execution_count": 9
        }
      ]
    },
    {
      "cell_type": "markdown",
      "metadata": {
        "id": "UI8yjVHOwvBM"
      },
      "source": [
        "Same as the train dataframe but no targets. In here we are going to use the text column and predict upcoming tweets whether they are Disaster or Not. "
      ]
    },
    {
      "cell_type": "code",
      "metadata": {
        "colab": {
          "base_uri": "https://localhost:8080/"
        },
        "id": "YE0WJRQ9w5Wp",
        "outputId": "77f52595-1f76-4933-f790-a01cf33cbce8"
      },
      "source": [
        "# How many examples of each class? \n",
        "train_df.target.value_counts()"
      ],
      "execution_count": 10,
      "outputs": [
        {
          "output_type": "execute_result",
          "data": {
            "text/plain": [
              "0    4342\n",
              "1    3271\n",
              "Name: target, dtype: int64"
            ]
          },
          "metadata": {
            "tags": []
          },
          "execution_count": 10
        }
      ]
    },
    {
      "cell_type": "markdown",
      "metadata": {
        "id": "9Z_ETiUIw-_Z"
      },
      "source": [
        "We can't say our targets are perfectly balanced but it's pretty much a 60-40 split balance between the targets. \n",
        "\n",
        "So if we have imabalanced target class refer this https://www.tensorflow.org/tutorials/structured_data/imbalanced_data"
      ]
    },
    {
      "cell_type": "code",
      "metadata": {
        "colab": {
          "base_uri": "https://localhost:8080/"
        },
        "id": "cwkWdusMxVKf",
        "outputId": "0a9b4e76-71e1-4433-f48c-ccc93b7773fe"
      },
      "source": [
        "# How many total samples in both sets? \n",
        "\n",
        "len(train_df) , len(test_df)"
      ],
      "execution_count": 11,
      "outputs": [
        {
          "output_type": "execute_result",
          "data": {
            "text/plain": [
              "(7613, 3263)"
            ]
          },
          "metadata": {
            "tags": []
          },
          "execution_count": 11
        }
      ]
    },
    {
      "cell_type": "code",
      "metadata": {
        "colab": {
          "base_uri": "https://localhost:8080/"
        },
        "id": "y6-1YARtx0q-",
        "outputId": "cfef0250-4f98-4008-e09b-e44bbe8c888a"
      },
      "source": [
        "# Let's visualize some random training examples. \n",
        "import random \n",
        "\n",
        "# 5 random index random numbers\n",
        "# Create random indexes not higher than the total number of samples\n",
        "random_index = random.randint(0 , len(train_df) - 5) \n",
        "\n",
        "# Will return tuples\n",
        "for row in train_df_shuffled[['text' , 'target']][random_index:random_index+5].itertuples():\n",
        "  _, text , target = row\n",
        "  print(f'Target: {target}' , \"(real disaster)\" if target > 0 else \"(not real disaster\")\n",
        "  print(f'Text:\\n{text}\\n')\n",
        "  print('----\\n')\n"
      ],
      "execution_count": 12,
      "outputs": [
        {
          "output_type": "stream",
          "text": [
            "Target: 0 (not real disaster\n",
            "Text:\n",
            "can't DL a patch to fix the error in symantec as it's quarantined the computer ergo stopped all wireless exchange. lol technology ??\n",
            "\n",
            "----\n",
            "\n",
            "Target: 0 (not real disaster\n",
            "Text:\n",
            "When high fashion and food collide http://t.co/qDhxto57EM\n",
            "\n",
            "----\n",
            "\n",
            "Target: 0 (not real disaster\n",
            "Text:\n",
            "sticks and stones may break my bones\n",
            "but words will never harm me\n",
            "\n",
            "----\n",
            "\n",
            "Target: 1 (real disaster)\n",
            "Text:\n",
            "Experts in France begin examining airplane debris found on Reunion Island: French air accident experts o... http://t.co/YVVPznZmXg #news\n",
            "\n",
            "----\n",
            "\n",
            "Target: 0 (not real disaster\n",
            "Text:\n",
            "Acquire your postexistence straight a elevation in addition to upheaval ideas yet perquisite: bRZjc\n",
            "\n",
            "----\n",
            "\n"
          ],
          "name": "stdout"
        }
      ]
    },
    {
      "cell_type": "markdown",
      "metadata": {
        "id": "CbVgZ9cbzI1T"
      },
      "source": [
        "Though we have train and test datasets it's good to create an validation dataset. "
      ]
    },
    {
      "cell_type": "markdown",
      "metadata": {
        "id": "DBsB3GYh0Lqh"
      },
      "source": [
        "### Split data into training and validation set "
      ]
    },
    {
      "cell_type": "code",
      "metadata": {
        "id": "bfeGwyUZ0WDY"
      },
      "source": [
        "from sklearn.model_selection import train_test_split\n",
        "\n",
        "# Let's split training data into train and val set\n",
        "train_sentences , val_sentences , train_labels , val_labels = train_test_split(train_df_shuffled['text'].to_numpy() , \n",
        "                                                                               train_df_shuffled['target'].to_numpy() , \n",
        "                                                                               test_size = 0.1,  # Use 10% of the training data for validation set \n",
        "                                                                               random_state = 42)"
      ],
      "execution_count": 13,
      "outputs": []
    },
    {
      "cell_type": "code",
      "metadata": {
        "colab": {
          "base_uri": "https://localhost:8080/"
        },
        "id": "JD5LXrYS0Zg8",
        "outputId": "c4f204db-03c2-4f28-87a7-396bc690eca9"
      },
      "source": [
        "# Checking the shapes of our splits \n",
        "\n",
        "train_sentences.shape , train_labels.shape , val_sentences.shape , val_labels.shape"
      ],
      "execution_count": 14,
      "outputs": [
        {
          "output_type": "execute_result",
          "data": {
            "text/plain": [
              "((6851,), (6851,), (762,), (762,))"
            ]
          },
          "metadata": {
            "tags": []
          },
          "execution_count": 14
        }
      ]
    },
    {
      "cell_type": "code",
      "metadata": {
        "colab": {
          "base_uri": "https://localhost:8080/"
        },
        "id": "gVrwidP01LPO",
        "outputId": "f62f01e4-305e-49b1-c15f-735b7c3915d0"
      },
      "source": [
        "# Number of samples \n",
        "print(f'Number of sampels in train set: {len(train_sentences)}')\n",
        "print(f'Number of sampels in validation set: {len(val_sentences)}')"
      ],
      "execution_count": 15,
      "outputs": [
        {
          "output_type": "stream",
          "text": [
            "Number of sampels in train set: 6851\n",
            "Number of sampels in validation set: 762\n"
          ],
          "name": "stdout"
        }
      ]
    },
    {
      "cell_type": "code",
      "metadata": {
        "colab": {
          "base_uri": "https://localhost:8080/"
        },
        "id": "5xirhAYB1XAB",
        "outputId": "013596dd-be98-40ab-e27f-a4f96460f102"
      },
      "source": [
        "# Check the first 10 samples \n",
        "train_sentences[:10] , train_labels[:10]"
      ],
      "execution_count": 16,
      "outputs": [
        {
          "output_type": "execute_result",
          "data": {
            "text/plain": [
              "(array(['@mogacola @zamtriossu i screamed after hitting tweet',\n",
              "        'Imagine getting flattened by Kurt Zouma',\n",
              "        '@Gurmeetramrahim #MSGDoing111WelfareWorks Green S welfare force ke appx 65000 members har time disaster victim ki help ke liye tyar hai....',\n",
              "        \"@shakjn @C7 @Magnums im shaking in fear he's gonna hack the planet\",\n",
              "        'Somehow find you and I collide http://t.co/Ee8RpOahPk',\n",
              "        '@EvaHanderek @MarleyKnysh great times until the bus driver held us hostage in the mall parking lot lmfao',\n",
              "        'destroy the free fandom honestly',\n",
              "        'Weapons stolen from National Guard Armory in New Albany still missing #Gunsense http://t.co/lKNU8902JE',\n",
              "        '@wfaaweather Pete when will the heat wave pass? Is it really going to be mid month? Frisco Boy Scouts have a canoe trip in Okla.',\n",
              "        'Patient-reported outcomes in long-term survivors of metastatic colorectal cancer - British Journal of Surgery http://t.co/5Yl4DC1Tqt'],\n",
              "       dtype=object), array([0, 0, 1, 0, 0, 1, 1, 0, 1, 1]))"
            ]
          },
          "metadata": {
            "tags": []
          },
          "execution_count": 16
        }
      ]
    },
    {
      "cell_type": "markdown",
      "metadata": {
        "id": "qK1JBTgS1gqs"
      },
      "source": [
        "Great now we got to know about how our data looks. The next step would be converting our features into numbers where our targets already in number we don't have to bother about it. \n",
        "\n",
        "Next step would be turn the text into numbers! "
      ]
    },
    {
      "cell_type": "markdown",
      "metadata": {
        "id": "ZJX4l1xd16wE"
      },
      "source": [
        "## Converting text into numbers \n",
        "\n",
        "Alright now the challenge is to convert our text into numbers we can use two techniques they are, \n",
        "\n",
        "- **Tokenization**\n",
        "- **Embeddings**\n",
        "\n",
        "Let's look into them one by one. \n",
        "\n",
        "#### Tokenization\n",
        "\n",
        "A straight mapping from word or character or sub-word to a numerical value. There are three main levels of tokenization: \n",
        "\n",
        "- Using **word-level tokenization** with the sentence 'I love TensorFlow' might result in 'I' being `0` , 'love' being `1` and TensorFlow being `2`. In this case, every word in a sequence considered as a single **token.**\n",
        "- **Character - level tokenization,** such as converting the letters A-Z to values `1-26`. In this case, every character in a sequence (or) considered as a single token.\n",
        "- **Sub-word tokenization** is in between word-level and character-level tokenization. It involves breaking individual words into smaller parts and then converting those smaller parts into numbers.\n",
        "\n",
        "    For example ' my favourite food is pineapple pizza' might become —> \" my, fav, avour, rite, fo, oo, od, is, pin, ine, app, le, piz, za\". After doing this, these sub-words would then be mapped to a numerical value. In this case every word could be considered multiple tokens. \n",
        "\n",
        "#### Embeddings\n",
        "\n",
        "A embedding is a representation of natural language which can be learned. Representation comes in the form of a **feature vector**. For example, the word 'dance' could be represented by the 5-dimensional vector `[-0.8457 , 0.4559 , -0.3332, 0.9877, 0.1112]`. \n",
        "\n",
        "It's important to note here, the size of the feature vector is tuneable (embedding_size). There are two ways to use embeddings: \n",
        "\n",
        "- **Create your own embedding** - Once your text has been turned into numbers (requires for an embedding), you can put them through an embedding layer (such as `[tf.keras.layers.Embedding](https://www.tensorflow.org/api_docs/python/tf/keras/layers/Embedding)`) and embedding representation will be learned during model training.\n",
        "- **Reuse a pre-learned embedding** - Many pre-trained embeddings exist online. These are pre-trained embeddings have often learned on large corpuses of a text (such as all of Wikipedia) and thus have good underlying representation of natural language. You can use pre-trained embedding to initialize your model and fine-tune it to your own specific task.\n",
        "\n",
        "Example of **tokenization** (straight mapping from word to number) and **embedding** (richer representation of relationships between tokens).\n",
        "\n",
        "> Question: What level of tokenzation should I use? What embedding should should I choose?\n",
        "\n",
        "It depends on your problem. You could try character-level tokenization/embeddings and word-level tokenization/embeddings and see which perform best. You might even want to try stacking them (e.g. combining the outputs of your embedding layers using [`tf.keras.layers.concatenate`](https://www.tensorflow.org/api_docs/python/tf/keras/layers/concatenate) ).\n",
        "\n",
        "If you're looking for pre-trained word embeddings, [Word2vec embeddings](http://jalammar.github.io/illustrated-word2vec/), [GloVe embeddings](https://nlp.stanford.edu/projects/glove/) and many of the options available on TensorFlow Hub are great places to start.\n",
        "\n",
        "> Note: Much like searching for a pre-trained computer vision model, you can search for pre-trained word embeddings to use for your problem. Try searching for something like \"use pre-trained word embeddings in TensorFlow\"."
      ]
    },
    {
      "cell_type": "markdown",
      "metadata": {
        "id": "YsR2_6NcO8Ln"
      },
      "source": [
        "When dealing with a text problem one of the first things you'll have to do before you can build a model is to convert your text to numbers. \n",
        "\n",
        "There are few ways to do this, namely: \n",
        "* Tokenization - direct mapping of token (a token could be a word or character) to number. \n",
        "* Embedding - create a matrix of feature vector for each token (the size of the feature vector can be defined and this embedding can be learned). "
      ]
    },
    {
      "cell_type": "markdown",
      "metadata": {
        "id": "baYi22uYRUB6"
      },
      "source": [
        "### Text vectorization (tokenization)"
      ]
    },
    {
      "cell_type": "code",
      "metadata": {
        "colab": {
          "base_uri": "https://localhost:8080/"
        },
        "id": "K9_Htq9NsOIt",
        "outputId": "74972636-9152-40cc-d243-80735de6860d"
      },
      "source": [
        "# Remind ourselves how our data looks like \n",
        "train_sentences[:5]"
      ],
      "execution_count": 17,
      "outputs": [
        {
          "output_type": "execute_result",
          "data": {
            "text/plain": [
              "array(['@mogacola @zamtriossu i screamed after hitting tweet',\n",
              "       'Imagine getting flattened by Kurt Zouma',\n",
              "       '@Gurmeetramrahim #MSGDoing111WelfareWorks Green S welfare force ke appx 65000 members har time disaster victim ki help ke liye tyar hai....',\n",
              "       \"@shakjn @C7 @Magnums im shaking in fear he's gonna hack the planet\",\n",
              "       'Somehow find you and I collide http://t.co/Ee8RpOahPk'],\n",
              "      dtype=object)"
            ]
          },
          "metadata": {
            "tags": []
          },
          "execution_count": 17
        }
      ]
    },
    {
      "cell_type": "code",
      "metadata": {
        "id": "iqycIsiLsS1g"
      },
      "source": [
        "# Import the tokenization layer \n",
        "import tensorflow as tf\n",
        "from tensorflow.keras.layers.experimental.preprocessing import TextVectorization"
      ],
      "execution_count": 18,
      "outputs": []
    },
    {
      "cell_type": "markdown",
      "metadata": {
        "id": "ApElHNZTscyy"
      },
      "source": [
        "How does the `TextVectorization` layer works? \n",
        "- standardize each sample (lower casing + punctuation stripping). \n",
        "- split each sample into substrings (usually words). \n",
        "- recombine substrings into tokens (usually ngrams which will group words). \n",
        "- index tokens (assign a unique int value to each token). \n",
        "- transform each sample using the index, either into a vector of ints or dense float vector.  "
      ]
    },
    {
      "cell_type": "code",
      "metadata": {
        "id": "ma_7BGeMuVnB"
      },
      "source": [
        "# Use the default TextVectorization parameters \n",
        "\n",
        "text_vectorizer = TextVectorization(max_tokens = None , # how many words in the vocabulary (automatically add <OOV>)\n",
        "                                   standardize = 'lower_and_strip_punctuation' , # Standardize our text data like in image (convert into lower case and strip punctu)\n",
        "                                   split = 'whitespace', # Split the sequence by whitespace\n",
        "                                   ngrams = None , # create group of n-words (None will not group them)\n",
        "                                   output_mode = 'int', # how to map tokens to numbers\n",
        "                                   output_sequence_length = None, # More like batches (padding) None will pad each sequence to normal sequence\n",
        "                                   pad_to_max_tokens = True )"
      ],
      "execution_count": 19,
      "outputs": []
    },
    {
      "cell_type": "markdown",
      "metadata": {
        "id": "fRtdEZNg0Djl"
      },
      "source": [
        "We can pad out tweets to the longer sequence but to keep our data small we will find the average words in a sequence and will pad our whole data to it. "
      ]
    },
    {
      "cell_type": "code",
      "metadata": {
        "colab": {
          "base_uri": "https://localhost:8080/"
        },
        "id": "-OSLY9j90YHJ",
        "outputId": "db4b4866-8f49-4ce5-c4e1-5d0cf59159e7"
      },
      "source": [
        "ex = train_sentences[0].split()\n",
        "len(ex)"
      ],
      "execution_count": 20,
      "outputs": [
        {
          "output_type": "execute_result",
          "data": {
            "text/plain": [
              "7"
            ]
          },
          "metadata": {
            "tags": []
          },
          "execution_count": 20
        }
      ]
    },
    {
      "cell_type": "code",
      "metadata": {
        "colab": {
          "base_uri": "https://localhost:8080/"
        },
        "id": "dmyejPCxzvKy",
        "outputId": "7c8abf4d-752c-4e03-875f-db5a4c5e89b3"
      },
      "source": [
        "# Find the average number of tokens (words) in the training tweets. \n",
        "\n",
        "round(sum([len(i.split()) for i in train_sentences]) / len(train_sentences))"
      ],
      "execution_count": 21,
      "outputs": [
        {
          "output_type": "execute_result",
          "data": {
            "text/plain": [
              "15"
            ]
          },
          "metadata": {
            "tags": []
          },
          "execution_count": 21
        }
      ]
    },
    {
      "cell_type": "code",
      "metadata": {
        "id": "kHkvp4Aq0rhw"
      },
      "source": [
        "# Setup text vectorization variable \n",
        "max_vocab_length = 10000 # Max number of words to have in our vocabulary\n",
        "max_length = 15 # max length our sequence will be (e.g how many words from Tweet does a model see)\n",
        "\n",
        "# Creating a instance\n",
        "text_vectorizer = TextVectorization(max_tokens= max_vocab_length , \n",
        "                                    output_mode = 'int' , \n",
        "                                    output_sequence_length = max_length)"
      ],
      "execution_count": 22,
      "outputs": []
    },
    {
      "cell_type": "markdown",
      "metadata": {
        "id": "H6GktGfm0830"
      },
      "source": [
        "Now we have a instance of our `TextVectorization` layer now we will have to map this layer to our text data in order to convert them in numerical format. \n",
        "\n",
        "We can do this by using `.adapt()` method. "
      ]
    },
    {
      "cell_type": "code",
      "metadata": {
        "id": "dDjM2B-1XE4X"
      },
      "source": [
        "# Fit the text vectorizer to the training sentence\n",
        "text_vectorizer.adapt(train_sentences) # Will go through and apply the text vectorization"
      ],
      "execution_count": 23,
      "outputs": []
    },
    {
      "cell_type": "code",
      "metadata": {
        "colab": {
          "base_uri": "https://localhost:8080/"
        },
        "id": "ZOqZHuM9XyB-",
        "outputId": "a701f8ea-f55a-429f-9f28-9e7a5325c026"
      },
      "source": [
        "# Create a sample sentence and tokenize it\n",
        "sample_sentence = \"There's a flood in my street!\"\n",
        "\n",
        "# Applying our text vectorization to our above sentence \n",
        "text_vectorizer([sample_sentence])"
      ],
      "execution_count": 24,
      "outputs": [
        {
          "output_type": "execute_result",
          "data": {
            "text/plain": [
              "<tf.Tensor: shape=(1, 15), dtype=int64, numpy=\n",
              "array([[264,   3, 232,   4,  13, 698,   0,   0,   0,   0,   0,   0,   0,\n",
              "          0,   0]])>"
            ]
          },
          "metadata": {
            "tags": []
          },
          "execution_count": 24
        }
      ]
    },
    {
      "cell_type": "markdown",
      "metadata": {
        "id": "KerusqYXYF9v"
      },
      "source": [
        "We can observe that our word got converted into a number and rest 0 is to make sure to (pad) fill up the `output_sequence _length` we mentioned while creating our text vectorization layer. "
      ]
    },
    {
      "cell_type": "code",
      "metadata": {
        "colab": {
          "base_uri": "https://localhost:8080/"
        },
        "id": "6kO9pfL_YdIv",
        "outputId": "fa12b3ff-07fa-46f0-ad50-af25d5ea1043"
      },
      "source": [
        "# Choose a random sentence from the training dataset and tokenize it \n",
        "\n",
        "random_sentence = random.choice(train_sentences)\n",
        "print(f'Original text:\\n {random_sentence}\\\n",
        "      \\n\\nVectorized version:')\n",
        "text_vectorizer([random_sentence])"
      ],
      "execution_count": 25,
      "outputs": [
        {
          "output_type": "stream",
          "text": [
            "Original text:\n",
            " Enter the world of extreme diving ÛÓ 9 stories up and into the Volga River http://t.co/vz19VvgMnv      \n",
            "\n",
            "Vectorized version:\n"
          ],
          "name": "stdout"
        },
        {
          "output_type": "execute_result",
          "data": {
            "text/plain": [
              "<tf.Tensor: shape=(1, 15), dtype=int64, numpy=\n",
              "array([[3026,    2,  107,    6, 1527, 2491,  694,  491, 1172,   27,    7,\n",
              "          66,    2, 3269,  499]])>"
            ]
          },
          "metadata": {
            "tags": []
          },
          "execution_count": 25
        }
      ]
    },
    {
      "cell_type": "markdown",
      "metadata": {
        "id": "4iodWj7oY45U"
      },
      "source": [
        "Great, thought our sentence is more than 15+ words long but we want to keep our sequence withing the range 0-15. \n",
        "\n",
        "We know that `max_tokens` in our text vectorizer layer, it will help us to keep track of the unique words it come across from our data. "
      ]
    },
    {
      "cell_type": "code",
      "metadata": {
        "colab": {
          "base_uri": "https://localhost:8080/"
        },
        "id": "napcRxn-ZXVz",
        "outputId": "88e1c0c6-a362-48bc-85c5-e4068ca4b930"
      },
      "source": [
        "# Get the unique words in the vocabulary \n",
        "words_in_vocab = text_vectorizer.get_vocabulary() # Get all of the unique words in our training data\n",
        "\n",
        "# Most common words in our vocabulary\n",
        "top_5_words = words_in_vocab[:5] \n",
        "\n",
        "# Least common words in our vocabulary\n",
        "bottom_5_words = words_in_vocab[-5:]\n",
        "\n",
        "print(f'Number of words in vocab: {len(words_in_vocab)}')\n",
        "print(f'5 most common words: {top_5_words}')\n",
        "print(f'5 least common words: {bottom_5_words}')"
      ],
      "execution_count": 26,
      "outputs": [
        {
          "output_type": "stream",
          "text": [
            "Number of words in vocab: 10000\n",
            "5 most common words: ['', '[UNK]', 'the', 'a', 'in']\n",
            "5 least common words: ['pages', 'paeds', 'pads', 'padres', 'paddytomlinson1']\n"
          ],
          "name": "stdout"
        }
      ]
    },
    {
      "cell_type": "markdown",
      "metadata": {
        "id": "uf8O7yUKamj1"
      },
      "source": [
        "Number of unique words is **10000** its because that's what we set the max_length to. \n",
        "\n",
        "UNK - Unknown vocabulary these are words which isn't in our vocabulary. Like 10000 unique words might not cover all of the words in here. \n",
        "\n",
        "So if we increase our `max_length` parameter to 20000 then our text vectorizer can handle more unique values and there will be less [UNK] tokens. \n",
        "\n",
        "---\n",
        "\n",
        "Alright let's try out embedding and we know the best part of embedding is it can be learned. "
      ]
    },
    {
      "cell_type": "markdown",
      "metadata": {
        "id": "mNiZK80xcJdT"
      },
      "source": [
        "### Creating an Embedding using a Embedding Layer \n",
        "\n",
        "We have got a way to map our text into numbers. How about we find a way and turn those numbers into embeddings. \n",
        "\n",
        "To make our embedding, we're going to use a TensorFlow's embedding layer. https://www.tensorflow.org/api_docs/python/tf/keras/layers/Embedding\n",
        "\n",
        "At first the embedding is created the number are all going to random and we know our embedding layer learns and improves as it goes. Likewise the weights in our model it will get updated to better suit the order of the representation of our words. \n",
        "\n",
        "The parameters we care most about for our embedding layer: \n",
        "- `input_dim` = the size of our vocabulary\n",
        "- `output_dim` = the size of the output embedding vector, for example, a value of 100 would mean each token gets represented by a vector 100 long. \n",
        "- `input_lenght` = length of the sequences being passed to the embedding layer (max_length) so it's going to be 15 long. "
      ]
    },
    {
      "cell_type": "code",
      "metadata": {
        "colab": {
          "base_uri": "https://localhost:8080/"
        },
        "id": "eO3VHRmKc5YV",
        "outputId": "b05807fa-a1ff-47ae-c7a6-74e55430cd43"
      },
      "source": [
        "# In practice \n",
        "from tensorflow.keras import layers \n",
        "\n",
        "embedding = layers.Embedding(input_dim= max_vocab_length , # set input shape\n",
        "                             output_dim = 128,  # output shape\n",
        "                             input_length = max_length # How long each input is\n",
        "                             )\n",
        "\n",
        "# Looking at our embedding layer \n",
        "embedding"
      ],
      "execution_count": 27,
      "outputs": [
        {
          "output_type": "execute_result",
          "data": {
            "text/plain": [
              "<tensorflow.python.keras.layers.embeddings.Embedding at 0x7f5794048d10>"
            ]
          },
          "metadata": {
            "tags": []
          },
          "execution_count": 27
        }
      ]
    },
    {
      "cell_type": "code",
      "metadata": {
        "colab": {
          "base_uri": "https://localhost:8080/"
        },
        "id": "mEe2C0JFeQpm",
        "outputId": "be4f4384-d1ce-4886-fc93-94f6656dbf4b"
      },
      "source": [
        "# Get a random sentence from our training sentence \n",
        "random_sentence = random.choice(train_sentences)\n",
        "print(f'Original text:\\n {random_sentence}')\n",
        "\n",
        "# Mapping text into numbers (turn into dense vectors of fixed size)\n",
        "tokenized_form = text_vectorizer([random_sentence]) \n",
        "print(f'\\n After turning our text into numbers:\\n\\n {tokenized_form}')\n",
        "\n",
        "# Using our embedding layer \n",
        "print(f'\\nApplying the embedding layer to our tokenized vector\\n\\n {embedding(tokenized_form)}')"
      ],
      "execution_count": 28,
      "outputs": [
        {
          "output_type": "stream",
          "text": [
            "Original text:\n",
            " A Laois girl advertised for a new friend to replace her loved-up BFF and has been inundated http://t.co/IGM2fcmupm http://t.co/UxcfBJ3mzx\n",
            "\n",
            " After turning our text into numbers:\n",
            "\n",
            " [[   3 5248  376 6259   10    3   50 1020    5 1777   81 5185 3151    7\n",
            "    41]]\n",
            "\n",
            "Applying the embedding layer to our tokenized vector\n",
            "\n",
            " [[[-0.0144817  -0.01274443 -0.02763358 ...  0.04673315 -0.03856915\n",
            "   -0.01291286]\n",
            "  [ 0.04388228 -0.01412656 -0.01165258 ... -0.02792604  0.00494385\n",
            "    0.01087166]\n",
            "  [-0.01062138  0.02000095 -0.02114807 ...  0.00164543 -0.00971351\n",
            "   -0.04268712]\n",
            "  ...\n",
            "  [ 0.03294767 -0.00201148 -0.01280365 ...  0.02723939 -0.01672878\n",
            "   -0.04578742]\n",
            "  [ 0.02055753 -0.03789974 -0.00472183 ... -0.00294467  0.01539354\n",
            "   -0.01225988]\n",
            "  [-0.01256936  0.04368074 -0.00703871 ...  0.02975133 -0.02268579\n",
            "    0.00676367]]]\n"
          ],
          "name": "stdout"
        }
      ]
    },
    {
      "cell_type": "code",
      "metadata": {
        "colab": {
          "base_uri": "https://localhost:8080/"
        },
        "id": "y_86P2H8hGyg",
        "outputId": "5b760ca6-6f50-402a-8464-8db192f2f59b"
      },
      "source": [
        "sample_embed = embedding(tokenized_form)\n",
        "sample_embed"
      ],
      "execution_count": 29,
      "outputs": [
        {
          "output_type": "execute_result",
          "data": {
            "text/plain": [
              "<tf.Tensor: shape=(1, 15, 128), dtype=float32, numpy=\n",
              "array([[[-0.0144817 , -0.01274443, -0.02763358, ...,  0.04673315,\n",
              "         -0.03856915, -0.01291286],\n",
              "        [ 0.04388228, -0.01412656, -0.01165258, ..., -0.02792604,\n",
              "          0.00494385,  0.01087166],\n",
              "        [-0.01062138,  0.02000095, -0.02114807, ...,  0.00164543,\n",
              "         -0.00971351, -0.04268712],\n",
              "        ...,\n",
              "        [ 0.03294767, -0.00201148, -0.01280365, ...,  0.02723939,\n",
              "         -0.01672878, -0.04578742],\n",
              "        [ 0.02055753, -0.03789974, -0.00472183, ..., -0.00294467,\n",
              "          0.01539354, -0.01225988],\n",
              "        [-0.01256936,  0.04368074, -0.00703871, ...,  0.02975133,\n",
              "         -0.02268579,  0.00676367]]], dtype=float32)>"
            ]
          },
          "metadata": {
            "tags": []
          },
          "execution_count": 29
        }
      ]
    },
    {
      "cell_type": "markdown",
      "metadata": {
        "id": "JJrh7mUreaO7"
      },
      "source": [
        "What is 128? \n",
        "Every single token in our sequence are now in the format of 128 long vectors. "
      ]
    },
    {
      "cell_type": "code",
      "metadata": {
        "colab": {
          "base_uri": "https://localhost:8080/"
        },
        "id": "hFE5xROLg_3h",
        "outputId": "d7307257-18c1-4f33-b1d9-4d390215a9a8"
      },
      "source": [
        "# Check out a single token's embedding \n",
        "sample_embed[0][0] , sample_embed[0][0].shape , random_sentence[0]"
      ],
      "execution_count": 30,
      "outputs": [
        {
          "output_type": "execute_result",
          "data": {
            "text/plain": [
              "(<tf.Tensor: shape=(128,), dtype=float32, numpy=\n",
              " array([-0.0144817 , -0.01274443, -0.02763358,  0.03676533, -0.03350915,\n",
              "         0.02129004, -0.029655  ,  0.0265458 , -0.03353264, -0.02390452,\n",
              "         0.03477469, -0.04026346,  0.00895046,  0.04814539,  0.00459361,\n",
              "        -0.03964435, -0.04431185,  0.01701233, -0.02289684,  0.03170567,\n",
              "        -0.01641898, -0.04774778, -0.0236348 ,  0.01663265, -0.01051017,\n",
              "         0.03186727, -0.03882513,  0.0081188 ,  0.03863159, -0.03690694,\n",
              "        -0.0273304 ,  0.04006505, -0.02662197,  0.04163307,  0.01573931,\n",
              "         0.00565132,  0.0281694 ,  0.03900201, -0.02908695, -0.04275322,\n",
              "         0.01792735,  0.03856822,  0.01305852, -0.02560906, -0.02884137,\n",
              "         0.02896236,  0.01686342, -0.02251784,  0.03646396, -0.04881112,\n",
              "         0.0132195 , -0.033191  ,  0.01328114,  0.02215337,  0.01188486,\n",
              "        -0.00908474,  0.02171694, -0.04493085,  0.00629757,  0.04027427,\n",
              "         0.01263518, -0.04822442,  0.02506145,  0.01932267,  0.00949392,\n",
              "        -0.00513576,  0.01290548, -0.04129883,  0.01467687,  0.00820369,\n",
              "         0.01004642, -0.02873196,  0.02137712, -0.01990438, -0.0303185 ,\n",
              "        -0.03796571, -0.0474596 ,  0.01260951,  0.00350704, -0.04238682,\n",
              "         0.01579774,  0.03853923,  0.03436091, -0.03040742,  0.04682041,\n",
              "         0.02972455, -0.00592799, -0.04271116,  0.02292719,  0.01577748,\n",
              "         0.02882203,  0.03533142, -0.0408769 ,  0.00028119, -0.0375549 ,\n",
              "        -0.02493106,  0.01757253, -0.02246697, -0.04780957, -0.02872852,\n",
              "        -0.01913933,  0.02073368,  0.01607493,  0.02228424, -0.014594  ,\n",
              "         0.03908772,  0.00809937, -0.00924693,  0.01651767, -0.02826557,\n",
              "         0.01019885,  0.04729848, -0.0477157 ,  0.00229075, -0.03241472,\n",
              "        -0.03842545,  0.01420757, -0.00533024,  0.04044411, -0.02204338,\n",
              "         0.04143676, -0.01822388, -0.04446504, -0.008253  , -0.01461059,\n",
              "         0.04673315, -0.03856915, -0.01291286], dtype=float32)>,\n",
              " TensorShape([128]),\n",
              " 'A')"
            ]
          },
          "metadata": {
            "tags": []
          },
          "execution_count": 30
        }
      ]
    },
    {
      "cell_type": "markdown",
      "metadata": {
        "id": "h3jkOI1bhjr-"
      },
      "source": [
        "Alright next we wil discuss the various modelling experiments we're going to run. "
      ]
    },
    {
      "cell_type": "markdown",
      "metadata": {
        "id": "HcBk28ZclABH"
      },
      "source": [
        "## Modelling a text dataset (running a series of experiments) \n",
        "\n",
        "Once you've got your inputs and outputs prepared, it's a matter of figuring out which machine learning model to build in between them to bridge the gap.\n",
        "\n",
        "To get a plenty of practice, we're going to build a series of different models, each has its won experiment. We'll then compare the results of each model and see which one performed better. \n",
        "\n",
        "We're going to build, \n",
        "\n",
        "- **Model 0**: Naive Bayes (common baseline for text based data- tf-idf)\n",
        "- **Model 1**: Feed-forward neural network (dense model)\n",
        "- **Model 2**: LSTM model (RNN)\n",
        "- **Model 3**: GRU model (RNN)\n",
        "- **Model 4**: Bidirectional-LSTM model (RNN)\n",
        "- **Model 5**: 1D Convolutional Neural Network\n",
        "- **Model 6**: TensorFlow Hub Pre-trained Feature Extractor\n",
        "- **Model 7**: Same as model 6 with 10% of training data.\n",
        "\n",
        "How are we going to approach all of these? \n",
        "Use the standard steps in modelling with TensorFlow: \n",
        "- Create a Model\n",
        "- Build a Model \n",
        "- Fit a model \n",
        "- Evaluate our model\n",
        "\n",
        "Let's build a Non-deeplearning model to be more specific a Naive Bayes model from scikit-learn"
      ]
    },
    {
      "cell_type": "markdown",
      "metadata": {
        "id": "1vjNI6I84BYx"
      },
      "source": [
        "Let's experiment before the video \n"
      ]
    },
    {
      "cell_type": "code",
      "metadata": {
        "colab": {
          "base_uri": "https://localhost:8080/"
        },
        "id": "dsFEx0S13tjI",
        "outputId": "d7944198-ea3c-436f-d5d2-8b2250ce8195"
      },
      "source": [
        "# Checking the shapes of our splits \n",
        "train_sentences.shape , train_labels.shape , val_sentences.shape , val_labels.shape"
      ],
      "execution_count": 31,
      "outputs": [
        {
          "output_type": "execute_result",
          "data": {
            "text/plain": [
              "((6851,), (6851,), (762,), (762,))"
            ]
          },
          "metadata": {
            "tags": []
          },
          "execution_count": 31
        }
      ]
    },
    {
      "cell_type": "code",
      "metadata": {
        "colab": {
          "base_uri": "https://localhost:8080/"
        },
        "id": "PAJKkhbU5ZuR",
        "outputId": "b0a98fbf-257b-43e1-8f8b-6b8e91c02f00"
      },
      "source": [
        "from sklearn.feature_extraction.text import TfidfVectorizer\n",
        "\n",
        "# Creating a instance\n",
        "tfidf = TfidfVectorizer()\n",
        "\n",
        "# Fitting our data to our TfidfVectorizer \n",
        "tf_transformer = tfidf.fit(train_sentences)\n",
        "\n",
        "# Applying the transformation\n",
        "train_sen_trans = tf_transformer.transform(train_sentences)\n",
        "\n",
        "# Checking the shape \n",
        "train_sen_trans.shape"
      ],
      "execution_count": 32,
      "outputs": [
        {
          "output_type": "execute_result",
          "data": {
            "text/plain": [
              "(6851, 20076)"
            ]
          },
          "metadata": {
            "tags": []
          },
          "execution_count": 32
        }
      ]
    },
    {
      "cell_type": "code",
      "metadata": {
        "id": "Hk1wiOvw8U9f"
      },
      "source": [
        ""
      ],
      "execution_count": 32,
      "outputs": []
    },
    {
      "cell_type": "code",
      "metadata": {
        "colab": {
          "base_uri": "https://localhost:8080/"
        },
        "id": "4f_-oUXG7AFd",
        "outputId": "9223644f-9168-464b-ad27-7a0301e509b4"
      },
      "source": [
        "train_sen_trans[:1]"
      ],
      "execution_count": 33,
      "outputs": [
        {
          "output_type": "execute_result",
          "data": {
            "text/plain": [
              "<1x20076 sparse matrix of type '<class 'numpy.float64'>'\n",
              "\twith 6 stored elements in Compressed Sparse Row format>"
            ]
          },
          "metadata": {
            "tags": []
          },
          "execution_count": 33
        }
      ]
    },
    {
      "cell_type": "code",
      "metadata": {
        "colab": {
          "base_uri": "https://localhost:8080/"
        },
        "id": "bUn77iVG4DgT",
        "outputId": "3a915ea7-222b-4a29-fade-40ac664935af"
      },
      "source": [
        "# Importing the naive bayes model for our classified \n",
        "from sklearn.naive_bayes import MultinomialNB\n",
        "\n",
        "# Creating a instance of our model \n",
        "clf_naive = MultinomialNB()\n",
        "\n",
        "# Fitting the data\n",
        "clf_naive.fit(train_sen_trans , train_labels)"
      ],
      "execution_count": 34,
      "outputs": [
        {
          "output_type": "execute_result",
          "data": {
            "text/plain": [
              "MultinomialNB(alpha=1.0, class_prior=None, fit_prior=True)"
            ]
          },
          "metadata": {
            "tags": []
          },
          "execution_count": 34
        }
      ]
    },
    {
      "cell_type": "markdown",
      "metadata": {
        "id": "O7WsjDr_4o9z"
      },
      "source": [
        "### Model 0: Getting a baseline \n",
        "\n",
        "To create our baseline, we'll use Sklearn's multinomal Naive Bayes using the TF-IDF formula to convert our words to numbers. \n",
        "\n",
        "> 🔑 **Note**: It's common practice to use non-DL algorithms as a baseline because of their speed and then later using the DL to see if we can improve. \n",
        "\n"
      ]
    },
    {
      "cell_type": "code",
      "metadata": {
        "colab": {
          "base_uri": "https://localhost:8080/"
        },
        "id": "TbCxVm415_nx",
        "outputId": "99703b8e-d5aa-4d78-8416-76e8922bdc7d"
      },
      "source": [
        "train_labels"
      ],
      "execution_count": 35,
      "outputs": [
        {
          "output_type": "execute_result",
          "data": {
            "text/plain": [
              "array([0, 0, 1, ..., 1, 1, 0])"
            ]
          },
          "metadata": {
            "tags": []
          },
          "execution_count": 35
        }
      ]
    },
    {
      "cell_type": "code",
      "metadata": {
        "colab": {
          "base_uri": "https://localhost:8080/"
        },
        "id": "L3CkVvyj5H-D",
        "outputId": "e8b0d7b5-3f1a-4cfe-e7c0-8dcafcb15aee"
      },
      "source": [
        "from sklearn.feature_extraction.text import TfidfVectorizer # (turn text into numbers)\n",
        "from sklearn.naive_bayes import MultinomialNB\n",
        "from sklearn.pipeline import Pipeline \n",
        "\n",
        "# Create tokenization and modelling pipeline\n",
        "model_0 = Pipeline([\n",
        "                  ('tfidf' , TfidfVectorizer()) , # Convert words to numbers using tfidf\n",
        "                  ('clf' , MultinomialNB()), # Model the text \n",
        "                ])\n",
        "\n",
        "# Fit the pipeline to the training data \n",
        "model_0.fit(train_sentences , train_labels)"
      ],
      "execution_count": 36,
      "outputs": [
        {
          "output_type": "execute_result",
          "data": {
            "text/plain": [
              "Pipeline(memory=None,\n",
              "         steps=[('tfidf',\n",
              "                 TfidfVectorizer(analyzer='word', binary=False,\n",
              "                                 decode_error='strict',\n",
              "                                 dtype=<class 'numpy.float64'>,\n",
              "                                 encoding='utf-8', input='content',\n",
              "                                 lowercase=True, max_df=1.0, max_features=None,\n",
              "                                 min_df=1, ngram_range=(1, 1), norm='l2',\n",
              "                                 preprocessor=None, smooth_idf=True,\n",
              "                                 stop_words=None, strip_accents=None,\n",
              "                                 sublinear_tf=False,\n",
              "                                 token_pattern='(?u)\\\\b\\\\w\\\\w+\\\\b',\n",
              "                                 tokenizer=None, use_idf=True,\n",
              "                                 vocabulary=None)),\n",
              "                ('clf',\n",
              "                 MultinomialNB(alpha=1.0, class_prior=None, fit_prior=True))],\n",
              "         verbose=False)"
            ]
          },
          "metadata": {
            "tags": []
          },
          "execution_count": 36
        }
      ]
    },
    {
      "cell_type": "code",
      "metadata": {
        "colab": {
          "base_uri": "https://localhost:8080/"
        },
        "id": "_u9cp5jB5peK",
        "outputId": "804823a8-5667-4742-9fc9-f3947078f3d8"
      },
      "source": [
        "# Evaluate our baseline model \n",
        "# Default evaluation metrics is accuracy\n",
        "baseline_score = model_0.score(val_sentences , val_labels)\n",
        "print(f'Our baseline mdoel achieves an accuracy of: {baseline_score*100:.2f}%')"
      ],
      "execution_count": 37,
      "outputs": [
        {
          "output_type": "stream",
          "text": [
            "Our baseline mdoel achieves an accuracy of: 79.27%\n"
          ],
          "name": "stdout"
        }
      ]
    },
    {
      "cell_type": "code",
      "metadata": {
        "colab": {
          "base_uri": "https://localhost:8080/"
        },
        "id": "Dl9JsXSN7ky8",
        "outputId": "0bf9e0f5-7d1c-4bb7-86c7-9679d6729f89"
      },
      "source": [
        "# Make predictions \n",
        "baseline_preds = model_0.predict(val_sentences)\n",
        "\n",
        "# First 10 predictions\n",
        "baseline_preds[:10]"
      ],
      "execution_count": 38,
      "outputs": [
        {
          "output_type": "execute_result",
          "data": {
            "text/plain": [
              "array([1, 1, 1, 0, 0, 1, 1, 1, 1, 0])"
            ]
          },
          "metadata": {
            "tags": []
          },
          "execution_count": 38
        }
      ]
    },
    {
      "cell_type": "markdown",
      "metadata": {
        "id": "CAuUiBdK78kc"
      },
      "source": [
        "Let's use some of the other evaluation metrics. We will make a handy function which will help us to reduce the hustle of writing out every evaluation metrics. "
      ]
    },
    {
      "cell_type": "code",
      "metadata": {
        "id": "ffgtOsFj81s9"
      },
      "source": [
        "def classification_evaluation_metrics(y_true , \n",
        "                                      y_preds):\n",
        "  '''\n",
        "  Arguments: \n",
        "  y_true --> true labels of the data \n",
        "  y_preds --> predicted labels of the data \n",
        "\n",
        "  Returns: \n",
        "  A dictionary of evaluation metrics like precision , recall and f1_score\n",
        "  '''\n",
        "\n",
        "  # Let's first import the needed metrics \n",
        "  from sklearn.metrics import precision_score , f1_score , accuracy_score , recall_score\n",
        "\n",
        "  # Creting the metrics \n",
        "  accuracy = accuracy_score(y_true , y_preds)\n",
        "  f1_score = f1_score(y_true , y_preds)\n",
        "  precision = precision_score(y_true , y_preds)\n",
        "  recall = recall_score(y_true , y_preds)\n",
        "\n",
        "  # Now will create a dictionary of these metrics and pack them\n",
        "  evaluation_dict = {'Accuracy:': accuracy * 100 , \n",
        "                     'F1_Score: ': f1_score , \n",
        "                     'Precision: ': precision , \n",
        "                     'Recall: ': recall }\n",
        "\n",
        "  # Return our dictionary \n",
        "  return evaluation_dict\n",
        "  "
      ],
      "execution_count": 39,
      "outputs": []
    },
    {
      "cell_type": "code",
      "metadata": {
        "colab": {
          "base_uri": "https://localhost:8080/"
        },
        "id": "4-3DefbG9o43",
        "outputId": "4339abc9-d884-49ec-f365-f82b1d3b1119"
      },
      "source": [
        "# Using the above function \n",
        "evaluation_dict = classification_evaluation_metrics(val_labels , \n",
        "                                                    baseline_preds)\n",
        "\n",
        "# Looking into the dictionary of evaluation metrics \n",
        "evaluation_dict"
      ],
      "execution_count": 40,
      "outputs": [
        {
          "output_type": "execute_result",
          "data": {
            "text/plain": [
              "{'Accuracy:': 79.26509186351706,\n",
              " 'F1_Score: ': 0.734006734006734,\n",
              " 'Precision: ': 0.8861788617886179,\n",
              " 'Recall: ': 0.6264367816091954}"
            ]
          },
          "metadata": {
            "tags": []
          },
          "execution_count": 40
        }
      ]
    },
    {
      "cell_type": "markdown",
      "metadata": {
        "id": "MmYz3EG6-cGM"
      },
      "source": [
        "Great! Our baseline model worked better than we expected. Now let's build a Feed-forward neural network model for our text data.\n",
        "\n",
        "### Model 1: Feed Forward Neural Network (Dense layers) \n"
      ]
    },
    {
      "cell_type": "code",
      "metadata": {
        "id": "2VZoRLGGBFkl"
      },
      "source": [
        "# Create a tensorboard callback (to track the model experiments) \n",
        "# New one for each model\n",
        "from helper_functions import create_tensorboard_callback\n",
        "\n",
        "# Create a directory to save tensorboard logs \n",
        "SAVE_DIR = 'model_logs'"
      ],
      "execution_count": 41,
      "outputs": []
    },
    {
      "cell_type": "code",
      "metadata": {
        "colab": {
          "base_uri": "https://localhost:8080/"
        },
        "id": "Khw1pA1pFaWb",
        "outputId": "e1e78b51-7eb3-4ac1-cfd8-4c76d464b5f1"
      },
      "source": [
        "# Build model with the functional API \n",
        "from tensorflow.keras import layers \n",
        "\n",
        "# Creating our input layer (inputs are 1D strings)\n",
        "inputs = layers.Input(shape=(1,) , dtype = tf.string)\n",
        "\n",
        "# Convert strings into numbers and applying word embedding\n",
        "x = text_vectorizer(inputs) # turn input text into numbers \n",
        "x = embedding(x) # Create an embedding of the numberized inputs \n",
        "\n",
        "# Ouput layer (want binary outputs so use sigmoid activation function)\n",
        "outputs = layers.Dense(1, activation='sigmoid')(x) \n",
        "\n",
        "# Packing into a model \n",
        "model_1 = tf.keras.Model(inputs , outputs , name = 'model_1_dense')\n",
        "\n",
        "# Getting the model summary \n",
        "model_1.summary()"
      ],
      "execution_count": 42,
      "outputs": [
        {
          "output_type": "stream",
          "text": [
            "Model: \"model_1_dense\"\n",
            "_________________________________________________________________\n",
            "Layer (type)                 Output Shape              Param #   \n",
            "=================================================================\n",
            "input_1 (InputLayer)         [(None, 1)]               0         \n",
            "_________________________________________________________________\n",
            "text_vectorization_1 (TextVe (None, 15)                0         \n",
            "_________________________________________________________________\n",
            "embedding (Embedding)        (None, 15, 128)           1280000   \n",
            "_________________________________________________________________\n",
            "dense (Dense)                (None, 15, 1)             129       \n",
            "=================================================================\n",
            "Total params: 1,280,129\n",
            "Trainable params: 1,280,129\n",
            "Non-trainable params: 0\n",
            "_________________________________________________________________\n"
          ],
          "name": "stdout"
        }
      ]
    },
    {
      "cell_type": "markdown",
      "metadata": {
        "id": "Z7FJjkw4GoiB"
      },
      "source": [
        "At `embedding_2 (Embedding)` our embedding layers adds a extra dimension 128 so our model's parameters gets increased in numbers.\n",
        "\n",
        "Because every single tokens (15 tokens) get represented as 128 long feature vector. "
      ]
    },
    {
      "cell_type": "code",
      "metadata": {
        "id": "vw1YnCMMG0QU"
      },
      "source": [
        "# Compile the model \n",
        "model_1.compile(loss = tf.keras.losses.BinaryCrossentropy() , \n",
        "                optimizer = tf.keras.optimizers.Adam() , \n",
        "                metrics = ['accuracy'])"
      ],
      "execution_count": 43,
      "outputs": []
    },
    {
      "cell_type": "code",
      "metadata": {
        "colab": {
          "base_uri": "https://localhost:8080/"
        },
        "id": "nu8pf9UvHqR1",
        "outputId": "e68bcc68-2d38-414b-b970-46b7752ac8cc"
      },
      "source": [
        "# Fit the model \n",
        "model_1_history = model_1.fit(train_sentences ,\n",
        "                              train_labels , \n",
        "                              epochs = 5 , \n",
        "                              validation_data = (val_sentences , val_labels) , \n",
        "                              callbacks = [create_tensorboard_callback(dir_name = SAVE_DIR , \n",
        "                                                                       experiment_name = 'model_1_dense')])"
      ],
      "execution_count": 44,
      "outputs": [
        {
          "output_type": "stream",
          "text": [
            "Saving TensorBoard log files to: model_logs/model_1_dense/20210518-091236\n",
            "Epoch 1/5\n",
            "215/215 [==============================] - 5s 18ms/step - loss: 0.6674 - accuracy: 0.6158 - val_loss: 0.6304 - val_accuracy: 0.6493\n",
            "Epoch 2/5\n",
            "215/215 [==============================] - 3s 15ms/step - loss: 0.5971 - accuracy: 0.6926 - val_loss: 0.6234 - val_accuracy: 0.6488\n",
            "Epoch 3/5\n",
            "215/215 [==============================] - 3s 15ms/step - loss: 0.5763 - accuracy: 0.6908 - val_loss: 0.6260 - val_accuracy: 0.6504\n",
            "Epoch 4/5\n",
            "215/215 [==============================] - 3s 14ms/step - loss: 0.5627 - accuracy: 0.6957 - val_loss: 0.6315 - val_accuracy: 0.6483\n",
            "Epoch 5/5\n",
            "215/215 [==============================] - 3s 14ms/step - loss: 0.5574 - accuracy: 0.6970 - val_loss: 0.6328 - val_accuracy: 0.6485\n"
          ],
          "name": "stdout"
        }
      ]
    },
    {
      "cell_type": "code",
      "metadata": {
        "colab": {
          "base_uri": "https://localhost:8080/"
        },
        "id": "FbtEqxwhIGAc",
        "outputId": "0ad9625f-45a4-44c2-d594-c0d5ef2c19cf"
      },
      "source": [
        "# Check the results \n",
        "model_1.evaluate(val_sentences , val_labels)"
      ],
      "execution_count": 45,
      "outputs": [
        {
          "output_type": "stream",
          "text": [
            "24/24 [==============================] - 0s 2ms/step - loss: 0.6328 - accuracy: 0.6485\n"
          ],
          "name": "stdout"
        },
        {
          "output_type": "execute_result",
          "data": {
            "text/plain": [
              "[0.6328362822532654, 0.6484689116477966]"
            ]
          },
          "metadata": {
            "tags": []
          },
          "execution_count": 45
        }
      ]
    },
    {
      "cell_type": "code",
      "metadata": {
        "colab": {
          "base_uri": "https://localhost:8080/"
        },
        "id": "Jsjg8-aTIfqj",
        "outputId": "12dc3931-75a2-441e-adc4-84aae657e615"
      },
      "source": [
        "# Make some predictions and evaluate \n",
        "model_1_pred_probs = model_1.predict(val_sentences)\n",
        "model_1_pred_probs.shape"
      ],
      "execution_count": 46,
      "outputs": [
        {
          "output_type": "execute_result",
          "data": {
            "text/plain": [
              "(762, 15, 1)"
            ]
          },
          "metadata": {
            "tags": []
          },
          "execution_count": 46
        }
      ]
    },
    {
      "cell_type": "code",
      "metadata": {
        "colab": {
          "base_uri": "https://localhost:8080/"
        },
        "id": "rGYX8UtkIplD",
        "outputId": "41eeacf2-cc9f-430d-d79d-da75e0dfbf5c"
      },
      "source": [
        "model_1_pred_probs[:1]"
      ],
      "execution_count": 47,
      "outputs": [
        {
          "output_type": "execute_result",
          "data": {
            "text/plain": [
              "array([[[0.4433568 ],\n",
              "        [0.4433568 ],\n",
              "        [0.4433568 ],\n",
              "        [0.1729705 ],\n",
              "        [0.53184617],\n",
              "        [0.4433568 ],\n",
              "        [0.4433568 ],\n",
              "        [0.4433568 ],\n",
              "        [0.10086742],\n",
              "        [0.36424473],\n",
              "        [0.4433568 ],\n",
              "        [0.941516  ],\n",
              "        [0.0381304 ],\n",
              "        [0.4433568 ],\n",
              "        [0.36274326]]], dtype=float32)"
            ]
          },
          "metadata": {
            "tags": []
          },
          "execution_count": 47
        }
      ]
    },
    {
      "cell_type": "markdown",
      "metadata": {
        "id": "pXjd2qFHItvp"
      },
      "source": [
        "We want a single prediction probability for each sample but it looks like it is outputing a prediction probability for each tokens.\n",
        "\n",
        "To fix this we will be using **GlobalAveragePooling** layer. This will help us to condense the feature vector for each token to one vector."
      ]
    },
    {
      "cell_type": "code",
      "metadata": {
        "id": "fvpHkavdJHG4"
      },
      "source": [
        "# Let's build the model again but with GlobalAveragePooling \n",
        "from tensorflow.keras import layers \n",
        "\n",
        "# Input layer\n",
        "inputs = layers.Input(shape = (1,) , dtype = tf.string)\n",
        "\n",
        "# Turn text into numbers and create an word embedding \n",
        "x = text_vectorizer(inputs)\n",
        "x = embedding(x)\n",
        "\n",
        "# Condense the feature vector for each token to \"one vector\"\n",
        "x = layers.GlobalAveragePooling1D()(x)\n",
        "\n",
        "# Output layer \n",
        "outputs = layers.Dense(1 , activation = 'sigmoid')(x)\n",
        "\n",
        "# Packing into a model \n",
        "model_1 = tf.keras.Model(inputs , outputs , name = 'model_1_dense')\n"
      ],
      "execution_count": 48,
      "outputs": []
    },
    {
      "cell_type": "code",
      "metadata": {
        "colab": {
          "base_uri": "https://localhost:8080/"
        },
        "id": "n3nbJxUJLIMe",
        "outputId": "18f464ac-d57e-46de-96f4-afa5fd69355a"
      },
      "source": [
        "# Checking the summary of the model\n",
        "model_1.summary()"
      ],
      "execution_count": 49,
      "outputs": [
        {
          "output_type": "stream",
          "text": [
            "Model: \"model_1_dense\"\n",
            "_________________________________________________________________\n",
            "Layer (type)                 Output Shape              Param #   \n",
            "=================================================================\n",
            "input_2 (InputLayer)         [(None, 1)]               0         \n",
            "_________________________________________________________________\n",
            "text_vectorization_1 (TextVe (None, 15)                0         \n",
            "_________________________________________________________________\n",
            "embedding (Embedding)        (None, 15, 128)           1280000   \n",
            "_________________________________________________________________\n",
            "global_average_pooling1d (Gl (None, 128)               0         \n",
            "_________________________________________________________________\n",
            "dense_1 (Dense)              (None, 1)                 129       \n",
            "=================================================================\n",
            "Total params: 1,280,129\n",
            "Trainable params: 1,280,129\n",
            "Non-trainable params: 0\n",
            "_________________________________________________________________\n"
          ],
          "name": "stdout"
        }
      ]
    },
    {
      "cell_type": "code",
      "metadata": {
        "id": "k35WDOFwKHPt"
      },
      "source": [
        "# Compile the model \n",
        "model_1.compile(loss = tf.keras.losses.BinaryCrossentropy() , \n",
        "                optimizer = tf.keras.optimizers.Adam() , \n",
        "                metrics = 'accuracy')"
      ],
      "execution_count": 50,
      "outputs": []
    },
    {
      "cell_type": "code",
      "metadata": {
        "colab": {
          "base_uri": "https://localhost:8080/"
        },
        "id": "rXWkThpJKRJ9",
        "outputId": "b4298c84-428d-4558-d2cc-d58f75695d76"
      },
      "source": [
        "# Fitting the model \n",
        "model_1.fit(train_sentences , \n",
        "            train_labels , \n",
        "            epochs = 5 , \n",
        "            validation_data = (val_sentences , val_labels) , \n",
        "            callbacks = create_tensorboard_callback(dir_name= SAVE_DIR , \n",
        "                                                    experiment_name = 'model_1_dense_pool_layer'))"
      ],
      "execution_count": 51,
      "outputs": [
        {
          "output_type": "stream",
          "text": [
            "Saving TensorBoard log files to: model_logs/model_1_dense_pool_layer/20210518-091254\n",
            "Epoch 1/5\n",
            "215/215 [==============================] - 4s 15ms/step - loss: 0.6160 - accuracy: 0.7467 - val_loss: 0.5183 - val_accuracy: 0.7743\n",
            "Epoch 2/5\n",
            "215/215 [==============================] - 3s 14ms/step - loss: 0.4143 - accuracy: 0.8575 - val_loss: 0.4607 - val_accuracy: 0.7900\n",
            "Epoch 3/5\n",
            "215/215 [==============================] - 3s 14ms/step - loss: 0.3236 - accuracy: 0.8771 - val_loss: 0.4531 - val_accuracy: 0.7887\n",
            "Epoch 4/5\n",
            "215/215 [==============================] - 3s 14ms/step - loss: 0.2658 - accuracy: 0.8995 - val_loss: 0.4588 - val_accuracy: 0.7887\n",
            "Epoch 5/5\n",
            "215/215 [==============================] - 3s 14ms/step - loss: 0.2203 - accuracy: 0.9264 - val_loss: 0.4704 - val_accuracy: 0.7861\n"
          ],
          "name": "stdout"
        },
        {
          "output_type": "execute_result",
          "data": {
            "text/plain": [
              "<tensorflow.python.keras.callbacks.History at 0x7f5790ecef90>"
            ]
          },
          "metadata": {
            "tags": []
          },
          "execution_count": 51
        }
      ]
    },
    {
      "cell_type": "code",
      "metadata": {
        "colab": {
          "base_uri": "https://localhost:8080/"
        },
        "id": "YTjNQrq4Km3E",
        "outputId": "798d5925-1eb5-4ab2-a880-53b3412c13ef"
      },
      "source": [
        "# Checking the results by evaluatiing our model \n",
        "model_1.evaluate(val_sentences , val_labels)"
      ],
      "execution_count": 52,
      "outputs": [
        {
          "output_type": "stream",
          "text": [
            "24/24 [==============================] - 0s 2ms/step - loss: 0.4704 - accuracy: 0.7861\n"
          ],
          "name": "stdout"
        },
        {
          "output_type": "execute_result",
          "data": {
            "text/plain": [
              "[0.47043174505233765, 0.7860892415046692]"
            ]
          },
          "metadata": {
            "tags": []
          },
          "execution_count": 52
        }
      ]
    },
    {
      "cell_type": "code",
      "metadata": {
        "colab": {
          "base_uri": "https://localhost:8080/"
        },
        "id": "17mCz3ybKuEs",
        "outputId": "586f04d8-e21c-4105-a32f-f1ce51534637"
      },
      "source": [
        "# Making prediction \n",
        "model_1_pred_probs = model_1.predict(val_sentences)\n",
        "model_1_pred_probs.shape"
      ],
      "execution_count": 53,
      "outputs": [
        {
          "output_type": "execute_result",
          "data": {
            "text/plain": [
              "(762, 1)"
            ]
          },
          "metadata": {
            "tags": []
          },
          "execution_count": 53
        }
      ]
    },
    {
      "cell_type": "code",
      "metadata": {
        "colab": {
          "base_uri": "https://localhost:8080/"
        },
        "id": "apxA4ntXK326",
        "outputId": "0b2b207f-64a1-4b54-92de-9bce6dbb68f7"
      },
      "source": [
        "# How our predictions looks now? \n",
        "model_1_pred_probs[:10]"
      ],
      "execution_count": 54,
      "outputs": [
        {
          "output_type": "execute_result",
          "data": {
            "text/plain": [
              "array([[0.3320947 ],\n",
              "       [0.7815207 ],\n",
              "       [0.99713475],\n",
              "       [0.15527347],\n",
              "       [0.11451176],\n",
              "       [0.9514185 ],\n",
              "       [0.8956913 ],\n",
              "       [0.9955641 ],\n",
              "       [0.9720528 ],\n",
              "       [0.3097263 ]], dtype=float32)"
            ]
          },
          "metadata": {
            "tags": []
          },
          "execution_count": 54
        }
      ]
    },
    {
      "cell_type": "code",
      "metadata": {
        "colab": {
          "base_uri": "https://localhost:8080/"
        },
        "id": "hTjB4MpMLBAY",
        "outputId": "cbeba741-ce90-4e7d-92aa-a90bb14ed939"
      },
      "source": [
        "# Convert model prediction probs to label format \n",
        "\n",
        "model_1_preds = tf.squeeze(tf.round(model_1_pred_probs))\n",
        "model_1_preds[:20]"
      ],
      "execution_count": 55,
      "outputs": [
        {
          "output_type": "execute_result",
          "data": {
            "text/plain": [
              "<tf.Tensor: shape=(20,), dtype=float32, numpy=\n",
              "array([0., 1., 1., 0., 0., 1., 1., 1., 1., 0., 0., 1., 0., 0., 0., 0., 0.,\n",
              "       0., 0., 1.], dtype=float32)>"
            ]
          },
          "metadata": {
            "tags": []
          },
          "execution_count": 55
        }
      ]
    },
    {
      "cell_type": "code",
      "metadata": {
        "colab": {
          "base_uri": "https://localhost:8080/"
        },
        "id": "UFxONJ5WMn0k",
        "outputId": "f997066b-05b8-4565-bc05-b35c10fcdb55"
      },
      "source": [
        "# Calculate our model_1 results \n",
        "model_1_results = classification_evaluation_metrics(y_true = val_labels , \n",
        "                                                    y_preds = model_1_preds)\n",
        "\n",
        "model_1_results"
      ],
      "execution_count": 56,
      "outputs": [
        {
          "output_type": "execute_result",
          "data": {
            "text/plain": [
              "{'Accuracy:': 78.60892388451444,\n",
              " 'F1_Score: ': 0.7465007776049768,\n",
              " 'Precision: ': 0.8135593220338984,\n",
              " 'Recall: ': 0.6896551724137931}"
            ]
          },
          "metadata": {
            "tags": []
          },
          "execution_count": 56
        }
      ]
    },
    {
      "cell_type": "code",
      "metadata": {
        "colab": {
          "base_uri": "https://localhost:8080/"
        },
        "id": "vdKr9mZqM1D4",
        "outputId": "7d54d20c-f5af-4f63-9305-fd0187d0aafa"
      },
      "source": [
        "# Our baseline metrics \n",
        "evaluation_dict"
      ],
      "execution_count": 57,
      "outputs": [
        {
          "output_type": "execute_result",
          "data": {
            "text/plain": [
              "{'Accuracy:': 79.26509186351706,\n",
              " 'F1_Score: ': 0.734006734006734,\n",
              " 'Precision: ': 0.8861788617886179,\n",
              " 'Recall: ': 0.6264367816091954}"
            ]
          },
          "metadata": {
            "tags": []
          },
          "execution_count": 57
        }
      ]
    },
    {
      "cell_type": "code",
      "metadata": {
        "colab": {
          "base_uri": "https://localhost:8080/"
        },
        "id": "QBthn7ZvM-pc",
        "outputId": "45324f90-cc05-4b8b-909f-71d119d23d03"
      },
      "source": [
        "# Comparing our base line model with our deeplearning model\n",
        "import numpy as np\n",
        "np.array(list(model_1_results.values())) > np.array(list(evaluation_dict.values()))"
      ],
      "execution_count": 58,
      "outputs": [
        {
          "output_type": "execute_result",
          "data": {
            "text/plain": [
              "array([False,  True, False,  True])"
            ]
          },
          "metadata": {
            "tags": []
          },
          "execution_count": 58
        }
      ]
    },
    {
      "cell_type": "markdown",
      "metadata": {
        "id": "hh1UM4cvNNci"
      },
      "source": [
        "### Visualizing our model's learned word embeddings with TensorFlow's projector tool"
      ]
    },
    {
      "cell_type": "code",
      "metadata": {
        "colab": {
          "base_uri": "https://localhost:8080/"
        },
        "id": "g9pggGkfNg6n",
        "outputId": "44281fb2-80bb-4644-fbbc-bea821fb30e6"
      },
      "source": [
        "# Get the vocabulary from the text vectorization layer \n",
        "\n",
        "# Getting the unique vocabulary our embedding layer learnt\n",
        "words_in_vocab = text_vectorizer.get_vocabulary()\n",
        "len(words_in_vocab) , words_in_vocab[:10]"
      ],
      "execution_count": 59,
      "outputs": [
        {
          "output_type": "execute_result",
          "data": {
            "text/plain": [
              "(10000, ['', '[UNK]', 'the', 'a', 'in', 'to', 'of', 'and', 'i', 'is'])"
            ]
          },
          "metadata": {
            "tags": []
          },
          "execution_count": 59
        }
      ]
    },
    {
      "cell_type": "code",
      "metadata": {
        "colab": {
          "base_uri": "https://localhost:8080/"
        },
        "id": "yDE5iZC3OO2h",
        "outputId": "171d49e8-2336-44b6-99e1-853bab8bd059"
      },
      "source": [
        "# Model 1 summary (inspect the embedding layer)\n",
        "model_1.summary()"
      ],
      "execution_count": 60,
      "outputs": [
        {
          "output_type": "stream",
          "text": [
            "Model: \"model_1_dense\"\n",
            "_________________________________________________________________\n",
            "Layer (type)                 Output Shape              Param #   \n",
            "=================================================================\n",
            "input_2 (InputLayer)         [(None, 1)]               0         \n",
            "_________________________________________________________________\n",
            "text_vectorization_1 (TextVe (None, 15)                0         \n",
            "_________________________________________________________________\n",
            "embedding (Embedding)        (None, 15, 128)           1280000   \n",
            "_________________________________________________________________\n",
            "global_average_pooling1d (Gl (None, 128)               0         \n",
            "_________________________________________________________________\n",
            "dense_1 (Dense)              (None, 1)                 129       \n",
            "=================================================================\n",
            "Total params: 1,280,129\n",
            "Trainable params: 1,280,129\n",
            "Non-trainable params: 0\n",
            "_________________________________________________________________\n"
          ],
          "name": "stdout"
        }
      ]
    },
    {
      "cell_type": "markdown",
      "metadata": {
        "id": "8KOQ3yM5OnCb"
      },
      "source": [
        "Let's get the weight matrix of our embedding layer \n",
        "\n",
        "These are the numerical representation of each token in our training data, which have been learned for 5 epochs (patterns from our embedding layer). "
      ]
    },
    {
      "cell_type": "code",
      "metadata": {
        "colab": {
          "base_uri": "https://localhost:8080/"
        },
        "id": "v8m8gYL4O4GN",
        "outputId": "d9374fc2-0f64-4efe-96b6-494106ca1efb"
      },
      "source": [
        "embed_weights = model_1.get_layer('embedding').get_weights()\n",
        "embed_weights"
      ],
      "execution_count": 62,
      "outputs": [
        {
          "output_type": "execute_result",
          "data": {
            "text/plain": [
              "[array([[ 0.016054  , -0.03111962,  0.00123516, ..., -0.0391464 ,\n",
              "         -0.03335987, -0.09011695],\n",
              "        [ 0.04331098, -0.0090833 ,  0.02289358, ..., -0.01476426,\n",
              "          0.00866317, -0.04226385],\n",
              "        [ 0.033221  , -0.08670716,  0.0382252 , ..., -0.0265838 ,\n",
              "         -0.04089798, -0.07535113],\n",
              "        ...,\n",
              "        [ 0.01733961,  0.04744438,  0.03040692, ..., -0.04371268,\n",
              "         -0.03298618, -0.016105  ],\n",
              "        [ 0.12697254,  0.02248833, -0.06829878, ..., -0.13417591,\n",
              "          0.07579558, -0.08775631],\n",
              "        [ 0.08967746,  0.06921684, -0.08726386, ..., -0.06955528,\n",
              "          0.05841001, -0.15865606]], dtype=float32)]"
            ]
          },
          "metadata": {
            "tags": []
          },
          "execution_count": 62
        }
      ]
    },
    {
      "cell_type": "markdown",
      "metadata": {
        "id": "8i6XvRzsPKd_"
      },
      "source": [
        "Those are the weights learned by our embedding layers. "
      ]
    },
    {
      "cell_type": "code",
      "metadata": {
        "colab": {
          "base_uri": "https://localhost:8080/"
        },
        "id": "lq-6SYq9PaJA",
        "outputId": "59a935cd-f96b-4910-cd1c-dcf4829ada8c"
      },
      "source": [
        "# The shape should be same size as vocab and embedding_dim (output_dim of our embedding layer)\n",
        "embed_weights[0].shape "
      ],
      "execution_count": 63,
      "outputs": [
        {
          "output_type": "execute_result",
          "data": {
            "text/plain": [
              "(10000, 128)"
            ]
          },
          "metadata": {
            "tags": []
          },
          "execution_count": 63
        }
      ]
    },
    {
      "cell_type": "markdown",
      "metadata": {
        "id": "DiIR5NDZPlfx"
      },
      "source": [
        "From above we can understand that,\n",
        "1000 from every token is embedded into 128 dimension vector. \n",
        "\n",
        "Now we've got the embeddig matrix of our model has learned to represent our tokens, let's see how we visualize it. \n",
        "\n",
        "To do so, TensorFlow has a handy tool called projector: http://projector.tensorflow.org/_\n",
        "\n",
        "And TensorFlow also has a guide on Word Embeddings: https://www.tensorflow.org/tutorials/text/word_embeddings"
      ]
    },
    {
      "cell_type": "code",
      "metadata": {
        "id": "SCTJ0F4iPzZO"
      },
      "source": [
        "# Create embedding files (we got this from TensorFlow's word embeddings documentation)\n",
        "\n",
        "import io \n",
        "# Creating a vector and metadata file for our embeddings (tokens and words)\n",
        "out_v = io.open('vectors.tsv' , 'w' , encoding = 'utf-8')\n",
        "out_m = io.open('metadata.tsv' , 'w' , encoding = 'utf-8')\n",
        "\n",
        "# Loop through and write our values to the corresponding files we created above \n",
        "for index , word in enumerate(words_in_vocab):\n",
        "  if index == 0:\n",
        "    continue # Skip 0, its padding\n",
        "  \n",
        "  vec = embed_weights[0][index]\n",
        "  out_v.write('\\t'.join([str(x) for x in vec]) + \"\\n\")\n",
        "  out_m.write(word + '\\n')\n",
        "\n",
        "out_v.close()\n",
        "out_m.close()\n",
        "\n",
        "\n"
      ],
      "execution_count": 64,
      "outputs": []
    },
    {
      "cell_type": "code",
      "metadata": {
        "colab": {
          "base_uri": "https://localhost:8080/",
          "height": 17
        },
        "id": "V9qXC42Ykegy",
        "outputId": "f4266a90-40c7-4e7a-bbb1-4ddb6560aa5e"
      },
      "source": [
        "# Download files from Colab to upload to the projector \n",
        "try: \n",
        "  from google.colab import files \n",
        "  files.download('vectors.tsv')\n",
        "  files.download('metadata.tsv')\n",
        "except Exception: \n",
        "  pass  "
      ],
      "execution_count": 65,
      "outputs": [
        {
          "output_type": "display_data",
          "data": {
            "application/javascript": [
              "\n",
              "    async function download(id, filename, size) {\n",
              "      if (!google.colab.kernel.accessAllowed) {\n",
              "        return;\n",
              "      }\n",
              "      const div = document.createElement('div');\n",
              "      const label = document.createElement('label');\n",
              "      label.textContent = `Downloading \"${filename}\": `;\n",
              "      div.appendChild(label);\n",
              "      const progress = document.createElement('progress');\n",
              "      progress.max = size;\n",
              "      div.appendChild(progress);\n",
              "      document.body.appendChild(div);\n",
              "\n",
              "      const buffers = [];\n",
              "      let downloaded = 0;\n",
              "\n",
              "      const channel = await google.colab.kernel.comms.open(id);\n",
              "      // Send a message to notify the kernel that we're ready.\n",
              "      channel.send({})\n",
              "\n",
              "      for await (const message of channel.messages) {\n",
              "        // Send a message to notify the kernel that we're ready.\n",
              "        channel.send({})\n",
              "        if (message.buffers) {\n",
              "          for (const buffer of message.buffers) {\n",
              "            buffers.push(buffer);\n",
              "            downloaded += buffer.byteLength;\n",
              "            progress.value = downloaded;\n",
              "          }\n",
              "        }\n",
              "      }\n",
              "      const blob = new Blob(buffers, {type: 'application/binary'});\n",
              "      const a = document.createElement('a');\n",
              "      a.href = window.URL.createObjectURL(blob);\n",
              "      a.download = filename;\n",
              "      div.appendChild(a);\n",
              "      a.click();\n",
              "      div.remove();\n",
              "    }\n",
              "  "
            ],
            "text/plain": [
              "<IPython.core.display.Javascript object>"
            ]
          },
          "metadata": {
            "tags": []
          }
        },
        {
          "output_type": "display_data",
          "data": {
            "application/javascript": [
              "download(\"download_a302efe1-4973-45e6-bf8c-79cf00656115\", \"vectors.tsv\", 15092149)"
            ],
            "text/plain": [
              "<IPython.core.display.Javascript object>"
            ]
          },
          "metadata": {
            "tags": []
          }
        },
        {
          "output_type": "display_data",
          "data": {
            "application/javascript": [
              "\n",
              "    async function download(id, filename, size) {\n",
              "      if (!google.colab.kernel.accessAllowed) {\n",
              "        return;\n",
              "      }\n",
              "      const div = document.createElement('div');\n",
              "      const label = document.createElement('label');\n",
              "      label.textContent = `Downloading \"${filename}\": `;\n",
              "      div.appendChild(label);\n",
              "      const progress = document.createElement('progress');\n",
              "      progress.max = size;\n",
              "      div.appendChild(progress);\n",
              "      document.body.appendChild(div);\n",
              "\n",
              "      const buffers = [];\n",
              "      let downloaded = 0;\n",
              "\n",
              "      const channel = await google.colab.kernel.comms.open(id);\n",
              "      // Send a message to notify the kernel that we're ready.\n",
              "      channel.send({})\n",
              "\n",
              "      for await (const message of channel.messages) {\n",
              "        // Send a message to notify the kernel that we're ready.\n",
              "        channel.send({})\n",
              "        if (message.buffers) {\n",
              "          for (const buffer of message.buffers) {\n",
              "            buffers.push(buffer);\n",
              "            downloaded += buffer.byteLength;\n",
              "            progress.value = downloaded;\n",
              "          }\n",
              "        }\n",
              "      }\n",
              "      const blob = new Blob(buffers, {type: 'application/binary'});\n",
              "      const a = document.createElement('a');\n",
              "      a.href = window.URL.createObjectURL(blob);\n",
              "      a.download = filename;\n",
              "      div.appendChild(a);\n",
              "      a.click();\n",
              "      div.remove();\n",
              "    }\n",
              "  "
            ],
            "text/plain": [
              "<IPython.core.display.Javascript object>"
            ]
          },
          "metadata": {
            "tags": []
          }
        },
        {
          "output_type": "display_data",
          "data": {
            "application/javascript": [
              "download(\"download_8a68cfdd-fd48-4933-8a8a-046596f11307\", \"metadata.tsv\", 80388)"
            ],
            "text/plain": [
              "<IPython.core.display.Javascript object>"
            ]
          },
          "metadata": {
            "tags": []
          }
        }
      ]
    },
    {
      "cell_type": "markdown",
      "metadata": {
        "id": "vTxqHZd9lkNF"
      },
      "source": [
        "> Resources: To learn more about embedding, \n",
        "* Jay Alamars visualized word2vec: https://jalammar.github.io/illustrated-word2vec/\n",
        "* TensorFlow's Word Embedding guide: https://www.tensorflow.org/tutorials/text/word_embeddings"
      ]
    },
    {
      "cell_type": "markdown",
      "metadata": {
        "id": "Bdpnh9E2nd4G"
      },
      "source": [
        "## Recurrent Neural Networks (RNN's)\n",
        "\n",
        "RNN's are useful for sequence data.\n",
        "\n",
        "The premise of a recurrent neural network is to use the representation of previous inputs to aid the representation of the later input. \n",
        "\n",
        "Use information from the past to help you with the future (this is where the term recurrent comes from). In other words, take an input (X) and compute an output (y) based on all previous inputs.\n",
        "\n",
        "> Resources to look into for learning RNN's \n",
        "- [RNN MIT Intro to deeplearning](https://www.youtube.com/watch?v=qjrad0V0uJE&list=PLtBw6njQRU-rwp5__7C0oIVt26ZgjG9NI&index=2)\n",
        "- [Understanding LSTMS](https://colah.github.io/posts/2015-08-Understanding-LSTMs/)\n",
        "- [Unreasonable effectiveness of RNN](https://karpathy.github.io/2015/05/21/rnn-effectiveness/)\n",
        "\n"
      ]
    },
    {
      "cell_type": "markdown",
      "metadata": {
        "id": "BkquozhfpxZs"
      },
      "source": [
        "### Model 2: LSTM \n",
        "\n",
        "LSTM = long short term memory (one of the most popular LSTM cells). \n",
        "\n",
        "Our structure of a RNN typically looks like this: \n",
        "\n",
        "```\n",
        "Input (text) --> Tokenize --> Embedding --> Layers (RNNs/dense) --> Output (label probability)\n",
        "```\n"
      ]
    },
    {
      "cell_type": "code",
      "metadata": {
        "colab": {
          "base_uri": "https://localhost:8080/"
        },
        "id": "GngA_4cErDeK",
        "outputId": "7edf2f33-8ac2-4be3-b36e-b197cf30d774"
      },
      "source": [
        "# Create an LSTM model \n",
        "from tensorflow.keras import layers \n",
        "\n",
        "# Setting up inputs \n",
        "inputs = layers.Input(shape = (1,) , dtype = tf.string)\n",
        "\n",
        "# Converting text into numbers and creating a embedding \n",
        "x = text_vectorizer(inputs)\n",
        "x = embedding(x)\n",
        "print(f'After embedding: {x.shape}')\n",
        "\n",
        "# Our LSTM \n",
        "#x = layers.LSTM(64 , return_sequences=True)(x) \n",
        "# When you're stacking RNN cells together you need to set return_sequences = True\n",
        "#print(f'Output with return sequence True: {x.shape}') # Output with return sequence True\n",
        "x = layers.LSTM(64)(x)\n",
        "#print(f'Output with return sequence False: {x.shape}') # Output with return sequence False\n",
        "x = layers.Dense(64 , activation = 'relu')(x)\n",
        "\n",
        "# Initializing our outputs \n",
        "outputs = layers.Dense(1 , activation = 'sigmoid')(x)\n",
        "\n",
        "# Packing into a model \n",
        "model_2 = tf.keras.Model(inputs , outputs, name = 'model_2_LSTM')"
      ],
      "execution_count": 66,
      "outputs": [
        {
          "output_type": "stream",
          "text": [
            "After embedding: (None, 15, 128)\n"
          ],
          "name": "stdout"
        }
      ]
    },
    {
      "cell_type": "markdown",
      "metadata": {
        "id": "Wipkr65ct1DL"
      },
      "source": [
        "`inputs`: A 3D tensor with shape `[batch, timesteps, feature]`.\n",
        "\n",
        "- batch --> None by default\n",
        "- timestaps --> treat every sequence (word) as a timestamps. \n",
        "\n",
        "The default activation function for LSTM is **`tanh`**. \n",
        "\n",
        "[LSTM layer tensorflow](https://www.tensorflow.org/api_docs/python/tf/keras/layers/LSTM)"
      ]
    },
    {
      "cell_type": "code",
      "metadata": {
        "colab": {
          "base_uri": "https://localhost:8080/"
        },
        "id": "DuUXpE4JsUPS",
        "outputId": "29c2d3d6-5c2a-452d-d610-3b87f3d50a16"
      },
      "source": [
        "# Checking the model summary \n",
        "model_2.summary()"
      ],
      "execution_count": 67,
      "outputs": [
        {
          "output_type": "stream",
          "text": [
            "Model: \"model_2_LSTM\"\n",
            "_________________________________________________________________\n",
            "Layer (type)                 Output Shape              Param #   \n",
            "=================================================================\n",
            "input_3 (InputLayer)         [(None, 1)]               0         \n",
            "_________________________________________________________________\n",
            "text_vectorization_1 (TextVe (None, 15)                0         \n",
            "_________________________________________________________________\n",
            "embedding (Embedding)        (None, 15, 128)           1280000   \n",
            "_________________________________________________________________\n",
            "lstm (LSTM)                  (None, 64)                49408     \n",
            "_________________________________________________________________\n",
            "dense_2 (Dense)              (None, 64)                4160      \n",
            "_________________________________________________________________\n",
            "dense_3 (Dense)              (None, 1)                 65        \n",
            "=================================================================\n",
            "Total params: 1,333,633\n",
            "Trainable params: 1,333,633\n",
            "Non-trainable params: 0\n",
            "_________________________________________________________________\n"
          ],
          "name": "stdout"
        }
      ]
    },
    {
      "cell_type": "code",
      "metadata": {
        "id": "y4eEcO25vrU4"
      },
      "source": [
        "# Compile the model \n",
        "model_2.compile(loss = tf.keras.losses.BinaryCrossentropy()  , \n",
        "                optimizer = tf.keras.optimizers.Adam() , \n",
        "                metrics = ['accuracy'])"
      ],
      "execution_count": 68,
      "outputs": []
    },
    {
      "cell_type": "code",
      "metadata": {
        "colab": {
          "base_uri": "https://localhost:8080/"
        },
        "id": "MSicR9HFv0tq",
        "outputId": "6333ec3f-7c88-4753-b587-85aa3fece3f4"
      },
      "source": [
        "# Fit the model \n",
        "model_2_history = model_2.fit(train_sentences , \n",
        "                              train_labels , \n",
        "                              validation_data = (val_sentences , val_labels) , \n",
        "                              epochs = 5 , \n",
        "                              callbacks = [create_tensorboard_callback(dir_name= SAVE_DIR , \n",
        "                                                                       experiment_name = 'model_2_LSTM')])"
      ],
      "execution_count": 69,
      "outputs": [
        {
          "output_type": "stream",
          "text": [
            "Saving TensorBoard log files to: model_logs/model_2_LSTM/20210518-091330\n",
            "Epoch 1/5\n",
            "215/215 [==============================] - 8s 28ms/step - loss: 0.2758 - accuracy: 0.9064 - val_loss: 0.6332 - val_accuracy: 0.7861\n",
            "Epoch 2/5\n",
            "215/215 [==============================] - 5s 25ms/step - loss: 0.1239 - accuracy: 0.9525 - val_loss: 0.5944 - val_accuracy: 0.7808\n",
            "Epoch 3/5\n",
            "215/215 [==============================] - 5s 25ms/step - loss: 0.0972 - accuracy: 0.9626 - val_loss: 0.6894 - val_accuracy: 0.7690\n",
            "Epoch 4/5\n",
            "215/215 [==============================] - 5s 24ms/step - loss: 0.0819 - accuracy: 0.9689 - val_loss: 0.9068 - val_accuracy: 0.7782\n",
            "Epoch 5/5\n",
            "215/215 [==============================] - 5s 25ms/step - loss: 0.0634 - accuracy: 0.9731 - val_loss: 0.9498 - val_accuracy: 0.7756\n"
          ],
          "name": "stdout"
        }
      ]
    },
    {
      "cell_type": "code",
      "metadata": {
        "colab": {
          "base_uri": "https://localhost:8080/"
        },
        "id": "X8XsxnUowL8J",
        "outputId": "b399b8b1-cb93-442a-ae2f-db208ece0d42"
      },
      "source": [
        "# Make predictions with LSTM model \n",
        "model_2_pred_probs = model_2.predict(val_sentences)\n",
        "model_2_pred_probs[:10]"
      ],
      "execution_count": 70,
      "outputs": [
        {
          "output_type": "execute_result",
          "data": {
            "text/plain": [
              "array([[3.2148063e-03],\n",
              "       [5.0350046e-01],\n",
              "       [9.9640083e-01],\n",
              "       [1.9499186e-01],\n",
              "       [6.9739646e-05],\n",
              "       [9.9370110e-01],\n",
              "       [3.3258438e-02],\n",
              "       [9.9992311e-01],\n",
              "       [9.9981731e-01],\n",
              "       [4.8621586e-01]], dtype=float32)"
            ]
          },
          "metadata": {
            "tags": []
          },
          "execution_count": 70
        }
      ]
    },
    {
      "cell_type": "code",
      "metadata": {
        "colab": {
          "base_uri": "https://localhost:8080/"
        },
        "id": "YU_SS56cwYf2",
        "outputId": "62575ed8-fb68-403b-9c23-cfacd6952f9c"
      },
      "source": [
        "# Convert model 2 pred probs to labels \n",
        "model_2_preds = tf.squeeze(tf.round(model_2_pred_probs))\n",
        "model_2_preds[:10]"
      ],
      "execution_count": 71,
      "outputs": [
        {
          "output_type": "execute_result",
          "data": {
            "text/plain": [
              "<tf.Tensor: shape=(10,), dtype=float32, numpy=array([0., 1., 1., 0., 0., 1., 0., 1., 1., 0.], dtype=float32)>"
            ]
          },
          "metadata": {
            "tags": []
          },
          "execution_count": 71
        }
      ]
    },
    {
      "cell_type": "code",
      "metadata": {
        "colab": {
          "base_uri": "https://localhost:8080/"
        },
        "id": "MYKB2q3EwlE0",
        "outputId": "e3592594-88a0-42a2-f197-b60456fbc671"
      },
      "source": [
        "# Calculate model 2 results \n",
        "model_2_results = classification_evaluation_metrics(val_labels , \n",
        "                                                    model_2_preds)\n",
        "model_2_results"
      ],
      "execution_count": 72,
      "outputs": [
        {
          "output_type": "execute_result",
          "data": {
            "text/plain": [
              "{'Accuracy:': 77.55905511811024,\n",
              " 'F1_Score: ': 0.7210440456769984,\n",
              " 'Precision: ': 0.8339622641509434,\n",
              " 'Recall: ': 0.6350574712643678}"
            ]
          },
          "metadata": {
            "tags": []
          },
          "execution_count": 72
        }
      ]
    },
    {
      "cell_type": "code",
      "metadata": {
        "colab": {
          "base_uri": "https://localhost:8080/"
        },
        "id": "Z3_93CaCwueq",
        "outputId": "27078fac-2ad9-444b-fcf6-923a58353c36"
      },
      "source": [
        "evaluation_dict"
      ],
      "execution_count": 73,
      "outputs": [
        {
          "output_type": "execute_result",
          "data": {
            "text/plain": [
              "{'Accuracy:': 79.26509186351706,\n",
              " 'F1_Score: ': 0.734006734006734,\n",
              " 'Precision: ': 0.8861788617886179,\n",
              " 'Recall: ': 0.6264367816091954}"
            ]
          },
          "metadata": {
            "tags": []
          },
          "execution_count": 73
        }
      ]
    },
    {
      "cell_type": "markdown",
      "metadata": {
        "id": "coDgGMK_xASa"
      },
      "source": [
        "### Model 3: GRU Model \n",
        "\n",
        "The GRU cell has similar features to an LSTM cell but has less parameters. \n",
        "\n",
        "[Understanding GRU networks](https://towardsdatascience.com/understanding-gru-networks-2ef37df6c9be)\n",
        "\n",
        "Previously we used a LSTM layers to build our RNN model now we will use a GRU layer also called Gater Recurrent Unit to build our model. "
      ]
    },
    {
      "cell_type": "code",
      "metadata": {
        "colab": {
          "base_uri": "https://localhost:8080/"
        },
        "id": "OWAGogQyw59x",
        "outputId": "53254963-b873-4673-abc9-20aece72a4ce"
      },
      "source": [
        "# Create a GRU model \n",
        "inputs = layers.Input(shape = (1,) , dtype = tf.string)\n",
        "\n",
        "# Converting text into numbers and performing word embeddings. \n",
        "x = text_vectorizer(inputs)\n",
        "x = embedding(x)\n",
        "print(x.shape)\n",
        "\n",
        "# Building our GRU model \n",
        "# If you want to stack recurrent layers on top of each other, you need return_sequences = True\n",
        "x = layers.GRU(64 , activation = 'tanh' , return_sequences=True)(x)\n",
        "print(x.shape)\n",
        "x = layers.LSTM(44 , return_sequences= True)(x) \n",
        "print(x.shape)\n",
        "x = layers.GRU(100)(x)\n",
        "print(x.shape)\n",
        "x = layers.Dense(64 , activation='relu')(x)\n",
        "\n",
        "# Global Average Pooling layer\n",
        "#x = layers.GlobalAveragePooling1D()(x)\n",
        "\n",
        "# Output layer \n",
        "outputs = layers.Dense(1 , activation= 'sigmoid')(x)\n",
        "\n",
        "# Packing into a model \n",
        "test_model_3 = tf.keras.Model(inputs , outputs)"
      ],
      "execution_count": 88,
      "outputs": [
        {
          "output_type": "stream",
          "text": [
            "(None, 15, 128)\n",
            "(None, 15, 64)\n",
            "(None, 15, 44)\n",
            "(None, 100)\n"
          ],
          "name": "stdout"
        }
      ]
    },
    {
      "cell_type": "code",
      "metadata": {
        "colab": {
          "base_uri": "https://localhost:8080/"
        },
        "id": "h5DtxMZBxqyc",
        "outputId": "1c22919d-9d0e-40f3-a227-9c2e4015ba82"
      },
      "source": [
        "# Summary of the mdoel \n",
        "test_model_3.summary()"
      ],
      "execution_count": 89,
      "outputs": [
        {
          "output_type": "stream",
          "text": [
            "Model: \"model_5\"\n",
            "_________________________________________________________________\n",
            "Layer (type)                 Output Shape              Param #   \n",
            "=================================================================\n",
            "input_17 (InputLayer)        [(None, 1)]               0         \n",
            "_________________________________________________________________\n",
            "text_vectorization_1 (TextVe (None, 15)                0         \n",
            "_________________________________________________________________\n",
            "embedding (Embedding)        (None, 15, 128)           1280000   \n",
            "_________________________________________________________________\n",
            "gru_23 (GRU)                 (None, 15, 64)            37248     \n",
            "_________________________________________________________________\n",
            "lstm_11 (LSTM)               (None, 15, 44)            19184     \n",
            "_________________________________________________________________\n",
            "gru_24 (GRU)                 (None, 100)               43800     \n",
            "_________________________________________________________________\n",
            "dense_16 (Dense)             (None, 64)                6464      \n",
            "_________________________________________________________________\n",
            "dense_17 (Dense)             (None, 1)                 65        \n",
            "=================================================================\n",
            "Total params: 1,386,761\n",
            "Trainable params: 1,386,761\n",
            "Non-trainable params: 0\n",
            "_________________________________________________________________\n"
          ],
          "name": "stdout"
        }
      ]
    },
    {
      "cell_type": "markdown",
      "metadata": {
        "id": "6Pt_yjyQzz6f"
      },
      "source": [
        "Alright we did some tinkering up there, now let's create a model 3 with only one GRU layer"
      ]
    },
    {
      "cell_type": "code",
      "metadata": {
        "id": "UOSurDzt0azg"
      },
      "source": [
        "# Creating a GRU model \n",
        "from tensorflow.keras import layers \n",
        "\n",
        "# Input layer \n",
        "inputs = layers.Input(shape = (1,) , dtype = tf.string)\n",
        "\n",
        "# Converting text into numbers and perform word embeddings \n",
        "x = text_vectorizer(inputs)\n",
        "x = embedding(x)\n",
        "\n",
        "# Our GRU layer \n",
        "#x = layers.GRU(64 , activation= 'tanh' , return_sequences= True)(x)\n",
        "x = layers.GRU(64)(x)\n",
        "\n",
        "# Global Average Pooling \n",
        "#x = layers.GlobalAveragePooling1D()(x)\n",
        "\n",
        "# Output layer \n",
        "outputs = layers.Dense(1 , activation='sigmoid')(x)\n",
        "\n",
        "# Packing into a model\n",
        "model_3 = tf.keras.Model(inputs , outputs) \n"
      ],
      "execution_count": 93,
      "outputs": []
    },
    {
      "cell_type": "code",
      "metadata": {
        "colab": {
          "base_uri": "https://localhost:8080/"
        },
        "id": "hXbsMyFc1SDY",
        "outputId": "35fb9608-59fb-4807-e630-c11c70dbcd05"
      },
      "source": [
        "# Model summary \n",
        "model_3.summary()"
      ],
      "execution_count": 94,
      "outputs": [
        {
          "output_type": "stream",
          "text": [
            "Model: \"model_7\"\n",
            "_________________________________________________________________\n",
            "Layer (type)                 Output Shape              Param #   \n",
            "=================================================================\n",
            "input_20 (InputLayer)        [(None, 1)]               0         \n",
            "_________________________________________________________________\n",
            "text_vectorization_1 (TextVe (None, 15)                0         \n",
            "_________________________________________________________________\n",
            "embedding (Embedding)        (None, 15, 128)           1280000   \n",
            "_________________________________________________________________\n",
            "gru_27 (GRU)                 (None, 64)                37248     \n",
            "_________________________________________________________________\n",
            "dense_20 (Dense)             (None, 1)                 65        \n",
            "=================================================================\n",
            "Total params: 1,317,313\n",
            "Trainable params: 1,317,313\n",
            "Non-trainable params: 0\n",
            "_________________________________________________________________\n"
          ],
          "name": "stdout"
        }
      ]
    },
    {
      "cell_type": "code",
      "metadata": {
        "id": "eEr0sTXe1WcJ"
      },
      "source": [
        "# Compile the model \n",
        "model_3.compile(loss = tf.keras.losses.BinaryCrossentropy() , \n",
        "                optimizer = tf.keras.optimizers.Adam() , \n",
        "                metrics = ['accuracy']) "
      ],
      "execution_count": 95,
      "outputs": []
    },
    {
      "cell_type": "code",
      "metadata": {
        "colab": {
          "base_uri": "https://localhost:8080/"
        },
        "id": "UufQ_01E2Mqm",
        "outputId": "bb668995-4706-403d-e185-4fbabb1ec0de"
      },
      "source": [
        "# Fit the model \n",
        "model_3_history = model_3.fit(train_sentences , \n",
        "                              train_labels , \n",
        "                              validation_data = (val_sentences , val_labels), \n",
        "                              epochs = 5 , \n",
        "                              callbacks = [create_tensorboard_callback(dir_name= SAVE_DIR , \n",
        "                                                                       experiment_name = 'model_3_GRU')]) \n"
      ],
      "execution_count": 96,
      "outputs": [
        {
          "output_type": "stream",
          "text": [
            "Saving TensorBoard log files to: model_logs/model_3_GRU/20210518-094141\n",
            "Epoch 1/5\n",
            "215/215 [==============================] - 8s 27ms/step - loss: 0.2588 - accuracy: 0.8848 - val_loss: 0.8445 - val_accuracy: 0.7651\n",
            "Epoch 2/5\n",
            "215/215 [==============================] - 5s 24ms/step - loss: 0.0714 - accuracy: 0.9733 - val_loss: 0.8751 - val_accuracy: 0.7782\n",
            "Epoch 3/5\n",
            "215/215 [==============================] - 5s 24ms/step - loss: 0.0652 - accuracy: 0.9759 - val_loss: 0.9552 - val_accuracy: 0.7717\n",
            "Epoch 4/5\n",
            "215/215 [==============================] - 5s 24ms/step - loss: 0.0532 - accuracy: 0.9748 - val_loss: 1.0666 - val_accuracy: 0.7625\n",
            "Epoch 5/5\n",
            "215/215 [==============================] - 5s 24ms/step - loss: 0.0441 - accuracy: 0.9789 - val_loss: 1.1840 - val_accuracy: 0.7769\n"
          ],
          "name": "stdout"
        }
      ]
    },
    {
      "cell_type": "code",
      "metadata": {
        "colab": {
          "base_uri": "https://localhost:8080/"
        },
        "id": "WCNpbclc2jeg",
        "outputId": "46c425ec-acf9-4d03-851f-b35b7e681916"
      },
      "source": [
        "# Making predictions on the val set \n",
        "model_3_pred_probs = model_3.predict(val_sentences) \n",
        "model_3_pred_probs[:10]"
      ],
      "execution_count": 98,
      "outputs": [
        {
          "output_type": "execute_result",
          "data": {
            "text/plain": [
              "array([[5.0050020e-04],\n",
              "       [7.0956063e-01],\n",
              "       [9.9981964e-01],\n",
              "       [4.9071342e-02],\n",
              "       [9.2560666e-05],\n",
              "       [9.9982405e-01],\n",
              "       [8.6060357e-01],\n",
              "       [9.9995792e-01],\n",
              "       [9.9992919e-01],\n",
              "       [8.5000777e-01]], dtype=float32)"
            ]
          },
          "metadata": {
            "tags": []
          },
          "execution_count": 98
        }
      ]
    },
    {
      "cell_type": "code",
      "metadata": {
        "colab": {
          "base_uri": "https://localhost:8080/"
        },
        "id": "KSiTagcC2x_R",
        "outputId": "5b934aac-5d00-461e-bf79-69039f9fca8a"
      },
      "source": [
        "# Convert model 3 pred probs to labels \n",
        "model_3_preds = tf.squeeze(tf.round(model_3_pred_probs))\n",
        "model_3_preds[:10]"
      ],
      "execution_count": 99,
      "outputs": [
        {
          "output_type": "execute_result",
          "data": {
            "text/plain": [
              "<tf.Tensor: shape=(10,), dtype=float32, numpy=array([0., 1., 1., 0., 0., 1., 1., 1., 1., 1.], dtype=float32)>"
            ]
          },
          "metadata": {
            "tags": []
          },
          "execution_count": 99
        }
      ]
    },
    {
      "cell_type": "code",
      "metadata": {
        "id": "U7pWpMX329XX"
      },
      "source": [
        "# Using our evalution metrics dictionary \n",
        "model_3_results = classification_evaluation_metrics(val_labels , \n",
        "                                                    model_3_preds)"
      ],
      "execution_count": 100,
      "outputs": []
    },
    {
      "cell_type": "code",
      "metadata": {
        "colab": {
          "base_uri": "https://localhost:8080/"
        },
        "id": "VzQfjhah3Ika",
        "outputId": "c84ce56b-711e-4dc8-d88d-39965c336614"
      },
      "source": [
        "model_3_results"
      ],
      "execution_count": 101,
      "outputs": [
        {
          "output_type": "execute_result",
          "data": {
            "text/plain": [
              "{'Accuracy:': 77.69028871391076,\n",
              " 'F1_Score: ': 0.736842105263158,\n",
              " 'Precision: ': 0.7986577181208053,\n",
              " 'Recall: ': 0.6839080459770115}"
            ]
          },
          "metadata": {
            "tags": []
          },
          "execution_count": 101
        }
      ]
    },
    {
      "cell_type": "markdown",
      "metadata": {
        "id": "gJ0ZRbgi3KdP"
      },
      "source": [
        "### Model 4: Bidirectional RNN Model \n",
        "\n",
        "Normal RNN's go from left to right (just like you'd read an English sentence) however, a bidirectional RNN goes from right to left as well as left to right. \n",
        "\n",
        "A birdirectional wrapper works for any RNN cells. "
      ]
    },
    {
      "cell_type": "markdown",
      "metadata": {
        "id": "Jx4xvYuz4wAT"
      },
      "source": [
        "Let's give a try before watching the video.  "
      ]
    },
    {
      "cell_type": "code",
      "metadata": {
        "colab": {
          "base_uri": "https://localhost:8080/"
        },
        "id": "eDaAX9OE4242",
        "outputId": "ae5e7d68-daf2-45f3-ea33-12e90e968d52"
      },
      "source": [
        "# Creating a Bidirectional RNN model \n",
        "from tensorflow.keras import layers\n",
        "# Input layer \n",
        "inputs = layers.Input(shape = (1, ) , dtype = tf.string)\n",
        "\n",
        "# Convert text into numbers and perform word embeddings \n",
        "x = text_vectorizer(inputs)\n",
        "x = embedding(x)\n",
        "print(x.shape)\n",
        "\n",
        "# Adding a Bidirectional RNN layer \n",
        "x = layers.Bidirectional(layers.LSTM(64 , return_sequences=True))(x)\n",
        "print(x.shape)\n",
        "\n",
        "x = layers.Bidirectional(layers.GRU(64))(x)\n",
        "print(x.shape)\n",
        "\n",
        "# Output layer \n",
        "outputs = layers.Dense(1 , activation= 'sigmoid')(x)\n",
        "print(outputs.shape)\n",
        "\n",
        "# Packing into a model \n",
        "test_model_4 = tf.keras.Model(inputs , outputs)"
      ],
      "execution_count": 107,
      "outputs": [
        {
          "output_type": "stream",
          "text": [
            "(None, 15, 128)\n",
            "(None, 15, 128)\n",
            "(None, 128)\n",
            "(None, 1)\n"
          ],
          "name": "stdout"
        }
      ]
    },
    {
      "cell_type": "markdown",
      "metadata": {
        "id": "BVaZDpmN7IJG"
      },
      "source": [
        "Here we have added `return_sequence = True` because we want to stack another RNN layer with our current RNN layer. "
      ]
    },
    {
      "cell_type": "code",
      "metadata": {
        "colab": {
          "base_uri": "https://localhost:8080/"
        },
        "id": "zllZMbRm5ljJ",
        "outputId": "ed36c916-1658-4bb2-fe2a-3c3af658c81a"
      },
      "source": [
        "# Model summary \n",
        "test_model_4.summary()"
      ],
      "execution_count": 108,
      "outputs": [
        {
          "output_type": "stream",
          "text": [
            "Model: \"model_11\"\n",
            "_________________________________________________________________\n",
            "Layer (type)                 Output Shape              Param #   \n",
            "=================================================================\n",
            "input_25 (InputLayer)        [(None, 1)]               0         \n",
            "_________________________________________________________________\n",
            "text_vectorization_1 (TextVe (None, 15)                0         \n",
            "_________________________________________________________________\n",
            "embedding (Embedding)        (None, 15, 128)           1280000   \n",
            "_________________________________________________________________\n",
            "bidirectional_5 (Bidirection (None, 15, 128)           98816     \n",
            "_________________________________________________________________\n",
            "bidirectional_6 (Bidirection (None, 128)               74496     \n",
            "_________________________________________________________________\n",
            "dense_24 (Dense)             (None, 1)                 129       \n",
            "=================================================================\n",
            "Total params: 1,453,441\n",
            "Trainable params: 1,453,441\n",
            "Non-trainable params: 0\n",
            "_________________________________________________________________\n"
          ],
          "name": "stdout"
        }
      ]
    },
    {
      "cell_type": "markdown",
      "metadata": {
        "id": "2UtEclC552Ej"
      },
      "source": [
        "Following the video \n"
      ]
    },
    {
      "cell_type": "code",
      "metadata": {
        "colab": {
          "base_uri": "https://localhost:8080/"
        },
        "id": "RNsJRC5M9yBN",
        "outputId": "797737b3-b7a3-4b60-eef8-946dd93f7359"
      },
      "source": [
        "# Creating a Bidirectional RNN model \n",
        "from tensorflow.keras import layers\n",
        "# Input layer \n",
        "inputs = layers.Input(shape = (1, ) , dtype = tf.string)\n",
        "\n",
        "# Convert text into numbers and perform word embeddings \n",
        "x = text_vectorizer(inputs)\n",
        "x = embedding(x)\n",
        "print(x.shape)\n",
        "\n",
        "# Adding a Bidirectional RNN layer \n",
        "x = layers.Bidirectional(layers.LSTM(64 , return_sequences=True))(x)\n",
        "print(x.shape)\n",
        "x = layers.Bidirectional(layers.GRU(64))(x)\n",
        "print(x.shape)\n",
        "\n",
        "# Output layer \n",
        "outputs = layers.Dense(1 , activation= 'sigmoid')(x)\n",
        "print(outputs.shape)\n",
        "\n",
        "# Packing into a model \n",
        "model_4 = tf.keras.Model(inputs , outputs)"
      ],
      "execution_count": 109,
      "outputs": [
        {
          "output_type": "stream",
          "text": [
            "(None, 15, 128)\n",
            "(None, 15, 128)\n",
            "(None, 128)\n",
            "(None, 1)\n"
          ],
          "name": "stdout"
        }
      ]
    },
    {
      "cell_type": "code",
      "metadata": {
        "colab": {
          "base_uri": "https://localhost:8080/"
        },
        "id": "VfJFWjwi96VV",
        "outputId": "aa91e804-d7cd-4293-b73a-4efe10964a20"
      },
      "source": [
        "# Model Summary \n",
        "model_4.summary()"
      ],
      "execution_count": 110,
      "outputs": [
        {
          "output_type": "stream",
          "text": [
            "Model: \"model_12\"\n",
            "_________________________________________________________________\n",
            "Layer (type)                 Output Shape              Param #   \n",
            "=================================================================\n",
            "input_26 (InputLayer)        [(None, 1)]               0         \n",
            "_________________________________________________________________\n",
            "text_vectorization_1 (TextVe (None, 15)                0         \n",
            "_________________________________________________________________\n",
            "embedding (Embedding)        (None, 15, 128)           1280000   \n",
            "_________________________________________________________________\n",
            "bidirectional_7 (Bidirection (None, 15, 128)           98816     \n",
            "_________________________________________________________________\n",
            "bidirectional_8 (Bidirection (None, 128)               74496     \n",
            "_________________________________________________________________\n",
            "dense_25 (Dense)             (None, 1)                 129       \n",
            "=================================================================\n",
            "Total params: 1,453,441\n",
            "Trainable params: 1,453,441\n",
            "Non-trainable params: 0\n",
            "_________________________________________________________________\n"
          ],
          "name": "stdout"
        }
      ]
    },
    {
      "cell_type": "markdown",
      "metadata": {
        "id": "xokR6cw199e9"
      },
      "source": [
        "Bidirectional wrapper doubles the units so the representation will go from **64 to 128**. \n",
        "\n",
        "Bidirectional --> representation gets doubled"
      ]
    },
    {
      "cell_type": "code",
      "metadata": {
        "id": "Gammsj0F-g-D"
      },
      "source": [
        "# Compile the model \n",
        "model_4.compile(loss = tf.keras.losses.BinaryCrossentropy() , \n",
        "                optimizer = tf.keras.optimizers.Adam() , \n",
        "                metrics = ['accuracy'])"
      ],
      "execution_count": 111,
      "outputs": []
    },
    {
      "cell_type": "code",
      "metadata": {
        "colab": {
          "base_uri": "https://localhost:8080/"
        },
        "id": "HB0-GE-j-vIm",
        "outputId": "69f8912c-20a2-4e6d-8d70-0da96bbf6618"
      },
      "source": [
        "# Fit the model \n",
        "model_4_history = model_4.fit(train_sentences , \n",
        "                              train_labels , \n",
        "                              validation_data = (val_sentences , val_labels) , \n",
        "                              epochs = 5 , \n",
        "                              callbacks = [create_tensorboard_callback(dir_name= SAVE_DIR , \n",
        "                                                                       experiment_name = 'model_4_bidirectional')])\n"
      ],
      "execution_count": 112,
      "outputs": [
        {
          "output_type": "stream",
          "text": [
            "Saving TensorBoard log files to: model_logs/model_4_bidirectional/20210518-101850\n",
            "Epoch 1/5\n",
            "215/215 [==============================] - 24s 76ms/step - loss: 0.1676 - accuracy: 0.9315 - val_loss: 1.0299 - val_accuracy: 0.7651\n",
            "Epoch 2/5\n",
            "215/215 [==============================] - 14s 66ms/step - loss: 0.0484 - accuracy: 0.9796 - val_loss: 1.2927 - val_accuracy: 0.7690\n",
            "Epoch 3/5\n",
            "215/215 [==============================] - 14s 67ms/step - loss: 0.0406 - accuracy: 0.9797 - val_loss: 0.9780 - val_accuracy: 0.7703\n",
            "Epoch 4/5\n",
            "215/215 [==============================] - 14s 66ms/step - loss: 0.0458 - accuracy: 0.9775 - val_loss: 1.2801 - val_accuracy: 0.7651\n",
            "Epoch 5/5\n",
            "215/215 [==============================] - 14s 65ms/step - loss: 0.0354 - accuracy: 0.9846 - val_loss: 1.1108 - val_accuracy: 0.7533\n"
          ],
          "name": "stdout"
        }
      ]
    },
    {
      "cell_type": "markdown",
      "metadata": {
        "id": "0Dl7eBhm_W32"
      },
      "source": [
        "Usually adding a bidirectional to a sequences increase the trainin time. "
      ]
    },
    {
      "cell_type": "code",
      "metadata": {
        "colab": {
          "base_uri": "https://localhost:8080/"
        },
        "id": "w2qQW5XT_DjD",
        "outputId": "d9c46ef7-6f4f-4f0c-b51d-5b9f40628355"
      },
      "source": [
        "# Make predictions without our model 4 \n",
        "model_4_pred_probs = model_4.predict(val_sentences)\n",
        "model_4_pred_probs[:10]"
      ],
      "execution_count": 114,
      "outputs": [
        {
          "output_type": "execute_result",
          "data": {
            "text/plain": [
              "array([[3.4069717e-03],\n",
              "       [6.8333286e-01],\n",
              "       [9.9853075e-01],\n",
              "       [2.6836705e-01],\n",
              "       [1.5428662e-04],\n",
              "       [9.9934649e-01],\n",
              "       [6.0255301e-01],\n",
              "       [9.9988377e-01],\n",
              "       [9.9950689e-01],\n",
              "       [9.7432613e-01]], dtype=float32)"
            ]
          },
          "metadata": {
            "tags": []
          },
          "execution_count": 114
        }
      ]
    },
    {
      "cell_type": "code",
      "metadata": {
        "colab": {
          "base_uri": "https://localhost:8080/"
        },
        "id": "2zOOO2mv_TAO",
        "outputId": "1bc42841-4561-4f68-9d78-fe07f5904e6f"
      },
      "source": [
        "# Convert pred probs to labels\n",
        "model_4_preds = tf.squeeze(tf.round(model_4_pred_probs))\n",
        "model_4_preds[:10]"
      ],
      "execution_count": 115,
      "outputs": [
        {
          "output_type": "execute_result",
          "data": {
            "text/plain": [
              "<tf.Tensor: shape=(10,), dtype=float32, numpy=array([0., 1., 1., 0., 0., 1., 1., 1., 1., 1.], dtype=float32)>"
            ]
          },
          "metadata": {
            "tags": []
          },
          "execution_count": 115
        }
      ]
    },
    {
      "cell_type": "code",
      "metadata": {
        "colab": {
          "base_uri": "https://localhost:8080/"
        },
        "id": "VmfL6HHp_meF",
        "outputId": "2b6b6c7a-2d1a-403d-dc6b-eed643db8e3d"
      },
      "source": [
        "# Calculate the results of our bidirectional model \n",
        "model_4_results = classification_evaluation_metrics(val_labels , \n",
        "                                                    model_4_preds)\n",
        "model_4_results"
      ],
      "execution_count": 116,
      "outputs": [
        {
          "output_type": "execute_result",
          "data": {
            "text/plain": [
              "{'Accuracy:': 75.32808398950131,\n",
              " 'F1_Score: ': 0.7227138643067846,\n",
              " 'Precision: ': 0.7424242424242424,\n",
              " 'Recall: ': 0.7040229885057471}"
            ]
          },
          "metadata": {
            "tags": []
          },
          "execution_count": 116
        }
      ]
    },
    {
      "cell_type": "markdown",
      "metadata": {
        "id": "wkujnupg_wd-"
      },
      "source": [
        "Hmm.. Our bidirectional model is performing worse than our uni-directional models. \n",
        "\n",
        "We should emphasize from this that not all experiments will go well. "
      ]
    }
  ]
}
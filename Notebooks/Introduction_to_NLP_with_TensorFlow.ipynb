{
  "nbformat": 4,
  "nbformat_minor": 0,
  "metadata": {
    "colab": {
      "name": "Introduction_to_NLP_with_TensorFlow.ipynb",
      "provenance": [],
      "collapsed_sections": [],
      "authorship_tag": "ABX9TyMZpAQdIgRMO0ikuoBIpo/A",
      "include_colab_link": true
    },
    "kernelspec": {
      "name": "python3",
      "display_name": "Python 3"
    },
    "language_info": {
      "name": "python"
    },
    "accelerator": "GPU"
  },
  "cells": [
    {
      "cell_type": "markdown",
      "metadata": {
        "id": "view-in-github",
        "colab_type": "text"
      },
      "source": [
        "<a href=\"https://colab.research.google.com/github/ashikshafi08/Learning_Tensorflow/blob/main/Notebooks/Introduction_to_NLP_with_TensorFlow.ipynb\" target=\"_parent\"><img src=\"https://colab.research.google.com/assets/colab-badge.svg\" alt=\"Open In Colab\"/></a>"
      ]
    },
    {
      "cell_type": "code",
      "metadata": {
        "colab": {
          "base_uri": "https://localhost:8080/"
        },
        "id": "P86230zG-74n",
        "outputId": "0444961e-58e8-4e7d-ef80-4f3bd318dfcb"
      },
      "source": [
        "# Checking what GPU are we running \n",
        "!nvidia-smi"
      ],
      "execution_count": 1,
      "outputs": [
        {
          "output_type": "stream",
          "text": [
            "Thu May 27 11:11:07 2021       \n",
            "+-----------------------------------------------------------------------------+\n",
            "| NVIDIA-SMI 465.19.01    Driver Version: 460.32.03    CUDA Version: 11.2     |\n",
            "|-------------------------------+----------------------+----------------------+\n",
            "| GPU  Name        Persistence-M| Bus-Id        Disp.A | Volatile Uncorr. ECC |\n",
            "| Fan  Temp  Perf  Pwr:Usage/Cap|         Memory-Usage | GPU-Util  Compute M. |\n",
            "|                               |                      |               MIG M. |\n",
            "|===============================+======================+======================|\n",
            "|   0  Tesla T4            Off  | 00000000:00:04.0 Off |                    0 |\n",
            "| N/A   42C    P8    10W /  70W |      0MiB / 15109MiB |      0%      Default |\n",
            "|                               |                      |                  N/A |\n",
            "+-------------------------------+----------------------+----------------------+\n",
            "                                                                               \n",
            "+-----------------------------------------------------------------------------+\n",
            "| Processes:                                                                  |\n",
            "|  GPU   GI   CI        PID   Type   Process name                  GPU Memory |\n",
            "|        ID   ID                                                   Usage      |\n",
            "|=============================================================================|\n",
            "|  No running processes found                                                 |\n",
            "+-----------------------------------------------------------------------------+\n"
          ],
          "name": "stdout"
        }
      ]
    },
    {
      "cell_type": "code",
      "metadata": {
        "id": "40J-qcUfUquQ"
      },
      "source": [
        "import tensorflow as tf"
      ],
      "execution_count": 2,
      "outputs": []
    },
    {
      "cell_type": "code",
      "metadata": {
        "id": "zZLeskK5UCWj",
        "outputId": "10785a0b-d432-4525-d5cf-26a1696c5eb1",
        "colab": {
          "base_uri": "https://localhost:8080/"
        }
      },
      "source": [
        "from tensorflow.keras import mixed_precision\n",
        "mixed_precision.set_global_policy(policy = 'mixed_float16')"
      ],
      "execution_count": 3,
      "outputs": [
        {
          "output_type": "stream",
          "text": [
            "INFO:tensorflow:Mixed precision compatibility check (mixed_float16): OK\n",
            "Your GPU will likely run quickly with dtype policy mixed_float16 as it has compute capability of at least 7.0. Your GPU: Tesla T4, compute capability 7.5\n"
          ],
          "name": "stdout"
        }
      ]
    },
    {
      "cell_type": "code",
      "metadata": {
        "id": "ORYaf-CkUgzD",
        "outputId": "7c8f2789-480b-4b3f-e021-c78aad0aea36",
        "colab": {
          "base_uri": "https://localhost:8080/"
        }
      },
      "source": [
        "print(tf.__version__)"
      ],
      "execution_count": 4,
      "outputs": [
        {
          "output_type": "stream",
          "text": [
            "2.5.0\n"
          ],
          "name": "stdout"
        }
      ]
    },
    {
      "cell_type": "markdown",
      "metadata": {
        "id": "GocVVrp_snn6"
      },
      "source": [
        "### Getting the helper functions \n"
      ]
    },
    {
      "cell_type": "code",
      "metadata": {
        "colab": {
          "base_uri": "https://localhost:8080/"
        },
        "id": "Uo8KywfBuftm",
        "outputId": "9ad39ddf-60fc-4b0d-91ee-462fd5d6e0e4"
      },
      "source": [
        "# Download helper functions script\n",
        "!wget https://raw.githubusercontent.com/mrdbourke/tensorflow-deep-learning/main/extras/helper_functions.py"
      ],
      "execution_count": 5,
      "outputs": [
        {
          "output_type": "stream",
          "text": [
            "--2021-05-27 11:11:14--  https://raw.githubusercontent.com/mrdbourke/tensorflow-deep-learning/main/extras/helper_functions.py\n",
            "Resolving raw.githubusercontent.com (raw.githubusercontent.com)... 185.199.108.133, 185.199.109.133, 185.199.110.133, ...\n",
            "Connecting to raw.githubusercontent.com (raw.githubusercontent.com)|185.199.108.133|:443... connected.\n",
            "HTTP request sent, awaiting response... 200 OK\n",
            "Length: 10246 (10K) [text/plain]\n",
            "Saving to: ‘helper_functions.py’\n",
            "\n",
            "helper_functions.py 100%[===================>]  10.01K  --.-KB/s    in 0s      \n",
            "\n",
            "2021-05-27 11:11:14 (111 MB/s) - ‘helper_functions.py’ saved [10246/10246]\n",
            "\n"
          ],
          "name": "stdout"
        }
      ]
    },
    {
      "cell_type": "code",
      "metadata": {
        "id": "Z3-mGEurIyRH"
      },
      "source": [
        "# Import the needed helper functions for the notebook \n",
        "from helper_functions import unzip_data , create_tensorboard_callback , plot_loss_curves , compare_historys"
      ],
      "execution_count": 6,
      "outputs": []
    },
    {
      "cell_type": "markdown",
      "metadata": {
        "id": "qah0KdlutEa4"
      },
      "source": [
        "## Get a text dataset \n",
        "\n",
        "The dataset we're going to be using is Kaggle's Introduction to NLP dataset (text sampels of tweets labelled as disaster (or) not disaster). \n",
        "\n",
        "See the original source here https://www.kaggle.com/c/nlp-getting-started/data"
      ]
    },
    {
      "cell_type": "code",
      "metadata": {
        "colab": {
          "base_uri": "https://localhost:8080/"
        },
        "id": "z_V6EEy0tgVP",
        "outputId": "a91d6374-0bae-424b-ede9-952d803980f0"
      },
      "source": [
        "# Download the data from Kaggle \n",
        "!wget \"https://storage.googleapis.com/ztm_tf_course/nlp_getting_started.zip\"\n",
        "\n",
        "# Unzipping the data \n",
        "unzip_data('nlp_getting_started.zip')"
      ],
      "execution_count": 7,
      "outputs": [
        {
          "output_type": "stream",
          "text": [
            "--2021-05-27 11:11:15--  https://storage.googleapis.com/ztm_tf_course/nlp_getting_started.zip\n",
            "Resolving storage.googleapis.com (storage.googleapis.com)... 74.125.137.128, 142.250.141.128, 2607:f8b0:4023:c03::80, ...\n",
            "Connecting to storage.googleapis.com (storage.googleapis.com)|74.125.137.128|:443... connected.\n",
            "HTTP request sent, awaiting response... 200 OK\n",
            "Length: 607343 (593K) [application/zip]\n",
            "Saving to: ‘nlp_getting_started.zip’\n",
            "\n",
            "\rnlp_getting_started   0%[                    ]       0  --.-KB/s               \rnlp_getting_started 100%[===================>] 593.11K  --.-KB/s    in 0.005s  \n",
            "\n",
            "2021-05-27 11:11:15 (112 MB/s) - ‘nlp_getting_started.zip’ saved [607343/607343]\n",
            "\n"
          ],
          "name": "stdout"
        }
      ]
    },
    {
      "cell_type": "markdown",
      "metadata": {
        "id": "SkMPaEI-tm36"
      },
      "source": [
        "## Become one with the data \n",
        "\n",
        "We will Visualize , explore our test data in here. \n",
        "\n",
        "Text datasets come across in many different formats, aside from CSV files we will probably encounter `.txt` file and `.json` files too. Reading the below articles will help in those times, \n",
        "* [How to Read and Write Files in Python](https://realpython.com/read-write-files-python/)\n",
        "* [Working with JSON Data in Python](https://realpython.com/python-json/)"
      ]
    },
    {
      "cell_type": "code",
      "metadata": {
        "colab": {
          "base_uri": "https://localhost:8080/",
          "height": 204
        },
        "id": "3fUnop6WuNCn",
        "outputId": "53df0911-2bf1-4f43-d89c-4bfa775e666d"
      },
      "source": [
        "# Importing pandas to look into our csv file \n",
        "import pandas as pd \n",
        "train_df = pd.read_csv('train.csv')\n",
        "test_df = pd.read_csv('test.csv')\n",
        "\n",
        "# What's inside our train dataframe? \n",
        "train_df.head()"
      ],
      "execution_count": 8,
      "outputs": [
        {
          "output_type": "execute_result",
          "data": {
            "text/html": [
              "<div>\n",
              "<style scoped>\n",
              "    .dataframe tbody tr th:only-of-type {\n",
              "        vertical-align: middle;\n",
              "    }\n",
              "\n",
              "    .dataframe tbody tr th {\n",
              "        vertical-align: top;\n",
              "    }\n",
              "\n",
              "    .dataframe thead th {\n",
              "        text-align: right;\n",
              "    }\n",
              "</style>\n",
              "<table border=\"1\" class=\"dataframe\">\n",
              "  <thead>\n",
              "    <tr style=\"text-align: right;\">\n",
              "      <th></th>\n",
              "      <th>id</th>\n",
              "      <th>keyword</th>\n",
              "      <th>location</th>\n",
              "      <th>text</th>\n",
              "      <th>target</th>\n",
              "    </tr>\n",
              "  </thead>\n",
              "  <tbody>\n",
              "    <tr>\n",
              "      <th>0</th>\n",
              "      <td>1</td>\n",
              "      <td>NaN</td>\n",
              "      <td>NaN</td>\n",
              "      <td>Our Deeds are the Reason of this #earthquake M...</td>\n",
              "      <td>1</td>\n",
              "    </tr>\n",
              "    <tr>\n",
              "      <th>1</th>\n",
              "      <td>4</td>\n",
              "      <td>NaN</td>\n",
              "      <td>NaN</td>\n",
              "      <td>Forest fire near La Ronge Sask. Canada</td>\n",
              "      <td>1</td>\n",
              "    </tr>\n",
              "    <tr>\n",
              "      <th>2</th>\n",
              "      <td>5</td>\n",
              "      <td>NaN</td>\n",
              "      <td>NaN</td>\n",
              "      <td>All residents asked to 'shelter in place' are ...</td>\n",
              "      <td>1</td>\n",
              "    </tr>\n",
              "    <tr>\n",
              "      <th>3</th>\n",
              "      <td>6</td>\n",
              "      <td>NaN</td>\n",
              "      <td>NaN</td>\n",
              "      <td>13,000 people receive #wildfires evacuation or...</td>\n",
              "      <td>1</td>\n",
              "    </tr>\n",
              "    <tr>\n",
              "      <th>4</th>\n",
              "      <td>7</td>\n",
              "      <td>NaN</td>\n",
              "      <td>NaN</td>\n",
              "      <td>Just got sent this photo from Ruby #Alaska as ...</td>\n",
              "      <td>1</td>\n",
              "    </tr>\n",
              "  </tbody>\n",
              "</table>\n",
              "</div>"
            ],
            "text/plain": [
              "   id keyword  ...                                               text target\n",
              "0   1     NaN  ...  Our Deeds are the Reason of this #earthquake M...      1\n",
              "1   4     NaN  ...             Forest fire near La Ronge Sask. Canada      1\n",
              "2   5     NaN  ...  All residents asked to 'shelter in place' are ...      1\n",
              "3   6     NaN  ...  13,000 people receive #wildfires evacuation or...      1\n",
              "4   7     NaN  ...  Just got sent this photo from Ruby #Alaska as ...      1\n",
              "\n",
              "[5 rows x 5 columns]"
            ]
          },
          "metadata": {
            "tags": []
          },
          "execution_count": 8
        }
      ]
    },
    {
      "cell_type": "code",
      "metadata": {
        "colab": {
          "base_uri": "https://localhost:8080/",
          "height": 35
        },
        "id": "dTrFXxYfvWlo",
        "outputId": "100415d2-773a-45b7-e2fc-0a532d0f63da"
      },
      "source": [
        "# Getting the first sample of row 1 \n",
        "train_df['text'][0]"
      ],
      "execution_count": 9,
      "outputs": [
        {
          "output_type": "execute_result",
          "data": {
            "application/vnd.google.colaboratory.intrinsic+json": {
              "type": "string"
            },
            "text/plain": [
              "'Our Deeds are the Reason of this #earthquake May ALLAH Forgive us all'"
            ]
          },
          "metadata": {
            "tags": []
          },
          "execution_count": 9
        }
      ]
    },
    {
      "cell_type": "markdown",
      "metadata": {
        "id": "K9EC6SvCvhgr"
      },
      "source": [
        "So our goal now is to build a model to predict the target. Where our targets are it is a disaster or not a disaster. "
      ]
    },
    {
      "cell_type": "code",
      "metadata": {
        "colab": {
          "base_uri": "https://localhost:8080/",
          "height": 204
        },
        "id": "pTWf3W3Cvu5W",
        "outputId": "f2f67e93-d1fd-411b-b528-341e67482ed4"
      },
      "source": [
        "# Shuffle the traning dataframe \n",
        "train_df_shuffled = train_df.sample(frac = 1 , \n",
        "                                    random_state = 42)\n",
        "\n",
        "# Looking into our shuffled dataframe \n",
        "train_df_shuffled.head()"
      ],
      "execution_count": 10,
      "outputs": [
        {
          "output_type": "execute_result",
          "data": {
            "text/html": [
              "<div>\n",
              "<style scoped>\n",
              "    .dataframe tbody tr th:only-of-type {\n",
              "        vertical-align: middle;\n",
              "    }\n",
              "\n",
              "    .dataframe tbody tr th {\n",
              "        vertical-align: top;\n",
              "    }\n",
              "\n",
              "    .dataframe thead th {\n",
              "        text-align: right;\n",
              "    }\n",
              "</style>\n",
              "<table border=\"1\" class=\"dataframe\">\n",
              "  <thead>\n",
              "    <tr style=\"text-align: right;\">\n",
              "      <th></th>\n",
              "      <th>id</th>\n",
              "      <th>keyword</th>\n",
              "      <th>location</th>\n",
              "      <th>text</th>\n",
              "      <th>target</th>\n",
              "    </tr>\n",
              "  </thead>\n",
              "  <tbody>\n",
              "    <tr>\n",
              "      <th>2644</th>\n",
              "      <td>3796</td>\n",
              "      <td>destruction</td>\n",
              "      <td>NaN</td>\n",
              "      <td>So you have a new weapon that can cause un-ima...</td>\n",
              "      <td>1</td>\n",
              "    </tr>\n",
              "    <tr>\n",
              "      <th>2227</th>\n",
              "      <td>3185</td>\n",
              "      <td>deluge</td>\n",
              "      <td>NaN</td>\n",
              "      <td>The f$&amp;amp;@ing things I do for #GISHWHES Just...</td>\n",
              "      <td>0</td>\n",
              "    </tr>\n",
              "    <tr>\n",
              "      <th>5448</th>\n",
              "      <td>7769</td>\n",
              "      <td>police</td>\n",
              "      <td>UK</td>\n",
              "      <td>DT @georgegalloway: RT @Galloway4Mayor: ÛÏThe...</td>\n",
              "      <td>1</td>\n",
              "    </tr>\n",
              "    <tr>\n",
              "      <th>132</th>\n",
              "      <td>191</td>\n",
              "      <td>aftershock</td>\n",
              "      <td>NaN</td>\n",
              "      <td>Aftershock back to school kick off was great. ...</td>\n",
              "      <td>0</td>\n",
              "    </tr>\n",
              "    <tr>\n",
              "      <th>6845</th>\n",
              "      <td>9810</td>\n",
              "      <td>trauma</td>\n",
              "      <td>Montgomery County, MD</td>\n",
              "      <td>in response to trauma Children of Addicts deve...</td>\n",
              "      <td>0</td>\n",
              "    </tr>\n",
              "  </tbody>\n",
              "</table>\n",
              "</div>"
            ],
            "text/plain": [
              "        id  ... target\n",
              "2644  3796  ...      1\n",
              "2227  3185  ...      0\n",
              "5448  7769  ...      1\n",
              "132    191  ...      0\n",
              "6845  9810  ...      0\n",
              "\n",
              "[5 rows x 5 columns]"
            ]
          },
          "metadata": {
            "tags": []
          },
          "execution_count": 10
        }
      ]
    },
    {
      "cell_type": "code",
      "metadata": {
        "colab": {
          "base_uri": "https://localhost:8080/",
          "height": 204
        },
        "id": "0fVZfTzzv9sd",
        "outputId": "0919871d-c3f5-49a3-f8ed-41e0a3455493"
      },
      "source": [
        "# What does the test dataframe looks like \n",
        "test_df.head() "
      ],
      "execution_count": 11,
      "outputs": [
        {
          "output_type": "execute_result",
          "data": {
            "text/html": [
              "<div>\n",
              "<style scoped>\n",
              "    .dataframe tbody tr th:only-of-type {\n",
              "        vertical-align: middle;\n",
              "    }\n",
              "\n",
              "    .dataframe tbody tr th {\n",
              "        vertical-align: top;\n",
              "    }\n",
              "\n",
              "    .dataframe thead th {\n",
              "        text-align: right;\n",
              "    }\n",
              "</style>\n",
              "<table border=\"1\" class=\"dataframe\">\n",
              "  <thead>\n",
              "    <tr style=\"text-align: right;\">\n",
              "      <th></th>\n",
              "      <th>id</th>\n",
              "      <th>keyword</th>\n",
              "      <th>location</th>\n",
              "      <th>text</th>\n",
              "    </tr>\n",
              "  </thead>\n",
              "  <tbody>\n",
              "    <tr>\n",
              "      <th>0</th>\n",
              "      <td>0</td>\n",
              "      <td>NaN</td>\n",
              "      <td>NaN</td>\n",
              "      <td>Just happened a terrible car crash</td>\n",
              "    </tr>\n",
              "    <tr>\n",
              "      <th>1</th>\n",
              "      <td>2</td>\n",
              "      <td>NaN</td>\n",
              "      <td>NaN</td>\n",
              "      <td>Heard about #earthquake is different cities, s...</td>\n",
              "    </tr>\n",
              "    <tr>\n",
              "      <th>2</th>\n",
              "      <td>3</td>\n",
              "      <td>NaN</td>\n",
              "      <td>NaN</td>\n",
              "      <td>there is a forest fire at spot pond, geese are...</td>\n",
              "    </tr>\n",
              "    <tr>\n",
              "      <th>3</th>\n",
              "      <td>9</td>\n",
              "      <td>NaN</td>\n",
              "      <td>NaN</td>\n",
              "      <td>Apocalypse lighting. #Spokane #wildfires</td>\n",
              "    </tr>\n",
              "    <tr>\n",
              "      <th>4</th>\n",
              "      <td>11</td>\n",
              "      <td>NaN</td>\n",
              "      <td>NaN</td>\n",
              "      <td>Typhoon Soudelor kills 28 in China and Taiwan</td>\n",
              "    </tr>\n",
              "  </tbody>\n",
              "</table>\n",
              "</div>"
            ],
            "text/plain": [
              "   id keyword location                                               text\n",
              "0   0     NaN      NaN                 Just happened a terrible car crash\n",
              "1   2     NaN      NaN  Heard about #earthquake is different cities, s...\n",
              "2   3     NaN      NaN  there is a forest fire at spot pond, geese are...\n",
              "3   9     NaN      NaN           Apocalypse lighting. #Spokane #wildfires\n",
              "4  11     NaN      NaN      Typhoon Soudelor kills 28 in China and Taiwan"
            ]
          },
          "metadata": {
            "tags": []
          },
          "execution_count": 11
        }
      ]
    },
    {
      "cell_type": "markdown",
      "metadata": {
        "id": "UI8yjVHOwvBM"
      },
      "source": [
        "Same as the train dataframe but no targets. In here we are going to use the text column and predict upcoming tweets whether they are Disaster or Not. "
      ]
    },
    {
      "cell_type": "code",
      "metadata": {
        "colab": {
          "base_uri": "https://localhost:8080/"
        },
        "id": "YE0WJRQ9w5Wp",
        "outputId": "9a1891f6-e0c7-449e-c118-318b6c85f165"
      },
      "source": [
        "# How many examples of each class? \n",
        "train_df.target.value_counts()"
      ],
      "execution_count": 12,
      "outputs": [
        {
          "output_type": "execute_result",
          "data": {
            "text/plain": [
              "0    4342\n",
              "1    3271\n",
              "Name: target, dtype: int64"
            ]
          },
          "metadata": {
            "tags": []
          },
          "execution_count": 12
        }
      ]
    },
    {
      "cell_type": "markdown",
      "metadata": {
        "id": "9Z_ETiUIw-_Z"
      },
      "source": [
        "We can't say our targets are perfectly balanced but it's pretty much a 60-40 split balance between the targets. \n",
        "\n",
        "So if we have imabalanced target class refer this https://www.tensorflow.org/tutorials/structured_data/imbalanced_data"
      ]
    },
    {
      "cell_type": "code",
      "metadata": {
        "colab": {
          "base_uri": "https://localhost:8080/"
        },
        "id": "cwkWdusMxVKf",
        "outputId": "db32ac04-4a8b-4ee3-96da-4c4094b090bd"
      },
      "source": [
        "# How many total samples in both sets? \n",
        "\n",
        "len(train_df) , len(test_df)"
      ],
      "execution_count": 13,
      "outputs": [
        {
          "output_type": "execute_result",
          "data": {
            "text/plain": [
              "(7613, 3263)"
            ]
          },
          "metadata": {
            "tags": []
          },
          "execution_count": 13
        }
      ]
    },
    {
      "cell_type": "code",
      "metadata": {
        "colab": {
          "base_uri": "https://localhost:8080/"
        },
        "id": "y6-1YARtx0q-",
        "outputId": "c7d30795-f77d-43dc-c9c7-fb8da448581b"
      },
      "source": [
        "# Let's visualize some random training examples. \n",
        "import random \n",
        "\n",
        "# 5 random index random numbers\n",
        "# Create random indexes not higher than the total number of samples\n",
        "random_index = random.randint(0 , len(train_df) - 5) \n",
        "\n",
        "# Will return tuples\n",
        "for row in train_df_shuffled[['text' , 'target']][random_index:random_index+5].itertuples():\n",
        "  _, text , target = row\n",
        "  print(f'Target: {target}' , \"(real disaster)\" if target > 0 else \"(not real disaster\")\n",
        "  print(f'Text:\\n{text}\\n')\n",
        "  print('----\\n')\n"
      ],
      "execution_count": 14,
      "outputs": [
        {
          "output_type": "stream",
          "text": [
            "Target: 0 (not real disaster\n",
            "Text:\n",
            "The '1pack 2pack 3pack' line is on fleek if Stretcher is fire.\n",
            "\n",
            "----\n",
            "\n",
            "Target: 1 (real disaster)\n",
            "Text:\n",
            "70 Years After Atomic Bombs Japan Still Struggles With War Past: The anniversary of the devastation wrought b... http://t.co/aG65u29SGo\n",
            "\n",
            "----\n",
            "\n",
            "Target: 0 (not real disaster\n",
            "Text:\n",
            "BHAVANA'S MOM HAS CRUSHED EVERYONE'S SOUL\n",
            "\n",
            "----\n",
            "\n",
            "Target: 1 (real disaster)\n",
            "Text:\n",
            "The Latest: #Wildfire destroys more homes but crews advance - WQOW TV News 18 http://t.co/Hj26SFDdfI\n",
            "\n",
            "----\n",
            "\n",
            "Target: 0 (not real disaster\n",
            "Text:\n",
            "A Year Later Ferguson Sees Change but Asks if ItÛªs Real http://t.co/H9vmMDEbDx\n",
            "\n",
            "----\n",
            "\n"
          ],
          "name": "stdout"
        }
      ]
    },
    {
      "cell_type": "markdown",
      "metadata": {
        "id": "CbVgZ9cbzI1T"
      },
      "source": [
        "Though we have train and test datasets it's good to create an validation dataset. "
      ]
    },
    {
      "cell_type": "markdown",
      "metadata": {
        "id": "DBsB3GYh0Lqh"
      },
      "source": [
        "### Split data into training and validation set "
      ]
    },
    {
      "cell_type": "code",
      "metadata": {
        "id": "bfeGwyUZ0WDY"
      },
      "source": [
        "from sklearn.model_selection import train_test_split\n",
        "\n",
        "# Let's split training data into train and val set\n",
        "train_sentences , val_sentences , train_labels , val_labels = train_test_split(train_df_shuffled['text'].to_numpy() , \n",
        "                                                                               train_df_shuffled['target'].to_numpy() , \n",
        "                                                                               test_size = 0.1,  # Use 10% of the training data for validation set \n",
        "                                                                               random_state = 42)"
      ],
      "execution_count": 15,
      "outputs": []
    },
    {
      "cell_type": "code",
      "metadata": {
        "colab": {
          "base_uri": "https://localhost:8080/"
        },
        "id": "JD5LXrYS0Zg8",
        "outputId": "00b4763e-9d28-4889-fa29-72d82f44a928"
      },
      "source": [
        "# Checking the shapes of our splits \n",
        "\n",
        "train_sentences.shape , train_labels.shape , val_sentences.shape , val_labels.shape"
      ],
      "execution_count": 16,
      "outputs": [
        {
          "output_type": "execute_result",
          "data": {
            "text/plain": [
              "((6851,), (6851,), (762,), (762,))"
            ]
          },
          "metadata": {
            "tags": []
          },
          "execution_count": 16
        }
      ]
    },
    {
      "cell_type": "code",
      "metadata": {
        "colab": {
          "base_uri": "https://localhost:8080/"
        },
        "id": "gVrwidP01LPO",
        "outputId": "77e03d11-d42c-4825-96cc-180f30623b81"
      },
      "source": [
        "# Number of samples \n",
        "print(f'Number of sampels in train set: {len(train_sentences)}')\n",
        "print(f'Number of sampels in validation set: {len(val_sentences)}')"
      ],
      "execution_count": 17,
      "outputs": [
        {
          "output_type": "stream",
          "text": [
            "Number of sampels in train set: 6851\n",
            "Number of sampels in validation set: 762\n"
          ],
          "name": "stdout"
        }
      ]
    },
    {
      "cell_type": "code",
      "metadata": {
        "colab": {
          "base_uri": "https://localhost:8080/"
        },
        "id": "5xirhAYB1XAB",
        "outputId": "b44dc930-1af0-40d6-c81b-c91fa14aa207"
      },
      "source": [
        "# Check the first 10 samples \n",
        "train_sentences[:10] , train_labels[:10]"
      ],
      "execution_count": 18,
      "outputs": [
        {
          "output_type": "execute_result",
          "data": {
            "text/plain": [
              "(array(['@mogacola @zamtriossu i screamed after hitting tweet',\n",
              "        'Imagine getting flattened by Kurt Zouma',\n",
              "        '@Gurmeetramrahim #MSGDoing111WelfareWorks Green S welfare force ke appx 65000 members har time disaster victim ki help ke liye tyar hai....',\n",
              "        \"@shakjn @C7 @Magnums im shaking in fear he's gonna hack the planet\",\n",
              "        'Somehow find you and I collide http://t.co/Ee8RpOahPk',\n",
              "        '@EvaHanderek @MarleyKnysh great times until the bus driver held us hostage in the mall parking lot lmfao',\n",
              "        'destroy the free fandom honestly',\n",
              "        'Weapons stolen from National Guard Armory in New Albany still missing #Gunsense http://t.co/lKNU8902JE',\n",
              "        '@wfaaweather Pete when will the heat wave pass? Is it really going to be mid month? Frisco Boy Scouts have a canoe trip in Okla.',\n",
              "        'Patient-reported outcomes in long-term survivors of metastatic colorectal cancer - British Journal of Surgery http://t.co/5Yl4DC1Tqt'],\n",
              "       dtype=object), array([0, 0, 1, 0, 0, 1, 1, 0, 1, 1]))"
            ]
          },
          "metadata": {
            "tags": []
          },
          "execution_count": 18
        }
      ]
    },
    {
      "cell_type": "markdown",
      "metadata": {
        "id": "qK1JBTgS1gqs"
      },
      "source": [
        "Great now we got to know about how our data looks. The next step would be converting our features into numbers where our targets already in number we don't have to bother about it. \n",
        "\n",
        "Next step would be turn the text into numbers! "
      ]
    },
    {
      "cell_type": "markdown",
      "metadata": {
        "id": "ZJX4l1xd16wE"
      },
      "source": [
        "## Converting text into numbers \n",
        "\n",
        "Alright now the challenge is to convert our text into numbers we can use two techniques they are, \n",
        "\n",
        "- **Tokenization**\n",
        "- **Embeddings**\n",
        "\n",
        "Let's look into them one by one. \n",
        "\n",
        "#### Tokenization\n",
        "\n",
        "A straight mapping from word or character or sub-word to a numerical value. There are three main levels of tokenization: \n",
        "\n",
        "- Using **word-level tokenization** with the sentence 'I love TensorFlow' might result in 'I' being `0` , 'love' being `1` and TensorFlow being `2`. In this case, every word in a sequence considered as a single **token.**\n",
        "- **Character - level tokenization,** such as converting the letters A-Z to values `1-26`. In this case, every character in a sequence (or) considered as a single token.\n",
        "- **Sub-word tokenization** is in between word-level and character-level tokenization. It involves breaking individual words into smaller parts and then converting those smaller parts into numbers.\n",
        "\n",
        "    For example ' my favourite food is pineapple pizza' might become —> \" my, fav, avour, rite, fo, oo, od, is, pin, ine, app, le, piz, za\". After doing this, these sub-words would then be mapped to a numerical value. In this case every word could be considered multiple tokens. \n",
        "\n",
        "#### Embeddings\n",
        "\n",
        "A embedding is a representation of natural language which can be learned. Representation comes in the form of a **feature vector**. For example, the word 'dance' could be represented by the 5-dimensional vector `[-0.8457 , 0.4559 , -0.3332, 0.9877, 0.1112]`. \n",
        "\n",
        "It's important to note here, the size of the feature vector is tuneable (embedding_size). There are two ways to use embeddings: \n",
        "\n",
        "- **Create your own embedding** - Once your text has been turned into numbers (requires for an embedding), you can put them through an embedding layer (such as `[tf.keras.layers.Embedding](https://www.tensorflow.org/api_docs/python/tf/keras/layers/Embedding)`) and embedding representation will be learned during model training.\n",
        "- **Reuse a pre-learned embedding** - Many pre-trained embeddings exist online. These are pre-trained embeddings have often learned on large corpuses of a text (such as all of Wikipedia) and thus have good underlying representation of natural language. You can use pre-trained embedding to initialize your model and fine-tune it to your own specific task.\n",
        "\n",
        "Example of **tokenization** (straight mapping from word to number) and **embedding** (richer representation of relationships between tokens).\n",
        "\n",
        "> Question: What level of tokenzation should I use? What embedding should should I choose?\n",
        "\n",
        "It depends on your problem. You could try character-level tokenization/embeddings and word-level tokenization/embeddings and see which perform best. You might even want to try stacking them (e.g. combining the outputs of your embedding layers using [`tf.keras.layers.concatenate`](https://www.tensorflow.org/api_docs/python/tf/keras/layers/concatenate) ).\n",
        "\n",
        "If you're looking for pre-trained word embeddings, [Word2vec embeddings](http://jalammar.github.io/illustrated-word2vec/), [GloVe embeddings](https://nlp.stanford.edu/projects/glove/) and many of the options available on TensorFlow Hub are great places to start.\n",
        "\n",
        "> Note: Much like searching for a pre-trained computer vision model, you can search for pre-trained word embeddings to use for your problem. Try searching for something like \"use pre-trained word embeddings in TensorFlow\"."
      ]
    },
    {
      "cell_type": "markdown",
      "metadata": {
        "id": "YsR2_6NcO8Ln"
      },
      "source": [
        "When dealing with a text problem one of the first things you'll have to do before you can build a model is to convert your text to numbers. \n",
        "\n",
        "There are few ways to do this, namely: \n",
        "* Tokenization - direct mapping of token (a token could be a word or character) to number. \n",
        "* Embedding - create a matrix of feature vector for each token (the size of the feature vector can be defined and this embedding can be learned). "
      ]
    },
    {
      "cell_type": "markdown",
      "metadata": {
        "id": "baYi22uYRUB6"
      },
      "source": [
        "### Text vectorization (tokenization)"
      ]
    },
    {
      "cell_type": "code",
      "metadata": {
        "colab": {
          "base_uri": "https://localhost:8080/"
        },
        "id": "K9_Htq9NsOIt",
        "outputId": "2dfe91a3-08ac-4b26-8690-39d1ffd46cb7"
      },
      "source": [
        "# Remind ourselves how our data looks like \n",
        "train_sentences[:5]"
      ],
      "execution_count": 19,
      "outputs": [
        {
          "output_type": "execute_result",
          "data": {
            "text/plain": [
              "array(['@mogacola @zamtriossu i screamed after hitting tweet',\n",
              "       'Imagine getting flattened by Kurt Zouma',\n",
              "       '@Gurmeetramrahim #MSGDoing111WelfareWorks Green S welfare force ke appx 65000 members har time disaster victim ki help ke liye tyar hai....',\n",
              "       \"@shakjn @C7 @Magnums im shaking in fear he's gonna hack the planet\",\n",
              "       'Somehow find you and I collide http://t.co/Ee8RpOahPk'],\n",
              "      dtype=object)"
            ]
          },
          "metadata": {
            "tags": []
          },
          "execution_count": 19
        }
      ]
    },
    {
      "cell_type": "code",
      "metadata": {
        "id": "iqycIsiLsS1g"
      },
      "source": [
        "# Import the tokenization layer \n",
        "import tensorflow as tf\n",
        "from tensorflow.keras.layers.experimental.preprocessing import TextVectorization"
      ],
      "execution_count": 20,
      "outputs": []
    },
    {
      "cell_type": "markdown",
      "metadata": {
        "id": "ApElHNZTscyy"
      },
      "source": [
        "How does the `TextVectorization` layer works? \n",
        "- standardize each sample (lower casing + punctuation stripping). \n",
        "- split each sample into substrings (usually words). \n",
        "- recombine substrings into tokens (usually ngrams which will group words). \n",
        "- index tokens (assign a unique int value to each token). \n",
        "- transform each sample using the index, either into a vector of ints or dense float vector.  "
      ]
    },
    {
      "cell_type": "code",
      "metadata": {
        "id": "ma_7BGeMuVnB"
      },
      "source": [
        "# Use the default TextVectorization parameters \n",
        "\n",
        "text_vectorizer = TextVectorization(max_tokens = None , # how many words in the vocabulary (automatically add <OOV>)\n",
        "                                   standardize = 'lower_and_strip_punctuation' , # Standardize our text data like in image (convert into lower case and strip punctu)\n",
        "                                   split = 'whitespace', # Split the sequence by whitespace\n",
        "                                   ngrams = None , # create group of n-words (None will not group them)\n",
        "                                   output_mode = 'int', # how to map tokens to numbers\n",
        "                                   output_sequence_length = None, # More like batches (padding) None will pad each sequence to normal sequence\n",
        "                                   pad_to_max_tokens = True )"
      ],
      "execution_count": 21,
      "outputs": []
    },
    {
      "cell_type": "markdown",
      "metadata": {
        "id": "fRtdEZNg0Djl"
      },
      "source": [
        "We can pad out tweets to the longer sequence but to keep our data small we will find the average words in a sequence and will pad our whole data to it. "
      ]
    },
    {
      "cell_type": "code",
      "metadata": {
        "colab": {
          "base_uri": "https://localhost:8080/"
        },
        "id": "-OSLY9j90YHJ",
        "outputId": "056aca30-ac1c-4b08-8357-628c4a21f8f5"
      },
      "source": [
        "ex = train_sentences[0].split()\n",
        "len(ex)"
      ],
      "execution_count": 22,
      "outputs": [
        {
          "output_type": "execute_result",
          "data": {
            "text/plain": [
              "7"
            ]
          },
          "metadata": {
            "tags": []
          },
          "execution_count": 22
        }
      ]
    },
    {
      "cell_type": "code",
      "metadata": {
        "colab": {
          "base_uri": "https://localhost:8080/"
        },
        "id": "dmyejPCxzvKy",
        "outputId": "c4e14239-d6e6-4df7-c697-986dfbe07a03"
      },
      "source": [
        "# Find the average number of tokens (words) in the training tweets. \n",
        "\n",
        "round(sum([len(i.split()) for i in train_sentences]) / len(train_sentences))"
      ],
      "execution_count": 23,
      "outputs": [
        {
          "output_type": "execute_result",
          "data": {
            "text/plain": [
              "15"
            ]
          },
          "metadata": {
            "tags": []
          },
          "execution_count": 23
        }
      ]
    },
    {
      "cell_type": "code",
      "metadata": {
        "id": "kHkvp4Aq0rhw"
      },
      "source": [
        "# Setup text vectorization variable \n",
        "max_vocab_length = 10000 # Max number of words to have in our vocabulary\n",
        "max_length = 15 # max length our sequence will be (e.g how many words from Tweet does a model see)\n",
        "\n",
        "# Creating a instance\n",
        "text_vectorizer = TextVectorization(max_tokens= max_vocab_length , \n",
        "                                    output_mode = 'int' , \n",
        "                                    output_sequence_length = max_length)"
      ],
      "execution_count": 24,
      "outputs": []
    },
    {
      "cell_type": "markdown",
      "metadata": {
        "id": "H6GktGfm0830"
      },
      "source": [
        "Now we have a instance of our `TextVectorization` layer now we will have to map this layer to our text data in order to convert them in numerical format. \n",
        "\n",
        "We can do this by using `.adapt()` method. "
      ]
    },
    {
      "cell_type": "code",
      "metadata": {
        "id": "dDjM2B-1XE4X"
      },
      "source": [
        "# Fit the text vectorizer to the training sentence\n",
        "text_vectorizer.adapt(train_sentences) # Will go through and apply the text vectorization"
      ],
      "execution_count": 25,
      "outputs": []
    },
    {
      "cell_type": "code",
      "metadata": {
        "colab": {
          "base_uri": "https://localhost:8080/"
        },
        "id": "ZOqZHuM9XyB-",
        "outputId": "dad7f63b-4687-4a3e-c7f4-d52ef601cb8d"
      },
      "source": [
        "# Create a sample sentence and tokenize it\n",
        "sample_sentence = \"There's a flood in my street!\"\n",
        "\n",
        "# Applying our text vectorization to our above sentence \n",
        "text_vectorizer([sample_sentence])"
      ],
      "execution_count": 26,
      "outputs": [
        {
          "output_type": "execute_result",
          "data": {
            "text/plain": [
              "<tf.Tensor: shape=(1, 15), dtype=int64, numpy=\n",
              "array([[264,   3, 232,   4,  13, 698,   0,   0,   0,   0,   0,   0,   0,\n",
              "          0,   0]])>"
            ]
          },
          "metadata": {
            "tags": []
          },
          "execution_count": 26
        }
      ]
    },
    {
      "cell_type": "markdown",
      "metadata": {
        "id": "KerusqYXYF9v"
      },
      "source": [
        "We can observe that our word got converted into a number and rest 0 is to make sure to (pad) fill up the `output_sequence _length` we mentioned while creating our text vectorization layer. "
      ]
    },
    {
      "cell_type": "code",
      "metadata": {
        "colab": {
          "base_uri": "https://localhost:8080/"
        },
        "id": "6kO9pfL_YdIv",
        "outputId": "981f38c6-ddaa-4288-c232-e2884be0001e"
      },
      "source": [
        "# Choose a random sentence from the training dataset and tokenize it \n",
        "\n",
        "random_sentence = random.choice(train_sentences)\n",
        "print(f'Original text:\\n {random_sentence}\\\n",
        "      \\n\\nVectorized version:')\n",
        "text_vectorizer([random_sentence])"
      ],
      "execution_count": 27,
      "outputs": [
        {
          "output_type": "stream",
          "text": [
            "Original text:\n",
            " Not only are you a mass murderer but at a movie theatre where niggas dropped bread to see a movie? Cmon man.      \n",
            "\n",
            "Vectorized version:\n"
          ],
          "name": "stdout"
        },
        {
          "output_type": "execute_result",
          "data": {
            "text/plain": [
              "<tf.Tensor: shape=(1, 15), dtype=int64, numpy=\n",
              "array([[  34,  126,   22,   12,    3,  157,  538,   30,   17,    3,  275,\n",
              "        1951,  221,  936, 1870]])>"
            ]
          },
          "metadata": {
            "tags": []
          },
          "execution_count": 27
        }
      ]
    },
    {
      "cell_type": "markdown",
      "metadata": {
        "id": "4iodWj7oY45U"
      },
      "source": [
        "Great, thought our sentence is more than 15+ words long but we want to keep our sequence withing the range 0-15. \n",
        "\n",
        "We know that `max_tokens` in our text vectorizer layer, it will help us to keep track of the unique words it come across from our data. "
      ]
    },
    {
      "cell_type": "code",
      "metadata": {
        "colab": {
          "base_uri": "https://localhost:8080/"
        },
        "id": "napcRxn-ZXVz",
        "outputId": "f34c0b41-3dbe-4649-e71a-8414ba962603"
      },
      "source": [
        "# Get the unique words in the vocabulary \n",
        "words_in_vocab = text_vectorizer.get_vocabulary() # Get all of the unique words in our training data\n",
        "\n",
        "# Most common words in our vocabulary\n",
        "top_5_words = words_in_vocab[:5] \n",
        "\n",
        "# Least common words in our vocabulary\n",
        "bottom_5_words = words_in_vocab[-5:]\n",
        "\n",
        "print(f'Number of words in vocab: {len(words_in_vocab)}')\n",
        "print(f'5 most common words: {top_5_words}')\n",
        "print(f'5 least common words: {bottom_5_words}')"
      ],
      "execution_count": 28,
      "outputs": [
        {
          "output_type": "stream",
          "text": [
            "Number of words in vocab: 10000\n",
            "5 most common words: ['', '[UNK]', 'the', 'a', 'in']\n",
            "5 least common words: ['pages', 'paeds', 'pads', 'padres', 'paddytomlinson1']\n"
          ],
          "name": "stdout"
        }
      ]
    },
    {
      "cell_type": "markdown",
      "metadata": {
        "id": "uf8O7yUKamj1"
      },
      "source": [
        "Number of unique words is **10000** its because that's what we set the max_length to. \n",
        "\n",
        "UNK - Unknown vocabulary these are words which isn't in our vocabulary. Like 10000 unique words might not cover all of the words in here. \n",
        "\n",
        "So if we increase our `max_length` parameter to 20000 then our text vectorizer can handle more unique values and there will be less [UNK] tokens. \n",
        "\n",
        "---\n",
        "\n",
        "Alright let's try out embedding and we know the best part of embedding is it can be learned. "
      ]
    },
    {
      "cell_type": "markdown",
      "metadata": {
        "id": "mNiZK80xcJdT"
      },
      "source": [
        "### Creating an Embedding using a Embedding Layer \n",
        "\n",
        "We have got a way to map our text into numbers. How about we find a way and turn those numbers into embeddings. \n",
        "\n",
        "To make our embedding, we're going to use a TensorFlow's embedding layer. https://www.tensorflow.org/api_docs/python/tf/keras/layers/Embedding\n",
        "\n",
        "At first the embedding is created the number are all going to random and we know our embedding layer learns and improves as it goes. Likewise the weights in our model it will get updated to better suit the order of the representation of our words. \n",
        "\n",
        "The parameters we care most about for our embedding layer: \n",
        "- `input_dim` = the size of our vocabulary\n",
        "- `output_dim` = the size of the output embedding vector, for example, a value of 100 would mean each token gets represented by a vector 100 long. \n",
        "- `input_lenght` = length of the sequences being passed to the embedding layer (max_length) so it's going to be 15 long. "
      ]
    },
    {
      "cell_type": "code",
      "metadata": {
        "colab": {
          "base_uri": "https://localhost:8080/"
        },
        "id": "eO3VHRmKc5YV",
        "outputId": "275fedbe-b801-4d06-ccea-246ecf929739"
      },
      "source": [
        "# In practice \n",
        "from tensorflow.keras import layers \n",
        "\n",
        "embedding = layers.Embedding(input_dim= max_vocab_length , # set input shape\n",
        "                             output_dim = 128,  # output shape\n",
        "                             input_length = max_length # How long each input is\n",
        "                             )\n",
        "\n",
        "# Looking at our embedding layer \n",
        "embedding"
      ],
      "execution_count": 29,
      "outputs": [
        {
          "output_type": "execute_result",
          "data": {
            "text/plain": [
              "<tensorflow.python.keras.layers.embeddings.Embedding at 0x7fb28bc95410>"
            ]
          },
          "metadata": {
            "tags": []
          },
          "execution_count": 29
        }
      ]
    },
    {
      "cell_type": "code",
      "metadata": {
        "colab": {
          "base_uri": "https://localhost:8080/"
        },
        "id": "mEe2C0JFeQpm",
        "outputId": "2bed9078-cf07-4a30-8d24-23ee77d190fe"
      },
      "source": [
        "# Get a random sentence from our training sentence \n",
        "random_sentence = random.choice(train_sentences)\n",
        "print(f'Original text:\\n {random_sentence}')\n",
        "\n",
        "# Mapping text into numbers (turn into dense vectors of fixed size)\n",
        "tokenized_form = text_vectorizer([random_sentence]) \n",
        "print(f'\\n After turning our text into numbers:\\n\\n {tokenized_form}')\n",
        "\n",
        "# Using our embedding layer \n",
        "print(f'\\nApplying the embedding layer to our tokenized vector\\n\\n {embedding(tokenized_form)}')"
      ],
      "execution_count": 30,
      "outputs": [
        {
          "output_type": "stream",
          "text": [
            "Original text:\n",
            " I'm not gonna lie I'm kinda ready to attack my Senior year ??????????\n",
            "\n",
            " After turning our text into numbers:\n",
            "\n",
            " [[  32   34  319 1506   32 1510  924    5  113   13 1987  183    0    0\n",
            "     0]]\n",
            "\n",
            "Applying the embedding layer to our tokenized vector\n",
            "\n",
            " [[[ 0.01403    0.02782   -0.01688   ...  0.02974   -0.03014    0.01723  ]\n",
            "  [-0.03833   -0.01423   -0.0005836 ... -0.02573    0.001691   0.04907  ]\n",
            "  [ 0.02553    0.0482    -0.00809   ... -0.0421    -0.03117    0.04358  ]\n",
            "  ...\n",
            "  [-0.005962   0.04236    0.0334    ...  0.04706    0.04657   -0.04935  ]\n",
            "  [-0.005962   0.04236    0.0334    ...  0.04706    0.04657   -0.04935  ]\n",
            "  [-0.005962   0.04236    0.0334    ...  0.04706    0.04657   -0.04935  ]]]\n"
          ],
          "name": "stdout"
        }
      ]
    },
    {
      "cell_type": "code",
      "metadata": {
        "colab": {
          "base_uri": "https://localhost:8080/"
        },
        "id": "y_86P2H8hGyg",
        "outputId": "eaf92cf0-cba6-4d38-980c-fc7bc898f152"
      },
      "source": [
        "sample_embed = embedding(tokenized_form)\n",
        "sample_embed"
      ],
      "execution_count": 31,
      "outputs": [
        {
          "output_type": "execute_result",
          "data": {
            "text/plain": [
              "<tf.Tensor: shape=(1, 15, 128), dtype=float16, numpy=\n",
              "array([[[ 0.01403  ,  0.02782  , -0.01688  , ...,  0.02974  ,\n",
              "         -0.03014  ,  0.01723  ],\n",
              "        [-0.03833  , -0.01423  , -0.0005836, ..., -0.02573  ,\n",
              "          0.001691 ,  0.04907  ],\n",
              "        [ 0.02553  ,  0.0482   , -0.00809  , ..., -0.0421   ,\n",
              "         -0.03117  ,  0.04358  ],\n",
              "        ...,\n",
              "        [-0.005962 ,  0.04236  ,  0.0334   , ...,  0.04706  ,\n",
              "          0.04657  , -0.04935  ],\n",
              "        [-0.005962 ,  0.04236  ,  0.0334   , ...,  0.04706  ,\n",
              "          0.04657  , -0.04935  ],\n",
              "        [-0.005962 ,  0.04236  ,  0.0334   , ...,  0.04706  ,\n",
              "          0.04657  , -0.04935  ]]], dtype=float16)>"
            ]
          },
          "metadata": {
            "tags": []
          },
          "execution_count": 31
        }
      ]
    },
    {
      "cell_type": "markdown",
      "metadata": {
        "id": "JJrh7mUreaO7"
      },
      "source": [
        "What is 128? \n",
        "Every single token in our sequence are now in the format of 128 long vectors. "
      ]
    },
    {
      "cell_type": "code",
      "metadata": {
        "colab": {
          "base_uri": "https://localhost:8080/"
        },
        "id": "hFE5xROLg_3h",
        "outputId": "0763cdcd-23a4-473c-897c-b4bc9551a19d"
      },
      "source": [
        "# Check out a single token's embedding \n",
        "sample_embed[0][0] , sample_embed[0][0].shape , random_sentence[0]"
      ],
      "execution_count": 32,
      "outputs": [
        {
          "output_type": "execute_result",
          "data": {
            "text/plain": [
              "(<tf.Tensor: shape=(128,), dtype=float16, numpy=\n",
              " array([ 0.01403 ,  0.02782 , -0.01688 ,  0.04984 , -0.03555 , -0.0373  ,\n",
              "         0.03696 ,  0.0342  ,  0.000949, -0.041   , -0.003202, -0.04816 ,\n",
              "        -0.04462 ,  0.002659, -0.00578 ,  0.01288 ,  0.003399,  0.007313,\n",
              "        -0.0401  ,  0.03072 ,  0.04868 ,  0.0407  ,  0.04752 ,  0.0284  ,\n",
              "         0.02606 , -0.00323 , -0.01104 , -0.03946 , -0.008194, -0.03418 ,\n",
              "        -0.0469  ,  0.04318 ,  0.0446  , -0.0338  ,  0.01385 , -0.03946 ,\n",
              "         0.03354 , -0.04773 , -0.01683 , -0.010826,  0.00502 , -0.02356 ,\n",
              "        -0.03806 ,  0.01796 , -0.014755, -0.03622 ,  0.01703 ,  0.02184 ,\n",
              "         0.04065 , -0.04587 , -0.01585 , -0.04886 , -0.04123 , -0.02274 ,\n",
              "         0.01802 ,  0.0433  , -0.006783,  0.01938 ,  0.0436  , -0.015396,\n",
              "        -0.003832, -0.02985 ,  0.0448  , -0.02202 , -0.01746 ,  0.0261  ,\n",
              "         0.03897 , -0.01875 , -0.02516 , -0.0164  ,  0.03348 , -0.0437  ,\n",
              "        -0.03516 , -0.01564 ,  0.03888 ,  0.005753, -0.01554 ,  0.002007,\n",
              "        -0.02919 , -0.04855 ,  0.0439  , -0.02405 , -0.04056 ,  0.01646 ,\n",
              "         0.01743 ,  0.02742 ,  0.02766 , -0.00403 , -0.02356 ,  0.04166 ,\n",
              "         0.00613 , -0.02344 , -0.006435,  0.003784,  0.02393 ,  0.03577 ,\n",
              "        -0.02046 ,  0.02313 , -0.03174 , -0.02779 , -0.02429 ,  0.04727 ,\n",
              "        -0.00617 ,  0.02751 ,  0.0419  , -0.0412  , -0.04184 , -0.0381  ,\n",
              "         0.01967 , -0.03418 ,  0.04395 ,  0.032   , -0.04196 , -0.04434 ,\n",
              "         0.03662 ,  0.014786,  0.011894, -0.04425 , -0.01447 , -0.00785 ,\n",
              "        -0.0376  , -0.03812 , -0.0351  ,  0.01611 ,  0.0399  ,  0.02974 ,\n",
              "        -0.03014 ,  0.01723 ], dtype=float16)>, TensorShape([128]), 'I')"
            ]
          },
          "metadata": {
            "tags": []
          },
          "execution_count": 32
        }
      ]
    },
    {
      "cell_type": "markdown",
      "metadata": {
        "id": "h3jkOI1bhjr-"
      },
      "source": [
        "Alright next we wil discuss the various modelling experiments we're going to run. "
      ]
    },
    {
      "cell_type": "markdown",
      "metadata": {
        "id": "HcBk28ZclABH"
      },
      "source": [
        "## Modelling a text dataset (running a series of experiments) \n",
        "\n",
        "Once you've got your inputs and outputs prepared, it's a matter of figuring out which machine learning model to build in between them to bridge the gap.\n",
        "\n",
        "To get a plenty of practice, we're going to build a series of different models, each has its won experiment. We'll then compare the results of each model and see which one performed better. \n",
        "\n",
        "We're going to build, \n",
        "\n",
        "- **Model 0**: Naive Bayes (common baseline for text based data- tf-idf)\n",
        "- **Model 1**: Feed-forward neural network (dense model)\n",
        "- **Model 2**: LSTM model (RNN)\n",
        "- **Model 3**: GRU model (RNN)\n",
        "- **Model 4**: Bidirectional-LSTM model (RNN)\n",
        "- **Model 5**: 1D Convolutional Neural Network\n",
        "- **Model 6**: TensorFlow Hub Pre-trained Feature Extractor\n",
        "- **Model 7**: Same as model 6 with 10% of training data.\n",
        "\n",
        "How are we going to approach all of these? \n",
        "Use the standard steps in modelling with TensorFlow: \n",
        "- Create a Model\n",
        "- Build a Model \n",
        "- Fit a model \n",
        "- Evaluate our model\n",
        "\n",
        "Let's build a Non-deeplearning model to be more specific a Naive Bayes model from scikit-learn"
      ]
    },
    {
      "cell_type": "markdown",
      "metadata": {
        "id": "1vjNI6I84BYx"
      },
      "source": [
        "Let's experiment before the video \n"
      ]
    },
    {
      "cell_type": "code",
      "metadata": {
        "colab": {
          "base_uri": "https://localhost:8080/"
        },
        "id": "dsFEx0S13tjI",
        "outputId": "543fbd84-3f64-494a-8f6f-e1b4e7a4e551"
      },
      "source": [
        "# Checking the shapes of our splits \n",
        "train_sentences.shape , train_labels.shape , val_sentences.shape , val_labels.shape"
      ],
      "execution_count": 33,
      "outputs": [
        {
          "output_type": "execute_result",
          "data": {
            "text/plain": [
              "((6851,), (6851,), (762,), (762,))"
            ]
          },
          "metadata": {
            "tags": []
          },
          "execution_count": 33
        }
      ]
    },
    {
      "cell_type": "code",
      "metadata": {
        "colab": {
          "base_uri": "https://localhost:8080/"
        },
        "id": "PAJKkhbU5ZuR",
        "outputId": "f1ca65e1-414b-4b4c-9f50-169eb924cb44"
      },
      "source": [
        "from sklearn.feature_extraction.text import TfidfVectorizer\n",
        "\n",
        "# Creating a instance\n",
        "tfidf = TfidfVectorizer()\n",
        "\n",
        "# Fitting our data to our TfidfVectorizer \n",
        "tf_transformer = tfidf.fit(train_sentences)\n",
        "\n",
        "# Applying the transformation\n",
        "train_sen_trans = tf_transformer.transform(train_sentences)\n",
        "\n",
        "# Checking the shape \n",
        "train_sen_trans.shape"
      ],
      "execution_count": 34,
      "outputs": [
        {
          "output_type": "execute_result",
          "data": {
            "text/plain": [
              "(6851, 20076)"
            ]
          },
          "metadata": {
            "tags": []
          },
          "execution_count": 34
        }
      ]
    },
    {
      "cell_type": "code",
      "metadata": {
        "id": "Hk1wiOvw8U9f"
      },
      "source": [
        ""
      ],
      "execution_count": 34,
      "outputs": []
    },
    {
      "cell_type": "code",
      "metadata": {
        "colab": {
          "base_uri": "https://localhost:8080/"
        },
        "id": "4f_-oUXG7AFd",
        "outputId": "dd9cf4a3-11d0-4127-b3c9-3988f1397893"
      },
      "source": [
        "train_sen_trans[:1]"
      ],
      "execution_count": 35,
      "outputs": [
        {
          "output_type": "execute_result",
          "data": {
            "text/plain": [
              "<1x20076 sparse matrix of type '<class 'numpy.float64'>'\n",
              "\twith 6 stored elements in Compressed Sparse Row format>"
            ]
          },
          "metadata": {
            "tags": []
          },
          "execution_count": 35
        }
      ]
    },
    {
      "cell_type": "code",
      "metadata": {
        "colab": {
          "base_uri": "https://localhost:8080/"
        },
        "id": "bUn77iVG4DgT",
        "outputId": "744ebee6-0289-4db4-b7b1-131409d4a022"
      },
      "source": [
        "# Importing the naive bayes model for our classified \n",
        "from sklearn.naive_bayes import MultinomialNB\n",
        "\n",
        "# Creating a instance of our model \n",
        "clf_naive = MultinomialNB()\n",
        "\n",
        "# Fitting the data\n",
        "clf_naive.fit(train_sen_trans , train_labels)"
      ],
      "execution_count": 36,
      "outputs": [
        {
          "output_type": "execute_result",
          "data": {
            "text/plain": [
              "MultinomialNB(alpha=1.0, class_prior=None, fit_prior=True)"
            ]
          },
          "metadata": {
            "tags": []
          },
          "execution_count": 36
        }
      ]
    },
    {
      "cell_type": "markdown",
      "metadata": {
        "id": "O7WsjDr_4o9z"
      },
      "source": [
        "### Model 0: Getting a baseline \n",
        "\n",
        "To create our baseline, we'll use Sklearn's multinomal Naive Bayes using the TF-IDF formula to convert our words to numbers. \n",
        "\n",
        "> 🔑 **Note**: It's common practice to use non-DL algorithms as a baseline because of their speed and then later using the DL to see if we can improve. \n",
        "\n"
      ]
    },
    {
      "cell_type": "code",
      "metadata": {
        "colab": {
          "base_uri": "https://localhost:8080/"
        },
        "id": "TbCxVm415_nx",
        "outputId": "8868aa3f-a101-4e98-c6f0-ff805f18b063"
      },
      "source": [
        "train_labels"
      ],
      "execution_count": 37,
      "outputs": [
        {
          "output_type": "execute_result",
          "data": {
            "text/plain": [
              "array([0, 0, 1, ..., 1, 1, 0])"
            ]
          },
          "metadata": {
            "tags": []
          },
          "execution_count": 37
        }
      ]
    },
    {
      "cell_type": "code",
      "metadata": {
        "colab": {
          "base_uri": "https://localhost:8080/"
        },
        "id": "L3CkVvyj5H-D",
        "outputId": "bdef6bf2-c68a-4dee-a4e4-6c2c93141a98"
      },
      "source": [
        "from sklearn.feature_extraction.text import TfidfVectorizer # (turn text into numbers)\n",
        "from sklearn.naive_bayes import MultinomialNB\n",
        "from sklearn.pipeline import Pipeline \n",
        "\n",
        "# Create tokenization and modelling pipeline\n",
        "model_0 = Pipeline([\n",
        "                  ('tfidf' , TfidfVectorizer()) , # Convert words to numbers using tfidf\n",
        "                  ('clf' , MultinomialNB()), # Model the text \n",
        "                ])\n",
        "\n",
        "# Fit the pipeline to the training data \n",
        "model_0.fit(train_sentences , train_labels)"
      ],
      "execution_count": 38,
      "outputs": [
        {
          "output_type": "execute_result",
          "data": {
            "text/plain": [
              "Pipeline(memory=None,\n",
              "         steps=[('tfidf',\n",
              "                 TfidfVectorizer(analyzer='word', binary=False,\n",
              "                                 decode_error='strict',\n",
              "                                 dtype=<class 'numpy.float64'>,\n",
              "                                 encoding='utf-8', input='content',\n",
              "                                 lowercase=True, max_df=1.0, max_features=None,\n",
              "                                 min_df=1, ngram_range=(1, 1), norm='l2',\n",
              "                                 preprocessor=None, smooth_idf=True,\n",
              "                                 stop_words=None, strip_accents=None,\n",
              "                                 sublinear_tf=False,\n",
              "                                 token_pattern='(?u)\\\\b\\\\w\\\\w+\\\\b',\n",
              "                                 tokenizer=None, use_idf=True,\n",
              "                                 vocabulary=None)),\n",
              "                ('clf',\n",
              "                 MultinomialNB(alpha=1.0, class_prior=None, fit_prior=True))],\n",
              "         verbose=False)"
            ]
          },
          "metadata": {
            "tags": []
          },
          "execution_count": 38
        }
      ]
    },
    {
      "cell_type": "code",
      "metadata": {
        "colab": {
          "base_uri": "https://localhost:8080/"
        },
        "id": "_u9cp5jB5peK",
        "outputId": "90efeaa5-3e91-4abf-8dc8-66faa3fed7ef"
      },
      "source": [
        "# Evaluate our baseline model \n",
        "# Default evaluation metrics is accuracy\n",
        "baseline_score = model_0.score(val_sentences , val_labels)\n",
        "print(f'Our baseline mdoel achieves an accuracy of: {baseline_score*100:.2f}%')"
      ],
      "execution_count": 39,
      "outputs": [
        {
          "output_type": "stream",
          "text": [
            "Our baseline mdoel achieves an accuracy of: 79.27%\n"
          ],
          "name": "stdout"
        }
      ]
    },
    {
      "cell_type": "code",
      "metadata": {
        "colab": {
          "base_uri": "https://localhost:8080/"
        },
        "id": "Dl9JsXSN7ky8",
        "outputId": "699a9ce8-aacd-4733-d671-d3d9a234e8b9"
      },
      "source": [
        "# Make predictions \n",
        "baseline_preds = model_0.predict(val_sentences)\n",
        "\n",
        "# First 10 predictions\n",
        "baseline_preds[:10]"
      ],
      "execution_count": 40,
      "outputs": [
        {
          "output_type": "execute_result",
          "data": {
            "text/plain": [
              "array([1, 1, 1, 0, 0, 1, 1, 1, 1, 0])"
            ]
          },
          "metadata": {
            "tags": []
          },
          "execution_count": 40
        }
      ]
    },
    {
      "cell_type": "markdown",
      "metadata": {
        "id": "CAuUiBdK78kc"
      },
      "source": [
        "Let's use some of the other evaluation metrics. We will make a handy function which will help us to reduce the hustle of writing out every evaluation metrics. "
      ]
    },
    {
      "cell_type": "code",
      "metadata": {
        "id": "ffgtOsFj81s9"
      },
      "source": [
        "def classification_evaluation_metrics(y_true , \n",
        "                                      y_preds):\n",
        "  '''\n",
        "  Arguments: \n",
        "  y_true --> true labels of the data \n",
        "  y_preds --> predicted labels of the data \n",
        "\n",
        "  Returns: \n",
        "  A dictionary of evaluation metrics like precision , recall and f1_score\n",
        "  '''\n",
        "\n",
        "  # Let's first import the needed metrics \n",
        "  from sklearn.metrics import precision_score , f1_score , accuracy_score , recall_score\n",
        "\n",
        "  # Creting the metrics \n",
        "  accuracy = accuracy_score(y_true , y_preds)\n",
        "  f1_score = f1_score(y_true , y_preds)\n",
        "  precision = precision_score(y_true , y_preds)\n",
        "  recall = recall_score(y_true , y_preds)\n",
        "\n",
        "  # Now will create a dictionary of these metrics and pack them\n",
        "  evaluation_dict = {'Accuracy:': accuracy * 100 , \n",
        "                     'F1_Score: ': f1_score , \n",
        "                     'Precision: ': precision , \n",
        "                     'Recall: ': recall }\n",
        "\n",
        "  # Return our dictionary \n",
        "  return evaluation_dict\n",
        "  "
      ],
      "execution_count": 41,
      "outputs": []
    },
    {
      "cell_type": "code",
      "metadata": {
        "colab": {
          "base_uri": "https://localhost:8080/"
        },
        "id": "4-3DefbG9o43",
        "outputId": "87fe2418-1467-4ee0-8f75-db3129ef7666"
      },
      "source": [
        "# Using the above function \n",
        "naive_baseline_results = classification_evaluation_metrics(val_labels , \n",
        "                                                    baseline_preds)\n",
        "\n",
        "# Looking into the dictionary of evaluation metrics \n",
        "naive_baseline_results"
      ],
      "execution_count": 128,
      "outputs": [
        {
          "output_type": "execute_result",
          "data": {
            "text/plain": [
              "{'Accuracy:': 79.26509186351706,\n",
              " 'F1_Score: ': 0.734006734006734,\n",
              " 'Precision: ': 0.8861788617886179,\n",
              " 'Recall: ': 0.6264367816091954}"
            ]
          },
          "metadata": {
            "tags": []
          },
          "execution_count": 128
        }
      ]
    },
    {
      "cell_type": "markdown",
      "metadata": {
        "id": "MmYz3EG6-cGM"
      },
      "source": [
        "Great! Our baseline model worked better than we expected. Now let's build a Feed-forward neural network model for our text data.\n",
        "\n",
        "### Model 1: Feed Forward Neural Network (Dense layers) \n"
      ]
    },
    {
      "cell_type": "code",
      "metadata": {
        "id": "2VZoRLGGBFkl"
      },
      "source": [
        "# Create a tensorboard callback (to track the model experiments) \n",
        "# New one for each model\n",
        "from helper_functions import create_tensorboard_callback\n",
        "\n",
        "# Create a directory to save tensorboard logs \n",
        "SAVE_DIR = 'model_logs'"
      ],
      "execution_count": 43,
      "outputs": []
    },
    {
      "cell_type": "code",
      "metadata": {
        "colab": {
          "base_uri": "https://localhost:8080/"
        },
        "id": "Khw1pA1pFaWb",
        "outputId": "0d90d3cc-3c55-47c2-9b73-56e4eb3b00f8"
      },
      "source": [
        "# Build model with the functional API \n",
        "from tensorflow.keras import layers \n",
        "\n",
        "# Creating our input layer (inputs are 1D strings)\n",
        "inputs = layers.Input(shape=(1,) , dtype = tf.string)\n",
        "\n",
        "# Convert strings into numbers and applying word embedding\n",
        "x = text_vectorizer(inputs) # turn input text into numbers \n",
        "x = embedding(x) # Create an embedding of the numberized inputs \n",
        "\n",
        "# Ouput layer (want binary outputs so use sigmoid activation function)\n",
        "outputs = layers.Dense(1, activation='sigmoid')(x) \n",
        "\n",
        "# Packing into a model \n",
        "model_1 = tf.keras.Model(inputs , outputs , name = 'model_1_dense')\n",
        "\n",
        "# Getting the model summary \n",
        "model_1.summary()"
      ],
      "execution_count": 44,
      "outputs": [
        {
          "output_type": "stream",
          "text": [
            "Model: \"model_1_dense\"\n",
            "_________________________________________________________________\n",
            "Layer (type)                 Output Shape              Param #   \n",
            "=================================================================\n",
            "input_1 (InputLayer)         [(None, 1)]               0         \n",
            "_________________________________________________________________\n",
            "text_vectorization_1 (TextVe (None, 15)                0         \n",
            "_________________________________________________________________\n",
            "embedding (Embedding)        (None, 15, 128)           1280000   \n",
            "_________________________________________________________________\n",
            "dense (Dense)                (None, 15, 1)             129       \n",
            "=================================================================\n",
            "Total params: 1,280,129\n",
            "Trainable params: 1,280,129\n",
            "Non-trainable params: 0\n",
            "_________________________________________________________________\n"
          ],
          "name": "stdout"
        }
      ]
    },
    {
      "cell_type": "markdown",
      "metadata": {
        "id": "Z7FJjkw4GoiB"
      },
      "source": [
        "At `embedding_2 (Embedding)` our embedding layers adds a extra dimension 128 so our model's parameters gets increased in numbers.\n",
        "\n",
        "Because every single tokens (15 tokens) get represented as 128 long feature vector. "
      ]
    },
    {
      "cell_type": "code",
      "metadata": {
        "id": "vw1YnCMMG0QU"
      },
      "source": [
        "# Compile the model \n",
        "model_1.compile(loss = tf.keras.losses.BinaryCrossentropy() , \n",
        "                optimizer = tf.keras.optimizers.Adam() , \n",
        "                metrics = ['accuracy'])"
      ],
      "execution_count": 45,
      "outputs": []
    },
    {
      "cell_type": "code",
      "metadata": {
        "colab": {
          "base_uri": "https://localhost:8080/"
        },
        "id": "nu8pf9UvHqR1",
        "outputId": "8f1ff8c6-5841-4695-a36f-e38bdc714419"
      },
      "source": [
        "# Fit the model \n",
        "model_1_history = model_1.fit(train_sentences ,\n",
        "                              train_labels , \n",
        "                              epochs = 5 , \n",
        "                              validation_data = (val_sentences , val_labels) , \n",
        "                              callbacks = [create_tensorboard_callback(dir_name = SAVE_DIR , \n",
        "                                                                       experiment_name = 'model_1_dense')])"
      ],
      "execution_count": 46,
      "outputs": [
        {
          "output_type": "stream",
          "text": [
            "Saving TensorBoard log files to: model_logs/model_1_dense/20210527-111123\n",
            "Epoch 1/5\n",
            "215/215 [==============================] - 7s 18ms/step - loss: 0.6491 - accuracy: 0.6396 - val_loss: 0.6322 - val_accuracy: 0.6456\n",
            "Epoch 2/5\n",
            "215/215 [==============================] - 3s 14ms/step - loss: 0.5968 - accuracy: 0.6908 - val_loss: 0.6251 - val_accuracy: 0.6502\n",
            "Epoch 3/5\n",
            "215/215 [==============================] - 3s 14ms/step - loss: 0.5768 - accuracy: 0.6919 - val_loss: 0.6264 - val_accuracy: 0.6510\n",
            "Epoch 4/5\n",
            "215/215 [==============================] - 3s 14ms/step - loss: 0.5681 - accuracy: 0.6926 - val_loss: 0.6306 - val_accuracy: 0.6472\n",
            "Epoch 5/5\n",
            "215/215 [==============================] - 3s 14ms/step - loss: 0.5633 - accuracy: 0.6926 - val_loss: 0.6324 - val_accuracy: 0.6487\n"
          ],
          "name": "stdout"
        }
      ]
    },
    {
      "cell_type": "code",
      "metadata": {
        "colab": {
          "base_uri": "https://localhost:8080/"
        },
        "id": "FbtEqxwhIGAc",
        "outputId": "a586b19d-a8fe-4289-8e32-8e812298463b"
      },
      "source": [
        "# Check the results \n",
        "model_1.evaluate(val_sentences , val_labels)"
      ],
      "execution_count": 47,
      "outputs": [
        {
          "output_type": "stream",
          "text": [
            "24/24 [==============================] - 0s 3ms/step - loss: 0.6324 - accuracy: 0.6487\n"
          ],
          "name": "stdout"
        },
        {
          "output_type": "execute_result",
          "data": {
            "text/plain": [
              "[0.632392168045044, 0.6487314105033875]"
            ]
          },
          "metadata": {
            "tags": []
          },
          "execution_count": 47
        }
      ]
    },
    {
      "cell_type": "code",
      "metadata": {
        "colab": {
          "base_uri": "https://localhost:8080/"
        },
        "id": "Jsjg8-aTIfqj",
        "outputId": "bdbba0cd-8315-4269-bc47-39f1fc67fbb8"
      },
      "source": [
        "# Make some predictions and evaluate \n",
        "model_1_pred_probs = model_1.predict(val_sentences)\n",
        "model_1_pred_probs.shape"
      ],
      "execution_count": 48,
      "outputs": [
        {
          "output_type": "execute_result",
          "data": {
            "text/plain": [
              "(762, 15, 1)"
            ]
          },
          "metadata": {
            "tags": []
          },
          "execution_count": 48
        }
      ]
    },
    {
      "cell_type": "code",
      "metadata": {
        "colab": {
          "base_uri": "https://localhost:8080/"
        },
        "id": "rGYX8UtkIplD",
        "outputId": "48a1bb2b-5aab-4562-bb8d-6698c5804760"
      },
      "source": [
        "model_1_pred_probs[:1]"
      ],
      "execution_count": 49,
      "outputs": [
        {
          "output_type": "execute_result",
          "data": {
            "text/plain": [
              "array([[[0.4895 ],\n",
              "        [0.4895 ],\n",
              "        [0.4895 ],\n",
              "        [0.1896 ],\n",
              "        [0.5073 ],\n",
              "        [0.4895 ],\n",
              "        [0.4895 ],\n",
              "        [0.4895 ],\n",
              "        [0.09503],\n",
              "        [0.4177 ],\n",
              "        [0.4895 ],\n",
              "        [0.9395 ],\n",
              "        [0.04108],\n",
              "        [0.4895 ],\n",
              "        [0.4067 ]]], dtype=float16)"
            ]
          },
          "metadata": {
            "tags": []
          },
          "execution_count": 49
        }
      ]
    },
    {
      "cell_type": "markdown",
      "metadata": {
        "id": "pXjd2qFHItvp"
      },
      "source": [
        "We want a single prediction probability for each sample but it looks like it is outputing a prediction probability for each tokens.\n",
        "\n",
        "To fix this we will be using **GlobalAveragePooling** layer. This will help us to condense the feature vector for each token to one vector."
      ]
    },
    {
      "cell_type": "code",
      "metadata": {
        "id": "fvpHkavdJHG4"
      },
      "source": [
        "# Let's build the model again but with GlobalAveragePooling \n",
        "from tensorflow.keras import layers \n",
        "\n",
        "# Input layer\n",
        "inputs = layers.Input(shape = (1,) , dtype = tf.string)\n",
        "\n",
        "# Turn text into numbers and create an word embedding \n",
        "x = text_vectorizer(inputs)\n",
        "x = embedding(x)\n",
        "\n",
        "# Condense the feature vector for each token to \"one vector\"\n",
        "x = layers.GlobalAveragePooling1D()(x)\n",
        "\n",
        "# Output layer \n",
        "outputs = layers.Dense(1 , activation = 'sigmoid')(x)\n",
        "\n",
        "# Packing into a model \n",
        "model_1 = tf.keras.Model(inputs , outputs , name = 'model_1_dense')\n"
      ],
      "execution_count": 50,
      "outputs": []
    },
    {
      "cell_type": "code",
      "metadata": {
        "colab": {
          "base_uri": "https://localhost:8080/"
        },
        "id": "n3nbJxUJLIMe",
        "outputId": "709760e8-a570-4ff9-efcf-d8d314e83428"
      },
      "source": [
        "# Checking the summary of the model\n",
        "model_1.summary()"
      ],
      "execution_count": 51,
      "outputs": [
        {
          "output_type": "stream",
          "text": [
            "Model: \"model_1_dense\"\n",
            "_________________________________________________________________\n",
            "Layer (type)                 Output Shape              Param #   \n",
            "=================================================================\n",
            "input_2 (InputLayer)         [(None, 1)]               0         \n",
            "_________________________________________________________________\n",
            "text_vectorization_1 (TextVe (None, 15)                0         \n",
            "_________________________________________________________________\n",
            "embedding (Embedding)        (None, 15, 128)           1280000   \n",
            "_________________________________________________________________\n",
            "global_average_pooling1d (Gl (None, 128)               0         \n",
            "_________________________________________________________________\n",
            "dense_1 (Dense)              (None, 1)                 129       \n",
            "=================================================================\n",
            "Total params: 1,280,129\n",
            "Trainable params: 1,280,129\n",
            "Non-trainable params: 0\n",
            "_________________________________________________________________\n"
          ],
          "name": "stdout"
        }
      ]
    },
    {
      "cell_type": "code",
      "metadata": {
        "id": "k35WDOFwKHPt"
      },
      "source": [
        "# Compile the model \n",
        "model_1.compile(loss = tf.keras.losses.BinaryCrossentropy() , \n",
        "                optimizer = tf.keras.optimizers.Adam() , \n",
        "                metrics = 'accuracy')"
      ],
      "execution_count": 52,
      "outputs": []
    },
    {
      "cell_type": "code",
      "metadata": {
        "colab": {
          "base_uri": "https://localhost:8080/"
        },
        "id": "rXWkThpJKRJ9",
        "outputId": "4817f0d5-dfe6-4c22-c61c-e70bd980d8c1"
      },
      "source": [
        "# Fitting the model \n",
        "model_1.fit(train_sentences , \n",
        "            train_labels , \n",
        "            epochs = 5 , \n",
        "            validation_data = (val_sentences , val_labels) , \n",
        "            callbacks = create_tensorboard_callback(dir_name= SAVE_DIR , \n",
        "                                                    experiment_name = 'model_1_dense_pool_layer'))"
      ],
      "execution_count": 53,
      "outputs": [
        {
          "output_type": "stream",
          "text": [
            "Saving TensorBoard log files to: model_logs/model_1_dense_pool_layer/20210527-111143\n",
            "Epoch 1/5\n",
            "215/215 [==============================] - 5s 17ms/step - loss: 0.5698 - accuracy: 0.7599 - val_loss: 0.5241 - val_accuracy: 0.7638\n",
            "Epoch 2/5\n",
            "215/215 [==============================] - 3s 14ms/step - loss: 0.3997 - accuracy: 0.8526 - val_loss: 0.4630 - val_accuracy: 0.7808\n",
            "Epoch 3/5\n",
            "215/215 [==============================] - 3s 14ms/step - loss: 0.3173 - accuracy: 0.8800 - val_loss: 0.4524 - val_accuracy: 0.7900\n",
            "Epoch 4/5\n",
            "215/215 [==============================] - 3s 14ms/step - loss: 0.2640 - accuracy: 0.9015 - val_loss: 0.4540 - val_accuracy: 0.7913\n",
            "Epoch 5/5\n",
            "215/215 [==============================] - 3s 14ms/step - loss: 0.2246 - accuracy: 0.9196 - val_loss: 0.4701 - val_accuracy: 0.7900\n"
          ],
          "name": "stdout"
        },
        {
          "output_type": "execute_result",
          "data": {
            "text/plain": [
              "<tensorflow.python.keras.callbacks.History at 0x7fb2781e9d50>"
            ]
          },
          "metadata": {
            "tags": []
          },
          "execution_count": 53
        }
      ]
    },
    {
      "cell_type": "code",
      "metadata": {
        "colab": {
          "base_uri": "https://localhost:8080/"
        },
        "id": "YTjNQrq4Km3E",
        "outputId": "057e7416-60e7-4fc7-f212-dcc88ba88de3"
      },
      "source": [
        "# Checking the results by evaluatiing our model \n",
        "model_1.evaluate(val_sentences , val_labels)"
      ],
      "execution_count": 54,
      "outputs": [
        {
          "output_type": "stream",
          "text": [
            "24/24 [==============================] - 0s 3ms/step - loss: 0.4701 - accuracy: 0.7900\n"
          ],
          "name": "stdout"
        },
        {
          "output_type": "execute_result",
          "data": {
            "text/plain": [
              "[0.4701315462589264, 0.7900262475013733]"
            ]
          },
          "metadata": {
            "tags": []
          },
          "execution_count": 54
        }
      ]
    },
    {
      "cell_type": "code",
      "metadata": {
        "colab": {
          "base_uri": "https://localhost:8080/"
        },
        "id": "17mCz3ybKuEs",
        "outputId": "b251265e-7192-437d-ec44-53d26841083d"
      },
      "source": [
        "# Making prediction \n",
        "model_1_pred_probs = model_1.predict(val_sentences)\n",
        "model_1_pred_probs.shape"
      ],
      "execution_count": 55,
      "outputs": [
        {
          "output_type": "execute_result",
          "data": {
            "text/plain": [
              "(762, 1)"
            ]
          },
          "metadata": {
            "tags": []
          },
          "execution_count": 55
        }
      ]
    },
    {
      "cell_type": "code",
      "metadata": {
        "colab": {
          "base_uri": "https://localhost:8080/"
        },
        "id": "apxA4ntXK326",
        "outputId": "01effda6-d942-45e5-bed8-4cdd508faea2"
      },
      "source": [
        "# How our predictions looks now? \n",
        "model_1_pred_probs[:10]"
      ],
      "execution_count": 56,
      "outputs": [
        {
          "output_type": "execute_result",
          "data": {
            "text/plain": [
              "array([[0.3225],\n",
              "       [0.8013],\n",
              "       [0.997 ],\n",
              "       [0.163 ],\n",
              "       [0.1277],\n",
              "       [0.948 ],\n",
              "       [0.879 ],\n",
              "       [0.996 ],\n",
              "       [0.974 ],\n",
              "       [0.2834]], dtype=float16)"
            ]
          },
          "metadata": {
            "tags": []
          },
          "execution_count": 56
        }
      ]
    },
    {
      "cell_type": "code",
      "metadata": {
        "colab": {
          "base_uri": "https://localhost:8080/"
        },
        "id": "hTjB4MpMLBAY",
        "outputId": "b687ded4-a87b-41aa-faa0-2879a0b9d8aa"
      },
      "source": [
        "# Convert model prediction probs to label format \n",
        "\n",
        "model_1_preds = tf.squeeze(tf.round(model_1_pred_probs))\n",
        "model_1_preds[:20]"
      ],
      "execution_count": 57,
      "outputs": [
        {
          "output_type": "execute_result",
          "data": {
            "text/plain": [
              "<tf.Tensor: shape=(20,), dtype=float16, numpy=\n",
              "array([0., 1., 1., 0., 0., 1., 1., 1., 1., 0., 0., 1., 0., 0., 0., 0., 0.,\n",
              "       0., 0., 1.], dtype=float16)>"
            ]
          },
          "metadata": {
            "tags": []
          },
          "execution_count": 57
        }
      ]
    },
    {
      "cell_type": "code",
      "metadata": {
        "colab": {
          "base_uri": "https://localhost:8080/"
        },
        "id": "UFxONJ5WMn0k",
        "outputId": "66e452a2-da63-470c-a857-860922ebda14"
      },
      "source": [
        "# Calculate our model_1 results \n",
        "model_1_results = classification_evaluation_metrics(y_true = val_labels , \n",
        "                                                    y_preds = model_1_preds)\n",
        "\n",
        "model_1_results"
      ],
      "execution_count": 58,
      "outputs": [
        {
          "output_type": "execute_result",
          "data": {
            "text/plain": [
              "{'Accuracy:': 79.00262467191601,\n",
              " 'F1_Score: ': 0.7492163009404389,\n",
              " 'Precision: ': 0.8241379310344827,\n",
              " 'Recall: ': 0.6867816091954023}"
            ]
          },
          "metadata": {
            "tags": []
          },
          "execution_count": 58
        }
      ]
    },
    {
      "cell_type": "code",
      "metadata": {
        "colab": {
          "base_uri": "https://localhost:8080/"
        },
        "id": "vdKr9mZqM1D4",
        "outputId": "25750f7c-aee7-4c43-e66c-50d9ebe21b18"
      },
      "source": [
        "# Our baseline metrics \n",
        "naive_baseline_results"
      ],
      "execution_count": 129,
      "outputs": [
        {
          "output_type": "execute_result",
          "data": {
            "text/plain": [
              "{'Accuracy:': 79.26509186351706,\n",
              " 'F1_Score: ': 0.734006734006734,\n",
              " 'Precision: ': 0.8861788617886179,\n",
              " 'Recall: ': 0.6264367816091954}"
            ]
          },
          "metadata": {
            "tags": []
          },
          "execution_count": 129
        }
      ]
    },
    {
      "cell_type": "code",
      "metadata": {
        "colab": {
          "base_uri": "https://localhost:8080/"
        },
        "id": "QBthn7ZvM-pc",
        "outputId": "7c99963d-442a-48f3-9cb5-4a06606ac764"
      },
      "source": [
        "# Comparing our base line model with our deeplearning model\n",
        "import numpy as np\n",
        "np.array(list(model_1_results.values())) > np.array(list(naive_baseline_results.values()))"
      ],
      "execution_count": 130,
      "outputs": [
        {
          "output_type": "execute_result",
          "data": {
            "text/plain": [
              "array([False,  True, False,  True])"
            ]
          },
          "metadata": {
            "tags": []
          },
          "execution_count": 130
        }
      ]
    },
    {
      "cell_type": "markdown",
      "metadata": {
        "id": "hh1UM4cvNNci"
      },
      "source": [
        "### Visualizing our model's learned word embeddings with TensorFlow's projector tool"
      ]
    },
    {
      "cell_type": "code",
      "metadata": {
        "colab": {
          "base_uri": "https://localhost:8080/"
        },
        "id": "g9pggGkfNg6n",
        "outputId": "77c12216-8576-4568-9410-29f6b5af2b39"
      },
      "source": [
        "# Get the vocabulary from the text vectorization layer \n",
        "\n",
        "# Getting the unique vocabulary our embedding layer learnt\n",
        "words_in_vocab = text_vectorizer.get_vocabulary()\n",
        "len(words_in_vocab) , words_in_vocab[:10]"
      ],
      "execution_count": 61,
      "outputs": [
        {
          "output_type": "execute_result",
          "data": {
            "text/plain": [
              "(10000, ['', '[UNK]', 'the', 'a', 'in', 'to', 'of', 'and', 'i', 'is'])"
            ]
          },
          "metadata": {
            "tags": []
          },
          "execution_count": 61
        }
      ]
    },
    {
      "cell_type": "code",
      "metadata": {
        "colab": {
          "base_uri": "https://localhost:8080/"
        },
        "id": "yDE5iZC3OO2h",
        "outputId": "8c207e60-0eb1-49cc-e79f-4cac6ed10246"
      },
      "source": [
        "# Model 1 summary (inspect the embedding layer)\n",
        "model_1.summary()"
      ],
      "execution_count": 62,
      "outputs": [
        {
          "output_type": "stream",
          "text": [
            "Model: \"model_1_dense\"\n",
            "_________________________________________________________________\n",
            "Layer (type)                 Output Shape              Param #   \n",
            "=================================================================\n",
            "input_2 (InputLayer)         [(None, 1)]               0         \n",
            "_________________________________________________________________\n",
            "text_vectorization_1 (TextVe (None, 15)                0         \n",
            "_________________________________________________________________\n",
            "embedding (Embedding)        (None, 15, 128)           1280000   \n",
            "_________________________________________________________________\n",
            "global_average_pooling1d (Gl (None, 128)               0         \n",
            "_________________________________________________________________\n",
            "dense_1 (Dense)              (None, 1)                 129       \n",
            "=================================================================\n",
            "Total params: 1,280,129\n",
            "Trainable params: 1,280,129\n",
            "Non-trainable params: 0\n",
            "_________________________________________________________________\n"
          ],
          "name": "stdout"
        }
      ]
    },
    {
      "cell_type": "markdown",
      "metadata": {
        "id": "8KOQ3yM5OnCb"
      },
      "source": [
        "Let's get the weight matrix of our embedding layer \n",
        "\n",
        "These are the numerical representation of each token in our training data, which have been learned for 5 epochs (patterns from our embedding layer). "
      ]
    },
    {
      "cell_type": "code",
      "metadata": {
        "colab": {
          "base_uri": "https://localhost:8080/"
        },
        "id": "v8m8gYL4O4GN",
        "outputId": "403b0fa2-0af0-4ce6-f3c7-0b553955d250"
      },
      "source": [
        "embed_weights = model_1.get_layer('embedding').get_weights()\n",
        "embed_weights"
      ],
      "execution_count": 63,
      "outputs": [
        {
          "output_type": "execute_result",
          "data": {
            "text/plain": [
              "[array([[ 0.00703812,  0.07912082,  0.07676528, ...,  0.00101803,\n",
              "          0.01136775, -0.09358066],\n",
              "        [ 0.02614142, -0.0195411 ,  0.02847962, ..., -0.05451523,\n",
              "          0.01106524, -0.0627651 ],\n",
              "        [-0.0047106 ,  0.01667757,  0.0509136 , ..., -0.01553497,\n",
              "         -0.04616052, -0.05085025],\n",
              "        ...,\n",
              "        [ 0.03201046,  0.02925741, -0.02828186, ...,  0.02464871,\n",
              "         -0.03872454,  0.04999663],\n",
              "        [ 0.08245139, -0.11478715,  0.10491349, ..., -0.09466122,\n",
              "          0.08969917, -0.06350309],\n",
              "        [ 0.15278974, -0.13968992,  0.10933021, ..., -0.09657987,\n",
              "          0.16960892, -0.13664432]], dtype=float32)]"
            ]
          },
          "metadata": {
            "tags": []
          },
          "execution_count": 63
        }
      ]
    },
    {
      "cell_type": "markdown",
      "metadata": {
        "id": "8i6XvRzsPKd_"
      },
      "source": [
        "Those are the weights learned by our embedding layers. "
      ]
    },
    {
      "cell_type": "code",
      "metadata": {
        "colab": {
          "base_uri": "https://localhost:8080/"
        },
        "id": "lq-6SYq9PaJA",
        "outputId": "de6c3c2e-b8be-43dc-ae60-3c79959f53d2"
      },
      "source": [
        "# The shape should be same size as vocab and embedding_dim (output_dim of our embedding layer)\n",
        "embed_weights[0].shape "
      ],
      "execution_count": 64,
      "outputs": [
        {
          "output_type": "execute_result",
          "data": {
            "text/plain": [
              "(10000, 128)"
            ]
          },
          "metadata": {
            "tags": []
          },
          "execution_count": 64
        }
      ]
    },
    {
      "cell_type": "markdown",
      "metadata": {
        "id": "DiIR5NDZPlfx"
      },
      "source": [
        "From above we can understand that,\n",
        "1000 from every token is embedded into 128 dimension vector. \n",
        "\n",
        "Now we've got the embeddig matrix of our model has learned to represent our tokens, let's see how we visualize it. \n",
        "\n",
        "To do so, TensorFlow has a handy tool called projector: http://projector.tensorflow.org/_\n",
        "\n",
        "And TensorFlow also has a guide on Word Embeddings: https://www.tensorflow.org/tutorials/text/word_embeddings"
      ]
    },
    {
      "cell_type": "code",
      "metadata": {
        "id": "SCTJ0F4iPzZO"
      },
      "source": [
        "# Create embedding files (we got this from TensorFlow's word embeddings documentation)\n",
        "\n",
        "import io \n",
        "# Creating a vector and metadata file for our embeddings (tokens and words)\n",
        "out_v = io.open('vectors.tsv' , 'w' , encoding = 'utf-8')\n",
        "out_m = io.open('metadata.tsv' , 'w' , encoding = 'utf-8')\n",
        "\n",
        "# Loop through and write our values to the corresponding files we created above \n",
        "for index , word in enumerate(words_in_vocab):\n",
        "  if index == 0:\n",
        "    continue # Skip 0, its padding\n",
        "  \n",
        "  vec = embed_weights[0][index]\n",
        "  out_v.write('\\t'.join([str(x) for x in vec]) + \"\\n\")\n",
        "  out_m.write(word + '\\n')\n",
        "\n",
        "out_v.close()\n",
        "out_m.close()\n",
        "\n",
        "\n"
      ],
      "execution_count": 65,
      "outputs": []
    },
    {
      "cell_type": "code",
      "metadata": {
        "colab": {
          "base_uri": "https://localhost:8080/",
          "height": 17
        },
        "id": "V9qXC42Ykegy",
        "outputId": "a29c0123-10c8-4feb-b8ea-d331c71b0c48"
      },
      "source": [
        "# Download files from Colab to upload to the projector \n",
        "try: \n",
        "  from google.colab import files \n",
        "  files.download('vectors.tsv')\n",
        "  files.download('metadata.tsv')\n",
        "except Exception: \n",
        "  pass  "
      ],
      "execution_count": 66,
      "outputs": [
        {
          "output_type": "display_data",
          "data": {
            "application/javascript": [
              "\n",
              "    async function download(id, filename, size) {\n",
              "      if (!google.colab.kernel.accessAllowed) {\n",
              "        return;\n",
              "      }\n",
              "      const div = document.createElement('div');\n",
              "      const label = document.createElement('label');\n",
              "      label.textContent = `Downloading \"${filename}\": `;\n",
              "      div.appendChild(label);\n",
              "      const progress = document.createElement('progress');\n",
              "      progress.max = size;\n",
              "      div.appendChild(progress);\n",
              "      document.body.appendChild(div);\n",
              "\n",
              "      const buffers = [];\n",
              "      let downloaded = 0;\n",
              "\n",
              "      const channel = await google.colab.kernel.comms.open(id);\n",
              "      // Send a message to notify the kernel that we're ready.\n",
              "      channel.send({})\n",
              "\n",
              "      for await (const message of channel.messages) {\n",
              "        // Send a message to notify the kernel that we're ready.\n",
              "        channel.send({})\n",
              "        if (message.buffers) {\n",
              "          for (const buffer of message.buffers) {\n",
              "            buffers.push(buffer);\n",
              "            downloaded += buffer.byteLength;\n",
              "            progress.value = downloaded;\n",
              "          }\n",
              "        }\n",
              "      }\n",
              "      const blob = new Blob(buffers, {type: 'application/binary'});\n",
              "      const a = document.createElement('a');\n",
              "      a.href = window.URL.createObjectURL(blob);\n",
              "      a.download = filename;\n",
              "      div.appendChild(a);\n",
              "      a.click();\n",
              "      div.remove();\n",
              "    }\n",
              "  "
            ],
            "text/plain": [
              "<IPython.core.display.Javascript object>"
            ]
          },
          "metadata": {
            "tags": []
          }
        },
        {
          "output_type": "display_data",
          "data": {
            "application/javascript": [
              "download(\"download_ac9f82f9-decb-463b-b558-690ac006774c\", \"vectors.tsv\", 15102512)"
            ],
            "text/plain": [
              "<IPython.core.display.Javascript object>"
            ]
          },
          "metadata": {
            "tags": []
          }
        },
        {
          "output_type": "display_data",
          "data": {
            "application/javascript": [
              "\n",
              "    async function download(id, filename, size) {\n",
              "      if (!google.colab.kernel.accessAllowed) {\n",
              "        return;\n",
              "      }\n",
              "      const div = document.createElement('div');\n",
              "      const label = document.createElement('label');\n",
              "      label.textContent = `Downloading \"${filename}\": `;\n",
              "      div.appendChild(label);\n",
              "      const progress = document.createElement('progress');\n",
              "      progress.max = size;\n",
              "      div.appendChild(progress);\n",
              "      document.body.appendChild(div);\n",
              "\n",
              "      const buffers = [];\n",
              "      let downloaded = 0;\n",
              "\n",
              "      const channel = await google.colab.kernel.comms.open(id);\n",
              "      // Send a message to notify the kernel that we're ready.\n",
              "      channel.send({})\n",
              "\n",
              "      for await (const message of channel.messages) {\n",
              "        // Send a message to notify the kernel that we're ready.\n",
              "        channel.send({})\n",
              "        if (message.buffers) {\n",
              "          for (const buffer of message.buffers) {\n",
              "            buffers.push(buffer);\n",
              "            downloaded += buffer.byteLength;\n",
              "            progress.value = downloaded;\n",
              "          }\n",
              "        }\n",
              "      }\n",
              "      const blob = new Blob(buffers, {type: 'application/binary'});\n",
              "      const a = document.createElement('a');\n",
              "      a.href = window.URL.createObjectURL(blob);\n",
              "      a.download = filename;\n",
              "      div.appendChild(a);\n",
              "      a.click();\n",
              "      div.remove();\n",
              "    }\n",
              "  "
            ],
            "text/plain": [
              "<IPython.core.display.Javascript object>"
            ]
          },
          "metadata": {
            "tags": []
          }
        },
        {
          "output_type": "display_data",
          "data": {
            "application/javascript": [
              "download(\"download_f9740afb-450a-4afe-8d8f-d10b33368541\", \"metadata.tsv\", 80388)"
            ],
            "text/plain": [
              "<IPython.core.display.Javascript object>"
            ]
          },
          "metadata": {
            "tags": []
          }
        }
      ]
    },
    {
      "cell_type": "markdown",
      "metadata": {
        "id": "vTxqHZd9lkNF"
      },
      "source": [
        "> Resources: To learn more about embedding, \n",
        "* Jay Alamars visualized word2vec: https://jalammar.github.io/illustrated-word2vec/\n",
        "* TensorFlow's Word Embedding guide: https://www.tensorflow.org/tutorials/text/word_embeddings"
      ]
    },
    {
      "cell_type": "markdown",
      "metadata": {
        "id": "Bdpnh9E2nd4G"
      },
      "source": [
        "## Recurrent Neural Networks (RNN's)\n",
        "\n",
        "RNN's are useful for sequence data.\n",
        "\n",
        "The premise of a recurrent neural network is to use the representation of previous inputs to aid the representation of the later input. \n",
        "\n",
        "Use information from the past to help you with the future (this is where the term recurrent comes from). In other words, take an input (X) and compute an output (y) based on all previous inputs.\n",
        "\n",
        "> Resources to look into for learning RNN's \n",
        "- [RNN MIT Intro to deeplearning](https://www.youtube.com/watch?v=qjrad0V0uJE&list=PLtBw6njQRU-rwp5__7C0oIVt26ZgjG9NI&index=2)\n",
        "- [Understanding LSTMS](https://colah.github.io/posts/2015-08-Understanding-LSTMs/)\n",
        "- [Unreasonable effectiveness of RNN](https://karpathy.github.io/2015/05/21/rnn-effectiveness/)\n",
        "\n"
      ]
    },
    {
      "cell_type": "markdown",
      "metadata": {
        "id": "BkquozhfpxZs"
      },
      "source": [
        "### Model 2: LSTM \n",
        "\n",
        "LSTM = long short term memory (one of the most popular LSTM cells). \n",
        "\n",
        "Our structure of a RNN typically looks like this: \n",
        "\n",
        "```\n",
        "Input (text) --> Tokenize --> Embedding --> Layers (RNNs/dense) --> Output (label probability)\n",
        "```\n"
      ]
    },
    {
      "cell_type": "code",
      "metadata": {
        "colab": {
          "base_uri": "https://localhost:8080/"
        },
        "id": "GngA_4cErDeK",
        "outputId": "294a2654-30b5-4e01-9de9-66ee9177f630"
      },
      "source": [
        "# Create an LSTM model \n",
        "from tensorflow.keras import layers \n",
        "\n",
        "# Setting up inputs \n",
        "inputs = layers.Input(shape = (1,) , dtype = tf.string)\n",
        "\n",
        "# Converting text into numbers and creating a embedding \n",
        "x = text_vectorizer(inputs)\n",
        "x = embedding(x)\n",
        "print(f'After embedding: {x.shape}')\n",
        "\n",
        "# Our LSTM \n",
        "#x = layers.LSTM(64 , return_sequences=True)(x) \n",
        "# When you're stacking RNN cells together you need to set return_sequences = True\n",
        "#print(f'Output with return sequence True: {x.shape}') # Output with return sequence True\n",
        "x = layers.LSTM(64)(x)\n",
        "#print(f'Output with return sequence False: {x.shape}') # Output with return sequence False\n",
        "x = layers.Dense(64 , activation = 'relu')(x)\n",
        "\n",
        "# Initializing our outputs \n",
        "outputs = layers.Dense(1 , activation = 'sigmoid')(x)\n",
        "\n",
        "# Packing into a model \n",
        "model_2 = tf.keras.Model(inputs , outputs, name = 'model_2_LSTM')"
      ],
      "execution_count": 67,
      "outputs": [
        {
          "output_type": "stream",
          "text": [
            "After embedding: (None, 15, 128)\n"
          ],
          "name": "stdout"
        }
      ]
    },
    {
      "cell_type": "markdown",
      "metadata": {
        "id": "Wipkr65ct1DL"
      },
      "source": [
        "`inputs`: A 3D tensor with shape `[batch, timesteps, feature]`.\n",
        "\n",
        "- batch --> None by default\n",
        "- timestaps --> treat every sequence (word) as a timestamps. \n",
        "\n",
        "The default activation function for LSTM is **`tanh`**. \n",
        "\n",
        "[LSTM layer tensorflow](https://www.tensorflow.org/api_docs/python/tf/keras/layers/LSTM)"
      ]
    },
    {
      "cell_type": "code",
      "metadata": {
        "colab": {
          "base_uri": "https://localhost:8080/"
        },
        "id": "DuUXpE4JsUPS",
        "outputId": "a7910a19-f6ea-4b9c-9c31-0d5172e3d175"
      },
      "source": [
        "# Checking the model summary \n",
        "model_2.summary()"
      ],
      "execution_count": 68,
      "outputs": [
        {
          "output_type": "stream",
          "text": [
            "Model: \"model_2_LSTM\"\n",
            "_________________________________________________________________\n",
            "Layer (type)                 Output Shape              Param #   \n",
            "=================================================================\n",
            "input_3 (InputLayer)         [(None, 1)]               0         \n",
            "_________________________________________________________________\n",
            "text_vectorization_1 (TextVe (None, 15)                0         \n",
            "_________________________________________________________________\n",
            "embedding (Embedding)        (None, 15, 128)           1280000   \n",
            "_________________________________________________________________\n",
            "lstm (LSTM)                  (None, 64)                49408     \n",
            "_________________________________________________________________\n",
            "dense_2 (Dense)              (None, 64)                4160      \n",
            "_________________________________________________________________\n",
            "dense_3 (Dense)              (None, 1)                 65        \n",
            "=================================================================\n",
            "Total params: 1,333,633\n",
            "Trainable params: 1,333,633\n",
            "Non-trainable params: 0\n",
            "_________________________________________________________________\n"
          ],
          "name": "stdout"
        }
      ]
    },
    {
      "cell_type": "code",
      "metadata": {
        "id": "y4eEcO25vrU4"
      },
      "source": [
        "# Compile the model \n",
        "model_2.compile(loss = tf.keras.losses.BinaryCrossentropy()  , \n",
        "                optimizer = tf.keras.optimizers.Adam() , \n",
        "                metrics = ['accuracy'])"
      ],
      "execution_count": 69,
      "outputs": []
    },
    {
      "cell_type": "code",
      "metadata": {
        "colab": {
          "base_uri": "https://localhost:8080/"
        },
        "id": "MSicR9HFv0tq",
        "outputId": "d3080227-c93f-4889-f1b1-ef000f705084"
      },
      "source": [
        "# Fit the model \n",
        "model_2_history = model_2.fit(train_sentences , \n",
        "                              train_labels , \n",
        "                              validation_data = (val_sentences , val_labels) , \n",
        "                              epochs = 5 , \n",
        "                              callbacks = [create_tensorboard_callback(dir_name= SAVE_DIR , \n",
        "                                                                       experiment_name = 'model_2_LSTM')])"
      ],
      "execution_count": 70,
      "outputs": [
        {
          "output_type": "stream",
          "text": [
            "Saving TensorBoard log files to: model_logs/model_2_LSTM/20210527-111206\n",
            "Epoch 1/5\n",
            "215/215 [==============================] - 10s 22ms/step - loss: 0.1975 - accuracy: 0.9302 - val_loss: 0.5763 - val_accuracy: 0.7822\n",
            "Epoch 2/5\n",
            "215/215 [==============================] - 4s 16ms/step - loss: 0.1333 - accuracy: 0.9508 - val_loss: 0.7486 - val_accuracy: 0.7861\n",
            "Epoch 3/5\n",
            "215/215 [==============================] - 3s 16ms/step - loss: 0.1094 - accuracy: 0.9552 - val_loss: 0.6942 - val_accuracy: 0.7822\n",
            "Epoch 4/5\n",
            "215/215 [==============================] - 4s 16ms/step - loss: 0.0848 - accuracy: 0.9658 - val_loss: 1.1842 - val_accuracy: 0.7782\n",
            "Epoch 5/5\n",
            "215/215 [==============================] - 4s 17ms/step - loss: 0.0669 - accuracy: 0.9708 - val_loss: 1.0802 - val_accuracy: 0.7835\n"
          ],
          "name": "stdout"
        }
      ]
    },
    {
      "cell_type": "code",
      "metadata": {
        "colab": {
          "base_uri": "https://localhost:8080/"
        },
        "id": "X8XsxnUowL8J",
        "outputId": "b34e9e5b-6468-467d-b3d9-f8ccf2101fe7"
      },
      "source": [
        "# Make predictions with LSTM model \n",
        "model_2_pred_probs = model_2.predict(val_sentences)\n",
        "model_2_pred_probs[:10]"
      ],
      "execution_count": 71,
      "outputs": [
        {
          "output_type": "execute_result",
          "data": {
            "text/plain": [
              "array([[5.665e-03],\n",
              "       [8.965e-01],\n",
              "       [1.000e+00],\n",
              "       [1.484e-01],\n",
              "       [4.333e-05],\n",
              "       [1.000e+00],\n",
              "       [4.775e-01],\n",
              "       [1.000e+00],\n",
              "       [1.000e+00],\n",
              "       [3.560e-01]], dtype=float16)"
            ]
          },
          "metadata": {
            "tags": []
          },
          "execution_count": 71
        }
      ]
    },
    {
      "cell_type": "code",
      "metadata": {
        "colab": {
          "base_uri": "https://localhost:8080/"
        },
        "id": "YU_SS56cwYf2",
        "outputId": "6a8dca41-718d-4ada-cfb1-59f83dabb12d"
      },
      "source": [
        "# Convert model 2 pred probs to labels \n",
        "model_2_preds = tf.squeeze(tf.round(model_2_pred_probs))\n",
        "model_2_preds[:10]"
      ],
      "execution_count": 72,
      "outputs": [
        {
          "output_type": "execute_result",
          "data": {
            "text/plain": [
              "<tf.Tensor: shape=(10,), dtype=float16, numpy=array([0., 1., 1., 0., 0., 1., 0., 1., 1., 0.], dtype=float16)>"
            ]
          },
          "metadata": {
            "tags": []
          },
          "execution_count": 72
        }
      ]
    },
    {
      "cell_type": "code",
      "metadata": {
        "colab": {
          "base_uri": "https://localhost:8080/"
        },
        "id": "MYKB2q3EwlE0",
        "outputId": "b8c686ef-c7a3-4c00-939b-5c75751e744e"
      },
      "source": [
        "# Calculate model 2 results \n",
        "model_2_results = classification_evaluation_metrics(val_labels , \n",
        "                                                    model_2_preds)\n",
        "model_2_results"
      ],
      "execution_count": 73,
      "outputs": [
        {
          "output_type": "execute_result",
          "data": {
            "text/plain": [
              "{'Accuracy:': 78.34645669291339,\n",
              " 'F1_Score: ': 0.7449768160741885,\n",
              " 'Precision: ': 0.8060200668896321,\n",
              " 'Recall: ': 0.6925287356321839}"
            ]
          },
          "metadata": {
            "tags": []
          },
          "execution_count": 73
        }
      ]
    },
    {
      "cell_type": "code",
      "metadata": {
        "colab": {
          "base_uri": "https://localhost:8080/"
        },
        "id": "Z3_93CaCwueq",
        "outputId": "1806b274-0081-47ab-a3dc-bff8f199180d"
      },
      "source": [
        "naive_baseline_results"
      ],
      "execution_count": 131,
      "outputs": [
        {
          "output_type": "execute_result",
          "data": {
            "text/plain": [
              "{'Accuracy:': 79.26509186351706,\n",
              " 'F1_Score: ': 0.734006734006734,\n",
              " 'Precision: ': 0.8861788617886179,\n",
              " 'Recall: ': 0.6264367816091954}"
            ]
          },
          "metadata": {
            "tags": []
          },
          "execution_count": 131
        }
      ]
    },
    {
      "cell_type": "markdown",
      "metadata": {
        "id": "coDgGMK_xASa"
      },
      "source": [
        "### Model 3: GRU Model \n",
        "\n",
        "The GRU cell has similar features to an LSTM cell but has less parameters. \n",
        "\n",
        "[Understanding GRU networks](https://towardsdatascience.com/understanding-gru-networks-2ef37df6c9be)\n",
        "\n",
        "Previously we used a LSTM layers to build our RNN model now we will use a GRU layer also called Gater Recurrent Unit to build our model. "
      ]
    },
    {
      "cell_type": "code",
      "metadata": {
        "colab": {
          "base_uri": "https://localhost:8080/"
        },
        "id": "OWAGogQyw59x",
        "outputId": "229fbc48-cf71-47a4-be2b-7f757ef3103d"
      },
      "source": [
        "# Create a GRU model \n",
        "inputs = layers.Input(shape = (1,) , dtype = tf.string)\n",
        "\n",
        "# Converting text into numbers and performing word embeddings. \n",
        "x = text_vectorizer(inputs)\n",
        "x = embedding(x)\n",
        "print(x.shape)\n",
        "\n",
        "# Building our GRU model \n",
        "# If you want to stack recurrent layers on top of each other, you need return_sequences = True\n",
        "x = layers.GRU(64 , activation = 'tanh' , return_sequences=True)(x)\n",
        "print(x.shape)\n",
        "x = layers.LSTM(44 , return_sequences= True)(x) \n",
        "print(x.shape)\n",
        "x = layers.GRU(100)(x)\n",
        "print(x.shape)\n",
        "x = layers.Dense(64 , activation='relu')(x)\n",
        "\n",
        "# Global Average Pooling layer\n",
        "#x = layers.GlobalAveragePooling1D()(x)\n",
        "\n",
        "# Output layer \n",
        "outputs = layers.Dense(1 , activation= 'sigmoid')(x)\n",
        "\n",
        "# Packing into a model \n",
        "test_model_3 = tf.keras.Model(inputs , outputs)"
      ],
      "execution_count": 75,
      "outputs": [
        {
          "output_type": "stream",
          "text": [
            "(None, 15, 128)\n",
            "(None, 15, 64)\n",
            "(None, 15, 44)\n",
            "(None, 100)\n"
          ],
          "name": "stdout"
        }
      ]
    },
    {
      "cell_type": "code",
      "metadata": {
        "colab": {
          "base_uri": "https://localhost:8080/"
        },
        "id": "h5DtxMZBxqyc",
        "outputId": "c1a3eeb0-889d-4eb6-fcb8-f733687a2125"
      },
      "source": [
        "# Summary of the mdoel \n",
        "test_model_3.summary()"
      ],
      "execution_count": 76,
      "outputs": [
        {
          "output_type": "stream",
          "text": [
            "Model: \"model\"\n",
            "_________________________________________________________________\n",
            "Layer (type)                 Output Shape              Param #   \n",
            "=================================================================\n",
            "input_4 (InputLayer)         [(None, 1)]               0         \n",
            "_________________________________________________________________\n",
            "text_vectorization_1 (TextVe (None, 15)                0         \n",
            "_________________________________________________________________\n",
            "embedding (Embedding)        (None, 15, 128)           1280000   \n",
            "_________________________________________________________________\n",
            "gru (GRU)                    (None, 15, 64)            37248     \n",
            "_________________________________________________________________\n",
            "lstm_1 (LSTM)                (None, 15, 44)            19184     \n",
            "_________________________________________________________________\n",
            "gru_1 (GRU)                  (None, 100)               43800     \n",
            "_________________________________________________________________\n",
            "dense_4 (Dense)              (None, 64)                6464      \n",
            "_________________________________________________________________\n",
            "dense_5 (Dense)              (None, 1)                 65        \n",
            "=================================================================\n",
            "Total params: 1,386,761\n",
            "Trainable params: 1,386,761\n",
            "Non-trainable params: 0\n",
            "_________________________________________________________________\n"
          ],
          "name": "stdout"
        }
      ]
    },
    {
      "cell_type": "markdown",
      "metadata": {
        "id": "6Pt_yjyQzz6f"
      },
      "source": [
        "Alright we did some tinkering up there, now let's create a model 3 with only one GRU layer"
      ]
    },
    {
      "cell_type": "code",
      "metadata": {
        "id": "UOSurDzt0azg"
      },
      "source": [
        "# Creating a GRU model \n",
        "from tensorflow.keras import layers \n",
        "\n",
        "# Input layer \n",
        "inputs = layers.Input(shape = (1,) , dtype = tf.string)\n",
        "\n",
        "# Converting text into numbers and perform word embeddings \n",
        "x = text_vectorizer(inputs)\n",
        "x = embedding(x)\n",
        "\n",
        "# Our GRU layer \n",
        "#x = layers.GRU(64 , activation= 'tanh' , return_sequences= True)(x)\n",
        "x = layers.GRU(64)(x)\n",
        "\n",
        "# Global Average Pooling \n",
        "#x = layers.GlobalAveragePooling1D()(x)\n",
        "\n",
        "# Output layer \n",
        "outputs = layers.Dense(1 , activation='sigmoid')(x)\n",
        "\n",
        "# Packing into a model\n",
        "model_3 = tf.keras.Model(inputs , outputs) \n"
      ],
      "execution_count": 77,
      "outputs": []
    },
    {
      "cell_type": "code",
      "metadata": {
        "colab": {
          "base_uri": "https://localhost:8080/"
        },
        "id": "hXbsMyFc1SDY",
        "outputId": "59e2607e-4277-4b17-94ae-4abd55ad8d6a"
      },
      "source": [
        "# Model summary \n",
        "model_3.summary()"
      ],
      "execution_count": 78,
      "outputs": [
        {
          "output_type": "stream",
          "text": [
            "Model: \"model_1\"\n",
            "_________________________________________________________________\n",
            "Layer (type)                 Output Shape              Param #   \n",
            "=================================================================\n",
            "input_5 (InputLayer)         [(None, 1)]               0         \n",
            "_________________________________________________________________\n",
            "text_vectorization_1 (TextVe (None, 15)                0         \n",
            "_________________________________________________________________\n",
            "embedding (Embedding)        (None, 15, 128)           1280000   \n",
            "_________________________________________________________________\n",
            "gru_2 (GRU)                  (None, 64)                37248     \n",
            "_________________________________________________________________\n",
            "dense_6 (Dense)              (None, 1)                 65        \n",
            "=================================================================\n",
            "Total params: 1,317,313\n",
            "Trainable params: 1,317,313\n",
            "Non-trainable params: 0\n",
            "_________________________________________________________________\n"
          ],
          "name": "stdout"
        }
      ]
    },
    {
      "cell_type": "code",
      "metadata": {
        "id": "eEr0sTXe1WcJ"
      },
      "source": [
        "# Compile the model \n",
        "model_3.compile(loss = tf.keras.losses.BinaryCrossentropy() , \n",
        "                optimizer = tf.keras.optimizers.Adam() , \n",
        "                metrics = ['accuracy']) "
      ],
      "execution_count": 79,
      "outputs": []
    },
    {
      "cell_type": "code",
      "metadata": {
        "colab": {
          "base_uri": "https://localhost:8080/"
        },
        "id": "UufQ_01E2Mqm",
        "outputId": "4aadf3ba-b2d4-4944-8af3-4878986480c1"
      },
      "source": [
        "# Fit the model \n",
        "model_3_history = model_3.fit(train_sentences , \n",
        "                              train_labels , \n",
        "                              validation_data = (val_sentences , val_labels), \n",
        "                              epochs = 5 , \n",
        "                              callbacks = [create_tensorboard_callback(dir_name= SAVE_DIR , \n",
        "                                                                       experiment_name = 'model_3_GRU')]) \n"
      ],
      "execution_count": 80,
      "outputs": [
        {
          "output_type": "stream",
          "text": [
            "Saving TensorBoard log files to: model_logs/model_3_GRU/20210527-111232\n",
            "Epoch 1/5\n",
            "215/215 [==============================] - 6s 21ms/step - loss: 0.1444 - accuracy: 0.9457 - val_loss: 0.8340 - val_accuracy: 0.7717\n",
            "Epoch 2/5\n",
            "215/215 [==============================] - 3s 16ms/step - loss: 0.0799 - accuracy: 0.9721 - val_loss: 0.8272 - val_accuracy: 0.7690\n",
            "Epoch 3/5\n",
            "215/215 [==============================] - 3s 16ms/step - loss: 0.0653 - accuracy: 0.9734 - val_loss: 0.9744 - val_accuracy: 0.7730\n",
            "Epoch 4/5\n",
            "215/215 [==============================] - 3s 16ms/step - loss: 0.0554 - accuracy: 0.9758 - val_loss: 1.0878 - val_accuracy: 0.7651\n",
            "Epoch 5/5\n",
            "215/215 [==============================] - 3s 16ms/step - loss: 0.0512 - accuracy: 0.9774 - val_loss: 1.1599 - val_accuracy: 0.7638\n"
          ],
          "name": "stdout"
        }
      ]
    },
    {
      "cell_type": "code",
      "metadata": {
        "colab": {
          "base_uri": "https://localhost:8080/"
        },
        "id": "WCNpbclc2jeg",
        "outputId": "dd1ab500-2fdc-4ba1-ac48-7be597598bec"
      },
      "source": [
        "# Making predictions on the val set \n",
        "model_3_pred_probs = model_3.predict(val_sentences) \n",
        "model_3_pred_probs[:10]"
      ],
      "execution_count": 81,
      "outputs": [
        {
          "output_type": "execute_result",
          "data": {
            "text/plain": [
              "array([[7.734e-04],\n",
              "       [7.241e-01],\n",
              "       [1.000e+00],\n",
              "       [3.181e-01],\n",
              "       [1.314e-04],\n",
              "       [9.990e-01],\n",
              "       [6.265e-01],\n",
              "       [1.000e+00],\n",
              "       [1.000e+00],\n",
              "       [9.072e-01]], dtype=float16)"
            ]
          },
          "metadata": {
            "tags": []
          },
          "execution_count": 81
        }
      ]
    },
    {
      "cell_type": "code",
      "metadata": {
        "colab": {
          "base_uri": "https://localhost:8080/"
        },
        "id": "KSiTagcC2x_R",
        "outputId": "d36786bc-f91a-4beb-944e-e36d47ea3d77"
      },
      "source": [
        "# Convert model 3 pred probs to labels \n",
        "model_3_preds = tf.squeeze(tf.round(model_3_pred_probs))\n",
        "model_3_preds[:10]"
      ],
      "execution_count": 82,
      "outputs": [
        {
          "output_type": "execute_result",
          "data": {
            "text/plain": [
              "<tf.Tensor: shape=(10,), dtype=float16, numpy=array([0., 1., 1., 0., 0., 1., 1., 1., 1., 1.], dtype=float16)>"
            ]
          },
          "metadata": {
            "tags": []
          },
          "execution_count": 82
        }
      ]
    },
    {
      "cell_type": "code",
      "metadata": {
        "id": "U7pWpMX329XX"
      },
      "source": [
        "# Using our evalution metrics dictionary \n",
        "model_3_results = classification_evaluation_metrics(val_labels , \n",
        "                                                    model_3_preds)"
      ],
      "execution_count": 83,
      "outputs": []
    },
    {
      "cell_type": "code",
      "metadata": {
        "colab": {
          "base_uri": "https://localhost:8080/"
        },
        "id": "VzQfjhah3Ika",
        "outputId": "916c6b99-3bf2-4781-e5c0-bf07de53a771"
      },
      "source": [
        "model_3_results"
      ],
      "execution_count": 84,
      "outputs": [
        {
          "output_type": "execute_result",
          "data": {
            "text/plain": [
              "{'Accuracy:': 76.37795275590551,\n",
              " 'F1_Score: ': 0.724770642201835,\n",
              " 'Precision: ': 0.7745098039215687,\n",
              " 'Recall: ': 0.6810344827586207}"
            ]
          },
          "metadata": {
            "tags": []
          },
          "execution_count": 84
        }
      ]
    },
    {
      "cell_type": "markdown",
      "metadata": {
        "id": "gJ0ZRbgi3KdP"
      },
      "source": [
        "### Model 4: Bidirectional RNN Model \n",
        "\n",
        "Normal RNN's go from left to right (just like you'd read an English sentence) however, a bidirectional RNN goes from right to left as well as left to right. \n",
        "\n",
        "A birdirectional wrapper works for any RNN cells. "
      ]
    },
    {
      "cell_type": "markdown",
      "metadata": {
        "id": "Jx4xvYuz4wAT"
      },
      "source": [
        "Let's give a try before watching the video.  "
      ]
    },
    {
      "cell_type": "code",
      "metadata": {
        "colab": {
          "base_uri": "https://localhost:8080/"
        },
        "id": "eDaAX9OE4242",
        "outputId": "76e84239-2776-4b78-8e40-2fdb0a36de62"
      },
      "source": [
        "# Creating a Bidirectional RNN model \n",
        "from tensorflow.keras import layers\n",
        "# Input layer \n",
        "inputs = layers.Input(shape = (1, ) , dtype = tf.string)\n",
        "\n",
        "# Convert text into numbers and perform word embeddings \n",
        "x = text_vectorizer(inputs)\n",
        "x = embedding(x)\n",
        "print(x.shape)\n",
        "\n",
        "# Adding a Bidirectional RNN layer \n",
        "x = layers.Bidirectional(layers.LSTM(64 , return_sequences=True))(x)\n",
        "print(x.shape)\n",
        "\n",
        "x = layers.Bidirectional(layers.GRU(64))(x)\n",
        "print(x.shape)\n",
        "\n",
        "# Output layer \n",
        "outputs = layers.Dense(1 , activation= 'sigmoid')(x)\n",
        "print(outputs.shape)\n",
        "\n",
        "# Packing into a model \n",
        "test_model_4 = tf.keras.Model(inputs , outputs)"
      ],
      "execution_count": 85,
      "outputs": [
        {
          "output_type": "stream",
          "text": [
            "(None, 15, 128)\n",
            "(None, 15, 128)\n",
            "(None, 128)\n",
            "(None, 1)\n"
          ],
          "name": "stdout"
        }
      ]
    },
    {
      "cell_type": "markdown",
      "metadata": {
        "id": "BVaZDpmN7IJG"
      },
      "source": [
        "Here we have added `return_sequence = True` because we want to stack another RNN layer with our current RNN layer. "
      ]
    },
    {
      "cell_type": "code",
      "metadata": {
        "colab": {
          "base_uri": "https://localhost:8080/"
        },
        "id": "zllZMbRm5ljJ",
        "outputId": "8ad1372a-1065-487c-8059-b50ee2bb893f"
      },
      "source": [
        "# Model summary \n",
        "test_model_4.summary()"
      ],
      "execution_count": 86,
      "outputs": [
        {
          "output_type": "stream",
          "text": [
            "Model: \"model_2\"\n",
            "_________________________________________________________________\n",
            "Layer (type)                 Output Shape              Param #   \n",
            "=================================================================\n",
            "input_6 (InputLayer)         [(None, 1)]               0         \n",
            "_________________________________________________________________\n",
            "text_vectorization_1 (TextVe (None, 15)                0         \n",
            "_________________________________________________________________\n",
            "embedding (Embedding)        (None, 15, 128)           1280000   \n",
            "_________________________________________________________________\n",
            "bidirectional (Bidirectional (None, 15, 128)           98816     \n",
            "_________________________________________________________________\n",
            "bidirectional_1 (Bidirection (None, 128)               74496     \n",
            "_________________________________________________________________\n",
            "dense_7 (Dense)              (None, 1)                 129       \n",
            "=================================================================\n",
            "Total params: 1,453,441\n",
            "Trainable params: 1,453,441\n",
            "Non-trainable params: 0\n",
            "_________________________________________________________________\n"
          ],
          "name": "stdout"
        }
      ]
    },
    {
      "cell_type": "markdown",
      "metadata": {
        "id": "2UtEclC552Ej"
      },
      "source": [
        "Following the video \n"
      ]
    },
    {
      "cell_type": "code",
      "metadata": {
        "colab": {
          "base_uri": "https://localhost:8080/"
        },
        "id": "RNsJRC5M9yBN",
        "outputId": "7e839f46-b426-4873-a553-1664f3d7a819"
      },
      "source": [
        "# Creating a Bidirectional RNN model \n",
        "from tensorflow.keras import layers\n",
        "# Input layer \n",
        "inputs = layers.Input(shape = (1, ) , dtype = tf.string)\n",
        "\n",
        "# Convert text into numbers and perform word embeddings \n",
        "x = text_vectorizer(inputs)\n",
        "x = embedding(x)\n",
        "print(x.shape)\n",
        "\n",
        "# Adding a Bidirectional RNN layer \n",
        "x = layers.Bidirectional(layers.LSTM(64 , return_sequences=True))(x)\n",
        "print(x.shape)\n",
        "x = layers.Bidirectional(layers.GRU(64))(x)\n",
        "print(x.shape)\n",
        "\n",
        "# Output layer \n",
        "outputs = layers.Dense(1 , activation= 'sigmoid')(x)\n",
        "print(outputs.shape)\n",
        "\n",
        "# Packing into a model \n",
        "model_4 = tf.keras.Model(inputs , outputs)"
      ],
      "execution_count": 87,
      "outputs": [
        {
          "output_type": "stream",
          "text": [
            "(None, 15, 128)\n",
            "(None, 15, 128)\n",
            "(None, 128)\n",
            "(None, 1)\n"
          ],
          "name": "stdout"
        }
      ]
    },
    {
      "cell_type": "code",
      "metadata": {
        "colab": {
          "base_uri": "https://localhost:8080/"
        },
        "id": "VfJFWjwi96VV",
        "outputId": "43efae06-3e8e-4601-a6a3-2a534284025c"
      },
      "source": [
        "# Model Summary \n",
        "model_4.summary()"
      ],
      "execution_count": 88,
      "outputs": [
        {
          "output_type": "stream",
          "text": [
            "Model: \"model_3\"\n",
            "_________________________________________________________________\n",
            "Layer (type)                 Output Shape              Param #   \n",
            "=================================================================\n",
            "input_7 (InputLayer)         [(None, 1)]               0         \n",
            "_________________________________________________________________\n",
            "text_vectorization_1 (TextVe (None, 15)                0         \n",
            "_________________________________________________________________\n",
            "embedding (Embedding)        (None, 15, 128)           1280000   \n",
            "_________________________________________________________________\n",
            "bidirectional_2 (Bidirection (None, 15, 128)           98816     \n",
            "_________________________________________________________________\n",
            "bidirectional_3 (Bidirection (None, 128)               74496     \n",
            "_________________________________________________________________\n",
            "dense_8 (Dense)              (None, 1)                 129       \n",
            "=================================================================\n",
            "Total params: 1,453,441\n",
            "Trainable params: 1,453,441\n",
            "Non-trainable params: 0\n",
            "_________________________________________________________________\n"
          ],
          "name": "stdout"
        }
      ]
    },
    {
      "cell_type": "markdown",
      "metadata": {
        "id": "xokR6cw199e9"
      },
      "source": [
        "Bidirectional wrapper doubles the units so the representation will go from **64 to 128**. \n",
        "\n",
        "Bidirectional --> representation gets doubled"
      ]
    },
    {
      "cell_type": "code",
      "metadata": {
        "id": "Gammsj0F-g-D"
      },
      "source": [
        "# Compile the model \n",
        "model_4.compile(loss = tf.keras.losses.BinaryCrossentropy() , \n",
        "                optimizer = tf.keras.optimizers.Adam() , \n",
        "                metrics = ['accuracy'])"
      ],
      "execution_count": 89,
      "outputs": []
    },
    {
      "cell_type": "code",
      "metadata": {
        "colab": {
          "base_uri": "https://localhost:8080/"
        },
        "id": "HB0-GE-j-vIm",
        "outputId": "d57b0177-b044-47b1-df53-dfdd31418a18"
      },
      "source": [
        "# Fit the model \n",
        "model_4_history = model_4.fit(train_sentences , \n",
        "                              train_labels , \n",
        "                              validation_data = (val_sentences , val_labels) , \n",
        "                              epochs = 5 , \n",
        "                              callbacks = [create_tensorboard_callback(dir_name= SAVE_DIR , \n",
        "                                                                       experiment_name = 'model_4_bidirectional')])\n"
      ],
      "execution_count": 90,
      "outputs": [
        {
          "output_type": "stream",
          "text": [
            "Saving TensorBoard log files to: model_logs/model_4_bidirectional/20210527-111257\n",
            "Epoch 1/5\n",
            "215/215 [==============================] - 12s 31ms/step - loss: 0.0956 - accuracy: 0.9650 - val_loss: 0.9826 - val_accuracy: 0.7677\n",
            "Epoch 2/5\n",
            "215/215 [==============================] - 5s 22ms/step - loss: 0.0519 - accuracy: 0.9771 - val_loss: 1.1905 - val_accuracy: 0.7795\n",
            "Epoch 3/5\n",
            "215/215 [==============================] - 5s 22ms/step - loss: 0.0443 - accuracy: 0.9784 - val_loss: 1.3011 - val_accuracy: 0.7743\n",
            "Epoch 4/5\n",
            "215/215 [==============================] - 5s 22ms/step - loss: 0.0419 - accuracy: 0.9801 - val_loss: 1.3300 - val_accuracy: 0.7677\n",
            "Epoch 5/5\n",
            "215/215 [==============================] - 5s 22ms/step - loss: 0.0446 - accuracy: 0.9787 - val_loss: 1.2506 - val_accuracy: 0.7638\n"
          ],
          "name": "stdout"
        }
      ]
    },
    {
      "cell_type": "markdown",
      "metadata": {
        "id": "0Dl7eBhm_W32"
      },
      "source": [
        "Usually adding a bidirectional to a sequences increase the trainin time. "
      ]
    },
    {
      "cell_type": "code",
      "metadata": {
        "colab": {
          "base_uri": "https://localhost:8080/"
        },
        "id": "w2qQW5XT_DjD",
        "outputId": "84e98d16-8028-4ae1-8459-a960eb051781"
      },
      "source": [
        "# Make predictions without our model 4 \n",
        "model_4_pred_probs = model_4.predict(val_sentences)\n",
        "model_4_pred_probs[:10]"
      ],
      "execution_count": 91,
      "outputs": [
        {
          "output_type": "execute_result",
          "data": {
            "text/plain": [
              "array([[1.9417e-03],\n",
              "       [8.1592e-01],\n",
              "       [1.0000e+00],\n",
              "       [4.8267e-01],\n",
              "       [2.3544e-05],\n",
              "       [1.0000e+00],\n",
              "       [1.4175e-02],\n",
              "       [1.0000e+00],\n",
              "       [1.0000e+00],\n",
              "       [9.9707e-01]], dtype=float16)"
            ]
          },
          "metadata": {
            "tags": []
          },
          "execution_count": 91
        }
      ]
    },
    {
      "cell_type": "code",
      "metadata": {
        "colab": {
          "base_uri": "https://localhost:8080/"
        },
        "id": "2zOOO2mv_TAO",
        "outputId": "4b3b2db5-59ce-41f5-de23-06ef1a368c35"
      },
      "source": [
        "# Convert pred probs to labels\n",
        "model_4_preds = tf.squeeze(tf.round(model_4_pred_probs))\n",
        "model_4_preds[:10]"
      ],
      "execution_count": 92,
      "outputs": [
        {
          "output_type": "execute_result",
          "data": {
            "text/plain": [
              "<tf.Tensor: shape=(10,), dtype=float16, numpy=array([0., 1., 1., 0., 0., 1., 0., 1., 1., 1.], dtype=float16)>"
            ]
          },
          "metadata": {
            "tags": []
          },
          "execution_count": 92
        }
      ]
    },
    {
      "cell_type": "code",
      "metadata": {
        "colab": {
          "base_uri": "https://localhost:8080/"
        },
        "id": "VmfL6HHp_meF",
        "outputId": "f10d8b25-3bd3-4c6a-c086-b56d462fbbba"
      },
      "source": [
        "# Calculate the results of our bidirectional model \n",
        "model_4_results = classification_evaluation_metrics(val_labels , \n",
        "                                                    model_4_preds)\n",
        "model_4_results"
      ],
      "execution_count": 93,
      "outputs": [
        {
          "output_type": "execute_result",
          "data": {
            "text/plain": [
              "{'Accuracy:': 76.37795275590551,\n",
              " 'F1_Score: ': 0.7256097560975611,\n",
              " 'Precision: ': 0.7727272727272727,\n",
              " 'Recall: ': 0.6839080459770115}"
            ]
          },
          "metadata": {
            "tags": []
          },
          "execution_count": 93
        }
      ]
    },
    {
      "cell_type": "markdown",
      "metadata": {
        "id": "wkujnupg_wd-"
      },
      "source": [
        "Hmm.. Our bidirectional model is performing worse than our uni-directional models. \n",
        "\n",
        "We should emphasize from this that not all experiments will go well. "
      ]
    },
    {
      "cell_type": "markdown",
      "metadata": {
        "id": "rMWEvJvEQ21D"
      },
      "source": [
        "## Convolutional Neural Networks for Text (and other types of sequences)\n",
        "\n",
        "We've used CNN's for images but images are typically 2D (height x width).... however, our text data is 1D. \n",
        "\n",
        "Previously we've used Conv2D for our image data but now we're going to use Conv1D. \n",
        "\n",
        "The typical structure of a Conv1D model for sequences (in our case, text): \n",
        "```\n",
        "Inputs (text) --> Tokenization --> Embedding --> Layer(s) (typically Conv1D + pooling) --> Outputs (class probabilities)\n",
        "```\n",
        "\n",
        "https://stackoverflow.com/questions/42883547/intuitive-understanding-of-1d-2d-and-3d-convolutions-in-convolutional-neural-n"
      ]
    },
    {
      "cell_type": "markdown",
      "metadata": {
        "id": "vyHbWuM6XK4K"
      },
      "source": [
        "## Model 5: Conv1D\n",
        "\n"
      ]
    },
    {
      "cell_type": "code",
      "metadata": {
        "id": "dwnGWxojXaRP"
      },
      "source": [
        "# Test our our embedding layer , COnv1D layer and max pooling (Let's look into inputs and outputs)\n",
        "from tensorflow.keras import layers\n",
        "# Turn target sequence into a embedding\n",
        "embedding_test = embedding(text_vectorizer(['this is a test sentence']))\n",
        "\n",
        "# Building a Conv1D layer\n",
        "conv_1d = layers.Conv1D(filters = 32 , \n",
        "                        kernel_size = 5 , # this is salso referred to as ngrams of 5 (means group of 5 words at a time)\n",
        "                        activation = 'relu' , \n",
        "                        padding = 'valid')\n",
        "\n",
        "# Conv1D output \n",
        "conv_1d_output = conv_1d(embedding_test) # pass test embedding through conv1d layer\n",
        "\n",
        "# Poolin layer \n",
        "max_pool = layers.GlobalMaxPool1D()\n",
        "\n",
        "# Output of our max pool layer \n",
        "# equivalent to get the most important features (or) get the features with highest value\n",
        "max_pool_output = max_pool(conv_1d_output)"
      ],
      "execution_count": 94,
      "outputs": []
    },
    {
      "cell_type": "code",
      "metadata": {
        "colab": {
          "base_uri": "https://localhost:8080/"
        },
        "id": "_JNjj6FIZQl3",
        "outputId": "df6ec458-b81d-482a-9bac-f01e56daffd4"
      },
      "source": [
        "# Checking the shapes \n",
        "embedding_test.shape , conv_1d_output.shape , max_pool_output.shape"
      ],
      "execution_count": 95,
      "outputs": [
        {
          "output_type": "execute_result",
          "data": {
            "text/plain": [
              "(TensorShape([1, 15, 128]), TensorShape([1, 11, 32]), TensorShape([1, 32]))"
            ]
          },
          "metadata": {
            "tags": []
          },
          "execution_count": 95
        }
      ]
    },
    {
      "cell_type": "code",
      "metadata": {
        "colab": {
          "base_uri": "https://localhost:8080/"
        },
        "id": "0ICQTjQhZWZA",
        "outputId": "8d6305c9-6915-490f-84ed-6db52305b50b"
      },
      "source": [
        "# Our embedding text\n",
        "embedding_test"
      ],
      "execution_count": 96,
      "outputs": [
        {
          "output_type": "execute_result",
          "data": {
            "text/plain": [
              "<tf.Tensor: shape=(1, 15, 128), dtype=float16, numpy=\n",
              "array([[[-0.0248   , -0.02011  , -0.02307  , ..., -0.0331   ,\n",
              "         -0.01888  , -0.02849  ],\n",
              "        [-0.03815  , -0.0443   ,  0.04297  , ..., -0.03903  ,\n",
              "          0.01444  ,  0.0003366],\n",
              "        [ 0.05692  ,  0.02214  , -0.00827  , ..., -0.03488  ,\n",
              "          0.04462  , -0.02164  ],\n",
              "        ...,\n",
              "        [ 0.02113  ,  0.03625  ,  0.0685   , ..., -0.005318 ,\n",
              "          0.008736 , -0.0618   ],\n",
              "        [ 0.02113  ,  0.03625  ,  0.0685   , ..., -0.005318 ,\n",
              "          0.008736 , -0.0618   ],\n",
              "        [ 0.02113  ,  0.03625  ,  0.0685   , ..., -0.005318 ,\n",
              "          0.008736 , -0.0618   ]]], dtype=float16)>"
            ]
          },
          "metadata": {
            "tags": []
          },
          "execution_count": 96
        }
      ]
    },
    {
      "cell_type": "code",
      "metadata": {
        "colab": {
          "base_uri": "https://localhost:8080/"
        },
        "id": "83mfFKX6bnK4",
        "outputId": "ce71ab6e-7d94-4d12-b587-6efad3dee52d"
      },
      "source": [
        "# Our Conv1D output \n",
        "conv_1d_output"
      ],
      "execution_count": 97,
      "outputs": [
        {
          "output_type": "execute_result",
          "data": {
            "text/plain": [
              "<tf.Tensor: shape=(1, 11, 32), dtype=float16, numpy=\n",
              "array([[[0.0831   , 0.       , 0.058    , 0.01854  , 0.       ,\n",
              "         0.       , 0.05814  , 0.0508   , 0.       , 0.       ,\n",
              "         0.       , 0.013695 , 0.0651   , 0.04434  , 0.       ,\n",
              "         0.       , 0.0059   , 0.05902  , 0.       , 0.       ,\n",
              "         0.03918  , 0.       , 0.       , 0.1293   , 0.03415  ,\n",
              "         0.       , 0.       , 0.06604  , 0.04205  , 0.       ,\n",
              "         0.05276  , 0.00952  ],\n",
              "        [0.04037  , 0.       , 0.       , 0.0513   , 0.       ,\n",
              "         0.       , 0.04288  , 0.06976  , 0.01243  , 0.       ,\n",
              "         0.       , 0.       , 0.       , 0.001576 , 0.       ,\n",
              "         0.04266  , 0.08203  , 0.       , 0.06165  , 0.12006  ,\n",
              "         0.       , 0.       , 0.       , 0.       , 0.05103  ,\n",
              "         0.0167   , 0.00949  , 0.01014  , 0.02933  , 0.01422  ,\n",
              "         0.06067  , 0.0336   ],\n",
              "        [0.05133  , 0.       , 0.       , 0.       , 0.       ,\n",
              "         0.       , 0.       , 0.       , 0.00092  , 0.1033   ,\n",
              "         0.       , 0.       , 0.01098  , 0.05685  , 0.06067  ,\n",
              "         0.       , 0.       , 0.0276   , 0.03268  , 0.       ,\n",
              "         0.03372  , 0.       , 0.0006714, 0.02167  , 0.       ,\n",
              "         0.004353 , 0.       , 0.       , 0.03552  , 0.0389   ,\n",
              "         0.0264   , 0.10834  ],\n",
              "        [0.02565  , 0.03363  , 0.0937   , 0.       , 0.       ,\n",
              "         0.       , 0.01476  , 0.       , 0.01093  , 0.04803  ,\n",
              "         0.       , 0.       , 0.       , 0.       , 0.       ,\n",
              "         0.04178  , 0.       , 0.       , 0.117    , 0.       ,\n",
              "         0.       , 0.       , 0.       , 0.       , 0.03085  ,\n",
              "         0.01362  , 0.       , 0.       , 0.05103  , 0.01996  ,\n",
              "         0.1087   , 0.04337  ],\n",
              "        [0.0638   , 0.       , 0.05667  , 0.02014  , 0.       ,\n",
              "         0.       , 0.       , 0.       , 0.05655  , 0.01752  ,\n",
              "         0.01706  , 0.       , 0.002426 , 0.       , 0.       ,\n",
              "         0.010666 , 0.       , 0.0094   , 0.0733   , 0.       ,\n",
              "         0.0352   , 0.       , 0.       , 0.       , 0.06067  ,\n",
              "         0.       , 0.       , 0.       , 0.01042  , 0.       ,\n",
              "         0.0842   , 0.012634 ],\n",
              "        [0.05228  , 0.       , 0.02415  , 0.       , 0.       ,\n",
              "         0.       , 0.       , 0.       , 0.007423 , 0.003225 ,\n",
              "         0.01656  , 0.       , 0.       , 0.       , 0.       ,\n",
              "         0.       , 0.       , 0.04056  , 0.0548   , 0.       ,\n",
              "         0.0383   , 0.       , 0.       , 0.       , 0.07684  ,\n",
              "         0.       , 0.       , 0.02637  , 0.05792  , 0.       ,\n",
              "         0.07556  , 0.02692  ],\n",
              "        [0.05228  , 0.       , 0.02415  , 0.       , 0.       ,\n",
              "         0.       , 0.       , 0.       , 0.007423 , 0.003225 ,\n",
              "         0.01656  , 0.       , 0.       , 0.       , 0.       ,\n",
              "         0.       , 0.       , 0.04056  , 0.0548   , 0.       ,\n",
              "         0.0383   , 0.       , 0.       , 0.       , 0.07684  ,\n",
              "         0.       , 0.       , 0.02637  , 0.05792  , 0.       ,\n",
              "         0.07556  , 0.02692  ],\n",
              "        [0.05228  , 0.       , 0.02415  , 0.       , 0.       ,\n",
              "         0.       , 0.       , 0.       , 0.007423 , 0.003225 ,\n",
              "         0.01656  , 0.       , 0.       , 0.       , 0.       ,\n",
              "         0.       , 0.       , 0.04056  , 0.0548   , 0.       ,\n",
              "         0.0383   , 0.       , 0.       , 0.       , 0.07684  ,\n",
              "         0.       , 0.       , 0.02637  , 0.05792  , 0.       ,\n",
              "         0.07556  , 0.02692  ],\n",
              "        [0.05228  , 0.       , 0.02415  , 0.       , 0.       ,\n",
              "         0.       , 0.       , 0.       , 0.007423 , 0.003225 ,\n",
              "         0.01656  , 0.       , 0.       , 0.       , 0.       ,\n",
              "         0.       , 0.       , 0.04056  , 0.0548   , 0.       ,\n",
              "         0.0383   , 0.       , 0.       , 0.       , 0.07684  ,\n",
              "         0.       , 0.       , 0.02637  , 0.05792  , 0.       ,\n",
              "         0.07556  , 0.02692  ],\n",
              "        [0.05228  , 0.       , 0.02415  , 0.       , 0.       ,\n",
              "         0.       , 0.       , 0.       , 0.007423 , 0.003225 ,\n",
              "         0.01656  , 0.       , 0.       , 0.       , 0.       ,\n",
              "         0.       , 0.       , 0.04056  , 0.0548   , 0.       ,\n",
              "         0.0383   , 0.       , 0.       , 0.       , 0.07684  ,\n",
              "         0.       , 0.       , 0.02637  , 0.05792  , 0.       ,\n",
              "         0.07556  , 0.02692  ],\n",
              "        [0.05228  , 0.       , 0.02415  , 0.       , 0.       ,\n",
              "         0.       , 0.       , 0.       , 0.007423 , 0.003225 ,\n",
              "         0.01656  , 0.       , 0.       , 0.       , 0.       ,\n",
              "         0.       , 0.       , 0.04056  , 0.0548   , 0.       ,\n",
              "         0.0383   , 0.       , 0.       , 0.       , 0.07684  ,\n",
              "         0.       , 0.       , 0.02637  , 0.05792  , 0.       ,\n",
              "         0.07556  , 0.02692  ]]], dtype=float16)>"
            ]
          },
          "metadata": {
            "tags": []
          },
          "execution_count": 97
        }
      ]
    },
    {
      "cell_type": "code",
      "metadata": {
        "colab": {
          "base_uri": "https://localhost:8080/"
        },
        "id": "g0623c-mbtIq",
        "outputId": "c911b53a-88c0-4d2d-bbc2-bb032ffc12de"
      },
      "source": [
        "# Condense our conv1d \n",
        "# We take max across [1 , 15 , 64] and condense into \n",
        "max_pool_output"
      ],
      "execution_count": 98,
      "outputs": [
        {
          "output_type": "execute_result",
          "data": {
            "text/plain": [
              "<tf.Tensor: shape=(1, 32), dtype=float16, numpy=\n",
              "array([[0.0831   , 0.03363  , 0.0937   , 0.0513   , 0.       , 0.       ,\n",
              "        0.05814  , 0.06976  , 0.05655  , 0.1033   , 0.01706  , 0.013695 ,\n",
              "        0.0651   , 0.05685  , 0.06067  , 0.04266  , 0.08203  , 0.05902  ,\n",
              "        0.117    , 0.12006  , 0.03918  , 0.       , 0.0006714, 0.1293   ,\n",
              "        0.07684  , 0.0167   , 0.00949  , 0.06604  , 0.05792  , 0.0389   ,\n",
              "        0.1087   , 0.10834  ]], dtype=float16)>"
            ]
          },
          "metadata": {
            "tags": []
          },
          "execution_count": 98
        }
      ]
    },
    {
      "cell_type": "markdown",
      "metadata": {
        "id": "BhH1fwlCcA9w"
      },
      "source": [
        "Taking on the challenge and building a Conv1D model "
      ]
    },
    {
      "cell_type": "code",
      "metadata": {
        "colab": {
          "base_uri": "https://localhost:8080/"
        },
        "id": "WJUpx-6sdJjB",
        "outputId": "0a0c7552-83bb-4ffe-ca44-a45accff18e0"
      },
      "source": [
        "# Creating Conv1D sequence model \n",
        "inputs = layers.Input(shape = (1, ) , dtype = tf.string)\n",
        "\n",
        "x = text_vectorizer(inputs)\n",
        "x = embedding(x)\n",
        "print(f'Shape after embedding: {x.shape}')\n",
        "\n",
        "# Our Conv1D layer \n",
        "x = layers.Conv1D(filters = 32 , \n",
        "                  kernel_size = 5 , \n",
        "                  padding = 'same' , \n",
        "                  activation = 'relu')(x)\n",
        "print(f'Shape after Conv1D: {x.shape}')\n",
        "x = layers.Dense(64 , activation= 'relu')(x)\n",
        "print(f'Shape after into the Dense layer: {x.shape}')\n",
        "# GlobalMaxPool1D works better\n",
        "x = layers.GlobalMaxPool1D()(x)\n",
        "print(f'Shape after into the GlobalMaxPool layer: {x.shape}')\n",
        "\n",
        "# Output layer \n",
        "outputs = layers.Dense(1 , activation= 'sigmoid')(x)\n",
        "\n",
        "# Packing into a model \n",
        "test_model_5 = tf.keras.Model(inputs , outputs)\n"
      ],
      "execution_count": 99,
      "outputs": [
        {
          "output_type": "stream",
          "text": [
            "Shape after embedding: (None, 15, 128)\n",
            "Shape after Conv1D: (None, 15, 32)\n",
            "Shape after into the Dense layer: (None, 15, 64)\n",
            "Shape after into the GlobalMaxPool layer: (None, 64)\n"
          ],
          "name": "stdout"
        }
      ]
    },
    {
      "cell_type": "code",
      "metadata": {
        "id": "aAafruRsej-j"
      },
      "source": [
        "# Compile the model \n",
        "test_model_5.compile(loss = tf.keras.losses.BinaryCrossentropy(), \n",
        "                   optimizer = tf.keras.optimizers.Adam() ,\n",
        "                   metrics = ['accuracy'])"
      ],
      "execution_count": 100,
      "outputs": []
    },
    {
      "cell_type": "code",
      "metadata": {
        "colab": {
          "base_uri": "https://localhost:8080/"
        },
        "id": "ztwx5_SNe1HR",
        "outputId": "9daf4580-a1b4-40b0-baef-15ef92f00e0a"
      },
      "source": [
        "# Fitting the model \n",
        "test_model_5.fit(train_sentences , \n",
        "                 train_labels , \n",
        "                 validation_data = (val_sentences , val_labels), \n",
        "                 epochs = 5 )"
      ],
      "execution_count": 101,
      "outputs": [
        {
          "output_type": "stream",
          "text": [
            "Epoch 1/5\n",
            "215/215 [==============================] - 6s 17ms/step - loss: 0.1328 - accuracy: 0.9591 - val_loss: 0.9383 - val_accuracy: 0.7743\n",
            "Epoch 2/5\n",
            "215/215 [==============================] - 4s 16ms/step - loss: 0.0654 - accuracy: 0.9745 - val_loss: 0.9850 - val_accuracy: 0.7638\n",
            "Epoch 3/5\n",
            "215/215 [==============================] - 3s 16ms/step - loss: 0.0532 - accuracy: 0.9781 - val_loss: 1.1027 - val_accuracy: 0.7559\n",
            "Epoch 4/5\n",
            "215/215 [==============================] - 3s 16ms/step - loss: 0.0461 - accuracy: 0.9788 - val_loss: 1.2259 - val_accuracy: 0.7625\n",
            "Epoch 5/5\n",
            "215/215 [==============================] - 3s 16ms/step - loss: 0.0418 - accuracy: 0.9831 - val_loss: 1.2172 - val_accuracy: 0.7559\n"
          ],
          "name": "stdout"
        },
        {
          "output_type": "execute_result",
          "data": {
            "text/plain": [
              "<tensorflow.python.keras.callbacks.History at 0x7fb264498b90>"
            ]
          },
          "metadata": {
            "tags": []
          },
          "execution_count": 101
        }
      ]
    },
    {
      "cell_type": "markdown",
      "metadata": {
        "id": "r8snmQxifFXr"
      },
      "source": [
        "Now following the video \n"
      ]
    },
    {
      "cell_type": "code",
      "metadata": {
        "colab": {
          "base_uri": "https://localhost:8080/"
        },
        "id": "enQkza5Af0lt",
        "outputId": "dfe60435-fbec-4193-d881-15f61e86cff0"
      },
      "source": [
        "# Creating Conv1D sequence model \n",
        "inputs = layers.Input(shape = (1, ) , dtype = tf.string)\n",
        "\n",
        "x = text_vectorizer(inputs)\n",
        "x = embedding(x)\n",
        "print(f'Shape after embedding: {x.shape}')\n",
        "\n",
        "# Our Conv1D layer \n",
        "x = layers.Conv1D(filters = 32 , \n",
        "                  kernel_size = 5 , \n",
        "                  padding = 'same' , \n",
        "                  activation = 'relu')(x)\n",
        "print(f'Shape after Conv1D: {x.shape}')\n",
        "#x = layers.Dense(64 , activation= 'relu')(x)\n",
        "#print(f'Shape after into the Dense layer: {x.shape}')\n",
        "# GlobalMaxPool1D works better\n",
        "x = layers.GlobalMaxPool1D()(x)\n",
        "print(f'Shape after into the GlobalMaxPool layer: {x.shape}')\n",
        "\n",
        "# Output layer \n",
        "outputs = layers.Dense(1 , activation= 'sigmoid')(x)\n",
        "\n",
        "# Packing into a model \n",
        "model_5 = tf.keras.Model(inputs , outputs , name = 'model_5_conv_1d')\n"
      ],
      "execution_count": 102,
      "outputs": [
        {
          "output_type": "stream",
          "text": [
            "Shape after embedding: (None, 15, 128)\n",
            "Shape after Conv1D: (None, 15, 32)\n",
            "Shape after into the GlobalMaxPool layer: (None, 32)\n"
          ],
          "name": "stdout"
        }
      ]
    },
    {
      "cell_type": "code",
      "metadata": {
        "id": "FxDJ5Jxef8oR"
      },
      "source": [
        "# Compile the model \n",
        "model_5.compile(loss = tf.keras.losses.BinaryCrossentropy(), \n",
        "                   optimizer = tf.keras.optimizers.Adam() ,\n",
        "                   metrics = ['accuracy'])"
      ],
      "execution_count": 103,
      "outputs": []
    },
    {
      "cell_type": "code",
      "metadata": {
        "colab": {
          "base_uri": "https://localhost:8080/"
        },
        "id": "p7QwQAH7f_bY",
        "outputId": "ea05335d-5767-4a78-8d0c-0511d16f74f2"
      },
      "source": [
        "model_5.summary()"
      ],
      "execution_count": 104,
      "outputs": [
        {
          "output_type": "stream",
          "text": [
            "Model: \"model_5_conv_1d\"\n",
            "_________________________________________________________________\n",
            "Layer (type)                 Output Shape              Param #   \n",
            "=================================================================\n",
            "input_9 (InputLayer)         [(None, 1)]               0         \n",
            "_________________________________________________________________\n",
            "text_vectorization_1 (TextVe (None, 15)                0         \n",
            "_________________________________________________________________\n",
            "embedding (Embedding)        (None, 15, 128)           1280000   \n",
            "_________________________________________________________________\n",
            "conv1d_2 (Conv1D)            (None, 15, 32)            20512     \n",
            "_________________________________________________________________\n",
            "global_max_pooling1d_2 (Glob (None, 32)                0         \n",
            "_________________________________________________________________\n",
            "dense_11 (Dense)             (None, 1)                 33        \n",
            "=================================================================\n",
            "Total params: 1,300,545\n",
            "Trainable params: 1,300,545\n",
            "Non-trainable params: 0\n",
            "_________________________________________________________________\n"
          ],
          "name": "stdout"
        }
      ]
    },
    {
      "cell_type": "code",
      "metadata": {
        "colab": {
          "base_uri": "https://localhost:8080/"
        },
        "id": "ctHZYYTHgCTd",
        "outputId": "2a0695c7-854b-4e20-8b4a-1bc79e2b3ebe"
      },
      "source": [
        "# Fitting the model \n",
        "model_5.fit(train_sentences , \n",
        "                 train_labels , \n",
        "                 validation_data = (val_sentences , val_labels), \n",
        "                 epochs = 5 , \n",
        "            callbacks = [create_tensorboard_callback(dir_name = SAVE_DIR , \n",
        "                                                     experiment_name = 'model_5_1d_conv_layer')])"
      ],
      "execution_count": 105,
      "outputs": [
        {
          "output_type": "stream",
          "text": [
            "Saving TensorBoard log files to: model_logs/model_5_1d_conv_layer/20210527-111429\n",
            "Epoch 1/5\n",
            "215/215 [==============================] - 5s 20ms/step - loss: 0.1093 - accuracy: 0.9645 - val_loss: 0.8827 - val_accuracy: 0.7743\n",
            "Epoch 2/5\n",
            "215/215 [==============================] - 3s 16ms/step - loss: 0.0540 - accuracy: 0.9801 - val_loss: 1.0414 - val_accuracy: 0.7730\n",
            "Epoch 3/5\n",
            "215/215 [==============================] - 3s 16ms/step - loss: 0.0483 - accuracy: 0.9785 - val_loss: 1.0894 - val_accuracy: 0.7703\n",
            "Epoch 4/5\n",
            "215/215 [==============================] - 3s 16ms/step - loss: 0.0440 - accuracy: 0.9806 - val_loss: 1.1324 - val_accuracy: 0.7467\n",
            "Epoch 5/5\n",
            "215/215 [==============================] - 3s 16ms/step - loss: 0.0421 - accuracy: 0.9801 - val_loss: 1.1919 - val_accuracy: 0.7572\n"
          ],
          "name": "stdout"
        },
        {
          "output_type": "execute_result",
          "data": {
            "text/plain": [
              "<tensorflow.python.keras.callbacks.History at 0x7fb264134410>"
            ]
          },
          "metadata": {
            "tags": []
          },
          "execution_count": 105
        }
      ]
    },
    {
      "cell_type": "code",
      "metadata": {
        "colab": {
          "base_uri": "https://localhost:8080/"
        },
        "id": "PVPdSIt4ghNh",
        "outputId": "690ff667-1099-419b-aafa-98aa9d856297"
      },
      "source": [
        "# Make some predictions with our Conv1D model \n",
        "model_5_pred_probs = model_5.predict(val_sentences)\n",
        "model_5_pred_probs[:10]"
      ],
      "execution_count": 106,
      "outputs": [
        {
          "output_type": "execute_result",
          "data": {
            "text/plain": [
              "array([[0.01456],\n",
              "       [0.6514 ],\n",
              "       [1.     ],\n",
              "       [0.03482],\n",
              "       [0.     ],\n",
              "       [0.995  ],\n",
              "       [0.7383 ],\n",
              "       [1.     ],\n",
              "       [1.     ],\n",
              "       [0.945  ]], dtype=float16)"
            ]
          },
          "metadata": {
            "tags": []
          },
          "execution_count": 106
        }
      ]
    },
    {
      "cell_type": "code",
      "metadata": {
        "colab": {
          "base_uri": "https://localhost:8080/"
        },
        "id": "O6UABkWeg163",
        "outputId": "310905cc-80db-498c-91f0-f78489ac2bd2"
      },
      "source": [
        "# Convert model 5 pred probs to labels \n",
        "model_5_preds = tf.squeeze(tf.round(model_5_pred_probs))\n",
        "model_5_preds[:10]"
      ],
      "execution_count": 107,
      "outputs": [
        {
          "output_type": "execute_result",
          "data": {
            "text/plain": [
              "<tf.Tensor: shape=(10,), dtype=float16, numpy=array([0., 1., 1., 0., 0., 1., 1., 1., 1., 1.], dtype=float16)>"
            ]
          },
          "metadata": {
            "tags": []
          },
          "execution_count": 107
        }
      ]
    },
    {
      "cell_type": "code",
      "metadata": {
        "id": "AI6f_kVCg-zf"
      },
      "source": [
        "# Evaluate model 5 predictions \n",
        "model_5_results = classification_evaluation_metrics(val_labels , \n",
        "                                                    model_5_preds)"
      ],
      "execution_count": 108,
      "outputs": []
    },
    {
      "cell_type": "code",
      "metadata": {
        "colab": {
          "base_uri": "https://localhost:8080/"
        },
        "id": "8fXsTp0EhHIS",
        "outputId": "dd86048f-178f-464d-e489-26783b1ceb67"
      },
      "source": [
        "model_5_results"
      ],
      "execution_count": 109,
      "outputs": [
        {
          "output_type": "execute_result",
          "data": {
            "text/plain": [
              "{'Accuracy:': 75.7217847769029,\n",
              " 'F1_Score: ': 0.717557251908397,\n",
              " 'Precision: ': 0.7654723127035831,\n",
              " 'Recall: ': 0.6752873563218391}"
            ]
          },
          "metadata": {
            "tags": []
          },
          "execution_count": 109
        }
      ]
    },
    {
      "cell_type": "code",
      "metadata": {
        "colab": {
          "base_uri": "https://localhost:8080/"
        },
        "id": "sP0YwMplhKSf",
        "outputId": "844d1e42-43a8-43ee-ca27-1943be3bd645"
      },
      "source": [
        "# Our base line model \n",
        "naive_baseline_results"
      ],
      "execution_count": 132,
      "outputs": [
        {
          "output_type": "execute_result",
          "data": {
            "text/plain": [
              "{'Accuracy:': 79.26509186351706,\n",
              " 'F1_Score: ': 0.734006734006734,\n",
              " 'Precision: ': 0.8861788617886179,\n",
              " 'Recall: ': 0.6264367816091954}"
            ]
          },
          "metadata": {
            "tags": []
          },
          "execution_count": 132
        }
      ]
    },
    {
      "cell_type": "markdown",
      "metadata": {
        "id": "VbdRn1kphO4U"
      },
      "source": [
        "##   Using TensorFlow Hub for pretrained word embeddings (transfer learning for NLP)\n",
        "\n",
        "\n",
        "For our next model, instead of using our own embedding layer, we're going to replace it with a pretrained embedding layer.\n",
        "\n",
        "We have built few of our own models, now let's use a pretrained one.\n",
        "\n",
        "Now we're gonna build a feature extractor called USE that is Universal Sentence Encoder.\n",
        "- **Encoder** —> Encodes sequence into numerical representation.\n",
        "- **Decoder** —> Decode sequence into a desired output.\n",
        "\n",
        "More specifically, we're going to be using the [Universal Sentence Encoder](https://tfhub.dev/google/collections/universal-sentence-encoder/1)from TensorFlow Hub (a great resource containing a plethora of pretrained model resources for a variety of tasks)."
      ]
    },
    {
      "cell_type": "code",
      "metadata": {
        "id": "ng7R_cc2Y8gP",
        "outputId": "60210911-c851-44b6-9d0f-6f1529fcf79a",
        "colab": {
          "base_uri": "https://localhost:8080/",
          "height": 35
        }
      },
      "source": [
        "sample_sentence"
      ],
      "execution_count": 111,
      "outputs": [
        {
          "output_type": "execute_result",
          "data": {
            "application/vnd.google.colaboratory.intrinsic+json": {
              "type": "string"
            },
            "text/plain": [
              "\"There's a flood in my street!\""
            ]
          },
          "metadata": {
            "tags": []
          },
          "execution_count": 111
        }
      ]
    },
    {
      "cell_type": "code",
      "metadata": {
        "id": "4_ZHypGPUijD",
        "outputId": "322d2fc0-0843-4cc9-9022-233db1de8c9e",
        "colab": {
          "base_uri": "https://localhost:8080/"
        }
      },
      "source": [
        "# Importing the tensorflow hub \n",
        "import tensorflow_hub as hub \n",
        "embed = hub.load('https://tfhub.dev/google/universal-sentence-encoder/4')\n",
        "\n",
        "# Getting a glimpse of the pretrained model \n",
        "embed_samples = embed([sample_sentence , \n",
        "                       'When you call a universal sentence encoder on a sentence, it turns it into a numbers.'])\n",
        "print(embed_samples)"
      ],
      "execution_count": 112,
      "outputs": [
        {
          "output_type": "stream",
          "text": [
            "tf.Tensor(\n",
            "[[-0.01157027  0.0248591   0.02878048 ... -0.00186125  0.02315824\n",
            "  -0.01485021]\n",
            " [ 0.02950275 -0.08060792 -0.01373591 ... -0.02789219  0.02430333\n",
            "  -0.00082009]], shape=(2, 512), dtype=float32)\n"
          ],
          "name": "stdout"
        }
      ]
    },
    {
      "cell_type": "markdown",
      "metadata": {
        "id": "H4FEMIxkZMZj"
      },
      "source": [
        "It turned our sentence into a numerical representation. "
      ]
    },
    {
      "cell_type": "code",
      "metadata": {
        "id": "gYUcY7X3Zh6V",
        "outputId": "2b5d205e-0f48-4cb6-a32e-74e288b6110c",
        "colab": {
          "base_uri": "https://localhost:8080/"
        }
      },
      "source": [
        "# Shape of the embed_sample \n",
        "embed_samples[0].shape"
      ],
      "execution_count": 113,
      "outputs": [
        {
          "output_type": "execute_result",
          "data": {
            "text/plain": [
              "TensorShape([512])"
            ]
          },
          "metadata": {
            "tags": []
          },
          "execution_count": 113
        }
      ]
    },
    {
      "cell_type": "markdown",
      "metadata": {
        "id": "ZkluCP0ZaBzn"
      },
      "source": [
        "**Creating a Keras layer using USE pre-trained layer from tensorflow hub.**\n",
        "\n",
        "We can use the link of the pre-trained model and use it in a Keras layer and turn this into. feature extractor layer. "
      ]
    },
    {
      "cell_type": "code",
      "metadata": {
        "id": "Sb_8jA6vaa01"
      },
      "source": [
        "# Creating a Keras layer \n",
        "sentence_encoder_layer = hub.KerasLayer('https://tfhub.dev/google/universal-sentence-encoder/4' , \n",
        "                                        input_shape = [] , # Defining a input shape so our layer will take anything sequence as a input (any variable length)\n",
        "                                        dtype = tf.string , \n",
        "                                        trainable = False , \n",
        "                                        name = 'USE_Layer'\n",
        "                                        )"
      ],
      "execution_count": 114,
      "outputs": []
    },
    {
      "cell_type": "code",
      "metadata": {
        "id": "sTuF8w5pQ1R0",
        "outputId": "0b916525-7799-48a3-a576-a89b6e3a3469",
        "colab": {
          "base_uri": "https://localhost:8080/"
        }
      },
      "source": [
        "# Create model using Sequential API \n",
        "model_6 = tf.keras.Sequential([\n",
        "  # We don't need a text vectorizer and embedding layer this will take care of the pre processing behind the scenes\n",
        "  sentence_encoder_layer, \n",
        "  #layers.Dense(64 , activation = 'relu'), \n",
        "  layers.Dense(1 , activation ='sigmoid')\n",
        "]  , name = 'model_6_USE')\n",
        "\n",
        "# Compiling the model \n",
        "model_6.compile(loss = tf.keras.losses.BinaryCrossentropy() , \n",
        "                optimizer = tf.keras.optimizers.Adam() , \n",
        "                metrics = ['accuracy'])\n",
        "# Model 6 summary \n",
        "model_6.summary()"
      ],
      "execution_count": 120,
      "outputs": [
        {
          "output_type": "stream",
          "text": [
            "Model: \"model_6_USE\"\n",
            "_________________________________________________________________\n",
            "Layer (type)                 Output Shape              Param #   \n",
            "=================================================================\n",
            "USE_Layer (KerasLayer)       (None, 512)               256797824 \n",
            "_________________________________________________________________\n",
            "dense_17 (Dense)             (None, 1)                 513       \n",
            "=================================================================\n",
            "Total params: 256,798,337\n",
            "Trainable params: 513\n",
            "Non-trainable params: 256,797,824\n",
            "_________________________________________________________________\n"
          ],
          "name": "stdout"
        }
      ]
    },
    {
      "cell_type": "code",
      "metadata": {
        "id": "uAQvYK_kRfxj",
        "outputId": "5e0d6954-0aee-4f32-df9f-25a50b308af3",
        "colab": {
          "base_uri": "https://localhost:8080/"
        }
      },
      "source": [
        "model_6.summary()"
      ],
      "execution_count": 121,
      "outputs": [
        {
          "output_type": "stream",
          "text": [
            "Model: \"model_6_USE\"\n",
            "_________________________________________________________________\n",
            "Layer (type)                 Output Shape              Param #   \n",
            "=================================================================\n",
            "USE_Layer (KerasLayer)       (None, 512)               256797824 \n",
            "_________________________________________________________________\n",
            "dense_17 (Dense)             (None, 1)                 513       \n",
            "=================================================================\n",
            "Total params: 256,798,337\n",
            "Trainable params: 513\n",
            "Non-trainable params: 256,797,824\n",
            "_________________________________________________________________\n"
          ],
          "name": "stdout"
        }
      ]
    },
    {
      "cell_type": "code",
      "metadata": {
        "id": "7Q4EkgbwdMkG",
        "outputId": "e82cca46-c614-467b-9138-543553d0d444",
        "colab": {
          "base_uri": "https://localhost:8080/"
        }
      },
      "source": [
        "# Train a classifier on top of USE pretrained embeddings \n",
        "model_6_history = model_6.fit(train_sentences , \n",
        "                              train_labels , \n",
        "                              epochs = 5 , \n",
        "                              validation_data = (val_sentences , val_labels), \n",
        "                              callbacks = [create_tensorboard_callback(dir_name = SAVE_DIR , \n",
        "                                                                       experiment_name = 'tf_hub_sentence_encoder')])"
      ],
      "execution_count": 123,
      "outputs": [
        {
          "output_type": "stream",
          "text": [
            "Saving TensorBoard log files to: model_logs/tf_hub_sentence_encoder/20210527-113038\n",
            "Epoch 1/5\n",
            "215/215 [==============================] - 7s 23ms/step - loss: 0.6461 - accuracy: 0.7438 - val_loss: 0.6108 - val_accuracy: 0.7795\n",
            "Epoch 2/5\n",
            "215/215 [==============================] - 2s 11ms/step - loss: 0.5798 - accuracy: 0.7884 - val_loss: 0.5625 - val_accuracy: 0.7848\n",
            "Epoch 3/5\n",
            "215/215 [==============================] - 2s 11ms/step - loss: 0.5380 - accuracy: 0.7939 - val_loss: 0.5312 - val_accuracy: 0.7848\n",
            "Epoch 4/5\n",
            "215/215 [==============================] - 2s 10ms/step - loss: 0.5097 - accuracy: 0.7997 - val_loss: 0.5106 - val_accuracy: 0.7887\n",
            "Epoch 5/5\n",
            "215/215 [==============================] - 2s 10ms/step - loss: 0.4896 - accuracy: 0.8002 - val_loss: 0.4958 - val_accuracy: 0.7900\n"
          ],
          "name": "stdout"
        }
      ]
    },
    {
      "cell_type": "code",
      "metadata": {
        "id": "g9WmP8a1lxcx",
        "outputId": "e917c453-883a-4680-bada-90b8f15a6062",
        "colab": {
          "base_uri": "https://localhost:8080/"
        }
      },
      "source": [
        "# Does it beating our baseline model? \n",
        "model_6_pred_probs = model_6.predict(val_sentences)\n",
        "model_6_pred_probs[:5]"
      ],
      "execution_count": 125,
      "outputs": [
        {
          "output_type": "execute_result",
          "data": {
            "text/plain": [
              "array([[0.36  ],\n",
              "       [0.6816],\n",
              "       [0.8647],\n",
              "       [0.3489],\n",
              "       [0.657 ]], dtype=float16)"
            ]
          },
          "metadata": {
            "tags": []
          },
          "execution_count": 125
        }
      ]
    },
    {
      "cell_type": "code",
      "metadata": {
        "id": "1xC-YfPwmJuI",
        "outputId": "a95049bf-1dfb-47df-8432-30a7be11721d",
        "colab": {
          "base_uri": "https://localhost:8080/"
        }
      },
      "source": [
        "# Convert prediction probabilities to labels \n",
        "model_6_preds = tf.squeeze(tf.round(model_6_pred_probs))\n",
        "model_6_preds[:10]"
      ],
      "execution_count": 126,
      "outputs": [
        {
          "output_type": "execute_result",
          "data": {
            "text/plain": [
              "<tf.Tensor: shape=(10,), dtype=float16, numpy=array([0., 1., 1., 0., 1., 1., 1., 1., 1., 0.], dtype=float16)>"
            ]
          },
          "metadata": {
            "tags": []
          },
          "execution_count": 126
        }
      ]
    },
    {
      "cell_type": "code",
      "metadata": {
        "id": "_Expm1YwmYHI",
        "outputId": "bf7fef60-2d6b-4e10-e25a-b33e08165e06",
        "colab": {
          "base_uri": "https://localhost:8080/"
        }
      },
      "source": [
        "# Calculate model 6 performance metrics \n",
        "model_6_results = classification_evaluation_metrics(val_labels , \n",
        "                                                    model_6_preds )\n",
        "model_6_results"
      ],
      "execution_count": 127,
      "outputs": [
        {
          "output_type": "execute_result",
          "data": {
            "text/plain": [
              "{'Accuracy:': 79.00262467191601,\n",
              " 'F1_Score: ': 0.7611940298507464,\n",
              " 'Precision: ': 0.7919254658385093,\n",
              " 'Recall: ': 0.7327586206896551}"
            ]
          },
          "metadata": {
            "tags": []
          },
          "execution_count": 127
        }
      ]
    },
    {
      "cell_type": "code",
      "metadata": {
        "id": "sZjXOfwTmlp8",
        "outputId": "57795a77-bf9d-4271-ad43-0e5ecb98a89f",
        "colab": {
          "base_uri": "https://localhost:8080/"
        }
      },
      "source": [
        "# Baseline model\n",
        "naive_baseline_results"
      ],
      "execution_count": 133,
      "outputs": [
        {
          "output_type": "execute_result",
          "data": {
            "text/plain": [
              "{'Accuracy:': 79.26509186351706,\n",
              " 'F1_Score: ': 0.734006734006734,\n",
              " 'Precision: ': 0.8861788617886179,\n",
              " 'Recall: ': 0.6264367816091954}"
            ]
          },
          "metadata": {
            "tags": []
          },
          "execution_count": 133
        }
      ]
    },
    {
      "cell_type": "markdown",
      "metadata": {
        "id": "4eppIFiBnGmX"
      },
      "source": [
        "Adding one dense layer to our pretrained model. We call this is as `improv_model_6`"
      ]
    },
    {
      "cell_type": "code",
      "metadata": {
        "id": "eJVTYBOlnn3S",
        "outputId": "28a00057-591c-4ecc-83c8-1278a0c3b5d8",
        "colab": {
          "base_uri": "https://localhost:8080/"
        }
      },
      "source": [
        "# Creating the model 6 again \n",
        "tf.random.set_seed(42)\n",
        "\n",
        "improv_model_6 = tf.keras.Sequential([\n",
        "  sentence_encoder_layer , \n",
        "  layers.Dense(64 , activation= 'relu'), \n",
        "  layers.Dense(1 , activation = 'sigmoid')\n",
        "])\n",
        "\n",
        "# Compiling the model \n",
        "improv_model_6.compile(loss = tf.keras.losses.BinaryCrossentropy() , \n",
        "                       optimizer = tf.keras.optimizers.Adam() , \n",
        "                       metrics = ['accuracy'])\n",
        "\n",
        "# Fit the model \n",
        "improv_model_6.fit(train_sentences , \n",
        "                   train_labels , \n",
        "                   validation_data = (val_sentences , val_labels) , \n",
        "                   epochs = 5 )"
      ],
      "execution_count": 152,
      "outputs": [
        {
          "output_type": "stream",
          "text": [
            "Epoch 1/5\n",
            "215/215 [==============================] - 4s 13ms/step - loss: 0.5050 - accuracy: 0.7808 - val_loss: 0.4474 - val_accuracy: 0.7966\n",
            "Epoch 2/5\n",
            "215/215 [==============================] - 2s 11ms/step - loss: 0.4143 - accuracy: 0.8149 - val_loss: 0.4355 - val_accuracy: 0.8123\n",
            "Epoch 3/5\n",
            "215/215 [==============================] - 2s 11ms/step - loss: 0.3992 - accuracy: 0.8221 - val_loss: 0.4310 - val_accuracy: 0.8110\n",
            "Epoch 4/5\n",
            "215/215 [==============================] - 2s 11ms/step - loss: 0.3914 - accuracy: 0.8257 - val_loss: 0.4264 - val_accuracy: 0.8136\n",
            "Epoch 5/5\n",
            "215/215 [==============================] - 2s 11ms/step - loss: 0.3846 - accuracy: 0.8302 - val_loss: 0.4282 - val_accuracy: 0.8176\n"
          ],
          "name": "stdout"
        },
        {
          "output_type": "execute_result",
          "data": {
            "text/plain": [
              "<tensorflow.python.keras.callbacks.History at 0x7fb283f816d0>"
            ]
          },
          "metadata": {
            "tags": []
          },
          "execution_count": 152
        }
      ]
    },
    {
      "cell_type": "code",
      "metadata": {
        "id": "IjCNtqlU7Yq4",
        "outputId": "bb956854-aec1-42cb-fd71-fcf441a5b034",
        "colab": {
          "base_uri": "https://localhost:8080/"
        }
      },
      "source": [
        "# Model summary \n",
        "improv_model_6.summary()"
      ],
      "execution_count": 153,
      "outputs": [
        {
          "output_type": "stream",
          "text": [
            "Model: \"sequential_2\"\n",
            "_________________________________________________________________\n",
            "Layer (type)                 Output Shape              Param #   \n",
            "=================================================================\n",
            "USE_Layer (KerasLayer)       (None, 512)               256797824 \n",
            "_________________________________________________________________\n",
            "dense_22 (Dense)             (None, 64)                32832     \n",
            "_________________________________________________________________\n",
            "dense_23 (Dense)             (None, 1)                 65        \n",
            "=================================================================\n",
            "Total params: 256,830,721\n",
            "Trainable params: 32,897\n",
            "Non-trainable params: 256,797,824\n",
            "_________________________________________________________________\n"
          ],
          "name": "stdout"
        }
      ]
    },
    {
      "cell_type": "markdown",
      "metadata": {
        "id": "KylPzQCVoT0H"
      },
      "source": [
        "OHH BOY! Atlast adding one additional dense layer managed to beat our base line model. "
      ]
    },
    {
      "cell_type": "code",
      "metadata": {
        "id": "WLU142kAokpj",
        "outputId": "e3ad5143-fcd5-429a-c8c7-28456a95470a",
        "colab": {
          "base_uri": "https://localhost:8080/"
        }
      },
      "source": [
        "# Getting the prediction probs \n",
        "improv_model_6_pred_probs = improv_model_6.predict(val_sentences)\n",
        "improv_model_6_pred_probs[:5]"
      ],
      "execution_count": 154,
      "outputs": [
        {
          "output_type": "execute_result",
          "data": {
            "text/plain": [
              "array([[0.1556],\n",
              "       [0.7427],\n",
              "       [0.991 ],\n",
              "       [0.2173],\n",
              "       [0.72  ]], dtype=float16)"
            ]
          },
          "metadata": {
            "tags": []
          },
          "execution_count": 154
        }
      ]
    },
    {
      "cell_type": "code",
      "metadata": {
        "id": "jQXe_zKnoyDW",
        "outputId": "3aff17ef-e84e-4b31-e660-940e11421674",
        "colab": {
          "base_uri": "https://localhost:8080/"
        }
      },
      "source": [
        "# Converting into labels \n",
        "improv_model_6_preds = tf.squeeze(tf.round(improv_model_6_pred_probs))\n",
        "improv_model_6_pred_probs[:10]"
      ],
      "execution_count": 155,
      "outputs": [
        {
          "output_type": "execute_result",
          "data": {
            "text/plain": [
              "array([[0.1556],\n",
              "       [0.7427],\n",
              "       [0.991 ],\n",
              "       [0.2173],\n",
              "       [0.72  ],\n",
              "       [0.6772],\n",
              "       [0.9863],\n",
              "       [0.978 ],\n",
              "       [0.93  ],\n",
              "       [0.0883]], dtype=float16)"
            ]
          },
          "metadata": {
            "tags": []
          },
          "execution_count": 155
        }
      ]
    },
    {
      "cell_type": "code",
      "metadata": {
        "id": "PdCvofKLo87s",
        "outputId": "a52b7b37-1fa3-46b5-95fc-2334a2faa419",
        "colab": {
          "base_uri": "https://localhost:8080/"
        }
      },
      "source": [
        "# Getting our classification report \n",
        "improv_model_6_results = classification_evaluation_metrics(val_labels , \n",
        "                                                           improv_model_6_preds)\n",
        "improv_model_6_results"
      ],
      "execution_count": 156,
      "outputs": [
        {
          "output_type": "execute_result",
          "data": {
            "text/plain": [
              "{'Accuracy:': 81.75853018372703,\n",
              " 'F1_Score: ': 0.785824345146379,\n",
              " 'Precision: ': 0.8471760797342193,\n",
              " 'Recall: ': 0.7327586206896551}"
            ]
          },
          "metadata": {
            "tags": []
          },
          "execution_count": 156
        }
      ]
    },
    {
      "cell_type": "code",
      "metadata": {
        "id": "f3oC0EZApJGl",
        "outputId": "a36638bf-83a5-41a9-ee29-2da013e87eeb",
        "colab": {
          "base_uri": "https://localhost:8080/"
        }
      },
      "source": [
        "# Our base line results \n",
        "naive_baseline_results"
      ],
      "execution_count": 145,
      "outputs": [
        {
          "output_type": "execute_result",
          "data": {
            "text/plain": [
              "{'Accuracy:': 79.26509186351706,\n",
              " 'F1_Score: ': 0.734006734006734,\n",
              " 'Precision: ': 0.8861788617886179,\n",
              " 'Recall: ': 0.6264367816091954}"
            ]
          },
          "metadata": {
            "tags": []
          },
          "execution_count": 145
        }
      ]
    },
    {
      "cell_type": "markdown",
      "metadata": {
        "id": "gjrJB-Y7pOPg"
      },
      "source": [
        "## Model 7: TF Hub Pretrained USE but with 10% of the training data \n",
        "\n",
        "Transfer learning really helps when you don't have a large dataset. To see how our model performs on a smaller dataset, let's replicate `model_6` except train with 10% of the training data. \n",
        "\n",
        ">Note: Always experiment with a small portion of your data so that we can run more experiments on our data. "
      ]
    },
    {
      "cell_type": "code",
      "metadata": {
        "id": "udwLJqqS9nJI",
        "outputId": "52bb0272-ed7f-45bf-8b6d-2f151a666eb6",
        "colab": {
          "base_uri": "https://localhost:8080/"
        }
      },
      "source": [
        "# Create subsets of 10% of the training data \n",
        "train_10_percent = train_df_shuffled[['text' , 'target']].sample(frac = 0.1 , random_state = 42)\n",
        "print(f'Only the 10% of the train data shuffled: {train_10_percent.shape[0]}') \n",
        "print(f'The whole data: {train_df_shuffled.shape[0]}')"
      ],
      "execution_count": 160,
      "outputs": [
        {
          "output_type": "stream",
          "text": [
            "Only the 10% of the train data shuffled: 761\n",
            "The whole data: 7613\n"
          ],
          "name": "stdout"
        }
      ]
    },
    {
      "cell_type": "code",
      "metadata": {
        "id": "Emi2B36R-i72",
        "outputId": "eef9a6d1-6700-4655-d0ed-fa4dca578dea",
        "colab": {
          "base_uri": "https://localhost:8080/"
        }
      },
      "source": [
        "# Now the same with train_sentences (scraping just the text)\n",
        "train_sentences_10_percent = train_10_percent['text'].to_list()\n",
        "train_sentences_10_percent[:5] , len(train_sentences_10_percent) # 761 that is 10% of the text data"
      ],
      "execution_count": 164,
      "outputs": [
        {
          "output_type": "execute_result",
          "data": {
            "text/plain": [
              "(['DFR EP016 Monthly Meltdown - On Dnbheaven 2015.08.06 http://t.co/EjKRf8N8A8 #Drum and Bass #heavy #nasty http://t.co/SPHWE6wFI5',\n",
              "  'FedEx no longer to transport bioterror germs in wake of anthrax lab mishaps http://t.co/qZQc8WWwcN via @usatoday',\n",
              "  'Gunmen kill four in El Salvador bus attack: Suspected Salvadoran gang members killed four people and wounded s... http://t.co/CNtwB6ScZj',\n",
              "  '@camilacabello97 Internally and externally screaming',\n",
              "  'Radiation emergency #preparedness starts with knowing to: get inside stay inside and stay tuned http://t.co/RFFPqBAz2F via @CDCgov'],\n",
              " 761)"
            ]
          },
          "metadata": {
            "tags": []
          },
          "execution_count": 164
        }
      ]
    },
    {
      "cell_type": "code",
      "metadata": {
        "id": "gtxB7ERl_O1Z",
        "outputId": "2f8a47a2-a8ed-45b0-b40d-739539639ffd",
        "colab": {
          "base_uri": "https://localhost:8080/"
        }
      },
      "source": [
        "# Scraping 10% of the labels \n",
        "train_labels_10_percent = train_10_percent['target'].to_list()\n",
        "len(train_labels_10_percent) "
      ],
      "execution_count": 165,
      "outputs": [
        {
          "output_type": "execute_result",
          "data": {
            "text/plain": [
              "761"
            ]
          },
          "metadata": {
            "tags": []
          },
          "execution_count": 165
        }
      ]
    },
    {
      "cell_type": "code",
      "metadata": {
        "id": "IEDTbskt_kJG",
        "outputId": "01d471e6-e8a3-454c-844f-10ecd8febf7d",
        "colab": {
          "base_uri": "https://localhost:8080/"
        }
      },
      "source": [
        "# Check the number of targets in our subset of data \n",
        "train_10_percent['target'].value_counts()"
      ],
      "execution_count": 168,
      "outputs": [
        {
          "output_type": "execute_result",
          "data": {
            "text/plain": [
              "0    413\n",
              "1    348\n",
              "Name: target, dtype: int64"
            ]
          },
          "metadata": {
            "tags": []
          },
          "execution_count": 168
        }
      ]
    },
    {
      "cell_type": "code",
      "metadata": {
        "id": "DVX7WNJ__xlM",
        "outputId": "98813f1f-500d-4373-827a-850c4a5ee5e0",
        "colab": {
          "base_uri": "https://localhost:8080/"
        }
      },
      "source": [
        "# Checking if the ratio is similar (or very close)\n",
        "train_df_shuffled['target'].value_counts()"
      ],
      "execution_count": 169,
      "outputs": [
        {
          "output_type": "execute_result",
          "data": {
            "text/plain": [
              "0    4342\n",
              "1    3271\n",
              "Name: target, dtype: int64"
            ]
          },
          "metadata": {
            "tags": []
          },
          "execution_count": 169
        }
      ]
    },
    {
      "cell_type": "markdown",
      "metadata": {
        "id": "ZSiDsPUMABDL"
      },
      "source": [
        "While creating a subset of our data we should pay real attention to the distribution is fairly close or equal distribution. \n",
        "\n",
        "**Building a similar model to `model_6` but with only 10% of the data**"
      ]
    },
    {
      "cell_type": "code",
      "metadata": {
        "id": "-Vhcn9eNAxJq"
      },
      "source": [
        "# Trying to build the sentence encoder layer with no input shape and dtype \n",
        "func_sentence_encoder_layer = hub.KerasLayer('https://tfhub.dev/google/universal-sentence-encoder/4' , \n",
        "                                             trainable = False , \n",
        "                                             name = 'Functional_USE_layer')"
      ],
      "execution_count": 170,
      "outputs": []
    },
    {
      "cell_type": "markdown",
      "metadata": {
        "id": "iHASb6C4COn2"
      },
      "source": [
        "To fix the shape error https://stackoverflow.com/questions/60634839/using-tf-hub-keraslayer-in-tf-2-1-functional-api-throws-valueerror-python-input"
      ]
    },
    {
      "cell_type": "code",
      "metadata": {
        "id": "MM4dqddRAJCy",
        "outputId": "745f3074-6c2b-4994-8dbc-3764eb07c2d3",
        "colab": {
          "base_uri": "https://localhost:8080/"
        }
      },
      "source": [
        "# Creating model_7 (Using functional API)\n",
        "inputs = layers.Input(shape=() , dtype = tf.string , name = 'input_layer')\n",
        "\n",
        "# Getting our functional sentence encoder in our model\n",
        "x = func_sentence_encoder_layer(inputs)\n",
        "x = layers.Dense(64 , activation=  'relu')(x)\n",
        "\n",
        "# Our ouputs \n",
        "outputs = layers.Dense(1 , activation = 'sigmoid' , name = 'output_layer')(x)\n",
        "\n",
        "# Packing into a model \n",
        "functional_model_7 = tf.keras.Model(inputs , outputs , name = 'functional_model_7')\n",
        "\n",
        "# Compiling the model \n",
        "functional_model_7.compile(loss = tf.keras.losses.BinaryCrossentropy() , \n",
        "                           optimizer = tf.keras.optimizers.Adam() , \n",
        "                           metrics = ['accuracy'])\n",
        "\n",
        "# Getting the summary of the model \n",
        "functional_model_7.summary()\n"
      ],
      "execution_count": 174,
      "outputs": [
        {
          "output_type": "stream",
          "text": [
            "Model: \"functional_model_7\"\n",
            "_________________________________________________________________\n",
            "Layer (type)                 Output Shape              Param #   \n",
            "=================================================================\n",
            "input_12 (InputLayer)        [(None,)]                 0         \n",
            "_________________________________________________________________\n",
            "Functional_USE_layer (KerasL (None, 512)               256797824 \n",
            "_________________________________________________________________\n",
            "dense_26 (Dense)             (None, 64)                32832     \n",
            "_________________________________________________________________\n",
            "dense_27 (Dense)             (None, 1)                 65        \n",
            "=================================================================\n",
            "Total params: 256,830,721\n",
            "Trainable params: 32,897\n",
            "Non-trainable params: 256,797,824\n",
            "_________________________________________________________________\n"
          ],
          "name": "stdout"
        }
      ]
    },
    {
      "cell_type": "code",
      "metadata": {
        "id": "h_ZySmexBhO8",
        "outputId": "cf306352-795e-4c78-acad-a93fe71187c3",
        "colab": {
          "base_uri": "https://localhost:8080/"
        }
      },
      "source": [
        "# Fitting the functional model with only the 10% of the data \n",
        "functional_model_7_history = functional_model_7.fit(train_sentences_10_percent , \n",
        "                                                    train_labels_10_percent , \n",
        "                                                    epochs = 5 , \n",
        "                                                    validation_data = (val_sentences , val_labels))"
      ],
      "execution_count": 175,
      "outputs": [
        {
          "output_type": "stream",
          "text": [
            "Epoch 1/5\n",
            "24/24 [==============================] - 3s 34ms/step - loss: 0.6739 - accuracy: 0.6518 - val_loss: 0.6376 - val_accuracy: 0.7782\n",
            "Epoch 2/5\n",
            "24/24 [==============================] - 0s 18ms/step - loss: 0.6048 - accuracy: 0.7832 - val_loss: 0.5616 - val_accuracy: 0.7900\n",
            "Epoch 3/5\n",
            "24/24 [==============================] - 0s 18ms/step - loss: 0.5292 - accuracy: 0.7963 - val_loss: 0.4914 - val_accuracy: 0.7979\n",
            "Epoch 4/5\n",
            "24/24 [==============================] - 0s 18ms/step - loss: 0.4696 - accuracy: 0.8055 - val_loss: 0.4427 - val_accuracy: 0.8189\n",
            "Epoch 5/5\n",
            "24/24 [==============================] - 0s 18ms/step - loss: 0.4299 - accuracy: 0.8121 - val_loss: 0.4102 - val_accuracy: 0.8215\n"
          ],
          "name": "stdout"
        }
      ]
    },
    {
      "cell_type": "markdown",
      "metadata": {
        "id": "4s4eVxlOCrM7"
      },
      "source": [
        "Doing the same with a sequential API to see both the results are same"
      ]
    },
    {
      "cell_type": "code",
      "metadata": {
        "id": "1XrfdiiWEACY",
        "outputId": "356a49ad-b9dd-447f-acff-c466a1ce736b",
        "colab": {
          "base_uri": "https://localhost:8080/"
        }
      },
      "source": [
        "# Building model 7 with a sequential api \n",
        "\n",
        "model_7 = tf.keras.Sequential([\n",
        "  sentence_encoder_layer, \n",
        "  layers.Dense(64 , activation ='relu'), \n",
        "  layers.Dense(1 , activation = 'sigmoid')\n",
        "] , name = 'model_7')\n",
        "\n",
        "# Compiling the model \n",
        "model_7.compile(loss = tf.keras.losses.BinaryCrossentropy() , \n",
        "                optimizer = tf.keras.optimizers.Adam() , \n",
        "                metrics = ['accuracy'])\n",
        "\n",
        "# Fitting the model \n",
        "model_7_history = model_7.fit(train_sentences_10_percent , \n",
        "                              train_labels_10_percent  , \n",
        "                              validation_data = (val_sentences , val_labels) , \n",
        "                              epochs = 5)"
      ],
      "execution_count": 176,
      "outputs": [
        {
          "output_type": "stream",
          "text": [
            "Epoch 1/5\n",
            "24/24 [==============================] - 2s 35ms/step - loss: 0.6687 - accuracy: 0.6623 - val_loss: 0.6285 - val_accuracy: 0.7782\n",
            "Epoch 2/5\n",
            "24/24 [==============================] - 0s 19ms/step - loss: 0.5931 - accuracy: 0.7924 - val_loss: 0.5485 - val_accuracy: 0.8058\n",
            "Epoch 3/5\n",
            "24/24 [==============================] - 0s 18ms/step - loss: 0.5169 - accuracy: 0.8029 - val_loss: 0.4806 - val_accuracy: 0.8097\n",
            "Epoch 4/5\n",
            "24/24 [==============================] - 0s 18ms/step - loss: 0.4610 - accuracy: 0.8121 - val_loss: 0.4359 - val_accuracy: 0.8228\n",
            "Epoch 5/5\n",
            "24/24 [==============================] - 0s 18ms/step - loss: 0.4247 - accuracy: 0.8200 - val_loss: 0.4058 - val_accuracy: 0.8281\n"
          ],
          "name": "stdout"
        }
      ]
    },
    {
      "cell_type": "code",
      "metadata": {
        "id": "IisSD8YfEqEh"
      },
      "source": [
        "# Getting the prediction probabilities for both \n",
        "functional_model_7_pred_probs = functional_model_7.predict(val_sentences)\n",
        "model_7_pred_probs = model_7.predict(val_sentences)"
      ],
      "execution_count": 177,
      "outputs": []
    },
    {
      "cell_type": "code",
      "metadata": {
        "id": "YUe-Pj8BE3Sx",
        "outputId": "3f96b8d8-d236-47b3-ea27-c48c999fd8d1",
        "colab": {
          "base_uri": "https://localhost:8080/"
        }
      },
      "source": [
        "# Converting into labels of prediction \n",
        "functional_model_7_preds = tf.squeeze(tf.round(functional_model_7_pred_probs))\n",
        "model_7_preds = tf.squeeze(tf.round(model_7_pred_probs))\n",
        "\n",
        "functional_model_7_preds[:5] , model_7_preds[:5]"
      ],
      "execution_count": 178,
      "outputs": [
        {
          "output_type": "execute_result",
          "data": {
            "text/plain": [
              "(<tf.Tensor: shape=(5,), dtype=float16, numpy=array([0., 1., 1., 0., 1.], dtype=float16)>,\n",
              " <tf.Tensor: shape=(5,), dtype=float16, numpy=array([0., 1., 1., 0., 1.], dtype=float16)>)"
            ]
          },
          "metadata": {
            "tags": []
          },
          "execution_count": 178
        }
      ]
    },
    {
      "cell_type": "code",
      "metadata": {
        "id": "qDGnsfV5FLCf",
        "outputId": "8e320a0c-c220-4390-b0e6-cc0a3840abd1",
        "colab": {
          "base_uri": "https://localhost:8080/"
        }
      },
      "source": [
        "# Comparing the results with the classification metrics we have \n",
        "\n",
        "functional_model_7_results = classification_evaluation_metrics(val_labels , \n",
        "                                                               functional_model_7_preds)\n",
        "model_7_results = classification_evaluation_metrics(val_labels , \n",
        "                                                    model_7_preds)\n",
        "\n",
        "functional_model_7_results"
      ],
      "execution_count": 179,
      "outputs": [
        {
          "output_type": "execute_result",
          "data": {
            "text/plain": [
              "{'Accuracy:': 82.1522309711286,\n",
              " 'F1_Score: ': 0.8,\n",
              " 'Precision: ': 0.8192771084337349,\n",
              " 'Recall: ': 0.7816091954022989}"
            ]
          },
          "metadata": {
            "tags": []
          },
          "execution_count": 179
        }
      ]
    },
    {
      "cell_type": "code",
      "metadata": {
        "id": "TCvnnJ9IFhrz",
        "outputId": "1831beef-d672-480d-8ad2-ec1398f9ec32",
        "colab": {
          "base_uri": "https://localhost:8080/"
        }
      },
      "source": [
        "model_7_results"
      ],
      "execution_count": 180,
      "outputs": [
        {
          "output_type": "execute_result",
          "data": {
            "text/plain": [
              "{'Accuracy:': 82.80839895013123,\n",
              " 'F1_Score: ': 0.8070692194403535,\n",
              " 'Precision: ': 0.8277945619335347,\n",
              " 'Recall: ': 0.7873563218390804}"
            ]
          },
          "metadata": {
            "tags": []
          },
          "execution_count": 180
        }
      ]
    },
    {
      "cell_type": "markdown",
      "metadata": {
        "id": "1nkw67BFFjUS"
      },
      "source": [
        "Alright looking at the video now came to know daniel is using clone model here will give a try!\n",
        "\n",
        "**Clone Model: Copies only the architecture of the model leaving behind the weights / patterns it learned during the training.** "
      ]
    },
    {
      "cell_type": "code",
      "metadata": {
        "id": "1407Tyr-Gv5T",
        "outputId": "ba4d2cbb-7bbb-4eda-8a7c-1057b2f03252",
        "colab": {
          "base_uri": "https://localhost:8080/"
        }
      },
      "source": [
        "# Cloning the model \n",
        "clone_model_7 = tf.keras.models.clone_model(model_6)\n",
        "\n",
        "# Compile the model \n",
        "clone_model_7.compile(loss = tf.keras.losses.BinaryCrossentropy() , \n",
        "                      optimizer = tf.keras.optimizers.Adam() , \n",
        "                      metrics = ['accuracy'] ) \n",
        "\n",
        "# Get summary of the model (will be same as model_6)\n",
        "clone_model_7.summary()"
      ],
      "execution_count": 182,
      "outputs": [
        {
          "output_type": "stream",
          "text": [
            "Model: \"model_6_USE\"\n",
            "_________________________________________________________________\n",
            "Layer (type)                 Output Shape              Param #   \n",
            "=================================================================\n",
            "USE_Layer (KerasLayer)       (None, 512)               256797824 \n",
            "_________________________________________________________________\n",
            "dense_17 (Dense)             (None, 1)                 513       \n",
            "=================================================================\n",
            "Total params: 256,798,337\n",
            "Trainable params: 513\n",
            "Non-trainable params: 256,797,824\n",
            "_________________________________________________________________\n"
          ],
          "name": "stdout"
        }
      ]
    },
    {
      "cell_type": "code",
      "metadata": {
        "id": "bMWSRLs5Hswt"
      },
      "source": [
        ""
      ],
      "execution_count": null,
      "outputs": []
    }
  ]
}
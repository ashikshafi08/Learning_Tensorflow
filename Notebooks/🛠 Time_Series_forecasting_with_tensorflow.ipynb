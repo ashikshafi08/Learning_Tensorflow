{
  "nbformat": 4,
  "nbformat_minor": 0,
  "metadata": {
    "colab": {
      "name": "🛠 Time_Series_forecasting_with_tensorflow.ipynb",
      "provenance": [],
      "collapsed_sections": [],
      "authorship_tag": "ABX9TyOnMHyHuitj0Jb6bBuoBPeP",
      "include_colab_link": true
    },
    "kernelspec": {
      "name": "python3",
      "display_name": "Python 3"
    },
    "language_info": {
      "name": "python"
    }
  },
  "cells": [
    {
      "cell_type": "markdown",
      "metadata": {
        "id": "view-in-github",
        "colab_type": "text"
      },
      "source": [
        "<a href=\"https://colab.research.google.com/github/ashikshafi08/Learning_Tensorflow/blob/main/Notebooks/%F0%9F%9B%A0%20Time_Series_forecasting_with_tensorflow.ipynb\" target=\"_parent\"><img src=\"https://colab.research.google.com/assets/colab-badge.svg\" alt=\"Open In Colab\"/></a>"
      ]
    },
    {
      "cell_type": "markdown",
      "metadata": {
        "id": "Otii3aMvgynh"
      },
      "source": [
        "# Milestone Project 3: Time series forecasting in TensorFlow (BitPredict 💰📈)\n",
        "\n",
        "The goal of this notebook is to get myself familiar with working with the time series data. In here, we're going to build a series of models in an attempt to predict the price of a **Bitcoin**\n",
        "\n",
        "> 🔑 Note: ⚠️ This is not financial advice, as you'll see time series forecasting for stock market prices is actually quite terrible.\n",
        "\n",
        "## Things we're going to cover \n",
        "\n",
        "- Get time series data (the historical price of Bitcoin)\n",
        "  - Load in time series data using pandas/Python's CSV module\n",
        "- Format data for a time series problem \n",
        "  - Creating training and test sets (the wrong way)\n",
        "  - Creating training and test sets (the right way)\n",
        "  - Visualizing time series data\n",
        "  - Turning time series data into a supervised learning problem (windowing)\n",
        "  - Preparing univariate and multivariate (more than one variable) data. \n",
        "- Evaluating a time series forecasting model. \n",
        "- Setting up a series of deeplearning modelling experiments. \n",
        "  - Dense (fully connected) networks \n",
        "  - Sequence models (LSTM and Conv1D) \n",
        "  - Ensembling (combining multiple models together) \n",
        "  - Multivariate models \n",
        "  - Replicating the N-BEATS algorithm (from the paper itself) using the TensorFlow Subclassing layers. \n",
        "- Creating a modelling checkpoint to save the best perfomring mdoel during training. \n",
        "- Making predictions (forecasts) with a time series model. \n",
        "- Creating prediction interval for time series model forecasts. \n",
        "- Discussing two different types of uncertainity in machine learning (data uncertainity and model uncertainity). \n",
        "- Demonstrating why forecasting in an open system is BullShit (the turkey problem). \n",
        "\n",
        "\n",
        "### A bit about forecasting & Time Series \n",
        "\n",
        "Some things are easier to forecast than others. The time of the sunrise tomorrow morning can be forecast precisely. On the other hand, tomorrow’s lotto numbers cannot be forecast with any accuracy. The predictability of an event or a quantity depends on several factors including:\n",
        "\n",
        "- how well we understand the factors that contribute to it;\n",
        "- how much data is available;\n",
        "- how similar the future is to the past;\n",
        "- whether the forecasts can affect the thing we are trying to forecast.\n",
        "\n",
        "\n",
        "### In a nutshell \n",
        "\n",
        "- Downloading and formatting time series data (the historical price of Bitcoin). \n",
        "- Writing **a preprocessing function** to preparrre our time series data \n",
        "- Setting up **multiple time series modelling experiments**. \n",
        "- Building a **multivariate model** to take in multivariate time series data. \n",
        "- Replicating the N-Beats algorithm using TensorFlow. \n",
        "- Making forecasts with **prediction intervals**. \n",
        "- Demonstrating **why time series forecasting can be bullshit** with the turkey problem. \n",
        "\n",
        "\n",
        "## Downloading the getting to know the data \n",
        "We're going to be using historical price of data of Bitcoin to try and predict the future price of Bitcoin. "
      ]
    },
    {
      "cell_type": "code",
      "metadata": {
        "id": "6hiwBIe6hhih",
        "colab": {
          "base_uri": "https://localhost:8080/"
        },
        "outputId": "a4785137-f6fc-420b-f117-1f5978d340a0"
      },
      "source": [
        "# Downloading the dat \n",
        "!wget https://raw.githubusercontent.com/mrdbourke/tensorflow-deep-learning/main/extras/BTC_USD_2013-10-01_2021-05-18-CoinDesk.csv"
      ],
      "execution_count": 1,
      "outputs": [
        {
          "output_type": "stream",
          "text": [
            "--2021-08-24 14:33:24--  https://raw.githubusercontent.com/mrdbourke/tensorflow-deep-learning/main/extras/BTC_USD_2013-10-01_2021-05-18-CoinDesk.csv\n",
            "Resolving raw.githubusercontent.com (raw.githubusercontent.com)... 185.199.108.133, 185.199.109.133, 185.199.110.133, ...\n",
            "Connecting to raw.githubusercontent.com (raw.githubusercontent.com)|185.199.108.133|:443... connected.\n",
            "HTTP request sent, awaiting response... 200 OK\n",
            "Length: 178509 (174K) [text/plain]\n",
            "Saving to: ‘BTC_USD_2013-10-01_2021-05-18-CoinDesk.csv’\n",
            "\n",
            "BTC_USD_2013-10-01_ 100%[===================>] 174.33K  --.-KB/s    in 0.02s   \n",
            "\n",
            "2021-08-24 14:33:24 (7.10 MB/s) - ‘BTC_USD_2013-10-01_2021-05-18-CoinDesk.csv’ saved [178509/178509]\n",
            "\n"
          ],
          "name": "stdout"
        }
      ]
    },
    {
      "cell_type": "markdown",
      "metadata": {
        "id": "KdAYOKHN0gSr"
      },
      "source": [
        "#### Importing the time series data using Pandas \n",
        "\n",
        "Let's use pandas and visualize the data in a pretty table. \n",
        "\n",
        "And because our data has a data component, we'll tell pandas to parse the dates using the `parse_dates` parameter pasing it the name of the data column. "
      ]
    },
    {
      "cell_type": "code",
      "metadata": {
        "colab": {
          "base_uri": "https://localhost:8080/",
          "height": 235
        },
        "id": "CJqVFmut1Gup",
        "outputId": "e59eddef-9a5d-4fac-8e3d-f8baf44392be"
      },
      "source": [
        "import pandas as pd \n",
        "\n",
        "# parse dates and set data column to index \n",
        "df = pd.read_csv('/content/BTC_USD_2013-10-01_2021-05-18-CoinDesk.csv' , \n",
        "                 parse_dates = ['Date'] , \n",
        "                 index_col = ['Date']) # setting the Date col to index column \n",
        "\n",
        "df.head()"
      ],
      "execution_count": 2,
      "outputs": [
        {
          "output_type": "execute_result",
          "data": {
            "text/html": [
              "<div>\n",
              "<style scoped>\n",
              "    .dataframe tbody tr th:only-of-type {\n",
              "        vertical-align: middle;\n",
              "    }\n",
              "\n",
              "    .dataframe tbody tr th {\n",
              "        vertical-align: top;\n",
              "    }\n",
              "\n",
              "    .dataframe thead th {\n",
              "        text-align: right;\n",
              "    }\n",
              "</style>\n",
              "<table border=\"1\" class=\"dataframe\">\n",
              "  <thead>\n",
              "    <tr style=\"text-align: right;\">\n",
              "      <th></th>\n",
              "      <th>Currency</th>\n",
              "      <th>Closing Price (USD)</th>\n",
              "      <th>24h Open (USD)</th>\n",
              "      <th>24h High (USD)</th>\n",
              "      <th>24h Low (USD)</th>\n",
              "    </tr>\n",
              "    <tr>\n",
              "      <th>Date</th>\n",
              "      <th></th>\n",
              "      <th></th>\n",
              "      <th></th>\n",
              "      <th></th>\n",
              "      <th></th>\n",
              "    </tr>\n",
              "  </thead>\n",
              "  <tbody>\n",
              "    <tr>\n",
              "      <th>2013-10-01</th>\n",
              "      <td>BTC</td>\n",
              "      <td>123.65499</td>\n",
              "      <td>124.30466</td>\n",
              "      <td>124.75166</td>\n",
              "      <td>122.56349</td>\n",
              "    </tr>\n",
              "    <tr>\n",
              "      <th>2013-10-02</th>\n",
              "      <td>BTC</td>\n",
              "      <td>125.45500</td>\n",
              "      <td>123.65499</td>\n",
              "      <td>125.75850</td>\n",
              "      <td>123.63383</td>\n",
              "    </tr>\n",
              "    <tr>\n",
              "      <th>2013-10-03</th>\n",
              "      <td>BTC</td>\n",
              "      <td>108.58483</td>\n",
              "      <td>125.45500</td>\n",
              "      <td>125.66566</td>\n",
              "      <td>83.32833</td>\n",
              "    </tr>\n",
              "    <tr>\n",
              "      <th>2013-10-04</th>\n",
              "      <td>BTC</td>\n",
              "      <td>118.67466</td>\n",
              "      <td>108.58483</td>\n",
              "      <td>118.67500</td>\n",
              "      <td>107.05816</td>\n",
              "    </tr>\n",
              "    <tr>\n",
              "      <th>2013-10-05</th>\n",
              "      <td>BTC</td>\n",
              "      <td>121.33866</td>\n",
              "      <td>118.67466</td>\n",
              "      <td>121.93633</td>\n",
              "      <td>118.00566</td>\n",
              "    </tr>\n",
              "  </tbody>\n",
              "</table>\n",
              "</div>"
            ],
            "text/plain": [
              "           Currency  Closing Price (USD)  ...  24h High (USD)  24h Low (USD)\n",
              "Date                                      ...                               \n",
              "2013-10-01      BTC            123.65499  ...       124.75166      122.56349\n",
              "2013-10-02      BTC            125.45500  ...       125.75850      123.63383\n",
              "2013-10-03      BTC            108.58483  ...       125.66566       83.32833\n",
              "2013-10-04      BTC            118.67466  ...       118.67500      107.05816\n",
              "2013-10-05      BTC            121.33866  ...       121.93633      118.00566\n",
              "\n",
              "[5 rows x 5 columns]"
            ]
          },
          "metadata": {},
          "execution_count": 2
        }
      ]
    },
    {
      "cell_type": "code",
      "metadata": {
        "colab": {
          "base_uri": "https://localhost:8080/"
        },
        "id": "j4o2m-gT1hhJ",
        "outputId": "512bea41-ff99-4f1d-f50b-796b763f82a1"
      },
      "source": [
        "# Info about our data \n",
        "df.info()"
      ],
      "execution_count": 3,
      "outputs": [
        {
          "output_type": "stream",
          "text": [
            "<class 'pandas.core.frame.DataFrame'>\n",
            "DatetimeIndex: 2787 entries, 2013-10-01 to 2021-05-18\n",
            "Data columns (total 5 columns):\n",
            " #   Column               Non-Null Count  Dtype  \n",
            "---  ------               --------------  -----  \n",
            " 0   Currency             2787 non-null   object \n",
            " 1   Closing Price (USD)  2787 non-null   float64\n",
            " 2   24h Open (USD)       2787 non-null   float64\n",
            " 3   24h High (USD)       2787 non-null   float64\n",
            " 4   24h Low (USD)        2787 non-null   float64\n",
            "dtypes: float64(4), object(1)\n",
            "memory usage: 130.6+ KB\n"
          ],
          "name": "stdout"
        }
      ]
    },
    {
      "cell_type": "code",
      "metadata": {
        "colab": {
          "base_uri": "https://localhost:8080/"
        },
        "id": "NhkyEcN0116y",
        "outputId": "ea9644ea-dc22-4d71-a0cf-1bbdc19f413f"
      },
      "source": [
        "# How many samples do we have? \n",
        "len(df)"
      ],
      "execution_count": 4,
      "outputs": [
        {
          "output_type": "execute_result",
          "data": {
            "text/plain": [
              "2787"
            ]
          },
          "metadata": {},
          "execution_count": 4
        }
      ]
    },
    {
      "cell_type": "markdown",
      "metadata": {
        "id": "E6ISySas170z"
      },
      "source": [
        "We've collected the historical price of the Bitcoin for the past 8 years but there's only **2787 samples**. \n",
        "\n",
        "Typically deeplearning models usually like lots and lots of samples (where lots and lots and lots can be thousands to tens of thousands to millions). \n",
        "\n",
        "A smaller number of samples is something you'll often run into with time series data problems. \n",
        "\n",
        "> **Note**: The seasonality of the time series dataset is referred as the number of samples per yes. So for our Bitcoint data, it has a seasonlity of daily or value of 365 because we collect one sample per dat meaning we'll get 365 samples per year. \n",
        "\n",
        "There are various patterns in the time series data.  \n",
        "\n",
        "- **Trend** —> time series has a clear long-term increase or decrease (may or may not be linear)\n",
        "- **Seasonal** —> time series affected by a seasonal factors such as time of year (e.g. increased sales towards end of year) or day of week.\n",
        "- **Cyclic** —> time series shows rise and falls over an unfixed period, these tend to be longer/more variable than seasonal patterns.\n",
        "\n",
        "**Difference between season and cyclic** \n",
        "\n",
        "Seasonal is fixed where the things happen at a particular year or week etc.. But with cyclic its not the case, as there is no any time frame to determine when the events could take place\n",
        "\n",
        "- **Univariate** --> Only one variable (using the price of Bitcoin to predict the price of Bitcoin). \n",
        "- **Multivariate** --> For Multivariate, there are more than one variable (using the price of Bitcoin as well as the block reward size  to predict the price of Bitcoin) which is using multiple features for prediction. "
      ]
    },
    {
      "cell_type": "code",
      "metadata": {
        "colab": {
          "base_uri": "https://localhost:8080/",
          "height": 450
        },
        "id": "7jlapWq5B7Gq",
        "outputId": "5e4ea2f4-24a6-429b-b395-491f0c595e6e"
      },
      "source": [
        "# Only getting the closing price for each dat \n",
        "bitcoin_prices = pd.DataFrame(df['Closing Price (USD)']).rename(columns = {'Closing Price (USD)': 'Price'})\n",
        "bitcoin_prices"
      ],
      "execution_count": 5,
      "outputs": [
        {
          "output_type": "execute_result",
          "data": {
            "text/html": [
              "<div>\n",
              "<style scoped>\n",
              "    .dataframe tbody tr th:only-of-type {\n",
              "        vertical-align: middle;\n",
              "    }\n",
              "\n",
              "    .dataframe tbody tr th {\n",
              "        vertical-align: top;\n",
              "    }\n",
              "\n",
              "    .dataframe thead th {\n",
              "        text-align: right;\n",
              "    }\n",
              "</style>\n",
              "<table border=\"1\" class=\"dataframe\">\n",
              "  <thead>\n",
              "    <tr style=\"text-align: right;\">\n",
              "      <th></th>\n",
              "      <th>Price</th>\n",
              "    </tr>\n",
              "    <tr>\n",
              "      <th>Date</th>\n",
              "      <th></th>\n",
              "    </tr>\n",
              "  </thead>\n",
              "  <tbody>\n",
              "    <tr>\n",
              "      <th>2013-10-01</th>\n",
              "      <td>123.654990</td>\n",
              "    </tr>\n",
              "    <tr>\n",
              "      <th>2013-10-02</th>\n",
              "      <td>125.455000</td>\n",
              "    </tr>\n",
              "    <tr>\n",
              "      <th>2013-10-03</th>\n",
              "      <td>108.584830</td>\n",
              "    </tr>\n",
              "    <tr>\n",
              "      <th>2013-10-04</th>\n",
              "      <td>118.674660</td>\n",
              "    </tr>\n",
              "    <tr>\n",
              "      <th>2013-10-05</th>\n",
              "      <td>121.338660</td>\n",
              "    </tr>\n",
              "    <tr>\n",
              "      <th>...</th>\n",
              "      <td>...</td>\n",
              "    </tr>\n",
              "    <tr>\n",
              "      <th>2021-05-14</th>\n",
              "      <td>49764.132082</td>\n",
              "    </tr>\n",
              "    <tr>\n",
              "      <th>2021-05-15</th>\n",
              "      <td>50032.693137</td>\n",
              "    </tr>\n",
              "    <tr>\n",
              "      <th>2021-05-16</th>\n",
              "      <td>47885.625255</td>\n",
              "    </tr>\n",
              "    <tr>\n",
              "      <th>2021-05-17</th>\n",
              "      <td>45604.615754</td>\n",
              "    </tr>\n",
              "    <tr>\n",
              "      <th>2021-05-18</th>\n",
              "      <td>43144.471291</td>\n",
              "    </tr>\n",
              "  </tbody>\n",
              "</table>\n",
              "<p>2787 rows × 1 columns</p>\n",
              "</div>"
            ],
            "text/plain": [
              "                   Price\n",
              "Date                    \n",
              "2013-10-01    123.654990\n",
              "2013-10-02    125.455000\n",
              "2013-10-03    108.584830\n",
              "2013-10-04    118.674660\n",
              "2013-10-05    121.338660\n",
              "...                  ...\n",
              "2021-05-14  49764.132082\n",
              "2021-05-15  50032.693137\n",
              "2021-05-16  47885.625255\n",
              "2021-05-17  45604.615754\n",
              "2021-05-18  43144.471291\n",
              "\n",
              "[2787 rows x 1 columns]"
            ]
          },
          "metadata": {},
          "execution_count": 5
        }
      ]
    },
    {
      "cell_type": "code",
      "metadata": {
        "colab": {
          "base_uri": "https://localhost:8080/",
          "height": 460
        },
        "id": "uRiCsqVUCfcC",
        "outputId": "69b05ee6-dda2-44f5-c57f-d39ef632a3b1"
      },
      "source": [
        "# Lets plot the prices vs data \n",
        "import matplotlib.pyplot as plt\n",
        "bitcoin_prices.plot(figsize = (10 , 7))\n",
        "plt.ylabel('BTC Price')\n",
        "plt.title('Price of Bitcoin from 1 Oct 2013 to 18 May 2021' , fontsize =16)\n",
        "plt.legend(fontsize = 14);"
      ],
      "execution_count": 6,
      "outputs": [
        {
          "output_type": "display_data",
          "data": {
            "image/png": "[encoded data removed]",
            "text/plain": [
              "<Figure size 720x504 with 1 Axes>"
            ]
          },
          "metadata": {
            "needs_background": "light"
          }
        }
      ]
    },
    {
      "cell_type": "markdown",
      "metadata": {
        "id": "OWH36ZsZC56e"
      },
      "source": [
        "#### Importing time series data with Python CSV module \n",
        "\n",
        "Its not always necessary to use pandas. We can use Python's built in csv module, and we also gotta use Python's `datetime`. \n",
        "\n",
        "Resources --> https://realpython.com/python-csv/"
      ]
    },
    {
      "cell_type": "code",
      "metadata": {
        "colab": {
          "base_uri": "https://localhost:8080/"
        },
        "id": "aBwW-oTGD4r8",
        "outputId": "be020cca-17e0-4c0d-9c82-013586dc3e20"
      },
      "source": [
        "# Importing annd formatting historical Bitcoin data with Python \n",
        "import csv \n",
        "from datetime import datetime \n",
        "\n",
        "timesteps = []\n",
        "btc_price = [] \n",
        "with open('/content/BTC_USD_2013-10-01_2021-05-18-CoinDesk.csv' , 'r') as f:\n",
        "  csv_reader = csv.reader(f , delimiter = ',') # read the csv file using python csv lib \n",
        "  next(csv_reader) # iterate the rows and skip the first line (which is our header)\n",
        "  for line in csv_reader:\n",
        "    timesteps.append(datetime.strptime(line[1] , '%Y-%m-%d')) # indexing into the dates and storing it in a list with datetime format\n",
        "    btc_price.append(float(line[2])) # get the closing price as float \n",
        "                     \n",
        "\n",
        "# View first 10 of each \n",
        "timesteps[:10] , btc_price[:10]\n"
      ],
      "execution_count": 9,
      "outputs": [
        {
          "output_type": "execute_result",
          "data": {
            "text/plain": [
              "([datetime.datetime(2013, 10, 1, 0, 0),\n",
              "  datetime.datetime(2013, 10, 2, 0, 0),\n",
              "  datetime.datetime(2013, 10, 3, 0, 0),\n",
              "  datetime.datetime(2013, 10, 4, 0, 0),\n",
              "  datetime.datetime(2013, 10, 5, 0, 0),\n",
              "  datetime.datetime(2013, 10, 6, 0, 0),\n",
              "  datetime.datetime(2013, 10, 7, 0, 0),\n",
              "  datetime.datetime(2013, 10, 8, 0, 0),\n",
              "  datetime.datetime(2013, 10, 9, 0, 0),\n",
              "  datetime.datetime(2013, 10, 10, 0, 0)],\n",
              " [123.65499,\n",
              "  125.455,\n",
              "  108.58483,\n",
              "  118.67466,\n",
              "  121.33866,\n",
              "  120.65533,\n",
              "  121.795,\n",
              "  123.033,\n",
              "  124.049,\n",
              "  125.96116])"
            ]
          },
          "metadata": {},
          "execution_count": 9
        }
      ]
    },
    {
      "cell_type": "code",
      "metadata": {
        "colab": {
          "base_uri": "https://localhost:8080/",
          "height": 477
        },
        "id": "3vjxoACJEO_t",
        "outputId": "7fe1bc97-0b37-43f5-dd38-e9e319acafe2"
      },
      "source": [
        "# Plot the aboce csv \n",
        "import matplotlib.pyplot as plt\n",
        "import numpy as np \n",
        "\n",
        "plt.figure(figsize = (10 , 7))\n",
        "plt.plot(timesteps , btc_price)\n",
        "plt.title('Price of bitcoin from 1 Oct 2013 to 18 May 2020' , fontsize = 16)\n",
        "plt.xlabel('Date')\n",
        "plt.ylabel('BTC Price')"
      ],
      "execution_count": 15,
      "outputs": [
        {
          "output_type": "execute_result",
          "data": {
            "text/plain": [
              "Text(0, 0.5, 'BTC Price')"
            ]
          },
          "metadata": {},
          "execution_count": 15
        },
        {
          "output_type": "display_data",
          "data": {
            "image/png": "[encoded data removed]",
            "text/plain": [
              "<Figure size 720x504 with 1 Axes>"
            ]
          },
          "metadata": {
            "needs_background": "light"
          }
        }
      ]
    },
    {
      "cell_type": "markdown",
      "metadata": {
        "id": "Vz9MtYeHnS36"
      },
      "source": [
        "### Formatting Data Part 1 : Creating train and tests for our time series data \n",
        "\n",
        "\n",
        "Usually we will be creating a train and test split using a function like Scikit-learn's `train_test_split()` but its not the case for the time series data. \n",
        "\n",
        "Before splitting we should know what kind of data we're dealing with and we will either have a **univariate data** or **multivariate data**. \n",
        "- **Univariate** time series data deals with one variable, for example using the price of Bitcoint to predict the price of Bitcoin.\n",
        "- **Multivariate** time series data deals with more than one variable, for example predicting electricity demand using the day of week, time of year and number of houses in a region. \n",
        "\n",
        "> We're dealing with a univariate time series problem, so we have to make a split on one variable. \n",
        "\n"
      ]
    },
    {
      "cell_type": "markdown",
      "metadata": {
        "id": "qAKa8CcnyYJZ"
      },
      "source": [
        "#### Create train and test set for time series (the wrong way) \n",
        "\n",
        "\n"
      ]
    },
    {
      "cell_type": "code",
      "metadata": {
        "colab": {
          "base_uri": "https://localhost:8080/"
        },
        "id": "lvjs5CSysE7R",
        "outputId": "04fcf130-80ad-47db-af84-a66b1c1ef8a3"
      },
      "source": [
        "# Get bitcoin data array \n",
        "timesteps = bitcoin_prices.index.to_numpy()\n",
        "prices = bitcoin_prices['Price'].to_numpy()\n",
        "\n",
        "timesteps[:10] , prices[:10]"
      ],
      "execution_count": 17,
      "outputs": [
        {
          "output_type": "execute_result",
          "data": {
            "text/plain": [
              "(array(['2013-10-01T00:00:00.000000000', '2013-10-02T00:00:00.000000000',\n",
              "        '2013-10-03T00:00:00.000000000', '2013-10-04T00:00:00.000000000',\n",
              "        '2013-10-05T00:00:00.000000000', '2013-10-06T00:00:00.000000000',\n",
              "        '2013-10-07T00:00:00.000000000', '2013-10-08T00:00:00.000000000',\n",
              "        '2013-10-09T00:00:00.000000000', '2013-10-10T00:00:00.000000000'],\n",
              "       dtype='datetime64[ns]'),\n",
              " array([123.65499, 125.455  , 108.58483, 118.67466, 121.33866, 120.65533,\n",
              "        121.795  , 123.033  , 124.049  , 125.96116]))"
            ]
          },
          "metadata": {},
          "execution_count": 17
        }
      ]
    },
    {
      "cell_type": "code",
      "metadata": {
        "colab": {
          "base_uri": "https://localhost:8080/"
        },
        "id": "0bEo-W50sMQy",
        "outputId": "e8fd5ac5-8157-4a86-893f-e1b96879e2ad"
      },
      "source": [
        "# Wrong way to make train/test set for time series \n",
        "from sklearn.model_selection import train_test_split\n",
        "\n",
        "X_train , X_test , y_train , y_test = train_test_split(timesteps , #dates \n",
        "                                                       prices , #prices , \n",
        "                                                       test_size = 0.2 , \n",
        "                                                       random_state = 42)\n",
        "\n",
        "# Checking the shapes \n",
        "X_train.shape , X_test.shape , y_train.shape , y_test.shape"
      ],
      "execution_count": 18,
      "outputs": [
        {
          "output_type": "execute_result",
          "data": {
            "text/plain": [
              "((2229,), (558,), (2229,), (558,))"
            ]
          },
          "metadata": {},
          "execution_count": 18
        }
      ]
    },
    {
      "cell_type": "code",
      "metadata": {
        "colab": {
          "base_uri": "https://localhost:8080/",
          "height": 442
        },
        "id": "k7SY6Gl4sMTo",
        "outputId": "4920f557-ffa4-4a49-ebac-b9df2d7b2933"
      },
      "source": [
        "# Lets visualize the splits we made \n",
        "plt.figure(figsize = (10 , 7))\n",
        "plt.scatter(X_train , y_train , s = 5 , label ='Train data')\n",
        "plt.scatter(X_test , y_test , s = 5 , label = 'Test Data')\n",
        "plt.xlabel('Date')\n",
        "plt.ylabel('BTC Price')\n",
        "plt.legend(fontsize = 14)\n",
        "plt.show()"
      ],
      "execution_count": 19,
      "outputs": [
        {
          "output_type": "display_data",
          "data": {
            "image/png": "[encoded data removed]",
            "text/plain": [
              "<Figure size 720x504 with 1 Axes>"
            ]
          },
          "metadata": {
            "needs_background": "light"
          }
        }
      ]
    },
    {
      "cell_type": "markdown",
      "metadata": {
        "id": "efQFsPR0sMZd"
      },
      "source": [
        "The above split isn't the ideal way for a time series data because ur test data is scattered all throughout the training data. \n",
        "\n",
        "This kind of random splits will be fine for datasets without a time component, but for time series, we have to got take the time factor into account. \n",
        "\n",
        "In other words it is data leakage. \n",
        "\n",
        "We need to split our Historical Bitcoin data to have a **dataset that reflects the past (train set) and a dataset that reflects the future (test data or pseudo future)**.\n",
        "\n",
        "#### Create train and test sets for a time series (the right way) \n",
        "\n",
        "\n",
        "\n"
      ]
    },
    {
      "cell_type": "code",
      "metadata": {
        "colab": {
          "base_uri": "https://localhost:8080/"
        },
        "id": "pdpe8OPKt-60",
        "outputId": "b6d9167d-0b60-49b1-e63b-33435a4d78f9"
      },
      "source": [
        "split_size = int(0.8 * len(prices)) # 80% train , 20% test (can change this values)\n",
        "\n",
        "# Create train data splits (everything before the split)\n",
        "X_train , y_train = timesteps[:split_size] , prices[:split_size]\n",
        "\n",
        "# Create test data splits (everything after the split)\n",
        "X_test , y_test = timesteps[split_size:] , prices[split_size:]\n",
        "\n",
        "len(X_train) , len(X_test) , len(y_train) , len(y_test)"
      ],
      "execution_count": 20,
      "outputs": [
        {
          "output_type": "execute_result",
          "data": {
            "text/plain": [
              "(2229, 558, 2229, 558)"
            ]
          },
          "metadata": {},
          "execution_count": 20
        }
      ]
    },
    {
      "cell_type": "code",
      "metadata": {
        "colab": {
          "base_uri": "https://localhost:8080/",
          "height": 442
        },
        "id": "tI2ccROst_E0",
        "outputId": "0cdda1a9-a19c-4d38-b800-3150f1220286"
      },
      "source": [
        "# Visualizing the above splits (the right one)\n",
        "# Plot correctly made splits\n",
        "plt.figure(figsize=(10, 7))\n",
        "plt.scatter(X_train, y_train, s=5, label=\"Train data\")\n",
        "plt.scatter(X_test, y_test, s=5, label=\"Test data\")\n",
        "plt.xlabel(\"Date\")\n",
        "plt.ylabel(\"BTC Price\")\n",
        "plt.legend(fontsize=14)\n",
        "plt.show();"
      ],
      "execution_count": 21,
      "outputs": [
        {
          "output_type": "display_data",
          "data": {
            "image/png": "[encoded data removed]",
            "text/plain": [
              "<Figure size 720x504 with 1 Axes>"
            ]
          },
          "metadata": {
            "needs_background": "light"
          }
        }
      ]
    },
    {
      "cell_type": "markdown",
      "metadata": {
        "id": "tMZyqmqIyhMG"
      },
      "source": [
        "Beautiful! Here we're going to be using the training set (past) to train a model to try and predict values on the test set (future). \n",
        "\n",
        "Our test set is an artifical future, at the end we can try our model on the whole data as a training set. \n",
        "\n",
        "> **🔑 Note** The amount of data you reserve for your test set is not set in stone. You could have 80/20 , 90/10 , 95/5 splits or in some cases, you might not even have a enough data to split into train and test sets. The point is to remember the test set is a pseudofuture and not the actual future, it is only meant to give you an indication of how the models you're building are performing. \n",
        "\n",
        "> 📖 Resource: Working with time series data can be tricky compared to other kinds of data. And there are a few pitfalls to watch out for, such as how much data to use for a test set. The article [3 facts about time series forecasting that surprise experienced machine learning practitioners](https://towardsdatascience.com/3-facts-about-time-series-forecasting-that-surprise-experienced-machine-learning-practitioners-69c18ee89387) talks about different things to watch out for when working with time series data, I'd recommend reading it."
      ]
    },
    {
      "cell_type": "markdown",
      "metadata": {
        "id": "bRFbqjYpt_QX"
      },
      "source": [
        "##### Creating a plot function to visualize our time series data \n",
        "\n"
      ]
    },
    {
      "cell_type": "code",
      "metadata": {
        "id": "tyF0zGL2sNcj"
      },
      "source": [
        "def plot_time_series(timesteps , values ,format = '.' , start = 0 , end = None , label = None):\n",
        "  '''\n",
        "  Plots a timesteps (a series of point in time) against values (a series of values across timesteps)\n",
        "\n",
        "  Parameters \n",
        "  ----------\n",
        "\n",
        "  timesteps : array of timesteps (date)\n",
        "  values : array of values across time \n",
        "  format : style of plot , default '.'\n",
        "  start : where to start the plot (setting a value will index from start of timesteps & values)\n",
        "  end : where to end the plot (setting a value will index from end of timesteps & values)\n",
        "  label : label to show on plot of values\n",
        "  '''\n",
        "\n",
        "  # Plot the serie \n",
        "  plt.plot(timesteps[start:end] , values[start:end] , format , label = label)\n",
        "  plt.xlabel('Time')\n",
        "  plt.ylabel('BTC Price')\n",
        "  if label:\n",
        "    plt.legend(fontsize = 14) # make label bigger\n",
        "  plt.grid(True)"
      ],
      "execution_count": 26,
      "outputs": []
    },
    {
      "cell_type": "code",
      "metadata": {
        "colab": {
          "base_uri": "https://localhost:8080/",
          "height": 442
        },
        "id": "9MFoT1d00mn_",
        "outputId": "0bdf0e16-13ea-4cc8-f46f-98b9f03e5cad"
      },
      "source": [
        "# Trying out our plotting function \n",
        "plt.figure(figsize = (10, 7))\n",
        "plot_time_series(timesteps = X_train , values = y_train , label ='Train data')\n",
        "plot_time_series(timesteps = X_test , values = y_test , label = 'Test data')"
      ],
      "execution_count": 28,
      "outputs": [
        {
          "output_type": "display_data",
          "data": {
            "image/png": "[encoded data removed]",
            "text/plain": [
              "<Figure size 720x504 with 1 Axes>"
            ]
          },
          "metadata": {
            "needs_background": "light"
          }
        }
      ]
    },
    {
      "cell_type": "markdown",
      "metadata": {
        "id": "c2dFjDCha2le"
      },
      "source": [
        "Later try to experiment with this: Sklearns [timeseries split](https://scikit-learn.org/stable/modules/generated/sklearn.model_selection.TimeSeriesSplit.html)"
      ]
    },
    {
      "cell_type": "markdown",
      "metadata": {
        "id": "Ivli-weB0_5c"
      },
      "source": [
        "## **Modelling Experiments**\n",
        "\n",
        "We've got some bitcoin historical data, to model it, lets run a series of modelling experiments and see which model performs the best. \n",
        "\n",
        "Terms to be familiar with, \n",
        "* **Horizon** --> Number of timesteps into the future we're going to predict. \n",
        "* **Window Size** --> Number of timesteps we're going to predict **horizon**\n",
        "\n",
        "Modelling experiments we're running: \n",
        "- 0\tNaïve model (baseline)\t\n",
        "- 1\tDense model\t(horizon = 1 , window = 7)\t\n",
        "- 2\tSame as model 1 (horizon = 1 , window = 30)\n",
        "- 3\tSame as model 1 (horizon = 7\twindow =30)\t\n",
        "- 4\tConv1D\t(horizon =1 , window =7)\t\n",
        "- 5\tLSTM\t(horizon =1 , window =7)\n",
        "- 6\tSame as 1 (but with multivariate data)\t(horizon =1\t, window = 7)\tBlock reward size\n",
        "- 7\tN-BEATs Algorithm\t(horizon =1 , window\t=7)\t\n",
        "- 8\tEnsemble (multiple models optimized on different loss functions)\t(horizon = 1\t, window =7)\t\n",
        "- 9\tFuture prediction model (model to predict future values)\t(horizon = 1 , window=\t7)\t\n",
        "- 10\tSame as 1 (but with turkey 🦃 data introduced)\t(horizon = 1 , window= 7)"
      ]
    },
    {
      "cell_type": "markdown",
      "metadata": {
        "id": "_qQ2jt0923FX"
      },
      "source": [
        "### Model 0 : Naive Forecast (baseline) \n",
        "\n",
        "One of the most common baeline models for time series forecasting, the naive model (also called [naive forecast](https://otexts.com/fpp3/simple-methods.html#na%C3%AFve-method)) requires no training at all. \n",
        "\n",
        "Thats because all the naive model does is use the previous timestep values (horizon) to predict the next timestep values (window). \n",
        "\n",
        "$$\\hat{y}_{t} = y_{t-1}$$\n",
        "\n",
        "> The above formula implies, the prediction at timestep t (y-hat) is equal to the value at timestep t-1 (the previous timestep). \n",
        "\n",
        "In an open system (stock market or crypto market) beating the naive forecast with any kind of model is quite hard. \n",
        "\n",
        "Its naive because it blindly predicts the previous timestep the next timestep. \n",
        "\n"
      ]
    },
    {
      "cell_type": "code",
      "metadata": {
        "colab": {
          "base_uri": "https://localhost:8080/"
        },
        "id": "gEKQy9U-Xru6",
        "outputId": "28cf6b45-943f-4b47-85e2-1a6c4fdf3f9e"
      },
      "source": [
        "# Create a naive forecast \n",
        "naive_forecast = y_test[:-1]  # except every value excluding the last one\n",
        "\n",
        "# Looking at first and last 10 values \n",
        "naive_forecast[:10] , naive_forecast[:10:]"
      ],
      "execution_count": 32,
      "outputs": [
        {
          "output_type": "execute_result",
          "data": {
            "text/plain": [
              "(array([9226.48582088, 8794.35864452, 8798.04205463, 9081.18687849,\n",
              "        8711.53433917, 8760.89271814, 8749.52059102, 8656.97092235,\n",
              "        8500.64355816, 8469.2608989 ]),\n",
              " array([9226.48582088, 8794.35864452, 8798.04205463, 9081.18687849,\n",
              "        8711.53433917, 8760.89271814, 8749.52059102, 8656.97092235,\n",
              "        8500.64355816, 8469.2608989 ]))"
            ]
          },
          "metadata": {},
          "execution_count": 32
        }
      ]
    },
    {
      "cell_type": "code",
      "metadata": {
        "colab": {
          "base_uri": "https://localhost:8080/",
          "height": 442
        },
        "id": "Kp9VJxcyXwBt",
        "outputId": "c195b3e3-dfa4-4d5e-f86f-bf25820d4160"
      },
      "source": [
        "# Plot the naive forecast \n",
        "plt.figure(figsize = (10 , 7))\n",
        "plot_time_series(timesteps= X_train , values = y_train , label = 'Train data')\n",
        "plot_time_series(timesteps= X_test , values = y_test , label = 'Test data')\n",
        "plot_time_series(timesteps = X_test[1:] , values=naive_forecast , format = '-' , label= 'Naive Forecast')"
      ],
      "execution_count": 34,
      "outputs": [
        {
          "output_type": "display_data",
          "data": {
            "image/png": "[encoded data removed]",
            "text/plain": [
              "<Figure size 720x504 with 1 Axes>"
            ]
          },
          "metadata": {
            "needs_background": "light"
          }
        }
      ]
    },
    {
      "cell_type": "code",
      "metadata": {
        "colab": {
          "base_uri": "https://localhost:8080/",
          "height": 442
        },
        "id": "O3ZJ6-ZxY8Eg",
        "outputId": "40ff2dcc-a542-4081-8785-556db09b7aa0"
      },
      "source": [
        "# Looking into the test and the naive forecast (this is for closer observation to determine the performance)\n",
        "plt.figure(figsize= (10 , 7))\n",
        "plot_time_series(X_test , y_test , start= 350 , format = '-' , label = 'Test data')\n",
        "plot_time_series(X_test[1:] , naive_forecast , start = 350 , format = '-',label='Naive Forecast')"
      ],
      "execution_count": 36,
      "outputs": [
        {
          "output_type": "display_data",
          "data": {
            "image/png": "[encoded data removed]",
            "text/plain": [
              "<Figure size 720x504 with 1 Axes>"
            ]
          },
          "metadata": {
            "needs_background": "light"
          }
        }
      ]
    },
    {
      "cell_type": "markdown",
      "metadata": {
        "id": "eEbjGt8waUDY"
      },
      "source": [
        "If we can clearly observe the above graph, we can see that there is a slight lag (or gap) between the test data and naive forecast. \n",
        "\n",
        "This indicates how close were the prediction of naive forecast were compared to the test data. \n",
        "\n",
        "**Naive forecast is quite hard to beat.**\n",
        "\n",
        "> To know more about this check [Forecasting: Principles and Practice chapter 5.8](https://otexts.com/fpp3/accuracy.html). Also search and find out why naive forecast is hard to beat, keep an eye out for the term AutoRegressive. "
      ]
    },
    {
      "cell_type": "markdown",
      "metadata": {
        "id": "A73Vfs4ibShm"
      },
      "source": [
        "### **Evaluating a time series model**\n",
        "\n",
        "Time series forecasting often involves predicting a number (in our case, the price of Bitcoin). And its a Regression problem. \n",
        "\n",
        "With this known, we can use regression evaluation metrics to evaluate our time series forecasts. \n",
        "\n",
        "The main thing we will be evaluating is: \n",
        "> **how do our models predictions (y_pred) compares against the actual values (y_true or ground truth values)?**\n",
        "\n",
        "For all of the followiing metrics, **lower is better** (for example an MAE of 0 is better than an MAE 50). \n",
        "\n",
        "#### **Scale Dependent errors**\n",
        "\n",
        "There are the metrics which can be used to compare time series values and forecasts that are on the same scale. \n",
        "\n",
        "For example, Bitcoin historical prices in USD veresus Bitcoin forecast values in USD.\n",
        "\n",
        "* **MAE (mean absolute error)** `tf.keras.metrics.mean_absolute_error()` : Easy to interpret (a forecast is X amount different from actual amount). Forecast methods which minimises the MAE will lead to forecasts of the median. \n",
        "* **RMSE (root mean squared error) `tf.keras.metrics.mean_square_error()`**: Forecasts which minimise the RMSE lead to forecasts of the mean.\n",
        "\n",
        "#### **Percentage Errors** \n",
        "\n",
        "Percentage erros do not have any units, this means they can be used to compare forecasts across different datasets. \n",
        "\n",
        "* **MAPE (mean absolute percentage error) `tf.keras.metrics.mean_absolute_percentage_error()`**: Most commonly used percentage error. May explode (not work) if y=0.\n",
        "* **sMAPE (symmetric mean absolute percentage error) `Custom Implementation`**: Recommended not to be used by Forecasting: Principles and Practice, though it is used in forecasting competitions.\n",
        "\n",
        "#### **Scaled Errors**\n",
        "Scaled errors are an alternative to percentage errors when comparing forecast performance across different time series. \n",
        "\n",
        "- **MASE (mean absolute scaled error) `See sktime's mase_loss()`**: MASE equals one for the naive forecast (or very close to one). A forecast which performs better than the naïve should get <1 MASE.\n",
        "\n",
        "> **🤔 Question**: There are so many metrics... which one should I pay most attention to? It's going to depend on your problem. However, since its ease of interpretation (you can explain it in a sentence to your grandma), MAE is often a very good place to start.\n",
        "\n",
        "Lets write a function to help us calculate evaluation metrics on their forecasts. Also we need to implement the MASE using TensorFlow. "
      ]
    },
    {
      "cell_type": "code",
      "metadata": {
        "id": "61K-TV78g-V9"
      },
      "source": [
        "# Importing tensorflow \n",
        "import tensorflow as tf "
      ],
      "execution_count": 37,
      "outputs": []
    },
    {
      "cell_type": "code",
      "metadata": {
        "id": "IFLEX3BUy50Q"
      },
      "source": [
        "# MASE implemented courtesy of sktime -\n",
        "# https://github.com/alan-turing-institute/sktime/blob/ee7a06843a44f4aaec7582d847e36073a9ab0566/sktime/performance_metrics/forecasting/_functions.py#L16\n",
        "\n",
        "def mean_absolute_scaled_error(y_true , y_pred):\n",
        "  '''\n",
        "  Implement MASE (assuming no seasonality of data)\n",
        "  '''\n",
        "  mae = tf.reduce_mean(tf.abs(y_true - y_pred))\n",
        "\n",
        "  # Find MAE of naive forecast (no seasonality)\n",
        "  mae_naive_no_season = tf.reduce_mean(tf.abs(y_true[1:] - y_true[:-1])) # our seasonality is 1 day \n",
        "\n",
        "  return mae / mae_naive_no_season"
      ],
      "execution_count": 38,
      "outputs": []
    },
    {
      "cell_type": "code",
      "metadata": {
        "colab": {
          "base_uri": "https://localhost:8080/"
        },
        "id": "8a6_29UY2DcI",
        "outputId": "f9f8c592-8ec1-4db4-e054-4ecb858101d0"
      },
      "source": [
        "mean_absolute_scaled_error(y_true = y_test[1:] , y_pred = naive_forecast).numpy()"
      ],
      "execution_count": 41,
      "outputs": [
        {
          "output_type": "execute_result",
          "data": {
            "text/plain": [
              "0.9995699939182624"
            ]
          },
          "metadata": {},
          "execution_count": 41
        }
      ]
    },
    {
      "cell_type": "markdown",
      "metadata": {
        "id": "gj2T74qg2Lhr"
      },
      "source": [
        "You'll notice the version of MASE above doesn't take in the training values like sktime's mae_loss(). In our case, we're comparing the MAE of our predictions on the test to the MAE of the naïve forecast on the test set.\n",
        "\n",
        "In practice, if we've created the function correctly, the naïve model should achieve an MASE of 1 (or very close to 1). Any model worse than the naïve forecast will achieve an MASE of >1 and any model better than the naïve forecast will achieve an MASE of <1."
      ]
    },
    {
      "cell_type": "code",
      "metadata": {
        "id": "4-_1Xqc_2YrA"
      },
      "source": [
        "# Putting each of our different evaluation metrics together into a function \n",
        "def evaluate_preds(y_true , y_pred):\n",
        "\n",
        "  '''\n",
        "  Inputs\n",
        "  ------\n",
        "   --> y_true (truth labels)\n",
        "   --> y_pred (predicted labels)\n",
        "\n",
        "  Returns\n",
        "  -------\n",
        "    --> MAE \n",
        "    --> MSE \n",
        "    --> RMSE\n",
        "    --> MAPE/sMAPE\n",
        "    --> MASE\n",
        "  '''\n",
        "\n",
        "  # Make sure float32 for the metric calculations\n",
        "  y_true = tf.cast(y_true , tf.float32)\n",
        "  y_pred = tf.cast(y_pred , tf.float32)\n",
        "\n",
        "  # Calculating the evalution metrics\n",
        "  mae = tf.keras.metrics.mean_absolute_error(y_true , y_pred)\n",
        "  mse = tf.keras.metrics.mean_squared_error(y_true , y_pred)\n",
        "  rmse = tf.sqrt(mse)\n",
        "  mape = tf.keras.metrics.mean_absolute_percentage_error(y_true , y_pred)\n",
        "  mase = mean_absolute_scaled_error(y_true , y_pred)\n",
        "  \n",
        "  return {\"mae\": mae.numpy(),\n",
        "          \"mse\": mse.numpy(),\n",
        "          \"rmse\": rmse.numpy(),\n",
        "          \"mape\": mape.numpy(),\n",
        "          \"mase\": mase.numpy()}"
      ],
      "execution_count": 43,
      "outputs": []
    },
    {
      "cell_type": "code",
      "metadata": {
        "colab": {
          "base_uri": "https://localhost:8080/"
        },
        "id": "gcBvoaBS41jZ",
        "outputId": "2c152a3d-5736-4eaa-dfd5-0b223a68e378"
      },
      "source": [
        "# Testing the above function \n",
        "naive_results = evaluate_preds(y_true= y_test[1:] , \n",
        "                               y_pred = naive_forecast)\n",
        "naive_results"
      ],
      "execution_count": 45,
      "outputs": [
        {
          "output_type": "execute_result",
          "data": {
            "text/plain": [
              "{'mae': 567.9802,\n",
              " 'mape': 2.516525,\n",
              " 'mase': 0.99957,\n",
              " 'mse': 1147547.0,\n",
              " 'rmse': 1071.2362}"
            ]
          },
          "metadata": {},
          "execution_count": 45
        }
      ]
    },
    {
      "cell_type": "markdown",
      "metadata": {
        "id": "E4KXsDNV6-61"
      },
      "source": [
        "Great now we've a got some baselines to beat. \n",
        "\n",
        "Taking a look at the naives forecast MAE, it seems on average each forecast is **~$567** different than the actual Bitcoint price. \n",
        "\n",
        "How does this compare to the average price of Bitcoin in the test dataset? \n"
      ]
    },
    {
      "cell_type": "code",
      "metadata": {
        "colab": {
          "base_uri": "https://localhost:8080/"
        },
        "id": "suBbINscDJVx",
        "outputId": "1c05a458-5d82-4736-88fb-3b73822dc00e"
      },
      "source": [
        "# Find average prie of Bitcoin the test dataset \n",
        "tf.reduce_mean(y_test).numpy()"
      ],
      "execution_count": 47,
      "outputs": [
        {
          "output_type": "execute_result",
          "data": {
            "text/plain": [
              "20056.632963737226"
            ]
          },
          "metadata": {},
          "execution_count": 47
        }
      ]
    },
    {
      "cell_type": "markdown",
      "metadata": {
        "id": "k2xuV-vtDQ55"
      },
      "source": [
        "Looking at these two values is starting to give us an idea of how our model is performing: \n",
        "- The average price of Bitcoin in the test dataset is: `$20,056` (note: average may not be the best measure here, since the highes price is over 3x this value and the lowest price is over 4x lower). \n",
        "- Each prediction in naive forecast is on average off by: $567 \n",
        "\n",
        "But for the lower values $567 might will be around 10% and thats not a good estimate. So will try to build models and see if we can beat our baseline. \n",
        "\n",
        "#### **Other kinds of time series forecasting models which can be used for baselines and actual forecasts** \n",
        "\n",
        "There are many other kinds of models we may want to look into for building baselines/performing forecasts. \n",
        "\n",
        "Some of them may even beat our best performing models in this notebooks. \n",
        "\n",
        "- [Moving average](https://www.notion.so/Moving-average-7c2cf9844452466f94b2f9e854b60f40)\n",
        "\n",
        "- [ARIMA (Autoregression Integrated Moving Average)](https://www.notion.so/ARIMA-Autoregression-Integrated-Moving-Average-75d9bdc1c2ff47b3afe78ba6e21bfabb)\n",
        "\n",
        "- [sktime (Scikit-Learn for time series)](https://www.notion.so/sktime-Scikit-Learn-for-time-series-fc5d1a5d94924dceb9ed4bd2a10480a9)\n",
        "\n",
        "- [TensorFlow Decision Forests (random forest, gradient boosting trees)](https://www.notion.so/TensorFlow-Decision-Forests-random-forest-gradient-boosting-trees-dfb792e083f947909aed6941cd6c2e8d)\n",
        "\n",
        "- [Facebook Kats (purpose-built forecasting and time series analysis library by Facebook)](https://www.notion.so/Facebook-Kats-purpose-built-forecasting-and-time-series-analysis-library-by-Facebook-cc48a26a54c34b3e9dac5c05da5e2795)\n",
        "\n",
        "- [LinkedIn Greykite (flexible, intuitive and fast forecasts)](https://www.notion.so/LinkedIn-Greykite-flexible-intuitive-and-fast-forecasts-72c366489bb74e5e886c9190b010c02e)\n"
      ]
    },
    {
      "cell_type": "markdown",
      "metadata": {
        "id": "FYXxcyT1FpuP"
      },
      "source": [
        "### **Format Data Part 2: Windowing dataset**\n",
        "\n",
        "Before we had the price and the timesteps as our dataset, but for the next series of modelling experiments we have to format our data into windows. \n",
        "\n",
        "Windowing is a method to turn a time series dataset into **supervised learning problem.**\n",
        "\n",
        "**In other words, we want to use windows of the past to predict the future**\n",
        "\n",
        "For example for a univariate time series, windowing for one week (window=7) to predict the next single value (horizon=1) might look like:\n",
        "\n",
        "Window for one week (univariate time series)\n",
        "```\n",
        "[0, 1, 2, 3, 4, 5, 6] -> [7]\n",
        "[1, 2, 3, 4, 5, 6, 7] -> [8]\n",
        "[2, 3, 4, 5, 6, 7, 8] -> [9]\n",
        "```\n",
        "Or for the price of Bitcoin, it'd look like:\n",
        "\n",
        "Window for one week with the target of predicting the next day (Bitcoin prices)\n",
        "```\n",
        "[123.654, 125.455, 108.584, 118.674, 121.338, 120.655, 121.795] -> [123.033]\n",
        "[125.455, 108.584, 118.674, 121.338, 120.655, 121.795, 123.033] -> [124.049]\n",
        "[108.584, 118.674, 121.338, 120.655, 121.795, 123.033, 124.049] -> [125.961]\n",
        "```"
      ]
    },
    {
      "cell_type": "code",
      "metadata": {
        "colab": {
          "base_uri": "https://localhost:8080/"
        },
        "id": "4FtdwVfVJ6YL",
        "outputId": "701c69de-19df-454e-eaa3-f9c02a848f6e"
      },
      "source": [
        "# What we want to do with our Bitcoin data \n",
        "print(f'We want to use: {btc_price[:7]} to predict this --> {btc_price[7]}')"
      ],
      "execution_count": 48,
      "outputs": [
        {
          "output_type": "stream",
          "text": [
            "We want to use: [123.65499, 125.455, 108.58483, 118.67466, 121.33866, 120.65533, 121.795] to predict this --> 123.033\n"
          ],
          "name": "stdout"
        }
      ]
    },
    {
      "cell_type": "code",
      "metadata": {
        "id": "dip2G0UtKL3P"
      },
      "source": [
        "# Lets setup global variables for window and horizon size (Hyperparameters)\n",
        "HORIZON = 1 # predict 1 step at a time \n",
        "WINDOW_SIZE = 7 # use a week worth of timesteps to predict the bitcoin "
      ],
      "execution_count": 49,
      "outputs": []
    },
    {
      "cell_type": "code",
      "metadata": {
        "id": "atuhuZZTKeVc"
      },
      "source": [
        "# Writing a function to label windowed data \n",
        "\n",
        "def get_labelled_windows(x , horizon = HORIZON):\n",
        "  '''\n",
        "  Creates labels for windowed dataset \n",
        "\n",
        "  E.g. if horizon=1 (default)\n",
        "\n",
        "  Input [1,2,3,4,5,6] --> Output: ([1 ,2 ,3 , 4 ,5] , [6])\n",
        "  '''\n",
        "  return x[: , :-horizon] , x[: , -horizon:]"
      ],
      "execution_count": 50,
      "outputs": []
    },
    {
      "cell_type": "code",
      "metadata": {
        "colab": {
          "base_uri": "https://localhost:8080/"
        },
        "id": "DpE-jaQZLkMB",
        "outputId": "0c981643-2af6-43ca-fdc7-2d77f19242d8"
      },
      "source": [
        "# Testing out our window labelling function \n",
        "test_window , test_label = get_labelled_windows(tf.expand_dims(tf.range(8)+ 1 , axis = 0))\n",
        "print(f'Window: {tf.squeeze(test_window).numpy()} ---> Label: {tf.squeeze(test_label).numpy()}')"
      ],
      "execution_count": 55,
      "outputs": [
        {
          "output_type": "stream",
          "text": [
            "Window: [1 2 3 4 5 6 7] ---> Label: 8\n"
          ],
          "name": "stdout"
        }
      ]
    },
    {
      "cell_type": "markdown",
      "metadata": {
        "id": "-dmhoiJoL1SL"
      },
      "source": [
        "We've got a way to label our windowed data. \n",
        "\n",
        "However, this only works on a small scale. \n",
        "\n",
        "We need a way to do the above across our entire time series data. \n",
        "\n",
        "We could use Python's for loops, but that would be quite slow. To speed things up, we'll leverage [Numpy array indexing](https://numpy.org/doc/stable/reference/arrays.indexing.html)\n",
        "\n",
        "Lets write a function which: \n",
        "1. Creates a window step of specific window size, for example: [[0 , 1, 2, 3, 4, 5, 6, 7]]\n",
        "2. uses NumPy indexing to create a 2D of multiple window steps, for example: \n",
        "```\n",
        "[[0 ,1 ,2 ,3 ,4 ,5 ,6, 7]],\n",
        "[[1, 2, 3, 4, 5, 6, 7, 8]],\n",
        "[[2, 3, 4, 5, 6, 7, 8, 9]]\n",
        "```\n",
        "3. Uses the 2D array of multiple window steps to index on a target series (e.g the historical price of Bitcoin). \n",
        "4. Uses the `get_labelled_windows()` function we created above to turn the windows steps into windows with a specified horizon. \n",
        "\n",
        "Resource --> https://towardsdatascience.com/fast-and-robust-sliding-window-vectorization-with-numpy-3ad950ed62f5"
      ]
    },
    {
      "cell_type": "code",
      "metadata": {
        "id": "JYVsXSApsXfb"
      },
      "source": [
        "import numpy as np "
      ],
      "execution_count": 56,
      "outputs": []
    },
    {
      "cell_type": "code",
      "metadata": {
        "id": "I-mPXH-dM44W"
      },
      "source": [
        "# Create a function to view Numpy arrays as windows\n",
        "\n",
        "def make_windows(x , window_size = 7 , horizon = 1):\n",
        "  '''\n",
        "  Turns 1D array into a 2D array of sequential windows of window_size\n",
        "  '''\n",
        "\n",
        "  # 1. Create a window of specific window_size (add the horizon on the end for later labelling)\n",
        "  window_step = np.expand_dims(np.arange(window_size + horizon) , axis = 0)\n",
        "\n",
        "  # 2. Create a 2D array of multiple window steps (minus 1 to account for 0 indexing)\n",
        "  window_indexes = window_step + np.expand_dims(np.arange(len(x) - (window_size+horizon-1)) , axis=0).T # create 2D array of windows of size window_size\n",
        "\n",
        "  print(f'Window indexes:\\n {window_indexes , window_indexes.shape}\\n\\n')\n",
        "\n",
        "  # 3. Index on the target array (time series) with 2D array of multiple window steps \n",
        "  windowed_array = x[window_indexes]  # using the above 2D array and indexing into the price/btc_price\n",
        "  print(f'Windowed array: \\n {windowed_array}\\n\\n')\n",
        "\n",
        "  # 4. Get the labelled windows \n",
        "  windows , labels = get_labelled_windows(windowed_array)\n",
        "\n",
        "  return windows , labels"
      ],
      "execution_count": 75,
      "outputs": []
    },
    {
      "cell_type": "code",
      "metadata": {
        "colab": {
          "base_uri": "https://localhost:8080/"
        },
        "id": "rEjqKsV9saTE",
        "outputId": "777f41f0-5622-4af2-b93e-3ef723d48ed7"
      },
      "source": [
        "# Testing the above function \n",
        "make_windows(prices , window_size= 7 , horizon = 1)"
      ],
      "execution_count": 71,
      "outputs": [
        {
          "output_type": "stream",
          "text": [
            "Window indexes:\n",
            " (array([[   0,    1,    2, ...,    5,    6,    7],\n",
            "       [   1,    2,    3, ...,    6,    7,    8],\n",
            "       [   2,    3,    4, ...,    7,    8,    9],\n",
            "       ...,\n",
            "       [2777, 2778, 2779, ..., 2782, 2783, 2784],\n",
            "       [2778, 2779, 2780, ..., 2783, 2784, 2785],\n",
            "       [2779, 2780, 2781, ..., 2784, 2785, 2786]]), (2780, 8))\n",
            "\n",
            "Windowed array: \n",
            " [[  123.65499      125.455        108.58483    ...   120.65533\n",
            "    121.795        123.033     ]\n",
            " [  125.455        108.58483      118.67466    ...   121.795\n",
            "    123.033        124.049     ]\n",
            " [  108.58483      118.67466      121.33866    ...   123.033\n",
            "    124.049        125.96116   ]\n",
            " ...\n",
            " [58788.20967893 58102.19142623 55715.54665129 ... 49764.1320816\n",
            "  50032.69313676 47885.62525472]\n",
            " [58102.19142623 55715.54665129 56573.5554719  ... 50032.69313676\n",
            "  47885.62525472 45604.61575361]\n",
            " [55715.54665129 56573.5554719  52147.82118698 ... 47885.62525472\n",
            "  45604.61575361 43144.47129086]]\n"
          ],
          "name": "stdout"
        },
        {
          "output_type": "execute_result",
          "data": {
            "text/plain": [
              "(array([[  123.65499   ,   125.455     ,   108.58483   , ...,\n",
              "           121.33866   ,   120.65533   ,   121.795     ],\n",
              "        [  125.455     ,   108.58483   ,   118.67466   , ...,\n",
              "           120.65533   ,   121.795     ,   123.033     ],\n",
              "        [  108.58483   ,   118.67466   ,   121.33866   , ...,\n",
              "           121.795     ,   123.033     ,   124.049     ],\n",
              "        ...,\n",
              "        [58788.20967893, 58102.19142623, 55715.54665129, ...,\n",
              "         52147.82118698, 49764.1320816 , 50032.69313676],\n",
              "        [58102.19142623, 55715.54665129, 56573.5554719 , ...,\n",
              "         49764.1320816 , 50032.69313676, 47885.62525472],\n",
              "        [55715.54665129, 56573.5554719 , 52147.82118698, ...,\n",
              "         50032.69313676, 47885.62525472, 45604.61575361]]),\n",
              " array([[  123.033     ],\n",
              "        [  124.049     ],\n",
              "        [  125.96116   ],\n",
              "        ...,\n",
              "        [47885.62525472],\n",
              "        [45604.61575361],\n",
              "        [43144.47129086]]))"
            ]
          },
          "metadata": {},
          "execution_count": 71
        }
      ]
    },
    {
      "cell_type": "code",
      "metadata": {
        "colab": {
          "base_uri": "https://localhost:8080/"
        },
        "id": "iAobsrkFvRW3",
        "outputId": "f58d1441-8a31-4161-e3f4-777f39b94468"
      },
      "source": [
        "# Lets store the variables \n",
        "full_windows , full_labels = make_windows(prices , window_size= 7 , horizon = 1)\n",
        "\n",
        "# Length of the window and label \n",
        "len(full_windows) , len(full_labels)"
      ],
      "execution_count": 76,
      "outputs": [
        {
          "output_type": "stream",
          "text": [
            "Window indexes:\n",
            " (array([[   0,    1,    2, ...,    5,    6,    7],\n",
            "       [   1,    2,    3, ...,    6,    7,    8],\n",
            "       [   2,    3,    4, ...,    7,    8,    9],\n",
            "       ...,\n",
            "       [2777, 2778, 2779, ..., 2782, 2783, 2784],\n",
            "       [2778, 2779, 2780, ..., 2783, 2784, 2785],\n",
            "       [2779, 2780, 2781, ..., 2784, 2785, 2786]]), (2780, 8))\n",
            "\n",
            "\n",
            "Windowed array: \n",
            " [[  123.65499      125.455        108.58483    ...   120.65533\n",
            "    121.795        123.033     ]\n",
            " [  125.455        108.58483      118.67466    ...   121.795\n",
            "    123.033        124.049     ]\n",
            " [  108.58483      118.67466      121.33866    ...   123.033\n",
            "    124.049        125.96116   ]\n",
            " ...\n",
            " [58788.20967893 58102.19142623 55715.54665129 ... 49764.1320816\n",
            "  50032.69313676 47885.62525472]\n",
            " [58102.19142623 55715.54665129 56573.5554719  ... 50032.69313676\n",
            "  47885.62525472 45604.61575361]\n",
            " [55715.54665129 56573.5554719  52147.82118698 ... 47885.62525472\n",
            "  45604.61575361 43144.47129086]]\n",
            "\n",
            "\n"
          ],
          "name": "stdout"
        },
        {
          "output_type": "execute_result",
          "data": {
            "text/plain": [
              "(2780, 2780)"
            ]
          },
          "metadata": {},
          "execution_count": 76
        }
      ]
    },
    {
      "cell_type": "code",
      "metadata": {
        "colab": {
          "base_uri": "https://localhost:8080/"
        },
        "id": "ud5BNd3E1dYd",
        "outputId": "5e1da75a-0122-4123-d3f9-7f0fa6d41c6a"
      },
      "source": [
        "full_windows[0] , full_labels[0]"
      ],
      "execution_count": 77,
      "outputs": [
        {
          "output_type": "execute_result",
          "data": {
            "text/plain": [
              "(array([123.65499, 125.455  , 108.58483, 118.67466, 121.33866, 120.65533,\n",
              "        121.795  ]), array([123.033]))"
            ]
          },
          "metadata": {},
          "execution_count": 77
        }
      ]
    },
    {
      "cell_type": "code",
      "metadata": {
        "id": "BW0ciRJx1yF1"
      },
      "source": [
        ""
      ],
      "execution_count": null,
      "outputs": []
    }
  ]
}
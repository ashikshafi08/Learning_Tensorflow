{
  "nbformat": 4,
  "nbformat_minor": 0,
  "metadata": {
    "colab": {
      "name": "04-Transfer_Learning_Feature_Extraction_with_TensorFlow.ipynb",
      "provenance": [],
      "collapsed_sections": [],
      "authorship_tag": "ABX9TyNfh/284fwMdwGRbi0ADWWY",
      "include_colab_link": true
    },
    "kernelspec": {
      "name": "python3",
      "display_name": "Python 3"
    },
    "language_info": {
      "name": "python"
    },
    "accelerator": "GPU"
  },
  "cells": [
    {
      "cell_type": "markdown",
      "metadata": {
        "id": "view-in-github",
        "colab_type": "text"
      },
      "source": [
        "<a href=\"https://colab.research.google.com/github/ashikshafi08/Learning_Tensorflow/blob/main/Notebooks/04_Transfer_Learning_Feature_Extraction_with_TensorFlow.ipynb\" target=\"_parent\"><img src=\"https://colab.research.google.com/assets/colab-badge.svg\" alt=\"Open In Colab\"/></a>"
      ]
    },
    {
      "cell_type": "code",
      "metadata": {
        "colab": {
          "base_uri": "https://localhost:8080/"
        },
        "id": "AXnZXkE0Mv4A",
        "outputId": "6719ed68-264d-41b2-f6e1-186585bec4ec"
      },
      "source": [
        "!nvidia-smi"
      ],
      "execution_count": 1,
      "outputs": [
        {
          "output_type": "stream",
          "text": [
            "Fri Mar 19 13:09:16 2021       \n",
            "+-----------------------------------------------------------------------------+\n",
            "| NVIDIA-SMI 460.56       Driver Version: 460.32.03    CUDA Version: 11.2     |\n",
            "|-------------------------------+----------------------+----------------------+\n",
            "| GPU  Name        Persistence-M| Bus-Id        Disp.A | Volatile Uncorr. ECC |\n",
            "| Fan  Temp  Perf  Pwr:Usage/Cap|         Memory-Usage | GPU-Util  Compute M. |\n",
            "|                               |                      |               MIG M. |\n",
            "|===============================+======================+======================|\n",
            "|   0  Tesla T4            Off  | 00000000:00:04.0 Off |                    0 |\n",
            "| N/A   42C    P8     9W /  70W |      0MiB / 15109MiB |      0%      Default |\n",
            "|                               |                      |                  N/A |\n",
            "+-------------------------------+----------------------+----------------------+\n",
            "                                                                               \n",
            "+-----------------------------------------------------------------------------+\n",
            "| Processes:                                                                  |\n",
            "|  GPU   GI   CI        PID   Type   Process name                  GPU Memory |\n",
            "|        ID   ID                                                   Usage      |\n",
            "|=============================================================================|\n",
            "|  No running processes found                                                 |\n",
            "+-----------------------------------------------------------------------------+\n"
          ],
          "name": "stdout"
        }
      ]
    },
    {
      "cell_type": "markdown",
      "metadata": {
        "id": "IPYzbg4yNxg7"
      },
      "source": [
        "# Transfer Learning with TensorFlow - Feature Extraction\n",
        "\n",
        "### What is Transfer Learning\n",
        "Surely someone has spend the time crafting the right model for your job...\n",
        "- We can leverage an **existing neural network architecture** which is proven to work on problems similar to our own. \n",
        "- Can leverage a working network architecture which has **already learned  patterns similar data** to our own. (often results in great results with less data)\n",
        "\n",
        "Transfer Learning is leveraging a working model's existing architecture and learned patterns for our own problem.\n",
        "\n",
        "### Things will be doing in this lecture : \n",
        "- Introduce Transfer Learning with TensorFlow. \n",
        "- Using a small dataset to experiment faster (10% training examples). \n",
        "- Building a **transfer learning feature extraction** model with TensorFlow Hub.\n",
        "- Use TensorBoard to track modelling experiments and results."
      ]
    },
    {
      "cell_type": "markdown",
      "metadata": {
        "id": "s8MYm4XihxDL"
      },
      "source": [
        "## Download and Becoming one with the Data"
      ]
    },
    {
      "cell_type": "code",
      "metadata": {
        "colab": {
          "base_uri": "https://localhost:8080/"
        },
        "id": "ft5-IvglobgG",
        "outputId": "637610fa-69f4-4f5d-9370-3d5aef5642ef"
      },
      "source": [
        "# Get data  (10% of 10 food classes From Food101)\n",
        "import zipfile\n",
        "\n",
        "# Download the data \n",
        "!wget https://storage.googleapis.com/ztm_tf_course/food_vision/10_food_classes_10_percent.zip\n",
        "\n",
        "# Unzip the downloaded file\n",
        "zip_ref = zipfile.ZipFile('10_food_classes_10_percent.zip')\n",
        "zip_ref.extractall()\n",
        "zip_ref.close()"
      ],
      "execution_count": 2,
      "outputs": [
        {
          "output_type": "stream",
          "text": [
            "--2021-03-19 13:21:33--  https://storage.googleapis.com/ztm_tf_course/food_vision/10_food_classes_10_percent.zip\n",
            "Resolving storage.googleapis.com (storage.googleapis.com)... 74.125.20.128, 74.125.197.128, 74.125.142.128, ...\n",
            "Connecting to storage.googleapis.com (storage.googleapis.com)|74.125.20.128|:443... connected.\n",
            "HTTP request sent, awaiting response... 200 OK\n",
            "Length: 168546183 (161M) [application/zip]\n",
            "Saving to: ‘10_food_classes_10_percent.zip’\n",
            "\n",
            "10_food_classes_10_ 100%[===================>] 160.74M   176MB/s    in 0.9s    \n",
            "\n",
            "2021-03-19 13:21:34 (176 MB/s) - ‘10_food_classes_10_percent.zip’ saved [168546183/168546183]\n",
            "\n"
          ],
          "name": "stdout"
        }
      ]
    },
    {
      "cell_type": "code",
      "metadata": {
        "colab": {
          "base_uri": "https://localhost:8080/"
        },
        "id": "ghkSDKtdpfEo",
        "outputId": "db196860-9406-40a0-d47f-cea7a3354be8"
      },
      "source": [
        "# How many images in each folder? \n",
        "import os \n",
        "\n",
        "# Walkthrough 10 percent data directory and list number of files\n",
        "for dirpath , dirnames , filenames in os.walk('10_food_classes_10_percent'):\n",
        "  print(f'There are {len(dirnames)} directories and {len(filenames)} images in \"{dirpath}\"')"
      ],
      "execution_count": 5,
      "outputs": [
        {
          "output_type": "stream",
          "text": [
            "There are 2 directories and 0 images in \"10_food_classes_10_percent\"\n",
            "There are 10 directories and 0 images in \"10_food_classes_10_percent/test\"\n",
            "There are 0 directories and 250 images in \"10_food_classes_10_percent/test/steak\"\n",
            "There are 0 directories and 250 images in \"10_food_classes_10_percent/test/chicken_wings\"\n",
            "There are 0 directories and 250 images in \"10_food_classes_10_percent/test/chicken_curry\"\n",
            "There are 0 directories and 250 images in \"10_food_classes_10_percent/test/ice_cream\"\n",
            "There are 0 directories and 250 images in \"10_food_classes_10_percent/test/hamburger\"\n",
            "There are 0 directories and 250 images in \"10_food_classes_10_percent/test/ramen\"\n",
            "There are 0 directories and 250 images in \"10_food_classes_10_percent/test/grilled_salmon\"\n",
            "There are 0 directories and 250 images in \"10_food_classes_10_percent/test/fried_rice\"\n",
            "There are 0 directories and 250 images in \"10_food_classes_10_percent/test/pizza\"\n",
            "There are 0 directories and 250 images in \"10_food_classes_10_percent/test/sushi\"\n",
            "There are 10 directories and 0 images in \"10_food_classes_10_percent/train\"\n",
            "There are 0 directories and 75 images in \"10_food_classes_10_percent/train/steak\"\n",
            "There are 0 directories and 75 images in \"10_food_classes_10_percent/train/chicken_wings\"\n",
            "There are 0 directories and 75 images in \"10_food_classes_10_percent/train/chicken_curry\"\n",
            "There are 0 directories and 75 images in \"10_food_classes_10_percent/train/ice_cream\"\n",
            "There are 0 directories and 75 images in \"10_food_classes_10_percent/train/hamburger\"\n",
            "There are 0 directories and 75 images in \"10_food_classes_10_percent/train/ramen\"\n",
            "There are 0 directories and 75 images in \"10_food_classes_10_percent/train/grilled_salmon\"\n",
            "There are 0 directories and 75 images in \"10_food_classes_10_percent/train/fried_rice\"\n",
            "There are 0 directories and 75 images in \"10_food_classes_10_percent/train/pizza\"\n",
            "There are 0 directories and 75 images in \"10_food_classes_10_percent/train/sushi\"\n"
          ],
          "name": "stdout"
        }
      ]
    },
    {
      "cell_type": "markdown",
      "metadata": {
        "id": "hKwlum3PqOpq"
      },
      "source": [
        "Breaking down the train and test set, \n",
        "- `train_set` --> has 75 images in each class. \n",
        "- `test_set` --> has 200 images in each class."
      ]
    },
    {
      "cell_type": "markdown",
      "metadata": {
        "id": "Dvq5Xw9AtfQj"
      },
      "source": [
        "## Create some dataloaders (preparing the data)\n",
        "\n",
        "We'll use `ImageDataGenerator` class to load in our images in batches. "
      ]
    },
    {
      "cell_type": "code",
      "metadata": {
        "colab": {
          "base_uri": "https://localhost:8080/"
        },
        "id": "m36V7wxpt681",
        "outputId": "59789334-56d0-471b-d3ea-2ee3afac778e"
      },
      "source": [
        "# Setup data inputs \n",
        "import tensorflow as tf\n",
        "from tensorflow.keras.preprocessing.image import ImageDataGenerator\n",
        "\n",
        "# Setting up global variable (Variable in CAPS --> means some sort of hyperparameters)\n",
        "IMG_SHAPE = (224 , 224)\n",
        "BATCH_SIZE = 32\n",
        "\n",
        "# Setting up the path to train and test\n",
        "train_dir = '10_food_classes_10_percent/train/'\n",
        "test_dir = '10_food_classes_10_percent/test/'\n",
        "\n",
        "# Creating a instance of the ImageDataGenerator \n",
        "train_datagen = ImageDataGenerator(rescale = 1/255.)\n",
        "test_datagen = ImageDataGenerator(rescale= 1/255.)\n",
        "\n",
        "# Applying the generator to rescale our data\n",
        "print(f'Training Images......')\n",
        "train_data_10_percent = train_datagen.flow_from_directory(train_dir , \n",
        "                                                          target_size = IMG_SHAPE, \n",
        "                                                          batch_size = BATCH_SIZE , \n",
        "                                                          class_mode = 'categorical')\n",
        "\n",
        "print('\\nTesting Images.....')\n",
        "test_data_10_percent = test_datagen.flow_from_directory(test_dir , \n",
        "                                                        target_size = IMG_SHAPE , \n",
        "                                                        batch_size = BATCH_SIZE , \n",
        "                                                        class_mode = 'categorical')"
      ],
      "execution_count": 16,
      "outputs": [
        {
          "output_type": "stream",
          "text": [
            "Training Images......\n",
            "Found 750 images belonging to 10 classes.\n",
            "\n",
            "Testing Images.....\n",
            "Found 2500 images belonging to 10 classes.\n"
          ],
          "name": "stdout"
        }
      ]
    },
    {
      "cell_type": "markdown",
      "metadata": {
        "id": "zkBMw_PauFFT"
      },
      "source": [
        "## Setting up Callbacks (things to run whilst our model trains)\n",
        "\n",
        "Callbacks are extra-functionality you can add to your models to be performed during or after training. Some of the most popular callbacks are: \n",
        "- Tracking Experiments with `TensorBoard` callback. \n",
        "- Model checkpoint with `ModelCheckpoint` callback.\n",
        "- Stopping a model from training (before it trains too long and overfits) with the `EarlyStopping` callback. "
      ]
    },
    {
      "cell_type": "markdown",
      "metadata": {
        "id": "tJeCFGe09VwJ"
      },
      "source": [
        "Create TensorBoard Callback, now we want to functionized because we need to create a new folder for each model.  "
      ]
    },
    {
      "cell_type": "code",
      "metadata": {
        "id": "2NH5zR7BBw66"
      },
      "source": [
        "# Creating TensorBoard \n",
        "import datetime # timestamps for when our model has run\n",
        "\n",
        "def create_tensorboard_callback(dir_name , experiment_name):\n",
        "\n",
        "  # Creating the log directory to save the experiments\n",
        "  log_dir = dir_names + '/' + experiment_name + '/' + datetime.datetime.now().strftime(\"%Y/%m/%d - %H:%M:%S\")\n",
        "\n",
        "  # Creating a tensorboard\n",
        "  tensorboard_callback = tf.keras.callbacks.TensorBoard(log_dir = log_dir)\n",
        "  print(f'Saving tensorboard log files to: {log_dir}')\n",
        "  return tensorboard_callback"
      ],
      "execution_count": 26,
      "outputs": []
    },
    {
      "cell_type": "markdown",
      "metadata": {
        "id": "-QpfozmQERm5"
      },
      "source": [
        "## Creating models using TensorFlow Hub\n",
        "\n",
        "In the past we've used TensorFlow to create our own models layer by layer from scratch. \n",
        "\n",
        "Now we're going to do a similar process, except the majority of our model's layers are going to come from [TensorFlow Hub](https://tfhub.dev/)\n",
        "\n",
        "Browsing the TensorFlow Hub page and sorting for image classification, we found the following feature vector model link https://tfhub.dev/tensorflow/efficientnet/b0/feature-vector/1\n",
        "\n",
        "Often in Deeplearning, higher the number efficientnet(b0......b7) means the more complex the model. \n",
        "\n",
        "- Resnet : https://tfhub.dev/google/imagenet/resnet_v2_50/feature_vector/4\n",
        "\n",
        " "
      ]
    },
    {
      "cell_type": "code",
      "metadata": {
        "id": "NjNNSBeRE7QD"
      },
      "source": [
        "# Let's compare the following two models\n",
        "resnet_url = 'https://tfhub.dev/google/imagenet/resnet_v2_50/feature_vector/4'\n",
        "efficientnet_url = 'https://tfhub.dev/tensorflow/efficientnet/b0/feature-vector/1'"
      ],
      "execution_count": 27,
      "outputs": []
    },
    {
      "cell_type": "code",
      "metadata": {
        "id": "RTb1HM1JPltm"
      },
      "source": [
        "# Import dependencies \n",
        "import tensorflow as tf\n",
        "import tensorflow_hub as hub\n",
        "from tensorflow.keras import layers"
      ],
      "execution_count": 28,
      "outputs": []
    },
    {
      "cell_type": "code",
      "metadata": {
        "id": "xg116yJNQbBy"
      },
      "source": [
        "# Let create function create_model() to create a model from URL\n",
        "def create_model(model_url , num_classes = 10):\n",
        "  '''\n",
        "  Takes a TensorFlow Hub URL and creates a Keras Sequential model with it\n",
        "\n",
        "  Args: \n",
        "     model_url (str): A TensorFlow Hub feature extraction URL \n",
        "     num_classes (int): Number of output neuron in the output layer, should be \n",
        "                       equal to the number of target classes, default 10. \n",
        "\n",
        "  Returns: \n",
        "  An uncompiled Keras Sequential model with model_url as feature extractor layer \n",
        "  and Dense output layer with num_classes output neurons. \n",
        "  '''\n",
        "  # Download the pretrained model and save it as a Keras layer\n",
        "  feature_extractor_layer = hub.KerasLayer(model_url , \n",
        "                                           trainable = False) # freeze the already learnt model \n",
        "\n"
      ],
      "execution_count": null,
      "outputs": []
    }
  ]
}
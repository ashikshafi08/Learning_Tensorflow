{
  "nbformat": 4,
  "nbformat_minor": 0,
  "metadata": {
    "colab": {
      "name": "Neural_Network_Regression_with_Tensorflow.ipynb",
      "provenance": [],
      "collapsed_sections": [],
      "authorship_tag": "ABX9TyM36ICy0xhurGJoMdw1zvdL",
      "include_colab_link": true
    },
    "kernelspec": {
      "name": "python3",
      "display_name": "Python 3"
    }
  },
  "cells": [
    {
      "cell_type": "markdown",
      "metadata": {
        "id": "view-in-github",
        "colab_type": "text"
      },
      "source": [
        "<a href=\"https://colab.research.google.com/github/ashikshafi08/Learning_Tensorflow/blob/main/Notebooks/Neural_Network_Regression_with_Tensorflow.ipynb\" target=\"_parent\"><img src=\"https://colab.research.google.com/assets/colab-badge.svg\" alt=\"Open In Colab\"/></a>"
      ]
    },
    {
      "cell_type": "code",
      "metadata": {
        "colab": {
          "base_uri": "https://localhost:8080/"
        },
        "id": "woLVoQuQNYru",
        "outputId": "b8152798-91ef-460d-90e4-79af239731a0"
      },
      "source": [
        "# Import TensorFlow\n",
        "import tensorflow as tf\n",
        "print(tf.__version__)"
      ],
      "execution_count": 1,
      "outputs": [
        {
          "output_type": "stream",
          "text": [
            "2.4.1\n"
          ],
          "name": "stdout"
        }
      ]
    },
    {
      "cell_type": "markdown",
      "metadata": {
        "id": "SSVCIBpleaOb"
      },
      "source": [
        "# Neural Network Regression with Tensorflow\n",
        "\n",
        "There are many definitions for a regression problem but in our case, we're going to simplify it: \n",
        "- Predicting a numerical variable based on some other combinations of variable's even shorter ---> Predicting a number\n",
        "\n",
        "### Example's of Regression Problem\n",
        "\n",
        "* **How much** will this house sell for? \n",
        "* **How many** people will buy this app? \n",
        "* **How much** will my health insurance be?\n",
        "* **How much** should I save each week for fuel?\n",
        "\n",
        "It predicts a number. But there are other problems we can turn it into regression problem. For instance, \n",
        "- Trying to predict the **coordinates** of where the boxes should be in a object detection problem. \n",
        "\n",
        "### What we're going to cover?\n",
        "\n",
        "- Architecture of neural network regression model. \n",
        "- Input and output shapes of a regression model(features and labels).\n",
        "- Creating custom data to view and fit. \n",
        "- Steps in **modelling**\n",
        "  - Creating a model.\n",
        "  - Compiling a model. \n",
        "  - Fitting a model. \n",
        "  - Evaluating a model. \n",
        "- Different Evaluation methods. \n",
        "- Saving and loading models "
      ]
    },
    {
      "cell_type": "markdown",
      "metadata": {
        "id": "o0FnPKCjhn-S"
      },
      "source": [
        "### **Creating the data to view and fit**"
      ]
    },
    {
      "cell_type": "code",
      "metadata": {
        "colab": {
          "base_uri": "https://localhost:8080/",
          "height": 286
        },
        "id": "C7Dt25Y6za1b",
        "outputId": "1157a6bf-f16a-4c35-8ea3-2f6aa9760e89"
      },
      "source": [
        "# Importing packages \n",
        "import numpy as np \n",
        "import matplotlib.pyplot as plt\n",
        "\n",
        "# Create dummy features \n",
        "X = np.array([-7.0 , -4.0 , -1.0 , 2.0 , 5.0 , 8.0 , 11.0 , 14.0])\n",
        "\n",
        "# Create labels \n",
        "y = np.array([3.0 , 6.0 , 9.0 , 12.0 , 15.0 , 18.0 , 21.0 , 24.0])\n",
        "\n",
        "# Visualizing x and y \n",
        "plt.scatter(X , y)"
      ],
      "execution_count": 2,
      "outputs": [
        {
          "output_type": "execute_result",
          "data": {
            "text/plain": [
              "<matplotlib.collections.PathCollection at 0x7f88217cf950>"
            ]
          },
          "metadata": {
            "tags": []
          },
          "execution_count": 2
        },
        {
          "output_type": "display_data",
          "data": {
            "image/png": "[encoded data removed]",
            "text/plain": [
              "<Figure size 432x288 with 1 Axes>"
            ]
          },
          "metadata": {
            "tags": [],
            "needs_background": "light"
          }
        }
      ]
    },
    {
      "cell_type": "code",
      "metadata": {
        "colab": {
          "base_uri": "https://localhost:8080/"
        },
        "id": "cwR5Pt7j0Jkx",
        "outputId": "fc163f55-85c6-42ec-86bd-92f991e44d15"
      },
      "source": [
        "X + 10 # we will get Y"
      ],
      "execution_count": 3,
      "outputs": [
        {
          "output_type": "execute_result",
          "data": {
            "text/plain": [
              "array([ 3.,  6.,  9., 12., 15., 18., 21., 24.])"
            ]
          },
          "metadata": {
            "tags": []
          },
          "execution_count": 3
        }
      ]
    },
    {
      "cell_type": "code",
      "metadata": {
        "colab": {
          "base_uri": "https://localhost:8080/"
        },
        "id": "zOW7A2rA1EPw",
        "outputId": "b21ed078-64d3-49c4-90e7-0a1ad106fa7b"
      },
      "source": [
        "# This is the relationship between our X and Y, we want our neural net to learn \n",
        "\n",
        "y == X + 10"
      ],
      "execution_count": 4,
      "outputs": [
        {
          "output_type": "execute_result",
          "data": {
            "text/plain": [
              "array([ True,  True,  True,  True,  True,  True,  True,  True])"
            ]
          },
          "metadata": {
            "tags": []
          },
          "execution_count": 4
        }
      ]
    },
    {
      "cell_type": "markdown",
      "metadata": {
        "id": "bNS0HcGc1tm9"
      },
      "source": [
        "### **Input and Output Shapes**"
      ]
    },
    {
      "cell_type": "code",
      "metadata": {
        "colab": {
          "base_uri": "https://localhost:8080/"
        },
        "id": "ib7EQa6J13Bs",
        "outputId": "72986c6f-1d99-4a0f-eb0b-02405f8b4048"
      },
      "source": [
        "# Create a demo tensor for our housing price prediction problem\n",
        "\n",
        "house_info = tf.constant(['bedroom' , 'bathroom' , 'garage'])\n",
        "house_price = tf.constant([939700])\n",
        "\n",
        "house_info , house_price"
      ],
      "execution_count": 5,
      "outputs": [
        {
          "output_type": "execute_result",
          "data": {
            "text/plain": [
              "(<tf.Tensor: shape=(3,), dtype=string, numpy=array([b'bedroom', b'bathroom', b'garage'], dtype=object)>,\n",
              " <tf.Tensor: shape=(1,), dtype=int32, numpy=array([939700], dtype=int32)>)"
            ]
          },
          "metadata": {
            "tags": []
          },
          "execution_count": 5
        }
      ]
    },
    {
      "cell_type": "code",
      "metadata": {
        "colab": {
          "base_uri": "https://localhost:8080/"
        },
        "id": "yTjP7yaM2idB",
        "outputId": "b80d0515-52dc-4b65-de3c-a2c8670ff842"
      },
      "source": [
        " # Input and Output Shape \n",
        "\n",
        "input_shape = X.shape \n",
        "output_shape = y.shape\n",
        "\n",
        "input_shape , output_shape"
      ],
      "execution_count": 6,
      "outputs": [
        {
          "output_type": "execute_result",
          "data": {
            "text/plain": [
              "((8,), (8,))"
            ]
          },
          "metadata": {
            "tags": []
          },
          "execution_count": 6
        }
      ]
    },
    {
      "cell_type": "code",
      "metadata": {
        "colab": {
          "base_uri": "https://localhost:8080/"
        },
        "id": "w_t_bI3p9B-t",
        "outputId": "f4e49b9b-8f8a-415c-90aa-86d0ebed1533"
      },
      "source": [
        "# Taking one sample \n",
        "X[0] , y[0] # X[0] --> to predict --> y[0]"
      ],
      "execution_count": 7,
      "outputs": [
        {
          "output_type": "execute_result",
          "data": {
            "text/plain": [
              "(-7.0, 3.0)"
            ]
          },
          "metadata": {
            "tags": []
          },
          "execution_count": 7
        }
      ]
    },
    {
      "cell_type": "code",
      "metadata": {
        "id": "jdp-qJWP9Ln0"
      },
      "source": [
        "# Converting those numpy array into tensors \n",
        "\n",
        "X = tf.constant(X)\n",
        "y = tf.constant(y)\n",
        "\n",
        "X = tf.cast(X , dtype=tf.float32) \n",
        "y = tf.cast(y, dtype=tf.float32)"
      ],
      "execution_count": 8,
      "outputs": []
    },
    {
      "cell_type": "code",
      "metadata": {
        "colab": {
          "base_uri": "https://localhost:8080/"
        },
        "id": "AgWOhvFo-pXJ",
        "outputId": "af569d36-1f53-4056-bb39-f1df5ee88b91"
      },
      "source": [
        "# Checking the shapes \n",
        "input_shape = X[0].shape\n",
        "output_shape = y[0].shape\n",
        "\n",
        "input_shape , output_shape"
      ],
      "execution_count": 9,
      "outputs": [
        {
          "output_type": "execute_result",
          "data": {
            "text/plain": [
              "(TensorShape([]), TensorShape([]))"
            ]
          },
          "metadata": {
            "tags": []
          },
          "execution_count": 9
        }
      ]
    },
    {
      "cell_type": "code",
      "metadata": {
        "colab": {
          "base_uri": "https://localhost:8080/",
          "height": 286
        },
        "id": "cXdRgwU4-xCd",
        "outputId": "f39ea3bb-a0cf-4b4f-8ebd-7717d8806a0e"
      },
      "source": [
        "# How might we build a model which will figure out the below relationship? \n",
        "\n",
        "plt.scatter(X , y)"
      ],
      "execution_count": 10,
      "outputs": [
        {
          "output_type": "execute_result",
          "data": {
            "text/plain": [
              "<matplotlib.collections.PathCollection at 0x7f882174c490>"
            ]
          },
          "metadata": {
            "tags": []
          },
          "execution_count": 10
        },
        {
          "output_type": "display_data",
          "data": {
            "image/png": "[encoded data removed]",
            "text/plain": [
              "<Figure size 432x288 with 1 Axes>"
            ]
          },
          "metadata": {
            "tags": [],
            "needs_background": "light"
          }
        }
      ]
    },
    {
      "cell_type": "markdown",
      "metadata": {
        "id": "jN-xgxpu_A7c"
      },
      "source": [
        "## Steps in Modelling with TensorFlow 🛠\n",
        "\n",
        "1. **Creating a model** --> define the input and output layers, as well as the hidden layers of a neural network. \n",
        "2. **Compile our model** --> define the, \n",
        " - loss function (a function which tells us how wrong our model is) more like a metric for our computer to improve the performance. \n",
        " -  the optimizer (tells our model how to improve the patterns it's learning). \n",
        " -  evaluation metrics (what we can use to interpret the performance of our model more like an metric for human to understand).\n",
        "3. **Fitting a model** --> letting the model to find patterns between X and y (features and labels). \n",
        "\n"
      ]
    },
    {
      "cell_type": "code",
      "metadata": {
        "colab": {
          "base_uri": "https://localhost:8080/"
        },
        "id": "-J_fHcsQA9LD",
        "outputId": "eec2bc06-678c-402e-a68a-9437102f875f"
      },
      "source": [
        "# Setting the random seed \n",
        "tf.random.set_seed(42)\n",
        "\n",
        "# 1. Create a model using the Sequential API \n",
        "model = tf.keras.Sequential([\n",
        "        tf.keras.layers.Dense(1) # In our case we take 1 number and predict 1 number\n",
        "]) \n",
        "\n",
        "# 2. Compile the model \n",
        "model.compile(loss = tf.keras.losses.mae , # mean absolute error\n",
        "              optimizer = tf.keras.optimizers.SGD(), # stochastic gradient descent \n",
        "              metrics = ['mae'] )  \n",
        "\n",
        "# 3. Fitting the model \n",
        "model.fit(X , y , epochs = 5) # epochs (how many times you want me to see through your data? )\n",
        "\n",
        "#"
      ],
      "execution_count": 11,
      "outputs": [
        {
          "output_type": "stream",
          "text": [
            "Epoch 1/5\n",
            "1/1 [==============================] - 1s 681ms/step - loss: 11.5048 - mae: 11.5048\n",
            "Epoch 2/5\n",
            "1/1 [==============================] - 0s 9ms/step - loss: 11.3723 - mae: 11.3723\n",
            "Epoch 3/5\n",
            "1/1 [==============================] - 0s 10ms/step - loss: 11.2398 - mae: 11.2398\n",
            "Epoch 4/5\n",
            "1/1 [==============================] - 0s 5ms/step - loss: 11.1073 - mae: 11.1073\n",
            "Epoch 5/5\n",
            "1/1 [==============================] - 0s 7ms/step - loss: 10.9748 - mae: 10.9748\n"
          ],
          "name": "stdout"
        },
        {
          "output_type": "execute_result",
          "data": {
            "text/plain": [
              "<tensorflow.python.keras.callbacks.History at 0x7f881d2bedd0>"
            ]
          },
          "metadata": {
            "tags": []
          },
          "execution_count": 11
        }
      ]
    },
    {
      "cell_type": "code",
      "metadata": {
        "id": "yRDb9BBCEgT4"
      },
      "source": [
        "# Writing in another format \n",
        "\n",
        "# model_add = tf.keras.Sequential()\n",
        "# model_add.add(tf.keras.layers.Dense(1))\n"
      ],
      "execution_count": 12,
      "outputs": []
    },
    {
      "cell_type": "code",
      "metadata": {
        "colab": {
          "base_uri": "https://localhost:8080/"
        },
        "id": "ZJDwFaljHBcL",
        "outputId": "6a3502ca-69a7-44f2-d597-3660c757a167"
      },
      "source": [
        "# Try and make predictions with our model \n",
        "\n",
        "y_pred = model.predict([17.0]) # X = 17.0\n",
        "y_pred"
      ],
      "execution_count": 13,
      "outputs": [
        {
          "output_type": "execute_result",
          "data": {
            "text/plain": [
              "array([[12.716021]], dtype=float32)"
            ]
          },
          "metadata": {
            "tags": []
          },
          "execution_count": 13
        }
      ]
    },
    {
      "cell_type": "markdown",
      "metadata": {
        "id": "S17Sy91tHMZE"
      },
      "source": [
        "Our model predicts, if our `X` value is 17.0 then our `y` value should be 12.716021. Well it doesn't make sense, but looking at our loss function it really make sense. \n",
        "\n",
        "Our job will be decreasing the loss so that the results converge gradually as we reduce the loss. "
      ]
    },
    {
      "cell_type": "markdown",
      "metadata": {
        "id": "OcFnkA89HWoG"
      },
      "source": [
        "## Improving the model \n",
        "\n",
        "When we looked at the steps of modelling in TensorFlow which had those 3 steps, but when it's a time to improve our model. Likewise we can improve our model by going through all these 3 steps / altering them. \n",
        "\n",
        "1. **Creating a model** --> here we might, \n",
        "  - add more layers.\n",
        "  - increase the number of hidden units(neurons) within each of hidden layers.\n",
        "  - change the activation funciton of each layers \n",
        "\n",
        "2. **Compiling a model** --> here we might, \n",
        "  - change the optimization function \n",
        "  - play with the learning rate. \n",
        "\n",
        "3. **Fitting a model** --> here we might, \n",
        "  - Fit a model for more epochs. \n",
        "  - Give the model more data / examples to learn from\n",
        "  "
      ]
    },
    {
      "cell_type": "code",
      "metadata": {
        "colab": {
          "base_uri": "https://localhost:8080/"
        },
        "id": "np5KJCyXIO-G",
        "outputId": "450d762b-9984-41b3-c113-75aea5199d8f"
      },
      "source": [
        "# Training for 100 epochs, rebuilding our model \n",
        "\n",
        "# 1. Creating the model\n",
        "model = tf.keras.Sequential([\n",
        "      tf.keras.layers.Dense(1)\n",
        "])\n",
        "\n",
        "# 2. Compile the model \n",
        "model.compile(loss = tf.keras.losses.mae , \n",
        "              optimizer = tf.keras.optimizers.SGD() , \n",
        "              metrics = ['mae'])\n",
        "\n",
        "# 3. Fit the model \n",
        "model.fit(X , y , epochs = 100)\n",
        "\n",
        "\n"
      ],
      "execution_count": 14,
      "outputs": [
        {
          "output_type": "stream",
          "text": [
            "Epoch 1/100\n",
            "1/1 [==============================] - 0s 307ms/step - loss: 11.2219 - mae: 11.2219\n",
            "Epoch 2/100\n",
            "1/1 [==============================] - 0s 5ms/step - loss: 11.0894 - mae: 11.0894\n",
            "Epoch 3/100\n",
            "1/1 [==============================] - 0s 6ms/step - loss: 10.9569 - mae: 10.9569\n",
            "Epoch 4/100\n",
            "1/1 [==============================] - 0s 7ms/step - loss: 10.8244 - mae: 10.8244\n",
            "Epoch 5/100\n",
            "1/1 [==============================] - 0s 6ms/step - loss: 10.6919 - mae: 10.6919\n",
            "Epoch 6/100\n",
            "1/1 [==============================] - 0s 6ms/step - loss: 10.5594 - mae: 10.5594\n",
            "Epoch 7/100\n",
            "1/1 [==============================] - 0s 6ms/step - loss: 10.4269 - mae: 10.4269\n",
            "Epoch 8/100\n",
            "1/1 [==============================] - 0s 5ms/step - loss: 10.2944 - mae: 10.2944\n",
            "Epoch 9/100\n",
            "1/1 [==============================] - 0s 5ms/step - loss: 10.1619 - mae: 10.1619\n",
            "Epoch 10/100\n",
            "1/1 [==============================] - 0s 6ms/step - loss: 10.0294 - mae: 10.0294\n",
            "Epoch 11/100\n",
            "1/1 [==============================] - 0s 6ms/step - loss: 9.8969 - mae: 9.8969\n",
            "Epoch 12/100\n",
            "1/1 [==============================] - 0s 6ms/step - loss: 9.7644 - mae: 9.7644\n",
            "Epoch 13/100\n",
            "1/1 [==============================] - 0s 6ms/step - loss: 9.6319 - mae: 9.6319\n",
            "Epoch 14/100\n",
            "1/1 [==============================] - 0s 6ms/step - loss: 9.4994 - mae: 9.4994\n",
            "Epoch 15/100\n",
            "1/1 [==============================] - 0s 6ms/step - loss: 9.3669 - mae: 9.3669\n",
            "Epoch 16/100\n",
            "1/1 [==============================] - 0s 6ms/step - loss: 9.2344 - mae: 9.2344\n",
            "Epoch 17/100\n",
            "1/1 [==============================] - 0s 6ms/step - loss: 9.1019 - mae: 9.1019\n",
            "Epoch 18/100\n",
            "1/1 [==============================] - 0s 7ms/step - loss: 8.9694 - mae: 8.9694\n",
            "Epoch 19/100\n",
            "1/1 [==============================] - 0s 8ms/step - loss: 8.8369 - mae: 8.8369\n",
            "Epoch 20/100\n",
            "1/1 [==============================] - 0s 6ms/step - loss: 8.7044 - mae: 8.7044\n",
            "Epoch 21/100\n",
            "1/1 [==============================] - 0s 7ms/step - loss: 8.5719 - mae: 8.5719\n",
            "Epoch 22/100\n",
            "1/1 [==============================] - 0s 7ms/step - loss: 8.4394 - mae: 8.4394\n",
            "Epoch 23/100\n",
            "1/1 [==============================] - 0s 6ms/step - loss: 8.3069 - mae: 8.3069\n",
            "Epoch 24/100\n",
            "1/1 [==============================] - 0s 7ms/step - loss: 8.1744 - mae: 8.1744\n",
            "Epoch 25/100\n",
            "1/1 [==============================] - 0s 11ms/step - loss: 8.0419 - mae: 8.0419\n",
            "Epoch 26/100\n",
            "1/1 [==============================] - 0s 11ms/step - loss: 7.9094 - mae: 7.9094\n",
            "Epoch 27/100\n",
            "1/1 [==============================] - 0s 12ms/step - loss: 7.7769 - mae: 7.7769\n",
            "Epoch 28/100\n",
            "1/1 [==============================] - 0s 14ms/step - loss: 7.6444 - mae: 7.6444\n",
            "Epoch 29/100\n",
            "1/1 [==============================] - 0s 7ms/step - loss: 7.5119 - mae: 7.5119\n",
            "Epoch 30/100\n",
            "1/1 [==============================] - 0s 8ms/step - loss: 7.3794 - mae: 7.3794\n",
            "Epoch 31/100\n",
            "1/1 [==============================] - 0s 9ms/step - loss: 7.2750 - mae: 7.2750\n",
            "Epoch 32/100\n",
            "1/1 [==============================] - 0s 8ms/step - loss: 7.2694 - mae: 7.2694\n",
            "Epoch 33/100\n",
            "1/1 [==============================] - 0s 7ms/step - loss: 7.2638 - mae: 7.2638\n",
            "Epoch 34/100\n",
            "1/1 [==============================] - 0s 7ms/step - loss: 7.2581 - mae: 7.2581\n",
            "Epoch 35/100\n",
            "1/1 [==============================] - 0s 6ms/step - loss: 7.2525 - mae: 7.2525\n",
            "Epoch 36/100\n",
            "1/1 [==============================] - 0s 7ms/step - loss: 7.2469 - mae: 7.2469\n",
            "Epoch 37/100\n",
            "1/1 [==============================] - 0s 7ms/step - loss: 7.2412 - mae: 7.2412\n",
            "Epoch 38/100\n",
            "1/1 [==============================] - 0s 7ms/step - loss: 7.2356 - mae: 7.2356\n",
            "Epoch 39/100\n",
            "1/1 [==============================] - 0s 5ms/step - loss: 7.2300 - mae: 7.2300\n",
            "Epoch 40/100\n",
            "1/1 [==============================] - 0s 7ms/step - loss: 7.2244 - mae: 7.2244\n",
            "Epoch 41/100\n",
            "1/1 [==============================] - 0s 8ms/step - loss: 7.2188 - mae: 7.2188\n",
            "Epoch 42/100\n",
            "1/1 [==============================] - 0s 7ms/step - loss: 7.2131 - mae: 7.2131\n",
            "Epoch 43/100\n",
            "1/1 [==============================] - 0s 6ms/step - loss: 7.2075 - mae: 7.2075\n",
            "Epoch 44/100\n",
            "1/1 [==============================] - 0s 7ms/step - loss: 7.2019 - mae: 7.2019\n",
            "Epoch 45/100\n",
            "1/1 [==============================] - 0s 6ms/step - loss: 7.1962 - mae: 7.1962\n",
            "Epoch 46/100\n",
            "1/1 [==============================] - 0s 6ms/step - loss: 7.1906 - mae: 7.1906\n",
            "Epoch 47/100\n",
            "1/1 [==============================] - 0s 7ms/step - loss: 7.1850 - mae: 7.1850\n",
            "Epoch 48/100\n",
            "1/1 [==============================] - 0s 7ms/step - loss: 7.1794 - mae: 7.1794\n",
            "Epoch 49/100\n",
            "1/1 [==============================] - 0s 8ms/step - loss: 7.1737 - mae: 7.1737\n",
            "Epoch 50/100\n",
            "1/1 [==============================] - 0s 7ms/step - loss: 7.1681 - mae: 7.1681\n",
            "Epoch 51/100\n",
            "1/1 [==============================] - 0s 6ms/step - loss: 7.1625 - mae: 7.1625\n",
            "Epoch 52/100\n",
            "1/1 [==============================] - 0s 8ms/step - loss: 7.1569 - mae: 7.1569\n",
            "Epoch 53/100\n",
            "1/1 [==============================] - 0s 7ms/step - loss: 7.1512 - mae: 7.1512\n",
            "Epoch 54/100\n",
            "1/1 [==============================] - 0s 8ms/step - loss: 7.1456 - mae: 7.1456\n",
            "Epoch 55/100\n",
            "1/1 [==============================] - 0s 6ms/step - loss: 7.1400 - mae: 7.1400\n",
            "Epoch 56/100\n",
            "1/1 [==============================] - 0s 6ms/step - loss: 7.1344 - mae: 7.1344\n",
            "Epoch 57/100\n",
            "1/1 [==============================] - 0s 5ms/step - loss: 7.1287 - mae: 7.1287\n",
            "Epoch 58/100\n",
            "1/1 [==============================] - 0s 7ms/step - loss: 7.1231 - mae: 7.1231\n",
            "Epoch 59/100\n",
            "1/1 [==============================] - 0s 9ms/step - loss: 7.1175 - mae: 7.1175\n",
            "Epoch 60/100\n",
            "1/1 [==============================] - 0s 6ms/step - loss: 7.1119 - mae: 7.1119\n",
            "Epoch 61/100\n",
            "1/1 [==============================] - 0s 7ms/step - loss: 7.1062 - mae: 7.1062\n",
            "Epoch 62/100\n",
            "1/1 [==============================] - 0s 6ms/step - loss: 7.1006 - mae: 7.1006\n",
            "Epoch 63/100\n",
            "1/1 [==============================] - 0s 10ms/step - loss: 7.0950 - mae: 7.0950\n",
            "Epoch 64/100\n",
            "1/1 [==============================] - 0s 7ms/step - loss: 7.0894 - mae: 7.0894\n",
            "Epoch 65/100\n",
            "1/1 [==============================] - 0s 8ms/step - loss: 7.0838 - mae: 7.0838\n",
            "Epoch 66/100\n",
            "1/1 [==============================] - 0s 7ms/step - loss: 7.0781 - mae: 7.0781\n",
            "Epoch 67/100\n",
            "1/1 [==============================] - 0s 7ms/step - loss: 7.0725 - mae: 7.0725\n",
            "Epoch 68/100\n",
            "1/1 [==============================] - 0s 12ms/step - loss: 7.0669 - mae: 7.0669\n",
            "Epoch 69/100\n",
            "1/1 [==============================] - 0s 10ms/step - loss: 7.0613 - mae: 7.0613\n",
            "Epoch 70/100\n",
            "1/1 [==============================] - 0s 7ms/step - loss: 7.0556 - mae: 7.0556\n",
            "Epoch 71/100\n",
            "1/1 [==============================] - 0s 9ms/step - loss: 7.0500 - mae: 7.0500\n",
            "Epoch 72/100\n",
            "1/1 [==============================] - 0s 7ms/step - loss: 7.0444 - mae: 7.0444\n",
            "Epoch 73/100\n",
            "1/1 [==============================] - 0s 8ms/step - loss: 7.0388 - mae: 7.0388\n",
            "Epoch 74/100\n",
            "1/1 [==============================] - 0s 7ms/step - loss: 7.0331 - mae: 7.0331\n",
            "Epoch 75/100\n",
            "1/1 [==============================] - 0s 7ms/step - loss: 7.0275 - mae: 7.0275\n",
            "Epoch 76/100\n",
            "1/1 [==============================] - 0s 10ms/step - loss: 7.0219 - mae: 7.0219\n",
            "Epoch 77/100\n",
            "1/1 [==============================] - 0s 7ms/step - loss: 7.0163 - mae: 7.0163\n",
            "Epoch 78/100\n",
            "1/1 [==============================] - 0s 6ms/step - loss: 7.0106 - mae: 7.0106\n",
            "Epoch 79/100\n",
            "1/1 [==============================] - 0s 7ms/step - loss: 7.0050 - mae: 7.0050\n",
            "Epoch 80/100\n",
            "1/1 [==============================] - 0s 7ms/step - loss: 6.9994 - mae: 6.9994\n",
            "Epoch 81/100\n",
            "1/1 [==============================] - 0s 9ms/step - loss: 6.9938 - mae: 6.9938\n",
            "Epoch 82/100\n",
            "1/1 [==============================] - 0s 7ms/step - loss: 6.9881 - mae: 6.9881\n",
            "Epoch 83/100\n",
            "1/1 [==============================] - 0s 8ms/step - loss: 6.9825 - mae: 6.9825\n",
            "Epoch 84/100\n",
            "1/1 [==============================] - 0s 7ms/step - loss: 6.9769 - mae: 6.9769\n",
            "Epoch 85/100\n",
            "1/1 [==============================] - 0s 7ms/step - loss: 6.9713 - mae: 6.9713\n",
            "Epoch 86/100\n",
            "1/1 [==============================] - 0s 7ms/step - loss: 6.9656 - mae: 6.9656\n",
            "Epoch 87/100\n",
            "1/1 [==============================] - 0s 11ms/step - loss: 6.9600 - mae: 6.9600\n",
            "Epoch 88/100\n",
            "1/1 [==============================] - 0s 11ms/step - loss: 6.9544 - mae: 6.9544\n",
            "Epoch 89/100\n",
            "1/1 [==============================] - 0s 10ms/step - loss: 6.9488 - mae: 6.9488\n",
            "Epoch 90/100\n",
            "1/1 [==============================] - 0s 9ms/step - loss: 6.9431 - mae: 6.9431\n",
            "Epoch 91/100\n",
            "1/1 [==============================] - 0s 10ms/step - loss: 6.9375 - mae: 6.9375\n",
            "Epoch 92/100\n",
            "1/1 [==============================] - 0s 9ms/step - loss: 6.9319 - mae: 6.9319\n",
            "Epoch 93/100\n",
            "1/1 [==============================] - 0s 10ms/step - loss: 6.9263 - mae: 6.9263\n",
            "Epoch 94/100\n",
            "1/1 [==============================] - 0s 9ms/step - loss: 6.9206 - mae: 6.9206\n",
            "Epoch 95/100\n",
            "1/1 [==============================] - 0s 9ms/step - loss: 6.9150 - mae: 6.9150\n",
            "Epoch 96/100\n",
            "1/1 [==============================] - 0s 9ms/step - loss: 6.9094 - mae: 6.9094\n",
            "Epoch 97/100\n",
            "1/1 [==============================] - 0s 11ms/step - loss: 6.9038 - mae: 6.9038\n",
            "Epoch 98/100\n",
            "1/1 [==============================] - 0s 6ms/step - loss: 6.8981 - mae: 6.8981\n",
            "Epoch 99/100\n",
            "1/1 [==============================] - 0s 7ms/step - loss: 6.8925 - mae: 6.8925\n",
            "Epoch 100/100\n",
            "1/1 [==============================] - 0s 5ms/step - loss: 6.8869 - mae: 6.8869\n"
          ],
          "name": "stdout"
        },
        {
          "output_type": "execute_result",
          "data": {
            "text/plain": [
              "<tensorflow.python.keras.callbacks.History at 0x7f881ab97ad0>"
            ]
          },
          "metadata": {
            "tags": []
          },
          "execution_count": 14
        }
      ]
    },
    {
      "cell_type": "markdown",
      "metadata": {
        "id": "ClJjDg9T9LXa"
      },
      "source": [
        "As we increase the epochs, the loss came down. "
      ]
    },
    {
      "cell_type": "code",
      "metadata": {
        "colab": {
          "base_uri": "https://localhost:8080/"
        },
        "id": "eRirlFHX9d2w",
        "outputId": "70b12633-f4dc-4c75-97f0-45a16346f5b5"
      },
      "source": [
        "# Remind ourselves of the data \n",
        "X , y"
      ],
      "execution_count": 15,
      "outputs": [
        {
          "output_type": "execute_result",
          "data": {
            "text/plain": [
              "(<tf.Tensor: shape=(8,), dtype=float32, numpy=array([-7., -4., -1.,  2.,  5.,  8., 11., 14.], dtype=float32)>,\n",
              " <tf.Tensor: shape=(8,), dtype=float32, numpy=array([ 3.,  6.,  9., 12., 15., 18., 21., 24.], dtype=float32)>)"
            ]
          },
          "metadata": {
            "tags": []
          },
          "execution_count": 15
        }
      ]
    },
    {
      "cell_type": "code",
      "metadata": {
        "colab": {
          "base_uri": "https://localhost:8080/"
        },
        "id": "2MZXwata9qnG",
        "outputId": "dea98ced-69d1-4c59-8502-b292b595d2cb"
      },
      "source": [
        "# Let's see if our model predictions has been improved \n",
        "model.predict([17.0])"
      ],
      "execution_count": 16,
      "outputs": [
        {
          "output_type": "execute_result",
          "data": {
            "text/plain": [
              "array([[29.739855]], dtype=float32)"
            ]
          },
          "metadata": {
            "tags": []
          },
          "execution_count": 16
        }
      ]
    },
    {
      "cell_type": "code",
      "metadata": {
        "colab": {
          "base_uri": "https://localhost:8080/"
        },
        "id": "B-3SBxpl9yFH",
        "outputId": "272489f6-60d9-4dcc-98dd-db7655487fb1"
      },
      "source": [
        "# Making certain changes in the model and let's see how it goes \n",
        "\n",
        "# 1. Creating the model\n",
        "model = tf.keras.Sequential([\n",
        "    tf.keras.layers.Dense(100 , activation='relu'),                           \n",
        "    tf.keras.layers.Dense(1) \n",
        "])\n",
        "\n",
        "# 2. Compiling the model \n",
        "model.compile(loss=tf.keras.losses.mae , \n",
        "              optimizer = tf.keras.optimizers.SGD(), \n",
        "              metrics = ['mae'])\n",
        "\n",
        "# Fitting the model \n",
        "model.fit(X , y , epochs = 100)"
      ],
      "execution_count": 17,
      "outputs": [
        {
          "output_type": "stream",
          "text": [
            "Epoch 1/100\n",
            "1/1 [==============================] - 0s 441ms/step - loss: 12.3193 - mae: 12.3193\n",
            "Epoch 2/100\n",
            "1/1 [==============================] - 0s 4ms/step - loss: 11.7804 - mae: 11.7804\n",
            "Epoch 3/100\n",
            "1/1 [==============================] - 0s 6ms/step - loss: 11.2324 - mae: 11.2324\n",
            "Epoch 4/100\n",
            "1/1 [==============================] - 0s 10ms/step - loss: 10.6601 - mae: 10.6601\n",
            "Epoch 5/100\n",
            "1/1 [==============================] - 0s 5ms/step - loss: 10.0632 - mae: 10.0632\n",
            "Epoch 6/100\n",
            "1/1 [==============================] - 0s 5ms/step - loss: 9.4503 - mae: 9.4503\n",
            "Epoch 7/100\n",
            "1/1 [==============================] - 0s 5ms/step - loss: 8.7991 - mae: 8.7991\n",
            "Epoch 8/100\n",
            "1/1 [==============================] - 0s 6ms/step - loss: 8.1072 - mae: 8.1072\n",
            "Epoch 9/100\n",
            "1/1 [==============================] - 0s 6ms/step - loss: 7.3691 - mae: 7.3691\n",
            "Epoch 10/100\n",
            "1/1 [==============================] - 0s 6ms/step - loss: 6.5758 - mae: 6.5758\n",
            "Epoch 11/100\n",
            "1/1 [==============================] - 0s 7ms/step - loss: 5.7205 - mae: 5.7205\n",
            "Epoch 12/100\n",
            "1/1 [==============================] - 0s 5ms/step - loss: 4.7947 - mae: 4.7947\n",
            "Epoch 13/100\n",
            "1/1 [==============================] - 0s 6ms/step - loss: 4.3581 - mae: 4.3581\n",
            "Epoch 14/100\n",
            "1/1 [==============================] - 0s 7ms/step - loss: 4.3134 - mae: 4.3134\n",
            "Epoch 15/100\n",
            "1/1 [==============================] - 0s 6ms/step - loss: 4.2550 - mae: 4.2550\n",
            "Epoch 16/100\n",
            "1/1 [==============================] - 0s 7ms/step - loss: 4.2442 - mae: 4.2442\n",
            "Epoch 17/100\n",
            "1/1 [==============================] - 0s 9ms/step - loss: 4.1520 - mae: 4.1520\n",
            "Epoch 18/100\n",
            "1/1 [==============================] - 0s 7ms/step - loss: 4.1739 - mae: 4.1739\n",
            "Epoch 19/100\n",
            "1/1 [==============================] - 0s 8ms/step - loss: 4.0681 - mae: 4.0681\n",
            "Epoch 20/100\n",
            "1/1 [==============================] - 0s 8ms/step - loss: 4.0807 - mae: 4.0807\n",
            "Epoch 21/100\n",
            "1/1 [==============================] - 0s 8ms/step - loss: 3.9954 - mae: 3.9954\n",
            "Epoch 22/100\n",
            "1/1 [==============================] - 0s 16ms/step - loss: 3.9739 - mae: 3.9739\n",
            "Epoch 23/100\n",
            "1/1 [==============================] - 0s 9ms/step - loss: 3.9208 - mae: 3.9208\n",
            "Epoch 24/100\n",
            "1/1 [==============================] - 0s 9ms/step - loss: 3.9047 - mae: 3.9047\n",
            "Epoch 25/100\n",
            "1/1 [==============================] - 0s 7ms/step - loss: 3.9267 - mae: 3.9267\n",
            "Epoch 26/100\n",
            "1/1 [==============================] - 0s 7ms/step - loss: 3.8797 - mae: 3.8797\n",
            "Epoch 27/100\n",
            "1/1 [==============================] - 0s 8ms/step - loss: 3.9341 - mae: 3.9341\n",
            "Epoch 28/100\n",
            "1/1 [==============================] - 0s 7ms/step - loss: 3.8678 - mae: 3.8678\n",
            "Epoch 29/100\n",
            "1/1 [==============================] - 0s 7ms/step - loss: 3.9274 - mae: 3.9274\n",
            "Epoch 30/100\n",
            "1/1 [==============================] - 0s 6ms/step - loss: 3.8751 - mae: 3.8751\n",
            "Epoch 31/100\n",
            "1/1 [==============================] - 0s 7ms/step - loss: 3.9080 - mae: 3.9080\n",
            "Epoch 32/100\n",
            "1/1 [==============================] - 0s 8ms/step - loss: 3.8893 - mae: 3.8893\n",
            "Epoch 33/100\n",
            "1/1 [==============================] - 0s 8ms/step - loss: 3.8834 - mae: 3.8834\n",
            "Epoch 34/100\n",
            "1/1 [==============================] - 0s 8ms/step - loss: 3.8969 - mae: 3.8969\n",
            "Epoch 35/100\n",
            "1/1 [==============================] - 0s 7ms/step - loss: 3.8581 - mae: 3.8581\n",
            "Epoch 36/100\n",
            "1/1 [==============================] - 0s 6ms/step - loss: 3.9046 - mae: 3.9046\n",
            "Epoch 37/100\n",
            "1/1 [==============================] - 0s 6ms/step - loss: 3.8386 - mae: 3.8386\n",
            "Epoch 38/100\n",
            "1/1 [==============================] - 0s 8ms/step - loss: 3.9054 - mae: 3.9054\n",
            "Epoch 39/100\n",
            "1/1 [==============================] - 0s 11ms/step - loss: 3.8482 - mae: 3.8482\n",
            "Epoch 40/100\n",
            "1/1 [==============================] - 0s 8ms/step - loss: 3.8862 - mae: 3.8862\n",
            "Epoch 41/100\n",
            "1/1 [==============================] - 0s 7ms/step - loss: 3.8605 - mae: 3.8605\n",
            "Epoch 42/100\n",
            "1/1 [==============================] - 0s 6ms/step - loss: 3.8608 - mae: 3.8608\n",
            "Epoch 43/100\n",
            "1/1 [==============================] - 0s 6ms/step - loss: 3.8683 - mae: 3.8683\n",
            "Epoch 44/100\n",
            "1/1 [==============================] - 0s 6ms/step - loss: 3.8352 - mae: 3.8352\n",
            "Epoch 45/100\n",
            "1/1 [==============================] - 0s 10ms/step - loss: 3.8762 - mae: 3.8762\n",
            "Epoch 46/100\n",
            "1/1 [==============================] - 0s 10ms/step - loss: 3.8106 - mae: 3.8106\n",
            "Epoch 47/100\n",
            "1/1 [==============================] - 0s 10ms/step - loss: 3.8821 - mae: 3.8821\n",
            "Epoch 48/100\n",
            "1/1 [==============================] - 0s 9ms/step - loss: 3.8234 - mae: 3.8234\n",
            "Epoch 49/100\n",
            "1/1 [==============================] - 0s 9ms/step - loss: 3.8626 - mae: 3.8626\n",
            "Epoch 50/100\n",
            "1/1 [==============================] - 0s 7ms/step - loss: 3.8328 - mae: 3.8328\n",
            "Epoch 51/100\n",
            "1/1 [==============================] - 0s 6ms/step - loss: 3.8369 - mae: 3.8369\n",
            "Epoch 52/100\n",
            "1/1 [==============================] - 0s 6ms/step - loss: 3.8408 - mae: 3.8408\n",
            "Epoch 53/100\n",
            "1/1 [==============================] - 0s 7ms/step - loss: 3.8111 - mae: 3.8111\n",
            "Epoch 54/100\n",
            "1/1 [==============================] - 0s 7ms/step - loss: 3.8489 - mae: 3.8489\n",
            "Epoch 55/100\n",
            "1/1 [==============================] - 0s 7ms/step - loss: 3.7850 - mae: 3.7850\n",
            "Epoch 56/100\n",
            "1/1 [==============================] - 0s 8ms/step - loss: 3.8585 - mae: 3.8585\n",
            "Epoch 57/100\n",
            "1/1 [==============================] - 0s 7ms/step - loss: 3.7982 - mae: 3.7982\n",
            "Epoch 58/100\n",
            "1/1 [==============================] - 0s 7ms/step - loss: 3.8377 - mae: 3.8377\n",
            "Epoch 59/100\n",
            "1/1 [==============================] - 0s 7ms/step - loss: 3.8062 - mae: 3.8062\n",
            "Epoch 60/100\n",
            "1/1 [==============================] - 0s 6ms/step - loss: 3.8117 - mae: 3.8117\n",
            "Epoch 61/100\n",
            "1/1 [==============================] - 0s 7ms/step - loss: 3.8144 - mae: 3.8144\n",
            "Epoch 62/100\n",
            "1/1 [==============================] - 0s 7ms/step - loss: 3.7856 - mae: 3.7856\n",
            "Epoch 63/100\n",
            "1/1 [==============================] - 0s 6ms/step - loss: 3.8227 - mae: 3.8227\n",
            "Epoch 64/100\n",
            "1/1 [==============================] - 0s 7ms/step - loss: 3.7593 - mae: 3.7593\n",
            "Epoch 65/100\n",
            "1/1 [==============================] - 0s 6ms/step - loss: 3.8352 - mae: 3.8352\n",
            "Epoch 66/100\n",
            "1/1 [==============================] - 0s 7ms/step - loss: 3.7725 - mae: 3.7725\n",
            "Epoch 67/100\n",
            "1/1 [==============================] - 0s 8ms/step - loss: 3.8115 - mae: 3.8115\n",
            "Epoch 68/100\n",
            "1/1 [==============================] - 0s 7ms/step - loss: 3.7807 - mae: 3.7807\n",
            "Epoch 69/100\n",
            "1/1 [==============================] - 0s 7ms/step - loss: 3.7853 - mae: 3.7853\n",
            "Epoch 70/100\n",
            "1/1 [==============================] - 0s 7ms/step - loss: 3.7891 - mae: 3.7891\n",
            "Epoch 71/100\n",
            "1/1 [==============================] - 0s 6ms/step - loss: 3.7588 - mae: 3.7588\n",
            "Epoch 72/100\n",
            "1/1 [==============================] - 0s 6ms/step - loss: 3.7975 - mae: 3.7975\n",
            "Epoch 73/100\n",
            "1/1 [==============================] - 0s 6ms/step - loss: 3.7337 - mae: 3.7337\n",
            "Epoch 74/100\n",
            "1/1 [==============================] - 0s 6ms/step - loss: 3.8105 - mae: 3.8105\n",
            "Epoch 75/100\n",
            "1/1 [==============================] - 0s 5ms/step - loss: 3.7478 - mae: 3.7478\n",
            "Epoch 76/100\n",
            "1/1 [==============================] - 0s 8ms/step - loss: 3.7840 - mae: 3.7840\n",
            "Epoch 77/100\n",
            "1/1 [==============================] - 0s 9ms/step - loss: 3.7563 - mae: 3.7563\n",
            "Epoch 78/100\n",
            "1/1 [==============================] - 0s 7ms/step - loss: 3.7575 - mae: 3.7575\n",
            "Epoch 79/100\n",
            "1/1 [==============================] - 0s 6ms/step - loss: 3.7648 - mae: 3.7648\n",
            "Epoch 80/100\n",
            "1/1 [==============================] - 0s 8ms/step - loss: 3.7307 - mae: 3.7307\n",
            "Epoch 81/100\n",
            "1/1 [==============================] - 0s 8ms/step - loss: 3.7735 - mae: 3.7735\n",
            "Epoch 82/100\n",
            "1/1 [==============================] - 0s 7ms/step - loss: 3.7125 - mae: 3.7125\n",
            "Epoch 83/100\n",
            "1/1 [==============================] - 0s 7ms/step - loss: 3.7820 - mae: 3.7820\n",
            "Epoch 84/100\n",
            "1/1 [==============================] - 0s 7ms/step - loss: 3.7242 - mae: 3.7242\n",
            "Epoch 85/100\n",
            "1/1 [==============================] - 0s 16ms/step - loss: 3.7552 - mae: 3.7552\n",
            "Epoch 86/100\n",
            "1/1 [==============================] - 0s 10ms/step - loss: 3.7329 - mae: 3.7329\n",
            "Epoch 87/100\n",
            "1/1 [==============================] - 0s 6ms/step - loss: 3.7284 - mae: 3.7284\n",
            "Epoch 88/100\n",
            "1/1 [==============================] - 0s 7ms/step - loss: 3.7416 - mae: 3.7416\n",
            "Epoch 89/100\n",
            "1/1 [==============================] - 0s 7ms/step - loss: 3.7013 - mae: 3.7013\n",
            "Epoch 90/100\n",
            "1/1 [==============================] - 0s 9ms/step - loss: 3.7505 - mae: 3.7505\n",
            "Epoch 91/100\n",
            "1/1 [==============================] - 0s 7ms/step - loss: 3.6921 - mae: 3.6921\n",
            "Epoch 92/100\n",
            "1/1 [==============================] - 0s 10ms/step - loss: 3.7522 - mae: 3.7522\n",
            "Epoch 93/100\n",
            "1/1 [==============================] - 0s 9ms/step - loss: 3.7016 - mae: 3.7016\n",
            "Epoch 94/100\n",
            "1/1 [==============================] - 0s 8ms/step - loss: 3.7251 - mae: 3.7251\n",
            "Epoch 95/100\n",
            "1/1 [==============================] - 0s 7ms/step - loss: 3.7105 - mae: 3.7105\n",
            "Epoch 96/100\n",
            "1/1 [==============================] - 0s 8ms/step - loss: 3.6979 - mae: 3.6979\n",
            "Epoch 97/100\n",
            "1/1 [==============================] - 0s 8ms/step - loss: 3.7194 - mae: 3.7194\n",
            "Epoch 98/100\n",
            "1/1 [==============================] - 0s 6ms/step - loss: 3.6705 - mae: 3.6705\n",
            "Epoch 99/100\n",
            "1/1 [==============================] - 0s 6ms/step - loss: 3.7299 - mae: 3.7299\n",
            "Epoch 100/100\n",
            "1/1 [==============================] - 0s 5ms/step - loss: 3.6711 - mae: 3.6711\n"
          ],
          "name": "stdout"
        },
        {
          "output_type": "execute_result",
          "data": {
            "text/plain": [
              "<tensorflow.python.keras.callbacks.History at 0x7f8819aabe10>"
            ]
          },
          "metadata": {
            "tags": []
          },
          "execution_count": 17
        }
      ]
    },
    {
      "cell_type": "code",
      "metadata": {
        "colab": {
          "base_uri": "https://localhost:8080/"
        },
        "id": "Y13gseTH_LKa",
        "outputId": "cb3d7e0f-e2c2-4adc-abca-a74ed1097728"
      },
      "source": [
        "# Let's predict our model and see what's the improvement \n",
        "\n",
        "model.predict([17.0])"
      ],
      "execution_count": 18,
      "outputs": [
        {
          "output_type": "execute_result",
          "data": {
            "text/plain": [
              "array([[31.223137]], dtype=float32)"
            ]
          },
          "metadata": {
            "tags": []
          },
          "execution_count": 18
        }
      ]
    },
    {
      "cell_type": "markdown",
      "metadata": {
        "id": "52XNpW7a_2Jz"
      },
      "source": [
        "Seems the model is overfitting, it learns well in the training data but during prediction or coming across new examples it does worse than our previous model.\n",
        "\n",
        "Not everything considered as a improvement, sometimes the metrics aren't representative of our output / needs. "
      ]
    },
    {
      "cell_type": "code",
      "metadata": {
        "colab": {
          "base_uri": "https://localhost:8080/"
        },
        "id": "vUmpxRN3AMA_",
        "outputId": "f52402c0-2a69-4a7e-a2cc-797a4ce63c99"
      },
      "source": [
        "# Making changes again removing and adding things \n",
        "\n",
        "# 1. Create a model\n",
        "model = tf.keras.Sequential([\n",
        "    tf.keras.layers.Dense(50 , activation=None),\n",
        "    tf.keras.layers.Dense(1)\n",
        "])\n",
        "\n",
        "# 2. Compile the model \n",
        "model.compile(loss = tf.keras.losses.mae , \n",
        "              optimizer = tf.keras.optimizers.Adam(lr = 0.01) , \n",
        "              metrics = ['mae'])\n",
        "\n",
        "# 3. Fitting the model \n",
        "model.fit(X , y , epochs = 100)"
      ],
      "execution_count": 19,
      "outputs": [
        {
          "output_type": "stream",
          "text": [
            "Epoch 1/100\n",
            "1/1 [==============================] - 1s 561ms/step - loss: 12.2895 - mae: 12.2895\n",
            "Epoch 2/100\n",
            "1/1 [==============================] - 0s 4ms/step - loss: 11.5828 - mae: 11.5828\n",
            "Epoch 3/100\n",
            "1/1 [==============================] - 0s 4ms/step - loss: 10.8658 - mae: 10.8658\n",
            "Epoch 4/100\n",
            "1/1 [==============================] - 0s 5ms/step - loss: 10.1378 - mae: 10.1378\n",
            "Epoch 5/100\n",
            "1/1 [==============================] - 0s 5ms/step - loss: 9.3973 - mae: 9.3973\n",
            "Epoch 6/100\n",
            "1/1 [==============================] - 0s 6ms/step - loss: 8.6426 - mae: 8.6426\n",
            "Epoch 7/100\n",
            "1/1 [==============================] - 0s 6ms/step - loss: 7.8717 - mae: 7.8717\n",
            "Epoch 8/100\n",
            "1/1 [==============================] - 0s 5ms/step - loss: 7.0828 - mae: 7.0828\n",
            "Epoch 9/100\n",
            "1/1 [==============================] - 0s 4ms/step - loss: 6.8696 - mae: 6.8696\n",
            "Epoch 10/100\n",
            "1/1 [==============================] - 0s 8ms/step - loss: 7.2795 - mae: 7.2795\n",
            "Epoch 11/100\n",
            "1/1 [==============================] - 0s 6ms/step - loss: 7.5933 - mae: 7.5933\n",
            "Epoch 12/100\n",
            "1/1 [==============================] - 0s 6ms/step - loss: 7.8205 - mae: 7.8205\n",
            "Epoch 13/100\n",
            "1/1 [==============================] - 0s 6ms/step - loss: 7.8052 - mae: 7.8052\n",
            "Epoch 14/100\n",
            "1/1 [==============================] - 0s 6ms/step - loss: 7.6123 - mae: 7.6123\n",
            "Epoch 15/100\n",
            "1/1 [==============================] - 0s 6ms/step - loss: 7.2873 - mae: 7.2873\n",
            "Epoch 16/100\n",
            "1/1 [==============================] - 0s 9ms/step - loss: 6.9999 - mae: 6.9999\n",
            "Epoch 17/100\n",
            "1/1 [==============================] - 0s 9ms/step - loss: 6.7162 - mae: 6.7162\n",
            "Epoch 18/100\n",
            "1/1 [==============================] - 0s 9ms/step - loss: 6.4202 - mae: 6.4202\n",
            "Epoch 19/100\n",
            "1/1 [==============================] - 0s 10ms/step - loss: 6.2556 - mae: 6.2556\n",
            "Epoch 20/100\n",
            "1/1 [==============================] - 0s 9ms/step - loss: 6.2091 - mae: 6.2091\n",
            "Epoch 21/100\n",
            "1/1 [==============================] - 0s 7ms/step - loss: 6.3211 - mae: 6.3211\n",
            "Epoch 22/100\n",
            "1/1 [==============================] - 0s 12ms/step - loss: 6.4110 - mae: 6.4110\n",
            "Epoch 23/100\n",
            "1/1 [==============================] - 0s 5ms/step - loss: 6.4007 - mae: 6.4007\n",
            "Epoch 24/100\n",
            "1/1 [==============================] - 0s 8ms/step - loss: 6.3029 - mae: 6.3029\n",
            "Epoch 25/100\n",
            "1/1 [==============================] - 0s 7ms/step - loss: 6.1267 - mae: 6.1267\n",
            "Epoch 26/100\n",
            "1/1 [==============================] - 0s 7ms/step - loss: 5.8791 - mae: 5.8791\n",
            "Epoch 27/100\n",
            "1/1 [==============================] - 0s 5ms/step - loss: 5.6786 - mae: 5.6786\n",
            "Epoch 28/100\n",
            "1/1 [==============================] - 0s 7ms/step - loss: 5.5757 - mae: 5.5757\n",
            "Epoch 29/100\n",
            "1/1 [==============================] - 0s 7ms/step - loss: 5.4829 - mae: 5.4829\n",
            "Epoch 30/100\n",
            "1/1 [==============================] - 0s 8ms/step - loss: 5.4905 - mae: 5.4905\n",
            "Epoch 31/100\n",
            "1/1 [==============================] - 0s 8ms/step - loss: 5.4533 - mae: 5.4533\n",
            "Epoch 32/100\n",
            "1/1 [==============================] - 0s 6ms/step - loss: 5.3748 - mae: 5.3748\n",
            "Epoch 33/100\n",
            "1/1 [==============================] - 0s 7ms/step - loss: 5.2585 - mae: 5.2585\n",
            "Epoch 34/100\n",
            "1/1 [==============================] - 0s 7ms/step - loss: 5.1075 - mae: 5.1075\n",
            "Epoch 35/100\n",
            "1/1 [==============================] - 0s 7ms/step - loss: 4.9247 - mae: 4.9247\n",
            "Epoch 36/100\n",
            "1/1 [==============================] - 0s 8ms/step - loss: 4.8326 - mae: 4.8326\n",
            "Epoch 37/100\n",
            "1/1 [==============================] - 0s 6ms/step - loss: 4.7434 - mae: 4.7434\n",
            "Epoch 38/100\n",
            "1/1 [==============================] - 0s 7ms/step - loss: 4.6473 - mae: 4.6473\n",
            "Epoch 39/100\n",
            "1/1 [==============================] - 0s 6ms/step - loss: 4.6407 - mae: 4.6407\n",
            "Epoch 40/100\n",
            "1/1 [==============================] - 0s 7ms/step - loss: 4.5264 - mae: 4.5264\n",
            "Epoch 41/100\n",
            "1/1 [==============================] - 0s 6ms/step - loss: 4.3044 - mae: 4.3044\n",
            "Epoch 42/100\n",
            "1/1 [==============================] - 0s 7ms/step - loss: 4.1423 - mae: 4.1423\n",
            "Epoch 43/100\n",
            "1/1 [==============================] - 0s 6ms/step - loss: 3.9877 - mae: 3.9877\n",
            "Epoch 44/100\n",
            "1/1 [==============================] - 0s 7ms/step - loss: 3.9463 - mae: 3.9463\n",
            "Epoch 45/100\n",
            "1/1 [==============================] - 0s 7ms/step - loss: 3.8751 - mae: 3.8751\n",
            "Epoch 46/100\n",
            "1/1 [==============================] - 0s 7ms/step - loss: 3.7518 - mae: 3.7518\n",
            "Epoch 47/100\n",
            "1/1 [==============================] - 0s 7ms/step - loss: 3.5792 - mae: 3.5792\n",
            "Epoch 48/100\n",
            "1/1 [==============================] - 0s 17ms/step - loss: 3.3603 - mae: 3.3603\n",
            "Epoch 49/100\n",
            "1/1 [==============================] - 0s 7ms/step - loss: 3.0974 - mae: 3.0974\n",
            "Epoch 50/100\n",
            "1/1 [==============================] - 0s 8ms/step - loss: 2.9258 - mae: 2.9258\n",
            "Epoch 51/100\n",
            "1/1 [==============================] - 0s 8ms/step - loss: 2.8596 - mae: 2.8596\n",
            "Epoch 52/100\n",
            "1/1 [==============================] - 0s 9ms/step - loss: 2.7330 - mae: 2.7330\n",
            "Epoch 53/100\n",
            "1/1 [==============================] - 0s 9ms/step - loss: 2.4630 - mae: 2.4630\n",
            "Epoch 54/100\n",
            "1/1 [==============================] - 0s 7ms/step - loss: 2.1637 - mae: 2.1637\n",
            "Epoch 55/100\n",
            "1/1 [==============================] - 0s 7ms/step - loss: 2.0178 - mae: 2.0178\n",
            "Epoch 56/100\n",
            "1/1 [==============================] - 0s 6ms/step - loss: 1.8761 - mae: 1.8761\n",
            "Epoch 57/100\n",
            "1/1 [==============================] - 0s 14ms/step - loss: 1.6739 - mae: 1.6739\n",
            "Epoch 58/100\n",
            "1/1 [==============================] - 0s 19ms/step - loss: 1.3610 - mae: 1.3610\n",
            "Epoch 59/100\n",
            "1/1 [==============================] - 0s 12ms/step - loss: 1.0521 - mae: 1.0521\n",
            "Epoch 60/100\n",
            "1/1 [==============================] - 0s 15ms/step - loss: 0.9785 - mae: 0.9785\n",
            "Epoch 61/100\n",
            "1/1 [==============================] - 0s 16ms/step - loss: 0.7530 - mae: 0.7530\n",
            "Epoch 62/100\n",
            "1/1 [==============================] - 0s 18ms/step - loss: 0.3616 - mae: 0.3616\n",
            "Epoch 63/100\n",
            "1/1 [==============================] - 0s 13ms/step - loss: 0.3183 - mae: 0.3183\n",
            "Epoch 64/100\n",
            "1/1 [==============================] - 0s 20ms/step - loss: 0.4345 - mae: 0.4345\n",
            "Epoch 65/100\n",
            "1/1 [==============================] - 0s 6ms/step - loss: 0.4634 - mae: 0.4634\n",
            "Epoch 66/100\n",
            "1/1 [==============================] - 0s 4ms/step - loss: 0.7942 - mae: 0.7942\n",
            "Epoch 67/100\n",
            "1/1 [==============================] - 0s 10ms/step - loss: 0.9794 - mae: 0.9794\n",
            "Epoch 68/100\n",
            "1/1 [==============================] - 0s 5ms/step - loss: 0.9275 - mae: 0.9275\n",
            "Epoch 69/100\n",
            "1/1 [==============================] - 0s 9ms/step - loss: 0.7528 - mae: 0.7528\n",
            "Epoch 70/100\n",
            "1/1 [==============================] - 0s 7ms/step - loss: 0.8762 - mae: 0.8762\n",
            "Epoch 71/100\n",
            "1/1 [==============================] - 0s 10ms/step - loss: 0.8515 - mae: 0.8515\n",
            "Epoch 72/100\n",
            "1/1 [==============================] - 0s 5ms/step - loss: 0.6467 - mae: 0.6467\n",
            "Epoch 73/100\n",
            "1/1 [==============================] - 0s 12ms/step - loss: 0.6094 - mae: 0.6094\n",
            "Epoch 74/100\n",
            "1/1 [==============================] - 0s 7ms/step - loss: 0.5948 - mae: 0.5948\n",
            "Epoch 75/100\n",
            "1/1 [==============================] - 0s 7ms/step - loss: 0.3295 - mae: 0.3295\n",
            "Epoch 76/100\n",
            "1/1 [==============================] - 0s 6ms/step - loss: 0.2278 - mae: 0.2278\n",
            "Epoch 77/100\n",
            "1/1 [==============================] - 0s 9ms/step - loss: 0.3053 - mae: 0.3053\n",
            "Epoch 78/100\n",
            "1/1 [==============================] - 0s 14ms/step - loss: 0.1724 - mae: 0.1724\n",
            "Epoch 79/100\n",
            "1/1 [==============================] - 0s 7ms/step - loss: 0.4260 - mae: 0.4260\n",
            "Epoch 80/100\n",
            "1/1 [==============================] - 0s 11ms/step - loss: 0.5282 - mae: 0.5282\n",
            "Epoch 81/100\n",
            "1/1 [==============================] - 0s 10ms/step - loss: 0.4697 - mae: 0.4697\n",
            "Epoch 82/100\n",
            "1/1 [==============================] - 0s 5ms/step - loss: 0.2679 - mae: 0.2679\n",
            "Epoch 83/100\n",
            "1/1 [==============================] - 0s 6ms/step - loss: 0.5169 - mae: 0.5169\n",
            "Epoch 84/100\n",
            "1/1 [==============================] - 0s 6ms/step - loss: 0.6089 - mae: 0.6089\n",
            "Epoch 85/100\n",
            "1/1 [==============================] - 0s 7ms/step - loss: 0.4048 - mae: 0.4048\n",
            "Epoch 86/100\n",
            "1/1 [==============================] - 0s 6ms/step - loss: 0.0787 - mae: 0.0787\n",
            "Epoch 87/100\n",
            "1/1 [==============================] - 0s 6ms/step - loss: 0.2098 - mae: 0.2098\n",
            "Epoch 88/100\n",
            "1/1 [==============================] - 0s 6ms/step - loss: 0.0880 - mae: 0.0880\n",
            "Epoch 89/100\n",
            "1/1 [==============================] - 0s 5ms/step - loss: 0.2642 - mae: 0.2642\n",
            "Epoch 90/100\n",
            "1/1 [==============================] - 0s 6ms/step - loss: 0.2510 - mae: 0.2510\n",
            "Epoch 91/100\n",
            "1/1 [==============================] - 0s 7ms/step - loss: 0.0822 - mae: 0.0822\n",
            "Epoch 92/100\n",
            "1/1 [==============================] - 0s 32ms/step - loss: 0.1671 - mae: 0.1671\n",
            "Epoch 93/100\n",
            "1/1 [==============================] - 0s 12ms/step - loss: 0.0152 - mae: 0.0152\n",
            "Epoch 94/100\n",
            "1/1 [==============================] - 0s 8ms/step - loss: 0.1764 - mae: 0.1764\n",
            "Epoch 95/100\n",
            "1/1 [==============================] - 0s 7ms/step - loss: 0.0582 - mae: 0.0582\n",
            "Epoch 96/100\n",
            "1/1 [==============================] - 0s 16ms/step - loss: 0.3080 - mae: 0.3080\n",
            "Epoch 97/100\n",
            "1/1 [==============================] - 0s 9ms/step - loss: 0.3563 - mae: 0.3563\n",
            "Epoch 98/100\n",
            "1/1 [==============================] - 0s 9ms/step - loss: 0.1435 - mae: 0.1435\n",
            "Epoch 99/100\n",
            "1/1 [==============================] - 0s 10ms/step - loss: 0.3117 - mae: 0.3117\n",
            "Epoch 100/100\n",
            "1/1 [==============================] - 0s 7ms/step - loss: 0.4584 - mae: 0.4584\n"
          ],
          "name": "stdout"
        },
        {
          "output_type": "execute_result",
          "data": {
            "text/plain": [
              "<tensorflow.python.keras.callbacks.History at 0x7f88189b5890>"
            ]
          },
          "metadata": {
            "tags": []
          },
          "execution_count": 19
        }
      ]
    },
    {
      "cell_type": "code",
      "metadata": {
        "colab": {
          "base_uri": "https://localhost:8080/"
        },
        "id": "7g6WxWAtB6XD",
        "outputId": "1e17e365-33eb-41b4-cd52-c8ea5ed6df88"
      },
      "source": [
        "# Let's see our data \n",
        "X , y"
      ],
      "execution_count": 20,
      "outputs": [
        {
          "output_type": "execute_result",
          "data": {
            "text/plain": [
              "(<tf.Tensor: shape=(8,), dtype=float32, numpy=array([-7., -4., -1.,  2.,  5.,  8., 11., 14.], dtype=float32)>,\n",
              " <tf.Tensor: shape=(8,), dtype=float32, numpy=array([ 3.,  6.,  9., 12., 15., 18., 21., 24.], dtype=float32)>)"
            ]
          },
          "metadata": {
            "tags": []
          },
          "execution_count": 20
        }
      ]
    },
    {
      "cell_type": "code",
      "metadata": {
        "colab": {
          "base_uri": "https://localhost:8080/"
        },
        "id": "n2i6VmB-CEfq",
        "outputId": "9e628f1a-0e29-455d-8c00-f182d5a38dd6"
      },
      "source": [
        "# This model should be good since the loss is really low \n",
        "# Making predictions to see how positive the improvements are \n",
        "\n",
        "model.predict([20.0]) , model.predict([23.0])"
      ],
      "execution_count": 21,
      "outputs": [
        {
          "output_type": "execute_result",
          "data": {
            "text/plain": [
              "(array([[31.03802]], dtype=float32), array([[34.185913]], dtype=float32))"
            ]
          },
          "metadata": {
            "tags": []
          },
          "execution_count": 21
        }
      ]
    },
    {
      "cell_type": "markdown",
      "metadata": {
        "id": "4hDHJcn2CWxj"
      },
      "source": [
        "## Evaluating the model \n",
        "\n",
        "In practice, a typical workflow we go through while building neural networks are: \n",
        "\n",
        "```\n",
        "Build a model --> Fit it --> Evaluate it --> tweak a model --> Fit it --> Evaluate it --> tweak a model --> fit it --> Evaluate it....... \n",
        "```\n",
        "When we it comes to evaluation ... there are 3 words we should memorize: \n",
        "\n",
        "```\n",
        "Visualize <--> Visualize <--> Visualize\n",
        "```\n",
        "It's good idea to visualize:\n",
        "* The data, \n",
        "  - What data we are working with?\n",
        "  - What does it look like? \n",
        "* The model: \n",
        "  - What does our model look like? \n",
        "* The training of a model,\n",
        "  - How does a model perform while it learns? \n",
        "* The predictions of the model, \n",
        "  - How does the model's predictiosn line up against the ground truth (the original labels). \n"
      ]
    },
    {
      "cell_type": "code",
      "metadata": {
        "colab": {
          "base_uri": "https://localhost:8080/"
        },
        "id": "NV79dByxEFVa",
        "outputId": "14b0686f-04ed-49f5-d79d-4b0cd797e8e1"
      },
      "source": [
        "# Make a bigger dataset\n",
        "\n",
        "X = tf.range(-100 , 100 , 4)\n",
        "X"
      ],
      "execution_count": 22,
      "outputs": [
        {
          "output_type": "execute_result",
          "data": {
            "text/plain": [
              "<tf.Tensor: shape=(50,), dtype=int32, numpy=\n",
              "array([-100,  -96,  -92,  -88,  -84,  -80,  -76,  -72,  -68,  -64,  -60,\n",
              "        -56,  -52,  -48,  -44,  -40,  -36,  -32,  -28,  -24,  -20,  -16,\n",
              "        -12,   -8,   -4,    0,    4,    8,   12,   16,   20,   24,   28,\n",
              "         32,   36,   40,   44,   48,   52,   56,   60,   64,   68,   72,\n",
              "         76,   80,   84,   88,   92,   96], dtype=int32)>"
            ]
          },
          "metadata": {
            "tags": []
          },
          "execution_count": 22
        }
      ]
    },
    {
      "cell_type": "code",
      "metadata": {
        "colab": {
          "base_uri": "https://localhost:8080/"
        },
        "id": "qVdI7NENGjJ9",
        "outputId": "b9ab9ee0-a503-4da6-dd43-7105b0984f83"
      },
      "source": [
        "# Making a label for our dataset \n",
        "\n",
        "y = X + 10 # this is the pattern we want our model to learn\n",
        "y"
      ],
      "execution_count": 23,
      "outputs": [
        {
          "output_type": "execute_result",
          "data": {
            "text/plain": [
              "<tf.Tensor: shape=(50,), dtype=int32, numpy=\n",
              "array([-90, -86, -82, -78, -74, -70, -66, -62, -58, -54, -50, -46, -42,\n",
              "       -38, -34, -30, -26, -22, -18, -14, -10,  -6,  -2,   2,   6,  10,\n",
              "        14,  18,  22,  26,  30,  34,  38,  42,  46,  50,  54,  58,  62,\n",
              "        66,  70,  74,  78,  82,  86,  90,  94,  98, 102, 106], dtype=int32)>"
            ]
          },
          "metadata": {
            "tags": []
          },
          "execution_count": 23
        }
      ]
    },
    {
      "cell_type": "markdown",
      "metadata": {
        "id": "tjlmfhBWGxHY"
      },
      "source": [
        "Let's do those above steps one by one! \n",
        "\n",
        "#### **Visualize the data**"
      ]
    },
    {
      "cell_type": "code",
      "metadata": {
        "colab": {
          "base_uri": "https://localhost:8080/",
          "height": 282
        },
        "id": "bLbGZPB0G-D0",
        "outputId": "4db1fd9e-211a-4086-bb3d-bfed52a96be4"
      },
      "source": [
        "import matplotlib.pyplot as plt\n",
        "\n",
        "# Plotting our data \n",
        "plt.scatter(X , y)"
      ],
      "execution_count": 24,
      "outputs": [
        {
          "output_type": "execute_result",
          "data": {
            "text/plain": [
              "<matplotlib.collections.PathCollection at 0x7f8817888450>"
            ]
          },
          "metadata": {
            "tags": []
          },
          "execution_count": 24
        },
        {
          "output_type": "display_data",
          "data": {
            "image/png": "[encoded data removed]",
            "text/plain": [
              "<Figure size 432x288 with 1 Axes>"
            ]
          },
          "metadata": {
            "tags": [],
            "needs_background": "light"
          }
        }
      ]
    },
    {
      "cell_type": "markdown",
      "metadata": {
        "id": "_RX9DlKiHGXM"
      },
      "source": [
        "#### Splitting our data into sets "
      ]
    },
    {
      "cell_type": "code",
      "metadata": {
        "id": "whvZgo-PHjmc"
      },
      "source": [
        "# from sklearn.model_selection import train_test_split\n",
        "\n",
        "# X_train , X_test , y_train , y_test = train_test_split(X , y , test_size = 0.2 , random_state = 42)\n",
        "\n",
        "# Checking the shape of those sets \n",
        "#print(f'The shape of X training set: {X_train.shape}')\n",
        "#print(f'The shape of X test set: {X_test.shape}')\n",
        "#print(f'The shape of y training set: {y_train.shape}')\n",
        "#print(f'The shape of y test set: {y_test.shape}')\n",
        "\n",
        "# Can't figure the error for now, maybe it's too small? "
      ],
      "execution_count": 25,
      "outputs": []
    },
    {
      "cell_type": "code",
      "metadata": {
        "colab": {
          "base_uri": "https://localhost:8080/"
        },
        "id": "XBh6Ooh_IMnD",
        "outputId": "b8cf6c0a-a9d8-4aac-caf2-65956e0ba453"
      },
      "source": [
        "# Split the data into train and test split \n",
        "\n",
        "# First 40 samples (80%)\n",
        "X_train = X[:40]\n",
        "y_train = y[:40]\n",
        "\n",
        "# Last 10 samples (20%)\n",
        "X_test = X[40:]\n",
        "y_test = y[40:]\n",
        "\n",
        "print(f'The shape of X training set: {X_train.shape}')\n",
        "print(f'The shape of X test set: {X_test.shape}')\n",
        "print(f'The shape of y training set: {y_train.shape}')\n",
        "print(f'The shape of y test set: {y_test.shape}')\n"
      ],
      "execution_count": 26,
      "outputs": [
        {
          "output_type": "stream",
          "text": [
            "The shape of X training set: (40,)\n",
            "The shape of X test set: (10,)\n",
            "The shape of y training set: (40,)\n",
            "The shape of y test set: (10,)\n"
          ],
          "name": "stdout"
        }
      ]
    },
    {
      "cell_type": "markdown",
      "metadata": {
        "id": "Q6ThOo3kKIfl"
      },
      "source": [
        "#### Visualize the training and test set! "
      ]
    },
    {
      "cell_type": "code",
      "metadata": {
        "colab": {
          "base_uri": "https://localhost:8080/",
          "height": 428
        },
        "id": "7CP1WxEwOCkC",
        "outputId": "69c6c6ac-4a0d-487b-a3c3-1962daea7d79"
      },
      "source": [
        "# Plotting \n",
        "plt.figure(figsize=(10 , 7))\n",
        "\n",
        "# Training data in blue \n",
        "plt.scatter(X_train , y_train , c ='b' , label = 'training data') \n",
        "\n",
        "# Testiing data in green\n",
        "plt.scatter(X_test , y_test , c='g' , label = 'testing data') \n",
        "\n",
        "# Show legend \n",
        "plt.legend();"
      ],
      "execution_count": 27,
      "outputs": [
        {
          "output_type": "display_data",
          "data": {
            "image/png": "[encoded data removed]",
            "text/plain": [
              "<Figure size 720x504 with 1 Axes>"
            ]
          },
          "metadata": {
            "tags": [],
            "needs_background": "light"
          }
        }
      ]
    },
    {
      "cell_type": "code",
      "metadata": {
        "id": "Ht16L1uuOeJt"
      },
      "source": [
        "# Let's have a look at how to build a neural network for our data \n",
        "\n",
        "# 1. Create the model \n",
        "model = tf.keras.Sequential([\n",
        "    tf.keras.layers.Dense(1)\n",
        "])\n",
        "\n",
        "# 2. Compile the model \n",
        "model.compile(loss = tf.keras.losses.mae , \n",
        "              optimizer = tf.keras.optimizers.SGD() , \n",
        "              metrics = ['mae'])\n",
        "\n",
        "# 3. Fit the model \n",
        "# model.fit(X_train , y_train , epochs=100)\n"
      ],
      "execution_count": 28,
      "outputs": []
    },
    {
      "cell_type": "markdown",
      "metadata": {
        "id": "7_uCZ742qPqD"
      },
      "source": [
        "We have instantiate the model now rather fitting it to the mode, lets visualize it \n",
        "\n",
        "#### **Visualize the model**"
      ]
    },
    {
      "cell_type": "code",
      "metadata": {
        "id": "nIOm3Igmq2JN"
      },
      "source": [
        "# checking the summary / how our model built \n",
        "\n",
        "# model.summary() # Throws ERROR"
      ],
      "execution_count": 29,
      "outputs": []
    },
    {
      "cell_type": "code",
      "metadata": {
        "id": "JpDGLZxBq_rm"
      },
      "source": [
        "# Getting over the error, we should build our model \n",
        "\n",
        "# model.build()"
      ],
      "execution_count": 30,
      "outputs": []
    },
    {
      "cell_type": "markdown",
      "metadata": {
        "id": "kAV0AfsmrMrN"
      },
      "source": [
        "But we can do better, like create model which builts automatically by defining the `input_shape` argument in the first layer itself. "
      ]
    },
    {
      "cell_type": "code",
      "metadata": {
        "colab": {
          "base_uri": "https://localhost:8080/"
        },
        "id": "CU9UgpIDr2VT",
        "outputId": "bbd9d1c8-66ce-44e1-ce03-57ab3f71a8ed"
      },
      "source": [
        "# Checking the shape of our input data \n",
        "\n",
        "X[0] , y[0] # It's gonna be just 1 number, depends upon the variable's "
      ],
      "execution_count": 31,
      "outputs": [
        {
          "output_type": "execute_result",
          "data": {
            "text/plain": [
              "(<tf.Tensor: shape=(), dtype=int32, numpy=-100>,\n",
              " <tf.Tensor: shape=(), dtype=int32, numpy=-90>)"
            ]
          },
          "metadata": {
            "tags": []
          },
          "execution_count": 31
        }
      ]
    },
    {
      "cell_type": "code",
      "metadata": {
        "id": "4JDOg4zSrYde"
      },
      "source": [
        "# Defining the input_shape\n",
        "tf.random.set_seed(42)\n",
        "\n",
        "# 1. Create a model \n",
        "model = tf.keras.Sequential([\n",
        "  tf.keras.layers.Dense(1 , input_shape =[1] )\n",
        "])\n",
        "\n",
        "# 2. Compile the model \n",
        "model.compile(loss = tf.keras.losses.mae , \n",
        "              optimizer = tf.keras.optimizers.SGD() , \n",
        "              metrics = ['mae'])\n"
      ],
      "execution_count": 32,
      "outputs": []
    },
    {
      "cell_type": "code",
      "metadata": {
        "colab": {
          "base_uri": "https://localhost:8080/"
        },
        "id": "42pg7sfgrhpx",
        "outputId": "1431eda1-96c7-43f8-ec27-f380f74d5637"
      },
      "source": [
        "# Checking our model's summary \n",
        "\n",
        "model.summary()"
      ],
      "execution_count": 33,
      "outputs": [
        {
          "output_type": "stream",
          "text": [
            "Model: \"sequential_5\"\n",
            "_________________________________________________________________\n",
            "Layer (type)                 Output Shape              Param #   \n",
            "=================================================================\n",
            "dense_7 (Dense)              (None, 1)                 2         \n",
            "=================================================================\n",
            "Total params: 2\n",
            "Trainable params: 2\n",
            "Non-trainable params: 0\n",
            "_________________________________________________________________\n"
          ],
          "name": "stdout"
        }
      ]
    },
    {
      "cell_type": "markdown",
      "metadata": {
        "id": "mm4ADSrqsUUA"
      },
      "source": [
        "- **Total Params** --> total number of parameters in the model. \n",
        "- **Trainable params** --> these are the parameters (patterns model can update as they learn)\n",
        "- **Non-trainable params** --> these parameters aren't updated during training (this is typical when we bring in already learn patterns or parameters from other models during `transfer learning`"
      ]
    },
    {
      "cell_type": "code",
      "metadata": {
        "colab": {
          "base_uri": "https://localhost:8080/"
        },
        "id": "iKRkLZUNv-Zb",
        "outputId": "298c8707-7013-4030-b37e-fd54fe1da23f"
      },
      "source": [
        "# Fitting the model to training data \n",
        "\n",
        "model.fit(X_train , y_train , epochs = 100 , verbose = 0)"
      ],
      "execution_count": 34,
      "outputs": [
        {
          "output_type": "execute_result",
          "data": {
            "text/plain": [
              "<tensorflow.python.keras.callbacks.History at 0x7f8816f47a90>"
            ]
          },
          "metadata": {
            "tags": []
          },
          "execution_count": 34
        }
      ]
    },
    {
      "cell_type": "code",
      "metadata": {
        "colab": {
          "base_uri": "https://localhost:8080/"
        },
        "id": "nYyHcrISxG_k",
        "outputId": "4b7eccf1-1fd9-4c5f-e8a4-6fd0134d039d"
      },
      "source": [
        "# Creating a model and playing around with the dense layers \n",
        "\n",
        "model = tf.keras.Sequential([\n",
        "    #tf.keras.layers.Dense(100 , activation=None , input_shape= [1]),\n",
        "  tf.keras.layers.Dense(10 , input_shape = [1] , name = 'input_layer') , \n",
        "  tf.keras.layers.Dense(1 , name = 'output_layer')\n",
        "] , name = 'model_1')\n",
        "\n",
        "model.compile(loss = tf.keras.losses.mae , \n",
        "              optimizer = tf.keras.optimizers.SGD() , \n",
        "              metrics = ['mae'])\n",
        "\n",
        "# Getting the summary of our model / how it's built \n",
        "model.summary()"
      ],
      "execution_count": 35,
      "outputs": [
        {
          "output_type": "stream",
          "text": [
            "Model: \"model_1\"\n",
            "_________________________________________________________________\n",
            "Layer (type)                 Output Shape              Param #   \n",
            "=================================================================\n",
            "input_layer (Dense)          (None, 10)                20        \n",
            "_________________________________________________________________\n",
            "output_layer (Dense)         (None, 1)                 11        \n",
            "=================================================================\n",
            "Total params: 31\n",
            "Trainable params: 31\n",
            "Non-trainable params: 0\n",
            "_________________________________________________________________\n"
          ],
          "name": "stdout"
        }
      ]
    },
    {
      "cell_type": "code",
      "metadata": {
        "colab": {
          "base_uri": "https://localhost:8080/"
        },
        "id": "bnddv5g81mGI",
        "outputId": "2cbd5f7f-45ed-440b-e7d4-dfd26f9a0519"
      },
      "source": [
        "# Fitting this model \n",
        "model.fit(X_train , y_train , epochs = 100 , verbose = 0)"
      ],
      "execution_count": 36,
      "outputs": [
        {
          "output_type": "execute_result",
          "data": {
            "text/plain": [
              "<tensorflow.python.keras.callbacks.History at 0x7f881c8336d0>"
            ]
          },
          "metadata": {
            "tags": []
          },
          "execution_count": 36
        }
      ]
    },
    {
      "cell_type": "code",
      "metadata": {
        "colab": {
          "base_uri": "https://localhost:8080/",
          "height": 312
        },
        "id": "lFjyrmKyzBv5",
        "outputId": "56e81314-3f57-4db4-f5e3-e86c35a17615"
      },
      "source": [
        "# Plotting the model with tensorflow plot_model utils\n",
        "\n",
        "from tensorflow.keras.utils import plot_model\n",
        "plot_model(model = model , show_shapes=True)"
      ],
      "execution_count": 37,
      "outputs": [
        {
          "output_type": "execute_result",
          "data": {
            "image/png": "[encoded data removed]",
            "text/plain": [
              "<IPython.core.display.Image object>"
            ]
          },
          "metadata": {
            "tags": []
          },
          "execution_count": 37
        }
      ]
    },
    {
      "cell_type": "markdown",
      "metadata": {
        "id": "6R5bHYdF0kXv"
      },
      "source": [
        "### **Visualizing our model's predictions**"
      ]
    },
    {
      "cell_type": "code",
      "metadata": {
        "id": "b4Jnbhtv1994"
      },
      "source": [
        ""
      ],
      "execution_count": 37,
      "outputs": []
    }
  ]
}
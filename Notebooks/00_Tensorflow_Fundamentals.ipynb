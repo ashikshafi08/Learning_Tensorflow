{
  "nbformat": 4,
  "nbformat_minor": 0,
  "metadata": {
    "colab": {
      "name": "00_Tensorflow_Fundamentals.ipynb",
      "provenance": [],
      "collapsed_sections": [],
      "authorship_tag": "ABX9TyOzQ6t3TgHkDCHASjWMDIpZ",
      "include_colab_link": true
    },
    "kernelspec": {
      "name": "python3",
      "display_name": "Python 3"
    },
    "accelerator": "GPU"
  },
  "cells": [
    {
      "cell_type": "markdown",
      "metadata": {
        "id": "view-in-github",
        "colab_type": "text"
      },
      "source": [
        "<a href=\"https://colab.research.google.com/github/ashikshafi08/Learning_Tensorflow/blob/main/Notebooks/00_Tensorflow_Fundamentals.ipynb\" target=\"_parent\"><img src=\"https://colab.research.google.com/assets/colab-badge.svg\" alt=\"Open In Colab\"/></a>"
      ]
    },
    {
      "cell_type": "code",
      "metadata": {
        "colab": {
          "base_uri": "https://localhost:8080/"
        },
        "id": "Vg4UupQRBHyb",
        "outputId": "c0ffa1a1-a078-437d-82eb-86708cc65101"
      },
      "source": [
        "# Import TensorFlow\n",
        "import tensorflow as tf\n",
        "print(tf.__version__) "
      ],
      "execution_count": null,
      "outputs": [
        {
          "output_type": "stream",
          "text": [
            "2.4.1\n"
          ],
          "name": "stdout"
        }
      ]
    },
    {
      "cell_type": "markdown",
      "metadata": {
        "id": "-g6gjGzATmvZ"
      },
      "source": [
        "# Tensorflow Fundamentals \n",
        "\n",
        "In this notebook we are going to cover some of the fundamentals concepts of tensors using **TensorFlow**. \n",
        "\n",
        "Let's draw the outline what we are going to see, \n",
        "- Introduction to tensors \n",
        "- Getting information from tensors\n",
        "- Manipulating tensors \n",
        "- Tensors and Numpy \n",
        "- Using `@tf.function`, a way to speed up regular python functions with tensorflow. \n",
        "- Using GPU's (or TPU's) with Tensorflow. \n",
        "- Exercise to muscle up tensorflow fundamentals skills.\n"
      ]
    },
    {
      "cell_type": "markdown",
      "metadata": {
        "id": "9CaWNIrvTo_D"
      },
      "source": [
        "## Introduction to tensors "
      ]
    },
    {
      "cell_type": "markdown",
      "metadata": {
        "id": "mSqx3QX7mdYI"
      },
      "source": [
        "#### **Using `tf.constant` to create tensors**"
      ]
    },
    {
      "cell_type": "code",
      "metadata": {
        "colab": {
          "base_uri": "https://localhost:8080/"
        },
        "id": "ZZUUsSU6Vb-b",
        "outputId": "41c0e3fe-83ee-441c-e9ca-4d50227f085b"
      },
      "source": [
        "# Creating tensors with tf.constant \n",
        "\n",
        "scalar = tf.constant(7)\n",
        "scalar # Creating a scalar tensor"
      ],
      "execution_count": null,
      "outputs": [
        {
          "output_type": "execute_result",
          "data": {
            "text/plain": [
              "<tf.Tensor: shape=(), dtype=int32, numpy=7>"
            ]
          },
          "metadata": {
            "tags": []
          },
          "execution_count": 2
        }
      ]
    },
    {
      "cell_type": "code",
      "metadata": {
        "colab": {
          "base_uri": "https://localhost:8080/"
        },
        "id": "YQV_eOdyCrQa",
        "outputId": "50c54f32-cd97-42ce-8fd1-725875a59896"
      },
      "source": [
        "# Checking the number of dimensions of tensors \n",
        "scalar.ndim # No of dimensions"
      ],
      "execution_count": null,
      "outputs": [
        {
          "output_type": "execute_result",
          "data": {
            "text/plain": [
              "0"
            ]
          },
          "metadata": {
            "tags": []
          },
          "execution_count": 3
        }
      ]
    },
    {
      "cell_type": "code",
      "metadata": {
        "colab": {
          "base_uri": "https://localhost:8080/"
        },
        "id": "gN61P0YeDBVH",
        "outputId": "eca9b783-6a8e-4062-fd2d-fcdea85eb9fc"
      },
      "source": [
        "# Create a vector \n",
        "vector = tf.constant([10 , 10])\n",
        "vector"
      ],
      "execution_count": null,
      "outputs": [
        {
          "output_type": "execute_result",
          "data": {
            "text/plain": [
              "<tf.Tensor: shape=(2,), dtype=int32, numpy=array([10, 10], dtype=int32)>"
            ]
          },
          "metadata": {
            "tags": []
          },
          "execution_count": 4
        }
      ]
    },
    {
      "cell_type": "code",
      "metadata": {
        "colab": {
          "base_uri": "https://localhost:8080/"
        },
        "id": "8kEciC9lDI3W",
        "outputId": "5cedb291-9f00-452f-b7c3-bab730d0232b"
      },
      "source": [
        "# Checking the dimensions now \n",
        "vector.ndim "
      ],
      "execution_count": null,
      "outputs": [
        {
          "output_type": "execute_result",
          "data": {
            "text/plain": [
              "1"
            ]
          },
          "metadata": {
            "tags": []
          },
          "execution_count": 5
        }
      ]
    },
    {
      "cell_type": "code",
      "metadata": {
        "colab": {
          "base_uri": "https://localhost:8080/"
        },
        "id": "l0bpYfFfDMRm",
        "outputId": "b804b208-73e1-40f6-bf0b-491f4eaf5442"
      },
      "source": [
        "# Now creating a matrix (has more than 1 dimensions)\n",
        "matrix = tf.constant( [[1 , 2] , \n",
        "                       [3, 4]] )\n",
        "\n",
        "matrix "
      ],
      "execution_count": null,
      "outputs": [
        {
          "output_type": "execute_result",
          "data": {
            "text/plain": [
              "<tf.Tensor: shape=(2, 2), dtype=int32, numpy=\n",
              "array([[1, 2],\n",
              "       [3, 4]], dtype=int32)>"
            ]
          },
          "metadata": {
            "tags": []
          },
          "execution_count": 6
        }
      ]
    },
    {
      "cell_type": "code",
      "metadata": {
        "colab": {
          "base_uri": "https://localhost:8080/"
        },
        "id": "e3JliDtGDhqb",
        "outputId": "883ba35b-2a2d-4dfc-94bb-e9a51404e0c0"
      },
      "source": [
        "# Checking the dimensions now \n",
        "matrix.ndim "
      ],
      "execution_count": null,
      "outputs": [
        {
          "output_type": "execute_result",
          "data": {
            "text/plain": [
              "2"
            ]
          },
          "metadata": {
            "tags": []
          },
          "execution_count": 7
        }
      ]
    },
    {
      "cell_type": "code",
      "metadata": {
        "colab": {
          "base_uri": "https://localhost:8080/"
        },
        "id": "s_SlPLBJDurB",
        "outputId": "356cfe96-f5b5-4719-cb6f-26eb72722952"
      },
      "source": [
        "# Now manually choosing the dtype, and creating a matrix \n",
        "\n",
        "new_mat = tf.constant([ [1. , 2.] , \n",
        "                       [3. , 4.], \n",
        "                       [5. , 6.]] , dtype = tf.float16)\n",
        "new_mat"
      ],
      "execution_count": null,
      "outputs": [
        {
          "output_type": "execute_result",
          "data": {
            "text/plain": [
              "<tf.Tensor: shape=(3, 2), dtype=float16, numpy=\n",
              "array([[1., 2.],\n",
              "       [3., 4.],\n",
              "       [5., 6.]], dtype=float16)>"
            ]
          },
          "metadata": {
            "tags": []
          },
          "execution_count": 8
        }
      ]
    },
    {
      "cell_type": "markdown",
      "metadata": {
        "id": "m2DNwS9kEnZZ"
      },
      "source": [
        "There's not huge difference between `dtype = float32` and `dtype = float16`, it's mostly focuses on the memory allocation. \n",
        "\n",
        "Where `dtype = float32` storing these takes up larger space whereas `dtype = float16` takes up less space. \n",
        "\n",
        "We can use this to debug **datatype errors** or tensors being in wrong datatype, using this could fix it.\n",
        "\n",
        "- Scalar --> Has 1 dimension\n",
        "- Vector --> Has 2 dimensions\n",
        "- Tensor --> Has 3 dimensions"
      ]
    },
    {
      "cell_type": "code",
      "metadata": {
        "colab": {
          "base_uri": "https://localhost:8080/"
        },
        "id": "fHRgWSh4GBTk",
        "outputId": "5b0985a0-91f6-4d59-d444-6ef0eee7d7ab"
      },
      "source": [
        "# Now checking the dimensions of the above matrix \n",
        "new_mat.ndim"
      ],
      "execution_count": null,
      "outputs": [
        {
          "output_type": "execute_result",
          "data": {
            "text/plain": [
              "2"
            ]
          },
          "metadata": {
            "tags": []
          },
          "execution_count": 9
        }
      ]
    },
    {
      "cell_type": "code",
      "metadata": {
        "colab": {
          "base_uri": "https://localhost:8080/"
        },
        "id": "4xf3EZqyGGbv",
        "outputId": "db94136d-2779-4868-91ea-530d05b5d738"
      },
      "source": [
        "# Creating a tensor with more dimension\n",
        "\n",
        "tensor = tf.constant([[[1 , 2 ,3],\n",
        "                       [4,5,6]],\n",
        "                      \n",
        "                      [[7 , 8 , 9],\n",
        "                       [10 , 11 , 12]],\n",
        "                      \n",
        "                      [[13 , 14 , 15] ,\n",
        "                       [16 , 17 , 18]]])\n",
        "tensor"
      ],
      "execution_count": null,
      "outputs": [
        {
          "output_type": "execute_result",
          "data": {
            "text/plain": [
              "<tf.Tensor: shape=(3, 2, 3), dtype=int32, numpy=\n",
              "array([[[ 1,  2,  3],\n",
              "        [ 4,  5,  6]],\n",
              "\n",
              "       [[ 7,  8,  9],\n",
              "        [10, 11, 12]],\n",
              "\n",
              "       [[13, 14, 15],\n",
              "        [16, 17, 18]]], dtype=int32)>"
            ]
          },
          "metadata": {
            "tags": []
          },
          "execution_count": 10
        }
      ]
    },
    {
      "cell_type": "code",
      "metadata": {
        "colab": {
          "base_uri": "https://localhost:8080/"
        },
        "id": "QaoNcFTrlJVf",
        "outputId": "e004a8ff-df49-4f17-c26a-b7abbd10d9ef"
      },
      "source": [
        "tensor.ndim"
      ],
      "execution_count": null,
      "outputs": [
        {
          "output_type": "execute_result",
          "data": {
            "text/plain": [
              "3"
            ]
          },
          "metadata": {
            "tags": []
          },
          "execution_count": 11
        }
      ]
    },
    {
      "cell_type": "markdown",
      "metadata": {
        "id": "I6H9I4eZlhtv"
      },
      "source": [
        "- Scalar : a single number \n",
        "- Vector : a number with direction \n",
        "- Matrix : a 2-dimensional array of numbers \n",
        "- Tensor : a n-dimensional array of numbers (where n can be any numbers)"
      ]
    },
    {
      "cell_type": "markdown",
      "metadata": {
        "id": "cXVRE-yxmGZF"
      },
      "source": [
        "#### **Using `tf.Variable` to create tensors** \n",
        "\n",
        "Let's call this changeable tensor, alike is Javascript using var brings us options on overwriitng or make changes to the tensor. \n",
        "\n",
        "But when we use const for creating a tensor, this reduces the chances of altering the tensor. "
      ]
    },
    {
      "cell_type": "code",
      "metadata": {
        "colab": {
          "base_uri": "https://localhost:8080/"
        },
        "id": "pGZMjjpHmNae",
        "outputId": "1be607bc-48e5-418f-a82d-50d3a38d565f"
      },
      "source": [
        "changeable_tensor = tf.Variable([10 , 4])\n",
        "\n",
        "# Creating one with constant\n",
        "unchangeable_tensor = tf.constant([10 , 4])\n",
        "\n",
        "changeable_tensor , unchangeable_tensor"
      ],
      "execution_count": null,
      "outputs": [
        {
          "output_type": "execute_result",
          "data": {
            "text/plain": [
              "(<tf.Variable 'Variable:0' shape=(2,) dtype=int32, numpy=array([10,  4], dtype=int32)>,\n",
              " <tf.Tensor: shape=(2,), dtype=int32, numpy=array([10,  4], dtype=int32)>)"
            ]
          },
          "metadata": {
            "tags": []
          },
          "execution_count": 12
        }
      ]
    },
    {
      "cell_type": "markdown",
      "metadata": {
        "id": "p3Li6KPioV4f"
      },
      "source": [
        "Making changes using `tf.Variable` using the `.assign()` function."
      ]
    },
    {
      "cell_type": "code",
      "metadata": {
        "colab": {
          "base_uri": "https://localhost:8080/"
        },
        "id": "cXKQJ6Beo2bT",
        "outputId": "2ca2e3c7-5651-421a-cdbc-8f6d9543966a"
      },
      "source": [
        "# Changing the value of the tensor \n",
        "changeable_tensor[0].assign(7)\n",
        "\n",
        "# Looking into our tensor after changes \n",
        "changeable_tensor"
      ],
      "execution_count": null,
      "outputs": [
        {
          "output_type": "execute_result",
          "data": {
            "text/plain": [
              "<tf.Variable 'Variable:0' shape=(2,) dtype=int32, numpy=array([7, 4], dtype=int32)>"
            ]
          },
          "metadata": {
            "tags": []
          },
          "execution_count": 13
        }
      ]
    },
    {
      "cell_type": "code",
      "metadata": {
        "id": "eqjQtXS4pASJ"
      },
      "source": [
        "# Now trying the same in our unchangeable_tensor \n",
        "\n",
        "# unchangeable_tensor[0].assign(7) Throws error, uncomment to check the error."
      ],
      "execution_count": null,
      "outputs": []
    },
    {
      "cell_type": "markdown",
      "metadata": {
        "id": "na53pmA_pyUR"
      },
      "source": [
        "Well it's obvious that we can't alter the tensor which are created using `tf.constant`. But why two ways of creating tensors exist even? \n",
        "\n",
        "Well while a Neural Net is been created, there are values should be changed whenever we want to and there should certain tensors locked up so that no one could make their changes on it. \n",
        "\n",
        "It might feel bit hectic, but good thing is that we need not to worry about assigning or structuring our neural net what values should it change and what it shouldn't. \n",
        "\n",
        "Behind the scenes these are taken care by TensorFlow."
      ]
    },
    {
      "cell_type": "markdown",
      "metadata": {
        "id": "bm4XCfD7qdQl"
      },
      "source": [
        "#### **Creating random tensors**\n",
        "\n",
        "Random tensors are tensors of some arbitary size which contain random numbers. "
      ]
    },
    {
      "cell_type": "code",
      "metadata": {
        "id": "FboHFuclqh50"
      },
      "source": [
        "# Creating 2 random (but same size)\n",
        "random_1 = tf.random.Generator.from_seed(42)\n",
        "random_2 = tf.random.Generator.from_seed(42)\n",
        "\n",
        "# Giving in the shapes of how we want our tensors \n",
        "random_1 = random_1.normal(shape = (3,2))\n",
        "random_2 = random_2.normal(shape = (3,2))"
      ],
      "execution_count": null,
      "outputs": []
    },
    {
      "cell_type": "code",
      "metadata": {
        "colab": {
          "base_uri": "https://localhost:8080/"
        },
        "id": "misoeMkCwbfW",
        "outputId": "22b8db11-d090-4f35-d3d9-0638ac1273f3"
      },
      "source": [
        "# Are they equal? \n",
        "\n",
        "random_1 , random_2 , random_1 == random_2"
      ],
      "execution_count": null,
      "outputs": [
        {
          "output_type": "execute_result",
          "data": {
            "text/plain": [
              "(<tf.Tensor: shape=(3, 2), dtype=float32, numpy=\n",
              " array([[-0.7565803 , -0.06854702],\n",
              "        [ 0.07595026, -1.2573844 ],\n",
              "        [-0.23193765, -1.8107855 ]], dtype=float32)>,\n",
              " <tf.Tensor: shape=(3, 2), dtype=float32, numpy=\n",
              " array([[-0.7565803 , -0.06854702],\n",
              "        [ 0.07595026, -1.2573844 ],\n",
              "        [-0.23193765, -1.8107855 ]], dtype=float32)>,\n",
              " <tf.Tensor: shape=(3, 2), dtype=bool, numpy=\n",
              " array([[ True,  True],\n",
              "        [ True,  True],\n",
              "        [ True,  True]])>)"
            ]
          },
          "metadata": {
            "tags": []
          },
          "execution_count": 16
        }
      ]
    },
    {
      "cell_type": "markdown",
      "metadata": {
        "id": "8ivMPJuTwhy_"
      },
      "source": [
        "Alright seems those two tensors are equal, but we asked for random tensors yet we got both of em equal, but why? \n",
        "\n",
        "In fact the values inside the random tensors aren't actually random, they are called as **pseudo values** which means they are getting geenrated because of the `from_seed()`.\n",
        "\n",
        "It seeds the combinations and tensors depending upon the number we put it, this is because to attain reproducibility.\n",
        "\n",
        "But how we fix this? If we can shuffle the order between them then they wont be identical. \n",
        "\n"
      ]
    },
    {
      "cell_type": "markdown",
      "metadata": {
        "id": "Ho52-cV0xiD5"
      },
      "source": [
        "#### **Shuffling the order of tensors**\n",
        "\n",
        "Shuffling comes in handy to prevent class Imbalance, which means if we fed images into a Neural Net in a strict plain order for instance, \n",
        "\n",
        "- Ramen (5000 pics)\n",
        "- Cookie (1000 pics) \n",
        "\n",
        "Reading the images starting from Ramen and ends all of the 5000 pics and jumps next to Cookie, this won't give much work to our weight assignment. \n",
        "\n",
        "But if we can shuffle the images, our weights would be able to learn different classes at the same time. \n",
        "\n",
        "Now let's shuffle our tensors, valuable for when we want to shuffle our data so the inherent order won't affect our learning."
      ]
    },
    {
      "cell_type": "code",
      "metadata": {
        "colab": {
          "base_uri": "https://localhost:8080/"
        },
        "id": "xXa_8er6zJay",
        "outputId": "e21ed4ac-d75b-4d3c-9071-be374727222e"
      },
      "source": [
        "# Creating a tensor to shuffle\n",
        "\n",
        "not_shuffled = tf.constant([[10 ,4],\n",
        "                            [9 , 3],\n",
        "                            [5 , 8]])\n",
        "\n",
        "not_shuffled , not_shuffled.ndim"
      ],
      "execution_count": null,
      "outputs": [
        {
          "output_type": "execute_result",
          "data": {
            "text/plain": [
              "(<tf.Tensor: shape=(3, 2), dtype=int32, numpy=\n",
              " array([[10,  4],\n",
              "        [ 9,  3],\n",
              "        [ 5,  8]], dtype=int32)>, 2)"
            ]
          },
          "metadata": {
            "tags": []
          },
          "execution_count": 17
        }
      ]
    },
    {
      "cell_type": "code",
      "metadata": {
        "colab": {
          "base_uri": "https://localhost:8080/"
        },
        "id": "3YdM9xrxz48Y",
        "outputId": "063b0701-e25f-4ac8-8ae9-dd4d30d22771"
      },
      "source": [
        "# Shuffling the tensor \n",
        "tf.random.shuffle(not_shuffled) # The order will be changed"
      ],
      "execution_count": null,
      "outputs": [
        {
          "output_type": "execute_result",
          "data": {
            "text/plain": [
              "<tf.Tensor: shape=(3, 2), dtype=int32, numpy=\n",
              "array([[ 9,  3],\n",
              "       [10,  4],\n",
              "       [ 5,  8]], dtype=int32)>"
            ]
          },
          "metadata": {
            "tags": []
          },
          "execution_count": 18
        }
      ]
    },
    {
      "cell_type": "code",
      "metadata": {
        "colab": {
          "base_uri": "https://localhost:8080/"
        },
        "id": "dSqBGrCX4NP1",
        "outputId": "ae9dd8ab-8d5f-45ff-9c74-bdd3eb7c5f45"
      },
      "source": [
        "tf.random.shuffle(not_shuffled) # The order will be changed"
      ],
      "execution_count": null,
      "outputs": [
        {
          "output_type": "execute_result",
          "data": {
            "text/plain": [
              "<tf.Tensor: shape=(3, 2), dtype=int32, numpy=\n",
              "array([[ 5,  8],\n",
              "       [10,  4],\n",
              "       [ 9,  3]], dtype=int32)>"
            ]
          },
          "metadata": {
            "tags": []
          },
          "execution_count": 19
        }
      ]
    },
    {
      "cell_type": "markdown",
      "metadata": {
        "id": "jt2SZqJO1M7k"
      },
      "source": [
        "If we look into the shuffled and not_shuffled tensors we could find a common pattern that,\n",
        "* Randomly shuffles a tensor along it's first dimension.\n",
        "\n",
        "Which means it just changes the order of the rows, not the whole of the values inside the tensor. \n",
        "\n",
        "Also if we notice the two cells above with the same code `tf.random.shuffle(not_shuffled)`, the order is changed everytime when we run the cell.\n",
        "\n",
        "**Using seed in the above shuffled example**"
      ]
    },
    {
      "cell_type": "code",
      "metadata": {
        "colab": {
          "base_uri": "https://localhost:8080/"
        },
        "id": "Z0WW-vEF4PuQ",
        "outputId": "51908f1f-f9f8-421d-8fa5-093cde0052ea"
      },
      "source": [
        "# Using the argument one \n",
        "tf.random.shuffle(not_shuffled , seed = 42)"
      ],
      "execution_count": null,
      "outputs": [
        {
          "output_type": "execute_result",
          "data": {
            "text/plain": [
              "<tf.Tensor: shape=(3, 2), dtype=int32, numpy=\n",
              "array([[ 5,  8],\n",
              "       [ 9,  3],\n",
              "       [10,  4]], dtype=int32)>"
            ]
          },
          "metadata": {
            "tags": []
          },
          "execution_count": 20
        }
      ]
    },
    {
      "cell_type": "code",
      "metadata": {
        "colab": {
          "base_uri": "https://localhost:8080/"
        },
        "id": "i9D3qU8W5h6H",
        "outputId": "eec7ee22-3ab4-4d52-a0a7-65efd4f8d002"
      },
      "source": [
        "# Using a funciton called set_seed\n",
        "tf.random.set_seed(42)\n",
        "tf.random.shuffle(not_shuffled)"
      ],
      "execution_count": null,
      "outputs": [
        {
          "output_type": "execute_result",
          "data": {
            "text/plain": [
              "<tf.Tensor: shape=(3, 2), dtype=int32, numpy=\n",
              "array([[ 9,  3],\n",
              "       [ 5,  8],\n",
              "       [10,  4]], dtype=int32)>"
            ]
          },
          "metadata": {
            "tags": []
          },
          "execution_count": 21
        }
      ]
    },
    {
      "cell_type": "code",
      "metadata": {
        "colab": {
          "base_uri": "https://localhost:8080/"
        },
        "id": "8TB_Ab245oOb",
        "outputId": "1c3b2bce-41a7-4101-abd0-acce21c333e7"
      },
      "source": [
        "# Creating 2 new tensor to play with \n",
        "\n",
        "#new_1_tensor = tf.random.Generator.from_seed(2)\n",
        "#new_2_tensor = tf.random.Generator.from_seed(2)\n",
        "\n",
        "# Now setting up the shape \n",
        "normal_tensor = tf.random.normal(shape = (3 , 2) , dtype = tf.float16) # (normal distributed values)\n",
        "uniform_tensor = tf.random.normal(shape= (3 , 2) ,  dtype = tf.float16) # (uniformly distributed values)\n",
        "\n",
        "normal_tensor , uniform_tensor\n"
      ],
      "execution_count": null,
      "outputs": [
        {
          "output_type": "execute_result",
          "data": {
            "text/plain": [
              "(<tf.Tensor: shape=(3, 2), dtype=float16, numpy=\n",
              " array([[ 0.0842  , -0.861   ],\n",
              "        [ 0.3782  , -0.005196],\n",
              "        [-0.4946  ,  0.6177  ]], dtype=float16)>,\n",
              " <tf.Tensor: shape=(3, 2), dtype=float16, numpy=\n",
              " array([[-0.559 , -0.5347],\n",
              "        [ 2.373 , -1.572 ],\n",
              "        [ 0.8057, -0.834 ]], dtype=float16)>)"
            ]
          },
          "metadata": {
            "tags": []
          },
          "execution_count": 22
        }
      ]
    },
    {
      "cell_type": "markdown",
      "metadata": {
        "id": "vsMPUhyY6gYx"
      },
      "source": [
        "From reading the documentations, I understood about `tf.random.set_seed()`  is,  whenever we write that at first and the following code inside that cell will be generated with the same seed state. \n",
        "\n",
        "\n"
      ]
    },
    {
      "cell_type": "code",
      "metadata": {
        "colab": {
          "base_uri": "https://localhost:8080/"
        },
        "id": "cz1EH1cX9G08",
        "outputId": "75eff350-fe03-4646-8851-a9fdd00d7c7e"
      },
      "source": [
        "# Let's shuffle them! \n",
        "\n",
        "tf.random.set_seed(59) # Setting the seed here\n",
        "\n",
        "# Shuffling \n",
        "norm_shuff = tf.random.shuffle(normal_tensor)\n",
        "uni_shuff = tf.random.shuffle(uniform_tensor)\n",
        "\n",
        "norm_shuff , uni_shuff"
      ],
      "execution_count": null,
      "outputs": [
        {
          "output_type": "execute_result",
          "data": {
            "text/plain": [
              "(<tf.Tensor: shape=(3, 2), dtype=float16, numpy=\n",
              " array([[ 0.3782  , -0.005196],\n",
              "        [-0.4946  ,  0.6177  ],\n",
              "        [ 0.0842  , -0.861   ]], dtype=float16)>,\n",
              " <tf.Tensor: shape=(3, 2), dtype=float16, numpy=\n",
              " array([[ 2.373 , -1.572 ],\n",
              "        [-0.559 , -0.5347],\n",
              "        [ 0.8057, -0.834 ]], dtype=float16)>)"
            ]
          },
          "metadata": {
            "tags": []
          },
          "execution_count": 23
        }
      ]
    },
    {
      "cell_type": "code",
      "metadata": {
        "colab": {
          "base_uri": "https://localhost:8080/"
        },
        "id": "vMuNqF4n9eUx",
        "outputId": "ef20df87-5f4f-4fa8-abdd-b2eba9eb2428"
      },
      "source": [
        "# Now using the argument one \n",
        "\n",
        "tf.random.shuffle(normal_tensor , seed = 32) , tf.random.shuffle(uniform_tensor , seed = 32)"
      ],
      "execution_count": null,
      "outputs": [
        {
          "output_type": "execute_result",
          "data": {
            "text/plain": [
              "(<tf.Tensor: shape=(3, 2), dtype=float16, numpy=\n",
              " array([[ 0.0842  , -0.861   ],\n",
              "        [ 0.3782  , -0.005196],\n",
              "        [-0.4946  ,  0.6177  ]], dtype=float16)>,\n",
              " <tf.Tensor: shape=(3, 2), dtype=float16, numpy=\n",
              " array([[-0.559 , -0.5347],\n",
              "        [ 0.8057, -0.834 ],\n",
              "        [ 2.373 , -1.572 ]], dtype=float16)>)"
            ]
          },
          "metadata": {
            "tags": []
          },
          "execution_count": 24
        }
      ]
    },
    {
      "cell_type": "code",
      "metadata": {
        "colab": {
          "base_uri": "https://localhost:8080/"
        },
        "id": "Co4hIHBYKP2d",
        "outputId": "6fa10327-ad36-44b9-b4c0-c2bc85da84bc"
      },
      "source": [
        "# Using global and operation level both in conjuction\n",
        "\n",
        "tf.random.set_seed(34) # Global level \n",
        "tf.random.shuffle(normal_tensor , seed=34)\n"
      ],
      "execution_count": null,
      "outputs": [
        {
          "output_type": "execute_result",
          "data": {
            "text/plain": [
              "<tf.Tensor: shape=(3, 2), dtype=float16, numpy=\n",
              "array([[ 0.0842  , -0.861   ],\n",
              "       [-0.4946  ,  0.6177  ],\n",
              "       [ 0.3782  , -0.005196]], dtype=float16)>"
            ]
          },
          "metadata": {
            "tags": []
          },
          "execution_count": 25
        }
      ]
    },
    {
      "cell_type": "markdown",
      "metadata": {
        "id": "DtgI1uJG_GLl"
      },
      "source": [
        "Alright summing up using, `tf.random.shuffle(any_tensor , seed = 32)` doesn't works. The results aren't reproducible. \n",
        "\n",
        "But when we use `tf.random.set_seed(42)`, the entire code written / wrapped inside that cell uses the seed rate and the results are reproducible. \n",
        "\n",
        "And using `tf.random.shuffle(any_tensor)` only shuffles the tensor along the **1st dimension**, which means just shuffles the rows. \n",
        "\n",
        "It look's like if we want our shuffled tensors to be in same order, we've got to use the global level and operation level random seed.\n",
        "\n",
        "> If both the global and the operation seed arse set: Both seeds are used in conjuction to determine the random sequence.\n"
      ]
    },
    {
      "cell_type": "markdown",
      "metadata": {
        "id": "59QNValTB7hC"
      },
      "source": [
        "#### **Creating Tensors from Numpy Array**\n",
        "\n",
        "Certain functions of Numpy are even in TensorFlow, will look at them. "
      ]
    },
    {
      "cell_type": "code",
      "metadata": {
        "colab": {
          "base_uri": "https://localhost:8080/"
        },
        "id": "ivJExPBiCxJD",
        "outputId": "dfff239b-fbc9-4cfa-b362-eef360e27d42"
      },
      "source": [
        "# Creating a tensor of all ones / Numpy (np.ones) \n",
        "\n",
        "tf.ones([10 , 4]) # Pass in the shape"
      ],
      "execution_count": null,
      "outputs": [
        {
          "output_type": "execute_result",
          "data": {
            "text/plain": [
              "<tf.Tensor: shape=(10, 4), dtype=float32, numpy=\n",
              "array([[1., 1., 1., 1.],\n",
              "       [1., 1., 1., 1.],\n",
              "       [1., 1., 1., 1.],\n",
              "       [1., 1., 1., 1.],\n",
              "       [1., 1., 1., 1.],\n",
              "       [1., 1., 1., 1.],\n",
              "       [1., 1., 1., 1.],\n",
              "       [1., 1., 1., 1.],\n",
              "       [1., 1., 1., 1.],\n",
              "       [1., 1., 1., 1.]], dtype=float32)>"
            ]
          },
          "metadata": {
            "tags": []
          },
          "execution_count": 26
        }
      ]
    },
    {
      "cell_type": "code",
      "metadata": {
        "colab": {
          "base_uri": "https://localhost:8080/"
        },
        "id": "u6f-pHoXMfhx",
        "outputId": "d0d60956-31bd-4a0a-c5d0-ecf9c97ac320"
      },
      "source": [
        "# Creating tensor for all zeros / Same numpy \n",
        "\n",
        "tf.zeros([8 , 5])"
      ],
      "execution_count": null,
      "outputs": [
        {
          "output_type": "execute_result",
          "data": {
            "text/plain": [
              "<tf.Tensor: shape=(8, 5), dtype=float32, numpy=\n",
              "array([[0., 0., 0., 0., 0.],\n",
              "       [0., 0., 0., 0., 0.],\n",
              "       [0., 0., 0., 0., 0.],\n",
              "       [0., 0., 0., 0., 0.],\n",
              "       [0., 0., 0., 0., 0.],\n",
              "       [0., 0., 0., 0., 0.],\n",
              "       [0., 0., 0., 0., 0.],\n",
              "       [0., 0., 0., 0., 0.]], dtype=float32)>"
            ]
          },
          "metadata": {
            "tags": []
          },
          "execution_count": 27
        }
      ]
    },
    {
      "cell_type": "markdown",
      "metadata": {
        "id": "GncbIpm-NbRs"
      },
      "source": [
        "**X** ---> Capital for matrix and tensors.\n",
        "**y** ----> non-capital for vector."
      ]
    },
    {
      "cell_type": "code",
      "metadata": {
        "colab": {
          "base_uri": "https://localhost:8080/"
        },
        "id": "u9fczDo3Mqnf",
        "outputId": "80465292-ee81-44cd-d25c-271fe15395fa"
      },
      "source": [
        "# Turning numpy array into tensors\n",
        "import numpy as np\n",
        "numpy_A = np.arange(1 , 25 , dtype = np.float32)\n",
        "numpy_A"
      ],
      "execution_count": null,
      "outputs": [
        {
          "output_type": "execute_result",
          "data": {
            "text/plain": [
              "array([ 1.,  2.,  3.,  4.,  5.,  6.,  7.,  8.,  9., 10., 11., 12., 13.,\n",
              "       14., 15., 16., 17., 18., 19., 20., 21., 22., 23., 24.],\n",
              "      dtype=float32)"
            ]
          },
          "metadata": {
            "tags": []
          },
          "execution_count": 28
        }
      ]
    },
    {
      "cell_type": "code",
      "metadata": {
        "colab": {
          "base_uri": "https://localhost:8080/"
        },
        "id": "Fi_YHGzsOMxK",
        "outputId": "8a69d8f6-f820-4718-a368-6a8de5c023d5"
      },
      "source": [
        "# Putting into tf.constant converting into tensor\n",
        "tf.constant(numpy_A)"
      ],
      "execution_count": null,
      "outputs": [
        {
          "output_type": "execute_result",
          "data": {
            "text/plain": [
              "<tf.Tensor: shape=(24,), dtype=float32, numpy=\n",
              "array([ 1.,  2.,  3.,  4.,  5.,  6.,  7.,  8.,  9., 10., 11., 12., 13.,\n",
              "       14., 15., 16., 17., 18., 19., 20., 21., 22., 23., 24.],\n",
              "      dtype=float32)>"
            ]
          },
          "metadata": {
            "tags": []
          },
          "execution_count": 29
        }
      ]
    },
    {
      "cell_type": "code",
      "metadata": {
        "colab": {
          "base_uri": "https://localhost:8080/"
        },
        "id": "vXHVFyYRPAjH",
        "outputId": "145976d3-ce72-481b-ec31-0535498536af"
      },
      "source": [
        "# Now using our desired shape as we need \n",
        "\n",
        "A = tf.constant(numpy_A , shape = (2 ,4 ,3))\n",
        "B = tf.constant(numpy_A)\n",
        "\n",
        "A , B"
      ],
      "execution_count": null,
      "outputs": [
        {
          "output_type": "execute_result",
          "data": {
            "text/plain": [
              "(<tf.Tensor: shape=(2, 4, 3), dtype=float32, numpy=\n",
              " array([[[ 1.,  2.,  3.],\n",
              "         [ 4.,  5.,  6.],\n",
              "         [ 7.,  8.,  9.],\n",
              "         [10., 11., 12.]],\n",
              " \n",
              "        [[13., 14., 15.],\n",
              "         [16., 17., 18.],\n",
              "         [19., 20., 21.],\n",
              "         [22., 23., 24.]]], dtype=float32)>,\n",
              " <tf.Tensor: shape=(24,), dtype=float32, numpy=\n",
              " array([ 1.,  2.,  3.,  4.,  5.,  6.,  7.,  8.,  9., 10., 11., 12., 13.,\n",
              "        14., 15., 16., 17., 18., 19., 20., 21., 22., 23., 24.],\n",
              "       dtype=float32)>)"
            ]
          },
          "metadata": {
            "tags": []
          },
          "execution_count": 30
        }
      ]
    },
    {
      "cell_type": "code",
      "metadata": {
        "colab": {
          "base_uri": "https://localhost:8080/"
        },
        "id": "A9xLIyU0PX_I",
        "outputId": "b6e1107e-522c-496d-8737-831ccb87dfd2"
      },
      "source": [
        "tf.constant(numpy_A , shape = (3 , 8))\n"
      ],
      "execution_count": null,
      "outputs": [
        {
          "output_type": "execute_result",
          "data": {
            "text/plain": [
              "<tf.Tensor: shape=(3, 8), dtype=float32, numpy=\n",
              "array([[ 1.,  2.,  3.,  4.,  5.,  6.,  7.,  8.],\n",
              "       [ 9., 10., 11., 12., 13., 14., 15., 16.],\n",
              "       [17., 18., 19., 20., 21., 22., 23., 24.]], dtype=float32)>"
            ]
          },
          "metadata": {
            "tags": []
          },
          "execution_count": 31
        }
      ]
    },
    {
      "cell_type": "markdown",
      "metadata": {
        "id": "EkcwiNsLQhFP"
      },
      "source": [
        "If we look above, the shape should be decided with respect to the number of elements available in total. \n",
        "\n",
        "For instance, above we got **24 elements** and Creating different shapes we gotta makse sure are they equal when we multilply them"
      ]
    },
    {
      "cell_type": "markdown",
      "metadata": {
        "id": "gdN_zCmyRE-y"
      },
      "source": [
        "#### **Getting information from the tensors --> Tensor Attributes**\n",
        "\n",
        "The common attributes we gotta keep an eye out are: \n",
        "- Shape \n",
        "- Rank \n",
        "- Size \n",
        "- Axis or dimension"
      ]
    },
    {
      "cell_type": "code",
      "metadata": {
        "colab": {
          "base_uri": "https://localhost:8080/"
        },
        "id": "uyJUw_yocER4",
        "outputId": "473aaafd-b9d5-4248-e9d7-860f1b8a032f"
      },
      "source": [
        "# Creating a rank 4 tensor \n",
        "\n",
        "rank_4_tensor = tf.zeros(shape = [2 , 3 , 4 ,5])\n",
        "rank_4_tensor"
      ],
      "execution_count": null,
      "outputs": [
        {
          "output_type": "execute_result",
          "data": {
            "text/plain": [
              "<tf.Tensor: shape=(2, 3, 4, 5), dtype=float32, numpy=\n",
              "array([[[[0., 0., 0., 0., 0.],\n",
              "         [0., 0., 0., 0., 0.],\n",
              "         [0., 0., 0., 0., 0.],\n",
              "         [0., 0., 0., 0., 0.]],\n",
              "\n",
              "        [[0., 0., 0., 0., 0.],\n",
              "         [0., 0., 0., 0., 0.],\n",
              "         [0., 0., 0., 0., 0.],\n",
              "         [0., 0., 0., 0., 0.]],\n",
              "\n",
              "        [[0., 0., 0., 0., 0.],\n",
              "         [0., 0., 0., 0., 0.],\n",
              "         [0., 0., 0., 0., 0.],\n",
              "         [0., 0., 0., 0., 0.]]],\n",
              "\n",
              "\n",
              "       [[[0., 0., 0., 0., 0.],\n",
              "         [0., 0., 0., 0., 0.],\n",
              "         [0., 0., 0., 0., 0.],\n",
              "         [0., 0., 0., 0., 0.]],\n",
              "\n",
              "        [[0., 0., 0., 0., 0.],\n",
              "         [0., 0., 0., 0., 0.],\n",
              "         [0., 0., 0., 0., 0.],\n",
              "         [0., 0., 0., 0., 0.]],\n",
              "\n",
              "        [[0., 0., 0., 0., 0.],\n",
              "         [0., 0., 0., 0., 0.],\n",
              "         [0., 0., 0., 0., 0.],\n",
              "         [0., 0., 0., 0., 0.]]]], dtype=float32)>"
            ]
          },
          "metadata": {
            "tags": []
          },
          "execution_count": 32
        }
      ]
    },
    {
      "cell_type": "code",
      "metadata": {
        "colab": {
          "base_uri": "https://localhost:8080/"
        },
        "id": "uw1VdCI3d1wi",
        "outputId": "e4303223-eace-4eee-8bf6-1e310f2200e2"
      },
      "source": [
        "# Indexing into the above tensor \n",
        "rank_4_tensor[0]"
      ],
      "execution_count": null,
      "outputs": [
        {
          "output_type": "execute_result",
          "data": {
            "text/plain": [
              "<tf.Tensor: shape=(3, 4, 5), dtype=float32, numpy=\n",
              "array([[[0., 0., 0., 0., 0.],\n",
              "        [0., 0., 0., 0., 0.],\n",
              "        [0., 0., 0., 0., 0.],\n",
              "        [0., 0., 0., 0., 0.]],\n",
              "\n",
              "       [[0., 0., 0., 0., 0.],\n",
              "        [0., 0., 0., 0., 0.],\n",
              "        [0., 0., 0., 0., 0.],\n",
              "        [0., 0., 0., 0., 0.]],\n",
              "\n",
              "       [[0., 0., 0., 0., 0.],\n",
              "        [0., 0., 0., 0., 0.],\n",
              "        [0., 0., 0., 0., 0.],\n",
              "        [0., 0., 0., 0., 0.]]], dtype=float32)>"
            ]
          },
          "metadata": {
            "tags": []
          },
          "execution_count": 33
        }
      ]
    },
    {
      "cell_type": "code",
      "metadata": {
        "id": "xM4rb9bfeYMg"
      },
      "source": [
        "# Printing out certain attributes for the above tensor \n",
        "\n",
        "def tensor_attr_print(a_tensor):\n",
        "  '''\n",
        "  Print's out different attribures of a tensor\n",
        "  '''\n",
        "  rank_4_tensor = a_tensor\n",
        "  print(f'Elements along the 0th axis: {rank_4_tensor.shape[0]}')\n",
        "  print(f'Elements along the last axis: {rank_4_tensor.shape[-1]}')\n",
        "  print(f'Datatype of every element: {rank_4_tensor.dtype}')\n",
        "\n",
        "  print(f'The shape of the tensor is: {rank_4_tensor.shape}')\n",
        "  print(f'The dimension of the tensor is: {rank_4_tensor.ndim}')\n",
        "  print(f'The size of the tensor(total no. of elements in the tensor): {tf.size(rank_4_tensor)}')"
      ],
      "execution_count": null,
      "outputs": []
    },
    {
      "cell_type": "code",
      "metadata": {
        "colab": {
          "base_uri": "https://localhost:8080/"
        },
        "id": "geu-hYoCjLyT",
        "outputId": "efc51c25-0f2e-4953-e9b0-3b49957a173f"
      },
      "source": [
        "tensor_attr_print(rank_4_tensor)"
      ],
      "execution_count": null,
      "outputs": [
        {
          "output_type": "stream",
          "text": [
            "Elements along the 0th axis: 2\n",
            "Elements along the last axis: 5\n",
            "Datatype of every element: <dtype: 'float32'>\n",
            "The shape of the tensor is: (2, 3, 4, 5)\n",
            "The dimension of the tensor is: 4\n",
            "The size of the tensor(total no. of elements in the tensor): 120\n"
          ],
          "name": "stdout"
        }
      ]
    },
    {
      "cell_type": "markdown",
      "metadata": {
        "id": "JBQVf95YlJNR"
      },
      "source": [
        "#### **Indexing and expanding tensors**\n",
        "\n",
        "Tensors can be indexed just like Python list's"
      ]
    },
    {
      "cell_type": "code",
      "metadata": {
        "colab": {
          "base_uri": "https://localhost:8080/"
        },
        "id": "Moov0_v7mRA4",
        "outputId": "506cabbe-37e8-4194-bcb6-070ac78531b0"
      },
      "source": [
        "# Get the first 2 elements of each dimensions\n",
        "rank_4_tensor[:2 , :2 , :2 , :2]"
      ],
      "execution_count": null,
      "outputs": [
        {
          "output_type": "execute_result",
          "data": {
            "text/plain": [
              "<tf.Tensor: shape=(2, 2, 2, 2), dtype=float32, numpy=\n",
              "array([[[[0., 0.],\n",
              "         [0., 0.]],\n",
              "\n",
              "        [[0., 0.],\n",
              "         [0., 0.]]],\n",
              "\n",
              "\n",
              "       [[[0., 0.],\n",
              "         [0., 0.]],\n",
              "\n",
              "        [[0., 0.],\n",
              "         [0., 0.]]]], dtype=float32)>"
            ]
          },
          "metadata": {
            "tags": []
          },
          "execution_count": 36
        }
      ]
    },
    {
      "cell_type": "code",
      "metadata": {
        "colab": {
          "base_uri": "https://localhost:8080/"
        },
        "id": "zbunELvzqSWC",
        "outputId": "6d1ba830-66e7-4533-f375-b0c8ff42492a"
      },
      "source": [
        "rank_4_tensor.shape"
      ],
      "execution_count": null,
      "outputs": [
        {
          "output_type": "execute_result",
          "data": {
            "text/plain": [
              "TensorShape([2, 3, 4, 5])"
            ]
          },
          "metadata": {
            "tags": []
          },
          "execution_count": 37
        }
      ]
    },
    {
      "cell_type": "code",
      "metadata": {
        "colab": {
          "base_uri": "https://localhost:8080/"
        },
        "id": "e73S7C_gqEf7",
        "outputId": "d2fc0e2d-17e2-41d0-f5f3-b89e3480b80b"
      },
      "source": [
        "# Get the first element from each dimensionn from each index except for the final one \n",
        "\n",
        "rank_4_tensor[:1 , :1 , :1 , :] "
      ],
      "execution_count": null,
      "outputs": [
        {
          "output_type": "execute_result",
          "data": {
            "text/plain": [
              "<tf.Tensor: shape=(1, 1, 1, 5), dtype=float32, numpy=array([[[[0., 0., 0., 0., 0.]]]], dtype=float32)>"
            ]
          },
          "metadata": {
            "tags": []
          },
          "execution_count": 38
        }
      ]
    },
    {
      "cell_type": "code",
      "metadata": {
        "colab": {
          "base_uri": "https://localhost:8080/"
        },
        "id": "AlFRlWDrpMsA",
        "outputId": "d6da8e41-a8fa-4657-8aa3-19095a9f0e7f"
      },
      "source": [
        "rank_4_tensor[:1 , :1 , : , :1] # Since the shape is 4"
      ],
      "execution_count": null,
      "outputs": [
        {
          "output_type": "execute_result",
          "data": {
            "text/plain": [
              "<tf.Tensor: shape=(1, 1, 4, 1), dtype=float32, numpy=\n",
              "array([[[[0.],\n",
              "         [0.],\n",
              "         [0.],\n",
              "         [0.]]]], dtype=float32)>"
            ]
          },
          "metadata": {
            "tags": []
          },
          "execution_count": 39
        }
      ]
    },
    {
      "cell_type": "code",
      "metadata": {
        "colab": {
          "base_uri": "https://localhost:8080/"
        },
        "id": "dagva509q7J0",
        "outputId": "ace30900-6e52-48aa-fb3c-d0950a6dbf9e"
      },
      "source": [
        "rank_4_tensor[:1 , : , :1 , :1] # Since the shape is 3"
      ],
      "execution_count": null,
      "outputs": [
        {
          "output_type": "execute_result",
          "data": {
            "text/plain": [
              "<tf.Tensor: shape=(1, 3, 1, 1), dtype=float32, numpy=\n",
              "array([[[[0.]],\n",
              "\n",
              "        [[0.]],\n",
              "\n",
              "        [[0.]]]], dtype=float32)>"
            ]
          },
          "metadata": {
            "tags": []
          },
          "execution_count": 40
        }
      ]
    },
    {
      "cell_type": "code",
      "metadata": {
        "colab": {
          "base_uri": "https://localhost:8080/"
        },
        "id": "YnvjlVAvq-9P",
        "outputId": "2a32d637-d0bf-4870-e87c-8e0bbf6de8b8"
      },
      "source": [
        "# Creating a rank 2 tensor\n",
        "\n",
        "rank_2_tensor = tf.constant([[10 , 11] , \n",
        "                             [9 , 5]])\n",
        "rank_2_tensor"
      ],
      "execution_count": null,
      "outputs": [
        {
          "output_type": "execute_result",
          "data": {
            "text/plain": [
              "<tf.Tensor: shape=(2, 2), dtype=int32, numpy=\n",
              "array([[10, 11],\n",
              "       [ 9,  5]], dtype=int32)>"
            ]
          },
          "metadata": {
            "tags": []
          },
          "execution_count": 41
        }
      ]
    },
    {
      "cell_type": "code",
      "metadata": {
        "colab": {
          "base_uri": "https://localhost:8080/"
        },
        "id": "6bjjUjcIrsLl",
        "outputId": "b0f81995-8026-4cff-ca12-8e39a5c24875"
      },
      "source": [
        "# Getting some attributes about the rank_2_tensor\n",
        "tensor_attr_print(rank_2_tensor)"
      ],
      "execution_count": null,
      "outputs": [
        {
          "output_type": "stream",
          "text": [
            "Elements along the 0th axis: 2\n",
            "Elements along the last axis: 2\n",
            "Datatype of every element: <dtype: 'int32'>\n",
            "The shape of the tensor is: (2, 2)\n",
            "The dimension of the tensor is: 2\n",
            "The size of the tensor(total no. of elements in the tensor): 4\n"
          ],
          "name": "stdout"
        }
      ]
    },
    {
      "cell_type": "code",
      "metadata": {
        "colab": {
          "base_uri": "https://localhost:8080/"
        },
        "id": "XMvtQ3YbsHXK",
        "outputId": "d7852d7e-b894-4a8a-ec56-4250213eac2f"
      },
      "source": [
        "# Get the last item of each row out of rank 2 tensors\n",
        "rank_2_tensor[: , -1]"
      ],
      "execution_count": null,
      "outputs": [
        {
          "output_type": "execute_result",
          "data": {
            "text/plain": [
              "<tf.Tensor: shape=(2,), dtype=int32, numpy=array([11,  5], dtype=int32)>"
            ]
          },
          "metadata": {
            "tags": []
          },
          "execution_count": 43
        }
      ]
    },
    {
      "cell_type": "markdown",
      "metadata": {
        "id": "fYEaR0Q-sgll"
      },
      "source": [
        "Adding another dimension to a tensor by storing exactly the information on `rank_3_tensor` using `tf.newaxis`\n",
        "\n",
        "- `...` --> every axis before the last one.\n",
        "- `tf.newaxis` --> add a newaxis at the end\n"
      ]
    },
    {
      "cell_type": "code",
      "metadata": {
        "colab": {
          "base_uri": "https://localhost:8080/"
        },
        "id": "yQisqNo1szVA",
        "outputId": "3a4b9a0f-e6e8-4a3a-bb80-29163e2033b0"
      },
      "source": [
        "# Turning rank 2 into rank 3 tensor\n",
        "rank_3_tensor = rank_2_tensor[... , tf.newaxis]\n",
        "rank_3_tensor"
      ],
      "execution_count": null,
      "outputs": [
        {
          "output_type": "execute_result",
          "data": {
            "text/plain": [
              "<tf.Tensor: shape=(2, 2, 1), dtype=int32, numpy=\n",
              "array([[[10],\n",
              "        [11]],\n",
              "\n",
              "       [[ 9],\n",
              "        [ 5]]], dtype=int32)>"
            ]
          },
          "metadata": {
            "tags": []
          },
          "execution_count": 44
        }
      ]
    },
    {
      "cell_type": "markdown",
      "metadata": {
        "id": "uC1fYAKI4cZl"
      },
      "source": [
        "There is an alternative to `tf.newaxis` which is called as `tf.expand_dims()`."
      ]
    },
    {
      "cell_type": "code",
      "metadata": {
        "colab": {
          "base_uri": "https://localhost:8080/"
        },
        "id": "ezb302eR5r5E",
        "outputId": "b3cf6761-2ce4-4877-d924-9d9583e37efa"
      },
      "source": [
        "# Using tf.expand_dims \n",
        "\n",
        "tf.expand_dims(rank_2_tensor , axis=-1) # -1 means expand at the final axis."
      ],
      "execution_count": null,
      "outputs": [
        {
          "output_type": "execute_result",
          "data": {
            "text/plain": [
              "<tf.Tensor: shape=(2, 2, 1), dtype=int32, numpy=\n",
              "array([[[10],\n",
              "        [11]],\n",
              "\n",
              "       [[ 9],\n",
              "        [ 5]]], dtype=int32)>"
            ]
          },
          "metadata": {
            "tags": []
          },
          "execution_count": 45
        }
      ]
    },
    {
      "cell_type": "code",
      "metadata": {
        "colab": {
          "base_uri": "https://localhost:8080/"
        },
        "id": "bpkH2_iE56x9",
        "outputId": "fc4dbc52-7384-4e62-e6be-1e1205f69016"
      },
      "source": [
        "tf.expand_dims(rank_2_tensor , axis = 0) # expand the 0th axis"
      ],
      "execution_count": null,
      "outputs": [
        {
          "output_type": "execute_result",
          "data": {
            "text/plain": [
              "<tf.Tensor: shape=(1, 2, 2), dtype=int32, numpy=\n",
              "array([[[10, 11],\n",
              "        [ 9,  5]]], dtype=int32)>"
            ]
          },
          "metadata": {
            "tags": []
          },
          "execution_count": 46
        }
      ]
    },
    {
      "cell_type": "markdown",
      "metadata": {
        "id": "JpdexdqZ6KnL"
      },
      "source": [
        "The information remains the same, but the way of storing them changes."
      ]
    },
    {
      "cell_type": "markdown",
      "metadata": {
        "id": "_nCiHlsR6YZ3"
      },
      "source": [
        "#### **Manipulating Tensors (Tensor Operations)**\n",
        "\n",
        "**Basic Operations**\n",
        "- `+`\n",
        "- `-`\n",
        "- `*` etc..\n",
        "\n",
        "We can add values to a tensor using the addition operator"
      ]
    },
    {
      "cell_type": "code",
      "metadata": {
        "colab": {
          "base_uri": "https://localhost:8080/"
        },
        "id": "f50-3DhS6uRg",
        "outputId": "d5cdbd99-4c15-4593-ea08-bd2c6a5a3075"
      },
      "source": [
        "# Using the addition operator\n",
        "tensor = tf.constant([[10 , 7] , \n",
        "                      [9 , 4]])\n",
        "\n",
        "tensor + 10 # Adding + 10 to our tensor, it adds every element in a tensor"
      ],
      "execution_count": null,
      "outputs": [
        {
          "output_type": "execute_result",
          "data": {
            "text/plain": [
              "<tf.Tensor: shape=(2, 2), dtype=int32, numpy=\n",
              "array([[20, 17],\n",
              "       [19, 14]], dtype=int32)>"
            ]
          },
          "metadata": {
            "tags": []
          },
          "execution_count": 47
        }
      ]
    },
    {
      "cell_type": "code",
      "metadata": {
        "colab": {
          "base_uri": "https://localhost:8080/"
        },
        "id": "txCBvmdj7Wa3",
        "outputId": "ac2d5a43-8f70-4544-b4be-eeb94f724985"
      },
      "source": [
        "# Trying out multiplication and subtraction\n",
        "tensor * 2 , tensor - 4"
      ],
      "execution_count": null,
      "outputs": [
        {
          "output_type": "execute_result",
          "data": {
            "text/plain": [
              "(<tf.Tensor: shape=(2, 2), dtype=int32, numpy=\n",
              " array([[20, 14],\n",
              "        [18,  8]], dtype=int32)>, <tf.Tensor: shape=(2, 2), dtype=int32, numpy=\n",
              " array([[6, 3],\n",
              "        [5, 0]], dtype=int32)>)"
            ]
          },
          "metadata": {
            "tags": []
          },
          "execution_count": 48
        }
      ]
    },
    {
      "cell_type": "markdown",
      "metadata": {
        "id": "b3ImiuXg7sjb"
      },
      "source": [
        "We can also use built-in tensorflow functions"
      ]
    },
    {
      "cell_type": "code",
      "metadata": {
        "colab": {
          "base_uri": "https://localhost:8080/"
        },
        "id": "Pmq_drFJ8HkG",
        "outputId": "d9a7f4c8-0b6a-4d67-bb76-7f119bce9409"
      },
      "source": [
        "# For multiplication \n",
        "tf.math.multiply(tensor , 10) # (one number , another number to multiply)"
      ],
      "execution_count": null,
      "outputs": [
        {
          "output_type": "execute_result",
          "data": {
            "text/plain": [
              "<tf.Tensor: shape=(2, 2), dtype=int32, numpy=\n",
              "array([[100,  70],\n",
              "       [ 90,  40]], dtype=int32)>"
            ]
          },
          "metadata": {
            "tags": []
          },
          "execution_count": 49
        }
      ]
    },
    {
      "cell_type": "code",
      "metadata": {
        "colab": {
          "base_uri": "https://localhost:8080/"
        },
        "id": "kwF6jq0x85Cb",
        "outputId": "e380ef97-6c4a-4b0f-8a1a-bf6d4d3018b5"
      },
      "source": [
        "# Using tf.add and subtract \n",
        "\n",
        "tf.math.add(tensor , 30) , tf.math.subtract(tensor , 303)"
      ],
      "execution_count": null,
      "outputs": [
        {
          "output_type": "execute_result",
          "data": {
            "text/plain": [
              "(<tf.Tensor: shape=(2, 2), dtype=int32, numpy=\n",
              " array([[40, 37],\n",
              "        [39, 34]], dtype=int32)>, <tf.Tensor: shape=(2, 2), dtype=int32, numpy=\n",
              " array([[-293, -296],\n",
              "        [-294, -299]], dtype=int32)>)"
            ]
          },
          "metadata": {
            "tags": []
          },
          "execution_count": 50
        }
      ]
    },
    {
      "cell_type": "code",
      "metadata": {
        "colab": {
          "base_uri": "https://localhost:8080/"
        },
        "id": "9hF_btnw85H_",
        "outputId": "f7624e25-7bc2-47cc-d36b-e63c708c6240"
      },
      "source": [
        "# Getting the tan of our tensor \n",
        "x = tf.constant([-float(\"inf\"), -5, -0.004, 5, 3.2, 23400, 1000000, float(\"inf\")])\n",
        "\n",
        "tf.math.tan(x)"
      ],
      "execution_count": null,
      "outputs": [
        {
          "output_type": "execute_result",
          "data": {
            "text/plain": [
              "<tf.Tensor: shape=(8,), dtype=float32, numpy=\n",
              "array([           nan,  3.3805151e+00, -4.0000216e-03, -3.3805151e+00,\n",
              "        5.8473900e-02,  6.4900270e+00, -3.7362447e-01,            nan],\n",
              "      dtype=float32)>"
            ]
          },
          "metadata": {
            "tags": []
          },
          "execution_count": 51
        }
      ]
    },
    {
      "cell_type": "markdown",
      "metadata": {
        "id": "e5naieYk8PTH"
      },
      "source": [
        "#### **Matrix Multiplication**\n",
        "\n",
        "In machine learning, matrix multiplication is one of the most common tensor operations.\n",
        "\n",
        "There are two rules our tensors (or matrices) need to fulfil if we are going to use matrix multiplication. \n",
        "\n",
        "* The inner dimensions should match.\n",
        "* The resulting matrix has the shape of the outer dimensions. \n"
      ]
    },
    {
      "cell_type": "code",
      "metadata": {
        "colab": {
          "base_uri": "https://localhost:8080/"
        },
        "id": "qwnXKd-H82KO",
        "outputId": "1fb37788-0421-4657-fda7-ad9a7eedc2d8"
      },
      "source": [
        "# For matrix multi we use tf.linalg.matmul , Using Tensorflow\n",
        "\n",
        "print(tensor)\n",
        "tf.linalg.matmul(tensor , tensor) # multiplying both tensors "
      ],
      "execution_count": null,
      "outputs": [
        {
          "output_type": "stream",
          "text": [
            "tf.Tensor(\n",
            "[[10  7]\n",
            " [ 9  4]], shape=(2, 2), dtype=int32)\n"
          ],
          "name": "stdout"
        },
        {
          "output_type": "execute_result",
          "data": {
            "text/plain": [
              "<tf.Tensor: shape=(2, 2), dtype=int32, numpy=\n",
              "array([[163,  98],\n",
              "       [126,  79]], dtype=int32)>"
            ]
          },
          "metadata": {
            "tags": []
          },
          "execution_count": 52
        }
      ]
    },
    {
      "cell_type": "code",
      "metadata": {
        "colab": {
          "base_uri": "https://localhost:8080/"
        },
        "id": "6-NTp4YdBELb",
        "outputId": "0553145e-5ec6-4653-fd86-e30b71faa01c"
      },
      "source": [
        "# Trying basic * operator \n",
        "\n",
        "tensor * tensor # doesn't perform matrix way of multiplying"
      ],
      "execution_count": null,
      "outputs": [
        {
          "output_type": "execute_result",
          "data": {
            "text/plain": [
              "<tf.Tensor: shape=(2, 2), dtype=int32, numpy=\n",
              "array([[100,  49],\n",
              "       [ 81,  16]], dtype=int32)>"
            ]
          },
          "metadata": {
            "tags": []
          },
          "execution_count": 53
        }
      ]
    },
    {
      "cell_type": "code",
      "metadata": {
        "colab": {
          "base_uri": "https://localhost:8080/"
        },
        "id": "GOGVZ88XAxWf",
        "outputId": "62a8e6ce-e1f2-43c2-eb69-c67d3c7c7f67"
      },
      "source": [
        "# Matrix Multiplication with Python operator @\n",
        "\n",
        "tensor @ tensor # @ --> matrix mutliplication"
      ],
      "execution_count": null,
      "outputs": [
        {
          "output_type": "execute_result",
          "data": {
            "text/plain": [
              "<tf.Tensor: shape=(2, 2), dtype=int32, numpy=\n",
              "array([[163,  98],\n",
              "       [126,  79]], dtype=int32)>"
            ]
          },
          "metadata": {
            "tags": []
          },
          "execution_count": 54
        }
      ]
    },
    {
      "cell_type": "code",
      "metadata": {
        "colab": {
          "base_uri": "https://localhost:8080/"
        },
        "id": "NUudrsgxBRHT",
        "outputId": "24aa0cb3-f882-43d0-c63c-4f8799db4f91"
      },
      "source": [
        "# Recreating tensors from matrix multiplication.xyz \n",
        "\n",
        "a = tf.constant([[1 , 2 ,5], \n",
        "                 [7 , 2 , 1],\n",
        "                 [3, 3, 3]])\n",
        "\n",
        "b = tf.constant([[3 , 5] , \n",
        "                 [6 , 7], \n",
        "                 [1 , 8]])\n",
        "\n",
        "# Using matmul \n",
        "tf.linalg.matmul(a , b)"
      ],
      "execution_count": null,
      "outputs": [
        {
          "output_type": "execute_result",
          "data": {
            "text/plain": [
              "<tf.Tensor: shape=(3, 2), dtype=int32, numpy=\n",
              "array([[20, 59],\n",
              "       [34, 57],\n",
              "       [30, 60]], dtype=int32)>"
            ]
          },
          "metadata": {
            "tags": []
          },
          "execution_count": 55
        }
      ]
    },
    {
      "cell_type": "markdown",
      "metadata": {
        "id": "15LSV2b4BlB3"
      },
      "source": [
        "Performing matrix multiplication on tensors with different shape. "
      ]
    },
    {
      "cell_type": "code",
      "metadata": {
        "colab": {
          "base_uri": "https://localhost:8080/"
        },
        "id": "XuaLIh7tCP0K",
        "outputId": "086dd5b0-4a2b-4f7d-f13b-344900947d45"
      },
      "source": [
        "# Create a tensor of (3 , 4) an (4 , 6)\n",
        "\n",
        "a = tf.constant([[1 , 2 ,3 ,4] , \n",
        "                [4 , 6, 1 , 100] , \n",
        "                 [58 , 5 , 0 , 3]])\n",
        "\n",
        "b =  tf.constant([[1 , 2 ,3 ,4 , 5 , 3 ] , \n",
        "                [4 , 6, 1 , 100 , 5 , 0] , \n",
        "                 [58 , 5 , 0 , 3 , 1 , 303] , \n",
        "                  [0 , 2 , 3 ,5 , 2 , 8]])\n",
        "a , b\n"
      ],
      "execution_count": null,
      "outputs": [
        {
          "output_type": "execute_result",
          "data": {
            "text/plain": [
              "(<tf.Tensor: shape=(3, 4), dtype=int32, numpy=\n",
              " array([[  1,   2,   3,   4],\n",
              "        [  4,   6,   1, 100],\n",
              "        [ 58,   5,   0,   3]], dtype=int32)>,\n",
              " <tf.Tensor: shape=(4, 6), dtype=int32, numpy=\n",
              " array([[  1,   2,   3,   4,   5,   3],\n",
              "        [  4,   6,   1, 100,   5,   0],\n",
              "        [ 58,   5,   0,   3,   1, 303],\n",
              "        [  0,   2,   3,   5,   2,   8]], dtype=int32)>)"
            ]
          },
          "metadata": {
            "tags": []
          },
          "execution_count": 56
        }
      ]
    },
    {
      "cell_type": "code",
      "metadata": {
        "colab": {
          "base_uri": "https://localhost:8080/"
        },
        "id": "H2_t3ZmhC2wY",
        "outputId": "9e0927fa-b904-40d0-840d-4883c76ba407"
      },
      "source": [
        "# Using matmul \n",
        "tf.linalg.matmul(a , b)"
      ],
      "execution_count": null,
      "outputs": [
        {
          "output_type": "execute_result",
          "data": {
            "text/plain": [
              "<tf.Tensor: shape=(3, 6), dtype=int32, numpy=\n",
              "array([[ 183,   37,   17,  233,   26,  944],\n",
              "       [  86,  249,  318, 1119,  251, 1115],\n",
              "       [  78,  152,  188,  747,  321,  198]], dtype=int32)>"
            ]
          },
          "metadata": {
            "tags": []
          },
          "execution_count": 57
        }
      ]
    },
    {
      "cell_type": "code",
      "metadata": {
        "colab": {
          "base_uri": "https://localhost:8080/"
        },
        "id": "o5Ufv2XQDMkk",
        "outputId": "63d4c651-9b2c-4ad9-a38c-f334dd6de037"
      },
      "source": [
        "# Using @  \n",
        "a @ b # Slow compared to tensorflow function"
      ],
      "execution_count": null,
      "outputs": [
        {
          "output_type": "execute_result",
          "data": {
            "text/plain": [
              "<tf.Tensor: shape=(3, 6), dtype=int32, numpy=\n",
              "array([[ 183,   37,   17,  233,   26,  944],\n",
              "       [  86,  249,  318, 1119,  251, 1115],\n",
              "       [  78,  152,  188,  747,  321,  198]], dtype=int32)>"
            ]
          },
          "metadata": {
            "tags": []
          },
          "execution_count": 58
        }
      ]
    },
    {
      "cell_type": "markdown",
      "metadata": {
        "id": "gD1LEhBnDmMd"
      },
      "source": [
        "Trying with tensor of same size "
      ]
    },
    {
      "cell_type": "code",
      "metadata": {
        "colab": {
          "base_uri": "https://localhost:8080/"
        },
        "id": "0vnKBC6JDtqv",
        "outputId": "771ef977-89ad-434c-c1d0-06d5430b3ad5"
      },
      "source": [
        "# Two tensors of (3, 2)  \n",
        "\n",
        "x = tf.constant([[1 , 2] , \n",
        "                 [3 , 4] , \n",
        "                 [9 , 2]])\n",
        "\n",
        "y = tf.constant([[5 , 6] , \n",
        "                 [8 , 9] , \n",
        "                 [3 , 2]])\n",
        "\n",
        "x , y  # same size "
      ],
      "execution_count": null,
      "outputs": [
        {
          "output_type": "execute_result",
          "data": {
            "text/plain": [
              "(<tf.Tensor: shape=(3, 2), dtype=int32, numpy=\n",
              " array([[1, 2],\n",
              "        [3, 4],\n",
              "        [9, 2]], dtype=int32)>, <tf.Tensor: shape=(3, 2), dtype=int32, numpy=\n",
              " array([[5, 6],\n",
              "        [8, 9],\n",
              "        [3, 2]], dtype=int32)>)"
            ]
          },
          "metadata": {
            "tags": []
          },
          "execution_count": 59
        }
      ]
    },
    {
      "cell_type": "code",
      "metadata": {
        "id": "xHn0J4XOD55G"
      },
      "source": [
        "# Trying to matix multiply using @ \n",
        "# x @ y  --> throws error"
      ],
      "execution_count": null,
      "outputs": []
    },
    {
      "cell_type": "code",
      "metadata": {
        "id": "-WVvtXl6EDvE"
      },
      "source": [
        "# Using matmul\n",
        "\n",
        "# tf.matmul(x , y) # Throws an error"
      ],
      "execution_count": null,
      "outputs": []
    },
    {
      "cell_type": "markdown",
      "metadata": {
        "id": "GrKGojxQFhGX"
      },
      "source": [
        "Will try to use `tf.reshape` to change the shape of the tensor, so that it's inner dimensions matches.\n"
      ]
    },
    {
      "cell_type": "code",
      "metadata": {
        "colab": {
          "base_uri": "https://localhost:8080/"
        },
        "id": "A8C_1dIllXw2",
        "outputId": "c2ed62e6-57cf-470f-8e3d-db9980fb96fa"
      },
      "source": [
        "y"
      ],
      "execution_count": null,
      "outputs": [
        {
          "output_type": "execute_result",
          "data": {
            "text/plain": [
              "<tf.Tensor: shape=(3, 2), dtype=int32, numpy=\n",
              "array([[5, 6],\n",
              "       [8, 9],\n",
              "       [3, 2]], dtype=int32)>"
            ]
          },
          "metadata": {
            "tags": []
          },
          "execution_count": 62
        }
      ]
    },
    {
      "cell_type": "code",
      "metadata": {
        "colab": {
          "base_uri": "https://localhost:8080/"
        },
        "id": "RFPPKWDRlR6b",
        "outputId": "bb39e9f1-94a0-4cf4-92fc-76c06db43a36"
      },
      "source": [
        "# Changing the shape \n",
        "y_changed = tf.reshape(y , shape=(2 , 3))\n",
        "y_changed"
      ],
      "execution_count": null,
      "outputs": [
        {
          "output_type": "execute_result",
          "data": {
            "text/plain": [
              "<tf.Tensor: shape=(2, 3), dtype=int32, numpy=\n",
              "array([[5, 6, 8],\n",
              "       [9, 3, 2]], dtype=int32)>"
            ]
          },
          "metadata": {
            "tags": []
          },
          "execution_count": 63
        }
      ]
    },
    {
      "cell_type": "code",
      "metadata": {
        "colab": {
          "base_uri": "https://localhost:8080/"
        },
        "id": "FiOQ4mV4lvLv",
        "outputId": "2db68ffb-311c-4960-fe97-05163ad3f41f"
      },
      "source": [
        "x.shape , y_changed.shape # Inner dimensions match"
      ],
      "execution_count": null,
      "outputs": [
        {
          "output_type": "execute_result",
          "data": {
            "text/plain": [
              "(TensorShape([3, 2]), TensorShape([2, 3]))"
            ]
          },
          "metadata": {
            "tags": []
          },
          "execution_count": 64
        }
      ]
    },
    {
      "cell_type": "code",
      "metadata": {
        "colab": {
          "base_uri": "https://localhost:8080/"
        },
        "id": "mkZJVpXhlewg",
        "outputId": "53a33667-8a42-4a9c-88a5-ef9e48eb05b8"
      },
      "source": [
        "# Now multiplying \n",
        "\n",
        "x @ y_changed"
      ],
      "execution_count": null,
      "outputs": [
        {
          "output_type": "execute_result",
          "data": {
            "text/plain": [
              "<tf.Tensor: shape=(3, 3), dtype=int32, numpy=\n",
              "array([[23, 12, 12],\n",
              "       [51, 30, 32],\n",
              "       [63, 60, 76]], dtype=int32)>"
            ]
          },
          "metadata": {
            "tags": []
          },
          "execution_count": 65
        }
      ]
    },
    {
      "cell_type": "code",
      "metadata": {
        "colab": {
          "base_uri": "https://localhost:8080/"
        },
        "id": "WIA3tamVl6OD",
        "outputId": "df5b78ac-5ffe-4f83-a486-ae6751c690e7"
      },
      "source": [
        "# Using matmul \n",
        "\n",
        "tf.linalg.matmul(x , y_changed)"
      ],
      "execution_count": null,
      "outputs": [
        {
          "output_type": "execute_result",
          "data": {
            "text/plain": [
              "<tf.Tensor: shape=(3, 3), dtype=int32, numpy=\n",
              "array([[23, 12, 12],\n",
              "       [51, 30, 32],\n",
              "       [63, 60, 76]], dtype=int32)>"
            ]
          },
          "metadata": {
            "tags": []
          },
          "execution_count": 66
        }
      ]
    },
    {
      "cell_type": "code",
      "metadata": {
        "colab": {
          "base_uri": "https://localhost:8080/"
        },
        "id": "cKSZPcVAmUWN",
        "outputId": "7e0a6707-c78d-4c42-e6e4-e0149a1a0853"
      },
      "source": [
        "x.shape , y.shape"
      ],
      "execution_count": null,
      "outputs": [
        {
          "output_type": "execute_result",
          "data": {
            "text/plain": [
              "(TensorShape([3, 2]), TensorShape([3, 2]))"
            ]
          },
          "metadata": {
            "tags": []
          },
          "execution_count": 67
        }
      ]
    },
    {
      "cell_type": "code",
      "metadata": {
        "colab": {
          "base_uri": "https://localhost:8080/"
        },
        "id": "y0Ba7M5rmChp",
        "outputId": "18a4eada-3342-4ac7-822f-67cda4ef6528"
      },
      "source": [
        "# Now changing x instead of y \n",
        "tf.matmul(tf.reshape(x , shape=(2 , 3)) , y)"
      ],
      "execution_count": null,
      "outputs": [
        {
          "output_type": "execute_result",
          "data": {
            "text/plain": [
              "<tf.Tensor: shape=(2, 2), dtype=int32, numpy=\n",
              "array([[ 30,  30],\n",
              "       [ 98, 109]], dtype=int32)>"
            ]
          },
          "metadata": {
            "tags": []
          },
          "execution_count": 68
        }
      ]
    },
    {
      "cell_type": "code",
      "metadata": {
        "colab": {
          "base_uri": "https://localhost:8080/"
        },
        "id": "puZk4JHMmOaY",
        "outputId": "1f4d009f-3562-43bd-e137-c0efb5c48c78"
      },
      "source": [
        "# But why 2x2 matrix ? \n",
        "tf.reshape(x , shape=(2 ,3)).shape , y.shape"
      ],
      "execution_count": null,
      "outputs": [
        {
          "output_type": "execute_result",
          "data": {
            "text/plain": [
              "(TensorShape([2, 3]), TensorShape([3, 2]))"
            ]
          },
          "metadata": {
            "tags": []
          },
          "execution_count": 69
        }
      ]
    },
    {
      "cell_type": "markdown",
      "metadata": {
        "id": "OKRCgJ1kmsDl"
      },
      "source": [
        "Using `tf.transpose` which flips the axis. \n",
        "\n",
        "`tf.reshape` --> shuffles the tensor to reshape the tensor along."
      ]
    },
    {
      "cell_type": "code",
      "metadata": {
        "colab": {
          "base_uri": "https://localhost:8080/"
        },
        "id": "Kl0T5O9pn8yX",
        "outputId": "3413cba0-786f-4e85-a8ad-bc61f07df6ad"
      },
      "source": [
        "# Using transpose and performing matrix multi\n",
        "\n",
        "tf.linalg.matmul(x , tf.transpose(y))"
      ],
      "execution_count": null,
      "outputs": [
        {
          "output_type": "execute_result",
          "data": {
            "text/plain": [
              "<tf.Tensor: shape=(3, 3), dtype=int32, numpy=\n",
              "array([[17, 26,  7],\n",
              "       [39, 60, 17],\n",
              "       [57, 90, 31]], dtype=int32)>"
            ]
          },
          "metadata": {
            "tags": []
          },
          "execution_count": 70
        }
      ]
    },
    {
      "cell_type": "markdown",
      "metadata": {
        "id": "vZ_89kb9oUei"
      },
      "source": [
        "**The Dot Product**\n",
        "\n",
        "Matrix multiplication is also reffered to as dot product. We can perform matrix multiplication using:\n",
        "\n",
        "- `tf.matmul(a , b)`\n",
        "- `tf.tensordot()` does similar"
      ]
    },
    {
      "cell_type": "code",
      "metadata": {
        "colab": {
          "base_uri": "https://localhost:8080/"
        },
        "id": "IeyWxRBsprRn",
        "outputId": "b6316fd2-5917-46c4-919e-d5e294b6db63"
      },
      "source": [
        "# Perform the dot product on X and Y (requires X to be transposed)\n",
        "\n",
        "tf.tensordot(tf.transpose(x) , y , axes = 1)"
      ],
      "execution_count": null,
      "outputs": [
        {
          "output_type": "execute_result",
          "data": {
            "text/plain": [
              "<tf.Tensor: shape=(2, 2), dtype=int32, numpy=\n",
              "array([[56, 51],\n",
              "       [48, 52]], dtype=int32)>"
            ]
          },
          "metadata": {
            "tags": []
          },
          "execution_count": 71
        }
      ]
    },
    {
      "cell_type": "code",
      "metadata": {
        "colab": {
          "base_uri": "https://localhost:8080/"
        },
        "id": "YFNCp-jKsZ0_",
        "outputId": "9327a132-3279-4b27-f9aa-1de87ae538e1"
      },
      "source": [
        "# Perform a matrix multiplication between x and y (transpose)\n",
        "\n",
        "tf.linalg.matmul(x , tf.transpose(y))"
      ],
      "execution_count": null,
      "outputs": [
        {
          "output_type": "execute_result",
          "data": {
            "text/plain": [
              "<tf.Tensor: shape=(3, 3), dtype=int32, numpy=\n",
              "array([[17, 26,  7],\n",
              "       [39, 60, 17],\n",
              "       [57, 90, 31]], dtype=int32)>"
            ]
          },
          "metadata": {
            "tags": []
          },
          "execution_count": 72
        }
      ]
    },
    {
      "cell_type": "code",
      "metadata": {
        "colab": {
          "base_uri": "https://localhost:8080/"
        },
        "id": "GDevNUQku3Z3",
        "outputId": "6ba9a81a-894f-46ad-a144-60a8350a234a"
      },
      "source": [
        "# Perform a matrix multiplication between x and y (reshape)\n",
        "\n",
        "tf.linalg.matmul(x , tf.reshape(y , shape= (2 , 3)))"
      ],
      "execution_count": null,
      "outputs": [
        {
          "output_type": "execute_result",
          "data": {
            "text/plain": [
              "<tf.Tensor: shape=(3, 3), dtype=int32, numpy=\n",
              "array([[23, 12, 12],\n",
              "       [51, 30, 32],\n",
              "       [63, 60, 76]], dtype=int32)>"
            ]
          },
          "metadata": {
            "tags": []
          },
          "execution_count": 73
        }
      ]
    },
    {
      "cell_type": "code",
      "metadata": {
        "colab": {
          "base_uri": "https://localhost:8080/"
        },
        "id": "C6uRypQwvNwy",
        "outputId": "44a8aca3-ee94-48f9-a10a-a0fba840ea94"
      },
      "source": [
        "# Debugging \n",
        "\n",
        "# Normal y \n",
        "print(f'This is the normal y: ')\n",
        "print(y , '\\n')\n",
        "\n",
        "# Transposed y \n",
        "print('This is the transposed y: ')\n",
        "print(tf.transpose(y) , '\\n')\n",
        "\n",
        "# Reshaped y \n",
        "print('This is the reshaped y: ')\n",
        "print(tf.reshape(y , shape=(2 ,3)) , '\\n')"
      ],
      "execution_count": null,
      "outputs": [
        {
          "output_type": "stream",
          "text": [
            "This is the normal y: \n",
            "tf.Tensor(\n",
            "[[5 6]\n",
            " [8 9]\n",
            " [3 2]], shape=(3, 2), dtype=int32) \n",
            "\n",
            "This is the transposed y: \n",
            "tf.Tensor(\n",
            "[[5 8 3]\n",
            " [6 9 2]], shape=(2, 3), dtype=int32) \n",
            "\n",
            "This is the reshaped y: \n",
            "tf.Tensor(\n",
            "[[5 6 8]\n",
            " [9 3 2]], shape=(2, 3), dtype=int32) \n",
            "\n"
          ],
          "name": "stdout"
        }
      ]
    },
    {
      "cell_type": "markdown",
      "metadata": {
        "id": "tUMtWqr6vwgP"
      },
      "source": [
        "Generally, when performing matrix multiplication on two tensors and one of them axes doesn't line up, we will transpose (rather than reshape) the tensors to get satisfy the matrix multiplication."
      ]
    },
    {
      "cell_type": "markdown",
      "metadata": {
        "id": "YzYJ4dZJxzWB"
      },
      "source": [
        "#### **Changing the datatype of tensors**\n",
        "\n",
        "There will be times where we gotta change the datatype of our tensor.\n",
        "\n",
        "This is common when you want to compute using less precision (e.g. 16-bit floating point numbers vs. 32-bit floating point numbers).\n",
        "\n",
        "Computing with less precision is useful on devices with less computing capacity such as mobile devices (because the less bits, the less space the computations require)."
      ]
    },
    {
      "cell_type": "code",
      "metadata": {
        "colab": {
          "base_uri": "https://localhost:8080/"
        },
        "id": "2JBotgZt-_v0",
        "outputId": "83d64334-616a-421a-a92b-b5eeb1d5905d"
      },
      "source": [
        "# Create a new tensor with default dtype (float32)\n",
        "\n",
        "A = tf.constant([1.9 , 5]) # got one floating value\n",
        "A.dtype"
      ],
      "execution_count": null,
      "outputs": [
        {
          "output_type": "execute_result",
          "data": {
            "text/plain": [
              "tf.float32"
            ]
          },
          "metadata": {
            "tags": []
          },
          "execution_count": 75
        }
      ]
    },
    {
      "cell_type": "code",
      "metadata": {
        "colab": {
          "base_uri": "https://localhost:8080/"
        },
        "id": "6ItHk4qN_QBC",
        "outputId": "00a017f9-9ee1-40e7-9084-b30d61cede8f"
      },
      "source": [
        "B = tf.constant([1 , 3])\n",
        "B.dtype # No floating value "
      ],
      "execution_count": null,
      "outputs": [
        {
          "output_type": "execute_result",
          "data": {
            "text/plain": [
              "tf.int32"
            ]
          },
          "metadata": {
            "tags": []
          },
          "execution_count": 76
        }
      ]
    },
    {
      "cell_type": "markdown",
      "metadata": {
        "id": "wGOXxtcq_Vjd"
      },
      "source": [
        "If the tensor has floating values in it, the tensor will be considered as a `float32` tensor. And when we got only integers then the dtype will be `int32`."
      ]
    },
    {
      "cell_type": "code",
      "metadata": {
        "colab": {
          "base_uri": "https://localhost:8080/"
        },
        "id": "uOHDiPHP_7MI",
        "outputId": "e5e57595-b2ba-4798-ed3e-5758b3cb0076"
      },
      "source": [
        "# Change from float32 to float16 -- called reduced precision\n",
        "# We can change the dtype using tf.cast\n",
        "\n",
        "A_cast = tf.cast(A , dtype=tf.float16)\n",
        "\n",
        "# Checking the dtype after casting vs before casting\n",
        "A_cast.dtype , A.dtype\n"
      ],
      "execution_count": null,
      "outputs": [
        {
          "output_type": "execute_result",
          "data": {
            "text/plain": [
              "(tf.float16, tf.float32)"
            ]
          },
          "metadata": {
            "tags": []
          },
          "execution_count": 77
        }
      ]
    },
    {
      "cell_type": "markdown",
      "metadata": {
        "id": "ThYODI9oAyJj"
      },
      "source": [
        "By deducing from `float32` to `float16` for quite a million of tensor means we have halved the memory allocation of those tensors. More like easing things for our GPU not putting loads of memory on it."
      ]
    },
    {
      "cell_type": "code",
      "metadata": {
        "colab": {
          "base_uri": "https://localhost:8080/"
        },
        "id": "MwVVtFGmBKmg",
        "outputId": "938f9fe0-09b1-4644-ba5e-76e336d16392"
      },
      "source": [
        "# Change from int32 to float32 \n",
        "\n",
        "print('Before Casting')\n",
        "print(B.dtype , '\\n')\n",
        "\n",
        "print('After Casting')\n",
        "E = tf.cast(B , dtype=tf.float16)\n",
        "print(E.dtype , '\\n')"
      ],
      "execution_count": null,
      "outputs": [
        {
          "output_type": "stream",
          "text": [
            "Before Casting\n",
            "<dtype: 'int32'> \n",
            "\n",
            "After Casting\n",
            "<dtype: 'float16'> \n",
            "\n"
          ],
          "name": "stdout"
        }
      ]
    },
    {
      "cell_type": "markdown",
      "metadata": {
        "id": "x-41n5jyHl9q"
      },
      "source": [
        "#### **Aggregating Tensors**\n",
        "\n",
        "*Aggregating Tensors* --> Condensing them from multiple values down to a smaller amount of values."
      ]
    },
    {
      "cell_type": "code",
      "metadata": {
        "colab": {
          "base_uri": "https://localhost:8080/"
        },
        "id": "BHnRYJypJDc2",
        "outputId": "ab65f288-f5d3-4f53-d94b-d1b279d94bc6"
      },
      "source": [
        "# Creating a tensor \n",
        "\n",
        "new_tensor = tf.constant([[1 , -39 , -23] , \n",
        "                          [-12 , 2 , -1]])\n",
        "new_tensor"
      ],
      "execution_count": null,
      "outputs": [
        {
          "output_type": "execute_result",
          "data": {
            "text/plain": [
              "<tf.Tensor: shape=(2, 3), dtype=int32, numpy=\n",
              "array([[  1, -39, -23],\n",
              "       [-12,   2,  -1]], dtype=int32)>"
            ]
          },
          "metadata": {
            "tags": []
          },
          "execution_count": 79
        }
      ]
    },
    {
      "cell_type": "code",
      "metadata": {
        "colab": {
          "base_uri": "https://localhost:8080/"
        },
        "id": "yVqoCpE3NaxD",
        "outputId": "293d75f0-543e-4910-c5b7-7c496d990668"
      },
      "source": [
        "# Getting the absolute values \n",
        "# abs --> remove -ve replaced by +ve of that value. \n",
        "\n",
        "tf.abs(new_tensor)"
      ],
      "execution_count": null,
      "outputs": [
        {
          "output_type": "execute_result",
          "data": {
            "text/plain": [
              "<tf.Tensor: shape=(2, 3), dtype=int32, numpy=\n",
              "array([[ 1, 39, 23],\n",
              "       [12,  2,  1]], dtype=int32)>"
            ]
          },
          "metadata": {
            "tags": []
          },
          "execution_count": 80
        }
      ]
    },
    {
      "cell_type": "markdown",
      "metadata": {
        "id": "C7M6yw7zNj95"
      },
      "source": [
        "Let's go through the following forms of aggregation: \n",
        "\n",
        "* Get the minimum \n",
        "* Get the maximum\n",
        "* Get the mean of a tensor\n",
        "* Get the sum of a tensor"
      ]
    },
    {
      "cell_type": "code",
      "metadata": {
        "colab": {
          "base_uri": "https://localhost:8080/"
        },
        "id": "XiNGw5mzO9i1",
        "outputId": "a8f9b3c5-0f63-4cee-db72-af2dd29ca1a7"
      },
      "source": [
        "# Using a new tensor \n",
        "\n",
        "agg_tensor = tf.constant(np.random.randint(0 , 100 , 50))\n",
        "agg_tensor"
      ],
      "execution_count": null,
      "outputs": [
        {
          "output_type": "execute_result",
          "data": {
            "text/plain": [
              "<tf.Tensor: shape=(50,), dtype=int64, numpy=\n",
              "array([66, 23,  2,  9, 82, 43, 31, 13, 77, 59, 16, 48, 42,  0, 42, 81, 45,\n",
              "        6, 56, 75, 21, 30, 39, 78, 89,  9, 68, 74, 72, 86, 71, 96, 85,  2,\n",
              "       16, 61, 77, 33, 10, 42, 79, 96, 20, 51, 35, 18, 30, 44, 72, 20])>"
            ]
          },
          "metadata": {
            "tags": []
          },
          "execution_count": 81
        }
      ]
    },
    {
      "cell_type": "code",
      "metadata": {
        "colab": {
          "base_uri": "https://localhost:8080/"
        },
        "id": "Ugk1MjwzN_8d",
        "outputId": "30d64811-3d63-40f3-f2bb-62fee448e6b6"
      },
      "source": [
        "# Getting the minimum \n",
        "\n",
        "tf.math.reduce_min(agg_tensor)"
      ],
      "execution_count": null,
      "outputs": [
        {
          "output_type": "execute_result",
          "data": {
            "text/plain": [
              "<tf.Tensor: shape=(), dtype=int64, numpy=0>"
            ]
          },
          "metadata": {
            "tags": []
          },
          "execution_count": 82
        }
      ]
    },
    {
      "cell_type": "code",
      "metadata": {
        "colab": {
          "base_uri": "https://localhost:8080/"
        },
        "id": "Zfxgw7y8OZZ7",
        "outputId": "d168b42a-7c85-4f75-cd19-2837e1c00e03"
      },
      "source": [
        "# Getting the maximum \n",
        "tf.math.reduce_max(agg_tensor)"
      ],
      "execution_count": null,
      "outputs": [
        {
          "output_type": "execute_result",
          "data": {
            "text/plain": [
              "<tf.Tensor: shape=(), dtype=int64, numpy=96>"
            ]
          },
          "metadata": {
            "tags": []
          },
          "execution_count": 83
        }
      ]
    },
    {
      "cell_type": "code",
      "metadata": {
        "colab": {
          "base_uri": "https://localhost:8080/"
        },
        "id": "t5nc6KH_Olzt",
        "outputId": "9778b762-4de0-44a8-aa6a-82bd64598518"
      },
      "source": [
        "# Getting the mean of a tensor \n",
        "tf.math.reduce_mean(agg_tensor)"
      ],
      "execution_count": null,
      "outputs": [
        {
          "output_type": "execute_result",
          "data": {
            "text/plain": [
              "<tf.Tensor: shape=(), dtype=int64, numpy=46>"
            ]
          },
          "metadata": {
            "tags": []
          },
          "execution_count": 84
        }
      ]
    },
    {
      "cell_type": "code",
      "metadata": {
        "colab": {
          "base_uri": "https://localhost:8080/"
        },
        "id": "pTfKDmtWOrc9",
        "outputId": "4eb9ee74-aa69-4256-e7c0-fe3934c91e83"
      },
      "source": [
        "# Getting the sum of a tensor \n",
        "tf.math.reduce_sum(agg_tensor)"
      ],
      "execution_count": null,
      "outputs": [
        {
          "output_type": "execute_result",
          "data": {
            "text/plain": [
              "<tf.Tensor: shape=(), dtype=int64, numpy=2340>"
            ]
          },
          "metadata": {
            "tags": []
          },
          "execution_count": 85
        }
      ]
    },
    {
      "cell_type": "code",
      "metadata": {
        "colab": {
          "base_uri": "https://localhost:8080/"
        },
        "id": "JA5qZtaHOwkf",
        "outputId": "5030d90c-a901-4164-ab30-547b7752b130"
      },
      "source": [
        "# Getting the variance in our tensor \n",
        "# Variance --> denotes the spread in our data\n",
        "\n",
        "tf.math.reduce_variance(tf.cast(agg_tensor , dtype = tf.float16))"
      ],
      "execution_count": null,
      "outputs": [
        {
          "output_type": "execute_result",
          "data": {
            "text/plain": [
              "<tf.Tensor: shape=(), dtype=float16, numpy=809.0>"
            ]
          },
          "metadata": {
            "tags": []
          },
          "execution_count": 86
        }
      ]
    },
    {
      "cell_type": "code",
      "metadata": {
        "colab": {
          "base_uri": "https://localhost:8080/"
        },
        "id": "HkvaCDtBPkbw",
        "outputId": "250a375c-3456-43cb-f18d-c67d9176b288"
      },
      "source": [
        "# Getting the standard deivation of our tensor \n",
        "\n",
        "tf.math.reduce_std(tf.cast(agg_tensor , dtype = tf.float16))"
      ],
      "execution_count": null,
      "outputs": [
        {
          "output_type": "execute_result",
          "data": {
            "text/plain": [
              "<tf.Tensor: shape=(), dtype=float16, numpy=28.44>"
            ]
          },
          "metadata": {
            "tags": []
          },
          "execution_count": 87
        }
      ]
    },
    {
      "cell_type": "markdown",
      "metadata": {
        "id": "--d9O6vqQvQE"
      },
      "source": [
        "#### **Finding the positional maximum and minimum**\n",
        "\n",
        "Will help us to find at which index or row of a tensor does the maximum or minimum value occur. It gives back the index of the value which can be used during our ouput representation."
      ]
    },
    {
      "cell_type": "code",
      "metadata": {
        "colab": {
          "base_uri": "https://localhost:8080/"
        },
        "id": "D46iPEdhC5yc",
        "outputId": "38a6aaf7-adfc-495e-99d6-a947bf3e2025"
      },
      "source": [
        "# Creating a new tensor \n",
        "\n",
        "tf.random.set_seed(42)\n",
        "out = tf.random.uniform(shape=[50])\n",
        "out"
      ],
      "execution_count": null,
      "outputs": [
        {
          "output_type": "execute_result",
          "data": {
            "text/plain": [
              "<tf.Tensor: shape=(50,), dtype=float32, numpy=\n",
              "array([0.6645621 , 0.44100678, 0.3528825 , 0.46448255, 0.03366041,\n",
              "       0.68467236, 0.74011743, 0.8724445 , 0.22632635, 0.22319686,\n",
              "       0.3103881 , 0.7223358 , 0.13318717, 0.5480639 , 0.5746088 ,\n",
              "       0.8996835 , 0.00946367, 0.5212307 , 0.6345445 , 0.1993283 ,\n",
              "       0.72942245, 0.54583454, 0.10756552, 0.6767061 , 0.6602763 ,\n",
              "       0.33695042, 0.60141766, 0.21062577, 0.8527372 , 0.44062173,\n",
              "       0.9485276 , 0.23752594, 0.81179297, 0.5263394 , 0.494308  ,\n",
              "       0.21612847, 0.8457197 , 0.8718841 , 0.3083862 , 0.6868038 ,\n",
              "       0.23764038, 0.7817228 , 0.9671384 , 0.06870162, 0.79873943,\n",
              "       0.66028714, 0.5871513 , 0.16461694, 0.7381023 , 0.32054043],\n",
              "      dtype=float32)>"
            ]
          },
          "metadata": {
            "tags": []
          },
          "execution_count": 88
        }
      ]
    },
    {
      "cell_type": "code",
      "metadata": {
        "colab": {
          "base_uri": "https://localhost:8080/"
        },
        "id": "vvgs7fveDNSr",
        "outputId": "3780eeee-461b-41af-d735-89fbf7f89a75"
      },
      "source": [
        "# Finding the positional maximum --> gives out the output\n",
        "\n",
        "tf.argmax(out)"
      ],
      "execution_count": null,
      "outputs": [
        {
          "output_type": "execute_result",
          "data": {
            "text/plain": [
              "<tf.Tensor: shape=(), dtype=int64, numpy=42>"
            ]
          },
          "metadata": {
            "tags": []
          },
          "execution_count": 89
        }
      ]
    },
    {
      "cell_type": "code",
      "metadata": {
        "colab": {
          "base_uri": "https://localhost:8080/"
        },
        "id": "tZ-c9JVZDzsb",
        "outputId": "8d3104a7-e968-440c-d9ad-4b2f6ed51d54"
      },
      "source": [
        "# Now getting the exact values \n",
        "out[tf.argmax(out)]"
      ],
      "execution_count": null,
      "outputs": [
        {
          "output_type": "execute_result",
          "data": {
            "text/plain": [
              "<tf.Tensor: shape=(), dtype=float32, numpy=0.9671384>"
            ]
          },
          "metadata": {
            "tags": []
          },
          "execution_count": 90
        }
      ]
    },
    {
      "cell_type": "code",
      "metadata": {
        "colab": {
          "base_uri": "https://localhost:8080/"
        },
        "id": "Lk3dyUO9D6M8",
        "outputId": "f78b5b8f-5898-4d5a-c06e-2bb72e854448"
      },
      "source": [
        "# Cross checking \n",
        "\n",
        "tf.math.reduce_max(out)"
      ],
      "execution_count": null,
      "outputs": [
        {
          "output_type": "execute_result",
          "data": {
            "text/plain": [
              "<tf.Tensor: shape=(), dtype=float32, numpy=0.9671384>"
            ]
          },
          "metadata": {
            "tags": []
          },
          "execution_count": 91
        }
      ]
    },
    {
      "cell_type": "code",
      "metadata": {
        "id": "eE0s80qhECKQ"
      },
      "source": [
        "# Checking for equality \n",
        "# assert --> throws error if not equal \n",
        "\n",
        "assert out[tf.argmax(out)] == tf.math.reduce_max(out)"
      ],
      "execution_count": null,
      "outputs": []
    },
    {
      "cell_type": "code",
      "metadata": {
        "colab": {
          "base_uri": "https://localhost:8080/"
        },
        "id": "yhau3_A5EPrs",
        "outputId": "1aa2cd3d-e445-4776-a2d8-aaa6892d32fd"
      },
      "source": [
        "# Find the positional minimum\n",
        "out[tf.argmin(out)]"
      ],
      "execution_count": null,
      "outputs": [
        {
          "output_type": "execute_result",
          "data": {
            "text/plain": [
              "<tf.Tensor: shape=(), dtype=float32, numpy=0.009463668>"
            ]
          },
          "metadata": {
            "tags": []
          },
          "execution_count": 93
        }
      ]
    },
    {
      "cell_type": "markdown",
      "metadata": {
        "id": "A5rDSgCJGTBK"
      },
      "source": [
        "#### **Squeezing a tensor (removing all 1-dimension axes)**"
      ]
    },
    {
      "cell_type": "code",
      "metadata": {
        "colab": {
          "base_uri": "https://localhost:8080/"
        },
        "id": "xiQ_GL-7Gk4Z",
        "outputId": "1fd51355-61bd-453e-e203-70a996998a32"
      },
      "source": [
        "sq_tensor = tf.constant(out , shape=[1 , 1, 1, 1, 50])\n",
        "sq_tensor"
      ],
      "execution_count": null,
      "outputs": [
        {
          "output_type": "execute_result",
          "data": {
            "text/plain": [
              "<tf.Tensor: shape=(1, 1, 1, 1, 50), dtype=float32, numpy=\n",
              "array([[[[[0.6645621 , 0.44100678, 0.3528825 , 0.46448255, 0.03366041,\n",
              "           0.68467236, 0.74011743, 0.8724445 , 0.22632635, 0.22319686,\n",
              "           0.3103881 , 0.7223358 , 0.13318717, 0.5480639 , 0.5746088 ,\n",
              "           0.8996835 , 0.00946367, 0.5212307 , 0.6345445 , 0.1993283 ,\n",
              "           0.72942245, 0.54583454, 0.10756552, 0.6767061 , 0.6602763 ,\n",
              "           0.33695042, 0.60141766, 0.21062577, 0.8527372 , 0.44062173,\n",
              "           0.9485276 , 0.23752594, 0.81179297, 0.5263394 , 0.494308  ,\n",
              "           0.21612847, 0.8457197 , 0.8718841 , 0.3083862 , 0.6868038 ,\n",
              "           0.23764038, 0.7817228 , 0.9671384 , 0.06870162, 0.79873943,\n",
              "           0.66028714, 0.5871513 , 0.16461694, 0.7381023 , 0.32054043]]]]],\n",
              "      dtype=float32)>"
            ]
          },
          "metadata": {
            "tags": []
          },
          "execution_count": 94
        }
      ]
    },
    {
      "cell_type": "code",
      "metadata": {
        "colab": {
          "base_uri": "https://localhost:8080/"
        },
        "id": "BT4A6PgiHRWM",
        "outputId": "6a43e1f9-e5a5-4dee-e54e-1574140d5404"
      },
      "source": [
        "# Shape of the tensor \n",
        "sq_tensor.shape"
      ],
      "execution_count": null,
      "outputs": [
        {
          "output_type": "execute_result",
          "data": {
            "text/plain": [
              "TensorShape([1, 1, 1, 1, 50])"
            ]
          },
          "metadata": {
            "tags": []
          },
          "execution_count": 95
        }
      ]
    },
    {
      "cell_type": "code",
      "metadata": {
        "colab": {
          "base_uri": "https://localhost:8080/"
        },
        "id": "NsgTHSQdHVwA",
        "outputId": "fb6b57c4-a5df-48e6-f369-762d7ec9a55e"
      },
      "source": [
        "# Creating a squeezed version of our tensor \n",
        "# squeeze --> removes dimensions of the size 1 from the tensor\n",
        "\n",
        "sq_tensor_unsqueezed = tf.squeeze(sq_tensor)\n",
        "sq_tensor_unsqueezed , sq_tensor_unsqueezed.shape"
      ],
      "execution_count": null,
      "outputs": [
        {
          "output_type": "execute_result",
          "data": {
            "text/plain": [
              "(<tf.Tensor: shape=(50,), dtype=float32, numpy=\n",
              " array([0.6645621 , 0.44100678, 0.3528825 , 0.46448255, 0.03366041,\n",
              "        0.68467236, 0.74011743, 0.8724445 , 0.22632635, 0.22319686,\n",
              "        0.3103881 , 0.7223358 , 0.13318717, 0.5480639 , 0.5746088 ,\n",
              "        0.8996835 , 0.00946367, 0.5212307 , 0.6345445 , 0.1993283 ,\n",
              "        0.72942245, 0.54583454, 0.10756552, 0.6767061 , 0.6602763 ,\n",
              "        0.33695042, 0.60141766, 0.21062577, 0.8527372 , 0.44062173,\n",
              "        0.9485276 , 0.23752594, 0.81179297, 0.5263394 , 0.494308  ,\n",
              "        0.21612847, 0.8457197 , 0.8718841 , 0.3083862 , 0.6868038 ,\n",
              "        0.23764038, 0.7817228 , 0.9671384 , 0.06870162, 0.79873943,\n",
              "        0.66028714, 0.5871513 , 0.16461694, 0.7381023 , 0.32054043],\n",
              "       dtype=float32)>, TensorShape([50]))"
            ]
          },
          "metadata": {
            "tags": []
          },
          "execution_count": 96
        }
      ]
    },
    {
      "cell_type": "code",
      "metadata": {
        "colab": {
          "base_uri": "https://localhost:8080/"
        },
        "id": "FFAEKK00Hqns",
        "outputId": "5b3f90d7-f836-4204-bf2c-9103ce3b5801"
      },
      "source": [
        "# Comparing tensors \n",
        "\n",
        "sq_tensor.shape , sq_tensor_unsqueezed.shape"
      ],
      "execution_count": null,
      "outputs": [
        {
          "output_type": "execute_result",
          "data": {
            "text/plain": [
              "(TensorShape([1, 1, 1, 1, 50]), TensorShape([50]))"
            ]
          },
          "metadata": {
            "tags": []
          },
          "execution_count": 97
        }
      ]
    },
    {
      "cell_type": "markdown",
      "metadata": {
        "id": "tniQz9tOIK9n"
      },
      "source": [
        "#### **One hot encoding tensors**\n",
        "\n",
        "It's a way of numerical encoding of our strings / words in a way our neural network could understand. "
      ]
    },
    {
      "cell_type": "code",
      "metadata": {
        "colab": {
          "base_uri": "https://localhost:8080/"
        },
        "id": "-8lRDBdNJ29T",
        "outputId": "bdb36dfa-8f2e-49c4-ae9e-f335100a609e"
      },
      "source": [
        "# Creating a dummy list of indices\n",
        "\n",
        "some_lists = [0 , 1 , 2 , 3]\n",
        "\n",
        "# Now one hot encoding it \n",
        "tf.one_hot(some_lists , depth = 4) # depth --> how many variable's we have (4)"
      ],
      "execution_count": null,
      "outputs": [
        {
          "output_type": "execute_result",
          "data": {
            "text/plain": [
              "<tf.Tensor: shape=(4, 4), dtype=float32, numpy=\n",
              "array([[1., 0., 0., 0.],\n",
              "       [0., 1., 0., 0.],\n",
              "       [0., 0., 1., 0.],\n",
              "       [0., 0., 0., 1.]], dtype=float32)>"
            ]
          },
          "metadata": {
            "tags": []
          },
          "execution_count": 98
        }
      ]
    },
    {
      "cell_type": "code",
      "metadata": {
        "colab": {
          "base_uri": "https://localhost:8080/"
        },
        "id": "IM5V23gfLZBm",
        "outputId": "db5387ff-5bd4-4aab-df5a-97ca700140c6"
      },
      "source": [
        "# Using on_value and off_value \n",
        "\n",
        "\n",
        "tf.one_hot(some_lists , depth = 4 , on_value=':)' , off_value=':(')"
      ],
      "execution_count": null,
      "outputs": [
        {
          "output_type": "execute_result",
          "data": {
            "text/plain": [
              "<tf.Tensor: shape=(4, 4), dtype=string, numpy=\n",
              "array([[b':)', b':(', b':(', b':('],\n",
              "       [b':(', b':)', b':(', b':('],\n",
              "       [b':(', b':(', b':)', b':('],\n",
              "       [b':(', b':(', b':(', b':)']], dtype=object)>"
            ]
          },
          "metadata": {
            "tags": []
          },
          "execution_count": 99
        }
      ]
    },
    {
      "cell_type": "markdown",
      "metadata": {
        "id": "pKWIRaiiMA4N"
      },
      "source": [
        "#### **Trying out different math functions**\n",
        "\n",
        "* Squaring\n",
        "* Log \n",
        "* Square Root"
      ]
    },
    {
      "cell_type": "code",
      "metadata": {
        "colab": {
          "base_uri": "https://localhost:8080/"
        },
        "id": "eDbOY3f-MWyb",
        "outputId": "72042622-4940-4c7b-fb86-a9ed0c560b1b"
      },
      "source": [
        "# Create a new tensor \n",
        "\n",
        "n = tf.range(1 , 20)\n",
        "n"
      ],
      "execution_count": null,
      "outputs": [
        {
          "output_type": "execute_result",
          "data": {
            "text/plain": [
              "<tf.Tensor: shape=(19,), dtype=int32, numpy=\n",
              "array([ 1,  2,  3,  4,  5,  6,  7,  8,  9, 10, 11, 12, 13, 14, 15, 16, 17,\n",
              "       18, 19], dtype=int32)>"
            ]
          },
          "metadata": {
            "tags": []
          },
          "execution_count": 100
        }
      ]
    },
    {
      "cell_type": "code",
      "metadata": {
        "colab": {
          "base_uri": "https://localhost:8080/"
        },
        "id": "oHt0OU4yMsSs",
        "outputId": "dbbdf268-f0b4-4655-b693-7ad368d5eb74"
      },
      "source": [
        "# Squaring it \n",
        "tf.square(n)"
      ],
      "execution_count": null,
      "outputs": [
        {
          "output_type": "execute_result",
          "data": {
            "text/plain": [
              "<tf.Tensor: shape=(19,), dtype=int32, numpy=\n",
              "array([  1,   4,   9,  16,  25,  36,  49,  64,  81, 100, 121, 144, 169,\n",
              "       196, 225, 256, 289, 324, 361], dtype=int32)>"
            ]
          },
          "metadata": {
            "tags": []
          },
          "execution_count": 101
        }
      ]
    },
    {
      "cell_type": "code",
      "metadata": {
        "id": "UqbBsMxENGK0"
      },
      "source": [
        "# Throw's error, this method requires non-int datatype\n",
        "\n",
        "# tf.math.sqrt(n)"
      ],
      "execution_count": null,
      "outputs": []
    },
    {
      "cell_type": "code",
      "metadata": {
        "colab": {
          "base_uri": "https://localhost:8080/"
        },
        "id": "g58gOmdUMvuH",
        "outputId": "2486cede-bdb4-4481-8ac7-743eb6977b93"
      },
      "source": [
        "# Finding the square root \n",
        "tf.math.sqrt(tf.cast(n , dtype = tf.float16))"
      ],
      "execution_count": null,
      "outputs": [
        {
          "output_type": "execute_result",
          "data": {
            "text/plain": [
              "<tf.Tensor: shape=(19,), dtype=float16, numpy=\n",
              "array([1.   , 1.414, 1.732, 2.   , 2.236, 2.45 , 2.646, 2.828, 3.   ,\n",
              "       3.162, 3.316, 3.465, 3.605, 3.742, 3.873, 4.   , 4.125, 4.242,\n",
              "       4.36 ], dtype=float16)>"
            ]
          },
          "metadata": {
            "tags": []
          },
          "execution_count": 103
        }
      ]
    },
    {
      "cell_type": "code",
      "metadata": {
        "id": "bY3jEUprM1cu"
      },
      "source": [
        "# Finding the log, same error gotta change to float\n",
        "\n",
        "# tf.math.log(n)"
      ],
      "execution_count": null,
      "outputs": []
    },
    {
      "cell_type": "code",
      "metadata": {
        "colab": {
          "base_uri": "https://localhost:8080/"
        },
        "id": "sDXEsngmNXLS",
        "outputId": "7a19f705-b819-4094-b2b8-d2ca1b88464b"
      },
      "source": [
        "# Solving the error \n",
        "\n",
        "tf.math.log(tf.cast(n , dtype = tf.float16))"
      ],
      "execution_count": null,
      "outputs": [
        {
          "output_type": "execute_result",
          "data": {
            "text/plain": [
              "<tf.Tensor: shape=(19,), dtype=float16, numpy=\n",
              "array([0.    , 0.6934, 1.099 , 1.387 , 1.609 , 1.792 , 1.946 , 2.08  ,\n",
              "       2.197 , 2.303 , 2.398 , 2.484 , 2.564 , 2.639 , 2.709 , 2.773 ,\n",
              "       2.834 , 2.89  , 2.945 ], dtype=float16)>"
            ]
          },
          "metadata": {
            "tags": []
          },
          "execution_count": 105
        }
      ]
    },
    {
      "cell_type": "markdown",
      "metadata": {
        "id": "r2F3b-qsNiym"
      },
      "source": [
        "#### **Exploring TensorFlow and NumPy's compatibility**\n",
        "\n",
        "Tensorflow interacts beautifully with numpy arrays."
      ]
    },
    {
      "cell_type": "code",
      "metadata": {
        "colab": {
          "base_uri": "https://localhost:8080/"
        },
        "id": "OnFIxmEsSsK0",
        "outputId": "ba6c3bc6-7c4e-44bc-aae9-f7af3a5a7e13"
      },
      "source": [
        "# Create a tensor from a numpy array\n",
        "\n",
        "n_tensor = tf.constant(np.array([3.8 , 7 , 10.2]))\n",
        "n_tensor"
      ],
      "execution_count": null,
      "outputs": [
        {
          "output_type": "execute_result",
          "data": {
            "text/plain": [
              "<tf.Tensor: shape=(3,), dtype=float64, numpy=array([ 3.8,  7. , 10.2])>"
            ]
          },
          "metadata": {
            "tags": []
          },
          "execution_count": 106
        }
      ]
    },
    {
      "cell_type": "code",
      "metadata": {
        "colab": {
          "base_uri": "https://localhost:8080/"
        },
        "id": "uTH25inPTCSo",
        "outputId": "b526fe18-d819-4f79-b164-765703d6c147"
      },
      "source": [
        "# Convert our tensor back to numpy array \n",
        "\n",
        "np.array(n_tensor) , type(np.array(n_tensor))"
      ],
      "execution_count": null,
      "outputs": [
        {
          "output_type": "execute_result",
          "data": {
            "text/plain": [
              "(array([ 3.8,  7. , 10.2]), numpy.ndarray)"
            ]
          },
          "metadata": {
            "tags": []
          },
          "execution_count": 107
        }
      ]
    },
    {
      "cell_type": "code",
      "metadata": {
        "colab": {
          "base_uri": "https://localhost:8080/"
        },
        "id": "IOUFWzMbTgfK",
        "outputId": "ca8d7876-10f7-4921-a4f1-8623b616a3ff"
      },
      "source": [
        "# Another way \n",
        "n_tensor.numpy()"
      ],
      "execution_count": null,
      "outputs": [
        {
          "output_type": "execute_result",
          "data": {
            "text/plain": [
              "array([ 3.8,  7. , 10.2])"
            ]
          },
          "metadata": {
            "tags": []
          },
          "execution_count": 108
        }
      ]
    },
    {
      "cell_type": "markdown",
      "metadata": {
        "id": "8T0G2UNqT2NO"
      },
      "source": [
        "Doing this is helpful as it makes tensors iterable as well as allows us to use any of NumPy's methods on them."
      ]
    },
    {
      "cell_type": "code",
      "metadata": {
        "colab": {
          "base_uri": "https://localhost:8080/"
        },
        "id": "BAgcI_qQUcAP",
        "outputId": "04fdb3c3-a95e-45a1-abe6-72a8945791cd"
      },
      "source": [
        "# The default types of each are different \n",
        "numpy_n = tf.constant(np.array([3.2 , 2.0 , 1]))\n",
        "tensor_n = tf.constant([3.2 , 9. , 4])\n",
        "\n",
        "# Checking the datatype's of each \n",
        "numpy_n.dtype , tensor_n.dtype"
      ],
      "execution_count": null,
      "outputs": [
        {
          "output_type": "execute_result",
          "data": {
            "text/plain": [
              "(tf.float64, tf.float32)"
            ]
          },
          "metadata": {
            "tags": []
          },
          "execution_count": 109
        }
      ]
    },
    {
      "cell_type": "markdown",
      "metadata": {
        "id": "5LBTR7MnU-Vi"
      },
      "source": [
        "When we create a tensor from numpy the default datatype will be `float64` but by using tensorflow we will get `float32`. \n",
        "\n",
        "When computing with different tensors / numpy we should look out for the datatype error.\n",
        "\n",
        "The major difference between a tensorflow tensor and an numpy array is that a TensorFlow tensor can be run on GPU or TPU. "
      ]
    },
    {
      "cell_type": "markdown",
      "metadata": {
        "id": "3puc7fQYVe7n"
      },
      "source": [
        "#### **Finding Access to GPU's**"
      ]
    },
    {
      "cell_type": "code",
      "metadata": {
        "colab": {
          "base_uri": "https://localhost:8080/"
        },
        "id": "E42amvt2WT_p",
        "outputId": "291b0217-7a0d-4104-a65d-be71e9a07555"
      },
      "source": [
        "# Checking all the disks \n",
        "\n",
        "tf.config.list_physical_devices()"
      ],
      "execution_count": null,
      "outputs": [
        {
          "output_type": "execute_result",
          "data": {
            "text/plain": [
              "[PhysicalDevice(name='/physical_device:CPU:0', device_type='CPU'),\n",
              " PhysicalDevice(name='/physical_device:GPU:0', device_type='GPU')]"
            ]
          },
          "metadata": {
            "tags": []
          },
          "execution_count": 110
        }
      ]
    },
    {
      "cell_type": "code",
      "metadata": {
        "colab": {
          "base_uri": "https://localhost:8080/"
        },
        "id": "VZZT7Ao6XYS2",
        "outputId": "45c62feb-202a-4a56-d224-16f73149ad26"
      },
      "source": [
        "tf.config.list_physical_devices('GPU')"
      ],
      "execution_count": null,
      "outputs": [
        {
          "output_type": "execute_result",
          "data": {
            "text/plain": [
              "[PhysicalDevice(name='/physical_device:GPU:0', device_type='GPU')]"
            ]
          },
          "metadata": {
            "tags": []
          },
          "execution_count": 111
        }
      ]
    },
    {
      "cell_type": "code",
      "metadata": {
        "colab": {
          "base_uri": "https://localhost:8080/"
        },
        "id": "WxHYpToUXfPW",
        "outputId": "484adeb4-b2cd-47a6-d674-54b683ef78a0"
      },
      "source": [
        "!nvidia-smi"
      ],
      "execution_count": null,
      "outputs": [
        {
          "output_type": "stream",
          "text": [
            "Mon Mar  1 09:10:56 2021       \n",
            "+-----------------------------------------------------------------------------+\n",
            "| NVIDIA-SMI 460.39       Driver Version: 460.32.03    CUDA Version: 11.2     |\n",
            "|-------------------------------+----------------------+----------------------+\n",
            "| GPU  Name        Persistence-M| Bus-Id        Disp.A | Volatile Uncorr. ECC |\n",
            "| Fan  Temp  Perf  Pwr:Usage/Cap|         Memory-Usage | GPU-Util  Compute M. |\n",
            "|                               |                      |               MIG M. |\n",
            "|===============================+======================+======================|\n",
            "|   0  Tesla T4            Off  | 00000000:00:04.0 Off |                    0 |\n",
            "| N/A   51C    P0    28W /  70W |    224MiB / 15109MiB |      0%      Default |\n",
            "|                               |                      |                  N/A |\n",
            "+-------------------------------+----------------------+----------------------+\n",
            "                                                                               \n",
            "+-----------------------------------------------------------------------------+\n",
            "| Processes:                                                                  |\n",
            "|  GPU   GI   CI        PID   Type   Process name                  GPU Memory |\n",
            "|        ID   ID                                                   Usage      |\n",
            "|=============================================================================|\n",
            "+-----------------------------------------------------------------------------+\n"
          ],
          "name": "stdout"
        }
      ]
    },
    {
      "cell_type": "markdown",
      "metadata": {
        "id": "UVELl4EuYJkM"
      },
      "source": [
        "> 🧋 **Note:** If we have access to a CUDA-enabled GPU, tensorflow will automatically use it whenever possible. "
      ]
    },
    {
      "cell_type": "markdown",
      "metadata": {
        "id": "-A4o8gj29m9L"
      },
      "source": [
        "Exercise Notebooks are movied to the folder [Exericse_and_Extra-curriculum](https://github.com/ashikshafi08/Learning_Tensorflow/tree/main/Exericse_and_Extra-curriculum)\n",
        "\n",
        "Happy Learning! "
      ]
    },
    {
      "cell_type": "code",
      "metadata": {
        "id": "_Pu04Yj-91Gg"
      },
      "source": [
        ""
      ],
      "execution_count": null,
      "outputs": []
    }
  ]
}
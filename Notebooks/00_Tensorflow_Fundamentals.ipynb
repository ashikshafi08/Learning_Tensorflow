{
  "nbformat": 4,
  "nbformat_minor": 0,
  "metadata": {
    "colab": {
      "name": "00_Tensorflow_Fundamentals.ipynb",
      "provenance": [],
      "authorship_tag": "ABX9TyP388JGhNeR3KWmECaSwXoS",
      "include_colab_link": true
    },
    "kernelspec": {
      "name": "python3",
      "display_name": "Python 3"
    },
    "accelerator": "GPU"
  },
  "cells": [
    {
      "cell_type": "markdown",
      "metadata": {
        "id": "view-in-github",
        "colab_type": "text"
      },
      "source": [
        "<a href=\"https://colab.research.google.com/github/ashikshafi08/Learning_Tensorflow/blob/main/Notebooks/00_Tensorflow_Fundamentals.ipynb\" target=\"_parent\"><img src=\"https://colab.research.google.com/assets/colab-badge.svg\" alt=\"Open In Colab\"/></a>"
      ]
    },
    {
      "cell_type": "code",
      "metadata": {
        "colab": {
          "base_uri": "https://localhost:8080/"
        },
        "id": "Vg4UupQRBHyb",
        "outputId": "70ac6cd7-ee86-4e3f-cd1f-e741d81d0043"
      },
      "source": [
        "# Import TensorFlow\n",
        "import tensorflow as tf\n",
        "print(tf.__version__) "
      ],
      "execution_count": 79,
      "outputs": [
        {
          "output_type": "stream",
          "text": [
            "2.4.1\n"
          ],
          "name": "stdout"
        }
      ]
    },
    {
      "cell_type": "markdown",
      "metadata": {
        "id": "-g6gjGzATmvZ"
      },
      "source": [
        "# Tensorflow Fundamentals \n",
        "\n",
        "In this notebook we are going to cover some of the fundamentals concepts of tensors using **TensorFlow**. \n",
        "\n",
        "Let's draw the outline what we are going to see, \n",
        "- Introduction to tensors \n",
        "- Getting information from tensors\n",
        "- Manipulating tensors \n",
        "- Tensors and Numpy \n",
        "- Using `@tf.function`, a way to speed up regular python functions with tensorflow. \n",
        "- Using GPU's (or TPU's) with Tensorflow. \n",
        "- Exercise to muscle up tensorflow fundamentals skills.\n"
      ]
    },
    {
      "cell_type": "markdown",
      "metadata": {
        "id": "9CaWNIrvTo_D"
      },
      "source": [
        "## Introduction to tensors "
      ]
    },
    {
      "cell_type": "markdown",
      "metadata": {
        "id": "mSqx3QX7mdYI"
      },
      "source": [
        "#### **Using `tf.constant` to create tensors**"
      ]
    },
    {
      "cell_type": "code",
      "metadata": {
        "colab": {
          "base_uri": "https://localhost:8080/"
        },
        "id": "ZZUUsSU6Vb-b",
        "outputId": "90e9ecc5-fc6a-4ed9-e603-99071930c7a1"
      },
      "source": [
        "# Creating tensors with tf.constant \n",
        "\n",
        "scalar = tf.constant(7)\n",
        "scalar # Creating a scalar tensor"
      ],
      "execution_count": 80,
      "outputs": [
        {
          "output_type": "execute_result",
          "data": {
            "text/plain": [
              "<tf.Tensor: shape=(), dtype=int32, numpy=7>"
            ]
          },
          "metadata": {
            "tags": []
          },
          "execution_count": 80
        }
      ]
    },
    {
      "cell_type": "code",
      "metadata": {
        "colab": {
          "base_uri": "https://localhost:8080/"
        },
        "id": "YQV_eOdyCrQa",
        "outputId": "a4892507-cbd0-44ac-bc27-b42128f38652"
      },
      "source": [
        "# Checking the number of dimensions of tensors \n",
        "scalar.ndim # No of dimensions"
      ],
      "execution_count": 81,
      "outputs": [
        {
          "output_type": "execute_result",
          "data": {
            "text/plain": [
              "0"
            ]
          },
          "metadata": {
            "tags": []
          },
          "execution_count": 81
        }
      ]
    },
    {
      "cell_type": "code",
      "metadata": {
        "colab": {
          "base_uri": "https://localhost:8080/"
        },
        "id": "gN61P0YeDBVH",
        "outputId": "151eada7-88cf-4e27-a187-52279adbf8a1"
      },
      "source": [
        "# Create a vector \n",
        "vector = tf.constant([10 , 10])\n",
        "vector"
      ],
      "execution_count": 82,
      "outputs": [
        {
          "output_type": "execute_result",
          "data": {
            "text/plain": [
              "<tf.Tensor: shape=(2,), dtype=int32, numpy=array([10, 10], dtype=int32)>"
            ]
          },
          "metadata": {
            "tags": []
          },
          "execution_count": 82
        }
      ]
    },
    {
      "cell_type": "code",
      "metadata": {
        "colab": {
          "base_uri": "https://localhost:8080/"
        },
        "id": "8kEciC9lDI3W",
        "outputId": "16e28bc6-4ebd-4e6b-9d74-bbffa0c544fc"
      },
      "source": [
        "# Checking the dimensions now \n",
        "vector.ndim "
      ],
      "execution_count": 83,
      "outputs": [
        {
          "output_type": "execute_result",
          "data": {
            "text/plain": [
              "1"
            ]
          },
          "metadata": {
            "tags": []
          },
          "execution_count": 83
        }
      ]
    },
    {
      "cell_type": "code",
      "metadata": {
        "colab": {
          "base_uri": "https://localhost:8080/"
        },
        "id": "l0bpYfFfDMRm",
        "outputId": "47287083-7166-4b4d-95cf-864eff9067ff"
      },
      "source": [
        "# Now creating a matrix (has more than 1 dimensions)\n",
        "matrix = tf.constant( [[1 , 2] , \n",
        "                       [3, 4]] )\n",
        "\n",
        "matrix "
      ],
      "execution_count": 84,
      "outputs": [
        {
          "output_type": "execute_result",
          "data": {
            "text/plain": [
              "<tf.Tensor: shape=(2, 2), dtype=int32, numpy=\n",
              "array([[1, 2],\n",
              "       [3, 4]], dtype=int32)>"
            ]
          },
          "metadata": {
            "tags": []
          },
          "execution_count": 84
        }
      ]
    },
    {
      "cell_type": "code",
      "metadata": {
        "colab": {
          "base_uri": "https://localhost:8080/"
        },
        "id": "e3JliDtGDhqb",
        "outputId": "26dc269a-2f4f-4f04-9df6-22a0f093b7c2"
      },
      "source": [
        "# Checking the dimensions now \n",
        "matrix.ndim "
      ],
      "execution_count": 85,
      "outputs": [
        {
          "output_type": "execute_result",
          "data": {
            "text/plain": [
              "2"
            ]
          },
          "metadata": {
            "tags": []
          },
          "execution_count": 85
        }
      ]
    },
    {
      "cell_type": "code",
      "metadata": {
        "colab": {
          "base_uri": "https://localhost:8080/"
        },
        "id": "s_SlPLBJDurB",
        "outputId": "4eb2e750-a00c-4892-8c5a-6233fd547bf0"
      },
      "source": [
        "# Now manually choosing the dtype, and creating a matrix \n",
        "\n",
        "new_mat = tf.constant([ [1. , 2.] , \n",
        "                       [3. , 4.], \n",
        "                       [5. , 6.]] , dtype = tf.float16)\n",
        "new_mat"
      ],
      "execution_count": 86,
      "outputs": [
        {
          "output_type": "execute_result",
          "data": {
            "text/plain": [
              "<tf.Tensor: shape=(3, 2), dtype=float16, numpy=\n",
              "array([[1., 2.],\n",
              "       [3., 4.],\n",
              "       [5., 6.]], dtype=float16)>"
            ]
          },
          "metadata": {
            "tags": []
          },
          "execution_count": 86
        }
      ]
    },
    {
      "cell_type": "markdown",
      "metadata": {
        "id": "m2DNwS9kEnZZ"
      },
      "source": [
        "There's not huge difference between `dtype = float32` and `dtype = float16`, it's mostly focuses on the memory allocation. \n",
        "\n",
        "Where `dtype = float32` storing these takes up larger space whereas `dtype = float16` takes up less space. \n",
        "\n",
        "We can use this to debug **datatype errors** or tensors being in wrong datatype, using this could fix it.\n",
        "\n",
        "- Scalar --> Has 1 dimension\n",
        "- Vector --> Has 2 dimensions\n",
        "- Tensor --> Has 3 dimensions"
      ]
    },
    {
      "cell_type": "code",
      "metadata": {
        "colab": {
          "base_uri": "https://localhost:8080/"
        },
        "id": "fHRgWSh4GBTk",
        "outputId": "8a55d3d7-e1aa-4885-a2ee-ac6586fcccc7"
      },
      "source": [
        "# Now checking the dimensions of the above matrix \n",
        "new_mat.ndim"
      ],
      "execution_count": 87,
      "outputs": [
        {
          "output_type": "execute_result",
          "data": {
            "text/plain": [
              "2"
            ]
          },
          "metadata": {
            "tags": []
          },
          "execution_count": 87
        }
      ]
    },
    {
      "cell_type": "code",
      "metadata": {
        "colab": {
          "base_uri": "https://localhost:8080/"
        },
        "id": "4xf3EZqyGGbv",
        "outputId": "1e6124c8-1a34-453d-e133-8550c8449d82"
      },
      "source": [
        "# Creating a tensor with more dimension\n",
        "\n",
        "tensor = tf.constant([[[1 , 2 ,3],\n",
        "                       [4,5,6]],\n",
        "                      \n",
        "                      [[7 , 8 , 9],\n",
        "                       [10 , 11 , 12]],\n",
        "                      \n",
        "                      [[13 , 14 , 15] ,\n",
        "                       [16 , 17 , 18]]])\n",
        "tensor"
      ],
      "execution_count": 88,
      "outputs": [
        {
          "output_type": "execute_result",
          "data": {
            "text/plain": [
              "<tf.Tensor: shape=(3, 2, 3), dtype=int32, numpy=\n",
              "array([[[ 1,  2,  3],\n",
              "        [ 4,  5,  6]],\n",
              "\n",
              "       [[ 7,  8,  9],\n",
              "        [10, 11, 12]],\n",
              "\n",
              "       [[13, 14, 15],\n",
              "        [16, 17, 18]]], dtype=int32)>"
            ]
          },
          "metadata": {
            "tags": []
          },
          "execution_count": 88
        }
      ]
    },
    {
      "cell_type": "code",
      "metadata": {
        "colab": {
          "base_uri": "https://localhost:8080/"
        },
        "id": "QaoNcFTrlJVf",
        "outputId": "869b1544-9cc1-42d1-a588-cdb84fc05d8f"
      },
      "source": [
        "tensor.ndim"
      ],
      "execution_count": 89,
      "outputs": [
        {
          "output_type": "execute_result",
          "data": {
            "text/plain": [
              "3"
            ]
          },
          "metadata": {
            "tags": []
          },
          "execution_count": 89
        }
      ]
    },
    {
      "cell_type": "markdown",
      "metadata": {
        "id": "I6H9I4eZlhtv"
      },
      "source": [
        "- Scalar : a single number \n",
        "- Vector : a number with direction \n",
        "- Matrix : a 2-dimensional array of numbers \n",
        "- Tensor : a n-dimensional array of numbers (where n can be any numbers)"
      ]
    },
    {
      "cell_type": "markdown",
      "metadata": {
        "id": "cXVRE-yxmGZF"
      },
      "source": [
        "#### **Using `tf.Variable` to create tensors** \n",
        "\n",
        "Let's call this changeable tensor, alike is Javascript using var brings us options on overwriitng or make changes to the tensor. \n",
        "\n",
        "But when we use const for creating a tensor, this reduces the chances of altering the tensor. "
      ]
    },
    {
      "cell_type": "code",
      "metadata": {
        "colab": {
          "base_uri": "https://localhost:8080/"
        },
        "id": "pGZMjjpHmNae",
        "outputId": "d747139a-5bba-4cd0-c965-b22742771364"
      },
      "source": [
        "changeable_tensor = tf.Variable([10 , 4])\n",
        "\n",
        "# Creating one with constant\n",
        "unchangeable_tensor = tf.constant([10 , 4])\n",
        "\n",
        "changeable_tensor , unchangeable_tensor"
      ],
      "execution_count": 90,
      "outputs": [
        {
          "output_type": "execute_result",
          "data": {
            "text/plain": [
              "(<tf.Variable 'Variable:0' shape=(2,) dtype=int32, numpy=array([10,  4], dtype=int32)>,\n",
              " <tf.Tensor: shape=(2,), dtype=int32, numpy=array([10,  4], dtype=int32)>)"
            ]
          },
          "metadata": {
            "tags": []
          },
          "execution_count": 90
        }
      ]
    },
    {
      "cell_type": "markdown",
      "metadata": {
        "id": "p3Li6KPioV4f"
      },
      "source": [
        "Making changes using `tf.Variable` using the `.assign()` function."
      ]
    },
    {
      "cell_type": "code",
      "metadata": {
        "colab": {
          "base_uri": "https://localhost:8080/"
        },
        "id": "cXKQJ6Beo2bT",
        "outputId": "83dc218b-3811-4daa-d2b6-ba3de62b9b78"
      },
      "source": [
        "# Changing the value of the tensor \n",
        "changeable_tensor[0].assign(7)\n",
        "\n",
        "# Looking into our tensor after changes \n",
        "changeable_tensor"
      ],
      "execution_count": 91,
      "outputs": [
        {
          "output_type": "execute_result",
          "data": {
            "text/plain": [
              "<tf.Variable 'Variable:0' shape=(2,) dtype=int32, numpy=array([7, 4], dtype=int32)>"
            ]
          },
          "metadata": {
            "tags": []
          },
          "execution_count": 91
        }
      ]
    },
    {
      "cell_type": "code",
      "metadata": {
        "id": "eqjQtXS4pASJ"
      },
      "source": [
        "# Now trying the same in our unchangeable_tensor \n",
        "\n",
        "# unchangeable_tensor[0].assign(7) Throws error, uncomment to check the error."
      ],
      "execution_count": 92,
      "outputs": []
    },
    {
      "cell_type": "markdown",
      "metadata": {
        "id": "na53pmA_pyUR"
      },
      "source": [
        "Well it's obvious that we can't alter the tensor which are created using `tf.constant`. But why two ways of creating tensors exist even? \n",
        "\n",
        "Well while a Neural Net is been created, there are values should be changed whenever we want to and there should certain tensors locked up so that no one could make their changes on it. \n",
        "\n",
        "It might feel bit hectic, but good thing is that we need not to worry about assigning or structuring our neural net what values should it change and what it shouldn't. \n",
        "\n",
        "Behind the scenes these are taken care by TensorFlow."
      ]
    },
    {
      "cell_type": "markdown",
      "metadata": {
        "id": "bm4XCfD7qdQl"
      },
      "source": [
        "#### **Creating random tensors**\n",
        "\n",
        "Random tensors are tensors of some arbitary size which contain random numbers. "
      ]
    },
    {
      "cell_type": "code",
      "metadata": {
        "id": "FboHFuclqh50"
      },
      "source": [
        "# Creating 2 random (but same size)\n",
        "random_1 = tf.random.Generator.from_seed(42)\n",
        "random_2 = tf.random.Generator.from_seed(42)\n",
        "\n",
        "# Giving in the shapes of how we want our tensors \n",
        "random_1 = random_1.normal(shape = (3,2))\n",
        "random_2 = random_2.normal(shape = (3,2))"
      ],
      "execution_count": 93,
      "outputs": []
    },
    {
      "cell_type": "code",
      "metadata": {
        "colab": {
          "base_uri": "https://localhost:8080/"
        },
        "id": "misoeMkCwbfW",
        "outputId": "2f357464-233b-4da4-e36c-09e9b9f4a956"
      },
      "source": [
        "# Are they equal? \n",
        "\n",
        "random_1 , random_2 , random_1 == random_2"
      ],
      "execution_count": 94,
      "outputs": [
        {
          "output_type": "execute_result",
          "data": {
            "text/plain": [
              "(<tf.Tensor: shape=(3, 2), dtype=float32, numpy=\n",
              " array([[-0.7565803 , -0.06854702],\n",
              "        [ 0.07595026, -1.2573844 ],\n",
              "        [-0.23193765, -1.8107855 ]], dtype=float32)>,\n",
              " <tf.Tensor: shape=(3, 2), dtype=float32, numpy=\n",
              " array([[-0.7565803 , -0.06854702],\n",
              "        [ 0.07595026, -1.2573844 ],\n",
              "        [-0.23193765, -1.8107855 ]], dtype=float32)>,\n",
              " <tf.Tensor: shape=(3, 2), dtype=bool, numpy=\n",
              " array([[ True,  True],\n",
              "        [ True,  True],\n",
              "        [ True,  True]])>)"
            ]
          },
          "metadata": {
            "tags": []
          },
          "execution_count": 94
        }
      ]
    },
    {
      "cell_type": "markdown",
      "metadata": {
        "id": "8ivMPJuTwhy_"
      },
      "source": [
        "Alright seems those two tensors are equal, but we asked for random tensors yet we got both of em equal, but why? \n",
        "\n",
        "In fact the values inside the random tensors aren't actually random, they are called as **pseudo values** which means they are getting geenrated because of the `from_seed()`.\n",
        "\n",
        "It seeds the combinations and tensors depending upon the number we put it, this is because to attain reproducibility.\n",
        "\n",
        "But how we fix this? If we can shuffle the order between them then they wont be identical. \n",
        "\n"
      ]
    },
    {
      "cell_type": "markdown",
      "metadata": {
        "id": "Ho52-cV0xiD5"
      },
      "source": [
        "#### **Shuffling the order of tensors**\n",
        "\n",
        "Shuffling comes in handy to prevent class Imbalance, which means if we fed images into a Neural Net in a strict plain order for instance, \n",
        "\n",
        "- Ramen (5000 pics)\n",
        "- Cookie (1000 pics) \n",
        "\n",
        "Reading the images starting from Ramen and ends all of the 5000 pics and jumps next to Cookie, this won't give much work to our weight assignment. \n",
        "\n",
        "But if we can shuffle the images, our weights would be able to learn different classes at the same time. \n",
        "\n",
        "Now let's shuffle our tensors, valuable for when we want to shuffle our data so the inherent order won't affect our learning."
      ]
    },
    {
      "cell_type": "code",
      "metadata": {
        "colab": {
          "base_uri": "https://localhost:8080/"
        },
        "id": "xXa_8er6zJay",
        "outputId": "c5ebf51c-f9d9-4562-fde2-ec9637db4535"
      },
      "source": [
        "# Creating a tensor to shuffle\n",
        "\n",
        "not_shuffled = tf.constant([[10 ,4],\n",
        "                            [9 , 3],\n",
        "                            [5 , 8]])\n",
        "\n",
        "not_shuffled , not_shuffled.ndim"
      ],
      "execution_count": 95,
      "outputs": [
        {
          "output_type": "execute_result",
          "data": {
            "text/plain": [
              "(<tf.Tensor: shape=(3, 2), dtype=int32, numpy=\n",
              " array([[10,  4],\n",
              "        [ 9,  3],\n",
              "        [ 5,  8]], dtype=int32)>, 2)"
            ]
          },
          "metadata": {
            "tags": []
          },
          "execution_count": 95
        }
      ]
    },
    {
      "cell_type": "code",
      "metadata": {
        "colab": {
          "base_uri": "https://localhost:8080/"
        },
        "id": "3YdM9xrxz48Y",
        "outputId": "5e7f6b3d-dd8f-4ae9-8482-b1042ac44fb3"
      },
      "source": [
        "# Shuffling the tensor \n",
        "tf.random.shuffle(not_shuffled) # The order will be changed"
      ],
      "execution_count": 96,
      "outputs": [
        {
          "output_type": "execute_result",
          "data": {
            "text/plain": [
              "<tf.Tensor: shape=(3, 2), dtype=int32, numpy=\n",
              "array([[10,  4],\n",
              "       [ 9,  3],\n",
              "       [ 5,  8]], dtype=int32)>"
            ]
          },
          "metadata": {
            "tags": []
          },
          "execution_count": 96
        }
      ]
    },
    {
      "cell_type": "code",
      "metadata": {
        "colab": {
          "base_uri": "https://localhost:8080/"
        },
        "id": "dSqBGrCX4NP1",
        "outputId": "5a78d544-f525-412a-a577-8cea6514d0bc"
      },
      "source": [
        "tf.random.shuffle(not_shuffled) # The order will be changed"
      ],
      "execution_count": 97,
      "outputs": [
        {
          "output_type": "execute_result",
          "data": {
            "text/plain": [
              "<tf.Tensor: shape=(3, 2), dtype=int32, numpy=\n",
              "array([[ 5,  8],\n",
              "       [ 9,  3],\n",
              "       [10,  4]], dtype=int32)>"
            ]
          },
          "metadata": {
            "tags": []
          },
          "execution_count": 97
        }
      ]
    },
    {
      "cell_type": "markdown",
      "metadata": {
        "id": "jt2SZqJO1M7k"
      },
      "source": [
        "If we look into the shuffled and not_shuffled tensors we could find a common pattern that,\n",
        "* Randomly shuffles a tensor along it's first dimension.\n",
        "\n",
        "Which means it just changes the order of the rows, not the whole of the values inside the tensor. \n",
        "\n",
        "Also if we notice the two cells above with the same code `tf.random.shuffle(not_shuffled)`, the order is changed everytime when we run the cell.\n",
        "\n",
        "**Using seed in the above shuffled example**"
      ]
    },
    {
      "cell_type": "code",
      "metadata": {
        "colab": {
          "base_uri": "https://localhost:8080/"
        },
        "id": "Z0WW-vEF4PuQ",
        "outputId": "fb0ebd7b-a7fb-4a3a-900d-1c1e8621d65c"
      },
      "source": [
        "# Using the argument one \n",
        "tf.random.shuffle(not_shuffled , seed = 42)"
      ],
      "execution_count": 98,
      "outputs": [
        {
          "output_type": "execute_result",
          "data": {
            "text/plain": [
              "<tf.Tensor: shape=(3, 2), dtype=int32, numpy=\n",
              "array([[10,  4],\n",
              "       [ 5,  8],\n",
              "       [ 9,  3]], dtype=int32)>"
            ]
          },
          "metadata": {
            "tags": []
          },
          "execution_count": 98
        }
      ]
    },
    {
      "cell_type": "code",
      "metadata": {
        "colab": {
          "base_uri": "https://localhost:8080/"
        },
        "id": "i9D3qU8W5h6H",
        "outputId": "36917b9c-d7a7-42be-c804-90b44c5967cf"
      },
      "source": [
        "# Using a funciton called set_seed\n",
        "tf.random.set_seed(42)\n",
        "tf.random.shuffle(not_shuffled)"
      ],
      "execution_count": 99,
      "outputs": [
        {
          "output_type": "execute_result",
          "data": {
            "text/plain": [
              "<tf.Tensor: shape=(3, 2), dtype=int32, numpy=\n",
              "array([[ 9,  3],\n",
              "       [ 5,  8],\n",
              "       [10,  4]], dtype=int32)>"
            ]
          },
          "metadata": {
            "tags": []
          },
          "execution_count": 99
        }
      ]
    },
    {
      "cell_type": "code",
      "metadata": {
        "colab": {
          "base_uri": "https://localhost:8080/"
        },
        "id": "8TB_Ab245oOb",
        "outputId": "a71e6a5f-815d-42b0-cfb3-f110c29cf5c8"
      },
      "source": [
        "# Creating 2 new tensor to play with \n",
        "\n",
        "#new_1_tensor = tf.random.Generator.from_seed(2)\n",
        "#new_2_tensor = tf.random.Generator.from_seed(2)\n",
        "\n",
        "# Now setting up the shape \n",
        "normal_tensor = tf.random.normal(shape = (3 , 2) , dtype = tf.float16) # (normal distributed values)\n",
        "uniform_tensor = tf.random.normal(shape= (3 , 2) ,  dtype = tf.float16) # (uniformly distributed values)\n",
        "\n",
        "normal_tensor , uniform_tensor\n"
      ],
      "execution_count": 100,
      "outputs": [
        {
          "output_type": "execute_result",
          "data": {
            "text/plain": [
              "(<tf.Tensor: shape=(3, 2), dtype=float16, numpy=\n",
              " array([[ 0.0842  , -0.861   ],\n",
              "        [ 0.3782  , -0.005196],\n",
              "        [-0.4946  ,  0.6177  ]], dtype=float16)>,\n",
              " <tf.Tensor: shape=(3, 2), dtype=float16, numpy=\n",
              " array([[-0.559 , -0.5347],\n",
              "        [ 2.373 , -1.572 ],\n",
              "        [ 0.8057, -0.834 ]], dtype=float16)>)"
            ]
          },
          "metadata": {
            "tags": []
          },
          "execution_count": 100
        }
      ]
    },
    {
      "cell_type": "markdown",
      "metadata": {
        "id": "vsMPUhyY6gYx"
      },
      "source": [
        "From reading the documentations, I understood about `tf.random.set_seed()`  is,  whenever we write that at first and the following code inside that cell will be generated with the same seed state. \n",
        "\n",
        "\n"
      ]
    },
    {
      "cell_type": "code",
      "metadata": {
        "colab": {
          "base_uri": "https://localhost:8080/"
        },
        "id": "cz1EH1cX9G08",
        "outputId": "f5f2de74-d9c6-4b08-f6b3-d3e33fa30aa7"
      },
      "source": [
        "# Let's shuffle them! \n",
        "\n",
        "tf.random.set_seed(59) # Setting the seed here\n",
        "\n",
        "# Shuffling \n",
        "norm_shuff = tf.random.shuffle(normal_tensor)\n",
        "uni_shuff = tf.random.shuffle(uniform_tensor)\n",
        "\n",
        "norm_shuff , uni_shuff"
      ],
      "execution_count": 101,
      "outputs": [
        {
          "output_type": "execute_result",
          "data": {
            "text/plain": [
              "(<tf.Tensor: shape=(3, 2), dtype=float16, numpy=\n",
              " array([[ 0.3782  , -0.005196],\n",
              "        [-0.4946  ,  0.6177  ],\n",
              "        [ 0.0842  , -0.861   ]], dtype=float16)>,\n",
              " <tf.Tensor: shape=(3, 2), dtype=float16, numpy=\n",
              " array([[ 2.373 , -1.572 ],\n",
              "        [-0.559 , -0.5347],\n",
              "        [ 0.8057, -0.834 ]], dtype=float16)>)"
            ]
          },
          "metadata": {
            "tags": []
          },
          "execution_count": 101
        }
      ]
    },
    {
      "cell_type": "code",
      "metadata": {
        "colab": {
          "base_uri": "https://localhost:8080/"
        },
        "id": "vMuNqF4n9eUx",
        "outputId": "5a738f24-c8a6-4ed0-88c3-0af49b1c2720"
      },
      "source": [
        "# Now using the argument one \n",
        "\n",
        "tf.random.shuffle(normal_tensor , seed = 32) , tf.random.shuffle(uniform_tensor , seed = 32)"
      ],
      "execution_count": 102,
      "outputs": [
        {
          "output_type": "execute_result",
          "data": {
            "text/plain": [
              "(<tf.Tensor: shape=(3, 2), dtype=float16, numpy=\n",
              " array([[ 0.0842  , -0.861   ],\n",
              "        [ 0.3782  , -0.005196],\n",
              "        [-0.4946  ,  0.6177  ]], dtype=float16)>,\n",
              " <tf.Tensor: shape=(3, 2), dtype=float16, numpy=\n",
              " array([[-0.559 , -0.5347],\n",
              "        [ 0.8057, -0.834 ],\n",
              "        [ 2.373 , -1.572 ]], dtype=float16)>)"
            ]
          },
          "metadata": {
            "tags": []
          },
          "execution_count": 102
        }
      ]
    },
    {
      "cell_type": "code",
      "metadata": {
        "colab": {
          "base_uri": "https://localhost:8080/"
        },
        "id": "Co4hIHBYKP2d",
        "outputId": "f5f9c8b6-0bb2-4e0f-a99b-39349638cb37"
      },
      "source": [
        "# Using global and operation level both in conjuction\n",
        "\n",
        "tf.random.set_seed(34) # Global level \n",
        "tf.random.shuffle(normal_tensor , seed=34)\n"
      ],
      "execution_count": 103,
      "outputs": [
        {
          "output_type": "execute_result",
          "data": {
            "text/plain": [
              "<tf.Tensor: shape=(3, 2), dtype=float16, numpy=\n",
              "array([[ 0.0842  , -0.861   ],\n",
              "       [-0.4946  ,  0.6177  ],\n",
              "       [ 0.3782  , -0.005196]], dtype=float16)>"
            ]
          },
          "metadata": {
            "tags": []
          },
          "execution_count": 103
        }
      ]
    },
    {
      "cell_type": "markdown",
      "metadata": {
        "id": "DtgI1uJG_GLl"
      },
      "source": [
        "Alright summing up using, `tf.random.shuffle(any_tensor , seed = 32)` doesn't works. The results aren't reproducible. \n",
        "\n",
        "But when we use `tf.random.set_seed(42)`, the entire code written / wrapped inside that cell uses the seed rate and the results are reproducible. \n",
        "\n",
        "And using `tf.random.shuffle(any_tensor)` only shuffles the tensor along the **1st dimension**, which means just shuffles the rows. \n",
        "\n",
        "It look's like if we want our shuffled tensors to be in same order, we've got to use the global level and operation level random seed.\n",
        "\n",
        "> If both the global and the operation seed arse set: Both seeds are used in conjuction to determine the random sequence.\n"
      ]
    },
    {
      "cell_type": "markdown",
      "metadata": {
        "id": "59QNValTB7hC"
      },
      "source": [
        "#### **Creating Tensors from Numpy Array**\n",
        "\n",
        "Certain functions of Numpy are even in TensorFlow, will look at them. "
      ]
    },
    {
      "cell_type": "code",
      "metadata": {
        "colab": {
          "base_uri": "https://localhost:8080/"
        },
        "id": "ivJExPBiCxJD",
        "outputId": "f6140f1b-1a9d-469c-e4c1-8e26d252798c"
      },
      "source": [
        "# Creating a tensor of all ones / Numpy (np.ones) \n",
        "\n",
        "tf.ones([10 , 4]) # Pass in the shape"
      ],
      "execution_count": 104,
      "outputs": [
        {
          "output_type": "execute_result",
          "data": {
            "text/plain": [
              "<tf.Tensor: shape=(10, 4), dtype=float32, numpy=\n",
              "array([[1., 1., 1., 1.],\n",
              "       [1., 1., 1., 1.],\n",
              "       [1., 1., 1., 1.],\n",
              "       [1., 1., 1., 1.],\n",
              "       [1., 1., 1., 1.],\n",
              "       [1., 1., 1., 1.],\n",
              "       [1., 1., 1., 1.],\n",
              "       [1., 1., 1., 1.],\n",
              "       [1., 1., 1., 1.],\n",
              "       [1., 1., 1., 1.]], dtype=float32)>"
            ]
          },
          "metadata": {
            "tags": []
          },
          "execution_count": 104
        }
      ]
    },
    {
      "cell_type": "code",
      "metadata": {
        "colab": {
          "base_uri": "https://localhost:8080/"
        },
        "id": "u6f-pHoXMfhx",
        "outputId": "5aba17cf-86ce-4fda-eaaf-746e3f0797e3"
      },
      "source": [
        "# Creating tensor for all zeros / Same numpy \n",
        "\n",
        "tf.zeros([8 , 5])"
      ],
      "execution_count": 105,
      "outputs": [
        {
          "output_type": "execute_result",
          "data": {
            "text/plain": [
              "<tf.Tensor: shape=(8, 5), dtype=float32, numpy=\n",
              "array([[0., 0., 0., 0., 0.],\n",
              "       [0., 0., 0., 0., 0.],\n",
              "       [0., 0., 0., 0., 0.],\n",
              "       [0., 0., 0., 0., 0.],\n",
              "       [0., 0., 0., 0., 0.],\n",
              "       [0., 0., 0., 0., 0.],\n",
              "       [0., 0., 0., 0., 0.],\n",
              "       [0., 0., 0., 0., 0.]], dtype=float32)>"
            ]
          },
          "metadata": {
            "tags": []
          },
          "execution_count": 105
        }
      ]
    },
    {
      "cell_type": "markdown",
      "metadata": {
        "id": "GncbIpm-NbRs"
      },
      "source": [
        "**X** ---> Capital for matrix and tensors.\n",
        "**y** ----> non-capital for vector."
      ]
    },
    {
      "cell_type": "code",
      "metadata": {
        "colab": {
          "base_uri": "https://localhost:8080/"
        },
        "id": "u9fczDo3Mqnf",
        "outputId": "dc534804-38bb-4290-a34f-ce972e9b72be"
      },
      "source": [
        "# Turning numpy array into tensors\n",
        "import numpy as np\n",
        "numpy_A = np.arange(1 , 25 , dtype = np.float32)\n",
        "numpy_A"
      ],
      "execution_count": 106,
      "outputs": [
        {
          "output_type": "execute_result",
          "data": {
            "text/plain": [
              "array([ 1.,  2.,  3.,  4.,  5.,  6.,  7.,  8.,  9., 10., 11., 12., 13.,\n",
              "       14., 15., 16., 17., 18., 19., 20., 21., 22., 23., 24.],\n",
              "      dtype=float32)"
            ]
          },
          "metadata": {
            "tags": []
          },
          "execution_count": 106
        }
      ]
    },
    {
      "cell_type": "code",
      "metadata": {
        "colab": {
          "base_uri": "https://localhost:8080/"
        },
        "id": "Fi_YHGzsOMxK",
        "outputId": "d70a8e5f-f501-4a49-9e2e-6b50e17eca0e"
      },
      "source": [
        "# Putting into tf.constant converting into tensor\n",
        "tf.constant(numpy_A)"
      ],
      "execution_count": 107,
      "outputs": [
        {
          "output_type": "execute_result",
          "data": {
            "text/plain": [
              "<tf.Tensor: shape=(24,), dtype=float32, numpy=\n",
              "array([ 1.,  2.,  3.,  4.,  5.,  6.,  7.,  8.,  9., 10., 11., 12., 13.,\n",
              "       14., 15., 16., 17., 18., 19., 20., 21., 22., 23., 24.],\n",
              "      dtype=float32)>"
            ]
          },
          "metadata": {
            "tags": []
          },
          "execution_count": 107
        }
      ]
    },
    {
      "cell_type": "code",
      "metadata": {
        "colab": {
          "base_uri": "https://localhost:8080/"
        },
        "id": "vXHVFyYRPAjH",
        "outputId": "f155b9e7-3a38-487d-ee3f-e5c38f613c7d"
      },
      "source": [
        "# Now using our desired shape as we need \n",
        "\n",
        "A = tf.constant(numpy_A , shape = (2 ,4 ,3))\n",
        "B = tf.constant(numpy_A)\n",
        "\n",
        "A , B"
      ],
      "execution_count": 108,
      "outputs": [
        {
          "output_type": "execute_result",
          "data": {
            "text/plain": [
              "(<tf.Tensor: shape=(2, 4, 3), dtype=float32, numpy=\n",
              " array([[[ 1.,  2.,  3.],\n",
              "         [ 4.,  5.,  6.],\n",
              "         [ 7.,  8.,  9.],\n",
              "         [10., 11., 12.]],\n",
              " \n",
              "        [[13., 14., 15.],\n",
              "         [16., 17., 18.],\n",
              "         [19., 20., 21.],\n",
              "         [22., 23., 24.]]], dtype=float32)>,\n",
              " <tf.Tensor: shape=(24,), dtype=float32, numpy=\n",
              " array([ 1.,  2.,  3.,  4.,  5.,  6.,  7.,  8.,  9., 10., 11., 12., 13.,\n",
              "        14., 15., 16., 17., 18., 19., 20., 21., 22., 23., 24.],\n",
              "       dtype=float32)>)"
            ]
          },
          "metadata": {
            "tags": []
          },
          "execution_count": 108
        }
      ]
    },
    {
      "cell_type": "code",
      "metadata": {
        "colab": {
          "base_uri": "https://localhost:8080/"
        },
        "id": "A9xLIyU0PX_I",
        "outputId": "76af7418-a465-4f50-c5cc-4611966510a7"
      },
      "source": [
        "tf.constant(numpy_A , shape = (3 , 8))\n"
      ],
      "execution_count": 109,
      "outputs": [
        {
          "output_type": "execute_result",
          "data": {
            "text/plain": [
              "<tf.Tensor: shape=(3, 8), dtype=float32, numpy=\n",
              "array([[ 1.,  2.,  3.,  4.,  5.,  6.,  7.,  8.],\n",
              "       [ 9., 10., 11., 12., 13., 14., 15., 16.],\n",
              "       [17., 18., 19., 20., 21., 22., 23., 24.]], dtype=float32)>"
            ]
          },
          "metadata": {
            "tags": []
          },
          "execution_count": 109
        }
      ]
    },
    {
      "cell_type": "markdown",
      "metadata": {
        "id": "EkcwiNsLQhFP"
      },
      "source": [
        "If we look above, the shape should be decided with respect to the number of elements available in total. \n",
        "\n",
        "For instance, above we got **24 elements** and Creating different shapes we gotta makse sure are they equal when we multilply them"
      ]
    },
    {
      "cell_type": "markdown",
      "metadata": {
        "id": "gdN_zCmyRE-y"
      },
      "source": [
        "#### **Getting information from the tensors --> Tensor Attributes**\n",
        "\n",
        "The common attributes we gotta keep an eye out are: \n",
        "- Shape \n",
        "- Rank \n",
        "- Size \n",
        "- Axis or dimension"
      ]
    },
    {
      "cell_type": "code",
      "metadata": {
        "colab": {
          "base_uri": "https://localhost:8080/"
        },
        "id": "uyJUw_yocER4",
        "outputId": "20057051-95b4-4b54-c3d9-2b13d1800a03"
      },
      "source": [
        "# Creating a rank 4 tensor \n",
        "\n",
        "rank_4_tensor = tf.zeros(shape = [2 , 3 , 4 ,5])\n",
        "rank_4_tensor"
      ],
      "execution_count": 110,
      "outputs": [
        {
          "output_type": "execute_result",
          "data": {
            "text/plain": [
              "<tf.Tensor: shape=(2, 3, 4, 5), dtype=float32, numpy=\n",
              "array([[[[0., 0., 0., 0., 0.],\n",
              "         [0., 0., 0., 0., 0.],\n",
              "         [0., 0., 0., 0., 0.],\n",
              "         [0., 0., 0., 0., 0.]],\n",
              "\n",
              "        [[0., 0., 0., 0., 0.],\n",
              "         [0., 0., 0., 0., 0.],\n",
              "         [0., 0., 0., 0., 0.],\n",
              "         [0., 0., 0., 0., 0.]],\n",
              "\n",
              "        [[0., 0., 0., 0., 0.],\n",
              "         [0., 0., 0., 0., 0.],\n",
              "         [0., 0., 0., 0., 0.],\n",
              "         [0., 0., 0., 0., 0.]]],\n",
              "\n",
              "\n",
              "       [[[0., 0., 0., 0., 0.],\n",
              "         [0., 0., 0., 0., 0.],\n",
              "         [0., 0., 0., 0., 0.],\n",
              "         [0., 0., 0., 0., 0.]],\n",
              "\n",
              "        [[0., 0., 0., 0., 0.],\n",
              "         [0., 0., 0., 0., 0.],\n",
              "         [0., 0., 0., 0., 0.],\n",
              "         [0., 0., 0., 0., 0.]],\n",
              "\n",
              "        [[0., 0., 0., 0., 0.],\n",
              "         [0., 0., 0., 0., 0.],\n",
              "         [0., 0., 0., 0., 0.],\n",
              "         [0., 0., 0., 0., 0.]]]], dtype=float32)>"
            ]
          },
          "metadata": {
            "tags": []
          },
          "execution_count": 110
        }
      ]
    },
    {
      "cell_type": "code",
      "metadata": {
        "colab": {
          "base_uri": "https://localhost:8080/"
        },
        "id": "uw1VdCI3d1wi",
        "outputId": "8f017b01-b63d-4d6f-ef6c-51cf5f89ef20"
      },
      "source": [
        "# Indexing into the above tensor \n",
        "rank_4_tensor[0]"
      ],
      "execution_count": 111,
      "outputs": [
        {
          "output_type": "execute_result",
          "data": {
            "text/plain": [
              "<tf.Tensor: shape=(3, 4, 5), dtype=float32, numpy=\n",
              "array([[[0., 0., 0., 0., 0.],\n",
              "        [0., 0., 0., 0., 0.],\n",
              "        [0., 0., 0., 0., 0.],\n",
              "        [0., 0., 0., 0., 0.]],\n",
              "\n",
              "       [[0., 0., 0., 0., 0.],\n",
              "        [0., 0., 0., 0., 0.],\n",
              "        [0., 0., 0., 0., 0.],\n",
              "        [0., 0., 0., 0., 0.]],\n",
              "\n",
              "       [[0., 0., 0., 0., 0.],\n",
              "        [0., 0., 0., 0., 0.],\n",
              "        [0., 0., 0., 0., 0.],\n",
              "        [0., 0., 0., 0., 0.]]], dtype=float32)>"
            ]
          },
          "metadata": {
            "tags": []
          },
          "execution_count": 111
        }
      ]
    },
    {
      "cell_type": "code",
      "metadata": {
        "id": "xM4rb9bfeYMg"
      },
      "source": [
        "# Printing out certain attributes for the above tensor \n",
        "\n",
        "def tensor_attr_print(a_tensor):\n",
        "  '''\n",
        "  Print's out different attribures of a tensor\n",
        "  '''\n",
        "  rank_4_tensor = a_tensor\n",
        "  print(f'Elements along the 0th axis: {rank_4_tensor.shape[0]}')\n",
        "  print(f'Elements along the last axis: {rank_4_tensor.shape[-1]}')\n",
        "  print(f'Datatype of every element: {rank_4_tensor.dtype}')\n",
        "\n",
        "  print(f'The shape of the tensor is: {rank_4_tensor.shape}')\n",
        "  print(f'The dimension of the tensor is: {rank_4_tensor.ndim}')\n",
        "  print(f'The size of the tensor(total no. of elements in the tensor): {tf.size(rank_4_tensor)}')"
      ],
      "execution_count": 116,
      "outputs": []
    },
    {
      "cell_type": "code",
      "metadata": {
        "colab": {
          "base_uri": "https://localhost:8080/"
        },
        "id": "geu-hYoCjLyT",
        "outputId": "e38e7b47-81b6-4c5b-b433-d8567c6e5111"
      },
      "source": [
        "tensor_attr_print(rank_4_tensor)"
      ],
      "execution_count": 117,
      "outputs": [
        {
          "output_type": "stream",
          "text": [
            "Elements along the 0th axis: 2\n",
            "Elements along the last axis: 5\n",
            "Datatype of every element: <dtype: 'float32'>\n",
            "The shape of the tensor is: (2, 3, 4, 5)\n",
            "The dimension of the tensor is: 4\n",
            "The size of the tensor(total no. of elements in the tensor): 120\n"
          ],
          "name": "stdout"
        }
      ]
    },
    {
      "cell_type": "markdown",
      "metadata": {
        "id": "JBQVf95YlJNR"
      },
      "source": [
        "#### **Indexing and expanding tensors**"
      ]
    },
    {
      "cell_type": "code",
      "metadata": {
        "id": "Moov0_v7mRA4"
      },
      "source": [
        ""
      ],
      "execution_count": null,
      "outputs": []
    }
  ]
}
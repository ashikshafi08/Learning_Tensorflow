{
  "nbformat": 4,
  "nbformat_minor": 0,
  "metadata": {
    "colab": {
      "name": "02_Neural_Network_Classification_TensorFlow.ipynb",
      "provenance": [],
      "collapsed_sections": [],
      "authorship_tag": "ABX9TyPW7Gl2MXTQT4iM3F+FYxfl",
      "include_colab_link": true
    },
    "kernelspec": {
      "name": "python3",
      "display_name": "Python 3"
    },
    "accelerator": "GPU"
  },
  "cells": [
    {
      "cell_type": "markdown",
      "metadata": {
        "id": "view-in-github",
        "colab_type": "text"
      },
      "source": [
        "<a href=\"https://colab.research.google.com/github/ashikshafi08/Learning_Tensorflow/blob/main/Notebooks/02_Neural_Network_Classification_TensorFlow.ipynb\" target=\"_parent\"><img src=\"https://colab.research.google.com/assets/colab-badge.svg\" alt=\"Open In Colab\"/></a>"
      ]
    },
    {
      "cell_type": "code",
      "metadata": {
        "colab": {
          "base_uri": "https://localhost:8080/"
        },
        "id": "6UDePNiVAXnB",
        "outputId": "f260455f-40a9-4596-e23b-044e865f6ecf"
      },
      "source": [
        "# Importing tensorflow \n",
        "import tensorflow as tf\n",
        "print(tf.__version__)"
      ],
      "execution_count": 1,
      "outputs": [
        {
          "output_type": "stream",
          "text": [
            "2.4.1\n"
          ],
          "name": "stdout"
        }
      ]
    },
    {
      "cell_type": "markdown",
      "metadata": {
        "id": "OvKuCCitAquA"
      },
      "source": [
        "# Introduction to Neural Network with Tensorflow \n",
        "\n",
        "In this notebook we're going to learn how to write neural networks for classification problem.\n",
        "\n",
        "A classification is where you try to classify as one thing or another, there are few types of classification:\n",
        "- Binary Classification\n",
        "- Multi-Class Classification\n",
        "- Multi-Label Classification"
      ]
    },
    {
      "cell_type": "code",
      "metadata": {
        "id": "lJIqrYA1VqEP"
      },
      "source": [
        "# Creating data to view and fit, getting a toy data \n",
        "\n",
        "from sklearn.datasets import make_circles\n",
        "\n",
        "# Make 1000 samples\n",
        "n_samples = 1000\n",
        "\n",
        "# Create circles \n",
        "X , y = make_circles(n_samples , noise = 0.03 , random_state = 42)"
      ],
      "execution_count": 2,
      "outputs": []
    },
    {
      "cell_type": "code",
      "metadata": {
        "colab": {
          "base_uri": "https://localhost:8080/"
        },
        "id": "xqzN1tBhV3jE",
        "outputId": "95e1179e-4625-4ddf-9b43-f261afa6c8a6"
      },
      "source": [
        "# Check out the features / X\n",
        "X"
      ],
      "execution_count": 3,
      "outputs": [
        {
          "output_type": "execute_result",
          "data": {
            "text/plain": [
              "array([[ 0.75424625,  0.23148074],\n",
              "       [-0.75615888,  0.15325888],\n",
              "       [-0.81539193,  0.17328203],\n",
              "       ...,\n",
              "       [-0.13690036, -0.81001183],\n",
              "       [ 0.67036156, -0.76750154],\n",
              "       [ 0.28105665,  0.96382443]])"
            ]
          },
          "metadata": {
            "tags": []
          },
          "execution_count": 3
        }
      ]
    },
    {
      "cell_type": "code",
      "metadata": {
        "colab": {
          "base_uri": "https://localhost:8080/"
        },
        "id": "RHRfVZXnWdub",
        "outputId": "26804dc9-d2aa-48bc-a662-87af20544145"
      },
      "source": [
        "# Checking out the labels \n",
        "y[:15] # We are working on Binary Classification"
      ],
      "execution_count": 4,
      "outputs": [
        {
          "output_type": "execute_result",
          "data": {
            "text/plain": [
              "array([1, 1, 1, 1, 0, 1, 1, 1, 1, 0, 1, 0, 1, 1, 1])"
            ]
          },
          "metadata": {
            "tags": []
          },
          "execution_count": 4
        }
      ]
    },
    {
      "cell_type": "markdown",
      "metadata": {
        "id": "Cpha0s-9We--"
      },
      "source": [
        "Our data is little hard to understand now, let's visualize it."
      ]
    },
    {
      "cell_type": "code",
      "metadata": {
        "colab": {
          "base_uri": "https://localhost:8080/",
          "height": 204
        },
        "id": "Q03AvOVXW7mt",
        "outputId": "352e0d3d-2d39-4723-8afd-2ec1d4f2016b"
      },
      "source": [
        "import pandas as pd\n",
        "\n",
        "# Creating a dataframe with the data\n",
        "circles = pd.DataFrame({'X0': X[: , 0] , 'X1':X[: , 1] , 'label':y})\n",
        "circles.head()"
      ],
      "execution_count": 5,
      "outputs": [
        {
          "output_type": "execute_result",
          "data": {
            "text/html": [
              "<div>\n",
              "<style scoped>\n",
              "    .dataframe tbody tr th:only-of-type {\n",
              "        vertical-align: middle;\n",
              "    }\n",
              "\n",
              "    .dataframe tbody tr th {\n",
              "        vertical-align: top;\n",
              "    }\n",
              "\n",
              "    .dataframe thead th {\n",
              "        text-align: right;\n",
              "    }\n",
              "</style>\n",
              "<table border=\"1\" class=\"dataframe\">\n",
              "  <thead>\n",
              "    <tr style=\"text-align: right;\">\n",
              "      <th></th>\n",
              "      <th>X0</th>\n",
              "      <th>X1</th>\n",
              "      <th>label</th>\n",
              "    </tr>\n",
              "  </thead>\n",
              "  <tbody>\n",
              "    <tr>\n",
              "      <th>0</th>\n",
              "      <td>0.754246</td>\n",
              "      <td>0.231481</td>\n",
              "      <td>1</td>\n",
              "    </tr>\n",
              "    <tr>\n",
              "      <th>1</th>\n",
              "      <td>-0.756159</td>\n",
              "      <td>0.153259</td>\n",
              "      <td>1</td>\n",
              "    </tr>\n",
              "    <tr>\n",
              "      <th>2</th>\n",
              "      <td>-0.815392</td>\n",
              "      <td>0.173282</td>\n",
              "      <td>1</td>\n",
              "    </tr>\n",
              "    <tr>\n",
              "      <th>3</th>\n",
              "      <td>-0.393731</td>\n",
              "      <td>0.692883</td>\n",
              "      <td>1</td>\n",
              "    </tr>\n",
              "    <tr>\n",
              "      <th>4</th>\n",
              "      <td>0.442208</td>\n",
              "      <td>-0.896723</td>\n",
              "      <td>0</td>\n",
              "    </tr>\n",
              "  </tbody>\n",
              "</table>\n",
              "</div>"
            ],
            "text/plain": [
              "         X0        X1  label\n",
              "0  0.754246  0.231481      1\n",
              "1 -0.756159  0.153259      1\n",
              "2 -0.815392  0.173282      1\n",
              "3 -0.393731  0.692883      1\n",
              "4  0.442208 -0.896723      0"
            ]
          },
          "metadata": {
            "tags": []
          },
          "execution_count": 5
        }
      ]
    },
    {
      "cell_type": "code",
      "metadata": {
        "colab": {
          "base_uri": "https://localhost:8080/",
          "height": 265
        },
        "id": "6skClp_JXIpn",
        "outputId": "2f6f54ea-34a5-45f2-ebad-7e5be69f36e8"
      },
      "source": [
        "# Visualize the plot \n",
        "import matplotlib.pyplot as plt\n",
        "\n",
        "# Plotting the above data\n",
        "plt.scatter(X[: , 0] , X[: , 1] , cmap=plt.cm.RdYlBu , c=y);"
      ],
      "execution_count": 6,
      "outputs": [
        {
          "output_type": "display_data",
          "data": {
            "image/png": "[encoded data removed]",
            "text/plain": [
              "<Figure size 432x288 with 1 Axes>"
            ]
          },
          "metadata": {
            "tags": [],
            "needs_background": "light"
          }
        }
      ]
    },
    {
      "cell_type": "code",
      "metadata": {
        "colab": {
          "base_uri": "https://localhost:8080/"
        },
        "id": "J0KHxKOgYKom",
        "outputId": "0ff92e9a-51ca-473a-9079-eb52fcd36592"
      },
      "source": [
        "# Checking the shape of our data \n",
        "X.shape , y.shape"
      ],
      "execution_count": 7,
      "outputs": [
        {
          "output_type": "execute_result",
          "data": {
            "text/plain": [
              "((1000, 2), (1000,))"
            ]
          },
          "metadata": {
            "tags": []
          },
          "execution_count": 7
        }
      ]
    },
    {
      "cell_type": "code",
      "metadata": {
        "colab": {
          "base_uri": "https://localhost:8080/"
        },
        "id": "nd55k43dcR6b",
        "outputId": "042de015-ae1e-4317-d370-19ffb8da93a5"
      },
      "source": [
        "# How many samples we're working with \n",
        "len(X) , len(y)"
      ],
      "execution_count": 8,
      "outputs": [
        {
          "output_type": "execute_result",
          "data": {
            "text/plain": [
              "(1000, 1000)"
            ]
          },
          "metadata": {
            "tags": []
          },
          "execution_count": 8
        }
      ]
    },
    {
      "cell_type": "code",
      "metadata": {
        "colab": {
          "base_uri": "https://localhost:8080/"
        },
        "id": "QArAKrGCc97M",
        "outputId": "4ba111cb-6d72-4430-852c-721dc6e2ff9e"
      },
      "source": [
        "# Viewing the first example of our features and labels \n",
        "X[0] , y[0]"
      ],
      "execution_count": 9,
      "outputs": [
        {
          "output_type": "execute_result",
          "data": {
            "text/plain": [
              "(array([0.75424625, 0.23148074]), 1)"
            ]
          },
          "metadata": {
            "tags": []
          },
          "execution_count": 9
        }
      ]
    },
    {
      "cell_type": "markdown",
      "metadata": {
        "id": "vY-me9qldFeW"
      },
      "source": [
        "## Steps in Modelling \n",
        "\n",
        "How might we build a classification model to classify whether something is blue dot or red dot.\n",
        "\n",
        "1. Create a model \n",
        "2. Compile the mode\n",
        "3. Fit the model\n",
        "4. Evaluate the model \n",
        "5. Tweak \n",
        "6. Evaluate...."
      ]
    },
    {
      "cell_type": "code",
      "metadata": {
        "colab": {
          "base_uri": "https://localhost:8080/",
          "height": 296
        },
        "id": "nQnsafwDdalt",
        "outputId": "4b151efa-0a3d-4868-80c3-0c1715757429"
      },
      "source": [
        "# Taking up the challenge, building a model\n",
        "\n",
        "# Setting the seed \n",
        "tf.random.set_seed(42)\n",
        "\n",
        "# Create a model\n",
        "model = tf.keras.Sequential([\n",
        "  tf.keras.layers.Dense(10) , \n",
        "  tf.keras.layers.Dense(1)\n",
        "])\n",
        "\n",
        "# Compiling the model \n",
        "model.compile(loss = tf.keras.losses.BinaryCrossentropy() , \n",
        "              optimizer = tf.keras.optimizers.Adam() , \n",
        "              metrics = ['accuracy'])\n",
        "\n",
        "# Fitting the model \n",
        "history = model.fit(X , y , epochs = 100 , verbose = 0)\n",
        "\n",
        "# Plotting the loss curve \n",
        "pd.DataFrame(history.history).plot()\n",
        "plt.ylabel('loss')\n",
        "plt.xlabel('epochs')"
      ],
      "execution_count": 10,
      "outputs": [
        {
          "output_type": "execute_result",
          "data": {
            "text/plain": [
              "Text(0.5, 0, 'epochs')"
            ]
          },
          "metadata": {
            "tags": []
          },
          "execution_count": 10
        },
        {
          "output_type": "display_data",
          "data": {
            "image/png": "[encoded data removed]",
            "text/plain": [
              "<Figure size 432x288 with 1 Axes>"
            ]
          },
          "metadata": {
            "tags": [],
            "needs_background": "light"
          }
        }
      ]
    },
    {
      "cell_type": "markdown",
      "metadata": {
        "id": "DTSiQoFYfCIu"
      },
      "source": [
        "Following daniel's video to build a model"
      ]
    },
    {
      "cell_type": "code",
      "metadata": {
        "colab": {
          "base_uri": "https://localhost:8080/"
        },
        "id": "OIfP0wvTkt8c",
        "outputId": "0aec5a56-eb48-4935-9e77-ce61125a51e9"
      },
      "source": [
        "# Setting the random seed \n",
        "tf.random.set_seed(42)\n",
        "\n",
        "# Creating a model\n",
        "model_1 = tf.keras.Sequential([\n",
        "  tf.keras.layers.Dense(1)\n",
        "])\n",
        "\n",
        "# Compiling the model \n",
        "model_1.compile(loss = tf.keras.losses.BinaryCrossentropy() , \n",
        "                optimizer = tf.keras.optimizers.SGD() , \n",
        "                metrics = ['accuracy'])\n",
        "\n",
        "# Fit the model \n",
        "model_1.fit(X , y , epochs = 5)"
      ],
      "execution_count": 11,
      "outputs": [
        {
          "output_type": "stream",
          "text": [
            "Epoch 1/5\n",
            "32/32 [==============================] - 0s 2ms/step - loss: 4.1198 - accuracy: 0.4378\n",
            "Epoch 2/5\n",
            "32/32 [==============================] - 0s 2ms/step - loss: 0.7207 - accuracy: 0.5530\n",
            "Epoch 3/5\n",
            "32/32 [==============================] - 0s 2ms/step - loss: 0.7033 - accuracy: 0.4836\n",
            "Epoch 4/5\n",
            "32/32 [==============================] - 0s 2ms/step - loss: 0.6925 - accuracy: 0.5180\n",
            "Epoch 5/5\n",
            "32/32 [==============================] - 0s 2ms/step - loss: 0.6937 - accuracy: 0.5157\n"
          ],
          "name": "stdout"
        },
        {
          "output_type": "execute_result",
          "data": {
            "text/plain": [
              "<tensorflow.python.keras.callbacks.History at 0x7fa9c0382ad0>"
            ]
          },
          "metadata": {
            "tags": []
          },
          "execution_count": 11
        }
      ]
    },
    {
      "cell_type": "markdown",
      "metadata": {
        "id": "dV5CI38vqWsR"
      },
      "source": [
        "It's almost getting 50% correct"
      ]
    },
    {
      "cell_type": "code",
      "metadata": {
        "colab": {
          "base_uri": "https://localhost:8080/"
        },
        "id": "lasT4B2Lrgyi",
        "outputId": "c95d62c7-889c-428f-de58-8b06202608df"
      },
      "source": [
        "# Let's try and improve our model by training longer\n",
        "model_1.fit(X , y , epochs = 200 , verbose = 0)"
      ],
      "execution_count": 12,
      "outputs": [
        {
          "output_type": "execute_result",
          "data": {
            "text/plain": [
              "<tensorflow.python.keras.callbacks.History at 0x7fa9c02860d0>"
            ]
          },
          "metadata": {
            "tags": []
          },
          "execution_count": 12
        }
      ]
    },
    {
      "cell_type": "code",
      "metadata": {
        "colab": {
          "base_uri": "https://localhost:8080/"
        },
        "id": "06XoRGKBrsro",
        "outputId": "6db70bfc-0ae5-47c3-817f-880834db67c0"
      },
      "source": [
        " # Evaluating the model \n",
        " model_1.evaluate(X , y)"
      ],
      "execution_count": 13,
      "outputs": [
        {
          "output_type": "stream",
          "text": [
            "32/32 [==============================] - 0s 1ms/step - loss: 0.6935 - accuracy: 0.5000\n"
          ],
          "name": "stdout"
        },
        {
          "output_type": "execute_result",
          "data": {
            "text/plain": [
              "[0.6934829950332642, 0.5]"
            ]
          },
          "metadata": {
            "tags": []
          },
          "execution_count": 13
        }
      ]
    },
    {
      "cell_type": "markdown",
      "metadata": {
        "id": "_MAnnTVor12D"
      },
      "source": [
        "Since we're working on a binary classification problem and our model is getting around 50% accuracy, it's performing as if it's guessing. \n",
        "\n",
        "So let's add an extra layer and see how our results go."
      ]
    },
    {
      "cell_type": "code",
      "metadata": {
        "colab": {
          "base_uri": "https://localhost:8080/"
        },
        "id": "VEu01gigsK3v",
        "outputId": "0423887e-99fb-4812-a294-f0f7e18e0e02"
      },
      "source": [
        "# Setting the random seed\n",
        "tf.random.set_seed(42)\n",
        "\n",
        "# Creating a model \n",
        "model_2 = tf.keras.Sequential([\n",
        "  tf.keras.layers.Dense(10),\n",
        "  tf.keras.layers.Dense(1)\n",
        "])\n",
        "\n",
        "# Compiling the model \n",
        "model_2.compile(loss = tf.keras.losses.BinaryCrossentropy() , \n",
        "                optimizer = tf.keras.optimizers.SGD() , \n",
        "                metrics = ['accuracy'])\n",
        "\n",
        "# Fit the model\n",
        "model_2.fit(X , y , epochs = 100 , verbose = 0)\n",
        "\n",
        "# Evaluate the model \n",
        "model_2.fit(X , y)"
      ],
      "execution_count": 14,
      "outputs": [
        {
          "output_type": "stream",
          "text": [
            "32/32 [==============================] - 0s 2ms/step - loss: 0.6961 - accuracy: 0.4640\n"
          ],
          "name": "stdout"
        },
        {
          "output_type": "execute_result",
          "data": {
            "text/plain": [
              "<tensorflow.python.keras.callbacks.History at 0x7fa9c00e9f50>"
            ]
          },
          "metadata": {
            "tags": []
          },
          "execution_count": 14
        }
      ]
    },
    {
      "cell_type": "markdown",
      "metadata": {
        "id": "7gvEUE6AttF5"
      },
      "source": [
        "## Improving our model\n",
        "\n",
        "Let's look into our bag of tricks and see how can we improve the model. \n",
        "\n",
        "1. Create a model --> we might need to add more layers (or) increase the number of hidden units within a layer.\n",
        "2. Compiling a model --> here we might choose a different optimization function.  \n",
        "3. Fitting a model --> perhaps we might fit our model for more epochs to understand the data better. \n"
      ]
    },
    {
      "cell_type": "code",
      "metadata": {
        "colab": {
          "base_uri": "https://localhost:8080/"
        },
        "id": "u3t-GSb0w6V2",
        "outputId": "7a6601a3-fe26-46f6-8d02-3fd30f6dcc5f"
      },
      "source": [
        "# Set the random seed \n",
        "tf.random.set_seed(42)\n",
        "\n",
        "# Create a model (this time 3 layers)\n",
        "model_3 = tf.keras.Sequential([\n",
        "  tf.keras.layers.Dense(100), # add 100 dense neurons\n",
        "  tf.keras.layers.Dense(10), \n",
        "  tf.keras.layers.Dense(1)\n",
        "])\n",
        "\n",
        "# Compile the model\n",
        "model_3.compile(loss = tf.keras.losses.BinaryCrossentropy() , \n",
        "                optimizer = tf.keras.optimizers.Adam() , \n",
        "                metrics = ['accuracy'])\n",
        "\n",
        "# Fitting the model\n",
        "model_3.fit(X , y , epochs = 100 , verbose = 0)\n",
        "\n",
        "# Evaluate the model \n",
        "model_3.evaluate(X , y)"
      ],
      "execution_count": 15,
      "outputs": [
        {
          "output_type": "stream",
          "text": [
            "32/32 [==============================] - 0s 2ms/step - loss: 0.6980 - accuracy: 0.5090\n"
          ],
          "name": "stdout"
        },
        {
          "output_type": "execute_result",
          "data": {
            "text/plain": [
              "[0.6980189681053162, 0.5090000033378601]"
            ]
          },
          "metadata": {
            "tags": []
          },
          "execution_count": 15
        }
      ]
    },
    {
      "cell_type": "markdown",
      "metadata": {
        "id": "9tKEPXa20TQ2"
      },
      "source": [
        "Since our model's performance wasn't improving it's better to visualize of our model's predictions so we could get a glimpse where we're going off.\n",
        "\n",
        "Let's visualize our model's predictions, let's create a function `plot_decision_boundary`, this function will:\n",
        "- Take in a trained model, feature (X) and labels (y).\n",
        "- Create a meshgrid of different X values. \n",
        "- Make predictions across the mesh grid. \n",
        "- Plot the predictions as well as a line between zones (where each unique class falls). \n"
      ]
    },
    {
      "cell_type": "code",
      "metadata": {
        "id": "QVDyr3paKY8y"
      },
      "source": [
        "# Importing numpy \n",
        "import numpy as np\n",
        "\n",
        "def plot_decision_boundary(model , X , y):\n",
        "  '''\n",
        "  Plots the decision boundary created by a model predicting on X\n",
        "  '''\n",
        "  # Define the axis boundary of the plot and create a meshgrid\n",
        "  x_min , x_max = X[: , 0].min() - 0.1 , X[: , 0].max() + 0.1   # 0.1 gives the margin\n",
        "  y_min , y_max = X[: , 1].min() - 0.1 , X[: , 1].max() + 0.1\n",
        "  xx , yy = np.meshgrid(np.linspace(x_min , x_max,  100) , np.linspace(y_min , y_max , 100)) # return 100 values equally between those values\n",
        "\n",
        "  # Create X values (we're going to make predictions on these)\n",
        "  x_in = np.c_[xx.ravel() , yy.ravel()] # Stack 2D arrays together \n",
        "\n",
        "  # Make predictions\n",
        "  y_pred = model.predict(x_in)\n",
        "\n",
        "  # Check for multi-class \n",
        "  if len(y_pred[0]) > 1:\n",
        "    print('Doing Multi-Class Classification')\n",
        "    # If so, we have to reshape our predictions to get them plotting\n",
        "    y_pred = np.argmax(y_pred , axis = 1).reshape(xx.shape)\n",
        "  else: \n",
        "    print('Doing Binary Classification')\n",
        "    y_pred = np.round(y_pred).reshape(xx.shape)\n",
        "\n",
        "    # Plot the decision boundary\n",
        "    plt.contourf(xx, yy, y_pred, cmap=plt.cm.RdYlBu, alpha=0.7)\n",
        "    plt.scatter(X[:, 0], X[:, 1], c=y, s=40, cmap=plt.cm.RdYlBu)\n",
        "    plt.xlim(xx.min(), xx.max())\n",
        "    plt.ylim(yy.min(), yy.max())\n",
        "\n"
      ],
      "execution_count": 16,
      "outputs": []
    },
    {
      "cell_type": "code",
      "metadata": {
        "colab": {
          "base_uri": "https://localhost:8080/",
          "height": 282
        },
        "id": "_p979UEvP-qi",
        "outputId": "97a3747c-993b-423f-d82d-a5c200a767f9"
      },
      "source": [
        "# Check out the predictions our models predicting\n",
        "plot_decision_boundary(model = model_3 , \n",
        "                       X = X , \n",
        "                       y = y)"
      ],
      "execution_count": 17,
      "outputs": [
        {
          "output_type": "stream",
          "text": [
            "Doing Binary Classification\n"
          ],
          "name": "stdout"
        },
        {
          "output_type": "display_data",
          "data": {
            "image/png": "[encoded data removed]",
            "text/plain": [
              "<Figure size 432x288 with 1 Axes>"
            ]
          },
          "metadata": {
            "tags": [],
            "needs_background": "light"
          }
        }
      ]
    },
    {
      "cell_type": "markdown",
      "metadata": {
        "id": "pszKvjnDQK6i"
      },
      "source": [
        "Our model is trying to draw a line which in our case won't help since we are dealing with classification problem. The straight line is a linear decision boundary (line) but here we have a non-linear data (data not lined up in a linear way). \n",
        "\n",
        "Whenever your model is performing strangely or there's something going odd, visualize, visualize , visualize.\n",
        "\n",
        "Let's see if our model can be used for a regression model!\n"
      ]
    },
    {
      "cell_type": "code",
      "metadata": {
        "colab": {
          "base_uri": "https://localhost:8080/"
        },
        "id": "cqRQirsXW7jV",
        "outputId": "d98c2abc-a363-4c70-d5c0-bf196a5dcb19"
      },
      "source": [
        "# Create some regression data \n",
        "tf.random.set_seed(42)\n",
        "\n",
        "# Create some regression data \n",
        "X_regression = tf.range(0, 1000, 5)\n",
        "y_regression = tf.range(100 , 1100 , 5) # the function we're trying to predict is y = x + 10\n",
        "\n",
        "# Let's split our data in train and test\n",
        "X_reg_train = X_regression[:150]\n",
        "X_reg_test = X_regression[150:]\n",
        "y_reg_train = y_regression[:150]\n",
        "y_reg_test = y_regression[150:]\n",
        "\n",
        "# Checkin the shape \n",
        "X_reg_train.shape , X_reg_test.shape , y_reg_train.shape ,  y_reg_test.shape\n",
        "\n",
        "# Fit our model to the regression data \n",
        "# model_3.fit(X_reg_train , y_reg_train , epochs = 100)"
      ],
      "execution_count": 18,
      "outputs": [
        {
          "output_type": "execute_result",
          "data": {
            "text/plain": [
              "(TensorShape([150]), TensorShape([50]), TensorShape([150]), TensorShape([50]))"
            ]
          },
          "metadata": {
            "tags": []
          },
          "execution_count": 18
        }
      ]
    },
    {
      "cell_type": "markdown",
      "metadata": {
        "id": "WU7y9wuLYBrm"
      },
      "source": [
        "The error is because earlier we compiled our model for the **Binary Classification** problem, but now we're trying to fit a data which doesn't represent a classification problem nor could satisfy our model needs as we described before. \n",
        "\n",
        "```\n",
        "/usr/local/lib/python3.7/dist-packages/tensorflow/python/framework/func_graph.py in wrapper(*args, **kwargs)\n",
        "    975           except Exception as e:  # pylint:disable=broad-except\n",
        "    976             if hasattr(e, \"ag_error_metadata\"):\n",
        "--> 977               raise e.ag_error_metadata.to_exception(e)\n",
        "    978             else:\n",
        "    979               raise\n",
        "\n",
        "ValueError: in user code:\n",
        "\n",
        "    /usr/local/lib/python3.7/dist-packages/tensorflow/python/keras/engine/training.py:805 train_function  *\n",
        "        return step_function(self, iterator)\n",
        "    /usr/local/lib/python3.7/dist-packages/tensorflow/python/keras/engine/training.py:795 step_function  **\n",
        "        outputs = model.distribute_strategy.run(run_step, args=(data,))\n",
        "    /usr/local/lib/python3.7/dist-packages/tensorflow/python/distribute/distribute_lib.py:1259 run\n",
        "        return self._extended.call_for_each_replica(fn, args=args, kwargs=kwargs)\n",
        "    /usr/local/lib/python3.7/dist-packages/tensorflow/python/distribute/distribute_lib.py:2730 call_for_each_replica\n",
        "        return self._call_for_each_replica(fn, args, kwargs)\n",
        "    /usr/local/lib/python3.7/dist-packages/tensorflow/python/distribute/distribute_lib.py:3417 _call_for_each_replica\n",
        "        return fn(*args, **kwargs)\n",
        "    /usr/local/lib/python3.7/dist-packages/tensorflow/python/keras/engine/training.py:788 run_step  **\n",
        "        outputs = model.train_step(data)\n",
        "    /usr/local/lib/python3.7/dist-packages/tensorflow/python/keras/engine/training.py:754 train_step\n",
        "        y_pred = self(x, training=True)\n",
        "    /usr/local/lib/python3.7/dist-packages/tensorflow/python/keras/engine/base_layer.py:998 __call__\n",
        "        input_spec.assert_input_compatibility(self.input_spec, inputs, self.name)\n",
        "    /usr/local/lib/python3.7/dist-packages/tensorflow/python/keras/engine/input_spec.py:259 assert_input_compatibility\n",
        "        ' but received input with shape ' + display_shape(x.shape))\n",
        "\n",
        "    ValueError: Input 0 of layer sequential_3 is incompatible with the layer: expected axis -1 of input shape to have value 2 but received input with shape (None, 1)\n",
        "```\n",
        "\n",
        "Let's change our model to deal with the regression model."
      ]
    },
    {
      "cell_type": "code",
      "metadata": {
        "colab": {
          "base_uri": "https://localhost:8080/"
        },
        "id": "X3UEqOhTYxxp",
        "outputId": "a0f39435-3b83-4630-816a-028a9db3b40a"
      },
      "source": [
        "# Getting ready for regression data \n",
        "tf.random.set_seed(42)\n",
        "\n",
        "# Create a model\n",
        "model_3 = tf.keras.Sequential([\n",
        " tf.keras.layers.Dense(100), \n",
        " tf.keras.layers.Dense(10),\n",
        " tf.keras.layers.Dense(1)\n",
        "])\n",
        "\n",
        "# Compile the model \n",
        "model_3.compile(loss = tf.keras.losses.mae , \n",
        "                optimizer = tf.keras.optimizers.Adam(), \n",
        "                metrics = ['mae'])\n",
        "\n",
        "# Fit the model\n",
        "history = model_3.fit(X_reg_train , y_reg_train , epochs = 100 , verbose = 0)\n",
        "\n",
        "# Evaluating on test data \n",
        "model_3.evaluate(X_reg_test , y_reg_test)"
      ],
      "execution_count": 19,
      "outputs": [
        {
          "output_type": "stream",
          "text": [
            "2/2 [==============================] - 0s 6ms/step - loss: 57.8962 - mae: 57.8962\n"
          ],
          "name": "stdout"
        },
        {
          "output_type": "execute_result",
          "data": {
            "text/plain": [
              "[57.89622116088867, 57.89622116088867]"
            ]
          },
          "metadata": {
            "tags": []
          },
          "execution_count": 19
        }
      ]
    },
    {
      "cell_type": "code",
      "metadata": {
        "colab": {
          "base_uri": "https://localhost:8080/",
          "height": 428
        },
        "id": "pMxhLYFRY2Ik",
        "outputId": "e6cdbeae-360f-44e7-bc76-394237517273"
      },
      "source": [
        "# Make predictions \n",
        "y_reg_preds = model_3.predict(X_reg_test)\n",
        "\n",
        "# Plot the model's prediction against our regression data \n",
        "plt.figure(figsize = (10 ,7))\n",
        "plt.scatter(X_reg_train , y_reg_train , c='b' , label = 'Training data')\n",
        "plt.scatter(X_reg_test , y_reg_test , c='g' , label ='Test data')\n",
        "plt.scatter(X_reg_test , y_reg_preds , c='r' , label = 'Predictions')\n",
        "plt.legend();"
      ],
      "execution_count": 20,
      "outputs": [
        {
          "output_type": "display_data",
          "data": {
            "image/png": "[encoded data removed]",
            "text/plain": [
              "<Figure size 720x504 with 1 Axes>"
            ]
          },
          "metadata": {
            "tags": [],
            "needs_background": "light"
          }
        }
      ]
    },
    {
      "cell_type": "markdown",
      "metadata": {
        "id": "bvEsCX-Pa3n8"
      },
      "source": [
        "We should tweak into Non-linearity (missing piece)\n",
        "\n",
        "## Non-Linearity\n",
        "\n"
      ]
    },
    {
      "cell_type": "code",
      "metadata": {
        "colab": {
          "base_uri": "https://localhost:8080/"
        },
        "id": "aVRE-MdBcGQ1",
        "outputId": "9d10e0a3-56ff-4a04-da0b-3d73ffedd5ba"
      },
      "source": [
        "# Let's build a model at first \n",
        "tf.random.set_seed(42)\n",
        "\n",
        "# Create a model \n",
        "model_4 = tf.keras.Sequential([\n",
        "  tf.keras.layers.Dense(1 , activation=tf.keras.activations.linear), # using a activation for our layer\n",
        "\n",
        "])\n",
        "\n",
        "# Compile our model \n",
        "model_4.compile(loss = tf.keras.losses.BinaryCrossentropy() , \n",
        "                optimizer = tf.keras.optimizers.Adam(lr = 0.001), \n",
        "                metrics = ['accuracy'])\n",
        "\n",
        "# Fit the model \n",
        "history = model_4.fit(X , y , epochs = 100)"
      ],
      "execution_count": null,
      "outputs": [
        {
          "output_type": "stream",
          "text": [
            "Epoch 1/100\n",
            "32/32 [==============================] - 0s 2ms/step - loss: 4.6225 - accuracy: 0.4548\n",
            "Epoch 2/100\n",
            "32/32 [==============================] - 0s 2ms/step - loss: 4.3079 - accuracy: 0.4220\n",
            "Epoch 3/100\n",
            "32/32 [==============================] - 0s 2ms/step - loss: 4.5266 - accuracy: 0.4276\n",
            "Epoch 4/100\n",
            "32/32 [==============================] - 0s 2ms/step - loss: 4.0583 - accuracy: 0.4295\n",
            "Epoch 5/100\n",
            "32/32 [==============================] - 0s 2ms/step - loss: 4.2318 - accuracy: 0.4045\n",
            "Epoch 6/100\n",
            "32/32 [==============================] - 0s 2ms/step - loss: 3.7717 - accuracy: 0.4447\n",
            "Epoch 7/100\n",
            "32/32 [==============================] - 0s 2ms/step - loss: 3.9152 - accuracy: 0.4201\n",
            "Epoch 8/100\n",
            "32/32 [==============================] - 0s 2ms/step - loss: 3.5773 - accuracy: 0.4180\n",
            "Epoch 9/100\n",
            "32/32 [==============================] - 0s 2ms/step - loss: 3.9012 - accuracy: 0.3986\n",
            "Epoch 10/100\n",
            "32/32 [==============================] - 0s 2ms/step - loss: 3.5076 - accuracy: 0.4451\n",
            "Epoch 11/100\n",
            "32/32 [==============================] - 0s 2ms/step - loss: 3.4968 - accuracy: 0.4289\n",
            "Epoch 12/100\n",
            "32/32 [==============================] - 0s 2ms/step - loss: 3.5286 - accuracy: 0.4288\n",
            "Epoch 13/100\n",
            "32/32 [==============================] - 0s 2ms/step - loss: 3.4337 - accuracy: 0.4506\n",
            "Epoch 14/100\n",
            "32/32 [==============================] - 0s 2ms/step - loss: 3.7664 - accuracy: 0.4203\n",
            "Epoch 15/100\n",
            "32/32 [==============================] - 0s 2ms/step - loss: 3.4700 - accuracy: 0.4277\n",
            "Epoch 16/100\n",
            "32/32 [==============================] - 0s 2ms/step - loss: 3.7509 - accuracy: 0.4232\n",
            "Epoch 17/100\n",
            "32/32 [==============================] - 0s 3ms/step - loss: 3.6044 - accuracy: 0.4219\n",
            "Epoch 18/100\n",
            "32/32 [==============================] - 0s 2ms/step - loss: 3.5001 - accuracy: 0.4359\n",
            "Epoch 19/100\n",
            "32/32 [==============================] - 0s 2ms/step - loss: 3.7194 - accuracy: 0.4338\n",
            "Epoch 20/100\n",
            "32/32 [==============================] - 0s 2ms/step - loss: 3.3191 - accuracy: 0.4729\n",
            "Epoch 21/100\n",
            "32/32 [==============================] - 0s 2ms/step - loss: 3.6269 - accuracy: 0.4393\n",
            "Epoch 22/100\n",
            "32/32 [==============================] - 0s 2ms/step - loss: 3.1774 - accuracy: 0.4711\n",
            "Epoch 23/100\n",
            "32/32 [==============================] - 0s 2ms/step - loss: 3.1919 - accuracy: 0.4353\n",
            "Epoch 24/100\n",
            "32/32 [==============================] - 0s 2ms/step - loss: 3.6255 - accuracy: 0.4510\n",
            "Epoch 25/100\n",
            "32/32 [==============================] - 0s 3ms/step - loss: 3.1884 - accuracy: 0.4532\n",
            "Epoch 26/100\n",
            "32/32 [==============================] - 0s 2ms/step - loss: 3.2194 - accuracy: 0.4687\n",
            "Epoch 27/100\n",
            "32/32 [==============================] - 0s 2ms/step - loss: 3.0865 - accuracy: 0.4493\n",
            "Epoch 28/100\n",
            "32/32 [==============================] - 0s 2ms/step - loss: 2.9507 - accuracy: 0.4491\n",
            "Epoch 29/100\n",
            "32/32 [==============================] - 0s 2ms/step - loss: 2.6238 - accuracy: 0.4571\n",
            "Epoch 30/100\n",
            "32/32 [==============================] - 0s 2ms/step - loss: 2.5003 - accuracy: 0.4641\n",
            "Epoch 31/100\n",
            "32/32 [==============================] - 0s 2ms/step - loss: 2.8844 - accuracy: 0.4527\n",
            "Epoch 32/100\n",
            "32/32 [==============================] - 0s 2ms/step - loss: 2.5738 - accuracy: 0.4631\n",
            "Epoch 33/100\n",
            "32/32 [==============================] - 0s 2ms/step - loss: 2.6283 - accuracy: 0.4463\n",
            "Epoch 34/100\n",
            "32/32 [==============================] - 0s 2ms/step - loss: 2.4644 - accuracy: 0.4471\n",
            "Epoch 35/100\n",
            "32/32 [==============================] - 0s 2ms/step - loss: 2.3848 - accuracy: 0.4628\n",
            "Epoch 36/100\n",
            "32/32 [==============================] - 0s 2ms/step - loss: 1.6537 - accuracy: 0.4683\n",
            "Epoch 37/100\n",
            "32/32 [==============================] - 0s 2ms/step - loss: 1.0058 - accuracy: 0.4674\n",
            "Epoch 38/100\n",
            "32/32 [==============================] - 0s 2ms/step - loss: 0.9887 - accuracy: 0.4548\n",
            "Epoch 39/100\n",
            "32/32 [==============================] - 0s 2ms/step - loss: 0.9955 - accuracy: 0.4663\n",
            "Epoch 40/100\n",
            "32/32 [==============================] - 0s 2ms/step - loss: 0.9871 - accuracy: 0.4822\n",
            "Epoch 41/100\n",
            "32/32 [==============================] - 0s 2ms/step - loss: 1.0254 - accuracy: 0.4210\n",
            "Epoch 42/100\n",
            "32/32 [==============================] - 0s 2ms/step - loss: 0.9891 - accuracy: 0.4562\n",
            "Epoch 43/100\n",
            "32/32 [==============================] - 0s 2ms/step - loss: 0.9286 - accuracy: 0.4819\n",
            "Epoch 44/100\n",
            "32/32 [==============================] - 0s 2ms/step - loss: 0.8974 - accuracy: 0.4791\n",
            "Epoch 45/100\n",
            "32/32 [==============================] - 0s 2ms/step - loss: 0.9301 - accuracy: 0.4763\n",
            "Epoch 46/100\n",
            "32/32 [==============================] - 0s 2ms/step - loss: 0.9103 - accuracy: 0.4891\n",
            "Epoch 47/100\n",
            "32/32 [==============================] - 0s 2ms/step - loss: 0.9652 - accuracy: 0.4466\n",
            "Epoch 48/100\n",
            "32/32 [==============================] - 0s 2ms/step - loss: 0.9209 - accuracy: 0.4821\n",
            "Epoch 49/100\n",
            "32/32 [==============================] - 0s 2ms/step - loss: 0.9258 - accuracy: 0.4629\n",
            "Epoch 50/100\n",
            "32/32 [==============================] - 0s 2ms/step - loss: 0.9354 - accuracy: 0.4626\n",
            "Epoch 51/100\n",
            "32/32 [==============================] - 0s 2ms/step - loss: 0.8906 - accuracy: 0.4648\n",
            "Epoch 52/100\n",
            "32/32 [==============================] - 0s 2ms/step - loss: 0.9095 - accuracy: 0.4576\n",
            "Epoch 53/100\n",
            "32/32 [==============================] - 0s 2ms/step - loss: 0.8815 - accuracy: 0.4849\n",
            "Epoch 54/100\n",
            "32/32 [==============================] - 0s 2ms/step - loss: 0.8841 - accuracy: 0.4748\n",
            "Epoch 55/100\n",
            "32/32 [==============================] - 0s 2ms/step - loss: 0.8923 - accuracy: 0.4753\n",
            "Epoch 56/100\n",
            "32/32 [==============================] - 0s 2ms/step - loss: 0.8921 - accuracy: 0.4524\n",
            "Epoch 57/100\n",
            "32/32 [==============================] - 0s 2ms/step - loss: 0.8540 - accuracy: 0.4791\n",
            "Epoch 58/100\n",
            "32/32 [==============================] - 0s 2ms/step - loss: 0.8956 - accuracy: 0.4541\n",
            "Epoch 59/100\n",
            "32/32 [==============================] - 0s 2ms/step - loss: 0.9318 - accuracy: 0.4417\n",
            "Epoch 60/100\n",
            "32/32 [==============================] - 0s 2ms/step - loss: 0.8861 - accuracy: 0.4614\n",
            "Epoch 61/100\n",
            "32/32 [==============================] - 0s 2ms/step - loss: 0.8809 - accuracy: 0.4614\n",
            "Epoch 62/100\n",
            "32/32 [==============================] - 0s 2ms/step - loss: 0.8906 - accuracy: 0.4593\n",
            "Epoch 63/100\n",
            "32/32 [==============================] - 0s 2ms/step - loss: 0.8738 - accuracy: 0.4411\n",
            "Epoch 64/100\n",
            "32/32 [==============================] - 0s 2ms/step - loss: 0.8538 - accuracy: 0.4843\n",
            "Epoch 65/100\n",
            "32/32 [==============================] - 0s 2ms/step - loss: 0.8591 - accuracy: 0.4545\n",
            "Epoch 66/100\n",
            "32/32 [==============================] - 0s 2ms/step - loss: 0.8821 - accuracy: 0.4345\n",
            "Epoch 67/100\n",
            "32/32 [==============================] - 0s 2ms/step - loss: 0.8627 - accuracy: 0.4598\n",
            "Epoch 68/100\n",
            "32/32 [==============================] - 0s 2ms/step - loss: 0.8697 - accuracy: 0.4682\n",
            "Epoch 69/100\n",
            "32/32 [==============================] - 0s 2ms/step - loss: 0.8632 - accuracy: 0.4597\n",
            "Epoch 70/100\n",
            "32/32 [==============================] - 0s 2ms/step - loss: 0.8475 - accuracy: 0.4623\n",
            "Epoch 71/100\n",
            "32/32 [==============================] - 0s 2ms/step - loss: 0.8060 - accuracy: 0.4972\n",
            "Epoch 72/100\n",
            "32/32 [==============================] - 0s 2ms/step - loss: 0.8304 - accuracy: 0.4859\n",
            "Epoch 73/100\n",
            "32/32 [==============================] - 0s 2ms/step - loss: 0.8633 - accuracy: 0.4411\n",
            "Epoch 74/100\n",
            "32/32 [==============================] - 0s 2ms/step - loss: 0.8387 - accuracy: 0.4743\n",
            "Epoch 75/100\n",
            "32/32 [==============================] - 0s 2ms/step - loss: 0.8582 - accuracy: 0.4475\n",
            "Epoch 76/100\n",
            "32/32 [==============================] - 0s 2ms/step - loss: 0.8115 - accuracy: 0.4807\n",
            "Epoch 77/100\n",
            "32/32 [==============================] - 0s 2ms/step - loss: 0.8442 - accuracy: 0.4558\n",
            "Epoch 78/100\n",
            "32/32 [==============================] - 0s 2ms/step - loss: 0.8179 - accuracy: 0.4883\n",
            "Epoch 79/100\n",
            "32/32 [==============================] - 0s 2ms/step - loss: 0.8269 - accuracy: 0.4758\n",
            "Epoch 80/100\n",
            "32/32 [==============================] - 0s 2ms/step - loss: 0.8372 - accuracy: 0.4549\n",
            "Epoch 81/100\n",
            "32/32 [==============================] - 0s 2ms/step - loss: 0.8330 - accuracy: 0.4571\n",
            "Epoch 82/100\n",
            "32/32 [==============================] - 0s 2ms/step - loss: 0.8199 - accuracy: 0.4674\n",
            "Epoch 83/100\n",
            "32/32 [==============================] - 0s 2ms/step - loss: 0.7923 - accuracy: 0.4799\n",
            "Epoch 84/100\n",
            "32/32 [==============================] - 0s 2ms/step - loss: 0.8043 - accuracy: 0.4862\n",
            "Epoch 85/100\n",
            "32/32 [==============================] - 0s 2ms/step - loss: 0.7984 - accuracy: 0.4776\n",
            "Epoch 86/100\n",
            "32/32 [==============================] - 0s 2ms/step - loss: 0.8263 - accuracy: 0.4558\n",
            "Epoch 87/100\n",
            "32/32 [==============================] - 0s 2ms/step - loss: 0.8214 - accuracy: 0.4644\n",
            "Epoch 88/100\n",
            "32/32 [==============================] - 0s 2ms/step - loss: 0.8052 - accuracy: 0.4564\n",
            "Epoch 89/100\n",
            "32/32 [==============================] - 0s 2ms/step - loss: 0.8420 - accuracy: 0.4662\n",
            "Epoch 90/100\n",
            "32/32 [==============================] - 0s 2ms/step - loss: 0.7903 - accuracy: 0.4883\n",
            "Epoch 91/100\n",
            "32/32 [==============================] - 0s 2ms/step - loss: 0.7803 - accuracy: 0.4863\n",
            "Epoch 92/100\n",
            "32/32 [==============================] - 0s 2ms/step - loss: 0.8084 - accuracy: 0.4842\n",
            "Epoch 93/100\n",
            "32/32 [==============================] - 0s 2ms/step - loss: 0.7968 - accuracy: 0.4738\n",
            "Epoch 94/100\n",
            "32/32 [==============================] - 0s 2ms/step - loss: 0.8153 - accuracy: 0.4521\n",
            "Epoch 95/100\n",
            "32/32 [==============================] - 0s 2ms/step - loss: 0.7802 - accuracy: 0.4947\n",
            "Epoch 96/100\n",
            "32/32 [==============================] - 0s 2ms/step - loss: 0.7768 - accuracy: 0.4870\n"
          ],
          "name": "stdout"
        }
      ]
    },
    {
      "cell_type": "code",
      "metadata": {
        "id": "-pUi5_2ztJdw"
      },
      "source": [
        "# Check out our data \n",
        "plt.scatter(X[: , 0] , X[: , 1] , c=y , cmap = plt.cm.RdYlBu)"
      ],
      "execution_count": null,
      "outputs": []
    },
    {
      "cell_type": "code",
      "metadata": {
        "id": "Egau5y44tgYG"
      },
      "source": [
        "# Check the decision boundary for our latest model \n",
        "plot_decision_boundary(model=model_4 , X=X , y=y)"
      ],
      "execution_count": null,
      "outputs": []
    },
    {
      "cell_type": "markdown",
      "metadata": {
        "id": "V2kq1xPKtsze"
      },
      "source": [
        "Let's try build our first neural network with a non-linear activation function (anything that isn't linear). "
      ]
    },
    {
      "cell_type": "code",
      "metadata": {
        "id": "eIpsem4bw6Ap"
      },
      "source": [
        "# Set random seed \n",
        "tf.random.set_seed(42)\n",
        "\n",
        "# Create a model with non-linear activation \n",
        "model_5 = tf.keras.Sequential([\n",
        "  tf.keras.layers.Dense(1, activation=tf.keras.activations.relu)\n",
        "])\n",
        "\n",
        "# Compile the model \n",
        "model_5.compile(loss = tf.keras.losses.BinaryCrossentropy() , \n",
        "                optimizer = tf.keras.optimizers.Adam() , \n",
        "                metrics = ['accuracy'])\n",
        "\n",
        "# Fit the model \n",
        "history = model_5.fit(X , y , epochs = 100)"
      ],
      "execution_count": null,
      "outputs": []
    },
    {
      "cell_type": "markdown",
      "metadata": {
        "id": "Dr4s5l9LxTRm"
      },
      "source": [
        "Time to replicate the multi-layer neural network from the TensorFlow Playground "
      ]
    },
    {
      "cell_type": "code",
      "metadata": {
        "id": "BgNFOPphyywb"
      },
      "source": [
        "# Set the random seed \n",
        "tf.random.set_seed(42)\n",
        "\n",
        "# Create the model \n",
        "model_6 = tf.keras.Sequential([\n",
        "  tf.keras.layers.Dense(4 , activation=tf.keras.activations.relu) , \n",
        "  tf.keras.layers.Dense(4 , activation = tf.keras.activations.relu),\n",
        "  tf.keras.layers.Dense(1)\n",
        "])\n",
        "\n",
        "# Compiling the model \n",
        "model_6.compile(loss = tf.keras.losses.BinaryCrossentropy() , \n",
        "                optimizer = tf.keras.optimizers.Adam(lr = 0.001) , \n",
        "                metrics = ['accuracy'])\n",
        "\n",
        "# Fit the model \n",
        "history = model_6.fit(X , y , epochs = 100)"
      ],
      "execution_count": null,
      "outputs": []
    },
    {
      "cell_type": "code",
      "metadata": {
        "id": "wVZjKWf_zgPK"
      },
      "source": [
        "# Evaluting the model \n",
        "model_6.evaluate(X , y)"
      ],
      "execution_count": null,
      "outputs": []
    },
    {
      "cell_type": "markdown",
      "metadata": {
        "id": "lNnK2Rwvz4wu"
      },
      "source": [
        "Let's visualize our model's predictions"
      ]
    },
    {
      "cell_type": "code",
      "metadata": {
        "id": "yd9tFCoyz_sn"
      },
      "source": [
        "# Using the function \n",
        "plot_decision_boundary(model_6 , X , y)"
      ],
      "execution_count": null,
      "outputs": []
    },
    {
      "cell_type": "markdown",
      "metadata": {
        "id": "rukTgd4E0C8T"
      },
      "source": [
        "Using the `sigmoid` activation function to our output layer! "
      ]
    },
    {
      "cell_type": "code",
      "metadata": {
        "id": "Fxmh1L4m0yeH"
      },
      "source": [
        "# Final Model!!!!!! \n",
        "tf.random.set_seed(42)\n",
        "\n",
        "# Create model \n",
        "model_7 = tf.keras.Sequential([\n",
        "  tf.keras.layers.Dense(4 , activation= tf.keras.activations.relu) , \n",
        "  tf.keras.layers.Dense(4 , activation= tf.keras.activations.relu) , \n",
        "  tf.keras.layers.Dense(1 , activation= tf.keras.activations.sigmoid)\n",
        "])\n",
        "\n",
        "# Compile the model \n",
        "model_7.compile(loss = tf.keras.losses.BinaryCrossentropy() , \n",
        "                optimizer = tf.keras.optimizers.Adam(lr = 0.001) ,\n",
        "                metrics = ['accuracy'])\n",
        "\n",
        "# Fit the model \n",
        "history = model_7.fit(X , y , epochs = 100)"
      ],
      "execution_count": null,
      "outputs": []
    },
    {
      "cell_type": "code",
      "metadata": {
        "id": "QOzvoIBC1YJK"
      },
      "source": [
        "# Let's evaluate our model \n",
        "model_7.evaluate(X , y )"
      ],
      "execution_count": null,
      "outputs": []
    },
    {
      "cell_type": "code",
      "metadata": {
        "id": "4ueuxKqB1rNl"
      },
      "source": [
        "# Let's visualize our great model how it works \n",
        "plot_decision_boundary(model_7 , X , y)"
      ],
      "execution_count": null,
      "outputs": []
    },
    {
      "cell_type": "markdown",
      "metadata": {
        "id": "AucOv6kd11Dz"
      },
      "source": [
        "🔑  **Note:** The combination of *linear* (straigh lines) and *non-linear* (non straight lines) functions is one of the key fundamentals of neural networks. \n",
        "\n",
        "Now we've discussed the concept of linear and non-linear functions (or lines), lets see them in action."
      ]
    },
    {
      "cell_type": "code",
      "metadata": {
        "id": "00BadZqH2sd3"
      },
      "source": [
        "# Create a toy tensor \n",
        "A = tf.cast(tf.range(-10 , 10 ) , tf.float32)\n",
        "A"
      ],
      "execution_count": null,
      "outputs": []
    },
    {
      "cell_type": "code",
      "metadata": {
        "id": "RFAdHbZG5JEm"
      },
      "source": [
        "# Visualize our toy tensor --> A linear line \n",
        "plt.plot(A)"
      ],
      "execution_count": null,
      "outputs": []
    },
    {
      "cell_type": "markdown",
      "metadata": {
        "id": "TtomSKKY5Qn4"
      },
      "source": [
        "Let's start by replicating a `sigmoid` function\n",
        "Formula : `sigmoid(x) = 1 / (1 + exp(-x)).`"
      ]
    },
    {
      "cell_type": "code",
      "metadata": {
        "id": "ZNtVR3ic6HOF"
      },
      "source": [
        "# Coding our own one \n",
        "def sigmoid(x):\n",
        "  return 1 / (1 + tf.math.exp(-x))\n",
        "\n",
        "# Using our function \n",
        "sigmoid(A)"
      ],
      "execution_count": null,
      "outputs": []
    },
    {
      "cell_type": "code",
      "metadata": {
        "id": "XYK1xB7Q6jAK"
      },
      "source": [
        "# Now using the available tensorflow one \n",
        "tf.math.sigmoid(A)"
      ],
      "execution_count": null,
      "outputs": []
    },
    {
      "cell_type": "code",
      "metadata": {
        "id": "ctggcigT6pvo"
      },
      "source": [
        "# Let's plot and see how they look \n",
        "plt.plot(sigmoid(A)) , plt.plot(tf.math.sigmoid(A))"
      ],
      "execution_count": null,
      "outputs": []
    },
    {
      "cell_type": "markdown",
      "metadata": {
        "id": "IcaXS-xi7Ica"
      },
      "source": [
        "At first (A) was originally straigh but now using the `sigmoid` we got a non-linear shaped plot above."
      ]
    },
    {
      "cell_type": "code",
      "metadata": {
        "id": "dxgL65W-7YXi"
      },
      "source": [
        "# Creating a relu function \n",
        "def relu(x):\n",
        "  return tf.maximum(0 , x)\n",
        "\n",
        "# Let's use our toy tensor \n",
        "plt.plot(relu(A))"
      ],
      "execution_count": null,
      "outputs": []
    },
    {
      "cell_type": "code",
      "metadata": {
        "id": "CsxqA4ps764a"
      },
      "source": [
        "# Using the linear activation function --> which doesn't change anything \n",
        "plt.plot(tf.keras.activations.linear(A))"
      ],
      "execution_count": null,
      "outputs": []
    },
    {
      "cell_type": "code",
      "metadata": {
        "id": "QsO-E2hc8fSl"
      },
      "source": [
        "# Does the value got changed \n",
        "A == tf.keras.activations.linear(A)"
      ],
      "execution_count": null,
      "outputs": []
    },
    {
      "cell_type": "markdown",
      "metadata": {
        "id": "K98aBahg8myU"
      },
      "source": [
        "The fact is the `linear` doesn't even made a change to the input data, it just pass by the value onto the network. "
      ]
    },
    {
      "cell_type": "code",
      "metadata": {
        "id": "ZLv3NHwa87no"
      },
      "source": [
        ""
      ],
      "execution_count": null,
      "outputs": []
    }
  ]
}
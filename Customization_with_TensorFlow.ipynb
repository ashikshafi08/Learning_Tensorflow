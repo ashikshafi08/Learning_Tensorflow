{
  "nbformat": 4,
  "nbformat_minor": 0,
  "metadata": {
    "colab": {
      "name": "Customization with TensorFlow.ipynb",
      "provenance": [],
      "collapsed_sections": [],
      "authorship_tag": "ABX9TyNqOKe2z5lJM8DpV+UBt2Hq",
      "include_colab_link": true
    },
    "kernelspec": {
      "name": "python3",
      "display_name": "Python 3"
    },
    "language_info": {
      "name": "python"
    },
    "accelerator": "GPU"
  },
  "cells": [
    {
      "cell_type": "markdown",
      "metadata": {
        "id": "view-in-github",
        "colab_type": "text"
      },
      "source": [
        "<a href=\"https://colab.research.google.com/github/ashikshafi08/Learning_Tensorflow/blob/main/Customization_with_TensorFlow.ipynb\" target=\"_parent\"><img src=\"https://colab.research.google.com/assets/colab-badge.svg\" alt=\"Open In Colab\"/></a>"
      ]
    },
    {
      "cell_type": "markdown",
      "metadata": {
        "id": "68GrDlsd35hH"
      },
      "source": [
        "This notebook will contains the code and concepts from the TensorFlow documentation on customization. "
      ]
    },
    {
      "cell_type": "markdown",
      "metadata": {
        "id": "Q3Ze4HvCy8M-"
      },
      "source": [
        "## Eager Execution in TensorFlow \n",
        "\n",
        "TensorFlow's eager execution is an imperative programming environment that evaluates the operation immediately, without building graphs. \n",
        "\n",
        "> Operations return concrete values instead of constructing a computational graph to run later. \n",
        "\n",
        "\n",
        "Eager execution is flexible because of the following reasons: \n",
        "\n",
        "- An intuitive interface. \n",
        "- Easier debugging, use standard python debugging tools for immediate error reporting. \n",
        "- Natural control flow, using pythons control flow instead of graph control flow. \n",
        "\n",
        "\n",
        "\n"
      ]
    },
    {
      "cell_type": "code",
      "metadata": {
        "colab": {
          "base_uri": "https://localhost:8080/"
        },
        "id": "UcwljHr4y8xW",
        "outputId": "99265fe1-03ca-42d9-8026-4f5beec39cf3"
      },
      "source": [
        "# Enabling the eager execution \n",
        "import tensorflow as tf \n",
        "tf.executing_eagerly()"
      ],
      "execution_count": 2,
      "outputs": [
        {
          "output_type": "execute_result",
          "data": {
            "text/plain": [
              "True"
            ]
          },
          "metadata": {},
          "execution_count": 2
        }
      ]
    },
    {
      "cell_type": "code",
      "metadata": {
        "id": "M1YZYkoTy83C"
      },
      "source": [
        "# We get the results immediately \n",
        "x = [[2.]]\n",
        "m = tf.matmul(x, x)\n",
        "print(\"hello, {}\".format(m))"
      ],
      "execution_count": null,
      "outputs": []
    },
    {
      "cell_type": "markdown",
      "metadata": {
        "id": "SMZGh1Jty9De"
      },
      "source": [
        "Enabling eafer execution changes how TensorFlow operations behave,"
      ]
    },
    {
      "cell_type": "code",
      "metadata": {
        "id": "uLmNAaDfy9PK"
      },
      "source": [
        "# TensorFlow imports\n",
        "import timeit\n",
        "from tensorflow.keras import Input, Model\n",
        "from tensorflow.keras.layers import Flatten, Dense\n",
        "\n",
        "# Model building\n",
        "inputs = Input(shape=(28, 28)) \n",
        "x = Flatten()(inputs) \n",
        "x = Dense(256, \"relu\")(x)\n",
        "x = Dense(256, \"relu\")(x) \n",
        "x = Dense(256, \"relu\")(x) \n",
        "outputs = Dense(10, \"softmax\")(x) \n",
        "\n",
        "input_data = tf.random.uniform([100, 28, 28])\n",
        "\n",
        "# Eager Execution\n",
        "eager_model = Model(inputs=inputs, outputs=outputs)\n",
        "print(\"Eager time:\", timeit.timeit(lambda: eager_model(input_data), number=10000))\n",
        "\n",
        "#Graph Execution \n",
        "graph_model = tf.function(eager_model) # Wrap the model with tf.function \n",
        "print(\"Graph time:\", timeit.timeit(lambda: graph_model(input_data), number=10000))"
      ],
      "execution_count": null,
      "outputs": []
    },
    {
      "cell_type": "markdown",
      "metadata": {
        "id": "oMBPMWp-y9f4"
      },
      "source": [
        "Eager execution is fine for building small models and rapid experimentation. But when have a complex and large model we can opt for Graph execution. \n",
        "\n",
        "In reality graph execution might be slower but more efficient than the eager execution. The default execution of TensorFlow 2x + is eager execution and we can opt for graph execution using the `tf.function()` can make graphs out of our programs. \n",
        "\n",
        "\n",
        "The `tf.function()` converts a Python function to its graph representation. So we add the `@tf.function` at top before the code or wrap the eager execution function. \n",
        "\n",
        "This will help you create performant and portable models, and it is required to use `SavedModel`.\n",
        "\n",
        "\n",
        "\n"
      ]
    },
    {
      "cell_type": "code",
      "metadata": {
        "id": "w4_8lRwgy9tF"
      },
      "source": [
        "@tf.function\n",
        "def add(a , b):\n",
        "  return a + b \n",
        "\n",
        "add(tf.ones([2, 2]) , tf.ones([2, 2]))"
      ],
      "execution_count": null,
      "outputs": []
    },
    {
      "cell_type": "code",
      "metadata": {
        "id": "yJmsxVM7y94Q"
      },
      "source": [
        "v = tf.Variable(5.0)\n",
        "\n",
        "# Using automatic differentiation \n",
        "with tf.GradientTape() as tape:\n",
        "  result = add(a = v , b = 5.0)\n",
        "tape.gradient(result , v)"
      ],
      "execution_count": null,
      "outputs": []
    },
    {
      "cell_type": "markdown",
      "metadata": {
        "id": "gS6NI0Byy99c"
      },
      "source": [
        "**Why we use `tf.Variable` while creating the weights in a neural net?** \n",
        "\n",
        "The values produced by the `tf.Tensor` are immutable and we can't modify them. And we cant use these regular tensors to implement weights in a neural network and they get changed during the back prop. \n",
        "\n",
        "So thats why we use `tf.Variable`"
      ]
    },
    {
      "cell_type": "code",
      "metadata": {
        "id": "D0zOUN4Hy-JP"
      },
      "source": [
        ""
      ],
      "execution_count": null,
      "outputs": []
    },
    {
      "cell_type": "code",
      "metadata": {
        "id": "901qbKD6y-UX"
      },
      "source": [
        "# Creating a tensor with tf.variable \n",
        "v = tf.Variable([[1, 2, 3,], [4 ,5 ,6]])\n",
        "v"
      ],
      "execution_count": null,
      "outputs": []
    },
    {
      "cell_type": "code",
      "metadata": {
        "id": "F55HlgR5y-bd"
      },
      "source": [
        "v.assign(2 * v)"
      ],
      "execution_count": null,
      "outputs": []
    },
    {
      "cell_type": "code",
      "metadata": {
        "id": "n9XlcbHSMs97"
      },
      "source": [
        " # Assigning in a index \n",
        " v[0 , 1].assign(14)"
      ],
      "execution_count": null,
      "outputs": []
    },
    {
      "cell_type": "markdown",
      "metadata": {
        "id": "GDlRn5ZFMtCU"
      },
      "source": [
        ""
      ]
    },
    {
      "cell_type": "code",
      "metadata": {
        "id": "RfhMYYfJMtK9"
      },
      "source": [
        "tf.strings.to_number('8448')"
      ],
      "execution_count": null,
      "outputs": []
    },
    {
      "cell_type": "code",
      "metadata": {
        "id": "qhvVnNQSMtQp"
      },
      "source": [
        ""
      ],
      "execution_count": null,
      "outputs": []
    },
    {
      "cell_type": "code",
      "metadata": {
        "id": "bX4RMyVUMtaX"
      },
      "source": [
        ""
      ],
      "execution_count": null,
      "outputs": []
    },
    {
      "cell_type": "code",
      "metadata": {
        "id": "PB0uSQ2iMthu"
      },
      "source": [
        ""
      ],
      "execution_count": null,
      "outputs": []
    },
    {
      "cell_type": "code",
      "metadata": {
        "id": "ECKpeJZxMtnu"
      },
      "source": [
        ""
      ],
      "execution_count": null,
      "outputs": []
    },
    {
      "cell_type": "code",
      "metadata": {
        "id": "ITmhBprjMtvQ"
      },
      "source": [
        ""
      ],
      "execution_count": null,
      "outputs": []
    },
    {
      "cell_type": "markdown",
      "metadata": {
        "id": "Z-VHoWeU6A48"
      },
      "source": [
        "### Customization basics: Tensors and operations \n",
        "\n",
        "- Import the required package\n",
        "- Create and use tensors\n",
        "- Use GPU acceleration\n",
        "- Demonstrate tf.data.Dataset\n"
      ]
    },
    {
      "cell_type": "markdown",
      "metadata": {
        "id": "zW70Jp5w6uQc"
      },
      "source": [
        "##### Tensors \n",
        "A tensor is a multi-dimensional array, which is of dtype `tf.Tensor` and has a shape. \n",
        "\n",
        "The `tf.tensor` can reside in GPU accelerator and we can use regular tensor operations. "
      ]
    },
    {
      "cell_type": "code",
      "metadata": {
        "id": "uFGwYaze7lpz"
      },
      "source": [
        "import tensorflow as tf "
      ],
      "execution_count": null,
      "outputs": []
    },
    {
      "cell_type": "code",
      "metadata": {
        "id": "8sxmVbpq7qZl"
      },
      "source": [
        "tf.square(2) + tf.square(3)"
      ],
      "execution_count": null,
      "outputs": []
    },
    {
      "cell_type": "code",
      "metadata": {
        "id": "NlO0lEbQ72eL"
      },
      "source": [
        "# Each tf.tensor has a shappe and a datatype \n",
        "x = tf.matmul([[1]] , [[2,3]])\n",
        "\n",
        "x.shape  , x.dtype"
      ],
      "execution_count": null,
      "outputs": []
    },
    {
      "cell_type": "markdown",
      "metadata": {
        "id": "hz0aCe5S8ItL"
      },
      "source": [
        "Converting between a TensorFlow `tf.Tensor`s and a Numpy `ndarray` is easy: \n",
        "\n",
        "- Tensorflow operations automatically convert Numpy ndarrays to Tensors \n",
        "- Numpy operations automatically convert Tensors to Numpy ndarrays. \n",
        "\n",
        "Tensors are explicitly converted to Numpy ndarrays using their `.numpy()` method."
      ]
    },
    {
      "cell_type": "code",
      "metadata": {
        "id": "uo20ZQWI8ZDJ"
      },
      "source": [
        "import numpy as np \n",
        "\n",
        "ndarray = np.ones([3 ,3])\n",
        "tensor = tf.multiply(ndarray , 42)\n",
        "print(f'{tensor} \\n')\n",
        "\n",
        "# Using the numpy operations to convrt tensors to numpy arrays \n",
        "print(f'{np.add(tensor , 1)}\\n')\n",
        "\n",
        "print(f'{tensor.numpy()}\\n')"
      ],
      "execution_count": null,
      "outputs": []
    },
    {
      "cell_type": "markdown",
      "metadata": {
        "id": "Im5Stl-F-pCT"
      },
      "source": [
        "TensorFlow automatically decides which device to execute an operation and copies tensors to the devices, if needed. \n",
        "\n",
        "> TensorFlow operations can be expilictly places on a specific devices using the `tf.device` context manager. "
      ]
    },
    {
      "cell_type": "code",
      "metadata": {
        "id": "Gk_mJ9ZRAzUr"
      },
      "source": [
        "import time \n",
        "\n",
        "def time_matmul(x):\n",
        "  start = time.time()\n",
        "  for loop in range(10):\n",
        "    tf.matmul(x, x)\n",
        "\n",
        "  result = time.time() - start \n",
        "\n",
        "  print(\"10 loops: {:0.2f}ms\".format(1000*result))"
      ],
      "execution_count": null,
      "outputs": []
    },
    {
      "cell_type": "code",
      "metadata": {
        "id": "kVATiS_UBA4S"
      },
      "source": [
        "# Force execution on CPU \n",
        "print('On CPU:')\n",
        "\n",
        "with tf.device('CPU:0'):\n",
        "  x = tf.random.uniform([1000 , 1000])\n",
        "  assert x.device.endswith('CPU:0')\n",
        "  time_matmul(x)"
      ],
      "execution_count": null,
      "outputs": []
    },
    {
      "cell_type": "code",
      "metadata": {
        "id": "ybjQy3bzBNc7"
      },
      "source": [
        "# Forece execution on GPU (running on gpu)\n",
        "if tf.config.list_physical_devices('GPU'):\n",
        "  print('On GPU:')\n",
        "  with tf.device('GPU:0'): \n",
        "    x = tf.random.uniform([1000 , 1000])\n",
        "    assert x.device.endswith('GPU:0')\n",
        "    time_matmul(x)"
      ],
      "execution_count": null,
      "outputs": []
    },
    {
      "cell_type": "markdown",
      "metadata": {
        "id": "Smjbg4E6B_WO"
      },
      "source": [
        "## Custom Layers \n",
        "\n"
      ]
    },
    {
      "cell_type": "code",
      "metadata": {
        "id": "_TbI2ZsrT55e"
      },
      "source": [
        "# Using  a pre-existing layer \n",
        "layer = tf.keras.layers.Dense(100)\n",
        "\n",
        "layer(tf.zeros([10 ,5]))[0]"
      ],
      "execution_count": null,
      "outputs": []
    },
    {
      "cell_type": "markdown",
      "metadata": {
        "id": "DhXsOkVVUDdt"
      },
      "source": [
        "Layers have many useful methods, for example we can inspect all variables in a layer using `layer.variables` and trainable variables using `layer.trainable_variables`. \n",
        "\n",
        "When we talk about variables, it means the weights and biases. "
      ]
    },
    {
      "cell_type": "code",
      "metadata": {
        "id": "g6-AmyEpUamo"
      },
      "source": [
        "# Accessing the weight and biases \n",
        "layer.variables[0][:1] , layer.variables[1][:10]"
      ],
      "execution_count": null,
      "outputs": []
    },
    {
      "cell_type": "code",
      "metadata": {
        "id": "lcTBaaSfUc8-"
      },
      "source": [
        "# We can even explicitly call the kernel and bias \n",
        "layer.kernel[0] , layer.bias[:10]"
      ],
      "execution_count": null,
      "outputs": []
    },
    {
      "cell_type": "markdown",
      "metadata": {
        "id": "YQlLjG8UWbh_"
      },
      "source": [
        "### Implementing a custom layer \n",
        "\n",
        "The best way to implement our own layer is extending the `tf.keras.Layer` class and implementing: \n",
        "- The `__init__` where we can do all input-independent initialization. \n",
        "- `build` we can use this when we know the shapes of the input tensors and can do the rest of the initialization. \n",
        "- `call` where we do the forward computation. \n",
        "\n",
        "At times we can even neglect the usage of `build` and create the variables in the constructor itself. \n",
        "\n",
        "\n",
        "> Well the main advantage of using `build` is that it enables late variable creation based on the shape of the inputs the layer will operate on.\n",
        "\n",
        "> Creating variables in `__init__` would mean that shapes required to create the variables will need to be explicitly specified."
      ]
    },
    {
      "cell_type": "code",
      "metadata": {
        "id": "3o8RrovsZoc7"
      },
      "source": [
        "# Creating a custom layer \n",
        "class MyDenseLayer(tf.keras.layers.Layer):\n",
        "  \n",
        "  # The constructor \n",
        "  def __init__(self , num_outputs , **kwargs):\n",
        "    super(MyDenseLayer ,self).__init__(**kwargs)\n",
        "    self.num_outputs = num_outputs \n",
        "\n",
        "  # Defining the build function (creating the initializer etc..)\n",
        "  def build(self , input_shape):\n",
        "    self.kernel = self.add_weight(name = 'kernel_weights' , \n",
        "                                shape = [int(input_shape[-1]) , \n",
        "                                         self.num_outputs] , \n",
        "                                  initializer = tf.keras.initializers.RandomNormal() ,\n",
        "                                  trainable = True )\n",
        "    \n",
        "    self.bias = self.add_weight(name = 'bias' , \n",
        "                                shape = [self.num_outputs,] , \n",
        "                                initializer = tf.keras.initializers.Zeros())\n",
        "    \n",
        "  # Forward propagation \n",
        "  # The call method takes the input \n",
        "  def call(self, inputs):\n",
        "    return tf.matmul(inputs , self.kernel) + self.num_outputs # added bias to prevent zero "
      ],
      "execution_count": null,
      "outputs": []
    },
    {
      "cell_type": "code",
      "metadata": {
        "id": "ETlUKxW6ahtN"
      },
      "source": [
        "# Creating an object of the layer we've created \n",
        "layer = MyDenseLayer(num_outputs= 10)"
      ],
      "execution_count": null,
      "outputs": []
    },
    {
      "cell_type": "code",
      "metadata": {
        "id": "qaQbO4wfcPay"
      },
      "source": [
        "# Passing in a dummy input to test our custom layer \n",
        "# Now we're calling the layer so the build function will get in action\n",
        "layer(tf.ones([10 , 5]))"
      ],
      "execution_count": null,
      "outputs": []
    },
    {
      "cell_type": "markdown",
      "metadata": {
        "id": "qG6MjMQ6cV-5"
      },
      "source": [
        "### Models: Composing layers \n",
        "\n",
        "Many machine learning models are implemented by composing the existing layers. For example, each **residual block in a resnet** is a composition of convolutions, batch normalizations and a shortcut layers. \n",
        "\n",
        "> Layers can be nested inside the other layers \n",
        "\n",
        "When we inherit from the `tf.keras.Model` we get the methods like fit , evaluate annd save. One other feature provided by the `tf.keras.Model` is that in addition to tracking the variables, as `tf.keras.Model` also tracks its internal layers, making them easier to inspect each layers. \n"
      ]
    },
    {
      "cell_type": "code",
      "metadata": {
        "id": "odG00v1FxzWH"
      },
      "source": [
        "# Building a ResNet Block from the Model method \n",
        "\n",
        "class ResnetIdentityBlock(tf.keras.Model):\n",
        "\n",
        "  # Constructor \n",
        "  def __init__(self , kernel_size , filters , **kwargs):\n",
        "    super(ResnetIdentityBlock , self).__init__(**kwargs)\n",
        "\n",
        "    # Unpacking the list of filters \n",
        "    filters_1 , filters_2 , filters_3 = filters \n",
        "\n",
        "    # Initializing the layers \n",
        "    self.conv2a = tf.keras.layers.Conv2D(filters_1 ,(1 , 1))\n",
        "    self.bn2a = tf.keras.layers.BatchNormalization()\n",
        "\n",
        "    self.conv2b = tf.keras.layers.Conv2D(filters_2 , kernel_size= kernel_size , strides= (1, 1))\n",
        "    self.bn2b = tf.keras.layers.BatchNormalization() \n",
        "\n",
        "    self.conv2c = tf.keras.layers.Conv2D(filters_3 , (1 , 1))\n",
        "    self.bn2c = tf.keras.layers.BatchNormalization() \n",
        "\n",
        "\n",
        "  # The forward propagation (building the model here )\n",
        "\n",
        "  def call(self , input_tensor , training = False):\n",
        "\n",
        "    # Building a functional model of how the resnet block is connected \n",
        "    #x = tf.expand_dims(input_tensor , axis = 1)\n",
        "    print(input_tensor.shape)\n",
        "    x = self.conv2a(input_tensor)\n",
        "    print(x.shape)\n",
        "    x = self.bn2a(x , training = training)\n",
        "    print(x.shape)\n",
        "    x = tf.nn.relu(x) \n",
        "\n",
        "    print(x.shape)\n",
        "    x = self.conv2b(x)\n",
        "    print(x.shape)\n",
        "    x = self.bn2b(x , training = training)\n",
        "    print(x.shape)\n",
        "    x = tf.nn.relu(x)\n",
        "\n",
        "    print(x.shape)\n",
        "    x = self.conv2c(x)\n",
        "    print(x.shape)\n",
        "    x = self.bn2c(x , training = training)\n",
        "    print(x.shape)\n",
        "\n",
        "    x += input_tensor\n",
        "    print(x.shape)\n",
        "    return tf.nn.relu(x)\n",
        "\n",
        "\n",
        "# Using the above model classs and creacting a Resnet Block \n",
        "block = ResnetIdentityBlock(1 , filters = [1 ,2 ,3])"
      ],
      "execution_count": null,
      "outputs": []
    },
    {
      "cell_type": "code",
      "metadata": {
        "id": "0h2dd8-w0ZJg"
      },
      "source": [
        "# Dummy inputs \n",
        "block(tf.zeros([1 ,2 ,3 ,3]))"
      ],
      "execution_count": null,
      "outputs": []
    },
    {
      "cell_type": "code",
      "metadata": {
        "id": "EP5KsFud1Q8c"
      },
      "source": [
        "# Accessing the block layers\n",
        "block.layers"
      ],
      "execution_count": null,
      "outputs": []
    },
    {
      "cell_type": "code",
      "metadata": {
        "id": "8DpzjJkQ1RCA"
      },
      "source": [
        "block.variables"
      ],
      "execution_count": null,
      "outputs": []
    },
    {
      "cell_type": "code",
      "metadata": {
        "id": "cjyKc3vP1RPj"
      },
      "source": [
        "len(block.variables)"
      ],
      "execution_count": null,
      "outputs": []
    },
    {
      "cell_type": "code",
      "metadata": {
        "id": "XwpKdPyeC6tU"
      },
      "source": [
        "# We can get the summary (because we inherited the Model class)\n",
        "block.summary()"
      ],
      "execution_count": null,
      "outputs": []
    },
    {
      "cell_type": "code",
      "metadata": {
        "colab": {
          "base_uri": "https://localhost:8080/"
        },
        "id": "j5DPHc6wDBbu",
        "outputId": "3d4523e4-d0f4-4fca-9b46-de2fbfa281e2"
      },
      "source": [
        "from tensorflow.keras.datasets import mnist\n",
        "from tensorflow.keras import layers\n",
        "\n",
        "(X_train , y_train) , (X_test , y_test) = mnist.load_data()\n",
        "\n",
        "X_train.shape , X_test.shape , y_train.shape , y_test.shape"
      ],
      "execution_count": 4,
      "outputs": [
        {
          "output_type": "stream",
          "name": "stdout",
          "text": [
            "Downloading data from https://storage.googleapis.com/tensorflow/tf-keras-datasets/mnist.npz\n",
            "11493376/11490434 [==============================] - 0s 0us/step\n",
            "11501568/11490434 [==============================] - 0s 0us/step\n"
          ]
        },
        {
          "output_type": "execute_result",
          "data": {
            "text/plain": [
              "((60000, 28, 28), (10000, 28, 28), (60000,), (10000,))"
            ]
          },
          "metadata": {},
          "execution_count": 4
        }
      ]
    },
    {
      "cell_type": "code",
      "metadata": {
        "id": "9GD2ahCufi14"
      },
      "source": [
        "X_train = X_train.reshape(-1 , 28 ,28 ,1).astype('float32') / 255.0\n",
        "X_test = X_test.reshape(-1 , 28 ,28 ,1).astype('float32') / 255.0\n",
        "\n",
        "\n",
        "X_train_new = X_train.reshape(-1 , 28 *28).astype('float32') / 255.0\n",
        "X_test_new = X_test.reshape(-1 , 28*28).astype('float32') / 255.0\n"
      ],
      "execution_count": 30,
      "outputs": []
    },
    {
      "cell_type": "markdown",
      "metadata": {
        "id": "uNf6UBZDftEo"
      },
      "source": [
        "Lets create a block which does the following: \n",
        "- CNN \n",
        "- Batch Norm\n",
        "- ReLu \n",
        "\n",
        "But we want to do this for 10 times. To reduce the hustle we can create a class which will take care of these repititions. "
      ]
    },
    {
      "cell_type": "code",
      "metadata": {
        "id": "1K9lZFX1gjBv"
      },
      "source": [
        "class CNNBlock(tf.keras.layers.Layer):\n",
        "\n",
        "    # Constructor where we initialize the things we are going to use\n",
        "    def __init__(self, out_channels , kernel_size = 3 , **kwargs):\n",
        "      super(CNNBlock , self).__init__(**kwargs)\n",
        "\n",
        "      # Creating a cnn block \n",
        "      self.conv = layers.Conv2D(out_channels , kernel_size , padding ='same')\n",
        "      self.bn = layers.BatchNormalization()\n",
        "  \n",
        "\n",
        "\n",
        "    # Forward method \n",
        "    def call(self , input_tensor , training = False):\n",
        "      \n",
        "      x = self.conv(input_tensor)\n",
        "      x = self.bn(x , training = training)\n",
        "      x = tf.nn.relu(x)\n",
        "      return x\n",
        "\n",
        "\n",
        "\n"
      ],
      "execution_count": 6,
      "outputs": []
    },
    {
      "cell_type": "code",
      "metadata": {
        "colab": {
          "base_uri": "https://localhost:8080/"
        },
        "id": "kAQ7L6oBhu7K",
        "outputId": "fc6a404e-6953-4fde-e58b-e37fa713623f"
      },
      "source": [
        "# Reusing this multiple times \n",
        "model = tf.keras.Sequential([\n",
        "  CNNBlock(32), \n",
        "  CNNBlock(64) , \n",
        "  CNNBlock(128), \n",
        "  layers.Flatten(),\n",
        "  layers.Dense(10 , activation= 'softmax')\n",
        "])\n",
        "\n",
        "model.compile(optimizer = 'adam' , \n",
        "              loss = tf.keras.losses.SparseCategoricalCrossentropy() , \n",
        "              metrics = ['accuracy'])\n",
        "\n",
        "model.fit(X_train , y_train , batch_size = 64 , epochs = 3 , verbose = 2)"
      ],
      "execution_count": 9,
      "outputs": [
        {
          "output_type": "stream",
          "name": "stdout",
          "text": [
            "Epoch 1/3\n",
            "938/938 - 27s - loss: 0.6023 - accuracy: 0.9451\n",
            "Epoch 2/3\n",
            "938/938 - 10s - loss: 0.0914 - accuracy: 0.9820\n",
            "Epoch 3/3\n",
            "938/938 - 10s - loss: 0.0330 - accuracy: 0.9905\n"
          ]
        },
        {
          "output_type": "execute_result",
          "data": {
            "text/plain": [
              "<keras.callbacks.History at 0x7ff18d4dd3d0>"
            ]
          },
          "metadata": {},
          "execution_count": 9
        }
      ]
    },
    {
      "cell_type": "code",
      "metadata": {
        "id": "-azvTuIViElU"
      },
      "source": [
        "# We are going to create a ResBlock (similar to resnet)\n",
        "class ResBlock(tf.keras.layers.Layer):\n",
        "\n",
        "  def __init__(self , channels , **kwargs):\n",
        "    super(ResBlock , self).__init__(**kwargs)\n",
        "\n",
        "    self.cnn1 = CNNBlock(channels[0])\n",
        "    self.cnn2 = CNNBlock(channels[1])\n",
        "    self.cnn3 = CNNBlock(channels[2])\n",
        "    self.pooling = tf.keras.layers.MaxPool2D()\n",
        "    self.identity_mapping = layers.Conv2D(channels[1] , kernel_size=3 , padding = 'same')\n",
        "\n",
        "  def call(self, input_tensor , training = False):\n",
        "    x = self.cnn1(input_tensor , training = training)\n",
        "    x = self.cnn2(x , training = training)\n",
        "    x = self.cnn3(x + self.identity_mapping(input_tensor) , training = training) # performing the skip connection \n",
        "    return self.pooling(x)"
      ],
      "execution_count": 25,
      "outputs": []
    },
    {
      "cell_type": "code",
      "metadata": {
        "colab": {
          "base_uri": "https://localhost:8080/"
        },
        "id": "Ws3MDBVj5Boi",
        "outputId": "d44715b6-948b-4b93-cb5e-e2e3077cb4e2"
      },
      "source": [
        "class ResnetLike(tf.keras.Model):\n",
        "\n",
        "  # it has the functionality of layers and additional model functionalities (model.fit, evaluate......)\n",
        "\n",
        "  def __init__(self , num_classes = 10 , **kwargs):\n",
        "    super(ResnetLike , self).__init__(**kwargs)\n",
        "\n",
        "    self.block_1 = ResBlock(channels= [32 ,32, 64])\n",
        "    self.block_2 = ResBlock([128 , 128 , 256])\n",
        "    self.block_3 = ResBlock([128 , 256 , 512])\n",
        "    self.pool = layers.GlobalAveragePooling2D() # or flatten\n",
        "    self.classifier = layers.Dense(num_classes)\n",
        "\n",
        "  def call(self, input_tensor , training = False):\n",
        "    x = self.block_1(input_tensor , training = training)\n",
        "    x = self.block_2(x , training = training)\n",
        "    x = self.block_3(x , training = training)\n",
        "    x = self.pool(x)\n",
        "    return self.classifier(x)\n",
        "\n",
        "  # This trick will print the output shapes during the model summary \n",
        "  # This will overwrite the call method \n",
        "  def model(self):\n",
        "    x = layers.Input(shape = (28 , 28 , 1))\n",
        "    return tf.keras.Model(inputs = [x] , outputs = self.call(x))\n",
        "\n",
        "resnet_model = ResnetLike()\n",
        "resnet_model.compile(optimizer = 'adam' , \n",
        "              loss = tf.keras.losses.SparseCategoricalCrossentropy() , \n",
        "              metrics = ['accuracy'])\n",
        "\n",
        "resnet_model.fit(X_train , y_train , batch_size = 64 , epochs = 10 , verbose = 2)\n",
        "resnet_model.evaluate(X_test , y_test , batch_size = 64 , verbose = 2)\n",
        "#resnet_model.model().summary()"
      ],
      "execution_count": 28,
      "outputs": [
        {
          "output_type": "stream",
          "name": "stdout",
          "text": [
            "Epoch 1/10\n",
            "938/938 - 23s - loss: 2.5968 - accuracy: 0.1120\n",
            "Epoch 2/10\n",
            "938/938 - 22s - loss: 2.3026 - accuracy: 0.1155\n",
            "Epoch 3/10\n",
            "938/938 - 22s - loss: 2.3026 - accuracy: 0.1159\n",
            "Epoch 4/10\n",
            "938/938 - 22s - loss: 2.3026 - accuracy: 0.1163\n",
            "Epoch 5/10\n",
            "938/938 - 22s - loss: 2.3026 - accuracy: 0.1158\n",
            "Epoch 6/10\n",
            "938/938 - 22s - loss: 2.3026 - accuracy: 0.1152\n",
            "Epoch 7/10\n",
            "938/938 - 22s - loss: 2.3026 - accuracy: 0.1154\n",
            "Epoch 8/10\n",
            "938/938 - 22s - loss: 2.3026 - accuracy: 0.1163\n",
            "Epoch 9/10\n",
            "938/938 - 22s - loss: 2.3026 - accuracy: 0.1157\n",
            "Epoch 10/10\n",
            "938/938 - 23s - loss: 2.3026 - accuracy: 0.1155\n",
            "157/157 - 2s - loss: 2.3026 - accuracy: 0.1162\n"
          ]
        },
        {
          "output_type": "execute_result",
          "data": {
            "text/plain": [
              "[2.3025825023651123, 0.11620000004768372]"
            ]
          },
          "metadata": {},
          "execution_count": 28
        }
      ]
    },
    {
      "cell_type": "code",
      "metadata": {
        "colab": {
          "base_uri": "https://localhost:8080/",
          "height": 564
        },
        "id": "vkl38GSB3YTi",
        "outputId": "80a7043e-3e9c-4936-a1cc-7064d831eff7"
      },
      "source": [
        "from tensorflow.keras.utils import plot_model \n",
        "plot_model(resnet_model.model())"
      ],
      "execution_count": 23,
      "outputs": [
        {
          "output_type": "execute_result",
          "data": {
            "image/png": "[encoded data removed]",
            "text/plain": [
              "<IPython.core.display.Image object>"
            ]
          },
          "metadata": {},
          "execution_count": 23
        }
      ]
    },
    {
      "cell_type": "code",
      "metadata": {
        "colab": {
          "base_uri": "https://localhost:8080/"
        },
        "id": "mteQ4LTA4UT0",
        "outputId": "ef6127bd-1785-48a7-d765-ca03cc8a0aba"
      },
      "source": [
        "class MyModel(tf.keras.Model):\n",
        "\n",
        "  def __init__(self, num_classes = 10 , **kwargs):\n",
        "    super(MyModel , self).__init__(**kwargs)\n",
        "    self.dense1 = layers.Dense(64)\n",
        "    self.dense2 = layers.Dense(num_classes)\n",
        "\n",
        "  def call(self , input_tensor):\n",
        "    x = tf.nn.relu(self.dense1(input_tensor))\n",
        "    return self.dense2(x)\n",
        "\n",
        "\n",
        "model = MyModel()\n",
        "model.compile(optimizer = 'adam' , \n",
        "              loss = tf.keras.losses.SparseCategoricalCrossentropy(from_logits= True) , \n",
        "              metrics = ['accuracy'])\n",
        "\n",
        "model.fit(X_train_new , y_train , batch_size = 32 , epochs = 3 , verbose = 2)"
      ],
      "execution_count": 31,
      "outputs": [
        {
          "output_type": "stream",
          "name": "stdout",
          "text": [
            "Epoch 1/3\n",
            "1875/1875 - 3s - loss: 2.3015 - accuracy: 0.1117\n",
            "Epoch 2/3\n",
            "1875/1875 - 2s - loss: 2.3012 - accuracy: 0.1124\n",
            "Epoch 3/3\n",
            "1875/1875 - 2s - loss: 2.3009 - accuracy: 0.1124\n"
          ]
        },
        {
          "output_type": "execute_result",
          "data": {
            "text/plain": [
              "<keras.callbacks.History at 0x7ff17a7607d0>"
            ]
          },
          "metadata": {},
          "execution_count": 31
        }
      ]
    },
    {
      "cell_type": "code",
      "metadata": {
        "id": "kDCVWMMNHmuz"
      },
      "source": [
        "# Creating a Relu \n",
        "class MyRelu(tf.keras.layers.Layer):\n",
        "\n",
        "  def __init__(self):\n",
        "    super(MyRelu , self).__init__()\n",
        "\n",
        "  def call(self , x):\n",
        "    return tf.math.maximum(x , 0)"
      ],
      "execution_count": 32,
      "outputs": []
    },
    {
      "cell_type": "markdown",
      "metadata": {
        "id": "22KIo6FgLiMw"
      },
      "source": [
        "## Making new Layers and Models via subclassing (From The docs) \n",
        "\n",
        "https://www.tensorflow.org/guide/keras/custom_layers_and_models#setup\n",
        "\n",
        "\n",
        "Writing out every single code from this doc! "
      ]
    },
    {
      "cell_type": "code",
      "metadata": {
        "id": "YjmgY-dPOEkh"
      },
      "source": [
        "# Making the imports beforehand \n",
        "import tensorflow as tf \n",
        "from tensorflow.keras import layers "
      ],
      "execution_count": 33,
      "outputs": []
    },
    {
      "cell_type": "markdown",
      "metadata": {
        "id": "x_L0zm8GOMIa"
      },
      "source": [
        "The Layer class encapsulates both a state (layers weights) and a transformation from inputs to outputs (a call method) for forward pass."
      ]
    },
    {
      "cell_type": "code",
      "metadata": {
        "id": "7p7xtv9WOZPy"
      },
      "source": [
        "# Building a densely connected layer \n",
        "class Linear(tf.keras.layers.Layer):\n",
        "\n",
        "  def __init__(self , units , input_dim, **kwargs):\n",
        "    super(Linear , self).__init__(**kwargs)\n",
        "    self.units = units \n",
        "    self.input_dim = input_dim \n",
        "\n",
        "    # Weights and biases \n",
        "    w_init = tf.random_normal_initializer()\n",
        "    self.w = tf.Variable(\n",
        "        initial_value = w_init(shape = (input_dim , units) ,  dtype = tf.float32) , trainable = True\n",
        "    )\n",
        "\n",
        "    b_init = tf.zeros_initializer()\n",
        "    self.b = tf.Variable(\n",
        "        initial_value = b_init(shape = (units ,)  , dtype = tf.float32)\n",
        "    )\n",
        "\n",
        "  # Forward propagation \n",
        "  def call(self, inputs):\n",
        "    return tf.matmul(inputs , self.w) + self.b"
      ],
      "execution_count": 34,
      "outputs": []
    },
    {
      "cell_type": "code",
      "metadata": {
        "colab": {
          "base_uri": "https://localhost:8080/"
        },
        "id": "VRtbnyLPRQkC",
        "outputId": "1422069e-8dc9-4ca6-8d50-eeb8b9e400ae"
      },
      "source": [
        "# Passing a dummy input \n",
        "x = tf.ones((2 ,2))\n",
        "linear_layer = Linear(units = 4 , input_dim = 2)\n",
        "y = linear_layer(x)\n",
        "print(y)"
      ],
      "execution_count": 36,
      "outputs": [
        {
          "output_type": "stream",
          "name": "stdout",
          "text": [
            "tf.Tensor(\n",
            "[[-0.03264646 -0.10319741  0.00261803 -0.01504993]\n",
            " [-0.03264646 -0.10319741  0.00261803 -0.01504993]], shape=(2, 4), dtype=float32)\n"
          ]
        }
      ]
    },
    {
      "cell_type": "code",
      "metadata": {
        "colab": {
          "base_uri": "https://localhost:8080/"
        },
        "id": "Oui0PGgMRwIA",
        "outputId": "c061c9f0-c76f-4c97-b131-48f614916e08"
      },
      "source": [
        "x_ = tf.ones((2 , 4))\n",
        "y_ = tf.ones((4,))\n",
        "\n",
        "#tf.matmul(x , x_)\n",
        "x.shape , x_.shape"
      ],
      "execution_count": 41,
      "outputs": [
        {
          "output_type": "execute_result",
          "data": {
            "text/plain": [
              "(TensorShape([2, 2]), TensorShape([2, 4]))"
            ]
          },
          "metadata": {},
          "execution_count": 41
        }
      ]
    },
    {
      "cell_type": "markdown",
      "metadata": {
        "id": "GLUUo0YZSCae"
      },
      "source": [
        "Using the `add_weight()` method for quicker shortcut. "
      ]
    },
    {
      "cell_type": "code",
      "metadata": {
        "colab": {
          "base_uri": "https://localhost:8080/"
        },
        "id": "dkbbD761T2aJ",
        "outputId": "14e0b5a9-638f-4049-b2b5-7dc0e78be47f"
      },
      "source": [
        "class Linear(tf.keras.layers.Layer):\n",
        "\n",
        "  def __init__(self, units, input_dim):\n",
        "    super(Linear , self).__init__()\n",
        "    self.w = self.add_weight(\n",
        "        shape = (input_dim , units) , initializer = 'glorot_uniform' , trainable = True\n",
        "    )\n",
        "    self.b = self.add_weight(\n",
        "        shape = (units,) , initializer = 'zeros' , trainable = True\n",
        "    )\n",
        "\n",
        "  def call(self, inputs):\n",
        "    return tf.matmul(inputs , self.w) + self.b\n",
        "\n",
        "\n",
        "linear_layer = Linear(4 ,2)\n",
        "linear_layer(x)"
      ],
      "execution_count": 43,
      "outputs": [
        {
          "output_type": "execute_result",
          "data": {
            "text/plain": [
              "<tf.Tensor: shape=(2, 4), dtype=float32, numpy=\n",
              "array([[ 0.7560086 , -0.27888823, -1.5629225 ,  0.06975794],\n",
              "       [ 0.7560086 , -0.27888823, -1.5629225 ,  0.06975794]],\n",
              "      dtype=float32)>"
            ]
          },
          "metadata": {},
          "execution_count": 43
        }
      ]
    },
    {
      "cell_type": "markdown",
      "metadata": {
        "id": "5zNYIsrXUj8L"
      },
      "source": [
        "Besides the trainable weights, we can even add non-trainable weights to a layer as well. \n",
        "\n",
        "> Such weights won't be taken into account during backprop or while training the layer."
      ]
    },
    {
      "cell_type": "code",
      "metadata": {
        "id": "tR6uaS9pVE-I"
      },
      "source": [
        "class ComputeSum(tf.keras.layers.Layer):\n",
        "\n",
        "  def __init__(self , input_dim , **kwargs):\n",
        "    super(ComputeSum , self).__init__(**kwargs)\n",
        "\n",
        "    self.total = tf.Variable(initial_value= tf.zeros((input_dim , )) , trainable= False)\n",
        "\n",
        "  def call(self , inputs):\n",
        "    self.total.assign_add(tf.reduce_sum(inputs , axis = 0))\n",
        "    return self.total"
      ],
      "execution_count": 46,
      "outputs": []
    },
    {
      "cell_type": "code",
      "metadata": {
        "colab": {
          "base_uri": "https://localhost:8080/"
        },
        "id": "QMJqfrbKV1dw",
        "outputId": "17567e01-91c7-4008-99b0-f7cf0a6b3004"
      },
      "source": [
        "x = tf.ones((2 , 2))\n",
        "my_sum = ComputeSum(input_dim= 2)\n",
        "my_sum(x)"
      ],
      "execution_count": 52,
      "outputs": [
        {
          "output_type": "execute_result",
          "data": {
            "text/plain": [
              "<tf.Variable 'Variable:0' shape=(2,) dtype=float32, numpy=array([2., 2.], dtype=float32)>"
            ]
          },
          "metadata": {},
          "execution_count": 52
        }
      ]
    },
    {
      "cell_type": "markdown",
      "metadata": {
        "id": "X1OfT4VPV5I-"
      },
      "source": [
        "#### **Best Practice** Deferring weight creation until the shape of the input is known. \n",
        "\n",
        "In many cases, we may nt know in advance the size of our inputs, and we would like to lazily create weights when the vaue becomes known, some time after instantiating the layer. \n",
        "\n",
        "We can do this by using the `build(self, input_shape)` method.\n"
      ]
    },
    {
      "cell_type": "code",
      "metadata": {
        "colab": {
          "base_uri": "https://localhost:8080/"
        },
        "id": "bF_h6d0nbtRs",
        "outputId": "dfcf7c97-aa73-481c-8547-563f7352dd31"
      },
      "source": [
        "# Constructing a layer with the build method \n",
        "\n",
        "class Linear(tf.keras.layers.Layer):\n",
        "\n",
        "  def __init__(self , units , **kwargs):\n",
        "    super(Linear , self).__init__(**kwargs)\n",
        "\n",
        "    self.units = units \n",
        "\n",
        "  def build(self , input_shape):\n",
        "    self.w = self.add_weight(shape = (input_shape[-1] , self.units) , \n",
        "                             initializer = 'glorot_uniform' , \n",
        "                             trainable = True)\n",
        "    \n",
        "    self.b = self.add_weight(shape = (self.units ,) , \n",
        "                             initializer = 'zeros', trainable = True)\n",
        "    \n",
        "  \n",
        "  def call(self, inputs):\n",
        "    return tf.matmul(inputs , self.w) + self.b\n",
        "\n",
        "x = tf.ones((2, 2))\n",
        "b_layer = Linear(units = 12)\n",
        "b_layer(x)"
      ],
      "execution_count": 54,
      "outputs": [
        {
          "output_type": "execute_result",
          "data": {
            "text/plain": [
              "<tf.Tensor: shape=(2, 12), dtype=float32, numpy=\n",
              "array([[ 0.6545361 ,  0.36266744,  0.9787259 , -0.30318925,  1.1140931 ,\n",
              "         0.6644525 , -0.00476301, -0.31749135,  0.2563127 ,  0.8250067 ,\n",
              "         0.2188679 , -0.24075866],\n",
              "       [ 0.6545361 ,  0.36266744,  0.9787259 , -0.30318925,  1.1140931 ,\n",
              "         0.6644525 , -0.00476301, -0.31749135,  0.2563127 ,  0.8250067 ,\n",
              "         0.2188679 , -0.24075866]], dtype=float32)>"
            ]
          },
          "metadata": {},
          "execution_count": 54
        }
      ]
    },
    {
      "cell_type": "markdown",
      "metadata": {
        "id": "VV1uAsu3c-QW"
      },
      "source": [
        "The `call()` method will automatically run the build the first time its called. \n",
        "\n",
        "Now our layer creates the weights through the build method and takes the dim from the input shape."
      ]
    },
    {
      "cell_type": "markdown",
      "metadata": {
        "id": "9r8OOsnHeOuL"
      },
      "source": [
        "#### **Layers are recursively composable** \n",
        "\n",
        "We can use the Layer instance as an attribute of another Layer, the output layer will start tracking the weights of the inner layer. \n",
        "\n",
        "We will call these instances constructor or the init method. Since the sublayers will typically have a build mehtod, they will be built when the outer layer gets built. "
      ]
    },
    {
      "cell_type": "code",
      "metadata": {
        "colab": {
          "base_uri": "https://localhost:8080/"
        },
        "id": "uATczWV2kuO5",
        "outputId": "61a77a39-69a7-4558-8fba-153076a0476a"
      },
      "source": [
        "# We are re-using the Linear class which was built above \n",
        "# Make sure it has the build method \n",
        "\n",
        "\n",
        "class MLPBlock(tf.keras.layers.Layer):\n",
        "\n",
        "  def __init__(self , **kwargs):\n",
        "    super(MLPBlock , self).__init__(**kwargs)\n",
        "\n",
        "    self.linear_1 = Linear(32)\n",
        "    self.linear_2 = Linear(32)\n",
        "    self.linear_3 = Linear(1)\n",
        "\n",
        "  def call(self , inputs):\n",
        "    x = self.linear_1(inputs)\n",
        "    x = tf.nn.relu(x)\n",
        "    x = self.linear_2(x)\n",
        "    x = tf.nn.relu(x)\n",
        "    return self.linear_3(x)\n",
        "  \n",
        "  def model(self , input_shape):\n",
        "    x = layers.Input(shape = input_shape)\n",
        "    return tf.keras.Model(inputs = [x] , outputs = self.call(x))\n",
        "\n",
        "mlp = MLPBlock()\n",
        "x_new = tf.ones((3 , 64))\n",
        "new_model = mlp.model(x_new.shape)\n",
        "new_model.summary()"
      ],
      "execution_count": 71,
      "outputs": [
        {
          "output_type": "stream",
          "name": "stdout",
          "text": [
            "Model: \"model_3\"\n",
            "_________________________________________________________________\n",
            "Layer (type)                 Output Shape              Param #   \n",
            "=================================================================\n",
            "input_5 (InputLayer)         [(None, 3, 64)]           0         \n",
            "_________________________________________________________________\n",
            "linear_41 (Linear)           (None, 3, 32)             2080      \n",
            "_________________________________________________________________\n",
            "tf.nn.relu_2 (TFOpLambda)    (None, 3, 32)             0         \n",
            "_________________________________________________________________\n",
            "linear_42 (Linear)           (None, 3, 32)             1056      \n",
            "_________________________________________________________________\n",
            "tf.nn.relu_3 (TFOpLambda)    (None, 3, 32)             0         \n",
            "_________________________________________________________________\n",
            "linear_43 (Linear)           (None, 3, 1)              33        \n",
            "=================================================================\n",
            "Total params: 3,169\n",
            "Trainable params: 3,169\n",
            "Non-trainable params: 0\n",
            "_________________________________________________________________\n"
          ]
        }
      ]
    },
    {
      "cell_type": "code",
      "metadata": {
        "colab": {
          "base_uri": "https://localhost:8080/"
        },
        "id": "JkxGjs1glRKf",
        "outputId": "d179ca5b-876d-47a5-a3e5-72f4a82d126b"
      },
      "source": [
        "Linear(32)(x)"
      ],
      "execution_count": 59,
      "outputs": [
        {
          "output_type": "execute_result",
          "data": {
            "text/plain": [
              "<tf.Tensor: shape=(2, 32), dtype=float32, numpy=\n",
              "array([[ 0.43154544,  0.20031127,  0.05356804, -0.5117223 ,  0.23156342,\n",
              "        -0.42638555, -0.23026729,  0.21616405,  0.02342704, -0.4331713 ,\n",
              "        -0.08822438,  0.10264812,  0.5390112 , -0.26971427, -0.7056853 ,\n",
              "         0.27737316,  0.17170075, -0.01220515,  0.1279693 ,  0.3457061 ,\n",
              "        -0.47503495,  0.10932532,  0.411958  , -0.63879704,  0.0115537 ,\n",
              "        -0.28038555, -0.12765104, -0.5820263 , -0.36577123, -0.28264078,\n",
              "        -0.05403408, -0.3133632 ],\n",
              "       [ 0.43154544,  0.20031127,  0.05356804, -0.5117223 ,  0.23156342,\n",
              "        -0.42638555, -0.23026729,  0.21616405,  0.02342704, -0.4331713 ,\n",
              "        -0.08822438,  0.10264812,  0.5390112 , -0.26971427, -0.7056853 ,\n",
              "         0.27737316,  0.17170075, -0.01220515,  0.1279693 ,  0.3457061 ,\n",
              "        -0.47503495,  0.10932532,  0.411958  , -0.63879704,  0.0115537 ,\n",
              "        -0.28038555, -0.12765104, -0.5820263 , -0.36577123, -0.28264078,\n",
              "        -0.05403408, -0.3133632 ]], dtype=float32)>"
            ]
          },
          "metadata": {},
          "execution_count": 59
        }
      ]
    },
    {
      "cell_type": "code",
      "metadata": {
        "id": "fZsnBSNAlSCH"
      },
      "source": [
        "def model(self):\n",
        "    x = layers.Input(shape = (28 , 28 , 1))\n",
        "    return tf.keras.Model(inputs = [x] , outputs = self.call(x))\n"
      ],
      "execution_count": null,
      "outputs": []
    }
  ]
}
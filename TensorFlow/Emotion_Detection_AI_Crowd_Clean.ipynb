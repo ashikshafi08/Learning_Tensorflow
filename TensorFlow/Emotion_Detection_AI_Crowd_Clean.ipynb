{
  "nbformat": 4,
  "nbformat_minor": 0,
  "metadata": {
    "colab": {
      "name": "Emotion_Detection_AI_Crowd.ipynb",
      "provenance": [],
      "authorship_tag": "ABX9TyPq4ixpPO7DkW6HvY2JIcve",
      "include_colab_link": true
    },
    "kernelspec": {
      "name": "python3",
      "display_name": "Python 3"
    },
    "language_info": {
      "name": "python"
    }
  },
  "cells": [
    {
      "cell_type": "markdown",
      "metadata": {
        "id": "view-in-github",
        "colab_type": "text"
      },
      "source": [
        "<a href=\"https://colab.research.google.com/github/ashikshafi08/Learning_Tensorflow/blob/main/TensorFlow/Emotion_Detection_AI_Crowd_Clean.ipynb\" target=\"_parent\"><img src=\"https://colab.research.google.com/assets/colab-badge.svg\" alt=\"Open In Colab\"/></a>"
      ]
    },
    {
      "cell_type": "code",
      "metadata": {
        "colab": {
          "base_uri": "https://localhost:8080/"
        },
        "id": "VWvUbpPvnGPP",
        "outputId": "b0cd645a-fee4-4e4e-b307-b8e1e0d54554"
      },
      "source": [
        "!pip install aicrowd-cli\n",
        "API_KEY = '' \n",
        "!aicrowd login --api-key $API_KEY\n",
        "\n",
        "# Downloading the Dataset\n",
        "!mkdir data\n",
        "!aicrowd dataset download --challenge emotion-detection -j 3 -o data"
      ],
      "execution_count": 1,
      "outputs": [
        {
          "output_type": "stream",
          "text": [
            "Collecting aicrowd-cli\n",
            "\u001b[?25l  Downloading https://files.pythonhosted.org/packages/1f/57/59b5a00c6e90c9cc028b3da9dff90e242ad2847e735b1a0e81a21c616e27/aicrowd_cli-0.1.7-py3-none-any.whl (49kB)\n",
            "\u001b[K     |████████████████████████████████| 51kB 5.7MB/s \n",
            "\u001b[?25hCollecting requests<3,>=2.25.1\n",
            "\u001b[?25l  Downloading https://files.pythonhosted.org/packages/29/c1/24814557f1d22c56d50280771a17307e6bf87b70727d975fd6b2ce6b014a/requests-2.25.1-py2.py3-none-any.whl (61kB)\n",
            "\u001b[K     |████████████████████████████████| 61kB 5.4MB/s \n",
            "\u001b[?25hCollecting rich<11,>=10.0.0\n",
            "\u001b[?25l  Downloading https://files.pythonhosted.org/packages/a8/32/eb8aadb1ed791081e5c773bd1dfa15f1a71788fbeda37b12f837f2b1999b/rich-10.3.0-py3-none-any.whl (205kB)\n",
            "\u001b[K     |████████████████████████████████| 215kB 35.9MB/s \n",
            "\u001b[?25hCollecting requests-toolbelt<1,>=0.9.1\n",
            "\u001b[?25l  Downloading https://files.pythonhosted.org/packages/60/ef/7681134338fc097acef8d9b2f8abe0458e4d87559c689a8c306d0957ece5/requests_toolbelt-0.9.1-py2.py3-none-any.whl (54kB)\n",
            "\u001b[K     |████████████████████████████████| 61kB 6.8MB/s \n",
            "\u001b[?25hRequirement already satisfied: toml<1,>=0.10.2 in /usr/local/lib/python3.7/dist-packages (from aicrowd-cli) (0.10.2)\n",
            "Collecting gitpython<4,>=3.1.12\n",
            "\u001b[?25l  Downloading https://files.pythonhosted.org/packages/27/da/6f6224fdfc47dab57881fe20c0d1bc3122be290198ba0bf26a953a045d92/GitPython-3.1.17-py3-none-any.whl (166kB)\n",
            "\u001b[K     |████████████████████████████████| 174kB 39.6MB/s \n",
            "\u001b[?25hRequirement already satisfied: click<8,>=7.1.2 in /usr/local/lib/python3.7/dist-packages (from aicrowd-cli) (7.1.2)\n",
            "Collecting tqdm<5,>=4.56.0\n",
            "\u001b[?25l  Downloading https://files.pythonhosted.org/packages/42/d7/f357d98e9b50346bcb6095fe3ad205d8db3174eb5edb03edfe7c4099576d/tqdm-4.61.0-py2.py3-none-any.whl (75kB)\n",
            "\u001b[K     |████████████████████████████████| 81kB 8.7MB/s \n",
            "\u001b[?25hRequirement already satisfied: chardet<5,>=3.0.2 in /usr/local/lib/python3.7/dist-packages (from requests<3,>=2.25.1->aicrowd-cli) (3.0.4)\n",
            "Requirement already satisfied: certifi>=2017.4.17 in /usr/local/lib/python3.7/dist-packages (from requests<3,>=2.25.1->aicrowd-cli) (2020.12.5)\n",
            "Requirement already satisfied: urllib3<1.27,>=1.21.1 in /usr/local/lib/python3.7/dist-packages (from requests<3,>=2.25.1->aicrowd-cli) (1.24.3)\n",
            "Requirement already satisfied: idna<3,>=2.5 in /usr/local/lib/python3.7/dist-packages (from requests<3,>=2.25.1->aicrowd-cli) (2.10)\n",
            "Requirement already satisfied: typing-extensions<4.0.0,>=3.7.4; python_version < \"3.8\" in /usr/local/lib/python3.7/dist-packages (from rich<11,>=10.0.0->aicrowd-cli) (3.7.4.3)\n",
            "Requirement already satisfied: pygments<3.0.0,>=2.6.0 in /usr/local/lib/python3.7/dist-packages (from rich<11,>=10.0.0->aicrowd-cli) (2.6.1)\n",
            "Collecting commonmark<0.10.0,>=0.9.0\n",
            "\u001b[?25l  Downloading https://files.pythonhosted.org/packages/b1/92/dfd892312d822f36c55366118b95d914e5f16de11044a27cf10a7d71bbbf/commonmark-0.9.1-py2.py3-none-any.whl (51kB)\n",
            "\u001b[K     |████████████████████████████████| 51kB 5.9MB/s \n",
            "\u001b[?25hCollecting colorama<0.5.0,>=0.4.0\n",
            "  Downloading https://files.pythonhosted.org/packages/44/98/5b86278fbbf250d239ae0ecb724f8572af1c91f4a11edf4d36a206189440/colorama-0.4.4-py2.py3-none-any.whl\n",
            "Collecting gitdb<5,>=4.0.1\n",
            "\u001b[?25l  Downloading https://files.pythonhosted.org/packages/ea/e8/f414d1a4f0bbc668ed441f74f44c116d9816833a48bf81d22b697090dba8/gitdb-4.0.7-py3-none-any.whl (63kB)\n",
            "\u001b[K     |████████████████████████████████| 71kB 8.8MB/s \n",
            "\u001b[?25hCollecting smmap<5,>=3.0.1\n",
            "  Downloading https://files.pythonhosted.org/packages/68/ee/d540eb5e5996eb81c26ceffac6ee49041d473bc5125f2aa995cf51ec1cf1/smmap-4.0.0-py2.py3-none-any.whl\n",
            "\u001b[31mERROR: google-colab 1.0.0 has requirement requests~=2.23.0, but you'll have requests 2.25.1 which is incompatible.\u001b[0m\n",
            "\u001b[31mERROR: datascience 0.10.6 has requirement folium==0.2.1, but you'll have folium 0.8.3 which is incompatible.\u001b[0m\n",
            "Installing collected packages: requests, commonmark, colorama, rich, requests-toolbelt, smmap, gitdb, gitpython, tqdm, aicrowd-cli\n",
            "  Found existing installation: requests 2.23.0\n",
            "    Uninstalling requests-2.23.0:\n",
            "      Successfully uninstalled requests-2.23.0\n",
            "  Found existing installation: tqdm 4.41.1\n",
            "    Uninstalling tqdm-4.41.1:\n",
            "      Successfully uninstalled tqdm-4.41.1\n",
            "Successfully installed aicrowd-cli-0.1.7 colorama-0.4.4 commonmark-0.9.1 gitdb-4.0.7 gitpython-3.1.17 requests-2.25.1 requests-toolbelt-0.9.1 rich-10.3.0 smmap-4.0.0 tqdm-4.61.0\n",
            "\u001b[32mAPI Key valid\u001b[0m\n",
            "\u001b[32mSaved API Key successfully!\u001b[0m\n",
            "test.csv:   0% 0.00/642k [00:00<?, ?B/s]\n",
            "train.csv:   0% 0.00/2.30M [00:00<?, ?B/s]\u001b[A\n",
            "\n",
            "test.csv: 100% 642k/642k [00:00<00:00, 2.01MB/s]\n",
            "\n",
            "\n",
            "val.csv: 100% 262k/262k [00:00<00:00, 955kB/s]\n",
            "\n",
            "train.csv: 100% 2.30M/2.30M [00:00<00:00, 4.40MB/s]\n"
          ],
          "name": "stdout"
        }
      ]
    },
    {
      "cell_type": "code",
      "metadata": {
        "id": "VPy8AjY9nMgE"
      },
      "source": [
        "# Importing all the packages we need \n",
        "import tensorflow as tf \n",
        "import pandas as pd \n",
        "import numpy as np\n",
        "import matplotlib.pyplot as plt"
      ],
      "execution_count": 2,
      "outputs": []
    },
    {
      "cell_type": "code",
      "metadata": {
        "colab": {
          "base_uri": "https://localhost:8080/"
        },
        "id": "4cWdvJ74nPt0",
        "outputId": "4e73c8cb-16af-494a-cb35-8e73fcf67ef4"
      },
      "source": [
        "# Importing the data \n",
        "\n",
        "train_data = pd.read_csv('data/train.csv')\n",
        "val_data = pd.read_csv('data/val.csv')\n",
        "test_data = pd.read_csv('data/test.csv')\n",
        "\n",
        "# Printing out all shapes of our data \n",
        "print(f'Shape of the train data: {train_data.shape}')\n",
        "print(f'Shape of the validation data: {val_data.shape}')\n",
        "print(f'Shape of the test data: {test_data.shape}')"
      ],
      "execution_count": 3,
      "outputs": [
        {
          "output_type": "stream",
          "text": [
            "Shape of the train data: (31255, 2)\n",
            "Shape of the validation data: (3473, 2)\n",
            "Shape of the test data: (8682, 2)\n"
          ],
          "name": "stdout"
        }
      ]
    },
    {
      "cell_type": "code",
      "metadata": {
        "colab": {
          "base_uri": "https://localhost:8080/"
        },
        "id": "fFSBdACpnQcX",
        "outputId": "d6670be4-48d3-47d8-f62f-745908eda04e"
      },
      "source": [
        "# Shuffling our train data \n",
        "train_data_shuffled = train_data.sample(frac = 1 , random_state = 42)\n",
        "train_data_shuffled.head() , train_data_shuffled.shape"
      ],
      "execution_count": 4,
      "outputs": [
        {
          "output_type": "execute_result",
          "data": {
            "text/plain": [
              "(                                                    text  label\n",
              " 13976                                           Yaaaay!!      0\n",
              " 3256   says the insecure idiot who just had to dig th...      0\n",
              " 24501  Game still \"fun\" if you don't tryhard and play...      0\n",
              " 22477  Connie Drake learned to fight smarter, not har...      0\n",
              " 16658               And she jumped into sewage. Yeh, no.      1, (31255, 2))"
            ]
          },
          "metadata": {
            "tags": []
          },
          "execution_count": 4
        }
      ]
    },
    {
      "cell_type": "code",
      "metadata": {
        "colab": {
          "base_uri": "https://localhost:8080/"
        },
        "id": "FvhxOuHVnZRa",
        "outputId": "15bd3126-33f3-456f-d865-1e6c86c0b506"
      },
      "source": [
        "# Splitting sentences and labels\n",
        "train_sentences = train_data_shuffled['text'].to_numpy()\n",
        "train_labels = train_data_shuffled['label'].to_numpy()\n",
        "\n",
        "val_sentences = val_data['text'].to_numpy()\n",
        "val_labels = val_data['label'].to_numpy()\n",
        "\n",
        "test_sentences = test_data['text'].to_numpy()\n",
        "test_labels = test_data['label'].to_numpy()\n",
        "\n",
        "\n",
        "# Checking the shapes \n",
        "print(f'Shape of the train sentences: {train_sentences.shape}')\n",
        "print(f'Shape of the validation sentences: {val_sentences.shape}')\n",
        "print(f'Shape of the train labels: {train_labels.shape}')\n",
        "print(f'Shape of the validation labels: {val_labels.shape}')"
      ],
      "execution_count": 5,
      "outputs": [
        {
          "output_type": "stream",
          "text": [
            "Shape of the train sentences: (31255,)\n",
            "Shape of the validation sentences: (3473,)\n",
            "Shape of the train labels: (31255,)\n",
            "Shape of the validation labels: (3473,)\n"
          ],
          "name": "stdout"
        }
      ]
    },
    {
      "cell_type": "code",
      "metadata": {
        "id": "pWXwqO2jyTwP"
      },
      "source": [
        "reduce_lr = tf.keras.callbacks.ReduceLROnPlateau(\n",
        "    monitor = 'val_accuracy' , \n",
        "    factor = 0.2 , \n",
        "    patience = 0 , \n",
        "    min_lr = 0.0001\n",
        ")"
      ],
      "execution_count": 58,
      "outputs": []
    },
    {
      "cell_type": "code",
      "metadata": {
        "id": "NRkzCtWunbU2"
      },
      "source": [
        "# Creating a Keras Layer (Using Transfer Learning)\n",
        "\n",
        "sentence_encoder_layer = hub.KerasLayer('https://tfhub.dev/google/universal-sentence-encoder/4' , \n",
        "                                  input_shape = [], \n",
        "                                  dtype = tf.string , \n",
        "                                  trainable = False , \n",
        "                                  name = 'USE_layer')"
      ],
      "execution_count": 55,
      "outputs": []
    },
    {
      "cell_type": "code",
      "metadata": {
        "colab": {
          "base_uri": "https://localhost:8080/"
        },
        "id": "jSwEXt_Anh_f",
        "outputId": "a9643ce1-311d-4eeb-f859-67d1a5ac7dc9"
      },
      "source": [
        "# Building a model\n",
        "from tensorflow.keras import layers\n",
        "\n",
        "model = tf.keras.Sequential([\n",
        "  sentence_encoder_layer,\n",
        "  layers.Dense(128 , activation = 'relu'),\n",
        "  layers.Dense(1 , activation = 'sigmoid')\n",
        "\n",
        "] , name = 'USE_model')\n",
        "\n",
        "# Summary of the mdoel \n",
        "model.summary()"
      ],
      "execution_count": 74,
      "outputs": [
        {
          "output_type": "stream",
          "text": [
            "Model: \"USE_model\"\n",
            "_________________________________________________________________\n",
            "Layer (type)                 Output Shape              Param #   \n",
            "=================================================================\n",
            "USE_layer (KerasLayer)       (None, 512)               256797824 \n",
            "_________________________________________________________________\n",
            "dense_25 (Dense)             (None, 128)               65664     \n",
            "_________________________________________________________________\n",
            "dense_26 (Dense)             (None, 1)                 129       \n",
            "=================================================================\n",
            "Total params: 256,863,617\n",
            "Trainable params: 65,793\n",
            "Non-trainable params: 256,797,824\n",
            "_________________________________________________________________\n"
          ],
          "name": "stdout"
        }
      ]
    },
    {
      "cell_type": "code",
      "metadata": {
        "colab": {
          "base_uri": "https://localhost:8080/"
        },
        "id": "6MzVvnN0nwwv",
        "outputId": "642450a7-55a6-4ba7-f7b2-c5e20b522516"
      },
      "source": [
        "# Compiling a model \n",
        "model.compile(loss = tf.keras.losses.BinaryCrossentropy() , \n",
        "                   optimizer = tf.keras.optimizers.Adam() , \n",
        "                   metrics = ['accuracy'])\n",
        "\n",
        "# Fit the model \n",
        "history = model.fit(train_sentences , train_labels , \n",
        "               validation_data = (val_sentences , val_labels) , \n",
        "               epochs = 15)"
      ],
      "execution_count": 75,
      "outputs": [
        {
          "output_type": "stream",
          "text": [
            "Epoch 1/15\n",
            "977/977 [==============================] - 13s 12ms/step - loss: 0.4129 - accuracy: 0.8133 - val_loss: 0.3815 - val_accuracy: 0.8226\n",
            "Epoch 2/15\n",
            "977/977 [==============================] - 11s 12ms/step - loss: 0.3796 - accuracy: 0.8275 - val_loss: 0.3776 - val_accuracy: 0.8244\n",
            "Epoch 3/15\n",
            "977/977 [==============================] - 11s 12ms/step - loss: 0.3654 - accuracy: 0.8348 - val_loss: 0.3809 - val_accuracy: 0.8166\n",
            "Epoch 4/15\n",
            "977/977 [==============================] - 11s 12ms/step - loss: 0.3490 - accuracy: 0.8458 - val_loss: 0.3764 - val_accuracy: 0.8200\n",
            "Epoch 5/15\n",
            "977/977 [==============================] - 12s 12ms/step - loss: 0.3308 - accuracy: 0.8545 - val_loss: 0.3795 - val_accuracy: 0.8241\n",
            "Epoch 6/15\n",
            "977/977 [==============================] - 12s 12ms/step - loss: 0.3135 - accuracy: 0.8646 - val_loss: 0.3839 - val_accuracy: 0.8209\n",
            "Epoch 7/15\n",
            "977/977 [==============================] - 12s 12ms/step - loss: 0.2949 - accuracy: 0.8746 - val_loss: 0.3944 - val_accuracy: 0.8019\n",
            "Epoch 8/15\n",
            "977/977 [==============================] - 12s 12ms/step - loss: 0.2770 - accuracy: 0.8864 - val_loss: 0.3955 - val_accuracy: 0.8123\n",
            "Epoch 9/15\n",
            "977/977 [==============================] - 12s 12ms/step - loss: 0.2595 - accuracy: 0.8947 - val_loss: 0.4017 - val_accuracy: 0.8111\n",
            "Epoch 10/15\n",
            "977/977 [==============================] - 12s 12ms/step - loss: 0.2416 - accuracy: 0.9051 - val_loss: 0.4149 - val_accuracy: 0.8054\n",
            "Epoch 11/15\n",
            "977/977 [==============================] - 12s 12ms/step - loss: 0.2262 - accuracy: 0.9126 - val_loss: 0.4267 - val_accuracy: 0.8082\n",
            "Epoch 12/15\n",
            "977/977 [==============================] - 12s 12ms/step - loss: 0.2107 - accuracy: 0.9203 - val_loss: 0.4422 - val_accuracy: 0.8048\n",
            "Epoch 13/15\n",
            "977/977 [==============================] - 12s 12ms/step - loss: 0.1966 - accuracy: 0.9271 - val_loss: 0.4526 - val_accuracy: 0.8056\n",
            "Epoch 14/15\n",
            "977/977 [==============================] - 12s 12ms/step - loss: 0.1816 - accuracy: 0.9361 - val_loss: 0.4601 - val_accuracy: 0.8056\n",
            "Epoch 15/15\n",
            "977/977 [==============================] - 12s 12ms/step - loss: 0.1682 - accuracy: 0.9425 - val_loss: 0.4834 - val_accuracy: 0.7959\n"
          ],
          "name": "stdout"
        }
      ]
    },
    {
      "cell_type": "code",
      "metadata": {
        "colab": {
          "base_uri": "https://localhost:8080/"
        },
        "id": "mKcFAkZloX_T",
        "outputId": "54864b51-0aee-4579-e834-0c8b02662bd8"
      },
      "source": [
        "# Getting the prediction probs\n",
        "pred_probs = model.predict(test_sentences)\n",
        "pred_probs[:10]\n",
        "\n",
        "# Converting into labels \n",
        "model_preds = tf.cast(tf.squeeze(tf.round(pred_probs)) , tf.int32)\n",
        "model_preds[:10]"
      ],
      "execution_count": 68,
      "outputs": [
        {
          "output_type": "execute_result",
          "data": {
            "text/plain": [
              "<tf.Tensor: shape=(10,), dtype=int32, numpy=array([1, 1, 0, 0, 1, 0, 0, 1, 0, 0], dtype=int32)>"
            ]
          },
          "metadata": {
            "tags": []
          },
          "execution_count": 68
        }
      ]
    },
    {
      "cell_type": "code",
      "metadata": {
        "colab": {
          "base_uri": "https://localhost:8080/",
          "height": 204
        },
        "id": "Pr5OhLc7pQgZ",
        "outputId": "2f60466c-b2dc-4485-ae11-51d2fa796d02"
      },
      "source": [
        "# Dropping the label column\n",
        "test_data.drop('label' , inplace = True , axis = 1)\n",
        "\n",
        "# Assigning the predictions\n",
        "test_data['label'] = model_preds\n",
        "test_data.head()\n"
      ],
      "execution_count": 69,
      "outputs": [
        {
          "output_type": "execute_result",
          "data": {
            "text/html": [
              "<div>\n",
              "<style scoped>\n",
              "    .dataframe tbody tr th:only-of-type {\n",
              "        vertical-align: middle;\n",
              "    }\n",
              "\n",
              "    .dataframe tbody tr th {\n",
              "        vertical-align: top;\n",
              "    }\n",
              "\n",
              "    .dataframe thead th {\n",
              "        text-align: right;\n",
              "    }\n",
              "</style>\n",
              "<table border=\"1\" class=\"dataframe\">\n",
              "  <thead>\n",
              "    <tr style=\"text-align: right;\">\n",
              "      <th></th>\n",
              "      <th>text</th>\n",
              "      <th>label</th>\n",
              "    </tr>\n",
              "  </thead>\n",
              "  <tbody>\n",
              "    <tr>\n",
              "      <th>0</th>\n",
              "      <td>I was already over the edge with Cassie Zamora...</td>\n",
              "      <td>1</td>\n",
              "    </tr>\n",
              "    <tr>\n",
              "      <th>1</th>\n",
              "      <td>I think you're right. She has oodles of cash a...</td>\n",
              "      <td>1</td>\n",
              "    </tr>\n",
              "    <tr>\n",
              "      <th>2</th>\n",
              "      <td>Haha I love this. I used to give mine phone bo...</td>\n",
              "      <td>0</td>\n",
              "    </tr>\n",
              "    <tr>\n",
              "      <th>3</th>\n",
              "      <td>Probably out of desperation as they going no a...</td>\n",
              "      <td>0</td>\n",
              "    </tr>\n",
              "    <tr>\n",
              "      <th>4</th>\n",
              "      <td>Sorry !! You’re real good at that!!</td>\n",
              "      <td>1</td>\n",
              "    </tr>\n",
              "  </tbody>\n",
              "</table>\n",
              "</div>"
            ],
            "text/plain": [
              "                                                text  label\n",
              "0  I was already over the edge with Cassie Zamora...      1\n",
              "1  I think you're right. She has oodles of cash a...      1\n",
              "2  Haha I love this. I used to give mine phone bo...      0\n",
              "3  Probably out of desperation as they going no a...      0\n",
              "4                Sorry !! You’re real good at that!!      1"
            ]
          },
          "metadata": {
            "tags": []
          },
          "execution_count": 69
        }
      ]
    },
    {
      "cell_type": "code",
      "metadata": {
        "colab": {
          "base_uri": "https://localhost:8080/"
        },
        "id": "Yo2KF70RpevM",
        "outputId": "ce51264d-1f7a-4328-ee53-194339ccdaa8"
      },
      "source": [
        "# Saving the model \n",
        "model.save('use_tf_model')"
      ],
      "execution_count": 35,
      "outputs": [
        {
          "output_type": "stream",
          "text": [
            "WARNING:absl:Function `_wrapped_model` contains input name(s) USE_layer_input with unsupported characters which will be renamed to use_layer_input in the SavedModel.\n"
          ],
          "name": "stderr"
        },
        {
          "output_type": "stream",
          "text": [
            "INFO:tensorflow:Assets written to: use_tf_model/assets\n"
          ],
          "name": "stdout"
        },
        {
          "output_type": "stream",
          "text": [
            "INFO:tensorflow:Assets written to: use_tf_model/assets\n"
          ],
          "name": "stderr"
        }
      ]
    },
    {
      "cell_type": "code",
      "metadata": {
        "colab": {
          "base_uri": "https://localhost:8080/"
        },
        "id": "CKiCMvZGqZSr",
        "outputId": "6607205e-bdc8-415c-ed82-6f6a97f000b6"
      },
      "source": [
        "# Loading the model as inference \n",
        "inf_model = tf.keras.models.load_model('use_tf_model/')\n",
        "inf_model.summary()"
      ],
      "execution_count": 20,
      "outputs": [
        {
          "output_type": "stream",
          "text": [
            "Model: \"USE_model\"\n",
            "_________________________________________________________________\n",
            "Layer (type)                 Output Shape              Param #   \n",
            "=================================================================\n",
            "USE_layer (KerasLayer)       (None, 512)               256797824 \n",
            "_________________________________________________________________\n",
            "dense_3 (Dense)              (None, 64)                32832     \n",
            "_________________________________________________________________\n",
            "dense_4 (Dense)              (None, 1)                 65        \n",
            "=================================================================\n",
            "Total params: 256,830,721\n",
            "Trainable params: 32,897\n",
            "Non-trainable params: 256,797,824\n",
            "_________________________________________________________________\n"
          ],
          "name": "stdout"
        }
      ]
    },
    {
      "cell_type": "code",
      "metadata": {
        "colab": {
          "base_uri": "https://localhost:8080/"
        },
        "id": "ZqMKGUEmrBL0",
        "outputId": "219ce25a-55b4-479f-c260-352d3ed46e8a"
      },
      "source": [
        "# Evaluating on the validation data\n",
        "inf_model.evaluate(val_sentences , val_labels)"
      ],
      "execution_count": 21,
      "outputs": [
        {
          "output_type": "stream",
          "text": [
            "109/109 [==============================] - 1s 9ms/step - loss: 0.3750 - accuracy: 0.8232\n"
          ],
          "name": "stdout"
        },
        {
          "output_type": "execute_result",
          "data": {
            "text/plain": [
              "[0.3749535381793976, 0.8232076168060303]"
            ]
          },
          "metadata": {
            "tags": []
          },
          "execution_count": 21
        }
      ]
    },
    {
      "cell_type": "code",
      "metadata": {
        "id": "UgbyDCs8rH3M"
      },
      "source": [
        "import os\n",
        "#!mkdir assets\n",
        "test_data.to_csv(os.path.join(\"assets\", \"submission.csv\"), index=False)"
      ],
      "execution_count": 70,
      "outputs": []
    },
    {
      "cell_type": "code",
      "metadata": {
        "id": "RwUuxju9rdmt",
        "outputId": "7a83b7e6-0146-409b-a53b-8262bc26082d",
        "colab": {
          "base_uri": "https://localhost:8080/"
        }
      },
      "source": [
        "!aicrowd notebook submit -c emotion-detection -a assets --no-verify"
      ],
      "execution_count": 71,
      "outputs": [
        {
          "output_type": "stream",
          "text": [
            "Using notebook: /content/drive/MyDrive/Colab Notebooks/Inference_Notebook.ipynb for submission...\n",
            "Removing existing files from submission directory...\n",
            "Scrubbing API keys from the notebook...\n",
            "Collecting notebook...\n",
            "\u001b[2K\u001b[1;34msubmission.zip\u001b[0m \u001b[90m━━━━━━━━━━━━━━━━━━\u001b[0m \u001b[35m100.0%\u001b[0m • \u001b[32m293.9/292.2 KB\u001b[0m • \u001b[31m957.5 kB/s\u001b[0m • \u001b[36m0:00:00\u001b[0m\n",
            "\u001b[?25h                                                  ╭─────────────────────────╮                                                  \n",
            "                                                  │ \u001b[1mSuccessfully submitted!\u001b[0m │                                                  \n",
            "                                                  ╰─────────────────────────╯                                                  \n",
            "\u001b[3m                                                        Important links                                                        \u001b[0m\n",
            "┌──────────────────┬──────────────────────────────────────────────────────────────────────────────────────────────────────────┐\n",
            "│  This submission │ https://www.aicrowd.com/challenges/ai-blitz-9/problems/emotion-detection/submissions/145852              │\n",
            "│                  │                                                                                                          │\n",
            "│  All submissions │ https://www.aicrowd.com/challenges/ai-blitz-9/problems/emotion-detection/submissions?my_submissions=true │\n",
            "│                  │                                                                                                          │\n",
            "│      Leaderboard │ https://www.aicrowd.com/challenges/ai-blitz-9/problems/emotion-detection/leaderboards                    │\n",
            "│                  │                                                                                                          │\n",
            "│ Discussion forum │ https://discourse.aicrowd.com/c/ai-blitz-9                                                               │\n",
            "│                  │                                                                                                          │\n",
            "│   Challenge page │ https://www.aicrowd.com/challenges/ai-blitz-9/problems/emotion-detection                                 │\n",
            "└──────────────────┴──────────────────────────────────────────────────────────────────────────────────────────────────────────┘\n"
          ],
          "name": "stdout"
        }
      ]
    },
    {
      "cell_type": "code",
      "metadata": {
        "id": "zz4S9PcNswMo"
      },
      "source": [
        ""
      ],
      "execution_count": null,
      "outputs": []
    }
  ]
}
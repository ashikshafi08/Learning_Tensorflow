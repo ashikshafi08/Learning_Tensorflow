{
  "nbformat": 4,
  "nbformat_minor": 0,
  "metadata": {
    "colab": {
      "name": "00_TensorFlow_Fundamentals-🛠 Exercises & 📖 Extra-curriculum.ipynb",
      "provenance": [],
      "collapsed_sections": [],
      "authorship_tag": "ABX9TyPZ/atlk4g5DHiQstzHU5bI",
      "include_colab_link": true
    },
    "kernelspec": {
      "name": "python3",
      "display_name": "Python 3"
    },
    "accelerator": "GPU"
  },
  "cells": [
    {
      "cell_type": "markdown",
      "metadata": {
        "id": "view-in-github",
        "colab_type": "text"
      },
      "source": [
        "<a href=\"https://colab.research.google.com/github/ashikshafi08/Learning_Tensorflow/blob/main/Exericse_and_Extra-curriculum/00_TensorFlow_Fundamentals_%F0%9F%9B%A0_Exercises_%26_%F0%9F%93%96_Extra_curriculum.ipynb\" target=\"_parent\"><img src=\"https://colab.research.google.com/assets/colab-badge.svg\" alt=\"Open In Colab\"/></a>"
      ]
    },
    {
      "cell_type": "code",
      "metadata": {
        "colab": {
          "base_uri": "https://localhost:8080/"
        },
        "id": "JnkvYYRn6TN7",
        "outputId": "92fb4b4e-2452-4954-dcde-4653ff2d15f4"
      },
      "source": [
        "# Import TensorFlow\n",
        "import tensorflow as tf\n",
        "print(tf.__version__)"
      ],
      "execution_count": 1,
      "outputs": [
        {
          "output_type": "stream",
          "text": [
            "2.4.1\n"
          ],
          "name": "stdout"
        }
      ]
    },
    {
      "cell_type": "markdown",
      "metadata": {
        "id": "Iw4TzuJI6j18"
      },
      "source": [
        "# Exercise \n",
        "\n",
        "## 🛠 00 TensorFlow Fundamentals Exercises\n",
        "\n",
        "1. Create a vector, scalar, matrix and tensor with values of your choosing using `tf.constant()`.\n",
        "2. Find the **shape**, **rank** and **size** of the tensors you created in 1.\n",
        "3. Create two tensors containing random values between 0 and 1 with shape `[5, 300]`.\n",
        "4. Multiply the two tensors you created in 3 using **matrix multiplication**.\n",
        "5. Multiply the two tensors you created in 3 using **dot product**.\n",
        "6. Create a tensor with **random values** between 0 and 1 with shape `[224, 224, 3]`.\n",
        "7. Find the **min** and **max values** of the tensor you created in 6.\n",
        "8. Created a tensor with random values of shape `[1, 224, 224, 3]` then **squeeze** it to change the shape to `[224, 224, 3]`.\n",
        "9. Create a tensor with shape `[10]` using your own choice of values, then find the **index** which has the **maximum value**.\n",
        "10. **One-hot** encode the tensor you created in 9."
      ]
    },
    {
      "cell_type": "markdown",
      "metadata": {
        "id": "FIOGM_327m0m"
      },
      "source": [
        "### 1. Create a vector, scalar, matrix and tensor with values of your choosing using `tf.constant()`.\n"
      ]
    },
    {
      "cell_type": "code",
      "metadata": {
        "colab": {
          "base_uri": "https://localhost:8080/"
        },
        "id": "JodClH_78XGZ",
        "outputId": "959f1dcc-6328-46e7-8762-985de4b95bec"
      },
      "source": [
        "# Creating a scalar \n",
        "scalar = tf.constant([8])\n",
        "\n",
        "# Creating a vector \n",
        "vector = tf.constant([1 , 2 , 3])\n",
        "\n",
        "# Creating a matrix \n",
        "matrix = tf.constant([[1 ,2] , \n",
        "                      [3, 4]])\n",
        "\n",
        "# Creating a tensor \n",
        "tensor = tf.constant([[10 , 9 , 8] , \n",
        "                      [1 ,2 , 4], \n",
        "                      [8 , 4 , 2]])\n",
        "\n",
        "scalar , vector , matrix , tensor "
      ],
      "execution_count": 2,
      "outputs": [
        {
          "output_type": "execute_result",
          "data": {
            "text/plain": [
              "(<tf.Tensor: shape=(1,), dtype=int32, numpy=array([8], dtype=int32)>,\n",
              " <tf.Tensor: shape=(3,), dtype=int32, numpy=array([1, 2, 3], dtype=int32)>,\n",
              " <tf.Tensor: shape=(2, 2), dtype=int32, numpy=\n",
              " array([[1, 2],\n",
              "        [3, 4]], dtype=int32)>,\n",
              " <tf.Tensor: shape=(3, 3), dtype=int32, numpy=\n",
              " array([[10,  9,  8],\n",
              "        [ 1,  2,  4],\n",
              "        [ 8,  4,  2]], dtype=int32)>)"
            ]
          },
          "metadata": {
            "tags": []
          },
          "execution_count": 2
        }
      ]
    },
    {
      "cell_type": "markdown",
      "metadata": {
        "id": "r78HsqqN7w2L"
      },
      "source": [
        "### 2. Find the **shape**, **rank** and **size** of the tensors you created in 1."
      ]
    },
    {
      "cell_type": "code",
      "metadata": {
        "colab": {
          "base_uri": "https://localhost:8080/"
        },
        "id": "47R_l10p8b0E",
        "outputId": "9ab30bcb-012a-4bcd-979c-aca45423d03b"
      },
      "source": [
        "# Finding the shape, rank and size\n",
        "print(f'The shape of the tensor: {tensor.shape}')\n",
        "print(f'The rank of the tensor: {tf.size(tensor)}')\n",
        "print(f'The rank of the tensor: {tf.rank(tensor)}')"
      ],
      "execution_count": 3,
      "outputs": [
        {
          "output_type": "stream",
          "text": [
            "The shape of the tensor: (3, 3)\n",
            "The rank of the tensor: 9\n",
            "The rank of the tensor: 2\n"
          ],
          "name": "stdout"
        }
      ]
    },
    {
      "cell_type": "markdown",
      "metadata": {
        "id": "8IhsQmQg74Ct"
      },
      "source": [
        "### 3. Create two tensors containing random values between 0 and 1 with shape `[5, 300]`.\n"
      ]
    },
    {
      "cell_type": "code",
      "metadata": {
        "colab": {
          "base_uri": "https://localhost:8080/"
        },
        "id": "qtmV-5f18eEH",
        "outputId": "471bc139-abff-4c77-e0c6-460cb9711b74"
      },
      "source": [
        "tensor_1 = tf.random.Generator.from_seed(20)\n",
        "tensor_2 = tf.random.Generator.from_seed(20)\n",
        "\n",
        "# Setting up the shape \n",
        "tensor_1 = tensor_1.normal(shape =(5 , 100))\n",
        "tensor_2 = tensor_2.normal(shape = (5 , 100))\n",
        "\n",
        "tensor_1.shape , tensor_2.shape"
      ],
      "execution_count": 4,
      "outputs": [
        {
          "output_type": "execute_result",
          "data": {
            "text/plain": [
              "(TensorShape([5, 100]), TensorShape([5, 100]))"
            ]
          },
          "metadata": {
            "tags": []
          },
          "execution_count": 4
        }
      ]
    },
    {
      "cell_type": "markdown",
      "metadata": {
        "id": "YVkN1Zyh7_Qk"
      },
      "source": [
        "### 4. Multiply the two tensors you created in 3 using **matrix multiplication**.\n"
      ]
    },
    {
      "cell_type": "code",
      "metadata": {
        "colab": {
          "base_uri": "https://localhost:8080/"
        },
        "id": "zAjGjzbu8gq-",
        "outputId": "7c57a944-6ff1-4deb-f976-42824a7b6859"
      },
      "source": [
        "# Multiplying\n",
        "\n",
        "print('Shape before the matrix multiplication')\n",
        "print(tensor_1.shape , '\\n')\n",
        "print(tensor_2.shape , '\\n')\n",
        "\n",
        "resultant_vector = tf.linalg.matmul(tensor_1 , tf.transpose(tensor_2))\n",
        "print(f'After multiplying the resultant vector is: {resultant_vector} \\n')\n",
        "\n",
        "print(f'The resultant vector shape: {resultant_vector.shape}')"
      ],
      "execution_count": 5,
      "outputs": [
        {
          "output_type": "stream",
          "text": [
            "Shape before the matrix multiplication\n",
            "(5, 100) \n",
            "\n",
            "(5, 100) \n",
            "\n",
            "After multiplying the resultant vector is: [[ 1.1152011e+02 -2.0163528e+01  7.6871336e-02  5.8260102e+00\n",
            "   1.3360726e+01]\n",
            " [-2.0163528e+01  1.0469975e+02 -8.7291698e+00  8.0652893e-01\n",
            "  -6.5397663e+00]\n",
            " [ 7.6871336e-02 -8.7291698e+00  8.7304695e+01  4.6838622e+00\n",
            "  -1.9468361e+01]\n",
            " [ 5.8260102e+00  8.0652893e-01  4.6838622e+00  8.9833633e+01\n",
            "  -8.1998968e+00]\n",
            " [ 1.3360726e+01 -6.5397663e+00 -1.9468361e+01 -8.1998968e+00\n",
            "   1.0752870e+02]] \n",
            "\n",
            "The resultant vector shape: (5, 5)\n"
          ],
          "name": "stdout"
        }
      ]
    },
    {
      "cell_type": "markdown",
      "metadata": {
        "id": "RlMKgEu58Cd9"
      },
      "source": [
        "### 5. Multiply the two tensors you created in 3 using **dot product**.\n"
      ]
    },
    {
      "cell_type": "code",
      "metadata": {
        "colab": {
          "base_uri": "https://localhost:8080/"
        },
        "id": "y4rJ_P9u8j-w",
        "outputId": "d44be3e3-625e-4018-bd17-f3ddd314f10f"
      },
      "source": [
        "# Using tensordot\n",
        "\n",
        "tf.tensordot(tensor_1 , tf.transpose(tensor_2) , axes=1)"
      ],
      "execution_count": 6,
      "outputs": [
        {
          "output_type": "execute_result",
          "data": {
            "text/plain": [
              "<tf.Tensor: shape=(5, 5), dtype=float32, numpy=\n",
              "array([[ 1.1152011e+02, -2.0163528e+01,  7.6871336e-02,  5.8260102e+00,\n",
              "         1.3360726e+01],\n",
              "       [-2.0163528e+01,  1.0469975e+02, -8.7291698e+00,  8.0652893e-01,\n",
              "        -6.5397663e+00],\n",
              "       [ 7.6871336e-02, -8.7291698e+00,  8.7304695e+01,  4.6838622e+00,\n",
              "        -1.9468361e+01],\n",
              "       [ 5.8260102e+00,  8.0652893e-01,  4.6838622e+00,  8.9833633e+01,\n",
              "        -8.1998968e+00],\n",
              "       [ 1.3360726e+01, -6.5397663e+00, -1.9468361e+01, -8.1998968e+00,\n",
              "         1.0752870e+02]], dtype=float32)>"
            ]
          },
          "metadata": {
            "tags": []
          },
          "execution_count": 6
        }
      ]
    },
    {
      "cell_type": "markdown",
      "metadata": {
        "id": "pguA2uQB8FKB"
      },
      "source": [
        "### 6. Create a tensor with **random values** between 0 and 1 with shape `[224, 224, 3]`.\n"
      ]
    },
    {
      "cell_type": "code",
      "metadata": {
        "colab": {
          "base_uri": "https://localhost:8080/"
        },
        "id": "lY_xmH7n8nc7",
        "outputId": "7f1a1162-7f66-4042-ab30-1b36d5f2510f"
      },
      "source": [
        "# Tensor with shape [224 , 224 , 3]\n",
        "big_tensor = tf.random.Generator.from_seed(42)\n",
        "big_tensor = big_tensor.normal(shape = (224 , 224 , 3))\n",
        "\n",
        "big_tensor"
      ],
      "execution_count": 7,
      "outputs": [
        {
          "output_type": "execute_result",
          "data": {
            "text/plain": [
              "<tf.Tensor: shape=(224, 224, 3), dtype=float32, numpy=\n",
              "array([[[-0.7565803 , -0.06854702,  0.07595026],\n",
              "        [-1.2573844 , -0.23193765, -1.8107855 ],\n",
              "        [ 0.09988727, -0.50998646, -0.7535806 ],\n",
              "        ...,\n",
              "        [ 0.07099114, -0.5095768 ,  0.3482001 ],\n",
              "        [ 0.15985982, -1.9042184 ,  0.9690504 ],\n",
              "        [ 0.16251186, -0.07330751, -0.36059096]],\n",
              "\n",
              "       [[ 0.18739441, -0.73353654,  1.2104433 ],\n",
              "        [ 1.5603006 , -0.48115277,  0.6335167 ],\n",
              "        [-0.5612103 ,  0.06994031,  1.6807095 ],\n",
              "        ...,\n",
              "        [-1.9460293 , -0.7977275 ,  0.03092833],\n",
              "        [ 0.8297488 ,  0.12179119,  1.0506107 ],\n",
              "        [-1.3097638 ,  0.92536974, -1.1787732 ]],\n",
              "\n",
              "       [[-0.21711825, -0.73974085, -1.3077081 ],\n",
              "        [-0.7502274 , -0.37715855, -0.30130875],\n",
              "        [ 1.0943383 ,  0.255803  ,  0.8011465 ],\n",
              "        ...,\n",
              "        [-0.32833767, -0.7794747 ,  0.20049337],\n",
              "        [-0.09002841,  0.07243237, -0.81940895],\n",
              "        [ 0.3171264 , -1.6143694 , -1.6824652 ]],\n",
              "\n",
              "       ...,\n",
              "\n",
              "       [[-0.41068986, -0.3995463 ,  0.16299413],\n",
              "        [-0.82463205,  1.1320542 ,  0.43792698],\n",
              "        [-0.7639474 , -1.12663   , -0.7207727 ],\n",
              "        ...,\n",
              "        [-0.8531011 , -0.53761154, -0.32857296],\n",
              "        [ 0.9262249 , -1.2425404 , -0.69937414],\n",
              "        [ 1.7450827 ,  1.2275221 ,  0.7955961 ]],\n",
              "\n",
              "       [[-1.0337651 , -2.0142937 ,  0.20993443],\n",
              "        [-0.54768926, -0.4617833 ,  0.15565315],\n",
              "        [-0.83341664, -0.24888957, -1.0451231 ],\n",
              "        ...,\n",
              "        [ 2.1425858 ,  1.0908573 ,  0.5777537 ],\n",
              "        [ 0.1725258 , -0.93706477, -0.5235085 ],\n",
              "        [-1.6538908 ,  0.10763748,  0.1024353 ]],\n",
              "\n",
              "       [[-0.82148445, -0.04988056,  0.51579875],\n",
              "        [ 0.328913  ,  0.25311732,  1.7136203 ],\n",
              "        [-0.7098217 ,  0.40330094, -1.3882406 ],\n",
              "        ...,\n",
              "        [ 0.14991115,  1.8622528 , -0.7413897 ],\n",
              "        [-0.07112624, -0.7579811 , -0.9618234 ],\n",
              "        [-1.3569822 , -1.5307596 , -0.91243464]]], dtype=float32)>"
            ]
          },
          "metadata": {
            "tags": []
          },
          "execution_count": 7
        }
      ]
    },
    {
      "cell_type": "markdown",
      "metadata": {
        "id": "0chI1fy78IGx"
      },
      "source": [
        "### 7. Find the **min** and **max values** of the tensor you created in 6.\n"
      ]
    },
    {
      "cell_type": "code",
      "metadata": {
        "colab": {
          "base_uri": "https://localhost:8080/"
        },
        "id": "pKa8cpjZ8qTO",
        "outputId": "721ec375-fcbf-4c57-fcce-0d4684eedce0"
      },
      "source": [
        "# Finding the minimum \n",
        "\n",
        "minimum = tf.math.reduce_min(big_tensor)\n",
        "print(f'The minimum value is: {minimum}')"
      ],
      "execution_count": 8,
      "outputs": [
        {
          "output_type": "stream",
          "text": [
            "The minimum value is: -4.848316192626953\n"
          ],
          "name": "stdout"
        }
      ]
    },
    {
      "cell_type": "code",
      "metadata": {
        "colab": {
          "base_uri": "https://localhost:8080/"
        },
        "id": "L_VLjA8v8rNT",
        "outputId": "50ce2d59-f1f8-46f7-8a89-094ff18ab7e3"
      },
      "source": [
        "# Finding the maximum \n",
        "maximum = tf.math.reduce_max(big_tensor)\n",
        "print(f'The maximum value is: {maximum}')"
      ],
      "execution_count": 9,
      "outputs": [
        {
          "output_type": "stream",
          "text": [
            "The maximum value is: 4.403286457061768\n"
          ],
          "name": "stdout"
        }
      ]
    },
    {
      "cell_type": "markdown",
      "metadata": {
        "id": "ImNsRvtD8KdT"
      },
      "source": [
        "### 8. Created a tensor with random values of shape `[1, 224, 224, 3]` then **squeeze** it to change the shape to `[224, 224, 3]`.\n"
      ]
    },
    {
      "cell_type": "code",
      "metadata": {
        "colab": {
          "base_uri": "https://localhost:8080/"
        },
        "id": "RoTvHZn08vBD",
        "outputId": "581a7def-ee4f-466c-c0ae-a2fe44b4ed0e"
      },
      "source": [
        "# Tensor with shape [224 , 224 , 3]\n",
        "unsqueezed_tensor = tf.random.Generator.from_seed(42)\n",
        "unsqueezed_tensor = unsqueezed_tensor.normal(shape = (1 , 224 , 224 , 3))\n",
        "\n",
        "print(f'The shape before squeezing: {unsqueezed_tensor.shape}')"
      ],
      "execution_count": 10,
      "outputs": [
        {
          "output_type": "stream",
          "text": [
            "The shape before squeezing: (1, 224, 224, 3)\n"
          ],
          "name": "stdout"
        }
      ]
    },
    {
      "cell_type": "code",
      "metadata": {
        "colab": {
          "base_uri": "https://localhost:8080/"
        },
        "id": "sVozBuAP8xKf",
        "outputId": "65df364c-95a5-4c4a-9ff9-d2f368df9235"
      },
      "source": [
        "# And we are squeezing it \n",
        "squeezed_tensor = tf.squeeze(unsqueezed_tensor)\n",
        "print(f'The shape after squeezing: {squeezed_tensor.shape}')"
      ],
      "execution_count": 11,
      "outputs": [
        {
          "output_type": "stream",
          "text": [
            "The shape after squeezing: (224, 224, 3)\n"
          ],
          "name": "stdout"
        }
      ]
    },
    {
      "cell_type": "markdown",
      "metadata": {
        "id": "F6wEXVTH8NaJ"
      },
      "source": [
        "### 9. Create a tensor with shape `[10]` using your own choice of values, then find the **index** which has the **maximum value**.\n"
      ]
    },
    {
      "cell_type": "code",
      "metadata": {
        "colab": {
          "base_uri": "https://localhost:8080/"
        },
        "id": "pJMg2JWm8zb3",
        "outputId": "d580e734-8c6a-4e44-a4ea-027abe28eee1"
      },
      "source": [
        "ten_tensor = tf.constant([0 ,1 ,2 ,3, 4, 9, 10, 0.1 , -000.1 , 6])\n",
        "\n",
        "# Finding the index where value is maximum \n",
        "max_value = tf.math.argmax(ten_tensor)\n",
        "\n",
        "print(f'The indices where the value is maximum: {max_value}')\n",
        "print(f'The maximum value was: {ten_tensor[max_value]}')"
      ],
      "execution_count": 12,
      "outputs": [
        {
          "output_type": "stream",
          "text": [
            "The indices where the value is maximum: 6\n",
            "The maximum value was: 10.0\n"
          ],
          "name": "stdout"
        }
      ]
    },
    {
      "cell_type": "markdown",
      "metadata": {
        "id": "y2_OW2lv8Pmx"
      },
      "source": [
        "### 10. **One-hot** encode the tensor you created in 9."
      ]
    },
    {
      "cell_type": "code",
      "metadata": {
        "colab": {
          "base_uri": "https://localhost:8080/"
        },
        "id": "b3v3w8qA8RBw",
        "outputId": "dcec21e7-1880-4ef3-d42d-f3d85d16d9a5"
      },
      "source": [
        "# Throw's an error since I had floating numbers in my tensor, casting to int solved! \n",
        "tf.cast(ten_tensor , dtype=tf.int32)"
      ],
      "execution_count": 13,
      "outputs": [
        {
          "output_type": "execute_result",
          "data": {
            "text/plain": [
              "<tf.Tensor: shape=(10,), dtype=int32, numpy=array([ 0,  1,  2,  3,  4,  9, 10,  0,  0,  6], dtype=int32)>"
            ]
          },
          "metadata": {
            "tags": []
          },
          "execution_count": 13
        }
      ]
    },
    {
      "cell_type": "code",
      "metadata": {
        "colab": {
          "base_uri": "https://localhost:8080/"
        },
        "id": "3CWNoe51812a",
        "outputId": "3fb0124d-5bc0-44e3-fb80-949777087f34"
      },
      "source": [
        "# One hot encoding the tensor of shape 10 \n",
        "tf.one_hot(tf.cast(ten_tensor , dtype=tf.int32) , depth = 10)"
      ],
      "execution_count": 14,
      "outputs": [
        {
          "output_type": "execute_result",
          "data": {
            "text/plain": [
              "<tf.Tensor: shape=(10, 10), dtype=float32, numpy=\n",
              "array([[1., 0., 0., 0., 0., 0., 0., 0., 0., 0.],\n",
              "       [0., 1., 0., 0., 0., 0., 0., 0., 0., 0.],\n",
              "       [0., 0., 1., 0., 0., 0., 0., 0., 0., 0.],\n",
              "       [0., 0., 0., 1., 0., 0., 0., 0., 0., 0.],\n",
              "       [0., 0., 0., 0., 1., 0., 0., 0., 0., 0.],\n",
              "       [0., 0., 0., 0., 0., 0., 0., 0., 0., 1.],\n",
              "       [0., 0., 0., 0., 0., 0., 0., 0., 0., 0.],\n",
              "       [1., 0., 0., 0., 0., 0., 0., 0., 0., 0.],\n",
              "       [1., 0., 0., 0., 0., 0., 0., 0., 0., 0.],\n",
              "       [0., 0., 0., 0., 0., 0., 1., 0., 0., 0.]], dtype=float32)>"
            ]
          },
          "metadata": {
            "tags": []
          },
          "execution_count": 14
        }
      ]
    },
    {
      "cell_type": "markdown",
      "metadata": {
        "id": "-LfnTPOU83Ze"
      },
      "source": [
        "## Extra Curriculum \n",
        "\n",
        "- Try to create a series of tensor functions to calculate your most recent grocery bill (it's okay if you don't use the names of the items, just the price in numerical form).\n",
        "    - How would you calculate your grocery bill for the month and for the year using tensors?"
      ]
    },
    {
      "cell_type": "code",
      "metadata": {
        "id": "ihyBfMz29Htr"
      },
      "source": [
        ""
      ],
      "execution_count": null,
      "outputs": []
    }
  ]
}